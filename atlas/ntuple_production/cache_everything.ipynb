{
 "cells": [
  {
   "cell_type": "code",
   "execution_count": null,
   "id": "ff6ca0fb-e358-4dbe-9951-e5167758d030",
   "metadata": {},
   "outputs": [],
   "source": [
    "import datetime\n",
    "import gzip\n",
    "import json\n",
    "import time\n",
    "import os\n",
    "\n",
    "import dask\n",
    "from dask.distributed import Client\n",
    "\n",
    "client = Client(\"tls://localhost:8786\")"
   ]
  },
  {
   "cell_type": "code",
   "execution_count": null,
   "id": "d55ec891-e0c2-4f43-ba35-2077ecafcc07",
   "metadata": {},
   "outputs": [],
   "source": [
    "fname = \"../ntuple_production/file_metadata.json.gz\"\n",
    "with gzip.open(fname) as f:\n",
    "    dataset_info = json.loads(f.read().decode())\n",
    "\n",
    "all_files = []\n",
    "for containers_for_category in dataset_info.values():\n",
    "    for container, metadata in containers_for_category.items():\n",
    "        if metadata[\"files_output\"] is None:\n",
    "            continue\n",
    "\n",
    "        all_files += metadata[\"files_output\"]\n",
    "\n",
    "len(all_files)"
   ]
  },
  {
   "cell_type": "code",
   "execution_count": null,
   "id": "1c5cb8c1-ebf6-41f7-a12d-feff9a0456b8",
   "metadata": {},
   "outputs": [],
   "source": [
    "def run_xrdcp(fname):\n",
    "    t0 = time.perf_counter()\n",
    "    os.system(f\"xrdcp {fname} /dev/null -f\")\n",
    "    t1 = time.perf_counter()\n",
    "    time_finished = datetime.datetime.now()\n",
    "    return {\"runtime\": t1-t0, \"time_finished\": time_finished}\n",
    "\n",
    "\n",
    "tasks = [dask.delayed(run_xrdcp)(fname) for fname in all_files]\n",
    "_ = dask.compute(*tasks)"
   ]
  }
 ],
 "metadata": {
  "kernelspec": {
   "display_name": "Python 3 (ipykernel)",
   "language": "python",
   "name": "python3"
  },
  "language_info": {
   "codemirror_mode": {
    "name": "ipython",
    "version": 3
   },
   "file_extension": ".py",
   "mimetype": "text/x-python",
   "name": "python",
   "nbconvert_exporter": "python",
   "pygments_lexer": "ipython3",
   "version": "3.12.11"
  }
 },
 "nbformat": 4,
 "nbformat_minor": 5
}
