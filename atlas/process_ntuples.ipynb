{
 "cells": [
  {
   "cell_type": "code",
   "execution_count": null,
   "id": "79f7234d-9519-4a8d-bd6b-f09cc1112a66",
   "metadata": {},
   "outputs": [],
   "source": [
    "import awkward as ak\n",
    "import vector\n",
    "import hist\n",
    "import matplotlib.pyplot as plt\n",
    "import mplhep\n",
    "import uproot\n",
    "\n",
    "from atlas_schema.schema import NtupleSchema\n",
    "from coffea import dataset_tools\n",
    "from coffea.nanoevents import NanoEventsFactory\n",
    "\n",
    "vector.register_awkward()\n",
    "mplhep.style.use(mplhep.style.ATLAS1)"
   ]
  },
  {
   "cell_type": "code",
   "execution_count": null,
   "id": "fe152497-8aad-43bf-aeaf-510b83206050",
   "metadata": {},
   "outputs": [],
   "source": [
    "fileset = {\n",
    "    \"ttbar\": {\n",
    "        \"files\": {\"output.root\": \"reco\"},\n",
    "        \"metadata\": {\"test_meta\": 0}\n",
    "    }\n",
    "}"
   ]
  },
  {
   "cell_type": "markdown",
   "id": "a21373a0-cb60-4d50-9e32-727d20806833",
   "metadata": {},
   "source": [
    "# interactive exploration"
   ]
  },
  {
   "cell_type": "code",
   "execution_count": null,
   "id": "7b6f199c-37cc-4e89-8d63-42d656b222a7",
   "metadata": {},
   "outputs": [],
   "source": [
    "events = NanoEventsFactory.from_root(fileset[\"ttbar\"][\"files\"], mode=\"virtual\", schemaclass=NtupleSchema).events()\n",
    "_ = ak.materialize(events)  # force read everything (similar to using eager mode, only use this for small inputs and testing)"
   ]
  },
  {
   "cell_type": "code",
   "execution_count": null,
   "id": "3209cead-1583-4af6-b926-538b3371fee5",
   "metadata": {},
   "outputs": [],
   "source": [
    "h = hist.new.Regular(12, 0, 300, label=\"leading jet $p_T$\").StrCat([], name=\"variation\", growth=True).Weight()\n",
    "\n",
    "for variation in [\"NOSYS\"] + events.systematic_names:\n",
    "    print(variation)\n",
    "    event_view = events if variation == \"NOSYS\" else events[variation]\n",
    "    h.fill(event_view.jet.pt[:, 0] / 1_000, variation=variation)\n",
    "\n",
    "\n",
    "fig, ax = plt.subplots()\n",
    "for variation in h.axes[1]:\n",
    "    h[:, variation].plot(histtype=\"step\", label=variation, ax=ax)\n",
    "ax.legend()"
   ]
  },
  {
   "cell_type": "code",
   "execution_count": null,
   "id": "e25b571d-abca-43ef-95a2-08bbf51eab91",
   "metadata": {},
   "outputs": [],
   "source": [
    "# with uproot, manually\n",
    "f = uproot.open(fileset[\"ttbar\"][\"files\"])\n",
    "arr = f.arrays([\"jet_pt_NOSYS\", \"jet_eta\", \"jet_phi\", \"jet_e_NOSYS\", \"jet_pt_JET_JER_EffectiveNP_1__1up\", \"jet_e_JET_JER_EffectiveNP_1__1up\"])\n",
    "jets = ak.zip({\"pt\": arr[\"jet_pt_NOSYS\"], \"eta\": arr[\"jet_eta\"], \"phi\": arr[\"jet_phi\"], \"energy\": arr[\"jet_e_NOSYS\"]}, with_name=\"PtEtaPhiECandidate\")\n",
    "jets.pt == events.jet.pt"
   ]
  },
  {
   "cell_type": "code",
   "execution_count": null,
   "id": "73057c54-9cd3-4929-b4f8-0e7c5bb19caf",
   "metadata": {},
   "outputs": [],
   "source": [
    "# compare systematic variation\n",
    "jets_JER1 = ak.zip({\"pt\": arr[\"jet_pt_JET_JER_EffectiveNP_1__1up\"], \"eta\": arr[\"jet_eta\"], \"phi\": arr[\"jet_phi\"], \"energy\": arr[\"jet_e_JET_JER_EffectiveNP_1__1up\"]}, with_name=\"PtEtaPhiECandidate\")\n",
    "jets_JER1.pt == events[\"JET_JER_EffectiveNP_1__1up\"].jet.pt"
   ]
  },
  {
   "cell_type": "markdown",
   "id": "6d12c10f-28fa-46df-a107-5c4e7a709d8a",
   "metadata": {},
   "source": [
    "# processor approach"
   ]
  },
  {
   "cell_type": "code",
   "execution_count": null,
   "id": "8260deb5-2111-4a1f-ba97-69ac29555c0b",
   "metadata": {},
   "outputs": [],
   "source": [
    "# coffea processor version\n",
    "from coffea import processor\n",
    "\n",
    "\n",
    "class Analysis(processor.ProcessorABC):\n",
    "    def __init__(self):\n",
    "        self.h = hist.new.Regular(12, 0, 300, label=\"leading jet $p_T$\").StrCat([], name=\"variation\", growth=True).Weight()\n",
    "\n",
    "    def process(self, events):\n",
    "        for variation in [\"nominal\"] + events.systematic_names:\n",
    "            event_view = events if variation == \"nominal\" else events[variation]\n",
    "            self.h.fill(event_view.jet.pt[:, 0] / 1_000, variation=variation)\n",
    "        return self.h\n",
    "\n",
    "    def postprocess(self, accumulator):\n",
    "        pass\n",
    "\n",
    "\n",
    "run = processor.Runner(\n",
    "    executor = processor.IterativeExecutor(),\n",
    "    schema=NtupleSchema,\n",
    "    savemetrics=True,\n",
    "    chunksize=5  # tiny to simulate multiple chunks\n",
    ")\n",
    "\n",
    "samples = run.preprocess(fileset)\n",
    "\n",
    "out, report = run(samples, processor_instance=Analysis())\n",
    "\n",
    "out, report\n",
    "\n",
    "out[:, \"nominal\"].plot()"
   ]
  },
  {
   "cell_type": "code",
   "execution_count": null,
   "id": "69b3a743-ffec-45d3-83f0-c8a9b390905f",
   "metadata": {},
   "outputs": [],
   "source": [
    "import base64\n",
    "import dataclasses\n",
    "import json\n",
    "\n",
    "\n",
    "def write_samples(samples, fname):\n",
    "    # encode bytes\n",
    "    serializable = []\n",
    "    for s in samples:\n",
    "        chunk = dataclasses.asdict(s)\n",
    "        chunk[\"fileuuid\"] = base64.b64encode(chunk[\"fileuuid\"]).decode(\"ascii\")\n",
    "        serializable.append(chunk)\n",
    "    \n",
    "    with open(fname, \"w\") as f:\n",
    "        json.dump(serializable, f)\n",
    "\n",
    "\n",
    "def read_samples(fname):\n",
    "    with open(fname) as f:\n",
    "        samples = json.load(f)\n",
    "    \n",
    "    # decode bytes\n",
    "    for i in range(len(samples)):\n",
    "        samples[i][\"fileuuid\"] = base64.b64decode(samples[i][\"fileuuid\"])\n",
    "        samples[i] = coffea.processor.executor.WorkItem(**samples[i])\n",
    "\n",
    "    return samples\n",
    "\n",
    "\n",
    "samples = run.preprocess(fileset)\n",
    "write_samples(samples, \"samples.json\")\n",
    "samples = read_samples(\"samples.json\")\n",
    "\n",
    "samples"
   ]
  },
  {
   "cell_type": "code",
   "execution_count": null,
   "id": "9a75e0ee-0bef-4acb-a8f2-baced08da246",
   "metadata": {},
   "outputs": [],
   "source": [
    "hist.Hist(uproot.open(\"output.root\")[\"listOfSystematics\"]).axes[0]"
   ]
  }
 ],
 "metadata": {
  "kernelspec": {
   "display_name": "Python 3 (ipykernel)",
   "language": "python",
   "name": "python3"
  },
  "language_info": {
   "codemirror_mode": {
    "name": "ipython",
    "version": 3
   },
   "file_extension": ".py",
   "mimetype": "text/x-python",
   "name": "python",
   "nbconvert_exporter": "python",
   "pygments_lexer": "ipython3",
   "version": "3.13.5"
  }
 },
 "nbformat": 4,
 "nbformat_minor": 5
}
