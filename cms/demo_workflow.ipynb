{
 "cells": [
  {
   "cell_type": "markdown",
   "id": "082a7547",
   "metadata": {},
   "source": [
    "# IRIS-HEP CMS Integration Challenge: Workflow Demonstration\n",
    "\n",
    "This notebook demonstrates the workflow of the IRIS-HEP CMS integration challenge. The workflow is modular and consists of the following steps:\n",
    "\n",
    "1. Environment Setup\n",
    "2. Configuration Construction\n",
    "3. Metadata Extraction\n",
    "4. Skimming\n",
    "5. Histogramming\n",
    "6. Statistical Analysis\n",
    "7. Plotting"
   ]
  },
  {
   "cell_type": "markdown",
   "id": "49c51884",
   "metadata": {},
   "source": [
    "## 1. Environment Setup\n",
    "\n",
    "To set up the environment, use the following command to launch JupyterLab with the required dependencies:\n",
    "\n",
    "```sh\n",
    "pixi run lab\n",
    "```\n",
    "\n",
    "Alternatively, if you prefer a Conda-like environment, activate it using the provided script:\n",
    "\n",
    "```sh\n",
    "source pixi_activate.sh\n",
    "```"
   ]
  },
  {
   "cell_type": "markdown",
   "id": "d7fc6967",
   "metadata": {},
   "source": [
    "## 2. Configuration Construction\n",
    "\n",
    "A lightweight Python config defines general settings, datasets, cuts, observables, and systematics — all are type-checked and (mostly) CLI-overrideable.\n",
    "Everything else in the workflow reads from it."
   ]
  },
  {
   "cell_type": "code",
   "execution_count": 1,
   "id": "11ada530",
   "metadata": {},
   "outputs": [],
   "source": [
    "# Import Rich-based Configuration Display from logging module\n",
    "from utils.logging import display_config_table, get_config_logger\n",
    "\n",
    "# Create a global config logger instance for this notebook\n",
    "config_logger = get_config_logger()"
   ]
  },
  {
   "cell_type": "code",
   "execution_count": 2,
   "id": "e0534706",
   "metadata": {},
   "outputs": [
    {
     "name": "stdout",
     "output_type": "stream",
     "text": [
      "=== Full configuration ===\n"
     ]
    },
    {
     "data": {
      "text/html": [
       "<pre style=\"white-space:pre;overflow-x:auto;line-height:normal;font-family:Menlo,'DejaVu Sans Mono',consolas,'Courier New',monospace\"><span style=\"font-style: italic\">                                                 Configuration: GENERAL                                            </span>\n",
       "┏━━━━━━━━━━━━━━━━━━━━━━━━━━━━━━┳━━━━━━━━━━━━━━━━━━━━━━━━━━━━━━━━━━━━━━━━━━━━━━━━━━━━━━━━━━━━━━━━━━━━━━━━━━━━━━━━━━━\n",
       "┃<span style=\"font-weight: bold\"> Key                          </span>┃<span style=\"font-weight: bold\"> Value                                                                             </span>\n",
       "┡━━━━━━━━━━━━━━━━━━━━━━━━━━━━━━╇━━━━━━━━━━━━━━━━━━━━━━━━━━━━━━━━━━━━━━━━━━━━━━━━━━━━━━━━━━━━━━━━━━━━━━━━━━━━━━━━━━━\n",
       "│<span style=\"color: #008080; text-decoration-color: #008080; font-weight: bold\"> lumi                         </span>│ 16400                                                                             \n",
       "│<span style=\"color: #008080; text-decoration-color: #008080; font-weight: bold\"> weight_branch                </span>│ 'genWeight'                                                                       \n",
       "│<span style=\"color: #008080; text-decoration-color: #008080; font-weight: bold\"> analysis                     </span>│ 'nondiff'                                                                         \n",
       "│<span style=\"color: #008080; text-decoration-color: #008080; font-weight: bold\"> run_skimming                 </span>│ False                                                                             \n",
       "│<span style=\"color: #008080; text-decoration-color: #008080; font-weight: bold\"> run_histogramming            </span>│ True                                                                              \n",
       "│<span style=\"color: #008080; text-decoration-color: #008080; font-weight: bold\"> run_statistics               </span>│ True                                                                              \n",
       "│<span style=\"color: #008080; text-decoration-color: #008080; font-weight: bold\"> run_systematics              </span>│ True                                                                              \n",
       "│<span style=\"color: #008080; text-decoration-color: #008080; font-weight: bold\"> run_plots_only               </span>│ False                                                                             \n",
       "│<span style=\"color: #008080; text-decoration-color: #008080; font-weight: bold\"> run_mva_training             </span>│ False                                                                             \n",
       "│<span style=\"color: #008080; text-decoration-color: #008080; font-weight: bold\"> run_metadata_generation      </span>│ False                                                                             \n",
       "│<span style=\"color: #008080; text-decoration-color: #008080; font-weight: bold\"> read_from_cache              </span>│ True                                                                              \n",
       "│<span style=\"color: #008080; text-decoration-color: #008080; font-weight: bold\"> output_dir                   </span>│ 'example/outputs/'                                                                \n",
       "│<span style=\"color: #008080; text-decoration-color: #008080; font-weight: bold\"> lumifile                     </span>│ './corrections/Cert_271036-284044_13TeV_Legacy2016_Collisions16_JSON.txt'         \n",
       "│<span style=\"color: #008080; text-decoration-color: #008080; font-weight: bold\"> cache_dir                    </span>│ '/tmp/integration/'                                                               \n",
       "└──────────────────────────────┴───────────────────────────────────────────────────────────────────────────────────\n",
       "</pre>\n"
      ],
      "text/plain": [
       "\u001b[3m                                                 Configuration: GENERAL                                            \u001b[0m\n",
       "┏━━━━━━━━━━━━━━━━━━━━━━━━━━━━━━┳━━━━━━━━━━━━━━━━━━━━━━━━━━━━━━━━━━━━━━━━━━━━━━━━━━━━━━━━━━━━━━━━━━━━━━━━━━━━━━━━━━━\n",
       "┃\u001b[1m \u001b[0m\u001b[1mKey                         \u001b[0m\u001b[1m \u001b[0m┃\u001b[1m \u001b[0m\u001b[1mValue                                                                             \u001b[0m\n",
       "┡━━━━━━━━━━━━━━━━━━━━━━━━━━━━━━╇━━━━━━━━━━━━━━━━━━━━━━━━━━━━━━━━━━━━━━━━━━━━━━━━━━━━━━━━━━━━━━━━━━━━━━━━━━━━━━━━━━━\n",
       "│\u001b[1;36m \u001b[0m\u001b[1;36mlumi                        \u001b[0m\u001b[1;36m \u001b[0m│ 16400                                                                             \n",
       "│\u001b[1;36m \u001b[0m\u001b[1;36mweight_branch               \u001b[0m\u001b[1;36m \u001b[0m│ 'genWeight'                                                                       \n",
       "│\u001b[1;36m \u001b[0m\u001b[1;36manalysis                    \u001b[0m\u001b[1;36m \u001b[0m│ 'nondiff'                                                                         \n",
       "│\u001b[1;36m \u001b[0m\u001b[1;36mrun_skimming                \u001b[0m\u001b[1;36m \u001b[0m│ False                                                                             \n",
       "│\u001b[1;36m \u001b[0m\u001b[1;36mrun_histogramming           \u001b[0m\u001b[1;36m \u001b[0m│ True                                                                              \n",
       "│\u001b[1;36m \u001b[0m\u001b[1;36mrun_statistics              \u001b[0m\u001b[1;36m \u001b[0m│ True                                                                              \n",
       "│\u001b[1;36m \u001b[0m\u001b[1;36mrun_systematics             \u001b[0m\u001b[1;36m \u001b[0m│ True                                                                              \n",
       "│\u001b[1;36m \u001b[0m\u001b[1;36mrun_plots_only              \u001b[0m\u001b[1;36m \u001b[0m│ False                                                                             \n",
       "│\u001b[1;36m \u001b[0m\u001b[1;36mrun_mva_training            \u001b[0m\u001b[1;36m \u001b[0m│ False                                                                             \n",
       "│\u001b[1;36m \u001b[0m\u001b[1;36mrun_metadata_generation     \u001b[0m\u001b[1;36m \u001b[0m│ False                                                                             \n",
       "│\u001b[1;36m \u001b[0m\u001b[1;36mread_from_cache             \u001b[0m\u001b[1;36m \u001b[0m│ True                                                                              \n",
       "│\u001b[1;36m \u001b[0m\u001b[1;36moutput_dir                  \u001b[0m\u001b[1;36m \u001b[0m│ 'example/outputs/'                                                                \n",
       "│\u001b[1;36m \u001b[0m\u001b[1;36mlumifile                    \u001b[0m\u001b[1;36m \u001b[0m│ './corrections/Cert_271036-284044_13TeV_Legacy2016_Collisions16_JSON.txt'         \n",
       "│\u001b[1;36m \u001b[0m\u001b[1;36mcache_dir                   \u001b[0m\u001b[1;36m \u001b[0m│ '/tmp/integration/'                                                               \n",
       "└──────────────────────────────┴───────────────────────────────────────────────────────────────────────────────────\n"
      ]
     },
     "metadata": {},
     "output_type": "display_data"
    },
    {
     "data": {
      "text/html": [
       "<pre style=\"white-space:pre;overflow-x:auto;line-height:normal;font-family:Menlo,'DejaVu Sans Mono',consolas,'Courier New',monospace\"><span style=\"font-style: italic\">                                               Configuration: PREPROCESS                                           </span>\n",
       "┏━━━━━━━━━━━━━━━━━━━━━━━━━━━━━━━┳━━━━━━━━━━━━━━━━━━━━━━━━━━━━━━━━━━━━━━━━━━━━━━━━━━━━━━━━━━━━━━━━━━━━━━━━━━━━━━━━━━\n",
       "┃<span style=\"font-weight: bold\"> Key                           </span>┃<span style=\"font-weight: bold\"> Value                                                                            </span>\n",
       "┡━━━━━━━━━━━━━━━━━━━━━━━━━━━━━━━╇━━━━━━━━━━━━━━━━━━━━━━━━━━━━━━━━━━━━━━━━━━━━━━━━━━━━━━━━━━━━━━━━━━━━━━━━━━━━━━━━━━\n",
       "│<span style=\"color: #008080; text-decoration-color: #008080; font-weight: bold\"> branches                      </span>│ {                                                                                \n",
       "│<span style=\"color: #008080; text-decoration-color: #008080; font-weight: bold\">                               </span>│   Muon:                                                                          \n",
       "│<span style=\"color: #008080; text-decoration-color: #008080; font-weight: bold\">                               </span>│ [                                                                                \n",
       "│<span style=\"color: #008080; text-decoration-color: #008080; font-weight: bold\">                               </span>│     [0]: 'pt'                                                                    \n",
       "│<span style=\"color: #008080; text-decoration-color: #008080; font-weight: bold\">                               </span>│     [1]: 'eta'                                                                   \n",
       "│<span style=\"color: #008080; text-decoration-color: #008080; font-weight: bold\">                               </span>│     [2]: 'phi'                                                                   \n",
       "│<span style=\"color: #008080; text-decoration-color: #008080; font-weight: bold\">                               </span>│     [3]: 'mass'                                                                  \n",
       "│<span style=\"color: #008080; text-decoration-color: #008080; font-weight: bold\">                               </span>│     [4]: 'miniIsoId'                                                             \n",
       "│<span style=\"color: #008080; text-decoration-color: #008080; font-weight: bold\">                               </span>│     [5]: 'tightId'                                                               \n",
       "│<span style=\"color: #008080; text-decoration-color: #008080; font-weight: bold\">                               </span>│     [6]: 'charge'                                                                \n",
       "│<span style=\"color: #008080; text-decoration-color: #008080; font-weight: bold\">                               </span>│   ]                                                                              \n",
       "│<span style=\"color: #008080; text-decoration-color: #008080; font-weight: bold\">                               </span>│   FatJet: ['particleNet_TvsQCD', 'pt', 'eta', 'phi', 'mass']                     \n",
       "│<span style=\"color: #008080; text-decoration-color: #008080; font-weight: bold\">                               </span>│   Jet:                                                                           \n",
       "│<span style=\"color: #008080; text-decoration-color: #008080; font-weight: bold\">                               </span>│ [                                                                                \n",
       "│<span style=\"color: #008080; text-decoration-color: #008080; font-weight: bold\">                               </span>│     [0]: 'btagDeepB'                                                             \n",
       "│<span style=\"color: #008080; text-decoration-color: #008080; font-weight: bold\">                               </span>│     [1]: 'jetId'                                                                 \n",
       "│<span style=\"color: #008080; text-decoration-color: #008080; font-weight: bold\">                               </span>│     [2]: 'pt'                                                                    \n",
       "│<span style=\"color: #008080; text-decoration-color: #008080; font-weight: bold\">                               </span>│     [3]: 'eta'                                                                   \n",
       "│<span style=\"color: #008080; text-decoration-color: #008080; font-weight: bold\">                               </span>│     [4]: 'phi'                                                                   \n",
       "│<span style=\"color: #008080; text-decoration-color: #008080; font-weight: bold\">                               </span>│     [5]: 'mass'                                                                  \n",
       "│<span style=\"color: #008080; text-decoration-color: #008080; font-weight: bold\">                               </span>│   ]                                                                              \n",
       "│<span style=\"color: #008080; text-decoration-color: #008080; font-weight: bold\">                               </span>│   PuppiMET: ['pt', 'phi']                                                        \n",
       "│<span style=\"color: #008080; text-decoration-color: #008080; font-weight: bold\">                               </span>│   HLT: ['TkMu50']                                                                \n",
       "│<span style=\"color: #008080; text-decoration-color: #008080; font-weight: bold\">                               </span>│   Pileup: ['nTrueInt']                                                           \n",
       "│<span style=\"color: #008080; text-decoration-color: #008080; font-weight: bold\">                               </span>│   event: ['genWeight', 'run', 'luminosityBlock', 'event']                        \n",
       "│<span style=\"color: #008080; text-decoration-color: #008080; font-weight: bold\">                               </span>│ }                                                                                \n",
       "│<span style=\"color: #008080; text-decoration-color: #008080; font-weight: bold\"> ignore_missing                </span>│ False                                                                            \n",
       "│<span style=\"color: #008080; text-decoration-color: #008080; font-weight: bold\"> mc_branches                   </span>│ {                                                                                \n",
       "│<span style=\"color: #008080; text-decoration-color: #008080; font-weight: bold\">                               </span>│   event: ['genWeight']                                                           \n",
       "│<span style=\"color: #008080; text-decoration-color: #008080; font-weight: bold\">                               </span>│   Pileup: ['nTrueInt']                                                           \n",
       "│<span style=\"color: #008080; text-decoration-color: #008080; font-weight: bold\">                               </span>│ }                                                                                \n",
       "│<span style=\"color: #008080; text-decoration-color: #008080; font-weight: bold\"> skimming                      </span>│ {                                                                                \n",
       "│<span style=\"color: #008080; text-decoration-color: #008080; font-weight: bold\">                               </span>│   selection_function: Function: default_skim_selection                           \n",
       "│<span style=\"color: #008080; text-decoration-color: #008080; font-weight: bold\">                               </span>│   selection_use: [('PuppiMET', None), ('HLT', None)]                             \n",
       "│<span style=\"color: #008080; text-decoration-color: #008080; font-weight: bold\">                               </span>│   chunk_size: 100000                                                             \n",
       "│<span style=\"color: #008080; text-decoration-color: #008080; font-weight: bold\">                               </span>│   tree_name: 'Events'                                                            \n",
       "│<span style=\"color: #008080; text-decoration-color: #008080; font-weight: bold\">                               </span>│ }                                                                                \n",
       "└───────────────────────────────┴──────────────────────────────────────────────────────────────────────────────────\n",
       "</pre>\n"
      ],
      "text/plain": [
       "\u001b[3m                                               Configuration: PREPROCESS                                           \u001b[0m\n",
       "┏━━━━━━━━━━━━━━━━━━━━━━━━━━━━━━━┳━━━━━━━━━━━━━━━━━━━━━━━━━━━━━━━━━━━━━━━━━━━━━━━━━━━━━━━━━━━━━━━━━━━━━━━━━━━━━━━━━━\n",
       "┃\u001b[1m \u001b[0m\u001b[1mKey                          \u001b[0m\u001b[1m \u001b[0m┃\u001b[1m \u001b[0m\u001b[1mValue                                                                            \u001b[0m\n",
       "┡━━━━━━━━━━━━━━━━━━━━━━━━━━━━━━━╇━━━━━━━━━━━━━━━━━━━━━━━━━━━━━━━━━━━━━━━━━━━━━━━━━━━━━━━━━━━━━━━━━━━━━━━━━━━━━━━━━━\n",
       "│\u001b[1;36m \u001b[0m\u001b[1;36mbranches                     \u001b[0m\u001b[1;36m \u001b[0m│ {                                                                                \n",
       "│\u001b[1;36m                               \u001b[0m│   Muon:                                                                          \n",
       "│\u001b[1;36m                               \u001b[0m│ [                                                                                \n",
       "│\u001b[1;36m                               \u001b[0m│     [0]: 'pt'                                                                    \n",
       "│\u001b[1;36m                               \u001b[0m│     [1]: 'eta'                                                                   \n",
       "│\u001b[1;36m                               \u001b[0m│     [2]: 'phi'                                                                   \n",
       "│\u001b[1;36m                               \u001b[0m│     [3]: 'mass'                                                                  \n",
       "│\u001b[1;36m                               \u001b[0m│     [4]: 'miniIsoId'                                                             \n",
       "│\u001b[1;36m                               \u001b[0m│     [5]: 'tightId'                                                               \n",
       "│\u001b[1;36m                               \u001b[0m│     [6]: 'charge'                                                                \n",
       "│\u001b[1;36m                               \u001b[0m│   ]                                                                              \n",
       "│\u001b[1;36m                               \u001b[0m│   FatJet: ['particleNet_TvsQCD', 'pt', 'eta', 'phi', 'mass']                     \n",
       "│\u001b[1;36m                               \u001b[0m│   Jet:                                                                           \n",
       "│\u001b[1;36m                               \u001b[0m│ [                                                                                \n",
       "│\u001b[1;36m                               \u001b[0m│     [0]: 'btagDeepB'                                                             \n",
       "│\u001b[1;36m                               \u001b[0m│     [1]: 'jetId'                                                                 \n",
       "│\u001b[1;36m                               \u001b[0m│     [2]: 'pt'                                                                    \n",
       "│\u001b[1;36m                               \u001b[0m│     [3]: 'eta'                                                                   \n",
       "│\u001b[1;36m                               \u001b[0m│     [4]: 'phi'                                                                   \n",
       "│\u001b[1;36m                               \u001b[0m│     [5]: 'mass'                                                                  \n",
       "│\u001b[1;36m                               \u001b[0m│   ]                                                                              \n",
       "│\u001b[1;36m                               \u001b[0m│   PuppiMET: ['pt', 'phi']                                                        \n",
       "│\u001b[1;36m                               \u001b[0m│   HLT: ['TkMu50']                                                                \n",
       "│\u001b[1;36m                               \u001b[0m│   Pileup: ['nTrueInt']                                                           \n",
       "│\u001b[1;36m                               \u001b[0m│   event: ['genWeight', 'run', 'luminosityBlock', 'event']                        \n",
       "│\u001b[1;36m                               \u001b[0m│ }                                                                                \n",
       "│\u001b[1;36m \u001b[0m\u001b[1;36mignore_missing               \u001b[0m\u001b[1;36m \u001b[0m│ False                                                                            \n",
       "│\u001b[1;36m \u001b[0m\u001b[1;36mmc_branches                  \u001b[0m\u001b[1;36m \u001b[0m│ {                                                                                \n",
       "│\u001b[1;36m                               \u001b[0m│   event: ['genWeight']                                                           \n",
       "│\u001b[1;36m                               \u001b[0m│   Pileup: ['nTrueInt']                                                           \n",
       "│\u001b[1;36m                               \u001b[0m│ }                                                                                \n",
       "│\u001b[1;36m \u001b[0m\u001b[1;36mskimming                     \u001b[0m\u001b[1;36m \u001b[0m│ {                                                                                \n",
       "│\u001b[1;36m                               \u001b[0m│   selection_function: Function: default_skim_selection                           \n",
       "│\u001b[1;36m                               \u001b[0m│   selection_use: [('PuppiMET', None), ('HLT', None)]                             \n",
       "│\u001b[1;36m                               \u001b[0m│   chunk_size: 100000                                                             \n",
       "│\u001b[1;36m                               \u001b[0m│   tree_name: 'Events'                                                            \n",
       "│\u001b[1;36m                               \u001b[0m│ }                                                                                \n",
       "└───────────────────────────────┴──────────────────────────────────────────────────────────────────────────────────\n"
      ]
     },
     "metadata": {},
     "output_type": "display_data"
    },
    {
     "data": {
      "text/html": [
       "<pre style=\"white-space:pre;overflow-x:auto;line-height:normal;font-family:Menlo,'DejaVu Sans Mono',consolas,'Courier New',monospace\"><span style=\"font-style: italic\">                                           Configuration: BASELINE_SELECTION                                       </span>\n",
       "┏━━━━━━━━━━━━━━━━━━━━━━━━━━━━━━━━━━━┳━━━━━━━━━━━━━━━━━━━━━━━━━━━━━━━━━━━━━━━━━━━━━━━━━━━━━━━━━━━━━━━━━━━━━━━━━━━━━━\n",
       "┃<span style=\"font-weight: bold\"> Key                               </span>┃<span style=\"font-weight: bold\"> Value                                                                        </span>\n",
       "┡━━━━━━━━━━━━━━━━━━━━━━━━━━━━━━━━━━━╇━━━━━━━━━━━━━━━━━━━━━━━━━━━━━━━━━━━━━━━━━━━━━━━━━━━━━━━━━━━━━━━━━━━━━━━━━━━━━━\n",
       "│<span style=\"color: #008080; text-decoration-color: #008080; font-weight: bold\"> function                          </span>│ Function: Zprime_hardcuts_no_fj                                              \n",
       "│<span style=\"color: #008080; text-decoration-color: #008080; font-weight: bold\"> use                               </span>│ [('Muon', None), ('Jet', None)]                                              \n",
       "└───────────────────────────────────┴──────────────────────────────────────────────────────────────────────────────\n",
       "</pre>\n"
      ],
      "text/plain": [
       "\u001b[3m                                           Configuration: BASELINE_SELECTION                                       \u001b[0m\n",
       "┏━━━━━━━━━━━━━━━━━━━━━━━━━━━━━━━━━━━┳━━━━━━━━━━━━━━━━━━━━━━━━━━━━━━━━━━━━━━━━━━━━━━━━━━━━━━━━━━━━━━━━━━━━━━━━━━━━━━\n",
       "┃\u001b[1m \u001b[0m\u001b[1mKey                              \u001b[0m\u001b[1m \u001b[0m┃\u001b[1m \u001b[0m\u001b[1mValue                                                                        \u001b[0m\n",
       "┡━━━━━━━━━━━━━━━━━━━━━━━━━━━━━━━━━━━╇━━━━━━━━━━━━━━━━━━━━━━━━━━━━━━━━━━━━━━━━━━━━━━━━━━━━━━━━━━━━━━━━━━━━━━━━━━━━━━\n",
       "│\u001b[1;36m \u001b[0m\u001b[1;36mfunction                         \u001b[0m\u001b[1;36m \u001b[0m│ Function: Zprime_hardcuts_no_fj                                              \n",
       "│\u001b[1;36m \u001b[0m\u001b[1;36muse                              \u001b[0m\u001b[1;36m \u001b[0m│ [('Muon', None), ('Jet', None)]                                              \n",
       "└───────────────────────────────────┴──────────────────────────────────────────────────────────────────────────────\n"
      ]
     },
     "metadata": {},
     "output_type": "display_data"
    },
    {
     "data": {
      "text/html": [
       "<pre style=\"white-space:pre;overflow-x:auto;line-height:normal;font-family:Menlo,'DejaVu Sans Mono',consolas,'Courier New',monospace\"><span style=\"font-style: italic\">                                            Configuration: GOOD_OBJECT_MASKS                                       </span>\n",
       "┏━━━━━━━━━━━━━━━━━━━━━━━━━━━━━━━━━━━┳━━━━━━━━━━━━━━━━━━━━━━━━━━━━━━━━━━━━━━━━━━━━━━━━━━━━━━━━━━━━━━━━━━━━━━━━━━━━━━\n",
       "┃<span style=\"font-weight: bold\"> Key                               </span>┃<span style=\"font-weight: bold\"> Value                                                                        </span>\n",
       "┡━━━━━━━━━━━━━━━━━━━━━━━━━━━━━━━━━━━╇━━━━━━━━━━━━━━━━━━━━━━━━━━━━━━━━━━━━━━━━━━━━━━━━━━━━━━━━━━━━━━━━━━━━━━━━━━━━━━\n",
       "│<span style=\"color: #008080; text-decoration-color: #008080; font-weight: bold\"> analysis                          </span>│ [                                                                            \n",
       "│<span style=\"color: #008080; text-decoration-color: #008080; font-weight: bold\">                                   </span>│   [0]:                                                                       \n",
       "│<span style=\"color: #008080; text-decoration-color: #008080; font-weight: bold\">                                   </span>│ {                                                                            \n",
       "│<span style=\"color: #008080; text-decoration-color: #008080; font-weight: bold\">                                   </span>│     object: 'Muon'                                                           \n",
       "│<span style=\"color: #008080; text-decoration-color: #008080; font-weight: bold\">                                   </span>│     function: Function: &lt;lambda&gt;                                             \n",
       "│<span style=\"color: #008080; text-decoration-color: #008080; font-weight: bold\">                                   </span>│     use: [('Muon', None)]                                                    \n",
       "│<span style=\"color: #008080; text-decoration-color: #008080; font-weight: bold\">                                   </span>│   }                                                                          \n",
       "│<span style=\"color: #008080; text-decoration-color: #008080; font-weight: bold\">                                   </span>│   [1]:                                                                       \n",
       "│<span style=\"color: #008080; text-decoration-color: #008080; font-weight: bold\">                                   </span>│ {                                                                            \n",
       "│<span style=\"color: #008080; text-decoration-color: #008080; font-weight: bold\">                                   </span>│     object: 'Jet'                                                            \n",
       "│<span style=\"color: #008080; text-decoration-color: #008080; font-weight: bold\">                                   </span>│     function: Function: &lt;lambda&gt;                                             \n",
       "│<span style=\"color: #008080; text-decoration-color: #008080; font-weight: bold\">                                   </span>│     use: [('Jet', None)]                                                     \n",
       "│<span style=\"color: #008080; text-decoration-color: #008080; font-weight: bold\">                                   </span>│   }                                                                          \n",
       "│<span style=\"color: #008080; text-decoration-color: #008080; font-weight: bold\">                                   </span>│   [2]:                                                                       \n",
       "│<span style=\"color: #008080; text-decoration-color: #008080; font-weight: bold\">                                   </span>│ {                                                                            \n",
       "│<span style=\"color: #008080; text-decoration-color: #008080; font-weight: bold\">                                   </span>│     object: 'FatJet'                                                         \n",
       "│<span style=\"color: #008080; text-decoration-color: #008080; font-weight: bold\">                                   </span>│     function: Function: &lt;lambda&gt;                                             \n",
       "│<span style=\"color: #008080; text-decoration-color: #008080; font-weight: bold\">                                   </span>│     use: [('FatJet', None)]                                                  \n",
       "│<span style=\"color: #008080; text-decoration-color: #008080; font-weight: bold\">                                   </span>│   }                                                                          \n",
       "│<span style=\"color: #008080; text-decoration-color: #008080; font-weight: bold\">                                   </span>│ ]                                                                            \n",
       "│<span style=\"color: #008080; text-decoration-color: #008080; font-weight: bold\"> mva                               </span>│ [                                                                            \n",
       "│<span style=\"color: #008080; text-decoration-color: #008080; font-weight: bold\">                                   </span>│   [0]:                                                                       \n",
       "│<span style=\"color: #008080; text-decoration-color: #008080; font-weight: bold\">                                   </span>│ {                                                                            \n",
       "│<span style=\"color: #008080; text-decoration-color: #008080; font-weight: bold\">                                   </span>│     object: 'Muon'                                                           \n",
       "│<span style=\"color: #008080; text-decoration-color: #008080; font-weight: bold\">                                   </span>│     function: Function: &lt;lambda&gt;                                             \n",
       "│<span style=\"color: #008080; text-decoration-color: #008080; font-weight: bold\">                                   </span>│     use: [('Muon', None)]                                                    \n",
       "│<span style=\"color: #008080; text-decoration-color: #008080; font-weight: bold\">                                   </span>│   }                                                                          \n",
       "│<span style=\"color: #008080; text-decoration-color: #008080; font-weight: bold\">                                   </span>│   [1]:                                                                       \n",
       "│<span style=\"color: #008080; text-decoration-color: #008080; font-weight: bold\">                                   </span>│ {                                                                            \n",
       "│<span style=\"color: #008080; text-decoration-color: #008080; font-weight: bold\">                                   </span>│     object: 'FatJet'                                                         \n",
       "│<span style=\"color: #008080; text-decoration-color: #008080; font-weight: bold\">                                   </span>│     function: Function: &lt;lambda&gt;                                             \n",
       "│<span style=\"color: #008080; text-decoration-color: #008080; font-weight: bold\">                                   </span>│     use: [('FatJet', None)]                                                  \n",
       "│<span style=\"color: #008080; text-decoration-color: #008080; font-weight: bold\">                                   </span>│   }                                                                          \n",
       "│<span style=\"color: #008080; text-decoration-color: #008080; font-weight: bold\">                                   </span>│ ]                                                                            \n",
       "└───────────────────────────────────┴──────────────────────────────────────────────────────────────────────────────\n",
       "</pre>\n"
      ],
      "text/plain": [
       "\u001b[3m                                            Configuration: GOOD_OBJECT_MASKS                                       \u001b[0m\n",
       "┏━━━━━━━━━━━━━━━━━━━━━━━━━━━━━━━━━━━┳━━━━━━━━━━━━━━━━━━━━━━━━━━━━━━━━━━━━━━━━━━━━━━━━━━━━━━━━━━━━━━━━━━━━━━━━━━━━━━\n",
       "┃\u001b[1m \u001b[0m\u001b[1mKey                              \u001b[0m\u001b[1m \u001b[0m┃\u001b[1m \u001b[0m\u001b[1mValue                                                                        \u001b[0m\n",
       "┡━━━━━━━━━━━━━━━━━━━━━━━━━━━━━━━━━━━╇━━━━━━━━━━━━━━━━━━━━━━━━━━━━━━━━━━━━━━━━━━━━━━━━━━━━━━━━━━━━━━━━━━━━━━━━━━━━━━\n",
       "│\u001b[1;36m \u001b[0m\u001b[1;36manalysis                         \u001b[0m\u001b[1;36m \u001b[0m│ [                                                                            \n",
       "│\u001b[1;36m                                   \u001b[0m│   [0]:                                                                       \n",
       "│\u001b[1;36m                                   \u001b[0m│ {                                                                            \n",
       "│\u001b[1;36m                                   \u001b[0m│     object: 'Muon'                                                           \n",
       "│\u001b[1;36m                                   \u001b[0m│     function: Function: <lambda>                                             \n",
       "│\u001b[1;36m                                   \u001b[0m│     use: [('Muon', None)]                                                    \n",
       "│\u001b[1;36m                                   \u001b[0m│   }                                                                          \n",
       "│\u001b[1;36m                                   \u001b[0m│   [1]:                                                                       \n",
       "│\u001b[1;36m                                   \u001b[0m│ {                                                                            \n",
       "│\u001b[1;36m                                   \u001b[0m│     object: 'Jet'                                                            \n",
       "│\u001b[1;36m                                   \u001b[0m│     function: Function: <lambda>                                             \n",
       "│\u001b[1;36m                                   \u001b[0m│     use: [('Jet', None)]                                                     \n",
       "│\u001b[1;36m                                   \u001b[0m│   }                                                                          \n",
       "│\u001b[1;36m                                   \u001b[0m│   [2]:                                                                       \n",
       "│\u001b[1;36m                                   \u001b[0m│ {                                                                            \n",
       "│\u001b[1;36m                                   \u001b[0m│     object: 'FatJet'                                                         \n",
       "│\u001b[1;36m                                   \u001b[0m│     function: Function: <lambda>                                             \n",
       "│\u001b[1;36m                                   \u001b[0m│     use: [('FatJet', None)]                                                  \n",
       "│\u001b[1;36m                                   \u001b[0m│   }                                                                          \n",
       "│\u001b[1;36m                                   \u001b[0m│ ]                                                                            \n",
       "│\u001b[1;36m \u001b[0m\u001b[1;36mmva                              \u001b[0m\u001b[1;36m \u001b[0m│ [                                                                            \n",
       "│\u001b[1;36m                                   \u001b[0m│   [0]:                                                                       \n",
       "│\u001b[1;36m                                   \u001b[0m│ {                                                                            \n",
       "│\u001b[1;36m                                   \u001b[0m│     object: 'Muon'                                                           \n",
       "│\u001b[1;36m                                   \u001b[0m│     function: Function: <lambda>                                             \n",
       "│\u001b[1;36m                                   \u001b[0m│     use: [('Muon', None)]                                                    \n",
       "│\u001b[1;36m                                   \u001b[0m│   }                                                                          \n",
       "│\u001b[1;36m                                   \u001b[0m│   [1]:                                                                       \n",
       "│\u001b[1;36m                                   \u001b[0m│ {                                                                            \n",
       "│\u001b[1;36m                                   \u001b[0m│     object: 'FatJet'                                                         \n",
       "│\u001b[1;36m                                   \u001b[0m│     function: Function: <lambda>                                             \n",
       "│\u001b[1;36m                                   \u001b[0m│     use: [('FatJet', None)]                                                  \n",
       "│\u001b[1;36m                                   \u001b[0m│   }                                                                          \n",
       "│\u001b[1;36m                                   \u001b[0m│ ]                                                                            \n",
       "└───────────────────────────────────┴──────────────────────────────────────────────────────────────────────────────\n"
      ]
     },
     "metadata": {},
     "output_type": "display_data"
    },
    {
     "data": {
      "text/html": [
       "<pre style=\"white-space:pre;overflow-x:auto;line-height:normal;font-family:Menlo,'DejaVu Sans Mono',consolas,'Courier New',monospace\"><span style=\"font-style: italic\">                                                Configuration: CHANNELS                                            </span>\n",
       "┏━━━━━━━━━━━━━━━━━━━━━━━━━┳━━━━━━━━━━━━━━━━━━━━━━━━━━━━━━━━━━━━━━━━━━━━━━━━━━━━━━━━━━━━━━━━━━━━━━━━━━━━━━━━━━━━━━━━\n",
       "┃<span style=\"font-weight: bold\"> Key                     </span>┃<span style=\"font-weight: bold\"> Value                                                                                  </span>\n",
       "┡━━━━━━━━━━━━━━━━━━━━━━━━━╇━━━━━━━━━━━━━━━━━━━━━━━━━━━━━━━━━━━━━━━━━━━━━━━━━━━━━━━━━━━━━━━━━━━━━━━━━━━━━━━━━━━━━━━━\n",
       "│<span style=\"color: #008080; text-decoration-color: #008080; font-weight: bold\"> Items                   </span>│ [                                                                                      \n",
       "│<span style=\"color: #008080; text-decoration-color: #008080; font-weight: bold\">                         </span>│   [0]:                                                                                 \n",
       "│<span style=\"color: #008080; text-decoration-color: #008080; font-weight: bold\">                         </span>│ {                                                                                      \n",
       "│<span style=\"color: #008080; text-decoration-color: #008080; font-weight: bold\">                         </span>│     name: 'CMS_WORKSHOP'                                                               \n",
       "│<span style=\"color: #008080; text-decoration-color: #008080; font-weight: bold\">                         </span>│     fit_observable: 'workshop_mtt'                                                     \n",
       "│<span style=\"color: #008080; text-decoration-color: #008080; font-weight: bold\">                         </span>│     observables:                                                                       \n",
       "│<span style=\"color: #008080; text-decoration-color: #008080; font-weight: bold\">                         </span>│ [                                                                                      \n",
       "│<span style=\"color: #008080; text-decoration-color: #008080; font-weight: bold\">                         </span>│       [0]:                                                                             \n",
       "│<span style=\"color: #008080; text-decoration-color: #008080; font-weight: bold\">                         </span>│ {                                                                                      \n",
       "│<span style=\"color: #008080; text-decoration-color: #008080; font-weight: bold\">                         </span>│         name: 'workshop_mtt'                                                           \n",
       "│<span style=\"color: #008080; text-decoration-color: #008080; font-weight: bold\">                         </span>│         binning: '200,3000,20'                                                         \n",
       "│<span style=\"color: #008080; text-decoration-color: #008080; font-weight: bold\">                         </span>│         label: '$M(t\\bar{t})$ [GeV]'                                                   \n",
       "│<span style=\"color: #008080; text-decoration-color: #008080; font-weight: bold\">                         </span>│         function: Function: get_mtt                                                    \n",
       "│<span style=\"color: #008080; text-decoration-color: #008080; font-weight: bold\">                         </span>│         use: [('Muon', None), ('Jet', None), ('FatJet', None), ('PuppiMET', None)]     \n",
       "│<span style=\"color: #008080; text-decoration-color: #008080; font-weight: bold\">                         </span>│       }                                                                                \n",
       "│<span style=\"color: #008080; text-decoration-color: #008080; font-weight: bold\">                         </span>│     ]                                                                                  \n",
       "│<span style=\"color: #008080; text-decoration-color: #008080; font-weight: bold\">                         </span>│     selection:                                                                         \n",
       "│<span style=\"color: #008080; text-decoration-color: #008080; font-weight: bold\">                         </span>│ {                                                                                      \n",
       "│<span style=\"color: #008080; text-decoration-color: #008080; font-weight: bold\">                         </span>│       function: Function: Zprime_workshop_cuts                                         \n",
       "│<span style=\"color: #008080; text-decoration-color: #008080; font-weight: bold\">                         </span>│       use: [('Muon', None), ('Jet', None), ('FatJet', None), ('PuppiMET', None)]       \n",
       "│<span style=\"color: #008080; text-decoration-color: #008080; font-weight: bold\">                         </span>│     }                                                                                  \n",
       "│<span style=\"color: #008080; text-decoration-color: #008080; font-weight: bold\">                         </span>│   }                                                                                    \n",
       "│<span style=\"color: #008080; text-decoration-color: #008080; font-weight: bold\">                         </span>│ ]                                                                                      \n",
       "└─────────────────────────┴────────────────────────────────────────────────────────────────────────────────────────\n",
       "</pre>\n"
      ],
      "text/plain": [
       "\u001b[3m                                                Configuration: CHANNELS                                            \u001b[0m\n",
       "┏━━━━━━━━━━━━━━━━━━━━━━━━━┳━━━━━━━━━━━━━━━━━━━━━━━━━━━━━━━━━━━━━━━━━━━━━━━━━━━━━━━━━━━━━━━━━━━━━━━━━━━━━━━━━━━━━━━━\n",
       "┃\u001b[1m \u001b[0m\u001b[1mKey                    \u001b[0m\u001b[1m \u001b[0m┃\u001b[1m \u001b[0m\u001b[1mValue                                                                                  \u001b[0m\n",
       "┡━━━━━━━━━━━━━━━━━━━━━━━━━╇━━━━━━━━━━━━━━━━━━━━━━━━━━━━━━━━━━━━━━━━━━━━━━━━━━━━━━━━━━━━━━━━━━━━━━━━━━━━━━━━━━━━━━━━\n",
       "│\u001b[1;36m \u001b[0m\u001b[1;36mItems                  \u001b[0m\u001b[1;36m \u001b[0m│ [                                                                                      \n",
       "│\u001b[1;36m                         \u001b[0m│   [0]:                                                                                 \n",
       "│\u001b[1;36m                         \u001b[0m│ {                                                                                      \n",
       "│\u001b[1;36m                         \u001b[0m│     name: 'CMS_WORKSHOP'                                                               \n",
       "│\u001b[1;36m                         \u001b[0m│     fit_observable: 'workshop_mtt'                                                     \n",
       "│\u001b[1;36m                         \u001b[0m│     observables:                                                                       \n",
       "│\u001b[1;36m                         \u001b[0m│ [                                                                                      \n",
       "│\u001b[1;36m                         \u001b[0m│       [0]:                                                                             \n",
       "│\u001b[1;36m                         \u001b[0m│ {                                                                                      \n",
       "│\u001b[1;36m                         \u001b[0m│         name: 'workshop_mtt'                                                           \n",
       "│\u001b[1;36m                         \u001b[0m│         binning: '200,3000,20'                                                         \n",
       "│\u001b[1;36m                         \u001b[0m│         label: '$M(t\\bar{t})$ [GeV]'                                                   \n",
       "│\u001b[1;36m                         \u001b[0m│         function: Function: get_mtt                                                    \n",
       "│\u001b[1;36m                         \u001b[0m│         use: [('Muon', None), ('Jet', None), ('FatJet', None), ('PuppiMET', None)]     \n",
       "│\u001b[1;36m                         \u001b[0m│       }                                                                                \n",
       "│\u001b[1;36m                         \u001b[0m│     ]                                                                                  \n",
       "│\u001b[1;36m                         \u001b[0m│     selection:                                                                         \n",
       "│\u001b[1;36m                         \u001b[0m│ {                                                                                      \n",
       "│\u001b[1;36m                         \u001b[0m│       function: Function: Zprime_workshop_cuts                                         \n",
       "│\u001b[1;36m                         \u001b[0m│       use: [('Muon', None), ('Jet', None), ('FatJet', None), ('PuppiMET', None)]       \n",
       "│\u001b[1;36m                         \u001b[0m│     }                                                                                  \n",
       "│\u001b[1;36m                         \u001b[0m│   }                                                                                    \n",
       "│\u001b[1;36m                         \u001b[0m│ ]                                                                                      \n",
       "└─────────────────────────┴────────────────────────────────────────────────────────────────────────────────────────\n"
      ]
     },
     "metadata": {},
     "output_type": "display_data"
    },
    {
     "data": {
      "text/html": [
       "<pre style=\"white-space:pre;overflow-x:auto;line-height:normal;font-family:Menlo,'DejaVu Sans Mono',consolas,'Courier New',monospace\"><span style=\"font-style: italic\">                                            Configuration: GHOST_OBSERVABLES                                       </span>\n",
       "┏━━━━━━━━━━━━━━━━━━━━━━┳━━━━━━━━━━━━━━━━━━━━━━━━━━━━━━━━━━━━━━━━━━━━━━━━━━━━━━━━━━━━━━━━━━━━━━━━━━━━━━━━━━━━━━━━━━━\n",
       "┃<span style=\"font-weight: bold\"> Key                  </span>┃<span style=\"font-weight: bold\"> Value                                                                                     </span>\n",
       "┡━━━━━━━━━━━━━━━━━━━━━━╇━━━━━━━━━━━━━━━━━━━━━━━━━━━━━━━━━━━━━━━━━━━━━━━━━━━━━━━━━━━━━━━━━━━━━━━━━━━━━━━━━━━━━━━━━━━\n",
       "│<span style=\"color: #008080; text-decoration-color: #008080; font-weight: bold\"> Items                </span>│ [                                                                                         \n",
       "│<span style=\"color: #008080; text-decoration-color: #008080; font-weight: bold\">                      </span>│   [0]:                                                                                    \n",
       "│<span style=\"color: #008080; text-decoration-color: #008080; font-weight: bold\">                      </span>│ {                                                                                         \n",
       "│<span style=\"color: #008080; text-decoration-color: #008080; font-weight: bold\">                      </span>│     names: ('n_jet', 'leading_jet_mass', 'subleading_jet_mass', 'st',                     \n",
       "│<span style=\"color: #008080; text-decoration-color: #008080; font-weight: bold\">                      </span>│ 'leading_jet_btag_score', 'subleading_jet_btag_score', 'S_zz', 'deltaR', 'pt_rel',        \n",
       "│<span style=\"color: #008080; text-decoration-color: #008080; font-weight: bold\">                      </span>│ 'deltaR_times_pt')                                                                        \n",
       "│<span style=\"color: #008080; text-decoration-color: #008080; font-weight: bold\">                      </span>│     collections: 'mva'                                                                    \n",
       "│<span style=\"color: #008080; text-decoration-color: #008080; font-weight: bold\">                      </span>│     function: Function: get_mva_vars                                                      \n",
       "│<span style=\"color: #008080; text-decoration-color: #008080; font-weight: bold\">                      </span>│     use: [('Muon', None), ('Jet', None)]                                                  \n",
       "│<span style=\"color: #008080; text-decoration-color: #008080; font-weight: bold\">                      </span>│   }                                                                                       \n",
       "│<span style=\"color: #008080; text-decoration-color: #008080; font-weight: bold\">                      </span>│ ]                                                                                         \n",
       "└──────────────────────┴───────────────────────────────────────────────────────────────────────────────────────────\n",
       "</pre>\n"
      ],
      "text/plain": [
       "\u001b[3m                                            Configuration: GHOST_OBSERVABLES                                       \u001b[0m\n",
       "┏━━━━━━━━━━━━━━━━━━━━━━┳━━━━━━━━━━━━━━━━━━━━━━━━━━━━━━━━━━━━━━━━━━━━━━━━━━━━━━━━━━━━━━━━━━━━━━━━━━━━━━━━━━━━━━━━━━━\n",
       "┃\u001b[1m \u001b[0m\u001b[1mKey                 \u001b[0m\u001b[1m \u001b[0m┃\u001b[1m \u001b[0m\u001b[1mValue                                                                                     \u001b[0m\n",
       "┡━━━━━━━━━━━━━━━━━━━━━━╇━━━━━━━━━━━━━━━━━━━━━━━━━━━━━━━━━━━━━━━━━━━━━━━━━━━━━━━━━━━━━━━━━━━━━━━━━━━━━━━━━━━━━━━━━━━\n",
       "│\u001b[1;36m \u001b[0m\u001b[1;36mItems               \u001b[0m\u001b[1;36m \u001b[0m│ [                                                                                         \n",
       "│\u001b[1;36m                      \u001b[0m│   [0]:                                                                                    \n",
       "│\u001b[1;36m                      \u001b[0m│ {                                                                                         \n",
       "│\u001b[1;36m                      \u001b[0m│     names: ('n_jet', 'leading_jet_mass', 'subleading_jet_mass', 'st',                     \n",
       "│\u001b[1;36m                      \u001b[0m│ 'leading_jet_btag_score', 'subleading_jet_btag_score', 'S_zz', 'deltaR', 'pt_rel',        \n",
       "│\u001b[1;36m                      \u001b[0m│ 'deltaR_times_pt')                                                                        \n",
       "│\u001b[1;36m                      \u001b[0m│     collections: 'mva'                                                                    \n",
       "│\u001b[1;36m                      \u001b[0m│     function: Function: get_mva_vars                                                      \n",
       "│\u001b[1;36m                      \u001b[0m│     use: [('Muon', None), ('Jet', None)]                                                  \n",
       "│\u001b[1;36m                      \u001b[0m│   }                                                                                       \n",
       "│\u001b[1;36m                      \u001b[0m│ ]                                                                                         \n",
       "└──────────────────────┴───────────────────────────────────────────────────────────────────────────────────────────\n"
      ]
     },
     "metadata": {},
     "output_type": "display_data"
    },
    {
     "data": {
      "text/html": [
       "<pre style=\"white-space:pre;overflow-x:auto;line-height:normal;font-family:Menlo,'DejaVu Sans Mono',consolas,'Courier New',monospace\"><span style=\"font-style: italic\">                                               Configuration: CORRECTIONS                                          </span>\n",
       "┏━━━━━━━━━━━━━━━━━━━━━━━━━━━━━━━━━━━┳━━━━━━━━━━━━━━━━━━━━━━━━━━━━━━━━━━━━━━━━━━━━━━━━━━━━━━━━━━━━━━━━━━━━━━━━━━━━━━\n",
       "┃<span style=\"font-weight: bold\"> Key                               </span>┃<span style=\"font-weight: bold\"> Value                                                                        </span>\n",
       "┡━━━━━━━━━━━━━━━━━━━━━━━━━━━━━━━━━━━╇━━━━━━━━━━━━━━━━━━━━━━━━━━━━━━━━━━━━━━━━━━━━━━━━━━━━━━━━━━━━━━━━━━━━━━━━━━━━━━\n",
       "│<span style=\"color: #008080; text-decoration-color: #008080; font-weight: bold\"> Items                             </span>│ [                                                                            \n",
       "│<span style=\"color: #008080; text-decoration-color: #008080; font-weight: bold\">                                   </span>│   [0]:                                                                       \n",
       "│<span style=\"color: #008080; text-decoration-color: #008080; font-weight: bold\">                                   </span>│ {                                                                            \n",
       "│<span style=\"color: #008080; text-decoration-color: #008080; font-weight: bold\">                                   </span>│     name: 'pu_weight'                                                        \n",
       "│<span style=\"color: #008080; text-decoration-color: #008080; font-weight: bold\">                                   </span>│     file: 'corrections/puWeights.json.gz'                                    \n",
       "│<span style=\"color: #008080; text-decoration-color: #008080; font-weight: bold\">                                   </span>│     type: 'event'                                                            \n",
       "│<span style=\"color: #008080; text-decoration-color: #008080; font-weight: bold\">                                   </span>│     use: [('Pileup', 'nTrueInt')]                                            \n",
       "│<span style=\"color: #008080; text-decoration-color: #008080; font-weight: bold\">                                   </span>│     op: 'mult'                                                               \n",
       "│<span style=\"color: #008080; text-decoration-color: #008080; font-weight: bold\">                                   </span>│     key: 'Collisions16_UltraLegacy_goldenJSON'                               \n",
       "│<span style=\"color: #008080; text-decoration-color: #008080; font-weight: bold\">                                   </span>│     use_correctionlib: True                                                  \n",
       "│<span style=\"color: #008080; text-decoration-color: #008080; font-weight: bold\">                                   </span>│   }                                                                          \n",
       "│<span style=\"color: #008080; text-decoration-color: #008080; font-weight: bold\">                                   </span>│   [1]:                                                                       \n",
       "│<span style=\"color: #008080; text-decoration-color: #008080; font-weight: bold\">                                   </span>│ {                                                                            \n",
       "│<span style=\"color: #008080; text-decoration-color: #008080; font-weight: bold\">                                   </span>│     name: 'muon_id_sf'                                                       \n",
       "│<span style=\"color: #008080; text-decoration-color: #008080; font-weight: bold\">                                   </span>│     file: 'corrections/muon_Z.json.gz'                                       \n",
       "│<span style=\"color: #008080; text-decoration-color: #008080; font-weight: bold\">                                   </span>│     use: [('Muon', 'eta'), ('Muon', 'pt')]                                   \n",
       "│<span style=\"color: #008080; text-decoration-color: #008080; font-weight: bold\">                                   </span>│     transform: Function: &lt;lambda&gt;                                            \n",
       "│<span style=\"color: #008080; text-decoration-color: #008080; font-weight: bold\">                                   </span>│     type: 'event'                                                            \n",
       "│<span style=\"color: #008080; text-decoration-color: #008080; font-weight: bold\">                                   </span>│     key: 'NUM_TightID_DEN_TrackerMuons'                                      \n",
       "│<span style=\"color: #008080; text-decoration-color: #008080; font-weight: bold\">                                   </span>│     use_correctionlib: True                                                  \n",
       "│<span style=\"color: #008080; text-decoration-color: #008080; font-weight: bold\">                                   </span>│     op: 'mult'                                                               \n",
       "│<span style=\"color: #008080; text-decoration-color: #008080; font-weight: bold\">                                   </span>│     up_and_down_idx: ['systup', 'systdown']                                  \n",
       "│<span style=\"color: #008080; text-decoration-color: #008080; font-weight: bold\">                                   </span>│   }                                                                          \n",
       "│<span style=\"color: #008080; text-decoration-color: #008080; font-weight: bold\">                                   </span>│ ]                                                                            \n",
       "└───────────────────────────────────┴──────────────────────────────────────────────────────────────────────────────\n",
       "</pre>\n"
      ],
      "text/plain": [
       "\u001b[3m                                               Configuration: CORRECTIONS                                          \u001b[0m\n",
       "┏━━━━━━━━━━━━━━━━━━━━━━━━━━━━━━━━━━━┳━━━━━━━━━━━━━━━━━━━━━━━━━━━━━━━━━━━━━━━━━━━━━━━━━━━━━━━━━━━━━━━━━━━━━━━━━━━━━━\n",
       "┃\u001b[1m \u001b[0m\u001b[1mKey                              \u001b[0m\u001b[1m \u001b[0m┃\u001b[1m \u001b[0m\u001b[1mValue                                                                        \u001b[0m\n",
       "┡━━━━━━━━━━━━━━━━━━━━━━━━━━━━━━━━━━━╇━━━━━━━━━━━━━━━━━━━━━━━━━━━━━━━━━━━━━━━━━━━━━━━━━━━━━━━━━━━━━━━━━━━━━━━━━━━━━━\n",
       "│\u001b[1;36m \u001b[0m\u001b[1;36mItems                            \u001b[0m\u001b[1;36m \u001b[0m│ [                                                                            \n",
       "│\u001b[1;36m                                   \u001b[0m│   [0]:                                                                       \n",
       "│\u001b[1;36m                                   \u001b[0m│ {                                                                            \n",
       "│\u001b[1;36m                                   \u001b[0m│     name: 'pu_weight'                                                        \n",
       "│\u001b[1;36m                                   \u001b[0m│     file: 'corrections/puWeights.json.gz'                                    \n",
       "│\u001b[1;36m                                   \u001b[0m│     type: 'event'                                                            \n",
       "│\u001b[1;36m                                   \u001b[0m│     use: [('Pileup', 'nTrueInt')]                                            \n",
       "│\u001b[1;36m                                   \u001b[0m│     op: 'mult'                                                               \n",
       "│\u001b[1;36m                                   \u001b[0m│     key: 'Collisions16_UltraLegacy_goldenJSON'                               \n",
       "│\u001b[1;36m                                   \u001b[0m│     use_correctionlib: True                                                  \n",
       "│\u001b[1;36m                                   \u001b[0m│   }                                                                          \n",
       "│\u001b[1;36m                                   \u001b[0m│   [1]:                                                                       \n",
       "│\u001b[1;36m                                   \u001b[0m│ {                                                                            \n",
       "│\u001b[1;36m                                   \u001b[0m│     name: 'muon_id_sf'                                                       \n",
       "│\u001b[1;36m                                   \u001b[0m│     file: 'corrections/muon_Z.json.gz'                                       \n",
       "│\u001b[1;36m                                   \u001b[0m│     use: [('Muon', 'eta'), ('Muon', 'pt')]                                   \n",
       "│\u001b[1;36m                                   \u001b[0m│     transform: Function: <lambda>                                            \n",
       "│\u001b[1;36m                                   \u001b[0m│     type: 'event'                                                            \n",
       "│\u001b[1;36m                                   \u001b[0m│     key: 'NUM_TightID_DEN_TrackerMuons'                                      \n",
       "│\u001b[1;36m                                   \u001b[0m│     use_correctionlib: True                                                  \n",
       "│\u001b[1;36m                                   \u001b[0m│     op: 'mult'                                                               \n",
       "│\u001b[1;36m                                   \u001b[0m│     up_and_down_idx: ['systup', 'systdown']                                  \n",
       "│\u001b[1;36m                                   \u001b[0m│   }                                                                          \n",
       "│\u001b[1;36m                                   \u001b[0m│ ]                                                                            \n",
       "└───────────────────────────────────┴──────────────────────────────────────────────────────────────────────────────\n"
      ]
     },
     "metadata": {},
     "output_type": "display_data"
    },
    {
     "data": {
      "text/html": [
       "<pre style=\"white-space:pre;overflow-x:auto;line-height:normal;font-family:Menlo,'DejaVu Sans Mono',consolas,'Courier New',monospace\"><span style=\"font-style: italic\">                                               Configuration: SYSTEMATICS                                          </span>\n",
       "┏━━━━━━━━━━━━━━━━━━━━━━━━━━━━━━━━━━━┳━━━━━━━━━━━━━━━━━━━━━━━━━━━━━━━━━━━━━━━━━━━━━━━━━━━━━━━━━━━━━━━━━━━━━━━━━━━━━━\n",
       "┃<span style=\"font-weight: bold\"> Key                               </span>┃<span style=\"font-weight: bold\"> Value                                                                        </span>\n",
       "┡━━━━━━━━━━━━━━━━━━━━━━━━━━━━━━━━━━━╇━━━━━━━━━━━━━━━━━━━━━━━━━━━━━━━━━━━━━━━━━━━━━━━━━━━━━━━━━━━━━━━━━━━━━━━━━━━━━━\n",
       "│<span style=\"color: #008080; text-decoration-color: #008080; font-weight: bold\"> Items                             </span>│ [                                                                            \n",
       "│<span style=\"color: #008080; text-decoration-color: #008080; font-weight: bold\">                                   </span>│   [0]:                                                                       \n",
       "│<span style=\"color: #008080; text-decoration-color: #008080; font-weight: bold\">                                   </span>│ {                                                                            \n",
       "│<span style=\"color: #008080; text-decoration-color: #008080; font-weight: bold\">                                   </span>│     name: 'jet_pt_resolution'                                                \n",
       "│<span style=\"color: #008080; text-decoration-color: #008080; font-weight: bold\">                                   </span>│     up_function: Function: jet_pt_resolution                                 \n",
       "│<span style=\"color: #008080; text-decoration-color: #008080; font-weight: bold\">                                   </span>│     target: ('Jet', 'pt')                                                    \n",
       "│<span style=\"color: #008080; text-decoration-color: #008080; font-weight: bold\">                                   </span>│     use: [('Jet', 'pt')]                                                     \n",
       "│<span style=\"color: #008080; text-decoration-color: #008080; font-weight: bold\">                                   </span>│     symmetrise: True                                                         \n",
       "│<span style=\"color: #008080; text-decoration-color: #008080; font-weight: bold\">                                   </span>│     op: 'mult'                                                               \n",
       "│<span style=\"color: #008080; text-decoration-color: #008080; font-weight: bold\">                                   </span>│     type: 'object'                                                           \n",
       "│<span style=\"color: #008080; text-decoration-color: #008080; font-weight: bold\">                                   </span>│   }                                                                          \n",
       "│<span style=\"color: #008080; text-decoration-color: #008080; font-weight: bold\">                                   </span>│   [1]:                                                                       \n",
       "│<span style=\"color: #008080; text-decoration-color: #008080; font-weight: bold\">                                   </span>│ {                                                                            \n",
       "│<span style=\"color: #008080; text-decoration-color: #008080; font-weight: bold\">                                   </span>│     name: 'jet_pt_scale'                                                     \n",
       "│<span style=\"color: #008080; text-decoration-color: #008080; font-weight: bold\">                                   </span>│     up_function: Function: jet_pt_scale                                      \n",
       "│<span style=\"color: #008080; text-decoration-color: #008080; font-weight: bold\">                                   </span>│     target: ('Jet', 'pt')                                                    \n",
       "│<span style=\"color: #008080; text-decoration-color: #008080; font-weight: bold\">                                   </span>│     symmetrise: True                                                         \n",
       "│<span style=\"color: #008080; text-decoration-color: #008080; font-weight: bold\">                                   </span>│     op: 'mult'                                                               \n",
       "│<span style=\"color: #008080; text-decoration-color: #008080; font-weight: bold\">                                   </span>│     type: 'object'                                                           \n",
       "│<span style=\"color: #008080; text-decoration-color: #008080; font-weight: bold\">                                   </span>│   }                                                                          \n",
       "│<span style=\"color: #008080; text-decoration-color: #008080; font-weight: bold\">                                   </span>│ ]                                                                            \n",
       "└───────────────────────────────────┴──────────────────────────────────────────────────────────────────────────────\n",
       "</pre>\n"
      ],
      "text/plain": [
       "\u001b[3m                                               Configuration: SYSTEMATICS                                          \u001b[0m\n",
       "┏━━━━━━━━━━━━━━━━━━━━━━━━━━━━━━━━━━━┳━━━━━━━━━━━━━━━━━━━━━━━━━━━━━━━━━━━━━━━━━━━━━━━━━━━━━━━━━━━━━━━━━━━━━━━━━━━━━━\n",
       "┃\u001b[1m \u001b[0m\u001b[1mKey                              \u001b[0m\u001b[1m \u001b[0m┃\u001b[1m \u001b[0m\u001b[1mValue                                                                        \u001b[0m\n",
       "┡━━━━━━━━━━━━━━━━━━━━━━━━━━━━━━━━━━━╇━━━━━━━━━━━━━━━━━━━━━━━━━━━━━━━━━━━━━━━━━━━━━━━━━━━━━━━━━━━━━━━━━━━━━━━━━━━━━━\n",
       "│\u001b[1;36m \u001b[0m\u001b[1;36mItems                            \u001b[0m\u001b[1;36m \u001b[0m│ [                                                                            \n",
       "│\u001b[1;36m                                   \u001b[0m│   [0]:                                                                       \n",
       "│\u001b[1;36m                                   \u001b[0m│ {                                                                            \n",
       "│\u001b[1;36m                                   \u001b[0m│     name: 'jet_pt_resolution'                                                \n",
       "│\u001b[1;36m                                   \u001b[0m│     up_function: Function: jet_pt_resolution                                 \n",
       "│\u001b[1;36m                                   \u001b[0m│     target: ('Jet', 'pt')                                                    \n",
       "│\u001b[1;36m                                   \u001b[0m│     use: [('Jet', 'pt')]                                                     \n",
       "│\u001b[1;36m                                   \u001b[0m│     symmetrise: True                                                         \n",
       "│\u001b[1;36m                                   \u001b[0m│     op: 'mult'                                                               \n",
       "│\u001b[1;36m                                   \u001b[0m│     type: 'object'                                                           \n",
       "│\u001b[1;36m                                   \u001b[0m│   }                                                                          \n",
       "│\u001b[1;36m                                   \u001b[0m│   [1]:                                                                       \n",
       "│\u001b[1;36m                                   \u001b[0m│ {                                                                            \n",
       "│\u001b[1;36m                                   \u001b[0m│     name: 'jet_pt_scale'                                                     \n",
       "│\u001b[1;36m                                   \u001b[0m│     up_function: Function: jet_pt_scale                                      \n",
       "│\u001b[1;36m                                   \u001b[0m│     target: ('Jet', 'pt')                                                    \n",
       "│\u001b[1;36m                                   \u001b[0m│     symmetrise: True                                                         \n",
       "│\u001b[1;36m                                   \u001b[0m│     op: 'mult'                                                               \n",
       "│\u001b[1;36m                                   \u001b[0m│     type: 'object'                                                           \n",
       "│\u001b[1;36m                                   \u001b[0m│   }                                                                          \n",
       "│\u001b[1;36m                                   \u001b[0m│ ]                                                                            \n",
       "└───────────────────────────────────┴──────────────────────────────────────────────────────────────────────────────\n"
      ]
     },
     "metadata": {},
     "output_type": "display_data"
    },
    {
     "data": {
      "text/html": [
       "<pre style=\"white-space:pre;overflow-x:auto;line-height:normal;font-family:Menlo,'DejaVu Sans Mono',consolas,'Courier New',monospace\"><span style=\"font-style: italic\">                                               Configuration: STATISTICS                                           </span>\n",
       "┏━━━━━━━━━━━━━━━━━━━━━━━━━━━━━━━━━━━┳━━━━━━━━━━━━━━━━━━━━━━━━━━━━━━━━━━━━━━━━━━━━━━━━━━━━━━━━━━━━━━━━━━━━━━━━━━━━━━\n",
       "┃<span style=\"font-weight: bold\"> Key                               </span>┃<span style=\"font-weight: bold\"> Value                                                                        </span>\n",
       "┡━━━━━━━━━━━━━━━━━━━━━━━━━━━━━━━━━━━╇━━━━━━━━━━━━━━━━━━━━━━━━━━━━━━━━━━━━━━━━━━━━━━━━━━━━━━━━━━━━━━━━━━━━━━━━━━━━━━\n",
       "│<span style=\"color: #008080; text-decoration-color: #008080; font-weight: bold\"> cabinetry_config                  </span>│ 'example/outputs/cabinetry/cabinetry_config.yaml'                            \n",
       "└───────────────────────────────────┴──────────────────────────────────────────────────────────────────────────────\n",
       "</pre>\n"
      ],
      "text/plain": [
       "\u001b[3m                                               Configuration: STATISTICS                                           \u001b[0m\n",
       "┏━━━━━━━━━━━━━━━━━━━━━━━━━━━━━━━━━━━┳━━━━━━━━━━━━━━━━━━━━━━━━━━━━━━━━━━━━━━━━━━━━━━━━━━━━━━━━━━━━━━━━━━━━━━━━━━━━━━\n",
       "┃\u001b[1m \u001b[0m\u001b[1mKey                              \u001b[0m\u001b[1m \u001b[0m┃\u001b[1m \u001b[0m\u001b[1mValue                                                                        \u001b[0m\n",
       "┡━━━━━━━━━━━━━━━━━━━━━━━━━━━━━━━━━━━╇━━━━━━━━━━━━━━━━━━━━━━━━━━━━━━━━━━━━━━━━━━━━━━━━━━━━━━━━━━━━━━━━━━━━━━━━━━━━━━\n",
       "│\u001b[1;36m \u001b[0m\u001b[1;36mcabinetry_config                 \u001b[0m\u001b[1;36m \u001b[0m│ 'example/outputs/cabinetry/cabinetry_config.yaml'                            \n",
       "└───────────────────────────────────┴──────────────────────────────────────────────────────────────────────────────\n"
      ]
     },
     "metadata": {},
     "output_type": "display_data"
    },
    {
     "data": {
      "text/html": [
       "<pre style=\"white-space:pre;overflow-x:auto;line-height:normal;font-family:Menlo,'DejaVu Sans Mono',consolas,'Courier New',monospace\"><span style=\"font-style: italic\">                                                Configuration: PLOTTING                                            </span>\n",
       "┏━━━━━━━━━━━━━━━━━━━━━━━━━━━━━━━━━━┳━━━━━━━━━━━━━━━━━━━━━━━━━━━━━━━━━━━━━━━━━━━━━━━━━━━━━━━━━━━━━━━━━━━━━━━━━━━━━━━\n",
       "┃<span style=\"font-weight: bold\"> Key                              </span>┃<span style=\"font-weight: bold\"> Value                                                                         </span>\n",
       "┡━━━━━━━━━━━━━━━━━━━━━━━━━━━━━━━━━━╇━━━━━━━━━━━━━━━━━━━━━━━━━━━━━━━━━━━━━━━━━━━━━━━━━━━━━━━━━━━━━━━━━━━━━━━━━━━━━━━\n",
       "│<span style=\"color: #008080; text-decoration-color: #008080; font-weight: bold\"> process_colors                   </span>│ {                                                                             \n",
       "│<span style=\"color: #008080; text-decoration-color: #008080; font-weight: bold\">                                  </span>│   ttbar_semilep: '#907AD6'                                                    \n",
       "│<span style=\"color: #008080; text-decoration-color: #008080; font-weight: bold\">                                  </span>│   signal: '#DABFFF'                                                           \n",
       "│<span style=\"color: #008080; text-decoration-color: #008080; font-weight: bold\">                                  </span>│   ttbar_lep: '#7FDEFF'                                                        \n",
       "│<span style=\"color: #008080; text-decoration-color: #008080; font-weight: bold\">                                  </span>│   ttbar_had: '#2C2A4A'                                                        \n",
       "│<span style=\"color: #008080; text-decoration-color: #008080; font-weight: bold\">                                  </span>│   wjets: '#72A1E5'                                                            \n",
       "│<span style=\"color: #008080; text-decoration-color: #008080; font-weight: bold\">                                  </span>│   ttbar: '#907AD6'                                                            \n",
       "│<span style=\"color: #008080; text-decoration-color: #008080; font-weight: bold\">                                  </span>│ }                                                                             \n",
       "│<span style=\"color: #008080; text-decoration-color: #008080; font-weight: bold\"> process_labels                   </span>│ {                                                                             \n",
       "│<span style=\"color: #008080; text-decoration-color: #008080; font-weight: bold\">                                  </span>│   ttbar_semilep: '$t\\bar{t}\\,\\textrm{(lepton+jets)}$'                         \n",
       "│<span style=\"color: #008080; text-decoration-color: #008080; font-weight: bold\">                                  </span>│   signal: '$Z^{\\prime} \\rightarrow t\\bar{t}$'                                 \n",
       "│<span style=\"color: #008080; text-decoration-color: #008080; font-weight: bold\">                                  </span>│   ttbar_lep: '$t\\bar{t}\\,\\textrm{(leptonic)}$'                                \n",
       "│<span style=\"color: #008080; text-decoration-color: #008080; font-weight: bold\">                                  </span>│   ttbar_had: '$t\\bar{t}\\,\\textrm{(hadronic)}$'                                \n",
       "│<span style=\"color: #008080; text-decoration-color: #008080; font-weight: bold\">                                  </span>│   wjets: '$W+\\textrm{jets}$'                                                  \n",
       "│<span style=\"color: #008080; text-decoration-color: #008080; font-weight: bold\">                                  </span>│   ttbar: '$t\\bar{t}$'                                                         \n",
       "│<span style=\"color: #008080; text-decoration-color: #008080; font-weight: bold\">                                  </span>│ }                                                                             \n",
       "│<span style=\"color: #008080; text-decoration-color: #008080; font-weight: bold\"> process_order                    </span>│ [                                                                             \n",
       "│<span style=\"color: #008080; text-decoration-color: #008080; font-weight: bold\">                                  </span>│   [0]: 'ttbar'                                                                \n",
       "│<span style=\"color: #008080; text-decoration-color: #008080; font-weight: bold\">                                  </span>│   [1]: 'ttbar_had'                                                            \n",
       "│<span style=\"color: #008080; text-decoration-color: #008080; font-weight: bold\">                                  </span>│   [2]: 'ttbar_lep'                                                            \n",
       "│<span style=\"color: #008080; text-decoration-color: #008080; font-weight: bold\">                                  </span>│   [3]: 'ttbar_semilep'                                                        \n",
       "│<span style=\"color: #008080; text-decoration-color: #008080; font-weight: bold\">                                  </span>│   [4]: 'wjets'                                                                \n",
       "│<span style=\"color: #008080; text-decoration-color: #008080; font-weight: bold\">                                  </span>│   [5]: 'signal'                                                               \n",
       "│<span style=\"color: #008080; text-decoration-color: #008080; font-weight: bold\">                                  </span>│ ]                                                                             \n",
       "└──────────────────────────────────┴───────────────────────────────────────────────────────────────────────────────\n",
       "</pre>\n"
      ],
      "text/plain": [
       "\u001b[3m                                                Configuration: PLOTTING                                            \u001b[0m\n",
       "┏━━━━━━━━━━━━━━━━━━━━━━━━━━━━━━━━━━┳━━━━━━━━━━━━━━━━━━━━━━━━━━━━━━━━━━━━━━━━━━━━━━━━━━━━━━━━━━━━━━━━━━━━━━━━━━━━━━━\n",
       "┃\u001b[1m \u001b[0m\u001b[1mKey                             \u001b[0m\u001b[1m \u001b[0m┃\u001b[1m \u001b[0m\u001b[1mValue                                                                         \u001b[0m\n",
       "┡━━━━━━━━━━━━━━━━━━━━━━━━━━━━━━━━━━╇━━━━━━━━━━━━━━━━━━━━━━━━━━━━━━━━━━━━━━━━━━━━━━━━━━━━━━━━━━━━━━━━━━━━━━━━━━━━━━━\n",
       "│\u001b[1;36m \u001b[0m\u001b[1;36mprocess_colors                  \u001b[0m\u001b[1;36m \u001b[0m│ {                                                                             \n",
       "│\u001b[1;36m                                  \u001b[0m│   ttbar_semilep: '#907AD6'                                                    \n",
       "│\u001b[1;36m                                  \u001b[0m│   signal: '#DABFFF'                                                           \n",
       "│\u001b[1;36m                                  \u001b[0m│   ttbar_lep: '#7FDEFF'                                                        \n",
       "│\u001b[1;36m                                  \u001b[0m│   ttbar_had: '#2C2A4A'                                                        \n",
       "│\u001b[1;36m                                  \u001b[0m│   wjets: '#72A1E5'                                                            \n",
       "│\u001b[1;36m                                  \u001b[0m│   ttbar: '#907AD6'                                                            \n",
       "│\u001b[1;36m                                  \u001b[0m│ }                                                                             \n",
       "│\u001b[1;36m \u001b[0m\u001b[1;36mprocess_labels                  \u001b[0m\u001b[1;36m \u001b[0m│ {                                                                             \n",
       "│\u001b[1;36m                                  \u001b[0m│   ttbar_semilep: '$t\\bar{t}\\,\\textrm{(lepton+jets)}$'                         \n",
       "│\u001b[1;36m                                  \u001b[0m│   signal: '$Z^{\\prime} \\rightarrow t\\bar{t}$'                                 \n",
       "│\u001b[1;36m                                  \u001b[0m│   ttbar_lep: '$t\\bar{t}\\,\\textrm{(leptonic)}$'                                \n",
       "│\u001b[1;36m                                  \u001b[0m│   ttbar_had: '$t\\bar{t}\\,\\textrm{(hadronic)}$'                                \n",
       "│\u001b[1;36m                                  \u001b[0m│   wjets: '$W+\\textrm{jets}$'                                                  \n",
       "│\u001b[1;36m                                  \u001b[0m│   ttbar: '$t\\bar{t}$'                                                         \n",
       "│\u001b[1;36m                                  \u001b[0m│ }                                                                             \n",
       "│\u001b[1;36m \u001b[0m\u001b[1;36mprocess_order                   \u001b[0m\u001b[1;36m \u001b[0m│ [                                                                             \n",
       "│\u001b[1;36m                                  \u001b[0m│   [0]: 'ttbar'                                                                \n",
       "│\u001b[1;36m                                  \u001b[0m│   [1]: 'ttbar_had'                                                            \n",
       "│\u001b[1;36m                                  \u001b[0m│   [2]: 'ttbar_lep'                                                            \n",
       "│\u001b[1;36m                                  \u001b[0m│   [3]: 'ttbar_semilep'                                                        \n",
       "│\u001b[1;36m                                  \u001b[0m│   [4]: 'wjets'                                                                \n",
       "│\u001b[1;36m                                  \u001b[0m│   [5]: 'signal'                                                               \n",
       "│\u001b[1;36m                                  \u001b[0m│ ]                                                                             \n",
       "└──────────────────────────────────┴───────────────────────────────────────────────────────────────────────────────\n"
      ]
     },
     "metadata": {},
     "output_type": "display_data"
    },
    {
     "data": {
      "text/html": [
       "<pre style=\"white-space:pre;overflow-x:auto;line-height:normal;font-family:Menlo,'DejaVu Sans Mono',consolas,'Courier New',monospace\"><span style=\"font-style: italic\">                                                Configuration: DATASETS                                            </span>\n",
       "┏━━━━━━━━━━━━━━━━━━━━━━━━━━━━━━━━━━━┳━━━━━━━━━━━━━━━━━━━━━━━━━━━━━━━━━━━━━━━━━━━━━━━━━━━━━━━━━━━━━━━━━━━━━━━━━━━━━━\n",
       "┃<span style=\"font-weight: bold\"> Key                               </span>┃<span style=\"font-weight: bold\"> Value                                                                        </span>\n",
       "┡━━━━━━━━━━━━━━━━━━━━━━━━━━━━━━━━━━━╇━━━━━━━━━━━━━━━━━━━━━━━━━━━━━━━━━━━━━━━━━━━━━━━━━━━━━━━━━━━━━━━━━━━━━━━━━━━━━━\n",
       "│<span style=\"color: #008080; text-decoration-color: #008080; font-weight: bold\"> datasets                          </span>│ [                                                                            \n",
       "│<span style=\"color: #008080; text-decoration-color: #008080; font-weight: bold\">                                   </span>│   [0]:                                                                       \n",
       "│<span style=\"color: #008080; text-decoration-color: #008080; font-weight: bold\">                                   </span>│ {                                                                            \n",
       "│<span style=\"color: #008080; text-decoration-color: #008080; font-weight: bold\">                                   </span>│     name: 'signal'                                                           \n",
       "│<span style=\"color: #008080; text-decoration-color: #008080; font-weight: bold\">                                   </span>│     directory: 'example/datasets/signal/m2000_w20/'                          \n",
       "│<span style=\"color: #008080; text-decoration-color: #008080; font-weight: bold\">                                   </span>│     cross_section: 1.0                                                       \n",
       "│<span style=\"color: #008080; text-decoration-color: #008080; font-weight: bold\">                                   </span>│     file_pattern: '*.txt'                                                    \n",
       "│<span style=\"color: #008080; text-decoration-color: #008080; font-weight: bold\">                                   </span>│     tree_name: 'Events'                                                      \n",
       "│<span style=\"color: #008080; text-decoration-color: #008080; font-weight: bold\">                                   </span>│     weight_branch: 'genWeight'                                               \n",
       "│<span style=\"color: #008080; text-decoration-color: #008080; font-weight: bold\">                                   </span>│   }                                                                          \n",
       "│<span style=\"color: #008080; text-decoration-color: #008080; font-weight: bold\">                                   </span>│   [1]:                                                                       \n",
       "│<span style=\"color: #008080; text-decoration-color: #008080; font-weight: bold\">                                   </span>│ {                                                                            \n",
       "│<span style=\"color: #008080; text-decoration-color: #008080; font-weight: bold\">                                   </span>│     name: 'ttbar_semilep'                                                    \n",
       "│<span style=\"color: #008080; text-decoration-color: #008080; font-weight: bold\">                                   </span>│     directory: 'example/datasets/ttbar_semilep/'                             \n",
       "│<span style=\"color: #008080; text-decoration-color: #008080; font-weight: bold\">                                   </span>│     cross_section: 364.31088                                                 \n",
       "│<span style=\"color: #008080; text-decoration-color: #008080; font-weight: bold\">                                   </span>│     file_pattern: '*.txt'                                                    \n",
       "│<span style=\"color: #008080; text-decoration-color: #008080; font-weight: bold\">                                   </span>│     tree_name: 'Events'                                                      \n",
       "│<span style=\"color: #008080; text-decoration-color: #008080; font-weight: bold\">                                   </span>│     weight_branch: 'genWeight'                                               \n",
       "│<span style=\"color: #008080; text-decoration-color: #008080; font-weight: bold\">                                   </span>│   }                                                                          \n",
       "│<span style=\"color: #008080; text-decoration-color: #008080; font-weight: bold\">                                   </span>│   [2]:                                                                       \n",
       "│<span style=\"color: #008080; text-decoration-color: #008080; font-weight: bold\">                                   </span>│ {                                                                            \n",
       "│<span style=\"color: #008080; text-decoration-color: #008080; font-weight: bold\">                                   </span>│     name: 'ttbar_had'                                                        \n",
       "│<span style=\"color: #008080; text-decoration-color: #008080; font-weight: bold\">                                   </span>│     directory: 'example/datasets/ttbar_had/'                                 \n",
       "│<span style=\"color: #008080; text-decoration-color: #008080; font-weight: bold\">                                   </span>│     cross_section: 380.11432                                                 \n",
       "│<span style=\"color: #008080; text-decoration-color: #008080; font-weight: bold\">                                   </span>│     file_pattern: '*.txt'                                                    \n",
       "│<span style=\"color: #008080; text-decoration-color: #008080; font-weight: bold\">                                   </span>│     tree_name: 'Events'                                                      \n",
       "│<span style=\"color: #008080; text-decoration-color: #008080; font-weight: bold\">                                   </span>│     weight_branch: 'genWeight'                                               \n",
       "│<span style=\"color: #008080; text-decoration-color: #008080; font-weight: bold\">                                   </span>│   }                                                                          \n",
       "│<span style=\"color: #008080; text-decoration-color: #008080; font-weight: bold\">                                   </span>│   [3]:                                                                       \n",
       "│<span style=\"color: #008080; text-decoration-color: #008080; font-weight: bold\">                                   </span>│ {                                                                            \n",
       "│<span style=\"color: #008080; text-decoration-color: #008080; font-weight: bold\">                                   </span>│     name: 'ttbar_lep'                                                        \n",
       "│<span style=\"color: #008080; text-decoration-color: #008080; font-weight: bold\">                                   </span>│     directory: 'example/datasets/ttbar_lep/'                                 \n",
       "│<span style=\"color: #008080; text-decoration-color: #008080; font-weight: bold\">                                   </span>│     cross_section: 87.3348                                                   \n",
       "│<span style=\"color: #008080; text-decoration-color: #008080; font-weight: bold\">                                   </span>│     file_pattern: '*.txt'                                                    \n",
       "│<span style=\"color: #008080; text-decoration-color: #008080; font-weight: bold\">                                   </span>│     tree_name: 'Events'                                                      \n",
       "│<span style=\"color: #008080; text-decoration-color: #008080; font-weight: bold\">                                   </span>│     weight_branch: 'genWeight'                                               \n",
       "│<span style=\"color: #008080; text-decoration-color: #008080; font-weight: bold\">                                   </span>│   }                                                                          \n",
       "│<span style=\"color: #008080; text-decoration-color: #008080; font-weight: bold\">                                   </span>│   [4]:                                                                       \n",
       "│<span style=\"color: #008080; text-decoration-color: #008080; font-weight: bold\">                                   </span>│ {                                                                            \n",
       "│<span style=\"color: #008080; text-decoration-color: #008080; font-weight: bold\">                                   </span>│     name: 'wjets'                                                            \n",
       "│<span style=\"color: #008080; text-decoration-color: #008080; font-weight: bold\">                                   </span>│     directory: 'example/datasets/wjets/'                                     \n",
       "│<span style=\"color: #008080; text-decoration-color: #008080; font-weight: bold\">                                   </span>│     cross_section: 61526.7                                                   \n",
       "│<span style=\"color: #008080; text-decoration-color: #008080; font-weight: bold\">                                   </span>│     file_pattern: '*.txt'                                                    \n",
       "│<span style=\"color: #008080; text-decoration-color: #008080; font-weight: bold\">                                   </span>│     tree_name: 'Events'                                                      \n",
       "│<span style=\"color: #008080; text-decoration-color: #008080; font-weight: bold\">                                   </span>│     weight_branch: 'genWeight'                                               \n",
       "│<span style=\"color: #008080; text-decoration-color: #008080; font-weight: bold\">                                   </span>│   }                                                                          \n",
       "│<span style=\"color: #008080; text-decoration-color: #008080; font-weight: bold\">                                   </span>│   [5]:                                                                       \n",
       "│<span style=\"color: #008080; text-decoration-color: #008080; font-weight: bold\">                                   </span>│ {                                                                            \n",
       "│<span style=\"color: #008080; text-decoration-color: #008080; font-weight: bold\">                                   </span>│     name: 'data'                                                             \n",
       "│<span style=\"color: #008080; text-decoration-color: #008080; font-weight: bold\">                                   </span>│     directory: 'example/datasets/data/'                                      \n",
       "│<span style=\"color: #008080; text-decoration-color: #008080; font-weight: bold\">                                   </span>│     cross_section: 1.0                                                       \n",
       "│<span style=\"color: #008080; text-decoration-color: #008080; font-weight: bold\">                                   </span>│     file_pattern: '*.txt'                                                    \n",
       "│<span style=\"color: #008080; text-decoration-color: #008080; font-weight: bold\">                                   </span>│     tree_name: 'Events'                                                      \n",
       "│<span style=\"color: #008080; text-decoration-color: #008080; font-weight: bold\">                                   </span>│     weight_branch: None                                                      \n",
       "│<span style=\"color: #008080; text-decoration-color: #008080; font-weight: bold\">                                   </span>│   }                                                                          \n",
       "│<span style=\"color: #008080; text-decoration-color: #008080; font-weight: bold\">                                   </span>│ ]                                                                            \n",
       "│<span style=\"color: #008080; text-decoration-color: #008080; font-weight: bold\"> max_files                         </span>│ None                                                                         \n",
       "└───────────────────────────────────┴──────────────────────────────────────────────────────────────────────────────\n",
       "</pre>\n"
      ],
      "text/plain": [
       "\u001b[3m                                                Configuration: DATASETS                                            \u001b[0m\n",
       "┏━━━━━━━━━━━━━━━━━━━━━━━━━━━━━━━━━━━┳━━━━━━━━━━━━━━━━━━━━━━━━━━━━━━━━━━━━━━━━━━━━━━━━━━━━━━━━━━━━━━━━━━━━━━━━━━━━━━\n",
       "┃\u001b[1m \u001b[0m\u001b[1mKey                              \u001b[0m\u001b[1m \u001b[0m┃\u001b[1m \u001b[0m\u001b[1mValue                                                                        \u001b[0m\n",
       "┡━━━━━━━━━━━━━━━━━━━━━━━━━━━━━━━━━━━╇━━━━━━━━━━━━━━━━━━━━━━━━━━━━━━━━━━━━━━━━━━━━━━━━━━━━━━━━━━━━━━━━━━━━━━━━━━━━━━\n",
       "│\u001b[1;36m \u001b[0m\u001b[1;36mdatasets                         \u001b[0m\u001b[1;36m \u001b[0m│ [                                                                            \n",
       "│\u001b[1;36m                                   \u001b[0m│   [0]:                                                                       \n",
       "│\u001b[1;36m                                   \u001b[0m│ {                                                                            \n",
       "│\u001b[1;36m                                   \u001b[0m│     name: 'signal'                                                           \n",
       "│\u001b[1;36m                                   \u001b[0m│     directory: 'example/datasets/signal/m2000_w20/'                          \n",
       "│\u001b[1;36m                                   \u001b[0m│     cross_section: 1.0                                                       \n",
       "│\u001b[1;36m                                   \u001b[0m│     file_pattern: '*.txt'                                                    \n",
       "│\u001b[1;36m                                   \u001b[0m│     tree_name: 'Events'                                                      \n",
       "│\u001b[1;36m                                   \u001b[0m│     weight_branch: 'genWeight'                                               \n",
       "│\u001b[1;36m                                   \u001b[0m│   }                                                                          \n",
       "│\u001b[1;36m                                   \u001b[0m│   [1]:                                                                       \n",
       "│\u001b[1;36m                                   \u001b[0m│ {                                                                            \n",
       "│\u001b[1;36m                                   \u001b[0m│     name: 'ttbar_semilep'                                                    \n",
       "│\u001b[1;36m                                   \u001b[0m│     directory: 'example/datasets/ttbar_semilep/'                             \n",
       "│\u001b[1;36m                                   \u001b[0m│     cross_section: 364.31088                                                 \n",
       "│\u001b[1;36m                                   \u001b[0m│     file_pattern: '*.txt'                                                    \n",
       "│\u001b[1;36m                                   \u001b[0m│     tree_name: 'Events'                                                      \n",
       "│\u001b[1;36m                                   \u001b[0m│     weight_branch: 'genWeight'                                               \n",
       "│\u001b[1;36m                                   \u001b[0m│   }                                                                          \n",
       "│\u001b[1;36m                                   \u001b[0m│   [2]:                                                                       \n",
       "│\u001b[1;36m                                   \u001b[0m│ {                                                                            \n",
       "│\u001b[1;36m                                   \u001b[0m│     name: 'ttbar_had'                                                        \n",
       "│\u001b[1;36m                                   \u001b[0m│     directory: 'example/datasets/ttbar_had/'                                 \n",
       "│\u001b[1;36m                                   \u001b[0m│     cross_section: 380.11432                                                 \n",
       "│\u001b[1;36m                                   \u001b[0m│     file_pattern: '*.txt'                                                    \n",
       "│\u001b[1;36m                                   \u001b[0m│     tree_name: 'Events'                                                      \n",
       "│\u001b[1;36m                                   \u001b[0m│     weight_branch: 'genWeight'                                               \n",
       "│\u001b[1;36m                                   \u001b[0m│   }                                                                          \n",
       "│\u001b[1;36m                                   \u001b[0m│   [3]:                                                                       \n",
       "│\u001b[1;36m                                   \u001b[0m│ {                                                                            \n",
       "│\u001b[1;36m                                   \u001b[0m│     name: 'ttbar_lep'                                                        \n",
       "│\u001b[1;36m                                   \u001b[0m│     directory: 'example/datasets/ttbar_lep/'                                 \n",
       "│\u001b[1;36m                                   \u001b[0m│     cross_section: 87.3348                                                   \n",
       "│\u001b[1;36m                                   \u001b[0m│     file_pattern: '*.txt'                                                    \n",
       "│\u001b[1;36m                                   \u001b[0m│     tree_name: 'Events'                                                      \n",
       "│\u001b[1;36m                                   \u001b[0m│     weight_branch: 'genWeight'                                               \n",
       "│\u001b[1;36m                                   \u001b[0m│   }                                                                          \n",
       "│\u001b[1;36m                                   \u001b[0m│   [4]:                                                                       \n",
       "│\u001b[1;36m                                   \u001b[0m│ {                                                                            \n",
       "│\u001b[1;36m                                   \u001b[0m│     name: 'wjets'                                                            \n",
       "│\u001b[1;36m                                   \u001b[0m│     directory: 'example/datasets/wjets/'                                     \n",
       "│\u001b[1;36m                                   \u001b[0m│     cross_section: 61526.7                                                   \n",
       "│\u001b[1;36m                                   \u001b[0m│     file_pattern: '*.txt'                                                    \n",
       "│\u001b[1;36m                                   \u001b[0m│     tree_name: 'Events'                                                      \n",
       "│\u001b[1;36m                                   \u001b[0m│     weight_branch: 'genWeight'                                               \n",
       "│\u001b[1;36m                                   \u001b[0m│   }                                                                          \n",
       "│\u001b[1;36m                                   \u001b[0m│   [5]:                                                                       \n",
       "│\u001b[1;36m                                   \u001b[0m│ {                                                                            \n",
       "│\u001b[1;36m                                   \u001b[0m│     name: 'data'                                                             \n",
       "│\u001b[1;36m                                   \u001b[0m│     directory: 'example/datasets/data/'                                      \n",
       "│\u001b[1;36m                                   \u001b[0m│     cross_section: 1.0                                                       \n",
       "│\u001b[1;36m                                   \u001b[0m│     file_pattern: '*.txt'                                                    \n",
       "│\u001b[1;36m                                   \u001b[0m│     tree_name: 'Events'                                                      \n",
       "│\u001b[1;36m                                   \u001b[0m│     weight_branch: None                                                      \n",
       "│\u001b[1;36m                                   \u001b[0m│   }                                                                          \n",
       "│\u001b[1;36m                                   \u001b[0m│ ]                                                                            \n",
       "│\u001b[1;36m \u001b[0m\u001b[1;36mmax_files                        \u001b[0m\u001b[1;36m \u001b[0m│ None                                                                         \n",
       "└───────────────────────────────────┴──────────────────────────────────────────────────────────────────────────────\n"
      ]
     },
     "metadata": {},
     "output_type": "display_data"
    }
   ],
   "source": [
    "# Example: Demonstrate configuration comparison and change detection\n",
    "from user.configuration import config as original_config\n",
    "from utils.schema import Config, load_config_with_restricted_cli\n",
    "\n",
    "import copy\n",
    "\n",
    "# Save the original configuration for comparison\n",
    "config = copy.deepcopy(original_config)\n",
    "\n",
    "print(\"=== Full configuration ===\")\n",
    "display_config_table(config, expand=True)"
   ]
  },
  {
   "cell_type": "code",
   "execution_count": 3,
   "id": "69b2f6ae-0fc6-44d4-80ed-1e03ee9c51cf",
   "metadata": {},
   "outputs": [
    {
     "data": {
      "text/html": [
       "<pre style=\"white-space:pre;overflow-x:auto;line-height:normal;font-family:Menlo,'DejaVu Sans Mono',consolas,'Courier New',monospace\"><span style=\"font-style: italic\">                                                Configuration: DATASETS                                            </span>\n",
       "┏━━━━━━━━━━━━━━━━━━━━━━━━━━━━━━━━━━━┳━━━━━━━━━━━━━━━━━━━━━━━━━━━━━━━━━━━━━━━━━━━━━━━━━━━━━━━━━━━━━━━━━━━━━━━━━━━━━━\n",
       "┃<span style=\"font-weight: bold\"> Key                               </span>┃<span style=\"font-weight: bold\"> Value                                                                        </span>\n",
       "┡━━━━━━━━━━━━━━━━━━━━━━━━━━━━━━━━━━━╇━━━━━━━━━━━━━━━━━━━━━━━━━━━━━━━━━━━━━━━━━━━━━━━━━━━━━━━━━━━━━━━━━━━━━━━━━━━━━━\n",
       "│<span style=\"color: #008080; text-decoration-color: #008080; font-weight: bold\"> datasets                          </span>│ [                                                                            \n",
       "│<span style=\"color: #008080; text-decoration-color: #008080; font-weight: bold\">                                   </span>│   [0]:                                                                       \n",
       "│<span style=\"color: #008080; text-decoration-color: #008080; font-weight: bold\">                                   </span>│ {                                                                            \n",
       "│<span style=\"color: #008080; text-decoration-color: #008080; font-weight: bold\">                                   </span>│     name: 'signal'                                                           \n",
       "│<span style=\"color: #008080; text-decoration-color: #008080; font-weight: bold\">                                   </span>│     directory: 'example/datasets/signal/m2000_w20/'                          \n",
       "│<span style=\"color: #008080; text-decoration-color: #008080; font-weight: bold\">                                   </span>│     cross_section: 1.0                                                       \n",
       "│<span style=\"color: #008080; text-decoration-color: #008080; font-weight: bold\">                                   </span>│     file_pattern: '*.txt'                                                    \n",
       "│<span style=\"color: #008080; text-decoration-color: #008080; font-weight: bold\">                                   </span>│     tree_name: 'Events'                                                      \n",
       "│<span style=\"color: #008080; text-decoration-color: #008080; font-weight: bold\">                                   </span>│     weight_branch: 'genWeight'                                               \n",
       "│<span style=\"color: #008080; text-decoration-color: #008080; font-weight: bold\">                                   </span>│   }                                                                          \n",
       "│<span style=\"color: #008080; text-decoration-color: #008080; font-weight: bold\">                                   </span>│   [1]:                                                                       \n",
       "│<span style=\"color: #008080; text-decoration-color: #008080; font-weight: bold\">                                   </span>│ {                                                                            \n",
       "│<span style=\"color: #008080; text-decoration-color: #008080; font-weight: bold\">                                   </span>│     name: 'ttbar_semilep'                                                    \n",
       "│<span style=\"color: #008080; text-decoration-color: #008080; font-weight: bold\">                                   </span>│     directory: 'example/datasets/ttbar_semilep/'                             \n",
       "│<span style=\"color: #008080; text-decoration-color: #008080; font-weight: bold\">                                   </span>│     cross_section: 364.31088                                                 \n",
       "│<span style=\"color: #008080; text-decoration-color: #008080; font-weight: bold\">                                   </span>│     file_pattern: '*.txt'                                                    \n",
       "│<span style=\"color: #008080; text-decoration-color: #008080; font-weight: bold\">                                   </span>│     tree_name: 'Events'                                                      \n",
       "│<span style=\"color: #008080; text-decoration-color: #008080; font-weight: bold\">                                   </span>│     weight_branch: 'genWeight'                                               \n",
       "│<span style=\"color: #008080; text-decoration-color: #008080; font-weight: bold\">                                   </span>│   }                                                                          \n",
       "│<span style=\"color: #008080; text-decoration-color: #008080; font-weight: bold\">                                   </span>│   [2]:                                                                       \n",
       "│<span style=\"color: #008080; text-decoration-color: #008080; font-weight: bold\">                                   </span>│ {                                                                            \n",
       "│<span style=\"color: #008080; text-decoration-color: #008080; font-weight: bold\">                                   </span>│     name: 'ttbar_had'                                                        \n",
       "│<span style=\"color: #008080; text-decoration-color: #008080; font-weight: bold\">                                   </span>│     directory: 'example/datasets/ttbar_had/'                                 \n",
       "│<span style=\"color: #008080; text-decoration-color: #008080; font-weight: bold\">                                   </span>│     cross_section: 380.11432                                                 \n",
       "│<span style=\"color: #008080; text-decoration-color: #008080; font-weight: bold\">                                   </span>│     file_pattern: '*.txt'                                                    \n",
       "│<span style=\"color: #008080; text-decoration-color: #008080; font-weight: bold\">                                   </span>│     tree_name: 'Events'                                                      \n",
       "│<span style=\"color: #008080; text-decoration-color: #008080; font-weight: bold\">                                   </span>│     weight_branch: 'genWeight'                                               \n",
       "│<span style=\"color: #008080; text-decoration-color: #008080; font-weight: bold\">                                   </span>│   }                                                                          \n",
       "│<span style=\"color: #008080; text-decoration-color: #008080; font-weight: bold\">                                   </span>│   [3]:                                                                       \n",
       "│<span style=\"color: #008080; text-decoration-color: #008080; font-weight: bold\">                                   </span>│ {                                                                            \n",
       "│<span style=\"color: #008080; text-decoration-color: #008080; font-weight: bold\">                                   </span>│     name: 'ttbar_lep'                                                        \n",
       "│<span style=\"color: #008080; text-decoration-color: #008080; font-weight: bold\">                                   </span>│     directory: 'example/datasets/ttbar_lep/'                                 \n",
       "│<span style=\"color: #008080; text-decoration-color: #008080; font-weight: bold\">                                   </span>│     cross_section: 87.3348                                                   \n",
       "│<span style=\"color: #008080; text-decoration-color: #008080; font-weight: bold\">                                   </span>│     file_pattern: '*.txt'                                                    \n",
       "│<span style=\"color: #008080; text-decoration-color: #008080; font-weight: bold\">                                   </span>│     tree_name: 'Events'                                                      \n",
       "│<span style=\"color: #008080; text-decoration-color: #008080; font-weight: bold\">                                   </span>│     weight_branch: 'genWeight'                                               \n",
       "│<span style=\"color: #008080; text-decoration-color: #008080; font-weight: bold\">                                   </span>│   }                                                                          \n",
       "│<span style=\"color: #008080; text-decoration-color: #008080; font-weight: bold\">                                   </span>│   [4]:                                                                       \n",
       "│<span style=\"color: #008080; text-decoration-color: #008080; font-weight: bold\">                                   </span>│ {                                                                            \n",
       "│<span style=\"color: #008080; text-decoration-color: #008080; font-weight: bold\">                                   </span>│     name: 'wjets'                                                            \n",
       "│<span style=\"color: #008080; text-decoration-color: #008080; font-weight: bold\">                                   </span>│     directory: 'example/datasets/wjets/'                                     \n",
       "│<span style=\"color: #008080; text-decoration-color: #008080; font-weight: bold\">                                   </span>│     cross_section: 61526.7                                                   \n",
       "│<span style=\"color: #008080; text-decoration-color: #008080; font-weight: bold\">                                   </span>│     file_pattern: '*.txt'                                                    \n",
       "│<span style=\"color: #008080; text-decoration-color: #008080; font-weight: bold\">                                   </span>│     tree_name: 'Events'                                                      \n",
       "│<span style=\"color: #008080; text-decoration-color: #008080; font-weight: bold\">                                   </span>│     weight_branch: 'genWeight'                                               \n",
       "│<span style=\"color: #008080; text-decoration-color: #008080; font-weight: bold\">                                   </span>│   }                                                                          \n",
       "│<span style=\"color: #008080; text-decoration-color: #008080; font-weight: bold\">                                   </span>│   [5]:                                                                       \n",
       "│<span style=\"color: #008080; text-decoration-color: #008080; font-weight: bold\">                                   </span>│ {                                                                            \n",
       "│<span style=\"color: #008080; text-decoration-color: #008080; font-weight: bold\">                                   </span>│     name: 'data'                                                             \n",
       "│<span style=\"color: #008080; text-decoration-color: #008080; font-weight: bold\">                                   </span>│     directory: 'example/datasets/data/'                                      \n",
       "│<span style=\"color: #008080; text-decoration-color: #008080; font-weight: bold\">                                   </span>│     cross_section: 1.0                                                       \n",
       "│<span style=\"color: #008080; text-decoration-color: #008080; font-weight: bold\">                                   </span>│     file_pattern: '*.txt'                                                    \n",
       "│<span style=\"color: #008080; text-decoration-color: #008080; font-weight: bold\">                                   </span>│     tree_name: 'Events'                                                      \n",
       "│<span style=\"color: #008080; text-decoration-color: #008080; font-weight: bold\">                                   </span>│     weight_branch: None                                                      \n",
       "│<span style=\"color: #008080; text-decoration-color: #008080; font-weight: bold\">                                   </span>│   }                                                                          \n",
       "│<span style=\"color: #008080; text-decoration-color: #008080; font-weight: bold\">                                   </span>│ ]                                                                            \n",
       "│<span style=\"color: #008080; text-decoration-color: #008080; font-weight: bold\"> max_files                         </span>│ None                                                                         \n",
       "└───────────────────────────────────┴──────────────────────────────────────────────────────────────────────────────\n",
       "</pre>\n"
      ],
      "text/plain": [
       "\u001b[3m                                                Configuration: DATASETS                                            \u001b[0m\n",
       "┏━━━━━━━━━━━━━━━━━━━━━━━━━━━━━━━━━━━┳━━━━━━━━━━━━━━━━━━━━━━━━━━━━━━━━━━━━━━━━━━━━━━━━━━━━━━━━━━━━━━━━━━━━━━━━━━━━━━\n",
       "┃\u001b[1m \u001b[0m\u001b[1mKey                              \u001b[0m\u001b[1m \u001b[0m┃\u001b[1m \u001b[0m\u001b[1mValue                                                                        \u001b[0m\n",
       "┡━━━━━━━━━━━━━━━━━━━━━━━━━━━━━━━━━━━╇━━━━━━━━━━━━━━━━━━━━━━━━━━━━━━━━━━━━━━━━━━━━━━━━━━━━━━━━━━━━━━━━━━━━━━━━━━━━━━\n",
       "│\u001b[1;36m \u001b[0m\u001b[1;36mdatasets                         \u001b[0m\u001b[1;36m \u001b[0m│ [                                                                            \n",
       "│\u001b[1;36m                                   \u001b[0m│   [0]:                                                                       \n",
       "│\u001b[1;36m                                   \u001b[0m│ {                                                                            \n",
       "│\u001b[1;36m                                   \u001b[0m│     name: 'signal'                                                           \n",
       "│\u001b[1;36m                                   \u001b[0m│     directory: 'example/datasets/signal/m2000_w20/'                          \n",
       "│\u001b[1;36m                                   \u001b[0m│     cross_section: 1.0                                                       \n",
       "│\u001b[1;36m                                   \u001b[0m│     file_pattern: '*.txt'                                                    \n",
       "│\u001b[1;36m                                   \u001b[0m│     tree_name: 'Events'                                                      \n",
       "│\u001b[1;36m                                   \u001b[0m│     weight_branch: 'genWeight'                                               \n",
       "│\u001b[1;36m                                   \u001b[0m│   }                                                                          \n",
       "│\u001b[1;36m                                   \u001b[0m│   [1]:                                                                       \n",
       "│\u001b[1;36m                                   \u001b[0m│ {                                                                            \n",
       "│\u001b[1;36m                                   \u001b[0m│     name: 'ttbar_semilep'                                                    \n",
       "│\u001b[1;36m                                   \u001b[0m│     directory: 'example/datasets/ttbar_semilep/'                             \n",
       "│\u001b[1;36m                                   \u001b[0m│     cross_section: 364.31088                                                 \n",
       "│\u001b[1;36m                                   \u001b[0m│     file_pattern: '*.txt'                                                    \n",
       "│\u001b[1;36m                                   \u001b[0m│     tree_name: 'Events'                                                      \n",
       "│\u001b[1;36m                                   \u001b[0m│     weight_branch: 'genWeight'                                               \n",
       "│\u001b[1;36m                                   \u001b[0m│   }                                                                          \n",
       "│\u001b[1;36m                                   \u001b[0m│   [2]:                                                                       \n",
       "│\u001b[1;36m                                   \u001b[0m│ {                                                                            \n",
       "│\u001b[1;36m                                   \u001b[0m│     name: 'ttbar_had'                                                        \n",
       "│\u001b[1;36m                                   \u001b[0m│     directory: 'example/datasets/ttbar_had/'                                 \n",
       "│\u001b[1;36m                                   \u001b[0m│     cross_section: 380.11432                                                 \n",
       "│\u001b[1;36m                                   \u001b[0m│     file_pattern: '*.txt'                                                    \n",
       "│\u001b[1;36m                                   \u001b[0m│     tree_name: 'Events'                                                      \n",
       "│\u001b[1;36m                                   \u001b[0m│     weight_branch: 'genWeight'                                               \n",
       "│\u001b[1;36m                                   \u001b[0m│   }                                                                          \n",
       "│\u001b[1;36m                                   \u001b[0m│   [3]:                                                                       \n",
       "│\u001b[1;36m                                   \u001b[0m│ {                                                                            \n",
       "│\u001b[1;36m                                   \u001b[0m│     name: 'ttbar_lep'                                                        \n",
       "│\u001b[1;36m                                   \u001b[0m│     directory: 'example/datasets/ttbar_lep/'                                 \n",
       "│\u001b[1;36m                                   \u001b[0m│     cross_section: 87.3348                                                   \n",
       "│\u001b[1;36m                                   \u001b[0m│     file_pattern: '*.txt'                                                    \n",
       "│\u001b[1;36m                                   \u001b[0m│     tree_name: 'Events'                                                      \n",
       "│\u001b[1;36m                                   \u001b[0m│     weight_branch: 'genWeight'                                               \n",
       "│\u001b[1;36m                                   \u001b[0m│   }                                                                          \n",
       "│\u001b[1;36m                                   \u001b[0m│   [4]:                                                                       \n",
       "│\u001b[1;36m                                   \u001b[0m│ {                                                                            \n",
       "│\u001b[1;36m                                   \u001b[0m│     name: 'wjets'                                                            \n",
       "│\u001b[1;36m                                   \u001b[0m│     directory: 'example/datasets/wjets/'                                     \n",
       "│\u001b[1;36m                                   \u001b[0m│     cross_section: 61526.7                                                   \n",
       "│\u001b[1;36m                                   \u001b[0m│     file_pattern: '*.txt'                                                    \n",
       "│\u001b[1;36m                                   \u001b[0m│     tree_name: 'Events'                                                      \n",
       "│\u001b[1;36m                                   \u001b[0m│     weight_branch: 'genWeight'                                               \n",
       "│\u001b[1;36m                                   \u001b[0m│   }                                                                          \n",
       "│\u001b[1;36m                                   \u001b[0m│   [5]:                                                                       \n",
       "│\u001b[1;36m                                   \u001b[0m│ {                                                                            \n",
       "│\u001b[1;36m                                   \u001b[0m│     name: 'data'                                                             \n",
       "│\u001b[1;36m                                   \u001b[0m│     directory: 'example/datasets/data/'                                      \n",
       "│\u001b[1;36m                                   \u001b[0m│     cross_section: 1.0                                                       \n",
       "│\u001b[1;36m                                   \u001b[0m│     file_pattern: '*.txt'                                                    \n",
       "│\u001b[1;36m                                   \u001b[0m│     tree_name: 'Events'                                                      \n",
       "│\u001b[1;36m                                   \u001b[0m│     weight_branch: None                                                      \n",
       "│\u001b[1;36m                                   \u001b[0m│   }                                                                          \n",
       "│\u001b[1;36m                                   \u001b[0m│ ]                                                                            \n",
       "│\u001b[1;36m \u001b[0m\u001b[1;36mmax_files                        \u001b[0m\u001b[1;36m \u001b[0m│ None                                                                         \n",
       "└───────────────────────────────────┴──────────────────────────────────────────────────────────────────────────────\n"
      ]
     },
     "metadata": {},
     "output_type": "display_data"
    },
    {
     "name": "stdout",
     "output_type": "stream",
     "text": [
      "=== SHOW ONLY CHANGES ===\n"
     ]
    },
    {
     "data": {
      "text/html": [
       "<pre style=\"white-space:pre;overflow-x:auto;line-height:normal;font-family:Menlo,'DejaVu Sans Mono',consolas,'Courier New',monospace\"><span style=\"font-style: italic\">                                          Configuration: DATASETS </span><span style=\"color: #808000; text-decoration-color: #808000; font-style: italic\">(1 changes)</span><span style=\"font-style: italic\">                                      </span>\n",
       "┏━━━━━━━━━━━━━━━━━━━━━━━━━━━━┳━━━━━━━━━━━━━━━━━━━━━━━━━━━━━━━━━━━━━━━━━━━━━━━━━━━━━━━━━━━━━━━━━━━━━┳━━━━━━━━━━━━━━━\n",
       "┃<span style=\"font-weight: bold\"> Key                        </span>┃<span style=\"font-weight: bold\"> Value                                                               </span>┃<span style=\"font-weight: bold\">      Status   </span>\n",
       "┡━━━━━━━━━━━━━━━━━━━━━━━━━━━━╇━━━━━━━━━━━━━━━━━━━━━━━━━━━━━━━━━━━━━━━━━━━━━━━━━━━━━━━━━━━━━━━━━━━━━╇━━━━━━━━━━━━━━━\n",
       "│<span style=\"color: #008080; text-decoration-color: #008080; font-weight: bold\"> max_files                  </span>│ 1                                                                   │<span style=\"font-weight: bold\">      </span><span style=\"color: #808000; text-decoration-color: #808000; font-weight: bold\">CHANGED</span><span style=\"font-weight: bold\">  </span>\n",
       "└────────────────────────────┴─────────────────────────────────────────────────────────────────────┴───────────────\n",
       "</pre>\n"
      ],
      "text/plain": [
       "\u001b[3m                                          Configuration: DATASETS \u001b[0m\u001b[3;33m(1 changes)\u001b[0m\u001b[3m                                      \u001b[0m\n",
       "┏━━━━━━━━━━━━━━━━━━━━━━━━━━━━┳━━━━━━━━━━━━━━━━━━━━━━━━━━━━━━━━━━━━━━━━━━━━━━━━━━━━━━━━━━━━━━━━━━━━━┳━━━━━━━━━━━━━━━\n",
       "┃\u001b[1m \u001b[0m\u001b[1mKey                       \u001b[0m\u001b[1m \u001b[0m┃\u001b[1m \u001b[0m\u001b[1mValue                                                              \u001b[0m\u001b[1m \u001b[0m┃\u001b[1m \u001b[0m\u001b[1m     Status   \u001b[0m\n",
       "┡━━━━━━━━━━━━━━━━━━━━━━━━━━━━╇━━━━━━━━━━━━━━━━━━━━━━━━━━━━━━━━━━━━━━━━━━━━━━━━━━━━━━━━━━━━━━━━━━━━━╇━━━━━━━━━━━━━━━\n",
       "│\u001b[1;36m \u001b[0m\u001b[1;36mmax_files                 \u001b[0m\u001b[1;36m \u001b[0m│ 1                                                                   │\u001b[1m \u001b[0m\u001b[1m     \u001b[0m\u001b[1;33mCHANGED\u001b[0m\u001b[1m  \u001b[0m\n",
       "└────────────────────────────┴─────────────────────────────────────────────────────────────────────┴───────────────\n"
      ]
     },
     "metadata": {},
     "output_type": "display_data"
    },
    {
     "name": "stdout",
     "output_type": "stream",
     "text": [
      "✅ Processed CLI arguments and loaded full configuration\n"
     ]
    }
   ],
   "source": [
    "# Let's look at the datasets config\n",
    "display_config_table({\"datasets\": config[\"datasets\"]},\n",
    "                    expand=True)\n",
    "\n",
    "# Make a modification\n",
    "config[\"datasets\"][\"max_files\"] = 1 # Limit to 1 files per dataset\n",
    "\n",
    "print(\"=== SHOW ONLY CHANGES ===\")\n",
    "display_config_table({\"datasets\": config[\"datasets\"]},\n",
    "                    expand=True,\n",
    "                    compare_with={\"datasets\": original_config[\"datasets\"]},\n",
    "                    show_only_changes=True)\n",
    "\n",
    "cli_args = []  # No CLI overrides for this demo\n",
    "full_config = load_config_with_restricted_cli(config, cli_args)\n",
    "\n",
    "print(\"✅ Processed CLI arguments and loaded full configuration\")\n",
    "validated_config = Config(**full_config)  # This is the key validation step!"
   ]
  },
  {
   "cell_type": "markdown",
   "id": "29092ea4",
   "metadata": {},
   "source": [
    "# 3. Output Manager & Directory Structure\n",
    "\n",
    "The framework uses a centralized `OutputDirectoryManager` (`utils/output_manager.py`) to organize all analysis outputs."
   ]
  },
  {
   "cell_type": "code",
   "execution_count": 4,
   "id": "b1c26af2",
   "metadata": {},
   "outputs": [
    {
     "data": {
      "text/html": [
       "<pre style=\"white-space:pre;overflow-x:auto;line-height:normal;font-family:Menlo,'DejaVu Sans Mono',consolas,'Courier New',monospace\"><span style=\"color: #7fbfbf; text-decoration-color: #7fbfbf\">16:04:44 </span><span style=\"color: #000080; text-decoration-color: #000080\">INFO    </span> <span style=\"color: #000000; text-decoration-color: #000000\">Output directory manager initialized with root:                              </span><a href=\"file:///Users/moaly/Work/iris-hep/integration-challenge/cms/utils/output_manager.py\" target=\"_blank\"><span style=\"color: #7f7f7f; text-decoration-color: #7f7f7f\">output_manager.py</span></a><span style=\"color: #7f7f7f; text-decoration-color: #7f7f7f\">:</span><a href=\"file:///Users/moaly/Work/iris-hep/integration-challenge/cms/utils/output_manager.py#73\" target=\"_blank\"><span style=\"color: #7f7f7f; text-decoration-color: #7f7f7f\">73</span></a>\n",
       "<span style=\"color: #7fbfbf; text-decoration-color: #7fbfbf\">         </span>         <span style=\"color: #000000; text-decoration-color: #000000\">/Users/moaly/Work/iris-hep/integration-challenge/cms/example/outputs         </span><span style=\"color: #7f7f7f; text-decoration-color: #7f7f7f\">                    </span>\n",
       "</pre>\n"
      ],
      "text/plain": [
       "\u001b[2;36m16:04:44\u001b[0m\u001b[2;36m \u001b[0m\u001b[34mINFO    \u001b[0m \u001b[39mOutput directory manager initialized with root:                             \u001b[0m\u001b[39m \u001b[0m\u001b]8;id=361464;file:///Users/moaly/Work/iris-hep/integration-challenge/cms/utils/output_manager.py\u001b\\\u001b[2moutput_manager.py\u001b[0m\u001b]8;;\u001b\\\u001b[2m:\u001b[0m\u001b]8;id=625353;file:///Users/moaly/Work/iris-hep/integration-challenge/cms/utils/output_manager.py#73\u001b\\\u001b[2m73\u001b[0m\u001b]8;;\u001b\\\n",
       "\u001b[2;36m         \u001b[0m         \u001b[39m/Users/moaly/Work/iris-hep/integration-challenge/cms/example/\u001b[0m\u001b[39moutputs\u001b[0m\u001b[39m        \u001b[0m\u001b[39m \u001b[0m\u001b[2m                    \u001b[0m\n"
      ]
     },
     "metadata": {},
     "output_type": "display_data"
    },
    {
     "name": "stdout",
     "output_type": "stream",
     "text": [
      "✅ Created OutputDirectoryManager with validated paths\n"
     ]
    }
   ],
   "source": [
    "from utils.output_manager import OutputDirectoryManager\n",
    "\n",
    "output_manager = OutputDirectoryManager(\n",
    "    root_output_dir=validated_config.general.output_dir,\n",
    "    cache_dir=validated_config.general.cache_dir,\n",
    "    metadata_dir=validated_config.general.metadata_dir,\n",
    "    skimmed_dir=validated_config.general.skimmed_dir\n",
    ")\n",
    "\n",
    "print(\"✅ Created OutputDirectoryManager with validated paths\")\n"
   ]
  },
  {
   "cell_type": "markdown",
   "id": "e7fa7bd4",
   "metadata": {},
   "source": [
    "## 4. Metadata Extraction\n",
    "\n",
    "Metadata extraction runs `coffea`'s preprocessor to build analysis workitems, a `coffea`-compatible fileset and a summary of the processed `NanoAOD`s. Its outputs stay in memory, but are also stored in `JSON` files to allow re-runing subsequent steps without pre-processing every time."
   ]
  },
  {
   "cell_type": "code",
   "execution_count": 5,
   "id": "9fb1e349",
   "metadata": {},
   "outputs": [
    {
     "data": {
      "text/html": [
       "<pre style=\"white-space:pre;overflow-x:auto;line-height:normal;font-family:Menlo,'DejaVu Sans Mono',consolas,'Courier New',monospace\"><span style=\"color: #7fbfbf; text-decoration-color: #7fbfbf\">         </span><span style=\"color: #000080; text-decoration-color: #000080\">INFO    </span> <span style=\"color: #000000; text-decoration-color: #000000\">Initialized dataset manager with </span><span style=\"color: #008080; text-decoration-color: #008080; font-weight: bold\">6</span><span style=\"color: #000000; text-decoration-color: #000000\"> datasets                                        </span><a href=\"file:///Users/moaly/Work/iris-hep/integration-challenge/cms/utils/datasets.py\" target=\"_blank\"><span style=\"color: #7f7f7f; text-decoration-color: #7f7f7f\">datasets.py</span></a><span style=\"color: #7f7f7f; text-decoration-color: #7f7f7f\">:</span><a href=\"file:///Users/moaly/Work/iris-hep/integration-challenge/cms/utils/datasets.py#38\" target=\"_blank\"><span style=\"color: #7f7f7f; text-decoration-color: #7f7f7f\">38</span></a>\n",
       "</pre>\n"
      ],
      "text/plain": [
       "\u001b[2;36m        \u001b[0m\u001b[2;36m \u001b[0m\u001b[34mINFO    \u001b[0m \u001b[39mInitialized dataset manager with \u001b[0m\u001b[1;36m6\u001b[0m\u001b[39m datasets                                       \u001b[0m\u001b[39m \u001b[0m\u001b]8;id=982917;file:///Users/moaly/Work/iris-hep/integration-challenge/cms/utils/datasets.py\u001b\\\u001b[2mdatasets.py\u001b[0m\u001b]8;;\u001b\\\u001b[2m:\u001b[0m\u001b]8;id=878036;file:///Users/moaly/Work/iris-hep/integration-challenge/cms/utils/datasets.py#38\u001b\\\u001b[2m38\u001b[0m\u001b]8;;\u001b\\\n"
      ]
     },
     "metadata": {},
     "output_type": "display_data"
    },
    {
     "data": {
      "text/html": [
       "<pre style=\"white-space:pre;overflow-x:auto;line-height:normal;font-family:Menlo,'DejaVu Sans Mono',consolas,'Courier New',monospace\"><span style=\"color: #7fbfbf; text-decoration-color: #7fbfbf\">         </span><span style=\"color: #000080; text-decoration-color: #000080\">INFO    </span> <span style=\"color: #000000; text-decoration-color: #000000\">Starting metadata generation workflow</span><span style=\"color: #808000; text-decoration-color: #808000\">...</span><span style=\"color: #000000; text-decoration-color: #000000\">                                </span><a href=\"file:///Users/moaly/Work/iris-hep/integration-challenge/cms/utils/metadata_extractor.py\" target=\"_blank\"><span style=\"color: #7f7f7f; text-decoration-color: #7f7f7f\">metadata_extractor.py</span></a><span style=\"color: #7f7f7f; text-decoration-color: #7f7f7f\">:</span><a href=\"file:///Users/moaly/Work/iris-hep/integration-challenge/cms/utils/metadata_extractor.py#404\" target=\"_blank\"><span style=\"color: #7f7f7f; text-decoration-color: #7f7f7f\">404</span></a>\n",
       "</pre>\n"
      ],
      "text/plain": [
       "\u001b[2;36m        \u001b[0m\u001b[2;36m \u001b[0m\u001b[34mINFO    \u001b[0m \u001b[39mStarting metadata generation workflow\u001b[0m\u001b[33m...\u001b[0m\u001b[39m                               \u001b[0m\u001b[39m \u001b[0m\u001b]8;id=141435;file:///Users/moaly/Work/iris-hep/integration-challenge/cms/utils/metadata_extractor.py\u001b\\\u001b[2mmetadata_extractor.py\u001b[0m\u001b]8;;\u001b\\\u001b[2m:\u001b[0m\u001b]8;id=622211;file:///Users/moaly/Work/iris-hep/integration-challenge/cms/utils/metadata_extractor.py#404\u001b\\\u001b[2m404\u001b[0m\u001b]8;;\u001b\\\n"
      ]
     },
     "metadata": {},
     "output_type": "display_data"
    },
    {
     "data": {
      "text/html": [
       "<pre style=\"white-space:pre;overflow-x:auto;line-height:normal;font-family:Menlo,'DejaVu Sans Mono',consolas,'Courier New',monospace\"><span style=\"color: #7fbfbf; text-decoration-color: #7fbfbf\">         </span><span style=\"color: #000080; text-decoration-color: #000080\">INFO    </span> <span style=\"color: #000000; text-decoration-color: #000000\">Building fileset for process: signal                                    </span><a href=\"file:///Users/moaly/Work/iris-hep/integration-challenge/cms/utils/metadata_extractor.py\" target=\"_blank\"><span style=\"color: #7f7f7f; text-decoration-color: #7f7f7f\">metadata_extractor.py</span></a><span style=\"color: #7f7f7f; text-decoration-color: #7f7f7f\">:</span><a href=\"file:///Users/moaly/Work/iris-hep/integration-challenge/cms/utils/metadata_extractor.py#165\" target=\"_blank\"><span style=\"color: #7f7f7f; text-decoration-color: #7f7f7f\">165</span></a>\n",
       "</pre>\n"
      ],
      "text/plain": [
       "\u001b[2;36m        \u001b[0m\u001b[2;36m \u001b[0m\u001b[34mINFO    \u001b[0m \u001b[39mBuilding fileset for process: signal                                   \u001b[0m\u001b[39m \u001b[0m\u001b]8;id=512508;file:///Users/moaly/Work/iris-hep/integration-challenge/cms/utils/metadata_extractor.py\u001b\\\u001b[2mmetadata_extractor.py\u001b[0m\u001b]8;;\u001b\\\u001b[2m:\u001b[0m\u001b]8;id=934882;file:///Users/moaly/Work/iris-hep/integration-challenge/cms/utils/metadata_extractor.py#165\u001b\\\u001b[2m165\u001b[0m\u001b]8;;\u001b\\\n"
      ]
     },
     "metadata": {},
     "output_type": "display_data"
    },
    {
     "data": {
      "text/html": [
       "<pre style=\"white-space:pre;overflow-x:auto;line-height:normal;font-family:Menlo,'DejaVu Sans Mono',consolas,'Courier New',monospace\"><span style=\"color: #7fbfbf; text-decoration-color: #7fbfbf\">         </span><span style=\"color: #000080; text-decoration-color: #000080\">INFO    </span> <span style=\"color: #000000; text-decoration-color: #000000\">Building fileset for process: ttbar_semilep                             </span><a href=\"file:///Users/moaly/Work/iris-hep/integration-challenge/cms/utils/metadata_extractor.py\" target=\"_blank\"><span style=\"color: #7f7f7f; text-decoration-color: #7f7f7f\">metadata_extractor.py</span></a><span style=\"color: #7f7f7f; text-decoration-color: #7f7f7f\">:</span><a href=\"file:///Users/moaly/Work/iris-hep/integration-challenge/cms/utils/metadata_extractor.py#165\" target=\"_blank\"><span style=\"color: #7f7f7f; text-decoration-color: #7f7f7f\">165</span></a>\n",
       "</pre>\n"
      ],
      "text/plain": [
       "\u001b[2;36m        \u001b[0m\u001b[2;36m \u001b[0m\u001b[34mINFO    \u001b[0m \u001b[39mBuilding fileset for process: ttbar_semilep                            \u001b[0m\u001b[39m \u001b[0m\u001b]8;id=219680;file:///Users/moaly/Work/iris-hep/integration-challenge/cms/utils/metadata_extractor.py\u001b\\\u001b[2mmetadata_extractor.py\u001b[0m\u001b]8;;\u001b\\\u001b[2m:\u001b[0m\u001b]8;id=978087;file:///Users/moaly/Work/iris-hep/integration-challenge/cms/utils/metadata_extractor.py#165\u001b\\\u001b[2m165\u001b[0m\u001b]8;;\u001b\\\n"
      ]
     },
     "metadata": {},
     "output_type": "display_data"
    },
    {
     "data": {
      "text/html": [
       "<pre style=\"white-space:pre;overflow-x:auto;line-height:normal;font-family:Menlo,'DejaVu Sans Mono',consolas,'Courier New',monospace\"><span style=\"color: #7fbfbf; text-decoration-color: #7fbfbf\">         </span><span style=\"color: #000080; text-decoration-color: #000080\">INFO    </span> <span style=\"color: #000000; text-decoration-color: #000000\">Building fileset for process: ttbar_had                                 </span><a href=\"file:///Users/moaly/Work/iris-hep/integration-challenge/cms/utils/metadata_extractor.py\" target=\"_blank\"><span style=\"color: #7f7f7f; text-decoration-color: #7f7f7f\">metadata_extractor.py</span></a><span style=\"color: #7f7f7f; text-decoration-color: #7f7f7f\">:</span><a href=\"file:///Users/moaly/Work/iris-hep/integration-challenge/cms/utils/metadata_extractor.py#165\" target=\"_blank\"><span style=\"color: #7f7f7f; text-decoration-color: #7f7f7f\">165</span></a>\n",
       "</pre>\n"
      ],
      "text/plain": [
       "\u001b[2;36m        \u001b[0m\u001b[2;36m \u001b[0m\u001b[34mINFO    \u001b[0m \u001b[39mBuilding fileset for process: ttbar_had                                \u001b[0m\u001b[39m \u001b[0m\u001b]8;id=844192;file:///Users/moaly/Work/iris-hep/integration-challenge/cms/utils/metadata_extractor.py\u001b\\\u001b[2mmetadata_extractor.py\u001b[0m\u001b]8;;\u001b\\\u001b[2m:\u001b[0m\u001b]8;id=123374;file:///Users/moaly/Work/iris-hep/integration-challenge/cms/utils/metadata_extractor.py#165\u001b\\\u001b[2m165\u001b[0m\u001b]8;;\u001b\\\n"
      ]
     },
     "metadata": {},
     "output_type": "display_data"
    },
    {
     "data": {
      "text/html": [
       "<pre style=\"white-space:pre;overflow-x:auto;line-height:normal;font-family:Menlo,'DejaVu Sans Mono',consolas,'Courier New',monospace\"><span style=\"color: #7fbfbf; text-decoration-color: #7fbfbf\">         </span><span style=\"color: #000080; text-decoration-color: #000080\">INFO    </span> <span style=\"color: #000000; text-decoration-color: #000000\">Building fileset for process: ttbar_lep                                 </span><a href=\"file:///Users/moaly/Work/iris-hep/integration-challenge/cms/utils/metadata_extractor.py\" target=\"_blank\"><span style=\"color: #7f7f7f; text-decoration-color: #7f7f7f\">metadata_extractor.py</span></a><span style=\"color: #7f7f7f; text-decoration-color: #7f7f7f\">:</span><a href=\"file:///Users/moaly/Work/iris-hep/integration-challenge/cms/utils/metadata_extractor.py#165\" target=\"_blank\"><span style=\"color: #7f7f7f; text-decoration-color: #7f7f7f\">165</span></a>\n",
       "</pre>\n"
      ],
      "text/plain": [
       "\u001b[2;36m        \u001b[0m\u001b[2;36m \u001b[0m\u001b[34mINFO    \u001b[0m \u001b[39mBuilding fileset for process: ttbar_lep                                \u001b[0m\u001b[39m \u001b[0m\u001b]8;id=170270;file:///Users/moaly/Work/iris-hep/integration-challenge/cms/utils/metadata_extractor.py\u001b\\\u001b[2mmetadata_extractor.py\u001b[0m\u001b]8;;\u001b\\\u001b[2m:\u001b[0m\u001b]8;id=664718;file:///Users/moaly/Work/iris-hep/integration-challenge/cms/utils/metadata_extractor.py#165\u001b\\\u001b[2m165\u001b[0m\u001b]8;;\u001b\\\n"
      ]
     },
     "metadata": {},
     "output_type": "display_data"
    },
    {
     "data": {
      "text/html": [
       "<pre style=\"white-space:pre;overflow-x:auto;line-height:normal;font-family:Menlo,'DejaVu Sans Mono',consolas,'Courier New',monospace\"><span style=\"color: #7fbfbf; text-decoration-color: #7fbfbf\">         </span><span style=\"color: #000080; text-decoration-color: #000080\">INFO    </span> <span style=\"color: #000000; text-decoration-color: #000000\">Building fileset for process: wjets                                     </span><a href=\"file:///Users/moaly/Work/iris-hep/integration-challenge/cms/utils/metadata_extractor.py\" target=\"_blank\"><span style=\"color: #7f7f7f; text-decoration-color: #7f7f7f\">metadata_extractor.py</span></a><span style=\"color: #7f7f7f; text-decoration-color: #7f7f7f\">:</span><a href=\"file:///Users/moaly/Work/iris-hep/integration-challenge/cms/utils/metadata_extractor.py#165\" target=\"_blank\"><span style=\"color: #7f7f7f; text-decoration-color: #7f7f7f\">165</span></a>\n",
       "</pre>\n"
      ],
      "text/plain": [
       "\u001b[2;36m        \u001b[0m\u001b[2;36m \u001b[0m\u001b[34mINFO    \u001b[0m \u001b[39mBuilding fileset for process: wjets                                    \u001b[0m\u001b[39m \u001b[0m\u001b]8;id=894455;file:///Users/moaly/Work/iris-hep/integration-challenge/cms/utils/metadata_extractor.py\u001b\\\u001b[2mmetadata_extractor.py\u001b[0m\u001b]8;;\u001b\\\u001b[2m:\u001b[0m\u001b]8;id=381881;file:///Users/moaly/Work/iris-hep/integration-challenge/cms/utils/metadata_extractor.py#165\u001b\\\u001b[2m165\u001b[0m\u001b]8;;\u001b\\\n"
      ]
     },
     "metadata": {},
     "output_type": "display_data"
    },
    {
     "data": {
      "text/html": [
       "<pre style=\"white-space:pre;overflow-x:auto;line-height:normal;font-family:Menlo,'DejaVu Sans Mono',consolas,'Courier New',monospace\"><span style=\"color: #7fbfbf; text-decoration-color: #7fbfbf\">         </span><span style=\"color: #000080; text-decoration-color: #000080\">INFO    </span> <span style=\"color: #000000; text-decoration-color: #000000\">Building fileset for process: data                                      </span><a href=\"file:///Users/moaly/Work/iris-hep/integration-challenge/cms/utils/metadata_extractor.py\" target=\"_blank\"><span style=\"color: #7f7f7f; text-decoration-color: #7f7f7f\">metadata_extractor.py</span></a><span style=\"color: #7f7f7f; text-decoration-color: #7f7f7f\">:</span><a href=\"file:///Users/moaly/Work/iris-hep/integration-challenge/cms/utils/metadata_extractor.py#165\" target=\"_blank\"><span style=\"color: #7f7f7f; text-decoration-color: #7f7f7f\">165</span></a>\n",
       "</pre>\n"
      ],
      "text/plain": [
       "\u001b[2;36m        \u001b[0m\u001b[2;36m \u001b[0m\u001b[34mINFO    \u001b[0m \u001b[39mBuilding fileset for process: data                                     \u001b[0m\u001b[39m \u001b[0m\u001b]8;id=875491;file:///Users/moaly/Work/iris-hep/integration-challenge/cms/utils/metadata_extractor.py\u001b\\\u001b[2mmetadata_extractor.py\u001b[0m\u001b]8;;\u001b\\\u001b[2m:\u001b[0m\u001b]8;id=82595;file:///Users/moaly/Work/iris-hep/integration-challenge/cms/utils/metadata_extractor.py#165\u001b\\\u001b[2m165\u001b[0m\u001b]8;;\u001b\\\n"
      ]
     },
     "metadata": {},
     "output_type": "display_data"
    },
    {
     "data": {
      "text/html": [
       "<pre style=\"white-space:pre;overflow-x:auto;line-height:normal;font-family:Menlo,'DejaVu Sans Mono',consolas,'Courier New',monospace\"><span style=\"color: #7fbfbf; text-decoration-color: #7fbfbf\">         </span><span style=\"color: #000080; text-decoration-color: #000080\">INFO    </span> <span style=\"color: #000000; text-decoration-color: #000000\">Fileset JSON saved to                                                   </span><a href=\"file:///Users/moaly/Work/iris-hep/integration-challenge/cms/utils/metadata_extractor.py\" target=\"_blank\"><span style=\"color: #7f7f7f; text-decoration-color: #7f7f7f\">metadata_extractor.py</span></a><span style=\"color: #7f7f7f; text-decoration-color: #7f7f7f\">:</span><a href=\"file:///Users/moaly/Work/iris-hep/integration-challenge/cms/utils/metadata_extractor.py#228\" target=\"_blank\"><span style=\"color: #7f7f7f; text-decoration-color: #7f7f7f\">228</span></a>\n",
       "<span style=\"color: #7fbfbf; text-decoration-color: #7fbfbf\">         </span>         <span style=\"color: #000000; text-decoration-color: #000000\">/Users/moaly/Work/iris-hep/integration-challenge/cms/example/outputs/me </span><span style=\"color: #7f7f7f; text-decoration-color: #7f7f7f\">                         </span>\n",
       "<span style=\"color: #7fbfbf; text-decoration-color: #7fbfbf\">         </span>         <span style=\"color: #000000; text-decoration-color: #000000\">tadata/fileset.json                                                     </span><span style=\"color: #7f7f7f; text-decoration-color: #7f7f7f\">                         </span>\n",
       "</pre>\n"
      ],
      "text/plain": [
       "\u001b[2;36m        \u001b[0m\u001b[2;36m \u001b[0m\u001b[34mINFO    \u001b[0m \u001b[39mFileset JSON saved to                                                  \u001b[0m\u001b[39m \u001b[0m\u001b]8;id=376205;file:///Users/moaly/Work/iris-hep/integration-challenge/cms/utils/metadata_extractor.py\u001b\\\u001b[2mmetadata_extractor.py\u001b[0m\u001b]8;;\u001b\\\u001b[2m:\u001b[0m\u001b]8;id=864467;file:///Users/moaly/Work/iris-hep/integration-challenge/cms/utils/metadata_extractor.py#228\u001b\\\u001b[2m228\u001b[0m\u001b]8;;\u001b\\\n",
       "\u001b[2;36m         \u001b[0m         \u001b[39m/Users/moaly/Work/iris-hep/integration-challenge/cms/example/outputs/me\u001b[0m\u001b[39m \u001b[0m\u001b[2m                         \u001b[0m\n",
       "\u001b[2;36m         \u001b[0m         \u001b[39mtadata/\u001b[0m\u001b[39mfileset.json\u001b[0m\u001b[39m                                                    \u001b[0m\u001b[39m \u001b[0m\u001b[2m                         \u001b[0m\n"
      ]
     },
     "metadata": {},
     "output_type": "display_data"
    },
    {
     "data": {
      "text/html": [
       "<pre style=\"white-space:pre;overflow-x:auto;line-height:normal;font-family:Menlo,'DejaVu Sans Mono',consolas,'Courier New',monospace\"><span style=\"color: #7fbfbf; text-decoration-color: #7fbfbf\">         </span><span style=\"color: #000080; text-decoration-color: #000080\">INFO    </span> <span style=\"color: #000000; text-decoration-color: #000000\">Extracting metadata using coffea.dataset_tools.preprocess               </span><a href=\"file:///Users/moaly/Work/iris-hep/integration-challenge/cms/utils/metadata_extractor.py\" target=\"_blank\"><span style=\"color: #7f7f7f; text-decoration-color: #7f7f7f\">metadata_extractor.py</span></a><span style=\"color: #7f7f7f; text-decoration-color: #7f7f7f\">:</span><a href=\"file:///Users/moaly/Work/iris-hep/integration-challenge/cms/utils/metadata_extractor.py#282\" target=\"_blank\"><span style=\"color: #7f7f7f; text-decoration-color: #7f7f7f\">282</span></a>\n",
       "</pre>\n"
      ],
      "text/plain": [
       "\u001b[2;36m        \u001b[0m\u001b[2;36m \u001b[0m\u001b[34mINFO    \u001b[0m \u001b[39mExtracting metadata using coffea.dataset_tools.preprocess              \u001b[0m\u001b[39m \u001b[0m\u001b]8;id=266088;file:///Users/moaly/Work/iris-hep/integration-challenge/cms/utils/metadata_extractor.py\u001b\\\u001b[2mmetadata_extractor.py\u001b[0m\u001b]8;;\u001b\\\u001b[2m:\u001b[0m\u001b]8;id=765795;file:///Users/moaly/Work/iris-hep/integration-challenge/cms/utils/metadata_extractor.py#282\u001b\\\u001b[2m282\u001b[0m\u001b]8;;\u001b\\\n"
      ]
     },
     "metadata": {},
     "output_type": "display_data"
    },
    {
     "data": {
      "application/vnd.jupyter.widget-view+json": {
       "model_id": "9b584e4a57f84b82b92f6aa54df864d6",
       "version_major": 2,
       "version_minor": 0
      },
      "text/plain": [
       "Output()"
      ]
     },
     "metadata": {},
     "output_type": "display_data"
    },
    {
     "data": {
      "text/html": [
       "<pre style=\"white-space:pre;overflow-x:auto;line-height:normal;font-family:Menlo,'DejaVu Sans Mono',consolas,'Courier New',monospace\"></pre>\n"
      ],
      "text/plain": []
     },
     "metadata": {},
     "output_type": "display_data"
    },
    {
     "data": {
      "text/html": [
       "<pre style=\"white-space:pre;overflow-x:auto;line-height:normal;font-family:Menlo,'DejaVu Sans Mono',consolas,'Courier New',monospace\"><span style=\"color: #7fbfbf; text-decoration-color: #7fbfbf\">16:05:00 </span><span style=\"color: #000080; text-decoration-color: #000080\">INFO    </span> <span style=\"color: #000000; text-decoration-color: #000000\">WorkItems metadata saved to                                             </span><a href=\"file:///Users/moaly/Work/iris-hep/integration-challenge/cms/utils/metadata_extractor.py\" target=\"_blank\"><span style=\"color: #7f7f7f; text-decoration-color: #7f7f7f\">metadata_extractor.py</span></a><span style=\"color: #7f7f7f; text-decoration-color: #7f7f7f\">:</span><a href=\"file:///Users/moaly/Work/iris-hep/integration-challenge/cms/utils/metadata_extractor.py#705\" target=\"_blank\"><span style=\"color: #7f7f7f; text-decoration-color: #7f7f7f\">705</span></a>\n",
       "<span style=\"color: #7fbfbf; text-decoration-color: #7fbfbf\">         </span>         <span style=\"color: #000000; text-decoration-color: #000000\">/Users/moaly/Work/iris-hep/integration-challenge/cms/example/outputs/me </span><span style=\"color: #7f7f7f; text-decoration-color: #7f7f7f\">                         </span>\n",
       "<span style=\"color: #7fbfbf; text-decoration-color: #7fbfbf\">         </span>         <span style=\"color: #000000; text-decoration-color: #000000\">tadata/workitems.json                                                   </span><span style=\"color: #7f7f7f; text-decoration-color: #7f7f7f\">                         </span>\n",
       "</pre>\n"
      ],
      "text/plain": [
       "\u001b[2;36m16:05:00\u001b[0m\u001b[2;36m \u001b[0m\u001b[34mINFO    \u001b[0m \u001b[39mWorkItems metadata saved to                                            \u001b[0m\u001b[39m \u001b[0m\u001b]8;id=743010;file:///Users/moaly/Work/iris-hep/integration-challenge/cms/utils/metadata_extractor.py\u001b\\\u001b[2mmetadata_extractor.py\u001b[0m\u001b]8;;\u001b\\\u001b[2m:\u001b[0m\u001b]8;id=422516;file:///Users/moaly/Work/iris-hep/integration-challenge/cms/utils/metadata_extractor.py#705\u001b\\\u001b[2m705\u001b[0m\u001b]8;;\u001b\\\n",
       "\u001b[2;36m         \u001b[0m         \u001b[39m/Users/moaly/Work/iris-hep/integration-challenge/cms/example/outputs/me\u001b[0m\u001b[39m \u001b[0m\u001b[2m                         \u001b[0m\n",
       "\u001b[2;36m         \u001b[0m         \u001b[39mtadata/\u001b[0m\u001b[39mworkitems.json\u001b[0m\u001b[39m                                                  \u001b[0m\u001b[39m \u001b[0m\u001b[2m                         \u001b[0m\n"
      ]
     },
     "metadata": {},
     "output_type": "display_data"
    },
    {
     "data": {
      "text/html": [
       "<pre style=\"white-space:pre;overflow-x:auto;line-height:normal;font-family:Menlo,'DejaVu Sans Mono',consolas,'Courier New',monospace\"><span style=\"color: #7fbfbf; text-decoration-color: #7fbfbf\">         </span><span style=\"color: #000080; text-decoration-color: #000080\">INFO    </span> <span style=\"color: #000000; text-decoration-color: #000000\">NanoAODs summary generated.                                             </span><a href=\"file:///Users/moaly/Work/iris-hep/integration-challenge/cms/utils/metadata_extractor.py\" target=\"_blank\"><span style=\"color: #7f7f7f; text-decoration-color: #7f7f7f\">metadata_extractor.py</span></a><span style=\"color: #7f7f7f; text-decoration-color: #7f7f7f\">:</span><a href=\"file:///Users/moaly/Work/iris-hep/integration-challenge/cms/utils/metadata_extractor.py#544\" target=\"_blank\"><span style=\"color: #7f7f7f; text-decoration-color: #7f7f7f\">544</span></a>\n",
       "</pre>\n"
      ],
      "text/plain": [
       "\u001b[2;36m        \u001b[0m\u001b[2;36m \u001b[0m\u001b[34mINFO    \u001b[0m \u001b[39mNanoAODs summary generated.                                            \u001b[0m\u001b[39m \u001b[0m\u001b]8;id=303310;file:///Users/moaly/Work/iris-hep/integration-challenge/cms/utils/metadata_extractor.py\u001b\\\u001b[2mmetadata_extractor.py\u001b[0m\u001b]8;;\u001b\\\u001b[2m:\u001b[0m\u001b]8;id=699947;file:///Users/moaly/Work/iris-hep/integration-challenge/cms/utils/metadata_extractor.py#544\u001b\\\u001b[2m544\u001b[0m\u001b]8;;\u001b\\\n"
      ]
     },
     "metadata": {},
     "output_type": "display_data"
    },
    {
     "data": {
      "text/html": [
       "<pre style=\"white-space:pre;overflow-x:auto;line-height:normal;font-family:Menlo,'DejaVu Sans Mono',consolas,'Courier New',monospace\"><span style=\"color: #7fbfbf; text-decoration-color: #7fbfbf\">         </span><span style=\"color: #000080; text-decoration-color: #000080\">INFO    </span> <span style=\"color: #000000; text-decoration-color: #000000\">NanoAODs summary written to                                             </span><a href=\"file:///Users/moaly/Work/iris-hep/integration-challenge/cms/utils/metadata_extractor.py\" target=\"_blank\"><span style=\"color: #7f7f7f; text-decoration-color: #7f7f7f\">metadata_extractor.py</span></a><span style=\"color: #7f7f7f; text-decoration-color: #7f7f7f\">:</span><a href=\"file:///Users/moaly/Work/iris-hep/integration-challenge/cms/utils/metadata_extractor.py#476\" target=\"_blank\"><span style=\"color: #7f7f7f; text-decoration-color: #7f7f7f\">476</span></a>\n",
       "<span style=\"color: #7fbfbf; text-decoration-color: #7fbfbf\">         </span>         <span style=\"color: #000000; text-decoration-color: #000000\">/Users/moaly/Work/iris-hep/integration-challenge/cms/example/outputs/me </span><span style=\"color: #7f7f7f; text-decoration-color: #7f7f7f\">                         </span>\n",
       "<span style=\"color: #7fbfbf; text-decoration-color: #7fbfbf\">         </span>         <span style=\"color: #000000; text-decoration-color: #000000\">tadata/nanoaods.json                                                    </span><span style=\"color: #7f7f7f; text-decoration-color: #7f7f7f\">                         </span>\n",
       "</pre>\n"
      ],
      "text/plain": [
       "\u001b[2;36m        \u001b[0m\u001b[2;36m \u001b[0m\u001b[34mINFO    \u001b[0m \u001b[39mNanoAODs summary written to                                            \u001b[0m\u001b[39m \u001b[0m\u001b]8;id=463049;file:///Users/moaly/Work/iris-hep/integration-challenge/cms/utils/metadata_extractor.py\u001b\\\u001b[2mmetadata_extractor.py\u001b[0m\u001b]8;;\u001b\\\u001b[2m:\u001b[0m\u001b]8;id=206881;file:///Users/moaly/Work/iris-hep/integration-challenge/cms/utils/metadata_extractor.py#476\u001b\\\u001b[2m476\u001b[0m\u001b]8;;\u001b\\\n",
       "\u001b[2;36m         \u001b[0m         \u001b[39m/Users/moaly/Work/iris-hep/integration-challenge/cms/example/outputs/me\u001b[0m\u001b[39m \u001b[0m\u001b[2m                         \u001b[0m\n",
       "\u001b[2;36m         \u001b[0m         \u001b[39mtadata/\u001b[0m\u001b[39mnanoaods.json\u001b[0m\u001b[39m                                                   \u001b[0m\u001b[39m \u001b[0m\u001b[2m                         \u001b[0m\n"
      ]
     },
     "metadata": {},
     "output_type": "display_data"
    },
    {
     "data": {
      "text/html": [
       "<pre style=\"white-space:pre;overflow-x:auto;line-height:normal;font-family:Menlo,'DejaVu Sans Mono',consolas,'Courier New',monospace\"><span style=\"color: #7fbfbf; text-decoration-color: #7fbfbf\">         </span><span style=\"color: #000080; text-decoration-color: #000080\">INFO    </span> <span style=\"color: #000000; text-decoration-color: #000000\">Metadata generation complete.                                           </span><a href=\"file:///Users/moaly/Work/iris-hep/integration-challenge/cms/utils/metadata_extractor.py\" target=\"_blank\"><span style=\"color: #7f7f7f; text-decoration-color: #7f7f7f\">metadata_extractor.py</span></a><span style=\"color: #7f7f7f; text-decoration-color: #7f7f7f\">:</span><a href=\"file:///Users/moaly/Work/iris-hep/integration-challenge/cms/utils/metadata_extractor.py#416\" target=\"_blank\"><span style=\"color: #7f7f7f; text-decoration-color: #7f7f7f\">416</span></a>\n",
       "</pre>\n"
      ],
      "text/plain": [
       "\u001b[2;36m        \u001b[0m\u001b[2;36m \u001b[0m\u001b[34mINFO    \u001b[0m \u001b[39mMetadata generation complete.                                          \u001b[0m\u001b[39m \u001b[0m\u001b]8;id=217961;file:///Users/moaly/Work/iris-hep/integration-challenge/cms/utils/metadata_extractor.py\u001b\\\u001b[2mmetadata_extractor.py\u001b[0m\u001b]8;;\u001b\\\u001b[2m:\u001b[0m\u001b]8;id=804964;file:///Users/moaly/Work/iris-hep/integration-challenge/cms/utils/metadata_extractor.py#416\u001b\\\u001b[2m416\u001b[0m\u001b]8;;\u001b\\\n"
      ]
     },
     "metadata": {},
     "output_type": "display_data"
    }
   ],
   "source": [
    "from utils.metadata_extractor import NanoAODMetadataGenerator\n",
    "from utils.datasets import ConfigurableDatasetManager\n",
    "\n",
    "# Step 1: Create dataset manager instance\n",
    "dataset_manager = ConfigurableDatasetManager(validated_config.datasets)\n",
    "\n",
    "# Step 2: Create metadata generator instance\n",
    "validated_config.general.run_metadata_generation=True\n",
    "metadata_generator = NanoAODMetadataGenerator(\n",
    "    dataset_manager=dataset_manager,\n",
    "    output_manager=output_manager\n",
    ")\n",
    "# In the back this uses coffea's preprocess function\n",
    "metadata = metadata_generator.run()"
   ]
  },
  {
   "cell_type": "markdown",
   "id": "408ecc72",
   "metadata": {},
   "source": [
    "# 5. Skimming & Event Selection\n",
    "\n",
    "The skimming step processes the workitems from previous step, and applies event and branch selections with `dask` and a `coffea`-like processor (see [Alex's issue](https://github.com/scikit-hep/coffea/issues/1393)). Currently the skimming results are in-memory events, but also stored on disk as `ROOT` files to avoid having to run this multiple times. The events are also cached in `.pkl` files for faster re-reading. Eventually this step needs to be integrated with subsequent steps in a complete `coffea` or `coffea`-like processor."
   ]
  },
  {
   "cell_type": "code",
   "execution_count": 6,
   "id": "442e7495",
   "metadata": {},
   "outputs": [
    {
     "name": "stdout",
     "output_type": "stream",
     "text": [
      "📊 Processing 82 workitems across 6 datasets\n"
     ]
    },
    {
     "data": {
      "text/html": [
       "<pre style=\"white-space:pre;overflow-x:auto;line-height:normal;font-family:Menlo,'DejaVu Sans Mono',consolas,'Courier New',monospace\"><span style=\"color: #7fbfbf; text-decoration-color: #7fbfbf\">         </span><span style=\"color: #000080; text-decoration-color: #000080\">INFO    </span> <span style=\"color: #000000; text-decoration-color: #000000\">Starting workitem preprocessing with </span><span style=\"color: #008080; text-decoration-color: #008080; font-weight: bold\">82</span><span style=\"color: #000000; text-decoration-color: #000000\"> workitems                                 </span><a href=\"file:///Users/moaly/Work/iris-hep/integration-challenge/cms/utils/skimming.py\" target=\"_blank\"><span style=\"color: #7f7f7f; text-decoration-color: #7f7f7f\">skimming.py</span></a><span style=\"color: #7f7f7f; text-decoration-color: #7f7f7f\">:</span><a href=\"file:///Users/moaly/Work/iris-hep/integration-challenge/cms/utils/skimming.py#705\" target=\"_blank\"><span style=\"color: #7f7f7f; text-decoration-color: #7f7f7f\">705</span></a>\n",
       "</pre>\n"
      ],
      "text/plain": [
       "\u001b[2;36m        \u001b[0m\u001b[2;36m \u001b[0m\u001b[34mINFO    \u001b[0m \u001b[39mStarting workitem preprocessing with \u001b[0m\u001b[1;36m82\u001b[0m\u001b[39m workitems                                \u001b[0m\u001b[39m \u001b[0m\u001b]8;id=422579;file:///Users/moaly/Work/iris-hep/integration-challenge/cms/utils/skimming.py\u001b\\\u001b[2mskimming.py\u001b[0m\u001b]8;;\u001b\\\u001b[2m:\u001b[0m\u001b]8;id=939025;file:///Users/moaly/Work/iris-hep/integration-challenge/cms/utils/skimming.py#705\u001b\\\u001b[2m705\u001b[0m\u001b]8;;\u001b\\\n"
      ]
     },
     "metadata": {},
     "output_type": "display_data"
    },
    {
     "data": {
      "text/html": [
       "<pre style=\"white-space:pre;overflow-x:auto;line-height:normal;font-family:Menlo,'DejaVu Sans Mono',consolas,'Courier New',monospace\"><span style=\"color: #7fbfbf; text-decoration-color: #7fbfbf\">         </span><span style=\"color: #000080; text-decoration-color: #000080\">INFO    </span> <span style=\"color: #000000; text-decoration-color: #000000\">Initialized workitem-based skimming manager                                       </span><a href=\"file:///Users/moaly/Work/iris-hep/integration-challenge/cms/utils/skimming.py\" target=\"_blank\"><span style=\"color: #7f7f7f; text-decoration-color: #7f7f7f\">skimming.py</span></a><span style=\"color: #7f7f7f; text-decoration-color: #7f7f7f\">:</span><a href=\"file:///Users/moaly/Work/iris-hep/integration-challenge/cms/utils/skimming.py#372\" target=\"_blank\"><span style=\"color: #7f7f7f; text-decoration-color: #7f7f7f\">372</span></a>\n",
       "</pre>\n"
      ],
      "text/plain": [
       "\u001b[2;36m        \u001b[0m\u001b[2;36m \u001b[0m\u001b[34mINFO    \u001b[0m \u001b[39mInitialized workitem-based skimming manager                                      \u001b[0m\u001b[39m \u001b[0m\u001b]8;id=852188;file:///Users/moaly/Work/iris-hep/integration-challenge/cms/utils/skimming.py\u001b\\\u001b[2mskimming.py\u001b[0m\u001b]8;;\u001b\\\u001b[2m:\u001b[0m\u001b]8;id=723675;file:///Users/moaly/Work/iris-hep/integration-challenge/cms/utils/skimming.py#372\u001b\\\u001b[2m372\u001b[0m\u001b]8;;\u001b\\\n"
      ]
     },
     "metadata": {},
     "output_type": "display_data"
    },
    {
     "data": {
      "text/html": [
       "<pre style=\"white-space:pre;overflow-x:auto;line-height:normal;font-family:Menlo,'DejaVu Sans Mono',consolas,'Courier New',monospace\"><span style=\"color: #7fbfbf; text-decoration-color: #7fbfbf\">         </span><span style=\"color: #000080; text-decoration-color: #000080\">INFO    </span> <span style=\"color: #000000; text-decoration-color: #000000\">Running skimming                                                                  </span><a href=\"file:///Users/moaly/Work/iris-hep/integration-challenge/cms/utils/skimming.py\" target=\"_blank\"><span style=\"color: #7f7f7f; text-decoration-color: #7f7f7f\">skimming.py</span></a><span style=\"color: #7f7f7f; text-decoration-color: #7f7f7f\">:</span><a href=\"file:///Users/moaly/Work/iris-hep/integration-challenge/cms/utils/skimming.py#720\" target=\"_blank\"><span style=\"color: #7f7f7f; text-decoration-color: #7f7f7f\">720</span></a>\n",
       "</pre>\n"
      ],
      "text/plain": [
       "\u001b[2;36m        \u001b[0m\u001b[2;36m \u001b[0m\u001b[34mINFO    \u001b[0m \u001b[39mRunning skimming                                                                 \u001b[0m\u001b[39m \u001b[0m\u001b]8;id=318210;file:///Users/moaly/Work/iris-hep/integration-challenge/cms/utils/skimming.py\u001b\\\u001b[2mskimming.py\u001b[0m\u001b]8;;\u001b\\\u001b[2m:\u001b[0m\u001b]8;id=831841;file:///Users/moaly/Work/iris-hep/integration-challenge/cms/utils/skimming.py#720\u001b\\\u001b[2m720\u001b[0m\u001b]8;;\u001b\\\n"
      ]
     },
     "metadata": {},
     "output_type": "display_data"
    },
    {
     "data": {
      "text/html": [
       "<pre style=\"white-space:pre;overflow-x:auto;line-height:normal;font-family:Menlo,'DejaVu Sans Mono',consolas,'Courier New',monospace\"><span style=\"color: #7fbfbf; text-decoration-color: #7fbfbf\">         </span><span style=\"color: #000080; text-decoration-color: #000080\">INFO    </span> <span style=\"color: #000000; text-decoration-color: #000000\">Processing </span><span style=\"color: #008080; text-decoration-color: #008080; font-weight: bold\">82</span><span style=\"color: #000000; text-decoration-color: #000000\"> workitems                                                           </span><a href=\"file:///Users/moaly/Work/iris-hep/integration-challenge/cms/utils/skimming.py\" target=\"_blank\"><span style=\"color: #7f7f7f; text-decoration-color: #7f7f7f\">skimming.py</span></a><span style=\"color: #7f7f7f; text-decoration-color: #7f7f7f\">:</span><a href=\"file:///Users/moaly/Work/iris-hep/integration-challenge/cms/utils/skimming.py#403\" target=\"_blank\"><span style=\"color: #7f7f7f; text-decoration-color: #7f7f7f\">403</span></a>\n",
       "</pre>\n"
      ],
      "text/plain": [
       "\u001b[2;36m        \u001b[0m\u001b[2;36m \u001b[0m\u001b[34mINFO    \u001b[0m \u001b[39mProcessing \u001b[0m\u001b[1;36m82\u001b[0m\u001b[39m workitems                                                          \u001b[0m\u001b[39m \u001b[0m\u001b]8;id=917141;file:///Users/moaly/Work/iris-hep/integration-challenge/cms/utils/skimming.py\u001b\\\u001b[2mskimming.py\u001b[0m\u001b]8;;\u001b\\\u001b[2m:\u001b[0m\u001b]8;id=205209;file:///Users/moaly/Work/iris-hep/integration-challenge/cms/utils/skimming.py#403\u001b\\\u001b[2m403\u001b[0m\u001b]8;;\u001b\\\n"
      ]
     },
     "metadata": {},
     "output_type": "display_data"
    },
    {
     "data": {
      "text/html": [
       "<pre style=\"white-space:pre;overflow-x:auto;line-height:normal;font-family:Menlo,'DejaVu Sans Mono',consolas,'Courier New',monospace\"><span style=\"color: #7fbfbf; text-decoration-color: #7fbfbf\">         </span><span style=\"color: #000080; text-decoration-color: #000080\">INFO    </span> <span style=\"color: #000000; text-decoration-color: #000000\">Attempt </span><span style=\"color: #008080; text-decoration-color: #008080; font-weight: bold\">1</span><span style=\"color: #000000; text-decoration-color: #000000\">: processing </span><span style=\"color: #008080; text-decoration-color: #008080; font-weight: bold\">82</span><span style=\"color: #000000; text-decoration-color: #000000\"> workitems                                                </span><a href=\"file:///Users/moaly/Work/iris-hep/integration-challenge/cms/utils/skimming.py\" target=\"_blank\"><span style=\"color: #7f7f7f; text-decoration-color: #7f7f7f\">skimming.py</span></a><span style=\"color: #7f7f7f; text-decoration-color: #7f7f7f\">:</span><a href=\"file:///Users/moaly/Work/iris-hep/integration-challenge/cms/utils/skimming.py#421\" target=\"_blank\"><span style=\"color: #7f7f7f; text-decoration-color: #7f7f7f\">421</span></a>\n",
       "</pre>\n"
      ],
      "text/plain": [
       "\u001b[2;36m        \u001b[0m\u001b[2;36m \u001b[0m\u001b[34mINFO    \u001b[0m \u001b[39mAttempt \u001b[0m\u001b[1;36m1\u001b[0m\u001b[39m: processing \u001b[0m\u001b[1;36m82\u001b[0m\u001b[39m workitems                                               \u001b[0m\u001b[39m \u001b[0m\u001b]8;id=870893;file:///Users/moaly/Work/iris-hep/integration-challenge/cms/utils/skimming.py\u001b\\\u001b[2mskimming.py\u001b[0m\u001b]8;;\u001b\\\u001b[2m:\u001b[0m\u001b]8;id=235875;file:///Users/moaly/Work/iris-hep/integration-challenge/cms/utils/skimming.py#421\u001b\\\u001b[2m421\u001b[0m\u001b]8;;\u001b\\\n"
      ]
     },
     "metadata": {},
     "output_type": "display_data"
    },
    {
     "data": {
      "text/html": [
       "<pre style=\"white-space:pre;overflow-x:auto;line-height:normal;font-family:Menlo,'DejaVu Sans Mono',consolas,'Courier New',monospace\"><span style=\"color: #7fbfbf; text-decoration-color: #7fbfbf\">16:09:36 </span><span style=\"color: #000080; text-decoration-color: #000080\">INFO    </span> <span style=\"color: #000000; text-decoration-color: #000000\">Attempt </span><span style=\"color: #008080; text-decoration-color: #008080; font-weight: bold\">1</span><span style=\"color: #000000; text-decoration-color: #000000\"> complete: </span><span style=\"color: #008080; text-decoration-color: #008080; font-weight: bold\">82</span><span style=\"color: #000000; text-decoration-color: #000000\"> successful, </span><span style=\"color: #008080; text-decoration-color: #008080; font-weight: bold\">0</span><span style=\"color: #000000; text-decoration-color: #000000\"> failed                                       </span><a href=\"file:///Users/moaly/Work/iris-hep/integration-challenge/cms/utils/skimming.py\" target=\"_blank\"><span style=\"color: #7f7f7f; text-decoration-color: #7f7f7f\">skimming.py</span></a><span style=\"color: #7f7f7f; text-decoration-color: #7f7f7f\">:</span><a href=\"file:///Users/moaly/Work/iris-hep/integration-challenge/cms/utils/skimming.py#460\" target=\"_blank\"><span style=\"color: #7f7f7f; text-decoration-color: #7f7f7f\">460</span></a>\n",
       "</pre>\n"
      ],
      "text/plain": [
       "\u001b[2;36m16:09:36\u001b[0m\u001b[2;36m \u001b[0m\u001b[34mINFO    \u001b[0m \u001b[39mAttempt \u001b[0m\u001b[1;36m1\u001b[0m\u001b[39m complete: \u001b[0m\u001b[1;36m82\u001b[0m\u001b[39m successful, \u001b[0m\u001b[1;36m0\u001b[0m\u001b[39m failed                                      \u001b[0m\u001b[39m \u001b[0m\u001b]8;id=891156;file:///Users/moaly/Work/iris-hep/integration-challenge/cms/utils/skimming.py\u001b\\\u001b[2mskimming.py\u001b[0m\u001b]8;;\u001b\\\u001b[2m:\u001b[0m\u001b]8;id=338861;file:///Users/moaly/Work/iris-hep/integration-challenge/cms/utils/skimming.py#460\u001b\\\u001b[2m460\u001b[0m\u001b]8;;\u001b\\\n"
      ]
     },
     "metadata": {},
     "output_type": "display_data"
    },
    {
     "data": {
      "text/html": [
       "<pre style=\"white-space:pre;overflow-x:auto;line-height:normal;font-family:Menlo,'DejaVu Sans Mono',consolas,'Courier New',monospace\"><span style=\"color: #7fbfbf; text-decoration-color: #7fbfbf\">         </span><span style=\"color: #000080; text-decoration-color: #000080\">INFO    </span> <span style=\"color: #000000; text-decoration-color: #000000\">All workitems processed successfully                                              </span><a href=\"file:///Users/moaly/Work/iris-hep/integration-challenge/cms/utils/skimming.py\" target=\"_blank\"><span style=\"color: #7f7f7f; text-decoration-color: #7f7f7f\">skimming.py</span></a><span style=\"color: #7f7f7f; text-decoration-color: #7f7f7f\">:</span><a href=\"file:///Users/moaly/Work/iris-hep/integration-challenge/cms/utils/skimming.py#475\" target=\"_blank\"><span style=\"color: #7f7f7f; text-decoration-color: #7f7f7f\">475</span></a>\n",
       "</pre>\n"
      ],
      "text/plain": [
       "\u001b[2;36m        \u001b[0m\u001b[2;36m \u001b[0m\u001b[34mINFO    \u001b[0m \u001b[39mAll workitems processed successfully                                             \u001b[0m\u001b[39m \u001b[0m\u001b]8;id=743256;file:///Users/moaly/Work/iris-hep/integration-challenge/cms/utils/skimming.py\u001b\\\u001b[2mskimming.py\u001b[0m\u001b]8;;\u001b\\\u001b[2m:\u001b[0m\u001b]8;id=327821;file:///Users/moaly/Work/iris-hep/integration-challenge/cms/utils/skimming.py#475\u001b\\\u001b[2m475\u001b[0m\u001b]8;;\u001b\\\n"
      ]
     },
     "metadata": {},
     "output_type": "display_data"
    },
    {
     "data": {
      "text/html": [
       "<pre style=\"white-space:pre;overflow-x:auto;line-height:normal;font-family:Menlo,'DejaVu Sans Mono',consolas,'Courier New',monospace\"><span style=\"color: #7fbfbf; text-decoration-color: #7fbfbf\">16:09:37 </span><span style=\"color: #000080; text-decoration-color: #000080\">INFO    </span> <span style=\"color: #000000; text-decoration-color: #000000\">Processing Summary:                                                               </span><a href=\"file:///Users/moaly/Work/iris-hep/integration-challenge/cms/utils/skimming.py\" target=\"_blank\"><span style=\"color: #7f7f7f; text-decoration-color: #7f7f7f\">skimming.py</span></a><span style=\"color: #7f7f7f; text-decoration-color: #7f7f7f\">:</span><a href=\"file:///Users/moaly/Work/iris-hep/integration-challenge/cms/utils/skimming.py#597\" target=\"_blank\"><span style=\"color: #7f7f7f; text-decoration-color: #7f7f7f\">597</span></a>\n",
       "</pre>\n"
      ],
      "text/plain": [
       "\u001b[2;36m16:09:37\u001b[0m\u001b[2;36m \u001b[0m\u001b[34mINFO    \u001b[0m \u001b[39mProcessing Summary:                                                              \u001b[0m\u001b[39m \u001b[0m\u001b]8;id=28355;file:///Users/moaly/Work/iris-hep/integration-challenge/cms/utils/skimming.py\u001b\\\u001b[2mskimming.py\u001b[0m\u001b]8;;\u001b\\\u001b[2m:\u001b[0m\u001b]8;id=703264;file:///Users/moaly/Work/iris-hep/integration-challenge/cms/utils/skimming.py#597\u001b\\\u001b[2m597\u001b[0m\u001b]8;;\u001b\\\n"
      ]
     },
     "metadata": {},
     "output_type": "display_data"
    },
    {
     "data": {
      "text/html": [
       "<pre style=\"white-space:pre;overflow-x:auto;line-height:normal;font-family:Menlo,'DejaVu Sans Mono',consolas,'Courier New',monospace\"><span style=\"color: #7fbfbf; text-decoration-color: #7fbfbf\">         </span><span style=\"color: #000080; text-decoration-color: #000080\">INFO    </span> <span style=\"color: #000000; text-decoration-color: #000000\">                                                                                  </span><a href=\"file:///Users/moaly/Work/iris-hep/integration-challenge/cms/utils/skimming.py\" target=\"_blank\"><span style=\"color: #7f7f7f; text-decoration-color: #7f7f7f\">skimming.py</span></a><span style=\"color: #7f7f7f; text-decoration-color: #7f7f7f\">:</span><a href=\"file:///Users/moaly/Work/iris-hep/integration-challenge/cms/utils/skimming.py#598\" target=\"_blank\"><span style=\"color: #7f7f7f; text-decoration-color: #7f7f7f\">598</span></a>\n",
       "<span style=\"color: #7fbfbf; text-decoration-color: #7fbfbf\">         </span>         <span style=\"color: #000000; text-decoration-color: #000000\">+------------------------+----------------+-----------------+                     </span><span style=\"color: #7f7f7f; text-decoration-color: #7f7f7f\">               </span>\n",
       "<span style=\"color: #7fbfbf; text-decoration-color: #7fbfbf\">         </span>         <span style=\"color: #000000; text-decoration-color: #000000\">| Dataset                | Events Saved   |   Files Written |                     </span><span style=\"color: #7f7f7f; text-decoration-color: #7f7f7f\">               </span>\n",
       "<span style=\"color: #7fbfbf; text-decoration-color: #7fbfbf\">         </span>         <span style=\"color: #000000; text-decoration-color: #000000\">+========================+================+=================+                     </span><span style=\"color: #7f7f7f; text-decoration-color: #7f7f7f\">               </span>\n",
       "<span style=\"color: #7fbfbf; text-decoration-color: #7fbfbf\">         </span>         <span style=\"color: #000000; text-decoration-color: #000000\">| data                   | </span><span style=\"color: #008080; text-decoration-color: #008080; font-weight: bold\">94</span><span style=\"color: #000000; text-decoration-color: #000000\">,</span><span style=\"color: #008080; text-decoration-color: #008080; font-weight: bold\">251</span><span style=\"color: #000000; text-decoration-color: #000000\">         |              </span><span style=\"color: #008080; text-decoration-color: #008080; font-weight: bold\">29</span><span style=\"color: #000000; text-decoration-color: #000000\"> |                     </span><span style=\"color: #7f7f7f; text-decoration-color: #7f7f7f\">               </span>\n",
       "<span style=\"color: #7fbfbf; text-decoration-color: #7fbfbf\">         </span>         <span style=\"color: #000000; text-decoration-color: #000000\">+------------------------+----------------+-----------------+                     </span><span style=\"color: #7f7f7f; text-decoration-color: #7f7f7f\">               </span>\n",
       "<span style=\"color: #7fbfbf; text-decoration-color: #7fbfbf\">         </span>         <span style=\"color: #000000; text-decoration-color: #000000\">| signal__nominal        | </span><span style=\"color: #008080; text-decoration-color: #008080; font-weight: bold\">97</span><span style=\"color: #000000; text-decoration-color: #000000\">,</span><span style=\"color: #008080; text-decoration-color: #008080; font-weight: bold\">109</span><span style=\"color: #000000; text-decoration-color: #000000\">         |               </span><span style=\"color: #008080; text-decoration-color: #008080; font-weight: bold\">5</span><span style=\"color: #000000; text-decoration-color: #000000\"> |                     </span><span style=\"color: #7f7f7f; text-decoration-color: #7f7f7f\">               </span>\n",
       "<span style=\"color: #7fbfbf; text-decoration-color: #7fbfbf\">         </span>         <span style=\"color: #000000; text-decoration-color: #000000\">+------------------------+----------------+-----------------+                     </span><span style=\"color: #7f7f7f; text-decoration-color: #7f7f7f\">               </span>\n",
       "<span style=\"color: #7fbfbf; text-decoration-color: #7fbfbf\">         </span>         <span style=\"color: #000000; text-decoration-color: #000000\">| ttbar_had__nominal     | </span><span style=\"color: #008080; text-decoration-color: #008080; font-weight: bold\">1</span><span style=\"color: #000000; text-decoration-color: #000000\">,</span><span style=\"color: #008080; text-decoration-color: #008080; font-weight: bold\">958</span><span style=\"color: #000000; text-decoration-color: #000000\">          |               </span><span style=\"color: #008080; text-decoration-color: #008080; font-weight: bold\">7</span><span style=\"color: #000000; text-decoration-color: #000000\"> |                     </span><span style=\"color: #7f7f7f; text-decoration-color: #7f7f7f\">               </span>\n",
       "<span style=\"color: #7fbfbf; text-decoration-color: #7fbfbf\">         </span>         <span style=\"color: #000000; text-decoration-color: #000000\">+------------------------+----------------+-----------------+                     </span><span style=\"color: #7f7f7f; text-decoration-color: #7f7f7f\">               </span>\n",
       "<span style=\"color: #7fbfbf; text-decoration-color: #7fbfbf\">         </span>         <span style=\"color: #000000; text-decoration-color: #000000\">| ttbar_lep__nominal     | </span><span style=\"color: #008080; text-decoration-color: #008080; font-weight: bold\">82</span><span style=\"color: #000000; text-decoration-color: #000000\">,</span><span style=\"color: #008080; text-decoration-color: #008080; font-weight: bold\">406</span><span style=\"color: #000000; text-decoration-color: #000000\">         |               </span><span style=\"color: #008080; text-decoration-color: #008080; font-weight: bold\">5</span><span style=\"color: #000000; text-decoration-color: #000000\"> |                     </span><span style=\"color: #7f7f7f; text-decoration-color: #7f7f7f\">               </span>\n",
       "<span style=\"color: #7fbfbf; text-decoration-color: #7fbfbf\">         </span>         <span style=\"color: #000000; text-decoration-color: #000000\">+------------------------+----------------+-----------------+                     </span><span style=\"color: #7f7f7f; text-decoration-color: #7f7f7f\">               </span>\n",
       "<span style=\"color: #7fbfbf; text-decoration-color: #7fbfbf\">         </span>         <span style=\"color: #000000; text-decoration-color: #000000\">| ttbar_semilep__nominal | </span><span style=\"color: #008080; text-decoration-color: #008080; font-weight: bold\">96</span><span style=\"color: #000000; text-decoration-color: #000000\">,</span><span style=\"color: #008080; text-decoration-color: #008080; font-weight: bold\">683</span><span style=\"color: #000000; text-decoration-color: #000000\">         |              </span><span style=\"color: #008080; text-decoration-color: #008080; font-weight: bold\">13</span><span style=\"color: #000000; text-decoration-color: #000000\"> |                     </span><span style=\"color: #7f7f7f; text-decoration-color: #7f7f7f\">               </span>\n",
       "<span style=\"color: #7fbfbf; text-decoration-color: #7fbfbf\">         </span>         <span style=\"color: #000000; text-decoration-color: #000000\">+------------------------+----------------+-----------------+                     </span><span style=\"color: #7f7f7f; text-decoration-color: #7f7f7f\">               </span>\n",
       "<span style=\"color: #7fbfbf; text-decoration-color: #7fbfbf\">         </span>         <span style=\"color: #000000; text-decoration-color: #000000\">| wjets__nominal         | </span><span style=\"color: #008080; text-decoration-color: #008080; font-weight: bold\">7</span><span style=\"color: #000000; text-decoration-color: #000000\">,</span><span style=\"color: #008080; text-decoration-color: #008080; font-weight: bold\">313</span><span style=\"color: #000000; text-decoration-color: #000000\">          |              </span><span style=\"color: #008080; text-decoration-color: #008080; font-weight: bold\">23</span><span style=\"color: #000000; text-decoration-color: #000000\"> |                     </span><span style=\"color: #7f7f7f; text-decoration-color: #7f7f7f\">               </span>\n",
       "<span style=\"color: #7fbfbf; text-decoration-color: #7fbfbf\">         </span>         <span style=\"color: #000000; text-decoration-color: #000000\">+------------------------+----------------+-----------------+                     </span><span style=\"color: #7f7f7f; text-decoration-color: #7f7f7f\">               </span>\n",
       "<span style=\"color: #7fbfbf; text-decoration-color: #7fbfbf\">         </span>         <span style=\"color: #000000; text-decoration-color: #000000\">| TOTAL                  | </span><span style=\"color: #008080; text-decoration-color: #008080; font-weight: bold\">379</span><span style=\"color: #000000; text-decoration-color: #000000\">,</span><span style=\"color: #008080; text-decoration-color: #008080; font-weight: bold\">720</span><span style=\"color: #000000; text-decoration-color: #000000\">        |              </span><span style=\"color: #008080; text-decoration-color: #008080; font-weight: bold\">82</span><span style=\"color: #000000; text-decoration-color: #000000\"> |                     </span><span style=\"color: #7f7f7f; text-decoration-color: #7f7f7f\">               </span>\n",
       "<span style=\"color: #7fbfbf; text-decoration-color: #7fbfbf\">         </span>         <span style=\"color: #000000; text-decoration-color: #000000\">+------------------------+----------------+-----------------+                     </span><span style=\"color: #7f7f7f; text-decoration-color: #7f7f7f\">               </span>\n",
       "</pre>\n"
      ],
      "text/plain": [
       "\u001b[2;36m        \u001b[0m\u001b[2;36m \u001b[0m\u001b[34mINFO    \u001b[0m \u001b[39m                                                                                 \u001b[0m\u001b[39m \u001b[0m\u001b]8;id=445466;file:///Users/moaly/Work/iris-hep/integration-challenge/cms/utils/skimming.py\u001b\\\u001b[2mskimming.py\u001b[0m\u001b]8;;\u001b\\\u001b[2m:\u001b[0m\u001b]8;id=882856;file:///Users/moaly/Work/iris-hep/integration-challenge/cms/utils/skimming.py#598\u001b\\\u001b[2m598\u001b[0m\u001b]8;;\u001b\\\n",
       "\u001b[2;36m         \u001b[0m         \u001b[39m+------------------------+----------------+-----------------+                    \u001b[0m\u001b[39m \u001b[0m\u001b[2m               \u001b[0m\n",
       "\u001b[2;36m         \u001b[0m         \u001b[39m| Dataset                | Events Saved   |   Files Written |                    \u001b[0m\u001b[39m \u001b[0m\u001b[2m               \u001b[0m\n",
       "\u001b[2;36m         \u001b[0m         \u001b[39m+========================+================+=================+                    \u001b[0m\u001b[39m \u001b[0m\u001b[2m               \u001b[0m\n",
       "\u001b[2;36m         \u001b[0m         \u001b[39m| data                   | \u001b[0m\u001b[1;36m94\u001b[0m\u001b[39m,\u001b[0m\u001b[1;36m251\u001b[0m\u001b[39m         |              \u001b[0m\u001b[1;36m29\u001b[0m\u001b[39m |                    \u001b[0m\u001b[39m \u001b[0m\u001b[2m               \u001b[0m\n",
       "\u001b[2;36m         \u001b[0m         \u001b[39m+------------------------+----------------+-----------------+                    \u001b[0m\u001b[39m \u001b[0m\u001b[2m               \u001b[0m\n",
       "\u001b[2;36m         \u001b[0m         \u001b[39m| signal__nominal        | \u001b[0m\u001b[1;36m97\u001b[0m\u001b[39m,\u001b[0m\u001b[1;36m109\u001b[0m\u001b[39m         |               \u001b[0m\u001b[1;36m5\u001b[0m\u001b[39m |                    \u001b[0m\u001b[39m \u001b[0m\u001b[2m               \u001b[0m\n",
       "\u001b[2;36m         \u001b[0m         \u001b[39m+------------------------+----------------+-----------------+                    \u001b[0m\u001b[39m \u001b[0m\u001b[2m               \u001b[0m\n",
       "\u001b[2;36m         \u001b[0m         \u001b[39m| ttbar_had__nominal     | \u001b[0m\u001b[1;36m1\u001b[0m\u001b[39m,\u001b[0m\u001b[1;36m958\u001b[0m\u001b[39m          |               \u001b[0m\u001b[1;36m7\u001b[0m\u001b[39m |                    \u001b[0m\u001b[39m \u001b[0m\u001b[2m               \u001b[0m\n",
       "\u001b[2;36m         \u001b[0m         \u001b[39m+------------------------+----------------+-----------------+                    \u001b[0m\u001b[39m \u001b[0m\u001b[2m               \u001b[0m\n",
       "\u001b[2;36m         \u001b[0m         \u001b[39m| ttbar_lep__nominal     | \u001b[0m\u001b[1;36m82\u001b[0m\u001b[39m,\u001b[0m\u001b[1;36m406\u001b[0m\u001b[39m         |               \u001b[0m\u001b[1;36m5\u001b[0m\u001b[39m |                    \u001b[0m\u001b[39m \u001b[0m\u001b[2m               \u001b[0m\n",
       "\u001b[2;36m         \u001b[0m         \u001b[39m+------------------------+----------------+-----------------+                    \u001b[0m\u001b[39m \u001b[0m\u001b[2m               \u001b[0m\n",
       "\u001b[2;36m         \u001b[0m         \u001b[39m| ttbar_semilep__nominal | \u001b[0m\u001b[1;36m96\u001b[0m\u001b[39m,\u001b[0m\u001b[1;36m683\u001b[0m\u001b[39m         |              \u001b[0m\u001b[1;36m13\u001b[0m\u001b[39m |                    \u001b[0m\u001b[39m \u001b[0m\u001b[2m               \u001b[0m\n",
       "\u001b[2;36m         \u001b[0m         \u001b[39m+------------------------+----------------+-----------------+                    \u001b[0m\u001b[39m \u001b[0m\u001b[2m               \u001b[0m\n",
       "\u001b[2;36m         \u001b[0m         \u001b[39m| wjets__nominal         | \u001b[0m\u001b[1;36m7\u001b[0m\u001b[39m,\u001b[0m\u001b[1;36m313\u001b[0m\u001b[39m          |              \u001b[0m\u001b[1;36m23\u001b[0m\u001b[39m |                    \u001b[0m\u001b[39m \u001b[0m\u001b[2m               \u001b[0m\n",
       "\u001b[2;36m         \u001b[0m         \u001b[39m+------------------------+----------------+-----------------+                    \u001b[0m\u001b[39m \u001b[0m\u001b[2m               \u001b[0m\n",
       "\u001b[2;36m         \u001b[0m         \u001b[39m| TOTAL                  | \u001b[0m\u001b[1;36m379\u001b[0m\u001b[39m,\u001b[0m\u001b[1;36m720\u001b[0m\u001b[39m        |              \u001b[0m\u001b[1;36m82\u001b[0m\u001b[39m |                    \u001b[0m\u001b[39m \u001b[0m\u001b[2m               \u001b[0m\n",
       "\u001b[2;36m         \u001b[0m         \u001b[39m+------------------------+----------------+-----------------+                    \u001b[0m\u001b[39m \u001b[0m\u001b[2m               \u001b[0m\n"
      ]
     },
     "metadata": {},
     "output_type": "display_data"
    },
    {
     "data": {
      "text/html": [
       "<pre style=\"white-space:pre;overflow-x:auto;line-height:normal;font-family:Menlo,'DejaVu Sans Mono',consolas,'Courier New',monospace\"><span style=\"color: #7fbfbf; text-decoration-color: #7fbfbf\">         </span><span style=\"color: #000080; text-decoration-color: #000080\">INFO    </span> <span style=\"color: #000000; text-decoration-color: #000000\">Skimming complete: </span><span style=\"color: #008080; text-decoration-color: #008080; font-weight: bold\">379</span><span style=\"color: #000000; text-decoration-color: #000000\">,</span><span style=\"color: #008080; text-decoration-color: #008080; font-weight: bold\">720</span><span style=\"color: #000000; text-decoration-color: #000000\"> events                                                 </span><a href=\"file:///Users/moaly/Work/iris-hep/integration-challenge/cms/utils/skimming.py\" target=\"_blank\"><span style=\"color: #7f7f7f; text-decoration-color: #7f7f7f\">skimming.py</span></a><span style=\"color: #7f7f7f; text-decoration-color: #7f7f7f\">:</span><a href=\"file:///Users/moaly/Work/iris-hep/integration-challenge/cms/utils/skimming.py#722\" target=\"_blank\"><span style=\"color: #7f7f7f; text-decoration-color: #7f7f7f\">722</span></a>\n",
       "</pre>\n"
      ],
      "text/plain": [
       "\u001b[2;36m        \u001b[0m\u001b[2;36m \u001b[0m\u001b[34mINFO    \u001b[0m \u001b[39mSkimming complete: \u001b[0m\u001b[1;36m379\u001b[0m\u001b[39m,\u001b[0m\u001b[1;36m720\u001b[0m\u001b[39m events                                                \u001b[0m\u001b[39m \u001b[0m\u001b]8;id=379956;file:///Users/moaly/Work/iris-hep/integration-challenge/cms/utils/skimming.py\u001b\\\u001b[2mskimming.py\u001b[0m\u001b]8;;\u001b\\\u001b[2m:\u001b[0m\u001b]8;id=503389;file:///Users/moaly/Work/iris-hep/integration-challenge/cms/utils/skimming.py#722\u001b\\\u001b[2m722\u001b[0m\u001b]8;;\u001b\\\n"
      ]
     },
     "metadata": {},
     "output_type": "display_data"
    },
    {
     "data": {
      "text/html": [
       "<pre style=\"white-space:pre;overflow-x:auto;line-height:normal;font-family:Menlo,'DejaVu Sans Mono',consolas,'Courier New',monospace\"><span style=\"color: #7fbfbf; text-decoration-color: #7fbfbf\">         </span><span style=\"color: #000080; text-decoration-color: #000080\">INFO    </span> <span style=\"color: #000000; text-decoration-color: #000000\">Reading from saved files                                                          </span><a href=\"file:///Users/moaly/Work/iris-hep/integration-challenge/cms/utils/skimming.py\" target=\"_blank\"><span style=\"color: #7f7f7f; text-decoration-color: #7f7f7f\">skimming.py</span></a><span style=\"color: #7f7f7f; text-decoration-color: #7f7f7f\">:</span><a href=\"file:///Users/moaly/Work/iris-hep/integration-challenge/cms/utils/skimming.py#725\" target=\"_blank\"><span style=\"color: #7f7f7f; text-decoration-color: #7f7f7f\">725</span></a>\n",
       "</pre>\n"
      ],
      "text/plain": [
       "\u001b[2;36m        \u001b[0m\u001b[2;36m \u001b[0m\u001b[34mINFO    \u001b[0m \u001b[39mReading from saved files                                                         \u001b[0m\u001b[39m \u001b[0m\u001b]8;id=98848;file:///Users/moaly/Work/iris-hep/integration-challenge/cms/utils/skimming.py\u001b\\\u001b[2mskimming.py\u001b[0m\u001b]8;;\u001b\\\u001b[2m:\u001b[0m\u001b]8;id=464234;file:///Users/moaly/Work/iris-hep/integration-challenge/cms/utils/skimming.py#725\u001b\\\u001b[2m725\u001b[0m\u001b]8;;\u001b\\\n"
      ]
     },
     "metadata": {},
     "output_type": "display_data"
    },
    {
     "data": {
      "text/html": [
       "<pre style=\"white-space:pre;overflow-x:auto;line-height:normal;font-family:Menlo,'DejaVu Sans Mono',consolas,'Courier New',monospace\"><span style=\"color: #7fbfbf; text-decoration-color: #7fbfbf\">         </span><span style=\"color: #000080; text-decoration-color: #000080\">INFO    </span> <span style=\"color: #000000; text-decoration-color: #000000\">Found existing skimmed files for data: </span><span style=\"color: #008080; text-decoration-color: #008080; font-weight: bold\">29</span><span style=\"color: #000000; text-decoration-color: #000000\">                                         </span><a href=\"file:///Users/moaly/Work/iris-hep/integration-challenge/cms/utils/skimming.py\" target=\"_blank\"><span style=\"color: #7f7f7f; text-decoration-color: #7f7f7f\">skimming.py</span></a><span style=\"color: #7f7f7f; text-decoration-color: #7f7f7f\">:</span><a href=\"file:///Users/moaly/Work/iris-hep/integration-challenge/cms/utils/skimming.py#524\" target=\"_blank\"><span style=\"color: #7f7f7f; text-decoration-color: #7f7f7f\">524</span></a>\n",
       "</pre>\n"
      ],
      "text/plain": [
       "\u001b[2;36m        \u001b[0m\u001b[2;36m \u001b[0m\u001b[34mINFO    \u001b[0m \u001b[39mFound existing skimmed files for data: \u001b[0m\u001b[1;36m29\u001b[0m\u001b[39m                                        \u001b[0m\u001b[39m \u001b[0m\u001b]8;id=276997;file:///Users/moaly/Work/iris-hep/integration-challenge/cms/utils/skimming.py\u001b\\\u001b[2mskimming.py\u001b[0m\u001b]8;;\u001b\\\u001b[2m:\u001b[0m\u001b]8;id=956972;file:///Users/moaly/Work/iris-hep/integration-challenge/cms/utils/skimming.py#524\u001b\\\u001b[2m524\u001b[0m\u001b]8;;\u001b\\\n"
      ]
     },
     "metadata": {},
     "output_type": "display_data"
    },
    {
     "data": {
      "text/html": [
       "<pre style=\"white-space:pre;overflow-x:auto;line-height:normal;font-family:Menlo,'DejaVu Sans Mono',consolas,'Courier New',monospace\"><span style=\"color: #7fbfbf; text-decoration-color: #7fbfbf\">16:09:38 </span><span style=\"color: #000080; text-decoration-color: #000080\">INFO    </span> <span style=\"color: #000000; text-decoration-color: #000000\">Merged </span><span style=\"color: #008080; text-decoration-color: #008080; font-weight: bold\">29</span><span style=\"color: #000000; text-decoration-color: #000000\"> files → </span><span style=\"color: #008080; text-decoration-color: #008080; font-weight: bold\">94251</span><span style=\"color: #000000; text-decoration-color: #000000\"> events for data                                           </span><a href=\"file:///Users/moaly/Work/iris-hep/integration-challenge/cms/utils/skimming.py\" target=\"_blank\"><span style=\"color: #7f7f7f; text-decoration-color: #7f7f7f\">skimming.py</span></a><span style=\"color: #7f7f7f; text-decoration-color: #7f7f7f\">:</span><a href=\"file:///Users/moaly/Work/iris-hep/integration-challenge/cms/utils/skimming.py#822\" target=\"_blank\"><span style=\"color: #7f7f7f; text-decoration-color: #7f7f7f\">822</span></a>\n",
       "</pre>\n"
      ],
      "text/plain": [
       "\u001b[2;36m16:09:38\u001b[0m\u001b[2;36m \u001b[0m\u001b[34mINFO    \u001b[0m \u001b[39mMerged \u001b[0m\u001b[1;36m29\u001b[0m\u001b[39m files → \u001b[0m\u001b[1;36m94251\u001b[0m\u001b[39m events for data                                          \u001b[0m\u001b[39m \u001b[0m\u001b]8;id=550090;file:///Users/moaly/Work/iris-hep/integration-challenge/cms/utils/skimming.py\u001b\\\u001b[2mskimming.py\u001b[0m\u001b]8;;\u001b\\\u001b[2m:\u001b[0m\u001b]8;id=943909;file:///Users/moaly/Work/iris-hep/integration-challenge/cms/utils/skimming.py#822\u001b\\\u001b[2m822\u001b[0m\u001b]8;;\u001b\\\n"
      ]
     },
     "metadata": {},
     "output_type": "display_data"
    },
    {
     "data": {
      "text/html": [
       "<pre style=\"white-space:pre;overflow-x:auto;line-height:normal;font-family:Menlo,'DejaVu Sans Mono',consolas,'Courier New',monospace\"><span style=\"color: #7fbfbf; text-decoration-color: #7fbfbf\">         </span><span style=\"color: #000080; text-decoration-color: #000080\">INFO    </span> <span style=\"color: #000000; text-decoration-color: #000000\">Cached events for data                                                            </span><a href=\"file:///Users/moaly/Work/iris-hep/integration-challenge/cms/utils/skimming.py\" target=\"_blank\"><span style=\"color: #7f7f7f; text-decoration-color: #7f7f7f\">skimming.py</span></a><span style=\"color: #7f7f7f; text-decoration-color: #7f7f7f\">:</span><a href=\"file:///Users/moaly/Work/iris-hep/integration-challenge/cms/utils/skimming.py#831\" target=\"_blank\"><span style=\"color: #7f7f7f; text-decoration-color: #7f7f7f\">831</span></a>\n",
       "</pre>\n"
      ],
      "text/plain": [
       "\u001b[2;36m        \u001b[0m\u001b[2;36m \u001b[0m\u001b[34mINFO    \u001b[0m \u001b[39mCached events for data                                                           \u001b[0m\u001b[39m \u001b[0m\u001b]8;id=552087;file:///Users/moaly/Work/iris-hep/integration-challenge/cms/utils/skimming.py\u001b\\\u001b[2mskimming.py\u001b[0m\u001b]8;;\u001b\\\u001b[2m:\u001b[0m\u001b]8;id=699229;file:///Users/moaly/Work/iris-hep/integration-challenge/cms/utils/skimming.py#831\u001b\\\u001b[2m831\u001b[0m\u001b]8;;\u001b\\\n"
      ]
     },
     "metadata": {},
     "output_type": "display_data"
    },
    {
     "data": {
      "text/html": [
       "<pre style=\"white-space:pre;overflow-x:auto;line-height:normal;font-family:Menlo,'DejaVu Sans Mono',consolas,'Courier New',monospace\"><span style=\"color: #7fbfbf; text-decoration-color: #7fbfbf\">         </span><span style=\"color: #000080; text-decoration-color: #000080\">INFO    </span> <span style=\"color: #000000; text-decoration-color: #000000\">Found existing skimmed files for wjets__nominal: </span><span style=\"color: #008080; text-decoration-color: #008080; font-weight: bold\">23</span><span style=\"color: #000000; text-decoration-color: #000000\">                               </span><a href=\"file:///Users/moaly/Work/iris-hep/integration-challenge/cms/utils/skimming.py\" target=\"_blank\"><span style=\"color: #7f7f7f; text-decoration-color: #7f7f7f\">skimming.py</span></a><span style=\"color: #7f7f7f; text-decoration-color: #7f7f7f\">:</span><a href=\"file:///Users/moaly/Work/iris-hep/integration-challenge/cms/utils/skimming.py#524\" target=\"_blank\"><span style=\"color: #7f7f7f; text-decoration-color: #7f7f7f\">524</span></a>\n",
       "</pre>\n"
      ],
      "text/plain": [
       "\u001b[2;36m        \u001b[0m\u001b[2;36m \u001b[0m\u001b[34mINFO    \u001b[0m \u001b[39mFound existing skimmed files for wjets__nominal: \u001b[0m\u001b[1;36m23\u001b[0m\u001b[39m                              \u001b[0m\u001b[39m \u001b[0m\u001b]8;id=173860;file:///Users/moaly/Work/iris-hep/integration-challenge/cms/utils/skimming.py\u001b\\\u001b[2mskimming.py\u001b[0m\u001b]8;;\u001b\\\u001b[2m:\u001b[0m\u001b]8;id=926639;file:///Users/moaly/Work/iris-hep/integration-challenge/cms/utils/skimming.py#524\u001b\\\u001b[2m524\u001b[0m\u001b]8;;\u001b\\\n"
      ]
     },
     "metadata": {},
     "output_type": "display_data"
    },
    {
     "data": {
      "text/html": [
       "<pre style=\"white-space:pre;overflow-x:auto;line-height:normal;font-family:Menlo,'DejaVu Sans Mono',consolas,'Courier New',monospace\"><span style=\"color: #7fbfbf; text-decoration-color: #7fbfbf\">         </span><span style=\"color: #000080; text-decoration-color: #000080\">INFO    </span> <span style=\"color: #000000; text-decoration-color: #000000\">Merged </span><span style=\"color: #008080; text-decoration-color: #008080; font-weight: bold\">23</span><span style=\"color: #000000; text-decoration-color: #000000\"> files → </span><span style=\"color: #008080; text-decoration-color: #008080; font-weight: bold\">7313</span><span style=\"color: #000000; text-decoration-color: #000000\"> events for wjets__nominal                                  </span><a href=\"file:///Users/moaly/Work/iris-hep/integration-challenge/cms/utils/skimming.py\" target=\"_blank\"><span style=\"color: #7f7f7f; text-decoration-color: #7f7f7f\">skimming.py</span></a><span style=\"color: #7f7f7f; text-decoration-color: #7f7f7f\">:</span><a href=\"file:///Users/moaly/Work/iris-hep/integration-challenge/cms/utils/skimming.py#822\" target=\"_blank\"><span style=\"color: #7f7f7f; text-decoration-color: #7f7f7f\">822</span></a>\n",
       "</pre>\n"
      ],
      "text/plain": [
       "\u001b[2;36m        \u001b[0m\u001b[2;36m \u001b[0m\u001b[34mINFO    \u001b[0m \u001b[39mMerged \u001b[0m\u001b[1;36m23\u001b[0m\u001b[39m files → \u001b[0m\u001b[1;36m7313\u001b[0m\u001b[39m events for wjets__nominal                                 \u001b[0m\u001b[39m \u001b[0m\u001b]8;id=831338;file:///Users/moaly/Work/iris-hep/integration-challenge/cms/utils/skimming.py\u001b\\\u001b[2mskimming.py\u001b[0m\u001b]8;;\u001b\\\u001b[2m:\u001b[0m\u001b]8;id=216300;file:///Users/moaly/Work/iris-hep/integration-challenge/cms/utils/skimming.py#822\u001b\\\u001b[2m822\u001b[0m\u001b]8;;\u001b\\\n"
      ]
     },
     "metadata": {},
     "output_type": "display_data"
    },
    {
     "data": {
      "text/html": [
       "<pre style=\"white-space:pre;overflow-x:auto;line-height:normal;font-family:Menlo,'DejaVu Sans Mono',consolas,'Courier New',monospace\"><span style=\"color: #7fbfbf; text-decoration-color: #7fbfbf\">16:09:39 </span><span style=\"color: #000080; text-decoration-color: #000080\">INFO    </span> <span style=\"color: #000000; text-decoration-color: #000000\">Cached events for wjets__nominal                                                  </span><a href=\"file:///Users/moaly/Work/iris-hep/integration-challenge/cms/utils/skimming.py\" target=\"_blank\"><span style=\"color: #7f7f7f; text-decoration-color: #7f7f7f\">skimming.py</span></a><span style=\"color: #7f7f7f; text-decoration-color: #7f7f7f\">:</span><a href=\"file:///Users/moaly/Work/iris-hep/integration-challenge/cms/utils/skimming.py#831\" target=\"_blank\"><span style=\"color: #7f7f7f; text-decoration-color: #7f7f7f\">831</span></a>\n",
       "</pre>\n"
      ],
      "text/plain": [
       "\u001b[2;36m16:09:39\u001b[0m\u001b[2;36m \u001b[0m\u001b[34mINFO    \u001b[0m \u001b[39mCached events for wjets__nominal                                                 \u001b[0m\u001b[39m \u001b[0m\u001b]8;id=19922;file:///Users/moaly/Work/iris-hep/integration-challenge/cms/utils/skimming.py\u001b\\\u001b[2mskimming.py\u001b[0m\u001b]8;;\u001b\\\u001b[2m:\u001b[0m\u001b]8;id=60612;file:///Users/moaly/Work/iris-hep/integration-challenge/cms/utils/skimming.py#831\u001b\\\u001b[2m831\u001b[0m\u001b]8;;\u001b\\\n"
      ]
     },
     "metadata": {},
     "output_type": "display_data"
    },
    {
     "data": {
      "text/html": [
       "<pre style=\"white-space:pre;overflow-x:auto;line-height:normal;font-family:Menlo,'DejaVu Sans Mono',consolas,'Courier New',monospace\"><span style=\"color: #7fbfbf; text-decoration-color: #7fbfbf\">         </span><span style=\"color: #000080; text-decoration-color: #000080\">INFO    </span> <span style=\"color: #000000; text-decoration-color: #000000\">Found existing skimmed files for ttbar_lep__nominal: </span><span style=\"color: #008080; text-decoration-color: #008080; font-weight: bold\">5</span><span style=\"color: #000000; text-decoration-color: #000000\">                            </span><a href=\"file:///Users/moaly/Work/iris-hep/integration-challenge/cms/utils/skimming.py\" target=\"_blank\"><span style=\"color: #7f7f7f; text-decoration-color: #7f7f7f\">skimming.py</span></a><span style=\"color: #7f7f7f; text-decoration-color: #7f7f7f\">:</span><a href=\"file:///Users/moaly/Work/iris-hep/integration-challenge/cms/utils/skimming.py#524\" target=\"_blank\"><span style=\"color: #7f7f7f; text-decoration-color: #7f7f7f\">524</span></a>\n",
       "</pre>\n"
      ],
      "text/plain": [
       "\u001b[2;36m        \u001b[0m\u001b[2;36m \u001b[0m\u001b[34mINFO    \u001b[0m \u001b[39mFound existing skimmed files for ttbar_lep__nominal: \u001b[0m\u001b[1;36m5\u001b[0m\u001b[39m                           \u001b[0m\u001b[39m \u001b[0m\u001b]8;id=677958;file:///Users/moaly/Work/iris-hep/integration-challenge/cms/utils/skimming.py\u001b\\\u001b[2mskimming.py\u001b[0m\u001b]8;;\u001b\\\u001b[2m:\u001b[0m\u001b]8;id=106330;file:///Users/moaly/Work/iris-hep/integration-challenge/cms/utils/skimming.py#524\u001b\\\u001b[2m524\u001b[0m\u001b]8;;\u001b\\\n"
      ]
     },
     "metadata": {},
     "output_type": "display_data"
    },
    {
     "data": {
      "text/html": [
       "<pre style=\"white-space:pre;overflow-x:auto;line-height:normal;font-family:Menlo,'DejaVu Sans Mono',consolas,'Courier New',monospace\"><span style=\"color: #7fbfbf; text-decoration-color: #7fbfbf\">         </span><span style=\"color: #000080; text-decoration-color: #000080\">INFO    </span> <span style=\"color: #000000; text-decoration-color: #000000\">Merged </span><span style=\"color: #008080; text-decoration-color: #008080; font-weight: bold\">5</span><span style=\"color: #000000; text-decoration-color: #000000\"> files → </span><span style=\"color: #008080; text-decoration-color: #008080; font-weight: bold\">82406</span><span style=\"color: #000000; text-decoration-color: #000000\"> events for ttbar_lep__nominal                              </span><a href=\"file:///Users/moaly/Work/iris-hep/integration-challenge/cms/utils/skimming.py\" target=\"_blank\"><span style=\"color: #7f7f7f; text-decoration-color: #7f7f7f\">skimming.py</span></a><span style=\"color: #7f7f7f; text-decoration-color: #7f7f7f\">:</span><a href=\"file:///Users/moaly/Work/iris-hep/integration-challenge/cms/utils/skimming.py#822\" target=\"_blank\"><span style=\"color: #7f7f7f; text-decoration-color: #7f7f7f\">822</span></a>\n",
       "</pre>\n"
      ],
      "text/plain": [
       "\u001b[2;36m        \u001b[0m\u001b[2;36m \u001b[0m\u001b[34mINFO    \u001b[0m \u001b[39mMerged \u001b[0m\u001b[1;36m5\u001b[0m\u001b[39m files → \u001b[0m\u001b[1;36m82406\u001b[0m\u001b[39m events for ttbar_lep__nominal                             \u001b[0m\u001b[39m \u001b[0m\u001b]8;id=527219;file:///Users/moaly/Work/iris-hep/integration-challenge/cms/utils/skimming.py\u001b\\\u001b[2mskimming.py\u001b[0m\u001b]8;;\u001b\\\u001b[2m:\u001b[0m\u001b]8;id=444704;file:///Users/moaly/Work/iris-hep/integration-challenge/cms/utils/skimming.py#822\u001b\\\u001b[2m822\u001b[0m\u001b]8;;\u001b\\\n"
      ]
     },
     "metadata": {},
     "output_type": "display_data"
    },
    {
     "data": {
      "text/html": [
       "<pre style=\"white-space:pre;overflow-x:auto;line-height:normal;font-family:Menlo,'DejaVu Sans Mono',consolas,'Courier New',monospace\"><span style=\"color: #7fbfbf; text-decoration-color: #7fbfbf\">         </span><span style=\"color: #000080; text-decoration-color: #000080\">INFO    </span> <span style=\"color: #000000; text-decoration-color: #000000\">Cached events for ttbar_lep__nominal                                              </span><a href=\"file:///Users/moaly/Work/iris-hep/integration-challenge/cms/utils/skimming.py\" target=\"_blank\"><span style=\"color: #7f7f7f; text-decoration-color: #7f7f7f\">skimming.py</span></a><span style=\"color: #7f7f7f; text-decoration-color: #7f7f7f\">:</span><a href=\"file:///Users/moaly/Work/iris-hep/integration-challenge/cms/utils/skimming.py#831\" target=\"_blank\"><span style=\"color: #7f7f7f; text-decoration-color: #7f7f7f\">831</span></a>\n",
       "</pre>\n"
      ],
      "text/plain": [
       "\u001b[2;36m        \u001b[0m\u001b[2;36m \u001b[0m\u001b[34mINFO    \u001b[0m \u001b[39mCached events for ttbar_lep__nominal                                             \u001b[0m\u001b[39m \u001b[0m\u001b]8;id=787585;file:///Users/moaly/Work/iris-hep/integration-challenge/cms/utils/skimming.py\u001b\\\u001b[2mskimming.py\u001b[0m\u001b]8;;\u001b\\\u001b[2m:\u001b[0m\u001b]8;id=379507;file:///Users/moaly/Work/iris-hep/integration-challenge/cms/utils/skimming.py#831\u001b\\\u001b[2m831\u001b[0m\u001b]8;;\u001b\\\n"
      ]
     },
     "metadata": {},
     "output_type": "display_data"
    },
    {
     "data": {
      "text/html": [
       "<pre style=\"white-space:pre;overflow-x:auto;line-height:normal;font-family:Menlo,'DejaVu Sans Mono',consolas,'Courier New',monospace\"><span style=\"color: #7fbfbf; text-decoration-color: #7fbfbf\">         </span><span style=\"color: #000080; text-decoration-color: #000080\">INFO    </span> <span style=\"color: #000000; text-decoration-color: #000000\">Found existing skimmed files for ttbar_had__nominal: </span><span style=\"color: #008080; text-decoration-color: #008080; font-weight: bold\">7</span><span style=\"color: #000000; text-decoration-color: #000000\">                            </span><a href=\"file:///Users/moaly/Work/iris-hep/integration-challenge/cms/utils/skimming.py\" target=\"_blank\"><span style=\"color: #7f7f7f; text-decoration-color: #7f7f7f\">skimming.py</span></a><span style=\"color: #7f7f7f; text-decoration-color: #7f7f7f\">:</span><a href=\"file:///Users/moaly/Work/iris-hep/integration-challenge/cms/utils/skimming.py#524\" target=\"_blank\"><span style=\"color: #7f7f7f; text-decoration-color: #7f7f7f\">524</span></a>\n",
       "</pre>\n"
      ],
      "text/plain": [
       "\u001b[2;36m        \u001b[0m\u001b[2;36m \u001b[0m\u001b[34mINFO    \u001b[0m \u001b[39mFound existing skimmed files for ttbar_had__nominal: \u001b[0m\u001b[1;36m7\u001b[0m\u001b[39m                           \u001b[0m\u001b[39m \u001b[0m\u001b]8;id=25621;file:///Users/moaly/Work/iris-hep/integration-challenge/cms/utils/skimming.py\u001b\\\u001b[2mskimming.py\u001b[0m\u001b]8;;\u001b\\\u001b[2m:\u001b[0m\u001b]8;id=711803;file:///Users/moaly/Work/iris-hep/integration-challenge/cms/utils/skimming.py#524\u001b\\\u001b[2m524\u001b[0m\u001b]8;;\u001b\\\n"
      ]
     },
     "metadata": {},
     "output_type": "display_data"
    },
    {
     "data": {
      "text/html": [
       "<pre style=\"white-space:pre;overflow-x:auto;line-height:normal;font-family:Menlo,'DejaVu Sans Mono',consolas,'Courier New',monospace\"><span style=\"color: #7fbfbf; text-decoration-color: #7fbfbf\">         </span><span style=\"color: #000080; text-decoration-color: #000080\">INFO    </span> <span style=\"color: #000000; text-decoration-color: #000000\">Merged </span><span style=\"color: #008080; text-decoration-color: #008080; font-weight: bold\">7</span><span style=\"color: #000000; text-decoration-color: #000000\"> files → </span><span style=\"color: #008080; text-decoration-color: #008080; font-weight: bold\">1958</span><span style=\"color: #000000; text-decoration-color: #000000\"> events for ttbar_had__nominal                               </span><a href=\"file:///Users/moaly/Work/iris-hep/integration-challenge/cms/utils/skimming.py\" target=\"_blank\"><span style=\"color: #7f7f7f; text-decoration-color: #7f7f7f\">skimming.py</span></a><span style=\"color: #7f7f7f; text-decoration-color: #7f7f7f\">:</span><a href=\"file:///Users/moaly/Work/iris-hep/integration-challenge/cms/utils/skimming.py#822\" target=\"_blank\"><span style=\"color: #7f7f7f; text-decoration-color: #7f7f7f\">822</span></a>\n",
       "</pre>\n"
      ],
      "text/plain": [
       "\u001b[2;36m        \u001b[0m\u001b[2;36m \u001b[0m\u001b[34mINFO    \u001b[0m \u001b[39mMerged \u001b[0m\u001b[1;36m7\u001b[0m\u001b[39m files → \u001b[0m\u001b[1;36m1958\u001b[0m\u001b[39m events for ttbar_had__nominal                              \u001b[0m\u001b[39m \u001b[0m\u001b]8;id=955171;file:///Users/moaly/Work/iris-hep/integration-challenge/cms/utils/skimming.py\u001b\\\u001b[2mskimming.py\u001b[0m\u001b]8;;\u001b\\\u001b[2m:\u001b[0m\u001b]8;id=724267;file:///Users/moaly/Work/iris-hep/integration-challenge/cms/utils/skimming.py#822\u001b\\\u001b[2m822\u001b[0m\u001b]8;;\u001b\\\n"
      ]
     },
     "metadata": {},
     "output_type": "display_data"
    },
    {
     "data": {
      "text/html": [
       "<pre style=\"white-space:pre;overflow-x:auto;line-height:normal;font-family:Menlo,'DejaVu Sans Mono',consolas,'Courier New',monospace\"><span style=\"color: #7fbfbf; text-decoration-color: #7fbfbf\">         </span><span style=\"color: #000080; text-decoration-color: #000080\">INFO    </span> <span style=\"color: #000000; text-decoration-color: #000000\">Cached events for ttbar_had__nominal                                              </span><a href=\"file:///Users/moaly/Work/iris-hep/integration-challenge/cms/utils/skimming.py\" target=\"_blank\"><span style=\"color: #7f7f7f; text-decoration-color: #7f7f7f\">skimming.py</span></a><span style=\"color: #7f7f7f; text-decoration-color: #7f7f7f\">:</span><a href=\"file:///Users/moaly/Work/iris-hep/integration-challenge/cms/utils/skimming.py#831\" target=\"_blank\"><span style=\"color: #7f7f7f; text-decoration-color: #7f7f7f\">831</span></a>\n",
       "</pre>\n"
      ],
      "text/plain": [
       "\u001b[2;36m        \u001b[0m\u001b[2;36m \u001b[0m\u001b[34mINFO    \u001b[0m \u001b[39mCached events for ttbar_had__nominal                                             \u001b[0m\u001b[39m \u001b[0m\u001b]8;id=82157;file:///Users/moaly/Work/iris-hep/integration-challenge/cms/utils/skimming.py\u001b\\\u001b[2mskimming.py\u001b[0m\u001b]8;;\u001b\\\u001b[2m:\u001b[0m\u001b]8;id=246329;file:///Users/moaly/Work/iris-hep/integration-challenge/cms/utils/skimming.py#831\u001b\\\u001b[2m831\u001b[0m\u001b]8;;\u001b\\\n"
      ]
     },
     "metadata": {},
     "output_type": "display_data"
    },
    {
     "data": {
      "text/html": [
       "<pre style=\"white-space:pre;overflow-x:auto;line-height:normal;font-family:Menlo,'DejaVu Sans Mono',consolas,'Courier New',monospace\"><span style=\"color: #7fbfbf; text-decoration-color: #7fbfbf\">         </span><span style=\"color: #000080; text-decoration-color: #000080\">INFO    </span> <span style=\"color: #000000; text-decoration-color: #000000\">Found existing skimmed files for ttbar_semilep__nominal: </span><span style=\"color: #008080; text-decoration-color: #008080; font-weight: bold\">13</span><span style=\"color: #000000; text-decoration-color: #000000\">                       </span><a href=\"file:///Users/moaly/Work/iris-hep/integration-challenge/cms/utils/skimming.py\" target=\"_blank\"><span style=\"color: #7f7f7f; text-decoration-color: #7f7f7f\">skimming.py</span></a><span style=\"color: #7f7f7f; text-decoration-color: #7f7f7f\">:</span><a href=\"file:///Users/moaly/Work/iris-hep/integration-challenge/cms/utils/skimming.py#524\" target=\"_blank\"><span style=\"color: #7f7f7f; text-decoration-color: #7f7f7f\">524</span></a>\n",
       "</pre>\n"
      ],
      "text/plain": [
       "\u001b[2;36m        \u001b[0m\u001b[2;36m \u001b[0m\u001b[34mINFO    \u001b[0m \u001b[39mFound existing skimmed files for ttbar_semilep__nominal: \u001b[0m\u001b[1;36m13\u001b[0m\u001b[39m                      \u001b[0m\u001b[39m \u001b[0m\u001b]8;id=506639;file:///Users/moaly/Work/iris-hep/integration-challenge/cms/utils/skimming.py\u001b\\\u001b[2mskimming.py\u001b[0m\u001b]8;;\u001b\\\u001b[2m:\u001b[0m\u001b]8;id=528366;file:///Users/moaly/Work/iris-hep/integration-challenge/cms/utils/skimming.py#524\u001b\\\u001b[2m524\u001b[0m\u001b]8;;\u001b\\\n"
      ]
     },
     "metadata": {},
     "output_type": "display_data"
    },
    {
     "data": {
      "text/html": [
       "<pre style=\"white-space:pre;overflow-x:auto;line-height:normal;font-family:Menlo,'DejaVu Sans Mono',consolas,'Courier New',monospace\"><span style=\"color: #7fbfbf; text-decoration-color: #7fbfbf\">16:09:40 </span><span style=\"color: #000080; text-decoration-color: #000080\">INFO    </span> <span style=\"color: #000000; text-decoration-color: #000000\">Merged </span><span style=\"color: #008080; text-decoration-color: #008080; font-weight: bold\">13</span><span style=\"color: #000000; text-decoration-color: #000000\"> files → </span><span style=\"color: #008080; text-decoration-color: #008080; font-weight: bold\">96683</span><span style=\"color: #000000; text-decoration-color: #000000\"> events for ttbar_semilep__nominal                         </span><a href=\"file:///Users/moaly/Work/iris-hep/integration-challenge/cms/utils/skimming.py\" target=\"_blank\"><span style=\"color: #7f7f7f; text-decoration-color: #7f7f7f\">skimming.py</span></a><span style=\"color: #7f7f7f; text-decoration-color: #7f7f7f\">:</span><a href=\"file:///Users/moaly/Work/iris-hep/integration-challenge/cms/utils/skimming.py#822\" target=\"_blank\"><span style=\"color: #7f7f7f; text-decoration-color: #7f7f7f\">822</span></a>\n",
       "</pre>\n"
      ],
      "text/plain": [
       "\u001b[2;36m16:09:40\u001b[0m\u001b[2;36m \u001b[0m\u001b[34mINFO    \u001b[0m \u001b[39mMerged \u001b[0m\u001b[1;36m13\u001b[0m\u001b[39m files → \u001b[0m\u001b[1;36m96683\u001b[0m\u001b[39m events for ttbar_semilep__nominal                        \u001b[0m\u001b[39m \u001b[0m\u001b]8;id=701316;file:///Users/moaly/Work/iris-hep/integration-challenge/cms/utils/skimming.py\u001b\\\u001b[2mskimming.py\u001b[0m\u001b]8;;\u001b\\\u001b[2m:\u001b[0m\u001b]8;id=68198;file:///Users/moaly/Work/iris-hep/integration-challenge/cms/utils/skimming.py#822\u001b\\\u001b[2m822\u001b[0m\u001b]8;;\u001b\\\n"
      ]
     },
     "metadata": {},
     "output_type": "display_data"
    },
    {
     "data": {
      "text/html": [
       "<pre style=\"white-space:pre;overflow-x:auto;line-height:normal;font-family:Menlo,'DejaVu Sans Mono',consolas,'Courier New',monospace\"><span style=\"color: #7fbfbf; text-decoration-color: #7fbfbf\">         </span><span style=\"color: #000080; text-decoration-color: #000080\">INFO    </span> <span style=\"color: #000000; text-decoration-color: #000000\">Cached events for ttbar_semilep__nominal                                          </span><a href=\"file:///Users/moaly/Work/iris-hep/integration-challenge/cms/utils/skimming.py\" target=\"_blank\"><span style=\"color: #7f7f7f; text-decoration-color: #7f7f7f\">skimming.py</span></a><span style=\"color: #7f7f7f; text-decoration-color: #7f7f7f\">:</span><a href=\"file:///Users/moaly/Work/iris-hep/integration-challenge/cms/utils/skimming.py#831\" target=\"_blank\"><span style=\"color: #7f7f7f; text-decoration-color: #7f7f7f\">831</span></a>\n",
       "</pre>\n"
      ],
      "text/plain": [
       "\u001b[2;36m        \u001b[0m\u001b[2;36m \u001b[0m\u001b[34mINFO    \u001b[0m \u001b[39mCached events for ttbar_semilep__nominal                                         \u001b[0m\u001b[39m \u001b[0m\u001b]8;id=4454;file:///Users/moaly/Work/iris-hep/integration-challenge/cms/utils/skimming.py\u001b\\\u001b[2mskimming.py\u001b[0m\u001b]8;;\u001b\\\u001b[2m:\u001b[0m\u001b]8;id=463830;file:///Users/moaly/Work/iris-hep/integration-challenge/cms/utils/skimming.py#831\u001b\\\u001b[2m831\u001b[0m\u001b]8;;\u001b\\\n"
      ]
     },
     "metadata": {},
     "output_type": "display_data"
    },
    {
     "data": {
      "text/html": [
       "<pre style=\"white-space:pre;overflow-x:auto;line-height:normal;font-family:Menlo,'DejaVu Sans Mono',consolas,'Courier New',monospace\"><span style=\"color: #7fbfbf; text-decoration-color: #7fbfbf\">         </span><span style=\"color: #000080; text-decoration-color: #000080\">INFO    </span> <span style=\"color: #000000; text-decoration-color: #000000\">Found existing skimmed files for signal__nominal: </span><span style=\"color: #008080; text-decoration-color: #008080; font-weight: bold\">5</span><span style=\"color: #000000; text-decoration-color: #000000\">                               </span><a href=\"file:///Users/moaly/Work/iris-hep/integration-challenge/cms/utils/skimming.py\" target=\"_blank\"><span style=\"color: #7f7f7f; text-decoration-color: #7f7f7f\">skimming.py</span></a><span style=\"color: #7f7f7f; text-decoration-color: #7f7f7f\">:</span><a href=\"file:///Users/moaly/Work/iris-hep/integration-challenge/cms/utils/skimming.py#524\" target=\"_blank\"><span style=\"color: #7f7f7f; text-decoration-color: #7f7f7f\">524</span></a>\n",
       "</pre>\n"
      ],
      "text/plain": [
       "\u001b[2;36m        \u001b[0m\u001b[2;36m \u001b[0m\u001b[34mINFO    \u001b[0m \u001b[39mFound existing skimmed files for signal__nominal: \u001b[0m\u001b[1;36m5\u001b[0m\u001b[39m                              \u001b[0m\u001b[39m \u001b[0m\u001b]8;id=371498;file:///Users/moaly/Work/iris-hep/integration-challenge/cms/utils/skimming.py\u001b\\\u001b[2mskimming.py\u001b[0m\u001b]8;;\u001b\\\u001b[2m:\u001b[0m\u001b]8;id=608291;file:///Users/moaly/Work/iris-hep/integration-challenge/cms/utils/skimming.py#524\u001b\\\u001b[2m524\u001b[0m\u001b]8;;\u001b\\\n"
      ]
     },
     "metadata": {},
     "output_type": "display_data"
    },
    {
     "data": {
      "text/html": [
       "<pre style=\"white-space:pre;overflow-x:auto;line-height:normal;font-family:Menlo,'DejaVu Sans Mono',consolas,'Courier New',monospace\"><span style=\"color: #7fbfbf; text-decoration-color: #7fbfbf\">         </span><span style=\"color: #000080; text-decoration-color: #000080\">INFO    </span> <span style=\"color: #000000; text-decoration-color: #000000\">Merged </span><span style=\"color: #008080; text-decoration-color: #008080; font-weight: bold\">5</span><span style=\"color: #000000; text-decoration-color: #000000\"> files → </span><span style=\"color: #008080; text-decoration-color: #008080; font-weight: bold\">97109</span><span style=\"color: #000000; text-decoration-color: #000000\"> events for signal__nominal                                 </span><a href=\"file:///Users/moaly/Work/iris-hep/integration-challenge/cms/utils/skimming.py\" target=\"_blank\"><span style=\"color: #7f7f7f; text-decoration-color: #7f7f7f\">skimming.py</span></a><span style=\"color: #7f7f7f; text-decoration-color: #7f7f7f\">:</span><a href=\"file:///Users/moaly/Work/iris-hep/integration-challenge/cms/utils/skimming.py#822\" target=\"_blank\"><span style=\"color: #7f7f7f; text-decoration-color: #7f7f7f\">822</span></a>\n",
       "</pre>\n"
      ],
      "text/plain": [
       "\u001b[2;36m        \u001b[0m\u001b[2;36m \u001b[0m\u001b[34mINFO    \u001b[0m \u001b[39mMerged \u001b[0m\u001b[1;36m5\u001b[0m\u001b[39m files → \u001b[0m\u001b[1;36m97109\u001b[0m\u001b[39m events for signal__nominal                                \u001b[0m\u001b[39m \u001b[0m\u001b]8;id=205394;file:///Users/moaly/Work/iris-hep/integration-challenge/cms/utils/skimming.py\u001b\\\u001b[2mskimming.py\u001b[0m\u001b]8;;\u001b\\\u001b[2m:\u001b[0m\u001b]8;id=911823;file:///Users/moaly/Work/iris-hep/integration-challenge/cms/utils/skimming.py#822\u001b\\\u001b[2m822\u001b[0m\u001b]8;;\u001b\\\n"
      ]
     },
     "metadata": {},
     "output_type": "display_data"
    },
    {
     "data": {
      "text/html": [
       "<pre style=\"white-space:pre;overflow-x:auto;line-height:normal;font-family:Menlo,'DejaVu Sans Mono',consolas,'Courier New',monospace\"><span style=\"color: #7fbfbf; text-decoration-color: #7fbfbf\">         </span><span style=\"color: #000080; text-decoration-color: #000080\">INFO    </span> <span style=\"color: #000000; text-decoration-color: #000000\">Cached events for signal__nominal                                                 </span><a href=\"file:///Users/moaly/Work/iris-hep/integration-challenge/cms/utils/skimming.py\" target=\"_blank\"><span style=\"color: #7f7f7f; text-decoration-color: #7f7f7f\">skimming.py</span></a><span style=\"color: #7f7f7f; text-decoration-color: #7f7f7f\">:</span><a href=\"file:///Users/moaly/Work/iris-hep/integration-challenge/cms/utils/skimming.py#831\" target=\"_blank\"><span style=\"color: #7f7f7f; text-decoration-color: #7f7f7f\">831</span></a>\n",
       "</pre>\n"
      ],
      "text/plain": [
       "\u001b[2;36m        \u001b[0m\u001b[2;36m \u001b[0m\u001b[34mINFO    \u001b[0m \u001b[39mCached events for signal__nominal                                                \u001b[0m\u001b[39m \u001b[0m\u001b]8;id=768262;file:///Users/moaly/Work/iris-hep/integration-challenge/cms/utils/skimming.py\u001b\\\u001b[2mskimming.py\u001b[0m\u001b]8;;\u001b\\\u001b[2m:\u001b[0m\u001b]8;id=538937;file:///Users/moaly/Work/iris-hep/integration-challenge/cms/utils/skimming.py#831\u001b\\\u001b[2m831\u001b[0m\u001b]8;;\u001b\\\n"
      ]
     },
     "metadata": {},
     "output_type": "display_data"
    },
    {
     "name": "stdout",
     "output_type": "stream",
     "text": [
      "\n",
      "✅ Skimming complete! Processed datasets structure x:\n",
      "  📁 data processed\n",
      "    └── File 1: 94251 events, 8 branches\n",
      "  📁 wjets__nominal processed\n",
      "    └── File 1: 7313 events, 10 branches\n",
      "  📁 ttbar_lep__nominal processed\n",
      "    └── File 1: 82406 events, 10 branches\n",
      "  📁 ttbar_had__nominal processed\n",
      "    └── File 1: 1958 events, 10 branches\n",
      "  📁 ttbar_semilep__nominal processed\n",
      "    └── File 1: 96683 events, 10 branches\n",
      "  📁 signal__nominal processed\n",
      "    └── File 1: 97109 events, 10 branches\n",
      "\n",
      "💾 Skimmed data saved to: /Users/moaly/Work/iris-hep/integration-challenge/cms/example/outputs/skimmed\n"
     ]
    }
   ],
   "source": [
    "from utils.skimming import process_workitems_with_skimming\n",
    "\n",
    "# Extract workitems and fileset from metadata generator\n",
    "fileset = metadata_generator.fileset\n",
    "workitems = metadata_generator.workitems\n",
    "\n",
    "print(f\"📊 Processing {len(workitems)} workitems across {len(fileset)} datasets\")\n",
    "\n",
    "# Disable caching for demonstration\n",
    "validated_config.general.read_from_cache = False\n",
    "validated_config.general.run_skimming = True\n",
    "\n",
    "# Skim data with dask according to the workitems\n",
    "processed_datasets = process_workitems_with_skimming(\n",
    "    workitems,\n",
    "    validated_config,\n",
    "    output_manager,\n",
    "    fileset,\n",
    "    metadata_generator.nanoaods_summary\n",
    ")\n",
    "\n",
    "# Display the structure of processed datasets\n",
    "print(f\"\\n✅ Skimming complete! Processed datasets structure x:\")\n",
    "for dataset_name, events_list in processed_datasets.items():\n",
    "    print(f\"  📁 {dataset_name} processed\")\n",
    "    for i, (events, metadata) in enumerate(events_list):\n",
    "        print(f\"    └── File {i+1}: {len(events)} events, {len(events.fields)} branches\")\n",
    "\n",
    "print(f\"\\n💾 Skimmed data saved to: {output_manager.get_skimmed_dir()}\")"
   ]
  },
  {
   "cell_type": "code",
   "execution_count": 7,
   "id": "a2b7f222",
   "metadata": {},
   "outputs": [
    {
     "data": {
      "text/html": [
       "<pre style=\"white-space:pre;overflow-x:auto;line-height:normal;font-family:Menlo,'DejaVu Sans Mono',consolas,'Courier New',monospace\"><span style=\"color: #7fbfbf; text-decoration-color: #7fbfbf\">         </span><span style=\"color: #000080; text-decoration-color: #000080\">INFO    </span> <span style=\"color: #000000; text-decoration-color: #000000\">Starting workitem preprocessing with </span><span style=\"color: #008080; text-decoration-color: #008080; font-weight: bold\">82</span><span style=\"color: #000000; text-decoration-color: #000000\"> workitems                                 </span><a href=\"file:///Users/moaly/Work/iris-hep/integration-challenge/cms/utils/skimming.py\" target=\"_blank\"><span style=\"color: #7f7f7f; text-decoration-color: #7f7f7f\">skimming.py</span></a><span style=\"color: #7f7f7f; text-decoration-color: #7f7f7f\">:</span><a href=\"file:///Users/moaly/Work/iris-hep/integration-challenge/cms/utils/skimming.py#705\" target=\"_blank\"><span style=\"color: #7f7f7f; text-decoration-color: #7f7f7f\">705</span></a>\n",
       "</pre>\n"
      ],
      "text/plain": [
       "\u001b[2;36m        \u001b[0m\u001b[2;36m \u001b[0m\u001b[34mINFO    \u001b[0m \u001b[39mStarting workitem preprocessing with \u001b[0m\u001b[1;36m82\u001b[0m\u001b[39m workitems                                \u001b[0m\u001b[39m \u001b[0m\u001b]8;id=391456;file:///Users/moaly/Work/iris-hep/integration-challenge/cms/utils/skimming.py\u001b\\\u001b[2mskimming.py\u001b[0m\u001b]8;;\u001b\\\u001b[2m:\u001b[0m\u001b]8;id=640616;file:///Users/moaly/Work/iris-hep/integration-challenge/cms/utils/skimming.py#705\u001b\\\u001b[2m705\u001b[0m\u001b]8;;\u001b\\\n"
      ]
     },
     "metadata": {},
     "output_type": "display_data"
    },
    {
     "data": {
      "text/html": [
       "<pre style=\"white-space:pre;overflow-x:auto;line-height:normal;font-family:Menlo,'DejaVu Sans Mono',consolas,'Courier New',monospace\"><span style=\"color: #7fbfbf; text-decoration-color: #7fbfbf\">         </span><span style=\"color: #000080; text-decoration-color: #000080\">INFO    </span> <span style=\"color: #000000; text-decoration-color: #000000\">Initialized workitem-based skimming manager                                       </span><a href=\"file:///Users/moaly/Work/iris-hep/integration-challenge/cms/utils/skimming.py\" target=\"_blank\"><span style=\"color: #7f7f7f; text-decoration-color: #7f7f7f\">skimming.py</span></a><span style=\"color: #7f7f7f; text-decoration-color: #7f7f7f\">:</span><a href=\"file:///Users/moaly/Work/iris-hep/integration-challenge/cms/utils/skimming.py#372\" target=\"_blank\"><span style=\"color: #7f7f7f; text-decoration-color: #7f7f7f\">372</span></a>\n",
       "</pre>\n"
      ],
      "text/plain": [
       "\u001b[2;36m        \u001b[0m\u001b[2;36m \u001b[0m\u001b[34mINFO    \u001b[0m \u001b[39mInitialized workitem-based skimming manager                                      \u001b[0m\u001b[39m \u001b[0m\u001b]8;id=743514;file:///Users/moaly/Work/iris-hep/integration-challenge/cms/utils/skimming.py\u001b\\\u001b[2mskimming.py\u001b[0m\u001b]8;;\u001b\\\u001b[2m:\u001b[0m\u001b]8;id=920036;file:///Users/moaly/Work/iris-hep/integration-challenge/cms/utils/skimming.py#372\u001b\\\u001b[2m372\u001b[0m\u001b]8;;\u001b\\\n"
      ]
     },
     "metadata": {},
     "output_type": "display_data"
    },
    {
     "data": {
      "text/html": [
       "<pre style=\"white-space:pre;overflow-x:auto;line-height:normal;font-family:Menlo,'DejaVu Sans Mono',consolas,'Courier New',monospace\"><span style=\"color: #7fbfbf; text-decoration-color: #7fbfbf\">         </span><span style=\"color: #000080; text-decoration-color: #000080\">INFO    </span> <span style=\"color: #000000; text-decoration-color: #000000\">Reading from saved files                                                          </span><a href=\"file:///Users/moaly/Work/iris-hep/integration-challenge/cms/utils/skimming.py\" target=\"_blank\"><span style=\"color: #7f7f7f; text-decoration-color: #7f7f7f\">skimming.py</span></a><span style=\"color: #7f7f7f; text-decoration-color: #7f7f7f\">:</span><a href=\"file:///Users/moaly/Work/iris-hep/integration-challenge/cms/utils/skimming.py#725\" target=\"_blank\"><span style=\"color: #7f7f7f; text-decoration-color: #7f7f7f\">725</span></a>\n",
       "</pre>\n"
      ],
      "text/plain": [
       "\u001b[2;36m        \u001b[0m\u001b[2;36m \u001b[0m\u001b[34mINFO    \u001b[0m \u001b[39mReading from saved files                                                         \u001b[0m\u001b[39m \u001b[0m\u001b]8;id=983839;file:///Users/moaly/Work/iris-hep/integration-challenge/cms/utils/skimming.py\u001b\\\u001b[2mskimming.py\u001b[0m\u001b]8;;\u001b\\\u001b[2m:\u001b[0m\u001b]8;id=428442;file:///Users/moaly/Work/iris-hep/integration-challenge/cms/utils/skimming.py#725\u001b\\\u001b[2m725\u001b[0m\u001b]8;;\u001b\\\n"
      ]
     },
     "metadata": {},
     "output_type": "display_data"
    },
    {
     "data": {
      "text/html": [
       "<pre style=\"white-space:pre;overflow-x:auto;line-height:normal;font-family:Menlo,'DejaVu Sans Mono',consolas,'Courier New',monospace\"><span style=\"color: #7fbfbf; text-decoration-color: #7fbfbf\">         </span><span style=\"color: #000080; text-decoration-color: #000080\">INFO    </span> <span style=\"color: #000000; text-decoration-color: #000000\">Found existing skimmed files for data: </span><span style=\"color: #008080; text-decoration-color: #008080; font-weight: bold\">29</span><span style=\"color: #000000; text-decoration-color: #000000\">                                         </span><a href=\"file:///Users/moaly/Work/iris-hep/integration-challenge/cms/utils/skimming.py\" target=\"_blank\"><span style=\"color: #7f7f7f; text-decoration-color: #7f7f7f\">skimming.py</span></a><span style=\"color: #7f7f7f; text-decoration-color: #7f7f7f\">:</span><a href=\"file:///Users/moaly/Work/iris-hep/integration-challenge/cms/utils/skimming.py#524\" target=\"_blank\"><span style=\"color: #7f7f7f; text-decoration-color: #7f7f7f\">524</span></a>\n",
       "</pre>\n"
      ],
      "text/plain": [
       "\u001b[2;36m        \u001b[0m\u001b[2;36m \u001b[0m\u001b[34mINFO    \u001b[0m \u001b[39mFound existing skimmed files for data: \u001b[0m\u001b[1;36m29\u001b[0m\u001b[39m                                        \u001b[0m\u001b[39m \u001b[0m\u001b]8;id=452711;file:///Users/moaly/Work/iris-hep/integration-challenge/cms/utils/skimming.py\u001b\\\u001b[2mskimming.py\u001b[0m\u001b]8;;\u001b\\\u001b[2m:\u001b[0m\u001b]8;id=883215;file:///Users/moaly/Work/iris-hep/integration-challenge/cms/utils/skimming.py#524\u001b\\\u001b[2m524\u001b[0m\u001b]8;;\u001b\\\n"
      ]
     },
     "metadata": {},
     "output_type": "display_data"
    },
    {
     "data": {
      "text/html": [
       "<pre style=\"white-space:pre;overflow-x:auto;line-height:normal;font-family:Menlo,'DejaVu Sans Mono',consolas,'Courier New',monospace\"><span style=\"color: #7fbfbf; text-decoration-color: #7fbfbf\">         </span><span style=\"color: #000080; text-decoration-color: #000080\">INFO    </span> <span style=\"color: #000000; text-decoration-color: #000000\">Loading cached events for data                                                    </span><a href=\"file:///Users/moaly/Work/iris-hep/integration-challenge/cms/utils/skimming.py\" target=\"_blank\"><span style=\"color: #7f7f7f; text-decoration-color: #7f7f7f\">skimming.py</span></a><span style=\"color: #7f7f7f; text-decoration-color: #7f7f7f\">:</span><a href=\"file:///Users/moaly/Work/iris-hep/integration-challenge/cms/utils/skimming.py#784\" target=\"_blank\"><span style=\"color: #7f7f7f; text-decoration-color: #7f7f7f\">784</span></a>\n",
       "</pre>\n"
      ],
      "text/plain": [
       "\u001b[2;36m        \u001b[0m\u001b[2;36m \u001b[0m\u001b[34mINFO    \u001b[0m \u001b[39mLoading cached events for data                                                   \u001b[0m\u001b[39m \u001b[0m\u001b]8;id=559422;file:///Users/moaly/Work/iris-hep/integration-challenge/cms/utils/skimming.py\u001b\\\u001b[2mskimming.py\u001b[0m\u001b]8;;\u001b\\\u001b[2m:\u001b[0m\u001b]8;id=467773;file:///Users/moaly/Work/iris-hep/integration-challenge/cms/utils/skimming.py#784\u001b\\\u001b[2m784\u001b[0m\u001b]8;;\u001b\\\n"
      ]
     },
     "metadata": {},
     "output_type": "display_data"
    },
    {
     "data": {
      "text/html": [
       "<pre style=\"white-space:pre;overflow-x:auto;line-height:normal;font-family:Menlo,'DejaVu Sans Mono',consolas,'Courier New',monospace\"><span style=\"color: #7fbfbf; text-decoration-color: #7fbfbf\">         </span><span style=\"color: #000080; text-decoration-color: #000080\">INFO    </span> <span style=\"color: #000000; text-decoration-color: #000000\">Loaded </span><span style=\"color: #008080; text-decoration-color: #008080; font-weight: bold\">94251</span><span style=\"color: #000000; text-decoration-color: #000000\"> cached events                                                        </span><a href=\"file:///Users/moaly/Work/iris-hep/integration-challenge/cms/utils/skimming.py\" target=\"_blank\"><span style=\"color: #7f7f7f; text-decoration-color: #7f7f7f\">skimming.py</span></a><span style=\"color: #7f7f7f; text-decoration-color: #7f7f7f\">:</span><a href=\"file:///Users/moaly/Work/iris-hep/integration-challenge/cms/utils/skimming.py#788\" target=\"_blank\"><span style=\"color: #7f7f7f; text-decoration-color: #7f7f7f\">788</span></a>\n",
       "</pre>\n"
      ],
      "text/plain": [
       "\u001b[2;36m        \u001b[0m\u001b[2;36m \u001b[0m\u001b[34mINFO    \u001b[0m \u001b[39mLoaded \u001b[0m\u001b[1;36m94251\u001b[0m\u001b[39m cached events                                                       \u001b[0m\u001b[39m \u001b[0m\u001b]8;id=731893;file:///Users/moaly/Work/iris-hep/integration-challenge/cms/utils/skimming.py\u001b\\\u001b[2mskimming.py\u001b[0m\u001b]8;;\u001b\\\u001b[2m:\u001b[0m\u001b]8;id=936699;file:///Users/moaly/Work/iris-hep/integration-challenge/cms/utils/skimming.py#788\u001b\\\u001b[2m788\u001b[0m\u001b]8;;\u001b\\\n"
      ]
     },
     "metadata": {},
     "output_type": "display_data"
    },
    {
     "data": {
      "text/html": [
       "<pre style=\"white-space:pre;overflow-x:auto;line-height:normal;font-family:Menlo,'DejaVu Sans Mono',consolas,'Courier New',monospace\"><span style=\"color: #7fbfbf; text-decoration-color: #7fbfbf\">         </span><span style=\"color: #000080; text-decoration-color: #000080\">INFO    </span> <span style=\"color: #000000; text-decoration-color: #000000\">Found existing skimmed files for wjets__nominal: </span><span style=\"color: #008080; text-decoration-color: #008080; font-weight: bold\">23</span><span style=\"color: #000000; text-decoration-color: #000000\">                               </span><a href=\"file:///Users/moaly/Work/iris-hep/integration-challenge/cms/utils/skimming.py\" target=\"_blank\"><span style=\"color: #7f7f7f; text-decoration-color: #7f7f7f\">skimming.py</span></a><span style=\"color: #7f7f7f; text-decoration-color: #7f7f7f\">:</span><a href=\"file:///Users/moaly/Work/iris-hep/integration-challenge/cms/utils/skimming.py#524\" target=\"_blank\"><span style=\"color: #7f7f7f; text-decoration-color: #7f7f7f\">524</span></a>\n",
       "</pre>\n"
      ],
      "text/plain": [
       "\u001b[2;36m        \u001b[0m\u001b[2;36m \u001b[0m\u001b[34mINFO    \u001b[0m \u001b[39mFound existing skimmed files for wjets__nominal: \u001b[0m\u001b[1;36m23\u001b[0m\u001b[39m                              \u001b[0m\u001b[39m \u001b[0m\u001b]8;id=592137;file:///Users/moaly/Work/iris-hep/integration-challenge/cms/utils/skimming.py\u001b\\\u001b[2mskimming.py\u001b[0m\u001b]8;;\u001b\\\u001b[2m:\u001b[0m\u001b]8;id=776466;file:///Users/moaly/Work/iris-hep/integration-challenge/cms/utils/skimming.py#524\u001b\\\u001b[2m524\u001b[0m\u001b]8;;\u001b\\\n"
      ]
     },
     "metadata": {},
     "output_type": "display_data"
    },
    {
     "data": {
      "text/html": [
       "<pre style=\"white-space:pre;overflow-x:auto;line-height:normal;font-family:Menlo,'DejaVu Sans Mono',consolas,'Courier New',monospace\"><span style=\"color: #7fbfbf; text-decoration-color: #7fbfbf\">         </span><span style=\"color: #000080; text-decoration-color: #000080\">INFO    </span> <span style=\"color: #000000; text-decoration-color: #000000\">Loading cached events for wjets__nominal                                          </span><a href=\"file:///Users/moaly/Work/iris-hep/integration-challenge/cms/utils/skimming.py\" target=\"_blank\"><span style=\"color: #7f7f7f; text-decoration-color: #7f7f7f\">skimming.py</span></a><span style=\"color: #7f7f7f; text-decoration-color: #7f7f7f\">:</span><a href=\"file:///Users/moaly/Work/iris-hep/integration-challenge/cms/utils/skimming.py#784\" target=\"_blank\"><span style=\"color: #7f7f7f; text-decoration-color: #7f7f7f\">784</span></a>\n",
       "</pre>\n"
      ],
      "text/plain": [
       "\u001b[2;36m        \u001b[0m\u001b[2;36m \u001b[0m\u001b[34mINFO    \u001b[0m \u001b[39mLoading cached events for wjets__nominal                                         \u001b[0m\u001b[39m \u001b[0m\u001b]8;id=231735;file:///Users/moaly/Work/iris-hep/integration-challenge/cms/utils/skimming.py\u001b\\\u001b[2mskimming.py\u001b[0m\u001b]8;;\u001b\\\u001b[2m:\u001b[0m\u001b]8;id=757327;file:///Users/moaly/Work/iris-hep/integration-challenge/cms/utils/skimming.py#784\u001b\\\u001b[2m784\u001b[0m\u001b]8;;\u001b\\\n"
      ]
     },
     "metadata": {},
     "output_type": "display_data"
    },
    {
     "data": {
      "text/html": [
       "<pre style=\"white-space:pre;overflow-x:auto;line-height:normal;font-family:Menlo,'DejaVu Sans Mono',consolas,'Courier New',monospace\"><span style=\"color: #7fbfbf; text-decoration-color: #7fbfbf\">         </span><span style=\"color: #000080; text-decoration-color: #000080\">INFO    </span> <span style=\"color: #000000; text-decoration-color: #000000\">Loaded </span><span style=\"color: #008080; text-decoration-color: #008080; font-weight: bold\">7313</span><span style=\"color: #000000; text-decoration-color: #000000\"> cached events                                                         </span><a href=\"file:///Users/moaly/Work/iris-hep/integration-challenge/cms/utils/skimming.py\" target=\"_blank\"><span style=\"color: #7f7f7f; text-decoration-color: #7f7f7f\">skimming.py</span></a><span style=\"color: #7f7f7f; text-decoration-color: #7f7f7f\">:</span><a href=\"file:///Users/moaly/Work/iris-hep/integration-challenge/cms/utils/skimming.py#788\" target=\"_blank\"><span style=\"color: #7f7f7f; text-decoration-color: #7f7f7f\">788</span></a>\n",
       "</pre>\n"
      ],
      "text/plain": [
       "\u001b[2;36m        \u001b[0m\u001b[2;36m \u001b[0m\u001b[34mINFO    \u001b[0m \u001b[39mLoaded \u001b[0m\u001b[1;36m7313\u001b[0m\u001b[39m cached events                                                        \u001b[0m\u001b[39m \u001b[0m\u001b]8;id=937354;file:///Users/moaly/Work/iris-hep/integration-challenge/cms/utils/skimming.py\u001b\\\u001b[2mskimming.py\u001b[0m\u001b]8;;\u001b\\\u001b[2m:\u001b[0m\u001b]8;id=846564;file:///Users/moaly/Work/iris-hep/integration-challenge/cms/utils/skimming.py#788\u001b\\\u001b[2m788\u001b[0m\u001b]8;;\u001b\\\n"
      ]
     },
     "metadata": {},
     "output_type": "display_data"
    },
    {
     "data": {
      "text/html": [
       "<pre style=\"white-space:pre;overflow-x:auto;line-height:normal;font-family:Menlo,'DejaVu Sans Mono',consolas,'Courier New',monospace\"><span style=\"color: #7fbfbf; text-decoration-color: #7fbfbf\">         </span><span style=\"color: #000080; text-decoration-color: #000080\">INFO    </span> <span style=\"color: #000000; text-decoration-color: #000000\">Found existing skimmed files for ttbar_lep__nominal: </span><span style=\"color: #008080; text-decoration-color: #008080; font-weight: bold\">5</span><span style=\"color: #000000; text-decoration-color: #000000\">                            </span><a href=\"file:///Users/moaly/Work/iris-hep/integration-challenge/cms/utils/skimming.py\" target=\"_blank\"><span style=\"color: #7f7f7f; text-decoration-color: #7f7f7f\">skimming.py</span></a><span style=\"color: #7f7f7f; text-decoration-color: #7f7f7f\">:</span><a href=\"file:///Users/moaly/Work/iris-hep/integration-challenge/cms/utils/skimming.py#524\" target=\"_blank\"><span style=\"color: #7f7f7f; text-decoration-color: #7f7f7f\">524</span></a>\n",
       "</pre>\n"
      ],
      "text/plain": [
       "\u001b[2;36m        \u001b[0m\u001b[2;36m \u001b[0m\u001b[34mINFO    \u001b[0m \u001b[39mFound existing skimmed files for ttbar_lep__nominal: \u001b[0m\u001b[1;36m5\u001b[0m\u001b[39m                           \u001b[0m\u001b[39m \u001b[0m\u001b]8;id=350730;file:///Users/moaly/Work/iris-hep/integration-challenge/cms/utils/skimming.py\u001b\\\u001b[2mskimming.py\u001b[0m\u001b]8;;\u001b\\\u001b[2m:\u001b[0m\u001b]8;id=667696;file:///Users/moaly/Work/iris-hep/integration-challenge/cms/utils/skimming.py#524\u001b\\\u001b[2m524\u001b[0m\u001b]8;;\u001b\\\n"
      ]
     },
     "metadata": {},
     "output_type": "display_data"
    },
    {
     "data": {
      "text/html": [
       "<pre style=\"white-space:pre;overflow-x:auto;line-height:normal;font-family:Menlo,'DejaVu Sans Mono',consolas,'Courier New',monospace\"><span style=\"color: #7fbfbf; text-decoration-color: #7fbfbf\">         </span><span style=\"color: #000080; text-decoration-color: #000080\">INFO    </span> <span style=\"color: #000000; text-decoration-color: #000000\">Loading cached events for ttbar_lep__nominal                                      </span><a href=\"file:///Users/moaly/Work/iris-hep/integration-challenge/cms/utils/skimming.py\" target=\"_blank\"><span style=\"color: #7f7f7f; text-decoration-color: #7f7f7f\">skimming.py</span></a><span style=\"color: #7f7f7f; text-decoration-color: #7f7f7f\">:</span><a href=\"file:///Users/moaly/Work/iris-hep/integration-challenge/cms/utils/skimming.py#784\" target=\"_blank\"><span style=\"color: #7f7f7f; text-decoration-color: #7f7f7f\">784</span></a>\n",
       "</pre>\n"
      ],
      "text/plain": [
       "\u001b[2;36m        \u001b[0m\u001b[2;36m \u001b[0m\u001b[34mINFO    \u001b[0m \u001b[39mLoading cached events for ttbar_lep__nominal                                     \u001b[0m\u001b[39m \u001b[0m\u001b]8;id=420446;file:///Users/moaly/Work/iris-hep/integration-challenge/cms/utils/skimming.py\u001b\\\u001b[2mskimming.py\u001b[0m\u001b]8;;\u001b\\\u001b[2m:\u001b[0m\u001b]8;id=362169;file:///Users/moaly/Work/iris-hep/integration-challenge/cms/utils/skimming.py#784\u001b\\\u001b[2m784\u001b[0m\u001b]8;;\u001b\\\n"
      ]
     },
     "metadata": {},
     "output_type": "display_data"
    },
    {
     "data": {
      "text/html": [
       "<pre style=\"white-space:pre;overflow-x:auto;line-height:normal;font-family:Menlo,'DejaVu Sans Mono',consolas,'Courier New',monospace\"><span style=\"color: #7fbfbf; text-decoration-color: #7fbfbf\">         </span><span style=\"color: #000080; text-decoration-color: #000080\">INFO    </span> <span style=\"color: #000000; text-decoration-color: #000000\">Loaded </span><span style=\"color: #008080; text-decoration-color: #008080; font-weight: bold\">82406</span><span style=\"color: #000000; text-decoration-color: #000000\"> cached events                                                        </span><a href=\"file:///Users/moaly/Work/iris-hep/integration-challenge/cms/utils/skimming.py\" target=\"_blank\"><span style=\"color: #7f7f7f; text-decoration-color: #7f7f7f\">skimming.py</span></a><span style=\"color: #7f7f7f; text-decoration-color: #7f7f7f\">:</span><a href=\"file:///Users/moaly/Work/iris-hep/integration-challenge/cms/utils/skimming.py#788\" target=\"_blank\"><span style=\"color: #7f7f7f; text-decoration-color: #7f7f7f\">788</span></a>\n",
       "</pre>\n"
      ],
      "text/plain": [
       "\u001b[2;36m        \u001b[0m\u001b[2;36m \u001b[0m\u001b[34mINFO    \u001b[0m \u001b[39mLoaded \u001b[0m\u001b[1;36m82406\u001b[0m\u001b[39m cached events                                                       \u001b[0m\u001b[39m \u001b[0m\u001b]8;id=245015;file:///Users/moaly/Work/iris-hep/integration-challenge/cms/utils/skimming.py\u001b\\\u001b[2mskimming.py\u001b[0m\u001b]8;;\u001b\\\u001b[2m:\u001b[0m\u001b]8;id=430106;file:///Users/moaly/Work/iris-hep/integration-challenge/cms/utils/skimming.py#788\u001b\\\u001b[2m788\u001b[0m\u001b]8;;\u001b\\\n"
      ]
     },
     "metadata": {},
     "output_type": "display_data"
    },
    {
     "data": {
      "text/html": [
       "<pre style=\"white-space:pre;overflow-x:auto;line-height:normal;font-family:Menlo,'DejaVu Sans Mono',consolas,'Courier New',monospace\"><span style=\"color: #7fbfbf; text-decoration-color: #7fbfbf\">         </span><span style=\"color: #000080; text-decoration-color: #000080\">INFO    </span> <span style=\"color: #000000; text-decoration-color: #000000\">Found existing skimmed files for ttbar_had__nominal: </span><span style=\"color: #008080; text-decoration-color: #008080; font-weight: bold\">7</span><span style=\"color: #000000; text-decoration-color: #000000\">                            </span><a href=\"file:///Users/moaly/Work/iris-hep/integration-challenge/cms/utils/skimming.py\" target=\"_blank\"><span style=\"color: #7f7f7f; text-decoration-color: #7f7f7f\">skimming.py</span></a><span style=\"color: #7f7f7f; text-decoration-color: #7f7f7f\">:</span><a href=\"file:///Users/moaly/Work/iris-hep/integration-challenge/cms/utils/skimming.py#524\" target=\"_blank\"><span style=\"color: #7f7f7f; text-decoration-color: #7f7f7f\">524</span></a>\n",
       "</pre>\n"
      ],
      "text/plain": [
       "\u001b[2;36m        \u001b[0m\u001b[2;36m \u001b[0m\u001b[34mINFO    \u001b[0m \u001b[39mFound existing skimmed files for ttbar_had__nominal: \u001b[0m\u001b[1;36m7\u001b[0m\u001b[39m                           \u001b[0m\u001b[39m \u001b[0m\u001b]8;id=130118;file:///Users/moaly/Work/iris-hep/integration-challenge/cms/utils/skimming.py\u001b\\\u001b[2mskimming.py\u001b[0m\u001b]8;;\u001b\\\u001b[2m:\u001b[0m\u001b]8;id=156745;file:///Users/moaly/Work/iris-hep/integration-challenge/cms/utils/skimming.py#524\u001b\\\u001b[2m524\u001b[0m\u001b]8;;\u001b\\\n"
      ]
     },
     "metadata": {},
     "output_type": "display_data"
    },
    {
     "data": {
      "text/html": [
       "<pre style=\"white-space:pre;overflow-x:auto;line-height:normal;font-family:Menlo,'DejaVu Sans Mono',consolas,'Courier New',monospace\"><span style=\"color: #7fbfbf; text-decoration-color: #7fbfbf\">         </span><span style=\"color: #000080; text-decoration-color: #000080\">INFO    </span> <span style=\"color: #000000; text-decoration-color: #000000\">Loading cached events for ttbar_had__nominal                                      </span><a href=\"file:///Users/moaly/Work/iris-hep/integration-challenge/cms/utils/skimming.py\" target=\"_blank\"><span style=\"color: #7f7f7f; text-decoration-color: #7f7f7f\">skimming.py</span></a><span style=\"color: #7f7f7f; text-decoration-color: #7f7f7f\">:</span><a href=\"file:///Users/moaly/Work/iris-hep/integration-challenge/cms/utils/skimming.py#784\" target=\"_blank\"><span style=\"color: #7f7f7f; text-decoration-color: #7f7f7f\">784</span></a>\n",
       "</pre>\n"
      ],
      "text/plain": [
       "\u001b[2;36m        \u001b[0m\u001b[2;36m \u001b[0m\u001b[34mINFO    \u001b[0m \u001b[39mLoading cached events for ttbar_had__nominal                                     \u001b[0m\u001b[39m \u001b[0m\u001b]8;id=962096;file:///Users/moaly/Work/iris-hep/integration-challenge/cms/utils/skimming.py\u001b\\\u001b[2mskimming.py\u001b[0m\u001b]8;;\u001b\\\u001b[2m:\u001b[0m\u001b]8;id=139092;file:///Users/moaly/Work/iris-hep/integration-challenge/cms/utils/skimming.py#784\u001b\\\u001b[2m784\u001b[0m\u001b]8;;\u001b\\\n"
      ]
     },
     "metadata": {},
     "output_type": "display_data"
    },
    {
     "data": {
      "text/html": [
       "<pre style=\"white-space:pre;overflow-x:auto;line-height:normal;font-family:Menlo,'DejaVu Sans Mono',consolas,'Courier New',monospace\"><span style=\"color: #7fbfbf; text-decoration-color: #7fbfbf\">         </span><span style=\"color: #000080; text-decoration-color: #000080\">INFO    </span> <span style=\"color: #000000; text-decoration-color: #000000\">Loaded </span><span style=\"color: #008080; text-decoration-color: #008080; font-weight: bold\">1958</span><span style=\"color: #000000; text-decoration-color: #000000\"> cached events                                                         </span><a href=\"file:///Users/moaly/Work/iris-hep/integration-challenge/cms/utils/skimming.py\" target=\"_blank\"><span style=\"color: #7f7f7f; text-decoration-color: #7f7f7f\">skimming.py</span></a><span style=\"color: #7f7f7f; text-decoration-color: #7f7f7f\">:</span><a href=\"file:///Users/moaly/Work/iris-hep/integration-challenge/cms/utils/skimming.py#788\" target=\"_blank\"><span style=\"color: #7f7f7f; text-decoration-color: #7f7f7f\">788</span></a>\n",
       "</pre>\n"
      ],
      "text/plain": [
       "\u001b[2;36m        \u001b[0m\u001b[2;36m \u001b[0m\u001b[34mINFO    \u001b[0m \u001b[39mLoaded \u001b[0m\u001b[1;36m1958\u001b[0m\u001b[39m cached events                                                        \u001b[0m\u001b[39m \u001b[0m\u001b]8;id=910628;file:///Users/moaly/Work/iris-hep/integration-challenge/cms/utils/skimming.py\u001b\\\u001b[2mskimming.py\u001b[0m\u001b]8;;\u001b\\\u001b[2m:\u001b[0m\u001b]8;id=365017;file:///Users/moaly/Work/iris-hep/integration-challenge/cms/utils/skimming.py#788\u001b\\\u001b[2m788\u001b[0m\u001b]8;;\u001b\\\n"
      ]
     },
     "metadata": {},
     "output_type": "display_data"
    },
    {
     "data": {
      "text/html": [
       "<pre style=\"white-space:pre;overflow-x:auto;line-height:normal;font-family:Menlo,'DejaVu Sans Mono',consolas,'Courier New',monospace\"><span style=\"color: #7fbfbf; text-decoration-color: #7fbfbf\">         </span><span style=\"color: #000080; text-decoration-color: #000080\">INFO    </span> <span style=\"color: #000000; text-decoration-color: #000000\">Found existing skimmed files for ttbar_semilep__nominal: </span><span style=\"color: #008080; text-decoration-color: #008080; font-weight: bold\">13</span><span style=\"color: #000000; text-decoration-color: #000000\">                       </span><a href=\"file:///Users/moaly/Work/iris-hep/integration-challenge/cms/utils/skimming.py\" target=\"_blank\"><span style=\"color: #7f7f7f; text-decoration-color: #7f7f7f\">skimming.py</span></a><span style=\"color: #7f7f7f; text-decoration-color: #7f7f7f\">:</span><a href=\"file:///Users/moaly/Work/iris-hep/integration-challenge/cms/utils/skimming.py#524\" target=\"_blank\"><span style=\"color: #7f7f7f; text-decoration-color: #7f7f7f\">524</span></a>\n",
       "</pre>\n"
      ],
      "text/plain": [
       "\u001b[2;36m        \u001b[0m\u001b[2;36m \u001b[0m\u001b[34mINFO    \u001b[0m \u001b[39mFound existing skimmed files for ttbar_semilep__nominal: \u001b[0m\u001b[1;36m13\u001b[0m\u001b[39m                      \u001b[0m\u001b[39m \u001b[0m\u001b]8;id=646815;file:///Users/moaly/Work/iris-hep/integration-challenge/cms/utils/skimming.py\u001b\\\u001b[2mskimming.py\u001b[0m\u001b]8;;\u001b\\\u001b[2m:\u001b[0m\u001b]8;id=424871;file:///Users/moaly/Work/iris-hep/integration-challenge/cms/utils/skimming.py#524\u001b\\\u001b[2m524\u001b[0m\u001b]8;;\u001b\\\n"
      ]
     },
     "metadata": {},
     "output_type": "display_data"
    },
    {
     "data": {
      "text/html": [
       "<pre style=\"white-space:pre;overflow-x:auto;line-height:normal;font-family:Menlo,'DejaVu Sans Mono',consolas,'Courier New',monospace\"><span style=\"color: #7fbfbf; text-decoration-color: #7fbfbf\">         </span><span style=\"color: #000080; text-decoration-color: #000080\">INFO    </span> <span style=\"color: #000000; text-decoration-color: #000000\">Loading cached events for ttbar_semilep__nominal                                  </span><a href=\"file:///Users/moaly/Work/iris-hep/integration-challenge/cms/utils/skimming.py\" target=\"_blank\"><span style=\"color: #7f7f7f; text-decoration-color: #7f7f7f\">skimming.py</span></a><span style=\"color: #7f7f7f; text-decoration-color: #7f7f7f\">:</span><a href=\"file:///Users/moaly/Work/iris-hep/integration-challenge/cms/utils/skimming.py#784\" target=\"_blank\"><span style=\"color: #7f7f7f; text-decoration-color: #7f7f7f\">784</span></a>\n",
       "</pre>\n"
      ],
      "text/plain": [
       "\u001b[2;36m        \u001b[0m\u001b[2;36m \u001b[0m\u001b[34mINFO    \u001b[0m \u001b[39mLoading cached events for ttbar_semilep__nominal                                 \u001b[0m\u001b[39m \u001b[0m\u001b]8;id=718477;file:///Users/moaly/Work/iris-hep/integration-challenge/cms/utils/skimming.py\u001b\\\u001b[2mskimming.py\u001b[0m\u001b]8;;\u001b\\\u001b[2m:\u001b[0m\u001b]8;id=986683;file:///Users/moaly/Work/iris-hep/integration-challenge/cms/utils/skimming.py#784\u001b\\\u001b[2m784\u001b[0m\u001b]8;;\u001b\\\n"
      ]
     },
     "metadata": {},
     "output_type": "display_data"
    },
    {
     "data": {
      "text/html": [
       "<pre style=\"white-space:pre;overflow-x:auto;line-height:normal;font-family:Menlo,'DejaVu Sans Mono',consolas,'Courier New',monospace\"><span style=\"color: #7fbfbf; text-decoration-color: #7fbfbf\">         </span><span style=\"color: #000080; text-decoration-color: #000080\">INFO    </span> <span style=\"color: #000000; text-decoration-color: #000000\">Loaded </span><span style=\"color: #008080; text-decoration-color: #008080; font-weight: bold\">96683</span><span style=\"color: #000000; text-decoration-color: #000000\"> cached events                                                        </span><a href=\"file:///Users/moaly/Work/iris-hep/integration-challenge/cms/utils/skimming.py\" target=\"_blank\"><span style=\"color: #7f7f7f; text-decoration-color: #7f7f7f\">skimming.py</span></a><span style=\"color: #7f7f7f; text-decoration-color: #7f7f7f\">:</span><a href=\"file:///Users/moaly/Work/iris-hep/integration-challenge/cms/utils/skimming.py#788\" target=\"_blank\"><span style=\"color: #7f7f7f; text-decoration-color: #7f7f7f\">788</span></a>\n",
       "</pre>\n"
      ],
      "text/plain": [
       "\u001b[2;36m        \u001b[0m\u001b[2;36m \u001b[0m\u001b[34mINFO    \u001b[0m \u001b[39mLoaded \u001b[0m\u001b[1;36m96683\u001b[0m\u001b[39m cached events                                                       \u001b[0m\u001b[39m \u001b[0m\u001b]8;id=721340;file:///Users/moaly/Work/iris-hep/integration-challenge/cms/utils/skimming.py\u001b\\\u001b[2mskimming.py\u001b[0m\u001b]8;;\u001b\\\u001b[2m:\u001b[0m\u001b]8;id=264627;file:///Users/moaly/Work/iris-hep/integration-challenge/cms/utils/skimming.py#788\u001b\\\u001b[2m788\u001b[0m\u001b]8;;\u001b\\\n"
      ]
     },
     "metadata": {},
     "output_type": "display_data"
    },
    {
     "data": {
      "text/html": [
       "<pre style=\"white-space:pre;overflow-x:auto;line-height:normal;font-family:Menlo,'DejaVu Sans Mono',consolas,'Courier New',monospace\"><span style=\"color: #7fbfbf; text-decoration-color: #7fbfbf\">         </span><span style=\"color: #000080; text-decoration-color: #000080\">INFO    </span> <span style=\"color: #000000; text-decoration-color: #000000\">Found existing skimmed files for signal__nominal: </span><span style=\"color: #008080; text-decoration-color: #008080; font-weight: bold\">5</span><span style=\"color: #000000; text-decoration-color: #000000\">                               </span><a href=\"file:///Users/moaly/Work/iris-hep/integration-challenge/cms/utils/skimming.py\" target=\"_blank\"><span style=\"color: #7f7f7f; text-decoration-color: #7f7f7f\">skimming.py</span></a><span style=\"color: #7f7f7f; text-decoration-color: #7f7f7f\">:</span><a href=\"file:///Users/moaly/Work/iris-hep/integration-challenge/cms/utils/skimming.py#524\" target=\"_blank\"><span style=\"color: #7f7f7f; text-decoration-color: #7f7f7f\">524</span></a>\n",
       "</pre>\n"
      ],
      "text/plain": [
       "\u001b[2;36m        \u001b[0m\u001b[2;36m \u001b[0m\u001b[34mINFO    \u001b[0m \u001b[39mFound existing skimmed files for signal__nominal: \u001b[0m\u001b[1;36m5\u001b[0m\u001b[39m                              \u001b[0m\u001b[39m \u001b[0m\u001b]8;id=738865;file:///Users/moaly/Work/iris-hep/integration-challenge/cms/utils/skimming.py\u001b\\\u001b[2mskimming.py\u001b[0m\u001b]8;;\u001b\\\u001b[2m:\u001b[0m\u001b]8;id=195898;file:///Users/moaly/Work/iris-hep/integration-challenge/cms/utils/skimming.py#524\u001b\\\u001b[2m524\u001b[0m\u001b]8;;\u001b\\\n"
      ]
     },
     "metadata": {},
     "output_type": "display_data"
    },
    {
     "data": {
      "text/html": [
       "<pre style=\"white-space:pre;overflow-x:auto;line-height:normal;font-family:Menlo,'DejaVu Sans Mono',consolas,'Courier New',monospace\"><span style=\"color: #7fbfbf; text-decoration-color: #7fbfbf\">         </span><span style=\"color: #000080; text-decoration-color: #000080\">INFO    </span> <span style=\"color: #000000; text-decoration-color: #000000\">Loading cached events for signal__nominal                                         </span><a href=\"file:///Users/moaly/Work/iris-hep/integration-challenge/cms/utils/skimming.py\" target=\"_blank\"><span style=\"color: #7f7f7f; text-decoration-color: #7f7f7f\">skimming.py</span></a><span style=\"color: #7f7f7f; text-decoration-color: #7f7f7f\">:</span><a href=\"file:///Users/moaly/Work/iris-hep/integration-challenge/cms/utils/skimming.py#784\" target=\"_blank\"><span style=\"color: #7f7f7f; text-decoration-color: #7f7f7f\">784</span></a>\n",
       "</pre>\n"
      ],
      "text/plain": [
       "\u001b[2;36m        \u001b[0m\u001b[2;36m \u001b[0m\u001b[34mINFO    \u001b[0m \u001b[39mLoading cached events for signal__nominal                                        \u001b[0m\u001b[39m \u001b[0m\u001b]8;id=538159;file:///Users/moaly/Work/iris-hep/integration-challenge/cms/utils/skimming.py\u001b\\\u001b[2mskimming.py\u001b[0m\u001b]8;;\u001b\\\u001b[2m:\u001b[0m\u001b]8;id=539335;file:///Users/moaly/Work/iris-hep/integration-challenge/cms/utils/skimming.py#784\u001b\\\u001b[2m784\u001b[0m\u001b]8;;\u001b\\\n"
      ]
     },
     "metadata": {},
     "output_type": "display_data"
    },
    {
     "data": {
      "text/html": [
       "<pre style=\"white-space:pre;overflow-x:auto;line-height:normal;font-family:Menlo,'DejaVu Sans Mono',consolas,'Courier New',monospace\"><span style=\"color: #7fbfbf; text-decoration-color: #7fbfbf\">         </span><span style=\"color: #000080; text-decoration-color: #000080\">INFO    </span> <span style=\"color: #000000; text-decoration-color: #000000\">Loaded </span><span style=\"color: #008080; text-decoration-color: #008080; font-weight: bold\">97109</span><span style=\"color: #000000; text-decoration-color: #000000\"> cached events                                                        </span><a href=\"file:///Users/moaly/Work/iris-hep/integration-challenge/cms/utils/skimming.py\" target=\"_blank\"><span style=\"color: #7f7f7f; text-decoration-color: #7f7f7f\">skimming.py</span></a><span style=\"color: #7f7f7f; text-decoration-color: #7f7f7f\">:</span><a href=\"file:///Users/moaly/Work/iris-hep/integration-challenge/cms/utils/skimming.py#788\" target=\"_blank\"><span style=\"color: #7f7f7f; text-decoration-color: #7f7f7f\">788</span></a>\n",
       "</pre>\n"
      ],
      "text/plain": [
       "\u001b[2;36m        \u001b[0m\u001b[2;36m \u001b[0m\u001b[34mINFO    \u001b[0m \u001b[39mLoaded \u001b[0m\u001b[1;36m97109\u001b[0m\u001b[39m cached events                                                       \u001b[0m\u001b[39m \u001b[0m\u001b]8;id=593812;file:///Users/moaly/Work/iris-hep/integration-challenge/cms/utils/skimming.py\u001b\\\u001b[2mskimming.py\u001b[0m\u001b]8;;\u001b\\\u001b[2m:\u001b[0m\u001b]8;id=323823;file:///Users/moaly/Work/iris-hep/integration-challenge/cms/utils/skimming.py#788\u001b\\\u001b[2m788\u001b[0m\u001b]8;;\u001b\\\n"
      ]
     },
     "metadata": {},
     "output_type": "display_data"
    },
    {
     "name": "stdout",
     "output_type": "stream",
     "text": [
      "💾 Cached files in skimmed directory: 6 files\n",
      "📁 Cache location: /private/tmp/integration\n"
     ]
    }
   ],
   "source": [
    "# Enable caching to show how it speeds up subsequent runs\n",
    "validated_config.general.read_from_cache = True\n",
    "validated_config.general.run_skimming = False\n",
    "# Run the skimming again - it will look for cached files\n",
    "# if they don't exist, it will fallback to skim regularly\n",
    "cached_datasets = process_workitems_with_skimming(\n",
    "    workitems,\n",
    "    validated_config,\n",
    "    output_manager,\n",
    "    fileset,\n",
    "    metadata_generator.nanoaods_summary\n",
    ")\n",
    "\n",
    "# Show cache directory contents\n",
    "import os\n",
    "cache_files = os.listdir(output_manager.get_skimmed_dir())\n",
    "print(f\"💾 Cached files in skimmed directory: {len(cache_files)} files\")\n",
    "print(f\"📁 Cache location: {output_manager.get_cache_dir()}\")"
   ]
  },
  {
   "cell_type": "markdown",
   "id": "99c3086d",
   "metadata": {},
   "source": [
    "# 6. Analysis & Histogramming\n",
    "\n",
    "This step encapsulates a few underlying function calls:\n",
    "1. Global event selection is applied\n",
    "2. If MVA training is configured and enabled, an MVA training will be triggered\n",
    "3. Apply corrections from `correctionlib`\n",
    "4. Ghost observables will be computed and added to event record\n",
    "6. Channels will be built with their corresponding selections\n",
    "7. Compute all observables (once nomina, once per systematic variation)\n",
    "8. Create histograms"
   ]
  },
  {
   "cell_type": "code",
   "execution_count": 8,
   "id": "9d78ac14",
   "metadata": {},
   "outputs": [
    {
     "name": "stdout",
     "output_type": "stream",
     "text": [
      "🔬 Analysis initialized for 6 datasets\n",
      "📊 Processing dataset: data\n",
      "   • Processing 94251 events with metadata: data\n"
     ]
    },
    {
     "data": {
      "text/html": [
       "<pre style=\"white-space:pre;overflow-x:auto;line-height:normal;font-family:Menlo,'DejaVu Sans Mono',consolas,'Courier New',monospace\"><span style=\"color: #7fbfbf; text-decoration-color: #7fbfbf\">         </span><span style=\"color: #000080; text-decoration-color: #000080\">INFO    </span> <span style=\"color: #000000; text-decoration-color: #000000\">Applying selection for CMS_WORKSHOP in data with variation nominal                 </span><a href=\"file:///Users/moaly/Work/iris-hep/integration-challenge/cms/analysis/nondiff.py\" target=\"_blank\"><span style=\"color: #7f7f7f; text-decoration-color: #7f7f7f\">nondiff.py</span></a><span style=\"color: #7f7f7f; text-decoration-color: #7f7f7f\">:</span><a href=\"file:///Users/moaly/Work/iris-hep/integration-challenge/cms/analysis/nondiff.py#154\" target=\"_blank\"><span style=\"color: #7f7f7f; text-decoration-color: #7f7f7f\">154</span></a>\n",
       "</pre>\n"
      ],
      "text/plain": [
       "\u001b[2;36m        \u001b[0m\u001b[2;36m \u001b[0m\u001b[34mINFO    \u001b[0m \u001b[39mApplying selection for CMS_WORKSHOP in data with variation nominal                \u001b[0m\u001b[39m \u001b[0m\u001b]8;id=338220;file:///Users/moaly/Work/iris-hep/integration-challenge/cms/analysis/nondiff.py\u001b\\\u001b[2mnondiff.py\u001b[0m\u001b]8;;\u001b\\\u001b[2m:\u001b[0m\u001b]8;id=661014;file:///Users/moaly/Work/iris-hep/integration-challenge/cms/analysis/nondiff.py#154\u001b\\\u001b[2m154\u001b[0m\u001b]8;;\u001b\\\n"
      ]
     },
     "metadata": {},
     "output_type": "display_data"
    },
    {
     "data": {
      "text/html": [
       "<pre style=\"white-space:pre;overflow-x:auto;line-height:normal;font-family:Menlo,'DejaVu Sans Mono',consolas,'Courier New',monospace\"><span style=\"color: #7fbfbf; text-decoration-color: #7fbfbf\">         </span><span style=\"color: #000080; text-decoration-color: #000080\">INFO    </span> <span style=\"color: #000000; text-decoration-color: #000000\">Number of weighted events in CMS_WORKSHOP: </span><span style=\"color: #008080; text-decoration-color: #008080; font-weight: bold\">20.00</span><span style=\"color: #000000; text-decoration-color: #000000\">                                   </span><a href=\"file:///Users/moaly/Work/iris-hep/integration-challenge/cms/analysis/nondiff.py\" target=\"_blank\"><span style=\"color: #7f7f7f; text-decoration-color: #7f7f7f\">nondiff.py</span></a><span style=\"color: #7f7f7f; text-decoration-color: #7f7f7f\">:</span><a href=\"file:///Users/moaly/Work/iris-hep/integration-challenge/cms/analysis/nondiff.py#205\" target=\"_blank\"><span style=\"color: #7f7f7f; text-decoration-color: #7f7f7f\">205</span></a>\n",
       "</pre>\n"
      ],
      "text/plain": [
       "\u001b[2;36m        \u001b[0m\u001b[2;36m \u001b[0m\u001b[34mINFO    \u001b[0m \u001b[39mNumber of weighted events in CMS_WORKSHOP: \u001b[0m\u001b[1;36m20.00\u001b[0m\u001b[39m                                  \u001b[0m\u001b[39m \u001b[0m\u001b]8;id=602680;file:///Users/moaly/Work/iris-hep/integration-challenge/cms/analysis/nondiff.py\u001b\\\u001b[2mnondiff.py\u001b[0m\u001b]8;;\u001b\\\u001b[2m:\u001b[0m\u001b]8;id=589697;file:///Users/moaly/Work/iris-hep/integration-challenge/cms/analysis/nondiff.py#205\u001b\\\u001b[2m205\u001b[0m\u001b]8;;\u001b\\\n"
      ]
     },
     "metadata": {},
     "output_type": "display_data"
    },
    {
     "data": {
      "text/html": [
       "<pre style=\"white-space:pre;overflow-x:auto;line-height:normal;font-family:Menlo,'DejaVu Sans Mono',consolas,'Courier New',monospace\"><span style=\"color: #7fbfbf; text-decoration-color: #7fbfbf\">         </span><span style=\"color: #000080; text-decoration-color: #000080\">INFO    </span> <span style=\"color: #000000; text-decoration-color: #000000\">Number of raw events in CMS_WORKSHOP: </span><span style=\"color: #008080; text-decoration-color: #008080; font-weight: bold\">20</span><span style=\"color: #000000; text-decoration-color: #000000\">                                           </span><a href=\"file:///Users/moaly/Work/iris-hep/integration-challenge/cms/analysis/nondiff.py\" target=\"_blank\"><span style=\"color: #7f7f7f; text-decoration-color: #7f7f7f\">nondiff.py</span></a><span style=\"color: #7f7f7f; text-decoration-color: #7f7f7f\">:</span><a href=\"file:///Users/moaly/Work/iris-hep/integration-challenge/cms/analysis/nondiff.py#208\" target=\"_blank\"><span style=\"color: #7f7f7f; text-decoration-color: #7f7f7f\">208</span></a>\n",
       "</pre>\n"
      ],
      "text/plain": [
       "\u001b[2;36m        \u001b[0m\u001b[2;36m \u001b[0m\u001b[34mINFO    \u001b[0m \u001b[39mNumber of raw events in CMS_WORKSHOP: \u001b[0m\u001b[1;36m20\u001b[0m\u001b[39m                                          \u001b[0m\u001b[39m \u001b[0m\u001b]8;id=949868;file:///Users/moaly/Work/iris-hep/integration-challenge/cms/analysis/nondiff.py\u001b\\\u001b[2mnondiff.py\u001b[0m\u001b]8;;\u001b\\\u001b[2m:\u001b[0m\u001b]8;id=300678;file:///Users/moaly/Work/iris-hep/integration-challenge/cms/analysis/nondiff.py#208\u001b\\\u001b[2m208\u001b[0m\u001b]8;;\u001b\\\n"
      ]
     },
     "metadata": {},
     "output_type": "display_data"
    },
    {
     "data": {
      "text/html": [
       "<pre style=\"white-space:pre;overflow-x:auto;line-height:normal;font-family:Menlo,'DejaVu Sans Mono',consolas,'Courier New',monospace\"><span style=\"color: #7fbfbf; text-decoration-color: #7fbfbf\">         </span><span style=\"color: #000080; text-decoration-color: #000080\">INFO    </span> <span style=\"color: #000000; text-decoration-color: #000000\">Computing observable workshop_mtt                                                  </span><a href=\"file:///Users/moaly/Work/iris-hep/integration-challenge/cms/analysis/nondiff.py\" target=\"_blank\"><span style=\"color: #7f7f7f; text-decoration-color: #7f7f7f\">nondiff.py</span></a><span style=\"color: #7f7f7f; text-decoration-color: #7f7f7f\">:</span><a href=\"file:///Users/moaly/Work/iris-hep/integration-challenge/cms/analysis/nondiff.py#213\" target=\"_blank\"><span style=\"color: #7f7f7f; text-decoration-color: #7f7f7f\">213</span></a>\n",
       "</pre>\n"
      ],
      "text/plain": [
       "\u001b[2;36m        \u001b[0m\u001b[2;36m \u001b[0m\u001b[34mINFO    \u001b[0m \u001b[39mComputing observable workshop_mtt                                                 \u001b[0m\u001b[39m \u001b[0m\u001b]8;id=593451;file:///Users/moaly/Work/iris-hep/integration-challenge/cms/analysis/nondiff.py\u001b\\\u001b[2mnondiff.py\u001b[0m\u001b]8;;\u001b\\\u001b[2m:\u001b[0m\u001b]8;id=461267;file:///Users/moaly/Work/iris-hep/integration-challenge/cms/analysis/nondiff.py#213\u001b\\\u001b[2m213\u001b[0m\u001b]8;;\u001b\\\n"
      ]
     },
     "metadata": {},
     "output_type": "display_data"
    },
    {
     "name": "stdout",
     "output_type": "stream",
     "text": [
      "📊 Processing dataset: wjets__nominal\n",
      "   • Processing 7313 events with metadata: wjets\n"
     ]
    },
    {
     "data": {
      "text/html": [
       "<pre style=\"white-space:pre;overflow-x:auto;line-height:normal;font-family:Menlo,'DejaVu Sans Mono',consolas,'Courier New',monospace\"><span style=\"color: #7fbfbf; text-decoration-color: #7fbfbf\">16:09:41 </span><span style=\"color: #000080; text-decoration-color: #000080\">INFO    </span> <span style=\"color: #000000; text-decoration-color: #000000\">Applying selection for CMS_WORKSHOP in wjets with variation nominal                </span><a href=\"file:///Users/moaly/Work/iris-hep/integration-challenge/cms/analysis/nondiff.py\" target=\"_blank\"><span style=\"color: #7f7f7f; text-decoration-color: #7f7f7f\">nondiff.py</span></a><span style=\"color: #7f7f7f; text-decoration-color: #7f7f7f\">:</span><a href=\"file:///Users/moaly/Work/iris-hep/integration-challenge/cms/analysis/nondiff.py#154\" target=\"_blank\"><span style=\"color: #7f7f7f; text-decoration-color: #7f7f7f\">154</span></a>\n",
       "</pre>\n"
      ],
      "text/plain": [
       "\u001b[2;36m16:09:41\u001b[0m\u001b[2;36m \u001b[0m\u001b[34mINFO    \u001b[0m \u001b[39mApplying selection for CMS_WORKSHOP in wjets with variation nominal               \u001b[0m\u001b[39m \u001b[0m\u001b]8;id=656635;file:///Users/moaly/Work/iris-hep/integration-challenge/cms/analysis/nondiff.py\u001b\\\u001b[2mnondiff.py\u001b[0m\u001b]8;;\u001b\\\u001b[2m:\u001b[0m\u001b]8;id=778799;file:///Users/moaly/Work/iris-hep/integration-challenge/cms/analysis/nondiff.py#154\u001b\\\u001b[2m154\u001b[0m\u001b]8;;\u001b\\\n"
      ]
     },
     "metadata": {},
     "output_type": "display_data"
    },
    {
     "data": {
      "text/html": [
       "<pre style=\"white-space:pre;overflow-x:auto;line-height:normal;font-family:Menlo,'DejaVu Sans Mono',consolas,'Courier New',monospace\"><span style=\"color: #7fbfbf; text-decoration-color: #7fbfbf\">         </span><span style=\"color: #000080; text-decoration-color: #000080\">INFO    </span> <span style=\"color: #000000; text-decoration-color: #000000\">Number of weighted events in CMS_WORKSHOP: </span><span style=\"color: #008080; text-decoration-color: #008080; font-weight: bold\">443.16</span><span style=\"color: #000000; text-decoration-color: #000000\">                                  </span><a href=\"file:///Users/moaly/Work/iris-hep/integration-challenge/cms/analysis/nondiff.py\" target=\"_blank\"><span style=\"color: #7f7f7f; text-decoration-color: #7f7f7f\">nondiff.py</span></a><span style=\"color: #7f7f7f; text-decoration-color: #7f7f7f\">:</span><a href=\"file:///Users/moaly/Work/iris-hep/integration-challenge/cms/analysis/nondiff.py#205\" target=\"_blank\"><span style=\"color: #7f7f7f; text-decoration-color: #7f7f7f\">205</span></a>\n",
       "</pre>\n"
      ],
      "text/plain": [
       "\u001b[2;36m        \u001b[0m\u001b[2;36m \u001b[0m\u001b[34mINFO    \u001b[0m \u001b[39mNumber of weighted events in CMS_WORKSHOP: \u001b[0m\u001b[1;36m443.16\u001b[0m\u001b[39m                                 \u001b[0m\u001b[39m \u001b[0m\u001b]8;id=626685;file:///Users/moaly/Work/iris-hep/integration-challenge/cms/analysis/nondiff.py\u001b\\\u001b[2mnondiff.py\u001b[0m\u001b]8;;\u001b\\\u001b[2m:\u001b[0m\u001b]8;id=605429;file:///Users/moaly/Work/iris-hep/integration-challenge/cms/analysis/nondiff.py#205\u001b\\\u001b[2m205\u001b[0m\u001b]8;;\u001b\\\n"
      ]
     },
     "metadata": {},
     "output_type": "display_data"
    },
    {
     "data": {
      "text/html": [
       "<pre style=\"white-space:pre;overflow-x:auto;line-height:normal;font-family:Menlo,'DejaVu Sans Mono',consolas,'Courier New',monospace\"><span style=\"color: #7fbfbf; text-decoration-color: #7fbfbf\">         </span><span style=\"color: #000080; text-decoration-color: #000080\">INFO    </span> <span style=\"color: #000000; text-decoration-color: #000000\">Number of raw events in CMS_WORKSHOP: </span><span style=\"color: #008080; text-decoration-color: #008080; font-weight: bold\">1</span><span style=\"color: #000000; text-decoration-color: #000000\">                                            </span><a href=\"file:///Users/moaly/Work/iris-hep/integration-challenge/cms/analysis/nondiff.py\" target=\"_blank\"><span style=\"color: #7f7f7f; text-decoration-color: #7f7f7f\">nondiff.py</span></a><span style=\"color: #7f7f7f; text-decoration-color: #7f7f7f\">:</span><a href=\"file:///Users/moaly/Work/iris-hep/integration-challenge/cms/analysis/nondiff.py#208\" target=\"_blank\"><span style=\"color: #7f7f7f; text-decoration-color: #7f7f7f\">208</span></a>\n",
       "</pre>\n"
      ],
      "text/plain": [
       "\u001b[2;36m        \u001b[0m\u001b[2;36m \u001b[0m\u001b[34mINFO    \u001b[0m \u001b[39mNumber of raw events in CMS_WORKSHOP: \u001b[0m\u001b[1;36m1\u001b[0m\u001b[39m                                           \u001b[0m\u001b[39m \u001b[0m\u001b]8;id=600876;file:///Users/moaly/Work/iris-hep/integration-challenge/cms/analysis/nondiff.py\u001b\\\u001b[2mnondiff.py\u001b[0m\u001b]8;;\u001b\\\u001b[2m:\u001b[0m\u001b]8;id=187238;file:///Users/moaly/Work/iris-hep/integration-challenge/cms/analysis/nondiff.py#208\u001b\\\u001b[2m208\u001b[0m\u001b]8;;\u001b\\\n"
      ]
     },
     "metadata": {},
     "output_type": "display_data"
    },
    {
     "data": {
      "text/html": [
       "<pre style=\"white-space:pre;overflow-x:auto;line-height:normal;font-family:Menlo,'DejaVu Sans Mono',consolas,'Courier New',monospace\"><span style=\"color: #7fbfbf; text-decoration-color: #7fbfbf\">         </span><span style=\"color: #000080; text-decoration-color: #000080\">INFO    </span> <span style=\"color: #000000; text-decoration-color: #000000\">Computing observable workshop_mtt                                                  </span><a href=\"file:///Users/moaly/Work/iris-hep/integration-challenge/cms/analysis/nondiff.py\" target=\"_blank\"><span style=\"color: #7f7f7f; text-decoration-color: #7f7f7f\">nondiff.py</span></a><span style=\"color: #7f7f7f; text-decoration-color: #7f7f7f\">:</span><a href=\"file:///Users/moaly/Work/iris-hep/integration-challenge/cms/analysis/nondiff.py#213\" target=\"_blank\"><span style=\"color: #7f7f7f; text-decoration-color: #7f7f7f\">213</span></a>\n",
       "</pre>\n"
      ],
      "text/plain": [
       "\u001b[2;36m        \u001b[0m\u001b[2;36m \u001b[0m\u001b[34mINFO    \u001b[0m \u001b[39mComputing observable workshop_mtt                                                 \u001b[0m\u001b[39m \u001b[0m\u001b]8;id=138605;file:///Users/moaly/Work/iris-hep/integration-challenge/cms/analysis/nondiff.py\u001b\\\u001b[2mnondiff.py\u001b[0m\u001b]8;;\u001b\\\u001b[2m:\u001b[0m\u001b]8;id=934716;file:///Users/moaly/Work/iris-hep/integration-challenge/cms/analysis/nondiff.py#213\u001b\\\u001b[2m213\u001b[0m\u001b]8;;\u001b\\\n"
      ]
     },
     "metadata": {},
     "output_type": "display_data"
    },
    {
     "data": {
      "text/html": [
       "<pre style=\"white-space:pre;overflow-x:auto;line-height:normal;font-family:Menlo,'DejaVu Sans Mono',consolas,'Courier New',monospace\"><span style=\"color: #7fbfbf; text-decoration-color: #7fbfbf\">         </span><span style=\"color: #000080; text-decoration-color: #000080\">INFO    </span> <span style=\"color: #000000; text-decoration-color: #000000\">Applying selection for CMS_WORKSHOP in wjets with variation jet_pt_resolution_up   </span><a href=\"file:///Users/moaly/Work/iris-hep/integration-challenge/cms/analysis/nondiff.py\" target=\"_blank\"><span style=\"color: #7f7f7f; text-decoration-color: #7f7f7f\">nondiff.py</span></a><span style=\"color: #7f7f7f; text-decoration-color: #7f7f7f\">:</span><a href=\"file:///Users/moaly/Work/iris-hep/integration-challenge/cms/analysis/nondiff.py#154\" target=\"_blank\"><span style=\"color: #7f7f7f; text-decoration-color: #7f7f7f\">154</span></a>\n",
       "</pre>\n"
      ],
      "text/plain": [
       "\u001b[2;36m        \u001b[0m\u001b[2;36m \u001b[0m\u001b[34mINFO    \u001b[0m \u001b[39mApplying selection for CMS_WORKSHOP in wjets with variation jet_pt_resolution_up  \u001b[0m\u001b[39m \u001b[0m\u001b]8;id=84653;file:///Users/moaly/Work/iris-hep/integration-challenge/cms/analysis/nondiff.py\u001b\\\u001b[2mnondiff.py\u001b[0m\u001b]8;;\u001b\\\u001b[2m:\u001b[0m\u001b]8;id=542756;file:///Users/moaly/Work/iris-hep/integration-challenge/cms/analysis/nondiff.py#154\u001b\\\u001b[2m154\u001b[0m\u001b]8;;\u001b\\\n"
      ]
     },
     "metadata": {},
     "output_type": "display_data"
    },
    {
     "data": {
      "text/html": [
       "<pre style=\"white-space:pre;overflow-x:auto;line-height:normal;font-family:Menlo,'DejaVu Sans Mono',consolas,'Courier New',monospace\"><span style=\"color: #7fbfbf; text-decoration-color: #7fbfbf\">         </span><span style=\"color: #000080; text-decoration-color: #000080\">INFO    </span> <span style=\"color: #000000; text-decoration-color: #000000\">Number of weighted events in CMS_WORKSHOP: </span><span style=\"color: #008080; text-decoration-color: #008080; font-weight: bold\">443.16</span><span style=\"color: #000000; text-decoration-color: #000000\">                                  </span><a href=\"file:///Users/moaly/Work/iris-hep/integration-challenge/cms/analysis/nondiff.py\" target=\"_blank\"><span style=\"color: #7f7f7f; text-decoration-color: #7f7f7f\">nondiff.py</span></a><span style=\"color: #7f7f7f; text-decoration-color: #7f7f7f\">:</span><a href=\"file:///Users/moaly/Work/iris-hep/integration-challenge/cms/analysis/nondiff.py#205\" target=\"_blank\"><span style=\"color: #7f7f7f; text-decoration-color: #7f7f7f\">205</span></a>\n",
       "</pre>\n"
      ],
      "text/plain": [
       "\u001b[2;36m        \u001b[0m\u001b[2;36m \u001b[0m\u001b[34mINFO    \u001b[0m \u001b[39mNumber of weighted events in CMS_WORKSHOP: \u001b[0m\u001b[1;36m443.16\u001b[0m\u001b[39m                                 \u001b[0m\u001b[39m \u001b[0m\u001b]8;id=676118;file:///Users/moaly/Work/iris-hep/integration-challenge/cms/analysis/nondiff.py\u001b\\\u001b[2mnondiff.py\u001b[0m\u001b]8;;\u001b\\\u001b[2m:\u001b[0m\u001b]8;id=32388;file:///Users/moaly/Work/iris-hep/integration-challenge/cms/analysis/nondiff.py#205\u001b\\\u001b[2m205\u001b[0m\u001b]8;;\u001b\\\n"
      ]
     },
     "metadata": {},
     "output_type": "display_data"
    },
    {
     "data": {
      "text/html": [
       "<pre style=\"white-space:pre;overflow-x:auto;line-height:normal;font-family:Menlo,'DejaVu Sans Mono',consolas,'Courier New',monospace\"><span style=\"color: #7fbfbf; text-decoration-color: #7fbfbf\">         </span><span style=\"color: #000080; text-decoration-color: #000080\">INFO    </span> <span style=\"color: #000000; text-decoration-color: #000000\">Number of raw events in CMS_WORKSHOP: </span><span style=\"color: #008080; text-decoration-color: #008080; font-weight: bold\">1</span><span style=\"color: #000000; text-decoration-color: #000000\">                                            </span><a href=\"file:///Users/moaly/Work/iris-hep/integration-challenge/cms/analysis/nondiff.py\" target=\"_blank\"><span style=\"color: #7f7f7f; text-decoration-color: #7f7f7f\">nondiff.py</span></a><span style=\"color: #7f7f7f; text-decoration-color: #7f7f7f\">:</span><a href=\"file:///Users/moaly/Work/iris-hep/integration-challenge/cms/analysis/nondiff.py#208\" target=\"_blank\"><span style=\"color: #7f7f7f; text-decoration-color: #7f7f7f\">208</span></a>\n",
       "</pre>\n"
      ],
      "text/plain": [
       "\u001b[2;36m        \u001b[0m\u001b[2;36m \u001b[0m\u001b[34mINFO    \u001b[0m \u001b[39mNumber of raw events in CMS_WORKSHOP: \u001b[0m\u001b[1;36m1\u001b[0m\u001b[39m                                           \u001b[0m\u001b[39m \u001b[0m\u001b]8;id=898617;file:///Users/moaly/Work/iris-hep/integration-challenge/cms/analysis/nondiff.py\u001b\\\u001b[2mnondiff.py\u001b[0m\u001b]8;;\u001b\\\u001b[2m:\u001b[0m\u001b]8;id=176836;file:///Users/moaly/Work/iris-hep/integration-challenge/cms/analysis/nondiff.py#208\u001b\\\u001b[2m208\u001b[0m\u001b]8;;\u001b\\\n"
      ]
     },
     "metadata": {},
     "output_type": "display_data"
    },
    {
     "data": {
      "text/html": [
       "<pre style=\"white-space:pre;overflow-x:auto;line-height:normal;font-family:Menlo,'DejaVu Sans Mono',consolas,'Courier New',monospace\"><span style=\"color: #7fbfbf; text-decoration-color: #7fbfbf\">         </span><span style=\"color: #000080; text-decoration-color: #000080\">INFO    </span> <span style=\"color: #000000; text-decoration-color: #000000\">Computing observable workshop_mtt                                                  </span><a href=\"file:///Users/moaly/Work/iris-hep/integration-challenge/cms/analysis/nondiff.py\" target=\"_blank\"><span style=\"color: #7f7f7f; text-decoration-color: #7f7f7f\">nondiff.py</span></a><span style=\"color: #7f7f7f; text-decoration-color: #7f7f7f\">:</span><a href=\"file:///Users/moaly/Work/iris-hep/integration-challenge/cms/analysis/nondiff.py#213\" target=\"_blank\"><span style=\"color: #7f7f7f; text-decoration-color: #7f7f7f\">213</span></a>\n",
       "</pre>\n"
      ],
      "text/plain": [
       "\u001b[2;36m        \u001b[0m\u001b[2;36m \u001b[0m\u001b[34mINFO    \u001b[0m \u001b[39mComputing observable workshop_mtt                                                 \u001b[0m\u001b[39m \u001b[0m\u001b]8;id=347525;file:///Users/moaly/Work/iris-hep/integration-challenge/cms/analysis/nondiff.py\u001b\\\u001b[2mnondiff.py\u001b[0m\u001b]8;;\u001b\\\u001b[2m:\u001b[0m\u001b]8;id=380023;file:///Users/moaly/Work/iris-hep/integration-challenge/cms/analysis/nondiff.py#213\u001b\\\u001b[2m213\u001b[0m\u001b]8;;\u001b\\\n"
      ]
     },
     "metadata": {},
     "output_type": "display_data"
    },
    {
     "data": {
      "text/html": [
       "<pre style=\"white-space:pre;overflow-x:auto;line-height:normal;font-family:Menlo,'DejaVu Sans Mono',consolas,'Courier New',monospace\"><span style=\"color: #7fbfbf; text-decoration-color: #7fbfbf\">         </span><span style=\"color: #000080; text-decoration-color: #000080\">INFO    </span> <span style=\"color: #000000; text-decoration-color: #000000\">Applying selection for CMS_WORKSHOP in wjets with variation jet_pt_resolution_down </span><a href=\"file:///Users/moaly/Work/iris-hep/integration-challenge/cms/analysis/nondiff.py\" target=\"_blank\"><span style=\"color: #7f7f7f; text-decoration-color: #7f7f7f\">nondiff.py</span></a><span style=\"color: #7f7f7f; text-decoration-color: #7f7f7f\">:</span><a href=\"file:///Users/moaly/Work/iris-hep/integration-challenge/cms/analysis/nondiff.py#154\" target=\"_blank\"><span style=\"color: #7f7f7f; text-decoration-color: #7f7f7f\">154</span></a>\n",
       "</pre>\n"
      ],
      "text/plain": [
       "\u001b[2;36m        \u001b[0m\u001b[2;36m \u001b[0m\u001b[34mINFO    \u001b[0m \u001b[39mApplying selection for CMS_WORKSHOP in wjets with variation jet_pt_resolution_down\u001b[0m\u001b[39m \u001b[0m\u001b]8;id=353842;file:///Users/moaly/Work/iris-hep/integration-challenge/cms/analysis/nondiff.py\u001b\\\u001b[2mnondiff.py\u001b[0m\u001b]8;;\u001b\\\u001b[2m:\u001b[0m\u001b]8;id=456953;file:///Users/moaly/Work/iris-hep/integration-challenge/cms/analysis/nondiff.py#154\u001b\\\u001b[2m154\u001b[0m\u001b]8;;\u001b\\\n"
      ]
     },
     "metadata": {},
     "output_type": "display_data"
    },
    {
     "data": {
      "text/html": [
       "<pre style=\"white-space:pre;overflow-x:auto;line-height:normal;font-family:Menlo,'DejaVu Sans Mono',consolas,'Courier New',monospace\"><span style=\"color: #7fbfbf; text-decoration-color: #7fbfbf\">         </span><span style=\"color: #000080; text-decoration-color: #000080\">INFO    </span> <span style=\"color: #000000; text-decoration-color: #000000\">Number of weighted events in CMS_WORKSHOP: </span><span style=\"color: #008080; text-decoration-color: #008080; font-weight: bold\">443.16</span><span style=\"color: #000000; text-decoration-color: #000000\">                                  </span><a href=\"file:///Users/moaly/Work/iris-hep/integration-challenge/cms/analysis/nondiff.py\" target=\"_blank\"><span style=\"color: #7f7f7f; text-decoration-color: #7f7f7f\">nondiff.py</span></a><span style=\"color: #7f7f7f; text-decoration-color: #7f7f7f\">:</span><a href=\"file:///Users/moaly/Work/iris-hep/integration-challenge/cms/analysis/nondiff.py#205\" target=\"_blank\"><span style=\"color: #7f7f7f; text-decoration-color: #7f7f7f\">205</span></a>\n",
       "</pre>\n"
      ],
      "text/plain": [
       "\u001b[2;36m        \u001b[0m\u001b[2;36m \u001b[0m\u001b[34mINFO    \u001b[0m \u001b[39mNumber of weighted events in CMS_WORKSHOP: \u001b[0m\u001b[1;36m443.16\u001b[0m\u001b[39m                                 \u001b[0m\u001b[39m \u001b[0m\u001b]8;id=746108;file:///Users/moaly/Work/iris-hep/integration-challenge/cms/analysis/nondiff.py\u001b\\\u001b[2mnondiff.py\u001b[0m\u001b]8;;\u001b\\\u001b[2m:\u001b[0m\u001b]8;id=459739;file:///Users/moaly/Work/iris-hep/integration-challenge/cms/analysis/nondiff.py#205\u001b\\\u001b[2m205\u001b[0m\u001b]8;;\u001b\\\n"
      ]
     },
     "metadata": {},
     "output_type": "display_data"
    },
    {
     "data": {
      "text/html": [
       "<pre style=\"white-space:pre;overflow-x:auto;line-height:normal;font-family:Menlo,'DejaVu Sans Mono',consolas,'Courier New',monospace\"><span style=\"color: #7fbfbf; text-decoration-color: #7fbfbf\">         </span><span style=\"color: #000080; text-decoration-color: #000080\">INFO    </span> <span style=\"color: #000000; text-decoration-color: #000000\">Number of raw events in CMS_WORKSHOP: </span><span style=\"color: #008080; text-decoration-color: #008080; font-weight: bold\">1</span><span style=\"color: #000000; text-decoration-color: #000000\">                                            </span><a href=\"file:///Users/moaly/Work/iris-hep/integration-challenge/cms/analysis/nondiff.py\" target=\"_blank\"><span style=\"color: #7f7f7f; text-decoration-color: #7f7f7f\">nondiff.py</span></a><span style=\"color: #7f7f7f; text-decoration-color: #7f7f7f\">:</span><a href=\"file:///Users/moaly/Work/iris-hep/integration-challenge/cms/analysis/nondiff.py#208\" target=\"_blank\"><span style=\"color: #7f7f7f; text-decoration-color: #7f7f7f\">208</span></a>\n",
       "</pre>\n"
      ],
      "text/plain": [
       "\u001b[2;36m        \u001b[0m\u001b[2;36m \u001b[0m\u001b[34mINFO    \u001b[0m \u001b[39mNumber of raw events in CMS_WORKSHOP: \u001b[0m\u001b[1;36m1\u001b[0m\u001b[39m                                           \u001b[0m\u001b[39m \u001b[0m\u001b]8;id=844127;file:///Users/moaly/Work/iris-hep/integration-challenge/cms/analysis/nondiff.py\u001b\\\u001b[2mnondiff.py\u001b[0m\u001b]8;;\u001b\\\u001b[2m:\u001b[0m\u001b]8;id=563707;file:///Users/moaly/Work/iris-hep/integration-challenge/cms/analysis/nondiff.py#208\u001b\\\u001b[2m208\u001b[0m\u001b]8;;\u001b\\\n"
      ]
     },
     "metadata": {},
     "output_type": "display_data"
    },
    {
     "data": {
      "text/html": [
       "<pre style=\"white-space:pre;overflow-x:auto;line-height:normal;font-family:Menlo,'DejaVu Sans Mono',consolas,'Courier New',monospace\"><span style=\"color: #7fbfbf; text-decoration-color: #7fbfbf\">         </span><span style=\"color: #000080; text-decoration-color: #000080\">INFO    </span> <span style=\"color: #000000; text-decoration-color: #000000\">Computing observable workshop_mtt                                                  </span><a href=\"file:///Users/moaly/Work/iris-hep/integration-challenge/cms/analysis/nondiff.py\" target=\"_blank\"><span style=\"color: #7f7f7f; text-decoration-color: #7f7f7f\">nondiff.py</span></a><span style=\"color: #7f7f7f; text-decoration-color: #7f7f7f\">:</span><a href=\"file:///Users/moaly/Work/iris-hep/integration-challenge/cms/analysis/nondiff.py#213\" target=\"_blank\"><span style=\"color: #7f7f7f; text-decoration-color: #7f7f7f\">213</span></a>\n",
       "</pre>\n"
      ],
      "text/plain": [
       "\u001b[2;36m        \u001b[0m\u001b[2;36m \u001b[0m\u001b[34mINFO    \u001b[0m \u001b[39mComputing observable workshop_mtt                                                 \u001b[0m\u001b[39m \u001b[0m\u001b]8;id=807769;file:///Users/moaly/Work/iris-hep/integration-challenge/cms/analysis/nondiff.py\u001b\\\u001b[2mnondiff.py\u001b[0m\u001b]8;;\u001b\\\u001b[2m:\u001b[0m\u001b]8;id=683316;file:///Users/moaly/Work/iris-hep/integration-challenge/cms/analysis/nondiff.py#213\u001b\\\u001b[2m213\u001b[0m\u001b]8;;\u001b\\\n"
      ]
     },
     "metadata": {},
     "output_type": "display_data"
    },
    {
     "data": {
      "text/html": [
       "<pre style=\"white-space:pre;overflow-x:auto;line-height:normal;font-family:Menlo,'DejaVu Sans Mono',consolas,'Courier New',monospace\"><span style=\"color: #7fbfbf; text-decoration-color: #7fbfbf\">         </span><span style=\"color: #000080; text-decoration-color: #000080\">INFO    </span> <span style=\"color: #000000; text-decoration-color: #000000\">Applying selection for CMS_WORKSHOP in wjets with variation jet_pt_scale_up        </span><a href=\"file:///Users/moaly/Work/iris-hep/integration-challenge/cms/analysis/nondiff.py\" target=\"_blank\"><span style=\"color: #7f7f7f; text-decoration-color: #7f7f7f\">nondiff.py</span></a><span style=\"color: #7f7f7f; text-decoration-color: #7f7f7f\">:</span><a href=\"file:///Users/moaly/Work/iris-hep/integration-challenge/cms/analysis/nondiff.py#154\" target=\"_blank\"><span style=\"color: #7f7f7f; text-decoration-color: #7f7f7f\">154</span></a>\n",
       "</pre>\n"
      ],
      "text/plain": [
       "\u001b[2;36m        \u001b[0m\u001b[2;36m \u001b[0m\u001b[34mINFO    \u001b[0m \u001b[39mApplying selection for CMS_WORKSHOP in wjets with variation jet_pt_scale_up       \u001b[0m\u001b[39m \u001b[0m\u001b]8;id=783838;file:///Users/moaly/Work/iris-hep/integration-challenge/cms/analysis/nondiff.py\u001b\\\u001b[2mnondiff.py\u001b[0m\u001b]8;;\u001b\\\u001b[2m:\u001b[0m\u001b]8;id=997387;file:///Users/moaly/Work/iris-hep/integration-challenge/cms/analysis/nondiff.py#154\u001b\\\u001b[2m154\u001b[0m\u001b]8;;\u001b\\\n"
      ]
     },
     "metadata": {},
     "output_type": "display_data"
    },
    {
     "data": {
      "text/html": [
       "<pre style=\"white-space:pre;overflow-x:auto;line-height:normal;font-family:Menlo,'DejaVu Sans Mono',consolas,'Courier New',monospace\"><span style=\"color: #7fbfbf; text-decoration-color: #7fbfbf\">         </span><span style=\"color: #000080; text-decoration-color: #000080\">INFO    </span> <span style=\"color: #000000; text-decoration-color: #000000\">Number of weighted events in CMS_WORKSHOP: </span><span style=\"color: #008080; text-decoration-color: #008080; font-weight: bold\">443.16</span><span style=\"color: #000000; text-decoration-color: #000000\">                                  </span><a href=\"file:///Users/moaly/Work/iris-hep/integration-challenge/cms/analysis/nondiff.py\" target=\"_blank\"><span style=\"color: #7f7f7f; text-decoration-color: #7f7f7f\">nondiff.py</span></a><span style=\"color: #7f7f7f; text-decoration-color: #7f7f7f\">:</span><a href=\"file:///Users/moaly/Work/iris-hep/integration-challenge/cms/analysis/nondiff.py#205\" target=\"_blank\"><span style=\"color: #7f7f7f; text-decoration-color: #7f7f7f\">205</span></a>\n",
       "</pre>\n"
      ],
      "text/plain": [
       "\u001b[2;36m        \u001b[0m\u001b[2;36m \u001b[0m\u001b[34mINFO    \u001b[0m \u001b[39mNumber of weighted events in CMS_WORKSHOP: \u001b[0m\u001b[1;36m443.16\u001b[0m\u001b[39m                                 \u001b[0m\u001b[39m \u001b[0m\u001b]8;id=80749;file:///Users/moaly/Work/iris-hep/integration-challenge/cms/analysis/nondiff.py\u001b\\\u001b[2mnondiff.py\u001b[0m\u001b]8;;\u001b\\\u001b[2m:\u001b[0m\u001b]8;id=892706;file:///Users/moaly/Work/iris-hep/integration-challenge/cms/analysis/nondiff.py#205\u001b\\\u001b[2m205\u001b[0m\u001b]8;;\u001b\\\n"
      ]
     },
     "metadata": {},
     "output_type": "display_data"
    },
    {
     "data": {
      "text/html": [
       "<pre style=\"white-space:pre;overflow-x:auto;line-height:normal;font-family:Menlo,'DejaVu Sans Mono',consolas,'Courier New',monospace\"><span style=\"color: #7fbfbf; text-decoration-color: #7fbfbf\">         </span><span style=\"color: #000080; text-decoration-color: #000080\">INFO    </span> <span style=\"color: #000000; text-decoration-color: #000000\">Number of raw events in CMS_WORKSHOP: </span><span style=\"color: #008080; text-decoration-color: #008080; font-weight: bold\">1</span><span style=\"color: #000000; text-decoration-color: #000000\">                                            </span><a href=\"file:///Users/moaly/Work/iris-hep/integration-challenge/cms/analysis/nondiff.py\" target=\"_blank\"><span style=\"color: #7f7f7f; text-decoration-color: #7f7f7f\">nondiff.py</span></a><span style=\"color: #7f7f7f; text-decoration-color: #7f7f7f\">:</span><a href=\"file:///Users/moaly/Work/iris-hep/integration-challenge/cms/analysis/nondiff.py#208\" target=\"_blank\"><span style=\"color: #7f7f7f; text-decoration-color: #7f7f7f\">208</span></a>\n",
       "</pre>\n"
      ],
      "text/plain": [
       "\u001b[2;36m        \u001b[0m\u001b[2;36m \u001b[0m\u001b[34mINFO    \u001b[0m \u001b[39mNumber of raw events in CMS_WORKSHOP: \u001b[0m\u001b[1;36m1\u001b[0m\u001b[39m                                           \u001b[0m\u001b[39m \u001b[0m\u001b]8;id=819138;file:///Users/moaly/Work/iris-hep/integration-challenge/cms/analysis/nondiff.py\u001b\\\u001b[2mnondiff.py\u001b[0m\u001b]8;;\u001b\\\u001b[2m:\u001b[0m\u001b]8;id=174983;file:///Users/moaly/Work/iris-hep/integration-challenge/cms/analysis/nondiff.py#208\u001b\\\u001b[2m208\u001b[0m\u001b]8;;\u001b\\\n"
      ]
     },
     "metadata": {},
     "output_type": "display_data"
    },
    {
     "data": {
      "text/html": [
       "<pre style=\"white-space:pre;overflow-x:auto;line-height:normal;font-family:Menlo,'DejaVu Sans Mono',consolas,'Courier New',monospace\"><span style=\"color: #7fbfbf; text-decoration-color: #7fbfbf\">         </span><span style=\"color: #000080; text-decoration-color: #000080\">INFO    </span> <span style=\"color: #000000; text-decoration-color: #000000\">Computing observable workshop_mtt                                                  </span><a href=\"file:///Users/moaly/Work/iris-hep/integration-challenge/cms/analysis/nondiff.py\" target=\"_blank\"><span style=\"color: #7f7f7f; text-decoration-color: #7f7f7f\">nondiff.py</span></a><span style=\"color: #7f7f7f; text-decoration-color: #7f7f7f\">:</span><a href=\"file:///Users/moaly/Work/iris-hep/integration-challenge/cms/analysis/nondiff.py#213\" target=\"_blank\"><span style=\"color: #7f7f7f; text-decoration-color: #7f7f7f\">213</span></a>\n",
       "</pre>\n"
      ],
      "text/plain": [
       "\u001b[2;36m        \u001b[0m\u001b[2;36m \u001b[0m\u001b[34mINFO    \u001b[0m \u001b[39mComputing observable workshop_mtt                                                 \u001b[0m\u001b[39m \u001b[0m\u001b]8;id=489663;file:///Users/moaly/Work/iris-hep/integration-challenge/cms/analysis/nondiff.py\u001b\\\u001b[2mnondiff.py\u001b[0m\u001b]8;;\u001b\\\u001b[2m:\u001b[0m\u001b]8;id=742026;file:///Users/moaly/Work/iris-hep/integration-challenge/cms/analysis/nondiff.py#213\u001b\\\u001b[2m213\u001b[0m\u001b]8;;\u001b\\\n"
      ]
     },
     "metadata": {},
     "output_type": "display_data"
    },
    {
     "data": {
      "text/html": [
       "<pre style=\"white-space:pre;overflow-x:auto;line-height:normal;font-family:Menlo,'DejaVu Sans Mono',consolas,'Courier New',monospace\"><span style=\"color: #7fbfbf; text-decoration-color: #7fbfbf\">         </span><span style=\"color: #000080; text-decoration-color: #000080\">INFO    </span> <span style=\"color: #000000; text-decoration-color: #000000\">Applying selection for CMS_WORKSHOP in wjets with variation jet_pt_scale_down      </span><a href=\"file:///Users/moaly/Work/iris-hep/integration-challenge/cms/analysis/nondiff.py\" target=\"_blank\"><span style=\"color: #7f7f7f; text-decoration-color: #7f7f7f\">nondiff.py</span></a><span style=\"color: #7f7f7f; text-decoration-color: #7f7f7f\">:</span><a href=\"file:///Users/moaly/Work/iris-hep/integration-challenge/cms/analysis/nondiff.py#154\" target=\"_blank\"><span style=\"color: #7f7f7f; text-decoration-color: #7f7f7f\">154</span></a>\n",
       "</pre>\n"
      ],
      "text/plain": [
       "\u001b[2;36m        \u001b[0m\u001b[2;36m \u001b[0m\u001b[34mINFO    \u001b[0m \u001b[39mApplying selection for CMS_WORKSHOP in wjets with variation jet_pt_scale_down     \u001b[0m\u001b[39m \u001b[0m\u001b]8;id=20226;file:///Users/moaly/Work/iris-hep/integration-challenge/cms/analysis/nondiff.py\u001b\\\u001b[2mnondiff.py\u001b[0m\u001b]8;;\u001b\\\u001b[2m:\u001b[0m\u001b]8;id=642326;file:///Users/moaly/Work/iris-hep/integration-challenge/cms/analysis/nondiff.py#154\u001b\\\u001b[2m154\u001b[0m\u001b]8;;\u001b\\\n"
      ]
     },
     "metadata": {},
     "output_type": "display_data"
    },
    {
     "data": {
      "text/html": [
       "<pre style=\"white-space:pre;overflow-x:auto;line-height:normal;font-family:Menlo,'DejaVu Sans Mono',consolas,'Courier New',monospace\"><span style=\"color: #7fbfbf; text-decoration-color: #7fbfbf\">         </span><span style=\"color: #000080; text-decoration-color: #000080\">INFO    </span> <span style=\"color: #000000; text-decoration-color: #000000\">Number of weighted events in CMS_WORKSHOP: </span><span style=\"color: #008080; text-decoration-color: #008080; font-weight: bold\">443.16</span><span style=\"color: #000000; text-decoration-color: #000000\">                                  </span><a href=\"file:///Users/moaly/Work/iris-hep/integration-challenge/cms/analysis/nondiff.py\" target=\"_blank\"><span style=\"color: #7f7f7f; text-decoration-color: #7f7f7f\">nondiff.py</span></a><span style=\"color: #7f7f7f; text-decoration-color: #7f7f7f\">:</span><a href=\"file:///Users/moaly/Work/iris-hep/integration-challenge/cms/analysis/nondiff.py#205\" target=\"_blank\"><span style=\"color: #7f7f7f; text-decoration-color: #7f7f7f\">205</span></a>\n",
       "</pre>\n"
      ],
      "text/plain": [
       "\u001b[2;36m        \u001b[0m\u001b[2;36m \u001b[0m\u001b[34mINFO    \u001b[0m \u001b[39mNumber of weighted events in CMS_WORKSHOP: \u001b[0m\u001b[1;36m443.16\u001b[0m\u001b[39m                                 \u001b[0m\u001b[39m \u001b[0m\u001b]8;id=94124;file:///Users/moaly/Work/iris-hep/integration-challenge/cms/analysis/nondiff.py\u001b\\\u001b[2mnondiff.py\u001b[0m\u001b]8;;\u001b\\\u001b[2m:\u001b[0m\u001b]8;id=941896;file:///Users/moaly/Work/iris-hep/integration-challenge/cms/analysis/nondiff.py#205\u001b\\\u001b[2m205\u001b[0m\u001b]8;;\u001b\\\n"
      ]
     },
     "metadata": {},
     "output_type": "display_data"
    },
    {
     "data": {
      "text/html": [
       "<pre style=\"white-space:pre;overflow-x:auto;line-height:normal;font-family:Menlo,'DejaVu Sans Mono',consolas,'Courier New',monospace\"><span style=\"color: #7fbfbf; text-decoration-color: #7fbfbf\">         </span><span style=\"color: #000080; text-decoration-color: #000080\">INFO    </span> <span style=\"color: #000000; text-decoration-color: #000000\">Number of raw events in CMS_WORKSHOP: </span><span style=\"color: #008080; text-decoration-color: #008080; font-weight: bold\">1</span><span style=\"color: #000000; text-decoration-color: #000000\">                                            </span><a href=\"file:///Users/moaly/Work/iris-hep/integration-challenge/cms/analysis/nondiff.py\" target=\"_blank\"><span style=\"color: #7f7f7f; text-decoration-color: #7f7f7f\">nondiff.py</span></a><span style=\"color: #7f7f7f; text-decoration-color: #7f7f7f\">:</span><a href=\"file:///Users/moaly/Work/iris-hep/integration-challenge/cms/analysis/nondiff.py#208\" target=\"_blank\"><span style=\"color: #7f7f7f; text-decoration-color: #7f7f7f\">208</span></a>\n",
       "</pre>\n"
      ],
      "text/plain": [
       "\u001b[2;36m        \u001b[0m\u001b[2;36m \u001b[0m\u001b[34mINFO    \u001b[0m \u001b[39mNumber of raw events in CMS_WORKSHOP: \u001b[0m\u001b[1;36m1\u001b[0m\u001b[39m                                           \u001b[0m\u001b[39m \u001b[0m\u001b]8;id=308681;file:///Users/moaly/Work/iris-hep/integration-challenge/cms/analysis/nondiff.py\u001b\\\u001b[2mnondiff.py\u001b[0m\u001b]8;;\u001b\\\u001b[2m:\u001b[0m\u001b]8;id=327235;file:///Users/moaly/Work/iris-hep/integration-challenge/cms/analysis/nondiff.py#208\u001b\\\u001b[2m208\u001b[0m\u001b]8;;\u001b\\\n"
      ]
     },
     "metadata": {},
     "output_type": "display_data"
    },
    {
     "data": {
      "text/html": [
       "<pre style=\"white-space:pre;overflow-x:auto;line-height:normal;font-family:Menlo,'DejaVu Sans Mono',consolas,'Courier New',monospace\"><span style=\"color: #7fbfbf; text-decoration-color: #7fbfbf\">         </span><span style=\"color: #000080; text-decoration-color: #000080\">INFO    </span> <span style=\"color: #000000; text-decoration-color: #000000\">Computing observable workshop_mtt                                                  </span><a href=\"file:///Users/moaly/Work/iris-hep/integration-challenge/cms/analysis/nondiff.py\" target=\"_blank\"><span style=\"color: #7f7f7f; text-decoration-color: #7f7f7f\">nondiff.py</span></a><span style=\"color: #7f7f7f; text-decoration-color: #7f7f7f\">:</span><a href=\"file:///Users/moaly/Work/iris-hep/integration-challenge/cms/analysis/nondiff.py#213\" target=\"_blank\"><span style=\"color: #7f7f7f; text-decoration-color: #7f7f7f\">213</span></a>\n",
       "</pre>\n"
      ],
      "text/plain": [
       "\u001b[2;36m        \u001b[0m\u001b[2;36m \u001b[0m\u001b[34mINFO    \u001b[0m \u001b[39mComputing observable workshop_mtt                                                 \u001b[0m\u001b[39m \u001b[0m\u001b]8;id=152896;file:///Users/moaly/Work/iris-hep/integration-challenge/cms/analysis/nondiff.py\u001b\\\u001b[2mnondiff.py\u001b[0m\u001b]8;;\u001b\\\u001b[2m:\u001b[0m\u001b]8;id=102915;file:///Users/moaly/Work/iris-hep/integration-challenge/cms/analysis/nondiff.py#213\u001b\\\u001b[2m213\u001b[0m\u001b]8;;\u001b\\\n"
      ]
     },
     "metadata": {},
     "output_type": "display_data"
    },
    {
     "data": {
      "text/html": [
       "<pre style=\"white-space:pre;overflow-x:auto;line-height:normal;font-family:Menlo,'DejaVu Sans Mono',consolas,'Courier New',monospace\"><span style=\"color: #7fbfbf; text-decoration-color: #7fbfbf\">         </span><span style=\"color: #000080; text-decoration-color: #000080\">INFO    </span> <span style=\"color: #000000; text-decoration-color: #000000\">Applying selection for CMS_WORKSHOP in wjets with variation pu_weight_up           </span><a href=\"file:///Users/moaly/Work/iris-hep/integration-challenge/cms/analysis/nondiff.py\" target=\"_blank\"><span style=\"color: #7f7f7f; text-decoration-color: #7f7f7f\">nondiff.py</span></a><span style=\"color: #7f7f7f; text-decoration-color: #7f7f7f\">:</span><a href=\"file:///Users/moaly/Work/iris-hep/integration-challenge/cms/analysis/nondiff.py#154\" target=\"_blank\"><span style=\"color: #7f7f7f; text-decoration-color: #7f7f7f\">154</span></a>\n",
       "</pre>\n"
      ],
      "text/plain": [
       "\u001b[2;36m        \u001b[0m\u001b[2;36m \u001b[0m\u001b[34mINFO    \u001b[0m \u001b[39mApplying selection for CMS_WORKSHOP in wjets with variation pu_weight_up          \u001b[0m\u001b[39m \u001b[0m\u001b]8;id=431182;file:///Users/moaly/Work/iris-hep/integration-challenge/cms/analysis/nondiff.py\u001b\\\u001b[2mnondiff.py\u001b[0m\u001b]8;;\u001b\\\u001b[2m:\u001b[0m\u001b]8;id=419393;file:///Users/moaly/Work/iris-hep/integration-challenge/cms/analysis/nondiff.py#154\u001b\\\u001b[2m154\u001b[0m\u001b]8;;\u001b\\\n"
      ]
     },
     "metadata": {},
     "output_type": "display_data"
    },
    {
     "data": {
      "text/html": [
       "<pre style=\"white-space:pre;overflow-x:auto;line-height:normal;font-family:Menlo,'DejaVu Sans Mono',consolas,'Courier New',monospace\"><span style=\"color: #7fbfbf; text-decoration-color: #7fbfbf\">         </span><span style=\"color: #000080; text-decoration-color: #000080\">INFO    </span> <span style=\"color: #000000; text-decoration-color: #000000\">Applying correction: pu_weight/Collisions16_UltraLegacy_goldenJSON </span><span style=\"color: #000000; text-decoration-color: #000000; font-weight: bold\">(</span><span style=\"color: #000000; text-decoration-color: #000000\">up</span><span style=\"color: #000000; text-decoration-color: #000000; font-weight: bold\">)</span><span style=\"color: #000000; text-decoration-color: #000000\">               </span><a href=\"file:///Users/moaly/Work/iris-hep/integration-challenge/cms/analysis/base.py\" target=\"_blank\"><span style=\"color: #7f7f7f; text-decoration-color: #7f7f7f\">base.py</span></a><span style=\"color: #7f7f7f; text-decoration-color: #7f7f7f\">:</span><a href=\"file:///Users/moaly/Work/iris-hep/integration-challenge/cms/analysis/base.py#247\" target=\"_blank\"><span style=\"color: #7f7f7f; text-decoration-color: #7f7f7f\">247</span></a>\n",
       "</pre>\n"
      ],
      "text/plain": [
       "\u001b[2;36m        \u001b[0m\u001b[2;36m \u001b[0m\u001b[34mINFO    \u001b[0m \u001b[39mApplying correction: pu_weight/Collisions16_UltraLegacy_goldenJSON \u001b[0m\u001b[1;39m(\u001b[0m\u001b[39mup\u001b[0m\u001b[1;39m)\u001b[0m\u001b[39m              \u001b[0m\u001b[39m \u001b[0m\u001b]8;id=480962;file:///Users/moaly/Work/iris-hep/integration-challenge/cms/analysis/base.py\u001b\\\u001b[2mbase.py\u001b[0m\u001b]8;;\u001b\\\u001b[2m:\u001b[0m\u001b]8;id=382060;file:///Users/moaly/Work/iris-hep/integration-challenge/cms/analysis/base.py#247\u001b\\\u001b[2m247\u001b[0m\u001b]8;;\u001b\\\n"
      ]
     },
     "metadata": {},
     "output_type": "display_data"
    },
    {
     "data": {
      "text/html": [
       "<pre style=\"white-space:pre;overflow-x:auto;line-height:normal;font-family:Menlo,'DejaVu Sans Mono',consolas,'Courier New',monospace\"><span style=\"color: #7fbfbf; text-decoration-color: #7fbfbf\">         </span><span style=\"color: #000080; text-decoration-color: #000080\">INFO    </span> <span style=\"color: #000000; text-decoration-color: #000000\">Number of weighted events in CMS_WORKSHOP: </span><span style=\"color: #008080; text-decoration-color: #008080; font-weight: bold\">1.46</span><span style=\"color: #000000; text-decoration-color: #000000\">                                    </span><a href=\"file:///Users/moaly/Work/iris-hep/integration-challenge/cms/analysis/nondiff.py\" target=\"_blank\"><span style=\"color: #7f7f7f; text-decoration-color: #7f7f7f\">nondiff.py</span></a><span style=\"color: #7f7f7f; text-decoration-color: #7f7f7f\">:</span><a href=\"file:///Users/moaly/Work/iris-hep/integration-challenge/cms/analysis/nondiff.py#205\" target=\"_blank\"><span style=\"color: #7f7f7f; text-decoration-color: #7f7f7f\">205</span></a>\n",
       "</pre>\n"
      ],
      "text/plain": [
       "\u001b[2;36m        \u001b[0m\u001b[2;36m \u001b[0m\u001b[34mINFO    \u001b[0m \u001b[39mNumber of weighted events in CMS_WORKSHOP: \u001b[0m\u001b[1;36m1.46\u001b[0m\u001b[39m                                   \u001b[0m\u001b[39m \u001b[0m\u001b]8;id=841795;file:///Users/moaly/Work/iris-hep/integration-challenge/cms/analysis/nondiff.py\u001b\\\u001b[2mnondiff.py\u001b[0m\u001b]8;;\u001b\\\u001b[2m:\u001b[0m\u001b]8;id=543609;file:///Users/moaly/Work/iris-hep/integration-challenge/cms/analysis/nondiff.py#205\u001b\\\u001b[2m205\u001b[0m\u001b]8;;\u001b\\\n"
      ]
     },
     "metadata": {},
     "output_type": "display_data"
    },
    {
     "data": {
      "text/html": [
       "<pre style=\"white-space:pre;overflow-x:auto;line-height:normal;font-family:Menlo,'DejaVu Sans Mono',consolas,'Courier New',monospace\"><span style=\"color: #7fbfbf; text-decoration-color: #7fbfbf\">         </span><span style=\"color: #000080; text-decoration-color: #000080\">INFO    </span> <span style=\"color: #000000; text-decoration-color: #000000\">Number of raw events in CMS_WORKSHOP: </span><span style=\"color: #008080; text-decoration-color: #008080; font-weight: bold\">1</span><span style=\"color: #000000; text-decoration-color: #000000\">                                            </span><a href=\"file:///Users/moaly/Work/iris-hep/integration-challenge/cms/analysis/nondiff.py\" target=\"_blank\"><span style=\"color: #7f7f7f; text-decoration-color: #7f7f7f\">nondiff.py</span></a><span style=\"color: #7f7f7f; text-decoration-color: #7f7f7f\">:</span><a href=\"file:///Users/moaly/Work/iris-hep/integration-challenge/cms/analysis/nondiff.py#208\" target=\"_blank\"><span style=\"color: #7f7f7f; text-decoration-color: #7f7f7f\">208</span></a>\n",
       "</pre>\n"
      ],
      "text/plain": [
       "\u001b[2;36m        \u001b[0m\u001b[2;36m \u001b[0m\u001b[34mINFO    \u001b[0m \u001b[39mNumber of raw events in CMS_WORKSHOP: \u001b[0m\u001b[1;36m1\u001b[0m\u001b[39m                                           \u001b[0m\u001b[39m \u001b[0m\u001b]8;id=499800;file:///Users/moaly/Work/iris-hep/integration-challenge/cms/analysis/nondiff.py\u001b\\\u001b[2mnondiff.py\u001b[0m\u001b]8;;\u001b\\\u001b[2m:\u001b[0m\u001b]8;id=376155;file:///Users/moaly/Work/iris-hep/integration-challenge/cms/analysis/nondiff.py#208\u001b\\\u001b[2m208\u001b[0m\u001b]8;;\u001b\\\n"
      ]
     },
     "metadata": {},
     "output_type": "display_data"
    },
    {
     "data": {
      "text/html": [
       "<pre style=\"white-space:pre;overflow-x:auto;line-height:normal;font-family:Menlo,'DejaVu Sans Mono',consolas,'Courier New',monospace\"><span style=\"color: #7fbfbf; text-decoration-color: #7fbfbf\">         </span><span style=\"color: #000080; text-decoration-color: #000080\">INFO    </span> <span style=\"color: #000000; text-decoration-color: #000000\">Computing observable workshop_mtt                                                  </span><a href=\"file:///Users/moaly/Work/iris-hep/integration-challenge/cms/analysis/nondiff.py\" target=\"_blank\"><span style=\"color: #7f7f7f; text-decoration-color: #7f7f7f\">nondiff.py</span></a><span style=\"color: #7f7f7f; text-decoration-color: #7f7f7f\">:</span><a href=\"file:///Users/moaly/Work/iris-hep/integration-challenge/cms/analysis/nondiff.py#213\" target=\"_blank\"><span style=\"color: #7f7f7f; text-decoration-color: #7f7f7f\">213</span></a>\n",
       "</pre>\n"
      ],
      "text/plain": [
       "\u001b[2;36m        \u001b[0m\u001b[2;36m \u001b[0m\u001b[34mINFO    \u001b[0m \u001b[39mComputing observable workshop_mtt                                                 \u001b[0m\u001b[39m \u001b[0m\u001b]8;id=129128;file:///Users/moaly/Work/iris-hep/integration-challenge/cms/analysis/nondiff.py\u001b\\\u001b[2mnondiff.py\u001b[0m\u001b]8;;\u001b\\\u001b[2m:\u001b[0m\u001b]8;id=983227;file:///Users/moaly/Work/iris-hep/integration-challenge/cms/analysis/nondiff.py#213\u001b\\\u001b[2m213\u001b[0m\u001b]8;;\u001b\\\n"
      ]
     },
     "metadata": {},
     "output_type": "display_data"
    },
    {
     "data": {
      "text/html": [
       "<pre style=\"white-space:pre;overflow-x:auto;line-height:normal;font-family:Menlo,'DejaVu Sans Mono',consolas,'Courier New',monospace\"><span style=\"color: #7fbfbf; text-decoration-color: #7fbfbf\">         </span><span style=\"color: #000080; text-decoration-color: #000080\">INFO    </span> <span style=\"color: #000000; text-decoration-color: #000000\">Applying selection for CMS_WORKSHOP in wjets with variation pu_weight_down         </span><a href=\"file:///Users/moaly/Work/iris-hep/integration-challenge/cms/analysis/nondiff.py\" target=\"_blank\"><span style=\"color: #7f7f7f; text-decoration-color: #7f7f7f\">nondiff.py</span></a><span style=\"color: #7f7f7f; text-decoration-color: #7f7f7f\">:</span><a href=\"file:///Users/moaly/Work/iris-hep/integration-challenge/cms/analysis/nondiff.py#154\" target=\"_blank\"><span style=\"color: #7f7f7f; text-decoration-color: #7f7f7f\">154</span></a>\n",
       "</pre>\n"
      ],
      "text/plain": [
       "\u001b[2;36m        \u001b[0m\u001b[2;36m \u001b[0m\u001b[34mINFO    \u001b[0m \u001b[39mApplying selection for CMS_WORKSHOP in wjets with variation pu_weight_down        \u001b[0m\u001b[39m \u001b[0m\u001b]8;id=799100;file:///Users/moaly/Work/iris-hep/integration-challenge/cms/analysis/nondiff.py\u001b\\\u001b[2mnondiff.py\u001b[0m\u001b]8;;\u001b\\\u001b[2m:\u001b[0m\u001b]8;id=100362;file:///Users/moaly/Work/iris-hep/integration-challenge/cms/analysis/nondiff.py#154\u001b\\\u001b[2m154\u001b[0m\u001b]8;;\u001b\\\n"
      ]
     },
     "metadata": {},
     "output_type": "display_data"
    },
    {
     "data": {
      "text/html": [
       "<pre style=\"white-space:pre;overflow-x:auto;line-height:normal;font-family:Menlo,'DejaVu Sans Mono',consolas,'Courier New',monospace\"><span style=\"color: #7fbfbf; text-decoration-color: #7fbfbf\">         </span><span style=\"color: #000080; text-decoration-color: #000080\">INFO    </span> <span style=\"color: #000000; text-decoration-color: #000000\">Applying correction: pu_weight/Collisions16_UltraLegacy_goldenJSON </span><span style=\"color: #000000; text-decoration-color: #000000; font-weight: bold\">(</span><span style=\"color: #000000; text-decoration-color: #000000\">down</span><span style=\"color: #000000; text-decoration-color: #000000; font-weight: bold\">)</span><span style=\"color: #000000; text-decoration-color: #000000\">             </span><a href=\"file:///Users/moaly/Work/iris-hep/integration-challenge/cms/analysis/base.py\" target=\"_blank\"><span style=\"color: #7f7f7f; text-decoration-color: #7f7f7f\">base.py</span></a><span style=\"color: #7f7f7f; text-decoration-color: #7f7f7f\">:</span><a href=\"file:///Users/moaly/Work/iris-hep/integration-challenge/cms/analysis/base.py#247\" target=\"_blank\"><span style=\"color: #7f7f7f; text-decoration-color: #7f7f7f\">247</span></a>\n",
       "</pre>\n"
      ],
      "text/plain": [
       "\u001b[2;36m        \u001b[0m\u001b[2;36m \u001b[0m\u001b[34mINFO    \u001b[0m \u001b[39mApplying correction: pu_weight/Collisions16_UltraLegacy_goldenJSON \u001b[0m\u001b[1;39m(\u001b[0m\u001b[39mdown\u001b[0m\u001b[1;39m)\u001b[0m\u001b[39m            \u001b[0m\u001b[39m \u001b[0m\u001b]8;id=348876;file:///Users/moaly/Work/iris-hep/integration-challenge/cms/analysis/base.py\u001b\\\u001b[2mbase.py\u001b[0m\u001b]8;;\u001b\\\u001b[2m:\u001b[0m\u001b]8;id=547388;file:///Users/moaly/Work/iris-hep/integration-challenge/cms/analysis/base.py#247\u001b\\\u001b[2m247\u001b[0m\u001b]8;;\u001b\\\n"
      ]
     },
     "metadata": {},
     "output_type": "display_data"
    },
    {
     "data": {
      "text/html": [
       "<pre style=\"white-space:pre;overflow-x:auto;line-height:normal;font-family:Menlo,'DejaVu Sans Mono',consolas,'Courier New',monospace\"><span style=\"color: #7fbfbf; text-decoration-color: #7fbfbf\">         </span><span style=\"color: #000080; text-decoration-color: #000080\">INFO    </span> <span style=\"color: #000000; text-decoration-color: #000000\">Number of weighted events in CMS_WORKSHOP: </span><span style=\"color: #008080; text-decoration-color: #008080; font-weight: bold\">1.30</span><span style=\"color: #000000; text-decoration-color: #000000\">                                    </span><a href=\"file:///Users/moaly/Work/iris-hep/integration-challenge/cms/analysis/nondiff.py\" target=\"_blank\"><span style=\"color: #7f7f7f; text-decoration-color: #7f7f7f\">nondiff.py</span></a><span style=\"color: #7f7f7f; text-decoration-color: #7f7f7f\">:</span><a href=\"file:///Users/moaly/Work/iris-hep/integration-challenge/cms/analysis/nondiff.py#205\" target=\"_blank\"><span style=\"color: #7f7f7f; text-decoration-color: #7f7f7f\">205</span></a>\n",
       "</pre>\n"
      ],
      "text/plain": [
       "\u001b[2;36m        \u001b[0m\u001b[2;36m \u001b[0m\u001b[34mINFO    \u001b[0m \u001b[39mNumber of weighted events in CMS_WORKSHOP: \u001b[0m\u001b[1;36m1.30\u001b[0m\u001b[39m                                   \u001b[0m\u001b[39m \u001b[0m\u001b]8;id=957594;file:///Users/moaly/Work/iris-hep/integration-challenge/cms/analysis/nondiff.py\u001b\\\u001b[2mnondiff.py\u001b[0m\u001b]8;;\u001b\\\u001b[2m:\u001b[0m\u001b]8;id=566672;file:///Users/moaly/Work/iris-hep/integration-challenge/cms/analysis/nondiff.py#205\u001b\\\u001b[2m205\u001b[0m\u001b]8;;\u001b\\\n"
      ]
     },
     "metadata": {},
     "output_type": "display_data"
    },
    {
     "data": {
      "text/html": [
       "<pre style=\"white-space:pre;overflow-x:auto;line-height:normal;font-family:Menlo,'DejaVu Sans Mono',consolas,'Courier New',monospace\"><span style=\"color: #7fbfbf; text-decoration-color: #7fbfbf\">         </span><span style=\"color: #000080; text-decoration-color: #000080\">INFO    </span> <span style=\"color: #000000; text-decoration-color: #000000\">Number of raw events in CMS_WORKSHOP: </span><span style=\"color: #008080; text-decoration-color: #008080; font-weight: bold\">1</span><span style=\"color: #000000; text-decoration-color: #000000\">                                            </span><a href=\"file:///Users/moaly/Work/iris-hep/integration-challenge/cms/analysis/nondiff.py\" target=\"_blank\"><span style=\"color: #7f7f7f; text-decoration-color: #7f7f7f\">nondiff.py</span></a><span style=\"color: #7f7f7f; text-decoration-color: #7f7f7f\">:</span><a href=\"file:///Users/moaly/Work/iris-hep/integration-challenge/cms/analysis/nondiff.py#208\" target=\"_blank\"><span style=\"color: #7f7f7f; text-decoration-color: #7f7f7f\">208</span></a>\n",
       "</pre>\n"
      ],
      "text/plain": [
       "\u001b[2;36m        \u001b[0m\u001b[2;36m \u001b[0m\u001b[34mINFO    \u001b[0m \u001b[39mNumber of raw events in CMS_WORKSHOP: \u001b[0m\u001b[1;36m1\u001b[0m\u001b[39m                                           \u001b[0m\u001b[39m \u001b[0m\u001b]8;id=986097;file:///Users/moaly/Work/iris-hep/integration-challenge/cms/analysis/nondiff.py\u001b\\\u001b[2mnondiff.py\u001b[0m\u001b]8;;\u001b\\\u001b[2m:\u001b[0m\u001b]8;id=518272;file:///Users/moaly/Work/iris-hep/integration-challenge/cms/analysis/nondiff.py#208\u001b\\\u001b[2m208\u001b[0m\u001b]8;;\u001b\\\n"
      ]
     },
     "metadata": {},
     "output_type": "display_data"
    },
    {
     "data": {
      "text/html": [
       "<pre style=\"white-space:pre;overflow-x:auto;line-height:normal;font-family:Menlo,'DejaVu Sans Mono',consolas,'Courier New',monospace\"><span style=\"color: #7fbfbf; text-decoration-color: #7fbfbf\">         </span><span style=\"color: #000080; text-decoration-color: #000080\">INFO    </span> <span style=\"color: #000000; text-decoration-color: #000000\">Computing observable workshop_mtt                                                  </span><a href=\"file:///Users/moaly/Work/iris-hep/integration-challenge/cms/analysis/nondiff.py\" target=\"_blank\"><span style=\"color: #7f7f7f; text-decoration-color: #7f7f7f\">nondiff.py</span></a><span style=\"color: #7f7f7f; text-decoration-color: #7f7f7f\">:</span><a href=\"file:///Users/moaly/Work/iris-hep/integration-challenge/cms/analysis/nondiff.py#213\" target=\"_blank\"><span style=\"color: #7f7f7f; text-decoration-color: #7f7f7f\">213</span></a>\n",
       "</pre>\n"
      ],
      "text/plain": [
       "\u001b[2;36m        \u001b[0m\u001b[2;36m \u001b[0m\u001b[34mINFO    \u001b[0m \u001b[39mComputing observable workshop_mtt                                                 \u001b[0m\u001b[39m \u001b[0m\u001b]8;id=486637;file:///Users/moaly/Work/iris-hep/integration-challenge/cms/analysis/nondiff.py\u001b\\\u001b[2mnondiff.py\u001b[0m\u001b]8;;\u001b\\\u001b[2m:\u001b[0m\u001b]8;id=866336;file:///Users/moaly/Work/iris-hep/integration-challenge/cms/analysis/nondiff.py#213\u001b\\\u001b[2m213\u001b[0m\u001b]8;;\u001b\\\n"
      ]
     },
     "metadata": {},
     "output_type": "display_data"
    },
    {
     "data": {
      "text/html": [
       "<pre style=\"white-space:pre;overflow-x:auto;line-height:normal;font-family:Menlo,'DejaVu Sans Mono',consolas,'Courier New',monospace\"><span style=\"color: #7fbfbf; text-decoration-color: #7fbfbf\">         </span><span style=\"color: #000080; text-decoration-color: #000080\">INFO    </span> <span style=\"color: #000000; text-decoration-color: #000000\">Applying selection for CMS_WORKSHOP in wjets with variation muon_id_sf_up          </span><a href=\"file:///Users/moaly/Work/iris-hep/integration-challenge/cms/analysis/nondiff.py\" target=\"_blank\"><span style=\"color: #7f7f7f; text-decoration-color: #7f7f7f\">nondiff.py</span></a><span style=\"color: #7f7f7f; text-decoration-color: #7f7f7f\">:</span><a href=\"file:///Users/moaly/Work/iris-hep/integration-challenge/cms/analysis/nondiff.py#154\" target=\"_blank\"><span style=\"color: #7f7f7f; text-decoration-color: #7f7f7f\">154</span></a>\n",
       "</pre>\n"
      ],
      "text/plain": [
       "\u001b[2;36m        \u001b[0m\u001b[2;36m \u001b[0m\u001b[34mINFO    \u001b[0m \u001b[39mApplying selection for CMS_WORKSHOP in wjets with variation muon_id_sf_up         \u001b[0m\u001b[39m \u001b[0m\u001b]8;id=775268;file:///Users/moaly/Work/iris-hep/integration-challenge/cms/analysis/nondiff.py\u001b\\\u001b[2mnondiff.py\u001b[0m\u001b]8;;\u001b\\\u001b[2m:\u001b[0m\u001b]8;id=11246;file:///Users/moaly/Work/iris-hep/integration-challenge/cms/analysis/nondiff.py#154\u001b\\\u001b[2m154\u001b[0m\u001b]8;;\u001b\\\n"
      ]
     },
     "metadata": {},
     "output_type": "display_data"
    },
    {
     "data": {
      "text/html": [
       "<pre style=\"white-space:pre;overflow-x:auto;line-height:normal;font-family:Menlo,'DejaVu Sans Mono',consolas,'Courier New',monospace\"><span style=\"color: #7fbfbf; text-decoration-color: #7fbfbf\">         </span><span style=\"color: #000080; text-decoration-color: #000080\">INFO    </span> <span style=\"color: #000000; text-decoration-color: #000000\">Applying correction: muon_id_sf/NUM_TightID_DEN_TrackerMuons </span><span style=\"color: #000000; text-decoration-color: #000000; font-weight: bold\">(</span><span style=\"color: #000000; text-decoration-color: #000000\">systup</span><span style=\"color: #000000; text-decoration-color: #000000; font-weight: bold\">)</span><span style=\"color: #000000; text-decoration-color: #000000\">                 </span><a href=\"file:///Users/moaly/Work/iris-hep/integration-challenge/cms/analysis/base.py\" target=\"_blank\"><span style=\"color: #7f7f7f; text-decoration-color: #7f7f7f\">base.py</span></a><span style=\"color: #7f7f7f; text-decoration-color: #7f7f7f\">:</span><a href=\"file:///Users/moaly/Work/iris-hep/integration-challenge/cms/analysis/base.py#247\" target=\"_blank\"><span style=\"color: #7f7f7f; text-decoration-color: #7f7f7f\">247</span></a>\n",
       "</pre>\n"
      ],
      "text/plain": [
       "\u001b[2;36m        \u001b[0m\u001b[2;36m \u001b[0m\u001b[34mINFO    \u001b[0m \u001b[39mApplying correction: muon_id_sf/NUM_TightID_DEN_TrackerMuons \u001b[0m\u001b[1;39m(\u001b[0m\u001b[39msystup\u001b[0m\u001b[1;39m)\u001b[0m\u001b[39m                \u001b[0m\u001b[39m \u001b[0m\u001b]8;id=822269;file:///Users/moaly/Work/iris-hep/integration-challenge/cms/analysis/base.py\u001b\\\u001b[2mbase.py\u001b[0m\u001b]8;;\u001b\\\u001b[2m:\u001b[0m\u001b]8;id=787081;file:///Users/moaly/Work/iris-hep/integration-challenge/cms/analysis/base.py#247\u001b\\\u001b[2m247\u001b[0m\u001b]8;;\u001b\\\n"
      ]
     },
     "metadata": {},
     "output_type": "display_data"
    },
    {
     "data": {
      "text/html": [
       "<pre style=\"white-space:pre;overflow-x:auto;line-height:normal;font-family:Menlo,'DejaVu Sans Mono',consolas,'Courier New',monospace\"><span style=\"color: #7fbfbf; text-decoration-color: #7fbfbf\">         </span><span style=\"color: #000080; text-decoration-color: #000080\">INFO    </span> <span style=\"color: #000000; text-decoration-color: #000000\">Number of weighted events in CMS_WORKSHOP: </span><span style=\"color: #008080; text-decoration-color: #008080; font-weight: bold\">0.99</span><span style=\"color: #000000; text-decoration-color: #000000\">                                    </span><a href=\"file:///Users/moaly/Work/iris-hep/integration-challenge/cms/analysis/nondiff.py\" target=\"_blank\"><span style=\"color: #7f7f7f; text-decoration-color: #7f7f7f\">nondiff.py</span></a><span style=\"color: #7f7f7f; text-decoration-color: #7f7f7f\">:</span><a href=\"file:///Users/moaly/Work/iris-hep/integration-challenge/cms/analysis/nondiff.py#205\" target=\"_blank\"><span style=\"color: #7f7f7f; text-decoration-color: #7f7f7f\">205</span></a>\n",
       "</pre>\n"
      ],
      "text/plain": [
       "\u001b[2;36m        \u001b[0m\u001b[2;36m \u001b[0m\u001b[34mINFO    \u001b[0m \u001b[39mNumber of weighted events in CMS_WORKSHOP: \u001b[0m\u001b[1;36m0.99\u001b[0m\u001b[39m                                   \u001b[0m\u001b[39m \u001b[0m\u001b]8;id=686896;file:///Users/moaly/Work/iris-hep/integration-challenge/cms/analysis/nondiff.py\u001b\\\u001b[2mnondiff.py\u001b[0m\u001b]8;;\u001b\\\u001b[2m:\u001b[0m\u001b]8;id=167530;file:///Users/moaly/Work/iris-hep/integration-challenge/cms/analysis/nondiff.py#205\u001b\\\u001b[2m205\u001b[0m\u001b]8;;\u001b\\\n"
      ]
     },
     "metadata": {},
     "output_type": "display_data"
    },
    {
     "data": {
      "text/html": [
       "<pre style=\"white-space:pre;overflow-x:auto;line-height:normal;font-family:Menlo,'DejaVu Sans Mono',consolas,'Courier New',monospace\"><span style=\"color: #7fbfbf; text-decoration-color: #7fbfbf\">         </span><span style=\"color: #000080; text-decoration-color: #000080\">INFO    </span> <span style=\"color: #000000; text-decoration-color: #000000\">Number of raw events in CMS_WORKSHOP: </span><span style=\"color: #008080; text-decoration-color: #008080; font-weight: bold\">1</span><span style=\"color: #000000; text-decoration-color: #000000\">                                            </span><a href=\"file:///Users/moaly/Work/iris-hep/integration-challenge/cms/analysis/nondiff.py\" target=\"_blank\"><span style=\"color: #7f7f7f; text-decoration-color: #7f7f7f\">nondiff.py</span></a><span style=\"color: #7f7f7f; text-decoration-color: #7f7f7f\">:</span><a href=\"file:///Users/moaly/Work/iris-hep/integration-challenge/cms/analysis/nondiff.py#208\" target=\"_blank\"><span style=\"color: #7f7f7f; text-decoration-color: #7f7f7f\">208</span></a>\n",
       "</pre>\n"
      ],
      "text/plain": [
       "\u001b[2;36m        \u001b[0m\u001b[2;36m \u001b[0m\u001b[34mINFO    \u001b[0m \u001b[39mNumber of raw events in CMS_WORKSHOP: \u001b[0m\u001b[1;36m1\u001b[0m\u001b[39m                                           \u001b[0m\u001b[39m \u001b[0m\u001b]8;id=192433;file:///Users/moaly/Work/iris-hep/integration-challenge/cms/analysis/nondiff.py\u001b\\\u001b[2mnondiff.py\u001b[0m\u001b]8;;\u001b\\\u001b[2m:\u001b[0m\u001b]8;id=987015;file:///Users/moaly/Work/iris-hep/integration-challenge/cms/analysis/nondiff.py#208\u001b\\\u001b[2m208\u001b[0m\u001b]8;;\u001b\\\n"
      ]
     },
     "metadata": {},
     "output_type": "display_data"
    },
    {
     "data": {
      "text/html": [
       "<pre style=\"white-space:pre;overflow-x:auto;line-height:normal;font-family:Menlo,'DejaVu Sans Mono',consolas,'Courier New',monospace\"><span style=\"color: #7fbfbf; text-decoration-color: #7fbfbf\">         </span><span style=\"color: #000080; text-decoration-color: #000080\">INFO    </span> <span style=\"color: #000000; text-decoration-color: #000000\">Computing observable workshop_mtt                                                  </span><a href=\"file:///Users/moaly/Work/iris-hep/integration-challenge/cms/analysis/nondiff.py\" target=\"_blank\"><span style=\"color: #7f7f7f; text-decoration-color: #7f7f7f\">nondiff.py</span></a><span style=\"color: #7f7f7f; text-decoration-color: #7f7f7f\">:</span><a href=\"file:///Users/moaly/Work/iris-hep/integration-challenge/cms/analysis/nondiff.py#213\" target=\"_blank\"><span style=\"color: #7f7f7f; text-decoration-color: #7f7f7f\">213</span></a>\n",
       "</pre>\n"
      ],
      "text/plain": [
       "\u001b[2;36m        \u001b[0m\u001b[2;36m \u001b[0m\u001b[34mINFO    \u001b[0m \u001b[39mComputing observable workshop_mtt                                                 \u001b[0m\u001b[39m \u001b[0m\u001b]8;id=521487;file:///Users/moaly/Work/iris-hep/integration-challenge/cms/analysis/nondiff.py\u001b\\\u001b[2mnondiff.py\u001b[0m\u001b]8;;\u001b\\\u001b[2m:\u001b[0m\u001b]8;id=285510;file:///Users/moaly/Work/iris-hep/integration-challenge/cms/analysis/nondiff.py#213\u001b\\\u001b[2m213\u001b[0m\u001b]8;;\u001b\\\n"
      ]
     },
     "metadata": {},
     "output_type": "display_data"
    },
    {
     "data": {
      "text/html": [
       "<pre style=\"white-space:pre;overflow-x:auto;line-height:normal;font-family:Menlo,'DejaVu Sans Mono',consolas,'Courier New',monospace\"><span style=\"color: #7fbfbf; text-decoration-color: #7fbfbf\">         </span><span style=\"color: #000080; text-decoration-color: #000080\">INFO    </span> <span style=\"color: #000000; text-decoration-color: #000000\">Applying selection for CMS_WORKSHOP in wjets with variation muon_id_sf_down        </span><a href=\"file:///Users/moaly/Work/iris-hep/integration-challenge/cms/analysis/nondiff.py\" target=\"_blank\"><span style=\"color: #7f7f7f; text-decoration-color: #7f7f7f\">nondiff.py</span></a><span style=\"color: #7f7f7f; text-decoration-color: #7f7f7f\">:</span><a href=\"file:///Users/moaly/Work/iris-hep/integration-challenge/cms/analysis/nondiff.py#154\" target=\"_blank\"><span style=\"color: #7f7f7f; text-decoration-color: #7f7f7f\">154</span></a>\n",
       "</pre>\n"
      ],
      "text/plain": [
       "\u001b[2;36m        \u001b[0m\u001b[2;36m \u001b[0m\u001b[34mINFO    \u001b[0m \u001b[39mApplying selection for CMS_WORKSHOP in wjets with variation muon_id_sf_down       \u001b[0m\u001b[39m \u001b[0m\u001b]8;id=85987;file:///Users/moaly/Work/iris-hep/integration-challenge/cms/analysis/nondiff.py\u001b\\\u001b[2mnondiff.py\u001b[0m\u001b]8;;\u001b\\\u001b[2m:\u001b[0m\u001b]8;id=965031;file:///Users/moaly/Work/iris-hep/integration-challenge/cms/analysis/nondiff.py#154\u001b\\\u001b[2m154\u001b[0m\u001b]8;;\u001b\\\n"
      ]
     },
     "metadata": {},
     "output_type": "display_data"
    },
    {
     "data": {
      "text/html": [
       "<pre style=\"white-space:pre;overflow-x:auto;line-height:normal;font-family:Menlo,'DejaVu Sans Mono',consolas,'Courier New',monospace\"><span style=\"color: #7fbfbf; text-decoration-color: #7fbfbf\">         </span><span style=\"color: #000080; text-decoration-color: #000080\">INFO    </span> <span style=\"color: #000000; text-decoration-color: #000000\">Applying correction: muon_id_sf/NUM_TightID_DEN_TrackerMuons </span><span style=\"color: #000000; text-decoration-color: #000000; font-weight: bold\">(</span><span style=\"color: #000000; text-decoration-color: #000000\">systdown</span><span style=\"color: #000000; text-decoration-color: #000000; font-weight: bold\">)</span><span style=\"color: #000000; text-decoration-color: #000000\">               </span><a href=\"file:///Users/moaly/Work/iris-hep/integration-challenge/cms/analysis/base.py\" target=\"_blank\"><span style=\"color: #7f7f7f; text-decoration-color: #7f7f7f\">base.py</span></a><span style=\"color: #7f7f7f; text-decoration-color: #7f7f7f\">:</span><a href=\"file:///Users/moaly/Work/iris-hep/integration-challenge/cms/analysis/base.py#247\" target=\"_blank\"><span style=\"color: #7f7f7f; text-decoration-color: #7f7f7f\">247</span></a>\n",
       "</pre>\n"
      ],
      "text/plain": [
       "\u001b[2;36m        \u001b[0m\u001b[2;36m \u001b[0m\u001b[34mINFO    \u001b[0m \u001b[39mApplying correction: muon_id_sf/NUM_TightID_DEN_TrackerMuons \u001b[0m\u001b[1;39m(\u001b[0m\u001b[39msystdown\u001b[0m\u001b[1;39m)\u001b[0m\u001b[39m              \u001b[0m\u001b[39m \u001b[0m\u001b]8;id=216119;file:///Users/moaly/Work/iris-hep/integration-challenge/cms/analysis/base.py\u001b\\\u001b[2mbase.py\u001b[0m\u001b]8;;\u001b\\\u001b[2m:\u001b[0m\u001b]8;id=623482;file:///Users/moaly/Work/iris-hep/integration-challenge/cms/analysis/base.py#247\u001b\\\u001b[2m247\u001b[0m\u001b]8;;\u001b\\\n"
      ]
     },
     "metadata": {},
     "output_type": "display_data"
    },
    {
     "data": {
      "text/html": [
       "<pre style=\"white-space:pre;overflow-x:auto;line-height:normal;font-family:Menlo,'DejaVu Sans Mono',consolas,'Courier New',monospace\"><span style=\"color: #7fbfbf; text-decoration-color: #7fbfbf\">         </span><span style=\"color: #000080; text-decoration-color: #000080\">INFO    </span> <span style=\"color: #000000; text-decoration-color: #000000\">Number of weighted events in CMS_WORKSHOP: </span><span style=\"color: #008080; text-decoration-color: #008080; font-weight: bold\">0.98</span><span style=\"color: #000000; text-decoration-color: #000000\">                                    </span><a href=\"file:///Users/moaly/Work/iris-hep/integration-challenge/cms/analysis/nondiff.py\" target=\"_blank\"><span style=\"color: #7f7f7f; text-decoration-color: #7f7f7f\">nondiff.py</span></a><span style=\"color: #7f7f7f; text-decoration-color: #7f7f7f\">:</span><a href=\"file:///Users/moaly/Work/iris-hep/integration-challenge/cms/analysis/nondiff.py#205\" target=\"_blank\"><span style=\"color: #7f7f7f; text-decoration-color: #7f7f7f\">205</span></a>\n",
       "</pre>\n"
      ],
      "text/plain": [
       "\u001b[2;36m        \u001b[0m\u001b[2;36m \u001b[0m\u001b[34mINFO    \u001b[0m \u001b[39mNumber of weighted events in CMS_WORKSHOP: \u001b[0m\u001b[1;36m0.98\u001b[0m\u001b[39m                                   \u001b[0m\u001b[39m \u001b[0m\u001b]8;id=308245;file:///Users/moaly/Work/iris-hep/integration-challenge/cms/analysis/nondiff.py\u001b\\\u001b[2mnondiff.py\u001b[0m\u001b]8;;\u001b\\\u001b[2m:\u001b[0m\u001b]8;id=663747;file:///Users/moaly/Work/iris-hep/integration-challenge/cms/analysis/nondiff.py#205\u001b\\\u001b[2m205\u001b[0m\u001b]8;;\u001b\\\n"
      ]
     },
     "metadata": {},
     "output_type": "display_data"
    },
    {
     "data": {
      "text/html": [
       "<pre style=\"white-space:pre;overflow-x:auto;line-height:normal;font-family:Menlo,'DejaVu Sans Mono',consolas,'Courier New',monospace\"><span style=\"color: #7fbfbf; text-decoration-color: #7fbfbf\">         </span><span style=\"color: #000080; text-decoration-color: #000080\">INFO    </span> <span style=\"color: #000000; text-decoration-color: #000000\">Number of raw events in CMS_WORKSHOP: </span><span style=\"color: #008080; text-decoration-color: #008080; font-weight: bold\">1</span><span style=\"color: #000000; text-decoration-color: #000000\">                                            </span><a href=\"file:///Users/moaly/Work/iris-hep/integration-challenge/cms/analysis/nondiff.py\" target=\"_blank\"><span style=\"color: #7f7f7f; text-decoration-color: #7f7f7f\">nondiff.py</span></a><span style=\"color: #7f7f7f; text-decoration-color: #7f7f7f\">:</span><a href=\"file:///Users/moaly/Work/iris-hep/integration-challenge/cms/analysis/nondiff.py#208\" target=\"_blank\"><span style=\"color: #7f7f7f; text-decoration-color: #7f7f7f\">208</span></a>\n",
       "</pre>\n"
      ],
      "text/plain": [
       "\u001b[2;36m        \u001b[0m\u001b[2;36m \u001b[0m\u001b[34mINFO    \u001b[0m \u001b[39mNumber of raw events in CMS_WORKSHOP: \u001b[0m\u001b[1;36m1\u001b[0m\u001b[39m                                           \u001b[0m\u001b[39m \u001b[0m\u001b]8;id=968956;file:///Users/moaly/Work/iris-hep/integration-challenge/cms/analysis/nondiff.py\u001b\\\u001b[2mnondiff.py\u001b[0m\u001b]8;;\u001b\\\u001b[2m:\u001b[0m\u001b]8;id=771516;file:///Users/moaly/Work/iris-hep/integration-challenge/cms/analysis/nondiff.py#208\u001b\\\u001b[2m208\u001b[0m\u001b]8;;\u001b\\\n"
      ]
     },
     "metadata": {},
     "output_type": "display_data"
    },
    {
     "data": {
      "text/html": [
       "<pre style=\"white-space:pre;overflow-x:auto;line-height:normal;font-family:Menlo,'DejaVu Sans Mono',consolas,'Courier New',monospace\"><span style=\"color: #7fbfbf; text-decoration-color: #7fbfbf\">         </span><span style=\"color: #000080; text-decoration-color: #000080\">INFO    </span> <span style=\"color: #000000; text-decoration-color: #000000\">Computing observable workshop_mtt                                                  </span><a href=\"file:///Users/moaly/Work/iris-hep/integration-challenge/cms/analysis/nondiff.py\" target=\"_blank\"><span style=\"color: #7f7f7f; text-decoration-color: #7f7f7f\">nondiff.py</span></a><span style=\"color: #7f7f7f; text-decoration-color: #7f7f7f\">:</span><a href=\"file:///Users/moaly/Work/iris-hep/integration-challenge/cms/analysis/nondiff.py#213\" target=\"_blank\"><span style=\"color: #7f7f7f; text-decoration-color: #7f7f7f\">213</span></a>\n",
       "</pre>\n"
      ],
      "text/plain": [
       "\u001b[2;36m        \u001b[0m\u001b[2;36m \u001b[0m\u001b[34mINFO    \u001b[0m \u001b[39mComputing observable workshop_mtt                                                 \u001b[0m\u001b[39m \u001b[0m\u001b]8;id=707160;file:///Users/moaly/Work/iris-hep/integration-challenge/cms/analysis/nondiff.py\u001b\\\u001b[2mnondiff.py\u001b[0m\u001b]8;;\u001b\\\u001b[2m:\u001b[0m\u001b]8;id=278839;file:///Users/moaly/Work/iris-hep/integration-challenge/cms/analysis/nondiff.py#213\u001b\\\u001b[2m213\u001b[0m\u001b]8;;\u001b\\\n"
      ]
     },
     "metadata": {},
     "output_type": "display_data"
    },
    {
     "name": "stdout",
     "output_type": "stream",
     "text": [
      "📊 Processing dataset: ttbar_lep__nominal\n",
      "   • Processing 82406 events with metadata: ttbar_lep\n"
     ]
    },
    {
     "data": {
      "text/html": [
       "<pre style=\"white-space:pre;overflow-x:auto;line-height:normal;font-family:Menlo,'DejaVu Sans Mono',consolas,'Courier New',monospace\"><span style=\"color: #7fbfbf; text-decoration-color: #7fbfbf\">         </span><span style=\"color: #000080; text-decoration-color: #000080\">INFO    </span> <span style=\"color: #000000; text-decoration-color: #000000\">Applying selection for CMS_WORKSHOP in ttbar_lep with variation nominal            </span><a href=\"file:///Users/moaly/Work/iris-hep/integration-challenge/cms/analysis/nondiff.py\" target=\"_blank\"><span style=\"color: #7f7f7f; text-decoration-color: #7f7f7f\">nondiff.py</span></a><span style=\"color: #7f7f7f; text-decoration-color: #7f7f7f\">:</span><a href=\"file:///Users/moaly/Work/iris-hep/integration-challenge/cms/analysis/nondiff.py#154\" target=\"_blank\"><span style=\"color: #7f7f7f; text-decoration-color: #7f7f7f\">154</span></a>\n",
       "</pre>\n"
      ],
      "text/plain": [
       "\u001b[2;36m        \u001b[0m\u001b[2;36m \u001b[0m\u001b[34mINFO    \u001b[0m \u001b[39mApplying selection for CMS_WORKSHOP in ttbar_lep with variation nominal           \u001b[0m\u001b[39m \u001b[0m\u001b]8;id=648678;file:///Users/moaly/Work/iris-hep/integration-challenge/cms/analysis/nondiff.py\u001b\\\u001b[2mnondiff.py\u001b[0m\u001b]8;;\u001b\\\u001b[2m:\u001b[0m\u001b]8;id=753384;file:///Users/moaly/Work/iris-hep/integration-challenge/cms/analysis/nondiff.py#154\u001b\\\u001b[2m154\u001b[0m\u001b]8;;\u001b\\\n"
      ]
     },
     "metadata": {},
     "output_type": "display_data"
    },
    {
     "data": {
      "text/html": [
       "<pre style=\"white-space:pre;overflow-x:auto;line-height:normal;font-family:Menlo,'DejaVu Sans Mono',consolas,'Courier New',monospace\"><span style=\"color: #7fbfbf; text-decoration-color: #7fbfbf\">         </span><span style=\"color: #000080; text-decoration-color: #000080\">INFO    </span> <span style=\"color: #000000; text-decoration-color: #000000\">Number of weighted events in CMS_WORKSHOP: </span><span style=\"color: #008080; text-decoration-color: #008080; font-weight: bold\">217.53</span><span style=\"color: #000000; text-decoration-color: #000000\">                                  </span><a href=\"file:///Users/moaly/Work/iris-hep/integration-challenge/cms/analysis/nondiff.py\" target=\"_blank\"><span style=\"color: #7f7f7f; text-decoration-color: #7f7f7f\">nondiff.py</span></a><span style=\"color: #7f7f7f; text-decoration-color: #7f7f7f\">:</span><a href=\"file:///Users/moaly/Work/iris-hep/integration-challenge/cms/analysis/nondiff.py#205\" target=\"_blank\"><span style=\"color: #7f7f7f; text-decoration-color: #7f7f7f\">205</span></a>\n",
       "</pre>\n"
      ],
      "text/plain": [
       "\u001b[2;36m        \u001b[0m\u001b[2;36m \u001b[0m\u001b[34mINFO    \u001b[0m \u001b[39mNumber of weighted events in CMS_WORKSHOP: \u001b[0m\u001b[1;36m217.53\u001b[0m\u001b[39m                                 \u001b[0m\u001b[39m \u001b[0m\u001b]8;id=827500;file:///Users/moaly/Work/iris-hep/integration-challenge/cms/analysis/nondiff.py\u001b\\\u001b[2mnondiff.py\u001b[0m\u001b]8;;\u001b\\\u001b[2m:\u001b[0m\u001b]8;id=658771;file:///Users/moaly/Work/iris-hep/integration-challenge/cms/analysis/nondiff.py#205\u001b\\\u001b[2m205\u001b[0m\u001b]8;;\u001b\\\n"
      ]
     },
     "metadata": {},
     "output_type": "display_data"
    },
    {
     "data": {
      "text/html": [
       "<pre style=\"white-space:pre;overflow-x:auto;line-height:normal;font-family:Menlo,'DejaVu Sans Mono',consolas,'Courier New',monospace\"><span style=\"color: #7fbfbf; text-decoration-color: #7fbfbf\">         </span><span style=\"color: #000080; text-decoration-color: #000080\">INFO    </span> <span style=\"color: #000000; text-decoration-color: #000000\">Number of raw events in CMS_WORKSHOP: </span><span style=\"color: #008080; text-decoration-color: #008080; font-weight: bold\">77</span><span style=\"color: #000000; text-decoration-color: #000000\">                                           </span><a href=\"file:///Users/moaly/Work/iris-hep/integration-challenge/cms/analysis/nondiff.py\" target=\"_blank\"><span style=\"color: #7f7f7f; text-decoration-color: #7f7f7f\">nondiff.py</span></a><span style=\"color: #7f7f7f; text-decoration-color: #7f7f7f\">:</span><a href=\"file:///Users/moaly/Work/iris-hep/integration-challenge/cms/analysis/nondiff.py#208\" target=\"_blank\"><span style=\"color: #7f7f7f; text-decoration-color: #7f7f7f\">208</span></a>\n",
       "</pre>\n"
      ],
      "text/plain": [
       "\u001b[2;36m        \u001b[0m\u001b[2;36m \u001b[0m\u001b[34mINFO    \u001b[0m \u001b[39mNumber of raw events in CMS_WORKSHOP: \u001b[0m\u001b[1;36m77\u001b[0m\u001b[39m                                          \u001b[0m\u001b[39m \u001b[0m\u001b]8;id=281456;file:///Users/moaly/Work/iris-hep/integration-challenge/cms/analysis/nondiff.py\u001b\\\u001b[2mnondiff.py\u001b[0m\u001b]8;;\u001b\\\u001b[2m:\u001b[0m\u001b]8;id=591393;file:///Users/moaly/Work/iris-hep/integration-challenge/cms/analysis/nondiff.py#208\u001b\\\u001b[2m208\u001b[0m\u001b]8;;\u001b\\\n"
      ]
     },
     "metadata": {},
     "output_type": "display_data"
    },
    {
     "data": {
      "text/html": [
       "<pre style=\"white-space:pre;overflow-x:auto;line-height:normal;font-family:Menlo,'DejaVu Sans Mono',consolas,'Courier New',monospace\"><span style=\"color: #7fbfbf; text-decoration-color: #7fbfbf\">         </span><span style=\"color: #000080; text-decoration-color: #000080\">INFO    </span> <span style=\"color: #000000; text-decoration-color: #000000\">Computing observable workshop_mtt                                                  </span><a href=\"file:///Users/moaly/Work/iris-hep/integration-challenge/cms/analysis/nondiff.py\" target=\"_blank\"><span style=\"color: #7f7f7f; text-decoration-color: #7f7f7f\">nondiff.py</span></a><span style=\"color: #7f7f7f; text-decoration-color: #7f7f7f\">:</span><a href=\"file:///Users/moaly/Work/iris-hep/integration-challenge/cms/analysis/nondiff.py#213\" target=\"_blank\"><span style=\"color: #7f7f7f; text-decoration-color: #7f7f7f\">213</span></a>\n",
       "</pre>\n"
      ],
      "text/plain": [
       "\u001b[2;36m        \u001b[0m\u001b[2;36m \u001b[0m\u001b[34mINFO    \u001b[0m \u001b[39mComputing observable workshop_mtt                                                 \u001b[0m\u001b[39m \u001b[0m\u001b]8;id=599083;file:///Users/moaly/Work/iris-hep/integration-challenge/cms/analysis/nondiff.py\u001b\\\u001b[2mnondiff.py\u001b[0m\u001b]8;;\u001b\\\u001b[2m:\u001b[0m\u001b]8;id=287419;file:///Users/moaly/Work/iris-hep/integration-challenge/cms/analysis/nondiff.py#213\u001b\\\u001b[2m213\u001b[0m\u001b]8;;\u001b\\\n"
      ]
     },
     "metadata": {},
     "output_type": "display_data"
    },
    {
     "data": {
      "text/html": [
       "<pre style=\"white-space:pre;overflow-x:auto;line-height:normal;font-family:Menlo,'DejaVu Sans Mono',consolas,'Courier New',monospace\"><span style=\"color: #7fbfbf; text-decoration-color: #7fbfbf\">         </span><span style=\"color: #000080; text-decoration-color: #000080\">INFO    </span> <span style=\"color: #000000; text-decoration-color: #000000\">Applying selection for CMS_WORKSHOP in ttbar_lep with variation                    </span><a href=\"file:///Users/moaly/Work/iris-hep/integration-challenge/cms/analysis/nondiff.py\" target=\"_blank\"><span style=\"color: #7f7f7f; text-decoration-color: #7f7f7f\">nondiff.py</span></a><span style=\"color: #7f7f7f; text-decoration-color: #7f7f7f\">:</span><a href=\"file:///Users/moaly/Work/iris-hep/integration-challenge/cms/analysis/nondiff.py#154\" target=\"_blank\"><span style=\"color: #7f7f7f; text-decoration-color: #7f7f7f\">154</span></a>\n",
       "<span style=\"color: #7fbfbf; text-decoration-color: #7fbfbf\">         </span>         <span style=\"color: #000000; text-decoration-color: #000000\">jet_pt_resolution_up                                                               </span><span style=\"color: #7f7f7f; text-decoration-color: #7f7f7f\">              </span>\n",
       "</pre>\n"
      ],
      "text/plain": [
       "\u001b[2;36m        \u001b[0m\u001b[2;36m \u001b[0m\u001b[34mINFO    \u001b[0m \u001b[39mApplying selection for CMS_WORKSHOP in ttbar_lep with variation                   \u001b[0m\u001b[39m \u001b[0m\u001b]8;id=135303;file:///Users/moaly/Work/iris-hep/integration-challenge/cms/analysis/nondiff.py\u001b\\\u001b[2mnondiff.py\u001b[0m\u001b]8;;\u001b\\\u001b[2m:\u001b[0m\u001b]8;id=238221;file:///Users/moaly/Work/iris-hep/integration-challenge/cms/analysis/nondiff.py#154\u001b\\\u001b[2m154\u001b[0m\u001b]8;;\u001b\\\n",
       "\u001b[2;36m         \u001b[0m         \u001b[39mjet_pt_resolution_up                                                              \u001b[0m\u001b[39m \u001b[0m\u001b[2m              \u001b[0m\n"
      ]
     },
     "metadata": {},
     "output_type": "display_data"
    },
    {
     "data": {
      "text/html": [
       "<pre style=\"white-space:pre;overflow-x:auto;line-height:normal;font-family:Menlo,'DejaVu Sans Mono',consolas,'Courier New',monospace\"><span style=\"color: #7fbfbf; text-decoration-color: #7fbfbf\">         </span><span style=\"color: #000080; text-decoration-color: #000080\">INFO    </span> <span style=\"color: #000000; text-decoration-color: #000000\">Number of weighted events in CMS_WORKSHOP: </span><span style=\"color: #008080; text-decoration-color: #008080; font-weight: bold\">217.53</span><span style=\"color: #000000; text-decoration-color: #000000\">                                  </span><a href=\"file:///Users/moaly/Work/iris-hep/integration-challenge/cms/analysis/nondiff.py\" target=\"_blank\"><span style=\"color: #7f7f7f; text-decoration-color: #7f7f7f\">nondiff.py</span></a><span style=\"color: #7f7f7f; text-decoration-color: #7f7f7f\">:</span><a href=\"file:///Users/moaly/Work/iris-hep/integration-challenge/cms/analysis/nondiff.py#205\" target=\"_blank\"><span style=\"color: #7f7f7f; text-decoration-color: #7f7f7f\">205</span></a>\n",
       "</pre>\n"
      ],
      "text/plain": [
       "\u001b[2;36m        \u001b[0m\u001b[2;36m \u001b[0m\u001b[34mINFO    \u001b[0m \u001b[39mNumber of weighted events in CMS_WORKSHOP: \u001b[0m\u001b[1;36m217.53\u001b[0m\u001b[39m                                 \u001b[0m\u001b[39m \u001b[0m\u001b]8;id=722165;file:///Users/moaly/Work/iris-hep/integration-challenge/cms/analysis/nondiff.py\u001b\\\u001b[2mnondiff.py\u001b[0m\u001b]8;;\u001b\\\u001b[2m:\u001b[0m\u001b]8;id=873232;file:///Users/moaly/Work/iris-hep/integration-challenge/cms/analysis/nondiff.py#205\u001b\\\u001b[2m205\u001b[0m\u001b]8;;\u001b\\\n"
      ]
     },
     "metadata": {},
     "output_type": "display_data"
    },
    {
     "data": {
      "text/html": [
       "<pre style=\"white-space:pre;overflow-x:auto;line-height:normal;font-family:Menlo,'DejaVu Sans Mono',consolas,'Courier New',monospace\"><span style=\"color: #7fbfbf; text-decoration-color: #7fbfbf\">         </span><span style=\"color: #000080; text-decoration-color: #000080\">INFO    </span> <span style=\"color: #000000; text-decoration-color: #000000\">Number of raw events in CMS_WORKSHOP: </span><span style=\"color: #008080; text-decoration-color: #008080; font-weight: bold\">77</span><span style=\"color: #000000; text-decoration-color: #000000\">                                           </span><a href=\"file:///Users/moaly/Work/iris-hep/integration-challenge/cms/analysis/nondiff.py\" target=\"_blank\"><span style=\"color: #7f7f7f; text-decoration-color: #7f7f7f\">nondiff.py</span></a><span style=\"color: #7f7f7f; text-decoration-color: #7f7f7f\">:</span><a href=\"file:///Users/moaly/Work/iris-hep/integration-challenge/cms/analysis/nondiff.py#208\" target=\"_blank\"><span style=\"color: #7f7f7f; text-decoration-color: #7f7f7f\">208</span></a>\n",
       "</pre>\n"
      ],
      "text/plain": [
       "\u001b[2;36m        \u001b[0m\u001b[2;36m \u001b[0m\u001b[34mINFO    \u001b[0m \u001b[39mNumber of raw events in CMS_WORKSHOP: \u001b[0m\u001b[1;36m77\u001b[0m\u001b[39m                                          \u001b[0m\u001b[39m \u001b[0m\u001b]8;id=852972;file:///Users/moaly/Work/iris-hep/integration-challenge/cms/analysis/nondiff.py\u001b\\\u001b[2mnondiff.py\u001b[0m\u001b]8;;\u001b\\\u001b[2m:\u001b[0m\u001b]8;id=623254;file:///Users/moaly/Work/iris-hep/integration-challenge/cms/analysis/nondiff.py#208\u001b\\\u001b[2m208\u001b[0m\u001b]8;;\u001b\\\n"
      ]
     },
     "metadata": {},
     "output_type": "display_data"
    },
    {
     "data": {
      "text/html": [
       "<pre style=\"white-space:pre;overflow-x:auto;line-height:normal;font-family:Menlo,'DejaVu Sans Mono',consolas,'Courier New',monospace\"><span style=\"color: #7fbfbf; text-decoration-color: #7fbfbf\">         </span><span style=\"color: #000080; text-decoration-color: #000080\">INFO    </span> <span style=\"color: #000000; text-decoration-color: #000000\">Computing observable workshop_mtt                                                  </span><a href=\"file:///Users/moaly/Work/iris-hep/integration-challenge/cms/analysis/nondiff.py\" target=\"_blank\"><span style=\"color: #7f7f7f; text-decoration-color: #7f7f7f\">nondiff.py</span></a><span style=\"color: #7f7f7f; text-decoration-color: #7f7f7f\">:</span><a href=\"file:///Users/moaly/Work/iris-hep/integration-challenge/cms/analysis/nondiff.py#213\" target=\"_blank\"><span style=\"color: #7f7f7f; text-decoration-color: #7f7f7f\">213</span></a>\n",
       "</pre>\n"
      ],
      "text/plain": [
       "\u001b[2;36m        \u001b[0m\u001b[2;36m \u001b[0m\u001b[34mINFO    \u001b[0m \u001b[39mComputing observable workshop_mtt                                                 \u001b[0m\u001b[39m \u001b[0m\u001b]8;id=625154;file:///Users/moaly/Work/iris-hep/integration-challenge/cms/analysis/nondiff.py\u001b\\\u001b[2mnondiff.py\u001b[0m\u001b]8;;\u001b\\\u001b[2m:\u001b[0m\u001b]8;id=797409;file:///Users/moaly/Work/iris-hep/integration-challenge/cms/analysis/nondiff.py#213\u001b\\\u001b[2m213\u001b[0m\u001b]8;;\u001b\\\n"
      ]
     },
     "metadata": {},
     "output_type": "display_data"
    },
    {
     "data": {
      "text/html": [
       "<pre style=\"white-space:pre;overflow-x:auto;line-height:normal;font-family:Menlo,'DejaVu Sans Mono',consolas,'Courier New',monospace\"><span style=\"color: #7fbfbf; text-decoration-color: #7fbfbf\">         </span><span style=\"color: #000080; text-decoration-color: #000080\">INFO    </span> <span style=\"color: #000000; text-decoration-color: #000000\">Applying selection for CMS_WORKSHOP in ttbar_lep with variation                    </span><a href=\"file:///Users/moaly/Work/iris-hep/integration-challenge/cms/analysis/nondiff.py\" target=\"_blank\"><span style=\"color: #7f7f7f; text-decoration-color: #7f7f7f\">nondiff.py</span></a><span style=\"color: #7f7f7f; text-decoration-color: #7f7f7f\">:</span><a href=\"file:///Users/moaly/Work/iris-hep/integration-challenge/cms/analysis/nondiff.py#154\" target=\"_blank\"><span style=\"color: #7f7f7f; text-decoration-color: #7f7f7f\">154</span></a>\n",
       "<span style=\"color: #7fbfbf; text-decoration-color: #7fbfbf\">         </span>         <span style=\"color: #000000; text-decoration-color: #000000\">jet_pt_resolution_down                                                             </span><span style=\"color: #7f7f7f; text-decoration-color: #7f7f7f\">              </span>\n",
       "</pre>\n"
      ],
      "text/plain": [
       "\u001b[2;36m        \u001b[0m\u001b[2;36m \u001b[0m\u001b[34mINFO    \u001b[0m \u001b[39mApplying selection for CMS_WORKSHOP in ttbar_lep with variation                   \u001b[0m\u001b[39m \u001b[0m\u001b]8;id=643160;file:///Users/moaly/Work/iris-hep/integration-challenge/cms/analysis/nondiff.py\u001b\\\u001b[2mnondiff.py\u001b[0m\u001b]8;;\u001b\\\u001b[2m:\u001b[0m\u001b]8;id=425602;file:///Users/moaly/Work/iris-hep/integration-challenge/cms/analysis/nondiff.py#154\u001b\\\u001b[2m154\u001b[0m\u001b]8;;\u001b\\\n",
       "\u001b[2;36m         \u001b[0m         \u001b[39mjet_pt_resolution_down                                                            \u001b[0m\u001b[39m \u001b[0m\u001b[2m              \u001b[0m\n"
      ]
     },
     "metadata": {},
     "output_type": "display_data"
    },
    {
     "data": {
      "text/html": [
       "<pre style=\"white-space:pre;overflow-x:auto;line-height:normal;font-family:Menlo,'DejaVu Sans Mono',consolas,'Courier New',monospace\"><span style=\"color: #7fbfbf; text-decoration-color: #7fbfbf\">         </span><span style=\"color: #000080; text-decoration-color: #000080\">INFO    </span> <span style=\"color: #000000; text-decoration-color: #000000\">Number of weighted events in CMS_WORKSHOP: </span><span style=\"color: #008080; text-decoration-color: #008080; font-weight: bold\">217.53</span><span style=\"color: #000000; text-decoration-color: #000000\">                                  </span><a href=\"file:///Users/moaly/Work/iris-hep/integration-challenge/cms/analysis/nondiff.py\" target=\"_blank\"><span style=\"color: #7f7f7f; text-decoration-color: #7f7f7f\">nondiff.py</span></a><span style=\"color: #7f7f7f; text-decoration-color: #7f7f7f\">:</span><a href=\"file:///Users/moaly/Work/iris-hep/integration-challenge/cms/analysis/nondiff.py#205\" target=\"_blank\"><span style=\"color: #7f7f7f; text-decoration-color: #7f7f7f\">205</span></a>\n",
       "</pre>\n"
      ],
      "text/plain": [
       "\u001b[2;36m        \u001b[0m\u001b[2;36m \u001b[0m\u001b[34mINFO    \u001b[0m \u001b[39mNumber of weighted events in CMS_WORKSHOP: \u001b[0m\u001b[1;36m217.53\u001b[0m\u001b[39m                                 \u001b[0m\u001b[39m \u001b[0m\u001b]8;id=705254;file:///Users/moaly/Work/iris-hep/integration-challenge/cms/analysis/nondiff.py\u001b\\\u001b[2mnondiff.py\u001b[0m\u001b]8;;\u001b\\\u001b[2m:\u001b[0m\u001b]8;id=415487;file:///Users/moaly/Work/iris-hep/integration-challenge/cms/analysis/nondiff.py#205\u001b\\\u001b[2m205\u001b[0m\u001b]8;;\u001b\\\n"
      ]
     },
     "metadata": {},
     "output_type": "display_data"
    },
    {
     "data": {
      "text/html": [
       "<pre style=\"white-space:pre;overflow-x:auto;line-height:normal;font-family:Menlo,'DejaVu Sans Mono',consolas,'Courier New',monospace\"><span style=\"color: #7fbfbf; text-decoration-color: #7fbfbf\">         </span><span style=\"color: #000080; text-decoration-color: #000080\">INFO    </span> <span style=\"color: #000000; text-decoration-color: #000000\">Number of raw events in CMS_WORKSHOP: </span><span style=\"color: #008080; text-decoration-color: #008080; font-weight: bold\">77</span><span style=\"color: #000000; text-decoration-color: #000000\">                                           </span><a href=\"file:///Users/moaly/Work/iris-hep/integration-challenge/cms/analysis/nondiff.py\" target=\"_blank\"><span style=\"color: #7f7f7f; text-decoration-color: #7f7f7f\">nondiff.py</span></a><span style=\"color: #7f7f7f; text-decoration-color: #7f7f7f\">:</span><a href=\"file:///Users/moaly/Work/iris-hep/integration-challenge/cms/analysis/nondiff.py#208\" target=\"_blank\"><span style=\"color: #7f7f7f; text-decoration-color: #7f7f7f\">208</span></a>\n",
       "</pre>\n"
      ],
      "text/plain": [
       "\u001b[2;36m        \u001b[0m\u001b[2;36m \u001b[0m\u001b[34mINFO    \u001b[0m \u001b[39mNumber of raw events in CMS_WORKSHOP: \u001b[0m\u001b[1;36m77\u001b[0m\u001b[39m                                          \u001b[0m\u001b[39m \u001b[0m\u001b]8;id=323543;file:///Users/moaly/Work/iris-hep/integration-challenge/cms/analysis/nondiff.py\u001b\\\u001b[2mnondiff.py\u001b[0m\u001b]8;;\u001b\\\u001b[2m:\u001b[0m\u001b]8;id=465470;file:///Users/moaly/Work/iris-hep/integration-challenge/cms/analysis/nondiff.py#208\u001b\\\u001b[2m208\u001b[0m\u001b]8;;\u001b\\\n"
      ]
     },
     "metadata": {},
     "output_type": "display_data"
    },
    {
     "data": {
      "text/html": [
       "<pre style=\"white-space:pre;overflow-x:auto;line-height:normal;font-family:Menlo,'DejaVu Sans Mono',consolas,'Courier New',monospace\"><span style=\"color: #7fbfbf; text-decoration-color: #7fbfbf\">         </span><span style=\"color: #000080; text-decoration-color: #000080\">INFO    </span> <span style=\"color: #000000; text-decoration-color: #000000\">Computing observable workshop_mtt                                                  </span><a href=\"file:///Users/moaly/Work/iris-hep/integration-challenge/cms/analysis/nondiff.py\" target=\"_blank\"><span style=\"color: #7f7f7f; text-decoration-color: #7f7f7f\">nondiff.py</span></a><span style=\"color: #7f7f7f; text-decoration-color: #7f7f7f\">:</span><a href=\"file:///Users/moaly/Work/iris-hep/integration-challenge/cms/analysis/nondiff.py#213\" target=\"_blank\"><span style=\"color: #7f7f7f; text-decoration-color: #7f7f7f\">213</span></a>\n",
       "</pre>\n"
      ],
      "text/plain": [
       "\u001b[2;36m        \u001b[0m\u001b[2;36m \u001b[0m\u001b[34mINFO    \u001b[0m \u001b[39mComputing observable workshop_mtt                                                 \u001b[0m\u001b[39m \u001b[0m\u001b]8;id=435815;file:///Users/moaly/Work/iris-hep/integration-challenge/cms/analysis/nondiff.py\u001b\\\u001b[2mnondiff.py\u001b[0m\u001b]8;;\u001b\\\u001b[2m:\u001b[0m\u001b]8;id=855250;file:///Users/moaly/Work/iris-hep/integration-challenge/cms/analysis/nondiff.py#213\u001b\\\u001b[2m213\u001b[0m\u001b]8;;\u001b\\\n"
      ]
     },
     "metadata": {},
     "output_type": "display_data"
    },
    {
     "data": {
      "text/html": [
       "<pre style=\"white-space:pre;overflow-x:auto;line-height:normal;font-family:Menlo,'DejaVu Sans Mono',consolas,'Courier New',monospace\"><span style=\"color: #7fbfbf; text-decoration-color: #7fbfbf\">         </span><span style=\"color: #000080; text-decoration-color: #000080\">INFO    </span> <span style=\"color: #000000; text-decoration-color: #000000\">Applying selection for CMS_WORKSHOP in ttbar_lep with variation jet_pt_scale_up    </span><a href=\"file:///Users/moaly/Work/iris-hep/integration-challenge/cms/analysis/nondiff.py\" target=\"_blank\"><span style=\"color: #7f7f7f; text-decoration-color: #7f7f7f\">nondiff.py</span></a><span style=\"color: #7f7f7f; text-decoration-color: #7f7f7f\">:</span><a href=\"file:///Users/moaly/Work/iris-hep/integration-challenge/cms/analysis/nondiff.py#154\" target=\"_blank\"><span style=\"color: #7f7f7f; text-decoration-color: #7f7f7f\">154</span></a>\n",
       "</pre>\n"
      ],
      "text/plain": [
       "\u001b[2;36m        \u001b[0m\u001b[2;36m \u001b[0m\u001b[34mINFO    \u001b[0m \u001b[39mApplying selection for CMS_WORKSHOP in ttbar_lep with variation jet_pt_scale_up   \u001b[0m\u001b[39m \u001b[0m\u001b]8;id=240368;file:///Users/moaly/Work/iris-hep/integration-challenge/cms/analysis/nondiff.py\u001b\\\u001b[2mnondiff.py\u001b[0m\u001b]8;;\u001b\\\u001b[2m:\u001b[0m\u001b]8;id=764437;file:///Users/moaly/Work/iris-hep/integration-challenge/cms/analysis/nondiff.py#154\u001b\\\u001b[2m154\u001b[0m\u001b]8;;\u001b\\\n"
      ]
     },
     "metadata": {},
     "output_type": "display_data"
    },
    {
     "data": {
      "text/html": [
       "<pre style=\"white-space:pre;overflow-x:auto;line-height:normal;font-family:Menlo,'DejaVu Sans Mono',consolas,'Courier New',monospace\"><span style=\"color: #7fbfbf; text-decoration-color: #7fbfbf\">         </span><span style=\"color: #000080; text-decoration-color: #000080\">INFO    </span> <span style=\"color: #000000; text-decoration-color: #000000\">Number of weighted events in CMS_WORKSHOP: </span><span style=\"color: #008080; text-decoration-color: #008080; font-weight: bold\">217.53</span><span style=\"color: #000000; text-decoration-color: #000000\">                                  </span><a href=\"file:///Users/moaly/Work/iris-hep/integration-challenge/cms/analysis/nondiff.py\" target=\"_blank\"><span style=\"color: #7f7f7f; text-decoration-color: #7f7f7f\">nondiff.py</span></a><span style=\"color: #7f7f7f; text-decoration-color: #7f7f7f\">:</span><a href=\"file:///Users/moaly/Work/iris-hep/integration-challenge/cms/analysis/nondiff.py#205\" target=\"_blank\"><span style=\"color: #7f7f7f; text-decoration-color: #7f7f7f\">205</span></a>\n",
       "</pre>\n"
      ],
      "text/plain": [
       "\u001b[2;36m        \u001b[0m\u001b[2;36m \u001b[0m\u001b[34mINFO    \u001b[0m \u001b[39mNumber of weighted events in CMS_WORKSHOP: \u001b[0m\u001b[1;36m217.53\u001b[0m\u001b[39m                                 \u001b[0m\u001b[39m \u001b[0m\u001b]8;id=12261;file:///Users/moaly/Work/iris-hep/integration-challenge/cms/analysis/nondiff.py\u001b\\\u001b[2mnondiff.py\u001b[0m\u001b]8;;\u001b\\\u001b[2m:\u001b[0m\u001b]8;id=719329;file:///Users/moaly/Work/iris-hep/integration-challenge/cms/analysis/nondiff.py#205\u001b\\\u001b[2m205\u001b[0m\u001b]8;;\u001b\\\n"
      ]
     },
     "metadata": {},
     "output_type": "display_data"
    },
    {
     "data": {
      "text/html": [
       "<pre style=\"white-space:pre;overflow-x:auto;line-height:normal;font-family:Menlo,'DejaVu Sans Mono',consolas,'Courier New',monospace\"><span style=\"color: #7fbfbf; text-decoration-color: #7fbfbf\">         </span><span style=\"color: #000080; text-decoration-color: #000080\">INFO    </span> <span style=\"color: #000000; text-decoration-color: #000000\">Number of raw events in CMS_WORKSHOP: </span><span style=\"color: #008080; text-decoration-color: #008080; font-weight: bold\">77</span><span style=\"color: #000000; text-decoration-color: #000000\">                                           </span><a href=\"file:///Users/moaly/Work/iris-hep/integration-challenge/cms/analysis/nondiff.py\" target=\"_blank\"><span style=\"color: #7f7f7f; text-decoration-color: #7f7f7f\">nondiff.py</span></a><span style=\"color: #7f7f7f; text-decoration-color: #7f7f7f\">:</span><a href=\"file:///Users/moaly/Work/iris-hep/integration-challenge/cms/analysis/nondiff.py#208\" target=\"_blank\"><span style=\"color: #7f7f7f; text-decoration-color: #7f7f7f\">208</span></a>\n",
       "</pre>\n"
      ],
      "text/plain": [
       "\u001b[2;36m        \u001b[0m\u001b[2;36m \u001b[0m\u001b[34mINFO    \u001b[0m \u001b[39mNumber of raw events in CMS_WORKSHOP: \u001b[0m\u001b[1;36m77\u001b[0m\u001b[39m                                          \u001b[0m\u001b[39m \u001b[0m\u001b]8;id=414966;file:///Users/moaly/Work/iris-hep/integration-challenge/cms/analysis/nondiff.py\u001b\\\u001b[2mnondiff.py\u001b[0m\u001b]8;;\u001b\\\u001b[2m:\u001b[0m\u001b]8;id=197572;file:///Users/moaly/Work/iris-hep/integration-challenge/cms/analysis/nondiff.py#208\u001b\\\u001b[2m208\u001b[0m\u001b]8;;\u001b\\\n"
      ]
     },
     "metadata": {},
     "output_type": "display_data"
    },
    {
     "data": {
      "text/html": [
       "<pre style=\"white-space:pre;overflow-x:auto;line-height:normal;font-family:Menlo,'DejaVu Sans Mono',consolas,'Courier New',monospace\"><span style=\"color: #7fbfbf; text-decoration-color: #7fbfbf\">         </span><span style=\"color: #000080; text-decoration-color: #000080\">INFO    </span> <span style=\"color: #000000; text-decoration-color: #000000\">Computing observable workshop_mtt                                                  </span><a href=\"file:///Users/moaly/Work/iris-hep/integration-challenge/cms/analysis/nondiff.py\" target=\"_blank\"><span style=\"color: #7f7f7f; text-decoration-color: #7f7f7f\">nondiff.py</span></a><span style=\"color: #7f7f7f; text-decoration-color: #7f7f7f\">:</span><a href=\"file:///Users/moaly/Work/iris-hep/integration-challenge/cms/analysis/nondiff.py#213\" target=\"_blank\"><span style=\"color: #7f7f7f; text-decoration-color: #7f7f7f\">213</span></a>\n",
       "</pre>\n"
      ],
      "text/plain": [
       "\u001b[2;36m        \u001b[0m\u001b[2;36m \u001b[0m\u001b[34mINFO    \u001b[0m \u001b[39mComputing observable workshop_mtt                                                 \u001b[0m\u001b[39m \u001b[0m\u001b]8;id=257330;file:///Users/moaly/Work/iris-hep/integration-challenge/cms/analysis/nondiff.py\u001b\\\u001b[2mnondiff.py\u001b[0m\u001b]8;;\u001b\\\u001b[2m:\u001b[0m\u001b]8;id=814385;file:///Users/moaly/Work/iris-hep/integration-challenge/cms/analysis/nondiff.py#213\u001b\\\u001b[2m213\u001b[0m\u001b]8;;\u001b\\\n"
      ]
     },
     "metadata": {},
     "output_type": "display_data"
    },
    {
     "data": {
      "text/html": [
       "<pre style=\"white-space:pre;overflow-x:auto;line-height:normal;font-family:Menlo,'DejaVu Sans Mono',consolas,'Courier New',monospace\"><span style=\"color: #7fbfbf; text-decoration-color: #7fbfbf\">         </span><span style=\"color: #000080; text-decoration-color: #000080\">INFO    </span> <span style=\"color: #000000; text-decoration-color: #000000\">Applying selection for CMS_WORKSHOP in ttbar_lep with variation jet_pt_scale_down  </span><a href=\"file:///Users/moaly/Work/iris-hep/integration-challenge/cms/analysis/nondiff.py\" target=\"_blank\"><span style=\"color: #7f7f7f; text-decoration-color: #7f7f7f\">nondiff.py</span></a><span style=\"color: #7f7f7f; text-decoration-color: #7f7f7f\">:</span><a href=\"file:///Users/moaly/Work/iris-hep/integration-challenge/cms/analysis/nondiff.py#154\" target=\"_blank\"><span style=\"color: #7f7f7f; text-decoration-color: #7f7f7f\">154</span></a>\n",
       "</pre>\n"
      ],
      "text/plain": [
       "\u001b[2;36m        \u001b[0m\u001b[2;36m \u001b[0m\u001b[34mINFO    \u001b[0m \u001b[39mApplying selection for CMS_WORKSHOP in ttbar_lep with variation jet_pt_scale_down \u001b[0m\u001b[39m \u001b[0m\u001b]8;id=742626;file:///Users/moaly/Work/iris-hep/integration-challenge/cms/analysis/nondiff.py\u001b\\\u001b[2mnondiff.py\u001b[0m\u001b]8;;\u001b\\\u001b[2m:\u001b[0m\u001b]8;id=549612;file:///Users/moaly/Work/iris-hep/integration-challenge/cms/analysis/nondiff.py#154\u001b\\\u001b[2m154\u001b[0m\u001b]8;;\u001b\\\n"
      ]
     },
     "metadata": {},
     "output_type": "display_data"
    },
    {
     "data": {
      "text/html": [
       "<pre style=\"white-space:pre;overflow-x:auto;line-height:normal;font-family:Menlo,'DejaVu Sans Mono',consolas,'Courier New',monospace\"><span style=\"color: #7fbfbf; text-decoration-color: #7fbfbf\">         </span><span style=\"color: #000080; text-decoration-color: #000080\">INFO    </span> <span style=\"color: #000000; text-decoration-color: #000000\">Number of weighted events in CMS_WORKSHOP: </span><span style=\"color: #008080; text-decoration-color: #008080; font-weight: bold\">217.53</span><span style=\"color: #000000; text-decoration-color: #000000\">                                  </span><a href=\"file:///Users/moaly/Work/iris-hep/integration-challenge/cms/analysis/nondiff.py\" target=\"_blank\"><span style=\"color: #7f7f7f; text-decoration-color: #7f7f7f\">nondiff.py</span></a><span style=\"color: #7f7f7f; text-decoration-color: #7f7f7f\">:</span><a href=\"file:///Users/moaly/Work/iris-hep/integration-challenge/cms/analysis/nondiff.py#205\" target=\"_blank\"><span style=\"color: #7f7f7f; text-decoration-color: #7f7f7f\">205</span></a>\n",
       "</pre>\n"
      ],
      "text/plain": [
       "\u001b[2;36m        \u001b[0m\u001b[2;36m \u001b[0m\u001b[34mINFO    \u001b[0m \u001b[39mNumber of weighted events in CMS_WORKSHOP: \u001b[0m\u001b[1;36m217.53\u001b[0m\u001b[39m                                 \u001b[0m\u001b[39m \u001b[0m\u001b]8;id=483002;file:///Users/moaly/Work/iris-hep/integration-challenge/cms/analysis/nondiff.py\u001b\\\u001b[2mnondiff.py\u001b[0m\u001b]8;;\u001b\\\u001b[2m:\u001b[0m\u001b]8;id=396107;file:///Users/moaly/Work/iris-hep/integration-challenge/cms/analysis/nondiff.py#205\u001b\\\u001b[2m205\u001b[0m\u001b]8;;\u001b\\\n"
      ]
     },
     "metadata": {},
     "output_type": "display_data"
    },
    {
     "data": {
      "text/html": [
       "<pre style=\"white-space:pre;overflow-x:auto;line-height:normal;font-family:Menlo,'DejaVu Sans Mono',consolas,'Courier New',monospace\"><span style=\"color: #7fbfbf; text-decoration-color: #7fbfbf\">         </span><span style=\"color: #000080; text-decoration-color: #000080\">INFO    </span> <span style=\"color: #000000; text-decoration-color: #000000\">Number of raw events in CMS_WORKSHOP: </span><span style=\"color: #008080; text-decoration-color: #008080; font-weight: bold\">77</span><span style=\"color: #000000; text-decoration-color: #000000\">                                           </span><a href=\"file:///Users/moaly/Work/iris-hep/integration-challenge/cms/analysis/nondiff.py\" target=\"_blank\"><span style=\"color: #7f7f7f; text-decoration-color: #7f7f7f\">nondiff.py</span></a><span style=\"color: #7f7f7f; text-decoration-color: #7f7f7f\">:</span><a href=\"file:///Users/moaly/Work/iris-hep/integration-challenge/cms/analysis/nondiff.py#208\" target=\"_blank\"><span style=\"color: #7f7f7f; text-decoration-color: #7f7f7f\">208</span></a>\n",
       "</pre>\n"
      ],
      "text/plain": [
       "\u001b[2;36m        \u001b[0m\u001b[2;36m \u001b[0m\u001b[34mINFO    \u001b[0m \u001b[39mNumber of raw events in CMS_WORKSHOP: \u001b[0m\u001b[1;36m77\u001b[0m\u001b[39m                                          \u001b[0m\u001b[39m \u001b[0m\u001b]8;id=616607;file:///Users/moaly/Work/iris-hep/integration-challenge/cms/analysis/nondiff.py\u001b\\\u001b[2mnondiff.py\u001b[0m\u001b]8;;\u001b\\\u001b[2m:\u001b[0m\u001b]8;id=387537;file:///Users/moaly/Work/iris-hep/integration-challenge/cms/analysis/nondiff.py#208\u001b\\\u001b[2m208\u001b[0m\u001b]8;;\u001b\\\n"
      ]
     },
     "metadata": {},
     "output_type": "display_data"
    },
    {
     "data": {
      "text/html": [
       "<pre style=\"white-space:pre;overflow-x:auto;line-height:normal;font-family:Menlo,'DejaVu Sans Mono',consolas,'Courier New',monospace\"><span style=\"color: #7fbfbf; text-decoration-color: #7fbfbf\">         </span><span style=\"color: #000080; text-decoration-color: #000080\">INFO    </span> <span style=\"color: #000000; text-decoration-color: #000000\">Computing observable workshop_mtt                                                  </span><a href=\"file:///Users/moaly/Work/iris-hep/integration-challenge/cms/analysis/nondiff.py\" target=\"_blank\"><span style=\"color: #7f7f7f; text-decoration-color: #7f7f7f\">nondiff.py</span></a><span style=\"color: #7f7f7f; text-decoration-color: #7f7f7f\">:</span><a href=\"file:///Users/moaly/Work/iris-hep/integration-challenge/cms/analysis/nondiff.py#213\" target=\"_blank\"><span style=\"color: #7f7f7f; text-decoration-color: #7f7f7f\">213</span></a>\n",
       "</pre>\n"
      ],
      "text/plain": [
       "\u001b[2;36m        \u001b[0m\u001b[2;36m \u001b[0m\u001b[34mINFO    \u001b[0m \u001b[39mComputing observable workshop_mtt                                                 \u001b[0m\u001b[39m \u001b[0m\u001b]8;id=867442;file:///Users/moaly/Work/iris-hep/integration-challenge/cms/analysis/nondiff.py\u001b\\\u001b[2mnondiff.py\u001b[0m\u001b]8;;\u001b\\\u001b[2m:\u001b[0m\u001b]8;id=811115;file:///Users/moaly/Work/iris-hep/integration-challenge/cms/analysis/nondiff.py#213\u001b\\\u001b[2m213\u001b[0m\u001b]8;;\u001b\\\n"
      ]
     },
     "metadata": {},
     "output_type": "display_data"
    },
    {
     "data": {
      "text/html": [
       "<pre style=\"white-space:pre;overflow-x:auto;line-height:normal;font-family:Menlo,'DejaVu Sans Mono',consolas,'Courier New',monospace\"><span style=\"color: #7fbfbf; text-decoration-color: #7fbfbf\">16:09:42 </span><span style=\"color: #000080; text-decoration-color: #000080\">INFO    </span> <span style=\"color: #000000; text-decoration-color: #000000\">Applying selection for CMS_WORKSHOP in ttbar_lep with variation pu_weight_up       </span><a href=\"file:///Users/moaly/Work/iris-hep/integration-challenge/cms/analysis/nondiff.py\" target=\"_blank\"><span style=\"color: #7f7f7f; text-decoration-color: #7f7f7f\">nondiff.py</span></a><span style=\"color: #7f7f7f; text-decoration-color: #7f7f7f\">:</span><a href=\"file:///Users/moaly/Work/iris-hep/integration-challenge/cms/analysis/nondiff.py#154\" target=\"_blank\"><span style=\"color: #7f7f7f; text-decoration-color: #7f7f7f\">154</span></a>\n",
       "</pre>\n"
      ],
      "text/plain": [
       "\u001b[2;36m16:09:42\u001b[0m\u001b[2;36m \u001b[0m\u001b[34mINFO    \u001b[0m \u001b[39mApplying selection for CMS_WORKSHOP in ttbar_lep with variation pu_weight_up      \u001b[0m\u001b[39m \u001b[0m\u001b]8;id=394832;file:///Users/moaly/Work/iris-hep/integration-challenge/cms/analysis/nondiff.py\u001b\\\u001b[2mnondiff.py\u001b[0m\u001b]8;;\u001b\\\u001b[2m:\u001b[0m\u001b]8;id=111549;file:///Users/moaly/Work/iris-hep/integration-challenge/cms/analysis/nondiff.py#154\u001b\\\u001b[2m154\u001b[0m\u001b]8;;\u001b\\\n"
      ]
     },
     "metadata": {},
     "output_type": "display_data"
    },
    {
     "data": {
      "text/html": [
       "<pre style=\"white-space:pre;overflow-x:auto;line-height:normal;font-family:Menlo,'DejaVu Sans Mono',consolas,'Courier New',monospace\"><span style=\"color: #7fbfbf; text-decoration-color: #7fbfbf\">         </span><span style=\"color: #000080; text-decoration-color: #000080\">INFO    </span> <span style=\"color: #000000; text-decoration-color: #000000\">Applying correction: pu_weight/Collisions16_UltraLegacy_goldenJSON </span><span style=\"color: #000000; text-decoration-color: #000000; font-weight: bold\">(</span><span style=\"color: #000000; text-decoration-color: #000000\">up</span><span style=\"color: #000000; text-decoration-color: #000000; font-weight: bold\">)</span><span style=\"color: #000000; text-decoration-color: #000000\">               </span><a href=\"file:///Users/moaly/Work/iris-hep/integration-challenge/cms/analysis/base.py\" target=\"_blank\"><span style=\"color: #7f7f7f; text-decoration-color: #7f7f7f\">base.py</span></a><span style=\"color: #7f7f7f; text-decoration-color: #7f7f7f\">:</span><a href=\"file:///Users/moaly/Work/iris-hep/integration-challenge/cms/analysis/base.py#247\" target=\"_blank\"><span style=\"color: #7f7f7f; text-decoration-color: #7f7f7f\">247</span></a>\n",
       "</pre>\n"
      ],
      "text/plain": [
       "\u001b[2;36m        \u001b[0m\u001b[2;36m \u001b[0m\u001b[34mINFO    \u001b[0m \u001b[39mApplying correction: pu_weight/Collisions16_UltraLegacy_goldenJSON \u001b[0m\u001b[1;39m(\u001b[0m\u001b[39mup\u001b[0m\u001b[1;39m)\u001b[0m\u001b[39m              \u001b[0m\u001b[39m \u001b[0m\u001b]8;id=883830;file:///Users/moaly/Work/iris-hep/integration-challenge/cms/analysis/base.py\u001b\\\u001b[2mbase.py\u001b[0m\u001b]8;;\u001b\\\u001b[2m:\u001b[0m\u001b]8;id=629835;file:///Users/moaly/Work/iris-hep/integration-challenge/cms/analysis/base.py#247\u001b\\\u001b[2m247\u001b[0m\u001b]8;;\u001b\\\n"
      ]
     },
     "metadata": {},
     "output_type": "display_data"
    },
    {
     "data": {
      "text/html": [
       "<pre style=\"white-space:pre;overflow-x:auto;line-height:normal;font-family:Menlo,'DejaVu Sans Mono',consolas,'Courier New',monospace\"><span style=\"color: #7fbfbf; text-decoration-color: #7fbfbf\">         </span><span style=\"color: #000080; text-decoration-color: #000080\">INFO    </span> <span style=\"color: #000000; text-decoration-color: #000000\">Number of weighted events in CMS_WORKSHOP: </span><span style=\"color: #008080; text-decoration-color: #008080; font-weight: bold\">76.42</span><span style=\"color: #000000; text-decoration-color: #000000\">                                   </span><a href=\"file:///Users/moaly/Work/iris-hep/integration-challenge/cms/analysis/nondiff.py\" target=\"_blank\"><span style=\"color: #7f7f7f; text-decoration-color: #7f7f7f\">nondiff.py</span></a><span style=\"color: #7f7f7f; text-decoration-color: #7f7f7f\">:</span><a href=\"file:///Users/moaly/Work/iris-hep/integration-challenge/cms/analysis/nondiff.py#205\" target=\"_blank\"><span style=\"color: #7f7f7f; text-decoration-color: #7f7f7f\">205</span></a>\n",
       "</pre>\n"
      ],
      "text/plain": [
       "\u001b[2;36m        \u001b[0m\u001b[2;36m \u001b[0m\u001b[34mINFO    \u001b[0m \u001b[39mNumber of weighted events in CMS_WORKSHOP: \u001b[0m\u001b[1;36m76.42\u001b[0m\u001b[39m                                  \u001b[0m\u001b[39m \u001b[0m\u001b]8;id=899794;file:///Users/moaly/Work/iris-hep/integration-challenge/cms/analysis/nondiff.py\u001b\\\u001b[2mnondiff.py\u001b[0m\u001b]8;;\u001b\\\u001b[2m:\u001b[0m\u001b]8;id=178212;file:///Users/moaly/Work/iris-hep/integration-challenge/cms/analysis/nondiff.py#205\u001b\\\u001b[2m205\u001b[0m\u001b]8;;\u001b\\\n"
      ]
     },
     "metadata": {},
     "output_type": "display_data"
    },
    {
     "data": {
      "text/html": [
       "<pre style=\"white-space:pre;overflow-x:auto;line-height:normal;font-family:Menlo,'DejaVu Sans Mono',consolas,'Courier New',monospace\"><span style=\"color: #7fbfbf; text-decoration-color: #7fbfbf\">         </span><span style=\"color: #000080; text-decoration-color: #000080\">INFO    </span> <span style=\"color: #000000; text-decoration-color: #000000\">Number of raw events in CMS_WORKSHOP: </span><span style=\"color: #008080; text-decoration-color: #008080; font-weight: bold\">77</span><span style=\"color: #000000; text-decoration-color: #000000\">                                           </span><a href=\"file:///Users/moaly/Work/iris-hep/integration-challenge/cms/analysis/nondiff.py\" target=\"_blank\"><span style=\"color: #7f7f7f; text-decoration-color: #7f7f7f\">nondiff.py</span></a><span style=\"color: #7f7f7f; text-decoration-color: #7f7f7f\">:</span><a href=\"file:///Users/moaly/Work/iris-hep/integration-challenge/cms/analysis/nondiff.py#208\" target=\"_blank\"><span style=\"color: #7f7f7f; text-decoration-color: #7f7f7f\">208</span></a>\n",
       "</pre>\n"
      ],
      "text/plain": [
       "\u001b[2;36m        \u001b[0m\u001b[2;36m \u001b[0m\u001b[34mINFO    \u001b[0m \u001b[39mNumber of raw events in CMS_WORKSHOP: \u001b[0m\u001b[1;36m77\u001b[0m\u001b[39m                                          \u001b[0m\u001b[39m \u001b[0m\u001b]8;id=164857;file:///Users/moaly/Work/iris-hep/integration-challenge/cms/analysis/nondiff.py\u001b\\\u001b[2mnondiff.py\u001b[0m\u001b]8;;\u001b\\\u001b[2m:\u001b[0m\u001b]8;id=824950;file:///Users/moaly/Work/iris-hep/integration-challenge/cms/analysis/nondiff.py#208\u001b\\\u001b[2m208\u001b[0m\u001b]8;;\u001b\\\n"
      ]
     },
     "metadata": {},
     "output_type": "display_data"
    },
    {
     "data": {
      "text/html": [
       "<pre style=\"white-space:pre;overflow-x:auto;line-height:normal;font-family:Menlo,'DejaVu Sans Mono',consolas,'Courier New',monospace\"><span style=\"color: #7fbfbf; text-decoration-color: #7fbfbf\">         </span><span style=\"color: #000080; text-decoration-color: #000080\">INFO    </span> <span style=\"color: #000000; text-decoration-color: #000000\">Computing observable workshop_mtt                                                  </span><a href=\"file:///Users/moaly/Work/iris-hep/integration-challenge/cms/analysis/nondiff.py\" target=\"_blank\"><span style=\"color: #7f7f7f; text-decoration-color: #7f7f7f\">nondiff.py</span></a><span style=\"color: #7f7f7f; text-decoration-color: #7f7f7f\">:</span><a href=\"file:///Users/moaly/Work/iris-hep/integration-challenge/cms/analysis/nondiff.py#213\" target=\"_blank\"><span style=\"color: #7f7f7f; text-decoration-color: #7f7f7f\">213</span></a>\n",
       "</pre>\n"
      ],
      "text/plain": [
       "\u001b[2;36m        \u001b[0m\u001b[2;36m \u001b[0m\u001b[34mINFO    \u001b[0m \u001b[39mComputing observable workshop_mtt                                                 \u001b[0m\u001b[39m \u001b[0m\u001b]8;id=137420;file:///Users/moaly/Work/iris-hep/integration-challenge/cms/analysis/nondiff.py\u001b\\\u001b[2mnondiff.py\u001b[0m\u001b]8;;\u001b\\\u001b[2m:\u001b[0m\u001b]8;id=256791;file:///Users/moaly/Work/iris-hep/integration-challenge/cms/analysis/nondiff.py#213\u001b\\\u001b[2m213\u001b[0m\u001b]8;;\u001b\\\n"
      ]
     },
     "metadata": {},
     "output_type": "display_data"
    },
    {
     "data": {
      "text/html": [
       "<pre style=\"white-space:pre;overflow-x:auto;line-height:normal;font-family:Menlo,'DejaVu Sans Mono',consolas,'Courier New',monospace\"><span style=\"color: #7fbfbf; text-decoration-color: #7fbfbf\">         </span><span style=\"color: #000080; text-decoration-color: #000080\">INFO    </span> <span style=\"color: #000000; text-decoration-color: #000000\">Applying selection for CMS_WORKSHOP in ttbar_lep with variation pu_weight_down     </span><a href=\"file:///Users/moaly/Work/iris-hep/integration-challenge/cms/analysis/nondiff.py\" target=\"_blank\"><span style=\"color: #7f7f7f; text-decoration-color: #7f7f7f\">nondiff.py</span></a><span style=\"color: #7f7f7f; text-decoration-color: #7f7f7f\">:</span><a href=\"file:///Users/moaly/Work/iris-hep/integration-challenge/cms/analysis/nondiff.py#154\" target=\"_blank\"><span style=\"color: #7f7f7f; text-decoration-color: #7f7f7f\">154</span></a>\n",
       "</pre>\n"
      ],
      "text/plain": [
       "\u001b[2;36m        \u001b[0m\u001b[2;36m \u001b[0m\u001b[34mINFO    \u001b[0m \u001b[39mApplying selection for CMS_WORKSHOP in ttbar_lep with variation pu_weight_down    \u001b[0m\u001b[39m \u001b[0m\u001b]8;id=683698;file:///Users/moaly/Work/iris-hep/integration-challenge/cms/analysis/nondiff.py\u001b\\\u001b[2mnondiff.py\u001b[0m\u001b]8;;\u001b\\\u001b[2m:\u001b[0m\u001b]8;id=678373;file:///Users/moaly/Work/iris-hep/integration-challenge/cms/analysis/nondiff.py#154\u001b\\\u001b[2m154\u001b[0m\u001b]8;;\u001b\\\n"
      ]
     },
     "metadata": {},
     "output_type": "display_data"
    },
    {
     "data": {
      "text/html": [
       "<pre style=\"white-space:pre;overflow-x:auto;line-height:normal;font-family:Menlo,'DejaVu Sans Mono',consolas,'Courier New',monospace\"><span style=\"color: #7fbfbf; text-decoration-color: #7fbfbf\">         </span><span style=\"color: #000080; text-decoration-color: #000080\">INFO    </span> <span style=\"color: #000000; text-decoration-color: #000000\">Applying correction: pu_weight/Collisions16_UltraLegacy_goldenJSON </span><span style=\"color: #000000; text-decoration-color: #000000; font-weight: bold\">(</span><span style=\"color: #000000; text-decoration-color: #000000\">down</span><span style=\"color: #000000; text-decoration-color: #000000; font-weight: bold\">)</span><span style=\"color: #000000; text-decoration-color: #000000\">             </span><a href=\"file:///Users/moaly/Work/iris-hep/integration-challenge/cms/analysis/base.py\" target=\"_blank\"><span style=\"color: #7f7f7f; text-decoration-color: #7f7f7f\">base.py</span></a><span style=\"color: #7f7f7f; text-decoration-color: #7f7f7f\">:</span><a href=\"file:///Users/moaly/Work/iris-hep/integration-challenge/cms/analysis/base.py#247\" target=\"_blank\"><span style=\"color: #7f7f7f; text-decoration-color: #7f7f7f\">247</span></a>\n",
       "</pre>\n"
      ],
      "text/plain": [
       "\u001b[2;36m        \u001b[0m\u001b[2;36m \u001b[0m\u001b[34mINFO    \u001b[0m \u001b[39mApplying correction: pu_weight/Collisions16_UltraLegacy_goldenJSON \u001b[0m\u001b[1;39m(\u001b[0m\u001b[39mdown\u001b[0m\u001b[1;39m)\u001b[0m\u001b[39m            \u001b[0m\u001b[39m \u001b[0m\u001b]8;id=327066;file:///Users/moaly/Work/iris-hep/integration-challenge/cms/analysis/base.py\u001b\\\u001b[2mbase.py\u001b[0m\u001b]8;;\u001b\\\u001b[2m:\u001b[0m\u001b]8;id=633341;file:///Users/moaly/Work/iris-hep/integration-challenge/cms/analysis/base.py#247\u001b\\\u001b[2m247\u001b[0m\u001b]8;;\u001b\\\n"
      ]
     },
     "metadata": {},
     "output_type": "display_data"
    },
    {
     "data": {
      "text/html": [
       "<pre style=\"white-space:pre;overflow-x:auto;line-height:normal;font-family:Menlo,'DejaVu Sans Mono',consolas,'Courier New',monospace\"><span style=\"color: #7fbfbf; text-decoration-color: #7fbfbf\">         </span><span style=\"color: #000080; text-decoration-color: #000080\">INFO    </span> <span style=\"color: #000000; text-decoration-color: #000000\">Number of weighted events in CMS_WORKSHOP: </span><span style=\"color: #008080; text-decoration-color: #008080; font-weight: bold\">77.44</span><span style=\"color: #000000; text-decoration-color: #000000\">                                   </span><a href=\"file:///Users/moaly/Work/iris-hep/integration-challenge/cms/analysis/nondiff.py\" target=\"_blank\"><span style=\"color: #7f7f7f; text-decoration-color: #7f7f7f\">nondiff.py</span></a><span style=\"color: #7f7f7f; text-decoration-color: #7f7f7f\">:</span><a href=\"file:///Users/moaly/Work/iris-hep/integration-challenge/cms/analysis/nondiff.py#205\" target=\"_blank\"><span style=\"color: #7f7f7f; text-decoration-color: #7f7f7f\">205</span></a>\n",
       "</pre>\n"
      ],
      "text/plain": [
       "\u001b[2;36m        \u001b[0m\u001b[2;36m \u001b[0m\u001b[34mINFO    \u001b[0m \u001b[39mNumber of weighted events in CMS_WORKSHOP: \u001b[0m\u001b[1;36m77.44\u001b[0m\u001b[39m                                  \u001b[0m\u001b[39m \u001b[0m\u001b]8;id=297991;file:///Users/moaly/Work/iris-hep/integration-challenge/cms/analysis/nondiff.py\u001b\\\u001b[2mnondiff.py\u001b[0m\u001b]8;;\u001b\\\u001b[2m:\u001b[0m\u001b]8;id=492321;file:///Users/moaly/Work/iris-hep/integration-challenge/cms/analysis/nondiff.py#205\u001b\\\u001b[2m205\u001b[0m\u001b]8;;\u001b\\\n"
      ]
     },
     "metadata": {},
     "output_type": "display_data"
    },
    {
     "data": {
      "text/html": [
       "<pre style=\"white-space:pre;overflow-x:auto;line-height:normal;font-family:Menlo,'DejaVu Sans Mono',consolas,'Courier New',monospace\"><span style=\"color: #7fbfbf; text-decoration-color: #7fbfbf\">         </span><span style=\"color: #000080; text-decoration-color: #000080\">INFO    </span> <span style=\"color: #000000; text-decoration-color: #000000\">Number of raw events in CMS_WORKSHOP: </span><span style=\"color: #008080; text-decoration-color: #008080; font-weight: bold\">77</span><span style=\"color: #000000; text-decoration-color: #000000\">                                           </span><a href=\"file:///Users/moaly/Work/iris-hep/integration-challenge/cms/analysis/nondiff.py\" target=\"_blank\"><span style=\"color: #7f7f7f; text-decoration-color: #7f7f7f\">nondiff.py</span></a><span style=\"color: #7f7f7f; text-decoration-color: #7f7f7f\">:</span><a href=\"file:///Users/moaly/Work/iris-hep/integration-challenge/cms/analysis/nondiff.py#208\" target=\"_blank\"><span style=\"color: #7f7f7f; text-decoration-color: #7f7f7f\">208</span></a>\n",
       "</pre>\n"
      ],
      "text/plain": [
       "\u001b[2;36m        \u001b[0m\u001b[2;36m \u001b[0m\u001b[34mINFO    \u001b[0m \u001b[39mNumber of raw events in CMS_WORKSHOP: \u001b[0m\u001b[1;36m77\u001b[0m\u001b[39m                                          \u001b[0m\u001b[39m \u001b[0m\u001b]8;id=653931;file:///Users/moaly/Work/iris-hep/integration-challenge/cms/analysis/nondiff.py\u001b\\\u001b[2mnondiff.py\u001b[0m\u001b]8;;\u001b\\\u001b[2m:\u001b[0m\u001b]8;id=600671;file:///Users/moaly/Work/iris-hep/integration-challenge/cms/analysis/nondiff.py#208\u001b\\\u001b[2m208\u001b[0m\u001b]8;;\u001b\\\n"
      ]
     },
     "metadata": {},
     "output_type": "display_data"
    },
    {
     "data": {
      "text/html": [
       "<pre style=\"white-space:pre;overflow-x:auto;line-height:normal;font-family:Menlo,'DejaVu Sans Mono',consolas,'Courier New',monospace\"><span style=\"color: #7fbfbf; text-decoration-color: #7fbfbf\">         </span><span style=\"color: #000080; text-decoration-color: #000080\">INFO    </span> <span style=\"color: #000000; text-decoration-color: #000000\">Computing observable workshop_mtt                                                  </span><a href=\"file:///Users/moaly/Work/iris-hep/integration-challenge/cms/analysis/nondiff.py\" target=\"_blank\"><span style=\"color: #7f7f7f; text-decoration-color: #7f7f7f\">nondiff.py</span></a><span style=\"color: #7f7f7f; text-decoration-color: #7f7f7f\">:</span><a href=\"file:///Users/moaly/Work/iris-hep/integration-challenge/cms/analysis/nondiff.py#213\" target=\"_blank\"><span style=\"color: #7f7f7f; text-decoration-color: #7f7f7f\">213</span></a>\n",
       "</pre>\n"
      ],
      "text/plain": [
       "\u001b[2;36m        \u001b[0m\u001b[2;36m \u001b[0m\u001b[34mINFO    \u001b[0m \u001b[39mComputing observable workshop_mtt                                                 \u001b[0m\u001b[39m \u001b[0m\u001b]8;id=322776;file:///Users/moaly/Work/iris-hep/integration-challenge/cms/analysis/nondiff.py\u001b\\\u001b[2mnondiff.py\u001b[0m\u001b]8;;\u001b\\\u001b[2m:\u001b[0m\u001b]8;id=608163;file:///Users/moaly/Work/iris-hep/integration-challenge/cms/analysis/nondiff.py#213\u001b\\\u001b[2m213\u001b[0m\u001b]8;;\u001b\\\n"
      ]
     },
     "metadata": {},
     "output_type": "display_data"
    },
    {
     "data": {
      "text/html": [
       "<pre style=\"white-space:pre;overflow-x:auto;line-height:normal;font-family:Menlo,'DejaVu Sans Mono',consolas,'Courier New',monospace\"><span style=\"color: #7fbfbf; text-decoration-color: #7fbfbf\">         </span><span style=\"color: #000080; text-decoration-color: #000080\">INFO    </span> <span style=\"color: #000000; text-decoration-color: #000000\">Applying selection for CMS_WORKSHOP in ttbar_lep with variation muon_id_sf_up      </span><a href=\"file:///Users/moaly/Work/iris-hep/integration-challenge/cms/analysis/nondiff.py\" target=\"_blank\"><span style=\"color: #7f7f7f; text-decoration-color: #7f7f7f\">nondiff.py</span></a><span style=\"color: #7f7f7f; text-decoration-color: #7f7f7f\">:</span><a href=\"file:///Users/moaly/Work/iris-hep/integration-challenge/cms/analysis/nondiff.py#154\" target=\"_blank\"><span style=\"color: #7f7f7f; text-decoration-color: #7f7f7f\">154</span></a>\n",
       "</pre>\n"
      ],
      "text/plain": [
       "\u001b[2;36m        \u001b[0m\u001b[2;36m \u001b[0m\u001b[34mINFO    \u001b[0m \u001b[39mApplying selection for CMS_WORKSHOP in ttbar_lep with variation muon_id_sf_up     \u001b[0m\u001b[39m \u001b[0m\u001b]8;id=486222;file:///Users/moaly/Work/iris-hep/integration-challenge/cms/analysis/nondiff.py\u001b\\\u001b[2mnondiff.py\u001b[0m\u001b]8;;\u001b\\\u001b[2m:\u001b[0m\u001b]8;id=647111;file:///Users/moaly/Work/iris-hep/integration-challenge/cms/analysis/nondiff.py#154\u001b\\\u001b[2m154\u001b[0m\u001b]8;;\u001b\\\n"
      ]
     },
     "metadata": {},
     "output_type": "display_data"
    },
    {
     "data": {
      "text/html": [
       "<pre style=\"white-space:pre;overflow-x:auto;line-height:normal;font-family:Menlo,'DejaVu Sans Mono',consolas,'Courier New',monospace\"><span style=\"color: #7fbfbf; text-decoration-color: #7fbfbf\">         </span><span style=\"color: #000080; text-decoration-color: #000080\">INFO    </span> <span style=\"color: #000000; text-decoration-color: #000000\">Applying correction: muon_id_sf/NUM_TightID_DEN_TrackerMuons </span><span style=\"color: #000000; text-decoration-color: #000000; font-weight: bold\">(</span><span style=\"color: #000000; text-decoration-color: #000000\">systup</span><span style=\"color: #000000; text-decoration-color: #000000; font-weight: bold\">)</span><span style=\"color: #000000; text-decoration-color: #000000\">                 </span><a href=\"file:///Users/moaly/Work/iris-hep/integration-challenge/cms/analysis/base.py\" target=\"_blank\"><span style=\"color: #7f7f7f; text-decoration-color: #7f7f7f\">base.py</span></a><span style=\"color: #7f7f7f; text-decoration-color: #7f7f7f\">:</span><a href=\"file:///Users/moaly/Work/iris-hep/integration-challenge/cms/analysis/base.py#247\" target=\"_blank\"><span style=\"color: #7f7f7f; text-decoration-color: #7f7f7f\">247</span></a>\n",
       "</pre>\n"
      ],
      "text/plain": [
       "\u001b[2;36m        \u001b[0m\u001b[2;36m \u001b[0m\u001b[34mINFO    \u001b[0m \u001b[39mApplying correction: muon_id_sf/NUM_TightID_DEN_TrackerMuons \u001b[0m\u001b[1;39m(\u001b[0m\u001b[39msystup\u001b[0m\u001b[1;39m)\u001b[0m\u001b[39m                \u001b[0m\u001b[39m \u001b[0m\u001b]8;id=291456;file:///Users/moaly/Work/iris-hep/integration-challenge/cms/analysis/base.py\u001b\\\u001b[2mbase.py\u001b[0m\u001b]8;;\u001b\\\u001b[2m:\u001b[0m\u001b]8;id=466332;file:///Users/moaly/Work/iris-hep/integration-challenge/cms/analysis/base.py#247\u001b\\\u001b[2m247\u001b[0m\u001b]8;;\u001b\\\n"
      ]
     },
     "metadata": {},
     "output_type": "display_data"
    },
    {
     "data": {
      "text/html": [
       "<pre style=\"white-space:pre;overflow-x:auto;line-height:normal;font-family:Menlo,'DejaVu Sans Mono',consolas,'Courier New',monospace\"><span style=\"color: #7fbfbf; text-decoration-color: #7fbfbf\">         </span><span style=\"color: #000080; text-decoration-color: #000080\">INFO    </span> <span style=\"color: #000000; text-decoration-color: #000000\">Number of weighted events in CMS_WORKSHOP: </span><span style=\"color: #008080; text-decoration-color: #008080; font-weight: bold\">76.03</span><span style=\"color: #000000; text-decoration-color: #000000\">                                   </span><a href=\"file:///Users/moaly/Work/iris-hep/integration-challenge/cms/analysis/nondiff.py\" target=\"_blank\"><span style=\"color: #7f7f7f; text-decoration-color: #7f7f7f\">nondiff.py</span></a><span style=\"color: #7f7f7f; text-decoration-color: #7f7f7f\">:</span><a href=\"file:///Users/moaly/Work/iris-hep/integration-challenge/cms/analysis/nondiff.py#205\" target=\"_blank\"><span style=\"color: #7f7f7f; text-decoration-color: #7f7f7f\">205</span></a>\n",
       "</pre>\n"
      ],
      "text/plain": [
       "\u001b[2;36m        \u001b[0m\u001b[2;36m \u001b[0m\u001b[34mINFO    \u001b[0m \u001b[39mNumber of weighted events in CMS_WORKSHOP: \u001b[0m\u001b[1;36m76.03\u001b[0m\u001b[39m                                  \u001b[0m\u001b[39m \u001b[0m\u001b]8;id=498081;file:///Users/moaly/Work/iris-hep/integration-challenge/cms/analysis/nondiff.py\u001b\\\u001b[2mnondiff.py\u001b[0m\u001b]8;;\u001b\\\u001b[2m:\u001b[0m\u001b]8;id=348900;file:///Users/moaly/Work/iris-hep/integration-challenge/cms/analysis/nondiff.py#205\u001b\\\u001b[2m205\u001b[0m\u001b]8;;\u001b\\\n"
      ]
     },
     "metadata": {},
     "output_type": "display_data"
    },
    {
     "data": {
      "text/html": [
       "<pre style=\"white-space:pre;overflow-x:auto;line-height:normal;font-family:Menlo,'DejaVu Sans Mono',consolas,'Courier New',monospace\"><span style=\"color: #7fbfbf; text-decoration-color: #7fbfbf\">         </span><span style=\"color: #000080; text-decoration-color: #000080\">INFO    </span> <span style=\"color: #000000; text-decoration-color: #000000\">Number of raw events in CMS_WORKSHOP: </span><span style=\"color: #008080; text-decoration-color: #008080; font-weight: bold\">77</span><span style=\"color: #000000; text-decoration-color: #000000\">                                           </span><a href=\"file:///Users/moaly/Work/iris-hep/integration-challenge/cms/analysis/nondiff.py\" target=\"_blank\"><span style=\"color: #7f7f7f; text-decoration-color: #7f7f7f\">nondiff.py</span></a><span style=\"color: #7f7f7f; text-decoration-color: #7f7f7f\">:</span><a href=\"file:///Users/moaly/Work/iris-hep/integration-challenge/cms/analysis/nondiff.py#208\" target=\"_blank\"><span style=\"color: #7f7f7f; text-decoration-color: #7f7f7f\">208</span></a>\n",
       "</pre>\n"
      ],
      "text/plain": [
       "\u001b[2;36m        \u001b[0m\u001b[2;36m \u001b[0m\u001b[34mINFO    \u001b[0m \u001b[39mNumber of raw events in CMS_WORKSHOP: \u001b[0m\u001b[1;36m77\u001b[0m\u001b[39m                                          \u001b[0m\u001b[39m \u001b[0m\u001b]8;id=542947;file:///Users/moaly/Work/iris-hep/integration-challenge/cms/analysis/nondiff.py\u001b\\\u001b[2mnondiff.py\u001b[0m\u001b]8;;\u001b\\\u001b[2m:\u001b[0m\u001b]8;id=676646;file:///Users/moaly/Work/iris-hep/integration-challenge/cms/analysis/nondiff.py#208\u001b\\\u001b[2m208\u001b[0m\u001b]8;;\u001b\\\n"
      ]
     },
     "metadata": {},
     "output_type": "display_data"
    },
    {
     "data": {
      "text/html": [
       "<pre style=\"white-space:pre;overflow-x:auto;line-height:normal;font-family:Menlo,'DejaVu Sans Mono',consolas,'Courier New',monospace\"><span style=\"color: #7fbfbf; text-decoration-color: #7fbfbf\">         </span><span style=\"color: #000080; text-decoration-color: #000080\">INFO    </span> <span style=\"color: #000000; text-decoration-color: #000000\">Computing observable workshop_mtt                                                  </span><a href=\"file:///Users/moaly/Work/iris-hep/integration-challenge/cms/analysis/nondiff.py\" target=\"_blank\"><span style=\"color: #7f7f7f; text-decoration-color: #7f7f7f\">nondiff.py</span></a><span style=\"color: #7f7f7f; text-decoration-color: #7f7f7f\">:</span><a href=\"file:///Users/moaly/Work/iris-hep/integration-challenge/cms/analysis/nondiff.py#213\" target=\"_blank\"><span style=\"color: #7f7f7f; text-decoration-color: #7f7f7f\">213</span></a>\n",
       "</pre>\n"
      ],
      "text/plain": [
       "\u001b[2;36m        \u001b[0m\u001b[2;36m \u001b[0m\u001b[34mINFO    \u001b[0m \u001b[39mComputing observable workshop_mtt                                                 \u001b[0m\u001b[39m \u001b[0m\u001b]8;id=801152;file:///Users/moaly/Work/iris-hep/integration-challenge/cms/analysis/nondiff.py\u001b\\\u001b[2mnondiff.py\u001b[0m\u001b]8;;\u001b\\\u001b[2m:\u001b[0m\u001b]8;id=968849;file:///Users/moaly/Work/iris-hep/integration-challenge/cms/analysis/nondiff.py#213\u001b\\\u001b[2m213\u001b[0m\u001b]8;;\u001b\\\n"
      ]
     },
     "metadata": {},
     "output_type": "display_data"
    },
    {
     "data": {
      "text/html": [
       "<pre style=\"white-space:pre;overflow-x:auto;line-height:normal;font-family:Menlo,'DejaVu Sans Mono',consolas,'Courier New',monospace\"><span style=\"color: #7fbfbf; text-decoration-color: #7fbfbf\">         </span><span style=\"color: #000080; text-decoration-color: #000080\">INFO    </span> <span style=\"color: #000000; text-decoration-color: #000000\">Applying selection for CMS_WORKSHOP in ttbar_lep with variation muon_id_sf_down    </span><a href=\"file:///Users/moaly/Work/iris-hep/integration-challenge/cms/analysis/nondiff.py\" target=\"_blank\"><span style=\"color: #7f7f7f; text-decoration-color: #7f7f7f\">nondiff.py</span></a><span style=\"color: #7f7f7f; text-decoration-color: #7f7f7f\">:</span><a href=\"file:///Users/moaly/Work/iris-hep/integration-challenge/cms/analysis/nondiff.py#154\" target=\"_blank\"><span style=\"color: #7f7f7f; text-decoration-color: #7f7f7f\">154</span></a>\n",
       "</pre>\n"
      ],
      "text/plain": [
       "\u001b[2;36m        \u001b[0m\u001b[2;36m \u001b[0m\u001b[34mINFO    \u001b[0m \u001b[39mApplying selection for CMS_WORKSHOP in ttbar_lep with variation muon_id_sf_down   \u001b[0m\u001b[39m \u001b[0m\u001b]8;id=956852;file:///Users/moaly/Work/iris-hep/integration-challenge/cms/analysis/nondiff.py\u001b\\\u001b[2mnondiff.py\u001b[0m\u001b]8;;\u001b\\\u001b[2m:\u001b[0m\u001b]8;id=318426;file:///Users/moaly/Work/iris-hep/integration-challenge/cms/analysis/nondiff.py#154\u001b\\\u001b[2m154\u001b[0m\u001b]8;;\u001b\\\n"
      ]
     },
     "metadata": {},
     "output_type": "display_data"
    },
    {
     "data": {
      "text/html": [
       "<pre style=\"white-space:pre;overflow-x:auto;line-height:normal;font-family:Menlo,'DejaVu Sans Mono',consolas,'Courier New',monospace\"><span style=\"color: #7fbfbf; text-decoration-color: #7fbfbf\">         </span><span style=\"color: #000080; text-decoration-color: #000080\">INFO    </span> <span style=\"color: #000000; text-decoration-color: #000000\">Applying correction: muon_id_sf/NUM_TightID_DEN_TrackerMuons </span><span style=\"color: #000000; text-decoration-color: #000000; font-weight: bold\">(</span><span style=\"color: #000000; text-decoration-color: #000000\">systdown</span><span style=\"color: #000000; text-decoration-color: #000000; font-weight: bold\">)</span><span style=\"color: #000000; text-decoration-color: #000000\">               </span><a href=\"file:///Users/moaly/Work/iris-hep/integration-challenge/cms/analysis/base.py\" target=\"_blank\"><span style=\"color: #7f7f7f; text-decoration-color: #7f7f7f\">base.py</span></a><span style=\"color: #7f7f7f; text-decoration-color: #7f7f7f\">:</span><a href=\"file:///Users/moaly/Work/iris-hep/integration-challenge/cms/analysis/base.py#247\" target=\"_blank\"><span style=\"color: #7f7f7f; text-decoration-color: #7f7f7f\">247</span></a>\n",
       "</pre>\n"
      ],
      "text/plain": [
       "\u001b[2;36m        \u001b[0m\u001b[2;36m \u001b[0m\u001b[34mINFO    \u001b[0m \u001b[39mApplying correction: muon_id_sf/NUM_TightID_DEN_TrackerMuons \u001b[0m\u001b[1;39m(\u001b[0m\u001b[39msystdown\u001b[0m\u001b[1;39m)\u001b[0m\u001b[39m              \u001b[0m\u001b[39m \u001b[0m\u001b]8;id=613069;file:///Users/moaly/Work/iris-hep/integration-challenge/cms/analysis/base.py\u001b\\\u001b[2mbase.py\u001b[0m\u001b]8;;\u001b\\\u001b[2m:\u001b[0m\u001b]8;id=343790;file:///Users/moaly/Work/iris-hep/integration-challenge/cms/analysis/base.py#247\u001b\\\u001b[2m247\u001b[0m\u001b]8;;\u001b\\\n"
      ]
     },
     "metadata": {},
     "output_type": "display_data"
    },
    {
     "data": {
      "text/html": [
       "<pre style=\"white-space:pre;overflow-x:auto;line-height:normal;font-family:Menlo,'DejaVu Sans Mono',consolas,'Courier New',monospace\"><span style=\"color: #7fbfbf; text-decoration-color: #7fbfbf\">         </span><span style=\"color: #000080; text-decoration-color: #000080\">INFO    </span> <span style=\"color: #000000; text-decoration-color: #000000\">Number of weighted events in CMS_WORKSHOP: </span><span style=\"color: #008080; text-decoration-color: #008080; font-weight: bold\">75.62</span><span style=\"color: #000000; text-decoration-color: #000000\">                                   </span><a href=\"file:///Users/moaly/Work/iris-hep/integration-challenge/cms/analysis/nondiff.py\" target=\"_blank\"><span style=\"color: #7f7f7f; text-decoration-color: #7f7f7f\">nondiff.py</span></a><span style=\"color: #7f7f7f; text-decoration-color: #7f7f7f\">:</span><a href=\"file:///Users/moaly/Work/iris-hep/integration-challenge/cms/analysis/nondiff.py#205\" target=\"_blank\"><span style=\"color: #7f7f7f; text-decoration-color: #7f7f7f\">205</span></a>\n",
       "</pre>\n"
      ],
      "text/plain": [
       "\u001b[2;36m        \u001b[0m\u001b[2;36m \u001b[0m\u001b[34mINFO    \u001b[0m \u001b[39mNumber of weighted events in CMS_WORKSHOP: \u001b[0m\u001b[1;36m75.62\u001b[0m\u001b[39m                                  \u001b[0m\u001b[39m \u001b[0m\u001b]8;id=688753;file:///Users/moaly/Work/iris-hep/integration-challenge/cms/analysis/nondiff.py\u001b\\\u001b[2mnondiff.py\u001b[0m\u001b]8;;\u001b\\\u001b[2m:\u001b[0m\u001b]8;id=54976;file:///Users/moaly/Work/iris-hep/integration-challenge/cms/analysis/nondiff.py#205\u001b\\\u001b[2m205\u001b[0m\u001b]8;;\u001b\\\n"
      ]
     },
     "metadata": {},
     "output_type": "display_data"
    },
    {
     "data": {
      "text/html": [
       "<pre style=\"white-space:pre;overflow-x:auto;line-height:normal;font-family:Menlo,'DejaVu Sans Mono',consolas,'Courier New',monospace\"><span style=\"color: #7fbfbf; text-decoration-color: #7fbfbf\">         </span><span style=\"color: #000080; text-decoration-color: #000080\">INFO    </span> <span style=\"color: #000000; text-decoration-color: #000000\">Number of raw events in CMS_WORKSHOP: </span><span style=\"color: #008080; text-decoration-color: #008080; font-weight: bold\">77</span><span style=\"color: #000000; text-decoration-color: #000000\">                                           </span><a href=\"file:///Users/moaly/Work/iris-hep/integration-challenge/cms/analysis/nondiff.py\" target=\"_blank\"><span style=\"color: #7f7f7f; text-decoration-color: #7f7f7f\">nondiff.py</span></a><span style=\"color: #7f7f7f; text-decoration-color: #7f7f7f\">:</span><a href=\"file:///Users/moaly/Work/iris-hep/integration-challenge/cms/analysis/nondiff.py#208\" target=\"_blank\"><span style=\"color: #7f7f7f; text-decoration-color: #7f7f7f\">208</span></a>\n",
       "</pre>\n"
      ],
      "text/plain": [
       "\u001b[2;36m        \u001b[0m\u001b[2;36m \u001b[0m\u001b[34mINFO    \u001b[0m \u001b[39mNumber of raw events in CMS_WORKSHOP: \u001b[0m\u001b[1;36m77\u001b[0m\u001b[39m                                          \u001b[0m\u001b[39m \u001b[0m\u001b]8;id=624964;file:///Users/moaly/Work/iris-hep/integration-challenge/cms/analysis/nondiff.py\u001b\\\u001b[2mnondiff.py\u001b[0m\u001b]8;;\u001b\\\u001b[2m:\u001b[0m\u001b]8;id=759772;file:///Users/moaly/Work/iris-hep/integration-challenge/cms/analysis/nondiff.py#208\u001b\\\u001b[2m208\u001b[0m\u001b]8;;\u001b\\\n"
      ]
     },
     "metadata": {},
     "output_type": "display_data"
    },
    {
     "data": {
      "text/html": [
       "<pre style=\"white-space:pre;overflow-x:auto;line-height:normal;font-family:Menlo,'DejaVu Sans Mono',consolas,'Courier New',monospace\"><span style=\"color: #7fbfbf; text-decoration-color: #7fbfbf\">         </span><span style=\"color: #000080; text-decoration-color: #000080\">INFO    </span> <span style=\"color: #000000; text-decoration-color: #000000\">Computing observable workshop_mtt                                                  </span><a href=\"file:///Users/moaly/Work/iris-hep/integration-challenge/cms/analysis/nondiff.py\" target=\"_blank\"><span style=\"color: #7f7f7f; text-decoration-color: #7f7f7f\">nondiff.py</span></a><span style=\"color: #7f7f7f; text-decoration-color: #7f7f7f\">:</span><a href=\"file:///Users/moaly/Work/iris-hep/integration-challenge/cms/analysis/nondiff.py#213\" target=\"_blank\"><span style=\"color: #7f7f7f; text-decoration-color: #7f7f7f\">213</span></a>\n",
       "</pre>\n"
      ],
      "text/plain": [
       "\u001b[2;36m        \u001b[0m\u001b[2;36m \u001b[0m\u001b[34mINFO    \u001b[0m \u001b[39mComputing observable workshop_mtt                                                 \u001b[0m\u001b[39m \u001b[0m\u001b]8;id=849263;file:///Users/moaly/Work/iris-hep/integration-challenge/cms/analysis/nondiff.py\u001b\\\u001b[2mnondiff.py\u001b[0m\u001b]8;;\u001b\\\u001b[2m:\u001b[0m\u001b]8;id=162708;file:///Users/moaly/Work/iris-hep/integration-challenge/cms/analysis/nondiff.py#213\u001b\\\u001b[2m213\u001b[0m\u001b]8;;\u001b\\\n"
      ]
     },
     "metadata": {},
     "output_type": "display_data"
    },
    {
     "name": "stdout",
     "output_type": "stream",
     "text": [
      "📊 Processing dataset: ttbar_had__nominal\n",
      "   • Processing 1958 events with metadata: ttbar_had\n"
     ]
    },
    {
     "data": {
      "text/html": [
       "<pre style=\"white-space:pre;overflow-x:auto;line-height:normal;font-family:Menlo,'DejaVu Sans Mono',consolas,'Courier New',monospace\"><span style=\"color: #7fbfbf; text-decoration-color: #7fbfbf\">         </span><span style=\"color: #000080; text-decoration-color: #000080\">INFO    </span> <span style=\"color: #000000; text-decoration-color: #000000\">Applying selection for CMS_WORKSHOP in ttbar_had with variation nominal            </span><a href=\"file:///Users/moaly/Work/iris-hep/integration-challenge/cms/analysis/nondiff.py\" target=\"_blank\"><span style=\"color: #7f7f7f; text-decoration-color: #7f7f7f\">nondiff.py</span></a><span style=\"color: #7f7f7f; text-decoration-color: #7f7f7f\">:</span><a href=\"file:///Users/moaly/Work/iris-hep/integration-challenge/cms/analysis/nondiff.py#154\" target=\"_blank\"><span style=\"color: #7f7f7f; text-decoration-color: #7f7f7f\">154</span></a>\n",
       "</pre>\n"
      ],
      "text/plain": [
       "\u001b[2;36m        \u001b[0m\u001b[2;36m \u001b[0m\u001b[34mINFO    \u001b[0m \u001b[39mApplying selection for CMS_WORKSHOP in ttbar_had with variation nominal           \u001b[0m\u001b[39m \u001b[0m\u001b]8;id=52411;file:///Users/moaly/Work/iris-hep/integration-challenge/cms/analysis/nondiff.py\u001b\\\u001b[2mnondiff.py\u001b[0m\u001b]8;;\u001b\\\u001b[2m:\u001b[0m\u001b]8;id=465530;file:///Users/moaly/Work/iris-hep/integration-challenge/cms/analysis/nondiff.py#154\u001b\\\u001b[2m154\u001b[0m\u001b]8;;\u001b\\\n"
      ]
     },
     "metadata": {},
     "output_type": "display_data"
    },
    {
     "data": {
      "text/html": [
       "<pre style=\"white-space:pre;overflow-x:auto;line-height:normal;font-family:Menlo,'DejaVu Sans Mono',consolas,'Courier New',monospace\"><span style=\"color: #7fbfbf; text-decoration-color: #7fbfbf\">         </span><span style=\"color: #808000; text-decoration-color: #808000\">WARNING </span> <span style=\"color: #000000; text-decoration-color: #000000\">NonDiffAnalysis:: No events left in CMS_WORKSHOP for ttbar_had with variation      </span><a href=\"file:///Users/moaly/Work/iris-hep/integration-challenge/cms/analysis/nondiff.py\" target=\"_blank\"><span style=\"color: #7f7f7f; text-decoration-color: #7f7f7f\">nondiff.py</span></a><span style=\"color: #7f7f7f; text-decoration-color: #7f7f7f\">:</span><a href=\"file:///Users/moaly/Work/iris-hep/integration-challenge/cms/analysis/nondiff.py#180\" target=\"_blank\"><span style=\"color: #7f7f7f; text-decoration-color: #7f7f7f\">180</span></a>\n",
       "<span style=\"color: #7fbfbf; text-decoration-color: #7fbfbf\">         </span>         <span style=\"color: #000000; text-decoration-color: #000000\">nominal                                                                            </span><span style=\"color: #7f7f7f; text-decoration-color: #7f7f7f\">              </span>\n",
       "</pre>\n"
      ],
      "text/plain": [
       "\u001b[2;36m        \u001b[0m\u001b[2;36m \u001b[0m\u001b[33mWARNING \u001b[0m \u001b[39mNonDiffAnalysis:: No events left in CMS_WORKSHOP for ttbar_had with variation     \u001b[0m\u001b[39m \u001b[0m\u001b]8;id=587341;file:///Users/moaly/Work/iris-hep/integration-challenge/cms/analysis/nondiff.py\u001b\\\u001b[2mnondiff.py\u001b[0m\u001b]8;;\u001b\\\u001b[2m:\u001b[0m\u001b]8;id=848152;file:///Users/moaly/Work/iris-hep/integration-challenge/cms/analysis/nondiff.py#180\u001b\\\u001b[2m180\u001b[0m\u001b]8;;\u001b\\\n",
       "\u001b[2;36m         \u001b[0m         \u001b[39mnominal                                                                           \u001b[0m\u001b[39m \u001b[0m\u001b[2m              \u001b[0m\n"
      ]
     },
     "metadata": {},
     "output_type": "display_data"
    },
    {
     "data": {
      "text/html": [
       "<pre style=\"white-space:pre;overflow-x:auto;line-height:normal;font-family:Menlo,'DejaVu Sans Mono',consolas,'Courier New',monospace\"><span style=\"color: #7fbfbf; text-decoration-color: #7fbfbf\">         </span><span style=\"color: #000080; text-decoration-color: #000080\">INFO    </span> <span style=\"color: #000000; text-decoration-color: #000000\">Applying selection for CMS_WORKSHOP in ttbar_had with variation                    </span><a href=\"file:///Users/moaly/Work/iris-hep/integration-challenge/cms/analysis/nondiff.py\" target=\"_blank\"><span style=\"color: #7f7f7f; text-decoration-color: #7f7f7f\">nondiff.py</span></a><span style=\"color: #7f7f7f; text-decoration-color: #7f7f7f\">:</span><a href=\"file:///Users/moaly/Work/iris-hep/integration-challenge/cms/analysis/nondiff.py#154\" target=\"_blank\"><span style=\"color: #7f7f7f; text-decoration-color: #7f7f7f\">154</span></a>\n",
       "<span style=\"color: #7fbfbf; text-decoration-color: #7fbfbf\">         </span>         <span style=\"color: #000000; text-decoration-color: #000000\">jet_pt_resolution_up                                                               </span><span style=\"color: #7f7f7f; text-decoration-color: #7f7f7f\">              </span>\n",
       "</pre>\n"
      ],
      "text/plain": [
       "\u001b[2;36m        \u001b[0m\u001b[2;36m \u001b[0m\u001b[34mINFO    \u001b[0m \u001b[39mApplying selection for CMS_WORKSHOP in ttbar_had with variation                   \u001b[0m\u001b[39m \u001b[0m\u001b]8;id=740626;file:///Users/moaly/Work/iris-hep/integration-challenge/cms/analysis/nondiff.py\u001b\\\u001b[2mnondiff.py\u001b[0m\u001b]8;;\u001b\\\u001b[2m:\u001b[0m\u001b]8;id=879944;file:///Users/moaly/Work/iris-hep/integration-challenge/cms/analysis/nondiff.py#154\u001b\\\u001b[2m154\u001b[0m\u001b]8;;\u001b\\\n",
       "\u001b[2;36m         \u001b[0m         \u001b[39mjet_pt_resolution_up                                                              \u001b[0m\u001b[39m \u001b[0m\u001b[2m              \u001b[0m\n"
      ]
     },
     "metadata": {},
     "output_type": "display_data"
    },
    {
     "data": {
      "text/html": [
       "<pre style=\"white-space:pre;overflow-x:auto;line-height:normal;font-family:Menlo,'DejaVu Sans Mono',consolas,'Courier New',monospace\"><span style=\"color: #7fbfbf; text-decoration-color: #7fbfbf\">         </span><span style=\"color: #808000; text-decoration-color: #808000\">WARNING </span> <span style=\"color: #000000; text-decoration-color: #000000\">NonDiffAnalysis:: No events left in CMS_WORKSHOP for ttbar_had with variation      </span><a href=\"file:///Users/moaly/Work/iris-hep/integration-challenge/cms/analysis/nondiff.py\" target=\"_blank\"><span style=\"color: #7f7f7f; text-decoration-color: #7f7f7f\">nondiff.py</span></a><span style=\"color: #7f7f7f; text-decoration-color: #7f7f7f\">:</span><a href=\"file:///Users/moaly/Work/iris-hep/integration-challenge/cms/analysis/nondiff.py#180\" target=\"_blank\"><span style=\"color: #7f7f7f; text-decoration-color: #7f7f7f\">180</span></a>\n",
       "<span style=\"color: #7fbfbf; text-decoration-color: #7fbfbf\">         </span>         <span style=\"color: #000000; text-decoration-color: #000000\">jet_pt_resolution_up                                                               </span><span style=\"color: #7f7f7f; text-decoration-color: #7f7f7f\">              </span>\n",
       "</pre>\n"
      ],
      "text/plain": [
       "\u001b[2;36m        \u001b[0m\u001b[2;36m \u001b[0m\u001b[33mWARNING \u001b[0m \u001b[39mNonDiffAnalysis:: No events left in CMS_WORKSHOP for ttbar_had with variation     \u001b[0m\u001b[39m \u001b[0m\u001b]8;id=22567;file:///Users/moaly/Work/iris-hep/integration-challenge/cms/analysis/nondiff.py\u001b\\\u001b[2mnondiff.py\u001b[0m\u001b]8;;\u001b\\\u001b[2m:\u001b[0m\u001b]8;id=805058;file:///Users/moaly/Work/iris-hep/integration-challenge/cms/analysis/nondiff.py#180\u001b\\\u001b[2m180\u001b[0m\u001b]8;;\u001b\\\n",
       "\u001b[2;36m         \u001b[0m         \u001b[39mjet_pt_resolution_up                                                              \u001b[0m\u001b[39m \u001b[0m\u001b[2m              \u001b[0m\n"
      ]
     },
     "metadata": {},
     "output_type": "display_data"
    },
    {
     "data": {
      "text/html": [
       "<pre style=\"white-space:pre;overflow-x:auto;line-height:normal;font-family:Menlo,'DejaVu Sans Mono',consolas,'Courier New',monospace\"><span style=\"color: #7fbfbf; text-decoration-color: #7fbfbf\">         </span><span style=\"color: #000080; text-decoration-color: #000080\">INFO    </span> <span style=\"color: #000000; text-decoration-color: #000000\">Applying selection for CMS_WORKSHOP in ttbar_had with variation                    </span><a href=\"file:///Users/moaly/Work/iris-hep/integration-challenge/cms/analysis/nondiff.py\" target=\"_blank\"><span style=\"color: #7f7f7f; text-decoration-color: #7f7f7f\">nondiff.py</span></a><span style=\"color: #7f7f7f; text-decoration-color: #7f7f7f\">:</span><a href=\"file:///Users/moaly/Work/iris-hep/integration-challenge/cms/analysis/nondiff.py#154\" target=\"_blank\"><span style=\"color: #7f7f7f; text-decoration-color: #7f7f7f\">154</span></a>\n",
       "<span style=\"color: #7fbfbf; text-decoration-color: #7fbfbf\">         </span>         <span style=\"color: #000000; text-decoration-color: #000000\">jet_pt_resolution_down                                                             </span><span style=\"color: #7f7f7f; text-decoration-color: #7f7f7f\">              </span>\n",
       "</pre>\n"
      ],
      "text/plain": [
       "\u001b[2;36m        \u001b[0m\u001b[2;36m \u001b[0m\u001b[34mINFO    \u001b[0m \u001b[39mApplying selection for CMS_WORKSHOP in ttbar_had with variation                   \u001b[0m\u001b[39m \u001b[0m\u001b]8;id=506554;file:///Users/moaly/Work/iris-hep/integration-challenge/cms/analysis/nondiff.py\u001b\\\u001b[2mnondiff.py\u001b[0m\u001b]8;;\u001b\\\u001b[2m:\u001b[0m\u001b]8;id=262662;file:///Users/moaly/Work/iris-hep/integration-challenge/cms/analysis/nondiff.py#154\u001b\\\u001b[2m154\u001b[0m\u001b]8;;\u001b\\\n",
       "\u001b[2;36m         \u001b[0m         \u001b[39mjet_pt_resolution_down                                                            \u001b[0m\u001b[39m \u001b[0m\u001b[2m              \u001b[0m\n"
      ]
     },
     "metadata": {},
     "output_type": "display_data"
    },
    {
     "data": {
      "text/html": [
       "<pre style=\"white-space:pre;overflow-x:auto;line-height:normal;font-family:Menlo,'DejaVu Sans Mono',consolas,'Courier New',monospace\"><span style=\"color: #7fbfbf; text-decoration-color: #7fbfbf\">         </span><span style=\"color: #808000; text-decoration-color: #808000\">WARNING </span> <span style=\"color: #000000; text-decoration-color: #000000\">NonDiffAnalysis:: No events left in CMS_WORKSHOP for ttbar_had with variation      </span><a href=\"file:///Users/moaly/Work/iris-hep/integration-challenge/cms/analysis/nondiff.py\" target=\"_blank\"><span style=\"color: #7f7f7f; text-decoration-color: #7f7f7f\">nondiff.py</span></a><span style=\"color: #7f7f7f; text-decoration-color: #7f7f7f\">:</span><a href=\"file:///Users/moaly/Work/iris-hep/integration-challenge/cms/analysis/nondiff.py#180\" target=\"_blank\"><span style=\"color: #7f7f7f; text-decoration-color: #7f7f7f\">180</span></a>\n",
       "<span style=\"color: #7fbfbf; text-decoration-color: #7fbfbf\">         </span>         <span style=\"color: #000000; text-decoration-color: #000000\">jet_pt_resolution_down                                                             </span><span style=\"color: #7f7f7f; text-decoration-color: #7f7f7f\">              </span>\n",
       "</pre>\n"
      ],
      "text/plain": [
       "\u001b[2;36m        \u001b[0m\u001b[2;36m \u001b[0m\u001b[33mWARNING \u001b[0m \u001b[39mNonDiffAnalysis:: No events left in CMS_WORKSHOP for ttbar_had with variation     \u001b[0m\u001b[39m \u001b[0m\u001b]8;id=402292;file:///Users/moaly/Work/iris-hep/integration-challenge/cms/analysis/nondiff.py\u001b\\\u001b[2mnondiff.py\u001b[0m\u001b]8;;\u001b\\\u001b[2m:\u001b[0m\u001b]8;id=138723;file:///Users/moaly/Work/iris-hep/integration-challenge/cms/analysis/nondiff.py#180\u001b\\\u001b[2m180\u001b[0m\u001b]8;;\u001b\\\n",
       "\u001b[2;36m         \u001b[0m         \u001b[39mjet_pt_resolution_down                                                            \u001b[0m\u001b[39m \u001b[0m\u001b[2m              \u001b[0m\n"
      ]
     },
     "metadata": {},
     "output_type": "display_data"
    },
    {
     "data": {
      "text/html": [
       "<pre style=\"white-space:pre;overflow-x:auto;line-height:normal;font-family:Menlo,'DejaVu Sans Mono',consolas,'Courier New',monospace\"><span style=\"color: #7fbfbf; text-decoration-color: #7fbfbf\">         </span><span style=\"color: #000080; text-decoration-color: #000080\">INFO    </span> <span style=\"color: #000000; text-decoration-color: #000000\">Applying selection for CMS_WORKSHOP in ttbar_had with variation jet_pt_scale_up    </span><a href=\"file:///Users/moaly/Work/iris-hep/integration-challenge/cms/analysis/nondiff.py\" target=\"_blank\"><span style=\"color: #7f7f7f; text-decoration-color: #7f7f7f\">nondiff.py</span></a><span style=\"color: #7f7f7f; text-decoration-color: #7f7f7f\">:</span><a href=\"file:///Users/moaly/Work/iris-hep/integration-challenge/cms/analysis/nondiff.py#154\" target=\"_blank\"><span style=\"color: #7f7f7f; text-decoration-color: #7f7f7f\">154</span></a>\n",
       "</pre>\n"
      ],
      "text/plain": [
       "\u001b[2;36m        \u001b[0m\u001b[2;36m \u001b[0m\u001b[34mINFO    \u001b[0m \u001b[39mApplying selection for CMS_WORKSHOP in ttbar_had with variation jet_pt_scale_up   \u001b[0m\u001b[39m \u001b[0m\u001b]8;id=916084;file:///Users/moaly/Work/iris-hep/integration-challenge/cms/analysis/nondiff.py\u001b\\\u001b[2mnondiff.py\u001b[0m\u001b]8;;\u001b\\\u001b[2m:\u001b[0m\u001b]8;id=86758;file:///Users/moaly/Work/iris-hep/integration-challenge/cms/analysis/nondiff.py#154\u001b\\\u001b[2m154\u001b[0m\u001b]8;;\u001b\\\n"
      ]
     },
     "metadata": {},
     "output_type": "display_data"
    },
    {
     "data": {
      "text/html": [
       "<pre style=\"white-space:pre;overflow-x:auto;line-height:normal;font-family:Menlo,'DejaVu Sans Mono',consolas,'Courier New',monospace\"><span style=\"color: #7fbfbf; text-decoration-color: #7fbfbf\">         </span><span style=\"color: #808000; text-decoration-color: #808000\">WARNING </span> <span style=\"color: #000000; text-decoration-color: #000000\">NonDiffAnalysis:: No events left in CMS_WORKSHOP for ttbar_had with variation      </span><a href=\"file:///Users/moaly/Work/iris-hep/integration-challenge/cms/analysis/nondiff.py\" target=\"_blank\"><span style=\"color: #7f7f7f; text-decoration-color: #7f7f7f\">nondiff.py</span></a><span style=\"color: #7f7f7f; text-decoration-color: #7f7f7f\">:</span><a href=\"file:///Users/moaly/Work/iris-hep/integration-challenge/cms/analysis/nondiff.py#180\" target=\"_blank\"><span style=\"color: #7f7f7f; text-decoration-color: #7f7f7f\">180</span></a>\n",
       "<span style=\"color: #7fbfbf; text-decoration-color: #7fbfbf\">         </span>         <span style=\"color: #000000; text-decoration-color: #000000\">jet_pt_scale_up                                                                    </span><span style=\"color: #7f7f7f; text-decoration-color: #7f7f7f\">              </span>\n",
       "</pre>\n"
      ],
      "text/plain": [
       "\u001b[2;36m        \u001b[0m\u001b[2;36m \u001b[0m\u001b[33mWARNING \u001b[0m \u001b[39mNonDiffAnalysis:: No events left in CMS_WORKSHOP for ttbar_had with variation     \u001b[0m\u001b[39m \u001b[0m\u001b]8;id=934011;file:///Users/moaly/Work/iris-hep/integration-challenge/cms/analysis/nondiff.py\u001b\\\u001b[2mnondiff.py\u001b[0m\u001b]8;;\u001b\\\u001b[2m:\u001b[0m\u001b]8;id=242644;file:///Users/moaly/Work/iris-hep/integration-challenge/cms/analysis/nondiff.py#180\u001b\\\u001b[2m180\u001b[0m\u001b]8;;\u001b\\\n",
       "\u001b[2;36m         \u001b[0m         \u001b[39mjet_pt_scale_up                                                                   \u001b[0m\u001b[39m \u001b[0m\u001b[2m              \u001b[0m\n"
      ]
     },
     "metadata": {},
     "output_type": "display_data"
    },
    {
     "data": {
      "text/html": [
       "<pre style=\"white-space:pre;overflow-x:auto;line-height:normal;font-family:Menlo,'DejaVu Sans Mono',consolas,'Courier New',monospace\"><span style=\"color: #7fbfbf; text-decoration-color: #7fbfbf\">         </span><span style=\"color: #000080; text-decoration-color: #000080\">INFO    </span> <span style=\"color: #000000; text-decoration-color: #000000\">Applying selection for CMS_WORKSHOP in ttbar_had with variation jet_pt_scale_down  </span><a href=\"file:///Users/moaly/Work/iris-hep/integration-challenge/cms/analysis/nondiff.py\" target=\"_blank\"><span style=\"color: #7f7f7f; text-decoration-color: #7f7f7f\">nondiff.py</span></a><span style=\"color: #7f7f7f; text-decoration-color: #7f7f7f\">:</span><a href=\"file:///Users/moaly/Work/iris-hep/integration-challenge/cms/analysis/nondiff.py#154\" target=\"_blank\"><span style=\"color: #7f7f7f; text-decoration-color: #7f7f7f\">154</span></a>\n",
       "</pre>\n"
      ],
      "text/plain": [
       "\u001b[2;36m        \u001b[0m\u001b[2;36m \u001b[0m\u001b[34mINFO    \u001b[0m \u001b[39mApplying selection for CMS_WORKSHOP in ttbar_had with variation jet_pt_scale_down \u001b[0m\u001b[39m \u001b[0m\u001b]8;id=695900;file:///Users/moaly/Work/iris-hep/integration-challenge/cms/analysis/nondiff.py\u001b\\\u001b[2mnondiff.py\u001b[0m\u001b]8;;\u001b\\\u001b[2m:\u001b[0m\u001b]8;id=316595;file:///Users/moaly/Work/iris-hep/integration-challenge/cms/analysis/nondiff.py#154\u001b\\\u001b[2m154\u001b[0m\u001b]8;;\u001b\\\n"
      ]
     },
     "metadata": {},
     "output_type": "display_data"
    },
    {
     "data": {
      "text/html": [
       "<pre style=\"white-space:pre;overflow-x:auto;line-height:normal;font-family:Menlo,'DejaVu Sans Mono',consolas,'Courier New',monospace\"><span style=\"color: #7fbfbf; text-decoration-color: #7fbfbf\">         </span><span style=\"color: #808000; text-decoration-color: #808000\">WARNING </span> <span style=\"color: #000000; text-decoration-color: #000000\">NonDiffAnalysis:: No events left in CMS_WORKSHOP for ttbar_had with variation      </span><a href=\"file:///Users/moaly/Work/iris-hep/integration-challenge/cms/analysis/nondiff.py\" target=\"_blank\"><span style=\"color: #7f7f7f; text-decoration-color: #7f7f7f\">nondiff.py</span></a><span style=\"color: #7f7f7f; text-decoration-color: #7f7f7f\">:</span><a href=\"file:///Users/moaly/Work/iris-hep/integration-challenge/cms/analysis/nondiff.py#180\" target=\"_blank\"><span style=\"color: #7f7f7f; text-decoration-color: #7f7f7f\">180</span></a>\n",
       "<span style=\"color: #7fbfbf; text-decoration-color: #7fbfbf\">         </span>         <span style=\"color: #000000; text-decoration-color: #000000\">jet_pt_scale_down                                                                  </span><span style=\"color: #7f7f7f; text-decoration-color: #7f7f7f\">              </span>\n",
       "</pre>\n"
      ],
      "text/plain": [
       "\u001b[2;36m        \u001b[0m\u001b[2;36m \u001b[0m\u001b[33mWARNING \u001b[0m \u001b[39mNonDiffAnalysis:: No events left in CMS_WORKSHOP for ttbar_had with variation     \u001b[0m\u001b[39m \u001b[0m\u001b]8;id=729008;file:///Users/moaly/Work/iris-hep/integration-challenge/cms/analysis/nondiff.py\u001b\\\u001b[2mnondiff.py\u001b[0m\u001b]8;;\u001b\\\u001b[2m:\u001b[0m\u001b]8;id=330166;file:///Users/moaly/Work/iris-hep/integration-challenge/cms/analysis/nondiff.py#180\u001b\\\u001b[2m180\u001b[0m\u001b]8;;\u001b\\\n",
       "\u001b[2;36m         \u001b[0m         \u001b[39mjet_pt_scale_down                                                                 \u001b[0m\u001b[39m \u001b[0m\u001b[2m              \u001b[0m\n"
      ]
     },
     "metadata": {},
     "output_type": "display_data"
    },
    {
     "data": {
      "text/html": [
       "<pre style=\"white-space:pre;overflow-x:auto;line-height:normal;font-family:Menlo,'DejaVu Sans Mono',consolas,'Courier New',monospace\"><span style=\"color: #7fbfbf; text-decoration-color: #7fbfbf\">         </span><span style=\"color: #000080; text-decoration-color: #000080\">INFO    </span> <span style=\"color: #000000; text-decoration-color: #000000\">Applying selection for CMS_WORKSHOP in ttbar_had with variation pu_weight_up       </span><a href=\"file:///Users/moaly/Work/iris-hep/integration-challenge/cms/analysis/nondiff.py\" target=\"_blank\"><span style=\"color: #7f7f7f; text-decoration-color: #7f7f7f\">nondiff.py</span></a><span style=\"color: #7f7f7f; text-decoration-color: #7f7f7f\">:</span><a href=\"file:///Users/moaly/Work/iris-hep/integration-challenge/cms/analysis/nondiff.py#154\" target=\"_blank\"><span style=\"color: #7f7f7f; text-decoration-color: #7f7f7f\">154</span></a>\n",
       "</pre>\n"
      ],
      "text/plain": [
       "\u001b[2;36m        \u001b[0m\u001b[2;36m \u001b[0m\u001b[34mINFO    \u001b[0m \u001b[39mApplying selection for CMS_WORKSHOP in ttbar_had with variation pu_weight_up      \u001b[0m\u001b[39m \u001b[0m\u001b]8;id=443871;file:///Users/moaly/Work/iris-hep/integration-challenge/cms/analysis/nondiff.py\u001b\\\u001b[2mnondiff.py\u001b[0m\u001b]8;;\u001b\\\u001b[2m:\u001b[0m\u001b]8;id=110129;file:///Users/moaly/Work/iris-hep/integration-challenge/cms/analysis/nondiff.py#154\u001b\\\u001b[2m154\u001b[0m\u001b]8;;\u001b\\\n"
      ]
     },
     "metadata": {},
     "output_type": "display_data"
    },
    {
     "data": {
      "text/html": [
       "<pre style=\"white-space:pre;overflow-x:auto;line-height:normal;font-family:Menlo,'DejaVu Sans Mono',consolas,'Courier New',monospace\"><span style=\"color: #7fbfbf; text-decoration-color: #7fbfbf\">         </span><span style=\"color: #808000; text-decoration-color: #808000\">WARNING </span> <span style=\"color: #000000; text-decoration-color: #000000\">NonDiffAnalysis:: No events left in CMS_WORKSHOP for ttbar_had with variation      </span><a href=\"file:///Users/moaly/Work/iris-hep/integration-challenge/cms/analysis/nondiff.py\" target=\"_blank\"><span style=\"color: #7f7f7f; text-decoration-color: #7f7f7f\">nondiff.py</span></a><span style=\"color: #7f7f7f; text-decoration-color: #7f7f7f\">:</span><a href=\"file:///Users/moaly/Work/iris-hep/integration-challenge/cms/analysis/nondiff.py#180\" target=\"_blank\"><span style=\"color: #7f7f7f; text-decoration-color: #7f7f7f\">180</span></a>\n",
       "<span style=\"color: #7fbfbf; text-decoration-color: #7fbfbf\">         </span>         <span style=\"color: #000000; text-decoration-color: #000000\">pu_weight_up                                                                       </span><span style=\"color: #7f7f7f; text-decoration-color: #7f7f7f\">              </span>\n",
       "</pre>\n"
      ],
      "text/plain": [
       "\u001b[2;36m        \u001b[0m\u001b[2;36m \u001b[0m\u001b[33mWARNING \u001b[0m \u001b[39mNonDiffAnalysis:: No events left in CMS_WORKSHOP for ttbar_had with variation     \u001b[0m\u001b[39m \u001b[0m\u001b]8;id=924588;file:///Users/moaly/Work/iris-hep/integration-challenge/cms/analysis/nondiff.py\u001b\\\u001b[2mnondiff.py\u001b[0m\u001b]8;;\u001b\\\u001b[2m:\u001b[0m\u001b]8;id=690701;file:///Users/moaly/Work/iris-hep/integration-challenge/cms/analysis/nondiff.py#180\u001b\\\u001b[2m180\u001b[0m\u001b]8;;\u001b\\\n",
       "\u001b[2;36m         \u001b[0m         \u001b[39mpu_weight_up                                                                      \u001b[0m\u001b[39m \u001b[0m\u001b[2m              \u001b[0m\n"
      ]
     },
     "metadata": {},
     "output_type": "display_data"
    },
    {
     "data": {
      "text/html": [
       "<pre style=\"white-space:pre;overflow-x:auto;line-height:normal;font-family:Menlo,'DejaVu Sans Mono',consolas,'Courier New',monospace\"><span style=\"color: #7fbfbf; text-decoration-color: #7fbfbf\">         </span><span style=\"color: #000080; text-decoration-color: #000080\">INFO    </span> <span style=\"color: #000000; text-decoration-color: #000000\">Applying selection for CMS_WORKSHOP in ttbar_had with variation pu_weight_down     </span><a href=\"file:///Users/moaly/Work/iris-hep/integration-challenge/cms/analysis/nondiff.py\" target=\"_blank\"><span style=\"color: #7f7f7f; text-decoration-color: #7f7f7f\">nondiff.py</span></a><span style=\"color: #7f7f7f; text-decoration-color: #7f7f7f\">:</span><a href=\"file:///Users/moaly/Work/iris-hep/integration-challenge/cms/analysis/nondiff.py#154\" target=\"_blank\"><span style=\"color: #7f7f7f; text-decoration-color: #7f7f7f\">154</span></a>\n",
       "</pre>\n"
      ],
      "text/plain": [
       "\u001b[2;36m        \u001b[0m\u001b[2;36m \u001b[0m\u001b[34mINFO    \u001b[0m \u001b[39mApplying selection for CMS_WORKSHOP in ttbar_had with variation pu_weight_down    \u001b[0m\u001b[39m \u001b[0m\u001b]8;id=624573;file:///Users/moaly/Work/iris-hep/integration-challenge/cms/analysis/nondiff.py\u001b\\\u001b[2mnondiff.py\u001b[0m\u001b]8;;\u001b\\\u001b[2m:\u001b[0m\u001b]8;id=172175;file:///Users/moaly/Work/iris-hep/integration-challenge/cms/analysis/nondiff.py#154\u001b\\\u001b[2m154\u001b[0m\u001b]8;;\u001b\\\n"
      ]
     },
     "metadata": {},
     "output_type": "display_data"
    },
    {
     "data": {
      "text/html": [
       "<pre style=\"white-space:pre;overflow-x:auto;line-height:normal;font-family:Menlo,'DejaVu Sans Mono',consolas,'Courier New',monospace\"><span style=\"color: #7fbfbf; text-decoration-color: #7fbfbf\">         </span><span style=\"color: #808000; text-decoration-color: #808000\">WARNING </span> <span style=\"color: #000000; text-decoration-color: #000000\">NonDiffAnalysis:: No events left in CMS_WORKSHOP for ttbar_had with variation      </span><a href=\"file:///Users/moaly/Work/iris-hep/integration-challenge/cms/analysis/nondiff.py\" target=\"_blank\"><span style=\"color: #7f7f7f; text-decoration-color: #7f7f7f\">nondiff.py</span></a><span style=\"color: #7f7f7f; text-decoration-color: #7f7f7f\">:</span><a href=\"file:///Users/moaly/Work/iris-hep/integration-challenge/cms/analysis/nondiff.py#180\" target=\"_blank\"><span style=\"color: #7f7f7f; text-decoration-color: #7f7f7f\">180</span></a>\n",
       "<span style=\"color: #7fbfbf; text-decoration-color: #7fbfbf\">         </span>         <span style=\"color: #000000; text-decoration-color: #000000\">pu_weight_down                                                                     </span><span style=\"color: #7f7f7f; text-decoration-color: #7f7f7f\">              </span>\n",
       "</pre>\n"
      ],
      "text/plain": [
       "\u001b[2;36m        \u001b[0m\u001b[2;36m \u001b[0m\u001b[33mWARNING \u001b[0m \u001b[39mNonDiffAnalysis:: No events left in CMS_WORKSHOP for ttbar_had with variation     \u001b[0m\u001b[39m \u001b[0m\u001b]8;id=624120;file:///Users/moaly/Work/iris-hep/integration-challenge/cms/analysis/nondiff.py\u001b\\\u001b[2mnondiff.py\u001b[0m\u001b]8;;\u001b\\\u001b[2m:\u001b[0m\u001b]8;id=706908;file:///Users/moaly/Work/iris-hep/integration-challenge/cms/analysis/nondiff.py#180\u001b\\\u001b[2m180\u001b[0m\u001b]8;;\u001b\\\n",
       "\u001b[2;36m         \u001b[0m         \u001b[39mpu_weight_down                                                                    \u001b[0m\u001b[39m \u001b[0m\u001b[2m              \u001b[0m\n"
      ]
     },
     "metadata": {},
     "output_type": "display_data"
    },
    {
     "data": {
      "text/html": [
       "<pre style=\"white-space:pre;overflow-x:auto;line-height:normal;font-family:Menlo,'DejaVu Sans Mono',consolas,'Courier New',monospace\"><span style=\"color: #7fbfbf; text-decoration-color: #7fbfbf\">         </span><span style=\"color: #000080; text-decoration-color: #000080\">INFO    </span> <span style=\"color: #000000; text-decoration-color: #000000\">Applying selection for CMS_WORKSHOP in ttbar_had with variation muon_id_sf_up      </span><a href=\"file:///Users/moaly/Work/iris-hep/integration-challenge/cms/analysis/nondiff.py\" target=\"_blank\"><span style=\"color: #7f7f7f; text-decoration-color: #7f7f7f\">nondiff.py</span></a><span style=\"color: #7f7f7f; text-decoration-color: #7f7f7f\">:</span><a href=\"file:///Users/moaly/Work/iris-hep/integration-challenge/cms/analysis/nondiff.py#154\" target=\"_blank\"><span style=\"color: #7f7f7f; text-decoration-color: #7f7f7f\">154</span></a>\n",
       "</pre>\n"
      ],
      "text/plain": [
       "\u001b[2;36m        \u001b[0m\u001b[2;36m \u001b[0m\u001b[34mINFO    \u001b[0m \u001b[39mApplying selection for CMS_WORKSHOP in ttbar_had with variation muon_id_sf_up     \u001b[0m\u001b[39m \u001b[0m\u001b]8;id=668451;file:///Users/moaly/Work/iris-hep/integration-challenge/cms/analysis/nondiff.py\u001b\\\u001b[2mnondiff.py\u001b[0m\u001b]8;;\u001b\\\u001b[2m:\u001b[0m\u001b]8;id=148917;file:///Users/moaly/Work/iris-hep/integration-challenge/cms/analysis/nondiff.py#154\u001b\\\u001b[2m154\u001b[0m\u001b]8;;\u001b\\\n"
      ]
     },
     "metadata": {},
     "output_type": "display_data"
    },
    {
     "data": {
      "text/html": [
       "<pre style=\"white-space:pre;overflow-x:auto;line-height:normal;font-family:Menlo,'DejaVu Sans Mono',consolas,'Courier New',monospace\"><span style=\"color: #7fbfbf; text-decoration-color: #7fbfbf\">         </span><span style=\"color: #808000; text-decoration-color: #808000\">WARNING </span> <span style=\"color: #000000; text-decoration-color: #000000\">NonDiffAnalysis:: No events left in CMS_WORKSHOP for ttbar_had with variation      </span><a href=\"file:///Users/moaly/Work/iris-hep/integration-challenge/cms/analysis/nondiff.py\" target=\"_blank\"><span style=\"color: #7f7f7f; text-decoration-color: #7f7f7f\">nondiff.py</span></a><span style=\"color: #7f7f7f; text-decoration-color: #7f7f7f\">:</span><a href=\"file:///Users/moaly/Work/iris-hep/integration-challenge/cms/analysis/nondiff.py#180\" target=\"_blank\"><span style=\"color: #7f7f7f; text-decoration-color: #7f7f7f\">180</span></a>\n",
       "<span style=\"color: #7fbfbf; text-decoration-color: #7fbfbf\">         </span>         <span style=\"color: #000000; text-decoration-color: #000000\">muon_id_sf_up                                                                      </span><span style=\"color: #7f7f7f; text-decoration-color: #7f7f7f\">              </span>\n",
       "</pre>\n"
      ],
      "text/plain": [
       "\u001b[2;36m        \u001b[0m\u001b[2;36m \u001b[0m\u001b[33mWARNING \u001b[0m \u001b[39mNonDiffAnalysis:: No events left in CMS_WORKSHOP for ttbar_had with variation     \u001b[0m\u001b[39m \u001b[0m\u001b]8;id=832559;file:///Users/moaly/Work/iris-hep/integration-challenge/cms/analysis/nondiff.py\u001b\\\u001b[2mnondiff.py\u001b[0m\u001b]8;;\u001b\\\u001b[2m:\u001b[0m\u001b]8;id=293849;file:///Users/moaly/Work/iris-hep/integration-challenge/cms/analysis/nondiff.py#180\u001b\\\u001b[2m180\u001b[0m\u001b]8;;\u001b\\\n",
       "\u001b[2;36m         \u001b[0m         \u001b[39mmuon_id_sf_up                                                                     \u001b[0m\u001b[39m \u001b[0m\u001b[2m              \u001b[0m\n"
      ]
     },
     "metadata": {},
     "output_type": "display_data"
    },
    {
     "data": {
      "text/html": [
       "<pre style=\"white-space:pre;overflow-x:auto;line-height:normal;font-family:Menlo,'DejaVu Sans Mono',consolas,'Courier New',monospace\"><span style=\"color: #7fbfbf; text-decoration-color: #7fbfbf\">         </span><span style=\"color: #000080; text-decoration-color: #000080\">INFO    </span> <span style=\"color: #000000; text-decoration-color: #000000\">Applying selection for CMS_WORKSHOP in ttbar_had with variation muon_id_sf_down    </span><a href=\"file:///Users/moaly/Work/iris-hep/integration-challenge/cms/analysis/nondiff.py\" target=\"_blank\"><span style=\"color: #7f7f7f; text-decoration-color: #7f7f7f\">nondiff.py</span></a><span style=\"color: #7f7f7f; text-decoration-color: #7f7f7f\">:</span><a href=\"file:///Users/moaly/Work/iris-hep/integration-challenge/cms/analysis/nondiff.py#154\" target=\"_blank\"><span style=\"color: #7f7f7f; text-decoration-color: #7f7f7f\">154</span></a>\n",
       "</pre>\n"
      ],
      "text/plain": [
       "\u001b[2;36m        \u001b[0m\u001b[2;36m \u001b[0m\u001b[34mINFO    \u001b[0m \u001b[39mApplying selection for CMS_WORKSHOP in ttbar_had with variation muon_id_sf_down   \u001b[0m\u001b[39m \u001b[0m\u001b]8;id=872660;file:///Users/moaly/Work/iris-hep/integration-challenge/cms/analysis/nondiff.py\u001b\\\u001b[2mnondiff.py\u001b[0m\u001b]8;;\u001b\\\u001b[2m:\u001b[0m\u001b]8;id=109572;file:///Users/moaly/Work/iris-hep/integration-challenge/cms/analysis/nondiff.py#154\u001b\\\u001b[2m154\u001b[0m\u001b]8;;\u001b\\\n"
      ]
     },
     "metadata": {},
     "output_type": "display_data"
    },
    {
     "data": {
      "text/html": [
       "<pre style=\"white-space:pre;overflow-x:auto;line-height:normal;font-family:Menlo,'DejaVu Sans Mono',consolas,'Courier New',monospace\"><span style=\"color: #7fbfbf; text-decoration-color: #7fbfbf\">         </span><span style=\"color: #808000; text-decoration-color: #808000\">WARNING </span> <span style=\"color: #000000; text-decoration-color: #000000\">NonDiffAnalysis:: No events left in CMS_WORKSHOP for ttbar_had with variation      </span><a href=\"file:///Users/moaly/Work/iris-hep/integration-challenge/cms/analysis/nondiff.py\" target=\"_blank\"><span style=\"color: #7f7f7f; text-decoration-color: #7f7f7f\">nondiff.py</span></a><span style=\"color: #7f7f7f; text-decoration-color: #7f7f7f\">:</span><a href=\"file:///Users/moaly/Work/iris-hep/integration-challenge/cms/analysis/nondiff.py#180\" target=\"_blank\"><span style=\"color: #7f7f7f; text-decoration-color: #7f7f7f\">180</span></a>\n",
       "<span style=\"color: #7fbfbf; text-decoration-color: #7fbfbf\">         </span>         <span style=\"color: #000000; text-decoration-color: #000000\">muon_id_sf_down                                                                    </span><span style=\"color: #7f7f7f; text-decoration-color: #7f7f7f\">              </span>\n",
       "</pre>\n"
      ],
      "text/plain": [
       "\u001b[2;36m        \u001b[0m\u001b[2;36m \u001b[0m\u001b[33mWARNING \u001b[0m \u001b[39mNonDiffAnalysis:: No events left in CMS_WORKSHOP for ttbar_had with variation     \u001b[0m\u001b[39m \u001b[0m\u001b]8;id=372888;file:///Users/moaly/Work/iris-hep/integration-challenge/cms/analysis/nondiff.py\u001b\\\u001b[2mnondiff.py\u001b[0m\u001b]8;;\u001b\\\u001b[2m:\u001b[0m\u001b]8;id=890493;file:///Users/moaly/Work/iris-hep/integration-challenge/cms/analysis/nondiff.py#180\u001b\\\u001b[2m180\u001b[0m\u001b]8;;\u001b\\\n",
       "\u001b[2;36m         \u001b[0m         \u001b[39mmuon_id_sf_down                                                                   \u001b[0m\u001b[39m \u001b[0m\u001b[2m              \u001b[0m\n"
      ]
     },
     "metadata": {},
     "output_type": "display_data"
    },
    {
     "name": "stdout",
     "output_type": "stream",
     "text": [
      "📊 Processing dataset: ttbar_semilep__nominal\n",
      "   • Processing 96683 events with metadata: ttbar_semilep\n"
     ]
    },
    {
     "data": {
      "text/html": [
       "<pre style=\"white-space:pre;overflow-x:auto;line-height:normal;font-family:Menlo,'DejaVu Sans Mono',consolas,'Courier New',monospace\"><span style=\"color: #7fbfbf; text-decoration-color: #7fbfbf\">         </span><span style=\"color: #000080; text-decoration-color: #000080\">INFO    </span> <span style=\"color: #000000; text-decoration-color: #000000\">Applying selection for CMS_WORKSHOP in ttbar_semilep with variation nominal        </span><a href=\"file:///Users/moaly/Work/iris-hep/integration-challenge/cms/analysis/nondiff.py\" target=\"_blank\"><span style=\"color: #7f7f7f; text-decoration-color: #7f7f7f\">nondiff.py</span></a><span style=\"color: #7f7f7f; text-decoration-color: #7f7f7f\">:</span><a href=\"file:///Users/moaly/Work/iris-hep/integration-challenge/cms/analysis/nondiff.py#154\" target=\"_blank\"><span style=\"color: #7f7f7f; text-decoration-color: #7f7f7f\">154</span></a>\n",
       "</pre>\n"
      ],
      "text/plain": [
       "\u001b[2;36m        \u001b[0m\u001b[2;36m \u001b[0m\u001b[34mINFO    \u001b[0m \u001b[39mApplying selection for CMS_WORKSHOP in ttbar_semilep with variation nominal       \u001b[0m\u001b[39m \u001b[0m\u001b]8;id=173316;file:///Users/moaly/Work/iris-hep/integration-challenge/cms/analysis/nondiff.py\u001b\\\u001b[2mnondiff.py\u001b[0m\u001b]8;;\u001b\\\u001b[2m:\u001b[0m\u001b]8;id=891558;file:///Users/moaly/Work/iris-hep/integration-challenge/cms/analysis/nondiff.py#154\u001b\\\u001b[2m154\u001b[0m\u001b]8;;\u001b\\\n"
      ]
     },
     "metadata": {},
     "output_type": "display_data"
    },
    {
     "data": {
      "text/html": [
       "<pre style=\"white-space:pre;overflow-x:auto;line-height:normal;font-family:Menlo,'DejaVu Sans Mono',consolas,'Courier New',monospace\"><span style=\"color: #7fbfbf; text-decoration-color: #7fbfbf\">         </span><span style=\"color: #000080; text-decoration-color: #000080\">INFO    </span> <span style=\"color: #000000; text-decoration-color: #000000\">Number of weighted events in CMS_WORKSHOP: </span><span style=\"color: #008080; text-decoration-color: #008080; font-weight: bold\">2018.23</span><span style=\"color: #000000; text-decoration-color: #000000\">                                 </span><a href=\"file:///Users/moaly/Work/iris-hep/integration-challenge/cms/analysis/nondiff.py\" target=\"_blank\"><span style=\"color: #7f7f7f; text-decoration-color: #7f7f7f\">nondiff.py</span></a><span style=\"color: #7f7f7f; text-decoration-color: #7f7f7f\">:</span><a href=\"file:///Users/moaly/Work/iris-hep/integration-challenge/cms/analysis/nondiff.py#205\" target=\"_blank\"><span style=\"color: #7f7f7f; text-decoration-color: #7f7f7f\">205</span></a>\n",
       "</pre>\n"
      ],
      "text/plain": [
       "\u001b[2;36m        \u001b[0m\u001b[2;36m \u001b[0m\u001b[34mINFO    \u001b[0m \u001b[39mNumber of weighted events in CMS_WORKSHOP: \u001b[0m\u001b[1;36m2018.23\u001b[0m\u001b[39m                                \u001b[0m\u001b[39m \u001b[0m\u001b]8;id=285925;file:///Users/moaly/Work/iris-hep/integration-challenge/cms/analysis/nondiff.py\u001b\\\u001b[2mnondiff.py\u001b[0m\u001b]8;;\u001b\\\u001b[2m:\u001b[0m\u001b]8;id=738964;file:///Users/moaly/Work/iris-hep/integration-challenge/cms/analysis/nondiff.py#205\u001b\\\u001b[2m205\u001b[0m\u001b]8;;\u001b\\\n"
      ]
     },
     "metadata": {},
     "output_type": "display_data"
    },
    {
     "data": {
      "text/html": [
       "<pre style=\"white-space:pre;overflow-x:auto;line-height:normal;font-family:Menlo,'DejaVu Sans Mono',consolas,'Courier New',monospace\"><span style=\"color: #7fbfbf; text-decoration-color: #7fbfbf\">         </span><span style=\"color: #000080; text-decoration-color: #000080\">INFO    </span> <span style=\"color: #000000; text-decoration-color: #000000\">Number of raw events in CMS_WORKSHOP: </span><span style=\"color: #008080; text-decoration-color: #008080; font-weight: bold\">458</span><span style=\"color: #000000; text-decoration-color: #000000\">                                          </span><a href=\"file:///Users/moaly/Work/iris-hep/integration-challenge/cms/analysis/nondiff.py\" target=\"_blank\"><span style=\"color: #7f7f7f; text-decoration-color: #7f7f7f\">nondiff.py</span></a><span style=\"color: #7f7f7f; text-decoration-color: #7f7f7f\">:</span><a href=\"file:///Users/moaly/Work/iris-hep/integration-challenge/cms/analysis/nondiff.py#208\" target=\"_blank\"><span style=\"color: #7f7f7f; text-decoration-color: #7f7f7f\">208</span></a>\n",
       "</pre>\n"
      ],
      "text/plain": [
       "\u001b[2;36m        \u001b[0m\u001b[2;36m \u001b[0m\u001b[34mINFO    \u001b[0m \u001b[39mNumber of raw events in CMS_WORKSHOP: \u001b[0m\u001b[1;36m458\u001b[0m\u001b[39m                                         \u001b[0m\u001b[39m \u001b[0m\u001b]8;id=972589;file:///Users/moaly/Work/iris-hep/integration-challenge/cms/analysis/nondiff.py\u001b\\\u001b[2mnondiff.py\u001b[0m\u001b]8;;\u001b\\\u001b[2m:\u001b[0m\u001b]8;id=52873;file:///Users/moaly/Work/iris-hep/integration-challenge/cms/analysis/nondiff.py#208\u001b\\\u001b[2m208\u001b[0m\u001b]8;;\u001b\\\n"
      ]
     },
     "metadata": {},
     "output_type": "display_data"
    },
    {
     "data": {
      "text/html": [
       "<pre style=\"white-space:pre;overflow-x:auto;line-height:normal;font-family:Menlo,'DejaVu Sans Mono',consolas,'Courier New',monospace\"><span style=\"color: #7fbfbf; text-decoration-color: #7fbfbf\">         </span><span style=\"color: #000080; text-decoration-color: #000080\">INFO    </span> <span style=\"color: #000000; text-decoration-color: #000000\">Computing observable workshop_mtt                                                  </span><a href=\"file:///Users/moaly/Work/iris-hep/integration-challenge/cms/analysis/nondiff.py\" target=\"_blank\"><span style=\"color: #7f7f7f; text-decoration-color: #7f7f7f\">nondiff.py</span></a><span style=\"color: #7f7f7f; text-decoration-color: #7f7f7f\">:</span><a href=\"file:///Users/moaly/Work/iris-hep/integration-challenge/cms/analysis/nondiff.py#213\" target=\"_blank\"><span style=\"color: #7f7f7f; text-decoration-color: #7f7f7f\">213</span></a>\n",
       "</pre>\n"
      ],
      "text/plain": [
       "\u001b[2;36m        \u001b[0m\u001b[2;36m \u001b[0m\u001b[34mINFO    \u001b[0m \u001b[39mComputing observable workshop_mtt                                                 \u001b[0m\u001b[39m \u001b[0m\u001b]8;id=259668;file:///Users/moaly/Work/iris-hep/integration-challenge/cms/analysis/nondiff.py\u001b\\\u001b[2mnondiff.py\u001b[0m\u001b]8;;\u001b\\\u001b[2m:\u001b[0m\u001b]8;id=576208;file:///Users/moaly/Work/iris-hep/integration-challenge/cms/analysis/nondiff.py#213\u001b\\\u001b[2m213\u001b[0m\u001b]8;;\u001b\\\n"
      ]
     },
     "metadata": {},
     "output_type": "display_data"
    },
    {
     "data": {
      "text/html": [
       "<pre style=\"white-space:pre;overflow-x:auto;line-height:normal;font-family:Menlo,'DejaVu Sans Mono',consolas,'Courier New',monospace\"><span style=\"color: #7fbfbf; text-decoration-color: #7fbfbf\">         </span><span style=\"color: #000080; text-decoration-color: #000080\">INFO    </span> <span style=\"color: #000000; text-decoration-color: #000000\">Applying selection for CMS_WORKSHOP in ttbar_semilep with variation                </span><a href=\"file:///Users/moaly/Work/iris-hep/integration-challenge/cms/analysis/nondiff.py\" target=\"_blank\"><span style=\"color: #7f7f7f; text-decoration-color: #7f7f7f\">nondiff.py</span></a><span style=\"color: #7f7f7f; text-decoration-color: #7f7f7f\">:</span><a href=\"file:///Users/moaly/Work/iris-hep/integration-challenge/cms/analysis/nondiff.py#154\" target=\"_blank\"><span style=\"color: #7f7f7f; text-decoration-color: #7f7f7f\">154</span></a>\n",
       "<span style=\"color: #7fbfbf; text-decoration-color: #7fbfbf\">         </span>         <span style=\"color: #000000; text-decoration-color: #000000\">jet_pt_resolution_up                                                               </span><span style=\"color: #7f7f7f; text-decoration-color: #7f7f7f\">              </span>\n",
       "</pre>\n"
      ],
      "text/plain": [
       "\u001b[2;36m        \u001b[0m\u001b[2;36m \u001b[0m\u001b[34mINFO    \u001b[0m \u001b[39mApplying selection for CMS_WORKSHOP in ttbar_semilep with variation               \u001b[0m\u001b[39m \u001b[0m\u001b]8;id=453203;file:///Users/moaly/Work/iris-hep/integration-challenge/cms/analysis/nondiff.py\u001b\\\u001b[2mnondiff.py\u001b[0m\u001b]8;;\u001b\\\u001b[2m:\u001b[0m\u001b]8;id=996840;file:///Users/moaly/Work/iris-hep/integration-challenge/cms/analysis/nondiff.py#154\u001b\\\u001b[2m154\u001b[0m\u001b]8;;\u001b\\\n",
       "\u001b[2;36m         \u001b[0m         \u001b[39mjet_pt_resolution_up                                                              \u001b[0m\u001b[39m \u001b[0m\u001b[2m              \u001b[0m\n"
      ]
     },
     "metadata": {},
     "output_type": "display_data"
    },
    {
     "data": {
      "text/html": [
       "<pre style=\"white-space:pre;overflow-x:auto;line-height:normal;font-family:Menlo,'DejaVu Sans Mono',consolas,'Courier New',monospace\"><span style=\"color: #7fbfbf; text-decoration-color: #7fbfbf\">         </span><span style=\"color: #000080; text-decoration-color: #000080\">INFO    </span> <span style=\"color: #000000; text-decoration-color: #000000\">Number of weighted events in CMS_WORKSHOP: </span><span style=\"color: #008080; text-decoration-color: #008080; font-weight: bold\">2018.23</span><span style=\"color: #000000; text-decoration-color: #000000\">                                 </span><a href=\"file:///Users/moaly/Work/iris-hep/integration-challenge/cms/analysis/nondiff.py\" target=\"_blank\"><span style=\"color: #7f7f7f; text-decoration-color: #7f7f7f\">nondiff.py</span></a><span style=\"color: #7f7f7f; text-decoration-color: #7f7f7f\">:</span><a href=\"file:///Users/moaly/Work/iris-hep/integration-challenge/cms/analysis/nondiff.py#205\" target=\"_blank\"><span style=\"color: #7f7f7f; text-decoration-color: #7f7f7f\">205</span></a>\n",
       "</pre>\n"
      ],
      "text/plain": [
       "\u001b[2;36m        \u001b[0m\u001b[2;36m \u001b[0m\u001b[34mINFO    \u001b[0m \u001b[39mNumber of weighted events in CMS_WORKSHOP: \u001b[0m\u001b[1;36m2018.23\u001b[0m\u001b[39m                                \u001b[0m\u001b[39m \u001b[0m\u001b]8;id=595949;file:///Users/moaly/Work/iris-hep/integration-challenge/cms/analysis/nondiff.py\u001b\\\u001b[2mnondiff.py\u001b[0m\u001b]8;;\u001b\\\u001b[2m:\u001b[0m\u001b]8;id=457570;file:///Users/moaly/Work/iris-hep/integration-challenge/cms/analysis/nondiff.py#205\u001b\\\u001b[2m205\u001b[0m\u001b]8;;\u001b\\\n"
      ]
     },
     "metadata": {},
     "output_type": "display_data"
    },
    {
     "data": {
      "text/html": [
       "<pre style=\"white-space:pre;overflow-x:auto;line-height:normal;font-family:Menlo,'DejaVu Sans Mono',consolas,'Courier New',monospace\"><span style=\"color: #7fbfbf; text-decoration-color: #7fbfbf\">         </span><span style=\"color: #000080; text-decoration-color: #000080\">INFO    </span> <span style=\"color: #000000; text-decoration-color: #000000\">Number of raw events in CMS_WORKSHOP: </span><span style=\"color: #008080; text-decoration-color: #008080; font-weight: bold\">458</span><span style=\"color: #000000; text-decoration-color: #000000\">                                          </span><a href=\"file:///Users/moaly/Work/iris-hep/integration-challenge/cms/analysis/nondiff.py\" target=\"_blank\"><span style=\"color: #7f7f7f; text-decoration-color: #7f7f7f\">nondiff.py</span></a><span style=\"color: #7f7f7f; text-decoration-color: #7f7f7f\">:</span><a href=\"file:///Users/moaly/Work/iris-hep/integration-challenge/cms/analysis/nondiff.py#208\" target=\"_blank\"><span style=\"color: #7f7f7f; text-decoration-color: #7f7f7f\">208</span></a>\n",
       "</pre>\n"
      ],
      "text/plain": [
       "\u001b[2;36m        \u001b[0m\u001b[2;36m \u001b[0m\u001b[34mINFO    \u001b[0m \u001b[39mNumber of raw events in CMS_WORKSHOP: \u001b[0m\u001b[1;36m458\u001b[0m\u001b[39m                                         \u001b[0m\u001b[39m \u001b[0m\u001b]8;id=890262;file:///Users/moaly/Work/iris-hep/integration-challenge/cms/analysis/nondiff.py\u001b\\\u001b[2mnondiff.py\u001b[0m\u001b]8;;\u001b\\\u001b[2m:\u001b[0m\u001b]8;id=756497;file:///Users/moaly/Work/iris-hep/integration-challenge/cms/analysis/nondiff.py#208\u001b\\\u001b[2m208\u001b[0m\u001b]8;;\u001b\\\n"
      ]
     },
     "metadata": {},
     "output_type": "display_data"
    },
    {
     "data": {
      "text/html": [
       "<pre style=\"white-space:pre;overflow-x:auto;line-height:normal;font-family:Menlo,'DejaVu Sans Mono',consolas,'Courier New',monospace\"><span style=\"color: #7fbfbf; text-decoration-color: #7fbfbf\">         </span><span style=\"color: #000080; text-decoration-color: #000080\">INFO    </span> <span style=\"color: #000000; text-decoration-color: #000000\">Computing observable workshop_mtt                                                  </span><a href=\"file:///Users/moaly/Work/iris-hep/integration-challenge/cms/analysis/nondiff.py\" target=\"_blank\"><span style=\"color: #7f7f7f; text-decoration-color: #7f7f7f\">nondiff.py</span></a><span style=\"color: #7f7f7f; text-decoration-color: #7f7f7f\">:</span><a href=\"file:///Users/moaly/Work/iris-hep/integration-challenge/cms/analysis/nondiff.py#213\" target=\"_blank\"><span style=\"color: #7f7f7f; text-decoration-color: #7f7f7f\">213</span></a>\n",
       "</pre>\n"
      ],
      "text/plain": [
       "\u001b[2;36m        \u001b[0m\u001b[2;36m \u001b[0m\u001b[34mINFO    \u001b[0m \u001b[39mComputing observable workshop_mtt                                                 \u001b[0m\u001b[39m \u001b[0m\u001b]8;id=205798;file:///Users/moaly/Work/iris-hep/integration-challenge/cms/analysis/nondiff.py\u001b\\\u001b[2mnondiff.py\u001b[0m\u001b]8;;\u001b\\\u001b[2m:\u001b[0m\u001b]8;id=657183;file:///Users/moaly/Work/iris-hep/integration-challenge/cms/analysis/nondiff.py#213\u001b\\\u001b[2m213\u001b[0m\u001b]8;;\u001b\\\n"
      ]
     },
     "metadata": {},
     "output_type": "display_data"
    },
    {
     "data": {
      "text/html": [
       "<pre style=\"white-space:pre;overflow-x:auto;line-height:normal;font-family:Menlo,'DejaVu Sans Mono',consolas,'Courier New',monospace\"><span style=\"color: #7fbfbf; text-decoration-color: #7fbfbf\">         </span><span style=\"color: #000080; text-decoration-color: #000080\">INFO    </span> <span style=\"color: #000000; text-decoration-color: #000000\">Applying selection for CMS_WORKSHOP in ttbar_semilep with variation                </span><a href=\"file:///Users/moaly/Work/iris-hep/integration-challenge/cms/analysis/nondiff.py\" target=\"_blank\"><span style=\"color: #7f7f7f; text-decoration-color: #7f7f7f\">nondiff.py</span></a><span style=\"color: #7f7f7f; text-decoration-color: #7f7f7f\">:</span><a href=\"file:///Users/moaly/Work/iris-hep/integration-challenge/cms/analysis/nondiff.py#154\" target=\"_blank\"><span style=\"color: #7f7f7f; text-decoration-color: #7f7f7f\">154</span></a>\n",
       "<span style=\"color: #7fbfbf; text-decoration-color: #7fbfbf\">         </span>         <span style=\"color: #000000; text-decoration-color: #000000\">jet_pt_resolution_down                                                             </span><span style=\"color: #7f7f7f; text-decoration-color: #7f7f7f\">              </span>\n",
       "</pre>\n"
      ],
      "text/plain": [
       "\u001b[2;36m        \u001b[0m\u001b[2;36m \u001b[0m\u001b[34mINFO    \u001b[0m \u001b[39mApplying selection for CMS_WORKSHOP in ttbar_semilep with variation               \u001b[0m\u001b[39m \u001b[0m\u001b]8;id=44856;file:///Users/moaly/Work/iris-hep/integration-challenge/cms/analysis/nondiff.py\u001b\\\u001b[2mnondiff.py\u001b[0m\u001b]8;;\u001b\\\u001b[2m:\u001b[0m\u001b]8;id=567945;file:///Users/moaly/Work/iris-hep/integration-challenge/cms/analysis/nondiff.py#154\u001b\\\u001b[2m154\u001b[0m\u001b]8;;\u001b\\\n",
       "\u001b[2;36m         \u001b[0m         \u001b[39mjet_pt_resolution_down                                                            \u001b[0m\u001b[39m \u001b[0m\u001b[2m              \u001b[0m\n"
      ]
     },
     "metadata": {},
     "output_type": "display_data"
    },
    {
     "data": {
      "text/html": [
       "<pre style=\"white-space:pre;overflow-x:auto;line-height:normal;font-family:Menlo,'DejaVu Sans Mono',consolas,'Courier New',monospace\"><span style=\"color: #7fbfbf; text-decoration-color: #7fbfbf\">         </span><span style=\"color: #000080; text-decoration-color: #000080\">INFO    </span> <span style=\"color: #000000; text-decoration-color: #000000\">Number of weighted events in CMS_WORKSHOP: </span><span style=\"color: #008080; text-decoration-color: #008080; font-weight: bold\">2018.23</span><span style=\"color: #000000; text-decoration-color: #000000\">                                 </span><a href=\"file:///Users/moaly/Work/iris-hep/integration-challenge/cms/analysis/nondiff.py\" target=\"_blank\"><span style=\"color: #7f7f7f; text-decoration-color: #7f7f7f\">nondiff.py</span></a><span style=\"color: #7f7f7f; text-decoration-color: #7f7f7f\">:</span><a href=\"file:///Users/moaly/Work/iris-hep/integration-challenge/cms/analysis/nondiff.py#205\" target=\"_blank\"><span style=\"color: #7f7f7f; text-decoration-color: #7f7f7f\">205</span></a>\n",
       "</pre>\n"
      ],
      "text/plain": [
       "\u001b[2;36m        \u001b[0m\u001b[2;36m \u001b[0m\u001b[34mINFO    \u001b[0m \u001b[39mNumber of weighted events in CMS_WORKSHOP: \u001b[0m\u001b[1;36m2018.23\u001b[0m\u001b[39m                                \u001b[0m\u001b[39m \u001b[0m\u001b]8;id=218090;file:///Users/moaly/Work/iris-hep/integration-challenge/cms/analysis/nondiff.py\u001b\\\u001b[2mnondiff.py\u001b[0m\u001b]8;;\u001b\\\u001b[2m:\u001b[0m\u001b]8;id=905303;file:///Users/moaly/Work/iris-hep/integration-challenge/cms/analysis/nondiff.py#205\u001b\\\u001b[2m205\u001b[0m\u001b]8;;\u001b\\\n"
      ]
     },
     "metadata": {},
     "output_type": "display_data"
    },
    {
     "data": {
      "text/html": [
       "<pre style=\"white-space:pre;overflow-x:auto;line-height:normal;font-family:Menlo,'DejaVu Sans Mono',consolas,'Courier New',monospace\"><span style=\"color: #7fbfbf; text-decoration-color: #7fbfbf\">         </span><span style=\"color: #000080; text-decoration-color: #000080\">INFO    </span> <span style=\"color: #000000; text-decoration-color: #000000\">Number of raw events in CMS_WORKSHOP: </span><span style=\"color: #008080; text-decoration-color: #008080; font-weight: bold\">458</span><span style=\"color: #000000; text-decoration-color: #000000\">                                          </span><a href=\"file:///Users/moaly/Work/iris-hep/integration-challenge/cms/analysis/nondiff.py\" target=\"_blank\"><span style=\"color: #7f7f7f; text-decoration-color: #7f7f7f\">nondiff.py</span></a><span style=\"color: #7f7f7f; text-decoration-color: #7f7f7f\">:</span><a href=\"file:///Users/moaly/Work/iris-hep/integration-challenge/cms/analysis/nondiff.py#208\" target=\"_blank\"><span style=\"color: #7f7f7f; text-decoration-color: #7f7f7f\">208</span></a>\n",
       "</pre>\n"
      ],
      "text/plain": [
       "\u001b[2;36m        \u001b[0m\u001b[2;36m \u001b[0m\u001b[34mINFO    \u001b[0m \u001b[39mNumber of raw events in CMS_WORKSHOP: \u001b[0m\u001b[1;36m458\u001b[0m\u001b[39m                                         \u001b[0m\u001b[39m \u001b[0m\u001b]8;id=42845;file:///Users/moaly/Work/iris-hep/integration-challenge/cms/analysis/nondiff.py\u001b\\\u001b[2mnondiff.py\u001b[0m\u001b]8;;\u001b\\\u001b[2m:\u001b[0m\u001b]8;id=848679;file:///Users/moaly/Work/iris-hep/integration-challenge/cms/analysis/nondiff.py#208\u001b\\\u001b[2m208\u001b[0m\u001b]8;;\u001b\\\n"
      ]
     },
     "metadata": {},
     "output_type": "display_data"
    },
    {
     "data": {
      "text/html": [
       "<pre style=\"white-space:pre;overflow-x:auto;line-height:normal;font-family:Menlo,'DejaVu Sans Mono',consolas,'Courier New',monospace\"><span style=\"color: #7fbfbf; text-decoration-color: #7fbfbf\">         </span><span style=\"color: #000080; text-decoration-color: #000080\">INFO    </span> <span style=\"color: #000000; text-decoration-color: #000000\">Computing observable workshop_mtt                                                  </span><a href=\"file:///Users/moaly/Work/iris-hep/integration-challenge/cms/analysis/nondiff.py\" target=\"_blank\"><span style=\"color: #7f7f7f; text-decoration-color: #7f7f7f\">nondiff.py</span></a><span style=\"color: #7f7f7f; text-decoration-color: #7f7f7f\">:</span><a href=\"file:///Users/moaly/Work/iris-hep/integration-challenge/cms/analysis/nondiff.py#213\" target=\"_blank\"><span style=\"color: #7f7f7f; text-decoration-color: #7f7f7f\">213</span></a>\n",
       "</pre>\n"
      ],
      "text/plain": [
       "\u001b[2;36m        \u001b[0m\u001b[2;36m \u001b[0m\u001b[34mINFO    \u001b[0m \u001b[39mComputing observable workshop_mtt                                                 \u001b[0m\u001b[39m \u001b[0m\u001b]8;id=434669;file:///Users/moaly/Work/iris-hep/integration-challenge/cms/analysis/nondiff.py\u001b\\\u001b[2mnondiff.py\u001b[0m\u001b]8;;\u001b\\\u001b[2m:\u001b[0m\u001b]8;id=475441;file:///Users/moaly/Work/iris-hep/integration-challenge/cms/analysis/nondiff.py#213\u001b\\\u001b[2m213\u001b[0m\u001b]8;;\u001b\\\n"
      ]
     },
     "metadata": {},
     "output_type": "display_data"
    },
    {
     "data": {
      "text/html": [
       "<pre style=\"white-space:pre;overflow-x:auto;line-height:normal;font-family:Menlo,'DejaVu Sans Mono',consolas,'Courier New',monospace\"><span style=\"color: #7fbfbf; text-decoration-color: #7fbfbf\">         </span><span style=\"color: #000080; text-decoration-color: #000080\">INFO    </span> <span style=\"color: #000000; text-decoration-color: #000000\">Applying selection for CMS_WORKSHOP in ttbar_semilep with variation                </span><a href=\"file:///Users/moaly/Work/iris-hep/integration-challenge/cms/analysis/nondiff.py\" target=\"_blank\"><span style=\"color: #7f7f7f; text-decoration-color: #7f7f7f\">nondiff.py</span></a><span style=\"color: #7f7f7f; text-decoration-color: #7f7f7f\">:</span><a href=\"file:///Users/moaly/Work/iris-hep/integration-challenge/cms/analysis/nondiff.py#154\" target=\"_blank\"><span style=\"color: #7f7f7f; text-decoration-color: #7f7f7f\">154</span></a>\n",
       "<span style=\"color: #7fbfbf; text-decoration-color: #7fbfbf\">         </span>         <span style=\"color: #000000; text-decoration-color: #000000\">jet_pt_scale_up                                                                    </span><span style=\"color: #7f7f7f; text-decoration-color: #7f7f7f\">              </span>\n",
       "</pre>\n"
      ],
      "text/plain": [
       "\u001b[2;36m        \u001b[0m\u001b[2;36m \u001b[0m\u001b[34mINFO    \u001b[0m \u001b[39mApplying selection for CMS_WORKSHOP in ttbar_semilep with variation               \u001b[0m\u001b[39m \u001b[0m\u001b]8;id=472157;file:///Users/moaly/Work/iris-hep/integration-challenge/cms/analysis/nondiff.py\u001b\\\u001b[2mnondiff.py\u001b[0m\u001b]8;;\u001b\\\u001b[2m:\u001b[0m\u001b]8;id=795819;file:///Users/moaly/Work/iris-hep/integration-challenge/cms/analysis/nondiff.py#154\u001b\\\u001b[2m154\u001b[0m\u001b]8;;\u001b\\\n",
       "\u001b[2;36m         \u001b[0m         \u001b[39mjet_pt_scale_up                                                                   \u001b[0m\u001b[39m \u001b[0m\u001b[2m              \u001b[0m\n"
      ]
     },
     "metadata": {},
     "output_type": "display_data"
    },
    {
     "data": {
      "text/html": [
       "<pre style=\"white-space:pre;overflow-x:auto;line-height:normal;font-family:Menlo,'DejaVu Sans Mono',consolas,'Courier New',monospace\"><span style=\"color: #7fbfbf; text-decoration-color: #7fbfbf\">         </span><span style=\"color: #000080; text-decoration-color: #000080\">INFO    </span> <span style=\"color: #000000; text-decoration-color: #000000\">Number of weighted events in CMS_WORKSHOP: </span><span style=\"color: #008080; text-decoration-color: #008080; font-weight: bold\">2018.23</span><span style=\"color: #000000; text-decoration-color: #000000\">                                 </span><a href=\"file:///Users/moaly/Work/iris-hep/integration-challenge/cms/analysis/nondiff.py\" target=\"_blank\"><span style=\"color: #7f7f7f; text-decoration-color: #7f7f7f\">nondiff.py</span></a><span style=\"color: #7f7f7f; text-decoration-color: #7f7f7f\">:</span><a href=\"file:///Users/moaly/Work/iris-hep/integration-challenge/cms/analysis/nondiff.py#205\" target=\"_blank\"><span style=\"color: #7f7f7f; text-decoration-color: #7f7f7f\">205</span></a>\n",
       "</pre>\n"
      ],
      "text/plain": [
       "\u001b[2;36m        \u001b[0m\u001b[2;36m \u001b[0m\u001b[34mINFO    \u001b[0m \u001b[39mNumber of weighted events in CMS_WORKSHOP: \u001b[0m\u001b[1;36m2018.23\u001b[0m\u001b[39m                                \u001b[0m\u001b[39m \u001b[0m\u001b]8;id=703527;file:///Users/moaly/Work/iris-hep/integration-challenge/cms/analysis/nondiff.py\u001b\\\u001b[2mnondiff.py\u001b[0m\u001b]8;;\u001b\\\u001b[2m:\u001b[0m\u001b]8;id=589436;file:///Users/moaly/Work/iris-hep/integration-challenge/cms/analysis/nondiff.py#205\u001b\\\u001b[2m205\u001b[0m\u001b]8;;\u001b\\\n"
      ]
     },
     "metadata": {},
     "output_type": "display_data"
    },
    {
     "data": {
      "text/html": [
       "<pre style=\"white-space:pre;overflow-x:auto;line-height:normal;font-family:Menlo,'DejaVu Sans Mono',consolas,'Courier New',monospace\"><span style=\"color: #7fbfbf; text-decoration-color: #7fbfbf\">         </span><span style=\"color: #000080; text-decoration-color: #000080\">INFO    </span> <span style=\"color: #000000; text-decoration-color: #000000\">Number of raw events in CMS_WORKSHOP: </span><span style=\"color: #008080; text-decoration-color: #008080; font-weight: bold\">458</span><span style=\"color: #000000; text-decoration-color: #000000\">                                          </span><a href=\"file:///Users/moaly/Work/iris-hep/integration-challenge/cms/analysis/nondiff.py\" target=\"_blank\"><span style=\"color: #7f7f7f; text-decoration-color: #7f7f7f\">nondiff.py</span></a><span style=\"color: #7f7f7f; text-decoration-color: #7f7f7f\">:</span><a href=\"file:///Users/moaly/Work/iris-hep/integration-challenge/cms/analysis/nondiff.py#208\" target=\"_blank\"><span style=\"color: #7f7f7f; text-decoration-color: #7f7f7f\">208</span></a>\n",
       "</pre>\n"
      ],
      "text/plain": [
       "\u001b[2;36m        \u001b[0m\u001b[2;36m \u001b[0m\u001b[34mINFO    \u001b[0m \u001b[39mNumber of raw events in CMS_WORKSHOP: \u001b[0m\u001b[1;36m458\u001b[0m\u001b[39m                                         \u001b[0m\u001b[39m \u001b[0m\u001b]8;id=644233;file:///Users/moaly/Work/iris-hep/integration-challenge/cms/analysis/nondiff.py\u001b\\\u001b[2mnondiff.py\u001b[0m\u001b]8;;\u001b\\\u001b[2m:\u001b[0m\u001b]8;id=160314;file:///Users/moaly/Work/iris-hep/integration-challenge/cms/analysis/nondiff.py#208\u001b\\\u001b[2m208\u001b[0m\u001b]8;;\u001b\\\n"
      ]
     },
     "metadata": {},
     "output_type": "display_data"
    },
    {
     "data": {
      "text/html": [
       "<pre style=\"white-space:pre;overflow-x:auto;line-height:normal;font-family:Menlo,'DejaVu Sans Mono',consolas,'Courier New',monospace\"><span style=\"color: #7fbfbf; text-decoration-color: #7fbfbf\">         </span><span style=\"color: #000080; text-decoration-color: #000080\">INFO    </span> <span style=\"color: #000000; text-decoration-color: #000000\">Computing observable workshop_mtt                                                  </span><a href=\"file:///Users/moaly/Work/iris-hep/integration-challenge/cms/analysis/nondiff.py\" target=\"_blank\"><span style=\"color: #7f7f7f; text-decoration-color: #7f7f7f\">nondiff.py</span></a><span style=\"color: #7f7f7f; text-decoration-color: #7f7f7f\">:</span><a href=\"file:///Users/moaly/Work/iris-hep/integration-challenge/cms/analysis/nondiff.py#213\" target=\"_blank\"><span style=\"color: #7f7f7f; text-decoration-color: #7f7f7f\">213</span></a>\n",
       "</pre>\n"
      ],
      "text/plain": [
       "\u001b[2;36m        \u001b[0m\u001b[2;36m \u001b[0m\u001b[34mINFO    \u001b[0m \u001b[39mComputing observable workshop_mtt                                                 \u001b[0m\u001b[39m \u001b[0m\u001b]8;id=633574;file:///Users/moaly/Work/iris-hep/integration-challenge/cms/analysis/nondiff.py\u001b\\\u001b[2mnondiff.py\u001b[0m\u001b]8;;\u001b\\\u001b[2m:\u001b[0m\u001b]8;id=229556;file:///Users/moaly/Work/iris-hep/integration-challenge/cms/analysis/nondiff.py#213\u001b\\\u001b[2m213\u001b[0m\u001b]8;;\u001b\\\n"
      ]
     },
     "metadata": {},
     "output_type": "display_data"
    },
    {
     "data": {
      "text/html": [
       "<pre style=\"white-space:pre;overflow-x:auto;line-height:normal;font-family:Menlo,'DejaVu Sans Mono',consolas,'Courier New',monospace\"><span style=\"color: #7fbfbf; text-decoration-color: #7fbfbf\">         </span><span style=\"color: #000080; text-decoration-color: #000080\">INFO    </span> <span style=\"color: #000000; text-decoration-color: #000000\">Applying selection for CMS_WORKSHOP in ttbar_semilep with variation                </span><a href=\"file:///Users/moaly/Work/iris-hep/integration-challenge/cms/analysis/nondiff.py\" target=\"_blank\"><span style=\"color: #7f7f7f; text-decoration-color: #7f7f7f\">nondiff.py</span></a><span style=\"color: #7f7f7f; text-decoration-color: #7f7f7f\">:</span><a href=\"file:///Users/moaly/Work/iris-hep/integration-challenge/cms/analysis/nondiff.py#154\" target=\"_blank\"><span style=\"color: #7f7f7f; text-decoration-color: #7f7f7f\">154</span></a>\n",
       "<span style=\"color: #7fbfbf; text-decoration-color: #7fbfbf\">         </span>         <span style=\"color: #000000; text-decoration-color: #000000\">jet_pt_scale_down                                                                  </span><span style=\"color: #7f7f7f; text-decoration-color: #7f7f7f\">              </span>\n",
       "</pre>\n"
      ],
      "text/plain": [
       "\u001b[2;36m        \u001b[0m\u001b[2;36m \u001b[0m\u001b[34mINFO    \u001b[0m \u001b[39mApplying selection for CMS_WORKSHOP in ttbar_semilep with variation               \u001b[0m\u001b[39m \u001b[0m\u001b]8;id=60925;file:///Users/moaly/Work/iris-hep/integration-challenge/cms/analysis/nondiff.py\u001b\\\u001b[2mnondiff.py\u001b[0m\u001b]8;;\u001b\\\u001b[2m:\u001b[0m\u001b]8;id=244403;file:///Users/moaly/Work/iris-hep/integration-challenge/cms/analysis/nondiff.py#154\u001b\\\u001b[2m154\u001b[0m\u001b]8;;\u001b\\\n",
       "\u001b[2;36m         \u001b[0m         \u001b[39mjet_pt_scale_down                                                                 \u001b[0m\u001b[39m \u001b[0m\u001b[2m              \u001b[0m\n"
      ]
     },
     "metadata": {},
     "output_type": "display_data"
    },
    {
     "data": {
      "text/html": [
       "<pre style=\"white-space:pre;overflow-x:auto;line-height:normal;font-family:Menlo,'DejaVu Sans Mono',consolas,'Courier New',monospace\"><span style=\"color: #7fbfbf; text-decoration-color: #7fbfbf\">         </span><span style=\"color: #000080; text-decoration-color: #000080\">INFO    </span> <span style=\"color: #000000; text-decoration-color: #000000\">Number of weighted events in CMS_WORKSHOP: </span><span style=\"color: #008080; text-decoration-color: #008080; font-weight: bold\">2018.23</span><span style=\"color: #000000; text-decoration-color: #000000\">                                 </span><a href=\"file:///Users/moaly/Work/iris-hep/integration-challenge/cms/analysis/nondiff.py\" target=\"_blank\"><span style=\"color: #7f7f7f; text-decoration-color: #7f7f7f\">nondiff.py</span></a><span style=\"color: #7f7f7f; text-decoration-color: #7f7f7f\">:</span><a href=\"file:///Users/moaly/Work/iris-hep/integration-challenge/cms/analysis/nondiff.py#205\" target=\"_blank\"><span style=\"color: #7f7f7f; text-decoration-color: #7f7f7f\">205</span></a>\n",
       "</pre>\n"
      ],
      "text/plain": [
       "\u001b[2;36m        \u001b[0m\u001b[2;36m \u001b[0m\u001b[34mINFO    \u001b[0m \u001b[39mNumber of weighted events in CMS_WORKSHOP: \u001b[0m\u001b[1;36m2018.23\u001b[0m\u001b[39m                                \u001b[0m\u001b[39m \u001b[0m\u001b]8;id=247406;file:///Users/moaly/Work/iris-hep/integration-challenge/cms/analysis/nondiff.py\u001b\\\u001b[2mnondiff.py\u001b[0m\u001b]8;;\u001b\\\u001b[2m:\u001b[0m\u001b]8;id=254432;file:///Users/moaly/Work/iris-hep/integration-challenge/cms/analysis/nondiff.py#205\u001b\\\u001b[2m205\u001b[0m\u001b]8;;\u001b\\\n"
      ]
     },
     "metadata": {},
     "output_type": "display_data"
    },
    {
     "data": {
      "text/html": [
       "<pre style=\"white-space:pre;overflow-x:auto;line-height:normal;font-family:Menlo,'DejaVu Sans Mono',consolas,'Courier New',monospace\"><span style=\"color: #7fbfbf; text-decoration-color: #7fbfbf\">         </span><span style=\"color: #000080; text-decoration-color: #000080\">INFO    </span> <span style=\"color: #000000; text-decoration-color: #000000\">Number of raw events in CMS_WORKSHOP: </span><span style=\"color: #008080; text-decoration-color: #008080; font-weight: bold\">458</span><span style=\"color: #000000; text-decoration-color: #000000\">                                          </span><a href=\"file:///Users/moaly/Work/iris-hep/integration-challenge/cms/analysis/nondiff.py\" target=\"_blank\"><span style=\"color: #7f7f7f; text-decoration-color: #7f7f7f\">nondiff.py</span></a><span style=\"color: #7f7f7f; text-decoration-color: #7f7f7f\">:</span><a href=\"file:///Users/moaly/Work/iris-hep/integration-challenge/cms/analysis/nondiff.py#208\" target=\"_blank\"><span style=\"color: #7f7f7f; text-decoration-color: #7f7f7f\">208</span></a>\n",
       "</pre>\n"
      ],
      "text/plain": [
       "\u001b[2;36m        \u001b[0m\u001b[2;36m \u001b[0m\u001b[34mINFO    \u001b[0m \u001b[39mNumber of raw events in CMS_WORKSHOP: \u001b[0m\u001b[1;36m458\u001b[0m\u001b[39m                                         \u001b[0m\u001b[39m \u001b[0m\u001b]8;id=292269;file:///Users/moaly/Work/iris-hep/integration-challenge/cms/analysis/nondiff.py\u001b\\\u001b[2mnondiff.py\u001b[0m\u001b]8;;\u001b\\\u001b[2m:\u001b[0m\u001b]8;id=121120;file:///Users/moaly/Work/iris-hep/integration-challenge/cms/analysis/nondiff.py#208\u001b\\\u001b[2m208\u001b[0m\u001b]8;;\u001b\\\n"
      ]
     },
     "metadata": {},
     "output_type": "display_data"
    },
    {
     "data": {
      "text/html": [
       "<pre style=\"white-space:pre;overflow-x:auto;line-height:normal;font-family:Menlo,'DejaVu Sans Mono',consolas,'Courier New',monospace\"><span style=\"color: #7fbfbf; text-decoration-color: #7fbfbf\">         </span><span style=\"color: #000080; text-decoration-color: #000080\">INFO    </span> <span style=\"color: #000000; text-decoration-color: #000000\">Computing observable workshop_mtt                                                  </span><a href=\"file:///Users/moaly/Work/iris-hep/integration-challenge/cms/analysis/nondiff.py\" target=\"_blank\"><span style=\"color: #7f7f7f; text-decoration-color: #7f7f7f\">nondiff.py</span></a><span style=\"color: #7f7f7f; text-decoration-color: #7f7f7f\">:</span><a href=\"file:///Users/moaly/Work/iris-hep/integration-challenge/cms/analysis/nondiff.py#213\" target=\"_blank\"><span style=\"color: #7f7f7f; text-decoration-color: #7f7f7f\">213</span></a>\n",
       "</pre>\n"
      ],
      "text/plain": [
       "\u001b[2;36m        \u001b[0m\u001b[2;36m \u001b[0m\u001b[34mINFO    \u001b[0m \u001b[39mComputing observable workshop_mtt                                                 \u001b[0m\u001b[39m \u001b[0m\u001b]8;id=727866;file:///Users/moaly/Work/iris-hep/integration-challenge/cms/analysis/nondiff.py\u001b\\\u001b[2mnondiff.py\u001b[0m\u001b]8;;\u001b\\\u001b[2m:\u001b[0m\u001b]8;id=15397;file:///Users/moaly/Work/iris-hep/integration-challenge/cms/analysis/nondiff.py#213\u001b\\\u001b[2m213\u001b[0m\u001b]8;;\u001b\\\n"
      ]
     },
     "metadata": {},
     "output_type": "display_data"
    },
    {
     "data": {
      "text/html": [
       "<pre style=\"white-space:pre;overflow-x:auto;line-height:normal;font-family:Menlo,'DejaVu Sans Mono',consolas,'Courier New',monospace\"><span style=\"color: #7fbfbf; text-decoration-color: #7fbfbf\">         </span><span style=\"color: #000080; text-decoration-color: #000080\">INFO    </span> <span style=\"color: #000000; text-decoration-color: #000000\">Applying selection for CMS_WORKSHOP in ttbar_semilep with variation pu_weight_up   </span><a href=\"file:///Users/moaly/Work/iris-hep/integration-challenge/cms/analysis/nondiff.py\" target=\"_blank\"><span style=\"color: #7f7f7f; text-decoration-color: #7f7f7f\">nondiff.py</span></a><span style=\"color: #7f7f7f; text-decoration-color: #7f7f7f\">:</span><a href=\"file:///Users/moaly/Work/iris-hep/integration-challenge/cms/analysis/nondiff.py#154\" target=\"_blank\"><span style=\"color: #7f7f7f; text-decoration-color: #7f7f7f\">154</span></a>\n",
       "</pre>\n"
      ],
      "text/plain": [
       "\u001b[2;36m        \u001b[0m\u001b[2;36m \u001b[0m\u001b[34mINFO    \u001b[0m \u001b[39mApplying selection for CMS_WORKSHOP in ttbar_semilep with variation pu_weight_up  \u001b[0m\u001b[39m \u001b[0m\u001b]8;id=41236;file:///Users/moaly/Work/iris-hep/integration-challenge/cms/analysis/nondiff.py\u001b\\\u001b[2mnondiff.py\u001b[0m\u001b]8;;\u001b\\\u001b[2m:\u001b[0m\u001b]8;id=937000;file:///Users/moaly/Work/iris-hep/integration-challenge/cms/analysis/nondiff.py#154\u001b\\\u001b[2m154\u001b[0m\u001b]8;;\u001b\\\n"
      ]
     },
     "metadata": {},
     "output_type": "display_data"
    },
    {
     "data": {
      "text/html": [
       "<pre style=\"white-space:pre;overflow-x:auto;line-height:normal;font-family:Menlo,'DejaVu Sans Mono',consolas,'Courier New',monospace\"><span style=\"color: #7fbfbf; text-decoration-color: #7fbfbf\">         </span><span style=\"color: #000080; text-decoration-color: #000080\">INFO    </span> <span style=\"color: #000000; text-decoration-color: #000000\">Applying correction: pu_weight/Collisions16_UltraLegacy_goldenJSON </span><span style=\"color: #000000; text-decoration-color: #000000; font-weight: bold\">(</span><span style=\"color: #000000; text-decoration-color: #000000\">up</span><span style=\"color: #000000; text-decoration-color: #000000; font-weight: bold\">)</span><span style=\"color: #000000; text-decoration-color: #000000\">               </span><a href=\"file:///Users/moaly/Work/iris-hep/integration-challenge/cms/analysis/base.py\" target=\"_blank\"><span style=\"color: #7f7f7f; text-decoration-color: #7f7f7f\">base.py</span></a><span style=\"color: #7f7f7f; text-decoration-color: #7f7f7f\">:</span><a href=\"file:///Users/moaly/Work/iris-hep/integration-challenge/cms/analysis/base.py#247\" target=\"_blank\"><span style=\"color: #7f7f7f; text-decoration-color: #7f7f7f\">247</span></a>\n",
       "</pre>\n"
      ],
      "text/plain": [
       "\u001b[2;36m        \u001b[0m\u001b[2;36m \u001b[0m\u001b[34mINFO    \u001b[0m \u001b[39mApplying correction: pu_weight/Collisions16_UltraLegacy_goldenJSON \u001b[0m\u001b[1;39m(\u001b[0m\u001b[39mup\u001b[0m\u001b[1;39m)\u001b[0m\u001b[39m              \u001b[0m\u001b[39m \u001b[0m\u001b]8;id=828824;file:///Users/moaly/Work/iris-hep/integration-challenge/cms/analysis/base.py\u001b\\\u001b[2mbase.py\u001b[0m\u001b]8;;\u001b\\\u001b[2m:\u001b[0m\u001b]8;id=992889;file:///Users/moaly/Work/iris-hep/integration-challenge/cms/analysis/base.py#247\u001b\\\u001b[2m247\u001b[0m\u001b]8;;\u001b\\\n"
      ]
     },
     "metadata": {},
     "output_type": "display_data"
    },
    {
     "data": {
      "text/html": [
       "<pre style=\"white-space:pre;overflow-x:auto;line-height:normal;font-family:Menlo,'DejaVu Sans Mono',consolas,'Courier New',monospace\"><span style=\"color: #7fbfbf; text-decoration-color: #7fbfbf\">         </span><span style=\"color: #000080; text-decoration-color: #000080\">INFO    </span> <span style=\"color: #000000; text-decoration-color: #000000\">Number of weighted events in CMS_WORKSHOP: </span><span style=\"color: #008080; text-decoration-color: #008080; font-weight: bold\">451.96</span><span style=\"color: #000000; text-decoration-color: #000000\">                                  </span><a href=\"file:///Users/moaly/Work/iris-hep/integration-challenge/cms/analysis/nondiff.py\" target=\"_blank\"><span style=\"color: #7f7f7f; text-decoration-color: #7f7f7f\">nondiff.py</span></a><span style=\"color: #7f7f7f; text-decoration-color: #7f7f7f\">:</span><a href=\"file:///Users/moaly/Work/iris-hep/integration-challenge/cms/analysis/nondiff.py#205\" target=\"_blank\"><span style=\"color: #7f7f7f; text-decoration-color: #7f7f7f\">205</span></a>\n",
       "</pre>\n"
      ],
      "text/plain": [
       "\u001b[2;36m        \u001b[0m\u001b[2;36m \u001b[0m\u001b[34mINFO    \u001b[0m \u001b[39mNumber of weighted events in CMS_WORKSHOP: \u001b[0m\u001b[1;36m451.96\u001b[0m\u001b[39m                                 \u001b[0m\u001b[39m \u001b[0m\u001b]8;id=682993;file:///Users/moaly/Work/iris-hep/integration-challenge/cms/analysis/nondiff.py\u001b\\\u001b[2mnondiff.py\u001b[0m\u001b]8;;\u001b\\\u001b[2m:\u001b[0m\u001b]8;id=911430;file:///Users/moaly/Work/iris-hep/integration-challenge/cms/analysis/nondiff.py#205\u001b\\\u001b[2m205\u001b[0m\u001b]8;;\u001b\\\n"
      ]
     },
     "metadata": {},
     "output_type": "display_data"
    },
    {
     "data": {
      "text/html": [
       "<pre style=\"white-space:pre;overflow-x:auto;line-height:normal;font-family:Menlo,'DejaVu Sans Mono',consolas,'Courier New',monospace\"><span style=\"color: #7fbfbf; text-decoration-color: #7fbfbf\">         </span><span style=\"color: #000080; text-decoration-color: #000080\">INFO    </span> <span style=\"color: #000000; text-decoration-color: #000000\">Number of raw events in CMS_WORKSHOP: </span><span style=\"color: #008080; text-decoration-color: #008080; font-weight: bold\">458</span><span style=\"color: #000000; text-decoration-color: #000000\">                                          </span><a href=\"file:///Users/moaly/Work/iris-hep/integration-challenge/cms/analysis/nondiff.py\" target=\"_blank\"><span style=\"color: #7f7f7f; text-decoration-color: #7f7f7f\">nondiff.py</span></a><span style=\"color: #7f7f7f; text-decoration-color: #7f7f7f\">:</span><a href=\"file:///Users/moaly/Work/iris-hep/integration-challenge/cms/analysis/nondiff.py#208\" target=\"_blank\"><span style=\"color: #7f7f7f; text-decoration-color: #7f7f7f\">208</span></a>\n",
       "</pre>\n"
      ],
      "text/plain": [
       "\u001b[2;36m        \u001b[0m\u001b[2;36m \u001b[0m\u001b[34mINFO    \u001b[0m \u001b[39mNumber of raw events in CMS_WORKSHOP: \u001b[0m\u001b[1;36m458\u001b[0m\u001b[39m                                         \u001b[0m\u001b[39m \u001b[0m\u001b]8;id=384476;file:///Users/moaly/Work/iris-hep/integration-challenge/cms/analysis/nondiff.py\u001b\\\u001b[2mnondiff.py\u001b[0m\u001b]8;;\u001b\\\u001b[2m:\u001b[0m\u001b]8;id=529363;file:///Users/moaly/Work/iris-hep/integration-challenge/cms/analysis/nondiff.py#208\u001b\\\u001b[2m208\u001b[0m\u001b]8;;\u001b\\\n"
      ]
     },
     "metadata": {},
     "output_type": "display_data"
    },
    {
     "data": {
      "text/html": [
       "<pre style=\"white-space:pre;overflow-x:auto;line-height:normal;font-family:Menlo,'DejaVu Sans Mono',consolas,'Courier New',monospace\"><span style=\"color: #7fbfbf; text-decoration-color: #7fbfbf\">         </span><span style=\"color: #000080; text-decoration-color: #000080\">INFO    </span> <span style=\"color: #000000; text-decoration-color: #000000\">Computing observable workshop_mtt                                                  </span><a href=\"file:///Users/moaly/Work/iris-hep/integration-challenge/cms/analysis/nondiff.py\" target=\"_blank\"><span style=\"color: #7f7f7f; text-decoration-color: #7f7f7f\">nondiff.py</span></a><span style=\"color: #7f7f7f; text-decoration-color: #7f7f7f\">:</span><a href=\"file:///Users/moaly/Work/iris-hep/integration-challenge/cms/analysis/nondiff.py#213\" target=\"_blank\"><span style=\"color: #7f7f7f; text-decoration-color: #7f7f7f\">213</span></a>\n",
       "</pre>\n"
      ],
      "text/plain": [
       "\u001b[2;36m        \u001b[0m\u001b[2;36m \u001b[0m\u001b[34mINFO    \u001b[0m \u001b[39mComputing observable workshop_mtt                                                 \u001b[0m\u001b[39m \u001b[0m\u001b]8;id=285265;file:///Users/moaly/Work/iris-hep/integration-challenge/cms/analysis/nondiff.py\u001b\\\u001b[2mnondiff.py\u001b[0m\u001b]8;;\u001b\\\u001b[2m:\u001b[0m\u001b]8;id=527857;file:///Users/moaly/Work/iris-hep/integration-challenge/cms/analysis/nondiff.py#213\u001b\\\u001b[2m213\u001b[0m\u001b]8;;\u001b\\\n"
      ]
     },
     "metadata": {},
     "output_type": "display_data"
    },
    {
     "data": {
      "text/html": [
       "<pre style=\"white-space:pre;overflow-x:auto;line-height:normal;font-family:Menlo,'DejaVu Sans Mono',consolas,'Courier New',monospace\"><span style=\"color: #7fbfbf; text-decoration-color: #7fbfbf\">16:09:43 </span><span style=\"color: #000080; text-decoration-color: #000080\">INFO    </span> <span style=\"color: #000000; text-decoration-color: #000000\">Applying selection for CMS_WORKSHOP in ttbar_semilep with variation pu_weight_down </span><a href=\"file:///Users/moaly/Work/iris-hep/integration-challenge/cms/analysis/nondiff.py\" target=\"_blank\"><span style=\"color: #7f7f7f; text-decoration-color: #7f7f7f\">nondiff.py</span></a><span style=\"color: #7f7f7f; text-decoration-color: #7f7f7f\">:</span><a href=\"file:///Users/moaly/Work/iris-hep/integration-challenge/cms/analysis/nondiff.py#154\" target=\"_blank\"><span style=\"color: #7f7f7f; text-decoration-color: #7f7f7f\">154</span></a>\n",
       "</pre>\n"
      ],
      "text/plain": [
       "\u001b[2;36m16:09:43\u001b[0m\u001b[2;36m \u001b[0m\u001b[34mINFO    \u001b[0m \u001b[39mApplying selection for CMS_WORKSHOP in ttbar_semilep with variation pu_weight_down\u001b[0m\u001b[39m \u001b[0m\u001b]8;id=1200;file:///Users/moaly/Work/iris-hep/integration-challenge/cms/analysis/nondiff.py\u001b\\\u001b[2mnondiff.py\u001b[0m\u001b]8;;\u001b\\\u001b[2m:\u001b[0m\u001b]8;id=154710;file:///Users/moaly/Work/iris-hep/integration-challenge/cms/analysis/nondiff.py#154\u001b\\\u001b[2m154\u001b[0m\u001b]8;;\u001b\\\n"
      ]
     },
     "metadata": {},
     "output_type": "display_data"
    },
    {
     "data": {
      "text/html": [
       "<pre style=\"white-space:pre;overflow-x:auto;line-height:normal;font-family:Menlo,'DejaVu Sans Mono',consolas,'Courier New',monospace\"><span style=\"color: #7fbfbf; text-decoration-color: #7fbfbf\">         </span><span style=\"color: #000080; text-decoration-color: #000080\">INFO    </span> <span style=\"color: #000000; text-decoration-color: #000000\">Applying correction: pu_weight/Collisions16_UltraLegacy_goldenJSON </span><span style=\"color: #000000; text-decoration-color: #000000; font-weight: bold\">(</span><span style=\"color: #000000; text-decoration-color: #000000\">down</span><span style=\"color: #000000; text-decoration-color: #000000; font-weight: bold\">)</span><span style=\"color: #000000; text-decoration-color: #000000\">             </span><a href=\"file:///Users/moaly/Work/iris-hep/integration-challenge/cms/analysis/base.py\" target=\"_blank\"><span style=\"color: #7f7f7f; text-decoration-color: #7f7f7f\">base.py</span></a><span style=\"color: #7f7f7f; text-decoration-color: #7f7f7f\">:</span><a href=\"file:///Users/moaly/Work/iris-hep/integration-challenge/cms/analysis/base.py#247\" target=\"_blank\"><span style=\"color: #7f7f7f; text-decoration-color: #7f7f7f\">247</span></a>\n",
       "</pre>\n"
      ],
      "text/plain": [
       "\u001b[2;36m        \u001b[0m\u001b[2;36m \u001b[0m\u001b[34mINFO    \u001b[0m \u001b[39mApplying correction: pu_weight/Collisions16_UltraLegacy_goldenJSON \u001b[0m\u001b[1;39m(\u001b[0m\u001b[39mdown\u001b[0m\u001b[1;39m)\u001b[0m\u001b[39m            \u001b[0m\u001b[39m \u001b[0m\u001b]8;id=25249;file:///Users/moaly/Work/iris-hep/integration-challenge/cms/analysis/base.py\u001b\\\u001b[2mbase.py\u001b[0m\u001b]8;;\u001b\\\u001b[2m:\u001b[0m\u001b]8;id=679102;file:///Users/moaly/Work/iris-hep/integration-challenge/cms/analysis/base.py#247\u001b\\\u001b[2m247\u001b[0m\u001b]8;;\u001b\\\n"
      ]
     },
     "metadata": {},
     "output_type": "display_data"
    },
    {
     "data": {
      "text/html": [
       "<pre style=\"white-space:pre;overflow-x:auto;line-height:normal;font-family:Menlo,'DejaVu Sans Mono',consolas,'Courier New',monospace\"><span style=\"color: #7fbfbf; text-decoration-color: #7fbfbf\">         </span><span style=\"color: #000080; text-decoration-color: #000080\">INFO    </span> <span style=\"color: #000000; text-decoration-color: #000000\">Number of weighted events in CMS_WORKSHOP: </span><span style=\"color: #008080; text-decoration-color: #008080; font-weight: bold\">456.71</span><span style=\"color: #000000; text-decoration-color: #000000\">                                  </span><a href=\"file:///Users/moaly/Work/iris-hep/integration-challenge/cms/analysis/nondiff.py\" target=\"_blank\"><span style=\"color: #7f7f7f; text-decoration-color: #7f7f7f\">nondiff.py</span></a><span style=\"color: #7f7f7f; text-decoration-color: #7f7f7f\">:</span><a href=\"file:///Users/moaly/Work/iris-hep/integration-challenge/cms/analysis/nondiff.py#205\" target=\"_blank\"><span style=\"color: #7f7f7f; text-decoration-color: #7f7f7f\">205</span></a>\n",
       "</pre>\n"
      ],
      "text/plain": [
       "\u001b[2;36m        \u001b[0m\u001b[2;36m \u001b[0m\u001b[34mINFO    \u001b[0m \u001b[39mNumber of weighted events in CMS_WORKSHOP: \u001b[0m\u001b[1;36m456.71\u001b[0m\u001b[39m                                 \u001b[0m\u001b[39m \u001b[0m\u001b]8;id=215828;file:///Users/moaly/Work/iris-hep/integration-challenge/cms/analysis/nondiff.py\u001b\\\u001b[2mnondiff.py\u001b[0m\u001b]8;;\u001b\\\u001b[2m:\u001b[0m\u001b]8;id=355210;file:///Users/moaly/Work/iris-hep/integration-challenge/cms/analysis/nondiff.py#205\u001b\\\u001b[2m205\u001b[0m\u001b]8;;\u001b\\\n"
      ]
     },
     "metadata": {},
     "output_type": "display_data"
    },
    {
     "data": {
      "text/html": [
       "<pre style=\"white-space:pre;overflow-x:auto;line-height:normal;font-family:Menlo,'DejaVu Sans Mono',consolas,'Courier New',monospace\"><span style=\"color: #7fbfbf; text-decoration-color: #7fbfbf\">         </span><span style=\"color: #000080; text-decoration-color: #000080\">INFO    </span> <span style=\"color: #000000; text-decoration-color: #000000\">Number of raw events in CMS_WORKSHOP: </span><span style=\"color: #008080; text-decoration-color: #008080; font-weight: bold\">458</span><span style=\"color: #000000; text-decoration-color: #000000\">                                          </span><a href=\"file:///Users/moaly/Work/iris-hep/integration-challenge/cms/analysis/nondiff.py\" target=\"_blank\"><span style=\"color: #7f7f7f; text-decoration-color: #7f7f7f\">nondiff.py</span></a><span style=\"color: #7f7f7f; text-decoration-color: #7f7f7f\">:</span><a href=\"file:///Users/moaly/Work/iris-hep/integration-challenge/cms/analysis/nondiff.py#208\" target=\"_blank\"><span style=\"color: #7f7f7f; text-decoration-color: #7f7f7f\">208</span></a>\n",
       "</pre>\n"
      ],
      "text/plain": [
       "\u001b[2;36m        \u001b[0m\u001b[2;36m \u001b[0m\u001b[34mINFO    \u001b[0m \u001b[39mNumber of raw events in CMS_WORKSHOP: \u001b[0m\u001b[1;36m458\u001b[0m\u001b[39m                                         \u001b[0m\u001b[39m \u001b[0m\u001b]8;id=561732;file:///Users/moaly/Work/iris-hep/integration-challenge/cms/analysis/nondiff.py\u001b\\\u001b[2mnondiff.py\u001b[0m\u001b]8;;\u001b\\\u001b[2m:\u001b[0m\u001b]8;id=753128;file:///Users/moaly/Work/iris-hep/integration-challenge/cms/analysis/nondiff.py#208\u001b\\\u001b[2m208\u001b[0m\u001b]8;;\u001b\\\n"
      ]
     },
     "metadata": {},
     "output_type": "display_data"
    },
    {
     "data": {
      "text/html": [
       "<pre style=\"white-space:pre;overflow-x:auto;line-height:normal;font-family:Menlo,'DejaVu Sans Mono',consolas,'Courier New',monospace\"><span style=\"color: #7fbfbf; text-decoration-color: #7fbfbf\">         </span><span style=\"color: #000080; text-decoration-color: #000080\">INFO    </span> <span style=\"color: #000000; text-decoration-color: #000000\">Computing observable workshop_mtt                                                  </span><a href=\"file:///Users/moaly/Work/iris-hep/integration-challenge/cms/analysis/nondiff.py\" target=\"_blank\"><span style=\"color: #7f7f7f; text-decoration-color: #7f7f7f\">nondiff.py</span></a><span style=\"color: #7f7f7f; text-decoration-color: #7f7f7f\">:</span><a href=\"file:///Users/moaly/Work/iris-hep/integration-challenge/cms/analysis/nondiff.py#213\" target=\"_blank\"><span style=\"color: #7f7f7f; text-decoration-color: #7f7f7f\">213</span></a>\n",
       "</pre>\n"
      ],
      "text/plain": [
       "\u001b[2;36m        \u001b[0m\u001b[2;36m \u001b[0m\u001b[34mINFO    \u001b[0m \u001b[39mComputing observable workshop_mtt                                                 \u001b[0m\u001b[39m \u001b[0m\u001b]8;id=908287;file:///Users/moaly/Work/iris-hep/integration-challenge/cms/analysis/nondiff.py\u001b\\\u001b[2mnondiff.py\u001b[0m\u001b]8;;\u001b\\\u001b[2m:\u001b[0m\u001b]8;id=145581;file:///Users/moaly/Work/iris-hep/integration-challenge/cms/analysis/nondiff.py#213\u001b\\\u001b[2m213\u001b[0m\u001b]8;;\u001b\\\n"
      ]
     },
     "metadata": {},
     "output_type": "display_data"
    },
    {
     "data": {
      "text/html": [
       "<pre style=\"white-space:pre;overflow-x:auto;line-height:normal;font-family:Menlo,'DejaVu Sans Mono',consolas,'Courier New',monospace\"><span style=\"color: #7fbfbf; text-decoration-color: #7fbfbf\">         </span><span style=\"color: #000080; text-decoration-color: #000080\">INFO    </span> <span style=\"color: #000000; text-decoration-color: #000000\">Applying selection for CMS_WORKSHOP in ttbar_semilep with variation muon_id_sf_up  </span><a href=\"file:///Users/moaly/Work/iris-hep/integration-challenge/cms/analysis/nondiff.py\" target=\"_blank\"><span style=\"color: #7f7f7f; text-decoration-color: #7f7f7f\">nondiff.py</span></a><span style=\"color: #7f7f7f; text-decoration-color: #7f7f7f\">:</span><a href=\"file:///Users/moaly/Work/iris-hep/integration-challenge/cms/analysis/nondiff.py#154\" target=\"_blank\"><span style=\"color: #7f7f7f; text-decoration-color: #7f7f7f\">154</span></a>\n",
       "</pre>\n"
      ],
      "text/plain": [
       "\u001b[2;36m        \u001b[0m\u001b[2;36m \u001b[0m\u001b[34mINFO    \u001b[0m \u001b[39mApplying selection for CMS_WORKSHOP in ttbar_semilep with variation muon_id_sf_up \u001b[0m\u001b[39m \u001b[0m\u001b]8;id=477262;file:///Users/moaly/Work/iris-hep/integration-challenge/cms/analysis/nondiff.py\u001b\\\u001b[2mnondiff.py\u001b[0m\u001b]8;;\u001b\\\u001b[2m:\u001b[0m\u001b]8;id=499353;file:///Users/moaly/Work/iris-hep/integration-challenge/cms/analysis/nondiff.py#154\u001b\\\u001b[2m154\u001b[0m\u001b]8;;\u001b\\\n"
      ]
     },
     "metadata": {},
     "output_type": "display_data"
    },
    {
     "data": {
      "text/html": [
       "<pre style=\"white-space:pre;overflow-x:auto;line-height:normal;font-family:Menlo,'DejaVu Sans Mono',consolas,'Courier New',monospace\"><span style=\"color: #7fbfbf; text-decoration-color: #7fbfbf\">         </span><span style=\"color: #000080; text-decoration-color: #000080\">INFO    </span> <span style=\"color: #000000; text-decoration-color: #000000\">Applying correction: muon_id_sf/NUM_TightID_DEN_TrackerMuons </span><span style=\"color: #000000; text-decoration-color: #000000; font-weight: bold\">(</span><span style=\"color: #000000; text-decoration-color: #000000\">systup</span><span style=\"color: #000000; text-decoration-color: #000000; font-weight: bold\">)</span><span style=\"color: #000000; text-decoration-color: #000000\">                 </span><a href=\"file:///Users/moaly/Work/iris-hep/integration-challenge/cms/analysis/base.py\" target=\"_blank\"><span style=\"color: #7f7f7f; text-decoration-color: #7f7f7f\">base.py</span></a><span style=\"color: #7f7f7f; text-decoration-color: #7f7f7f\">:</span><a href=\"file:///Users/moaly/Work/iris-hep/integration-challenge/cms/analysis/base.py#247\" target=\"_blank\"><span style=\"color: #7f7f7f; text-decoration-color: #7f7f7f\">247</span></a>\n",
       "</pre>\n"
      ],
      "text/plain": [
       "\u001b[2;36m        \u001b[0m\u001b[2;36m \u001b[0m\u001b[34mINFO    \u001b[0m \u001b[39mApplying correction: muon_id_sf/NUM_TightID_DEN_TrackerMuons \u001b[0m\u001b[1;39m(\u001b[0m\u001b[39msystup\u001b[0m\u001b[1;39m)\u001b[0m\u001b[39m                \u001b[0m\u001b[39m \u001b[0m\u001b]8;id=321527;file:///Users/moaly/Work/iris-hep/integration-challenge/cms/analysis/base.py\u001b\\\u001b[2mbase.py\u001b[0m\u001b]8;;\u001b\\\u001b[2m:\u001b[0m\u001b]8;id=853791;file:///Users/moaly/Work/iris-hep/integration-challenge/cms/analysis/base.py#247\u001b\\\u001b[2m247\u001b[0m\u001b]8;;\u001b\\\n"
      ]
     },
     "metadata": {},
     "output_type": "display_data"
    },
    {
     "data": {
      "text/html": [
       "<pre style=\"white-space:pre;overflow-x:auto;line-height:normal;font-family:Menlo,'DejaVu Sans Mono',consolas,'Courier New',monospace\"><span style=\"color: #7fbfbf; text-decoration-color: #7fbfbf\">         </span><span style=\"color: #000080; text-decoration-color: #000080\">INFO    </span> <span style=\"color: #000000; text-decoration-color: #000000\">Number of weighted events in CMS_WORKSHOP: </span><span style=\"color: #008080; text-decoration-color: #008080; font-weight: bold\">452.26</span><span style=\"color: #000000; text-decoration-color: #000000\">                                  </span><a href=\"file:///Users/moaly/Work/iris-hep/integration-challenge/cms/analysis/nondiff.py\" target=\"_blank\"><span style=\"color: #7f7f7f; text-decoration-color: #7f7f7f\">nondiff.py</span></a><span style=\"color: #7f7f7f; text-decoration-color: #7f7f7f\">:</span><a href=\"file:///Users/moaly/Work/iris-hep/integration-challenge/cms/analysis/nondiff.py#205\" target=\"_blank\"><span style=\"color: #7f7f7f; text-decoration-color: #7f7f7f\">205</span></a>\n",
       "</pre>\n"
      ],
      "text/plain": [
       "\u001b[2;36m        \u001b[0m\u001b[2;36m \u001b[0m\u001b[34mINFO    \u001b[0m \u001b[39mNumber of weighted events in CMS_WORKSHOP: \u001b[0m\u001b[1;36m452.26\u001b[0m\u001b[39m                                 \u001b[0m\u001b[39m \u001b[0m\u001b]8;id=914743;file:///Users/moaly/Work/iris-hep/integration-challenge/cms/analysis/nondiff.py\u001b\\\u001b[2mnondiff.py\u001b[0m\u001b]8;;\u001b\\\u001b[2m:\u001b[0m\u001b]8;id=901153;file:///Users/moaly/Work/iris-hep/integration-challenge/cms/analysis/nondiff.py#205\u001b\\\u001b[2m205\u001b[0m\u001b]8;;\u001b\\\n"
      ]
     },
     "metadata": {},
     "output_type": "display_data"
    },
    {
     "data": {
      "text/html": [
       "<pre style=\"white-space:pre;overflow-x:auto;line-height:normal;font-family:Menlo,'DejaVu Sans Mono',consolas,'Courier New',monospace\"><span style=\"color: #7fbfbf; text-decoration-color: #7fbfbf\">         </span><span style=\"color: #000080; text-decoration-color: #000080\">INFO    </span> <span style=\"color: #000000; text-decoration-color: #000000\">Number of raw events in CMS_WORKSHOP: </span><span style=\"color: #008080; text-decoration-color: #008080; font-weight: bold\">458</span><span style=\"color: #000000; text-decoration-color: #000000\">                                          </span><a href=\"file:///Users/moaly/Work/iris-hep/integration-challenge/cms/analysis/nondiff.py\" target=\"_blank\"><span style=\"color: #7f7f7f; text-decoration-color: #7f7f7f\">nondiff.py</span></a><span style=\"color: #7f7f7f; text-decoration-color: #7f7f7f\">:</span><a href=\"file:///Users/moaly/Work/iris-hep/integration-challenge/cms/analysis/nondiff.py#208\" target=\"_blank\"><span style=\"color: #7f7f7f; text-decoration-color: #7f7f7f\">208</span></a>\n",
       "</pre>\n"
      ],
      "text/plain": [
       "\u001b[2;36m        \u001b[0m\u001b[2;36m \u001b[0m\u001b[34mINFO    \u001b[0m \u001b[39mNumber of raw events in CMS_WORKSHOP: \u001b[0m\u001b[1;36m458\u001b[0m\u001b[39m                                         \u001b[0m\u001b[39m \u001b[0m\u001b]8;id=207630;file:///Users/moaly/Work/iris-hep/integration-challenge/cms/analysis/nondiff.py\u001b\\\u001b[2mnondiff.py\u001b[0m\u001b]8;;\u001b\\\u001b[2m:\u001b[0m\u001b]8;id=340047;file:///Users/moaly/Work/iris-hep/integration-challenge/cms/analysis/nondiff.py#208\u001b\\\u001b[2m208\u001b[0m\u001b]8;;\u001b\\\n"
      ]
     },
     "metadata": {},
     "output_type": "display_data"
    },
    {
     "data": {
      "text/html": [
       "<pre style=\"white-space:pre;overflow-x:auto;line-height:normal;font-family:Menlo,'DejaVu Sans Mono',consolas,'Courier New',monospace\"><span style=\"color: #7fbfbf; text-decoration-color: #7fbfbf\">         </span><span style=\"color: #000080; text-decoration-color: #000080\">INFO    </span> <span style=\"color: #000000; text-decoration-color: #000000\">Computing observable workshop_mtt                                                  </span><a href=\"file:///Users/moaly/Work/iris-hep/integration-challenge/cms/analysis/nondiff.py\" target=\"_blank\"><span style=\"color: #7f7f7f; text-decoration-color: #7f7f7f\">nondiff.py</span></a><span style=\"color: #7f7f7f; text-decoration-color: #7f7f7f\">:</span><a href=\"file:///Users/moaly/Work/iris-hep/integration-challenge/cms/analysis/nondiff.py#213\" target=\"_blank\"><span style=\"color: #7f7f7f; text-decoration-color: #7f7f7f\">213</span></a>\n",
       "</pre>\n"
      ],
      "text/plain": [
       "\u001b[2;36m        \u001b[0m\u001b[2;36m \u001b[0m\u001b[34mINFO    \u001b[0m \u001b[39mComputing observable workshop_mtt                                                 \u001b[0m\u001b[39m \u001b[0m\u001b]8;id=850435;file:///Users/moaly/Work/iris-hep/integration-challenge/cms/analysis/nondiff.py\u001b\\\u001b[2mnondiff.py\u001b[0m\u001b]8;;\u001b\\\u001b[2m:\u001b[0m\u001b]8;id=691404;file:///Users/moaly/Work/iris-hep/integration-challenge/cms/analysis/nondiff.py#213\u001b\\\u001b[2m213\u001b[0m\u001b]8;;\u001b\\\n"
      ]
     },
     "metadata": {},
     "output_type": "display_data"
    },
    {
     "data": {
      "text/html": [
       "<pre style=\"white-space:pre;overflow-x:auto;line-height:normal;font-family:Menlo,'DejaVu Sans Mono',consolas,'Courier New',monospace\"><span style=\"color: #7fbfbf; text-decoration-color: #7fbfbf\">         </span><span style=\"color: #000080; text-decoration-color: #000080\">INFO    </span> <span style=\"color: #000000; text-decoration-color: #000000\">Applying selection for CMS_WORKSHOP in ttbar_semilep with variation                </span><a href=\"file:///Users/moaly/Work/iris-hep/integration-challenge/cms/analysis/nondiff.py\" target=\"_blank\"><span style=\"color: #7f7f7f; text-decoration-color: #7f7f7f\">nondiff.py</span></a><span style=\"color: #7f7f7f; text-decoration-color: #7f7f7f\">:</span><a href=\"file:///Users/moaly/Work/iris-hep/integration-challenge/cms/analysis/nondiff.py#154\" target=\"_blank\"><span style=\"color: #7f7f7f; text-decoration-color: #7f7f7f\">154</span></a>\n",
       "<span style=\"color: #7fbfbf; text-decoration-color: #7fbfbf\">         </span>         <span style=\"color: #000000; text-decoration-color: #000000\">muon_id_sf_down                                                                    </span><span style=\"color: #7f7f7f; text-decoration-color: #7f7f7f\">              </span>\n",
       "</pre>\n"
      ],
      "text/plain": [
       "\u001b[2;36m        \u001b[0m\u001b[2;36m \u001b[0m\u001b[34mINFO    \u001b[0m \u001b[39mApplying selection for CMS_WORKSHOP in ttbar_semilep with variation               \u001b[0m\u001b[39m \u001b[0m\u001b]8;id=603126;file:///Users/moaly/Work/iris-hep/integration-challenge/cms/analysis/nondiff.py\u001b\\\u001b[2mnondiff.py\u001b[0m\u001b]8;;\u001b\\\u001b[2m:\u001b[0m\u001b]8;id=217170;file:///Users/moaly/Work/iris-hep/integration-challenge/cms/analysis/nondiff.py#154\u001b\\\u001b[2m154\u001b[0m\u001b]8;;\u001b\\\n",
       "\u001b[2;36m         \u001b[0m         \u001b[39mmuon_id_sf_down                                                                   \u001b[0m\u001b[39m \u001b[0m\u001b[2m              \u001b[0m\n"
      ]
     },
     "metadata": {},
     "output_type": "display_data"
    },
    {
     "data": {
      "text/html": [
       "<pre style=\"white-space:pre;overflow-x:auto;line-height:normal;font-family:Menlo,'DejaVu Sans Mono',consolas,'Courier New',monospace\"><span style=\"color: #7fbfbf; text-decoration-color: #7fbfbf\">         </span><span style=\"color: #000080; text-decoration-color: #000080\">INFO    </span> <span style=\"color: #000000; text-decoration-color: #000000\">Applying correction: muon_id_sf/NUM_TightID_DEN_TrackerMuons </span><span style=\"color: #000000; text-decoration-color: #000000; font-weight: bold\">(</span><span style=\"color: #000000; text-decoration-color: #000000\">systdown</span><span style=\"color: #000000; text-decoration-color: #000000; font-weight: bold\">)</span><span style=\"color: #000000; text-decoration-color: #000000\">               </span><a href=\"file:///Users/moaly/Work/iris-hep/integration-challenge/cms/analysis/base.py\" target=\"_blank\"><span style=\"color: #7f7f7f; text-decoration-color: #7f7f7f\">base.py</span></a><span style=\"color: #7f7f7f; text-decoration-color: #7f7f7f\">:</span><a href=\"file:///Users/moaly/Work/iris-hep/integration-challenge/cms/analysis/base.py#247\" target=\"_blank\"><span style=\"color: #7f7f7f; text-decoration-color: #7f7f7f\">247</span></a>\n",
       "</pre>\n"
      ],
      "text/plain": [
       "\u001b[2;36m        \u001b[0m\u001b[2;36m \u001b[0m\u001b[34mINFO    \u001b[0m \u001b[39mApplying correction: muon_id_sf/NUM_TightID_DEN_TrackerMuons \u001b[0m\u001b[1;39m(\u001b[0m\u001b[39msystdown\u001b[0m\u001b[1;39m)\u001b[0m\u001b[39m              \u001b[0m\u001b[39m \u001b[0m\u001b]8;id=936100;file:///Users/moaly/Work/iris-hep/integration-challenge/cms/analysis/base.py\u001b\\\u001b[2mbase.py\u001b[0m\u001b]8;;\u001b\\\u001b[2m:\u001b[0m\u001b]8;id=144826;file:///Users/moaly/Work/iris-hep/integration-challenge/cms/analysis/base.py#247\u001b\\\u001b[2m247\u001b[0m\u001b]8;;\u001b\\\n"
      ]
     },
     "metadata": {},
     "output_type": "display_data"
    },
    {
     "data": {
      "text/html": [
       "<pre style=\"white-space:pre;overflow-x:auto;line-height:normal;font-family:Menlo,'DejaVu Sans Mono',consolas,'Courier New',monospace\"><span style=\"color: #7fbfbf; text-decoration-color: #7fbfbf\">         </span><span style=\"color: #000080; text-decoration-color: #000080\">INFO    </span> <span style=\"color: #000000; text-decoration-color: #000000\">Number of weighted events in CMS_WORKSHOP: </span><span style=\"color: #008080; text-decoration-color: #008080; font-weight: bold\">449.83</span><span style=\"color: #000000; text-decoration-color: #000000\">                                  </span><a href=\"file:///Users/moaly/Work/iris-hep/integration-challenge/cms/analysis/nondiff.py\" target=\"_blank\"><span style=\"color: #7f7f7f; text-decoration-color: #7f7f7f\">nondiff.py</span></a><span style=\"color: #7f7f7f; text-decoration-color: #7f7f7f\">:</span><a href=\"file:///Users/moaly/Work/iris-hep/integration-challenge/cms/analysis/nondiff.py#205\" target=\"_blank\"><span style=\"color: #7f7f7f; text-decoration-color: #7f7f7f\">205</span></a>\n",
       "</pre>\n"
      ],
      "text/plain": [
       "\u001b[2;36m        \u001b[0m\u001b[2;36m \u001b[0m\u001b[34mINFO    \u001b[0m \u001b[39mNumber of weighted events in CMS_WORKSHOP: \u001b[0m\u001b[1;36m449.83\u001b[0m\u001b[39m                                 \u001b[0m\u001b[39m \u001b[0m\u001b]8;id=234108;file:///Users/moaly/Work/iris-hep/integration-challenge/cms/analysis/nondiff.py\u001b\\\u001b[2mnondiff.py\u001b[0m\u001b]8;;\u001b\\\u001b[2m:\u001b[0m\u001b]8;id=564986;file:///Users/moaly/Work/iris-hep/integration-challenge/cms/analysis/nondiff.py#205\u001b\\\u001b[2m205\u001b[0m\u001b]8;;\u001b\\\n"
      ]
     },
     "metadata": {},
     "output_type": "display_data"
    },
    {
     "data": {
      "text/html": [
       "<pre style=\"white-space:pre;overflow-x:auto;line-height:normal;font-family:Menlo,'DejaVu Sans Mono',consolas,'Courier New',monospace\"><span style=\"color: #7fbfbf; text-decoration-color: #7fbfbf\">         </span><span style=\"color: #000080; text-decoration-color: #000080\">INFO    </span> <span style=\"color: #000000; text-decoration-color: #000000\">Number of raw events in CMS_WORKSHOP: </span><span style=\"color: #008080; text-decoration-color: #008080; font-weight: bold\">458</span><span style=\"color: #000000; text-decoration-color: #000000\">                                          </span><a href=\"file:///Users/moaly/Work/iris-hep/integration-challenge/cms/analysis/nondiff.py\" target=\"_blank\"><span style=\"color: #7f7f7f; text-decoration-color: #7f7f7f\">nondiff.py</span></a><span style=\"color: #7f7f7f; text-decoration-color: #7f7f7f\">:</span><a href=\"file:///Users/moaly/Work/iris-hep/integration-challenge/cms/analysis/nondiff.py#208\" target=\"_blank\"><span style=\"color: #7f7f7f; text-decoration-color: #7f7f7f\">208</span></a>\n",
       "</pre>\n"
      ],
      "text/plain": [
       "\u001b[2;36m        \u001b[0m\u001b[2;36m \u001b[0m\u001b[34mINFO    \u001b[0m \u001b[39mNumber of raw events in CMS_WORKSHOP: \u001b[0m\u001b[1;36m458\u001b[0m\u001b[39m                                         \u001b[0m\u001b[39m \u001b[0m\u001b]8;id=212629;file:///Users/moaly/Work/iris-hep/integration-challenge/cms/analysis/nondiff.py\u001b\\\u001b[2mnondiff.py\u001b[0m\u001b]8;;\u001b\\\u001b[2m:\u001b[0m\u001b]8;id=987437;file:///Users/moaly/Work/iris-hep/integration-challenge/cms/analysis/nondiff.py#208\u001b\\\u001b[2m208\u001b[0m\u001b]8;;\u001b\\\n"
      ]
     },
     "metadata": {},
     "output_type": "display_data"
    },
    {
     "data": {
      "text/html": [
       "<pre style=\"white-space:pre;overflow-x:auto;line-height:normal;font-family:Menlo,'DejaVu Sans Mono',consolas,'Courier New',monospace\"><span style=\"color: #7fbfbf; text-decoration-color: #7fbfbf\">         </span><span style=\"color: #000080; text-decoration-color: #000080\">INFO    </span> <span style=\"color: #000000; text-decoration-color: #000000\">Computing observable workshop_mtt                                                  </span><a href=\"file:///Users/moaly/Work/iris-hep/integration-challenge/cms/analysis/nondiff.py\" target=\"_blank\"><span style=\"color: #7f7f7f; text-decoration-color: #7f7f7f\">nondiff.py</span></a><span style=\"color: #7f7f7f; text-decoration-color: #7f7f7f\">:</span><a href=\"file:///Users/moaly/Work/iris-hep/integration-challenge/cms/analysis/nondiff.py#213\" target=\"_blank\"><span style=\"color: #7f7f7f; text-decoration-color: #7f7f7f\">213</span></a>\n",
       "</pre>\n"
      ],
      "text/plain": [
       "\u001b[2;36m        \u001b[0m\u001b[2;36m \u001b[0m\u001b[34mINFO    \u001b[0m \u001b[39mComputing observable workshop_mtt                                                 \u001b[0m\u001b[39m \u001b[0m\u001b]8;id=878435;file:///Users/moaly/Work/iris-hep/integration-challenge/cms/analysis/nondiff.py\u001b\\\u001b[2mnondiff.py\u001b[0m\u001b]8;;\u001b\\\u001b[2m:\u001b[0m\u001b]8;id=651496;file:///Users/moaly/Work/iris-hep/integration-challenge/cms/analysis/nondiff.py#213\u001b\\\u001b[2m213\u001b[0m\u001b]8;;\u001b\\\n"
      ]
     },
     "metadata": {},
     "output_type": "display_data"
    },
    {
     "name": "stdout",
     "output_type": "stream",
     "text": [
      "📊 Processing dataset: signal__nominal\n",
      "   • Processing 97109 events with metadata: signal\n"
     ]
    },
    {
     "data": {
      "text/html": [
       "<pre style=\"white-space:pre;overflow-x:auto;line-height:normal;font-family:Menlo,'DejaVu Sans Mono',consolas,'Courier New',monospace\"><span style=\"color: #7fbfbf; text-decoration-color: #7fbfbf\">         </span><span style=\"color: #000080; text-decoration-color: #000080\">INFO    </span> <span style=\"color: #000000; text-decoration-color: #000000\">Applying selection for CMS_WORKSHOP in signal with variation nominal               </span><a href=\"file:///Users/moaly/Work/iris-hep/integration-challenge/cms/analysis/nondiff.py\" target=\"_blank\"><span style=\"color: #7f7f7f; text-decoration-color: #7f7f7f\">nondiff.py</span></a><span style=\"color: #7f7f7f; text-decoration-color: #7f7f7f\">:</span><a href=\"file:///Users/moaly/Work/iris-hep/integration-challenge/cms/analysis/nondiff.py#154\" target=\"_blank\"><span style=\"color: #7f7f7f; text-decoration-color: #7f7f7f\">154</span></a>\n",
       "</pre>\n"
      ],
      "text/plain": [
       "\u001b[2;36m        \u001b[0m\u001b[2;36m \u001b[0m\u001b[34mINFO    \u001b[0m \u001b[39mApplying selection for CMS_WORKSHOP in signal with variation nominal              \u001b[0m\u001b[39m \u001b[0m\u001b]8;id=769490;file:///Users/moaly/Work/iris-hep/integration-challenge/cms/analysis/nondiff.py\u001b\\\u001b[2mnondiff.py\u001b[0m\u001b]8;;\u001b\\\u001b[2m:\u001b[0m\u001b]8;id=244546;file:///Users/moaly/Work/iris-hep/integration-challenge/cms/analysis/nondiff.py#154\u001b\\\u001b[2m154\u001b[0m\u001b]8;;\u001b\\\n"
      ]
     },
     "metadata": {},
     "output_type": "display_data"
    },
    {
     "data": {
      "text/html": [
       "<pre style=\"white-space:pre;overflow-x:auto;line-height:normal;font-family:Menlo,'DejaVu Sans Mono',consolas,'Courier New',monospace\"><span style=\"color: #7fbfbf; text-decoration-color: #7fbfbf\">         </span><span style=\"color: #000080; text-decoration-color: #000080\">INFO    </span> <span style=\"color: #000000; text-decoration-color: #000000\">Number of weighted events in CMS_WORKSHOP: </span><span style=\"color: #008080; text-decoration-color: #008080; font-weight: bold\">515.29</span><span style=\"color: #000000; text-decoration-color: #000000\">                                  </span><a href=\"file:///Users/moaly/Work/iris-hep/integration-challenge/cms/analysis/nondiff.py\" target=\"_blank\"><span style=\"color: #7f7f7f; text-decoration-color: #7f7f7f\">nondiff.py</span></a><span style=\"color: #7f7f7f; text-decoration-color: #7f7f7f\">:</span><a href=\"file:///Users/moaly/Work/iris-hep/integration-challenge/cms/analysis/nondiff.py#205\" target=\"_blank\"><span style=\"color: #7f7f7f; text-decoration-color: #7f7f7f\">205</span></a>\n",
       "</pre>\n"
      ],
      "text/plain": [
       "\u001b[2;36m        \u001b[0m\u001b[2;36m \u001b[0m\u001b[34mINFO    \u001b[0m \u001b[39mNumber of weighted events in CMS_WORKSHOP: \u001b[0m\u001b[1;36m515.29\u001b[0m\u001b[39m                                 \u001b[0m\u001b[39m \u001b[0m\u001b]8;id=399536;file:///Users/moaly/Work/iris-hep/integration-challenge/cms/analysis/nondiff.py\u001b\\\u001b[2mnondiff.py\u001b[0m\u001b]8;;\u001b\\\u001b[2m:\u001b[0m\u001b]8;id=337877;file:///Users/moaly/Work/iris-hep/integration-challenge/cms/analysis/nondiff.py#205\u001b\\\u001b[2m205\u001b[0m\u001b]8;;\u001b\\\n"
      ]
     },
     "metadata": {},
     "output_type": "display_data"
    },
    {
     "data": {
      "text/html": [
       "<pre style=\"white-space:pre;overflow-x:auto;line-height:normal;font-family:Menlo,'DejaVu Sans Mono',consolas,'Courier New',monospace\"><span style=\"color: #7fbfbf; text-decoration-color: #7fbfbf\">         </span><span style=\"color: #000080; text-decoration-color: #000080\">INFO    </span> <span style=\"color: #000000; text-decoration-color: #000000\">Number of raw events in CMS_WORKSHOP: </span><span style=\"color: #008080; text-decoration-color: #008080; font-weight: bold\">16069</span><span style=\"color: #000000; text-decoration-color: #000000\">                                        </span><a href=\"file:///Users/moaly/Work/iris-hep/integration-challenge/cms/analysis/nondiff.py\" target=\"_blank\"><span style=\"color: #7f7f7f; text-decoration-color: #7f7f7f\">nondiff.py</span></a><span style=\"color: #7f7f7f; text-decoration-color: #7f7f7f\">:</span><a href=\"file:///Users/moaly/Work/iris-hep/integration-challenge/cms/analysis/nondiff.py#208\" target=\"_blank\"><span style=\"color: #7f7f7f; text-decoration-color: #7f7f7f\">208</span></a>\n",
       "</pre>\n"
      ],
      "text/plain": [
       "\u001b[2;36m        \u001b[0m\u001b[2;36m \u001b[0m\u001b[34mINFO    \u001b[0m \u001b[39mNumber of raw events in CMS_WORKSHOP: \u001b[0m\u001b[1;36m16069\u001b[0m\u001b[39m                                       \u001b[0m\u001b[39m \u001b[0m\u001b]8;id=265576;file:///Users/moaly/Work/iris-hep/integration-challenge/cms/analysis/nondiff.py\u001b\\\u001b[2mnondiff.py\u001b[0m\u001b]8;;\u001b\\\u001b[2m:\u001b[0m\u001b]8;id=848483;file:///Users/moaly/Work/iris-hep/integration-challenge/cms/analysis/nondiff.py#208\u001b\\\u001b[2m208\u001b[0m\u001b]8;;\u001b\\\n"
      ]
     },
     "metadata": {},
     "output_type": "display_data"
    },
    {
     "data": {
      "text/html": [
       "<pre style=\"white-space:pre;overflow-x:auto;line-height:normal;font-family:Menlo,'DejaVu Sans Mono',consolas,'Courier New',monospace\"><span style=\"color: #7fbfbf; text-decoration-color: #7fbfbf\">         </span><span style=\"color: #000080; text-decoration-color: #000080\">INFO    </span> <span style=\"color: #000000; text-decoration-color: #000000\">Computing observable workshop_mtt                                                  </span><a href=\"file:///Users/moaly/Work/iris-hep/integration-challenge/cms/analysis/nondiff.py\" target=\"_blank\"><span style=\"color: #7f7f7f; text-decoration-color: #7f7f7f\">nondiff.py</span></a><span style=\"color: #7f7f7f; text-decoration-color: #7f7f7f\">:</span><a href=\"file:///Users/moaly/Work/iris-hep/integration-challenge/cms/analysis/nondiff.py#213\" target=\"_blank\"><span style=\"color: #7f7f7f; text-decoration-color: #7f7f7f\">213</span></a>\n",
       "</pre>\n"
      ],
      "text/plain": [
       "\u001b[2;36m        \u001b[0m\u001b[2;36m \u001b[0m\u001b[34mINFO    \u001b[0m \u001b[39mComputing observable workshop_mtt                                                 \u001b[0m\u001b[39m \u001b[0m\u001b]8;id=99836;file:///Users/moaly/Work/iris-hep/integration-challenge/cms/analysis/nondiff.py\u001b\\\u001b[2mnondiff.py\u001b[0m\u001b]8;;\u001b\\\u001b[2m:\u001b[0m\u001b]8;id=273110;file:///Users/moaly/Work/iris-hep/integration-challenge/cms/analysis/nondiff.py#213\u001b\\\u001b[2m213\u001b[0m\u001b]8;;\u001b\\\n"
      ]
     },
     "metadata": {},
     "output_type": "display_data"
    },
    {
     "data": {
      "text/html": [
       "<pre style=\"white-space:pre;overflow-x:auto;line-height:normal;font-family:Menlo,'DejaVu Sans Mono',consolas,'Courier New',monospace\"><span style=\"color: #7fbfbf; text-decoration-color: #7fbfbf\">         </span><span style=\"color: #000080; text-decoration-color: #000080\">INFO    </span> <span style=\"color: #000000; text-decoration-color: #000000\">Applying selection for CMS_WORKSHOP in signal with variation jet_pt_resolution_up  </span><a href=\"file:///Users/moaly/Work/iris-hep/integration-challenge/cms/analysis/nondiff.py\" target=\"_blank\"><span style=\"color: #7f7f7f; text-decoration-color: #7f7f7f\">nondiff.py</span></a><span style=\"color: #7f7f7f; text-decoration-color: #7f7f7f\">:</span><a href=\"file:///Users/moaly/Work/iris-hep/integration-challenge/cms/analysis/nondiff.py#154\" target=\"_blank\"><span style=\"color: #7f7f7f; text-decoration-color: #7f7f7f\">154</span></a>\n",
       "</pre>\n"
      ],
      "text/plain": [
       "\u001b[2;36m        \u001b[0m\u001b[2;36m \u001b[0m\u001b[34mINFO    \u001b[0m \u001b[39mApplying selection for CMS_WORKSHOP in signal with variation jet_pt_resolution_up \u001b[0m\u001b[39m \u001b[0m\u001b]8;id=619515;file:///Users/moaly/Work/iris-hep/integration-challenge/cms/analysis/nondiff.py\u001b\\\u001b[2mnondiff.py\u001b[0m\u001b]8;;\u001b\\\u001b[2m:\u001b[0m\u001b]8;id=9497;file:///Users/moaly/Work/iris-hep/integration-challenge/cms/analysis/nondiff.py#154\u001b\\\u001b[2m154\u001b[0m\u001b]8;;\u001b\\\n"
      ]
     },
     "metadata": {},
     "output_type": "display_data"
    },
    {
     "data": {
      "text/html": [
       "<pre style=\"white-space:pre;overflow-x:auto;line-height:normal;font-family:Menlo,'DejaVu Sans Mono',consolas,'Courier New',monospace\"><span style=\"color: #7fbfbf; text-decoration-color: #7fbfbf\">         </span><span style=\"color: #000080; text-decoration-color: #000080\">INFO    </span> <span style=\"color: #000000; text-decoration-color: #000000\">Number of weighted events in CMS_WORKSHOP: </span><span style=\"color: #008080; text-decoration-color: #008080; font-weight: bold\">515.29</span><span style=\"color: #000000; text-decoration-color: #000000\">                                  </span><a href=\"file:///Users/moaly/Work/iris-hep/integration-challenge/cms/analysis/nondiff.py\" target=\"_blank\"><span style=\"color: #7f7f7f; text-decoration-color: #7f7f7f\">nondiff.py</span></a><span style=\"color: #7f7f7f; text-decoration-color: #7f7f7f\">:</span><a href=\"file:///Users/moaly/Work/iris-hep/integration-challenge/cms/analysis/nondiff.py#205\" target=\"_blank\"><span style=\"color: #7f7f7f; text-decoration-color: #7f7f7f\">205</span></a>\n",
       "</pre>\n"
      ],
      "text/plain": [
       "\u001b[2;36m        \u001b[0m\u001b[2;36m \u001b[0m\u001b[34mINFO    \u001b[0m \u001b[39mNumber of weighted events in CMS_WORKSHOP: \u001b[0m\u001b[1;36m515.29\u001b[0m\u001b[39m                                 \u001b[0m\u001b[39m \u001b[0m\u001b]8;id=293683;file:///Users/moaly/Work/iris-hep/integration-challenge/cms/analysis/nondiff.py\u001b\\\u001b[2mnondiff.py\u001b[0m\u001b]8;;\u001b\\\u001b[2m:\u001b[0m\u001b]8;id=768296;file:///Users/moaly/Work/iris-hep/integration-challenge/cms/analysis/nondiff.py#205\u001b\\\u001b[2m205\u001b[0m\u001b]8;;\u001b\\\n"
      ]
     },
     "metadata": {},
     "output_type": "display_data"
    },
    {
     "data": {
      "text/html": [
       "<pre style=\"white-space:pre;overflow-x:auto;line-height:normal;font-family:Menlo,'DejaVu Sans Mono',consolas,'Courier New',monospace\"><span style=\"color: #7fbfbf; text-decoration-color: #7fbfbf\">         </span><span style=\"color: #000080; text-decoration-color: #000080\">INFO    </span> <span style=\"color: #000000; text-decoration-color: #000000\">Number of raw events in CMS_WORKSHOP: </span><span style=\"color: #008080; text-decoration-color: #008080; font-weight: bold\">16069</span><span style=\"color: #000000; text-decoration-color: #000000\">                                        </span><a href=\"file:///Users/moaly/Work/iris-hep/integration-challenge/cms/analysis/nondiff.py\" target=\"_blank\"><span style=\"color: #7f7f7f; text-decoration-color: #7f7f7f\">nondiff.py</span></a><span style=\"color: #7f7f7f; text-decoration-color: #7f7f7f\">:</span><a href=\"file:///Users/moaly/Work/iris-hep/integration-challenge/cms/analysis/nondiff.py#208\" target=\"_blank\"><span style=\"color: #7f7f7f; text-decoration-color: #7f7f7f\">208</span></a>\n",
       "</pre>\n"
      ],
      "text/plain": [
       "\u001b[2;36m        \u001b[0m\u001b[2;36m \u001b[0m\u001b[34mINFO    \u001b[0m \u001b[39mNumber of raw events in CMS_WORKSHOP: \u001b[0m\u001b[1;36m16069\u001b[0m\u001b[39m                                       \u001b[0m\u001b[39m \u001b[0m\u001b]8;id=756703;file:///Users/moaly/Work/iris-hep/integration-challenge/cms/analysis/nondiff.py\u001b\\\u001b[2mnondiff.py\u001b[0m\u001b]8;;\u001b\\\u001b[2m:\u001b[0m\u001b]8;id=369719;file:///Users/moaly/Work/iris-hep/integration-challenge/cms/analysis/nondiff.py#208\u001b\\\u001b[2m208\u001b[0m\u001b]8;;\u001b\\\n"
      ]
     },
     "metadata": {},
     "output_type": "display_data"
    },
    {
     "data": {
      "text/html": [
       "<pre style=\"white-space:pre;overflow-x:auto;line-height:normal;font-family:Menlo,'DejaVu Sans Mono',consolas,'Courier New',monospace\"><span style=\"color: #7fbfbf; text-decoration-color: #7fbfbf\">         </span><span style=\"color: #000080; text-decoration-color: #000080\">INFO    </span> <span style=\"color: #000000; text-decoration-color: #000000\">Computing observable workshop_mtt                                                  </span><a href=\"file:///Users/moaly/Work/iris-hep/integration-challenge/cms/analysis/nondiff.py\" target=\"_blank\"><span style=\"color: #7f7f7f; text-decoration-color: #7f7f7f\">nondiff.py</span></a><span style=\"color: #7f7f7f; text-decoration-color: #7f7f7f\">:</span><a href=\"file:///Users/moaly/Work/iris-hep/integration-challenge/cms/analysis/nondiff.py#213\" target=\"_blank\"><span style=\"color: #7f7f7f; text-decoration-color: #7f7f7f\">213</span></a>\n",
       "</pre>\n"
      ],
      "text/plain": [
       "\u001b[2;36m        \u001b[0m\u001b[2;36m \u001b[0m\u001b[34mINFO    \u001b[0m \u001b[39mComputing observable workshop_mtt                                                 \u001b[0m\u001b[39m \u001b[0m\u001b]8;id=661946;file:///Users/moaly/Work/iris-hep/integration-challenge/cms/analysis/nondiff.py\u001b\\\u001b[2mnondiff.py\u001b[0m\u001b]8;;\u001b\\\u001b[2m:\u001b[0m\u001b]8;id=352022;file:///Users/moaly/Work/iris-hep/integration-challenge/cms/analysis/nondiff.py#213\u001b\\\u001b[2m213\u001b[0m\u001b]8;;\u001b\\\n"
      ]
     },
     "metadata": {},
     "output_type": "display_data"
    },
    {
     "data": {
      "text/html": [
       "<pre style=\"white-space:pre;overflow-x:auto;line-height:normal;font-family:Menlo,'DejaVu Sans Mono',consolas,'Courier New',monospace\"><span style=\"color: #7fbfbf; text-decoration-color: #7fbfbf\">         </span><span style=\"color: #000080; text-decoration-color: #000080\">INFO    </span> <span style=\"color: #000000; text-decoration-color: #000000\">Applying selection for CMS_WORKSHOP in signal with variation                       </span><a href=\"file:///Users/moaly/Work/iris-hep/integration-challenge/cms/analysis/nondiff.py\" target=\"_blank\"><span style=\"color: #7f7f7f; text-decoration-color: #7f7f7f\">nondiff.py</span></a><span style=\"color: #7f7f7f; text-decoration-color: #7f7f7f\">:</span><a href=\"file:///Users/moaly/Work/iris-hep/integration-challenge/cms/analysis/nondiff.py#154\" target=\"_blank\"><span style=\"color: #7f7f7f; text-decoration-color: #7f7f7f\">154</span></a>\n",
       "<span style=\"color: #7fbfbf; text-decoration-color: #7fbfbf\">         </span>         <span style=\"color: #000000; text-decoration-color: #000000\">jet_pt_resolution_down                                                             </span><span style=\"color: #7f7f7f; text-decoration-color: #7f7f7f\">              </span>\n",
       "</pre>\n"
      ],
      "text/plain": [
       "\u001b[2;36m        \u001b[0m\u001b[2;36m \u001b[0m\u001b[34mINFO    \u001b[0m \u001b[39mApplying selection for CMS_WORKSHOP in signal with variation                      \u001b[0m\u001b[39m \u001b[0m\u001b]8;id=482485;file:///Users/moaly/Work/iris-hep/integration-challenge/cms/analysis/nondiff.py\u001b\\\u001b[2mnondiff.py\u001b[0m\u001b]8;;\u001b\\\u001b[2m:\u001b[0m\u001b]8;id=289761;file:///Users/moaly/Work/iris-hep/integration-challenge/cms/analysis/nondiff.py#154\u001b\\\u001b[2m154\u001b[0m\u001b]8;;\u001b\\\n",
       "\u001b[2;36m         \u001b[0m         \u001b[39mjet_pt_resolution_down                                                            \u001b[0m\u001b[39m \u001b[0m\u001b[2m              \u001b[0m\n"
      ]
     },
     "metadata": {},
     "output_type": "display_data"
    },
    {
     "data": {
      "text/html": [
       "<pre style=\"white-space:pre;overflow-x:auto;line-height:normal;font-family:Menlo,'DejaVu Sans Mono',consolas,'Courier New',monospace\"><span style=\"color: #7fbfbf; text-decoration-color: #7fbfbf\">         </span><span style=\"color: #000080; text-decoration-color: #000080\">INFO    </span> <span style=\"color: #000000; text-decoration-color: #000000\">Number of weighted events in CMS_WORKSHOP: </span><span style=\"color: #008080; text-decoration-color: #008080; font-weight: bold\">515.29</span><span style=\"color: #000000; text-decoration-color: #000000\">                                  </span><a href=\"file:///Users/moaly/Work/iris-hep/integration-challenge/cms/analysis/nondiff.py\" target=\"_blank\"><span style=\"color: #7f7f7f; text-decoration-color: #7f7f7f\">nondiff.py</span></a><span style=\"color: #7f7f7f; text-decoration-color: #7f7f7f\">:</span><a href=\"file:///Users/moaly/Work/iris-hep/integration-challenge/cms/analysis/nondiff.py#205\" target=\"_blank\"><span style=\"color: #7f7f7f; text-decoration-color: #7f7f7f\">205</span></a>\n",
       "</pre>\n"
      ],
      "text/plain": [
       "\u001b[2;36m        \u001b[0m\u001b[2;36m \u001b[0m\u001b[34mINFO    \u001b[0m \u001b[39mNumber of weighted events in CMS_WORKSHOP: \u001b[0m\u001b[1;36m515.29\u001b[0m\u001b[39m                                 \u001b[0m\u001b[39m \u001b[0m\u001b]8;id=900030;file:///Users/moaly/Work/iris-hep/integration-challenge/cms/analysis/nondiff.py\u001b\\\u001b[2mnondiff.py\u001b[0m\u001b]8;;\u001b\\\u001b[2m:\u001b[0m\u001b]8;id=773634;file:///Users/moaly/Work/iris-hep/integration-challenge/cms/analysis/nondiff.py#205\u001b\\\u001b[2m205\u001b[0m\u001b]8;;\u001b\\\n"
      ]
     },
     "metadata": {},
     "output_type": "display_data"
    },
    {
     "data": {
      "text/html": [
       "<pre style=\"white-space:pre;overflow-x:auto;line-height:normal;font-family:Menlo,'DejaVu Sans Mono',consolas,'Courier New',monospace\"><span style=\"color: #7fbfbf; text-decoration-color: #7fbfbf\">         </span><span style=\"color: #000080; text-decoration-color: #000080\">INFO    </span> <span style=\"color: #000000; text-decoration-color: #000000\">Number of raw events in CMS_WORKSHOP: </span><span style=\"color: #008080; text-decoration-color: #008080; font-weight: bold\">16069</span><span style=\"color: #000000; text-decoration-color: #000000\">                                        </span><a href=\"file:///Users/moaly/Work/iris-hep/integration-challenge/cms/analysis/nondiff.py\" target=\"_blank\"><span style=\"color: #7f7f7f; text-decoration-color: #7f7f7f\">nondiff.py</span></a><span style=\"color: #7f7f7f; text-decoration-color: #7f7f7f\">:</span><a href=\"file:///Users/moaly/Work/iris-hep/integration-challenge/cms/analysis/nondiff.py#208\" target=\"_blank\"><span style=\"color: #7f7f7f; text-decoration-color: #7f7f7f\">208</span></a>\n",
       "</pre>\n"
      ],
      "text/plain": [
       "\u001b[2;36m        \u001b[0m\u001b[2;36m \u001b[0m\u001b[34mINFO    \u001b[0m \u001b[39mNumber of raw events in CMS_WORKSHOP: \u001b[0m\u001b[1;36m16069\u001b[0m\u001b[39m                                       \u001b[0m\u001b[39m \u001b[0m\u001b]8;id=586428;file:///Users/moaly/Work/iris-hep/integration-challenge/cms/analysis/nondiff.py\u001b\\\u001b[2mnondiff.py\u001b[0m\u001b]8;;\u001b\\\u001b[2m:\u001b[0m\u001b]8;id=237565;file:///Users/moaly/Work/iris-hep/integration-challenge/cms/analysis/nondiff.py#208\u001b\\\u001b[2m208\u001b[0m\u001b]8;;\u001b\\\n"
      ]
     },
     "metadata": {},
     "output_type": "display_data"
    },
    {
     "data": {
      "text/html": [
       "<pre style=\"white-space:pre;overflow-x:auto;line-height:normal;font-family:Menlo,'DejaVu Sans Mono',consolas,'Courier New',monospace\"><span style=\"color: #7fbfbf; text-decoration-color: #7fbfbf\">         </span><span style=\"color: #000080; text-decoration-color: #000080\">INFO    </span> <span style=\"color: #000000; text-decoration-color: #000000\">Computing observable workshop_mtt                                                  </span><a href=\"file:///Users/moaly/Work/iris-hep/integration-challenge/cms/analysis/nondiff.py\" target=\"_blank\"><span style=\"color: #7f7f7f; text-decoration-color: #7f7f7f\">nondiff.py</span></a><span style=\"color: #7f7f7f; text-decoration-color: #7f7f7f\">:</span><a href=\"file:///Users/moaly/Work/iris-hep/integration-challenge/cms/analysis/nondiff.py#213\" target=\"_blank\"><span style=\"color: #7f7f7f; text-decoration-color: #7f7f7f\">213</span></a>\n",
       "</pre>\n"
      ],
      "text/plain": [
       "\u001b[2;36m        \u001b[0m\u001b[2;36m \u001b[0m\u001b[34mINFO    \u001b[0m \u001b[39mComputing observable workshop_mtt                                                 \u001b[0m\u001b[39m \u001b[0m\u001b]8;id=623965;file:///Users/moaly/Work/iris-hep/integration-challenge/cms/analysis/nondiff.py\u001b\\\u001b[2mnondiff.py\u001b[0m\u001b]8;;\u001b\\\u001b[2m:\u001b[0m\u001b]8;id=675146;file:///Users/moaly/Work/iris-hep/integration-challenge/cms/analysis/nondiff.py#213\u001b\\\u001b[2m213\u001b[0m\u001b]8;;\u001b\\\n"
      ]
     },
     "metadata": {},
     "output_type": "display_data"
    },
    {
     "data": {
      "text/html": [
       "<pre style=\"white-space:pre;overflow-x:auto;line-height:normal;font-family:Menlo,'DejaVu Sans Mono',consolas,'Courier New',monospace\"><span style=\"color: #7fbfbf; text-decoration-color: #7fbfbf\">         </span><span style=\"color: #000080; text-decoration-color: #000080\">INFO    </span> <span style=\"color: #000000; text-decoration-color: #000000\">Applying selection for CMS_WORKSHOP in signal with variation jet_pt_scale_up       </span><a href=\"file:///Users/moaly/Work/iris-hep/integration-challenge/cms/analysis/nondiff.py\" target=\"_blank\"><span style=\"color: #7f7f7f; text-decoration-color: #7f7f7f\">nondiff.py</span></a><span style=\"color: #7f7f7f; text-decoration-color: #7f7f7f\">:</span><a href=\"file:///Users/moaly/Work/iris-hep/integration-challenge/cms/analysis/nondiff.py#154\" target=\"_blank\"><span style=\"color: #7f7f7f; text-decoration-color: #7f7f7f\">154</span></a>\n",
       "</pre>\n"
      ],
      "text/plain": [
       "\u001b[2;36m        \u001b[0m\u001b[2;36m \u001b[0m\u001b[34mINFO    \u001b[0m \u001b[39mApplying selection for CMS_WORKSHOP in signal with variation jet_pt_scale_up      \u001b[0m\u001b[39m \u001b[0m\u001b]8;id=66325;file:///Users/moaly/Work/iris-hep/integration-challenge/cms/analysis/nondiff.py\u001b\\\u001b[2mnondiff.py\u001b[0m\u001b]8;;\u001b\\\u001b[2m:\u001b[0m\u001b]8;id=353609;file:///Users/moaly/Work/iris-hep/integration-challenge/cms/analysis/nondiff.py#154\u001b\\\u001b[2m154\u001b[0m\u001b]8;;\u001b\\\n"
      ]
     },
     "metadata": {},
     "output_type": "display_data"
    },
    {
     "data": {
      "text/html": [
       "<pre style=\"white-space:pre;overflow-x:auto;line-height:normal;font-family:Menlo,'DejaVu Sans Mono',consolas,'Courier New',monospace\"><span style=\"color: #7fbfbf; text-decoration-color: #7fbfbf\">         </span><span style=\"color: #000080; text-decoration-color: #000080\">INFO    </span> <span style=\"color: #000000; text-decoration-color: #000000\">Number of weighted events in CMS_WORKSHOP: </span><span style=\"color: #008080; text-decoration-color: #008080; font-weight: bold\">515.29</span><span style=\"color: #000000; text-decoration-color: #000000\">                                  </span><a href=\"file:///Users/moaly/Work/iris-hep/integration-challenge/cms/analysis/nondiff.py\" target=\"_blank\"><span style=\"color: #7f7f7f; text-decoration-color: #7f7f7f\">nondiff.py</span></a><span style=\"color: #7f7f7f; text-decoration-color: #7f7f7f\">:</span><a href=\"file:///Users/moaly/Work/iris-hep/integration-challenge/cms/analysis/nondiff.py#205\" target=\"_blank\"><span style=\"color: #7f7f7f; text-decoration-color: #7f7f7f\">205</span></a>\n",
       "</pre>\n"
      ],
      "text/plain": [
       "\u001b[2;36m        \u001b[0m\u001b[2;36m \u001b[0m\u001b[34mINFO    \u001b[0m \u001b[39mNumber of weighted events in CMS_WORKSHOP: \u001b[0m\u001b[1;36m515.29\u001b[0m\u001b[39m                                 \u001b[0m\u001b[39m \u001b[0m\u001b]8;id=67379;file:///Users/moaly/Work/iris-hep/integration-challenge/cms/analysis/nondiff.py\u001b\\\u001b[2mnondiff.py\u001b[0m\u001b]8;;\u001b\\\u001b[2m:\u001b[0m\u001b]8;id=139974;file:///Users/moaly/Work/iris-hep/integration-challenge/cms/analysis/nondiff.py#205\u001b\\\u001b[2m205\u001b[0m\u001b]8;;\u001b\\\n"
      ]
     },
     "metadata": {},
     "output_type": "display_data"
    },
    {
     "data": {
      "text/html": [
       "<pre style=\"white-space:pre;overflow-x:auto;line-height:normal;font-family:Menlo,'DejaVu Sans Mono',consolas,'Courier New',monospace\"><span style=\"color: #7fbfbf; text-decoration-color: #7fbfbf\">         </span><span style=\"color: #000080; text-decoration-color: #000080\">INFO    </span> <span style=\"color: #000000; text-decoration-color: #000000\">Number of raw events in CMS_WORKSHOP: </span><span style=\"color: #008080; text-decoration-color: #008080; font-weight: bold\">16069</span><span style=\"color: #000000; text-decoration-color: #000000\">                                        </span><a href=\"file:///Users/moaly/Work/iris-hep/integration-challenge/cms/analysis/nondiff.py\" target=\"_blank\"><span style=\"color: #7f7f7f; text-decoration-color: #7f7f7f\">nondiff.py</span></a><span style=\"color: #7f7f7f; text-decoration-color: #7f7f7f\">:</span><a href=\"file:///Users/moaly/Work/iris-hep/integration-challenge/cms/analysis/nondiff.py#208\" target=\"_blank\"><span style=\"color: #7f7f7f; text-decoration-color: #7f7f7f\">208</span></a>\n",
       "</pre>\n"
      ],
      "text/plain": [
       "\u001b[2;36m        \u001b[0m\u001b[2;36m \u001b[0m\u001b[34mINFO    \u001b[0m \u001b[39mNumber of raw events in CMS_WORKSHOP: \u001b[0m\u001b[1;36m16069\u001b[0m\u001b[39m                                       \u001b[0m\u001b[39m \u001b[0m\u001b]8;id=973902;file:///Users/moaly/Work/iris-hep/integration-challenge/cms/analysis/nondiff.py\u001b\\\u001b[2mnondiff.py\u001b[0m\u001b]8;;\u001b\\\u001b[2m:\u001b[0m\u001b]8;id=397384;file:///Users/moaly/Work/iris-hep/integration-challenge/cms/analysis/nondiff.py#208\u001b\\\u001b[2m208\u001b[0m\u001b]8;;\u001b\\\n"
      ]
     },
     "metadata": {},
     "output_type": "display_data"
    },
    {
     "data": {
      "text/html": [
       "<pre style=\"white-space:pre;overflow-x:auto;line-height:normal;font-family:Menlo,'DejaVu Sans Mono',consolas,'Courier New',monospace\"><span style=\"color: #7fbfbf; text-decoration-color: #7fbfbf\">         </span><span style=\"color: #000080; text-decoration-color: #000080\">INFO    </span> <span style=\"color: #000000; text-decoration-color: #000000\">Computing observable workshop_mtt                                                  </span><a href=\"file:///Users/moaly/Work/iris-hep/integration-challenge/cms/analysis/nondiff.py\" target=\"_blank\"><span style=\"color: #7f7f7f; text-decoration-color: #7f7f7f\">nondiff.py</span></a><span style=\"color: #7f7f7f; text-decoration-color: #7f7f7f\">:</span><a href=\"file:///Users/moaly/Work/iris-hep/integration-challenge/cms/analysis/nondiff.py#213\" target=\"_blank\"><span style=\"color: #7f7f7f; text-decoration-color: #7f7f7f\">213</span></a>\n",
       "</pre>\n"
      ],
      "text/plain": [
       "\u001b[2;36m        \u001b[0m\u001b[2;36m \u001b[0m\u001b[34mINFO    \u001b[0m \u001b[39mComputing observable workshop_mtt                                                 \u001b[0m\u001b[39m \u001b[0m\u001b]8;id=327204;file:///Users/moaly/Work/iris-hep/integration-challenge/cms/analysis/nondiff.py\u001b\\\u001b[2mnondiff.py\u001b[0m\u001b]8;;\u001b\\\u001b[2m:\u001b[0m\u001b]8;id=344640;file:///Users/moaly/Work/iris-hep/integration-challenge/cms/analysis/nondiff.py#213\u001b\\\u001b[2m213\u001b[0m\u001b]8;;\u001b\\\n"
      ]
     },
     "metadata": {},
     "output_type": "display_data"
    },
    {
     "data": {
      "text/html": [
       "<pre style=\"white-space:pre;overflow-x:auto;line-height:normal;font-family:Menlo,'DejaVu Sans Mono',consolas,'Courier New',monospace\"><span style=\"color: #7fbfbf; text-decoration-color: #7fbfbf\">         </span><span style=\"color: #000080; text-decoration-color: #000080\">INFO    </span> <span style=\"color: #000000; text-decoration-color: #000000\">Applying selection for CMS_WORKSHOP in signal with variation jet_pt_scale_down     </span><a href=\"file:///Users/moaly/Work/iris-hep/integration-challenge/cms/analysis/nondiff.py\" target=\"_blank\"><span style=\"color: #7f7f7f; text-decoration-color: #7f7f7f\">nondiff.py</span></a><span style=\"color: #7f7f7f; text-decoration-color: #7f7f7f\">:</span><a href=\"file:///Users/moaly/Work/iris-hep/integration-challenge/cms/analysis/nondiff.py#154\" target=\"_blank\"><span style=\"color: #7f7f7f; text-decoration-color: #7f7f7f\">154</span></a>\n",
       "</pre>\n"
      ],
      "text/plain": [
       "\u001b[2;36m        \u001b[0m\u001b[2;36m \u001b[0m\u001b[34mINFO    \u001b[0m \u001b[39mApplying selection for CMS_WORKSHOP in signal with variation jet_pt_scale_down    \u001b[0m\u001b[39m \u001b[0m\u001b]8;id=812958;file:///Users/moaly/Work/iris-hep/integration-challenge/cms/analysis/nondiff.py\u001b\\\u001b[2mnondiff.py\u001b[0m\u001b]8;;\u001b\\\u001b[2m:\u001b[0m\u001b]8;id=133335;file:///Users/moaly/Work/iris-hep/integration-challenge/cms/analysis/nondiff.py#154\u001b\\\u001b[2m154\u001b[0m\u001b]8;;\u001b\\\n"
      ]
     },
     "metadata": {},
     "output_type": "display_data"
    },
    {
     "data": {
      "text/html": [
       "<pre style=\"white-space:pre;overflow-x:auto;line-height:normal;font-family:Menlo,'DejaVu Sans Mono',consolas,'Courier New',monospace\"><span style=\"color: #7fbfbf; text-decoration-color: #7fbfbf\">         </span><span style=\"color: #000080; text-decoration-color: #000080\">INFO    </span> <span style=\"color: #000000; text-decoration-color: #000000\">Number of weighted events in CMS_WORKSHOP: </span><span style=\"color: #008080; text-decoration-color: #008080; font-weight: bold\">515.29</span><span style=\"color: #000000; text-decoration-color: #000000\">                                  </span><a href=\"file:///Users/moaly/Work/iris-hep/integration-challenge/cms/analysis/nondiff.py\" target=\"_blank\"><span style=\"color: #7f7f7f; text-decoration-color: #7f7f7f\">nondiff.py</span></a><span style=\"color: #7f7f7f; text-decoration-color: #7f7f7f\">:</span><a href=\"file:///Users/moaly/Work/iris-hep/integration-challenge/cms/analysis/nondiff.py#205\" target=\"_blank\"><span style=\"color: #7f7f7f; text-decoration-color: #7f7f7f\">205</span></a>\n",
       "</pre>\n"
      ],
      "text/plain": [
       "\u001b[2;36m        \u001b[0m\u001b[2;36m \u001b[0m\u001b[34mINFO    \u001b[0m \u001b[39mNumber of weighted events in CMS_WORKSHOP: \u001b[0m\u001b[1;36m515.29\u001b[0m\u001b[39m                                 \u001b[0m\u001b[39m \u001b[0m\u001b]8;id=82363;file:///Users/moaly/Work/iris-hep/integration-challenge/cms/analysis/nondiff.py\u001b\\\u001b[2mnondiff.py\u001b[0m\u001b]8;;\u001b\\\u001b[2m:\u001b[0m\u001b]8;id=597380;file:///Users/moaly/Work/iris-hep/integration-challenge/cms/analysis/nondiff.py#205\u001b\\\u001b[2m205\u001b[0m\u001b]8;;\u001b\\\n"
      ]
     },
     "metadata": {},
     "output_type": "display_data"
    },
    {
     "data": {
      "text/html": [
       "<pre style=\"white-space:pre;overflow-x:auto;line-height:normal;font-family:Menlo,'DejaVu Sans Mono',consolas,'Courier New',monospace\"><span style=\"color: #7fbfbf; text-decoration-color: #7fbfbf\">         </span><span style=\"color: #000080; text-decoration-color: #000080\">INFO    </span> <span style=\"color: #000000; text-decoration-color: #000000\">Number of raw events in CMS_WORKSHOP: </span><span style=\"color: #008080; text-decoration-color: #008080; font-weight: bold\">16069</span><span style=\"color: #000000; text-decoration-color: #000000\">                                        </span><a href=\"file:///Users/moaly/Work/iris-hep/integration-challenge/cms/analysis/nondiff.py\" target=\"_blank\"><span style=\"color: #7f7f7f; text-decoration-color: #7f7f7f\">nondiff.py</span></a><span style=\"color: #7f7f7f; text-decoration-color: #7f7f7f\">:</span><a href=\"file:///Users/moaly/Work/iris-hep/integration-challenge/cms/analysis/nondiff.py#208\" target=\"_blank\"><span style=\"color: #7f7f7f; text-decoration-color: #7f7f7f\">208</span></a>\n",
       "</pre>\n"
      ],
      "text/plain": [
       "\u001b[2;36m        \u001b[0m\u001b[2;36m \u001b[0m\u001b[34mINFO    \u001b[0m \u001b[39mNumber of raw events in CMS_WORKSHOP: \u001b[0m\u001b[1;36m16069\u001b[0m\u001b[39m                                       \u001b[0m\u001b[39m \u001b[0m\u001b]8;id=336463;file:///Users/moaly/Work/iris-hep/integration-challenge/cms/analysis/nondiff.py\u001b\\\u001b[2mnondiff.py\u001b[0m\u001b]8;;\u001b\\\u001b[2m:\u001b[0m\u001b]8;id=846649;file:///Users/moaly/Work/iris-hep/integration-challenge/cms/analysis/nondiff.py#208\u001b\\\u001b[2m208\u001b[0m\u001b]8;;\u001b\\\n"
      ]
     },
     "metadata": {},
     "output_type": "display_data"
    },
    {
     "data": {
      "text/html": [
       "<pre style=\"white-space:pre;overflow-x:auto;line-height:normal;font-family:Menlo,'DejaVu Sans Mono',consolas,'Courier New',monospace\"><span style=\"color: #7fbfbf; text-decoration-color: #7fbfbf\">         </span><span style=\"color: #000080; text-decoration-color: #000080\">INFO    </span> <span style=\"color: #000000; text-decoration-color: #000000\">Computing observable workshop_mtt                                                  </span><a href=\"file:///Users/moaly/Work/iris-hep/integration-challenge/cms/analysis/nondiff.py\" target=\"_blank\"><span style=\"color: #7f7f7f; text-decoration-color: #7f7f7f\">nondiff.py</span></a><span style=\"color: #7f7f7f; text-decoration-color: #7f7f7f\">:</span><a href=\"file:///Users/moaly/Work/iris-hep/integration-challenge/cms/analysis/nondiff.py#213\" target=\"_blank\"><span style=\"color: #7f7f7f; text-decoration-color: #7f7f7f\">213</span></a>\n",
       "</pre>\n"
      ],
      "text/plain": [
       "\u001b[2;36m        \u001b[0m\u001b[2;36m \u001b[0m\u001b[34mINFO    \u001b[0m \u001b[39mComputing observable workshop_mtt                                                 \u001b[0m\u001b[39m \u001b[0m\u001b]8;id=899328;file:///Users/moaly/Work/iris-hep/integration-challenge/cms/analysis/nondiff.py\u001b\\\u001b[2mnondiff.py\u001b[0m\u001b]8;;\u001b\\\u001b[2m:\u001b[0m\u001b]8;id=103939;file:///Users/moaly/Work/iris-hep/integration-challenge/cms/analysis/nondiff.py#213\u001b\\\u001b[2m213\u001b[0m\u001b]8;;\u001b\\\n"
      ]
     },
     "metadata": {},
     "output_type": "display_data"
    },
    {
     "data": {
      "text/html": [
       "<pre style=\"white-space:pre;overflow-x:auto;line-height:normal;font-family:Menlo,'DejaVu Sans Mono',consolas,'Courier New',monospace\"><span style=\"color: #7fbfbf; text-decoration-color: #7fbfbf\">         </span><span style=\"color: #000080; text-decoration-color: #000080\">INFO    </span> <span style=\"color: #000000; text-decoration-color: #000000\">Applying selection for CMS_WORKSHOP in signal with variation pu_weight_up          </span><a href=\"file:///Users/moaly/Work/iris-hep/integration-challenge/cms/analysis/nondiff.py\" target=\"_blank\"><span style=\"color: #7f7f7f; text-decoration-color: #7f7f7f\">nondiff.py</span></a><span style=\"color: #7f7f7f; text-decoration-color: #7f7f7f\">:</span><a href=\"file:///Users/moaly/Work/iris-hep/integration-challenge/cms/analysis/nondiff.py#154\" target=\"_blank\"><span style=\"color: #7f7f7f; text-decoration-color: #7f7f7f\">154</span></a>\n",
       "</pre>\n"
      ],
      "text/plain": [
       "\u001b[2;36m        \u001b[0m\u001b[2;36m \u001b[0m\u001b[34mINFO    \u001b[0m \u001b[39mApplying selection for CMS_WORKSHOP in signal with variation pu_weight_up         \u001b[0m\u001b[39m \u001b[0m\u001b]8;id=78452;file:///Users/moaly/Work/iris-hep/integration-challenge/cms/analysis/nondiff.py\u001b\\\u001b[2mnondiff.py\u001b[0m\u001b]8;;\u001b\\\u001b[2m:\u001b[0m\u001b]8;id=948156;file:///Users/moaly/Work/iris-hep/integration-challenge/cms/analysis/nondiff.py#154\u001b\\\u001b[2m154\u001b[0m\u001b]8;;\u001b\\\n"
      ]
     },
     "metadata": {},
     "output_type": "display_data"
    },
    {
     "data": {
      "text/html": [
       "<pre style=\"white-space:pre;overflow-x:auto;line-height:normal;font-family:Menlo,'DejaVu Sans Mono',consolas,'Courier New',monospace\"><span style=\"color: #7fbfbf; text-decoration-color: #7fbfbf\">         </span><span style=\"color: #000080; text-decoration-color: #000080\">INFO    </span> <span style=\"color: #000000; text-decoration-color: #000000\">Applying correction: pu_weight/Collisions16_UltraLegacy_goldenJSON </span><span style=\"color: #000000; text-decoration-color: #000000; font-weight: bold\">(</span><span style=\"color: #000000; text-decoration-color: #000000\">up</span><span style=\"color: #000000; text-decoration-color: #000000; font-weight: bold\">)</span><span style=\"color: #000000; text-decoration-color: #000000\">               </span><a href=\"file:///Users/moaly/Work/iris-hep/integration-challenge/cms/analysis/base.py\" target=\"_blank\"><span style=\"color: #7f7f7f; text-decoration-color: #7f7f7f\">base.py</span></a><span style=\"color: #7f7f7f; text-decoration-color: #7f7f7f\">:</span><a href=\"file:///Users/moaly/Work/iris-hep/integration-challenge/cms/analysis/base.py#247\" target=\"_blank\"><span style=\"color: #7f7f7f; text-decoration-color: #7f7f7f\">247</span></a>\n",
       "</pre>\n"
      ],
      "text/plain": [
       "\u001b[2;36m        \u001b[0m\u001b[2;36m \u001b[0m\u001b[34mINFO    \u001b[0m \u001b[39mApplying correction: pu_weight/Collisions16_UltraLegacy_goldenJSON \u001b[0m\u001b[1;39m(\u001b[0m\u001b[39mup\u001b[0m\u001b[1;39m)\u001b[0m\u001b[39m              \u001b[0m\u001b[39m \u001b[0m\u001b]8;id=370364;file:///Users/moaly/Work/iris-hep/integration-challenge/cms/analysis/base.py\u001b\\\u001b[2mbase.py\u001b[0m\u001b]8;;\u001b\\\u001b[2m:\u001b[0m\u001b]8;id=303244;file:///Users/moaly/Work/iris-hep/integration-challenge/cms/analysis/base.py#247\u001b\\\u001b[2m247\u001b[0m\u001b]8;;\u001b\\\n"
      ]
     },
     "metadata": {},
     "output_type": "display_data"
    },
    {
     "data": {
      "text/html": [
       "<pre style=\"white-space:pre;overflow-x:auto;line-height:normal;font-family:Menlo,'DejaVu Sans Mono',consolas,'Courier New',monospace\"><span style=\"color: #7fbfbf; text-decoration-color: #7fbfbf\">         </span><span style=\"color: #000080; text-decoration-color: #000080\">INFO    </span> <span style=\"color: #000000; text-decoration-color: #000000\">Number of weighted events in CMS_WORKSHOP: </span><span style=\"color: #008080; text-decoration-color: #008080; font-weight: bold\">16147.07</span><span style=\"color: #000000; text-decoration-color: #000000\">                                </span><a href=\"file:///Users/moaly/Work/iris-hep/integration-challenge/cms/analysis/nondiff.py\" target=\"_blank\"><span style=\"color: #7f7f7f; text-decoration-color: #7f7f7f\">nondiff.py</span></a><span style=\"color: #7f7f7f; text-decoration-color: #7f7f7f\">:</span><a href=\"file:///Users/moaly/Work/iris-hep/integration-challenge/cms/analysis/nondiff.py#205\" target=\"_blank\"><span style=\"color: #7f7f7f; text-decoration-color: #7f7f7f\">205</span></a>\n",
       "</pre>\n"
      ],
      "text/plain": [
       "\u001b[2;36m        \u001b[0m\u001b[2;36m \u001b[0m\u001b[34mINFO    \u001b[0m \u001b[39mNumber of weighted events in CMS_WORKSHOP: \u001b[0m\u001b[1;36m16147.07\u001b[0m\u001b[39m                               \u001b[0m\u001b[39m \u001b[0m\u001b]8;id=684888;file:///Users/moaly/Work/iris-hep/integration-challenge/cms/analysis/nondiff.py\u001b\\\u001b[2mnondiff.py\u001b[0m\u001b]8;;\u001b\\\u001b[2m:\u001b[0m\u001b]8;id=221975;file:///Users/moaly/Work/iris-hep/integration-challenge/cms/analysis/nondiff.py#205\u001b\\\u001b[2m205\u001b[0m\u001b]8;;\u001b\\\n"
      ]
     },
     "metadata": {},
     "output_type": "display_data"
    },
    {
     "data": {
      "text/html": [
       "<pre style=\"white-space:pre;overflow-x:auto;line-height:normal;font-family:Menlo,'DejaVu Sans Mono',consolas,'Courier New',monospace\"><span style=\"color: #7fbfbf; text-decoration-color: #7fbfbf\">         </span><span style=\"color: #000080; text-decoration-color: #000080\">INFO    </span> <span style=\"color: #000000; text-decoration-color: #000000\">Number of raw events in CMS_WORKSHOP: </span><span style=\"color: #008080; text-decoration-color: #008080; font-weight: bold\">16069</span><span style=\"color: #000000; text-decoration-color: #000000\">                                        </span><a href=\"file:///Users/moaly/Work/iris-hep/integration-challenge/cms/analysis/nondiff.py\" target=\"_blank\"><span style=\"color: #7f7f7f; text-decoration-color: #7f7f7f\">nondiff.py</span></a><span style=\"color: #7f7f7f; text-decoration-color: #7f7f7f\">:</span><a href=\"file:///Users/moaly/Work/iris-hep/integration-challenge/cms/analysis/nondiff.py#208\" target=\"_blank\"><span style=\"color: #7f7f7f; text-decoration-color: #7f7f7f\">208</span></a>\n",
       "</pre>\n"
      ],
      "text/plain": [
       "\u001b[2;36m        \u001b[0m\u001b[2;36m \u001b[0m\u001b[34mINFO    \u001b[0m \u001b[39mNumber of raw events in CMS_WORKSHOP: \u001b[0m\u001b[1;36m16069\u001b[0m\u001b[39m                                       \u001b[0m\u001b[39m \u001b[0m\u001b]8;id=231327;file:///Users/moaly/Work/iris-hep/integration-challenge/cms/analysis/nondiff.py\u001b\\\u001b[2mnondiff.py\u001b[0m\u001b]8;;\u001b\\\u001b[2m:\u001b[0m\u001b]8;id=952688;file:///Users/moaly/Work/iris-hep/integration-challenge/cms/analysis/nondiff.py#208\u001b\\\u001b[2m208\u001b[0m\u001b]8;;\u001b\\\n"
      ]
     },
     "metadata": {},
     "output_type": "display_data"
    },
    {
     "data": {
      "text/html": [
       "<pre style=\"white-space:pre;overflow-x:auto;line-height:normal;font-family:Menlo,'DejaVu Sans Mono',consolas,'Courier New',monospace\"><span style=\"color: #7fbfbf; text-decoration-color: #7fbfbf\">         </span><span style=\"color: #000080; text-decoration-color: #000080\">INFO    </span> <span style=\"color: #000000; text-decoration-color: #000000\">Computing observable workshop_mtt                                                  </span><a href=\"file:///Users/moaly/Work/iris-hep/integration-challenge/cms/analysis/nondiff.py\" target=\"_blank\"><span style=\"color: #7f7f7f; text-decoration-color: #7f7f7f\">nondiff.py</span></a><span style=\"color: #7f7f7f; text-decoration-color: #7f7f7f\">:</span><a href=\"file:///Users/moaly/Work/iris-hep/integration-challenge/cms/analysis/nondiff.py#213\" target=\"_blank\"><span style=\"color: #7f7f7f; text-decoration-color: #7f7f7f\">213</span></a>\n",
       "</pre>\n"
      ],
      "text/plain": [
       "\u001b[2;36m        \u001b[0m\u001b[2;36m \u001b[0m\u001b[34mINFO    \u001b[0m \u001b[39mComputing observable workshop_mtt                                                 \u001b[0m\u001b[39m \u001b[0m\u001b]8;id=47206;file:///Users/moaly/Work/iris-hep/integration-challenge/cms/analysis/nondiff.py\u001b\\\u001b[2mnondiff.py\u001b[0m\u001b]8;;\u001b\\\u001b[2m:\u001b[0m\u001b]8;id=997183;file:///Users/moaly/Work/iris-hep/integration-challenge/cms/analysis/nondiff.py#213\u001b\\\u001b[2m213\u001b[0m\u001b]8;;\u001b\\\n"
      ]
     },
     "metadata": {},
     "output_type": "display_data"
    },
    {
     "data": {
      "text/html": [
       "<pre style=\"white-space:pre;overflow-x:auto;line-height:normal;font-family:Menlo,'DejaVu Sans Mono',consolas,'Courier New',monospace\"><span style=\"color: #7fbfbf; text-decoration-color: #7fbfbf\">         </span><span style=\"color: #000080; text-decoration-color: #000080\">INFO    </span> <span style=\"color: #000000; text-decoration-color: #000000\">Applying selection for CMS_WORKSHOP in signal with variation pu_weight_down        </span><a href=\"file:///Users/moaly/Work/iris-hep/integration-challenge/cms/analysis/nondiff.py\" target=\"_blank\"><span style=\"color: #7f7f7f; text-decoration-color: #7f7f7f\">nondiff.py</span></a><span style=\"color: #7f7f7f; text-decoration-color: #7f7f7f\">:</span><a href=\"file:///Users/moaly/Work/iris-hep/integration-challenge/cms/analysis/nondiff.py#154\" target=\"_blank\"><span style=\"color: #7f7f7f; text-decoration-color: #7f7f7f\">154</span></a>\n",
       "</pre>\n"
      ],
      "text/plain": [
       "\u001b[2;36m        \u001b[0m\u001b[2;36m \u001b[0m\u001b[34mINFO    \u001b[0m \u001b[39mApplying selection for CMS_WORKSHOP in signal with variation pu_weight_down       \u001b[0m\u001b[39m \u001b[0m\u001b]8;id=191493;file:///Users/moaly/Work/iris-hep/integration-challenge/cms/analysis/nondiff.py\u001b\\\u001b[2mnondiff.py\u001b[0m\u001b]8;;\u001b\\\u001b[2m:\u001b[0m\u001b]8;id=549549;file:///Users/moaly/Work/iris-hep/integration-challenge/cms/analysis/nondiff.py#154\u001b\\\u001b[2m154\u001b[0m\u001b]8;;\u001b\\\n"
      ]
     },
     "metadata": {},
     "output_type": "display_data"
    },
    {
     "data": {
      "text/html": [
       "<pre style=\"white-space:pre;overflow-x:auto;line-height:normal;font-family:Menlo,'DejaVu Sans Mono',consolas,'Courier New',monospace\"><span style=\"color: #7fbfbf; text-decoration-color: #7fbfbf\">         </span><span style=\"color: #000080; text-decoration-color: #000080\">INFO    </span> <span style=\"color: #000000; text-decoration-color: #000000\">Applying correction: pu_weight/Collisions16_UltraLegacy_goldenJSON </span><span style=\"color: #000000; text-decoration-color: #000000; font-weight: bold\">(</span><span style=\"color: #000000; text-decoration-color: #000000\">down</span><span style=\"color: #000000; text-decoration-color: #000000; font-weight: bold\">)</span><span style=\"color: #000000; text-decoration-color: #000000\">             </span><a href=\"file:///Users/moaly/Work/iris-hep/integration-challenge/cms/analysis/base.py\" target=\"_blank\"><span style=\"color: #7f7f7f; text-decoration-color: #7f7f7f\">base.py</span></a><span style=\"color: #7f7f7f; text-decoration-color: #7f7f7f\">:</span><a href=\"file:///Users/moaly/Work/iris-hep/integration-challenge/cms/analysis/base.py#247\" target=\"_blank\"><span style=\"color: #7f7f7f; text-decoration-color: #7f7f7f\">247</span></a>\n",
       "</pre>\n"
      ],
      "text/plain": [
       "\u001b[2;36m        \u001b[0m\u001b[2;36m \u001b[0m\u001b[34mINFO    \u001b[0m \u001b[39mApplying correction: pu_weight/Collisions16_UltraLegacy_goldenJSON \u001b[0m\u001b[1;39m(\u001b[0m\u001b[39mdown\u001b[0m\u001b[1;39m)\u001b[0m\u001b[39m            \u001b[0m\u001b[39m \u001b[0m\u001b]8;id=163095;file:///Users/moaly/Work/iris-hep/integration-challenge/cms/analysis/base.py\u001b\\\u001b[2mbase.py\u001b[0m\u001b]8;;\u001b\\\u001b[2m:\u001b[0m\u001b]8;id=210794;file:///Users/moaly/Work/iris-hep/integration-challenge/cms/analysis/base.py#247\u001b\\\u001b[2m247\u001b[0m\u001b]8;;\u001b\\\n"
      ]
     },
     "metadata": {},
     "output_type": "display_data"
    },
    {
     "data": {
      "text/html": [
       "<pre style=\"white-space:pre;overflow-x:auto;line-height:normal;font-family:Menlo,'DejaVu Sans Mono',consolas,'Courier New',monospace\"><span style=\"color: #7fbfbf; text-decoration-color: #7fbfbf\">         </span><span style=\"color: #000080; text-decoration-color: #000080\">INFO    </span> <span style=\"color: #000000; text-decoration-color: #000000\">Number of weighted events in CMS_WORKSHOP: </span><span style=\"color: #008080; text-decoration-color: #008080; font-weight: bold\">16141.26</span><span style=\"color: #000000; text-decoration-color: #000000\">                                </span><a href=\"file:///Users/moaly/Work/iris-hep/integration-challenge/cms/analysis/nondiff.py\" target=\"_blank\"><span style=\"color: #7f7f7f; text-decoration-color: #7f7f7f\">nondiff.py</span></a><span style=\"color: #7f7f7f; text-decoration-color: #7f7f7f\">:</span><a href=\"file:///Users/moaly/Work/iris-hep/integration-challenge/cms/analysis/nondiff.py#205\" target=\"_blank\"><span style=\"color: #7f7f7f; text-decoration-color: #7f7f7f\">205</span></a>\n",
       "</pre>\n"
      ],
      "text/plain": [
       "\u001b[2;36m        \u001b[0m\u001b[2;36m \u001b[0m\u001b[34mINFO    \u001b[0m \u001b[39mNumber of weighted events in CMS_WORKSHOP: \u001b[0m\u001b[1;36m16141.26\u001b[0m\u001b[39m                               \u001b[0m\u001b[39m \u001b[0m\u001b]8;id=798319;file:///Users/moaly/Work/iris-hep/integration-challenge/cms/analysis/nondiff.py\u001b\\\u001b[2mnondiff.py\u001b[0m\u001b]8;;\u001b\\\u001b[2m:\u001b[0m\u001b]8;id=931719;file:///Users/moaly/Work/iris-hep/integration-challenge/cms/analysis/nondiff.py#205\u001b\\\u001b[2m205\u001b[0m\u001b]8;;\u001b\\\n"
      ]
     },
     "metadata": {},
     "output_type": "display_data"
    },
    {
     "data": {
      "text/html": [
       "<pre style=\"white-space:pre;overflow-x:auto;line-height:normal;font-family:Menlo,'DejaVu Sans Mono',consolas,'Courier New',monospace\"><span style=\"color: #7fbfbf; text-decoration-color: #7fbfbf\">         </span><span style=\"color: #000080; text-decoration-color: #000080\">INFO    </span> <span style=\"color: #000000; text-decoration-color: #000000\">Number of raw events in CMS_WORKSHOP: </span><span style=\"color: #008080; text-decoration-color: #008080; font-weight: bold\">16069</span><span style=\"color: #000000; text-decoration-color: #000000\">                                        </span><a href=\"file:///Users/moaly/Work/iris-hep/integration-challenge/cms/analysis/nondiff.py\" target=\"_blank\"><span style=\"color: #7f7f7f; text-decoration-color: #7f7f7f\">nondiff.py</span></a><span style=\"color: #7f7f7f; text-decoration-color: #7f7f7f\">:</span><a href=\"file:///Users/moaly/Work/iris-hep/integration-challenge/cms/analysis/nondiff.py#208\" target=\"_blank\"><span style=\"color: #7f7f7f; text-decoration-color: #7f7f7f\">208</span></a>\n",
       "</pre>\n"
      ],
      "text/plain": [
       "\u001b[2;36m        \u001b[0m\u001b[2;36m \u001b[0m\u001b[34mINFO    \u001b[0m \u001b[39mNumber of raw events in CMS_WORKSHOP: \u001b[0m\u001b[1;36m16069\u001b[0m\u001b[39m                                       \u001b[0m\u001b[39m \u001b[0m\u001b]8;id=703147;file:///Users/moaly/Work/iris-hep/integration-challenge/cms/analysis/nondiff.py\u001b\\\u001b[2mnondiff.py\u001b[0m\u001b]8;;\u001b\\\u001b[2m:\u001b[0m\u001b]8;id=200445;file:///Users/moaly/Work/iris-hep/integration-challenge/cms/analysis/nondiff.py#208\u001b\\\u001b[2m208\u001b[0m\u001b]8;;\u001b\\\n"
      ]
     },
     "metadata": {},
     "output_type": "display_data"
    },
    {
     "data": {
      "text/html": [
       "<pre style=\"white-space:pre;overflow-x:auto;line-height:normal;font-family:Menlo,'DejaVu Sans Mono',consolas,'Courier New',monospace\"><span style=\"color: #7fbfbf; text-decoration-color: #7fbfbf\">         </span><span style=\"color: #000080; text-decoration-color: #000080\">INFO    </span> <span style=\"color: #000000; text-decoration-color: #000000\">Computing observable workshop_mtt                                                  </span><a href=\"file:///Users/moaly/Work/iris-hep/integration-challenge/cms/analysis/nondiff.py\" target=\"_blank\"><span style=\"color: #7f7f7f; text-decoration-color: #7f7f7f\">nondiff.py</span></a><span style=\"color: #7f7f7f; text-decoration-color: #7f7f7f\">:</span><a href=\"file:///Users/moaly/Work/iris-hep/integration-challenge/cms/analysis/nondiff.py#213\" target=\"_blank\"><span style=\"color: #7f7f7f; text-decoration-color: #7f7f7f\">213</span></a>\n",
       "</pre>\n"
      ],
      "text/plain": [
       "\u001b[2;36m        \u001b[0m\u001b[2;36m \u001b[0m\u001b[34mINFO    \u001b[0m \u001b[39mComputing observable workshop_mtt                                                 \u001b[0m\u001b[39m \u001b[0m\u001b]8;id=351823;file:///Users/moaly/Work/iris-hep/integration-challenge/cms/analysis/nondiff.py\u001b\\\u001b[2mnondiff.py\u001b[0m\u001b]8;;\u001b\\\u001b[2m:\u001b[0m\u001b]8;id=873560;file:///Users/moaly/Work/iris-hep/integration-challenge/cms/analysis/nondiff.py#213\u001b\\\u001b[2m213\u001b[0m\u001b]8;;\u001b\\\n"
      ]
     },
     "metadata": {},
     "output_type": "display_data"
    },
    {
     "data": {
      "text/html": [
       "<pre style=\"white-space:pre;overflow-x:auto;line-height:normal;font-family:Menlo,'DejaVu Sans Mono',consolas,'Courier New',monospace\"><span style=\"color: #7fbfbf; text-decoration-color: #7fbfbf\">         </span><span style=\"color: #000080; text-decoration-color: #000080\">INFO    </span> <span style=\"color: #000000; text-decoration-color: #000000\">Applying selection for CMS_WORKSHOP in signal with variation muon_id_sf_up         </span><a href=\"file:///Users/moaly/Work/iris-hep/integration-challenge/cms/analysis/nondiff.py\" target=\"_blank\"><span style=\"color: #7f7f7f; text-decoration-color: #7f7f7f\">nondiff.py</span></a><span style=\"color: #7f7f7f; text-decoration-color: #7f7f7f\">:</span><a href=\"file:///Users/moaly/Work/iris-hep/integration-challenge/cms/analysis/nondiff.py#154\" target=\"_blank\"><span style=\"color: #7f7f7f; text-decoration-color: #7f7f7f\">154</span></a>\n",
       "</pre>\n"
      ],
      "text/plain": [
       "\u001b[2;36m        \u001b[0m\u001b[2;36m \u001b[0m\u001b[34mINFO    \u001b[0m \u001b[39mApplying selection for CMS_WORKSHOP in signal with variation muon_id_sf_up        \u001b[0m\u001b[39m \u001b[0m\u001b]8;id=556860;file:///Users/moaly/Work/iris-hep/integration-challenge/cms/analysis/nondiff.py\u001b\\\u001b[2mnondiff.py\u001b[0m\u001b]8;;\u001b\\\u001b[2m:\u001b[0m\u001b]8;id=912155;file:///Users/moaly/Work/iris-hep/integration-challenge/cms/analysis/nondiff.py#154\u001b\\\u001b[2m154\u001b[0m\u001b]8;;\u001b\\\n"
      ]
     },
     "metadata": {},
     "output_type": "display_data"
    },
    {
     "data": {
      "text/html": [
       "<pre style=\"white-space:pre;overflow-x:auto;line-height:normal;font-family:Menlo,'DejaVu Sans Mono',consolas,'Courier New',monospace\"><span style=\"color: #7fbfbf; text-decoration-color: #7fbfbf\">         </span><span style=\"color: #000080; text-decoration-color: #000080\">INFO    </span> <span style=\"color: #000000; text-decoration-color: #000000\">Applying correction: muon_id_sf/NUM_TightID_DEN_TrackerMuons </span><span style=\"color: #000000; text-decoration-color: #000000; font-weight: bold\">(</span><span style=\"color: #000000; text-decoration-color: #000000\">systup</span><span style=\"color: #000000; text-decoration-color: #000000; font-weight: bold\">)</span><span style=\"color: #000000; text-decoration-color: #000000\">                 </span><a href=\"file:///Users/moaly/Work/iris-hep/integration-challenge/cms/analysis/base.py\" target=\"_blank\"><span style=\"color: #7f7f7f; text-decoration-color: #7f7f7f\">base.py</span></a><span style=\"color: #7f7f7f; text-decoration-color: #7f7f7f\">:</span><a href=\"file:///Users/moaly/Work/iris-hep/integration-challenge/cms/analysis/base.py#247\" target=\"_blank\"><span style=\"color: #7f7f7f; text-decoration-color: #7f7f7f\">247</span></a>\n",
       "</pre>\n"
      ],
      "text/plain": [
       "\u001b[2;36m        \u001b[0m\u001b[2;36m \u001b[0m\u001b[34mINFO    \u001b[0m \u001b[39mApplying correction: muon_id_sf/NUM_TightID_DEN_TrackerMuons \u001b[0m\u001b[1;39m(\u001b[0m\u001b[39msystup\u001b[0m\u001b[1;39m)\u001b[0m\u001b[39m                \u001b[0m\u001b[39m \u001b[0m\u001b]8;id=45604;file:///Users/moaly/Work/iris-hep/integration-challenge/cms/analysis/base.py\u001b\\\u001b[2mbase.py\u001b[0m\u001b]8;;\u001b\\\u001b[2m:\u001b[0m\u001b]8;id=64230;file:///Users/moaly/Work/iris-hep/integration-challenge/cms/analysis/base.py#247\u001b\\\u001b[2m247\u001b[0m\u001b]8;;\u001b\\\n"
      ]
     },
     "metadata": {},
     "output_type": "display_data"
    },
    {
     "data": {
      "text/html": [
       "<pre style=\"white-space:pre;overflow-x:auto;line-height:normal;font-family:Menlo,'DejaVu Sans Mono',consolas,'Courier New',monospace\"><span style=\"color: #7fbfbf; text-decoration-color: #7fbfbf\">         </span><span style=\"color: #000080; text-decoration-color: #000080\">INFO    </span> <span style=\"color: #000000; text-decoration-color: #000000\">Number of weighted events in CMS_WORKSHOP: </span><span style=\"color: #008080; text-decoration-color: #008080; font-weight: bold\">15864.52</span><span style=\"color: #000000; text-decoration-color: #000000\">                                </span><a href=\"file:///Users/moaly/Work/iris-hep/integration-challenge/cms/analysis/nondiff.py\" target=\"_blank\"><span style=\"color: #7f7f7f; text-decoration-color: #7f7f7f\">nondiff.py</span></a><span style=\"color: #7f7f7f; text-decoration-color: #7f7f7f\">:</span><a href=\"file:///Users/moaly/Work/iris-hep/integration-challenge/cms/analysis/nondiff.py#205\" target=\"_blank\"><span style=\"color: #7f7f7f; text-decoration-color: #7f7f7f\">205</span></a>\n",
       "</pre>\n"
      ],
      "text/plain": [
       "\u001b[2;36m        \u001b[0m\u001b[2;36m \u001b[0m\u001b[34mINFO    \u001b[0m \u001b[39mNumber of weighted events in CMS_WORKSHOP: \u001b[0m\u001b[1;36m15864.52\u001b[0m\u001b[39m                               \u001b[0m\u001b[39m \u001b[0m\u001b]8;id=844571;file:///Users/moaly/Work/iris-hep/integration-challenge/cms/analysis/nondiff.py\u001b\\\u001b[2mnondiff.py\u001b[0m\u001b]8;;\u001b\\\u001b[2m:\u001b[0m\u001b]8;id=905029;file:///Users/moaly/Work/iris-hep/integration-challenge/cms/analysis/nondiff.py#205\u001b\\\u001b[2m205\u001b[0m\u001b]8;;\u001b\\\n"
      ]
     },
     "metadata": {},
     "output_type": "display_data"
    },
    {
     "data": {
      "text/html": [
       "<pre style=\"white-space:pre;overflow-x:auto;line-height:normal;font-family:Menlo,'DejaVu Sans Mono',consolas,'Courier New',monospace\"><span style=\"color: #7fbfbf; text-decoration-color: #7fbfbf\">         </span><span style=\"color: #000080; text-decoration-color: #000080\">INFO    </span> <span style=\"color: #000000; text-decoration-color: #000000\">Number of raw events in CMS_WORKSHOP: </span><span style=\"color: #008080; text-decoration-color: #008080; font-weight: bold\">16069</span><span style=\"color: #000000; text-decoration-color: #000000\">                                        </span><a href=\"file:///Users/moaly/Work/iris-hep/integration-challenge/cms/analysis/nondiff.py\" target=\"_blank\"><span style=\"color: #7f7f7f; text-decoration-color: #7f7f7f\">nondiff.py</span></a><span style=\"color: #7f7f7f; text-decoration-color: #7f7f7f\">:</span><a href=\"file:///Users/moaly/Work/iris-hep/integration-challenge/cms/analysis/nondiff.py#208\" target=\"_blank\"><span style=\"color: #7f7f7f; text-decoration-color: #7f7f7f\">208</span></a>\n",
       "</pre>\n"
      ],
      "text/plain": [
       "\u001b[2;36m        \u001b[0m\u001b[2;36m \u001b[0m\u001b[34mINFO    \u001b[0m \u001b[39mNumber of raw events in CMS_WORKSHOP: \u001b[0m\u001b[1;36m16069\u001b[0m\u001b[39m                                       \u001b[0m\u001b[39m \u001b[0m\u001b]8;id=130240;file:///Users/moaly/Work/iris-hep/integration-challenge/cms/analysis/nondiff.py\u001b\\\u001b[2mnondiff.py\u001b[0m\u001b]8;;\u001b\\\u001b[2m:\u001b[0m\u001b]8;id=441669;file:///Users/moaly/Work/iris-hep/integration-challenge/cms/analysis/nondiff.py#208\u001b\\\u001b[2m208\u001b[0m\u001b]8;;\u001b\\\n"
      ]
     },
     "metadata": {},
     "output_type": "display_data"
    },
    {
     "data": {
      "text/html": [
       "<pre style=\"white-space:pre;overflow-x:auto;line-height:normal;font-family:Menlo,'DejaVu Sans Mono',consolas,'Courier New',monospace\"><span style=\"color: #7fbfbf; text-decoration-color: #7fbfbf\">         </span><span style=\"color: #000080; text-decoration-color: #000080\">INFO    </span> <span style=\"color: #000000; text-decoration-color: #000000\">Computing observable workshop_mtt                                                  </span><a href=\"file:///Users/moaly/Work/iris-hep/integration-challenge/cms/analysis/nondiff.py\" target=\"_blank\"><span style=\"color: #7f7f7f; text-decoration-color: #7f7f7f\">nondiff.py</span></a><span style=\"color: #7f7f7f; text-decoration-color: #7f7f7f\">:</span><a href=\"file:///Users/moaly/Work/iris-hep/integration-challenge/cms/analysis/nondiff.py#213\" target=\"_blank\"><span style=\"color: #7f7f7f; text-decoration-color: #7f7f7f\">213</span></a>\n",
       "</pre>\n"
      ],
      "text/plain": [
       "\u001b[2;36m        \u001b[0m\u001b[2;36m \u001b[0m\u001b[34mINFO    \u001b[0m \u001b[39mComputing observable workshop_mtt                                                 \u001b[0m\u001b[39m \u001b[0m\u001b]8;id=645209;file:///Users/moaly/Work/iris-hep/integration-challenge/cms/analysis/nondiff.py\u001b\\\u001b[2mnondiff.py\u001b[0m\u001b]8;;\u001b\\\u001b[2m:\u001b[0m\u001b]8;id=120244;file:///Users/moaly/Work/iris-hep/integration-challenge/cms/analysis/nondiff.py#213\u001b\\\u001b[2m213\u001b[0m\u001b]8;;\u001b\\\n"
      ]
     },
     "metadata": {},
     "output_type": "display_data"
    },
    {
     "data": {
      "text/html": [
       "<pre style=\"white-space:pre;overflow-x:auto;line-height:normal;font-family:Menlo,'DejaVu Sans Mono',consolas,'Courier New',monospace\"><span style=\"color: #7fbfbf; text-decoration-color: #7fbfbf\">         </span><span style=\"color: #000080; text-decoration-color: #000080\">INFO    </span> <span style=\"color: #000000; text-decoration-color: #000000\">Applying selection for CMS_WORKSHOP in signal with variation muon_id_sf_down       </span><a href=\"file:///Users/moaly/Work/iris-hep/integration-challenge/cms/analysis/nondiff.py\" target=\"_blank\"><span style=\"color: #7f7f7f; text-decoration-color: #7f7f7f\">nondiff.py</span></a><span style=\"color: #7f7f7f; text-decoration-color: #7f7f7f\">:</span><a href=\"file:///Users/moaly/Work/iris-hep/integration-challenge/cms/analysis/nondiff.py#154\" target=\"_blank\"><span style=\"color: #7f7f7f; text-decoration-color: #7f7f7f\">154</span></a>\n",
       "</pre>\n"
      ],
      "text/plain": [
       "\u001b[2;36m        \u001b[0m\u001b[2;36m \u001b[0m\u001b[34mINFO    \u001b[0m \u001b[39mApplying selection for CMS_WORKSHOP in signal with variation muon_id_sf_down      \u001b[0m\u001b[39m \u001b[0m\u001b]8;id=944113;file:///Users/moaly/Work/iris-hep/integration-challenge/cms/analysis/nondiff.py\u001b\\\u001b[2mnondiff.py\u001b[0m\u001b]8;;\u001b\\\u001b[2m:\u001b[0m\u001b]8;id=735400;file:///Users/moaly/Work/iris-hep/integration-challenge/cms/analysis/nondiff.py#154\u001b\\\u001b[2m154\u001b[0m\u001b]8;;\u001b\\\n"
      ]
     },
     "metadata": {},
     "output_type": "display_data"
    },
    {
     "data": {
      "text/html": [
       "<pre style=\"white-space:pre;overflow-x:auto;line-height:normal;font-family:Menlo,'DejaVu Sans Mono',consolas,'Courier New',monospace\"><span style=\"color: #7fbfbf; text-decoration-color: #7fbfbf\">         </span><span style=\"color: #000080; text-decoration-color: #000080\">INFO    </span> <span style=\"color: #000000; text-decoration-color: #000000\">Applying correction: muon_id_sf/NUM_TightID_DEN_TrackerMuons </span><span style=\"color: #000000; text-decoration-color: #000000; font-weight: bold\">(</span><span style=\"color: #000000; text-decoration-color: #000000\">systdown</span><span style=\"color: #000000; text-decoration-color: #000000; font-weight: bold\">)</span><span style=\"color: #000000; text-decoration-color: #000000\">               </span><a href=\"file:///Users/moaly/Work/iris-hep/integration-challenge/cms/analysis/base.py\" target=\"_blank\"><span style=\"color: #7f7f7f; text-decoration-color: #7f7f7f\">base.py</span></a><span style=\"color: #7f7f7f; text-decoration-color: #7f7f7f\">:</span><a href=\"file:///Users/moaly/Work/iris-hep/integration-challenge/cms/analysis/base.py#247\" target=\"_blank\"><span style=\"color: #7f7f7f; text-decoration-color: #7f7f7f\">247</span></a>\n",
       "</pre>\n"
      ],
      "text/plain": [
       "\u001b[2;36m        \u001b[0m\u001b[2;36m \u001b[0m\u001b[34mINFO    \u001b[0m \u001b[39mApplying correction: muon_id_sf/NUM_TightID_DEN_TrackerMuons \u001b[0m\u001b[1;39m(\u001b[0m\u001b[39msystdown\u001b[0m\u001b[1;39m)\u001b[0m\u001b[39m              \u001b[0m\u001b[39m \u001b[0m\u001b]8;id=932590;file:///Users/moaly/Work/iris-hep/integration-challenge/cms/analysis/base.py\u001b\\\u001b[2mbase.py\u001b[0m\u001b]8;;\u001b\\\u001b[2m:\u001b[0m\u001b]8;id=486268;file:///Users/moaly/Work/iris-hep/integration-challenge/cms/analysis/base.py#247\u001b\\\u001b[2m247\u001b[0m\u001b]8;;\u001b\\\n"
      ]
     },
     "metadata": {},
     "output_type": "display_data"
    },
    {
     "data": {
      "text/html": [
       "<pre style=\"white-space:pre;overflow-x:auto;line-height:normal;font-family:Menlo,'DejaVu Sans Mono',consolas,'Courier New',monospace\"><span style=\"color: #7fbfbf; text-decoration-color: #7fbfbf\">         </span><span style=\"color: #000080; text-decoration-color: #000080\">INFO    </span> <span style=\"color: #000000; text-decoration-color: #000000\">Number of weighted events in CMS_WORKSHOP: </span><span style=\"color: #008080; text-decoration-color: #008080; font-weight: bold\">15778.38</span><span style=\"color: #000000; text-decoration-color: #000000\">                                </span><a href=\"file:///Users/moaly/Work/iris-hep/integration-challenge/cms/analysis/nondiff.py\" target=\"_blank\"><span style=\"color: #7f7f7f; text-decoration-color: #7f7f7f\">nondiff.py</span></a><span style=\"color: #7f7f7f; text-decoration-color: #7f7f7f\">:</span><a href=\"file:///Users/moaly/Work/iris-hep/integration-challenge/cms/analysis/nondiff.py#205\" target=\"_blank\"><span style=\"color: #7f7f7f; text-decoration-color: #7f7f7f\">205</span></a>\n",
       "</pre>\n"
      ],
      "text/plain": [
       "\u001b[2;36m        \u001b[0m\u001b[2;36m \u001b[0m\u001b[34mINFO    \u001b[0m \u001b[39mNumber of weighted events in CMS_WORKSHOP: \u001b[0m\u001b[1;36m15778.38\u001b[0m\u001b[39m                               \u001b[0m\u001b[39m \u001b[0m\u001b]8;id=215816;file:///Users/moaly/Work/iris-hep/integration-challenge/cms/analysis/nondiff.py\u001b\\\u001b[2mnondiff.py\u001b[0m\u001b]8;;\u001b\\\u001b[2m:\u001b[0m\u001b]8;id=946243;file:///Users/moaly/Work/iris-hep/integration-challenge/cms/analysis/nondiff.py#205\u001b\\\u001b[2m205\u001b[0m\u001b]8;;\u001b\\\n"
      ]
     },
     "metadata": {},
     "output_type": "display_data"
    },
    {
     "data": {
      "text/html": [
       "<pre style=\"white-space:pre;overflow-x:auto;line-height:normal;font-family:Menlo,'DejaVu Sans Mono',consolas,'Courier New',monospace\"><span style=\"color: #7fbfbf; text-decoration-color: #7fbfbf\">         </span><span style=\"color: #000080; text-decoration-color: #000080\">INFO    </span> <span style=\"color: #000000; text-decoration-color: #000000\">Number of raw events in CMS_WORKSHOP: </span><span style=\"color: #008080; text-decoration-color: #008080; font-weight: bold\">16069</span><span style=\"color: #000000; text-decoration-color: #000000\">                                        </span><a href=\"file:///Users/moaly/Work/iris-hep/integration-challenge/cms/analysis/nondiff.py\" target=\"_blank\"><span style=\"color: #7f7f7f; text-decoration-color: #7f7f7f\">nondiff.py</span></a><span style=\"color: #7f7f7f; text-decoration-color: #7f7f7f\">:</span><a href=\"file:///Users/moaly/Work/iris-hep/integration-challenge/cms/analysis/nondiff.py#208\" target=\"_blank\"><span style=\"color: #7f7f7f; text-decoration-color: #7f7f7f\">208</span></a>\n",
       "</pre>\n"
      ],
      "text/plain": [
       "\u001b[2;36m        \u001b[0m\u001b[2;36m \u001b[0m\u001b[34mINFO    \u001b[0m \u001b[39mNumber of raw events in CMS_WORKSHOP: \u001b[0m\u001b[1;36m16069\u001b[0m\u001b[39m                                       \u001b[0m\u001b[39m \u001b[0m\u001b]8;id=270136;file:///Users/moaly/Work/iris-hep/integration-challenge/cms/analysis/nondiff.py\u001b\\\u001b[2mnondiff.py\u001b[0m\u001b]8;;\u001b\\\u001b[2m:\u001b[0m\u001b]8;id=923241;file:///Users/moaly/Work/iris-hep/integration-challenge/cms/analysis/nondiff.py#208\u001b\\\u001b[2m208\u001b[0m\u001b]8;;\u001b\\\n"
      ]
     },
     "metadata": {},
     "output_type": "display_data"
    },
    {
     "data": {
      "text/html": [
       "<pre style=\"white-space:pre;overflow-x:auto;line-height:normal;font-family:Menlo,'DejaVu Sans Mono',consolas,'Courier New',monospace\"><span style=\"color: #7fbfbf; text-decoration-color: #7fbfbf\">         </span><span style=\"color: #000080; text-decoration-color: #000080\">INFO    </span> <span style=\"color: #000000; text-decoration-color: #000000\">Computing observable workshop_mtt                                                  </span><a href=\"file:///Users/moaly/Work/iris-hep/integration-challenge/cms/analysis/nondiff.py\" target=\"_blank\"><span style=\"color: #7f7f7f; text-decoration-color: #7f7f7f\">nondiff.py</span></a><span style=\"color: #7f7f7f; text-decoration-color: #7f7f7f\">:</span><a href=\"file:///Users/moaly/Work/iris-hep/integration-challenge/cms/analysis/nondiff.py#213\" target=\"_blank\"><span style=\"color: #7f7f7f; text-decoration-color: #7f7f7f\">213</span></a>\n",
       "</pre>\n"
      ],
      "text/plain": [
       "\u001b[2;36m        \u001b[0m\u001b[2;36m \u001b[0m\u001b[34mINFO    \u001b[0m \u001b[39mComputing observable workshop_mtt                                                 \u001b[0m\u001b[39m \u001b[0m\u001b]8;id=199624;file:///Users/moaly/Work/iris-hep/integration-challenge/cms/analysis/nondiff.py\u001b\\\u001b[2mnondiff.py\u001b[0m\u001b]8;;\u001b\\\u001b[2m:\u001b[0m\u001b]8;id=17305;file:///Users/moaly/Work/iris-hep/integration-challenge/cms/analysis/nondiff.py#213\u001b\\\u001b[2m213\u001b[0m\u001b]8;;\u001b\\\n"
      ]
     },
     "metadata": {},
     "output_type": "display_data"
    },
    {
     "data": {
      "text/html": [
       "<pre style=\"white-space:pre;overflow-x:auto;line-height:normal;font-family:Menlo,'DejaVu Sans Mono',consolas,'Courier New',monospace\"><span style=\"color: #7fbfbf; text-decoration-color: #7fbfbf\">         </span><span style=\"color: #000080; text-decoration-color: #000080\">INFO    </span> <span style=\"color: #000000; text-decoration-color: #000000\">Histograms successfully written to ROOT file                                  </span><a href=\"file:///Users/moaly/Work/iris-hep/integration-challenge/cms/utils/output_files.py\" target=\"_blank\"><span style=\"color: #7f7f7f; text-decoration-color: #7f7f7f\">output_files.py</span></a><span style=\"color: #7f7f7f; text-decoration-color: #7f7f7f\">:</span><a href=\"file:///Users/moaly/Work/iris-hep/integration-challenge/cms/utils/output_files.py#147\" target=\"_blank\"><span style=\"color: #7f7f7f; text-decoration-color: #7f7f7f\">147</span></a>\n",
       "<span style=\"color: #7fbfbf; text-decoration-color: #7fbfbf\">         </span>         <span style=\"color: #000000; text-decoration-color: #000000\">/Users/moaly/Work/iris-hep/integration-challenge/cms/example/outputs/histogra </span><span style=\"color: #7f7f7f; text-decoration-color: #7f7f7f\">                   </span>\n",
       "<span style=\"color: #7fbfbf; text-decoration-color: #7fbfbf\">         </span>         <span style=\"color: #000000; text-decoration-color: #000000\">ms/histograms.root                                                            </span><span style=\"color: #7f7f7f; text-decoration-color: #7f7f7f\">                   </span>\n",
       "</pre>\n"
      ],
      "text/plain": [
       "\u001b[2;36m        \u001b[0m\u001b[2;36m \u001b[0m\u001b[34mINFO    \u001b[0m \u001b[39mHistograms successfully written to ROOT file                                 \u001b[0m\u001b[39m \u001b[0m\u001b]8;id=693653;file:///Users/moaly/Work/iris-hep/integration-challenge/cms/utils/output_files.py\u001b\\\u001b[2moutput_files.py\u001b[0m\u001b]8;;\u001b\\\u001b[2m:\u001b[0m\u001b]8;id=59441;file:///Users/moaly/Work/iris-hep/integration-challenge/cms/utils/output_files.py#147\u001b\\\u001b[2m147\u001b[0m\u001b]8;;\u001b\\\n",
       "\u001b[2;36m         \u001b[0m         \u001b[39m/Users/moaly/Work/iris-hep/integration-challenge/cms/example/outputs/histogra\u001b[0m\u001b[39m \u001b[0m\u001b[2m                   \u001b[0m\n",
       "\u001b[2;36m         \u001b[0m         \u001b[39mms/\u001b[0m\u001b[39mhistograms.root\u001b[0m\u001b[39m                                                           \u001b[0m\u001b[39m \u001b[0m\u001b[2m                   \u001b[0m\n"
      ]
     },
     "metadata": {},
     "output_type": "display_data"
    },
    {
     "name": "stdout",
     "output_type": "stream",
     "text": [
      "📈 Generated histograms for channels: ['CMS_WORKSHOP']\n"
     ]
    }
   ],
   "source": [
    "# Import the analysis class for the analysis\n",
    "from analysis.nondiff import NonDiffAnalysis\n",
    "from utils.output_files import save_histograms_to_root\n",
    "\n",
    "validated_config.general.run_histogramming=True\n",
    "\n",
    "# Initialize the analysis object\n",
    "# This analysis object will handle histogram creation, observable computation, and systematic variations\n",
    "nondiff_analysis = NonDiffAnalysis(validated_config, processed_datasets, output_manager)\n",
    "\n",
    "print(f\"🔬 Analysis initialized for {len(nondiff_analysis.processed_datasets)} datasets\")\n",
    "\n",
    "# Loop over each dataset and its associated event data\n",
    "for dataset_name, events_list in nondiff_analysis.processed_datasets.items():\n",
    "    print(f\"📊 Processing dataset: {dataset_name}\")\n",
    "    # Each dataset contains a list of (events, metadata) tuples (in case of chunking)\n",
    "    # Currently merging of chunks is default --> single tuple per dataset\n",
    "    for events, metadata in events_list:\n",
    "        print(f\"   • Processing {len(events)} events with metadata: {metadata['process']}\")\n",
    "        # Process the events through the analysis pipeline:\n",
    "        nondiff_analysis.process(events, metadata)\n",
    "        \n",
    "save_histograms_to_root(\n",
    "    nondiff_analysis.nD_hists_per_region,\n",
    "    output_file=nondiff_analysis.output_manager.get_histograms_dir() / \"histograms.root\",\n",
    ")\n",
    "\n",
    "print(f\"📈 Generated histograms for channels: {[ch.name for ch in validated_config.channels]}\")"
   ]
  },
  {
   "cell_type": "markdown",
   "id": "f64a7776",
   "metadata": {},
   "source": [
    "# 7. Statistical Analysis\n",
    "\n",
    "The statistical analysis step performs a fit from the histograms and visualize results. This uses `cabinetry` with a manually created config. It also creates and stores the corresponding `pyhf` workspace.\n",
    "\n",
    "**Note: the following fit is performed with the full CMS open-data dataset, not the small example here** "
   ]
  },
  {
   "cell_type": "code",
   "execution_count": 9,
   "id": "88ac3572",
   "metadata": {},
   "outputs": [
    {
     "ename": "SyntaxError",
     "evalue": "unterminated string literal (detected at line 2) (1957373689.py, line 2)",
     "output_type": "error",
     "traceback": [
      "  \u001b[36mCell\u001b[39m\u001b[36m \u001b[39m\u001b[32mIn[9]\u001b[39m\u001b[32m, line 2\u001b[39m\n\u001b[31m    \u001b[39m\u001b[31mvalidated_config.statistics.cabinetry_config = \"./example-old/outputs/cabinetry.\u001b[39m\n                                                   ^\n\u001b[31mSyntaxError\u001b[39m\u001b[31m:\u001b[39m unterminated string literal (detected at line 2)\n"
     ]
    }
   ],
   "source": [
    "import cabinetry\n",
    "validated_config.statistics.cabinetry_config = \"./example-old/outputs/cabinetry.\n",
    "cabinetry_config = cabinetry.configuration.load(\n",
    "    validated_config.statistics.cabinetry_config\n",
    ")\n",
    "data, fit_results, pre_fit_predictions, postfit_predictions = (\n",
    "    nondiff_analysis.run_fit(cabinetry_config=cabinetry_config)\n",
    ")\n",
    "cabinetry.visualize.data_mc(\n",
    "    pre_fit_predictions,\n",
    "    data,\n",
    "    close_figure=False,\n",
    "    config=cabinetry_config,\n",
    "    figure_folder=nondiff_analysis.output_manager.get_statistics_dir(),\n",
    "\n",
    ")\n",
    "cabinetry.visualize.data_mc(\n",
    "    postfit_predictions,\n",
    "    data,\n",
    "    close_figure=False,\n",
    "    config=cabinetry_config,\n",
    "    figure_folder=nondiff_analysis.output_manager.get_statistics_dir(),\n",
    ")\n",
    "cabinetry.visualize.pulls(fit_results, close_figure=False, figure_folder=nondiff_analysis.output_manager.get_statistics_dir(),)"
   ]
  },
  {
   "cell_type": "markdown",
   "id": "1455dcd8",
   "metadata": {},
   "source": [
    "## 8. Full Workflow\n",
    "\n",
    "The above workflow is broken down for demonstration, but the simplest way to use it is by putting the main pieces together in one simple steering script and running it from the command-line with CLI overrides of config options. The current implementation is steered by `analysis.py` and can be simply executed with:\n",
    "\n",
    "```sh\n",
    "python analysis.py\n",
    "```\n",
    "\n",
    "---"
   ]
  }
 ],
 "metadata": {
  "kernelspec": {
   "display_name": "Python 3 (ipykernel)",
   "language": "python",
   "name": "python3"
  },
  "language_info": {
   "codemirror_mode": {
    "name": "ipython",
    "version": 3
   },
   "file_extension": ".py",
   "mimetype": "text/x-python",
   "name": "python",
   "nbconvert_exporter": "python",
   "pygments_lexer": "ipython3",
   "version": "3.12.11"
  }
 },
 "nbformat": 4,
 "nbformat_minor": 5
}
