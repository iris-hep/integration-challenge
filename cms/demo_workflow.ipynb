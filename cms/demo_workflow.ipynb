{
 "cells": [
  {
   "cell_type": "markdown",
   "id": "082a7547",
   "metadata": {},
   "source": [
    "# IRIS-HEP CMS Integration Challenge: Workflow Demonstration\n",
    "\n",
    "This notebook demonstrates the workflow of the IRIS-HEP CMS integration challenge. The workflow is modular and consists of the following steps:\n",
    "\n",
    "1. Environment Setup\n",
    "2. Configuration Construction\n",
    "3. Metadata Extraction\n",
    "4. Skimming\n",
    "5. Histogramming\n",
    "6. Statistical Analysis\n",
    "7. Plotting"
   ]
  },
  {
   "cell_type": "markdown",
   "id": "49c51884",
   "metadata": {},
   "source": [
    "## 1. Environment Setup\n",
    "\n",
    "To set up the environment, use the following command to launch JupyterLab with the required dependencies:\n",
    "\n",
    "```sh\n",
    "pixi run lab\n",
    "```\n",
    "\n",
    "Alternatively, if you prefer a Conda-like environment, activate it using the provided script:\n",
    "\n",
    "```sh\n",
    "source pixi_activate.sh\n",
    "```"
   ]
  },
  {
   "cell_type": "code",
   "execution_count": 1,
   "id": "4cf1e767-0be5-49d6-b316-aff8a7df67ea",
   "metadata": {},
   "outputs": [
    {
     "name": "stdout",
     "output_type": "stream",
     "text": [
      "Collecting omegaconf\n",
      "  Using cached omegaconf-2.3.0-py3-none-any.whl.metadata (3.9 kB)\n",
      "Collecting antlr4-python3-runtime==4.9.* (from omegaconf)\n",
      "  Using cached antlr4_python3_runtime-4.9.3-py3-none-any.whl\n",
      "Requirement already satisfied: PyYAML>=5.1.0 in /usr/local/lib/python3.12/site-packages (from omegaconf) (6.0.2)\n",
      "Using cached omegaconf-2.3.0-py3-none-any.whl (79 kB)\n",
      "Installing collected packages: antlr4-python3-runtime, omegaconf\n",
      "\u001b[2K   \u001b[90m━━━━━━━━━━━━━━━━━━━━━━━━━━━━━━━━━━━━━━━━\u001b[0m \u001b[32m2/2\u001b[0m [omegaconf]\n",
      "\u001b[1A\u001b[2KSuccessfully installed antlr4-python3-runtime-4.9.3 omegaconf-2.3.0\n",
      "Collecting coffea==2025.10.0\n",
      "  Using cached coffea-2025.10.0-py3-none-any.whl.metadata (8.2 kB)\n",
      "Requirement already satisfied: aiohttp in /usr/local/lib/python3.12/site-packages (from coffea==2025.10.0) (3.12.14)\n",
      "Collecting awkward>=2.8.9 (from coffea==2025.10.0)\n",
      "  Using cached awkward-2.8.9-py3-none-any.whl.metadata (7.5 kB)\n",
      "Requirement already satisfied: cachetools in /usr/local/lib/python3.12/site-packages (from coffea==2025.10.0) (5.5.2)\n",
      "Requirement already satisfied: cloudpickle>=1.2.3 in /usr/local/lib/python3.12/site-packages (from coffea==2025.10.0) (3.1.1)\n",
      "Requirement already satisfied: correctionlib>=2.6.0 in /usr/local/lib/python3.12/site-packages (from coffea==2025.10.0) (2.7.0)\n",
      "Collecting dask-awkward>=2025.9.0 (from coffea==2025.10.0)\n",
      "  Using cached dask_awkward-2025.9.0-py3-none-any.whl.metadata (3.9 kB)\n",
      "Requirement already satisfied: dask-histogram>=2025.2.0 in /usr/local/lib/python3.12/site-packages (from coffea==2025.10.0) (2025.2.0)\n",
      "Requirement already satisfied: dask>=2024.3.0 in /usr/local/lib/python3.12/site-packages (from dask[array]>=2024.3.0->coffea==2025.10.0) (2025.3.0)\n",
      "Requirement already satisfied: fsspec in /usr/local/lib/python3.12/site-packages (from coffea==2025.10.0) (2025.7.0)\n",
      "Requirement already satisfied: hist>=2 in /usr/local/lib/python3.12/site-packages (from coffea==2025.10.0) (2.8.1)\n",
      "Requirement already satisfied: lz4 in /usr/local/lib/python3.12/site-packages (from coffea==2025.10.0) (4.4.4)\n",
      "Requirement already satisfied: matplotlib>=3 in /usr/local/lib/python3.12/site-packages (from coffea==2025.10.0) (3.10.3)\n",
      "Requirement already satisfied: mplhep>=0.1.18 in /usr/local/lib/python3.12/site-packages (from coffea==2025.10.0) (0.4.0)\n",
      "Requirement already satisfied: numba>=0.58.1 in /usr/local/lib/python3.12/site-packages (from coffea==2025.10.0) (0.61.2)\n",
      "Requirement already satisfied: numpy>=1.22 in /usr/local/lib/python3.12/site-packages (from coffea==2025.10.0) (2.2.6)\n",
      "Requirement already satisfied: packaging in /usr/local/lib/python3.12/site-packages (from coffea==2025.10.0) (25.0)\n",
      "Requirement already satisfied: pandas in /usr/local/lib/python3.12/site-packages (from coffea==2025.10.0) (2.3.1)\n",
      "Requirement already satisfied: pyarrow>=6.0.0 in /usr/local/lib/python3.12/site-packages (from coffea==2025.10.0) (20.0.0)\n",
      "Requirement already satisfied: requests in /usr/local/lib/python3.12/site-packages (from coffea==2025.10.0) (2.32.3)\n",
      "Requirement already satisfied: scipy>=1.1.0 in /usr/local/lib/python3.12/site-packages (from coffea==2025.10.0) (1.16.0)\n",
      "Requirement already satisfied: toml>=0.10.2 in /usr/local/lib/python3.12/site-packages (from coffea==2025.10.0) (0.10.2)\n",
      "Requirement already satisfied: tqdm>=4.27.0 in /usr/local/lib/python3.12/site-packages (from coffea==2025.10.0) (4.67.1)\n",
      "Requirement already satisfied: uproot>=5.6.0 in /usr/local/lib/python3.12/site-packages (from coffea==2025.10.0) (5.6.3)\n",
      "Requirement already satisfied: vector!=1.6.0,>=1.4.1 in /usr/local/lib/python3.12/site-packages (from coffea==2025.10.0) (1.6.3)\n",
      "Collecting awkward-cpp==50 (from awkward>=2.8.9->coffea==2025.10.0)\n",
      "  Using cached awkward_cpp-50-cp312-cp312-manylinux_2_27_x86_64.manylinux_2_28_x86_64.whl.metadata (2.2 kB)\n",
      "Requirement already satisfied: pydantic>=2 in /usr/local/lib/python3.12/site-packages (from correctionlib>=2.6.0->coffea==2025.10.0) (2.11.7)\n",
      "Requirement already satisfied: rich in /usr/local/lib/python3.12/site-packages (from correctionlib>=2.6.0->coffea==2025.10.0) (14.0.0)\n",
      "Requirement already satisfied: click>=8.1 in /usr/local/lib/python3.12/site-packages (from dask>=2024.3.0->dask[array]>=2024.3.0->coffea==2025.10.0) (8.2.1)\n",
      "Requirement already satisfied: partd>=1.4.0 in /usr/local/lib/python3.12/site-packages (from dask>=2024.3.0->dask[array]>=2024.3.0->coffea==2025.10.0) (1.4.2)\n",
      "Requirement already satisfied: pyyaml>=5.3.1 in /usr/local/lib/python3.12/site-packages (from dask>=2024.3.0->dask[array]>=2024.3.0->coffea==2025.10.0) (6.0.2)\n",
      "Requirement already satisfied: toolz>=0.10.0 in /usr/local/lib/python3.12/site-packages (from dask>=2024.3.0->dask[array]>=2024.3.0->coffea==2025.10.0) (1.0.0)\n",
      "Requirement already satisfied: typing-extensions>=4.8.0 in /usr/local/lib/python3.12/site-packages (from dask-awkward>=2025.9.0->coffea==2025.10.0) (4.14.1)\n",
      "Requirement already satisfied: boost-histogram>=1.3.2 in /usr/local/lib/python3.12/site-packages (from dask-histogram>=2025.2.0->coffea==2025.10.0) (1.5.2)\n",
      "Requirement already satisfied: histoprint>=2.2.0 in /usr/local/lib/python3.12/site-packages (from hist>=2->coffea==2025.10.0) (2.6.0)\n",
      "Requirement already satisfied: uhi>=0.2.1 in /usr/local/lib/python3.12/site-packages (from histoprint>=2.2.0->hist>=2->coffea==2025.10.0) (0.5.0)\n",
      "Requirement already satisfied: contourpy>=1.0.1 in /usr/local/lib/python3.12/site-packages (from matplotlib>=3->coffea==2025.10.0) (1.3.2)\n",
      "Requirement already satisfied: cycler>=0.10 in /usr/local/lib/python3.12/site-packages (from matplotlib>=3->coffea==2025.10.0) (0.12.1)\n",
      "Requirement already satisfied: fonttools>=4.22.0 in /usr/local/lib/python3.12/site-packages (from matplotlib>=3->coffea==2025.10.0) (4.59.0)\n",
      "Requirement already satisfied: kiwisolver>=1.3.1 in /usr/local/lib/python3.12/site-packages (from matplotlib>=3->coffea==2025.10.0) (1.4.8)\n",
      "Requirement already satisfied: pillow>=8 in /usr/local/lib/python3.12/site-packages (from matplotlib>=3->coffea==2025.10.0) (11.3.0)\n",
      "Requirement already satisfied: pyparsing>=2.3.1 in /usr/local/lib/python3.12/site-packages (from matplotlib>=3->coffea==2025.10.0) (3.2.3)\n",
      "Requirement already satisfied: python-dateutil>=2.7 in /usr/local/lib/python3.12/site-packages (from matplotlib>=3->coffea==2025.10.0) (2.9.0.post0)\n",
      "Requirement already satisfied: mplhep-data>=0.0.4 in /usr/local/lib/python3.12/site-packages (from mplhep>=0.1.18->coffea==2025.10.0) (0.0.4)\n",
      "Requirement already satisfied: llvmlite<0.45,>=0.44.0dev0 in /usr/local/lib/python3.12/site-packages (from numba>=0.58.1->coffea==2025.10.0) (0.44.0)\n",
      "Requirement already satisfied: locket in /usr/local/lib/python3.12/site-packages (from partd>=1.4.0->dask>=2024.3.0->dask[array]>=2024.3.0->coffea==2025.10.0) (1.0.0)\n",
      "Requirement already satisfied: annotated-types>=0.6.0 in /usr/local/lib/python3.12/site-packages (from pydantic>=2->correctionlib>=2.6.0->coffea==2025.10.0) (0.7.0)\n",
      "Requirement already satisfied: pydantic-core==2.33.2 in /usr/local/lib/python3.12/site-packages (from pydantic>=2->correctionlib>=2.6.0->coffea==2025.10.0) (2.33.2)\n",
      "Requirement already satisfied: typing-inspection>=0.4.0 in /usr/local/lib/python3.12/site-packages (from pydantic>=2->correctionlib>=2.6.0->coffea==2025.10.0) (0.4.1)\n",
      "Requirement already satisfied: six>=1.5 in /usr/local/lib/python3.12/site-packages (from python-dateutil>=2.7->matplotlib>=3->coffea==2025.10.0) (1.17.0)\n",
      "Requirement already satisfied: cramjam>=2.5.0 in /usr/local/lib/python3.12/site-packages (from uproot>=5.6.0->coffea==2025.10.0) (2.10.0)\n",
      "Requirement already satisfied: xxhash in /usr/local/lib/python3.12/site-packages (from uproot>=5.6.0->coffea==2025.10.0) (3.5.0)\n",
      "Requirement already satisfied: aiohappyeyeballs>=2.5.0 in /usr/local/lib/python3.12/site-packages (from aiohttp->coffea==2025.10.0) (2.6.1)\n",
      "Requirement already satisfied: aiosignal>=1.4.0 in /usr/local/lib/python3.12/site-packages (from aiohttp->coffea==2025.10.0) (1.4.0)\n",
      "Requirement already satisfied: attrs>=17.3.0 in /usr/local/lib/python3.12/site-packages (from aiohttp->coffea==2025.10.0) (25.3.0)\n",
      "Requirement already satisfied: frozenlist>=1.1.1 in /usr/local/lib/python3.12/site-packages (from aiohttp->coffea==2025.10.0) (1.7.0)\n",
      "Requirement already satisfied: multidict<7.0,>=4.5 in /usr/local/lib/python3.12/site-packages (from aiohttp->coffea==2025.10.0) (6.6.3)\n",
      "Requirement already satisfied: propcache>=0.2.0 in /usr/local/lib/python3.12/site-packages (from aiohttp->coffea==2025.10.0) (0.3.1)\n",
      "Requirement already satisfied: yarl<2.0,>=1.17.0 in /usr/local/lib/python3.12/site-packages (from aiohttp->coffea==2025.10.0) (1.20.1)\n",
      "Requirement already satisfied: idna>=2.0 in /usr/local/lib/python3.12/site-packages (from yarl<2.0,>=1.17.0->aiohttp->coffea==2025.10.0) (3.10)\n",
      "Requirement already satisfied: pytz>=2020.1 in /usr/local/lib/python3.12/site-packages (from pandas->coffea==2025.10.0) (2025.2)\n",
      "Requirement already satisfied: tzdata>=2022.7 in /usr/local/lib/python3.12/site-packages (from pandas->coffea==2025.10.0) (2025.2)\n",
      "Requirement already satisfied: charset_normalizer<4,>=2 in /usr/local/lib/python3.12/site-packages (from requests->coffea==2025.10.0) (3.4.2)\n",
      "Requirement already satisfied: urllib3<3,>=1.21.1 in /usr/local/lib/python3.12/site-packages (from requests->coffea==2025.10.0) (2.4.0)\n",
      "Requirement already satisfied: certifi>=2017.4.17 in /usr/local/lib/python3.12/site-packages (from requests->coffea==2025.10.0) (2025.4.26)\n",
      "Requirement already satisfied: markdown-it-py>=2.2.0 in /usr/local/lib/python3.12/site-packages (from rich->correctionlib>=2.6.0->coffea==2025.10.0) (3.0.0)\n",
      "Requirement already satisfied: pygments<3.0.0,>=2.13.0 in /usr/local/lib/python3.12/site-packages (from rich->correctionlib>=2.6.0->coffea==2025.10.0) (2.19.2)\n",
      "Requirement already satisfied: mdurl~=0.1 in /usr/local/lib/python3.12/site-packages (from markdown-it-py>=2.2.0->rich->correctionlib>=2.6.0->coffea==2025.10.0) (0.1.2)\n",
      "Using cached coffea-2025.10.0-py3-none-any.whl (289 kB)\n",
      "Using cached awkward-2.8.9-py3-none-any.whl (903 kB)\n",
      "Using cached awkward_cpp-50-cp312-cp312-manylinux_2_27_x86_64.manylinux_2_28_x86_64.whl (655 kB)\n",
      "Using cached dask_awkward-2025.9.0-py3-none-any.whl (90 kB)\n",
      "Installing collected packages: awkward-cpp, awkward, dask-awkward, coffea\n",
      "\u001b[2K  Attempting uninstall: awkward-cpp\n",
      "\u001b[2K    Found existing installation: awkward_cpp 47\n",
      "\u001b[2K    Uninstalling awkward_cpp-47:\n",
      "\u001b[2K      Successfully uninstalled awkward_cpp-47\n",
      "\u001b[2K  Attempting uninstall: awkward\n",
      "\u001b[2K    Found existing installation: awkward 2.8.5\n",
      "\u001b[2K    Uninstalling awkward-2.8.5:\n",
      "\u001b[2K      Successfully uninstalled awkward-2.8.5\n",
      "\u001b[2K  Attempting uninstall: dask-awkwardm━━━━━━━━━━━━━━━━━━━━━━━━━━━━━\u001b[0m \u001b[32m1/4\u001b[0m [awkward]\n",
      "\u001b[2K    Found existing installation: dask-awkward 2025.5.0━━━━━━━━\u001b[0m \u001b[32m1/4\u001b[0m [awkward]\n",
      "\u001b[2K    Uninstalling dask-awkward-2025.5.0:━━━━━━━━━━━━━━━━━━━━━━━\u001b[0m \u001b[32m1/4\u001b[0m [awkward]\n",
      "\u001b[2K      Successfully uninstalled dask-awkward-2025.5.0━━━━━━━━━━\u001b[0m \u001b[32m1/4\u001b[0m [awkward]\n",
      "\u001b[2K  Attempting uninstall: coffea90m━━━━━━━━━━━━━━━━━━━━━━━━━━━━━\u001b[0m \u001b[32m1/4\u001b[0m [awkward]\n",
      "\u001b[2K    Found existing installation: coffea 2025.7.1━━━━━━━━━━━━━━\u001b[0m \u001b[32m1/4\u001b[0m [awkward]\n",
      "\u001b[2K    Uninstalling coffea-2025.7.1:━━━━━━━━━━━━━━━━━━━━━━━━━━━━━\u001b[0m \u001b[32m1/4\u001b[0m [awkward]\n",
      "\u001b[2K      Successfully uninstalled coffea-2025.7.1━━━━━━━━━━━━━━━━\u001b[0m \u001b[32m1/4\u001b[0m [awkward]\n",
      "\u001b[2K   \u001b[90m━━━━━━━━━━━━━━━━━━━━━━━━━━━━━━━━━━━━━━━━\u001b[0m \u001b[32m4/4\u001b[0m [coffea]2m3/4\u001b[0m [coffea]\n",
      "\u001b[1A\u001b[2KSuccessfully installed awkward-2.8.9 awkward-cpp-50 coffea-2025.10.0 dask-awkward-2025.9.0\n"
     ]
    }
   ],
   "source": [
    "# [coffea-casa] Install packages\n",
    "!pip install omegaconf\n",
    "!pip install coffea==2025.10.0"
   ]
  },
  {
   "cell_type": "code",
   "execution_count": 2,
   "id": "d19c5d9d-f273-4b38-b0ab-0a944e10d99b",
   "metadata": {},
   "outputs": [],
   "source": [
    "# Dask stuff\n",
    "# Register some modules for dask workers to pickle/unpickle\n",
    "import cloudpickle\n",
    "import utils, user\n",
    "cloudpickle.register_pickle_by_value(utils)\n",
    "cloudpickle.register_pickle_by_value(user)\n",
    "\n",
    "# Setup some funcitons for dask client handling\n",
    "from dask.distributed import Client, LocalCluster, PipInstall\n",
    "\n",
    "COFFEA_CASA = True\n",
    "\n",
    "def get_client(n_workers=4):\n",
    "    if not COFFEA_CASA:\n",
    "        cluster = LocalCluster(n_workers=n_workers, processes=True, threads_per_worker=1)\n",
    "        client = Client(cluster)\n",
    "        print(f\"Dask dashboard: {cluster.dashboard_link}\")\n",
    "    else:\n",
    "        dependencies = [\"coffea==2025.10.0\"]\n",
    "        client = Client(\"tls://localhost:8786\")\n",
    "        client.register_plugin(PipInstall(packages=dependencies))\n",
    "        cluster = None  # no local cluster in this mode\n",
    "    return client, cluster\n",
    "\n",
    "def close_client(cluster, client):\n",
    "    if client:\n",
    "        client.close()\n",
    "    if cluster:\n",
    "        cluster.close()\n",
    "    return None, None"
   ]
  },
  {
   "cell_type": "markdown",
   "id": "d7fc6967",
   "metadata": {},
   "source": [
    "## 2. Configuration Construction\n",
    "\n",
    "A lightweight Python config defines general settings, datasets, cuts, observables, and systematics — all are type-checked and (mostly) CLI-overrideable.\n",
    "Everything else in the workflow reads from it."
   ]
  },
  {
   "cell_type": "code",
   "execution_count": 3,
   "id": "11ada530",
   "metadata": {},
   "outputs": [],
   "source": [
    "# Import Rich-based Configuration Display from logging module\n",
    "from utils.logging import display_config_table, get_config_logger\n",
    "\n",
    "# Create a global config logger instance for this notebook\n",
    "config_logger = get_config_logger()"
   ]
  },
  {
   "cell_type": "code",
   "execution_count": 4,
   "id": "e0534706",
   "metadata": {},
   "outputs": [
    {
     "name": "stdout",
     "output_type": "stream",
     "text": [
      "=== Full configuration ===\n"
     ]
    },
    {
     "data": {
      "text/html": [
       "<pre style=\"white-space:pre;overflow-x:auto;line-height:normal;font-family:Menlo,'DejaVu Sans Mono',consolas,'Courier New',monospace\"><span style=\"font-style: italic\">                                                 Configuration: GENERAL                                            </span>\n",
       "┏━━━━━━━━━━━━━━━━━━━━━━━━━━━━━━┳━━━━━━━━━━━━━━━━━━━━━━━━━━━━━━━━━━━━━━━━━━━━━━━━━━━━━━━━━━━━━━━━━━━━━━━━━━━━━━━━━━━\n",
       "┃<span style=\"font-weight: bold\"> Key                          </span>┃<span style=\"font-weight: bold\"> Value                                                                             </span>\n",
       "┡━━━━━━━━━━━━━━━━━━━━━━━━━━━━━━╇━━━━━━━━━━━━━━━━━━━━━━━━━━━━━━━━━━━━━━━━━━━━━━━━━━━━━━━━━━━━━━━━━━━━━━━━━━━━━━━━━━━\n",
       "│<span style=\"color: #008080; text-decoration-color: #008080; font-weight: bold\"> lumi                         </span>│ 16400                                                                             \n",
       "│<span style=\"color: #008080; text-decoration-color: #008080; font-weight: bold\"> weight_branch                </span>│ 'genWeight'                                                                       \n",
       "│<span style=\"color: #008080; text-decoration-color: #008080; font-weight: bold\"> analysis                     </span>│ 'nondiff'                                                                         \n",
       "│<span style=\"color: #008080; text-decoration-color: #008080; font-weight: bold\"> run_skimming                 </span>│ False                                                                             \n",
       "│<span style=\"color: #008080; text-decoration-color: #008080; font-weight: bold\"> run_histogramming            </span>│ True                                                                              \n",
       "│<span style=\"color: #008080; text-decoration-color: #008080; font-weight: bold\"> run_statistics               </span>│ True                                                                              \n",
       "│<span style=\"color: #008080; text-decoration-color: #008080; font-weight: bold\"> run_systematics              </span>│ True                                                                              \n",
       "│<span style=\"color: #008080; text-decoration-color: #008080; font-weight: bold\"> run_plots_only               </span>│ False                                                                             \n",
       "│<span style=\"color: #008080; text-decoration-color: #008080; font-weight: bold\"> run_mva_training             </span>│ False                                                                             \n",
       "│<span style=\"color: #008080; text-decoration-color: #008080; font-weight: bold\"> run_metadata_generation      </span>│ False                                                                             \n",
       "│<span style=\"color: #008080; text-decoration-color: #008080; font-weight: bold\"> read_from_cache              </span>│ True                                                                              \n",
       "│<span style=\"color: #008080; text-decoration-color: #008080; font-weight: bold\"> output_dir                   </span>│ 'example-demo/outputs/'                                                           \n",
       "│<span style=\"color: #008080; text-decoration-color: #008080; font-weight: bold\"> lumifile                     </span>│ './corrections/Cert_271036-284044_13TeV_Legacy2016_Collisions16_JSON.txt'         \n",
       "│<span style=\"color: #008080; text-decoration-color: #008080; font-weight: bold\"> cache_dir                    </span>│ '/tmp/integration/'                                                               \n",
       "└──────────────────────────────┴───────────────────────────────────────────────────────────────────────────────────\n",
       "</pre>\n"
      ],
      "text/plain": [
       "\u001b[3m                                                 Configuration: GENERAL                                            \u001b[0m\n",
       "┏━━━━━━━━━━━━━━━━━━━━━━━━━━━━━━┳━━━━━━━━━━━━━━━━━━━━━━━━━━━━━━━━━━━━━━━━━━━━━━━━━━━━━━━━━━━━━━━━━━━━━━━━━━━━━━━━━━━\n",
       "┃\u001b[1m \u001b[0m\u001b[1mKey                         \u001b[0m\u001b[1m \u001b[0m┃\u001b[1m \u001b[0m\u001b[1mValue                                                                             \u001b[0m\n",
       "┡━━━━━━━━━━━━━━━━━━━━━━━━━━━━━━╇━━━━━━━━━━━━━━━━━━━━━━━━━━━━━━━━━━━━━━━━━━━━━━━━━━━━━━━━━━━━━━━━━━━━━━━━━━━━━━━━━━━\n",
       "│\u001b[1;36m \u001b[0m\u001b[1;36mlumi                        \u001b[0m\u001b[1;36m \u001b[0m│ 16400                                                                             \n",
       "│\u001b[1;36m \u001b[0m\u001b[1;36mweight_branch               \u001b[0m\u001b[1;36m \u001b[0m│ 'genWeight'                                                                       \n",
       "│\u001b[1;36m \u001b[0m\u001b[1;36manalysis                    \u001b[0m\u001b[1;36m \u001b[0m│ 'nondiff'                                                                         \n",
       "│\u001b[1;36m \u001b[0m\u001b[1;36mrun_skimming                \u001b[0m\u001b[1;36m \u001b[0m│ False                                                                             \n",
       "│\u001b[1;36m \u001b[0m\u001b[1;36mrun_histogramming           \u001b[0m\u001b[1;36m \u001b[0m│ True                                                                              \n",
       "│\u001b[1;36m \u001b[0m\u001b[1;36mrun_statistics              \u001b[0m\u001b[1;36m \u001b[0m│ True                                                                              \n",
       "│\u001b[1;36m \u001b[0m\u001b[1;36mrun_systematics             \u001b[0m\u001b[1;36m \u001b[0m│ True                                                                              \n",
       "│\u001b[1;36m \u001b[0m\u001b[1;36mrun_plots_only              \u001b[0m\u001b[1;36m \u001b[0m│ False                                                                             \n",
       "│\u001b[1;36m \u001b[0m\u001b[1;36mrun_mva_training            \u001b[0m\u001b[1;36m \u001b[0m│ False                                                                             \n",
       "│\u001b[1;36m \u001b[0m\u001b[1;36mrun_metadata_generation     \u001b[0m\u001b[1;36m \u001b[0m│ False                                                                             \n",
       "│\u001b[1;36m \u001b[0m\u001b[1;36mread_from_cache             \u001b[0m\u001b[1;36m \u001b[0m│ True                                                                              \n",
       "│\u001b[1;36m \u001b[0m\u001b[1;36moutput_dir                  \u001b[0m\u001b[1;36m \u001b[0m│ 'example-demo/outputs/'                                                           \n",
       "│\u001b[1;36m \u001b[0m\u001b[1;36mlumifile                    \u001b[0m\u001b[1;36m \u001b[0m│ './corrections/Cert_271036-284044_13TeV_Legacy2016_Collisions16_JSON.txt'         \n",
       "│\u001b[1;36m \u001b[0m\u001b[1;36mcache_dir                   \u001b[0m\u001b[1;36m \u001b[0m│ '/tmp/integration/'                                                               \n",
       "└──────────────────────────────┴───────────────────────────────────────────────────────────────────────────────────\n"
      ]
     },
     "metadata": {},
     "output_type": "display_data"
    },
    {
     "data": {
      "text/html": [
       "<pre style=\"white-space:pre;overflow-x:auto;line-height:normal;font-family:Menlo,'DejaVu Sans Mono',consolas,'Courier New',monospace\"><span style=\"font-style: italic\">                                               Configuration: PREPROCESS                                           </span>\n",
       "┏━━━━━━━━━━━━━━━━━━━━━━━━━━━━━━━┳━━━━━━━━━━━━━━━━━━━━━━━━━━━━━━━━━━━━━━━━━━━━━━━━━━━━━━━━━━━━━━━━━━━━━━━━━━━━━━━━━━\n",
       "┃<span style=\"font-weight: bold\"> Key                           </span>┃<span style=\"font-weight: bold\"> Value                                                                            </span>\n",
       "┡━━━━━━━━━━━━━━━━━━━━━━━━━━━━━━━╇━━━━━━━━━━━━━━━━━━━━━━━━━━━━━━━━━━━━━━━━━━━━━━━━━━━━━━━━━━━━━━━━━━━━━━━━━━━━━━━━━━\n",
       "│<span style=\"color: #008080; text-decoration-color: #008080; font-weight: bold\"> branches                      </span>│ {                                                                                \n",
       "│<span style=\"color: #008080; text-decoration-color: #008080; font-weight: bold\">                               </span>│   Muon:                                                                          \n",
       "│<span style=\"color: #008080; text-decoration-color: #008080; font-weight: bold\">                               </span>│ [                                                                                \n",
       "│<span style=\"color: #008080; text-decoration-color: #008080; font-weight: bold\">                               </span>│     [0]: 'pt'                                                                    \n",
       "│<span style=\"color: #008080; text-decoration-color: #008080; font-weight: bold\">                               </span>│     [1]: 'eta'                                                                   \n",
       "│<span style=\"color: #008080; text-decoration-color: #008080; font-weight: bold\">                               </span>│     [2]: 'phi'                                                                   \n",
       "│<span style=\"color: #008080; text-decoration-color: #008080; font-weight: bold\">                               </span>│     [3]: 'mass'                                                                  \n",
       "│<span style=\"color: #008080; text-decoration-color: #008080; font-weight: bold\">                               </span>│     [4]: 'miniIsoId'                                                             \n",
       "│<span style=\"color: #008080; text-decoration-color: #008080; font-weight: bold\">                               </span>│     [5]: 'tightId'                                                               \n",
       "│<span style=\"color: #008080; text-decoration-color: #008080; font-weight: bold\">                               </span>│     [6]: 'charge'                                                                \n",
       "│<span style=\"color: #008080; text-decoration-color: #008080; font-weight: bold\">                               </span>│   ]                                                                              \n",
       "│<span style=\"color: #008080; text-decoration-color: #008080; font-weight: bold\">                               </span>│   FatJet: ['particleNet_TvsQCD', 'pt', 'eta', 'phi', 'mass']                     \n",
       "│<span style=\"color: #008080; text-decoration-color: #008080; font-weight: bold\">                               </span>│   Jet:                                                                           \n",
       "│<span style=\"color: #008080; text-decoration-color: #008080; font-weight: bold\">                               </span>│ [                                                                                \n",
       "│<span style=\"color: #008080; text-decoration-color: #008080; font-weight: bold\">                               </span>│     [0]: 'btagDeepB'                                                             \n",
       "│<span style=\"color: #008080; text-decoration-color: #008080; font-weight: bold\">                               </span>│     [1]: 'jetId'                                                                 \n",
       "│<span style=\"color: #008080; text-decoration-color: #008080; font-weight: bold\">                               </span>│     [2]: 'pt'                                                                    \n",
       "│<span style=\"color: #008080; text-decoration-color: #008080; font-weight: bold\">                               </span>│     [3]: 'eta'                                                                   \n",
       "│<span style=\"color: #008080; text-decoration-color: #008080; font-weight: bold\">                               </span>│     [4]: 'phi'                                                                   \n",
       "│<span style=\"color: #008080; text-decoration-color: #008080; font-weight: bold\">                               </span>│     [5]: 'mass'                                                                  \n",
       "│<span style=\"color: #008080; text-decoration-color: #008080; font-weight: bold\">                               </span>│   ]                                                                              \n",
       "│<span style=\"color: #008080; text-decoration-color: #008080; font-weight: bold\">                               </span>│   PuppiMET: ['pt', 'phi']                                                        \n",
       "│<span style=\"color: #008080; text-decoration-color: #008080; font-weight: bold\">                               </span>│   HLT: ['Mu50']                                                                  \n",
       "│<span style=\"color: #008080; text-decoration-color: #008080; font-weight: bold\">                               </span>│   Pileup: ['nTrueInt']                                                           \n",
       "│<span style=\"color: #008080; text-decoration-color: #008080; font-weight: bold\">                               </span>│   event: ['genWeight', 'run', 'luminosityBlock', 'event']                        \n",
       "│<span style=\"color: #008080; text-decoration-color: #008080; font-weight: bold\">                               </span>│ }                                                                                \n",
       "│<span style=\"color: #008080; text-decoration-color: #008080; font-weight: bold\"> ignore_missing                </span>│ False                                                                            \n",
       "│<span style=\"color: #008080; text-decoration-color: #008080; font-weight: bold\"> mc_branches                   </span>│ {                                                                                \n",
       "│<span style=\"color: #008080; text-decoration-color: #008080; font-weight: bold\">                               </span>│   event: ['genWeight']                                                           \n",
       "│<span style=\"color: #008080; text-decoration-color: #008080; font-weight: bold\">                               </span>│   Pileup: ['nTrueInt']                                                           \n",
       "│<span style=\"color: #008080; text-decoration-color: #008080; font-weight: bold\">                               </span>│ }                                                                                \n",
       "│<span style=\"color: #008080; text-decoration-color: #008080; font-weight: bold\"> skimming                      </span>│ {                                                                                \n",
       "│<span style=\"color: #008080; text-decoration-color: #008080; font-weight: bold\">                               </span>│   selection_function: Function: default_skim_selection                           \n",
       "│<span style=\"color: #008080; text-decoration-color: #008080; font-weight: bold\">                               </span>│   selection_use: [('PuppiMET', None), ('HLT', None)]                             \n",
       "│<span style=\"color: #008080; text-decoration-color: #008080; font-weight: bold\">                               </span>│   chunk_size: 100000                                                             \n",
       "│<span style=\"color: #008080; text-decoration-color: #008080; font-weight: bold\">                               </span>│   tree_name: 'Events'                                                            \n",
       "│<span style=\"color: #008080; text-decoration-color: #008080; font-weight: bold\">                               </span>│ }                                                                                \n",
       "└───────────────────────────────┴──────────────────────────────────────────────────────────────────────────────────\n",
       "</pre>\n"
      ],
      "text/plain": [
       "\u001b[3m                                               Configuration: PREPROCESS                                           \u001b[0m\n",
       "┏━━━━━━━━━━━━━━━━━━━━━━━━━━━━━━━┳━━━━━━━━━━━━━━━━━━━━━━━━━━━━━━━━━━━━━━━━━━━━━━━━━━━━━━━━━━━━━━━━━━━━━━━━━━━━━━━━━━\n",
       "┃\u001b[1m \u001b[0m\u001b[1mKey                          \u001b[0m\u001b[1m \u001b[0m┃\u001b[1m \u001b[0m\u001b[1mValue                                                                            \u001b[0m\n",
       "┡━━━━━━━━━━━━━━━━━━━━━━━━━━━━━━━╇━━━━━━━━━━━━━━━━━━━━━━━━━━━━━━━━━━━━━━━━━━━━━━━━━━━━━━━━━━━━━━━━━━━━━━━━━━━━━━━━━━\n",
       "│\u001b[1;36m \u001b[0m\u001b[1;36mbranches                     \u001b[0m\u001b[1;36m \u001b[0m│ {                                                                                \n",
       "│\u001b[1;36m                               \u001b[0m│   Muon:                                                                          \n",
       "│\u001b[1;36m                               \u001b[0m│ [                                                                                \n",
       "│\u001b[1;36m                               \u001b[0m│     [0]: 'pt'                                                                    \n",
       "│\u001b[1;36m                               \u001b[0m│     [1]: 'eta'                                                                   \n",
       "│\u001b[1;36m                               \u001b[0m│     [2]: 'phi'                                                                   \n",
       "│\u001b[1;36m                               \u001b[0m│     [3]: 'mass'                                                                  \n",
       "│\u001b[1;36m                               \u001b[0m│     [4]: 'miniIsoId'                                                             \n",
       "│\u001b[1;36m                               \u001b[0m│     [5]: 'tightId'                                                               \n",
       "│\u001b[1;36m                               \u001b[0m│     [6]: 'charge'                                                                \n",
       "│\u001b[1;36m                               \u001b[0m│   ]                                                                              \n",
       "│\u001b[1;36m                               \u001b[0m│   FatJet: ['particleNet_TvsQCD', 'pt', 'eta', 'phi', 'mass']                     \n",
       "│\u001b[1;36m                               \u001b[0m│   Jet:                                                                           \n",
       "│\u001b[1;36m                               \u001b[0m│ [                                                                                \n",
       "│\u001b[1;36m                               \u001b[0m│     [0]: 'btagDeepB'                                                             \n",
       "│\u001b[1;36m                               \u001b[0m│     [1]: 'jetId'                                                                 \n",
       "│\u001b[1;36m                               \u001b[0m│     [2]: 'pt'                                                                    \n",
       "│\u001b[1;36m                               \u001b[0m│     [3]: 'eta'                                                                   \n",
       "│\u001b[1;36m                               \u001b[0m│     [4]: 'phi'                                                                   \n",
       "│\u001b[1;36m                               \u001b[0m│     [5]: 'mass'                                                                  \n",
       "│\u001b[1;36m                               \u001b[0m│   ]                                                                              \n",
       "│\u001b[1;36m                               \u001b[0m│   PuppiMET: ['pt', 'phi']                                                        \n",
       "│\u001b[1;36m                               \u001b[0m│   HLT: ['Mu50']                                                                  \n",
       "│\u001b[1;36m                               \u001b[0m│   Pileup: ['nTrueInt']                                                           \n",
       "│\u001b[1;36m                               \u001b[0m│   event: ['genWeight', 'run', 'luminosityBlock', 'event']                        \n",
       "│\u001b[1;36m                               \u001b[0m│ }                                                                                \n",
       "│\u001b[1;36m \u001b[0m\u001b[1;36mignore_missing               \u001b[0m\u001b[1;36m \u001b[0m│ False                                                                            \n",
       "│\u001b[1;36m \u001b[0m\u001b[1;36mmc_branches                  \u001b[0m\u001b[1;36m \u001b[0m│ {                                                                                \n",
       "│\u001b[1;36m                               \u001b[0m│   event: ['genWeight']                                                           \n",
       "│\u001b[1;36m                               \u001b[0m│   Pileup: ['nTrueInt']                                                           \n",
       "│\u001b[1;36m                               \u001b[0m│ }                                                                                \n",
       "│\u001b[1;36m \u001b[0m\u001b[1;36mskimming                     \u001b[0m\u001b[1;36m \u001b[0m│ {                                                                                \n",
       "│\u001b[1;36m                               \u001b[0m│   selection_function: Function: default_skim_selection                           \n",
       "│\u001b[1;36m                               \u001b[0m│   selection_use: [('PuppiMET', None), ('HLT', None)]                             \n",
       "│\u001b[1;36m                               \u001b[0m│   chunk_size: 100000                                                             \n",
       "│\u001b[1;36m                               \u001b[0m│   tree_name: 'Events'                                                            \n",
       "│\u001b[1;36m                               \u001b[0m│ }                                                                                \n",
       "└───────────────────────────────┴──────────────────────────────────────────────────────────────────────────────────\n"
      ]
     },
     "metadata": {},
     "output_type": "display_data"
    },
    {
     "data": {
      "text/html": [
       "<pre style=\"white-space:pre;overflow-x:auto;line-height:normal;font-family:Menlo,'DejaVu Sans Mono',consolas,'Courier New',monospace\"><span style=\"font-style: italic\">                                           Configuration: BASELINE_SELECTION                                       </span>\n",
       "┏━━━━━━━━━━━━━━━━━━━━━━━━━━━━━━━━━━━┳━━━━━━━━━━━━━━━━━━━━━━━━━━━━━━━━━━━━━━━━━━━━━━━━━━━━━━━━━━━━━━━━━━━━━━━━━━━━━━\n",
       "┃<span style=\"font-weight: bold\"> Key                               </span>┃<span style=\"font-weight: bold\"> Value                                                                        </span>\n",
       "┡━━━━━━━━━━━━━━━━━━━━━━━━━━━━━━━━━━━╇━━━━━━━━━━━━━━━━━━━━━━━━━━━━━━━━━━━━━━━━━━━━━━━━━━━━━━━━━━━━━━━━━━━━━━━━━━━━━━\n",
       "│<span style=\"color: #008080; text-decoration-color: #008080; font-weight: bold\"> function                          </span>│ Function: Zprime_hardcuts_no_fj                                              \n",
       "│<span style=\"color: #008080; text-decoration-color: #008080; font-weight: bold\"> use                               </span>│ [('Muon', None), ('Jet', None)]                                              \n",
       "└───────────────────────────────────┴──────────────────────────────────────────────────────────────────────────────\n",
       "</pre>\n"
      ],
      "text/plain": [
       "\u001b[3m                                           Configuration: BASELINE_SELECTION                                       \u001b[0m\n",
       "┏━━━━━━━━━━━━━━━━━━━━━━━━━━━━━━━━━━━┳━━━━━━━━━━━━━━━━━━━━━━━━━━━━━━━━━━━━━━━━━━━━━━━━━━━━━━━━━━━━━━━━━━━━━━━━━━━━━━\n",
       "┃\u001b[1m \u001b[0m\u001b[1mKey                              \u001b[0m\u001b[1m \u001b[0m┃\u001b[1m \u001b[0m\u001b[1mValue                                                                        \u001b[0m\n",
       "┡━━━━━━━━━━━━━━━━━━━━━━━━━━━━━━━━━━━╇━━━━━━━━━━━━━━━━━━━━━━━━━━━━━━━━━━━━━━━━━━━━━━━━━━━━━━━━━━━━━━━━━━━━━━━━━━━━━━\n",
       "│\u001b[1;36m \u001b[0m\u001b[1;36mfunction                         \u001b[0m\u001b[1;36m \u001b[0m│ Function: Zprime_hardcuts_no_fj                                              \n",
       "│\u001b[1;36m \u001b[0m\u001b[1;36muse                              \u001b[0m\u001b[1;36m \u001b[0m│ [('Muon', None), ('Jet', None)]                                              \n",
       "└───────────────────────────────────┴──────────────────────────────────────────────────────────────────────────────\n"
      ]
     },
     "metadata": {},
     "output_type": "display_data"
    },
    {
     "data": {
      "text/html": [
       "<pre style=\"white-space:pre;overflow-x:auto;line-height:normal;font-family:Menlo,'DejaVu Sans Mono',consolas,'Courier New',monospace\"><span style=\"font-style: italic\">                                            Configuration: GOOD_OBJECT_MASKS                                       </span>\n",
       "┏━━━━━━━━━━━━━━━━━━━━━━━━━━━━━━━━━━━┳━━━━━━━━━━━━━━━━━━━━━━━━━━━━━━━━━━━━━━━━━━━━━━━━━━━━━━━━━━━━━━━━━━━━━━━━━━━━━━\n",
       "┃<span style=\"font-weight: bold\"> Key                               </span>┃<span style=\"font-weight: bold\"> Value                                                                        </span>\n",
       "┡━━━━━━━━━━━━━━━━━━━━━━━━━━━━━━━━━━━╇━━━━━━━━━━━━━━━━━━━━━━━━━━━━━━━━━━━━━━━━━━━━━━━━━━━━━━━━━━━━━━━━━━━━━━━━━━━━━━\n",
       "│<span style=\"color: #008080; text-decoration-color: #008080; font-weight: bold\"> analysis                          </span>│ [                                                                            \n",
       "│<span style=\"color: #008080; text-decoration-color: #008080; font-weight: bold\">                                   </span>│   [0]:                                                                       \n",
       "│<span style=\"color: #008080; text-decoration-color: #008080; font-weight: bold\">                                   </span>│ {                                                                            \n",
       "│<span style=\"color: #008080; text-decoration-color: #008080; font-weight: bold\">                                   </span>│     object: 'Muon'                                                           \n",
       "│<span style=\"color: #008080; text-decoration-color: #008080; font-weight: bold\">                                   </span>│     function: Function: &lt;lambda&gt;                                             \n",
       "│<span style=\"color: #008080; text-decoration-color: #008080; font-weight: bold\">                                   </span>│     use: [('Muon', None)]                                                    \n",
       "│<span style=\"color: #008080; text-decoration-color: #008080; font-weight: bold\">                                   </span>│   }                                                                          \n",
       "│<span style=\"color: #008080; text-decoration-color: #008080; font-weight: bold\">                                   </span>│   [1]:                                                                       \n",
       "│<span style=\"color: #008080; text-decoration-color: #008080; font-weight: bold\">                                   </span>│ {                                                                            \n",
       "│<span style=\"color: #008080; text-decoration-color: #008080; font-weight: bold\">                                   </span>│     object: 'Jet'                                                            \n",
       "│<span style=\"color: #008080; text-decoration-color: #008080; font-weight: bold\">                                   </span>│     function: Function: &lt;lambda&gt;                                             \n",
       "│<span style=\"color: #008080; text-decoration-color: #008080; font-weight: bold\">                                   </span>│     use: [('Jet', None)]                                                     \n",
       "│<span style=\"color: #008080; text-decoration-color: #008080; font-weight: bold\">                                   </span>│   }                                                                          \n",
       "│<span style=\"color: #008080; text-decoration-color: #008080; font-weight: bold\">                                   </span>│   [2]:                                                                       \n",
       "│<span style=\"color: #008080; text-decoration-color: #008080; font-weight: bold\">                                   </span>│ {                                                                            \n",
       "│<span style=\"color: #008080; text-decoration-color: #008080; font-weight: bold\">                                   </span>│     object: 'FatJet'                                                         \n",
       "│<span style=\"color: #008080; text-decoration-color: #008080; font-weight: bold\">                                   </span>│     function: Function: &lt;lambda&gt;                                             \n",
       "│<span style=\"color: #008080; text-decoration-color: #008080; font-weight: bold\">                                   </span>│     use: [('FatJet', None)]                                                  \n",
       "│<span style=\"color: #008080; text-decoration-color: #008080; font-weight: bold\">                                   </span>│   }                                                                          \n",
       "│<span style=\"color: #008080; text-decoration-color: #008080; font-weight: bold\">                                   </span>│ ]                                                                            \n",
       "│<span style=\"color: #008080; text-decoration-color: #008080; font-weight: bold\"> mva                               </span>│ [                                                                            \n",
       "│<span style=\"color: #008080; text-decoration-color: #008080; font-weight: bold\">                                   </span>│   [0]:                                                                       \n",
       "│<span style=\"color: #008080; text-decoration-color: #008080; font-weight: bold\">                                   </span>│ {                                                                            \n",
       "│<span style=\"color: #008080; text-decoration-color: #008080; font-weight: bold\">                                   </span>│     object: 'Muon'                                                           \n",
       "│<span style=\"color: #008080; text-decoration-color: #008080; font-weight: bold\">                                   </span>│     function: Function: &lt;lambda&gt;                                             \n",
       "│<span style=\"color: #008080; text-decoration-color: #008080; font-weight: bold\">                                   </span>│     use: [('Muon', None)]                                                    \n",
       "│<span style=\"color: #008080; text-decoration-color: #008080; font-weight: bold\">                                   </span>│   }                                                                          \n",
       "│<span style=\"color: #008080; text-decoration-color: #008080; font-weight: bold\">                                   </span>│   [1]:                                                                       \n",
       "│<span style=\"color: #008080; text-decoration-color: #008080; font-weight: bold\">                                   </span>│ {                                                                            \n",
       "│<span style=\"color: #008080; text-decoration-color: #008080; font-weight: bold\">                                   </span>│     object: 'FatJet'                                                         \n",
       "│<span style=\"color: #008080; text-decoration-color: #008080; font-weight: bold\">                                   </span>│     function: Function: &lt;lambda&gt;                                             \n",
       "│<span style=\"color: #008080; text-decoration-color: #008080; font-weight: bold\">                                   </span>│     use: [('FatJet', None)]                                                  \n",
       "│<span style=\"color: #008080; text-decoration-color: #008080; font-weight: bold\">                                   </span>│   }                                                                          \n",
       "│<span style=\"color: #008080; text-decoration-color: #008080; font-weight: bold\">                                   </span>│ ]                                                                            \n",
       "└───────────────────────────────────┴──────────────────────────────────────────────────────────────────────────────\n",
       "</pre>\n"
      ],
      "text/plain": [
       "\u001b[3m                                            Configuration: GOOD_OBJECT_MASKS                                       \u001b[0m\n",
       "┏━━━━━━━━━━━━━━━━━━━━━━━━━━━━━━━━━━━┳━━━━━━━━━━━━━━━━━━━━━━━━━━━━━━━━━━━━━━━━━━━━━━━━━━━━━━━━━━━━━━━━━━━━━━━━━━━━━━\n",
       "┃\u001b[1m \u001b[0m\u001b[1mKey                              \u001b[0m\u001b[1m \u001b[0m┃\u001b[1m \u001b[0m\u001b[1mValue                                                                        \u001b[0m\n",
       "┡━━━━━━━━━━━━━━━━━━━━━━━━━━━━━━━━━━━╇━━━━━━━━━━━━━━━━━━━━━━━━━━━━━━━━━━━━━━━━━━━━━━━━━━━━━━━━━━━━━━━━━━━━━━━━━━━━━━\n",
       "│\u001b[1;36m \u001b[0m\u001b[1;36manalysis                         \u001b[0m\u001b[1;36m \u001b[0m│ [                                                                            \n",
       "│\u001b[1;36m                                   \u001b[0m│   [0]:                                                                       \n",
       "│\u001b[1;36m                                   \u001b[0m│ {                                                                            \n",
       "│\u001b[1;36m                                   \u001b[0m│     object: 'Muon'                                                           \n",
       "│\u001b[1;36m                                   \u001b[0m│     function: Function: <lambda>                                             \n",
       "│\u001b[1;36m                                   \u001b[0m│     use: [('Muon', None)]                                                    \n",
       "│\u001b[1;36m                                   \u001b[0m│   }                                                                          \n",
       "│\u001b[1;36m                                   \u001b[0m│   [1]:                                                                       \n",
       "│\u001b[1;36m                                   \u001b[0m│ {                                                                            \n",
       "│\u001b[1;36m                                   \u001b[0m│     object: 'Jet'                                                            \n",
       "│\u001b[1;36m                                   \u001b[0m│     function: Function: <lambda>                                             \n",
       "│\u001b[1;36m                                   \u001b[0m│     use: [('Jet', None)]                                                     \n",
       "│\u001b[1;36m                                   \u001b[0m│   }                                                                          \n",
       "│\u001b[1;36m                                   \u001b[0m│   [2]:                                                                       \n",
       "│\u001b[1;36m                                   \u001b[0m│ {                                                                            \n",
       "│\u001b[1;36m                                   \u001b[0m│     object: 'FatJet'                                                         \n",
       "│\u001b[1;36m                                   \u001b[0m│     function: Function: <lambda>                                             \n",
       "│\u001b[1;36m                                   \u001b[0m│     use: [('FatJet', None)]                                                  \n",
       "│\u001b[1;36m                                   \u001b[0m│   }                                                                          \n",
       "│\u001b[1;36m                                   \u001b[0m│ ]                                                                            \n",
       "│\u001b[1;36m \u001b[0m\u001b[1;36mmva                              \u001b[0m\u001b[1;36m \u001b[0m│ [                                                                            \n",
       "│\u001b[1;36m                                   \u001b[0m│   [0]:                                                                       \n",
       "│\u001b[1;36m                                   \u001b[0m│ {                                                                            \n",
       "│\u001b[1;36m                                   \u001b[0m│     object: 'Muon'                                                           \n",
       "│\u001b[1;36m                                   \u001b[0m│     function: Function: <lambda>                                             \n",
       "│\u001b[1;36m                                   \u001b[0m│     use: [('Muon', None)]                                                    \n",
       "│\u001b[1;36m                                   \u001b[0m│   }                                                                          \n",
       "│\u001b[1;36m                                   \u001b[0m│   [1]:                                                                       \n",
       "│\u001b[1;36m                                   \u001b[0m│ {                                                                            \n",
       "│\u001b[1;36m                                   \u001b[0m│     object: 'FatJet'                                                         \n",
       "│\u001b[1;36m                                   \u001b[0m│     function: Function: <lambda>                                             \n",
       "│\u001b[1;36m                                   \u001b[0m│     use: [('FatJet', None)]                                                  \n",
       "│\u001b[1;36m                                   \u001b[0m│   }                                                                          \n",
       "│\u001b[1;36m                                   \u001b[0m│ ]                                                                            \n",
       "└───────────────────────────────────┴──────────────────────────────────────────────────────────────────────────────\n"
      ]
     },
     "metadata": {},
     "output_type": "display_data"
    },
    {
     "data": {
      "text/html": [
       "<pre style=\"white-space:pre;overflow-x:auto;line-height:normal;font-family:Menlo,'DejaVu Sans Mono',consolas,'Courier New',monospace\"><span style=\"font-style: italic\">                                                Configuration: CHANNELS                                            </span>\n",
       "┏━━━━━━━━━━━━━━━━━━━━━━━━━┳━━━━━━━━━━━━━━━━━━━━━━━━━━━━━━━━━━━━━━━━━━━━━━━━━━━━━━━━━━━━━━━━━━━━━━━━━━━━━━━━━━━━━━━━\n",
       "┃<span style=\"font-weight: bold\"> Key                     </span>┃<span style=\"font-weight: bold\"> Value                                                                                  </span>\n",
       "┡━━━━━━━━━━━━━━━━━━━━━━━━━╇━━━━━━━━━━━━━━━━━━━━━━━━━━━━━━━━━━━━━━━━━━━━━━━━━━━━━━━━━━━━━━━━━━━━━━━━━━━━━━━━━━━━━━━━\n",
       "│<span style=\"color: #008080; text-decoration-color: #008080; font-weight: bold\"> Items                   </span>│ [                                                                                      \n",
       "│<span style=\"color: #008080; text-decoration-color: #008080; font-weight: bold\">                         </span>│   [0]:                                                                                 \n",
       "│<span style=\"color: #008080; text-decoration-color: #008080; font-weight: bold\">                         </span>│ {                                                                                      \n",
       "│<span style=\"color: #008080; text-decoration-color: #008080; font-weight: bold\">                         </span>│     name: 'CMS_WORKSHOP'                                                               \n",
       "│<span style=\"color: #008080; text-decoration-color: #008080; font-weight: bold\">                         </span>│     fit_observable: 'workshop_mtt'                                                     \n",
       "│<span style=\"color: #008080; text-decoration-color: #008080; font-weight: bold\">                         </span>│     observables:                                                                       \n",
       "│<span style=\"color: #008080; text-decoration-color: #008080; font-weight: bold\">                         </span>│ [                                                                                      \n",
       "│<span style=\"color: #008080; text-decoration-color: #008080; font-weight: bold\">                         </span>│       [0]:                                                                             \n",
       "│<span style=\"color: #008080; text-decoration-color: #008080; font-weight: bold\">                         </span>│ {                                                                                      \n",
       "│<span style=\"color: #008080; text-decoration-color: #008080; font-weight: bold\">                         </span>│         name: 'workshop_mtt'                                                           \n",
       "│<span style=\"color: #008080; text-decoration-color: #008080; font-weight: bold\">                         </span>│         binning: '200,3000,20'                                                         \n",
       "│<span style=\"color: #008080; text-decoration-color: #008080; font-weight: bold\">                         </span>│         label: '$M(t\\bar{t})$ [GeV]'                                                   \n",
       "│<span style=\"color: #008080; text-decoration-color: #008080; font-weight: bold\">                         </span>│         function: Function: get_mtt                                                    \n",
       "│<span style=\"color: #008080; text-decoration-color: #008080; font-weight: bold\">                         </span>│         use: [('Muon', None), ('Jet', None), ('FatJet', None), ('PuppiMET', None)]     \n",
       "│<span style=\"color: #008080; text-decoration-color: #008080; font-weight: bold\">                         </span>│       }                                                                                \n",
       "│<span style=\"color: #008080; text-decoration-color: #008080; font-weight: bold\">                         </span>│     ]                                                                                  \n",
       "│<span style=\"color: #008080; text-decoration-color: #008080; font-weight: bold\">                         </span>│     selection:                                                                         \n",
       "│<span style=\"color: #008080; text-decoration-color: #008080; font-weight: bold\">                         </span>│ {                                                                                      \n",
       "│<span style=\"color: #008080; text-decoration-color: #008080; font-weight: bold\">                         </span>│       function: Function: Zprime_workshop_cuts                                         \n",
       "│<span style=\"color: #008080; text-decoration-color: #008080; font-weight: bold\">                         </span>│       use: [('Muon', None), ('Jet', None), ('FatJet', None), ('PuppiMET', None)]       \n",
       "│<span style=\"color: #008080; text-decoration-color: #008080; font-weight: bold\">                         </span>│     }                                                                                  \n",
       "│<span style=\"color: #008080; text-decoration-color: #008080; font-weight: bold\">                         </span>│   }                                                                                    \n",
       "│<span style=\"color: #008080; text-decoration-color: #008080; font-weight: bold\">                         </span>│ ]                                                                                      \n",
       "└─────────────────────────┴────────────────────────────────────────────────────────────────────────────────────────\n",
       "</pre>\n"
      ],
      "text/plain": [
       "\u001b[3m                                                Configuration: CHANNELS                                            \u001b[0m\n",
       "┏━━━━━━━━━━━━━━━━━━━━━━━━━┳━━━━━━━━━━━━━━━━━━━━━━━━━━━━━━━━━━━━━━━━━━━━━━━━━━━━━━━━━━━━━━━━━━━━━━━━━━━━━━━━━━━━━━━━\n",
       "┃\u001b[1m \u001b[0m\u001b[1mKey                    \u001b[0m\u001b[1m \u001b[0m┃\u001b[1m \u001b[0m\u001b[1mValue                                                                                  \u001b[0m\n",
       "┡━━━━━━━━━━━━━━━━━━━━━━━━━╇━━━━━━━━━━━━━━━━━━━━━━━━━━━━━━━━━━━━━━━━━━━━━━━━━━━━━━━━━━━━━━━━━━━━━━━━━━━━━━━━━━━━━━━━\n",
       "│\u001b[1;36m \u001b[0m\u001b[1;36mItems                  \u001b[0m\u001b[1;36m \u001b[0m│ [                                                                                      \n",
       "│\u001b[1;36m                         \u001b[0m│   [0]:                                                                                 \n",
       "│\u001b[1;36m                         \u001b[0m│ {                                                                                      \n",
       "│\u001b[1;36m                         \u001b[0m│     name: 'CMS_WORKSHOP'                                                               \n",
       "│\u001b[1;36m                         \u001b[0m│     fit_observable: 'workshop_mtt'                                                     \n",
       "│\u001b[1;36m                         \u001b[0m│     observables:                                                                       \n",
       "│\u001b[1;36m                         \u001b[0m│ [                                                                                      \n",
       "│\u001b[1;36m                         \u001b[0m│       [0]:                                                                             \n",
       "│\u001b[1;36m                         \u001b[0m│ {                                                                                      \n",
       "│\u001b[1;36m                         \u001b[0m│         name: 'workshop_mtt'                                                           \n",
       "│\u001b[1;36m                         \u001b[0m│         binning: '200,3000,20'                                                         \n",
       "│\u001b[1;36m                         \u001b[0m│         label: '$M(t\\bar{t})$ [GeV]'                                                   \n",
       "│\u001b[1;36m                         \u001b[0m│         function: Function: get_mtt                                                    \n",
       "│\u001b[1;36m                         \u001b[0m│         use: [('Muon', None), ('Jet', None), ('FatJet', None), ('PuppiMET', None)]     \n",
       "│\u001b[1;36m                         \u001b[0m│       }                                                                                \n",
       "│\u001b[1;36m                         \u001b[0m│     ]                                                                                  \n",
       "│\u001b[1;36m                         \u001b[0m│     selection:                                                                         \n",
       "│\u001b[1;36m                         \u001b[0m│ {                                                                                      \n",
       "│\u001b[1;36m                         \u001b[0m│       function: Function: Zprime_workshop_cuts                                         \n",
       "│\u001b[1;36m                         \u001b[0m│       use: [('Muon', None), ('Jet', None), ('FatJet', None), ('PuppiMET', None)]       \n",
       "│\u001b[1;36m                         \u001b[0m│     }                                                                                  \n",
       "│\u001b[1;36m                         \u001b[0m│   }                                                                                    \n",
       "│\u001b[1;36m                         \u001b[0m│ ]                                                                                      \n",
       "└─────────────────────────┴────────────────────────────────────────────────────────────────────────────────────────\n"
      ]
     },
     "metadata": {},
     "output_type": "display_data"
    },
    {
     "data": {
      "text/html": [
       "<pre style=\"white-space:pre;overflow-x:auto;line-height:normal;font-family:Menlo,'DejaVu Sans Mono',consolas,'Courier New',monospace\"><span style=\"font-style: italic\">                                            Configuration: GHOST_OBSERVABLES                                       </span>\n",
       "┏━━━━━━━━━━━━━━━━━━━━━━┳━━━━━━━━━━━━━━━━━━━━━━━━━━━━━━━━━━━━━━━━━━━━━━━━━━━━━━━━━━━━━━━━━━━━━━━━━━━━━━━━━━━━━━━━━━━\n",
       "┃<span style=\"font-weight: bold\"> Key                  </span>┃<span style=\"font-weight: bold\"> Value                                                                                     </span>\n",
       "┡━━━━━━━━━━━━━━━━━━━━━━╇━━━━━━━━━━━━━━━━━━━━━━━━━━━━━━━━━━━━━━━━━━━━━━━━━━━━━━━━━━━━━━━━━━━━━━━━━━━━━━━━━━━━━━━━━━━\n",
       "│<span style=\"color: #008080; text-decoration-color: #008080; font-weight: bold\"> Items                </span>│ [                                                                                         \n",
       "│<span style=\"color: #008080; text-decoration-color: #008080; font-weight: bold\">                      </span>│   [0]:                                                                                    \n",
       "│<span style=\"color: #008080; text-decoration-color: #008080; font-weight: bold\">                      </span>│ {                                                                                         \n",
       "│<span style=\"color: #008080; text-decoration-color: #008080; font-weight: bold\">                      </span>│     names: ('n_jet', 'leading_jet_mass', 'subleading_jet_mass', 'st',                     \n",
       "│<span style=\"color: #008080; text-decoration-color: #008080; font-weight: bold\">                      </span>│ 'leading_jet_btag_score', 'subleading_jet_btag_score', 'S_zz', 'deltaR', 'pt_rel',        \n",
       "│<span style=\"color: #008080; text-decoration-color: #008080; font-weight: bold\">                      </span>│ 'deltaR_times_pt')                                                                        \n",
       "│<span style=\"color: #008080; text-decoration-color: #008080; font-weight: bold\">                      </span>│     collections: 'mva'                                                                    \n",
       "│<span style=\"color: #008080; text-decoration-color: #008080; font-weight: bold\">                      </span>│     function: Function: get_mva_vars                                                      \n",
       "│<span style=\"color: #008080; text-decoration-color: #008080; font-weight: bold\">                      </span>│     use: [('Muon', None), ('Jet', None)]                                                  \n",
       "│<span style=\"color: #008080; text-decoration-color: #008080; font-weight: bold\">                      </span>│   }                                                                                       \n",
       "│<span style=\"color: #008080; text-decoration-color: #008080; font-weight: bold\">                      </span>│ ]                                                                                         \n",
       "└──────────────────────┴───────────────────────────────────────────────────────────────────────────────────────────\n",
       "</pre>\n"
      ],
      "text/plain": [
       "\u001b[3m                                            Configuration: GHOST_OBSERVABLES                                       \u001b[0m\n",
       "┏━━━━━━━━━━━━━━━━━━━━━━┳━━━━━━━━━━━━━━━━━━━━━━━━━━━━━━━━━━━━━━━━━━━━━━━━━━━━━━━━━━━━━━━━━━━━━━━━━━━━━━━━━━━━━━━━━━━\n",
       "┃\u001b[1m \u001b[0m\u001b[1mKey                 \u001b[0m\u001b[1m \u001b[0m┃\u001b[1m \u001b[0m\u001b[1mValue                                                                                     \u001b[0m\n",
       "┡━━━━━━━━━━━━━━━━━━━━━━╇━━━━━━━━━━━━━━━━━━━━━━━━━━━━━━━━━━━━━━━━━━━━━━━━━━━━━━━━━━━━━━━━━━━━━━━━━━━━━━━━━━━━━━━━━━━\n",
       "│\u001b[1;36m \u001b[0m\u001b[1;36mItems               \u001b[0m\u001b[1;36m \u001b[0m│ [                                                                                         \n",
       "│\u001b[1;36m                      \u001b[0m│   [0]:                                                                                    \n",
       "│\u001b[1;36m                      \u001b[0m│ {                                                                                         \n",
       "│\u001b[1;36m                      \u001b[0m│     names: ('n_jet', 'leading_jet_mass', 'subleading_jet_mass', 'st',                     \n",
       "│\u001b[1;36m                      \u001b[0m│ 'leading_jet_btag_score', 'subleading_jet_btag_score', 'S_zz', 'deltaR', 'pt_rel',        \n",
       "│\u001b[1;36m                      \u001b[0m│ 'deltaR_times_pt')                                                                        \n",
       "│\u001b[1;36m                      \u001b[0m│     collections: 'mva'                                                                    \n",
       "│\u001b[1;36m                      \u001b[0m│     function: Function: get_mva_vars                                                      \n",
       "│\u001b[1;36m                      \u001b[0m│     use: [('Muon', None), ('Jet', None)]                                                  \n",
       "│\u001b[1;36m                      \u001b[0m│   }                                                                                       \n",
       "│\u001b[1;36m                      \u001b[0m│ ]                                                                                         \n",
       "└──────────────────────┴───────────────────────────────────────────────────────────────────────────────────────────\n"
      ]
     },
     "metadata": {},
     "output_type": "display_data"
    },
    {
     "data": {
      "text/html": [
       "<pre style=\"white-space:pre;overflow-x:auto;line-height:normal;font-family:Menlo,'DejaVu Sans Mono',consolas,'Courier New',monospace\"><span style=\"font-style: italic\">                                               Configuration: CORRECTIONS                                          </span>\n",
       "┏━━━━━━━━━━━━━━━━━━━━━━━━━━━━━━━━━━━┳━━━━━━━━━━━━━━━━━━━━━━━━━━━━━━━━━━━━━━━━━━━━━━━━━━━━━━━━━━━━━━━━━━━━━━━━━━━━━━\n",
       "┃<span style=\"font-weight: bold\"> Key                               </span>┃<span style=\"font-weight: bold\"> Value                                                                        </span>\n",
       "┡━━━━━━━━━━━━━━━━━━━━━━━━━━━━━━━━━━━╇━━━━━━━━━━━━━━━━━━━━━━━━━━━━━━━━━━━━━━━━━━━━━━━━━━━━━━━━━━━━━━━━━━━━━━━━━━━━━━\n",
       "│<span style=\"color: #008080; text-decoration-color: #008080; font-weight: bold\"> Items                             </span>│ [                                                                            \n",
       "│<span style=\"color: #008080; text-decoration-color: #008080; font-weight: bold\">                                   </span>│   [0]:                                                                       \n",
       "│<span style=\"color: #008080; text-decoration-color: #008080; font-weight: bold\">                                   </span>│ {                                                                            \n",
       "│<span style=\"color: #008080; text-decoration-color: #008080; font-weight: bold\">                                   </span>│     name: 'pu_weight'                                                        \n",
       "│<span style=\"color: #008080; text-decoration-color: #008080; font-weight: bold\">                                   </span>│     file: 'corrections/puWeights.json.gz'                                    \n",
       "│<span style=\"color: #008080; text-decoration-color: #008080; font-weight: bold\">                                   </span>│     type: 'event'                                                            \n",
       "│<span style=\"color: #008080; text-decoration-color: #008080; font-weight: bold\">                                   </span>│     use: [('Pileup', 'nTrueInt')]                                            \n",
       "│<span style=\"color: #008080; text-decoration-color: #008080; font-weight: bold\">                                   </span>│     op: 'mult'                                                               \n",
       "│<span style=\"color: #008080; text-decoration-color: #008080; font-weight: bold\">                                   </span>│     key: 'Collisions16_UltraLegacy_goldenJSON'                               \n",
       "│<span style=\"color: #008080; text-decoration-color: #008080; font-weight: bold\">                                   </span>│     use_correctionlib: True                                                  \n",
       "│<span style=\"color: #008080; text-decoration-color: #008080; font-weight: bold\">                                   </span>│   }                                                                          \n",
       "│<span style=\"color: #008080; text-decoration-color: #008080; font-weight: bold\">                                   </span>│   [1]:                                                                       \n",
       "│<span style=\"color: #008080; text-decoration-color: #008080; font-weight: bold\">                                   </span>│ {                                                                            \n",
       "│<span style=\"color: #008080; text-decoration-color: #008080; font-weight: bold\">                                   </span>│     name: 'muon_id_sf'                                                       \n",
       "│<span style=\"color: #008080; text-decoration-color: #008080; font-weight: bold\">                                   </span>│     file: 'corrections/muon_Z.json.gz'                                       \n",
       "│<span style=\"color: #008080; text-decoration-color: #008080; font-weight: bold\">                                   </span>│     use: [('Muon', 'eta'), ('Muon', 'pt')]                                   \n",
       "│<span style=\"color: #008080; text-decoration-color: #008080; font-weight: bold\">                                   </span>│     transform: Function: &lt;lambda&gt;                                            \n",
       "│<span style=\"color: #008080; text-decoration-color: #008080; font-weight: bold\">                                   </span>│     type: 'event'                                                            \n",
       "│<span style=\"color: #008080; text-decoration-color: #008080; font-weight: bold\">                                   </span>│     key: 'NUM_TightID_DEN_TrackerMuons'                                      \n",
       "│<span style=\"color: #008080; text-decoration-color: #008080; font-weight: bold\">                                   </span>│     use_correctionlib: True                                                  \n",
       "│<span style=\"color: #008080; text-decoration-color: #008080; font-weight: bold\">                                   </span>│     op: 'mult'                                                               \n",
       "│<span style=\"color: #008080; text-decoration-color: #008080; font-weight: bold\">                                   </span>│     up_and_down_idx: ['systup', 'systdown']                                  \n",
       "│<span style=\"color: #008080; text-decoration-color: #008080; font-weight: bold\">                                   </span>│   }                                                                          \n",
       "│<span style=\"color: #008080; text-decoration-color: #008080; font-weight: bold\">                                   </span>│ ]                                                                            \n",
       "└───────────────────────────────────┴──────────────────────────────────────────────────────────────────────────────\n",
       "</pre>\n"
      ],
      "text/plain": [
       "\u001b[3m                                               Configuration: CORRECTIONS                                          \u001b[0m\n",
       "┏━━━━━━━━━━━━━━━━━━━━━━━━━━━━━━━━━━━┳━━━━━━━━━━━━━━━━━━━━━━━━━━━━━━━━━━━━━━━━━━━━━━━━━━━━━━━━━━━━━━━━━━━━━━━━━━━━━━\n",
       "┃\u001b[1m \u001b[0m\u001b[1mKey                              \u001b[0m\u001b[1m \u001b[0m┃\u001b[1m \u001b[0m\u001b[1mValue                                                                        \u001b[0m\n",
       "┡━━━━━━━━━━━━━━━━━━━━━━━━━━━━━━━━━━━╇━━━━━━━━━━━━━━━━━━━━━━━━━━━━━━━━━━━━━━━━━━━━━━━━━━━━━━━━━━━━━━━━━━━━━━━━━━━━━━\n",
       "│\u001b[1;36m \u001b[0m\u001b[1;36mItems                            \u001b[0m\u001b[1;36m \u001b[0m│ [                                                                            \n",
       "│\u001b[1;36m                                   \u001b[0m│   [0]:                                                                       \n",
       "│\u001b[1;36m                                   \u001b[0m│ {                                                                            \n",
       "│\u001b[1;36m                                   \u001b[0m│     name: 'pu_weight'                                                        \n",
       "│\u001b[1;36m                                   \u001b[0m│     file: 'corrections/puWeights.json.gz'                                    \n",
       "│\u001b[1;36m                                   \u001b[0m│     type: 'event'                                                            \n",
       "│\u001b[1;36m                                   \u001b[0m│     use: [('Pileup', 'nTrueInt')]                                            \n",
       "│\u001b[1;36m                                   \u001b[0m│     op: 'mult'                                                               \n",
       "│\u001b[1;36m                                   \u001b[0m│     key: 'Collisions16_UltraLegacy_goldenJSON'                               \n",
       "│\u001b[1;36m                                   \u001b[0m│     use_correctionlib: True                                                  \n",
       "│\u001b[1;36m                                   \u001b[0m│   }                                                                          \n",
       "│\u001b[1;36m                                   \u001b[0m│   [1]:                                                                       \n",
       "│\u001b[1;36m                                   \u001b[0m│ {                                                                            \n",
       "│\u001b[1;36m                                   \u001b[0m│     name: 'muon_id_sf'                                                       \n",
       "│\u001b[1;36m                                   \u001b[0m│     file: 'corrections/muon_Z.json.gz'                                       \n",
       "│\u001b[1;36m                                   \u001b[0m│     use: [('Muon', 'eta'), ('Muon', 'pt')]                                   \n",
       "│\u001b[1;36m                                   \u001b[0m│     transform: Function: <lambda>                                            \n",
       "│\u001b[1;36m                                   \u001b[0m│     type: 'event'                                                            \n",
       "│\u001b[1;36m                                   \u001b[0m│     key: 'NUM_TightID_DEN_TrackerMuons'                                      \n",
       "│\u001b[1;36m                                   \u001b[0m│     use_correctionlib: True                                                  \n",
       "│\u001b[1;36m                                   \u001b[0m│     op: 'mult'                                                               \n",
       "│\u001b[1;36m                                   \u001b[0m│     up_and_down_idx: ['systup', 'systdown']                                  \n",
       "│\u001b[1;36m                                   \u001b[0m│   }                                                                          \n",
       "│\u001b[1;36m                                   \u001b[0m│ ]                                                                            \n",
       "└───────────────────────────────────┴──────────────────────────────────────────────────────────────────────────────\n"
      ]
     },
     "metadata": {},
     "output_type": "display_data"
    },
    {
     "data": {
      "text/html": [
       "<pre style=\"white-space:pre;overflow-x:auto;line-height:normal;font-family:Menlo,'DejaVu Sans Mono',consolas,'Courier New',monospace\"><span style=\"font-style: italic\">                                               Configuration: SYSTEMATICS                                          </span>\n",
       "┏━━━━━━━━━━━━━━━━━━━━━━━━━━━━━━━━━━━┳━━━━━━━━━━━━━━━━━━━━━━━━━━━━━━━━━━━━━━━━━━━━━━━━━━━━━━━━━━━━━━━━━━━━━━━━━━━━━━\n",
       "┃<span style=\"font-weight: bold\"> Key                               </span>┃<span style=\"font-weight: bold\"> Value                                                                        </span>\n",
       "┡━━━━━━━━━━━━━━━━━━━━━━━━━━━━━━━━━━━╇━━━━━━━━━━━━━━━━━━━━━━━━━━━━━━━━━━━━━━━━━━━━━━━━━━━━━━━━━━━━━━━━━━━━━━━━━━━━━━\n",
       "│<span style=\"color: #008080; text-decoration-color: #008080; font-weight: bold\"> Items                             </span>│ [                                                                            \n",
       "│<span style=\"color: #008080; text-decoration-color: #008080; font-weight: bold\">                                   </span>│   [0]:                                                                       \n",
       "│<span style=\"color: #008080; text-decoration-color: #008080; font-weight: bold\">                                   </span>│ {                                                                            \n",
       "│<span style=\"color: #008080; text-decoration-color: #008080; font-weight: bold\">                                   </span>│     name: 'jet_pt_resolution'                                                \n",
       "│<span style=\"color: #008080; text-decoration-color: #008080; font-weight: bold\">                                   </span>│     up_function: Function: jet_pt_resolution                                 \n",
       "│<span style=\"color: #008080; text-decoration-color: #008080; font-weight: bold\">                                   </span>│     target: ('Jet', 'pt')                                                    \n",
       "│<span style=\"color: #008080; text-decoration-color: #008080; font-weight: bold\">                                   </span>│     use: [('Jet', 'pt')]                                                     \n",
       "│<span style=\"color: #008080; text-decoration-color: #008080; font-weight: bold\">                                   </span>│     symmetrise: True                                                         \n",
       "│<span style=\"color: #008080; text-decoration-color: #008080; font-weight: bold\">                                   </span>│     op: 'mult'                                                               \n",
       "│<span style=\"color: #008080; text-decoration-color: #008080; font-weight: bold\">                                   </span>│     type: 'object'                                                           \n",
       "│<span style=\"color: #008080; text-decoration-color: #008080; font-weight: bold\">                                   </span>│   }                                                                          \n",
       "│<span style=\"color: #008080; text-decoration-color: #008080; font-weight: bold\">                                   </span>│   [1]:                                                                       \n",
       "│<span style=\"color: #008080; text-decoration-color: #008080; font-weight: bold\">                                   </span>│ {                                                                            \n",
       "│<span style=\"color: #008080; text-decoration-color: #008080; font-weight: bold\">                                   </span>│     name: 'jet_pt_scale'                                                     \n",
       "│<span style=\"color: #008080; text-decoration-color: #008080; font-weight: bold\">                                   </span>│     up_function: Function: jet_pt_scale                                      \n",
       "│<span style=\"color: #008080; text-decoration-color: #008080; font-weight: bold\">                                   </span>│     target: ('Jet', 'pt')                                                    \n",
       "│<span style=\"color: #008080; text-decoration-color: #008080; font-weight: bold\">                                   </span>│     symmetrise: True                                                         \n",
       "│<span style=\"color: #008080; text-decoration-color: #008080; font-weight: bold\">                                   </span>│     op: 'mult'                                                               \n",
       "│<span style=\"color: #008080; text-decoration-color: #008080; font-weight: bold\">                                   </span>│     type: 'object'                                                           \n",
       "│<span style=\"color: #008080; text-decoration-color: #008080; font-weight: bold\">                                   </span>│   }                                                                          \n",
       "│<span style=\"color: #008080; text-decoration-color: #008080; font-weight: bold\">                                   </span>│ ]                                                                            \n",
       "└───────────────────────────────────┴──────────────────────────────────────────────────────────────────────────────\n",
       "</pre>\n"
      ],
      "text/plain": [
       "\u001b[3m                                               Configuration: SYSTEMATICS                                          \u001b[0m\n",
       "┏━━━━━━━━━━━━━━━━━━━━━━━━━━━━━━━━━━━┳━━━━━━━━━━━━━━━━━━━━━━━━━━━━━━━━━━━━━━━━━━━━━━━━━━━━━━━━━━━━━━━━━━━━━━━━━━━━━━\n",
       "┃\u001b[1m \u001b[0m\u001b[1mKey                              \u001b[0m\u001b[1m \u001b[0m┃\u001b[1m \u001b[0m\u001b[1mValue                                                                        \u001b[0m\n",
       "┡━━━━━━━━━━━━━━━━━━━━━━━━━━━━━━━━━━━╇━━━━━━━━━━━━━━━━━━━━━━━━━━━━━━━━━━━━━━━━━━━━━━━━━━━━━━━━━━━━━━━━━━━━━━━━━━━━━━\n",
       "│\u001b[1;36m \u001b[0m\u001b[1;36mItems                            \u001b[0m\u001b[1;36m \u001b[0m│ [                                                                            \n",
       "│\u001b[1;36m                                   \u001b[0m│   [0]:                                                                       \n",
       "│\u001b[1;36m                                   \u001b[0m│ {                                                                            \n",
       "│\u001b[1;36m                                   \u001b[0m│     name: 'jet_pt_resolution'                                                \n",
       "│\u001b[1;36m                                   \u001b[0m│     up_function: Function: jet_pt_resolution                                 \n",
       "│\u001b[1;36m                                   \u001b[0m│     target: ('Jet', 'pt')                                                    \n",
       "│\u001b[1;36m                                   \u001b[0m│     use: [('Jet', 'pt')]                                                     \n",
       "│\u001b[1;36m                                   \u001b[0m│     symmetrise: True                                                         \n",
       "│\u001b[1;36m                                   \u001b[0m│     op: 'mult'                                                               \n",
       "│\u001b[1;36m                                   \u001b[0m│     type: 'object'                                                           \n",
       "│\u001b[1;36m                                   \u001b[0m│   }                                                                          \n",
       "│\u001b[1;36m                                   \u001b[0m│   [1]:                                                                       \n",
       "│\u001b[1;36m                                   \u001b[0m│ {                                                                            \n",
       "│\u001b[1;36m                                   \u001b[0m│     name: 'jet_pt_scale'                                                     \n",
       "│\u001b[1;36m                                   \u001b[0m│     up_function: Function: jet_pt_scale                                      \n",
       "│\u001b[1;36m                                   \u001b[0m│     target: ('Jet', 'pt')                                                    \n",
       "│\u001b[1;36m                                   \u001b[0m│     symmetrise: True                                                         \n",
       "│\u001b[1;36m                                   \u001b[0m│     op: 'mult'                                                               \n",
       "│\u001b[1;36m                                   \u001b[0m│     type: 'object'                                                           \n",
       "│\u001b[1;36m                                   \u001b[0m│   }                                                                          \n",
       "│\u001b[1;36m                                   \u001b[0m│ ]                                                                            \n",
       "└───────────────────────────────────┴──────────────────────────────────────────────────────────────────────────────\n"
      ]
     },
     "metadata": {},
     "output_type": "display_data"
    },
    {
     "data": {
      "text/html": [
       "<pre style=\"white-space:pre;overflow-x:auto;line-height:normal;font-family:Menlo,'DejaVu Sans Mono',consolas,'Courier New',monospace\"><span style=\"font-style: italic\">                                               Configuration: STATISTICS                                           </span>\n",
       "┏━━━━━━━━━━━━━━━━━━━━━━━━━━━━━━━━━┳━━━━━━━━━━━━━━━━━━━━━━━━━━━━━━━━━━━━━━━━━━━━━━━━━━━━━━━━━━━━━━━━━━━━━━━━━━━━━━━━\n",
       "┃<span style=\"font-weight: bold\"> Key                             </span>┃<span style=\"font-weight: bold\"> Value                                                                          </span>\n",
       "┡━━━━━━━━━━━━━━━━━━━━━━━━━━━━━━━━━╇━━━━━━━━━━━━━━━━━━━━━━━━━━━━━━━━━━━━━━━━━━━━━━━━━━━━━━━━━━━━━━━━━━━━━━━━━━━━━━━━\n",
       "│<span style=\"color: #008080; text-decoration-color: #008080; font-weight: bold\"> cabinetry_config                </span>│ 'example-demo/outputs/cabinetry/cabinetry_config.yaml'                         \n",
       "└─────────────────────────────────┴────────────────────────────────────────────────────────────────────────────────\n",
       "</pre>\n"
      ],
      "text/plain": [
       "\u001b[3m                                               Configuration: STATISTICS                                           \u001b[0m\n",
       "┏━━━━━━━━━━━━━━━━━━━━━━━━━━━━━━━━━┳━━━━━━━━━━━━━━━━━━━━━━━━━━━━━━━━━━━━━━━━━━━━━━━━━━━━━━━━━━━━━━━━━━━━━━━━━━━━━━━━\n",
       "┃\u001b[1m \u001b[0m\u001b[1mKey                            \u001b[0m\u001b[1m \u001b[0m┃\u001b[1m \u001b[0m\u001b[1mValue                                                                          \u001b[0m\n",
       "┡━━━━━━━━━━━━━━━━━━━━━━━━━━━━━━━━━╇━━━━━━━━━━━━━━━━━━━━━━━━━━━━━━━━━━━━━━━━━━━━━━━━━━━━━━━━━━━━━━━━━━━━━━━━━━━━━━━━\n",
       "│\u001b[1;36m \u001b[0m\u001b[1;36mcabinetry_config               \u001b[0m\u001b[1;36m \u001b[0m│ 'example-demo/outputs/cabinetry/cabinetry_config.yaml'                         \n",
       "└─────────────────────────────────┴────────────────────────────────────────────────────────────────────────────────\n"
      ]
     },
     "metadata": {},
     "output_type": "display_data"
    },
    {
     "data": {
      "text/html": [
       "<pre style=\"white-space:pre;overflow-x:auto;line-height:normal;font-family:Menlo,'DejaVu Sans Mono',consolas,'Courier New',monospace\"><span style=\"font-style: italic\">                                                Configuration: PLOTTING                                            </span>\n",
       "┏━━━━━━━━━━━━━━━━━━━━━━━━━━━━━━━━━━┳━━━━━━━━━━━━━━━━━━━━━━━━━━━━━━━━━━━━━━━━━━━━━━━━━━━━━━━━━━━━━━━━━━━━━━━━━━━━━━━\n",
       "┃<span style=\"font-weight: bold\"> Key                              </span>┃<span style=\"font-weight: bold\"> Value                                                                         </span>\n",
       "┡━━━━━━━━━━━━━━━━━━━━━━━━━━━━━━━━━━╇━━━━━━━━━━━━━━━━━━━━━━━━━━━━━━━━━━━━━━━━━━━━━━━━━━━━━━━━━━━━━━━━━━━━━━━━━━━━━━━\n",
       "│<span style=\"color: #008080; text-decoration-color: #008080; font-weight: bold\"> process_colors                   </span>│ {                                                                             \n",
       "│<span style=\"color: #008080; text-decoration-color: #008080; font-weight: bold\">                                  </span>│   ttbar_semilep: '#907AD6'                                                    \n",
       "│<span style=\"color: #008080; text-decoration-color: #008080; font-weight: bold\">                                  </span>│   signal: '#DABFFF'                                                           \n",
       "│<span style=\"color: #008080; text-decoration-color: #008080; font-weight: bold\">                                  </span>│   ttbar_lep: '#7FDEFF'                                                        \n",
       "│<span style=\"color: #008080; text-decoration-color: #008080; font-weight: bold\">                                  </span>│   ttbar_had: '#2C2A4A'                                                        \n",
       "│<span style=\"color: #008080; text-decoration-color: #008080; font-weight: bold\">                                  </span>│   wjets: '#72A1E5'                                                            \n",
       "│<span style=\"color: #008080; text-decoration-color: #008080; font-weight: bold\">                                  </span>│   ttbar: '#907AD6'                                                            \n",
       "│<span style=\"color: #008080; text-decoration-color: #008080; font-weight: bold\">                                  </span>│ }                                                                             \n",
       "│<span style=\"color: #008080; text-decoration-color: #008080; font-weight: bold\"> process_labels                   </span>│ {                                                                             \n",
       "│<span style=\"color: #008080; text-decoration-color: #008080; font-weight: bold\">                                  </span>│   ttbar_semilep: '$t\\bar{t}\\,\\textrm{(lepton+jets)}$'                         \n",
       "│<span style=\"color: #008080; text-decoration-color: #008080; font-weight: bold\">                                  </span>│   signal: '$Z^{\\prime} \\rightarrow t\\bar{t}$'                                 \n",
       "│<span style=\"color: #008080; text-decoration-color: #008080; font-weight: bold\">                                  </span>│   ttbar_lep: '$t\\bar{t}\\,\\textrm{(leptonic)}$'                                \n",
       "│<span style=\"color: #008080; text-decoration-color: #008080; font-weight: bold\">                                  </span>│   ttbar_had: '$t\\bar{t}\\,\\textrm{(hadronic)}$'                                \n",
       "│<span style=\"color: #008080; text-decoration-color: #008080; font-weight: bold\">                                  </span>│   wjets: '$W+\\textrm{jets}$'                                                  \n",
       "│<span style=\"color: #008080; text-decoration-color: #008080; font-weight: bold\">                                  </span>│   ttbar: '$t\\bar{t}$'                                                         \n",
       "│<span style=\"color: #008080; text-decoration-color: #008080; font-weight: bold\">                                  </span>│ }                                                                             \n",
       "│<span style=\"color: #008080; text-decoration-color: #008080; font-weight: bold\"> process_order                    </span>│ [                                                                             \n",
       "│<span style=\"color: #008080; text-decoration-color: #008080; font-weight: bold\">                                  </span>│   [0]: 'ttbar'                                                                \n",
       "│<span style=\"color: #008080; text-decoration-color: #008080; font-weight: bold\">                                  </span>│   [1]: 'ttbar_had'                                                            \n",
       "│<span style=\"color: #008080; text-decoration-color: #008080; font-weight: bold\">                                  </span>│   [2]: 'ttbar_lep'                                                            \n",
       "│<span style=\"color: #008080; text-decoration-color: #008080; font-weight: bold\">                                  </span>│   [3]: 'ttbar_semilep'                                                        \n",
       "│<span style=\"color: #008080; text-decoration-color: #008080; font-weight: bold\">                                  </span>│   [4]: 'wjets'                                                                \n",
       "│<span style=\"color: #008080; text-decoration-color: #008080; font-weight: bold\">                                  </span>│   [5]: 'signal'                                                               \n",
       "│<span style=\"color: #008080; text-decoration-color: #008080; font-weight: bold\">                                  </span>│ ]                                                                             \n",
       "└──────────────────────────────────┴───────────────────────────────────────────────────────────────────────────────\n",
       "</pre>\n"
      ],
      "text/plain": [
       "\u001b[3m                                                Configuration: PLOTTING                                            \u001b[0m\n",
       "┏━━━━━━━━━━━━━━━━━━━━━━━━━━━━━━━━━━┳━━━━━━━━━━━━━━━━━━━━━━━━━━━━━━━━━━━━━━━━━━━━━━━━━━━━━━━━━━━━━━━━━━━━━━━━━━━━━━━\n",
       "┃\u001b[1m \u001b[0m\u001b[1mKey                             \u001b[0m\u001b[1m \u001b[0m┃\u001b[1m \u001b[0m\u001b[1mValue                                                                         \u001b[0m\n",
       "┡━━━━━━━━━━━━━━━━━━━━━━━━━━━━━━━━━━╇━━━━━━━━━━━━━━━━━━━━━━━━━━━━━━━━━━━━━━━━━━━━━━━━━━━━━━━━━━━━━━━━━━━━━━━━━━━━━━━\n",
       "│\u001b[1;36m \u001b[0m\u001b[1;36mprocess_colors                  \u001b[0m\u001b[1;36m \u001b[0m│ {                                                                             \n",
       "│\u001b[1;36m                                  \u001b[0m│   ttbar_semilep: '#907AD6'                                                    \n",
       "│\u001b[1;36m                                  \u001b[0m│   signal: '#DABFFF'                                                           \n",
       "│\u001b[1;36m                                  \u001b[0m│   ttbar_lep: '#7FDEFF'                                                        \n",
       "│\u001b[1;36m                                  \u001b[0m│   ttbar_had: '#2C2A4A'                                                        \n",
       "│\u001b[1;36m                                  \u001b[0m│   wjets: '#72A1E5'                                                            \n",
       "│\u001b[1;36m                                  \u001b[0m│   ttbar: '#907AD6'                                                            \n",
       "│\u001b[1;36m                                  \u001b[0m│ }                                                                             \n",
       "│\u001b[1;36m \u001b[0m\u001b[1;36mprocess_labels                  \u001b[0m\u001b[1;36m \u001b[0m│ {                                                                             \n",
       "│\u001b[1;36m                                  \u001b[0m│   ttbar_semilep: '$t\\bar{t}\\,\\textrm{(lepton+jets)}$'                         \n",
       "│\u001b[1;36m                                  \u001b[0m│   signal: '$Z^{\\prime} \\rightarrow t\\bar{t}$'                                 \n",
       "│\u001b[1;36m                                  \u001b[0m│   ttbar_lep: '$t\\bar{t}\\,\\textrm{(leptonic)}$'                                \n",
       "│\u001b[1;36m                                  \u001b[0m│   ttbar_had: '$t\\bar{t}\\,\\textrm{(hadronic)}$'                                \n",
       "│\u001b[1;36m                                  \u001b[0m│   wjets: '$W+\\textrm{jets}$'                                                  \n",
       "│\u001b[1;36m                                  \u001b[0m│   ttbar: '$t\\bar{t}$'                                                         \n",
       "│\u001b[1;36m                                  \u001b[0m│ }                                                                             \n",
       "│\u001b[1;36m \u001b[0m\u001b[1;36mprocess_order                   \u001b[0m\u001b[1;36m \u001b[0m│ [                                                                             \n",
       "│\u001b[1;36m                                  \u001b[0m│   [0]: 'ttbar'                                                                \n",
       "│\u001b[1;36m                                  \u001b[0m│   [1]: 'ttbar_had'                                                            \n",
       "│\u001b[1;36m                                  \u001b[0m│   [2]: 'ttbar_lep'                                                            \n",
       "│\u001b[1;36m                                  \u001b[0m│   [3]: 'ttbar_semilep'                                                        \n",
       "│\u001b[1;36m                                  \u001b[0m│   [4]: 'wjets'                                                                \n",
       "│\u001b[1;36m                                  \u001b[0m│   [5]: 'signal'                                                               \n",
       "│\u001b[1;36m                                  \u001b[0m│ ]                                                                             \n",
       "└──────────────────────────────────┴───────────────────────────────────────────────────────────────────────────────\n"
      ]
     },
     "metadata": {},
     "output_type": "display_data"
    },
    {
     "data": {
      "text/html": [
       "<pre style=\"white-space:pre;overflow-x:auto;line-height:normal;font-family:Menlo,'DejaVu Sans Mono',consolas,'Courier New',monospace\"><span style=\"font-style: italic\">                                                Configuration: DATASETS                                            </span>\n",
       "┏━━━━━━━━━━━━━━━━━━━━━━┳━━━━━━━━━━━━━━━━━━━━━━━━━━━━━━━━━━━━━━━━━━━━━━━━━━━━━━━━━━━━━━━━━━━━━━━━━━━━━━━━━━━━━━━━━━━\n",
       "┃<span style=\"font-weight: bold\"> Key                  </span>┃<span style=\"font-weight: bold\"> Value                                                                                     </span>\n",
       "┡━━━━━━━━━━━━━━━━━━━━━━╇━━━━━━━━━━━━━━━━━━━━━━━━━━━━━━━━━━━━━━━━━━━━━━━━━━━━━━━━━━━━━━━━━━━━━━━━━━━━━━━━━━━━━━━━━━━\n",
       "│<span style=\"color: #008080; text-decoration-color: #008080; font-weight: bold\"> datasets             </span>│ [                                                                                         \n",
       "│<span style=\"color: #008080; text-decoration-color: #008080; font-weight: bold\">                      </span>│   [0]:                                                                                    \n",
       "│<span style=\"color: #008080; text-decoration-color: #008080; font-weight: bold\">                      </span>│ {                                                                                         \n",
       "│<span style=\"color: #008080; text-decoration-color: #008080; font-weight: bold\">                      </span>│     name: 'signal'                                                                        \n",
       "│<span style=\"color: #008080; text-decoration-color: #008080; font-weight: bold\">                      </span>│     directories: ('example-demo/cms_datasets/2016/ZPrimeToTT_M2000_W200/',                \n",
       "│<span style=\"color: #008080; text-decoration-color: #008080; font-weight: bold\">                      </span>│ 'example-demo/cms_datasets/2017/ZPrimeToTT_M2000_W200/',                                  \n",
       "│<span style=\"color: #008080; text-decoration-color: #008080; font-weight: bold\">                      </span>│ 'example-demo/cms_datasets/2018/ZPrimeToTT_M2000_W200/')                                  \n",
       "│<span style=\"color: #008080; text-decoration-color: #008080; font-weight: bold\">                      </span>│     cross_sections: (0.01895, 0.01895, 0.01895)                                           \n",
       "│<span style=\"color: #008080; text-decoration-color: #008080; font-weight: bold\">                      </span>│     file_pattern: '*.txt'                                                                 \n",
       "│<span style=\"color: #008080; text-decoration-color: #008080; font-weight: bold\">                      </span>│     tree_name: 'Events'                                                                   \n",
       "│<span style=\"color: #008080; text-decoration-color: #008080; font-weight: bold\">                      </span>│     weight_branch: 'genWeight'                                                            \n",
       "│<span style=\"color: #008080; text-decoration-color: #008080; font-weight: bold\">                      </span>│     redirector: 'root://xcache/'                                                          \n",
       "│<span style=\"color: #008080; text-decoration-color: #008080; font-weight: bold\">                      </span>│   }                                                                                       \n",
       "│<span style=\"color: #008080; text-decoration-color: #008080; font-weight: bold\">                      </span>│   [1]:                                                                                    \n",
       "│<span style=\"color: #008080; text-decoration-color: #008080; font-weight: bold\">                      </span>│ {                                                                                         \n",
       "│<span style=\"color: #008080; text-decoration-color: #008080; font-weight: bold\">                      </span>│     name: 'ttbar_semilep'                                                                 \n",
       "│<span style=\"color: #008080; text-decoration-color: #008080; font-weight: bold\">                      </span>│     directories: ('example-demo/cms_datasets/2016/TTToSemiLeptonic/',                     \n",
       "│<span style=\"color: #008080; text-decoration-color: #008080; font-weight: bold\">                      </span>│ 'example-demo/cms_datasets/2017/TTToSemiLeptonic/',                                       \n",
       "│<span style=\"color: #008080; text-decoration-color: #008080; font-weight: bold\">                      </span>│ 'example-demo/cms_datasets/2018/TTToSemiLeptonic/')                                       \n",
       "│<span style=\"color: #008080; text-decoration-color: #008080; font-weight: bold\">                      </span>│     cross_sections: (364.31, 364.31, 364.31)                                              \n",
       "│<span style=\"color: #008080; text-decoration-color: #008080; font-weight: bold\">                      </span>│     file_pattern: '*.txt'                                                                 \n",
       "│<span style=\"color: #008080; text-decoration-color: #008080; font-weight: bold\">                      </span>│     tree_name: 'Events'                                                                   \n",
       "│<span style=\"color: #008080; text-decoration-color: #008080; font-weight: bold\">                      </span>│     weight_branch: 'genWeight'                                                            \n",
       "│<span style=\"color: #008080; text-decoration-color: #008080; font-weight: bold\">                      </span>│     redirector: 'root://xcache/'                                                          \n",
       "│<span style=\"color: #008080; text-decoration-color: #008080; font-weight: bold\">                      </span>│   }                                                                                       \n",
       "│<span style=\"color: #008080; text-decoration-color: #008080; font-weight: bold\">                      </span>│   [2]:                                                                                    \n",
       "│<span style=\"color: #008080; text-decoration-color: #008080; font-weight: bold\">                      </span>│ {                                                                                         \n",
       "│<span style=\"color: #008080; text-decoration-color: #008080; font-weight: bold\">                      </span>│     name: 'ttbar_had'                                                                     \n",
       "│<span style=\"color: #008080; text-decoration-color: #008080; font-weight: bold\">                      </span>│     directories: ('example-demo/cms_datasets/2016/TTToHadronic/',                         \n",
       "│<span style=\"color: #008080; text-decoration-color: #008080; font-weight: bold\">                      </span>│ 'example-demo/cms_datasets/2017/TTToHadronic/',                                           \n",
       "│<span style=\"color: #008080; text-decoration-color: #008080; font-weight: bold\">                      </span>│ 'example-demo/cms_datasets/2018/TTToHadronic/')                                           \n",
       "│<span style=\"color: #008080; text-decoration-color: #008080; font-weight: bold\">                      </span>│     cross_sections: (380.11, 380.11, 380.11)                                              \n",
       "│<span style=\"color: #008080; text-decoration-color: #008080; font-weight: bold\">                      </span>│     file_pattern: '*.txt'                                                                 \n",
       "│<span style=\"color: #008080; text-decoration-color: #008080; font-weight: bold\">                      </span>│     tree_name: 'Events'                                                                   \n",
       "│<span style=\"color: #008080; text-decoration-color: #008080; font-weight: bold\">                      </span>│     weight_branch: 'genWeight'                                                            \n",
       "│<span style=\"color: #008080; text-decoration-color: #008080; font-weight: bold\">                      </span>│     redirector: 'root://xcache/'                                                          \n",
       "│<span style=\"color: #008080; text-decoration-color: #008080; font-weight: bold\">                      </span>│   }                                                                                       \n",
       "│<span style=\"color: #008080; text-decoration-color: #008080; font-weight: bold\">                      </span>│   [3]:                                                                                    \n",
       "│<span style=\"color: #008080; text-decoration-color: #008080; font-weight: bold\">                      </span>│ {                                                                                         \n",
       "│<span style=\"color: #008080; text-decoration-color: #008080; font-weight: bold\">                      </span>│     name: 'ttbar_lep'                                                                     \n",
       "│<span style=\"color: #008080; text-decoration-color: #008080; font-weight: bold\">                      </span>│     directories: ('example-demo/cms_datasets/2016/TTTo2L2Nu/',                            \n",
       "│<span style=\"color: #008080; text-decoration-color: #008080; font-weight: bold\">                      </span>│ 'example-demo/cms_datasets/2017/TTTo2L2Nu/', 'example-demo/cms_datasets/2018/TTTo2L2Nu/') \n",
       "│<span style=\"color: #008080; text-decoration-color: #008080; font-weight: bold\">                      </span>│     cross_sections: (87.33, 87.33, 87.33)                                                 \n",
       "│<span style=\"color: #008080; text-decoration-color: #008080; font-weight: bold\">                      </span>│     file_pattern: '*.txt'                                                                 \n",
       "│<span style=\"color: #008080; text-decoration-color: #008080; font-weight: bold\">                      </span>│     tree_name: 'Events'                                                                   \n",
       "│<span style=\"color: #008080; text-decoration-color: #008080; font-weight: bold\">                      </span>│     weight_branch: 'genWeight'                                                            \n",
       "│<span style=\"color: #008080; text-decoration-color: #008080; font-weight: bold\">                      </span>│     redirector: 'root://xcache/'                                                          \n",
       "│<span style=\"color: #008080; text-decoration-color: #008080; font-weight: bold\">                      </span>│   }                                                                                       \n",
       "│<span style=\"color: #008080; text-decoration-color: #008080; font-weight: bold\">                      </span>│   [4]:                                                                                    \n",
       "│<span style=\"color: #008080; text-decoration-color: #008080; font-weight: bold\">                      </span>│ {                                                                                         \n",
       "│<span style=\"color: #008080; text-decoration-color: #008080; font-weight: bold\">                      </span>│     name: 'wjets'                                                                         \n",
       "│<span style=\"color: #008080; text-decoration-color: #008080; font-weight: bold\">                      </span>│     directories: ('example-demo/cms_datasets/2016/WJetsToLNu_HT-70To100/',                \n",
       "│<span style=\"color: #008080; text-decoration-color: #008080; font-weight: bold\">                      </span>│ 'example-demo/cms_datasets/2016/WJetsToLNu_HT-100To200/',                                 \n",
       "│<span style=\"color: #008080; text-decoration-color: #008080; font-weight: bold\">                      </span>│ 'example-demo/cms_datasets/2016/WJetsToLNu_HT-200To400/',                                 \n",
       "│<span style=\"color: #008080; text-decoration-color: #008080; font-weight: bold\">                      </span>│ 'example-demo/cms_datasets/2016/WJetsToLNu_HT-400To600/',                                 \n",
       "│<span style=\"color: #008080; text-decoration-color: #008080; font-weight: bold\">                      </span>│ 'example-demo/cms_datasets/2016/WJetsToLNu_HT-600To800/',                                 \n",
       "│<span style=\"color: #008080; text-decoration-color: #008080; font-weight: bold\">                      </span>│ 'example-demo/cms_datasets/2016/WJetsToLNu_HT-800To1200/',                                \n",
       "│<span style=\"color: #008080; text-decoration-color: #008080; font-weight: bold\">                      </span>│ 'example-demo/cms_datasets/2016/WJetsToLNu_HT-1200To2500/',                               \n",
       "│<span style=\"color: #008080; text-decoration-color: #008080; font-weight: bold\">                      </span>│ 'example-demo/cms_datasets/2016/WJetsToLNu_HT-2500ToInf/',                                \n",
       "│<span style=\"color: #008080; text-decoration-color: #008080; font-weight: bold\">                      </span>│ 'example-demo/cms_datasets/2017/WJetsToLNu_HT-70To100/',                                  \n",
       "│<span style=\"color: #008080; text-decoration-color: #008080; font-weight: bold\">                      </span>│ 'example-demo/cms_datasets/2017/WJetsToLNu_HT-100To200/',                                 \n",
       "│<span style=\"color: #008080; text-decoration-color: #008080; font-weight: bold\">                      </span>│ 'example-demo/cms_datasets/2017/WJetsToLNu_HT-200To400/',                                 \n",
       "│<span style=\"color: #008080; text-decoration-color: #008080; font-weight: bold\">                      </span>│ 'example-demo/cms_datasets/2017/WJetsToLNu_HT-400To600/',                                 \n",
       "│<span style=\"color: #008080; text-decoration-color: #008080; font-weight: bold\">                      </span>│ 'example-demo/cms_datasets/2017/WJetsToLNu_HT-600To800/',                                 \n",
       "│<span style=\"color: #008080; text-decoration-color: #008080; font-weight: bold\">                      </span>│ 'example-demo/cms_datasets/2017/WJetsToLNu_HT-800To1200/',                                \n",
       "│<span style=\"color: #008080; text-decoration-color: #008080; font-weight: bold\">                      </span>│ 'example-demo/cms_datasets/2017/WJetsToLNu_HT-1200To2500/',                               \n",
       "│<span style=\"color: #008080; text-decoration-color: #008080; font-weight: bold\">                      </span>│ 'example-demo/cms_datasets/2017/WJetsToLNu_HT-2500ToInf/',                                \n",
       "│<span style=\"color: #008080; text-decoration-color: #008080; font-weight: bold\">                      </span>│ 'example-demo/cms_datasets/2018/WJetsToLNu_HT-70To100/',                                  \n",
       "│<span style=\"color: #008080; text-decoration-color: #008080; font-weight: bold\">                      </span>│ 'example-demo/cms_datasets/2018/WJetsToLNu_HT-100To200/',                                 \n",
       "│<span style=\"color: #008080; text-decoration-color: #008080; font-weight: bold\">                      </span>│ 'example-demo/cms_datasets/2018/WJetsToLNu_HT-200To400/',                                 \n",
       "│<span style=\"color: #008080; text-decoration-color: #008080; font-weight: bold\">                      </span>│ 'example-demo/cms_datasets/2018/WJetsToLNu_HT-400To600/',                                 \n",
       "│<span style=\"color: #008080; text-decoration-color: #008080; font-weight: bold\">                      </span>│ 'example-demo/cms_datasets/2018/WJetsToLNu_HT-600To800/',                                 \n",
       "│<span style=\"color: #008080; text-decoration-color: #008080; font-weight: bold\">                      </span>│ 'example-demo/cms_datasets/2018/WJetsToLNu_HT-800To1200/',                                \n",
       "│<span style=\"color: #008080; text-decoration-color: #008080; font-weight: bold\">                      </span>│ 'example-demo/cms_datasets/2018/WJetsToLNu_HT-1200To2500/',                               \n",
       "│<span style=\"color: #008080; text-decoration-color: #008080; font-weight: bold\">                      </span>│ 'example-demo/cms_datasets/2018/WJetsToLNu_HT-2500ToInf/')                                \n",
       "│<span style=\"color: #008080; text-decoration-color: #008080; font-weight: bold\">                      </span>│     cross_sections: (1271.0, 1253.0, 335.9, 45.21, 10.99, 4.936, 1.156, 0.02623, 1271.0,  \n",
       "│<span style=\"color: #008080; text-decoration-color: #008080; font-weight: bold\">                      </span>│ 1253.0, 335.9, 45.21, 10.99, 4.936, 1.156, 0.02623, 1271.0, 1253.0, 335.9, 45.21, 10.99,  \n",
       "│<span style=\"color: #008080; text-decoration-color: #008080; font-weight: bold\">                      </span>│ 4.936, 1.156, 0.02623)                                                                    \n",
       "│<span style=\"color: #008080; text-decoration-color: #008080; font-weight: bold\">                      </span>│     file_pattern: '*.txt'                                                                 \n",
       "│<span style=\"color: #008080; text-decoration-color: #008080; font-weight: bold\">                      </span>│     tree_name: 'Events'                                                                   \n",
       "│<span style=\"color: #008080; text-decoration-color: #008080; font-weight: bold\">                      </span>│     weight_branch: 'genWeight'                                                            \n",
       "│<span style=\"color: #008080; text-decoration-color: #008080; font-weight: bold\">                      </span>│     redirector: 'root://xcache/'                                                          \n",
       "│<span style=\"color: #008080; text-decoration-color: #008080; font-weight: bold\">                      </span>│   }                                                                                       \n",
       "│<span style=\"color: #008080; text-decoration-color: #008080; font-weight: bold\">                      </span>│   [5]:                                                                                    \n",
       "│<span style=\"color: #008080; text-decoration-color: #008080; font-weight: bold\">                      </span>│ {                                                                                         \n",
       "│<span style=\"color: #008080; text-decoration-color: #008080; font-weight: bold\">                      </span>│     name: 'dyjets'                                                                        \n",
       "│<span style=\"color: #008080; text-decoration-color: #008080; font-weight: bold\">                      </span>│     directories: ('example-demo/cms_datasets/2016/DYJetsToLL_M-50_HT-70to100/',           \n",
       "│<span style=\"color: #008080; text-decoration-color: #008080; font-weight: bold\">                      </span>│ 'example-demo/cms_datasets/2016/DYJetsToLL_M-50_HT-100to200/',                            \n",
       "│<span style=\"color: #008080; text-decoration-color: #008080; font-weight: bold\">                      </span>│ 'example-demo/cms_datasets/2016/DYJetsToLL_M-50_HT-200to400/',                            \n",
       "│<span style=\"color: #008080; text-decoration-color: #008080; font-weight: bold\">                      </span>│ 'example-demo/cms_datasets/2016/DYJetsToLL_M-50_HT-400to600/',                            \n",
       "│<span style=\"color: #008080; text-decoration-color: #008080; font-weight: bold\">                      </span>│ 'example-demo/cms_datasets/2016/DYJetsToLL_M-50_HT-600to800/',                            \n",
       "│<span style=\"color: #008080; text-decoration-color: #008080; font-weight: bold\">                      </span>│ 'example-demo/cms_datasets/2016/DYJetsToLL_M-50_HT-800to1200/',                           \n",
       "│<span style=\"color: #008080; text-decoration-color: #008080; font-weight: bold\">                      </span>│ 'example-demo/cms_datasets/2016/DYJetsToLL_M-50_HT-1200to2500/',                          \n",
       "│<span style=\"color: #008080; text-decoration-color: #008080; font-weight: bold\">                      </span>│ 'example-demo/cms_datasets/2016/DYJetsToLL_M-50_HT-2500toInf/',                           \n",
       "│<span style=\"color: #008080; text-decoration-color: #008080; font-weight: bold\">                      </span>│ 'example-demo/cms_datasets/2017/DYJetsToLL_M-50_HT-70to100/',                             \n",
       "│<span style=\"color: #008080; text-decoration-color: #008080; font-weight: bold\">                      </span>│ 'example-demo/cms_datasets/2017/DYJetsToLL_M-50_HT-100to200/',                            \n",
       "│<span style=\"color: #008080; text-decoration-color: #008080; font-weight: bold\">                      </span>│ 'example-demo/cms_datasets/2017/DYJetsToLL_M-50_HT-200to400/',                            \n",
       "│<span style=\"color: #008080; text-decoration-color: #008080; font-weight: bold\">                      </span>│ 'example-demo/cms_datasets/2017/DYJetsToLL_M-50_HT-400to600/',                            \n",
       "│<span style=\"color: #008080; text-decoration-color: #008080; font-weight: bold\">                      </span>│ 'example-demo/cms_datasets/2017/DYJetsToLL_M-50_HT-600to800/',                            \n",
       "│<span style=\"color: #008080; text-decoration-color: #008080; font-weight: bold\">                      </span>│ 'example-demo/cms_datasets/2017/DYJetsToLL_M-50_HT-800to1200/',                           \n",
       "│<span style=\"color: #008080; text-decoration-color: #008080; font-weight: bold\">                      </span>│ 'example-demo/cms_datasets/2017/DYJetsToLL_M-50_HT-1200to2500/',                          \n",
       "│<span style=\"color: #008080; text-decoration-color: #008080; font-weight: bold\">                      </span>│ 'example-demo/cms_datasets/2017/DYJetsToLL_M-50_HT-2500toInf/',                           \n",
       "│<span style=\"color: #008080; text-decoration-color: #008080; font-weight: bold\">                      </span>│ 'example-demo/cms_datasets/2018/DYJetsToLL_M-50_HT-70to100/',                             \n",
       "│<span style=\"color: #008080; text-decoration-color: #008080; font-weight: bold\">                      </span>│ 'example-demo/cms_datasets/2018/DYJetsToLL_M-50_HT-100to200/',                            \n",
       "│<span style=\"color: #008080; text-decoration-color: #008080; font-weight: bold\">                      </span>│ 'example-demo/cms_datasets/2018/DYJetsToLL_M-50_HT-200to400/',                            \n",
       "│<span style=\"color: #008080; text-decoration-color: #008080; font-weight: bold\">                      </span>│ 'example-demo/cms_datasets/2018/DYJetsToLL_M-50_HT-400to600/',                            \n",
       "│<span style=\"color: #008080; text-decoration-color: #008080; font-weight: bold\">                      </span>│ 'example-demo/cms_datasets/2018/DYJetsToLL_M-50_HT-600to800/',                            \n",
       "│<span style=\"color: #008080; text-decoration-color: #008080; font-weight: bold\">                      </span>│ 'example-demo/cms_datasets/2018/DYJetsToLL_M-50_HT-800to1200/',                           \n",
       "│<span style=\"color: #008080; text-decoration-color: #008080; font-weight: bold\">                      </span>│ 'example-demo/cms_datasets/2018/DYJetsToLL_M-50_HT-1200to2500/',                          \n",
       "│<span style=\"color: #008080; text-decoration-color: #008080; font-weight: bold\">                      </span>│ 'example-demo/cms_datasets/2018/DYJetsToLL_M-50_HT-2500toInf/')                           \n",
       "│<span style=\"color: #008080; text-decoration-color: #008080; font-weight: bold\">                      </span>│     cross_sections: (140.1, 140.2, 38.399, 5.21278, 1.26567, 0.5684304, 0.1331514,        \n",
       "│<span style=\"color: #008080; text-decoration-color: #008080; font-weight: bold\">                      </span>│ 0.00297803565, 140.1, 140.2, 38.399, 5.21278, 1.26567, 0.5684304, 0.1331514, 0.00297803565\n",
       "│<span style=\"color: #008080; text-decoration-color: #008080; font-weight: bold\">                      </span>│ 140.1, 140.2, 38.399, 5.21278, 1.26567, 0.5684304, 0.1331514, 0.00297803565)              \n",
       "│<span style=\"color: #008080; text-decoration-color: #008080; font-weight: bold\">                      </span>│     file_pattern: '*.txt'                                                                 \n",
       "│<span style=\"color: #008080; text-decoration-color: #008080; font-weight: bold\">                      </span>│     tree_name: 'Events'                                                                   \n",
       "│<span style=\"color: #008080; text-decoration-color: #008080; font-weight: bold\">                      </span>│     weight_branch: 'genWeight'                                                            \n",
       "│<span style=\"color: #008080; text-decoration-color: #008080; font-weight: bold\">                      </span>│     redirector: 'root://xcache/'                                                          \n",
       "│<span style=\"color: #008080; text-decoration-color: #008080; font-weight: bold\">                      </span>│   }                                                                                       \n",
       "│<span style=\"color: #008080; text-decoration-color: #008080; font-weight: bold\">                      </span>│   [6]:                                                                                    \n",
       "│<span style=\"color: #008080; text-decoration-color: #008080; font-weight: bold\">                      </span>│ {                                                                                         \n",
       "│<span style=\"color: #008080; text-decoration-color: #008080; font-weight: bold\">                      </span>│     name: 'single_top'                                                                    \n",
       "│<span style=\"color: #008080; text-decoration-color: #008080; font-weight: bold\">                      </span>│     directories: ('example-demo/cms_datasets/2016/ST_s-channel_4f/',                      \n",
       "│<span style=\"color: #008080; text-decoration-color: #008080; font-weight: bold\">                      </span>│ 'example-demo/cms_datasets/2016/ST_t-channel_top_4f/',                                    \n",
       "│<span style=\"color: #008080; text-decoration-color: #008080; font-weight: bold\">                      </span>│ 'example-demo/cms_datasets/2016/ST_t-channel_antitop_4f/',                                \n",
       "│<span style=\"color: #008080; text-decoration-color: #008080; font-weight: bold\">                      </span>│ 'example-demo/cms_datasets/2016/ST_tW_top_5f/',                                           \n",
       "│<span style=\"color: #008080; text-decoration-color: #008080; font-weight: bold\">                      </span>│ 'example-demo/cms_datasets/2016/ST_tW_antitop_5f/',                                       \n",
       "│<span style=\"color: #008080; text-decoration-color: #008080; font-weight: bold\">                      </span>│ 'example-demo/cms_datasets/2017/ST_s-channel_4f/',                                        \n",
       "│<span style=\"color: #008080; text-decoration-color: #008080; font-weight: bold\">                      </span>│ 'example-demo/cms_datasets/2017/ST_t-channel_top_4f/',                                    \n",
       "│<span style=\"color: #008080; text-decoration-color: #008080; font-weight: bold\">                      </span>│ 'example-demo/cms_datasets/2017/ST_t-channel_antitop_4f/',                                \n",
       "│<span style=\"color: #008080; text-decoration-color: #008080; font-weight: bold\">                      </span>│ 'example-demo/cms_datasets/2017/ST_tW_top_5f/',                                           \n",
       "│<span style=\"color: #008080; text-decoration-color: #008080; font-weight: bold\">                      </span>│ 'example-demo/cms_datasets/2017/ST_tW_antitop_5f/',                                       \n",
       "│<span style=\"color: #008080; text-decoration-color: #008080; font-weight: bold\">                      </span>│ 'example-demo/cms_datasets/2018/ST_s-channel_4f/',                                        \n",
       "│<span style=\"color: #008080; text-decoration-color: #008080; font-weight: bold\">                      </span>│ 'example-demo/cms_datasets/2018/ST_t-channel_top_4f/',                                    \n",
       "│<span style=\"color: #008080; text-decoration-color: #008080; font-weight: bold\">                      </span>│ 'example-demo/cms_datasets/2018/ST_t-channel_antitop_4f/',                                \n",
       "│<span style=\"color: #008080; text-decoration-color: #008080; font-weight: bold\">                      </span>│ 'example-demo/cms_datasets/2018/ST_tW_top_5f/',                                           \n",
       "│<span style=\"color: #008080; text-decoration-color: #008080; font-weight: bold\">                      </span>│ 'example-demo/cms_datasets/2018/ST_tW_antitop_5f/')                                       \n",
       "│<span style=\"color: #008080; text-decoration-color: #008080; font-weight: bold\">                      </span>│     cross_sections: (3.36432, 136.02, 80.95, 19.46655, 19.46655, 3.36432, 136.02, 80.95,  \n",
       "│<span style=\"color: #008080; text-decoration-color: #008080; font-weight: bold\">                      </span>│ 19.46655, 19.46655, 3.36432, 136.02, 80.95, 19.46655, 19.46655)                           \n",
       "│<span style=\"color: #008080; text-decoration-color: #008080; font-weight: bold\">                      </span>│     file_pattern: '*.txt'                                                                 \n",
       "│<span style=\"color: #008080; text-decoration-color: #008080; font-weight: bold\">                      </span>│     tree_name: 'Events'                                                                   \n",
       "│<span style=\"color: #008080; text-decoration-color: #008080; font-weight: bold\">                      </span>│     weight_branch: 'genWeight'                                                            \n",
       "│<span style=\"color: #008080; text-decoration-color: #008080; font-weight: bold\">                      </span>│     redirector: 'root://xcache/'                                                          \n",
       "│<span style=\"color: #008080; text-decoration-color: #008080; font-weight: bold\">                      </span>│   }                                                                                       \n",
       "│<span style=\"color: #008080; text-decoration-color: #008080; font-weight: bold\">                      </span>│   [7]:                                                                                    \n",
       "│<span style=\"color: #008080; text-decoration-color: #008080; font-weight: bold\">                      </span>│ {                                                                                         \n",
       "│<span style=\"color: #008080; text-decoration-color: #008080; font-weight: bold\">                      </span>│     name: 'qcd'                                                                           \n",
       "│<span style=\"color: #008080; text-decoration-color: #008080; font-weight: bold\">                      </span>│     directories: ('example-demo/cms_datasets/2016/QCD_HT50to100/',                        \n",
       "│<span style=\"color: #008080; text-decoration-color: #008080; font-weight: bold\">                      </span>│ 'example-demo/cms_datasets/2016/QCD_HT100to200/',                                         \n",
       "│<span style=\"color: #008080; text-decoration-color: #008080; font-weight: bold\">                      </span>│ 'example-demo/cms_datasets/2016/QCD_HT200to300/',                                         \n",
       "│<span style=\"color: #008080; text-decoration-color: #008080; font-weight: bold\">                      </span>│ 'example-demo/cms_datasets/2016/QCD_HT300to500/',                                         \n",
       "│<span style=\"color: #008080; text-decoration-color: #008080; font-weight: bold\">                      </span>│ 'example-demo/cms_datasets/2016/QCD_HT500to700/',                                         \n",
       "│<span style=\"color: #008080; text-decoration-color: #008080; font-weight: bold\">                      </span>│ 'example-demo/cms_datasets/2016/QCD_HT700to1000/',                                        \n",
       "│<span style=\"color: #008080; text-decoration-color: #008080; font-weight: bold\">                      </span>│ 'example-demo/cms_datasets/2016/QCD_HT1000to1500/',                                       \n",
       "│<span style=\"color: #008080; text-decoration-color: #008080; font-weight: bold\">                      </span>│ 'example-demo/cms_datasets/2016/QCD_HT1500to2000/',                                       \n",
       "│<span style=\"color: #008080; text-decoration-color: #008080; font-weight: bold\">                      </span>│ 'example-demo/cms_datasets/2016/QCD_HT2000toInf/',                                        \n",
       "│<span style=\"color: #008080; text-decoration-color: #008080; font-weight: bold\">                      </span>│ 'example-demo/cms_datasets/2017/QCD_HT50to100/',                                          \n",
       "│<span style=\"color: #008080; text-decoration-color: #008080; font-weight: bold\">                      </span>│ 'example-demo/cms_datasets/2017/QCD_HT100to200/',                                         \n",
       "│<span style=\"color: #008080; text-decoration-color: #008080; font-weight: bold\">                      </span>│ 'example-demo/cms_datasets/2017/QCD_HT200to300/',                                         \n",
       "│<span style=\"color: #008080; text-decoration-color: #008080; font-weight: bold\">                      </span>│ 'example-demo/cms_datasets/2017/QCD_HT300to500/',                                         \n",
       "│<span style=\"color: #008080; text-decoration-color: #008080; font-weight: bold\">                      </span>│ 'example-demo/cms_datasets/2017/QCD_HT500to700/',                                         \n",
       "│<span style=\"color: #008080; text-decoration-color: #008080; font-weight: bold\">                      </span>│ 'example-demo/cms_datasets/2017/QCD_HT700to1000/',                                        \n",
       "│<span style=\"color: #008080; text-decoration-color: #008080; font-weight: bold\">                      </span>│ 'example-demo/cms_datasets/2017/QCD_HT1000to1500/',                                       \n",
       "│<span style=\"color: #008080; text-decoration-color: #008080; font-weight: bold\">                      </span>│ 'example-demo/cms_datasets/2017/QCD_HT1500to2000/',                                       \n",
       "│<span style=\"color: #008080; text-decoration-color: #008080; font-weight: bold\">                      </span>│ 'example-demo/cms_datasets/2017/QCD_HT2000toInf/',                                        \n",
       "│<span style=\"color: #008080; text-decoration-color: #008080; font-weight: bold\">                      </span>│ 'example-demo/cms_datasets/2018/QCD_HT50to100/',                                          \n",
       "│<span style=\"color: #008080; text-decoration-color: #008080; font-weight: bold\">                      </span>│ 'example-demo/cms_datasets/2018/QCD_HT100to200/',                                         \n",
       "│<span style=\"color: #008080; text-decoration-color: #008080; font-weight: bold\">                      </span>│ 'example-demo/cms_datasets/2018/QCD_HT200to300/',                                         \n",
       "│<span style=\"color: #008080; text-decoration-color: #008080; font-weight: bold\">                      </span>│ 'example-demo/cms_datasets/2018/QCD_HT300to500/',                                         \n",
       "│<span style=\"color: #008080; text-decoration-color: #008080; font-weight: bold\">                      </span>│ 'example-demo/cms_datasets/2018/QCD_HT500to700/',                                         \n",
       "│<span style=\"color: #008080; text-decoration-color: #008080; font-weight: bold\">                      </span>│ 'example-demo/cms_datasets/2018/QCD_HT700to1000/',                                        \n",
       "│<span style=\"color: #008080; text-decoration-color: #008080; font-weight: bold\">                      </span>│ 'example-demo/cms_datasets/2018/QCD_HT1000to1500/',                                       \n",
       "│<span style=\"color: #008080; text-decoration-color: #008080; font-weight: bold\">                      </span>│ 'example-demo/cms_datasets/2018/QCD_HT1500to2000/',                                       \n",
       "│<span style=\"color: #008080; text-decoration-color: #008080; font-weight: bold\">                      </span>│ 'example-demo/cms_datasets/2018/QCD_HT2000toInf/')                                        \n",
       "│<span style=\"color: #008080; text-decoration-color: #008080; font-weight: bold\">                      </span>│     cross_sections: (185900000.0, 23610000.0, 1551000.0, 324300.0, 30340.0, 6440.0, 1118.0\n",
       "│<span style=\"color: #008080; text-decoration-color: #008080; font-weight: bold\">                      </span>│ 108.0, 22.0, 185900000.0, 23610000.0, 1551000.0, 324300.0, 30340.0, 6440.0, 1118.0, 108.0,\n",
       "│<span style=\"color: #008080; text-decoration-color: #008080; font-weight: bold\">                      </span>│ 22.0, 185900000.0, 23610000.0, 1551000.0, 324300.0, 30340.0, 6440.0, 1118.0, 108.0, 22.0) \n",
       "│<span style=\"color: #008080; text-decoration-color: #008080; font-weight: bold\">                      </span>│     file_pattern: '*.txt'                                                                 \n",
       "│<span style=\"color: #008080; text-decoration-color: #008080; font-weight: bold\">                      </span>│     tree_name: 'Events'                                                                   \n",
       "│<span style=\"color: #008080; text-decoration-color: #008080; font-weight: bold\">                      </span>│     weight_branch: 'genWeight'                                                            \n",
       "│<span style=\"color: #008080; text-decoration-color: #008080; font-weight: bold\">                      </span>│     redirector: 'root://xcache/'                                                          \n",
       "│<span style=\"color: #008080; text-decoration-color: #008080; font-weight: bold\">                      </span>│   }                                                                                       \n",
       "│<span style=\"color: #008080; text-decoration-color: #008080; font-weight: bold\">                      </span>│   [8]:                                                                                    \n",
       "│<span style=\"color: #008080; text-decoration-color: #008080; font-weight: bold\">                      </span>│ {                                                                                         \n",
       "│<span style=\"color: #008080; text-decoration-color: #008080; font-weight: bold\">                      </span>│     name: 'diboson'                                                                       \n",
       "│<span style=\"color: #008080; text-decoration-color: #008080; font-weight: bold\">                      </span>│     directories: ('example-demo/cms_datasets/2016/WW/', 'example-demo/cms_datasets/2016/WZ\n",
       "│<span style=\"color: #008080; text-decoration-color: #008080; font-weight: bold\">                      </span>│ 'example-demo/cms_datasets/2016/ZZ/', 'example-demo/cms_datasets/2017/WW/',               \n",
       "│<span style=\"color: #008080; text-decoration-color: #008080; font-weight: bold\">                      </span>│ 'example-demo/cms_datasets/2017/WZ/', 'example-demo/cms_datasets/2017/ZZ/',               \n",
       "│<span style=\"color: #008080; text-decoration-color: #008080; font-weight: bold\">                      </span>│ 'example-demo/cms_datasets/2018/WW/', 'example-demo/cms_datasets/2018/WZ/',               \n",
       "│<span style=\"color: #008080; text-decoration-color: #008080; font-weight: bold\">                      </span>│ 'example-demo/cms_datasets/2018/ZZ/')                                                     \n",
       "│<span style=\"color: #008080; text-decoration-color: #008080; font-weight: bold\">                      </span>│     cross_sections: (118.7, 46.74, 16.91, 118.7, 46.74, 16.91, 118.7, 46.74, 16.91)       \n",
       "│<span style=\"color: #008080; text-decoration-color: #008080; font-weight: bold\">                      </span>│     file_pattern: '*.txt'                                                                 \n",
       "│<span style=\"color: #008080; text-decoration-color: #008080; font-weight: bold\">                      </span>│     tree_name: 'Events'                                                                   \n",
       "│<span style=\"color: #008080; text-decoration-color: #008080; font-weight: bold\">                      </span>│     weight_branch: 'genWeight'                                                            \n",
       "│<span style=\"color: #008080; text-decoration-color: #008080; font-weight: bold\">                      </span>│     redirector: 'root://xcache/'                                                          \n",
       "│<span style=\"color: #008080; text-decoration-color: #008080; font-weight: bold\">                      </span>│   }                                                                                       \n",
       "│<span style=\"color: #008080; text-decoration-color: #008080; font-weight: bold\">                      </span>│   [9]:                                                                                    \n",
       "│<span style=\"color: #008080; text-decoration-color: #008080; font-weight: bold\">                      </span>│ {                                                                                         \n",
       "│<span style=\"color: #008080; text-decoration-color: #008080; font-weight: bold\">                      </span>│     name: 'data'                                                                          \n",
       "│<span style=\"color: #008080; text-decoration-color: #008080; font-weight: bold\">                      </span>│     directories: ('example-demo/cms_datasets/2016/SingleMuonRunB/',                       \n",
       "│<span style=\"color: #008080; text-decoration-color: #008080; font-weight: bold\">                      </span>│ 'example-demo/cms_datasets/2016/SingleMuonRunC/',                                         \n",
       "│<span style=\"color: #008080; text-decoration-color: #008080; font-weight: bold\">                      </span>│ 'example-demo/cms_datasets/2016/SingleMuonRunD/',                                         \n",
       "│<span style=\"color: #008080; text-decoration-color: #008080; font-weight: bold\">                      </span>│ 'example-demo/cms_datasets/2016/SingleMuonRunE/',                                         \n",
       "│<span style=\"color: #008080; text-decoration-color: #008080; font-weight: bold\">                      </span>│ 'example-demo/cms_datasets/2016/SingleMuonRunF/',                                         \n",
       "│<span style=\"color: #008080; text-decoration-color: #008080; font-weight: bold\">                      </span>│ 'example-demo/cms_datasets/2017/SingleMuonRunB/',                                         \n",
       "│<span style=\"color: #008080; text-decoration-color: #008080; font-weight: bold\">                      </span>│ 'example-demo/cms_datasets/2017/SingleMuonRunC/',                                         \n",
       "│<span style=\"color: #008080; text-decoration-color: #008080; font-weight: bold\">                      </span>│ 'example-demo/cms_datasets/2017/SingleMuonRunD/',                                         \n",
       "│<span style=\"color: #008080; text-decoration-color: #008080; font-weight: bold\">                      </span>│ 'example-demo/cms_datasets/2017/SingleMuonRunE/',                                         \n",
       "│<span style=\"color: #008080; text-decoration-color: #008080; font-weight: bold\">                      </span>│ 'example-demo/cms_datasets/2017/SingleMuonRunF/',                                         \n",
       "│<span style=\"color: #008080; text-decoration-color: #008080; font-weight: bold\">                      </span>│ 'example-demo/cms_datasets/2018/SingleMuonRunA/',                                         \n",
       "│<span style=\"color: #008080; text-decoration-color: #008080; font-weight: bold\">                      </span>│ 'example-demo/cms_datasets/2018/SingleMuonRunB/',                                         \n",
       "│<span style=\"color: #008080; text-decoration-color: #008080; font-weight: bold\">                      </span>│ 'example-demo/cms_datasets/2018/SingleMuonRunC/',                                         \n",
       "│<span style=\"color: #008080; text-decoration-color: #008080; font-weight: bold\">                      </span>│ 'example-demo/cms_datasets/2018/SingleMuonRunD/')                                         \n",
       "│<span style=\"color: #008080; text-decoration-color: #008080; font-weight: bold\">                      </span>│     cross_sections: 1.0                                                                   \n",
       "│<span style=\"color: #008080; text-decoration-color: #008080; font-weight: bold\">                      </span>│     file_pattern: '*.txt'                                                                 \n",
       "│<span style=\"color: #008080; text-decoration-color: #008080; font-weight: bold\">                      </span>│     tree_name: 'Events'                                                                   \n",
       "│<span style=\"color: #008080; text-decoration-color: #008080; font-weight: bold\">                      </span>│     weight_branch: None                                                                   \n",
       "│<span style=\"color: #008080; text-decoration-color: #008080; font-weight: bold\">                      </span>│     redirector: 'root://xcache/'                                                          \n",
       "│<span style=\"color: #008080; text-decoration-color: #008080; font-weight: bold\">                      </span>│   }                                                                                       \n",
       "│<span style=\"color: #008080; text-decoration-color: #008080; font-weight: bold\">                      </span>│ ]                                                                                         \n",
       "│<span style=\"color: #008080; text-decoration-color: #008080; font-weight: bold\"> max_files            </span>│ None                                                                                      \n",
       "└──────────────────────┴───────────────────────────────────────────────────────────────────────────────────────────\n",
       "</pre>\n"
      ],
      "text/plain": [
       "\u001b[3m                                                Configuration: DATASETS                                            \u001b[0m\n",
       "┏━━━━━━━━━━━━━━━━━━━━━━┳━━━━━━━━━━━━━━━━━━━━━━━━━━━━━━━━━━━━━━━━━━━━━━━━━━━━━━━━━━━━━━━━━━━━━━━━━━━━━━━━━━━━━━━━━━━\n",
       "┃\u001b[1m \u001b[0m\u001b[1mKey                 \u001b[0m\u001b[1m \u001b[0m┃\u001b[1m \u001b[0m\u001b[1mValue                                                                                     \u001b[0m\n",
       "┡━━━━━━━━━━━━━━━━━━━━━━╇━━━━━━━━━━━━━━━━━━━━━━━━━━━━━━━━━━━━━━━━━━━━━━━━━━━━━━━━━━━━━━━━━━━━━━━━━━━━━━━━━━━━━━━━━━━\n",
       "│\u001b[1;36m \u001b[0m\u001b[1;36mdatasets            \u001b[0m\u001b[1;36m \u001b[0m│ [                                                                                         \n",
       "│\u001b[1;36m                      \u001b[0m│   [0]:                                                                                    \n",
       "│\u001b[1;36m                      \u001b[0m│ {                                                                                         \n",
       "│\u001b[1;36m                      \u001b[0m│     name: 'signal'                                                                        \n",
       "│\u001b[1;36m                      \u001b[0m│     directories: ('example-demo/cms_datasets/2016/ZPrimeToTT_M2000_W200/',                \n",
       "│\u001b[1;36m                      \u001b[0m│ 'example-demo/cms_datasets/2017/ZPrimeToTT_M2000_W200/',                                  \n",
       "│\u001b[1;36m                      \u001b[0m│ 'example-demo/cms_datasets/2018/ZPrimeToTT_M2000_W200/')                                  \n",
       "│\u001b[1;36m                      \u001b[0m│     cross_sections: (0.01895, 0.01895, 0.01895)                                           \n",
       "│\u001b[1;36m                      \u001b[0m│     file_pattern: '*.txt'                                                                 \n",
       "│\u001b[1;36m                      \u001b[0m│     tree_name: 'Events'                                                                   \n",
       "│\u001b[1;36m                      \u001b[0m│     weight_branch: 'genWeight'                                                            \n",
       "│\u001b[1;36m                      \u001b[0m│     redirector: 'root://xcache/'                                                          \n",
       "│\u001b[1;36m                      \u001b[0m│   }                                                                                       \n",
       "│\u001b[1;36m                      \u001b[0m│   [1]:                                                                                    \n",
       "│\u001b[1;36m                      \u001b[0m│ {                                                                                         \n",
       "│\u001b[1;36m                      \u001b[0m│     name: 'ttbar_semilep'                                                                 \n",
       "│\u001b[1;36m                      \u001b[0m│     directories: ('example-demo/cms_datasets/2016/TTToSemiLeptonic/',                     \n",
       "│\u001b[1;36m                      \u001b[0m│ 'example-demo/cms_datasets/2017/TTToSemiLeptonic/',                                       \n",
       "│\u001b[1;36m                      \u001b[0m│ 'example-demo/cms_datasets/2018/TTToSemiLeptonic/')                                       \n",
       "│\u001b[1;36m                      \u001b[0m│     cross_sections: (364.31, 364.31, 364.31)                                              \n",
       "│\u001b[1;36m                      \u001b[0m│     file_pattern: '*.txt'                                                                 \n",
       "│\u001b[1;36m                      \u001b[0m│     tree_name: 'Events'                                                                   \n",
       "│\u001b[1;36m                      \u001b[0m│     weight_branch: 'genWeight'                                                            \n",
       "│\u001b[1;36m                      \u001b[0m│     redirector: 'root://xcache/'                                                          \n",
       "│\u001b[1;36m                      \u001b[0m│   }                                                                                       \n",
       "│\u001b[1;36m                      \u001b[0m│   [2]:                                                                                    \n",
       "│\u001b[1;36m                      \u001b[0m│ {                                                                                         \n",
       "│\u001b[1;36m                      \u001b[0m│     name: 'ttbar_had'                                                                     \n",
       "│\u001b[1;36m                      \u001b[0m│     directories: ('example-demo/cms_datasets/2016/TTToHadronic/',                         \n",
       "│\u001b[1;36m                      \u001b[0m│ 'example-demo/cms_datasets/2017/TTToHadronic/',                                           \n",
       "│\u001b[1;36m                      \u001b[0m│ 'example-demo/cms_datasets/2018/TTToHadronic/')                                           \n",
       "│\u001b[1;36m                      \u001b[0m│     cross_sections: (380.11, 380.11, 380.11)                                              \n",
       "│\u001b[1;36m                      \u001b[0m│     file_pattern: '*.txt'                                                                 \n",
       "│\u001b[1;36m                      \u001b[0m│     tree_name: 'Events'                                                                   \n",
       "│\u001b[1;36m                      \u001b[0m│     weight_branch: 'genWeight'                                                            \n",
       "│\u001b[1;36m                      \u001b[0m│     redirector: 'root://xcache/'                                                          \n",
       "│\u001b[1;36m                      \u001b[0m│   }                                                                                       \n",
       "│\u001b[1;36m                      \u001b[0m│   [3]:                                                                                    \n",
       "│\u001b[1;36m                      \u001b[0m│ {                                                                                         \n",
       "│\u001b[1;36m                      \u001b[0m│     name: 'ttbar_lep'                                                                     \n",
       "│\u001b[1;36m                      \u001b[0m│     directories: ('example-demo/cms_datasets/2016/TTTo2L2Nu/',                            \n",
       "│\u001b[1;36m                      \u001b[0m│ 'example-demo/cms_datasets/2017/TTTo2L2Nu/', 'example-demo/cms_datasets/2018/TTTo2L2Nu/') \n",
       "│\u001b[1;36m                      \u001b[0m│     cross_sections: (87.33, 87.33, 87.33)                                                 \n",
       "│\u001b[1;36m                      \u001b[0m│     file_pattern: '*.txt'                                                                 \n",
       "│\u001b[1;36m                      \u001b[0m│     tree_name: 'Events'                                                                   \n",
       "│\u001b[1;36m                      \u001b[0m│     weight_branch: 'genWeight'                                                            \n",
       "│\u001b[1;36m                      \u001b[0m│     redirector: 'root://xcache/'                                                          \n",
       "│\u001b[1;36m                      \u001b[0m│   }                                                                                       \n",
       "│\u001b[1;36m                      \u001b[0m│   [4]:                                                                                    \n",
       "│\u001b[1;36m                      \u001b[0m│ {                                                                                         \n",
       "│\u001b[1;36m                      \u001b[0m│     name: 'wjets'                                                                         \n",
       "│\u001b[1;36m                      \u001b[0m│     directories: ('example-demo/cms_datasets/2016/WJetsToLNu_HT-70To100/',                \n",
       "│\u001b[1;36m                      \u001b[0m│ 'example-demo/cms_datasets/2016/WJetsToLNu_HT-100To200/',                                 \n",
       "│\u001b[1;36m                      \u001b[0m│ 'example-demo/cms_datasets/2016/WJetsToLNu_HT-200To400/',                                 \n",
       "│\u001b[1;36m                      \u001b[0m│ 'example-demo/cms_datasets/2016/WJetsToLNu_HT-400To600/',                                 \n",
       "│\u001b[1;36m                      \u001b[0m│ 'example-demo/cms_datasets/2016/WJetsToLNu_HT-600To800/',                                 \n",
       "│\u001b[1;36m                      \u001b[0m│ 'example-demo/cms_datasets/2016/WJetsToLNu_HT-800To1200/',                                \n",
       "│\u001b[1;36m                      \u001b[0m│ 'example-demo/cms_datasets/2016/WJetsToLNu_HT-1200To2500/',                               \n",
       "│\u001b[1;36m                      \u001b[0m│ 'example-demo/cms_datasets/2016/WJetsToLNu_HT-2500ToInf/',                                \n",
       "│\u001b[1;36m                      \u001b[0m│ 'example-demo/cms_datasets/2017/WJetsToLNu_HT-70To100/',                                  \n",
       "│\u001b[1;36m                      \u001b[0m│ 'example-demo/cms_datasets/2017/WJetsToLNu_HT-100To200/',                                 \n",
       "│\u001b[1;36m                      \u001b[0m│ 'example-demo/cms_datasets/2017/WJetsToLNu_HT-200To400/',                                 \n",
       "│\u001b[1;36m                      \u001b[0m│ 'example-demo/cms_datasets/2017/WJetsToLNu_HT-400To600/',                                 \n",
       "│\u001b[1;36m                      \u001b[0m│ 'example-demo/cms_datasets/2017/WJetsToLNu_HT-600To800/',                                 \n",
       "│\u001b[1;36m                      \u001b[0m│ 'example-demo/cms_datasets/2017/WJetsToLNu_HT-800To1200/',                                \n",
       "│\u001b[1;36m                      \u001b[0m│ 'example-demo/cms_datasets/2017/WJetsToLNu_HT-1200To2500/',                               \n",
       "│\u001b[1;36m                      \u001b[0m│ 'example-demo/cms_datasets/2017/WJetsToLNu_HT-2500ToInf/',                                \n",
       "│\u001b[1;36m                      \u001b[0m│ 'example-demo/cms_datasets/2018/WJetsToLNu_HT-70To100/',                                  \n",
       "│\u001b[1;36m                      \u001b[0m│ 'example-demo/cms_datasets/2018/WJetsToLNu_HT-100To200/',                                 \n",
       "│\u001b[1;36m                      \u001b[0m│ 'example-demo/cms_datasets/2018/WJetsToLNu_HT-200To400/',                                 \n",
       "│\u001b[1;36m                      \u001b[0m│ 'example-demo/cms_datasets/2018/WJetsToLNu_HT-400To600/',                                 \n",
       "│\u001b[1;36m                      \u001b[0m│ 'example-demo/cms_datasets/2018/WJetsToLNu_HT-600To800/',                                 \n",
       "│\u001b[1;36m                      \u001b[0m│ 'example-demo/cms_datasets/2018/WJetsToLNu_HT-800To1200/',                                \n",
       "│\u001b[1;36m                      \u001b[0m│ 'example-demo/cms_datasets/2018/WJetsToLNu_HT-1200To2500/',                               \n",
       "│\u001b[1;36m                      \u001b[0m│ 'example-demo/cms_datasets/2018/WJetsToLNu_HT-2500ToInf/')                                \n",
       "│\u001b[1;36m                      \u001b[0m│     cross_sections: (1271.0, 1253.0, 335.9, 45.21, 10.99, 4.936, 1.156, 0.02623, 1271.0,  \n",
       "│\u001b[1;36m                      \u001b[0m│ 1253.0, 335.9, 45.21, 10.99, 4.936, 1.156, 0.02623, 1271.0, 1253.0, 335.9, 45.21, 10.99,  \n",
       "│\u001b[1;36m                      \u001b[0m│ 4.936, 1.156, 0.02623)                                                                    \n",
       "│\u001b[1;36m                      \u001b[0m│     file_pattern: '*.txt'                                                                 \n",
       "│\u001b[1;36m                      \u001b[0m│     tree_name: 'Events'                                                                   \n",
       "│\u001b[1;36m                      \u001b[0m│     weight_branch: 'genWeight'                                                            \n",
       "│\u001b[1;36m                      \u001b[0m│     redirector: 'root://xcache/'                                                          \n",
       "│\u001b[1;36m                      \u001b[0m│   }                                                                                       \n",
       "│\u001b[1;36m                      \u001b[0m│   [5]:                                                                                    \n",
       "│\u001b[1;36m                      \u001b[0m│ {                                                                                         \n",
       "│\u001b[1;36m                      \u001b[0m│     name: 'dyjets'                                                                        \n",
       "│\u001b[1;36m                      \u001b[0m│     directories: ('example-demo/cms_datasets/2016/DYJetsToLL_M-50_HT-70to100/',           \n",
       "│\u001b[1;36m                      \u001b[0m│ 'example-demo/cms_datasets/2016/DYJetsToLL_M-50_HT-100to200/',                            \n",
       "│\u001b[1;36m                      \u001b[0m│ 'example-demo/cms_datasets/2016/DYJetsToLL_M-50_HT-200to400/',                            \n",
       "│\u001b[1;36m                      \u001b[0m│ 'example-demo/cms_datasets/2016/DYJetsToLL_M-50_HT-400to600/',                            \n",
       "│\u001b[1;36m                      \u001b[0m│ 'example-demo/cms_datasets/2016/DYJetsToLL_M-50_HT-600to800/',                            \n",
       "│\u001b[1;36m                      \u001b[0m│ 'example-demo/cms_datasets/2016/DYJetsToLL_M-50_HT-800to1200/',                           \n",
       "│\u001b[1;36m                      \u001b[0m│ 'example-demo/cms_datasets/2016/DYJetsToLL_M-50_HT-1200to2500/',                          \n",
       "│\u001b[1;36m                      \u001b[0m│ 'example-demo/cms_datasets/2016/DYJetsToLL_M-50_HT-2500toInf/',                           \n",
       "│\u001b[1;36m                      \u001b[0m│ 'example-demo/cms_datasets/2017/DYJetsToLL_M-50_HT-70to100/',                             \n",
       "│\u001b[1;36m                      \u001b[0m│ 'example-demo/cms_datasets/2017/DYJetsToLL_M-50_HT-100to200/',                            \n",
       "│\u001b[1;36m                      \u001b[0m│ 'example-demo/cms_datasets/2017/DYJetsToLL_M-50_HT-200to400/',                            \n",
       "│\u001b[1;36m                      \u001b[0m│ 'example-demo/cms_datasets/2017/DYJetsToLL_M-50_HT-400to600/',                            \n",
       "│\u001b[1;36m                      \u001b[0m│ 'example-demo/cms_datasets/2017/DYJetsToLL_M-50_HT-600to800/',                            \n",
       "│\u001b[1;36m                      \u001b[0m│ 'example-demo/cms_datasets/2017/DYJetsToLL_M-50_HT-800to1200/',                           \n",
       "│\u001b[1;36m                      \u001b[0m│ 'example-demo/cms_datasets/2017/DYJetsToLL_M-50_HT-1200to2500/',                          \n",
       "│\u001b[1;36m                      \u001b[0m│ 'example-demo/cms_datasets/2017/DYJetsToLL_M-50_HT-2500toInf/',                           \n",
       "│\u001b[1;36m                      \u001b[0m│ 'example-demo/cms_datasets/2018/DYJetsToLL_M-50_HT-70to100/',                             \n",
       "│\u001b[1;36m                      \u001b[0m│ 'example-demo/cms_datasets/2018/DYJetsToLL_M-50_HT-100to200/',                            \n",
       "│\u001b[1;36m                      \u001b[0m│ 'example-demo/cms_datasets/2018/DYJetsToLL_M-50_HT-200to400/',                            \n",
       "│\u001b[1;36m                      \u001b[0m│ 'example-demo/cms_datasets/2018/DYJetsToLL_M-50_HT-400to600/',                            \n",
       "│\u001b[1;36m                      \u001b[0m│ 'example-demo/cms_datasets/2018/DYJetsToLL_M-50_HT-600to800/',                            \n",
       "│\u001b[1;36m                      \u001b[0m│ 'example-demo/cms_datasets/2018/DYJetsToLL_M-50_HT-800to1200/',                           \n",
       "│\u001b[1;36m                      \u001b[0m│ 'example-demo/cms_datasets/2018/DYJetsToLL_M-50_HT-1200to2500/',                          \n",
       "│\u001b[1;36m                      \u001b[0m│ 'example-demo/cms_datasets/2018/DYJetsToLL_M-50_HT-2500toInf/')                           \n",
       "│\u001b[1;36m                      \u001b[0m│     cross_sections: (140.1, 140.2, 38.399, 5.21278, 1.26567, 0.5684304, 0.1331514,        \n",
       "│\u001b[1;36m                      \u001b[0m│ 0.00297803565, 140.1, 140.2, 38.399, 5.21278, 1.26567, 0.5684304, 0.1331514, 0.00297803565\n",
       "│\u001b[1;36m                      \u001b[0m│ 140.1, 140.2, 38.399, 5.21278, 1.26567, 0.5684304, 0.1331514, 0.00297803565)              \n",
       "│\u001b[1;36m                      \u001b[0m│     file_pattern: '*.txt'                                                                 \n",
       "│\u001b[1;36m                      \u001b[0m│     tree_name: 'Events'                                                                   \n",
       "│\u001b[1;36m                      \u001b[0m│     weight_branch: 'genWeight'                                                            \n",
       "│\u001b[1;36m                      \u001b[0m│     redirector: 'root://xcache/'                                                          \n",
       "│\u001b[1;36m                      \u001b[0m│   }                                                                                       \n",
       "│\u001b[1;36m                      \u001b[0m│   [6]:                                                                                    \n",
       "│\u001b[1;36m                      \u001b[0m│ {                                                                                         \n",
       "│\u001b[1;36m                      \u001b[0m│     name: 'single_top'                                                                    \n",
       "│\u001b[1;36m                      \u001b[0m│     directories: ('example-demo/cms_datasets/2016/ST_s-channel_4f/',                      \n",
       "│\u001b[1;36m                      \u001b[0m│ 'example-demo/cms_datasets/2016/ST_t-channel_top_4f/',                                    \n",
       "│\u001b[1;36m                      \u001b[0m│ 'example-demo/cms_datasets/2016/ST_t-channel_antitop_4f/',                                \n",
       "│\u001b[1;36m                      \u001b[0m│ 'example-demo/cms_datasets/2016/ST_tW_top_5f/',                                           \n",
       "│\u001b[1;36m                      \u001b[0m│ 'example-demo/cms_datasets/2016/ST_tW_antitop_5f/',                                       \n",
       "│\u001b[1;36m                      \u001b[0m│ 'example-demo/cms_datasets/2017/ST_s-channel_4f/',                                        \n",
       "│\u001b[1;36m                      \u001b[0m│ 'example-demo/cms_datasets/2017/ST_t-channel_top_4f/',                                    \n",
       "│\u001b[1;36m                      \u001b[0m│ 'example-demo/cms_datasets/2017/ST_t-channel_antitop_4f/',                                \n",
       "│\u001b[1;36m                      \u001b[0m│ 'example-demo/cms_datasets/2017/ST_tW_top_5f/',                                           \n",
       "│\u001b[1;36m                      \u001b[0m│ 'example-demo/cms_datasets/2017/ST_tW_antitop_5f/',                                       \n",
       "│\u001b[1;36m                      \u001b[0m│ 'example-demo/cms_datasets/2018/ST_s-channel_4f/',                                        \n",
       "│\u001b[1;36m                      \u001b[0m│ 'example-demo/cms_datasets/2018/ST_t-channel_top_4f/',                                    \n",
       "│\u001b[1;36m                      \u001b[0m│ 'example-demo/cms_datasets/2018/ST_t-channel_antitop_4f/',                                \n",
       "│\u001b[1;36m                      \u001b[0m│ 'example-demo/cms_datasets/2018/ST_tW_top_5f/',                                           \n",
       "│\u001b[1;36m                      \u001b[0m│ 'example-demo/cms_datasets/2018/ST_tW_antitop_5f/')                                       \n",
       "│\u001b[1;36m                      \u001b[0m│     cross_sections: (3.36432, 136.02, 80.95, 19.46655, 19.46655, 3.36432, 136.02, 80.95,  \n",
       "│\u001b[1;36m                      \u001b[0m│ 19.46655, 19.46655, 3.36432, 136.02, 80.95, 19.46655, 19.46655)                           \n",
       "│\u001b[1;36m                      \u001b[0m│     file_pattern: '*.txt'                                                                 \n",
       "│\u001b[1;36m                      \u001b[0m│     tree_name: 'Events'                                                                   \n",
       "│\u001b[1;36m                      \u001b[0m│     weight_branch: 'genWeight'                                                            \n",
       "│\u001b[1;36m                      \u001b[0m│     redirector: 'root://xcache/'                                                          \n",
       "│\u001b[1;36m                      \u001b[0m│   }                                                                                       \n",
       "│\u001b[1;36m                      \u001b[0m│   [7]:                                                                                    \n",
       "│\u001b[1;36m                      \u001b[0m│ {                                                                                         \n",
       "│\u001b[1;36m                      \u001b[0m│     name: 'qcd'                                                                           \n",
       "│\u001b[1;36m                      \u001b[0m│     directories: ('example-demo/cms_datasets/2016/QCD_HT50to100/',                        \n",
       "│\u001b[1;36m                      \u001b[0m│ 'example-demo/cms_datasets/2016/QCD_HT100to200/',                                         \n",
       "│\u001b[1;36m                      \u001b[0m│ 'example-demo/cms_datasets/2016/QCD_HT200to300/',                                         \n",
       "│\u001b[1;36m                      \u001b[0m│ 'example-demo/cms_datasets/2016/QCD_HT300to500/',                                         \n",
       "│\u001b[1;36m                      \u001b[0m│ 'example-demo/cms_datasets/2016/QCD_HT500to700/',                                         \n",
       "│\u001b[1;36m                      \u001b[0m│ 'example-demo/cms_datasets/2016/QCD_HT700to1000/',                                        \n",
       "│\u001b[1;36m                      \u001b[0m│ 'example-demo/cms_datasets/2016/QCD_HT1000to1500/',                                       \n",
       "│\u001b[1;36m                      \u001b[0m│ 'example-demo/cms_datasets/2016/QCD_HT1500to2000/',                                       \n",
       "│\u001b[1;36m                      \u001b[0m│ 'example-demo/cms_datasets/2016/QCD_HT2000toInf/',                                        \n",
       "│\u001b[1;36m                      \u001b[0m│ 'example-demo/cms_datasets/2017/QCD_HT50to100/',                                          \n",
       "│\u001b[1;36m                      \u001b[0m│ 'example-demo/cms_datasets/2017/QCD_HT100to200/',                                         \n",
       "│\u001b[1;36m                      \u001b[0m│ 'example-demo/cms_datasets/2017/QCD_HT200to300/',                                         \n",
       "│\u001b[1;36m                      \u001b[0m│ 'example-demo/cms_datasets/2017/QCD_HT300to500/',                                         \n",
       "│\u001b[1;36m                      \u001b[0m│ 'example-demo/cms_datasets/2017/QCD_HT500to700/',                                         \n",
       "│\u001b[1;36m                      \u001b[0m│ 'example-demo/cms_datasets/2017/QCD_HT700to1000/',                                        \n",
       "│\u001b[1;36m                      \u001b[0m│ 'example-demo/cms_datasets/2017/QCD_HT1000to1500/',                                       \n",
       "│\u001b[1;36m                      \u001b[0m│ 'example-demo/cms_datasets/2017/QCD_HT1500to2000/',                                       \n",
       "│\u001b[1;36m                      \u001b[0m│ 'example-demo/cms_datasets/2017/QCD_HT2000toInf/',                                        \n",
       "│\u001b[1;36m                      \u001b[0m│ 'example-demo/cms_datasets/2018/QCD_HT50to100/',                                          \n",
       "│\u001b[1;36m                      \u001b[0m│ 'example-demo/cms_datasets/2018/QCD_HT100to200/',                                         \n",
       "│\u001b[1;36m                      \u001b[0m│ 'example-demo/cms_datasets/2018/QCD_HT200to300/',                                         \n",
       "│\u001b[1;36m                      \u001b[0m│ 'example-demo/cms_datasets/2018/QCD_HT300to500/',                                         \n",
       "│\u001b[1;36m                      \u001b[0m│ 'example-demo/cms_datasets/2018/QCD_HT500to700/',                                         \n",
       "│\u001b[1;36m                      \u001b[0m│ 'example-demo/cms_datasets/2018/QCD_HT700to1000/',                                        \n",
       "│\u001b[1;36m                      \u001b[0m│ 'example-demo/cms_datasets/2018/QCD_HT1000to1500/',                                       \n",
       "│\u001b[1;36m                      \u001b[0m│ 'example-demo/cms_datasets/2018/QCD_HT1500to2000/',                                       \n",
       "│\u001b[1;36m                      \u001b[0m│ 'example-demo/cms_datasets/2018/QCD_HT2000toInf/')                                        \n",
       "│\u001b[1;36m                      \u001b[0m│     cross_sections: (185900000.0, 23610000.0, 1551000.0, 324300.0, 30340.0, 6440.0, 1118.0\n",
       "│\u001b[1;36m                      \u001b[0m│ 108.0, 22.0, 185900000.0, 23610000.0, 1551000.0, 324300.0, 30340.0, 6440.0, 1118.0, 108.0,\n",
       "│\u001b[1;36m                      \u001b[0m│ 22.0, 185900000.0, 23610000.0, 1551000.0, 324300.0, 30340.0, 6440.0, 1118.0, 108.0, 22.0) \n",
       "│\u001b[1;36m                      \u001b[0m│     file_pattern: '*.txt'                                                                 \n",
       "│\u001b[1;36m                      \u001b[0m│     tree_name: 'Events'                                                                   \n",
       "│\u001b[1;36m                      \u001b[0m│     weight_branch: 'genWeight'                                                            \n",
       "│\u001b[1;36m                      \u001b[0m│     redirector: 'root://xcache/'                                                          \n",
       "│\u001b[1;36m                      \u001b[0m│   }                                                                                       \n",
       "│\u001b[1;36m                      \u001b[0m│   [8]:                                                                                    \n",
       "│\u001b[1;36m                      \u001b[0m│ {                                                                                         \n",
       "│\u001b[1;36m                      \u001b[0m│     name: 'diboson'                                                                       \n",
       "│\u001b[1;36m                      \u001b[0m│     directories: ('example-demo/cms_datasets/2016/WW/', 'example-demo/cms_datasets/2016/WZ\n",
       "│\u001b[1;36m                      \u001b[0m│ 'example-demo/cms_datasets/2016/ZZ/', 'example-demo/cms_datasets/2017/WW/',               \n",
       "│\u001b[1;36m                      \u001b[0m│ 'example-demo/cms_datasets/2017/WZ/', 'example-demo/cms_datasets/2017/ZZ/',               \n",
       "│\u001b[1;36m                      \u001b[0m│ 'example-demo/cms_datasets/2018/WW/', 'example-demo/cms_datasets/2018/WZ/',               \n",
       "│\u001b[1;36m                      \u001b[0m│ 'example-demo/cms_datasets/2018/ZZ/')                                                     \n",
       "│\u001b[1;36m                      \u001b[0m│     cross_sections: (118.7, 46.74, 16.91, 118.7, 46.74, 16.91, 118.7, 46.74, 16.91)       \n",
       "│\u001b[1;36m                      \u001b[0m│     file_pattern: '*.txt'                                                                 \n",
       "│\u001b[1;36m                      \u001b[0m│     tree_name: 'Events'                                                                   \n",
       "│\u001b[1;36m                      \u001b[0m│     weight_branch: 'genWeight'                                                            \n",
       "│\u001b[1;36m                      \u001b[0m│     redirector: 'root://xcache/'                                                          \n",
       "│\u001b[1;36m                      \u001b[0m│   }                                                                                       \n",
       "│\u001b[1;36m                      \u001b[0m│   [9]:                                                                                    \n",
       "│\u001b[1;36m                      \u001b[0m│ {                                                                                         \n",
       "│\u001b[1;36m                      \u001b[0m│     name: 'data'                                                                          \n",
       "│\u001b[1;36m                      \u001b[0m│     directories: ('example-demo/cms_datasets/2016/SingleMuonRunB/',                       \n",
       "│\u001b[1;36m                      \u001b[0m│ 'example-demo/cms_datasets/2016/SingleMuonRunC/',                                         \n",
       "│\u001b[1;36m                      \u001b[0m│ 'example-demo/cms_datasets/2016/SingleMuonRunD/',                                         \n",
       "│\u001b[1;36m                      \u001b[0m│ 'example-demo/cms_datasets/2016/SingleMuonRunE/',                                         \n",
       "│\u001b[1;36m                      \u001b[0m│ 'example-demo/cms_datasets/2016/SingleMuonRunF/',                                         \n",
       "│\u001b[1;36m                      \u001b[0m│ 'example-demo/cms_datasets/2017/SingleMuonRunB/',                                         \n",
       "│\u001b[1;36m                      \u001b[0m│ 'example-demo/cms_datasets/2017/SingleMuonRunC/',                                         \n",
       "│\u001b[1;36m                      \u001b[0m│ 'example-demo/cms_datasets/2017/SingleMuonRunD/',                                         \n",
       "│\u001b[1;36m                      \u001b[0m│ 'example-demo/cms_datasets/2017/SingleMuonRunE/',                                         \n",
       "│\u001b[1;36m                      \u001b[0m│ 'example-demo/cms_datasets/2017/SingleMuonRunF/',                                         \n",
       "│\u001b[1;36m                      \u001b[0m│ 'example-demo/cms_datasets/2018/SingleMuonRunA/',                                         \n",
       "│\u001b[1;36m                      \u001b[0m│ 'example-demo/cms_datasets/2018/SingleMuonRunB/',                                         \n",
       "│\u001b[1;36m                      \u001b[0m│ 'example-demo/cms_datasets/2018/SingleMuonRunC/',                                         \n",
       "│\u001b[1;36m                      \u001b[0m│ 'example-demo/cms_datasets/2018/SingleMuonRunD/')                                         \n",
       "│\u001b[1;36m                      \u001b[0m│     cross_sections: 1.0                                                                   \n",
       "│\u001b[1;36m                      \u001b[0m│     file_pattern: '*.txt'                                                                 \n",
       "│\u001b[1;36m                      \u001b[0m│     tree_name: 'Events'                                                                   \n",
       "│\u001b[1;36m                      \u001b[0m│     weight_branch: None                                                                   \n",
       "│\u001b[1;36m                      \u001b[0m│     redirector: 'root://xcache/'                                                          \n",
       "│\u001b[1;36m                      \u001b[0m│   }                                                                                       \n",
       "│\u001b[1;36m                      \u001b[0m│ ]                                                                                         \n",
       "│\u001b[1;36m \u001b[0m\u001b[1;36mmax_files           \u001b[0m\u001b[1;36m \u001b[0m│ None                                                                                      \n",
       "└──────────────────────┴───────────────────────────────────────────────────────────────────────────────────────────\n"
      ]
     },
     "metadata": {},
     "output_type": "display_data"
    }
   ],
   "source": [
    "# Example: Demonstrate configuration comparison and change detection\n",
    "from user.configuration_demo import config as original_config\n",
    "from utils.schema import Config, load_config_with_restricted_cli\n",
    "\n",
    "import copy\n",
    "\n",
    "# Save the original configuration for comparison\n",
    "config = copy.deepcopy(original_config)\n",
    "\n",
    "print(\"=== Full configuration ===\")\n",
    "display_config_table(config, expand=True)"
   ]
  },
  {
   "cell_type": "code",
   "execution_count": 5,
   "id": "69b2f6ae-0fc6-44d4-80ed-1e03ee9c51cf",
   "metadata": {},
   "outputs": [
    {
     "data": {
      "text/html": [
       "<pre style=\"white-space:pre;overflow-x:auto;line-height:normal;font-family:Menlo,'DejaVu Sans Mono',consolas,'Courier New',monospace\"><span style=\"font-style: italic\">                                                Configuration: DATASETS                                            </span>\n",
       "┏━━━━━━━━━━━━━━━━━━━━━━┳━━━━━━━━━━━━━━━━━━━━━━━━━━━━━━━━━━━━━━━━━━━━━━━━━━━━━━━━━━━━━━━━━━━━━━━━━━━━━━━━━━━━━━━━━━━\n",
       "┃<span style=\"font-weight: bold\"> Key                  </span>┃<span style=\"font-weight: bold\"> Value                                                                                     </span>\n",
       "┡━━━━━━━━━━━━━━━━━━━━━━╇━━━━━━━━━━━━━━━━━━━━━━━━━━━━━━━━━━━━━━━━━━━━━━━━━━━━━━━━━━━━━━━━━━━━━━━━━━━━━━━━━━━━━━━━━━━\n",
       "│<span style=\"color: #008080; text-decoration-color: #008080; font-weight: bold\"> datasets             </span>│ [                                                                                         \n",
       "│<span style=\"color: #008080; text-decoration-color: #008080; font-weight: bold\">                      </span>│   [0]:                                                                                    \n",
       "│<span style=\"color: #008080; text-decoration-color: #008080; font-weight: bold\">                      </span>│ {                                                                                         \n",
       "│<span style=\"color: #008080; text-decoration-color: #008080; font-weight: bold\">                      </span>│     name: 'signal'                                                                        \n",
       "│<span style=\"color: #008080; text-decoration-color: #008080; font-weight: bold\">                      </span>│     directories: ('example-demo/cms_datasets/2016/ZPrimeToTT_M2000_W200/',                \n",
       "│<span style=\"color: #008080; text-decoration-color: #008080; font-weight: bold\">                      </span>│ 'example-demo/cms_datasets/2017/ZPrimeToTT_M2000_W200/',                                  \n",
       "│<span style=\"color: #008080; text-decoration-color: #008080; font-weight: bold\">                      </span>│ 'example-demo/cms_datasets/2018/ZPrimeToTT_M2000_W200/')                                  \n",
       "│<span style=\"color: #008080; text-decoration-color: #008080; font-weight: bold\">                      </span>│     cross_sections: (0.01895, 0.01895, 0.01895)                                           \n",
       "│<span style=\"color: #008080; text-decoration-color: #008080; font-weight: bold\">                      </span>│     file_pattern: '*.txt'                                                                 \n",
       "│<span style=\"color: #008080; text-decoration-color: #008080; font-weight: bold\">                      </span>│     tree_name: 'Events'                                                                   \n",
       "│<span style=\"color: #008080; text-decoration-color: #008080; font-weight: bold\">                      </span>│     weight_branch: 'genWeight'                                                            \n",
       "│<span style=\"color: #008080; text-decoration-color: #008080; font-weight: bold\">                      </span>│     redirector: 'root://xcache/'                                                          \n",
       "│<span style=\"color: #008080; text-decoration-color: #008080; font-weight: bold\">                      </span>│   }                                                                                       \n",
       "│<span style=\"color: #008080; text-decoration-color: #008080; font-weight: bold\">                      </span>│   [1]:                                                                                    \n",
       "│<span style=\"color: #008080; text-decoration-color: #008080; font-weight: bold\">                      </span>│ {                                                                                         \n",
       "│<span style=\"color: #008080; text-decoration-color: #008080; font-weight: bold\">                      </span>│     name: 'ttbar_semilep'                                                                 \n",
       "│<span style=\"color: #008080; text-decoration-color: #008080; font-weight: bold\">                      </span>│     directories: ('example-demo/cms_datasets/2016/TTToSemiLeptonic/',                     \n",
       "│<span style=\"color: #008080; text-decoration-color: #008080; font-weight: bold\">                      </span>│ 'example-demo/cms_datasets/2017/TTToSemiLeptonic/',                                       \n",
       "│<span style=\"color: #008080; text-decoration-color: #008080; font-weight: bold\">                      </span>│ 'example-demo/cms_datasets/2018/TTToSemiLeptonic/')                                       \n",
       "│<span style=\"color: #008080; text-decoration-color: #008080; font-weight: bold\">                      </span>│     cross_sections: (364.31, 364.31, 364.31)                                              \n",
       "│<span style=\"color: #008080; text-decoration-color: #008080; font-weight: bold\">                      </span>│     file_pattern: '*.txt'                                                                 \n",
       "│<span style=\"color: #008080; text-decoration-color: #008080; font-weight: bold\">                      </span>│     tree_name: 'Events'                                                                   \n",
       "│<span style=\"color: #008080; text-decoration-color: #008080; font-weight: bold\">                      </span>│     weight_branch: 'genWeight'                                                            \n",
       "│<span style=\"color: #008080; text-decoration-color: #008080; font-weight: bold\">                      </span>│     redirector: 'root://xcache/'                                                          \n",
       "│<span style=\"color: #008080; text-decoration-color: #008080; font-weight: bold\">                      </span>│   }                                                                                       \n",
       "│<span style=\"color: #008080; text-decoration-color: #008080; font-weight: bold\">                      </span>│   [2]:                                                                                    \n",
       "│<span style=\"color: #008080; text-decoration-color: #008080; font-weight: bold\">                      </span>│ {                                                                                         \n",
       "│<span style=\"color: #008080; text-decoration-color: #008080; font-weight: bold\">                      </span>│     name: 'ttbar_had'                                                                     \n",
       "│<span style=\"color: #008080; text-decoration-color: #008080; font-weight: bold\">                      </span>│     directories: ('example-demo/cms_datasets/2016/TTToHadronic/',                         \n",
       "│<span style=\"color: #008080; text-decoration-color: #008080; font-weight: bold\">                      </span>│ 'example-demo/cms_datasets/2017/TTToHadronic/',                                           \n",
       "│<span style=\"color: #008080; text-decoration-color: #008080; font-weight: bold\">                      </span>│ 'example-demo/cms_datasets/2018/TTToHadronic/')                                           \n",
       "│<span style=\"color: #008080; text-decoration-color: #008080; font-weight: bold\">                      </span>│     cross_sections: (380.11, 380.11, 380.11)                                              \n",
       "│<span style=\"color: #008080; text-decoration-color: #008080; font-weight: bold\">                      </span>│     file_pattern: '*.txt'                                                                 \n",
       "│<span style=\"color: #008080; text-decoration-color: #008080; font-weight: bold\">                      </span>│     tree_name: 'Events'                                                                   \n",
       "│<span style=\"color: #008080; text-decoration-color: #008080; font-weight: bold\">                      </span>│     weight_branch: 'genWeight'                                                            \n",
       "│<span style=\"color: #008080; text-decoration-color: #008080; font-weight: bold\">                      </span>│     redirector: 'root://xcache/'                                                          \n",
       "│<span style=\"color: #008080; text-decoration-color: #008080; font-weight: bold\">                      </span>│   }                                                                                       \n",
       "│<span style=\"color: #008080; text-decoration-color: #008080; font-weight: bold\">                      </span>│   [3]:                                                                                    \n",
       "│<span style=\"color: #008080; text-decoration-color: #008080; font-weight: bold\">                      </span>│ {                                                                                         \n",
       "│<span style=\"color: #008080; text-decoration-color: #008080; font-weight: bold\">                      </span>│     name: 'ttbar_lep'                                                                     \n",
       "│<span style=\"color: #008080; text-decoration-color: #008080; font-weight: bold\">                      </span>│     directories: ('example-demo/cms_datasets/2016/TTTo2L2Nu/',                            \n",
       "│<span style=\"color: #008080; text-decoration-color: #008080; font-weight: bold\">                      </span>│ 'example-demo/cms_datasets/2017/TTTo2L2Nu/', 'example-demo/cms_datasets/2018/TTTo2L2Nu/') \n",
       "│<span style=\"color: #008080; text-decoration-color: #008080; font-weight: bold\">                      </span>│     cross_sections: (87.33, 87.33, 87.33)                                                 \n",
       "│<span style=\"color: #008080; text-decoration-color: #008080; font-weight: bold\">                      </span>│     file_pattern: '*.txt'                                                                 \n",
       "│<span style=\"color: #008080; text-decoration-color: #008080; font-weight: bold\">                      </span>│     tree_name: 'Events'                                                                   \n",
       "│<span style=\"color: #008080; text-decoration-color: #008080; font-weight: bold\">                      </span>│     weight_branch: 'genWeight'                                                            \n",
       "│<span style=\"color: #008080; text-decoration-color: #008080; font-weight: bold\">                      </span>│     redirector: 'root://xcache/'                                                          \n",
       "│<span style=\"color: #008080; text-decoration-color: #008080; font-weight: bold\">                      </span>│   }                                                                                       \n",
       "│<span style=\"color: #008080; text-decoration-color: #008080; font-weight: bold\">                      </span>│   [4]:                                                                                    \n",
       "│<span style=\"color: #008080; text-decoration-color: #008080; font-weight: bold\">                      </span>│ {                                                                                         \n",
       "│<span style=\"color: #008080; text-decoration-color: #008080; font-weight: bold\">                      </span>│     name: 'wjets'                                                                         \n",
       "│<span style=\"color: #008080; text-decoration-color: #008080; font-weight: bold\">                      </span>│     directories: ('example-demo/cms_datasets/2016/WJetsToLNu_HT-70To100/',                \n",
       "│<span style=\"color: #008080; text-decoration-color: #008080; font-weight: bold\">                      </span>│ 'example-demo/cms_datasets/2016/WJetsToLNu_HT-100To200/',                                 \n",
       "│<span style=\"color: #008080; text-decoration-color: #008080; font-weight: bold\">                      </span>│ 'example-demo/cms_datasets/2016/WJetsToLNu_HT-200To400/',                                 \n",
       "│<span style=\"color: #008080; text-decoration-color: #008080; font-weight: bold\">                      </span>│ 'example-demo/cms_datasets/2016/WJetsToLNu_HT-400To600/',                                 \n",
       "│<span style=\"color: #008080; text-decoration-color: #008080; font-weight: bold\">                      </span>│ 'example-demo/cms_datasets/2016/WJetsToLNu_HT-600To800/',                                 \n",
       "│<span style=\"color: #008080; text-decoration-color: #008080; font-weight: bold\">                      </span>│ 'example-demo/cms_datasets/2016/WJetsToLNu_HT-800To1200/',                                \n",
       "│<span style=\"color: #008080; text-decoration-color: #008080; font-weight: bold\">                      </span>│ 'example-demo/cms_datasets/2016/WJetsToLNu_HT-1200To2500/',                               \n",
       "│<span style=\"color: #008080; text-decoration-color: #008080; font-weight: bold\">                      </span>│ 'example-demo/cms_datasets/2016/WJetsToLNu_HT-2500ToInf/',                                \n",
       "│<span style=\"color: #008080; text-decoration-color: #008080; font-weight: bold\">                      </span>│ 'example-demo/cms_datasets/2017/WJetsToLNu_HT-70To100/',                                  \n",
       "│<span style=\"color: #008080; text-decoration-color: #008080; font-weight: bold\">                      </span>│ 'example-demo/cms_datasets/2017/WJetsToLNu_HT-100To200/',                                 \n",
       "│<span style=\"color: #008080; text-decoration-color: #008080; font-weight: bold\">                      </span>│ 'example-demo/cms_datasets/2017/WJetsToLNu_HT-200To400/',                                 \n",
       "│<span style=\"color: #008080; text-decoration-color: #008080; font-weight: bold\">                      </span>│ 'example-demo/cms_datasets/2017/WJetsToLNu_HT-400To600/',                                 \n",
       "│<span style=\"color: #008080; text-decoration-color: #008080; font-weight: bold\">                      </span>│ 'example-demo/cms_datasets/2017/WJetsToLNu_HT-600To800/',                                 \n",
       "│<span style=\"color: #008080; text-decoration-color: #008080; font-weight: bold\">                      </span>│ 'example-demo/cms_datasets/2017/WJetsToLNu_HT-800To1200/',                                \n",
       "│<span style=\"color: #008080; text-decoration-color: #008080; font-weight: bold\">                      </span>│ 'example-demo/cms_datasets/2017/WJetsToLNu_HT-1200To2500/',                               \n",
       "│<span style=\"color: #008080; text-decoration-color: #008080; font-weight: bold\">                      </span>│ 'example-demo/cms_datasets/2017/WJetsToLNu_HT-2500ToInf/',                                \n",
       "│<span style=\"color: #008080; text-decoration-color: #008080; font-weight: bold\">                      </span>│ 'example-demo/cms_datasets/2018/WJetsToLNu_HT-70To100/',                                  \n",
       "│<span style=\"color: #008080; text-decoration-color: #008080; font-weight: bold\">                      </span>│ 'example-demo/cms_datasets/2018/WJetsToLNu_HT-100To200/',                                 \n",
       "│<span style=\"color: #008080; text-decoration-color: #008080; font-weight: bold\">                      </span>│ 'example-demo/cms_datasets/2018/WJetsToLNu_HT-200To400/',                                 \n",
       "│<span style=\"color: #008080; text-decoration-color: #008080; font-weight: bold\">                      </span>│ 'example-demo/cms_datasets/2018/WJetsToLNu_HT-400To600/',                                 \n",
       "│<span style=\"color: #008080; text-decoration-color: #008080; font-weight: bold\">                      </span>│ 'example-demo/cms_datasets/2018/WJetsToLNu_HT-600To800/',                                 \n",
       "│<span style=\"color: #008080; text-decoration-color: #008080; font-weight: bold\">                      </span>│ 'example-demo/cms_datasets/2018/WJetsToLNu_HT-800To1200/',                                \n",
       "│<span style=\"color: #008080; text-decoration-color: #008080; font-weight: bold\">                      </span>│ 'example-demo/cms_datasets/2018/WJetsToLNu_HT-1200To2500/',                               \n",
       "│<span style=\"color: #008080; text-decoration-color: #008080; font-weight: bold\">                      </span>│ 'example-demo/cms_datasets/2018/WJetsToLNu_HT-2500ToInf/')                                \n",
       "│<span style=\"color: #008080; text-decoration-color: #008080; font-weight: bold\">                      </span>│     cross_sections: (1271.0, 1253.0, 335.9, 45.21, 10.99, 4.936, 1.156, 0.02623, 1271.0,  \n",
       "│<span style=\"color: #008080; text-decoration-color: #008080; font-weight: bold\">                      </span>│ 1253.0, 335.9, 45.21, 10.99, 4.936, 1.156, 0.02623, 1271.0, 1253.0, 335.9, 45.21, 10.99,  \n",
       "│<span style=\"color: #008080; text-decoration-color: #008080; font-weight: bold\">                      </span>│ 4.936, 1.156, 0.02623)                                                                    \n",
       "│<span style=\"color: #008080; text-decoration-color: #008080; font-weight: bold\">                      </span>│     file_pattern: '*.txt'                                                                 \n",
       "│<span style=\"color: #008080; text-decoration-color: #008080; font-weight: bold\">                      </span>│     tree_name: 'Events'                                                                   \n",
       "│<span style=\"color: #008080; text-decoration-color: #008080; font-weight: bold\">                      </span>│     weight_branch: 'genWeight'                                                            \n",
       "│<span style=\"color: #008080; text-decoration-color: #008080; font-weight: bold\">                      </span>│     redirector: 'root://xcache/'                                                          \n",
       "│<span style=\"color: #008080; text-decoration-color: #008080; font-weight: bold\">                      </span>│   }                                                                                       \n",
       "│<span style=\"color: #008080; text-decoration-color: #008080; font-weight: bold\">                      </span>│   [5]:                                                                                    \n",
       "│<span style=\"color: #008080; text-decoration-color: #008080; font-weight: bold\">                      </span>│ {                                                                                         \n",
       "│<span style=\"color: #008080; text-decoration-color: #008080; font-weight: bold\">                      </span>│     name: 'dyjets'                                                                        \n",
       "│<span style=\"color: #008080; text-decoration-color: #008080; font-weight: bold\">                      </span>│     directories: ('example-demo/cms_datasets/2016/DYJetsToLL_M-50_HT-70to100/',           \n",
       "│<span style=\"color: #008080; text-decoration-color: #008080; font-weight: bold\">                      </span>│ 'example-demo/cms_datasets/2016/DYJetsToLL_M-50_HT-100to200/',                            \n",
       "│<span style=\"color: #008080; text-decoration-color: #008080; font-weight: bold\">                      </span>│ 'example-demo/cms_datasets/2016/DYJetsToLL_M-50_HT-200to400/',                            \n",
       "│<span style=\"color: #008080; text-decoration-color: #008080; font-weight: bold\">                      </span>│ 'example-demo/cms_datasets/2016/DYJetsToLL_M-50_HT-400to600/',                            \n",
       "│<span style=\"color: #008080; text-decoration-color: #008080; font-weight: bold\">                      </span>│ 'example-demo/cms_datasets/2016/DYJetsToLL_M-50_HT-600to800/',                            \n",
       "│<span style=\"color: #008080; text-decoration-color: #008080; font-weight: bold\">                      </span>│ 'example-demo/cms_datasets/2016/DYJetsToLL_M-50_HT-800to1200/',                           \n",
       "│<span style=\"color: #008080; text-decoration-color: #008080; font-weight: bold\">                      </span>│ 'example-demo/cms_datasets/2016/DYJetsToLL_M-50_HT-1200to2500/',                          \n",
       "│<span style=\"color: #008080; text-decoration-color: #008080; font-weight: bold\">                      </span>│ 'example-demo/cms_datasets/2016/DYJetsToLL_M-50_HT-2500toInf/',                           \n",
       "│<span style=\"color: #008080; text-decoration-color: #008080; font-weight: bold\">                      </span>│ 'example-demo/cms_datasets/2017/DYJetsToLL_M-50_HT-70to100/',                             \n",
       "│<span style=\"color: #008080; text-decoration-color: #008080; font-weight: bold\">                      </span>│ 'example-demo/cms_datasets/2017/DYJetsToLL_M-50_HT-100to200/',                            \n",
       "│<span style=\"color: #008080; text-decoration-color: #008080; font-weight: bold\">                      </span>│ 'example-demo/cms_datasets/2017/DYJetsToLL_M-50_HT-200to400/',                            \n",
       "│<span style=\"color: #008080; text-decoration-color: #008080; font-weight: bold\">                      </span>│ 'example-demo/cms_datasets/2017/DYJetsToLL_M-50_HT-400to600/',                            \n",
       "│<span style=\"color: #008080; text-decoration-color: #008080; font-weight: bold\">                      </span>│ 'example-demo/cms_datasets/2017/DYJetsToLL_M-50_HT-600to800/',                            \n",
       "│<span style=\"color: #008080; text-decoration-color: #008080; font-weight: bold\">                      </span>│ 'example-demo/cms_datasets/2017/DYJetsToLL_M-50_HT-800to1200/',                           \n",
       "│<span style=\"color: #008080; text-decoration-color: #008080; font-weight: bold\">                      </span>│ 'example-demo/cms_datasets/2017/DYJetsToLL_M-50_HT-1200to2500/',                          \n",
       "│<span style=\"color: #008080; text-decoration-color: #008080; font-weight: bold\">                      </span>│ 'example-demo/cms_datasets/2017/DYJetsToLL_M-50_HT-2500toInf/',                           \n",
       "│<span style=\"color: #008080; text-decoration-color: #008080; font-weight: bold\">                      </span>│ 'example-demo/cms_datasets/2018/DYJetsToLL_M-50_HT-70to100/',                             \n",
       "│<span style=\"color: #008080; text-decoration-color: #008080; font-weight: bold\">                      </span>│ 'example-demo/cms_datasets/2018/DYJetsToLL_M-50_HT-100to200/',                            \n",
       "│<span style=\"color: #008080; text-decoration-color: #008080; font-weight: bold\">                      </span>│ 'example-demo/cms_datasets/2018/DYJetsToLL_M-50_HT-200to400/',                            \n",
       "│<span style=\"color: #008080; text-decoration-color: #008080; font-weight: bold\">                      </span>│ 'example-demo/cms_datasets/2018/DYJetsToLL_M-50_HT-400to600/',                            \n",
       "│<span style=\"color: #008080; text-decoration-color: #008080; font-weight: bold\">                      </span>│ 'example-demo/cms_datasets/2018/DYJetsToLL_M-50_HT-600to800/',                            \n",
       "│<span style=\"color: #008080; text-decoration-color: #008080; font-weight: bold\">                      </span>│ 'example-demo/cms_datasets/2018/DYJetsToLL_M-50_HT-800to1200/',                           \n",
       "│<span style=\"color: #008080; text-decoration-color: #008080; font-weight: bold\">                      </span>│ 'example-demo/cms_datasets/2018/DYJetsToLL_M-50_HT-1200to2500/',                          \n",
       "│<span style=\"color: #008080; text-decoration-color: #008080; font-weight: bold\">                      </span>│ 'example-demo/cms_datasets/2018/DYJetsToLL_M-50_HT-2500toInf/')                           \n",
       "│<span style=\"color: #008080; text-decoration-color: #008080; font-weight: bold\">                      </span>│     cross_sections: (140.1, 140.2, 38.399, 5.21278, 1.26567, 0.5684304, 0.1331514,        \n",
       "│<span style=\"color: #008080; text-decoration-color: #008080; font-weight: bold\">                      </span>│ 0.00297803565, 140.1, 140.2, 38.399, 5.21278, 1.26567, 0.5684304, 0.1331514, 0.00297803565\n",
       "│<span style=\"color: #008080; text-decoration-color: #008080; font-weight: bold\">                      </span>│ 140.1, 140.2, 38.399, 5.21278, 1.26567, 0.5684304, 0.1331514, 0.00297803565)              \n",
       "│<span style=\"color: #008080; text-decoration-color: #008080; font-weight: bold\">                      </span>│     file_pattern: '*.txt'                                                                 \n",
       "│<span style=\"color: #008080; text-decoration-color: #008080; font-weight: bold\">                      </span>│     tree_name: 'Events'                                                                   \n",
       "│<span style=\"color: #008080; text-decoration-color: #008080; font-weight: bold\">                      </span>│     weight_branch: 'genWeight'                                                            \n",
       "│<span style=\"color: #008080; text-decoration-color: #008080; font-weight: bold\">                      </span>│     redirector: 'root://xcache/'                                                          \n",
       "│<span style=\"color: #008080; text-decoration-color: #008080; font-weight: bold\">                      </span>│   }                                                                                       \n",
       "│<span style=\"color: #008080; text-decoration-color: #008080; font-weight: bold\">                      </span>│   [6]:                                                                                    \n",
       "│<span style=\"color: #008080; text-decoration-color: #008080; font-weight: bold\">                      </span>│ {                                                                                         \n",
       "│<span style=\"color: #008080; text-decoration-color: #008080; font-weight: bold\">                      </span>│     name: 'single_top'                                                                    \n",
       "│<span style=\"color: #008080; text-decoration-color: #008080; font-weight: bold\">                      </span>│     directories: ('example-demo/cms_datasets/2016/ST_s-channel_4f/',                      \n",
       "│<span style=\"color: #008080; text-decoration-color: #008080; font-weight: bold\">                      </span>│ 'example-demo/cms_datasets/2016/ST_t-channel_top_4f/',                                    \n",
       "│<span style=\"color: #008080; text-decoration-color: #008080; font-weight: bold\">                      </span>│ 'example-demo/cms_datasets/2016/ST_t-channel_antitop_4f/',                                \n",
       "│<span style=\"color: #008080; text-decoration-color: #008080; font-weight: bold\">                      </span>│ 'example-demo/cms_datasets/2016/ST_tW_top_5f/',                                           \n",
       "│<span style=\"color: #008080; text-decoration-color: #008080; font-weight: bold\">                      </span>│ 'example-demo/cms_datasets/2016/ST_tW_antitop_5f/',                                       \n",
       "│<span style=\"color: #008080; text-decoration-color: #008080; font-weight: bold\">                      </span>│ 'example-demo/cms_datasets/2017/ST_s-channel_4f/',                                        \n",
       "│<span style=\"color: #008080; text-decoration-color: #008080; font-weight: bold\">                      </span>│ 'example-demo/cms_datasets/2017/ST_t-channel_top_4f/',                                    \n",
       "│<span style=\"color: #008080; text-decoration-color: #008080; font-weight: bold\">                      </span>│ 'example-demo/cms_datasets/2017/ST_t-channel_antitop_4f/',                                \n",
       "│<span style=\"color: #008080; text-decoration-color: #008080; font-weight: bold\">                      </span>│ 'example-demo/cms_datasets/2017/ST_tW_top_5f/',                                           \n",
       "│<span style=\"color: #008080; text-decoration-color: #008080; font-weight: bold\">                      </span>│ 'example-demo/cms_datasets/2017/ST_tW_antitop_5f/',                                       \n",
       "│<span style=\"color: #008080; text-decoration-color: #008080; font-weight: bold\">                      </span>│ 'example-demo/cms_datasets/2018/ST_s-channel_4f/',                                        \n",
       "│<span style=\"color: #008080; text-decoration-color: #008080; font-weight: bold\">                      </span>│ 'example-demo/cms_datasets/2018/ST_t-channel_top_4f/',                                    \n",
       "│<span style=\"color: #008080; text-decoration-color: #008080; font-weight: bold\">                      </span>│ 'example-demo/cms_datasets/2018/ST_t-channel_antitop_4f/',                                \n",
       "│<span style=\"color: #008080; text-decoration-color: #008080; font-weight: bold\">                      </span>│ 'example-demo/cms_datasets/2018/ST_tW_top_5f/',                                           \n",
       "│<span style=\"color: #008080; text-decoration-color: #008080; font-weight: bold\">                      </span>│ 'example-demo/cms_datasets/2018/ST_tW_antitop_5f/')                                       \n",
       "│<span style=\"color: #008080; text-decoration-color: #008080; font-weight: bold\">                      </span>│     cross_sections: (3.36432, 136.02, 80.95, 19.46655, 19.46655, 3.36432, 136.02, 80.95,  \n",
       "│<span style=\"color: #008080; text-decoration-color: #008080; font-weight: bold\">                      </span>│ 19.46655, 19.46655, 3.36432, 136.02, 80.95, 19.46655, 19.46655)                           \n",
       "│<span style=\"color: #008080; text-decoration-color: #008080; font-weight: bold\">                      </span>│     file_pattern: '*.txt'                                                                 \n",
       "│<span style=\"color: #008080; text-decoration-color: #008080; font-weight: bold\">                      </span>│     tree_name: 'Events'                                                                   \n",
       "│<span style=\"color: #008080; text-decoration-color: #008080; font-weight: bold\">                      </span>│     weight_branch: 'genWeight'                                                            \n",
       "│<span style=\"color: #008080; text-decoration-color: #008080; font-weight: bold\">                      </span>│     redirector: 'root://xcache/'                                                          \n",
       "│<span style=\"color: #008080; text-decoration-color: #008080; font-weight: bold\">                      </span>│   }                                                                                       \n",
       "│<span style=\"color: #008080; text-decoration-color: #008080; font-weight: bold\">                      </span>│   [7]:                                                                                    \n",
       "│<span style=\"color: #008080; text-decoration-color: #008080; font-weight: bold\">                      </span>│ {                                                                                         \n",
       "│<span style=\"color: #008080; text-decoration-color: #008080; font-weight: bold\">                      </span>│     name: 'qcd'                                                                           \n",
       "│<span style=\"color: #008080; text-decoration-color: #008080; font-weight: bold\">                      </span>│     directories: ('example-demo/cms_datasets/2016/QCD_HT50to100/',                        \n",
       "│<span style=\"color: #008080; text-decoration-color: #008080; font-weight: bold\">                      </span>│ 'example-demo/cms_datasets/2016/QCD_HT100to200/',                                         \n",
       "│<span style=\"color: #008080; text-decoration-color: #008080; font-weight: bold\">                      </span>│ 'example-demo/cms_datasets/2016/QCD_HT200to300/',                                         \n",
       "│<span style=\"color: #008080; text-decoration-color: #008080; font-weight: bold\">                      </span>│ 'example-demo/cms_datasets/2016/QCD_HT300to500/',                                         \n",
       "│<span style=\"color: #008080; text-decoration-color: #008080; font-weight: bold\">                      </span>│ 'example-demo/cms_datasets/2016/QCD_HT500to700/',                                         \n",
       "│<span style=\"color: #008080; text-decoration-color: #008080; font-weight: bold\">                      </span>│ 'example-demo/cms_datasets/2016/QCD_HT700to1000/',                                        \n",
       "│<span style=\"color: #008080; text-decoration-color: #008080; font-weight: bold\">                      </span>│ 'example-demo/cms_datasets/2016/QCD_HT1000to1500/',                                       \n",
       "│<span style=\"color: #008080; text-decoration-color: #008080; font-weight: bold\">                      </span>│ 'example-demo/cms_datasets/2016/QCD_HT1500to2000/',                                       \n",
       "│<span style=\"color: #008080; text-decoration-color: #008080; font-weight: bold\">                      </span>│ 'example-demo/cms_datasets/2016/QCD_HT2000toInf/',                                        \n",
       "│<span style=\"color: #008080; text-decoration-color: #008080; font-weight: bold\">                      </span>│ 'example-demo/cms_datasets/2017/QCD_HT50to100/',                                          \n",
       "│<span style=\"color: #008080; text-decoration-color: #008080; font-weight: bold\">                      </span>│ 'example-demo/cms_datasets/2017/QCD_HT100to200/',                                         \n",
       "│<span style=\"color: #008080; text-decoration-color: #008080; font-weight: bold\">                      </span>│ 'example-demo/cms_datasets/2017/QCD_HT200to300/',                                         \n",
       "│<span style=\"color: #008080; text-decoration-color: #008080; font-weight: bold\">                      </span>│ 'example-demo/cms_datasets/2017/QCD_HT300to500/',                                         \n",
       "│<span style=\"color: #008080; text-decoration-color: #008080; font-weight: bold\">                      </span>│ 'example-demo/cms_datasets/2017/QCD_HT500to700/',                                         \n",
       "│<span style=\"color: #008080; text-decoration-color: #008080; font-weight: bold\">                      </span>│ 'example-demo/cms_datasets/2017/QCD_HT700to1000/',                                        \n",
       "│<span style=\"color: #008080; text-decoration-color: #008080; font-weight: bold\">                      </span>│ 'example-demo/cms_datasets/2017/QCD_HT1000to1500/',                                       \n",
       "│<span style=\"color: #008080; text-decoration-color: #008080; font-weight: bold\">                      </span>│ 'example-demo/cms_datasets/2017/QCD_HT1500to2000/',                                       \n",
       "│<span style=\"color: #008080; text-decoration-color: #008080; font-weight: bold\">                      </span>│ 'example-demo/cms_datasets/2017/QCD_HT2000toInf/',                                        \n",
       "│<span style=\"color: #008080; text-decoration-color: #008080; font-weight: bold\">                      </span>│ 'example-demo/cms_datasets/2018/QCD_HT50to100/',                                          \n",
       "│<span style=\"color: #008080; text-decoration-color: #008080; font-weight: bold\">                      </span>│ 'example-demo/cms_datasets/2018/QCD_HT100to200/',                                         \n",
       "│<span style=\"color: #008080; text-decoration-color: #008080; font-weight: bold\">                      </span>│ 'example-demo/cms_datasets/2018/QCD_HT200to300/',                                         \n",
       "│<span style=\"color: #008080; text-decoration-color: #008080; font-weight: bold\">                      </span>│ 'example-demo/cms_datasets/2018/QCD_HT300to500/',                                         \n",
       "│<span style=\"color: #008080; text-decoration-color: #008080; font-weight: bold\">                      </span>│ 'example-demo/cms_datasets/2018/QCD_HT500to700/',                                         \n",
       "│<span style=\"color: #008080; text-decoration-color: #008080; font-weight: bold\">                      </span>│ 'example-demo/cms_datasets/2018/QCD_HT700to1000/',                                        \n",
       "│<span style=\"color: #008080; text-decoration-color: #008080; font-weight: bold\">                      </span>│ 'example-demo/cms_datasets/2018/QCD_HT1000to1500/',                                       \n",
       "│<span style=\"color: #008080; text-decoration-color: #008080; font-weight: bold\">                      </span>│ 'example-demo/cms_datasets/2018/QCD_HT1500to2000/',                                       \n",
       "│<span style=\"color: #008080; text-decoration-color: #008080; font-weight: bold\">                      </span>│ 'example-demo/cms_datasets/2018/QCD_HT2000toInf/')                                        \n",
       "│<span style=\"color: #008080; text-decoration-color: #008080; font-weight: bold\">                      </span>│     cross_sections: (185900000.0, 23610000.0, 1551000.0, 324300.0, 30340.0, 6440.0, 1118.0\n",
       "│<span style=\"color: #008080; text-decoration-color: #008080; font-weight: bold\">                      </span>│ 108.0, 22.0, 185900000.0, 23610000.0, 1551000.0, 324300.0, 30340.0, 6440.0, 1118.0, 108.0,\n",
       "│<span style=\"color: #008080; text-decoration-color: #008080; font-weight: bold\">                      </span>│ 22.0, 185900000.0, 23610000.0, 1551000.0, 324300.0, 30340.0, 6440.0, 1118.0, 108.0, 22.0) \n",
       "│<span style=\"color: #008080; text-decoration-color: #008080; font-weight: bold\">                      </span>│     file_pattern: '*.txt'                                                                 \n",
       "│<span style=\"color: #008080; text-decoration-color: #008080; font-weight: bold\">                      </span>│     tree_name: 'Events'                                                                   \n",
       "│<span style=\"color: #008080; text-decoration-color: #008080; font-weight: bold\">                      </span>│     weight_branch: 'genWeight'                                                            \n",
       "│<span style=\"color: #008080; text-decoration-color: #008080; font-weight: bold\">                      </span>│     redirector: 'root://xcache/'                                                          \n",
       "│<span style=\"color: #008080; text-decoration-color: #008080; font-weight: bold\">                      </span>│   }                                                                                       \n",
       "│<span style=\"color: #008080; text-decoration-color: #008080; font-weight: bold\">                      </span>│   [8]:                                                                                    \n",
       "│<span style=\"color: #008080; text-decoration-color: #008080; font-weight: bold\">                      </span>│ {                                                                                         \n",
       "│<span style=\"color: #008080; text-decoration-color: #008080; font-weight: bold\">                      </span>│     name: 'diboson'                                                                       \n",
       "│<span style=\"color: #008080; text-decoration-color: #008080; font-weight: bold\">                      </span>│     directories: ('example-demo/cms_datasets/2016/WW/', 'example-demo/cms_datasets/2016/WZ\n",
       "│<span style=\"color: #008080; text-decoration-color: #008080; font-weight: bold\">                      </span>│ 'example-demo/cms_datasets/2016/ZZ/', 'example-demo/cms_datasets/2017/WW/',               \n",
       "│<span style=\"color: #008080; text-decoration-color: #008080; font-weight: bold\">                      </span>│ 'example-demo/cms_datasets/2017/WZ/', 'example-demo/cms_datasets/2017/ZZ/',               \n",
       "│<span style=\"color: #008080; text-decoration-color: #008080; font-weight: bold\">                      </span>│ 'example-demo/cms_datasets/2018/WW/', 'example-demo/cms_datasets/2018/WZ/',               \n",
       "│<span style=\"color: #008080; text-decoration-color: #008080; font-weight: bold\">                      </span>│ 'example-demo/cms_datasets/2018/ZZ/')                                                     \n",
       "│<span style=\"color: #008080; text-decoration-color: #008080; font-weight: bold\">                      </span>│     cross_sections: (118.7, 46.74, 16.91, 118.7, 46.74, 16.91, 118.7, 46.74, 16.91)       \n",
       "│<span style=\"color: #008080; text-decoration-color: #008080; font-weight: bold\">                      </span>│     file_pattern: '*.txt'                                                                 \n",
       "│<span style=\"color: #008080; text-decoration-color: #008080; font-weight: bold\">                      </span>│     tree_name: 'Events'                                                                   \n",
       "│<span style=\"color: #008080; text-decoration-color: #008080; font-weight: bold\">                      </span>│     weight_branch: 'genWeight'                                                            \n",
       "│<span style=\"color: #008080; text-decoration-color: #008080; font-weight: bold\">                      </span>│     redirector: 'root://xcache/'                                                          \n",
       "│<span style=\"color: #008080; text-decoration-color: #008080; font-weight: bold\">                      </span>│   }                                                                                       \n",
       "│<span style=\"color: #008080; text-decoration-color: #008080; font-weight: bold\">                      </span>│   [9]:                                                                                    \n",
       "│<span style=\"color: #008080; text-decoration-color: #008080; font-weight: bold\">                      </span>│ {                                                                                         \n",
       "│<span style=\"color: #008080; text-decoration-color: #008080; font-weight: bold\">                      </span>│     name: 'data'                                                                          \n",
       "│<span style=\"color: #008080; text-decoration-color: #008080; font-weight: bold\">                      </span>│     directories: ('example-demo/cms_datasets/2016/SingleMuonRunB/',                       \n",
       "│<span style=\"color: #008080; text-decoration-color: #008080; font-weight: bold\">                      </span>│ 'example-demo/cms_datasets/2016/SingleMuonRunC/',                                         \n",
       "│<span style=\"color: #008080; text-decoration-color: #008080; font-weight: bold\">                      </span>│ 'example-demo/cms_datasets/2016/SingleMuonRunD/',                                         \n",
       "│<span style=\"color: #008080; text-decoration-color: #008080; font-weight: bold\">                      </span>│ 'example-demo/cms_datasets/2016/SingleMuonRunE/',                                         \n",
       "│<span style=\"color: #008080; text-decoration-color: #008080; font-weight: bold\">                      </span>│ 'example-demo/cms_datasets/2016/SingleMuonRunF/',                                         \n",
       "│<span style=\"color: #008080; text-decoration-color: #008080; font-weight: bold\">                      </span>│ 'example-demo/cms_datasets/2017/SingleMuonRunB/',                                         \n",
       "│<span style=\"color: #008080; text-decoration-color: #008080; font-weight: bold\">                      </span>│ 'example-demo/cms_datasets/2017/SingleMuonRunC/',                                         \n",
       "│<span style=\"color: #008080; text-decoration-color: #008080; font-weight: bold\">                      </span>│ 'example-demo/cms_datasets/2017/SingleMuonRunD/',                                         \n",
       "│<span style=\"color: #008080; text-decoration-color: #008080; font-weight: bold\">                      </span>│ 'example-demo/cms_datasets/2017/SingleMuonRunE/',                                         \n",
       "│<span style=\"color: #008080; text-decoration-color: #008080; font-weight: bold\">                      </span>│ 'example-demo/cms_datasets/2017/SingleMuonRunF/',                                         \n",
       "│<span style=\"color: #008080; text-decoration-color: #008080; font-weight: bold\">                      </span>│ 'example-demo/cms_datasets/2018/SingleMuonRunA/',                                         \n",
       "│<span style=\"color: #008080; text-decoration-color: #008080; font-weight: bold\">                      </span>│ 'example-demo/cms_datasets/2018/SingleMuonRunB/',                                         \n",
       "│<span style=\"color: #008080; text-decoration-color: #008080; font-weight: bold\">                      </span>│ 'example-demo/cms_datasets/2018/SingleMuonRunC/',                                         \n",
       "│<span style=\"color: #008080; text-decoration-color: #008080; font-weight: bold\">                      </span>│ 'example-demo/cms_datasets/2018/SingleMuonRunD/')                                         \n",
       "│<span style=\"color: #008080; text-decoration-color: #008080; font-weight: bold\">                      </span>│     cross_sections: 1.0                                                                   \n",
       "│<span style=\"color: #008080; text-decoration-color: #008080; font-weight: bold\">                      </span>│     file_pattern: '*.txt'                                                                 \n",
       "│<span style=\"color: #008080; text-decoration-color: #008080; font-weight: bold\">                      </span>│     tree_name: 'Events'                                                                   \n",
       "│<span style=\"color: #008080; text-decoration-color: #008080; font-weight: bold\">                      </span>│     weight_branch: None                                                                   \n",
       "│<span style=\"color: #008080; text-decoration-color: #008080; font-weight: bold\">                      </span>│     redirector: 'root://xcache/'                                                          \n",
       "│<span style=\"color: #008080; text-decoration-color: #008080; font-weight: bold\">                      </span>│   }                                                                                       \n",
       "│<span style=\"color: #008080; text-decoration-color: #008080; font-weight: bold\">                      </span>│ ]                                                                                         \n",
       "│<span style=\"color: #008080; text-decoration-color: #008080; font-weight: bold\"> max_files            </span>│ None                                                                                      \n",
       "└──────────────────────┴───────────────────────────────────────────────────────────────────────────────────────────\n",
       "</pre>\n"
      ],
      "text/plain": [
       "\u001b[3m                                                Configuration: DATASETS                                            \u001b[0m\n",
       "┏━━━━━━━━━━━━━━━━━━━━━━┳━━━━━━━━━━━━━━━━━━━━━━━━━━━━━━━━━━━━━━━━━━━━━━━━━━━━━━━━━━━━━━━━━━━━━━━━━━━━━━━━━━━━━━━━━━━\n",
       "┃\u001b[1m \u001b[0m\u001b[1mKey                 \u001b[0m\u001b[1m \u001b[0m┃\u001b[1m \u001b[0m\u001b[1mValue                                                                                     \u001b[0m\n",
       "┡━━━━━━━━━━━━━━━━━━━━━━╇━━━━━━━━━━━━━━━━━━━━━━━━━━━━━━━━━━━━━━━━━━━━━━━━━━━━━━━━━━━━━━━━━━━━━━━━━━━━━━━━━━━━━━━━━━━\n",
       "│\u001b[1;36m \u001b[0m\u001b[1;36mdatasets            \u001b[0m\u001b[1;36m \u001b[0m│ [                                                                                         \n",
       "│\u001b[1;36m                      \u001b[0m│   [0]:                                                                                    \n",
       "│\u001b[1;36m                      \u001b[0m│ {                                                                                         \n",
       "│\u001b[1;36m                      \u001b[0m│     name: 'signal'                                                                        \n",
       "│\u001b[1;36m                      \u001b[0m│     directories: ('example-demo/cms_datasets/2016/ZPrimeToTT_M2000_W200/',                \n",
       "│\u001b[1;36m                      \u001b[0m│ 'example-demo/cms_datasets/2017/ZPrimeToTT_M2000_W200/',                                  \n",
       "│\u001b[1;36m                      \u001b[0m│ 'example-demo/cms_datasets/2018/ZPrimeToTT_M2000_W200/')                                  \n",
       "│\u001b[1;36m                      \u001b[0m│     cross_sections: (0.01895, 0.01895, 0.01895)                                           \n",
       "│\u001b[1;36m                      \u001b[0m│     file_pattern: '*.txt'                                                                 \n",
       "│\u001b[1;36m                      \u001b[0m│     tree_name: 'Events'                                                                   \n",
       "│\u001b[1;36m                      \u001b[0m│     weight_branch: 'genWeight'                                                            \n",
       "│\u001b[1;36m                      \u001b[0m│     redirector: 'root://xcache/'                                                          \n",
       "│\u001b[1;36m                      \u001b[0m│   }                                                                                       \n",
       "│\u001b[1;36m                      \u001b[0m│   [1]:                                                                                    \n",
       "│\u001b[1;36m                      \u001b[0m│ {                                                                                         \n",
       "│\u001b[1;36m                      \u001b[0m│     name: 'ttbar_semilep'                                                                 \n",
       "│\u001b[1;36m                      \u001b[0m│     directories: ('example-demo/cms_datasets/2016/TTToSemiLeptonic/',                     \n",
       "│\u001b[1;36m                      \u001b[0m│ 'example-demo/cms_datasets/2017/TTToSemiLeptonic/',                                       \n",
       "│\u001b[1;36m                      \u001b[0m│ 'example-demo/cms_datasets/2018/TTToSemiLeptonic/')                                       \n",
       "│\u001b[1;36m                      \u001b[0m│     cross_sections: (364.31, 364.31, 364.31)                                              \n",
       "│\u001b[1;36m                      \u001b[0m│     file_pattern: '*.txt'                                                                 \n",
       "│\u001b[1;36m                      \u001b[0m│     tree_name: 'Events'                                                                   \n",
       "│\u001b[1;36m                      \u001b[0m│     weight_branch: 'genWeight'                                                            \n",
       "│\u001b[1;36m                      \u001b[0m│     redirector: 'root://xcache/'                                                          \n",
       "│\u001b[1;36m                      \u001b[0m│   }                                                                                       \n",
       "│\u001b[1;36m                      \u001b[0m│   [2]:                                                                                    \n",
       "│\u001b[1;36m                      \u001b[0m│ {                                                                                         \n",
       "│\u001b[1;36m                      \u001b[0m│     name: 'ttbar_had'                                                                     \n",
       "│\u001b[1;36m                      \u001b[0m│     directories: ('example-demo/cms_datasets/2016/TTToHadronic/',                         \n",
       "│\u001b[1;36m                      \u001b[0m│ 'example-demo/cms_datasets/2017/TTToHadronic/',                                           \n",
       "│\u001b[1;36m                      \u001b[0m│ 'example-demo/cms_datasets/2018/TTToHadronic/')                                           \n",
       "│\u001b[1;36m                      \u001b[0m│     cross_sections: (380.11, 380.11, 380.11)                                              \n",
       "│\u001b[1;36m                      \u001b[0m│     file_pattern: '*.txt'                                                                 \n",
       "│\u001b[1;36m                      \u001b[0m│     tree_name: 'Events'                                                                   \n",
       "│\u001b[1;36m                      \u001b[0m│     weight_branch: 'genWeight'                                                            \n",
       "│\u001b[1;36m                      \u001b[0m│     redirector: 'root://xcache/'                                                          \n",
       "│\u001b[1;36m                      \u001b[0m│   }                                                                                       \n",
       "│\u001b[1;36m                      \u001b[0m│   [3]:                                                                                    \n",
       "│\u001b[1;36m                      \u001b[0m│ {                                                                                         \n",
       "│\u001b[1;36m                      \u001b[0m│     name: 'ttbar_lep'                                                                     \n",
       "│\u001b[1;36m                      \u001b[0m│     directories: ('example-demo/cms_datasets/2016/TTTo2L2Nu/',                            \n",
       "│\u001b[1;36m                      \u001b[0m│ 'example-demo/cms_datasets/2017/TTTo2L2Nu/', 'example-demo/cms_datasets/2018/TTTo2L2Nu/') \n",
       "│\u001b[1;36m                      \u001b[0m│     cross_sections: (87.33, 87.33, 87.33)                                                 \n",
       "│\u001b[1;36m                      \u001b[0m│     file_pattern: '*.txt'                                                                 \n",
       "│\u001b[1;36m                      \u001b[0m│     tree_name: 'Events'                                                                   \n",
       "│\u001b[1;36m                      \u001b[0m│     weight_branch: 'genWeight'                                                            \n",
       "│\u001b[1;36m                      \u001b[0m│     redirector: 'root://xcache/'                                                          \n",
       "│\u001b[1;36m                      \u001b[0m│   }                                                                                       \n",
       "│\u001b[1;36m                      \u001b[0m│   [4]:                                                                                    \n",
       "│\u001b[1;36m                      \u001b[0m│ {                                                                                         \n",
       "│\u001b[1;36m                      \u001b[0m│     name: 'wjets'                                                                         \n",
       "│\u001b[1;36m                      \u001b[0m│     directories: ('example-demo/cms_datasets/2016/WJetsToLNu_HT-70To100/',                \n",
       "│\u001b[1;36m                      \u001b[0m│ 'example-demo/cms_datasets/2016/WJetsToLNu_HT-100To200/',                                 \n",
       "│\u001b[1;36m                      \u001b[0m│ 'example-demo/cms_datasets/2016/WJetsToLNu_HT-200To400/',                                 \n",
       "│\u001b[1;36m                      \u001b[0m│ 'example-demo/cms_datasets/2016/WJetsToLNu_HT-400To600/',                                 \n",
       "│\u001b[1;36m                      \u001b[0m│ 'example-demo/cms_datasets/2016/WJetsToLNu_HT-600To800/',                                 \n",
       "│\u001b[1;36m                      \u001b[0m│ 'example-demo/cms_datasets/2016/WJetsToLNu_HT-800To1200/',                                \n",
       "│\u001b[1;36m                      \u001b[0m│ 'example-demo/cms_datasets/2016/WJetsToLNu_HT-1200To2500/',                               \n",
       "│\u001b[1;36m                      \u001b[0m│ 'example-demo/cms_datasets/2016/WJetsToLNu_HT-2500ToInf/',                                \n",
       "│\u001b[1;36m                      \u001b[0m│ 'example-demo/cms_datasets/2017/WJetsToLNu_HT-70To100/',                                  \n",
       "│\u001b[1;36m                      \u001b[0m│ 'example-demo/cms_datasets/2017/WJetsToLNu_HT-100To200/',                                 \n",
       "│\u001b[1;36m                      \u001b[0m│ 'example-demo/cms_datasets/2017/WJetsToLNu_HT-200To400/',                                 \n",
       "│\u001b[1;36m                      \u001b[0m│ 'example-demo/cms_datasets/2017/WJetsToLNu_HT-400To600/',                                 \n",
       "│\u001b[1;36m                      \u001b[0m│ 'example-demo/cms_datasets/2017/WJetsToLNu_HT-600To800/',                                 \n",
       "│\u001b[1;36m                      \u001b[0m│ 'example-demo/cms_datasets/2017/WJetsToLNu_HT-800To1200/',                                \n",
       "│\u001b[1;36m                      \u001b[0m│ 'example-demo/cms_datasets/2017/WJetsToLNu_HT-1200To2500/',                               \n",
       "│\u001b[1;36m                      \u001b[0m│ 'example-demo/cms_datasets/2017/WJetsToLNu_HT-2500ToInf/',                                \n",
       "│\u001b[1;36m                      \u001b[0m│ 'example-demo/cms_datasets/2018/WJetsToLNu_HT-70To100/',                                  \n",
       "│\u001b[1;36m                      \u001b[0m│ 'example-demo/cms_datasets/2018/WJetsToLNu_HT-100To200/',                                 \n",
       "│\u001b[1;36m                      \u001b[0m│ 'example-demo/cms_datasets/2018/WJetsToLNu_HT-200To400/',                                 \n",
       "│\u001b[1;36m                      \u001b[0m│ 'example-demo/cms_datasets/2018/WJetsToLNu_HT-400To600/',                                 \n",
       "│\u001b[1;36m                      \u001b[0m│ 'example-demo/cms_datasets/2018/WJetsToLNu_HT-600To800/',                                 \n",
       "│\u001b[1;36m                      \u001b[0m│ 'example-demo/cms_datasets/2018/WJetsToLNu_HT-800To1200/',                                \n",
       "│\u001b[1;36m                      \u001b[0m│ 'example-demo/cms_datasets/2018/WJetsToLNu_HT-1200To2500/',                               \n",
       "│\u001b[1;36m                      \u001b[0m│ 'example-demo/cms_datasets/2018/WJetsToLNu_HT-2500ToInf/')                                \n",
       "│\u001b[1;36m                      \u001b[0m│     cross_sections: (1271.0, 1253.0, 335.9, 45.21, 10.99, 4.936, 1.156, 0.02623, 1271.0,  \n",
       "│\u001b[1;36m                      \u001b[0m│ 1253.0, 335.9, 45.21, 10.99, 4.936, 1.156, 0.02623, 1271.0, 1253.0, 335.9, 45.21, 10.99,  \n",
       "│\u001b[1;36m                      \u001b[0m│ 4.936, 1.156, 0.02623)                                                                    \n",
       "│\u001b[1;36m                      \u001b[0m│     file_pattern: '*.txt'                                                                 \n",
       "│\u001b[1;36m                      \u001b[0m│     tree_name: 'Events'                                                                   \n",
       "│\u001b[1;36m                      \u001b[0m│     weight_branch: 'genWeight'                                                            \n",
       "│\u001b[1;36m                      \u001b[0m│     redirector: 'root://xcache/'                                                          \n",
       "│\u001b[1;36m                      \u001b[0m│   }                                                                                       \n",
       "│\u001b[1;36m                      \u001b[0m│   [5]:                                                                                    \n",
       "│\u001b[1;36m                      \u001b[0m│ {                                                                                         \n",
       "│\u001b[1;36m                      \u001b[0m│     name: 'dyjets'                                                                        \n",
       "│\u001b[1;36m                      \u001b[0m│     directories: ('example-demo/cms_datasets/2016/DYJetsToLL_M-50_HT-70to100/',           \n",
       "│\u001b[1;36m                      \u001b[0m│ 'example-demo/cms_datasets/2016/DYJetsToLL_M-50_HT-100to200/',                            \n",
       "│\u001b[1;36m                      \u001b[0m│ 'example-demo/cms_datasets/2016/DYJetsToLL_M-50_HT-200to400/',                            \n",
       "│\u001b[1;36m                      \u001b[0m│ 'example-demo/cms_datasets/2016/DYJetsToLL_M-50_HT-400to600/',                            \n",
       "│\u001b[1;36m                      \u001b[0m│ 'example-demo/cms_datasets/2016/DYJetsToLL_M-50_HT-600to800/',                            \n",
       "│\u001b[1;36m                      \u001b[0m│ 'example-demo/cms_datasets/2016/DYJetsToLL_M-50_HT-800to1200/',                           \n",
       "│\u001b[1;36m                      \u001b[0m│ 'example-demo/cms_datasets/2016/DYJetsToLL_M-50_HT-1200to2500/',                          \n",
       "│\u001b[1;36m                      \u001b[0m│ 'example-demo/cms_datasets/2016/DYJetsToLL_M-50_HT-2500toInf/',                           \n",
       "│\u001b[1;36m                      \u001b[0m│ 'example-demo/cms_datasets/2017/DYJetsToLL_M-50_HT-70to100/',                             \n",
       "│\u001b[1;36m                      \u001b[0m│ 'example-demo/cms_datasets/2017/DYJetsToLL_M-50_HT-100to200/',                            \n",
       "│\u001b[1;36m                      \u001b[0m│ 'example-demo/cms_datasets/2017/DYJetsToLL_M-50_HT-200to400/',                            \n",
       "│\u001b[1;36m                      \u001b[0m│ 'example-demo/cms_datasets/2017/DYJetsToLL_M-50_HT-400to600/',                            \n",
       "│\u001b[1;36m                      \u001b[0m│ 'example-demo/cms_datasets/2017/DYJetsToLL_M-50_HT-600to800/',                            \n",
       "│\u001b[1;36m                      \u001b[0m│ 'example-demo/cms_datasets/2017/DYJetsToLL_M-50_HT-800to1200/',                           \n",
       "│\u001b[1;36m                      \u001b[0m│ 'example-demo/cms_datasets/2017/DYJetsToLL_M-50_HT-1200to2500/',                          \n",
       "│\u001b[1;36m                      \u001b[0m│ 'example-demo/cms_datasets/2017/DYJetsToLL_M-50_HT-2500toInf/',                           \n",
       "│\u001b[1;36m                      \u001b[0m│ 'example-demo/cms_datasets/2018/DYJetsToLL_M-50_HT-70to100/',                             \n",
       "│\u001b[1;36m                      \u001b[0m│ 'example-demo/cms_datasets/2018/DYJetsToLL_M-50_HT-100to200/',                            \n",
       "│\u001b[1;36m                      \u001b[0m│ 'example-demo/cms_datasets/2018/DYJetsToLL_M-50_HT-200to400/',                            \n",
       "│\u001b[1;36m                      \u001b[0m│ 'example-demo/cms_datasets/2018/DYJetsToLL_M-50_HT-400to600/',                            \n",
       "│\u001b[1;36m                      \u001b[0m│ 'example-demo/cms_datasets/2018/DYJetsToLL_M-50_HT-600to800/',                            \n",
       "│\u001b[1;36m                      \u001b[0m│ 'example-demo/cms_datasets/2018/DYJetsToLL_M-50_HT-800to1200/',                           \n",
       "│\u001b[1;36m                      \u001b[0m│ 'example-demo/cms_datasets/2018/DYJetsToLL_M-50_HT-1200to2500/',                          \n",
       "│\u001b[1;36m                      \u001b[0m│ 'example-demo/cms_datasets/2018/DYJetsToLL_M-50_HT-2500toInf/')                           \n",
       "│\u001b[1;36m                      \u001b[0m│     cross_sections: (140.1, 140.2, 38.399, 5.21278, 1.26567, 0.5684304, 0.1331514,        \n",
       "│\u001b[1;36m                      \u001b[0m│ 0.00297803565, 140.1, 140.2, 38.399, 5.21278, 1.26567, 0.5684304, 0.1331514, 0.00297803565\n",
       "│\u001b[1;36m                      \u001b[0m│ 140.1, 140.2, 38.399, 5.21278, 1.26567, 0.5684304, 0.1331514, 0.00297803565)              \n",
       "│\u001b[1;36m                      \u001b[0m│     file_pattern: '*.txt'                                                                 \n",
       "│\u001b[1;36m                      \u001b[0m│     tree_name: 'Events'                                                                   \n",
       "│\u001b[1;36m                      \u001b[0m│     weight_branch: 'genWeight'                                                            \n",
       "│\u001b[1;36m                      \u001b[0m│     redirector: 'root://xcache/'                                                          \n",
       "│\u001b[1;36m                      \u001b[0m│   }                                                                                       \n",
       "│\u001b[1;36m                      \u001b[0m│   [6]:                                                                                    \n",
       "│\u001b[1;36m                      \u001b[0m│ {                                                                                         \n",
       "│\u001b[1;36m                      \u001b[0m│     name: 'single_top'                                                                    \n",
       "│\u001b[1;36m                      \u001b[0m│     directories: ('example-demo/cms_datasets/2016/ST_s-channel_4f/',                      \n",
       "│\u001b[1;36m                      \u001b[0m│ 'example-demo/cms_datasets/2016/ST_t-channel_top_4f/',                                    \n",
       "│\u001b[1;36m                      \u001b[0m│ 'example-demo/cms_datasets/2016/ST_t-channel_antitop_4f/',                                \n",
       "│\u001b[1;36m                      \u001b[0m│ 'example-demo/cms_datasets/2016/ST_tW_top_5f/',                                           \n",
       "│\u001b[1;36m                      \u001b[0m│ 'example-demo/cms_datasets/2016/ST_tW_antitop_5f/',                                       \n",
       "│\u001b[1;36m                      \u001b[0m│ 'example-demo/cms_datasets/2017/ST_s-channel_4f/',                                        \n",
       "│\u001b[1;36m                      \u001b[0m│ 'example-demo/cms_datasets/2017/ST_t-channel_top_4f/',                                    \n",
       "│\u001b[1;36m                      \u001b[0m│ 'example-demo/cms_datasets/2017/ST_t-channel_antitop_4f/',                                \n",
       "│\u001b[1;36m                      \u001b[0m│ 'example-demo/cms_datasets/2017/ST_tW_top_5f/',                                           \n",
       "│\u001b[1;36m                      \u001b[0m│ 'example-demo/cms_datasets/2017/ST_tW_antitop_5f/',                                       \n",
       "│\u001b[1;36m                      \u001b[0m│ 'example-demo/cms_datasets/2018/ST_s-channel_4f/',                                        \n",
       "│\u001b[1;36m                      \u001b[0m│ 'example-demo/cms_datasets/2018/ST_t-channel_top_4f/',                                    \n",
       "│\u001b[1;36m                      \u001b[0m│ 'example-demo/cms_datasets/2018/ST_t-channel_antitop_4f/',                                \n",
       "│\u001b[1;36m                      \u001b[0m│ 'example-demo/cms_datasets/2018/ST_tW_top_5f/',                                           \n",
       "│\u001b[1;36m                      \u001b[0m│ 'example-demo/cms_datasets/2018/ST_tW_antitop_5f/')                                       \n",
       "│\u001b[1;36m                      \u001b[0m│     cross_sections: (3.36432, 136.02, 80.95, 19.46655, 19.46655, 3.36432, 136.02, 80.95,  \n",
       "│\u001b[1;36m                      \u001b[0m│ 19.46655, 19.46655, 3.36432, 136.02, 80.95, 19.46655, 19.46655)                           \n",
       "│\u001b[1;36m                      \u001b[0m│     file_pattern: '*.txt'                                                                 \n",
       "│\u001b[1;36m                      \u001b[0m│     tree_name: 'Events'                                                                   \n",
       "│\u001b[1;36m                      \u001b[0m│     weight_branch: 'genWeight'                                                            \n",
       "│\u001b[1;36m                      \u001b[0m│     redirector: 'root://xcache/'                                                          \n",
       "│\u001b[1;36m                      \u001b[0m│   }                                                                                       \n",
       "│\u001b[1;36m                      \u001b[0m│   [7]:                                                                                    \n",
       "│\u001b[1;36m                      \u001b[0m│ {                                                                                         \n",
       "│\u001b[1;36m                      \u001b[0m│     name: 'qcd'                                                                           \n",
       "│\u001b[1;36m                      \u001b[0m│     directories: ('example-demo/cms_datasets/2016/QCD_HT50to100/',                        \n",
       "│\u001b[1;36m                      \u001b[0m│ 'example-demo/cms_datasets/2016/QCD_HT100to200/',                                         \n",
       "│\u001b[1;36m                      \u001b[0m│ 'example-demo/cms_datasets/2016/QCD_HT200to300/',                                         \n",
       "│\u001b[1;36m                      \u001b[0m│ 'example-demo/cms_datasets/2016/QCD_HT300to500/',                                         \n",
       "│\u001b[1;36m                      \u001b[0m│ 'example-demo/cms_datasets/2016/QCD_HT500to700/',                                         \n",
       "│\u001b[1;36m                      \u001b[0m│ 'example-demo/cms_datasets/2016/QCD_HT700to1000/',                                        \n",
       "│\u001b[1;36m                      \u001b[0m│ 'example-demo/cms_datasets/2016/QCD_HT1000to1500/',                                       \n",
       "│\u001b[1;36m                      \u001b[0m│ 'example-demo/cms_datasets/2016/QCD_HT1500to2000/',                                       \n",
       "│\u001b[1;36m                      \u001b[0m│ 'example-demo/cms_datasets/2016/QCD_HT2000toInf/',                                        \n",
       "│\u001b[1;36m                      \u001b[0m│ 'example-demo/cms_datasets/2017/QCD_HT50to100/',                                          \n",
       "│\u001b[1;36m                      \u001b[0m│ 'example-demo/cms_datasets/2017/QCD_HT100to200/',                                         \n",
       "│\u001b[1;36m                      \u001b[0m│ 'example-demo/cms_datasets/2017/QCD_HT200to300/',                                         \n",
       "│\u001b[1;36m                      \u001b[0m│ 'example-demo/cms_datasets/2017/QCD_HT300to500/',                                         \n",
       "│\u001b[1;36m                      \u001b[0m│ 'example-demo/cms_datasets/2017/QCD_HT500to700/',                                         \n",
       "│\u001b[1;36m                      \u001b[0m│ 'example-demo/cms_datasets/2017/QCD_HT700to1000/',                                        \n",
       "│\u001b[1;36m                      \u001b[0m│ 'example-demo/cms_datasets/2017/QCD_HT1000to1500/',                                       \n",
       "│\u001b[1;36m                      \u001b[0m│ 'example-demo/cms_datasets/2017/QCD_HT1500to2000/',                                       \n",
       "│\u001b[1;36m                      \u001b[0m│ 'example-demo/cms_datasets/2017/QCD_HT2000toInf/',                                        \n",
       "│\u001b[1;36m                      \u001b[0m│ 'example-demo/cms_datasets/2018/QCD_HT50to100/',                                          \n",
       "│\u001b[1;36m                      \u001b[0m│ 'example-demo/cms_datasets/2018/QCD_HT100to200/',                                         \n",
       "│\u001b[1;36m                      \u001b[0m│ 'example-demo/cms_datasets/2018/QCD_HT200to300/',                                         \n",
       "│\u001b[1;36m                      \u001b[0m│ 'example-demo/cms_datasets/2018/QCD_HT300to500/',                                         \n",
       "│\u001b[1;36m                      \u001b[0m│ 'example-demo/cms_datasets/2018/QCD_HT500to700/',                                         \n",
       "│\u001b[1;36m                      \u001b[0m│ 'example-demo/cms_datasets/2018/QCD_HT700to1000/',                                        \n",
       "│\u001b[1;36m                      \u001b[0m│ 'example-demo/cms_datasets/2018/QCD_HT1000to1500/',                                       \n",
       "│\u001b[1;36m                      \u001b[0m│ 'example-demo/cms_datasets/2018/QCD_HT1500to2000/',                                       \n",
       "│\u001b[1;36m                      \u001b[0m│ 'example-demo/cms_datasets/2018/QCD_HT2000toInf/')                                        \n",
       "│\u001b[1;36m                      \u001b[0m│     cross_sections: (185900000.0, 23610000.0, 1551000.0, 324300.0, 30340.0, 6440.0, 1118.0\n",
       "│\u001b[1;36m                      \u001b[0m│ 108.0, 22.0, 185900000.0, 23610000.0, 1551000.0, 324300.0, 30340.0, 6440.0, 1118.0, 108.0,\n",
       "│\u001b[1;36m                      \u001b[0m│ 22.0, 185900000.0, 23610000.0, 1551000.0, 324300.0, 30340.0, 6440.0, 1118.0, 108.0, 22.0) \n",
       "│\u001b[1;36m                      \u001b[0m│     file_pattern: '*.txt'                                                                 \n",
       "│\u001b[1;36m                      \u001b[0m│     tree_name: 'Events'                                                                   \n",
       "│\u001b[1;36m                      \u001b[0m│     weight_branch: 'genWeight'                                                            \n",
       "│\u001b[1;36m                      \u001b[0m│     redirector: 'root://xcache/'                                                          \n",
       "│\u001b[1;36m                      \u001b[0m│   }                                                                                       \n",
       "│\u001b[1;36m                      \u001b[0m│   [8]:                                                                                    \n",
       "│\u001b[1;36m                      \u001b[0m│ {                                                                                         \n",
       "│\u001b[1;36m                      \u001b[0m│     name: 'diboson'                                                                       \n",
       "│\u001b[1;36m                      \u001b[0m│     directories: ('example-demo/cms_datasets/2016/WW/', 'example-demo/cms_datasets/2016/WZ\n",
       "│\u001b[1;36m                      \u001b[0m│ 'example-demo/cms_datasets/2016/ZZ/', 'example-demo/cms_datasets/2017/WW/',               \n",
       "│\u001b[1;36m                      \u001b[0m│ 'example-demo/cms_datasets/2017/WZ/', 'example-demo/cms_datasets/2017/ZZ/',               \n",
       "│\u001b[1;36m                      \u001b[0m│ 'example-demo/cms_datasets/2018/WW/', 'example-demo/cms_datasets/2018/WZ/',               \n",
       "│\u001b[1;36m                      \u001b[0m│ 'example-demo/cms_datasets/2018/ZZ/')                                                     \n",
       "│\u001b[1;36m                      \u001b[0m│     cross_sections: (118.7, 46.74, 16.91, 118.7, 46.74, 16.91, 118.7, 46.74, 16.91)       \n",
       "│\u001b[1;36m                      \u001b[0m│     file_pattern: '*.txt'                                                                 \n",
       "│\u001b[1;36m                      \u001b[0m│     tree_name: 'Events'                                                                   \n",
       "│\u001b[1;36m                      \u001b[0m│     weight_branch: 'genWeight'                                                            \n",
       "│\u001b[1;36m                      \u001b[0m│     redirector: 'root://xcache/'                                                          \n",
       "│\u001b[1;36m                      \u001b[0m│   }                                                                                       \n",
       "│\u001b[1;36m                      \u001b[0m│   [9]:                                                                                    \n",
       "│\u001b[1;36m                      \u001b[0m│ {                                                                                         \n",
       "│\u001b[1;36m                      \u001b[0m│     name: 'data'                                                                          \n",
       "│\u001b[1;36m                      \u001b[0m│     directories: ('example-demo/cms_datasets/2016/SingleMuonRunB/',                       \n",
       "│\u001b[1;36m                      \u001b[0m│ 'example-demo/cms_datasets/2016/SingleMuonRunC/',                                         \n",
       "│\u001b[1;36m                      \u001b[0m│ 'example-demo/cms_datasets/2016/SingleMuonRunD/',                                         \n",
       "│\u001b[1;36m                      \u001b[0m│ 'example-demo/cms_datasets/2016/SingleMuonRunE/',                                         \n",
       "│\u001b[1;36m                      \u001b[0m│ 'example-demo/cms_datasets/2016/SingleMuonRunF/',                                         \n",
       "│\u001b[1;36m                      \u001b[0m│ 'example-demo/cms_datasets/2017/SingleMuonRunB/',                                         \n",
       "│\u001b[1;36m                      \u001b[0m│ 'example-demo/cms_datasets/2017/SingleMuonRunC/',                                         \n",
       "│\u001b[1;36m                      \u001b[0m│ 'example-demo/cms_datasets/2017/SingleMuonRunD/',                                         \n",
       "│\u001b[1;36m                      \u001b[0m│ 'example-demo/cms_datasets/2017/SingleMuonRunE/',                                         \n",
       "│\u001b[1;36m                      \u001b[0m│ 'example-demo/cms_datasets/2017/SingleMuonRunF/',                                         \n",
       "│\u001b[1;36m                      \u001b[0m│ 'example-demo/cms_datasets/2018/SingleMuonRunA/',                                         \n",
       "│\u001b[1;36m                      \u001b[0m│ 'example-demo/cms_datasets/2018/SingleMuonRunB/',                                         \n",
       "│\u001b[1;36m                      \u001b[0m│ 'example-demo/cms_datasets/2018/SingleMuonRunC/',                                         \n",
       "│\u001b[1;36m                      \u001b[0m│ 'example-demo/cms_datasets/2018/SingleMuonRunD/')                                         \n",
       "│\u001b[1;36m                      \u001b[0m│     cross_sections: 1.0                                                                   \n",
       "│\u001b[1;36m                      \u001b[0m│     file_pattern: '*.txt'                                                                 \n",
       "│\u001b[1;36m                      \u001b[0m│     tree_name: 'Events'                                                                   \n",
       "│\u001b[1;36m                      \u001b[0m│     weight_branch: None                                                                   \n",
       "│\u001b[1;36m                      \u001b[0m│     redirector: 'root://xcache/'                                                          \n",
       "│\u001b[1;36m                      \u001b[0m│   }                                                                                       \n",
       "│\u001b[1;36m                      \u001b[0m│ ]                                                                                         \n",
       "│\u001b[1;36m \u001b[0m\u001b[1;36mmax_files           \u001b[0m\u001b[1;36m \u001b[0m│ None                                                                                      \n",
       "└──────────────────────┴───────────────────────────────────────────────────────────────────────────────────────────\n"
      ]
     },
     "metadata": {},
     "output_type": "display_data"
    }
   ],
   "source": [
    "# Let's look at the datasets config\n",
    "display_config_table({\"datasets\": config[\"datasets\"]},\n",
    "                    expand=True)"
   ]
  },
  {
   "cell_type": "code",
   "execution_count": 6,
   "id": "d30b2785-4e3e-46dd-a9fa-158fa7dd32ce",
   "metadata": {},
   "outputs": [
    {
     "name": "stdout",
     "output_type": "stream",
     "text": [
      "=== SHOW ONLY CHANGES ===\n"
     ]
    },
    {
     "data": {
      "text/html": [
       "<pre style=\"white-space:pre;overflow-x:auto;line-height:normal;font-family:Menlo,'DejaVu Sans Mono',consolas,'Courier New',monospace\"><span style=\"font-style: italic\">                                          Configuration: DATASETS </span><span style=\"color: #808000; text-decoration-color: #808000; font-style: italic\">(1 changes)</span><span style=\"font-style: italic\">                                      </span>\n",
       "┏━━━━━━━━━━━━━━━━━━━━━━━━━━━━┳━━━━━━━━━━━━━━━━━━━━━━━━━━━━━━━━━━━━━━━━━━━━━━━━━━━━━━━━━━━━━━━━━━━━━┳━━━━━━━━━━━━━━━\n",
       "┃<span style=\"font-weight: bold\"> Key                        </span>┃<span style=\"font-weight: bold\"> Value                                                               </span>┃<span style=\"font-weight: bold\">      Status   </span>\n",
       "┡━━━━━━━━━━━━━━━━━━━━━━━━━━━━╇━━━━━━━━━━━━━━━━━━━━━━━━━━━━━━━━━━━━━━━━━━━━━━━━━━━━━━━━━━━━━━━━━━━━━╇━━━━━━━━━━━━━━━\n",
       "│<span style=\"color: #008080; text-decoration-color: #008080; font-weight: bold\"> max_files                  </span>│ 10                                                                  │<span style=\"font-weight: bold\">      </span><span style=\"color: #808000; text-decoration-color: #808000; font-weight: bold\">CHANGED</span><span style=\"font-weight: bold\">  </span>\n",
       "└────────────────────────────┴─────────────────────────────────────────────────────────────────────┴───────────────\n",
       "</pre>\n"
      ],
      "text/plain": [
       "\u001b[3m                                          Configuration: DATASETS \u001b[0m\u001b[3;33m(1 changes)\u001b[0m\u001b[3m                                      \u001b[0m\n",
       "┏━━━━━━━━━━━━━━━━━━━━━━━━━━━━┳━━━━━━━━━━━━━━━━━━━━━━━━━━━━━━━━━━━━━━━━━━━━━━━━━━━━━━━━━━━━━━━━━━━━━┳━━━━━━━━━━━━━━━\n",
       "┃\u001b[1m \u001b[0m\u001b[1mKey                       \u001b[0m\u001b[1m \u001b[0m┃\u001b[1m \u001b[0m\u001b[1mValue                                                              \u001b[0m\u001b[1m \u001b[0m┃\u001b[1m \u001b[0m\u001b[1m     Status   \u001b[0m\n",
       "┡━━━━━━━━━━━━━━━━━━━━━━━━━━━━╇━━━━━━━━━━━━━━━━━━━━━━━━━━━━━━━━━━━━━━━━━━━━━━━━━━━━━━━━━━━━━━━━━━━━━╇━━━━━━━━━━━━━━━\n",
       "│\u001b[1;36m \u001b[0m\u001b[1;36mmax_files                 \u001b[0m\u001b[1;36m \u001b[0m│ 10                                                                  │\u001b[1m \u001b[0m\u001b[1m     \u001b[0m\u001b[1;33mCHANGED\u001b[0m\u001b[1m  \u001b[0m\n",
       "└────────────────────────────┴─────────────────────────────────────────────────────────────────────┴───────────────\n"
      ]
     },
     "metadata": {},
     "output_type": "display_data"
    },
    {
     "name": "stdout",
     "output_type": "stream",
     "text": [
      "✅ Processed CLI arguments and loaded full configuration\n"
     ]
    }
   ],
   "source": [
    "# Make a modification\n",
    "config[\"datasets\"][\"max_files\"] = 10 # Limit to 1 files per dataset\n",
    "\n",
    "print(\"=== SHOW ONLY CHANGES ===\")\n",
    "display_config_table({\"datasets\": config[\"datasets\"]},\n",
    "                    expand=True,\n",
    "                    compare_with={\"datasets\": original_config[\"datasets\"]},\n",
    "                    show_only_changes=True)\n",
    "\n",
    "cli_args = []  # No CLI overrides for this demo\n",
    "full_config = load_config_with_restricted_cli(config, cli_args)\n",
    "\n",
    "print(\"✅ Processed CLI arguments and loaded full configuration\")\n",
    "validated_config = Config(**full_config)  # This is the key validation step!"
   ]
  },
  {
   "cell_type": "markdown",
   "id": "29092ea4",
   "metadata": {},
   "source": [
    "# 3. Output Manager & Directory Structure\n",
    "\n",
    "The framework uses a centralized `OutputDirectoryManager` (`utils/output_manager.py`) to organize all analysis outputs."
   ]
  },
  {
   "cell_type": "code",
   "execution_count": 7,
   "id": "b1c26af2",
   "metadata": {},
   "outputs": [
    {
     "data": {
      "text/html": [
       "<pre style=\"white-space:pre;overflow-x:auto;line-height:normal;font-family:Menlo,'DejaVu Sans Mono',consolas,'Courier New',monospace\"><span style=\"color: #7fbfbf; text-decoration-color: #7fbfbf\">10:18:35 </span><span style=\"color: #000080; text-decoration-color: #000080\">INFO    </span> <span style=\"color: #000000; text-decoration-color: #000000\">Output directory manager initialized with root:                              </span><a href=\"file:///home/cms-jovyan/integration-challenge/cms/utils/output_manager.py\" target=\"_blank\"><span style=\"color: #7f7f7f; text-decoration-color: #7f7f7f\">output_manager.py</span></a><span style=\"color: #7f7f7f; text-decoration-color: #7f7f7f\">:</span><a href=\"file:///home/cms-jovyan/integration-challenge/cms/utils/output_manager.py#73\" target=\"_blank\"><span style=\"color: #7f7f7f; text-decoration-color: #7f7f7f\">73</span></a>\n",
       "<span style=\"color: #7fbfbf; text-decoration-color: #7fbfbf\">         </span>         <span style=\"color: #000000; text-decoration-color: #000000\">/home/cms-jovyan/integration-challenge/cms/example-demo/outputs              </span><span style=\"color: #7f7f7f; text-decoration-color: #7f7f7f\">                    </span>\n",
       "</pre>\n"
      ],
      "text/plain": [
       "\u001b[2;36m10:18:35\u001b[0m\u001b[2;36m \u001b[0m\u001b[34mINFO    \u001b[0m \u001b[39mOutput directory manager initialized with root:                             \u001b[0m\u001b[39m \u001b[0m\u001b]8;id=792563;file:///home/cms-jovyan/integration-challenge/cms/utils/output_manager.py\u001b\\\u001b[2moutput_manager.py\u001b[0m\u001b]8;;\u001b\\\u001b[2m:\u001b[0m\u001b]8;id=371393;file:///home/cms-jovyan/integration-challenge/cms/utils/output_manager.py#73\u001b\\\u001b[2m73\u001b[0m\u001b]8;;\u001b\\\n",
       "\u001b[2;36m         \u001b[0m         \u001b[39m/home/cms-jovyan/integration-challenge/cms/example-demo/\u001b[0m\u001b[39moutputs\u001b[0m\u001b[39m             \u001b[0m\u001b[39m \u001b[0m\u001b[2m                    \u001b[0m\n"
      ]
     },
     "metadata": {},
     "output_type": "display_data"
    },
    {
     "name": "stdout",
     "output_type": "stream",
     "text": [
      "✅ Created OutputDirectoryManager with validated paths\n"
     ]
    }
   ],
   "source": [
    "from utils.output_manager import OutputDirectoryManager\n",
    "\n",
    "output_manager = OutputDirectoryManager(\n",
    "    root_output_dir=validated_config.general.output_dir,\n",
    "    cache_dir=validated_config.general.cache_dir,\n",
    "    metadata_dir=validated_config.general.metadata_dir,\n",
    "    skimmed_dir=validated_config.general.skimmed_dir\n",
    ")\n",
    "\n",
    "print(\"✅ Created OutputDirectoryManager with validated paths\")\n"
   ]
  },
  {
   "cell_type": "markdown",
   "id": "e7fa7bd4",
   "metadata": {},
   "source": [
    "## 4. Metadata Extraction\n",
    "\n",
    "Metadata extraction runs `coffea`'s preprocessor to build analysis workitems, a `coffea`-compatible fileset and a summary of the processed `NanoAOD`s. Its outputs stay in memory, but are also stored in `JSON` files to allow re-runing subsequent steps without pre-processing every time."
   ]
  },
  {
   "cell_type": "code",
   "execution_count": 8,
   "id": "9fb1e349",
   "metadata": {},
   "outputs": [
    {
     "data": {
      "text/html": [
       "<pre style=\"white-space:pre;overflow-x:auto;line-height:normal;font-family:Menlo,'DejaVu Sans Mono',consolas,'Courier New',monospace\"><span style=\"color: #7fbfbf; text-decoration-color: #7fbfbf\">         </span><span style=\"color: #000080; text-decoration-color: #000080\">INFO    </span> <span style=\"color: #000000; text-decoration-color: #000000\">Initialized dataset manager with </span><span style=\"color: #008080; text-decoration-color: #008080; font-weight: bold\">10</span><span style=\"color: #000000; text-decoration-color: #000000\"> datasets                                       </span><a href=\"file:///home/cms-jovyan/integration-challenge/cms/utils/datasets.py\" target=\"_blank\"><span style=\"color: #7f7f7f; text-decoration-color: #7f7f7f\">datasets.py</span></a><span style=\"color: #7f7f7f; text-decoration-color: #7f7f7f\">:</span><a href=\"file:///home/cms-jovyan/integration-challenge/cms/utils/datasets.py#81\" target=\"_blank\"><span style=\"color: #7f7f7f; text-decoration-color: #7f7f7f\">81</span></a>\n",
       "</pre>\n"
      ],
      "text/plain": [
       "\u001b[2;36m        \u001b[0m\u001b[2;36m \u001b[0m\u001b[34mINFO    \u001b[0m \u001b[39mInitialized dataset manager with \u001b[0m\u001b[1;36m10\u001b[0m\u001b[39m datasets                                      \u001b[0m\u001b[39m \u001b[0m\u001b]8;id=696904;file:///home/cms-jovyan/integration-challenge/cms/utils/datasets.py\u001b\\\u001b[2mdatasets.py\u001b[0m\u001b]8;;\u001b\\\u001b[2m:\u001b[0m\u001b]8;id=651010;file:///home/cms-jovyan/integration-challenge/cms/utils/datasets.py#81\u001b\\\u001b[2m81\u001b[0m\u001b]8;;\u001b\\\n"
      ]
     },
     "metadata": {},
     "output_type": "display_data"
    },
    {
     "name": "stdout",
     "output_type": "stream",
     "text": [
      "(<Client: 'tls://192.168.198.12:8786' processes=0 threads=0, memory=0 B>, None)\n",
      "Running dask\n"
     ]
    },
    {
     "data": {
      "text/html": [
       "<pre style=\"white-space:pre;overflow-x:auto;line-height:normal;font-family:Menlo,'DejaVu Sans Mono',consolas,'Courier New',monospace\"><span style=\"color: #7fbfbf; text-decoration-color: #7fbfbf\">10:18:36 </span><span style=\"color: #000080; text-decoration-color: #000080\">INFO    </span> <span style=\"color: #000000; text-decoration-color: #000000\">Starting metadata generation workflow</span><span style=\"color: #808000; text-decoration-color: #808000\">...</span><span style=\"color: #000000; text-decoration-color: #000000\">                                </span><a href=\"file:///home/cms-jovyan/integration-challenge/cms/utils/metadata_extractor.py\" target=\"_blank\"><span style=\"color: #7f7f7f; text-decoration-color: #7f7f7f\">metadata_extractor.py</span></a><span style=\"color: #7f7f7f; text-decoration-color: #7f7f7f\">:</span><a href=\"file:///home/cms-jovyan/integration-challenge/cms/utils/metadata_extractor.py#474\" target=\"_blank\"><span style=\"color: #7f7f7f; text-decoration-color: #7f7f7f\">474</span></a>\n",
       "</pre>\n"
      ],
      "text/plain": [
       "\u001b[2;36m10:18:36\u001b[0m\u001b[2;36m \u001b[0m\u001b[34mINFO    \u001b[0m \u001b[39mStarting metadata generation workflow\u001b[0m\u001b[33m...\u001b[0m\u001b[39m                               \u001b[0m\u001b[39m \u001b[0m\u001b]8;id=962007;file:///home/cms-jovyan/integration-challenge/cms/utils/metadata_extractor.py\u001b\\\u001b[2mmetadata_extractor.py\u001b[0m\u001b]8;;\u001b\\\u001b[2m:\u001b[0m\u001b]8;id=22963;file:///home/cms-jovyan/integration-challenge/cms/utils/metadata_extractor.py#474\u001b\\\u001b[2m474\u001b[0m\u001b]8;;\u001b\\\n"
      ]
     },
     "metadata": {},
     "output_type": "display_data"
    },
    {
     "data": {
      "text/html": [
       "<pre style=\"white-space:pre;overflow-x:auto;line-height:normal;font-family:Menlo,'DejaVu Sans Mono',consolas,'Courier New',monospace\"><span style=\"color: #7fbfbf; text-decoration-color: #7fbfbf\">         </span><span style=\"color: #000080; text-decoration-color: #000080\">INFO    </span> <span style=\"color: #000000; text-decoration-color: #000000\">Building fileset for process: signal                                    </span><a href=\"file:///home/cms-jovyan/integration-challenge/cms/utils/metadata_extractor.py\" target=\"_blank\"><span style=\"color: #7f7f7f; text-decoration-color: #7f7f7f\">metadata_extractor.py</span></a><span style=\"color: #7f7f7f; text-decoration-color: #7f7f7f\">:</span><a href=\"file:///home/cms-jovyan/integration-challenge/cms/utils/metadata_extractor.py#179\" target=\"_blank\"><span style=\"color: #7f7f7f; text-decoration-color: #7f7f7f\">179</span></a>\n",
       "</pre>\n"
      ],
      "text/plain": [
       "\u001b[2;36m        \u001b[0m\u001b[2;36m \u001b[0m\u001b[34mINFO    \u001b[0m \u001b[39mBuilding fileset for process: signal                                   \u001b[0m\u001b[39m \u001b[0m\u001b]8;id=623897;file:///home/cms-jovyan/integration-challenge/cms/utils/metadata_extractor.py\u001b\\\u001b[2mmetadata_extractor.py\u001b[0m\u001b]8;;\u001b\\\u001b[2m:\u001b[0m\u001b]8;id=286187;file:///home/cms-jovyan/integration-challenge/cms/utils/metadata_extractor.py#179\u001b\\\u001b[2m179\u001b[0m\u001b]8;;\u001b\\\n"
      ]
     },
     "metadata": {},
     "output_type": "display_data"
    },
    {
     "data": {
      "text/html": [
       "<pre style=\"white-space:pre;overflow-x:auto;line-height:normal;font-family:Menlo,'DejaVu Sans Mono',consolas,'Courier New',monospace\"><span style=\"color: #7fbfbf; text-decoration-color: #7fbfbf\">         </span><span style=\"color: #000080; text-decoration-color: #000080\">INFO    </span> <span style=\"color: #000000; text-decoration-color: #000000\">Building fileset for process: ttbar_semilep                             </span><a href=\"file:///home/cms-jovyan/integration-challenge/cms/utils/metadata_extractor.py\" target=\"_blank\"><span style=\"color: #7f7f7f; text-decoration-color: #7f7f7f\">metadata_extractor.py</span></a><span style=\"color: #7f7f7f; text-decoration-color: #7f7f7f\">:</span><a href=\"file:///home/cms-jovyan/integration-challenge/cms/utils/metadata_extractor.py#179\" target=\"_blank\"><span style=\"color: #7f7f7f; text-decoration-color: #7f7f7f\">179</span></a>\n",
       "</pre>\n"
      ],
      "text/plain": [
       "\u001b[2;36m        \u001b[0m\u001b[2;36m \u001b[0m\u001b[34mINFO    \u001b[0m \u001b[39mBuilding fileset for process: ttbar_semilep                            \u001b[0m\u001b[39m \u001b[0m\u001b]8;id=520409;file:///home/cms-jovyan/integration-challenge/cms/utils/metadata_extractor.py\u001b\\\u001b[2mmetadata_extractor.py\u001b[0m\u001b]8;;\u001b\\\u001b[2m:\u001b[0m\u001b]8;id=47956;file:///home/cms-jovyan/integration-challenge/cms/utils/metadata_extractor.py#179\u001b\\\u001b[2m179\u001b[0m\u001b]8;;\u001b\\\n"
      ]
     },
     "metadata": {},
     "output_type": "display_data"
    },
    {
     "data": {
      "text/html": [
       "<pre style=\"white-space:pre;overflow-x:auto;line-height:normal;font-family:Menlo,'DejaVu Sans Mono',consolas,'Courier New',monospace\"><span style=\"color: #7fbfbf; text-decoration-color: #7fbfbf\">         </span><span style=\"color: #000080; text-decoration-color: #000080\">INFO    </span> <span style=\"color: #000000; text-decoration-color: #000000\">Building fileset for process: ttbar_had                                 </span><a href=\"file:///home/cms-jovyan/integration-challenge/cms/utils/metadata_extractor.py\" target=\"_blank\"><span style=\"color: #7f7f7f; text-decoration-color: #7f7f7f\">metadata_extractor.py</span></a><span style=\"color: #7f7f7f; text-decoration-color: #7f7f7f\">:</span><a href=\"file:///home/cms-jovyan/integration-challenge/cms/utils/metadata_extractor.py#179\" target=\"_blank\"><span style=\"color: #7f7f7f; text-decoration-color: #7f7f7f\">179</span></a>\n",
       "</pre>\n"
      ],
      "text/plain": [
       "\u001b[2;36m        \u001b[0m\u001b[2;36m \u001b[0m\u001b[34mINFO    \u001b[0m \u001b[39mBuilding fileset for process: ttbar_had                                \u001b[0m\u001b[39m \u001b[0m\u001b]8;id=146658;file:///home/cms-jovyan/integration-challenge/cms/utils/metadata_extractor.py\u001b\\\u001b[2mmetadata_extractor.py\u001b[0m\u001b]8;;\u001b\\\u001b[2m:\u001b[0m\u001b]8;id=221654;file:///home/cms-jovyan/integration-challenge/cms/utils/metadata_extractor.py#179\u001b\\\u001b[2m179\u001b[0m\u001b]8;;\u001b\\\n"
      ]
     },
     "metadata": {},
     "output_type": "display_data"
    },
    {
     "data": {
      "text/html": [
       "<pre style=\"white-space:pre;overflow-x:auto;line-height:normal;font-family:Menlo,'DejaVu Sans Mono',consolas,'Courier New',monospace\"><span style=\"color: #7fbfbf; text-decoration-color: #7fbfbf\">         </span><span style=\"color: #000080; text-decoration-color: #000080\">INFO    </span> <span style=\"color: #000000; text-decoration-color: #000000\">Building fileset for process: ttbar_lep                                 </span><a href=\"file:///home/cms-jovyan/integration-challenge/cms/utils/metadata_extractor.py\" target=\"_blank\"><span style=\"color: #7f7f7f; text-decoration-color: #7f7f7f\">metadata_extractor.py</span></a><span style=\"color: #7f7f7f; text-decoration-color: #7f7f7f\">:</span><a href=\"file:///home/cms-jovyan/integration-challenge/cms/utils/metadata_extractor.py#179\" target=\"_blank\"><span style=\"color: #7f7f7f; text-decoration-color: #7f7f7f\">179</span></a>\n",
       "</pre>\n"
      ],
      "text/plain": [
       "\u001b[2;36m        \u001b[0m\u001b[2;36m \u001b[0m\u001b[34mINFO    \u001b[0m \u001b[39mBuilding fileset for process: ttbar_lep                                \u001b[0m\u001b[39m \u001b[0m\u001b]8;id=845973;file:///home/cms-jovyan/integration-challenge/cms/utils/metadata_extractor.py\u001b\\\u001b[2mmetadata_extractor.py\u001b[0m\u001b]8;;\u001b\\\u001b[2m:\u001b[0m\u001b]8;id=156443;file:///home/cms-jovyan/integration-challenge/cms/utils/metadata_extractor.py#179\u001b\\\u001b[2m179\u001b[0m\u001b]8;;\u001b\\\n"
      ]
     },
     "metadata": {},
     "output_type": "display_data"
    },
    {
     "data": {
      "text/html": [
       "<pre style=\"white-space:pre;overflow-x:auto;line-height:normal;font-family:Menlo,'DejaVu Sans Mono',consolas,'Courier New',monospace\"><span style=\"color: #7fbfbf; text-decoration-color: #7fbfbf\">         </span><span style=\"color: #000080; text-decoration-color: #000080\">INFO    </span> <span style=\"color: #000000; text-decoration-color: #000000\">Building fileset for process: wjets                                     </span><a href=\"file:///home/cms-jovyan/integration-challenge/cms/utils/metadata_extractor.py\" target=\"_blank\"><span style=\"color: #7f7f7f; text-decoration-color: #7f7f7f\">metadata_extractor.py</span></a><span style=\"color: #7f7f7f; text-decoration-color: #7f7f7f\">:</span><a href=\"file:///home/cms-jovyan/integration-challenge/cms/utils/metadata_extractor.py#179\" target=\"_blank\"><span style=\"color: #7f7f7f; text-decoration-color: #7f7f7f\">179</span></a>\n",
       "</pre>\n"
      ],
      "text/plain": [
       "\u001b[2;36m        \u001b[0m\u001b[2;36m \u001b[0m\u001b[34mINFO    \u001b[0m \u001b[39mBuilding fileset for process: wjets                                    \u001b[0m\u001b[39m \u001b[0m\u001b]8;id=523186;file:///home/cms-jovyan/integration-challenge/cms/utils/metadata_extractor.py\u001b\\\u001b[2mmetadata_extractor.py\u001b[0m\u001b]8;;\u001b\\\u001b[2m:\u001b[0m\u001b]8;id=344665;file:///home/cms-jovyan/integration-challenge/cms/utils/metadata_extractor.py#179\u001b\\\u001b[2m179\u001b[0m\u001b]8;;\u001b\\\n"
      ]
     },
     "metadata": {},
     "output_type": "display_data"
    },
    {
     "data": {
      "text/html": [
       "<pre style=\"white-space:pre;overflow-x:auto;line-height:normal;font-family:Menlo,'DejaVu Sans Mono',consolas,'Courier New',monospace\"><span style=\"color: #7fbfbf; text-decoration-color: #7fbfbf\">         </span><span style=\"color: #000080; text-decoration-color: #000080\">INFO    </span> <span style=\"color: #000000; text-decoration-color: #000000\">Building fileset for process: dyjets                                    </span><a href=\"file:///home/cms-jovyan/integration-challenge/cms/utils/metadata_extractor.py\" target=\"_blank\"><span style=\"color: #7f7f7f; text-decoration-color: #7f7f7f\">metadata_extractor.py</span></a><span style=\"color: #7f7f7f; text-decoration-color: #7f7f7f\">:</span><a href=\"file:///home/cms-jovyan/integration-challenge/cms/utils/metadata_extractor.py#179\" target=\"_blank\"><span style=\"color: #7f7f7f; text-decoration-color: #7f7f7f\">179</span></a>\n",
       "</pre>\n"
      ],
      "text/plain": [
       "\u001b[2;36m        \u001b[0m\u001b[2;36m \u001b[0m\u001b[34mINFO    \u001b[0m \u001b[39mBuilding fileset for process: dyjets                                   \u001b[0m\u001b[39m \u001b[0m\u001b]8;id=58070;file:///home/cms-jovyan/integration-challenge/cms/utils/metadata_extractor.py\u001b\\\u001b[2mmetadata_extractor.py\u001b[0m\u001b]8;;\u001b\\\u001b[2m:\u001b[0m\u001b]8;id=965316;file:///home/cms-jovyan/integration-challenge/cms/utils/metadata_extractor.py#179\u001b\\\u001b[2m179\u001b[0m\u001b]8;;\u001b\\\n"
      ]
     },
     "metadata": {},
     "output_type": "display_data"
    },
    {
     "data": {
      "text/html": [
       "<pre style=\"white-space:pre;overflow-x:auto;line-height:normal;font-family:Menlo,'DejaVu Sans Mono',consolas,'Courier New',monospace\"><span style=\"color: #7fbfbf; text-decoration-color: #7fbfbf\">         </span><span style=\"color: #000080; text-decoration-color: #000080\">INFO    </span> <span style=\"color: #000000; text-decoration-color: #000000\">Building fileset for process: single_top                                </span><a href=\"file:///home/cms-jovyan/integration-challenge/cms/utils/metadata_extractor.py\" target=\"_blank\"><span style=\"color: #7f7f7f; text-decoration-color: #7f7f7f\">metadata_extractor.py</span></a><span style=\"color: #7f7f7f; text-decoration-color: #7f7f7f\">:</span><a href=\"file:///home/cms-jovyan/integration-challenge/cms/utils/metadata_extractor.py#179\" target=\"_blank\"><span style=\"color: #7f7f7f; text-decoration-color: #7f7f7f\">179</span></a>\n",
       "</pre>\n"
      ],
      "text/plain": [
       "\u001b[2;36m        \u001b[0m\u001b[2;36m \u001b[0m\u001b[34mINFO    \u001b[0m \u001b[39mBuilding fileset for process: single_top                               \u001b[0m\u001b[39m \u001b[0m\u001b]8;id=752226;file:///home/cms-jovyan/integration-challenge/cms/utils/metadata_extractor.py\u001b\\\u001b[2mmetadata_extractor.py\u001b[0m\u001b]8;;\u001b\\\u001b[2m:\u001b[0m\u001b]8;id=944495;file:///home/cms-jovyan/integration-challenge/cms/utils/metadata_extractor.py#179\u001b\\\u001b[2m179\u001b[0m\u001b]8;;\u001b\\\n"
      ]
     },
     "metadata": {},
     "output_type": "display_data"
    },
    {
     "data": {
      "text/html": [
       "<pre style=\"white-space:pre;overflow-x:auto;line-height:normal;font-family:Menlo,'DejaVu Sans Mono',consolas,'Courier New',monospace\"><span style=\"color: #7fbfbf; text-decoration-color: #7fbfbf\">         </span><span style=\"color: #000080; text-decoration-color: #000080\">INFO    </span> <span style=\"color: #000000; text-decoration-color: #000000\">Building fileset for process: qcd                                       </span><a href=\"file:///home/cms-jovyan/integration-challenge/cms/utils/metadata_extractor.py\" target=\"_blank\"><span style=\"color: #7f7f7f; text-decoration-color: #7f7f7f\">metadata_extractor.py</span></a><span style=\"color: #7f7f7f; text-decoration-color: #7f7f7f\">:</span><a href=\"file:///home/cms-jovyan/integration-challenge/cms/utils/metadata_extractor.py#179\" target=\"_blank\"><span style=\"color: #7f7f7f; text-decoration-color: #7f7f7f\">179</span></a>\n",
       "</pre>\n"
      ],
      "text/plain": [
       "\u001b[2;36m        \u001b[0m\u001b[2;36m \u001b[0m\u001b[34mINFO    \u001b[0m \u001b[39mBuilding fileset for process: qcd                                      \u001b[0m\u001b[39m \u001b[0m\u001b]8;id=557122;file:///home/cms-jovyan/integration-challenge/cms/utils/metadata_extractor.py\u001b\\\u001b[2mmetadata_extractor.py\u001b[0m\u001b]8;;\u001b\\\u001b[2m:\u001b[0m\u001b]8;id=509593;file:///home/cms-jovyan/integration-challenge/cms/utils/metadata_extractor.py#179\u001b\\\u001b[2m179\u001b[0m\u001b]8;;\u001b\\\n"
      ]
     },
     "metadata": {},
     "output_type": "display_data"
    },
    {
     "data": {
      "text/html": [
       "<pre style=\"white-space:pre;overflow-x:auto;line-height:normal;font-family:Menlo,'DejaVu Sans Mono',consolas,'Courier New',monospace\"><span style=\"color: #7fbfbf; text-decoration-color: #7fbfbf\">         </span><span style=\"color: #000080; text-decoration-color: #000080\">INFO    </span> <span style=\"color: #000000; text-decoration-color: #000000\">Building fileset for process: diboson                                   </span><a href=\"file:///home/cms-jovyan/integration-challenge/cms/utils/metadata_extractor.py\" target=\"_blank\"><span style=\"color: #7f7f7f; text-decoration-color: #7f7f7f\">metadata_extractor.py</span></a><span style=\"color: #7f7f7f; text-decoration-color: #7f7f7f\">:</span><a href=\"file:///home/cms-jovyan/integration-challenge/cms/utils/metadata_extractor.py#179\" target=\"_blank\"><span style=\"color: #7f7f7f; text-decoration-color: #7f7f7f\">179</span></a>\n",
       "</pre>\n"
      ],
      "text/plain": [
       "\u001b[2;36m        \u001b[0m\u001b[2;36m \u001b[0m\u001b[34mINFO    \u001b[0m \u001b[39mBuilding fileset for process: diboson                                  \u001b[0m\u001b[39m \u001b[0m\u001b]8;id=596359;file:///home/cms-jovyan/integration-challenge/cms/utils/metadata_extractor.py\u001b\\\u001b[2mmetadata_extractor.py\u001b[0m\u001b]8;;\u001b\\\u001b[2m:\u001b[0m\u001b]8;id=460429;file:///home/cms-jovyan/integration-challenge/cms/utils/metadata_extractor.py#179\u001b\\\u001b[2m179\u001b[0m\u001b]8;;\u001b\\\n"
      ]
     },
     "metadata": {},
     "output_type": "display_data"
    },
    {
     "data": {
      "text/html": [
       "<pre style=\"white-space:pre;overflow-x:auto;line-height:normal;font-family:Menlo,'DejaVu Sans Mono',consolas,'Courier New',monospace\"><span style=\"color: #7fbfbf; text-decoration-color: #7fbfbf\">         </span><span style=\"color: #000080; text-decoration-color: #000080\">INFO    </span> <span style=\"color: #000000; text-decoration-color: #000000\">Building fileset for process: data                                      </span><a href=\"file:///home/cms-jovyan/integration-challenge/cms/utils/metadata_extractor.py\" target=\"_blank\"><span style=\"color: #7f7f7f; text-decoration-color: #7f7f7f\">metadata_extractor.py</span></a><span style=\"color: #7f7f7f; text-decoration-color: #7f7f7f\">:</span><a href=\"file:///home/cms-jovyan/integration-challenge/cms/utils/metadata_extractor.py#179\" target=\"_blank\"><span style=\"color: #7f7f7f; text-decoration-color: #7f7f7f\">179</span></a>\n",
       "</pre>\n"
      ],
      "text/plain": [
       "\u001b[2;36m        \u001b[0m\u001b[2;36m \u001b[0m\u001b[34mINFO    \u001b[0m \u001b[39mBuilding fileset for process: data                                     \u001b[0m\u001b[39m \u001b[0m\u001b]8;id=55054;file:///home/cms-jovyan/integration-challenge/cms/utils/metadata_extractor.py\u001b\\\u001b[2mmetadata_extractor.py\u001b[0m\u001b]8;;\u001b\\\u001b[2m:\u001b[0m\u001b]8;id=784287;file:///home/cms-jovyan/integration-challenge/cms/utils/metadata_extractor.py#179\u001b\\\u001b[2m179\u001b[0m\u001b]8;;\u001b\\\n"
      ]
     },
     "metadata": {},
     "output_type": "display_data"
    },
    {
     "data": {
      "text/html": [
       "<pre style=\"white-space:pre;overflow-x:auto;line-height:normal;font-family:Menlo,'DejaVu Sans Mono',consolas,'Courier New',monospace\"><span style=\"color: #7fbfbf; text-decoration-color: #7fbfbf\">         </span><span style=\"color: #000080; text-decoration-color: #000080\">INFO    </span> <span style=\"color: #000000; text-decoration-color: #000000\">Fileset JSON saved to                                                   </span><a href=\"file:///home/cms-jovyan/integration-challenge/cms/utils/metadata_extractor.py\" target=\"_blank\"><span style=\"color: #7f7f7f; text-decoration-color: #7f7f7f\">metadata_extractor.py</span></a><span style=\"color: #7f7f7f; text-decoration-color: #7f7f7f\">:</span><a href=\"file:///home/cms-jovyan/integration-challenge/cms/utils/metadata_extractor.py#279\" target=\"_blank\"><span style=\"color: #7f7f7f; text-decoration-color: #7f7f7f\">279</span></a>\n",
       "<span style=\"color: #7fbfbf; text-decoration-color: #7fbfbf\">         </span>         <span style=\"color: #000000; text-decoration-color: #000000\">/home/cms-jovyan/integration-challenge/cms/example-demo/outputs/metadat </span><span style=\"color: #7f7f7f; text-decoration-color: #7f7f7f\">                         </span>\n",
       "<span style=\"color: #7fbfbf; text-decoration-color: #7fbfbf\">         </span>         <span style=\"color: #000000; text-decoration-color: #000000\">a/fileset.json                                                          </span><span style=\"color: #7f7f7f; text-decoration-color: #7f7f7f\">                         </span>\n",
       "</pre>\n"
      ],
      "text/plain": [
       "\u001b[2;36m        \u001b[0m\u001b[2;36m \u001b[0m\u001b[34mINFO    \u001b[0m \u001b[39mFileset JSON saved to                                                  \u001b[0m\u001b[39m \u001b[0m\u001b]8;id=416204;file:///home/cms-jovyan/integration-challenge/cms/utils/metadata_extractor.py\u001b\\\u001b[2mmetadata_extractor.py\u001b[0m\u001b]8;;\u001b\\\u001b[2m:\u001b[0m\u001b]8;id=335086;file:///home/cms-jovyan/integration-challenge/cms/utils/metadata_extractor.py#279\u001b\\\u001b[2m279\u001b[0m\u001b]8;;\u001b\\\n",
       "\u001b[2;36m         \u001b[0m         \u001b[39m/home/cms-jovyan/integration-challenge/cms/example-demo/outputs/metadat\u001b[0m\u001b[39m \u001b[0m\u001b[2m                         \u001b[0m\n",
       "\u001b[2;36m         \u001b[0m         \u001b[39ma/\u001b[0m\u001b[39mfileset.json\u001b[0m\u001b[39m                                                         \u001b[0m\u001b[39m \u001b[0m\u001b[2m                         \u001b[0m\n"
      ]
     },
     "metadata": {},
     "output_type": "display_data"
    },
    {
     "data": {
      "text/html": [
       "<pre style=\"white-space:pre;overflow-x:auto;line-height:normal;font-family:Menlo,'DejaVu Sans Mono',consolas,'Courier New',monospace\"><span style=\"color: #7fbfbf; text-decoration-color: #7fbfbf\">         </span><span style=\"color: #000080; text-decoration-color: #000080\">INFO    </span> <span style=\"color: #000000; text-decoration-color: #000000\">Extracting metadata using coffea.dataset_tools.preprocess               </span><a href=\"file:///home/cms-jovyan/integration-challenge/cms/utils/metadata_extractor.py\" target=\"_blank\"><span style=\"color: #7f7f7f; text-decoration-color: #7f7f7f\">metadata_extractor.py</span></a><span style=\"color: #7f7f7f; text-decoration-color: #7f7f7f\">:</span><a href=\"file:///home/cms-jovyan/integration-challenge/cms/utils/metadata_extractor.py#344\" target=\"_blank\"><span style=\"color: #7f7f7f; text-decoration-color: #7f7f7f\">344</span></a>\n",
       "</pre>\n"
      ],
      "text/plain": [
       "\u001b[2;36m        \u001b[0m\u001b[2;36m \u001b[0m\u001b[34mINFO    \u001b[0m \u001b[39mExtracting metadata using coffea.dataset_tools.preprocess              \u001b[0m\u001b[39m \u001b[0m\u001b]8;id=161308;file:///home/cms-jovyan/integration-challenge/cms/utils/metadata_extractor.py\u001b\\\u001b[2mmetadata_extractor.py\u001b[0m\u001b]8;;\u001b\\\u001b[2m:\u001b[0m\u001b]8;id=613928;file:///home/cms-jovyan/integration-challenge/cms/utils/metadata_extractor.py#344\u001b\\\u001b[2m344\u001b[0m\u001b]8;;\u001b\\\n"
      ]
     },
     "metadata": {},
     "output_type": "display_data"
    },
    {
     "data": {
      "application/vnd.jupyter.widget-view+json": {
       "model_id": "b270209cdb8b46bbbdfa7d46d0d2de49",
       "version_major": 2,
       "version_minor": 0
      },
      "text/plain": [
       "Output()"
      ]
     },
     "metadata": {},
     "output_type": "display_data"
    },
    {
     "data": {
      "text/html": [
       "<pre style=\"white-space:pre;overflow-x:auto;line-height:normal;font-family:Menlo,'DejaVu Sans Mono',consolas,'Courier New',monospace\"></pre>\n"
      ],
      "text/plain": []
     },
     "metadata": {},
     "output_type": "display_data"
    },
    {
     "data": {
      "text/html": [
       "<pre style=\"white-space:pre;overflow-x:auto;line-height:normal;font-family:Menlo,'DejaVu Sans Mono',consolas,'Courier New',monospace\"><span style=\"color: #7fbfbf; text-decoration-color: #7fbfbf\">10:20:33 </span><span style=\"color: #000080; text-decoration-color: #000080\">INFO    </span> <span style=\"color: #000000; text-decoration-color: #000000\">WorkItems metadata saved to                                             </span><a href=\"file:///home/cms-jovyan/integration-challenge/cms/utils/metadata_extractor.py\" target=\"_blank\"><span style=\"color: #7f7f7f; text-decoration-color: #7f7f7f\">metadata_extractor.py</span></a><span style=\"color: #7f7f7f; text-decoration-color: #7f7f7f\">:</span><a href=\"file:///home/cms-jovyan/integration-challenge/cms/utils/metadata_extractor.py#859\" target=\"_blank\"><span style=\"color: #7f7f7f; text-decoration-color: #7f7f7f\">859</span></a>\n",
       "<span style=\"color: #7fbfbf; text-decoration-color: #7fbfbf\">         </span>         <span style=\"color: #000000; text-decoration-color: #000000\">/home/cms-jovyan/integration-challenge/cms/example-demo/outputs/metadat </span><span style=\"color: #7f7f7f; text-decoration-color: #7f7f7f\">                         </span>\n",
       "<span style=\"color: #7fbfbf; text-decoration-color: #7fbfbf\">         </span>         <span style=\"color: #000000; text-decoration-color: #000000\">a/workitems.json                                                        </span><span style=\"color: #7f7f7f; text-decoration-color: #7f7f7f\">                         </span>\n",
       "</pre>\n"
      ],
      "text/plain": [
       "\u001b[2;36m10:20:33\u001b[0m\u001b[2;36m \u001b[0m\u001b[34mINFO    \u001b[0m \u001b[39mWorkItems metadata saved to                                            \u001b[0m\u001b[39m \u001b[0m\u001b]8;id=748053;file:///home/cms-jovyan/integration-challenge/cms/utils/metadata_extractor.py\u001b\\\u001b[2mmetadata_extractor.py\u001b[0m\u001b]8;;\u001b\\\u001b[2m:\u001b[0m\u001b]8;id=890640;file:///home/cms-jovyan/integration-challenge/cms/utils/metadata_extractor.py#859\u001b\\\u001b[2m859\u001b[0m\u001b]8;;\u001b\\\n",
       "\u001b[2;36m         \u001b[0m         \u001b[39m/home/cms-jovyan/integration-challenge/cms/example-demo/outputs/metadat\u001b[0m\u001b[39m \u001b[0m\u001b[2m                         \u001b[0m\n",
       "\u001b[2;36m         \u001b[0m         \u001b[39ma/\u001b[0m\u001b[39mworkitems.json\u001b[0m\u001b[39m                                                       \u001b[0m\u001b[39m \u001b[0m\u001b[2m                         \u001b[0m\n"
      ]
     },
     "metadata": {},
     "output_type": "display_data"
    },
    {
     "data": {
      "text/html": [
       "<pre style=\"white-space:pre;overflow-x:auto;line-height:normal;font-family:Menlo,'DejaVu Sans Mono',consolas,'Courier New',monospace\"><span style=\"color: #7fbfbf; text-decoration-color: #7fbfbf\">         </span><span style=\"color: #000080; text-decoration-color: #000080\">INFO    </span> <span style=\"color: #000000; text-decoration-color: #000000\">NanoAODs summary generated.                                             </span><a href=\"file:///home/cms-jovyan/integration-challenge/cms/utils/metadata_extractor.py\" target=\"_blank\"><span style=\"color: #7f7f7f; text-decoration-color: #7f7f7f\">metadata_extractor.py</span></a><span style=\"color: #7f7f7f; text-decoration-color: #7f7f7f\">:</span><a href=\"file:///home/cms-jovyan/integration-challenge/cms/utils/metadata_extractor.py#614\" target=\"_blank\"><span style=\"color: #7f7f7f; text-decoration-color: #7f7f7f\">614</span></a>\n",
       "</pre>\n"
      ],
      "text/plain": [
       "\u001b[2;36m        \u001b[0m\u001b[2;36m \u001b[0m\u001b[34mINFO    \u001b[0m \u001b[39mNanoAODs summary generated.                                            \u001b[0m\u001b[39m \u001b[0m\u001b]8;id=178572;file:///home/cms-jovyan/integration-challenge/cms/utils/metadata_extractor.py\u001b\\\u001b[2mmetadata_extractor.py\u001b[0m\u001b]8;;\u001b\\\u001b[2m:\u001b[0m\u001b]8;id=410671;file:///home/cms-jovyan/integration-challenge/cms/utils/metadata_extractor.py#614\u001b\\\u001b[2m614\u001b[0m\u001b]8;;\u001b\\\n"
      ]
     },
     "metadata": {},
     "output_type": "display_data"
    },
    {
     "data": {
      "text/html": [
       "<pre style=\"white-space:pre;overflow-x:auto;line-height:normal;font-family:Menlo,'DejaVu Sans Mono',consolas,'Courier New',monospace\"><span style=\"color: #7fbfbf; text-decoration-color: #7fbfbf\">         </span><span style=\"color: #000080; text-decoration-color: #000080\">INFO    </span> <span style=\"color: #000000; text-decoration-color: #000000\">NanoAODs summary written to                                             </span><a href=\"file:///home/cms-jovyan/integration-challenge/cms/utils/metadata_extractor.py\" target=\"_blank\"><span style=\"color: #7f7f7f; text-decoration-color: #7f7f7f\">metadata_extractor.py</span></a><span style=\"color: #7f7f7f; text-decoration-color: #7f7f7f\">:</span><a href=\"file:///home/cms-jovyan/integration-challenge/cms/utils/metadata_extractor.py#546\" target=\"_blank\"><span style=\"color: #7f7f7f; text-decoration-color: #7f7f7f\">546</span></a>\n",
       "<span style=\"color: #7fbfbf; text-decoration-color: #7fbfbf\">         </span>         <span style=\"color: #000000; text-decoration-color: #000000\">/home/cms-jovyan/integration-challenge/cms/example-demo/outputs/metadat </span><span style=\"color: #7f7f7f; text-decoration-color: #7f7f7f\">                         </span>\n",
       "<span style=\"color: #7fbfbf; text-decoration-color: #7fbfbf\">         </span>         <span style=\"color: #000000; text-decoration-color: #000000\">a/nanoaods.json                                                         </span><span style=\"color: #7f7f7f; text-decoration-color: #7f7f7f\">                         </span>\n",
       "</pre>\n"
      ],
      "text/plain": [
       "\u001b[2;36m        \u001b[0m\u001b[2;36m \u001b[0m\u001b[34mINFO    \u001b[0m \u001b[39mNanoAODs summary written to                                            \u001b[0m\u001b[39m \u001b[0m\u001b]8;id=921598;file:///home/cms-jovyan/integration-challenge/cms/utils/metadata_extractor.py\u001b\\\u001b[2mmetadata_extractor.py\u001b[0m\u001b]8;;\u001b\\\u001b[2m:\u001b[0m\u001b]8;id=396035;file:///home/cms-jovyan/integration-challenge/cms/utils/metadata_extractor.py#546\u001b\\\u001b[2m546\u001b[0m\u001b]8;;\u001b\\\n",
       "\u001b[2;36m         \u001b[0m         \u001b[39m/home/cms-jovyan/integration-challenge/cms/example-demo/outputs/metadat\u001b[0m\u001b[39m \u001b[0m\u001b[2m                         \u001b[0m\n",
       "\u001b[2;36m         \u001b[0m         \u001b[39ma/\u001b[0m\u001b[39mnanoaods.json\u001b[0m\u001b[39m                                                        \u001b[0m\u001b[39m \u001b[0m\u001b[2m                         \u001b[0m\n"
      ]
     },
     "metadata": {},
     "output_type": "display_data"
    },
    {
     "data": {
      "text/html": [
       "<pre style=\"white-space:pre;overflow-x:auto;line-height:normal;font-family:Menlo,'DejaVu Sans Mono',consolas,'Courier New',monospace\"><span style=\"color: #7fbfbf; text-decoration-color: #7fbfbf\">         </span><span style=\"color: #000080; text-decoration-color: #000080\">INFO    </span> <span style=\"color: #000000; text-decoration-color: #000000\">Metadata generation complete.                                           </span><a href=\"file:///home/cms-jovyan/integration-challenge/cms/utils/metadata_extractor.py\" target=\"_blank\"><span style=\"color: #7f7f7f; text-decoration-color: #7f7f7f\">metadata_extractor.py</span></a><span style=\"color: #7f7f7f; text-decoration-color: #7f7f7f\">:</span><a href=\"file:///home/cms-jovyan/integration-challenge/cms/utils/metadata_extractor.py#486\" target=\"_blank\"><span style=\"color: #7f7f7f; text-decoration-color: #7f7f7f\">486</span></a>\n",
       "</pre>\n"
      ],
      "text/plain": [
       "\u001b[2;36m        \u001b[0m\u001b[2;36m \u001b[0m\u001b[34mINFO    \u001b[0m \u001b[39mMetadata generation complete.                                          \u001b[0m\u001b[39m \u001b[0m\u001b]8;id=1470;file:///home/cms-jovyan/integration-challenge/cms/utils/metadata_extractor.py\u001b\\\u001b[2mmetadata_extractor.py\u001b[0m\u001b]8;;\u001b\\\u001b[2m:\u001b[0m\u001b]8;id=988567;file:///home/cms-jovyan/integration-challenge/cms/utils/metadata_extractor.py#486\u001b\\\u001b[2m486\u001b[0m\u001b]8;;\u001b\\\n"
      ]
     },
     "metadata": {},
     "output_type": "display_data"
    },
    {
     "data": {
      "text/plain": [
       "(None, None)"
      ]
     },
     "execution_count": 8,
     "metadata": {},
     "output_type": "execute_result"
    }
   ],
   "source": [
    "from utils.metadata_extractor import NanoAODMetadataGenerator\n",
    "from utils.datasets import ConfigurableDatasetManager\n",
    "\n",
    "# Step 1: Create dataset manager instance\n",
    "dataset_manager = ConfigurableDatasetManager(validated_config.datasets)\n",
    "# Step 2: Create metadata generator instance\n",
    "validated_config.general.run_metadata_generation=True\n",
    "\n",
    "client, cluster = get_client()\n",
    "metadata_generator = NanoAODMetadataGenerator(\n",
    "    dataset_manager=dataset_manager,\n",
    "    output_manager=output_manager,\n",
    "    dask=(client, cluster),\n",
    ")\n",
    "# In the back this uses coffea's preprocess function\n",
    "metadata = metadata_generator.run(\n",
    "    generate_metadata=validated_config.general.run_metadata_generation,\n",
    "    processes_filter=validated_config.general.processes if hasattr(validated_config.general, 'processes') else None\n",
    ")\n",
    "close_client(client, cluster)"
   ]
  },
  {
   "cell_type": "markdown",
   "id": "408ecc72",
   "metadata": {},
   "source": [
    "# 5. Skimming & Event Selection\n",
    "\n",
    "The skimming step processes the workitems from previous step, and applies event and branch selections with `dask` and a `coffea`-like processor (see [Alex's issue](https://github.com/scikit-hep/coffea/issues/1393)). Currently the skimming results are in-memory events, but also stored on disk as `ROOT` files to avoid having to run this multiple times. The events are also cached in `.pkl` files for faster re-reading. Eventually this step needs to be integrated with subsequent steps in a complete `coffea` or `coffea`-like processor."
   ]
  },
  {
   "cell_type": "code",
   "execution_count": 16,
   "id": "442e7495",
   "metadata": {},
   "outputs": [
    {
     "name": "stdout",
     "output_type": "stream",
     "text": [
      "📊 Processing 8183 workitems across 10 datasets\n"
     ]
    },
    {
     "data": {
      "text/html": [
       "<pre style=\"white-space:pre;overflow-x:auto;line-height:normal;font-family:Menlo,'DejaVu Sans Mono',consolas,'Courier New',monospace\"><span style=\"color: #7fbfbf; text-decoration-color: #7fbfbf\">10:26:41 </span><span style=\"color: #000080; text-decoration-color: #000080\">INFO    </span> <span style=\"color: #000000; text-decoration-color: #000000\">Starting workitem preprocessing with </span><span style=\"color: #008080; text-decoration-color: #008080; font-weight: bold\">5</span><span style=\"color: #000000; text-decoration-color: #000000\"> workitems                                  </span><a href=\"file:///home/cms-jovyan/integration-challenge/cms/utils/skimming.py\" target=\"_blank\"><span style=\"color: #7f7f7f; text-decoration-color: #7f7f7f\">skimming.py</span></a><span style=\"color: #7f7f7f; text-decoration-color: #7f7f7f\">:</span><a href=\"file:///home/cms-jovyan/integration-challenge/cms/utils/skimming.py#818\" target=\"_blank\"><span style=\"color: #7f7f7f; text-decoration-color: #7f7f7f\">818</span></a>\n",
       "</pre>\n"
      ],
      "text/plain": [
       "\u001b[2;36m10:26:41\u001b[0m\u001b[2;36m \u001b[0m\u001b[34mINFO    \u001b[0m \u001b[39mStarting workitem preprocessing with \u001b[0m\u001b[1;36m5\u001b[0m\u001b[39m workitems                                 \u001b[0m\u001b[39m \u001b[0m\u001b]8;id=801627;file:///home/cms-jovyan/integration-challenge/cms/utils/skimming.py\u001b\\\u001b[2mskimming.py\u001b[0m\u001b]8;;\u001b\\\u001b[2m:\u001b[0m\u001b]8;id=460141;file:///home/cms-jovyan/integration-challenge/cms/utils/skimming.py#818\u001b\\\u001b[2m818\u001b[0m\u001b]8;;\u001b\\\n"
      ]
     },
     "metadata": {},
     "output_type": "display_data"
    },
    {
     "data": {
      "text/html": [
       "<pre style=\"white-space:pre;overflow-x:auto;line-height:normal;font-family:Menlo,'DejaVu Sans Mono',consolas,'Courier New',monospace\"><span style=\"color: #7fbfbf; text-decoration-color: #7fbfbf\">         </span><span style=\"color: #000080; text-decoration-color: #000080\">INFO    </span> <span style=\"color: #000000; text-decoration-color: #000000\">Initialized workitem-based skimming manager                                       </span><a href=\"file:///home/cms-jovyan/integration-challenge/cms/utils/skimming.py\" target=\"_blank\"><span style=\"color: #7f7f7f; text-decoration-color: #7f7f7f\">skimming.py</span></a><span style=\"color: #7f7f7f; text-decoration-color: #7f7f7f\">:</span><a href=\"file:///home/cms-jovyan/integration-challenge/cms/utils/skimming.py#397\" target=\"_blank\"><span style=\"color: #7f7f7f; text-decoration-color: #7f7f7f\">397</span></a>\n",
       "</pre>\n"
      ],
      "text/plain": [
       "\u001b[2;36m        \u001b[0m\u001b[2;36m \u001b[0m\u001b[34mINFO    \u001b[0m \u001b[39mInitialized workitem-based skimming manager                                      \u001b[0m\u001b[39m \u001b[0m\u001b]8;id=27532;file:///home/cms-jovyan/integration-challenge/cms/utils/skimming.py\u001b\\\u001b[2mskimming.py\u001b[0m\u001b]8;;\u001b\\\u001b[2m:\u001b[0m\u001b]8;id=805414;file:///home/cms-jovyan/integration-challenge/cms/utils/skimming.py#397\u001b\\\u001b[2m397\u001b[0m\u001b]8;;\u001b\\\n"
      ]
     },
     "metadata": {},
     "output_type": "display_data"
    },
    {
     "data": {
      "text/html": [
       "<pre style=\"white-space:pre;overflow-x:auto;line-height:normal;font-family:Menlo,'DejaVu Sans Mono',consolas,'Courier New',monospace\"><span style=\"color: #7fbfbf; text-decoration-color: #7fbfbf\">         </span><span style=\"color: #000080; text-decoration-color: #000080\">INFO    </span> <span style=\"color: #000000; text-decoration-color: #000000\">Running skimming                                                                  </span><a href=\"file:///home/cms-jovyan/integration-challenge/cms/utils/skimming.py\" target=\"_blank\"><span style=\"color: #7f7f7f; text-decoration-color: #7f7f7f\">skimming.py</span></a><span style=\"color: #7f7f7f; text-decoration-color: #7f7f7f\">:</span><a href=\"file:///home/cms-jovyan/integration-challenge/cms/utils/skimming.py#848\" target=\"_blank\"><span style=\"color: #7f7f7f; text-decoration-color: #7f7f7f\">848</span></a>\n",
       "</pre>\n"
      ],
      "text/plain": [
       "\u001b[2;36m        \u001b[0m\u001b[2;36m \u001b[0m\u001b[34mINFO    \u001b[0m \u001b[39mRunning skimming                                                                 \u001b[0m\u001b[39m \u001b[0m\u001b]8;id=997370;file:///home/cms-jovyan/integration-challenge/cms/utils/skimming.py\u001b\\\u001b[2mskimming.py\u001b[0m\u001b]8;;\u001b\\\u001b[2m:\u001b[0m\u001b]8;id=62262;file:///home/cms-jovyan/integration-challenge/cms/utils/skimming.py#848\u001b\\\u001b[2m848\u001b[0m\u001b]8;;\u001b\\\n"
      ]
     },
     "metadata": {},
     "output_type": "display_data"
    },
    {
     "data": {
      "text/html": [
       "<pre style=\"white-space:pre;overflow-x:auto;line-height:normal;font-family:Menlo,'DejaVu Sans Mono',consolas,'Courier New',monospace\"><span style=\"color: #7fbfbf; text-decoration-color: #7fbfbf\">         </span><span style=\"color: #000080; text-decoration-color: #000080\">INFO    </span> <span style=\"color: #000000; text-decoration-color: #000000\">Processing </span><span style=\"color: #008080; text-decoration-color: #008080; font-weight: bold\">5</span><span style=\"color: #000000; text-decoration-color: #000000\"> workitems with max </span><span style=\"color: #008080; text-decoration-color: #008080; font-weight: bold\">3</span><span style=\"color: #000000; text-decoration-color: #000000\"> retries                                         </span><a href=\"file:///home/cms-jovyan/integration-challenge/cms/utils/skimming.py\" target=\"_blank\"><span style=\"color: #7f7f7f; text-decoration-color: #7f7f7f\">skimming.py</span></a><span style=\"color: #7f7f7f; text-decoration-color: #7f7f7f\">:</span><a href=\"file:///home/cms-jovyan/integration-challenge/cms/utils/skimming.py#426\" target=\"_blank\"><span style=\"color: #7f7f7f; text-decoration-color: #7f7f7f\">426</span></a>\n",
       "</pre>\n"
      ],
      "text/plain": [
       "\u001b[2;36m        \u001b[0m\u001b[2;36m \u001b[0m\u001b[34mINFO    \u001b[0m \u001b[39mProcessing \u001b[0m\u001b[1;36m5\u001b[0m\u001b[39m workitems with max \u001b[0m\u001b[1;36m3\u001b[0m\u001b[39m retries                                        \u001b[0m\u001b[39m \u001b[0m\u001b]8;id=128906;file:///home/cms-jovyan/integration-challenge/cms/utils/skimming.py\u001b\\\u001b[2mskimming.py\u001b[0m\u001b]8;;\u001b\\\u001b[2m:\u001b[0m\u001b]8;id=297757;file:///home/cms-jovyan/integration-challenge/cms/utils/skimming.py#426\u001b\\\u001b[2m426\u001b[0m\u001b]8;;\u001b\\\n"
      ]
     },
     "metadata": {},
     "output_type": "display_data"
    },
    {
     "data": {
      "text/html": [
       "<pre style=\"white-space:pre;overflow-x:auto;line-height:normal;font-family:Menlo,'DejaVu Sans Mono',consolas,'Courier New',monospace\"><span style=\"color: #7fbfbf; text-decoration-color: #7fbfbf\">         </span><span style=\"color: #000080; text-decoration-color: #000080\">INFO    </span> <span style=\"color: #000000; text-decoration-color: #000000\">Attempt </span><span style=\"color: #008080; text-decoration-color: #008080; font-weight: bold\">1</span><span style=\"color: #000000; text-decoration-color: #000000\">: processing </span><span style=\"color: #008080; text-decoration-color: #008080; font-weight: bold\">5</span><span style=\"color: #000000; text-decoration-color: #000000\"> workitems                                                 </span><a href=\"file:///home/cms-jovyan/integration-challenge/cms/utils/skimming.py\" target=\"_blank\"><span style=\"color: #7f7f7f; text-decoration-color: #7f7f7f\">skimming.py</span></a><span style=\"color: #7f7f7f; text-decoration-color: #7f7f7f\">:</span><a href=\"file:///home/cms-jovyan/integration-challenge/cms/utils/skimming.py#445\" target=\"_blank\"><span style=\"color: #7f7f7f; text-decoration-color: #7f7f7f\">445</span></a>\n",
       "</pre>\n"
      ],
      "text/plain": [
       "\u001b[2;36m        \u001b[0m\u001b[2;36m \u001b[0m\u001b[34mINFO    \u001b[0m \u001b[39mAttempt \u001b[0m\u001b[1;36m1\u001b[0m\u001b[39m: processing \u001b[0m\u001b[1;36m5\u001b[0m\u001b[39m workitems                                                \u001b[0m\u001b[39m \u001b[0m\u001b]8;id=781065;file:///home/cms-jovyan/integration-challenge/cms/utils/skimming.py\u001b\\\u001b[2mskimming.py\u001b[0m\u001b]8;;\u001b\\\u001b[2m:\u001b[0m\u001b]8;id=935358;file:///home/cms-jovyan/integration-challenge/cms/utils/skimming.py#445\u001b\\\u001b[2m445\u001b[0m\u001b]8;;\u001b\\\n"
      ]
     },
     "metadata": {},
     "output_type": "display_data"
    },
    {
     "data": {
      "text/html": [
       "<pre style=\"white-space:pre;overflow-x:auto;line-height:normal;font-family:Menlo,'DejaVu Sans Mono',consolas,'Courier New',monospace\"><span style=\"color: #7fbfbf; text-decoration-color: #7fbfbf\">10:27:43 </span><span style=\"color: #000080; text-decoration-color: #000080\">INFO    </span> <span style=\"color: #000000; text-decoration-color: #000000\">Attempt </span><span style=\"color: #008080; text-decoration-color: #008080; font-weight: bold\">1</span><span style=\"color: #000000; text-decoration-color: #000000\"> complete: </span><span style=\"color: #008080; text-decoration-color: #008080; font-weight: bold\">5</span><span style=\"color: #000000; text-decoration-color: #000000\"> successful, </span><span style=\"color: #008080; text-decoration-color: #008080; font-weight: bold\">0</span><span style=\"color: #000000; text-decoration-color: #000000\"> failed                                        </span><a href=\"file:///home/cms-jovyan/integration-challenge/cms/utils/skimming.py\" target=\"_blank\"><span style=\"color: #7f7f7f; text-decoration-color: #7f7f7f\">skimming.py</span></a><span style=\"color: #7f7f7f; text-decoration-color: #7f7f7f\">:</span><a href=\"file:///home/cms-jovyan/integration-challenge/cms/utils/skimming.py#488\" target=\"_blank\"><span style=\"color: #7f7f7f; text-decoration-color: #7f7f7f\">488</span></a>\n",
       "</pre>\n"
      ],
      "text/plain": [
       "\u001b[2;36m10:27:43\u001b[0m\u001b[2;36m \u001b[0m\u001b[34mINFO    \u001b[0m \u001b[39mAttempt \u001b[0m\u001b[1;36m1\u001b[0m\u001b[39m complete: \u001b[0m\u001b[1;36m5\u001b[0m\u001b[39m successful, \u001b[0m\u001b[1;36m0\u001b[0m\u001b[39m failed                                       \u001b[0m\u001b[39m \u001b[0m\u001b]8;id=137835;file:///home/cms-jovyan/integration-challenge/cms/utils/skimming.py\u001b\\\u001b[2mskimming.py\u001b[0m\u001b]8;;\u001b\\\u001b[2m:\u001b[0m\u001b]8;id=165013;file:///home/cms-jovyan/integration-challenge/cms/utils/skimming.py#488\u001b\\\u001b[2m488\u001b[0m\u001b]8;;\u001b\\\n"
      ]
     },
     "metadata": {},
     "output_type": "display_data"
    },
    {
     "data": {
      "text/html": [
       "<pre style=\"white-space:pre;overflow-x:auto;line-height:normal;font-family:Menlo,'DejaVu Sans Mono',consolas,'Courier New',monospace\"><span style=\"color: #7fbfbf; text-decoration-color: #7fbfbf\">         </span><span style=\"color: #000080; text-decoration-color: #000080\">INFO    </span> <span style=\"color: #000000; text-decoration-color: #000000\">All workitems processed successfully                                              </span><a href=\"file:///home/cms-jovyan/integration-challenge/cms/utils/skimming.py\" target=\"_blank\"><span style=\"color: #7f7f7f; text-decoration-color: #7f7f7f\">skimming.py</span></a><span style=\"color: #7f7f7f; text-decoration-color: #7f7f7f\">:</span><a href=\"file:///home/cms-jovyan/integration-challenge/cms/utils/skimming.py#511\" target=\"_blank\"><span style=\"color: #7f7f7f; text-decoration-color: #7f7f7f\">511</span></a>\n",
       "</pre>\n"
      ],
      "text/plain": [
       "\u001b[2;36m        \u001b[0m\u001b[2;36m \u001b[0m\u001b[34mINFO    \u001b[0m \u001b[39mAll workitems processed successfully                                             \u001b[0m\u001b[39m \u001b[0m\u001b]8;id=575226;file:///home/cms-jovyan/integration-challenge/cms/utils/skimming.py\u001b\\\u001b[2mskimming.py\u001b[0m\u001b]8;;\u001b\\\u001b[2m:\u001b[0m\u001b]8;id=521842;file:///home/cms-jovyan/integration-challenge/cms/utils/skimming.py#511\u001b\\\u001b[2m511\u001b[0m\u001b]8;;\u001b\\\n"
      ]
     },
     "metadata": {},
     "output_type": "display_data"
    },
    {
     "data": {
      "text/html": [
       "<pre style=\"white-space:pre;overflow-x:auto;line-height:normal;font-family:Menlo,'DejaVu Sans Mono',consolas,'Courier New',monospace\"><span style=\"color: #7fbfbf; text-decoration-color: #7fbfbf\">         </span><span style=\"color: #000080; text-decoration-color: #000080\">INFO    </span> <span style=\"color: #000000; text-decoration-color: #000000\">Processing Summary: </span><span style=\"color: #008080; text-decoration-color: #008080; font-weight: bold\">49</span><span style=\"color: #000000; text-decoration-color: #000000\">,</span><span style=\"color: #008080; text-decoration-color: #008080; font-weight: bold\">007</span><span style=\"color: #000000; text-decoration-color: #000000\"> total events saved                                     </span><a href=\"file:///home/cms-jovyan/integration-challenge/cms/utils/skimming.py\" target=\"_blank\"><span style=\"color: #7f7f7f; text-decoration-color: #7f7f7f\">skimming.py</span></a><span style=\"color: #7f7f7f; text-decoration-color: #7f7f7f\">:</span><a href=\"file:///home/cms-jovyan/integration-challenge/cms/utils/skimming.py#614\" target=\"_blank\"><span style=\"color: #7f7f7f; text-decoration-color: #7f7f7f\">614</span></a>\n",
       "</pre>\n"
      ],
      "text/plain": [
       "\u001b[2;36m        \u001b[0m\u001b[2;36m \u001b[0m\u001b[34mINFO    \u001b[0m \u001b[39mProcessing Summary: \u001b[0m\u001b[1;36m49\u001b[0m\u001b[39m,\u001b[0m\u001b[1;36m007\u001b[0m\u001b[39m total events saved                                    \u001b[0m\u001b[39m \u001b[0m\u001b]8;id=954564;file:///home/cms-jovyan/integration-challenge/cms/utils/skimming.py\u001b\\\u001b[2mskimming.py\u001b[0m\u001b]8;;\u001b\\\u001b[2m:\u001b[0m\u001b]8;id=348470;file:///home/cms-jovyan/integration-challenge/cms/utils/skimming.py#614\u001b\\\u001b[2m614\u001b[0m\u001b]8;;\u001b\\\n"
      ]
     },
     "metadata": {},
     "output_type": "display_data"
    },
    {
     "data": {
      "text/html": [
       "<pre style=\"white-space:pre;overflow-x:auto;line-height:normal;font-family:Menlo,'DejaVu Sans Mono',consolas,'Courier New',monospace\"><span style=\"color: #7fbfbf; text-decoration-color: #7fbfbf\">         </span><span style=\"color: #000080; text-decoration-color: #000080\">INFO    </span> <span style=\"color: #000000; text-decoration-color: #000000\">                                                                                  </span><a href=\"file:///home/cms-jovyan/integration-challenge/cms/utils/skimming.py\" target=\"_blank\"><span style=\"color: #7f7f7f; text-decoration-color: #7f7f7f\">skimming.py</span></a><span style=\"color: #7f7f7f; text-decoration-color: #7f7f7f\">:</span><a href=\"file:///home/cms-jovyan/integration-challenge/cms/utils/skimming.py#615\" target=\"_blank\"><span style=\"color: #7f7f7f; text-decoration-color: #7f7f7f\">615</span></a>\n",
       "<span style=\"color: #7fbfbf; text-decoration-color: #7fbfbf\">         </span>         <span style=\"color: #000000; text-decoration-color: #000000\">+-------------------+-----------------+                                           </span><span style=\"color: #7f7f7f; text-decoration-color: #7f7f7f\">               </span>\n",
       "<span style=\"color: #7fbfbf; text-decoration-color: #7fbfbf\">         </span>         <span style=\"color: #000000; text-decoration-color: #000000\">| Dataset           |   Files Written |                                           </span><span style=\"color: #7f7f7f; text-decoration-color: #7f7f7f\">               </span>\n",
       "<span style=\"color: #7fbfbf; text-decoration-color: #7fbfbf\">         </span>         <span style=\"color: #000000; text-decoration-color: #000000\">+===================+=================+                                           </span><span style=\"color: #7f7f7f; text-decoration-color: #7f7f7f\">               </span>\n",
       "<span style=\"color: #7fbfbf; text-decoration-color: #7fbfbf\">         </span>         <span style=\"color: #000000; text-decoration-color: #000000\">| signal_0__nominal |               </span><span style=\"color: #008080; text-decoration-color: #008080; font-weight: bold\">3</span><span style=\"color: #000000; text-decoration-color: #000000\"> |                                           </span><span style=\"color: #7f7f7f; text-decoration-color: #7f7f7f\">               </span>\n",
       "<span style=\"color: #7fbfbf; text-decoration-color: #7fbfbf\">         </span>         <span style=\"color: #000000; text-decoration-color: #000000\">+-------------------+-----------------+                                           </span><span style=\"color: #7f7f7f; text-decoration-color: #7f7f7f\">               </span>\n",
       "<span style=\"color: #7fbfbf; text-decoration-color: #7fbfbf\">         </span>         <span style=\"color: #000000; text-decoration-color: #000000\">| signal_1__nominal |               </span><span style=\"color: #008080; text-decoration-color: #008080; font-weight: bold\">2</span><span style=\"color: #000000; text-decoration-color: #000000\"> |                                           </span><span style=\"color: #7f7f7f; text-decoration-color: #7f7f7f\">               </span>\n",
       "<span style=\"color: #7fbfbf; text-decoration-color: #7fbfbf\">         </span>         <span style=\"color: #000000; text-decoration-color: #000000\">+-------------------+-----------------+                                           </span><span style=\"color: #7f7f7f; text-decoration-color: #7f7f7f\">               </span>\n",
       "<span style=\"color: #7fbfbf; text-decoration-color: #7fbfbf\">         </span>         <span style=\"color: #000000; text-decoration-color: #000000\">| TOTAL             |               </span><span style=\"color: #008080; text-decoration-color: #008080; font-weight: bold\">5</span><span style=\"color: #000000; text-decoration-color: #000000\"> |                                           </span><span style=\"color: #7f7f7f; text-decoration-color: #7f7f7f\">               </span>\n",
       "<span style=\"color: #7fbfbf; text-decoration-color: #7fbfbf\">         </span>         <span style=\"color: #000000; text-decoration-color: #000000\">+-------------------+-----------------+                                           </span><span style=\"color: #7f7f7f; text-decoration-color: #7f7f7f\">               </span>\n",
       "</pre>\n"
      ],
      "text/plain": [
       "\u001b[2;36m        \u001b[0m\u001b[2;36m \u001b[0m\u001b[34mINFO    \u001b[0m \u001b[39m                                                                                 \u001b[0m\u001b[39m \u001b[0m\u001b]8;id=287426;file:///home/cms-jovyan/integration-challenge/cms/utils/skimming.py\u001b\\\u001b[2mskimming.py\u001b[0m\u001b]8;;\u001b\\\u001b[2m:\u001b[0m\u001b]8;id=687060;file:///home/cms-jovyan/integration-challenge/cms/utils/skimming.py#615\u001b\\\u001b[2m615\u001b[0m\u001b]8;;\u001b\\\n",
       "\u001b[2;36m         \u001b[0m         \u001b[39m+-------------------+-----------------+                                          \u001b[0m\u001b[39m \u001b[0m\u001b[2m               \u001b[0m\n",
       "\u001b[2;36m         \u001b[0m         \u001b[39m| Dataset           |   Files Written |                                          \u001b[0m\u001b[39m \u001b[0m\u001b[2m               \u001b[0m\n",
       "\u001b[2;36m         \u001b[0m         \u001b[39m+===================+=================+                                          \u001b[0m\u001b[39m \u001b[0m\u001b[2m               \u001b[0m\n",
       "\u001b[2;36m         \u001b[0m         \u001b[39m| signal_0__nominal |               \u001b[0m\u001b[1;36m3\u001b[0m\u001b[39m |                                          \u001b[0m\u001b[39m \u001b[0m\u001b[2m               \u001b[0m\n",
       "\u001b[2;36m         \u001b[0m         \u001b[39m+-------------------+-----------------+                                          \u001b[0m\u001b[39m \u001b[0m\u001b[2m               \u001b[0m\n",
       "\u001b[2;36m         \u001b[0m         \u001b[39m| signal_1__nominal |               \u001b[0m\u001b[1;36m2\u001b[0m\u001b[39m |                                          \u001b[0m\u001b[39m \u001b[0m\u001b[2m               \u001b[0m\n",
       "\u001b[2;36m         \u001b[0m         \u001b[39m+-------------------+-----------------+                                          \u001b[0m\u001b[39m \u001b[0m\u001b[2m               \u001b[0m\n",
       "\u001b[2;36m         \u001b[0m         \u001b[39m| TOTAL             |               \u001b[0m\u001b[1;36m5\u001b[0m\u001b[39m |                                          \u001b[0m\u001b[39m \u001b[0m\u001b[2m               \u001b[0m\n",
       "\u001b[2;36m         \u001b[0m         \u001b[39m+-------------------+-----------------+                                          \u001b[0m\u001b[39m \u001b[0m\u001b[2m               \u001b[0m\n"
      ]
     },
     "metadata": {},
     "output_type": "display_data"
    },
    {
     "data": {
      "text/html": [
       "<pre style=\"white-space:pre;overflow-x:auto;line-height:normal;font-family:Menlo,'DejaVu Sans Mono',consolas,'Courier New',monospace\"><span style=\"color: #7fbfbf; text-decoration-color: #7fbfbf\">         </span><span style=\"color: #000080; text-decoration-color: #000080\">INFO    </span> <span style=\"color: #000000; text-decoration-color: #000000\">Skimming complete: </span><span style=\"color: #008080; text-decoration-color: #008080; font-weight: bold\">49</span><span style=\"color: #000000; text-decoration-color: #000000\">,</span><span style=\"color: #008080; text-decoration-color: #008080; font-weight: bold\">007</span><span style=\"color: #000000; text-decoration-color: #000000\"> events                                                  </span><a href=\"file:///home/cms-jovyan/integration-challenge/cms/utils/skimming.py\" target=\"_blank\"><span style=\"color: #7f7f7f; text-decoration-color: #7f7f7f\">skimming.py</span></a><span style=\"color: #7f7f7f; text-decoration-color: #7f7f7f\">:</span><a href=\"file:///home/cms-jovyan/integration-challenge/cms/utils/skimming.py#850\" target=\"_blank\"><span style=\"color: #7f7f7f; text-decoration-color: #7f7f7f\">850</span></a>\n",
       "</pre>\n"
      ],
      "text/plain": [
       "\u001b[2;36m        \u001b[0m\u001b[2;36m \u001b[0m\u001b[34mINFO    \u001b[0m \u001b[39mSkimming complete: \u001b[0m\u001b[1;36m49\u001b[0m\u001b[39m,\u001b[0m\u001b[1;36m007\u001b[0m\u001b[39m events                                                 \u001b[0m\u001b[39m \u001b[0m\u001b]8;id=489865;file:///home/cms-jovyan/integration-challenge/cms/utils/skimming.py\u001b\\\u001b[2mskimming.py\u001b[0m\u001b]8;;\u001b\\\u001b[2m:\u001b[0m\u001b]8;id=436315;file:///home/cms-jovyan/integration-challenge/cms/utils/skimming.py#850\u001b\\\u001b[2m850\u001b[0m\u001b]8;;\u001b\\\n"
      ]
     },
     "metadata": {},
     "output_type": "display_data"
    },
    {
     "data": {
      "text/html": [
       "<pre style=\"white-space:pre;overflow-x:auto;line-height:normal;font-family:Menlo,'DejaVu Sans Mono',consolas,'Courier New',monospace\"><span style=\"color: #7fbfbf; text-decoration-color: #7fbfbf\">         </span><span style=\"color: #000080; text-decoration-color: #000080\">INFO    </span> <span style=\"color: #000000; text-decoration-color: #000000\">Reading from saved files                                                          </span><a href=\"file:///home/cms-jovyan/integration-challenge/cms/utils/skimming.py\" target=\"_blank\"><span style=\"color: #7f7f7f; text-decoration-color: #7f7f7f\">skimming.py</span></a><span style=\"color: #7f7f7f; text-decoration-color: #7f7f7f\">:</span><a href=\"file:///home/cms-jovyan/integration-challenge/cms/utils/skimming.py#859\" target=\"_blank\"><span style=\"color: #7f7f7f; text-decoration-color: #7f7f7f\">859</span></a>\n",
       "</pre>\n"
      ],
      "text/plain": [
       "\u001b[2;36m        \u001b[0m\u001b[2;36m \u001b[0m\u001b[34mINFO    \u001b[0m \u001b[39mReading from saved files                                                         \u001b[0m\u001b[39m \u001b[0m\u001b]8;id=513370;file:///home/cms-jovyan/integration-challenge/cms/utils/skimming.py\u001b\\\u001b[2mskimming.py\u001b[0m\u001b]8;;\u001b\\\u001b[2m:\u001b[0m\u001b]8;id=565881;file:///home/cms-jovyan/integration-challenge/cms/utils/skimming.py#859\u001b\\\u001b[2m859\u001b[0m\u001b]8;;\u001b\\\n"
      ]
     },
     "metadata": {},
     "output_type": "display_data"
    },
    {
     "data": {
      "text/html": [
       "<pre style=\"white-space:pre;overflow-x:auto;line-height:normal;font-family:Menlo,'DejaVu Sans Mono',consolas,'Courier New',monospace\"><span style=\"color: #7fbfbf; text-decoration-color: #7fbfbf\">         </span><span style=\"color: #000080; text-decoration-color: #000080\">INFO    </span> <span style=\"color: #000000; text-decoration-color: #000000\">No existing output files found                                                    </span><a href=\"file:///home/cms-jovyan/integration-challenge/cms/utils/skimming.py\" target=\"_blank\"><span style=\"color: #7f7f7f; text-decoration-color: #7f7f7f\">skimming.py</span></a><span style=\"color: #7f7f7f; text-decoration-color: #7f7f7f\">:</span><a href=\"file:///home/cms-jovyan/integration-challenge/cms/utils/skimming.py#563\" target=\"_blank\"><span style=\"color: #7f7f7f; text-decoration-color: #7f7f7f\">563</span></a>\n",
       "</pre>\n"
      ],
      "text/plain": [
       "\u001b[2;36m        \u001b[0m\u001b[2;36m \u001b[0m\u001b[34mINFO    \u001b[0m \u001b[39mNo existing output files found                                                   \u001b[0m\u001b[39m \u001b[0m\u001b]8;id=157940;file:///home/cms-jovyan/integration-challenge/cms/utils/skimming.py\u001b\\\u001b[2mskimming.py\u001b[0m\u001b]8;;\u001b\\\u001b[2m:\u001b[0m\u001b]8;id=234710;file:///home/cms-jovyan/integration-challenge/cms/utils/skimming.py#563\u001b\\\u001b[2m563\u001b[0m\u001b]8;;\u001b\\\n"
      ]
     },
     "metadata": {},
     "output_type": "display_data"
    },
    {
     "data": {
      "text/html": [
       "<pre style=\"white-space:pre;overflow-x:auto;line-height:normal;font-family:Menlo,'DejaVu Sans Mono',consolas,'Courier New',monospace\"><span style=\"color: #7fbfbf; text-decoration-color: #7fbfbf\">         </span><span style=\"color: #808000; text-decoration-color: #808000\">WARNING </span> <span style=\"color: #000000; text-decoration-color: #000000\">No output files found for signal_0__nominal                                       </span><a href=\"file:///home/cms-jovyan/integration-challenge/cms/utils/skimming.py\" target=\"_blank\"><span style=\"color: #7f7f7f; text-decoration-color: #7f7f7f\">skimming.py</span></a><span style=\"color: #7f7f7f; text-decoration-color: #7f7f7f\">:</span><a href=\"file:///home/cms-jovyan/integration-challenge/cms/utils/skimming.py#988\" target=\"_blank\"><span style=\"color: #7f7f7f; text-decoration-color: #7f7f7f\">988</span></a>\n",
       "</pre>\n"
      ],
      "text/plain": [
       "\u001b[2;36m        \u001b[0m\u001b[2;36m \u001b[0m\u001b[33mWARNING \u001b[0m \u001b[39mNo output files found for signal_0__nominal                                      \u001b[0m\u001b[39m \u001b[0m\u001b]8;id=673845;file:///home/cms-jovyan/integration-challenge/cms/utils/skimming.py\u001b\\\u001b[2mskimming.py\u001b[0m\u001b]8;;\u001b\\\u001b[2m:\u001b[0m\u001b]8;id=471584;file:///home/cms-jovyan/integration-challenge/cms/utils/skimming.py#988\u001b\\\u001b[2m988\u001b[0m\u001b]8;;\u001b\\\n"
      ]
     },
     "metadata": {},
     "output_type": "display_data"
    },
    {
     "data": {
      "text/html": [
       "<pre style=\"white-space:pre;overflow-x:auto;line-height:normal;font-family:Menlo,'DejaVu Sans Mono',consolas,'Courier New',monospace\"><span style=\"color: #7fbfbf; text-decoration-color: #7fbfbf\">         </span><span style=\"color: #000080; text-decoration-color: #000080\">INFO    </span> <span style=\"color: #000000; text-decoration-color: #000000\">No existing output files found                                                    </span><a href=\"file:///home/cms-jovyan/integration-challenge/cms/utils/skimming.py\" target=\"_blank\"><span style=\"color: #7f7f7f; text-decoration-color: #7f7f7f\">skimming.py</span></a><span style=\"color: #7f7f7f; text-decoration-color: #7f7f7f\">:</span><a href=\"file:///home/cms-jovyan/integration-challenge/cms/utils/skimming.py#563\" target=\"_blank\"><span style=\"color: #7f7f7f; text-decoration-color: #7f7f7f\">563</span></a>\n",
       "</pre>\n"
      ],
      "text/plain": [
       "\u001b[2;36m        \u001b[0m\u001b[2;36m \u001b[0m\u001b[34mINFO    \u001b[0m \u001b[39mNo existing output files found                                                   \u001b[0m\u001b[39m \u001b[0m\u001b]8;id=61960;file:///home/cms-jovyan/integration-challenge/cms/utils/skimming.py\u001b\\\u001b[2mskimming.py\u001b[0m\u001b]8;;\u001b\\\u001b[2m:\u001b[0m\u001b]8;id=207651;file:///home/cms-jovyan/integration-challenge/cms/utils/skimming.py#563\u001b\\\u001b[2m563\u001b[0m\u001b]8;;\u001b\\\n"
      ]
     },
     "metadata": {},
     "output_type": "display_data"
    },
    {
     "data": {
      "text/html": [
       "<pre style=\"white-space:pre;overflow-x:auto;line-height:normal;font-family:Menlo,'DejaVu Sans Mono',consolas,'Courier New',monospace\"><span style=\"color: #7fbfbf; text-decoration-color: #7fbfbf\">         </span><span style=\"color: #808000; text-decoration-color: #808000\">WARNING </span> <span style=\"color: #000000; text-decoration-color: #000000\">No output files found for signal_1__nominal                                       </span><a href=\"file:///home/cms-jovyan/integration-challenge/cms/utils/skimming.py\" target=\"_blank\"><span style=\"color: #7f7f7f; text-decoration-color: #7f7f7f\">skimming.py</span></a><span style=\"color: #7f7f7f; text-decoration-color: #7f7f7f\">:</span><a href=\"file:///home/cms-jovyan/integration-challenge/cms/utils/skimming.py#988\" target=\"_blank\"><span style=\"color: #7f7f7f; text-decoration-color: #7f7f7f\">988</span></a>\n",
       "</pre>\n"
      ],
      "text/plain": [
       "\u001b[2;36m        \u001b[0m\u001b[2;36m \u001b[0m\u001b[33mWARNING \u001b[0m \u001b[39mNo output files found for signal_1__nominal                                      \u001b[0m\u001b[39m \u001b[0m\u001b]8;id=599671;file:///home/cms-jovyan/integration-challenge/cms/utils/skimming.py\u001b\\\u001b[2mskimming.py\u001b[0m\u001b]8;;\u001b\\\u001b[2m:\u001b[0m\u001b]8;id=775017;file:///home/cms-jovyan/integration-challenge/cms/utils/skimming.py#988\u001b\\\u001b[2m988\u001b[0m\u001b]8;;\u001b\\\n"
      ]
     },
     "metadata": {},
     "output_type": "display_data"
    },
    {
     "name": "stdout",
     "output_type": "stream",
     "text": [
      "\n",
      "✅ Skimming complete! Processed datasets structure:\n",
      "  📁 signal processed\n",
      "  📁 ttbar_semilep processed\n",
      "  📁 ttbar_had processed\n",
      "  📁 ttbar_lep processed\n",
      "  📁 wjets processed\n",
      "  📁 dyjets processed\n",
      "  📁 single_top processed\n",
      "  📁 qcd processed\n",
      "  📁 diboson processed\n",
      "  📁 data processed\n",
      "\n",
      "💾 Skimmed data saved to: /home/cms-jovyan/integration-challenge/cms/example-demo/outputs/skimmed\n"
     ]
    }
   ],
   "source": [
    "from utils.skimming import process_workitems_with_skimming\n",
    "\n",
    "# Extract datasets and workitems from metadata generator\n",
    "datasets = metadata_generator.datasets\n",
    "workitems = metadata_generator.workitems\n",
    "\n",
    "print(f\"📊 Processing {len(workitems)} workitems across {len(datasets)} datasets\")\n",
    "\n",
    "# Disable caching for demonstration\n",
    "validated_config.general.read_from_cache = False\n",
    "validated_config.general.run_skimming = True\n",
    "\n",
    "client, cluster = get_client()\n",
    "# Skim data with dask according to the workitems\n",
    "# This populates the Dataset objects with events\n",
    "datasets = process_workitems_with_skimming(\n",
    "    workitems[:5],\n",
    "    validated_config,\n",
    "    output_manager,\n",
    "    datasets,\n",
    "    metadata_generator.nanoaods_summary\n",
    ")\n",
    "close_client(client, cluster)\n",
    "\n",
    "# Display the structure of processed datasets\n",
    "print(f\"\\n✅ Skimming complete! Processed datasets structure:\")\n",
    "for dataset in datasets:\n",
    "    print(f\"  📁 {dataset.name} processed\")\n",
    "    if dataset.events:\n",
    "        for i, (events, metadata) in enumerate(dataset.events):\n",
    "            print(f\"    └── Split {i+1} ({metadata['dataset']}): {len(events)} events, {len(events.fields)} branches\")\n",
    "\n",
    "print(f\"\\n💾 Skimmed data saved to: {output_manager.get_skimmed_dir()}\")"
   ]
  },
  {
   "cell_type": "code",
   "execution_count": null,
   "id": "a2b7f222",
   "metadata": {},
   "outputs": [],
   "source": [
    "# Enable caching to show how it speeds up subsequent runs\n",
    "validated_config.general.read_from_cache = True\n",
    "validated_config.general.run_skimming = False\n",
    "# Run the skimming again - it will look for cached files\n",
    "# if they don't exist, it will fallback to skim regularly\n",
    "cached_datasets = process_workitems_with_skimming(\n",
    "    workitems,\n",
    "    validated_config,\n",
    "    output_manager,\n",
    "    datasets,\n",
    "    metadata_generator.nanoaods_summary\n",
    ")\n",
    "\n",
    "# Show cache directory contents\n",
    "import os\n",
    "cache_files = os.listdir(output_manager.get_skimmed_dir())\n",
    "print(f\"💾 Cached files in skimmed directory: {len(cache_files)} files\")\n",
    "print(f\"📁 Cache location: {output_manager.get_cache_dir()}\")"
   ]
  },
  {
   "cell_type": "markdown",
   "id": "99c3086d",
   "metadata": {},
   "source": [
    "# 6. Analysis & Histogramming\n",
    "\n",
    "This step encapsulates a few underlying function calls:\n",
    "1. Global event selection is applied\n",
    "2. If MVA training is configured and enabled, an MVA training will be triggered\n",
    "3. Apply corrections from `correctionlib`\n",
    "4. Ghost observables will be computed and added to event record\n",
    "6. Channels will be built with their corresponding selections\n",
    "7. Compute all observables (once nomina, once per systematic variation)\n",
    "8. Create histograms"
   ]
  },
  {
   "cell_type": "code",
   "execution_count": null,
   "id": "9d78ac14",
   "metadata": {},
   "outputs": [],
   "source": [
    "# Import the analysis class for the analysis\n",
    "from analysis.nondiff import NonDiffAnalysis\n",
    "from utils.output_files import save_histograms_to_root\n",
    "\n",
    "validated_config.general.run_histogramming=True\n",
    "\n",
    "# Initialize the analysis object with Dataset objects\n",
    "# This analysis object will handle histogram creation, observable computation, and systematic variations\n",
    "nondiff_analysis = NonDiffAnalysis(validated_config, datasets, output_manager)\n",
    "\n",
    "print(f\"🔬 Analysis initialized for {len(nondiff_analysis.datasets)} datasets\")\n",
    "\n",
    "# Loop over each Dataset object and its associated event data\n",
    "for dataset in nondiff_analysis.datasets:\n",
    "    print(f\"📊 Processing dataset: {dataset.name}\")\n",
    "    # Each dataset contains a list of (events, metadata) tuples for each fileset_key\n",
    "    if dataset.events:\n",
    "        for events, metadata in dataset.events:\n",
    "            print(f\"   • Processing {len(events)} events from {metadata['dataset']} (process: {metadata['process']})\")\n",
    "            # Process the events through the analysis pipeline:\n",
    "            nondiff_analysis.process(events, metadata)\n",
    "        \n",
    "save_histograms_to_root(\n",
    "    nondiff_analysis.nD_hists_per_region,\n",
    "    output_file=nondiff_analysis.output_manager.get_histograms_dir() / \"histograms.root\",\n",
    ")\n",
    "\n",
    "print(f\"📈 Generated histograms for channels: {[ch.name for ch in validated_config.channels]}\")"
   ]
  },
  {
   "cell_type": "markdown",
   "id": "f64a7776",
   "metadata": {},
   "source": [
    "# 7. Statistical Analysis\n",
    "\n",
    "The statistical analysis step performs a fit from the histograms and visualize results. This uses `cabinetry` with a manually created config. It also creates and stores the corresponding `pyhf` workspace.\n",
    "\n",
    "**Note: the following fit is performed with the full CMS open-data dataset, not the small example here** "
   ]
  },
  {
   "cell_type": "code",
   "execution_count": null,
   "id": "88ac3572",
   "metadata": {},
   "outputs": [],
   "source": [
    "import cabinetry\n",
    "validated_config.statistics.cabinetry_config = \"./example-demo/outputs/cabinetry/cabinetry_config.yaml\"\n",
    "cabinetry_config = cabinetry.configuration.load(\n",
    "    validated_config.statistics.cabinetry_config\n",
    ")\n",
    "data, fit_results, pre_fit_predictions, postfit_predictions = (\n",
    "    nondiff_analysis.run_fit(cabinetry_config=cabinetry_config)\n",
    ")\n",
    "cabinetry.visualize.data_mc(\n",
    "    pre_fit_predictions,\n",
    "    data,\n",
    "    close_figure=False,\n",
    "    config=cabinetry_config,\n",
    "    figure_folder=nondiff_analysis.output_manager.get_statistics_dir(),\n",
    "\n",
    ")\n",
    "cabinetry.visualize.data_mc(\n",
    "    postfit_predictions,\n",
    "    data,\n",
    "    close_figure=False,\n",
    "    config=cabinetry_config,\n",
    "    figure_folder=nondiff_analysis.output_manager.get_statistics_dir(),\n",
    ")\n",
    "cabinetry.visualize.pulls(fit_results, close_figure=False, figure_folder=nondiff_analysis.output_manager.get_statistics_dir(),)"
   ]
  },
  {
   "cell_type": "markdown",
   "id": "1455dcd8",
   "metadata": {},
   "source": [
    "## 8. Full Workflow\n",
    "\n",
    "The above workflow is broken down for demonstration, but the simplest way to use it is by putting the main pieces together in one simple steering script and running it from the command-line with CLI overrides of config options. The current implementation is steered by `analysis.py` and can be simply executed with:\n",
    "\n",
    "```sh\n",
    "python analysis.py\n",
    "```\n",
    "\n",
    "---"
   ]
  }
 ],
 "metadata": {
  "kernelspec": {
   "display_name": "Python 3 (ipykernel)",
   "language": "python",
   "name": "python3"
  },
  "language_info": {
   "codemirror_mode": {
    "name": "ipython",
    "version": 3
   },
   "file_extension": ".py",
   "mimetype": "text/x-python",
   "name": "python",
   "nbconvert_exporter": "python",
   "pygments_lexer": "ipython3",
   "version": "3.12.10"
  }
 },
 "nbformat": 4,
 "nbformat_minor": 5
}
