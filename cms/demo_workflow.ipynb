{
 "cells": [
  {
   "cell_type": "markdown",
   "id": "082a7547",
   "metadata": {},
   "source": [
    "# IRIS-HEP CMS Integration Challenge: Workflow Demonstration\n",
    "\n",
    "This notebook demonstrates the workflow of the IRIS-HEP CMS integration challenge. The workflow is modular and consists of the following steps:\n",
    "\n",
    "1. Environment Setup\n",
    "2. Configuration Construction\n",
    "3. Metadata Extraction\n",
    "4. Skimming\n",
    "5. Histogramming\n",
    "6. Statistical Analysis\n",
    "7. Plotting"
   ]
  },
  {
   "cell_type": "markdown",
   "id": "49c51884",
   "metadata": {},
   "source": [
    "## 1. Environment Setup\n",
    "\n",
    "To set up the environment, use the following command to launch JupyterLab with the required dependencies:\n",
    "\n",
    "```sh\n",
    "pixi run lab\n",
    "```\n",
    "\n",
    "Alternatively, if you prefer a Conda-like environment, activate it using the provided script:\n",
    "\n",
    "```sh\n",
    "source pixi_activate.sh\n",
    "```"
   ]
  },
  {
   "cell_type": "code",
   "execution_count": 1,
   "id": "4cf1e767-0be5-49d6-b316-aff8a7df67ea",
   "metadata": {},
   "outputs": [],
   "source": [
    "# [coffea-casa] Install packages\n",
    "# !pip install omegaconf\n",
    "# !pip install coffea==2025.7.3"
   ]
  },
  {
   "cell_type": "code",
   "execution_count": 2,
   "id": "d19c5d9d-f273-4b38-b0ab-0a944e10d99b",
   "metadata": {},
   "outputs": [],
   "source": [
    "# Dask stuff\n",
    "# Register some modules for dask workers to pickle/unpickle\n",
    "import cloudpickle\n",
    "import utils, user\n",
    "cloudpickle.register_pickle_by_value(utils)\n",
    "cloudpickle.register_pickle_by_value(user)\n",
    "\n",
    "# Setup some funcitons for dask client handling\n",
    "from dask.distributed import Client, LocalCluster, PipInstall\n",
    "\n",
    "COFFEA_CASA = True\n",
    "\n",
    "def get_client(n_workers=4):\n",
    "    if not COFFEA_CASA:\n",
    "        cluster = LocalCluster(n_workers=n_workers, processes=True, threads_per_worker=1)\n",
    "        client = Client(cluster)\n",
    "        print(f\"Dask dashboard: {cluster.dashboard_link}\")\n",
    "    else:\n",
    "        dependencies = [\"coffea==2025.7.3\"]\n",
    "        client = Client(\"tls://localhost:8786\")\n",
    "        client.register_plugin(PipInstall(packages=dependencies))\n",
    "        cluster = None  # no local cluster in this mode\n",
    "    return client, cluster\n",
    "\n",
    "def close_client(cluster, client):\n",
    "    if client:\n",
    "        client.close()\n",
    "    if cluster:\n",
    "        cluster.close()\n",
    "    return None, None"
   ]
  },
  {
   "cell_type": "markdown",
   "id": "d7fc6967",
   "metadata": {},
   "source": [
    "## 2. Configuration Construction\n",
    "\n",
    "A lightweight Python config defines general settings, datasets, cuts, observables, and systematics — all are type-checked and (mostly) CLI-overrideable.\n",
    "Everything else in the workflow reads from it."
   ]
  },
  {
   "cell_type": "code",
   "execution_count": 3,
   "id": "11ada530",
   "metadata": {},
   "outputs": [],
   "source": [
    "# Import Rich-based Configuration Display from logging module\n",
    "from utils.logging import display_config_table, get_config_logger\n",
    "\n",
    "# Create a global config logger instance for this notebook\n",
    "config_logger = get_config_logger()"
   ]
  },
  {
   "cell_type": "code",
   "execution_count": 4,
   "id": "e0534706",
   "metadata": {},
   "outputs": [
    {
     "name": "stdout",
     "output_type": "stream",
     "text": [
      "=== Full configuration ===\n"
     ]
    },
    {
     "data": {
      "text/html": [
       "<pre style=\"white-space:pre;overflow-x:auto;line-height:normal;font-family:Menlo,'DejaVu Sans Mono',consolas,'Courier New',monospace\"><span style=\"font-style: italic\">                                                 Configuration: GENERAL                                            </span>\n",
       "┏━━━━━━━━━━━━━━━━━━━━━━━━━━━━━━┳━━━━━━━━━━━━━━━━━━━━━━━━━━━━━━━━━━━━━━━━━━━━━━━━━━━━━━━━━━━━━━━━━━━━━━━━━━━━━━━━━━━\n",
       "┃<span style=\"font-weight: bold\"> Key                          </span>┃<span style=\"font-weight: bold\"> Value                                                                             </span>\n",
       "┡━━━━━━━━━━━━━━━━━━━━━━━━━━━━━━╇━━━━━━━━━━━━━━━━━━━━━━━━━━━━━━━━━━━━━━━━━━━━━━━━━━━━━━━━━━━━━━━━━━━━━━━━━━━━━━━━━━━\n",
       "│<span style=\"color: #008080; text-decoration-color: #008080; font-weight: bold\"> lumi                         </span>│ 16400                                                                             \n",
       "│<span style=\"color: #008080; text-decoration-color: #008080; font-weight: bold\"> weight_branch                </span>│ 'genWeight'                                                                       \n",
       "│<span style=\"color: #008080; text-decoration-color: #008080; font-weight: bold\"> analysis                     </span>│ 'nondiff'                                                                         \n",
       "│<span style=\"color: #008080; text-decoration-color: #008080; font-weight: bold\"> run_skimming                 </span>│ False                                                                             \n",
       "│<span style=\"color: #008080; text-decoration-color: #008080; font-weight: bold\"> run_histogramming            </span>│ True                                                                              \n",
       "│<span style=\"color: #008080; text-decoration-color: #008080; font-weight: bold\"> run_statistics               </span>│ True                                                                              \n",
       "│<span style=\"color: #008080; text-decoration-color: #008080; font-weight: bold\"> run_systematics              </span>│ True                                                                              \n",
       "│<span style=\"color: #008080; text-decoration-color: #008080; font-weight: bold\"> run_plots_only               </span>│ False                                                                             \n",
       "│<span style=\"color: #008080; text-decoration-color: #008080; font-weight: bold\"> run_mva_training             </span>│ False                                                                             \n",
       "│<span style=\"color: #008080; text-decoration-color: #008080; font-weight: bold\"> run_metadata_generation      </span>│ False                                                                             \n",
       "│<span style=\"color: #008080; text-decoration-color: #008080; font-weight: bold\"> read_from_cache              </span>│ True                                                                              \n",
       "│<span style=\"color: #008080; text-decoration-color: #008080; font-weight: bold\"> output_dir                   </span>│ 'example-demo/outputs/'                                                           \n",
       "│<span style=\"color: #008080; text-decoration-color: #008080; font-weight: bold\"> lumifile                     </span>│ './corrections/Cert_271036-284044_13TeV_Legacy2016_Collisions16_JSON.txt'         \n",
       "│<span style=\"color: #008080; text-decoration-color: #008080; font-weight: bold\"> cache_dir                    </span>│ '/tmp/integration/'                                                               \n",
       "└──────────────────────────────┴───────────────────────────────────────────────────────────────────────────────────\n",
       "</pre>\n"
      ],
      "text/plain": [
       "\u001b[3m                                                 Configuration: GENERAL                                            \u001b[0m\n",
       "┏━━━━━━━━━━━━━━━━━━━━━━━━━━━━━━┳━━━━━━━━━━━━━━━━━━━━━━━━━━━━━━━━━━━━━━━━━━━━━━━━━━━━━━━━━━━━━━━━━━━━━━━━━━━━━━━━━━━\n",
       "┃\u001b[1m \u001b[0m\u001b[1mKey                         \u001b[0m\u001b[1m \u001b[0m┃\u001b[1m \u001b[0m\u001b[1mValue                                                                             \u001b[0m\n",
       "┡━━━━━━━━━━━━━━━━━━━━━━━━━━━━━━╇━━━━━━━━━━━━━━━━━━━━━━━━━━━━━━━━━━━━━━━━━━━━━━━━━━━━━━━━━━━━━━━━━━━━━━━━━━━━━━━━━━━\n",
       "│\u001b[1;36m \u001b[0m\u001b[1;36mlumi                        \u001b[0m\u001b[1;36m \u001b[0m│ 16400                                                                             \n",
       "│\u001b[1;36m \u001b[0m\u001b[1;36mweight_branch               \u001b[0m\u001b[1;36m \u001b[0m│ 'genWeight'                                                                       \n",
       "│\u001b[1;36m \u001b[0m\u001b[1;36manalysis                    \u001b[0m\u001b[1;36m \u001b[0m│ 'nondiff'                                                                         \n",
       "│\u001b[1;36m \u001b[0m\u001b[1;36mrun_skimming                \u001b[0m\u001b[1;36m \u001b[0m│ False                                                                             \n",
       "│\u001b[1;36m \u001b[0m\u001b[1;36mrun_histogramming           \u001b[0m\u001b[1;36m \u001b[0m│ True                                                                              \n",
       "│\u001b[1;36m \u001b[0m\u001b[1;36mrun_statistics              \u001b[0m\u001b[1;36m \u001b[0m│ True                                                                              \n",
       "│\u001b[1;36m \u001b[0m\u001b[1;36mrun_systematics             \u001b[0m\u001b[1;36m \u001b[0m│ True                                                                              \n",
       "│\u001b[1;36m \u001b[0m\u001b[1;36mrun_plots_only              \u001b[0m\u001b[1;36m \u001b[0m│ False                                                                             \n",
       "│\u001b[1;36m \u001b[0m\u001b[1;36mrun_mva_training            \u001b[0m\u001b[1;36m \u001b[0m│ False                                                                             \n",
       "│\u001b[1;36m \u001b[0m\u001b[1;36mrun_metadata_generation     \u001b[0m\u001b[1;36m \u001b[0m│ False                                                                             \n",
       "│\u001b[1;36m \u001b[0m\u001b[1;36mread_from_cache             \u001b[0m\u001b[1;36m \u001b[0m│ True                                                                              \n",
       "│\u001b[1;36m \u001b[0m\u001b[1;36moutput_dir                  \u001b[0m\u001b[1;36m \u001b[0m│ 'example-demo/outputs/'                                                           \n",
       "│\u001b[1;36m \u001b[0m\u001b[1;36mlumifile                    \u001b[0m\u001b[1;36m \u001b[0m│ './corrections/Cert_271036-284044_13TeV_Legacy2016_Collisions16_JSON.txt'         \n",
       "│\u001b[1;36m \u001b[0m\u001b[1;36mcache_dir                   \u001b[0m\u001b[1;36m \u001b[0m│ '/tmp/integration/'                                                               \n",
       "└──────────────────────────────┴───────────────────────────────────────────────────────────────────────────────────\n"
      ]
     },
     "metadata": {},
     "output_type": "display_data"
    },
    {
     "data": {
      "text/html": [
       "<pre style=\"white-space:pre;overflow-x:auto;line-height:normal;font-family:Menlo,'DejaVu Sans Mono',consolas,'Courier New',monospace\"><span style=\"font-style: italic\">                                               Configuration: PREPROCESS                                           </span>\n",
       "┏━━━━━━━━━━━━━━━━━━━━━━━━━━━━━━━┳━━━━━━━━━━━━━━━━━━━━━━━━━━━━━━━━━━━━━━━━━━━━━━━━━━━━━━━━━━━━━━━━━━━━━━━━━━━━━━━━━━\n",
       "┃<span style=\"font-weight: bold\"> Key                           </span>┃<span style=\"font-weight: bold\"> Value                                                                            </span>\n",
       "┡━━━━━━━━━━━━━━━━━━━━━━━━━━━━━━━╇━━━━━━━━━━━━━━━━━━━━━━━━━━━━━━━━━━━━━━━━━━━━━━━━━━━━━━━━━━━━━━━━━━━━━━━━━━━━━━━━━━\n",
       "│<span style=\"color: #008080; text-decoration-color: #008080; font-weight: bold\"> branches                      </span>│ {                                                                                \n",
       "│<span style=\"color: #008080; text-decoration-color: #008080; font-weight: bold\">                               </span>│   Muon:                                                                          \n",
       "│<span style=\"color: #008080; text-decoration-color: #008080; font-weight: bold\">                               </span>│ [                                                                                \n",
       "│<span style=\"color: #008080; text-decoration-color: #008080; font-weight: bold\">                               </span>│     [0]: 'pt'                                                                    \n",
       "│<span style=\"color: #008080; text-decoration-color: #008080; font-weight: bold\">                               </span>│     [1]: 'eta'                                                                   \n",
       "│<span style=\"color: #008080; text-decoration-color: #008080; font-weight: bold\">                               </span>│     [2]: 'phi'                                                                   \n",
       "│<span style=\"color: #008080; text-decoration-color: #008080; font-weight: bold\">                               </span>│     [3]: 'mass'                                                                  \n",
       "│<span style=\"color: #008080; text-decoration-color: #008080; font-weight: bold\">                               </span>│     [4]: 'miniIsoId'                                                             \n",
       "│<span style=\"color: #008080; text-decoration-color: #008080; font-weight: bold\">                               </span>│     [5]: 'tightId'                                                               \n",
       "│<span style=\"color: #008080; text-decoration-color: #008080; font-weight: bold\">                               </span>│     [6]: 'charge'                                                                \n",
       "│<span style=\"color: #008080; text-decoration-color: #008080; font-weight: bold\">                               </span>│   ]                                                                              \n",
       "│<span style=\"color: #008080; text-decoration-color: #008080; font-weight: bold\">                               </span>│   FatJet: ['particleNet_TvsQCD', 'pt', 'eta', 'phi', 'mass']                     \n",
       "│<span style=\"color: #008080; text-decoration-color: #008080; font-weight: bold\">                               </span>│   Jet:                                                                           \n",
       "│<span style=\"color: #008080; text-decoration-color: #008080; font-weight: bold\">                               </span>│ [                                                                                \n",
       "│<span style=\"color: #008080; text-decoration-color: #008080; font-weight: bold\">                               </span>│     [0]: 'btagDeepB'                                                             \n",
       "│<span style=\"color: #008080; text-decoration-color: #008080; font-weight: bold\">                               </span>│     [1]: 'jetId'                                                                 \n",
       "│<span style=\"color: #008080; text-decoration-color: #008080; font-weight: bold\">                               </span>│     [2]: 'pt'                                                                    \n",
       "│<span style=\"color: #008080; text-decoration-color: #008080; font-weight: bold\">                               </span>│     [3]: 'eta'                                                                   \n",
       "│<span style=\"color: #008080; text-decoration-color: #008080; font-weight: bold\">                               </span>│     [4]: 'phi'                                                                   \n",
       "│<span style=\"color: #008080; text-decoration-color: #008080; font-weight: bold\">                               </span>│     [5]: 'mass'                                                                  \n",
       "│<span style=\"color: #008080; text-decoration-color: #008080; font-weight: bold\">                               </span>│   ]                                                                              \n",
       "│<span style=\"color: #008080; text-decoration-color: #008080; font-weight: bold\">                               </span>│   PuppiMET: ['pt', 'phi']                                                        \n",
       "│<span style=\"color: #008080; text-decoration-color: #008080; font-weight: bold\">                               </span>│   HLT: ['TkMu50']                                                                \n",
       "│<span style=\"color: #008080; text-decoration-color: #008080; font-weight: bold\">                               </span>│   Pileup: ['nTrueInt']                                                           \n",
       "│<span style=\"color: #008080; text-decoration-color: #008080; font-weight: bold\">                               </span>│   event: ['genWeight', 'run', 'luminosityBlock', 'event']                        \n",
       "│<span style=\"color: #008080; text-decoration-color: #008080; font-weight: bold\">                               </span>│ }                                                                                \n",
       "│<span style=\"color: #008080; text-decoration-color: #008080; font-weight: bold\"> ignore_missing                </span>│ False                                                                            \n",
       "│<span style=\"color: #008080; text-decoration-color: #008080; font-weight: bold\"> mc_branches                   </span>│ {                                                                                \n",
       "│<span style=\"color: #008080; text-decoration-color: #008080; font-weight: bold\">                               </span>│   event: ['genWeight']                                                           \n",
       "│<span style=\"color: #008080; text-decoration-color: #008080; font-weight: bold\">                               </span>│   Pileup: ['nTrueInt']                                                           \n",
       "│<span style=\"color: #008080; text-decoration-color: #008080; font-weight: bold\">                               </span>│ }                                                                                \n",
       "│<span style=\"color: #008080; text-decoration-color: #008080; font-weight: bold\"> skimming                      </span>│ {                                                                                \n",
       "│<span style=\"color: #008080; text-decoration-color: #008080; font-weight: bold\">                               </span>│   selection_function: Function: default_skim_selection                           \n",
       "│<span style=\"color: #008080; text-decoration-color: #008080; font-weight: bold\">                               </span>│   selection_use: [('PuppiMET', None), ('HLT', None)]                             \n",
       "│<span style=\"color: #008080; text-decoration-color: #008080; font-weight: bold\">                               </span>│   chunk_size: 100000                                                             \n",
       "│<span style=\"color: #008080; text-decoration-color: #008080; font-weight: bold\">                               </span>│   tree_name: 'Events'                                                            \n",
       "│<span style=\"color: #008080; text-decoration-color: #008080; font-weight: bold\">                               </span>│ }                                                                                \n",
       "└───────────────────────────────┴──────────────────────────────────────────────────────────────────────────────────\n",
       "</pre>\n"
      ],
      "text/plain": [
       "\u001b[3m                                               Configuration: PREPROCESS                                           \u001b[0m\n",
       "┏━━━━━━━━━━━━━━━━━━━━━━━━━━━━━━━┳━━━━━━━━━━━━━━━━━━━━━━━━━━━━━━━━━━━━━━━━━━━━━━━━━━━━━━━━━━━━━━━━━━━━━━━━━━━━━━━━━━\n",
       "┃\u001b[1m \u001b[0m\u001b[1mKey                          \u001b[0m\u001b[1m \u001b[0m┃\u001b[1m \u001b[0m\u001b[1mValue                                                                            \u001b[0m\n",
       "┡━━━━━━━━━━━━━━━━━━━━━━━━━━━━━━━╇━━━━━━━━━━━━━━━━━━━━━━━━━━━━━━━━━━━━━━━━━━━━━━━━━━━━━━━━━━━━━━━━━━━━━━━━━━━━━━━━━━\n",
       "│\u001b[1;36m \u001b[0m\u001b[1;36mbranches                     \u001b[0m\u001b[1;36m \u001b[0m│ {                                                                                \n",
       "│\u001b[1;36m                               \u001b[0m│   Muon:                                                                          \n",
       "│\u001b[1;36m                               \u001b[0m│ [                                                                                \n",
       "│\u001b[1;36m                               \u001b[0m│     [0]: 'pt'                                                                    \n",
       "│\u001b[1;36m                               \u001b[0m│     [1]: 'eta'                                                                   \n",
       "│\u001b[1;36m                               \u001b[0m│     [2]: 'phi'                                                                   \n",
       "│\u001b[1;36m                               \u001b[0m│     [3]: 'mass'                                                                  \n",
       "│\u001b[1;36m                               \u001b[0m│     [4]: 'miniIsoId'                                                             \n",
       "│\u001b[1;36m                               \u001b[0m│     [5]: 'tightId'                                                               \n",
       "│\u001b[1;36m                               \u001b[0m│     [6]: 'charge'                                                                \n",
       "│\u001b[1;36m                               \u001b[0m│   ]                                                                              \n",
       "│\u001b[1;36m                               \u001b[0m│   FatJet: ['particleNet_TvsQCD', 'pt', 'eta', 'phi', 'mass']                     \n",
       "│\u001b[1;36m                               \u001b[0m│   Jet:                                                                           \n",
       "│\u001b[1;36m                               \u001b[0m│ [                                                                                \n",
       "│\u001b[1;36m                               \u001b[0m│     [0]: 'btagDeepB'                                                             \n",
       "│\u001b[1;36m                               \u001b[0m│     [1]: 'jetId'                                                                 \n",
       "│\u001b[1;36m                               \u001b[0m│     [2]: 'pt'                                                                    \n",
       "│\u001b[1;36m                               \u001b[0m│     [3]: 'eta'                                                                   \n",
       "│\u001b[1;36m                               \u001b[0m│     [4]: 'phi'                                                                   \n",
       "│\u001b[1;36m                               \u001b[0m│     [5]: 'mass'                                                                  \n",
       "│\u001b[1;36m                               \u001b[0m│   ]                                                                              \n",
       "│\u001b[1;36m                               \u001b[0m│   PuppiMET: ['pt', 'phi']                                                        \n",
       "│\u001b[1;36m                               \u001b[0m│   HLT: ['TkMu50']                                                                \n",
       "│\u001b[1;36m                               \u001b[0m│   Pileup: ['nTrueInt']                                                           \n",
       "│\u001b[1;36m                               \u001b[0m│   event: ['genWeight', 'run', 'luminosityBlock', 'event']                        \n",
       "│\u001b[1;36m                               \u001b[0m│ }                                                                                \n",
       "│\u001b[1;36m \u001b[0m\u001b[1;36mignore_missing               \u001b[0m\u001b[1;36m \u001b[0m│ False                                                                            \n",
       "│\u001b[1;36m \u001b[0m\u001b[1;36mmc_branches                  \u001b[0m\u001b[1;36m \u001b[0m│ {                                                                                \n",
       "│\u001b[1;36m                               \u001b[0m│   event: ['genWeight']                                                           \n",
       "│\u001b[1;36m                               \u001b[0m│   Pileup: ['nTrueInt']                                                           \n",
       "│\u001b[1;36m                               \u001b[0m│ }                                                                                \n",
       "│\u001b[1;36m \u001b[0m\u001b[1;36mskimming                     \u001b[0m\u001b[1;36m \u001b[0m│ {                                                                                \n",
       "│\u001b[1;36m                               \u001b[0m│   selection_function: Function: default_skim_selection                           \n",
       "│\u001b[1;36m                               \u001b[0m│   selection_use: [('PuppiMET', None), ('HLT', None)]                             \n",
       "│\u001b[1;36m                               \u001b[0m│   chunk_size: 100000                                                             \n",
       "│\u001b[1;36m                               \u001b[0m│   tree_name: 'Events'                                                            \n",
       "│\u001b[1;36m                               \u001b[0m│ }                                                                                \n",
       "└───────────────────────────────┴──────────────────────────────────────────────────────────────────────────────────\n"
      ]
     },
     "metadata": {},
     "output_type": "display_data"
    },
    {
     "data": {
      "text/html": [
       "<pre style=\"white-space:pre;overflow-x:auto;line-height:normal;font-family:Menlo,'DejaVu Sans Mono',consolas,'Courier New',monospace\"><span style=\"font-style: italic\">                                           Configuration: BASELINE_SELECTION                                       </span>\n",
       "┏━━━━━━━━━━━━━━━━━━━━━━━━━━━━━━━━━━━┳━━━━━━━━━━━━━━━━━━━━━━━━━━━━━━━━━━━━━━━━━━━━━━━━━━━━━━━━━━━━━━━━━━━━━━━━━━━━━━\n",
       "┃<span style=\"font-weight: bold\"> Key                               </span>┃<span style=\"font-weight: bold\"> Value                                                                        </span>\n",
       "┡━━━━━━━━━━━━━━━━━━━━━━━━━━━━━━━━━━━╇━━━━━━━━━━━━━━━━━━━━━━━━━━━━━━━━━━━━━━━━━━━━━━━━━━━━━━━━━━━━━━━━━━━━━━━━━━━━━━\n",
       "│<span style=\"color: #008080; text-decoration-color: #008080; font-weight: bold\"> function                          </span>│ Function: Zprime_hardcuts_no_fj                                              \n",
       "│<span style=\"color: #008080; text-decoration-color: #008080; font-weight: bold\"> use                               </span>│ [('Muon', None), ('Jet', None)]                                              \n",
       "└───────────────────────────────────┴──────────────────────────────────────────────────────────────────────────────\n",
       "</pre>\n"
      ],
      "text/plain": [
       "\u001b[3m                                           Configuration: BASELINE_SELECTION                                       \u001b[0m\n",
       "┏━━━━━━━━━━━━━━━━━━━━━━━━━━━━━━━━━━━┳━━━━━━━━━━━━━━━━━━━━━━━━━━━━━━━━━━━━━━━━━━━━━━━━━━━━━━━━━━━━━━━━━━━━━━━━━━━━━━\n",
       "┃\u001b[1m \u001b[0m\u001b[1mKey                              \u001b[0m\u001b[1m \u001b[0m┃\u001b[1m \u001b[0m\u001b[1mValue                                                                        \u001b[0m\n",
       "┡━━━━━━━━━━━━━━━━━━━━━━━━━━━━━━━━━━━╇━━━━━━━━━━━━━━━━━━━━━━━━━━━━━━━━━━━━━━━━━━━━━━━━━━━━━━━━━━━━━━━━━━━━━━━━━━━━━━\n",
       "│\u001b[1;36m \u001b[0m\u001b[1;36mfunction                         \u001b[0m\u001b[1;36m \u001b[0m│ Function: Zprime_hardcuts_no_fj                                              \n",
       "│\u001b[1;36m \u001b[0m\u001b[1;36muse                              \u001b[0m\u001b[1;36m \u001b[0m│ [('Muon', None), ('Jet', None)]                                              \n",
       "└───────────────────────────────────┴──────────────────────────────────────────────────────────────────────────────\n"
      ]
     },
     "metadata": {},
     "output_type": "display_data"
    },
    {
     "data": {
      "text/html": [
       "<pre style=\"white-space:pre;overflow-x:auto;line-height:normal;font-family:Menlo,'DejaVu Sans Mono',consolas,'Courier New',monospace\"><span style=\"font-style: italic\">                                            Configuration: GOOD_OBJECT_MASKS                                       </span>\n",
       "┏━━━━━━━━━━━━━━━━━━━━━━━━━━━━━━━━━━━┳━━━━━━━━━━━━━━━━━━━━━━━━━━━━━━━━━━━━━━━━━━━━━━━━━━━━━━━━━━━━━━━━━━━━━━━━━━━━━━\n",
       "┃<span style=\"font-weight: bold\"> Key                               </span>┃<span style=\"font-weight: bold\"> Value                                                                        </span>\n",
       "┡━━━━━━━━━━━━━━━━━━━━━━━━━━━━━━━━━━━╇━━━━━━━━━━━━━━━━━━━━━━━━━━━━━━━━━━━━━━━━━━━━━━━━━━━━━━━━━━━━━━━━━━━━━━━━━━━━━━\n",
       "│<span style=\"color: #008080; text-decoration-color: #008080; font-weight: bold\"> analysis                          </span>│ [                                                                            \n",
       "│<span style=\"color: #008080; text-decoration-color: #008080; font-weight: bold\">                                   </span>│   [0]:                                                                       \n",
       "│<span style=\"color: #008080; text-decoration-color: #008080; font-weight: bold\">                                   </span>│ {                                                                            \n",
       "│<span style=\"color: #008080; text-decoration-color: #008080; font-weight: bold\">                                   </span>│     object: 'Muon'                                                           \n",
       "│<span style=\"color: #008080; text-decoration-color: #008080; font-weight: bold\">                                   </span>│     function: Function: &lt;lambda&gt;                                             \n",
       "│<span style=\"color: #008080; text-decoration-color: #008080; font-weight: bold\">                                   </span>│     use: [('Muon', None)]                                                    \n",
       "│<span style=\"color: #008080; text-decoration-color: #008080; font-weight: bold\">                                   </span>│   }                                                                          \n",
       "│<span style=\"color: #008080; text-decoration-color: #008080; font-weight: bold\">                                   </span>│   [1]:                                                                       \n",
       "│<span style=\"color: #008080; text-decoration-color: #008080; font-weight: bold\">                                   </span>│ {                                                                            \n",
       "│<span style=\"color: #008080; text-decoration-color: #008080; font-weight: bold\">                                   </span>│     object: 'Jet'                                                            \n",
       "│<span style=\"color: #008080; text-decoration-color: #008080; font-weight: bold\">                                   </span>│     function: Function: &lt;lambda&gt;                                             \n",
       "│<span style=\"color: #008080; text-decoration-color: #008080; font-weight: bold\">                                   </span>│     use: [('Jet', None)]                                                     \n",
       "│<span style=\"color: #008080; text-decoration-color: #008080; font-weight: bold\">                                   </span>│   }                                                                          \n",
       "│<span style=\"color: #008080; text-decoration-color: #008080; font-weight: bold\">                                   </span>│   [2]:                                                                       \n",
       "│<span style=\"color: #008080; text-decoration-color: #008080; font-weight: bold\">                                   </span>│ {                                                                            \n",
       "│<span style=\"color: #008080; text-decoration-color: #008080; font-weight: bold\">                                   </span>│     object: 'FatJet'                                                         \n",
       "│<span style=\"color: #008080; text-decoration-color: #008080; font-weight: bold\">                                   </span>│     function: Function: &lt;lambda&gt;                                             \n",
       "│<span style=\"color: #008080; text-decoration-color: #008080; font-weight: bold\">                                   </span>│     use: [('FatJet', None)]                                                  \n",
       "│<span style=\"color: #008080; text-decoration-color: #008080; font-weight: bold\">                                   </span>│   }                                                                          \n",
       "│<span style=\"color: #008080; text-decoration-color: #008080; font-weight: bold\">                                   </span>│ ]                                                                            \n",
       "│<span style=\"color: #008080; text-decoration-color: #008080; font-weight: bold\"> mva                               </span>│ [                                                                            \n",
       "│<span style=\"color: #008080; text-decoration-color: #008080; font-weight: bold\">                                   </span>│   [0]:                                                                       \n",
       "│<span style=\"color: #008080; text-decoration-color: #008080; font-weight: bold\">                                   </span>│ {                                                                            \n",
       "│<span style=\"color: #008080; text-decoration-color: #008080; font-weight: bold\">                                   </span>│     object: 'Muon'                                                           \n",
       "│<span style=\"color: #008080; text-decoration-color: #008080; font-weight: bold\">                                   </span>│     function: Function: &lt;lambda&gt;                                             \n",
       "│<span style=\"color: #008080; text-decoration-color: #008080; font-weight: bold\">                                   </span>│     use: [('Muon', None)]                                                    \n",
       "│<span style=\"color: #008080; text-decoration-color: #008080; font-weight: bold\">                                   </span>│   }                                                                          \n",
       "│<span style=\"color: #008080; text-decoration-color: #008080; font-weight: bold\">                                   </span>│   [1]:                                                                       \n",
       "│<span style=\"color: #008080; text-decoration-color: #008080; font-weight: bold\">                                   </span>│ {                                                                            \n",
       "│<span style=\"color: #008080; text-decoration-color: #008080; font-weight: bold\">                                   </span>│     object: 'FatJet'                                                         \n",
       "│<span style=\"color: #008080; text-decoration-color: #008080; font-weight: bold\">                                   </span>│     function: Function: &lt;lambda&gt;                                             \n",
       "│<span style=\"color: #008080; text-decoration-color: #008080; font-weight: bold\">                                   </span>│     use: [('FatJet', None)]                                                  \n",
       "│<span style=\"color: #008080; text-decoration-color: #008080; font-weight: bold\">                                   </span>│   }                                                                          \n",
       "│<span style=\"color: #008080; text-decoration-color: #008080; font-weight: bold\">                                   </span>│ ]                                                                            \n",
       "└───────────────────────────────────┴──────────────────────────────────────────────────────────────────────────────\n",
       "</pre>\n"
      ],
      "text/plain": [
       "\u001b[3m                                            Configuration: GOOD_OBJECT_MASKS                                       \u001b[0m\n",
       "┏━━━━━━━━━━━━━━━━━━━━━━━━━━━━━━━━━━━┳━━━━━━━━━━━━━━━━━━━━━━━━━━━━━━━━━━━━━━━━━━━━━━━━━━━━━━━━━━━━━━━━━━━━━━━━━━━━━━\n",
       "┃\u001b[1m \u001b[0m\u001b[1mKey                              \u001b[0m\u001b[1m \u001b[0m┃\u001b[1m \u001b[0m\u001b[1mValue                                                                        \u001b[0m\n",
       "┡━━━━━━━━━━━━━━━━━━━━━━━━━━━━━━━━━━━╇━━━━━━━━━━━━━━━━━━━━━━━━━━━━━━━━━━━━━━━━━━━━━━━━━━━━━━━━━━━━━━━━━━━━━━━━━━━━━━\n",
       "│\u001b[1;36m \u001b[0m\u001b[1;36manalysis                         \u001b[0m\u001b[1;36m \u001b[0m│ [                                                                            \n",
       "│\u001b[1;36m                                   \u001b[0m│   [0]:                                                                       \n",
       "│\u001b[1;36m                                   \u001b[0m│ {                                                                            \n",
       "│\u001b[1;36m                                   \u001b[0m│     object: 'Muon'                                                           \n",
       "│\u001b[1;36m                                   \u001b[0m│     function: Function: <lambda>                                             \n",
       "│\u001b[1;36m                                   \u001b[0m│     use: [('Muon', None)]                                                    \n",
       "│\u001b[1;36m                                   \u001b[0m│   }                                                                          \n",
       "│\u001b[1;36m                                   \u001b[0m│   [1]:                                                                       \n",
       "│\u001b[1;36m                                   \u001b[0m│ {                                                                            \n",
       "│\u001b[1;36m                                   \u001b[0m│     object: 'Jet'                                                            \n",
       "│\u001b[1;36m                                   \u001b[0m│     function: Function: <lambda>                                             \n",
       "│\u001b[1;36m                                   \u001b[0m│     use: [('Jet', None)]                                                     \n",
       "│\u001b[1;36m                                   \u001b[0m│   }                                                                          \n",
       "│\u001b[1;36m                                   \u001b[0m│   [2]:                                                                       \n",
       "│\u001b[1;36m                                   \u001b[0m│ {                                                                            \n",
       "│\u001b[1;36m                                   \u001b[0m│     object: 'FatJet'                                                         \n",
       "│\u001b[1;36m                                   \u001b[0m│     function: Function: <lambda>                                             \n",
       "│\u001b[1;36m                                   \u001b[0m│     use: [('FatJet', None)]                                                  \n",
       "│\u001b[1;36m                                   \u001b[0m│   }                                                                          \n",
       "│\u001b[1;36m                                   \u001b[0m│ ]                                                                            \n",
       "│\u001b[1;36m \u001b[0m\u001b[1;36mmva                              \u001b[0m\u001b[1;36m \u001b[0m│ [                                                                            \n",
       "│\u001b[1;36m                                   \u001b[0m│   [0]:                                                                       \n",
       "│\u001b[1;36m                                   \u001b[0m│ {                                                                            \n",
       "│\u001b[1;36m                                   \u001b[0m│     object: 'Muon'                                                           \n",
       "│\u001b[1;36m                                   \u001b[0m│     function: Function: <lambda>                                             \n",
       "│\u001b[1;36m                                   \u001b[0m│     use: [('Muon', None)]                                                    \n",
       "│\u001b[1;36m                                   \u001b[0m│   }                                                                          \n",
       "│\u001b[1;36m                                   \u001b[0m│   [1]:                                                                       \n",
       "│\u001b[1;36m                                   \u001b[0m│ {                                                                            \n",
       "│\u001b[1;36m                                   \u001b[0m│     object: 'FatJet'                                                         \n",
       "│\u001b[1;36m                                   \u001b[0m│     function: Function: <lambda>                                             \n",
       "│\u001b[1;36m                                   \u001b[0m│     use: [('FatJet', None)]                                                  \n",
       "│\u001b[1;36m                                   \u001b[0m│   }                                                                          \n",
       "│\u001b[1;36m                                   \u001b[0m│ ]                                                                            \n",
       "└───────────────────────────────────┴──────────────────────────────────────────────────────────────────────────────\n"
      ]
     },
     "metadata": {},
     "output_type": "display_data"
    },
    {
     "data": {
      "text/html": [
       "<pre style=\"white-space:pre;overflow-x:auto;line-height:normal;font-family:Menlo,'DejaVu Sans Mono',consolas,'Courier New',monospace\"><span style=\"font-style: italic\">                                                Configuration: CHANNELS                                            </span>\n",
       "┏━━━━━━━━━━━━━━━━━━━━━━━━━┳━━━━━━━━━━━━━━━━━━━━━━━━━━━━━━━━━━━━━━━━━━━━━━━━━━━━━━━━━━━━━━━━━━━━━━━━━━━━━━━━━━━━━━━━\n",
       "┃<span style=\"font-weight: bold\"> Key                     </span>┃<span style=\"font-weight: bold\"> Value                                                                                  </span>\n",
       "┡━━━━━━━━━━━━━━━━━━━━━━━━━╇━━━━━━━━━━━━━━━━━━━━━━━━━━━━━━━━━━━━━━━━━━━━━━━━━━━━━━━━━━━━━━━━━━━━━━━━━━━━━━━━━━━━━━━━\n",
       "│<span style=\"color: #008080; text-decoration-color: #008080; font-weight: bold\"> Items                   </span>│ [                                                                                      \n",
       "│<span style=\"color: #008080; text-decoration-color: #008080; font-weight: bold\">                         </span>│   [0]:                                                                                 \n",
       "│<span style=\"color: #008080; text-decoration-color: #008080; font-weight: bold\">                         </span>│ {                                                                                      \n",
       "│<span style=\"color: #008080; text-decoration-color: #008080; font-weight: bold\">                         </span>│     name: 'CMS_WORKSHOP'                                                               \n",
       "│<span style=\"color: #008080; text-decoration-color: #008080; font-weight: bold\">                         </span>│     fit_observable: 'workshop_mtt'                                                     \n",
       "│<span style=\"color: #008080; text-decoration-color: #008080; font-weight: bold\">                         </span>│     observables:                                                                       \n",
       "│<span style=\"color: #008080; text-decoration-color: #008080; font-weight: bold\">                         </span>│ [                                                                                      \n",
       "│<span style=\"color: #008080; text-decoration-color: #008080; font-weight: bold\">                         </span>│       [0]:                                                                             \n",
       "│<span style=\"color: #008080; text-decoration-color: #008080; font-weight: bold\">                         </span>│ {                                                                                      \n",
       "│<span style=\"color: #008080; text-decoration-color: #008080; font-weight: bold\">                         </span>│         name: 'workshop_mtt'                                                           \n",
       "│<span style=\"color: #008080; text-decoration-color: #008080; font-weight: bold\">                         </span>│         binning: '200,3000,20'                                                         \n",
       "│<span style=\"color: #008080; text-decoration-color: #008080; font-weight: bold\">                         </span>│         label: '$M(t\\bar{t})$ [GeV]'                                                   \n",
       "│<span style=\"color: #008080; text-decoration-color: #008080; font-weight: bold\">                         </span>│         function: Function: get_mtt                                                    \n",
       "│<span style=\"color: #008080; text-decoration-color: #008080; font-weight: bold\">                         </span>│         use: [('Muon', None), ('Jet', None), ('FatJet', None), ('PuppiMET', None)]     \n",
       "│<span style=\"color: #008080; text-decoration-color: #008080; font-weight: bold\">                         </span>│       }                                                                                \n",
       "│<span style=\"color: #008080; text-decoration-color: #008080; font-weight: bold\">                         </span>│     ]                                                                                  \n",
       "│<span style=\"color: #008080; text-decoration-color: #008080; font-weight: bold\">                         </span>│     selection:                                                                         \n",
       "│<span style=\"color: #008080; text-decoration-color: #008080; font-weight: bold\">                         </span>│ {                                                                                      \n",
       "│<span style=\"color: #008080; text-decoration-color: #008080; font-weight: bold\">                         </span>│       function: Function: Zprime_workshop_cuts                                         \n",
       "│<span style=\"color: #008080; text-decoration-color: #008080; font-weight: bold\">                         </span>│       use: [('Muon', None), ('Jet', None), ('FatJet', None), ('PuppiMET', None)]       \n",
       "│<span style=\"color: #008080; text-decoration-color: #008080; font-weight: bold\">                         </span>│     }                                                                                  \n",
       "│<span style=\"color: #008080; text-decoration-color: #008080; font-weight: bold\">                         </span>│   }                                                                                    \n",
       "│<span style=\"color: #008080; text-decoration-color: #008080; font-weight: bold\">                         </span>│ ]                                                                                      \n",
       "└─────────────────────────┴────────────────────────────────────────────────────────────────────────────────────────\n",
       "</pre>\n"
      ],
      "text/plain": [
       "\u001b[3m                                                Configuration: CHANNELS                                            \u001b[0m\n",
       "┏━━━━━━━━━━━━━━━━━━━━━━━━━┳━━━━━━━━━━━━━━━━━━━━━━━━━━━━━━━━━━━━━━━━━━━━━━━━━━━━━━━━━━━━━━━━━━━━━━━━━━━━━━━━━━━━━━━━\n",
       "┃\u001b[1m \u001b[0m\u001b[1mKey                    \u001b[0m\u001b[1m \u001b[0m┃\u001b[1m \u001b[0m\u001b[1mValue                                                                                  \u001b[0m\n",
       "┡━━━━━━━━━━━━━━━━━━━━━━━━━╇━━━━━━━━━━━━━━━━━━━━━━━━━━━━━━━━━━━━━━━━━━━━━━━━━━━━━━━━━━━━━━━━━━━━━━━━━━━━━━━━━━━━━━━━\n",
       "│\u001b[1;36m \u001b[0m\u001b[1;36mItems                  \u001b[0m\u001b[1;36m \u001b[0m│ [                                                                                      \n",
       "│\u001b[1;36m                         \u001b[0m│   [0]:                                                                                 \n",
       "│\u001b[1;36m                         \u001b[0m│ {                                                                                      \n",
       "│\u001b[1;36m                         \u001b[0m│     name: 'CMS_WORKSHOP'                                                               \n",
       "│\u001b[1;36m                         \u001b[0m│     fit_observable: 'workshop_mtt'                                                     \n",
       "│\u001b[1;36m                         \u001b[0m│     observables:                                                                       \n",
       "│\u001b[1;36m                         \u001b[0m│ [                                                                                      \n",
       "│\u001b[1;36m                         \u001b[0m│       [0]:                                                                             \n",
       "│\u001b[1;36m                         \u001b[0m│ {                                                                                      \n",
       "│\u001b[1;36m                         \u001b[0m│         name: 'workshop_mtt'                                                           \n",
       "│\u001b[1;36m                         \u001b[0m│         binning: '200,3000,20'                                                         \n",
       "│\u001b[1;36m                         \u001b[0m│         label: '$M(t\\bar{t})$ [GeV]'                                                   \n",
       "│\u001b[1;36m                         \u001b[0m│         function: Function: get_mtt                                                    \n",
       "│\u001b[1;36m                         \u001b[0m│         use: [('Muon', None), ('Jet', None), ('FatJet', None), ('PuppiMET', None)]     \n",
       "│\u001b[1;36m                         \u001b[0m│       }                                                                                \n",
       "│\u001b[1;36m                         \u001b[0m│     ]                                                                                  \n",
       "│\u001b[1;36m                         \u001b[0m│     selection:                                                                         \n",
       "│\u001b[1;36m                         \u001b[0m│ {                                                                                      \n",
       "│\u001b[1;36m                         \u001b[0m│       function: Function: Zprime_workshop_cuts                                         \n",
       "│\u001b[1;36m                         \u001b[0m│       use: [('Muon', None), ('Jet', None), ('FatJet', None), ('PuppiMET', None)]       \n",
       "│\u001b[1;36m                         \u001b[0m│     }                                                                                  \n",
       "│\u001b[1;36m                         \u001b[0m│   }                                                                                    \n",
       "│\u001b[1;36m                         \u001b[0m│ ]                                                                                      \n",
       "└─────────────────────────┴────────────────────────────────────────────────────────────────────────────────────────\n"
      ]
     },
     "metadata": {},
     "output_type": "display_data"
    },
    {
     "data": {
      "text/html": [
       "<pre style=\"white-space:pre;overflow-x:auto;line-height:normal;font-family:Menlo,'DejaVu Sans Mono',consolas,'Courier New',monospace\"><span style=\"font-style: italic\">                                            Configuration: GHOST_OBSERVABLES                                       </span>\n",
       "┏━━━━━━━━━━━━━━━━━━━━━━┳━━━━━━━━━━━━━━━━━━━━━━━━━━━━━━━━━━━━━━━━━━━━━━━━━━━━━━━━━━━━━━━━━━━━━━━━━━━━━━━━━━━━━━━━━━━\n",
       "┃<span style=\"font-weight: bold\"> Key                  </span>┃<span style=\"font-weight: bold\"> Value                                                                                     </span>\n",
       "┡━━━━━━━━━━━━━━━━━━━━━━╇━━━━━━━━━━━━━━━━━━━━━━━━━━━━━━━━━━━━━━━━━━━━━━━━━━━━━━━━━━━━━━━━━━━━━━━━━━━━━━━━━━━━━━━━━━━\n",
       "│<span style=\"color: #008080; text-decoration-color: #008080; font-weight: bold\"> Items                </span>│ [                                                                                         \n",
       "│<span style=\"color: #008080; text-decoration-color: #008080; font-weight: bold\">                      </span>│   [0]:                                                                                    \n",
       "│<span style=\"color: #008080; text-decoration-color: #008080; font-weight: bold\">                      </span>│ {                                                                                         \n",
       "│<span style=\"color: #008080; text-decoration-color: #008080; font-weight: bold\">                      </span>│     names: ('n_jet', 'leading_jet_mass', 'subleading_jet_mass', 'st',                     \n",
       "│<span style=\"color: #008080; text-decoration-color: #008080; font-weight: bold\">                      </span>│ 'leading_jet_btag_score', 'subleading_jet_btag_score', 'S_zz', 'deltaR', 'pt_rel',        \n",
       "│<span style=\"color: #008080; text-decoration-color: #008080; font-weight: bold\">                      </span>│ 'deltaR_times_pt')                                                                        \n",
       "│<span style=\"color: #008080; text-decoration-color: #008080; font-weight: bold\">                      </span>│     collections: 'mva'                                                                    \n",
       "│<span style=\"color: #008080; text-decoration-color: #008080; font-weight: bold\">                      </span>│     function: Function: get_mva_vars                                                      \n",
       "│<span style=\"color: #008080; text-decoration-color: #008080; font-weight: bold\">                      </span>│     use: [('Muon', None), ('Jet', None)]                                                  \n",
       "│<span style=\"color: #008080; text-decoration-color: #008080; font-weight: bold\">                      </span>│   }                                                                                       \n",
       "│<span style=\"color: #008080; text-decoration-color: #008080; font-weight: bold\">                      </span>│ ]                                                                                         \n",
       "└──────────────────────┴───────────────────────────────────────────────────────────────────────────────────────────\n",
       "</pre>\n"
      ],
      "text/plain": [
       "\u001b[3m                                            Configuration: GHOST_OBSERVABLES                                       \u001b[0m\n",
       "┏━━━━━━━━━━━━━━━━━━━━━━┳━━━━━━━━━━━━━━━━━━━━━━━━━━━━━━━━━━━━━━━━━━━━━━━━━━━━━━━━━━━━━━━━━━━━━━━━━━━━━━━━━━━━━━━━━━━\n",
       "┃\u001b[1m \u001b[0m\u001b[1mKey                 \u001b[0m\u001b[1m \u001b[0m┃\u001b[1m \u001b[0m\u001b[1mValue                                                                                     \u001b[0m\n",
       "┡━━━━━━━━━━━━━━━━━━━━━━╇━━━━━━━━━━━━━━━━━━━━━━━━━━━━━━━━━━━━━━━━━━━━━━━━━━━━━━━━━━━━━━━━━━━━━━━━━━━━━━━━━━━━━━━━━━━\n",
       "│\u001b[1;36m \u001b[0m\u001b[1;36mItems               \u001b[0m\u001b[1;36m \u001b[0m│ [                                                                                         \n",
       "│\u001b[1;36m                      \u001b[0m│   [0]:                                                                                    \n",
       "│\u001b[1;36m                      \u001b[0m│ {                                                                                         \n",
       "│\u001b[1;36m                      \u001b[0m│     names: ('n_jet', 'leading_jet_mass', 'subleading_jet_mass', 'st',                     \n",
       "│\u001b[1;36m                      \u001b[0m│ 'leading_jet_btag_score', 'subleading_jet_btag_score', 'S_zz', 'deltaR', 'pt_rel',        \n",
       "│\u001b[1;36m                      \u001b[0m│ 'deltaR_times_pt')                                                                        \n",
       "│\u001b[1;36m                      \u001b[0m│     collections: 'mva'                                                                    \n",
       "│\u001b[1;36m                      \u001b[0m│     function: Function: get_mva_vars                                                      \n",
       "│\u001b[1;36m                      \u001b[0m│     use: [('Muon', None), ('Jet', None)]                                                  \n",
       "│\u001b[1;36m                      \u001b[0m│   }                                                                                       \n",
       "│\u001b[1;36m                      \u001b[0m│ ]                                                                                         \n",
       "└──────────────────────┴───────────────────────────────────────────────────────────────────────────────────────────\n"
      ]
     },
     "metadata": {},
     "output_type": "display_data"
    },
    {
     "data": {
      "text/html": [
       "<pre style=\"white-space:pre;overflow-x:auto;line-height:normal;font-family:Menlo,'DejaVu Sans Mono',consolas,'Courier New',monospace\"><span style=\"font-style: italic\">                                               Configuration: CORRECTIONS                                          </span>\n",
       "┏━━━━━━━━━━━━━━━━━━━━━━━━━━━━━━━━━━━┳━━━━━━━━━━━━━━━━━━━━━━━━━━━━━━━━━━━━━━━━━━━━━━━━━━━━━━━━━━━━━━━━━━━━━━━━━━━━━━\n",
       "┃<span style=\"font-weight: bold\"> Key                               </span>┃<span style=\"font-weight: bold\"> Value                                                                        </span>\n",
       "┡━━━━━━━━━━━━━━━━━━━━━━━━━━━━━━━━━━━╇━━━━━━━━━━━━━━━━━━━━━━━━━━━━━━━━━━━━━━━━━━━━━━━━━━━━━━━━━━━━━━━━━━━━━━━━━━━━━━\n",
       "│<span style=\"color: #008080; text-decoration-color: #008080; font-weight: bold\"> Items                             </span>│ [                                                                            \n",
       "│<span style=\"color: #008080; text-decoration-color: #008080; font-weight: bold\">                                   </span>│   [0]:                                                                       \n",
       "│<span style=\"color: #008080; text-decoration-color: #008080; font-weight: bold\">                                   </span>│ {                                                                            \n",
       "│<span style=\"color: #008080; text-decoration-color: #008080; font-weight: bold\">                                   </span>│     name: 'pu_weight'                                                        \n",
       "│<span style=\"color: #008080; text-decoration-color: #008080; font-weight: bold\">                                   </span>│     file: 'corrections/puWeights.json.gz'                                    \n",
       "│<span style=\"color: #008080; text-decoration-color: #008080; font-weight: bold\">                                   </span>│     type: 'event'                                                            \n",
       "│<span style=\"color: #008080; text-decoration-color: #008080; font-weight: bold\">                                   </span>│     use: [('Pileup', 'nTrueInt')]                                            \n",
       "│<span style=\"color: #008080; text-decoration-color: #008080; font-weight: bold\">                                   </span>│     op: 'mult'                                                               \n",
       "│<span style=\"color: #008080; text-decoration-color: #008080; font-weight: bold\">                                   </span>│     key: 'Collisions16_UltraLegacy_goldenJSON'                               \n",
       "│<span style=\"color: #008080; text-decoration-color: #008080; font-weight: bold\">                                   </span>│     use_correctionlib: True                                                  \n",
       "│<span style=\"color: #008080; text-decoration-color: #008080; font-weight: bold\">                                   </span>│   }                                                                          \n",
       "│<span style=\"color: #008080; text-decoration-color: #008080; font-weight: bold\">                                   </span>│   [1]:                                                                       \n",
       "│<span style=\"color: #008080; text-decoration-color: #008080; font-weight: bold\">                                   </span>│ {                                                                            \n",
       "│<span style=\"color: #008080; text-decoration-color: #008080; font-weight: bold\">                                   </span>│     name: 'muon_id_sf'                                                       \n",
       "│<span style=\"color: #008080; text-decoration-color: #008080; font-weight: bold\">                                   </span>│     file: 'corrections/muon_Z.json.gz'                                       \n",
       "│<span style=\"color: #008080; text-decoration-color: #008080; font-weight: bold\">                                   </span>│     use: [('Muon', 'eta'), ('Muon', 'pt')]                                   \n",
       "│<span style=\"color: #008080; text-decoration-color: #008080; font-weight: bold\">                                   </span>│     transform: Function: &lt;lambda&gt;                                            \n",
       "│<span style=\"color: #008080; text-decoration-color: #008080; font-weight: bold\">                                   </span>│     type: 'event'                                                            \n",
       "│<span style=\"color: #008080; text-decoration-color: #008080; font-weight: bold\">                                   </span>│     key: 'NUM_TightID_DEN_TrackerMuons'                                      \n",
       "│<span style=\"color: #008080; text-decoration-color: #008080; font-weight: bold\">                                   </span>│     use_correctionlib: True                                                  \n",
       "│<span style=\"color: #008080; text-decoration-color: #008080; font-weight: bold\">                                   </span>│     op: 'mult'                                                               \n",
       "│<span style=\"color: #008080; text-decoration-color: #008080; font-weight: bold\">                                   </span>│     up_and_down_idx: ['systup', 'systdown']                                  \n",
       "│<span style=\"color: #008080; text-decoration-color: #008080; font-weight: bold\">                                   </span>│   }                                                                          \n",
       "│<span style=\"color: #008080; text-decoration-color: #008080; font-weight: bold\">                                   </span>│ ]                                                                            \n",
       "└───────────────────────────────────┴──────────────────────────────────────────────────────────────────────────────\n",
       "</pre>\n"
      ],
      "text/plain": [
       "\u001b[3m                                               Configuration: CORRECTIONS                                          \u001b[0m\n",
       "┏━━━━━━━━━━━━━━━━━━━━━━━━━━━━━━━━━━━┳━━━━━━━━━━━━━━━━━━━━━━━━━━━━━━━━━━━━━━━━━━━━━━━━━━━━━━━━━━━━━━━━━━━━━━━━━━━━━━\n",
       "┃\u001b[1m \u001b[0m\u001b[1mKey                              \u001b[0m\u001b[1m \u001b[0m┃\u001b[1m \u001b[0m\u001b[1mValue                                                                        \u001b[0m\n",
       "┡━━━━━━━━━━━━━━━━━━━━━━━━━━━━━━━━━━━╇━━━━━━━━━━━━━━━━━━━━━━━━━━━━━━━━━━━━━━━━━━━━━━━━━━━━━━━━━━━━━━━━━━━━━━━━━━━━━━\n",
       "│\u001b[1;36m \u001b[0m\u001b[1;36mItems                            \u001b[0m\u001b[1;36m \u001b[0m│ [                                                                            \n",
       "│\u001b[1;36m                                   \u001b[0m│   [0]:                                                                       \n",
       "│\u001b[1;36m                                   \u001b[0m│ {                                                                            \n",
       "│\u001b[1;36m                                   \u001b[0m│     name: 'pu_weight'                                                        \n",
       "│\u001b[1;36m                                   \u001b[0m│     file: 'corrections/puWeights.json.gz'                                    \n",
       "│\u001b[1;36m                                   \u001b[0m│     type: 'event'                                                            \n",
       "│\u001b[1;36m                                   \u001b[0m│     use: [('Pileup', 'nTrueInt')]                                            \n",
       "│\u001b[1;36m                                   \u001b[0m│     op: 'mult'                                                               \n",
       "│\u001b[1;36m                                   \u001b[0m│     key: 'Collisions16_UltraLegacy_goldenJSON'                               \n",
       "│\u001b[1;36m                                   \u001b[0m│     use_correctionlib: True                                                  \n",
       "│\u001b[1;36m                                   \u001b[0m│   }                                                                          \n",
       "│\u001b[1;36m                                   \u001b[0m│   [1]:                                                                       \n",
       "│\u001b[1;36m                                   \u001b[0m│ {                                                                            \n",
       "│\u001b[1;36m                                   \u001b[0m│     name: 'muon_id_sf'                                                       \n",
       "│\u001b[1;36m                                   \u001b[0m│     file: 'corrections/muon_Z.json.gz'                                       \n",
       "│\u001b[1;36m                                   \u001b[0m│     use: [('Muon', 'eta'), ('Muon', 'pt')]                                   \n",
       "│\u001b[1;36m                                   \u001b[0m│     transform: Function: <lambda>                                            \n",
       "│\u001b[1;36m                                   \u001b[0m│     type: 'event'                                                            \n",
       "│\u001b[1;36m                                   \u001b[0m│     key: 'NUM_TightID_DEN_TrackerMuons'                                      \n",
       "│\u001b[1;36m                                   \u001b[0m│     use_correctionlib: True                                                  \n",
       "│\u001b[1;36m                                   \u001b[0m│     op: 'mult'                                                               \n",
       "│\u001b[1;36m                                   \u001b[0m│     up_and_down_idx: ['systup', 'systdown']                                  \n",
       "│\u001b[1;36m                                   \u001b[0m│   }                                                                          \n",
       "│\u001b[1;36m                                   \u001b[0m│ ]                                                                            \n",
       "└───────────────────────────────────┴──────────────────────────────────────────────────────────────────────────────\n"
      ]
     },
     "metadata": {},
     "output_type": "display_data"
    },
    {
     "data": {
      "text/html": [
       "<pre style=\"white-space:pre;overflow-x:auto;line-height:normal;font-family:Menlo,'DejaVu Sans Mono',consolas,'Courier New',monospace\"><span style=\"font-style: italic\">                                               Configuration: SYSTEMATICS                                          </span>\n",
       "┏━━━━━━━━━━━━━━━━━━━━━━━━━━━━━━━━━━━┳━━━━━━━━━━━━━━━━━━━━━━━━━━━━━━━━━━━━━━━━━━━━━━━━━━━━━━━━━━━━━━━━━━━━━━━━━━━━━━\n",
       "┃<span style=\"font-weight: bold\"> Key                               </span>┃<span style=\"font-weight: bold\"> Value                                                                        </span>\n",
       "┡━━━━━━━━━━━━━━━━━━━━━━━━━━━━━━━━━━━╇━━━━━━━━━━━━━━━━━━━━━━━━━━━━━━━━━━━━━━━━━━━━━━━━━━━━━━━━━━━━━━━━━━━━━━━━━━━━━━\n",
       "│<span style=\"color: #008080; text-decoration-color: #008080; font-weight: bold\"> Items                             </span>│ [                                                                            \n",
       "│<span style=\"color: #008080; text-decoration-color: #008080; font-weight: bold\">                                   </span>│   [0]:                                                                       \n",
       "│<span style=\"color: #008080; text-decoration-color: #008080; font-weight: bold\">                                   </span>│ {                                                                            \n",
       "│<span style=\"color: #008080; text-decoration-color: #008080; font-weight: bold\">                                   </span>│     name: 'jet_pt_resolution'                                                \n",
       "│<span style=\"color: #008080; text-decoration-color: #008080; font-weight: bold\">                                   </span>│     up_function: Function: jet_pt_resolution                                 \n",
       "│<span style=\"color: #008080; text-decoration-color: #008080; font-weight: bold\">                                   </span>│     target: ('Jet', 'pt')                                                    \n",
       "│<span style=\"color: #008080; text-decoration-color: #008080; font-weight: bold\">                                   </span>│     use: [('Jet', 'pt')]                                                     \n",
       "│<span style=\"color: #008080; text-decoration-color: #008080; font-weight: bold\">                                   </span>│     symmetrise: True                                                         \n",
       "│<span style=\"color: #008080; text-decoration-color: #008080; font-weight: bold\">                                   </span>│     op: 'mult'                                                               \n",
       "│<span style=\"color: #008080; text-decoration-color: #008080; font-weight: bold\">                                   </span>│     type: 'object'                                                           \n",
       "│<span style=\"color: #008080; text-decoration-color: #008080; font-weight: bold\">                                   </span>│   }                                                                          \n",
       "│<span style=\"color: #008080; text-decoration-color: #008080; font-weight: bold\">                                   </span>│   [1]:                                                                       \n",
       "│<span style=\"color: #008080; text-decoration-color: #008080; font-weight: bold\">                                   </span>│ {                                                                            \n",
       "│<span style=\"color: #008080; text-decoration-color: #008080; font-weight: bold\">                                   </span>│     name: 'jet_pt_scale'                                                     \n",
       "│<span style=\"color: #008080; text-decoration-color: #008080; font-weight: bold\">                                   </span>│     up_function: Function: jet_pt_scale                                      \n",
       "│<span style=\"color: #008080; text-decoration-color: #008080; font-weight: bold\">                                   </span>│     target: ('Jet', 'pt')                                                    \n",
       "│<span style=\"color: #008080; text-decoration-color: #008080; font-weight: bold\">                                   </span>│     symmetrise: True                                                         \n",
       "│<span style=\"color: #008080; text-decoration-color: #008080; font-weight: bold\">                                   </span>│     op: 'mult'                                                               \n",
       "│<span style=\"color: #008080; text-decoration-color: #008080; font-weight: bold\">                                   </span>│     type: 'object'                                                           \n",
       "│<span style=\"color: #008080; text-decoration-color: #008080; font-weight: bold\">                                   </span>│   }                                                                          \n",
       "│<span style=\"color: #008080; text-decoration-color: #008080; font-weight: bold\">                                   </span>│ ]                                                                            \n",
       "└───────────────────────────────────┴──────────────────────────────────────────────────────────────────────────────\n",
       "</pre>\n"
      ],
      "text/plain": [
       "\u001b[3m                                               Configuration: SYSTEMATICS                                          \u001b[0m\n",
       "┏━━━━━━━━━━━━━━━━━━━━━━━━━━━━━━━━━━━┳━━━━━━━━━━━━━━━━━━━━━━━━━━━━━━━━━━━━━━━━━━━━━━━━━━━━━━━━━━━━━━━━━━━━━━━━━━━━━━\n",
       "┃\u001b[1m \u001b[0m\u001b[1mKey                              \u001b[0m\u001b[1m \u001b[0m┃\u001b[1m \u001b[0m\u001b[1mValue                                                                        \u001b[0m\n",
       "┡━━━━━━━━━━━━━━━━━━━━━━━━━━━━━━━━━━━╇━━━━━━━━━━━━━━━━━━━━━━━━━━━━━━━━━━━━━━━━━━━━━━━━━━━━━━━━━━━━━━━━━━━━━━━━━━━━━━\n",
       "│\u001b[1;36m \u001b[0m\u001b[1;36mItems                            \u001b[0m\u001b[1;36m \u001b[0m│ [                                                                            \n",
       "│\u001b[1;36m                                   \u001b[0m│   [0]:                                                                       \n",
       "│\u001b[1;36m                                   \u001b[0m│ {                                                                            \n",
       "│\u001b[1;36m                                   \u001b[0m│     name: 'jet_pt_resolution'                                                \n",
       "│\u001b[1;36m                                   \u001b[0m│     up_function: Function: jet_pt_resolution                                 \n",
       "│\u001b[1;36m                                   \u001b[0m│     target: ('Jet', 'pt')                                                    \n",
       "│\u001b[1;36m                                   \u001b[0m│     use: [('Jet', 'pt')]                                                     \n",
       "│\u001b[1;36m                                   \u001b[0m│     symmetrise: True                                                         \n",
       "│\u001b[1;36m                                   \u001b[0m│     op: 'mult'                                                               \n",
       "│\u001b[1;36m                                   \u001b[0m│     type: 'object'                                                           \n",
       "│\u001b[1;36m                                   \u001b[0m│   }                                                                          \n",
       "│\u001b[1;36m                                   \u001b[0m│   [1]:                                                                       \n",
       "│\u001b[1;36m                                   \u001b[0m│ {                                                                            \n",
       "│\u001b[1;36m                                   \u001b[0m│     name: 'jet_pt_scale'                                                     \n",
       "│\u001b[1;36m                                   \u001b[0m│     up_function: Function: jet_pt_scale                                      \n",
       "│\u001b[1;36m                                   \u001b[0m│     target: ('Jet', 'pt')                                                    \n",
       "│\u001b[1;36m                                   \u001b[0m│     symmetrise: True                                                         \n",
       "│\u001b[1;36m                                   \u001b[0m│     op: 'mult'                                                               \n",
       "│\u001b[1;36m                                   \u001b[0m│     type: 'object'                                                           \n",
       "│\u001b[1;36m                                   \u001b[0m│   }                                                                          \n",
       "│\u001b[1;36m                                   \u001b[0m│ ]                                                                            \n",
       "└───────────────────────────────────┴──────────────────────────────────────────────────────────────────────────────\n"
      ]
     },
     "metadata": {},
     "output_type": "display_data"
    },
    {
     "data": {
      "text/html": [
       "<pre style=\"white-space:pre;overflow-x:auto;line-height:normal;font-family:Menlo,'DejaVu Sans Mono',consolas,'Courier New',monospace\"><span style=\"font-style: italic\">                                               Configuration: STATISTICS                                           </span>\n",
       "┏━━━━━━━━━━━━━━━━━━━━━━━━━━━━━━━━━┳━━━━━━━━━━━━━━━━━━━━━━━━━━━━━━━━━━━━━━━━━━━━━━━━━━━━━━━━━━━━━━━━━━━━━━━━━━━━━━━━\n",
       "┃<span style=\"font-weight: bold\"> Key                             </span>┃<span style=\"font-weight: bold\"> Value                                                                          </span>\n",
       "┡━━━━━━━━━━━━━━━━━━━━━━━━━━━━━━━━━╇━━━━━━━━━━━━━━━━━━━━━━━━━━━━━━━━━━━━━━━━━━━━━━━━━━━━━━━━━━━━━━━━━━━━━━━━━━━━━━━━\n",
       "│<span style=\"color: #008080; text-decoration-color: #008080; font-weight: bold\"> cabinetry_config                </span>│ 'example-demo/outputs/cabinetry/cabinetry_config.yaml'                         \n",
       "└─────────────────────────────────┴────────────────────────────────────────────────────────────────────────────────\n",
       "</pre>\n"
      ],
      "text/plain": [
       "\u001b[3m                                               Configuration: STATISTICS                                           \u001b[0m\n",
       "┏━━━━━━━━━━━━━━━━━━━━━━━━━━━━━━━━━┳━━━━━━━━━━━━━━━━━━━━━━━━━━━━━━━━━━━━━━━━━━━━━━━━━━━━━━━━━━━━━━━━━━━━━━━━━━━━━━━━\n",
       "┃\u001b[1m \u001b[0m\u001b[1mKey                            \u001b[0m\u001b[1m \u001b[0m┃\u001b[1m \u001b[0m\u001b[1mValue                                                                          \u001b[0m\n",
       "┡━━━━━━━━━━━━━━━━━━━━━━━━━━━━━━━━━╇━━━━━━━━━━━━━━━━━━━━━━━━━━━━━━━━━━━━━━━━━━━━━━━━━━━━━━━━━━━━━━━━━━━━━━━━━━━━━━━━\n",
       "│\u001b[1;36m \u001b[0m\u001b[1;36mcabinetry_config               \u001b[0m\u001b[1;36m \u001b[0m│ 'example-demo/outputs/cabinetry/cabinetry_config.yaml'                         \n",
       "└─────────────────────────────────┴────────────────────────────────────────────────────────────────────────────────\n"
      ]
     },
     "metadata": {},
     "output_type": "display_data"
    },
    {
     "data": {
      "text/html": [
       "<pre style=\"white-space:pre;overflow-x:auto;line-height:normal;font-family:Menlo,'DejaVu Sans Mono',consolas,'Courier New',monospace\"><span style=\"font-style: italic\">                                                Configuration: PLOTTING                                            </span>\n",
       "┏━━━━━━━━━━━━━━━━━━━━━━━━━━━━━━━━━━┳━━━━━━━━━━━━━━━━━━━━━━━━━━━━━━━━━━━━━━━━━━━━━━━━━━━━━━━━━━━━━━━━━━━━━━━━━━━━━━━\n",
       "┃<span style=\"font-weight: bold\"> Key                              </span>┃<span style=\"font-weight: bold\"> Value                                                                         </span>\n",
       "┡━━━━━━━━━━━━━━━━━━━━━━━━━━━━━━━━━━╇━━━━━━━━━━━━━━━━━━━━━━━━━━━━━━━━━━━━━━━━━━━━━━━━━━━━━━━━━━━━━━━━━━━━━━━━━━━━━━━\n",
       "│<span style=\"color: #008080; text-decoration-color: #008080; font-weight: bold\"> process_colors                   </span>│ {                                                                             \n",
       "│<span style=\"color: #008080; text-decoration-color: #008080; font-weight: bold\">                                  </span>│   ttbar_semilep: '#907AD6'                                                    \n",
       "│<span style=\"color: #008080; text-decoration-color: #008080; font-weight: bold\">                                  </span>│   signal: '#DABFFF'                                                           \n",
       "│<span style=\"color: #008080; text-decoration-color: #008080; font-weight: bold\">                                  </span>│   ttbar_lep: '#7FDEFF'                                                        \n",
       "│<span style=\"color: #008080; text-decoration-color: #008080; font-weight: bold\">                                  </span>│   ttbar_had: '#2C2A4A'                                                        \n",
       "│<span style=\"color: #008080; text-decoration-color: #008080; font-weight: bold\">                                  </span>│   wjets: '#72A1E5'                                                            \n",
       "│<span style=\"color: #008080; text-decoration-color: #008080; font-weight: bold\">                                  </span>│   ttbar: '#907AD6'                                                            \n",
       "│<span style=\"color: #008080; text-decoration-color: #008080; font-weight: bold\">                                  </span>│ }                                                                             \n",
       "│<span style=\"color: #008080; text-decoration-color: #008080; font-weight: bold\"> process_labels                   </span>│ {                                                                             \n",
       "│<span style=\"color: #008080; text-decoration-color: #008080; font-weight: bold\">                                  </span>│   ttbar_semilep: '$t\\bar{t}\\,\\textrm{(lepton+jets)}$'                         \n",
       "│<span style=\"color: #008080; text-decoration-color: #008080; font-weight: bold\">                                  </span>│   signal: '$Z^{\\prime} \\rightarrow t\\bar{t}$'                                 \n",
       "│<span style=\"color: #008080; text-decoration-color: #008080; font-weight: bold\">                                  </span>│   ttbar_lep: '$t\\bar{t}\\,\\textrm{(leptonic)}$'                                \n",
       "│<span style=\"color: #008080; text-decoration-color: #008080; font-weight: bold\">                                  </span>│   ttbar_had: '$t\\bar{t}\\,\\textrm{(hadronic)}$'                                \n",
       "│<span style=\"color: #008080; text-decoration-color: #008080; font-weight: bold\">                                  </span>│   wjets: '$W+\\textrm{jets}$'                                                  \n",
       "│<span style=\"color: #008080; text-decoration-color: #008080; font-weight: bold\">                                  </span>│   ttbar: '$t\\bar{t}$'                                                         \n",
       "│<span style=\"color: #008080; text-decoration-color: #008080; font-weight: bold\">                                  </span>│ }                                                                             \n",
       "│<span style=\"color: #008080; text-decoration-color: #008080; font-weight: bold\"> process_order                    </span>│ [                                                                             \n",
       "│<span style=\"color: #008080; text-decoration-color: #008080; font-weight: bold\">                                  </span>│   [0]: 'ttbar'                                                                \n",
       "│<span style=\"color: #008080; text-decoration-color: #008080; font-weight: bold\">                                  </span>│   [1]: 'ttbar_had'                                                            \n",
       "│<span style=\"color: #008080; text-decoration-color: #008080; font-weight: bold\">                                  </span>│   [2]: 'ttbar_lep'                                                            \n",
       "│<span style=\"color: #008080; text-decoration-color: #008080; font-weight: bold\">                                  </span>│   [3]: 'ttbar_semilep'                                                        \n",
       "│<span style=\"color: #008080; text-decoration-color: #008080; font-weight: bold\">                                  </span>│   [4]: 'wjets'                                                                \n",
       "│<span style=\"color: #008080; text-decoration-color: #008080; font-weight: bold\">                                  </span>│   [5]: 'signal'                                                               \n",
       "│<span style=\"color: #008080; text-decoration-color: #008080; font-weight: bold\">                                  </span>│ ]                                                                             \n",
       "└──────────────────────────────────┴───────────────────────────────────────────────────────────────────────────────\n",
       "</pre>\n"
      ],
      "text/plain": [
       "\u001b[3m                                                Configuration: PLOTTING                                            \u001b[0m\n",
       "┏━━━━━━━━━━━━━━━━━━━━━━━━━━━━━━━━━━┳━━━━━━━━━━━━━━━━━━━━━━━━━━━━━━━━━━━━━━━━━━━━━━━━━━━━━━━━━━━━━━━━━━━━━━━━━━━━━━━\n",
       "┃\u001b[1m \u001b[0m\u001b[1mKey                             \u001b[0m\u001b[1m \u001b[0m┃\u001b[1m \u001b[0m\u001b[1mValue                                                                         \u001b[0m\n",
       "┡━━━━━━━━━━━━━━━━━━━━━━━━━━━━━━━━━━╇━━━━━━━━━━━━━━━━━━━━━━━━━━━━━━━━━━━━━━━━━━━━━━━━━━━━━━━━━━━━━━━━━━━━━━━━━━━━━━━\n",
       "│\u001b[1;36m \u001b[0m\u001b[1;36mprocess_colors                  \u001b[0m\u001b[1;36m \u001b[0m│ {                                                                             \n",
       "│\u001b[1;36m                                  \u001b[0m│   ttbar_semilep: '#907AD6'                                                    \n",
       "│\u001b[1;36m                                  \u001b[0m│   signal: '#DABFFF'                                                           \n",
       "│\u001b[1;36m                                  \u001b[0m│   ttbar_lep: '#7FDEFF'                                                        \n",
       "│\u001b[1;36m                                  \u001b[0m│   ttbar_had: '#2C2A4A'                                                        \n",
       "│\u001b[1;36m                                  \u001b[0m│   wjets: '#72A1E5'                                                            \n",
       "│\u001b[1;36m                                  \u001b[0m│   ttbar: '#907AD6'                                                            \n",
       "│\u001b[1;36m                                  \u001b[0m│ }                                                                             \n",
       "│\u001b[1;36m \u001b[0m\u001b[1;36mprocess_labels                  \u001b[0m\u001b[1;36m \u001b[0m│ {                                                                             \n",
       "│\u001b[1;36m                                  \u001b[0m│   ttbar_semilep: '$t\\bar{t}\\,\\textrm{(lepton+jets)}$'                         \n",
       "│\u001b[1;36m                                  \u001b[0m│   signal: '$Z^{\\prime} \\rightarrow t\\bar{t}$'                                 \n",
       "│\u001b[1;36m                                  \u001b[0m│   ttbar_lep: '$t\\bar{t}\\,\\textrm{(leptonic)}$'                                \n",
       "│\u001b[1;36m                                  \u001b[0m│   ttbar_had: '$t\\bar{t}\\,\\textrm{(hadronic)}$'                                \n",
       "│\u001b[1;36m                                  \u001b[0m│   wjets: '$W+\\textrm{jets}$'                                                  \n",
       "│\u001b[1;36m                                  \u001b[0m│   ttbar: '$t\\bar{t}$'                                                         \n",
       "│\u001b[1;36m                                  \u001b[0m│ }                                                                             \n",
       "│\u001b[1;36m \u001b[0m\u001b[1;36mprocess_order                   \u001b[0m\u001b[1;36m \u001b[0m│ [                                                                             \n",
       "│\u001b[1;36m                                  \u001b[0m│   [0]: 'ttbar'                                                                \n",
       "│\u001b[1;36m                                  \u001b[0m│   [1]: 'ttbar_had'                                                            \n",
       "│\u001b[1;36m                                  \u001b[0m│   [2]: 'ttbar_lep'                                                            \n",
       "│\u001b[1;36m                                  \u001b[0m│   [3]: 'ttbar_semilep'                                                        \n",
       "│\u001b[1;36m                                  \u001b[0m│   [4]: 'wjets'                                                                \n",
       "│\u001b[1;36m                                  \u001b[0m│   [5]: 'signal'                                                               \n",
       "│\u001b[1;36m                                  \u001b[0m│ ]                                                                             \n",
       "└──────────────────────────────────┴───────────────────────────────────────────────────────────────────────────────\n"
      ]
     },
     "metadata": {},
     "output_type": "display_data"
    },
    {
     "data": {
      "text/html": [
       "<pre style=\"white-space:pre;overflow-x:auto;line-height:normal;font-family:Menlo,'DejaVu Sans Mono',consolas,'Courier New',monospace\"><span style=\"font-style: italic\">                                                Configuration: DATASETS                                            </span>\n",
       "┏━━━━━━━━━━━━━━━━━━━━━━━━━━━━┳━━━━━━━━━━━━━━━━━━━━━━━━━━━━━━━━━━━━━━━━━━━━━━━━━━━━━━━━━━━━━━━━━━━━━━━━━━━━━━━━━━━━━\n",
       "┃<span style=\"font-weight: bold\"> Key                        </span>┃<span style=\"font-weight: bold\"> Value                                                                               </span>\n",
       "┡━━━━━━━━━━━━━━━━━━━━━━━━━━━━╇━━━━━━━━━━━━━━━━━━━━━━━━━━━━━━━━━━━━━━━━━━━━━━━━━━━━━━━━━━━━━━━━━━━━━━━━━━━━━━━━━━━━━\n",
       "│<span style=\"color: #008080; text-decoration-color: #008080; font-weight: bold\"> datasets                   </span>│ [                                                                                   \n",
       "│<span style=\"color: #008080; text-decoration-color: #008080; font-weight: bold\">                            </span>│   [0]:                                                                              \n",
       "│<span style=\"color: #008080; text-decoration-color: #008080; font-weight: bold\">                            </span>│ {                                                                                   \n",
       "│<span style=\"color: #008080; text-decoration-color: #008080; font-weight: bold\">                            </span>│     name: 'signal'                                                                  \n",
       "│<span style=\"color: #008080; text-decoration-color: #008080; font-weight: bold\">                            </span>│     directory: 'example-demo/cms_datasets/2016/ZPrimeToTT_M2000_W200/'              \n",
       "│<span style=\"color: #008080; text-decoration-color: #008080; font-weight: bold\">                            </span>│     cross_section: 0.01895                                                          \n",
       "│<span style=\"color: #008080; text-decoration-color: #008080; font-weight: bold\">                            </span>│     file_pattern: '*.txt'                                                           \n",
       "│<span style=\"color: #008080; text-decoration-color: #008080; font-weight: bold\">                            </span>│     tree_name: 'Events'                                                             \n",
       "│<span style=\"color: #008080; text-decoration-color: #008080; font-weight: bold\">                            </span>│     weight_branch: 'genWeight'                                                      \n",
       "│<span style=\"color: #008080; text-decoration-color: #008080; font-weight: bold\">                            </span>│     redirector: 'root://xcache/'                                                    \n",
       "│<span style=\"color: #008080; text-decoration-color: #008080; font-weight: bold\">                            </span>│   }                                                                                 \n",
       "│<span style=\"color: #008080; text-decoration-color: #008080; font-weight: bold\">                            </span>│   [1]:                                                                              \n",
       "│<span style=\"color: #008080; text-decoration-color: #008080; font-weight: bold\">                            </span>│ {                                                                                   \n",
       "│<span style=\"color: #008080; text-decoration-color: #008080; font-weight: bold\">                            </span>│     name: 'ttbar_semilep'                                                           \n",
       "│<span style=\"color: #008080; text-decoration-color: #008080; font-weight: bold\">                            </span>│     directory: 'example-demo/cms_datasets/2016/TTToSemiLeptonic/'                   \n",
       "│<span style=\"color: #008080; text-decoration-color: #008080; font-weight: bold\">                            </span>│     cross_section: 364.31                                                           \n",
       "│<span style=\"color: #008080; text-decoration-color: #008080; font-weight: bold\">                            </span>│     file_pattern: '*.txt'                                                           \n",
       "│<span style=\"color: #008080; text-decoration-color: #008080; font-weight: bold\">                            </span>│     tree_name: 'Events'                                                             \n",
       "│<span style=\"color: #008080; text-decoration-color: #008080; font-weight: bold\">                            </span>│     weight_branch: 'genWeight'                                                      \n",
       "│<span style=\"color: #008080; text-decoration-color: #008080; font-weight: bold\">                            </span>│     redirector: 'root://xcache/'                                                    \n",
       "│<span style=\"color: #008080; text-decoration-color: #008080; font-weight: bold\">                            </span>│   }                                                                                 \n",
       "│<span style=\"color: #008080; text-decoration-color: #008080; font-weight: bold\">                            </span>│   [2]:                                                                              \n",
       "│<span style=\"color: #008080; text-decoration-color: #008080; font-weight: bold\">                            </span>│ {                                                                                   \n",
       "│<span style=\"color: #008080; text-decoration-color: #008080; font-weight: bold\">                            </span>│     name: 'ttbar_had'                                                               \n",
       "│<span style=\"color: #008080; text-decoration-color: #008080; font-weight: bold\">                            </span>│     directory: 'example-demo/cms_datasets/2016/TTToHadronic/'                       \n",
       "│<span style=\"color: #008080; text-decoration-color: #008080; font-weight: bold\">                            </span>│     cross_section: 380.11                                                           \n",
       "│<span style=\"color: #008080; text-decoration-color: #008080; font-weight: bold\">                            </span>│     file_pattern: '*.txt'                                                           \n",
       "│<span style=\"color: #008080; text-decoration-color: #008080; font-weight: bold\">                            </span>│     tree_name: 'Events'                                                             \n",
       "│<span style=\"color: #008080; text-decoration-color: #008080; font-weight: bold\">                            </span>│     weight_branch: 'genWeight'                                                      \n",
       "│<span style=\"color: #008080; text-decoration-color: #008080; font-weight: bold\">                            </span>│     redirector: 'root://xcache/'                                                    \n",
       "│<span style=\"color: #008080; text-decoration-color: #008080; font-weight: bold\">                            </span>│   }                                                                                 \n",
       "│<span style=\"color: #008080; text-decoration-color: #008080; font-weight: bold\">                            </span>│   [3]:                                                                              \n",
       "│<span style=\"color: #008080; text-decoration-color: #008080; font-weight: bold\">                            </span>│ {                                                                                   \n",
       "│<span style=\"color: #008080; text-decoration-color: #008080; font-weight: bold\">                            </span>│     name: 'ttbar_lep'                                                               \n",
       "│<span style=\"color: #008080; text-decoration-color: #008080; font-weight: bold\">                            </span>│     directory: 'example-demo/cms_datasets/2016/TTToHadronic/'                       \n",
       "│<span style=\"color: #008080; text-decoration-color: #008080; font-weight: bold\">                            </span>│     cross_section: 87.33                                                            \n",
       "│<span style=\"color: #008080; text-decoration-color: #008080; font-weight: bold\">                            </span>│     file_pattern: '*.txt'                                                           \n",
       "│<span style=\"color: #008080; text-decoration-color: #008080; font-weight: bold\">                            </span>│     tree_name: 'Events'                                                             \n",
       "│<span style=\"color: #008080; text-decoration-color: #008080; font-weight: bold\">                            </span>│     weight_branch: 'genWeight'                                                      \n",
       "│<span style=\"color: #008080; text-decoration-color: #008080; font-weight: bold\">                            </span>│     redirector: 'root://xcache/'                                                    \n",
       "│<span style=\"color: #008080; text-decoration-color: #008080; font-weight: bold\">                            </span>│   }                                                                                 \n",
       "│<span style=\"color: #008080; text-decoration-color: #008080; font-weight: bold\">                            </span>│   [4]:                                                                              \n",
       "│<span style=\"color: #008080; text-decoration-color: #008080; font-weight: bold\">                            </span>│ {                                                                                   \n",
       "│<span style=\"color: #008080; text-decoration-color: #008080; font-weight: bold\">                            </span>│     name: 'wjets'                                                                   \n",
       "│<span style=\"color: #008080; text-decoration-color: #008080; font-weight: bold\">                            </span>│     directory: 'example-demo/cms_datasets/2016/WJetsToLNu_HT-*/'                    \n",
       "│<span style=\"color: #008080; text-decoration-color: #008080; font-weight: bold\">                            </span>│     cross_section: 61526.7                                                          \n",
       "│<span style=\"color: #008080; text-decoration-color: #008080; font-weight: bold\">                            </span>│     file_pattern: '*.txt'                                                           \n",
       "│<span style=\"color: #008080; text-decoration-color: #008080; font-weight: bold\">                            </span>│     tree_name: 'Events'                                                             \n",
       "│<span style=\"color: #008080; text-decoration-color: #008080; font-weight: bold\">                            </span>│     weight_branch: 'genWeight'                                                      \n",
       "│<span style=\"color: #008080; text-decoration-color: #008080; font-weight: bold\">                            </span>│     redirector: 'root://xcache/'                                                    \n",
       "│<span style=\"color: #008080; text-decoration-color: #008080; font-weight: bold\">                            </span>│   }                                                                                 \n",
       "│<span style=\"color: #008080; text-decoration-color: #008080; font-weight: bold\">                            </span>│   [5]:                                                                              \n",
       "│<span style=\"color: #008080; text-decoration-color: #008080; font-weight: bold\">                            </span>│ {                                                                                   \n",
       "│<span style=\"color: #008080; text-decoration-color: #008080; font-weight: bold\">                            </span>│     name: 'data'                                                                    \n",
       "│<span style=\"color: #008080; text-decoration-color: #008080; font-weight: bold\">                            </span>│     directory: 'example-demo/cms_datasets/2016/SingleMuonRun*/'                     \n",
       "│<span style=\"color: #008080; text-decoration-color: #008080; font-weight: bold\">                            </span>│     cross_section: 1.0                                                              \n",
       "│<span style=\"color: #008080; text-decoration-color: #008080; font-weight: bold\">                            </span>│     file_pattern: '*.txt'                                                           \n",
       "│<span style=\"color: #008080; text-decoration-color: #008080; font-weight: bold\">                            </span>│     tree_name: 'Events'                                                             \n",
       "│<span style=\"color: #008080; text-decoration-color: #008080; font-weight: bold\">                            </span>│     weight_branch: None                                                             \n",
       "│<span style=\"color: #008080; text-decoration-color: #008080; font-weight: bold\">                            </span>│     redirector: 'root://xcache/'                                                    \n",
       "│<span style=\"color: #008080; text-decoration-color: #008080; font-weight: bold\">                            </span>│   }                                                                                 \n",
       "│<span style=\"color: #008080; text-decoration-color: #008080; font-weight: bold\">                            </span>│ ]                                                                                   \n",
       "│<span style=\"color: #008080; text-decoration-color: #008080; font-weight: bold\"> max_files                  </span>│ None                                                                                \n",
       "└────────────────────────────┴─────────────────────────────────────────────────────────────────────────────────────\n",
       "</pre>\n"
      ],
      "text/plain": [
       "\u001b[3m                                                Configuration: DATASETS                                            \u001b[0m\n",
       "┏━━━━━━━━━━━━━━━━━━━━━━━━━━━━┳━━━━━━━━━━━━━━━━━━━━━━━━━━━━━━━━━━━━━━━━━━━━━━━━━━━━━━━━━━━━━━━━━━━━━━━━━━━━━━━━━━━━━\n",
       "┃\u001b[1m \u001b[0m\u001b[1mKey                       \u001b[0m\u001b[1m \u001b[0m┃\u001b[1m \u001b[0m\u001b[1mValue                                                                               \u001b[0m\n",
       "┡━━━━━━━━━━━━━━━━━━━━━━━━━━━━╇━━━━━━━━━━━━━━━━━━━━━━━━━━━━━━━━━━━━━━━━━━━━━━━━━━━━━━━━━━━━━━━━━━━━━━━━━━━━━━━━━━━━━\n",
       "│\u001b[1;36m \u001b[0m\u001b[1;36mdatasets                  \u001b[0m\u001b[1;36m \u001b[0m│ [                                                                                   \n",
       "│\u001b[1;36m                            \u001b[0m│   [0]:                                                                              \n",
       "│\u001b[1;36m                            \u001b[0m│ {                                                                                   \n",
       "│\u001b[1;36m                            \u001b[0m│     name: 'signal'                                                                  \n",
       "│\u001b[1;36m                            \u001b[0m│     directory: 'example-demo/cms_datasets/2016/ZPrimeToTT_M2000_W200/'              \n",
       "│\u001b[1;36m                            \u001b[0m│     cross_section: 0.01895                                                          \n",
       "│\u001b[1;36m                            \u001b[0m│     file_pattern: '*.txt'                                                           \n",
       "│\u001b[1;36m                            \u001b[0m│     tree_name: 'Events'                                                             \n",
       "│\u001b[1;36m                            \u001b[0m│     weight_branch: 'genWeight'                                                      \n",
       "│\u001b[1;36m                            \u001b[0m│     redirector: 'root://xcache/'                                                    \n",
       "│\u001b[1;36m                            \u001b[0m│   }                                                                                 \n",
       "│\u001b[1;36m                            \u001b[0m│   [1]:                                                                              \n",
       "│\u001b[1;36m                            \u001b[0m│ {                                                                                   \n",
       "│\u001b[1;36m                            \u001b[0m│     name: 'ttbar_semilep'                                                           \n",
       "│\u001b[1;36m                            \u001b[0m│     directory: 'example-demo/cms_datasets/2016/TTToSemiLeptonic/'                   \n",
       "│\u001b[1;36m                            \u001b[0m│     cross_section: 364.31                                                           \n",
       "│\u001b[1;36m                            \u001b[0m│     file_pattern: '*.txt'                                                           \n",
       "│\u001b[1;36m                            \u001b[0m│     tree_name: 'Events'                                                             \n",
       "│\u001b[1;36m                            \u001b[0m│     weight_branch: 'genWeight'                                                      \n",
       "│\u001b[1;36m                            \u001b[0m│     redirector: 'root://xcache/'                                                    \n",
       "│\u001b[1;36m                            \u001b[0m│   }                                                                                 \n",
       "│\u001b[1;36m                            \u001b[0m│   [2]:                                                                              \n",
       "│\u001b[1;36m                            \u001b[0m│ {                                                                                   \n",
       "│\u001b[1;36m                            \u001b[0m│     name: 'ttbar_had'                                                               \n",
       "│\u001b[1;36m                            \u001b[0m│     directory: 'example-demo/cms_datasets/2016/TTToHadronic/'                       \n",
       "│\u001b[1;36m                            \u001b[0m│     cross_section: 380.11                                                           \n",
       "│\u001b[1;36m                            \u001b[0m│     file_pattern: '*.txt'                                                           \n",
       "│\u001b[1;36m                            \u001b[0m│     tree_name: 'Events'                                                             \n",
       "│\u001b[1;36m                            \u001b[0m│     weight_branch: 'genWeight'                                                      \n",
       "│\u001b[1;36m                            \u001b[0m│     redirector: 'root://xcache/'                                                    \n",
       "│\u001b[1;36m                            \u001b[0m│   }                                                                                 \n",
       "│\u001b[1;36m                            \u001b[0m│   [3]:                                                                              \n",
       "│\u001b[1;36m                            \u001b[0m│ {                                                                                   \n",
       "│\u001b[1;36m                            \u001b[0m│     name: 'ttbar_lep'                                                               \n",
       "│\u001b[1;36m                            \u001b[0m│     directory: 'example-demo/cms_datasets/2016/TTToHadronic/'                       \n",
       "│\u001b[1;36m                            \u001b[0m│     cross_section: 87.33                                                            \n",
       "│\u001b[1;36m                            \u001b[0m│     file_pattern: '*.txt'                                                           \n",
       "│\u001b[1;36m                            \u001b[0m│     tree_name: 'Events'                                                             \n",
       "│\u001b[1;36m                            \u001b[0m│     weight_branch: 'genWeight'                                                      \n",
       "│\u001b[1;36m                            \u001b[0m│     redirector: 'root://xcache/'                                                    \n",
       "│\u001b[1;36m                            \u001b[0m│   }                                                                                 \n",
       "│\u001b[1;36m                            \u001b[0m│   [4]:                                                                              \n",
       "│\u001b[1;36m                            \u001b[0m│ {                                                                                   \n",
       "│\u001b[1;36m                            \u001b[0m│     name: 'wjets'                                                                   \n",
       "│\u001b[1;36m                            \u001b[0m│     directory: 'example-demo/cms_datasets/2016/WJetsToLNu_HT-*/'                    \n",
       "│\u001b[1;36m                            \u001b[0m│     cross_section: 61526.7                                                          \n",
       "│\u001b[1;36m                            \u001b[0m│     file_pattern: '*.txt'                                                           \n",
       "│\u001b[1;36m                            \u001b[0m│     tree_name: 'Events'                                                             \n",
       "│\u001b[1;36m                            \u001b[0m│     weight_branch: 'genWeight'                                                      \n",
       "│\u001b[1;36m                            \u001b[0m│     redirector: 'root://xcache/'                                                    \n",
       "│\u001b[1;36m                            \u001b[0m│   }                                                                                 \n",
       "│\u001b[1;36m                            \u001b[0m│   [5]:                                                                              \n",
       "│\u001b[1;36m                            \u001b[0m│ {                                                                                   \n",
       "│\u001b[1;36m                            \u001b[0m│     name: 'data'                                                                    \n",
       "│\u001b[1;36m                            \u001b[0m│     directory: 'example-demo/cms_datasets/2016/SingleMuonRun*/'                     \n",
       "│\u001b[1;36m                            \u001b[0m│     cross_section: 1.0                                                              \n",
       "│\u001b[1;36m                            \u001b[0m│     file_pattern: '*.txt'                                                           \n",
       "│\u001b[1;36m                            \u001b[0m│     tree_name: 'Events'                                                             \n",
       "│\u001b[1;36m                            \u001b[0m│     weight_branch: None                                                             \n",
       "│\u001b[1;36m                            \u001b[0m│     redirector: 'root://xcache/'                                                    \n",
       "│\u001b[1;36m                            \u001b[0m│   }                                                                                 \n",
       "│\u001b[1;36m                            \u001b[0m│ ]                                                                                   \n",
       "│\u001b[1;36m \u001b[0m\u001b[1;36mmax_files                 \u001b[0m\u001b[1;36m \u001b[0m│ None                                                                                \n",
       "└────────────────────────────┴─────────────────────────────────────────────────────────────────────────────────────\n"
      ]
     },
     "metadata": {},
     "output_type": "display_data"
    }
   ],
   "source": [
    "# Example: Demonstrate configuration comparison and change detection\n",
    "from user.configuration_demo import config as original_config\n",
    "from utils.schema import Config, load_config_with_restricted_cli\n",
    "\n",
    "import copy\n",
    "\n",
    "# Save the original configuration for comparison\n",
    "config = copy.deepcopy(original_config)\n",
    "\n",
    "print(\"=== Full configuration ===\")\n",
    "display_config_table(config, expand=True)"
   ]
  },
  {
   "cell_type": "code",
   "execution_count": 5,
   "id": "69b2f6ae-0fc6-44d4-80ed-1e03ee9c51cf",
   "metadata": {},
   "outputs": [
    {
     "data": {
      "text/html": [
       "<pre style=\"white-space:pre;overflow-x:auto;line-height:normal;font-family:Menlo,'DejaVu Sans Mono',consolas,'Courier New',monospace\"><span style=\"font-style: italic\">                                                Configuration: DATASETS                                            </span>\n",
       "┏━━━━━━━━━━━━━━━━━━━━━━━━━━━━┳━━━━━━━━━━━━━━━━━━━━━━━━━━━━━━━━━━━━━━━━━━━━━━━━━━━━━━━━━━━━━━━━━━━━━━━━━━━━━━━━━━━━━\n",
       "┃<span style=\"font-weight: bold\"> Key                        </span>┃<span style=\"font-weight: bold\"> Value                                                                               </span>\n",
       "┡━━━━━━━━━━━━━━━━━━━━━━━━━━━━╇━━━━━━━━━━━━━━━━━━━━━━━━━━━━━━━━━━━━━━━━━━━━━━━━━━━━━━━━━━━━━━━━━━━━━━━━━━━━━━━━━━━━━\n",
       "│<span style=\"color: #008080; text-decoration-color: #008080; font-weight: bold\"> datasets                   </span>│ [                                                                                   \n",
       "│<span style=\"color: #008080; text-decoration-color: #008080; font-weight: bold\">                            </span>│   [0]:                                                                              \n",
       "│<span style=\"color: #008080; text-decoration-color: #008080; font-weight: bold\">                            </span>│ {                                                                                   \n",
       "│<span style=\"color: #008080; text-decoration-color: #008080; font-weight: bold\">                            </span>│     name: 'signal'                                                                  \n",
       "│<span style=\"color: #008080; text-decoration-color: #008080; font-weight: bold\">                            </span>│     directory: 'example-demo/cms_datasets/2016/ZPrimeToTT_M2000_W200/'              \n",
       "│<span style=\"color: #008080; text-decoration-color: #008080; font-weight: bold\">                            </span>│     cross_section: 0.01895                                                          \n",
       "│<span style=\"color: #008080; text-decoration-color: #008080; font-weight: bold\">                            </span>│     file_pattern: '*.txt'                                                           \n",
       "│<span style=\"color: #008080; text-decoration-color: #008080; font-weight: bold\">                            </span>│     tree_name: 'Events'                                                             \n",
       "│<span style=\"color: #008080; text-decoration-color: #008080; font-weight: bold\">                            </span>│     weight_branch: 'genWeight'                                                      \n",
       "│<span style=\"color: #008080; text-decoration-color: #008080; font-weight: bold\">                            </span>│     redirector: 'root://xcache/'                                                    \n",
       "│<span style=\"color: #008080; text-decoration-color: #008080; font-weight: bold\">                            </span>│   }                                                                                 \n",
       "│<span style=\"color: #008080; text-decoration-color: #008080; font-weight: bold\">                            </span>│   [1]:                                                                              \n",
       "│<span style=\"color: #008080; text-decoration-color: #008080; font-weight: bold\">                            </span>│ {                                                                                   \n",
       "│<span style=\"color: #008080; text-decoration-color: #008080; font-weight: bold\">                            </span>│     name: 'ttbar_semilep'                                                           \n",
       "│<span style=\"color: #008080; text-decoration-color: #008080; font-weight: bold\">                            </span>│     directory: 'example-demo/cms_datasets/2016/TTToSemiLeptonic/'                   \n",
       "│<span style=\"color: #008080; text-decoration-color: #008080; font-weight: bold\">                            </span>│     cross_section: 364.31                                                           \n",
       "│<span style=\"color: #008080; text-decoration-color: #008080; font-weight: bold\">                            </span>│     file_pattern: '*.txt'                                                           \n",
       "│<span style=\"color: #008080; text-decoration-color: #008080; font-weight: bold\">                            </span>│     tree_name: 'Events'                                                             \n",
       "│<span style=\"color: #008080; text-decoration-color: #008080; font-weight: bold\">                            </span>│     weight_branch: 'genWeight'                                                      \n",
       "│<span style=\"color: #008080; text-decoration-color: #008080; font-weight: bold\">                            </span>│     redirector: 'root://xcache/'                                                    \n",
       "│<span style=\"color: #008080; text-decoration-color: #008080; font-weight: bold\">                            </span>│   }                                                                                 \n",
       "│<span style=\"color: #008080; text-decoration-color: #008080; font-weight: bold\">                            </span>│   [2]:                                                                              \n",
       "│<span style=\"color: #008080; text-decoration-color: #008080; font-weight: bold\">                            </span>│ {                                                                                   \n",
       "│<span style=\"color: #008080; text-decoration-color: #008080; font-weight: bold\">                            </span>│     name: 'ttbar_had'                                                               \n",
       "│<span style=\"color: #008080; text-decoration-color: #008080; font-weight: bold\">                            </span>│     directory: 'example-demo/cms_datasets/2016/TTToHadronic/'                       \n",
       "│<span style=\"color: #008080; text-decoration-color: #008080; font-weight: bold\">                            </span>│     cross_section: 380.11                                                           \n",
       "│<span style=\"color: #008080; text-decoration-color: #008080; font-weight: bold\">                            </span>│     file_pattern: '*.txt'                                                           \n",
       "│<span style=\"color: #008080; text-decoration-color: #008080; font-weight: bold\">                            </span>│     tree_name: 'Events'                                                             \n",
       "│<span style=\"color: #008080; text-decoration-color: #008080; font-weight: bold\">                            </span>│     weight_branch: 'genWeight'                                                      \n",
       "│<span style=\"color: #008080; text-decoration-color: #008080; font-weight: bold\">                            </span>│     redirector: 'root://xcache/'                                                    \n",
       "│<span style=\"color: #008080; text-decoration-color: #008080; font-weight: bold\">                            </span>│   }                                                                                 \n",
       "│<span style=\"color: #008080; text-decoration-color: #008080; font-weight: bold\">                            </span>│   [3]:                                                                              \n",
       "│<span style=\"color: #008080; text-decoration-color: #008080; font-weight: bold\">                            </span>│ {                                                                                   \n",
       "│<span style=\"color: #008080; text-decoration-color: #008080; font-weight: bold\">                            </span>│     name: 'ttbar_lep'                                                               \n",
       "│<span style=\"color: #008080; text-decoration-color: #008080; font-weight: bold\">                            </span>│     directory: 'example-demo/cms_datasets/2016/TTToHadronic/'                       \n",
       "│<span style=\"color: #008080; text-decoration-color: #008080; font-weight: bold\">                            </span>│     cross_section: 87.33                                                            \n",
       "│<span style=\"color: #008080; text-decoration-color: #008080; font-weight: bold\">                            </span>│     file_pattern: '*.txt'                                                           \n",
       "│<span style=\"color: #008080; text-decoration-color: #008080; font-weight: bold\">                            </span>│     tree_name: 'Events'                                                             \n",
       "│<span style=\"color: #008080; text-decoration-color: #008080; font-weight: bold\">                            </span>│     weight_branch: 'genWeight'                                                      \n",
       "│<span style=\"color: #008080; text-decoration-color: #008080; font-weight: bold\">                            </span>│     redirector: 'root://xcache/'                                                    \n",
       "│<span style=\"color: #008080; text-decoration-color: #008080; font-weight: bold\">                            </span>│   }                                                                                 \n",
       "│<span style=\"color: #008080; text-decoration-color: #008080; font-weight: bold\">                            </span>│   [4]:                                                                              \n",
       "│<span style=\"color: #008080; text-decoration-color: #008080; font-weight: bold\">                            </span>│ {                                                                                   \n",
       "│<span style=\"color: #008080; text-decoration-color: #008080; font-weight: bold\">                            </span>│     name: 'wjets'                                                                   \n",
       "│<span style=\"color: #008080; text-decoration-color: #008080; font-weight: bold\">                            </span>│     directory: 'example-demo/cms_datasets/2016/WJetsToLNu_HT-*/'                    \n",
       "│<span style=\"color: #008080; text-decoration-color: #008080; font-weight: bold\">                            </span>│     cross_section: 61526.7                                                          \n",
       "│<span style=\"color: #008080; text-decoration-color: #008080; font-weight: bold\">                            </span>│     file_pattern: '*.txt'                                                           \n",
       "│<span style=\"color: #008080; text-decoration-color: #008080; font-weight: bold\">                            </span>│     tree_name: 'Events'                                                             \n",
       "│<span style=\"color: #008080; text-decoration-color: #008080; font-weight: bold\">                            </span>│     weight_branch: 'genWeight'                                                      \n",
       "│<span style=\"color: #008080; text-decoration-color: #008080; font-weight: bold\">                            </span>│     redirector: 'root://xcache/'                                                    \n",
       "│<span style=\"color: #008080; text-decoration-color: #008080; font-weight: bold\">                            </span>│   }                                                                                 \n",
       "│<span style=\"color: #008080; text-decoration-color: #008080; font-weight: bold\">                            </span>│   [5]:                                                                              \n",
       "│<span style=\"color: #008080; text-decoration-color: #008080; font-weight: bold\">                            </span>│ {                                                                                   \n",
       "│<span style=\"color: #008080; text-decoration-color: #008080; font-weight: bold\">                            </span>│     name: 'data'                                                                    \n",
       "│<span style=\"color: #008080; text-decoration-color: #008080; font-weight: bold\">                            </span>│     directory: 'example-demo/cms_datasets/2016/SingleMuonRun*/'                     \n",
       "│<span style=\"color: #008080; text-decoration-color: #008080; font-weight: bold\">                            </span>│     cross_section: 1.0                                                              \n",
       "│<span style=\"color: #008080; text-decoration-color: #008080; font-weight: bold\">                            </span>│     file_pattern: '*.txt'                                                           \n",
       "│<span style=\"color: #008080; text-decoration-color: #008080; font-weight: bold\">                            </span>│     tree_name: 'Events'                                                             \n",
       "│<span style=\"color: #008080; text-decoration-color: #008080; font-weight: bold\">                            </span>│     weight_branch: None                                                             \n",
       "│<span style=\"color: #008080; text-decoration-color: #008080; font-weight: bold\">                            </span>│     redirector: 'root://xcache/'                                                    \n",
       "│<span style=\"color: #008080; text-decoration-color: #008080; font-weight: bold\">                            </span>│   }                                                                                 \n",
       "│<span style=\"color: #008080; text-decoration-color: #008080; font-weight: bold\">                            </span>│ ]                                                                                   \n",
       "│<span style=\"color: #008080; text-decoration-color: #008080; font-weight: bold\"> max_files                  </span>│ None                                                                                \n",
       "└────────────────────────────┴─────────────────────────────────────────────────────────────────────────────────────\n",
       "</pre>\n"
      ],
      "text/plain": [
       "\u001b[3m                                                Configuration: DATASETS                                            \u001b[0m\n",
       "┏━━━━━━━━━━━━━━━━━━━━━━━━━━━━┳━━━━━━━━━━━━━━━━━━━━━━━━━━━━━━━━━━━━━━━━━━━━━━━━━━━━━━━━━━━━━━━━━━━━━━━━━━━━━━━━━━━━━\n",
       "┃\u001b[1m \u001b[0m\u001b[1mKey                       \u001b[0m\u001b[1m \u001b[0m┃\u001b[1m \u001b[0m\u001b[1mValue                                                                               \u001b[0m\n",
       "┡━━━━━━━━━━━━━━━━━━━━━━━━━━━━╇━━━━━━━━━━━━━━━━━━━━━━━━━━━━━━━━━━━━━━━━━━━━━━━━━━━━━━━━━━━━━━━━━━━━━━━━━━━━━━━━━━━━━\n",
       "│\u001b[1;36m \u001b[0m\u001b[1;36mdatasets                  \u001b[0m\u001b[1;36m \u001b[0m│ [                                                                                   \n",
       "│\u001b[1;36m                            \u001b[0m│   [0]:                                                                              \n",
       "│\u001b[1;36m                            \u001b[0m│ {                                                                                   \n",
       "│\u001b[1;36m                            \u001b[0m│     name: 'signal'                                                                  \n",
       "│\u001b[1;36m                            \u001b[0m│     directory: 'example-demo/cms_datasets/2016/ZPrimeToTT_M2000_W200/'              \n",
       "│\u001b[1;36m                            \u001b[0m│     cross_section: 0.01895                                                          \n",
       "│\u001b[1;36m                            \u001b[0m│     file_pattern: '*.txt'                                                           \n",
       "│\u001b[1;36m                            \u001b[0m│     tree_name: 'Events'                                                             \n",
       "│\u001b[1;36m                            \u001b[0m│     weight_branch: 'genWeight'                                                      \n",
       "│\u001b[1;36m                            \u001b[0m│     redirector: 'root://xcache/'                                                    \n",
       "│\u001b[1;36m                            \u001b[0m│   }                                                                                 \n",
       "│\u001b[1;36m                            \u001b[0m│   [1]:                                                                              \n",
       "│\u001b[1;36m                            \u001b[0m│ {                                                                                   \n",
       "│\u001b[1;36m                            \u001b[0m│     name: 'ttbar_semilep'                                                           \n",
       "│\u001b[1;36m                            \u001b[0m│     directory: 'example-demo/cms_datasets/2016/TTToSemiLeptonic/'                   \n",
       "│\u001b[1;36m                            \u001b[0m│     cross_section: 364.31                                                           \n",
       "│\u001b[1;36m                            \u001b[0m│     file_pattern: '*.txt'                                                           \n",
       "│\u001b[1;36m                            \u001b[0m│     tree_name: 'Events'                                                             \n",
       "│\u001b[1;36m                            \u001b[0m│     weight_branch: 'genWeight'                                                      \n",
       "│\u001b[1;36m                            \u001b[0m│     redirector: 'root://xcache/'                                                    \n",
       "│\u001b[1;36m                            \u001b[0m│   }                                                                                 \n",
       "│\u001b[1;36m                            \u001b[0m│   [2]:                                                                              \n",
       "│\u001b[1;36m                            \u001b[0m│ {                                                                                   \n",
       "│\u001b[1;36m                            \u001b[0m│     name: 'ttbar_had'                                                               \n",
       "│\u001b[1;36m                            \u001b[0m│     directory: 'example-demo/cms_datasets/2016/TTToHadronic/'                       \n",
       "│\u001b[1;36m                            \u001b[0m│     cross_section: 380.11                                                           \n",
       "│\u001b[1;36m                            \u001b[0m│     file_pattern: '*.txt'                                                           \n",
       "│\u001b[1;36m                            \u001b[0m│     tree_name: 'Events'                                                             \n",
       "│\u001b[1;36m                            \u001b[0m│     weight_branch: 'genWeight'                                                      \n",
       "│\u001b[1;36m                            \u001b[0m│     redirector: 'root://xcache/'                                                    \n",
       "│\u001b[1;36m                            \u001b[0m│   }                                                                                 \n",
       "│\u001b[1;36m                            \u001b[0m│   [3]:                                                                              \n",
       "│\u001b[1;36m                            \u001b[0m│ {                                                                                   \n",
       "│\u001b[1;36m                            \u001b[0m│     name: 'ttbar_lep'                                                               \n",
       "│\u001b[1;36m                            \u001b[0m│     directory: 'example-demo/cms_datasets/2016/TTToHadronic/'                       \n",
       "│\u001b[1;36m                            \u001b[0m│     cross_section: 87.33                                                            \n",
       "│\u001b[1;36m                            \u001b[0m│     file_pattern: '*.txt'                                                           \n",
       "│\u001b[1;36m                            \u001b[0m│     tree_name: 'Events'                                                             \n",
       "│\u001b[1;36m                            \u001b[0m│     weight_branch: 'genWeight'                                                      \n",
       "│\u001b[1;36m                            \u001b[0m│     redirector: 'root://xcache/'                                                    \n",
       "│\u001b[1;36m                            \u001b[0m│   }                                                                                 \n",
       "│\u001b[1;36m                            \u001b[0m│   [4]:                                                                              \n",
       "│\u001b[1;36m                            \u001b[0m│ {                                                                                   \n",
       "│\u001b[1;36m                            \u001b[0m│     name: 'wjets'                                                                   \n",
       "│\u001b[1;36m                            \u001b[0m│     directory: 'example-demo/cms_datasets/2016/WJetsToLNu_HT-*/'                    \n",
       "│\u001b[1;36m                            \u001b[0m│     cross_section: 61526.7                                                          \n",
       "│\u001b[1;36m                            \u001b[0m│     file_pattern: '*.txt'                                                           \n",
       "│\u001b[1;36m                            \u001b[0m│     tree_name: 'Events'                                                             \n",
       "│\u001b[1;36m                            \u001b[0m│     weight_branch: 'genWeight'                                                      \n",
       "│\u001b[1;36m                            \u001b[0m│     redirector: 'root://xcache/'                                                    \n",
       "│\u001b[1;36m                            \u001b[0m│   }                                                                                 \n",
       "│\u001b[1;36m                            \u001b[0m│   [5]:                                                                              \n",
       "│\u001b[1;36m                            \u001b[0m│ {                                                                                   \n",
       "│\u001b[1;36m                            \u001b[0m│     name: 'data'                                                                    \n",
       "│\u001b[1;36m                            \u001b[0m│     directory: 'example-demo/cms_datasets/2016/SingleMuonRun*/'                     \n",
       "│\u001b[1;36m                            \u001b[0m│     cross_section: 1.0                                                              \n",
       "│\u001b[1;36m                            \u001b[0m│     file_pattern: '*.txt'                                                           \n",
       "│\u001b[1;36m                            \u001b[0m│     tree_name: 'Events'                                                             \n",
       "│\u001b[1;36m                            \u001b[0m│     weight_branch: None                                                             \n",
       "│\u001b[1;36m                            \u001b[0m│     redirector: 'root://xcache/'                                                    \n",
       "│\u001b[1;36m                            \u001b[0m│   }                                                                                 \n",
       "│\u001b[1;36m                            \u001b[0m│ ]                                                                                   \n",
       "│\u001b[1;36m \u001b[0m\u001b[1;36mmax_files                 \u001b[0m\u001b[1;36m \u001b[0m│ None                                                                                \n",
       "└────────────────────────────┴─────────────────────────────────────────────────────────────────────────────────────\n"
      ]
     },
     "metadata": {},
     "output_type": "display_data"
    }
   ],
   "source": [
    "# Let's look at the datasets config\n",
    "display_config_table({\"datasets\": config[\"datasets\"]},\n",
    "                    expand=True)"
   ]
  },
  {
   "cell_type": "code",
   "execution_count": 6,
   "id": "d30b2785-4e3e-46dd-a9fa-158fa7dd32ce",
   "metadata": {},
   "outputs": [
    {
     "name": "stdout",
     "output_type": "stream",
     "text": [
      "=== SHOW ONLY CHANGES ===\n"
     ]
    },
    {
     "data": {
      "text/html": [
       "<pre style=\"white-space:pre;overflow-x:auto;line-height:normal;font-family:Menlo,'DejaVu Sans Mono',consolas,'Courier New',monospace\"><span style=\"font-style: italic\">                                          Configuration: DATASETS </span><span style=\"color: #808000; text-decoration-color: #808000; font-style: italic\">(1 changes)</span><span style=\"font-style: italic\">                                      </span>\n",
       "┏━━━━━━━━━━━━━━━━━━━━━━━━━━━━┳━━━━━━━━━━━━━━━━━━━━━━━━━━━━━━━━━━━━━━━━━━━━━━━━━━━━━━━━━━━━━━━━━━━━━┳━━━━━━━━━━━━━━━\n",
       "┃<span style=\"font-weight: bold\"> Key                        </span>┃<span style=\"font-weight: bold\"> Value                                                               </span>┃<span style=\"font-weight: bold\">      Status   </span>\n",
       "┡━━━━━━━━━━━━━━━━━━━━━━━━━━━━╇━━━━━━━━━━━━━━━━━━━━━━━━━━━━━━━━━━━━━━━━━━━━━━━━━━━━━━━━━━━━━━━━━━━━━╇━━━━━━━━━━━━━━━\n",
       "│<span style=\"color: #008080; text-decoration-color: #008080; font-weight: bold\"> max_files                  </span>│ 10                                                                  │<span style=\"font-weight: bold\">      </span><span style=\"color: #808000; text-decoration-color: #808000; font-weight: bold\">CHANGED</span><span style=\"font-weight: bold\">  </span>\n",
       "└────────────────────────────┴─────────────────────────────────────────────────────────────────────┴───────────────\n",
       "</pre>\n"
      ],
      "text/plain": [
       "\u001b[3m                                          Configuration: DATASETS \u001b[0m\u001b[3;33m(1 changes)\u001b[0m\u001b[3m                                      \u001b[0m\n",
       "┏━━━━━━━━━━━━━━━━━━━━━━━━━━━━┳━━━━━━━━━━━━━━━━━━━━━━━━━━━━━━━━━━━━━━━━━━━━━━━━━━━━━━━━━━━━━━━━━━━━━┳━━━━━━━━━━━━━━━\n",
       "┃\u001b[1m \u001b[0m\u001b[1mKey                       \u001b[0m\u001b[1m \u001b[0m┃\u001b[1m \u001b[0m\u001b[1mValue                                                              \u001b[0m\u001b[1m \u001b[0m┃\u001b[1m \u001b[0m\u001b[1m     Status   \u001b[0m\n",
       "┡━━━━━━━━━━━━━━━━━━━━━━━━━━━━╇━━━━━━━━━━━━━━━━━━━━━━━━━━━━━━━━━━━━━━━━━━━━━━━━━━━━━━━━━━━━━━━━━━━━━╇━━━━━━━━━━━━━━━\n",
       "│\u001b[1;36m \u001b[0m\u001b[1;36mmax_files                 \u001b[0m\u001b[1;36m \u001b[0m│ 10                                                                  │\u001b[1m \u001b[0m\u001b[1m     \u001b[0m\u001b[1;33mCHANGED\u001b[0m\u001b[1m  \u001b[0m\n",
       "└────────────────────────────┴─────────────────────────────────────────────────────────────────────┴───────────────\n"
      ]
     },
     "metadata": {},
     "output_type": "display_data"
    },
    {
     "name": "stdout",
     "output_type": "stream",
     "text": [
      "✅ Processed CLI arguments and loaded full configuration\n"
     ]
    }
   ],
   "source": [
    "# Make a modification\n",
    "config[\"datasets\"][\"max_files\"] = 10 # Limit to 1 files per dataset\n",
    "\n",
    "print(\"=== SHOW ONLY CHANGES ===\")\n",
    "display_config_table({\"datasets\": config[\"datasets\"]},\n",
    "                    expand=True,\n",
    "                    compare_with={\"datasets\": original_config[\"datasets\"]},\n",
    "                    show_only_changes=True)\n",
    "\n",
    "cli_args = []  # No CLI overrides for this demo\n",
    "full_config = load_config_with_restricted_cli(config, cli_args)\n",
    "\n",
    "print(\"✅ Processed CLI arguments and loaded full configuration\")\n",
    "validated_config = Config(**full_config)  # This is the key validation step!"
   ]
  },
  {
   "cell_type": "markdown",
   "id": "29092ea4",
   "metadata": {},
   "source": [
    "# 3. Output Manager & Directory Structure\n",
    "\n",
    "The framework uses a centralized `OutputDirectoryManager` (`utils/output_manager.py`) to organize all analysis outputs."
   ]
  },
  {
   "cell_type": "code",
   "execution_count": 7,
   "id": "b1c26af2",
   "metadata": {},
   "outputs": [
    {
     "data": {
      "text/html": [
       "<pre style=\"white-space:pre;overflow-x:auto;line-height:normal;font-family:Menlo,'DejaVu Sans Mono',consolas,'Courier New',monospace\"><span style=\"color: #7fbfbf; text-decoration-color: #7fbfbf\">13:41:43 </span><span style=\"color: #000080; text-decoration-color: #000080\">INFO    </span> <span style=\"color: #000000; text-decoration-color: #000000\">Output directory manager initialized with root:                              </span><a href=\"file:///home/cms-jovyan/integration-challenge/cms/utils/output_manager.py\" target=\"_blank\"><span style=\"color: #7f7f7f; text-decoration-color: #7f7f7f\">output_manager.py</span></a><span style=\"color: #7f7f7f; text-decoration-color: #7f7f7f\">:</span><a href=\"file:///home/cms-jovyan/integration-challenge/cms/utils/output_manager.py#73\" target=\"_blank\"><span style=\"color: #7f7f7f; text-decoration-color: #7f7f7f\">73</span></a>\n",
       "<span style=\"color: #7fbfbf; text-decoration-color: #7fbfbf\">         </span>         <span style=\"color: #000000; text-decoration-color: #000000\">/home/cms-jovyan/integration-challenge/cms/example-demo/outputs              </span><span style=\"color: #7f7f7f; text-decoration-color: #7f7f7f\">                    </span>\n",
       "</pre>\n"
      ],
      "text/plain": [
       "\u001b[2;36m13:41:43\u001b[0m\u001b[2;36m \u001b[0m\u001b[34mINFO    \u001b[0m \u001b[39mOutput directory manager initialized with root:                             \u001b[0m\u001b[39m \u001b[0m\u001b]8;id=583280;file:///home/cms-jovyan/integration-challenge/cms/utils/output_manager.py\u001b\\\u001b[2moutput_manager.py\u001b[0m\u001b]8;;\u001b\\\u001b[2m:\u001b[0m\u001b]8;id=425998;file:///home/cms-jovyan/integration-challenge/cms/utils/output_manager.py#73\u001b\\\u001b[2m73\u001b[0m\u001b]8;;\u001b\\\n",
       "\u001b[2;36m         \u001b[0m         \u001b[39m/home/cms-jovyan/integration-challenge/cms/example-demo/\u001b[0m\u001b[39moutputs\u001b[0m\u001b[39m             \u001b[0m\u001b[39m \u001b[0m\u001b[2m                    \u001b[0m\n"
      ]
     },
     "metadata": {},
     "output_type": "display_data"
    },
    {
     "name": "stdout",
     "output_type": "stream",
     "text": [
      "✅ Created OutputDirectoryManager with validated paths\n"
     ]
    }
   ],
   "source": [
    "from utils.output_manager import OutputDirectoryManager\n",
    "\n",
    "output_manager = OutputDirectoryManager(\n",
    "    root_output_dir=validated_config.general.output_dir,\n",
    "    cache_dir=validated_config.general.cache_dir,\n",
    "    metadata_dir=validated_config.general.metadata_dir,\n",
    "    skimmed_dir=validated_config.general.skimmed_dir\n",
    ")\n",
    "\n",
    "print(\"✅ Created OutputDirectoryManager with validated paths\")\n"
   ]
  },
  {
   "cell_type": "markdown",
   "id": "e7fa7bd4",
   "metadata": {},
   "source": [
    "## 4. Metadata Extraction\n",
    "\n",
    "Metadata extraction runs `coffea`'s preprocessor to build analysis workitems, a `coffea`-compatible fileset and a summary of the processed `NanoAOD`s. Its outputs stay in memory, but are also stored in `JSON` files to allow re-runing subsequent steps without pre-processing every time."
   ]
  },
  {
   "cell_type": "code",
   "execution_count": 8,
   "id": "9fb1e349",
   "metadata": {},
   "outputs": [
    {
     "data": {
      "text/html": [
       "<pre style=\"white-space:pre;overflow-x:auto;line-height:normal;font-family:Menlo,'DejaVu Sans Mono',consolas,'Courier New',monospace\"><span style=\"color: #7fbfbf; text-decoration-color: #7fbfbf\">         </span><span style=\"color: #000080; text-decoration-color: #000080\">INFO    </span> <span style=\"color: #000000; text-decoration-color: #000000\">Initialized dataset manager with </span><span style=\"color: #008080; text-decoration-color: #008080; font-weight: bold\">6</span><span style=\"color: #000000; text-decoration-color: #000000\"> datasets                                        </span><a href=\"file:///home/cms-jovyan/integration-challenge/cms/utils/datasets.py\" target=\"_blank\"><span style=\"color: #7f7f7f; text-decoration-color: #7f7f7f\">datasets.py</span></a><span style=\"color: #7f7f7f; text-decoration-color: #7f7f7f\">:</span><a href=\"file:///home/cms-jovyan/integration-challenge/cms/utils/datasets.py#38\" target=\"_blank\"><span style=\"color: #7f7f7f; text-decoration-color: #7f7f7f\">38</span></a>\n",
       "</pre>\n"
      ],
      "text/plain": [
       "\u001b[2;36m        \u001b[0m\u001b[2;36m \u001b[0m\u001b[34mINFO    \u001b[0m \u001b[39mInitialized dataset manager with \u001b[0m\u001b[1;36m6\u001b[0m\u001b[39m datasets                                       \u001b[0m\u001b[39m \u001b[0m\u001b]8;id=977600;file:///home/cms-jovyan/integration-challenge/cms/utils/datasets.py\u001b\\\u001b[2mdatasets.py\u001b[0m\u001b]8;;\u001b\\\u001b[2m:\u001b[0m\u001b]8;id=206697;file:///home/cms-jovyan/integration-challenge/cms/utils/datasets.py#38\u001b\\\u001b[2m38\u001b[0m\u001b]8;;\u001b\\\n"
      ]
     },
     "metadata": {},
     "output_type": "display_data"
    },
    {
     "name": "stdout",
     "output_type": "stream",
     "text": [
      "(<Client: 'tls://192.168.198.7:8786' processes=0 threads=0, memory=0 B>, None)\n",
      "Running dask\n"
     ]
    },
    {
     "data": {
      "text/html": [
       "<pre style=\"white-space:pre;overflow-x:auto;line-height:normal;font-family:Menlo,'DejaVu Sans Mono',consolas,'Courier New',monospace\"><span style=\"color: #7fbfbf; text-decoration-color: #7fbfbf\">13:41:44 </span><span style=\"color: #000080; text-decoration-color: #000080\">INFO    </span> <span style=\"color: #000000; text-decoration-color: #000000\">Starting metadata generation workflow</span><span style=\"color: #808000; text-decoration-color: #808000\">...</span><span style=\"color: #000000; text-decoration-color: #000000\">                                </span><a href=\"file:///home/cms-jovyan/integration-challenge/cms/utils/metadata_extractor.py\" target=\"_blank\"><span style=\"color: #7f7f7f; text-decoration-color: #7f7f7f\">metadata_extractor.py</span></a><span style=\"color: #7f7f7f; text-decoration-color: #7f7f7f\">:</span><a href=\"file:///home/cms-jovyan/integration-challenge/cms/utils/metadata_extractor.py#421\" target=\"_blank\"><span style=\"color: #7f7f7f; text-decoration-color: #7f7f7f\">421</span></a>\n",
       "</pre>\n"
      ],
      "text/plain": [
       "\u001b[2;36m13:41:44\u001b[0m\u001b[2;36m \u001b[0m\u001b[34mINFO    \u001b[0m \u001b[39mStarting metadata generation workflow\u001b[0m\u001b[33m...\u001b[0m\u001b[39m                               \u001b[0m\u001b[39m \u001b[0m\u001b]8;id=624178;file:///home/cms-jovyan/integration-challenge/cms/utils/metadata_extractor.py\u001b\\\u001b[2mmetadata_extractor.py\u001b[0m\u001b]8;;\u001b\\\u001b[2m:\u001b[0m\u001b]8;id=849600;file:///home/cms-jovyan/integration-challenge/cms/utils/metadata_extractor.py#421\u001b\\\u001b[2m421\u001b[0m\u001b]8;;\u001b\\\n"
      ]
     },
     "metadata": {},
     "output_type": "display_data"
    },
    {
     "data": {
      "text/html": [
       "<pre style=\"white-space:pre;overflow-x:auto;line-height:normal;font-family:Menlo,'DejaVu Sans Mono',consolas,'Courier New',monospace\"><span style=\"color: #7fbfbf; text-decoration-color: #7fbfbf\">         </span><span style=\"color: #000080; text-decoration-color: #000080\">INFO    </span> <span style=\"color: #000000; text-decoration-color: #000000\">Building fileset for process: signal                                    </span><a href=\"file:///home/cms-jovyan/integration-challenge/cms/utils/metadata_extractor.py\" target=\"_blank\"><span style=\"color: #7f7f7f; text-decoration-color: #7f7f7f\">metadata_extractor.py</span></a><span style=\"color: #7f7f7f; text-decoration-color: #7f7f7f\">:</span><a href=\"file:///home/cms-jovyan/integration-challenge/cms/utils/metadata_extractor.py#168\" target=\"_blank\"><span style=\"color: #7f7f7f; text-decoration-color: #7f7f7f\">168</span></a>\n",
       "</pre>\n"
      ],
      "text/plain": [
       "\u001b[2;36m        \u001b[0m\u001b[2;36m \u001b[0m\u001b[34mINFO    \u001b[0m \u001b[39mBuilding fileset for process: signal                                   \u001b[0m\u001b[39m \u001b[0m\u001b]8;id=309724;file:///home/cms-jovyan/integration-challenge/cms/utils/metadata_extractor.py\u001b\\\u001b[2mmetadata_extractor.py\u001b[0m\u001b]8;;\u001b\\\u001b[2m:\u001b[0m\u001b]8;id=838571;file:///home/cms-jovyan/integration-challenge/cms/utils/metadata_extractor.py#168\u001b\\\u001b[2m168\u001b[0m\u001b]8;;\u001b\\\n"
      ]
     },
     "metadata": {},
     "output_type": "display_data"
    },
    {
     "data": {
      "text/html": [
       "<pre style=\"white-space:pre;overflow-x:auto;line-height:normal;font-family:Menlo,'DejaVu Sans Mono',consolas,'Courier New',monospace\"><span style=\"color: #7fbfbf; text-decoration-color: #7fbfbf\">         </span><span style=\"color: #000080; text-decoration-color: #000080\">INFO    </span> <span style=\"color: #000000; text-decoration-color: #000000\">Building fileset for process: ttbar_semilep                             </span><a href=\"file:///home/cms-jovyan/integration-challenge/cms/utils/metadata_extractor.py\" target=\"_blank\"><span style=\"color: #7f7f7f; text-decoration-color: #7f7f7f\">metadata_extractor.py</span></a><span style=\"color: #7f7f7f; text-decoration-color: #7f7f7f\">:</span><a href=\"file:///home/cms-jovyan/integration-challenge/cms/utils/metadata_extractor.py#168\" target=\"_blank\"><span style=\"color: #7f7f7f; text-decoration-color: #7f7f7f\">168</span></a>\n",
       "</pre>\n"
      ],
      "text/plain": [
       "\u001b[2;36m        \u001b[0m\u001b[2;36m \u001b[0m\u001b[34mINFO    \u001b[0m \u001b[39mBuilding fileset for process: ttbar_semilep                            \u001b[0m\u001b[39m \u001b[0m\u001b]8;id=438759;file:///home/cms-jovyan/integration-challenge/cms/utils/metadata_extractor.py\u001b\\\u001b[2mmetadata_extractor.py\u001b[0m\u001b]8;;\u001b\\\u001b[2m:\u001b[0m\u001b]8;id=586970;file:///home/cms-jovyan/integration-challenge/cms/utils/metadata_extractor.py#168\u001b\\\u001b[2m168\u001b[0m\u001b]8;;\u001b\\\n"
      ]
     },
     "metadata": {},
     "output_type": "display_data"
    },
    {
     "data": {
      "text/html": [
       "<pre style=\"white-space:pre;overflow-x:auto;line-height:normal;font-family:Menlo,'DejaVu Sans Mono',consolas,'Courier New',monospace\"><span style=\"color: #7fbfbf; text-decoration-color: #7fbfbf\">         </span><span style=\"color: #000080; text-decoration-color: #000080\">INFO    </span> <span style=\"color: #000000; text-decoration-color: #000000\">Building fileset for process: ttbar_had                                 </span><a href=\"file:///home/cms-jovyan/integration-challenge/cms/utils/metadata_extractor.py\" target=\"_blank\"><span style=\"color: #7f7f7f; text-decoration-color: #7f7f7f\">metadata_extractor.py</span></a><span style=\"color: #7f7f7f; text-decoration-color: #7f7f7f\">:</span><a href=\"file:///home/cms-jovyan/integration-challenge/cms/utils/metadata_extractor.py#168\" target=\"_blank\"><span style=\"color: #7f7f7f; text-decoration-color: #7f7f7f\">168</span></a>\n",
       "</pre>\n"
      ],
      "text/plain": [
       "\u001b[2;36m        \u001b[0m\u001b[2;36m \u001b[0m\u001b[34mINFO    \u001b[0m \u001b[39mBuilding fileset for process: ttbar_had                                \u001b[0m\u001b[39m \u001b[0m\u001b]8;id=471375;file:///home/cms-jovyan/integration-challenge/cms/utils/metadata_extractor.py\u001b\\\u001b[2mmetadata_extractor.py\u001b[0m\u001b]8;;\u001b\\\u001b[2m:\u001b[0m\u001b]8;id=444282;file:///home/cms-jovyan/integration-challenge/cms/utils/metadata_extractor.py#168\u001b\\\u001b[2m168\u001b[0m\u001b]8;;\u001b\\\n"
      ]
     },
     "metadata": {},
     "output_type": "display_data"
    },
    {
     "data": {
      "text/html": [
       "<pre style=\"white-space:pre;overflow-x:auto;line-height:normal;font-family:Menlo,'DejaVu Sans Mono',consolas,'Courier New',monospace\"><span style=\"color: #7fbfbf; text-decoration-color: #7fbfbf\">         </span><span style=\"color: #000080; text-decoration-color: #000080\">INFO    </span> <span style=\"color: #000000; text-decoration-color: #000000\">Building fileset for process: ttbar_lep                                 </span><a href=\"file:///home/cms-jovyan/integration-challenge/cms/utils/metadata_extractor.py\" target=\"_blank\"><span style=\"color: #7f7f7f; text-decoration-color: #7f7f7f\">metadata_extractor.py</span></a><span style=\"color: #7f7f7f; text-decoration-color: #7f7f7f\">:</span><a href=\"file:///home/cms-jovyan/integration-challenge/cms/utils/metadata_extractor.py#168\" target=\"_blank\"><span style=\"color: #7f7f7f; text-decoration-color: #7f7f7f\">168</span></a>\n",
       "</pre>\n"
      ],
      "text/plain": [
       "\u001b[2;36m        \u001b[0m\u001b[2;36m \u001b[0m\u001b[34mINFO    \u001b[0m \u001b[39mBuilding fileset for process: ttbar_lep                                \u001b[0m\u001b[39m \u001b[0m\u001b]8;id=287214;file:///home/cms-jovyan/integration-challenge/cms/utils/metadata_extractor.py\u001b\\\u001b[2mmetadata_extractor.py\u001b[0m\u001b]8;;\u001b\\\u001b[2m:\u001b[0m\u001b]8;id=363477;file:///home/cms-jovyan/integration-challenge/cms/utils/metadata_extractor.py#168\u001b\\\u001b[2m168\u001b[0m\u001b]8;;\u001b\\\n"
      ]
     },
     "metadata": {},
     "output_type": "display_data"
    },
    {
     "data": {
      "text/html": [
       "<pre style=\"white-space:pre;overflow-x:auto;line-height:normal;font-family:Menlo,'DejaVu Sans Mono',consolas,'Courier New',monospace\"><span style=\"color: #7fbfbf; text-decoration-color: #7fbfbf\">         </span><span style=\"color: #000080; text-decoration-color: #000080\">INFO    </span> <span style=\"color: #000000; text-decoration-color: #000000\">Building fileset for process: wjets                                     </span><a href=\"file:///home/cms-jovyan/integration-challenge/cms/utils/metadata_extractor.py\" target=\"_blank\"><span style=\"color: #7f7f7f; text-decoration-color: #7f7f7f\">metadata_extractor.py</span></a><span style=\"color: #7f7f7f; text-decoration-color: #7f7f7f\">:</span><a href=\"file:///home/cms-jovyan/integration-challenge/cms/utils/metadata_extractor.py#168\" target=\"_blank\"><span style=\"color: #7f7f7f; text-decoration-color: #7f7f7f\">168</span></a>\n",
       "</pre>\n"
      ],
      "text/plain": [
       "\u001b[2;36m        \u001b[0m\u001b[2;36m \u001b[0m\u001b[34mINFO    \u001b[0m \u001b[39mBuilding fileset for process: wjets                                    \u001b[0m\u001b[39m \u001b[0m\u001b]8;id=180025;file:///home/cms-jovyan/integration-challenge/cms/utils/metadata_extractor.py\u001b\\\u001b[2mmetadata_extractor.py\u001b[0m\u001b]8;;\u001b\\\u001b[2m:\u001b[0m\u001b]8;id=473538;file:///home/cms-jovyan/integration-challenge/cms/utils/metadata_extractor.py#168\u001b\\\u001b[2m168\u001b[0m\u001b]8;;\u001b\\\n"
      ]
     },
     "metadata": {},
     "output_type": "display_data"
    },
    {
     "data": {
      "text/html": [
       "<pre style=\"white-space:pre;overflow-x:auto;line-height:normal;font-family:Menlo,'DejaVu Sans Mono',consolas,'Courier New',monospace\"><span style=\"color: #7fbfbf; text-decoration-color: #7fbfbf\">         </span><span style=\"color: #800000; text-decoration-color: #800000; font-weight: bold\">ERROR   </span> <span style=\"color: #000000; text-decoration-color: #000000\">Could not build fileset for wjets: No listing files found in            </span><a href=\"file:///home/cms-jovyan/integration-challenge/cms/utils/metadata_extractor.py\" target=\"_blank\"><span style=\"color: #7f7f7f; text-decoration-color: #7f7f7f\">metadata_extractor.py</span></a><span style=\"color: #7f7f7f; text-decoration-color: #7f7f7f\">:</span><a href=\"file:///home/cms-jovyan/integration-challenge/cms/utils/metadata_extractor.py#201\" target=\"_blank\"><span style=\"color: #7f7f7f; text-decoration-color: #7f7f7f\">201</span></a>\n",
       "<span style=\"color: #7fbfbf; text-decoration-color: #7fbfbf\">         </span>         <span style=\"color: #000000; text-decoration-color: #000000\">example-demo/cms_datasets/</span><span style=\"color: #008080; text-decoration-color: #008080; font-weight: bold\">2016</span><span style=\"color: #000000; text-decoration-color: #000000\">/WJetsToLNu_HT-*                          </span><span style=\"color: #7f7f7f; text-decoration-color: #7f7f7f\">                         </span>\n",
       "</pre>\n"
      ],
      "text/plain": [
       "\u001b[2;36m        \u001b[0m\u001b[2;36m \u001b[0m\u001b[1;31mERROR   \u001b[0m \u001b[39mCould not build fileset for wjets: No listing files found in           \u001b[0m\u001b[39m \u001b[0m\u001b]8;id=857691;file:///home/cms-jovyan/integration-challenge/cms/utils/metadata_extractor.py\u001b\\\u001b[2mmetadata_extractor.py\u001b[0m\u001b]8;;\u001b\\\u001b[2m:\u001b[0m\u001b]8;id=737900;file:///home/cms-jovyan/integration-challenge/cms/utils/metadata_extractor.py#201\u001b\\\u001b[2m201\u001b[0m\u001b]8;;\u001b\\\n",
       "\u001b[2;36m         \u001b[0m         \u001b[39mexample-demo/cms_datasets/\u001b[0m\u001b[1;36m2016\u001b[0m\u001b[39m/WJetsToLNu_HT-*                         \u001b[0m\u001b[39m \u001b[0m\u001b[2m                         \u001b[0m\n"
      ]
     },
     "metadata": {},
     "output_type": "display_data"
    },
    {
     "data": {
      "text/html": [
       "<pre style=\"white-space:pre;overflow-x:auto;line-height:normal;font-family:Menlo,'DejaVu Sans Mono',consolas,'Courier New',monospace\"><span style=\"color: #7fbfbf; text-decoration-color: #7fbfbf\">         </span><span style=\"color: #000080; text-decoration-color: #000080\">INFO    </span> <span style=\"color: #000000; text-decoration-color: #000000\">Building fileset for process: data                                      </span><a href=\"file:///home/cms-jovyan/integration-challenge/cms/utils/metadata_extractor.py\" target=\"_blank\"><span style=\"color: #7f7f7f; text-decoration-color: #7f7f7f\">metadata_extractor.py</span></a><span style=\"color: #7f7f7f; text-decoration-color: #7f7f7f\">:</span><a href=\"file:///home/cms-jovyan/integration-challenge/cms/utils/metadata_extractor.py#168\" target=\"_blank\"><span style=\"color: #7f7f7f; text-decoration-color: #7f7f7f\">168</span></a>\n",
       "</pre>\n"
      ],
      "text/plain": [
       "\u001b[2;36m        \u001b[0m\u001b[2;36m \u001b[0m\u001b[34mINFO    \u001b[0m \u001b[39mBuilding fileset for process: data                                     \u001b[0m\u001b[39m \u001b[0m\u001b]8;id=852591;file:///home/cms-jovyan/integration-challenge/cms/utils/metadata_extractor.py\u001b\\\u001b[2mmetadata_extractor.py\u001b[0m\u001b]8;;\u001b\\\u001b[2m:\u001b[0m\u001b]8;id=438973;file:///home/cms-jovyan/integration-challenge/cms/utils/metadata_extractor.py#168\u001b\\\u001b[2m168\u001b[0m\u001b]8;;\u001b\\\n"
      ]
     },
     "metadata": {},
     "output_type": "display_data"
    },
    {
     "data": {
      "text/html": [
       "<pre style=\"white-space:pre;overflow-x:auto;line-height:normal;font-family:Menlo,'DejaVu Sans Mono',consolas,'Courier New',monospace\"><span style=\"color: #7fbfbf; text-decoration-color: #7fbfbf\">         </span><span style=\"color: #800000; text-decoration-color: #800000; font-weight: bold\">ERROR   </span> <span style=\"color: #000000; text-decoration-color: #000000\">Could not build fileset for data: No listing files found in             </span><a href=\"file:///home/cms-jovyan/integration-challenge/cms/utils/metadata_extractor.py\" target=\"_blank\"><span style=\"color: #7f7f7f; text-decoration-color: #7f7f7f\">metadata_extractor.py</span></a><span style=\"color: #7f7f7f; text-decoration-color: #7f7f7f\">:</span><a href=\"file:///home/cms-jovyan/integration-challenge/cms/utils/metadata_extractor.py#201\" target=\"_blank\"><span style=\"color: #7f7f7f; text-decoration-color: #7f7f7f\">201</span></a>\n",
       "<span style=\"color: #7fbfbf; text-decoration-color: #7fbfbf\">         </span>         <span style=\"color: #000000; text-decoration-color: #000000\">example-demo/cms_datasets/</span><span style=\"color: #008080; text-decoration-color: #008080; font-weight: bold\">2016</span><span style=\"color: #000000; text-decoration-color: #000000\">/SingleMuonRun*                           </span><span style=\"color: #7f7f7f; text-decoration-color: #7f7f7f\">                         </span>\n",
       "</pre>\n"
      ],
      "text/plain": [
       "\u001b[2;36m        \u001b[0m\u001b[2;36m \u001b[0m\u001b[1;31mERROR   \u001b[0m \u001b[39mCould not build fileset for data: No listing files found in            \u001b[0m\u001b[39m \u001b[0m\u001b]8;id=463353;file:///home/cms-jovyan/integration-challenge/cms/utils/metadata_extractor.py\u001b\\\u001b[2mmetadata_extractor.py\u001b[0m\u001b]8;;\u001b\\\u001b[2m:\u001b[0m\u001b]8;id=69911;file:///home/cms-jovyan/integration-challenge/cms/utils/metadata_extractor.py#201\u001b\\\u001b[2m201\u001b[0m\u001b]8;;\u001b\\\n",
       "\u001b[2;36m         \u001b[0m         \u001b[39mexample-demo/cms_datasets/\u001b[0m\u001b[1;36m2016\u001b[0m\u001b[39m/SingleMuonRun*                          \u001b[0m\u001b[39m \u001b[0m\u001b[2m                         \u001b[0m\n"
      ]
     },
     "metadata": {},
     "output_type": "display_data"
    },
    {
     "data": {
      "text/html": [
       "<pre style=\"white-space:pre;overflow-x:auto;line-height:normal;font-family:Menlo,'DejaVu Sans Mono',consolas,'Courier New',monospace\"><span style=\"color: #7fbfbf; text-decoration-color: #7fbfbf\">         </span><span style=\"color: #000080; text-decoration-color: #000080\">INFO    </span> <span style=\"color: #000000; text-decoration-color: #000000\">Fileset JSON saved to                                                   </span><a href=\"file:///home/cms-jovyan/integration-challenge/cms/utils/metadata_extractor.py\" target=\"_blank\"><span style=\"color: #7f7f7f; text-decoration-color: #7f7f7f\">metadata_extractor.py</span></a><span style=\"color: #7f7f7f; text-decoration-color: #7f7f7f\">:</span><a href=\"file:///home/cms-jovyan/integration-challenge/cms/utils/metadata_extractor.py#232\" target=\"_blank\"><span style=\"color: #7f7f7f; text-decoration-color: #7f7f7f\">232</span></a>\n",
       "<span style=\"color: #7fbfbf; text-decoration-color: #7fbfbf\">         </span>         <span style=\"color: #000000; text-decoration-color: #000000\">/home/cms-jovyan/integration-challenge/cms/example-demo/outputs/metadat </span><span style=\"color: #7f7f7f; text-decoration-color: #7f7f7f\">                         </span>\n",
       "<span style=\"color: #7fbfbf; text-decoration-color: #7fbfbf\">         </span>         <span style=\"color: #000000; text-decoration-color: #000000\">a/fileset.json                                                          </span><span style=\"color: #7f7f7f; text-decoration-color: #7f7f7f\">                         </span>\n",
       "</pre>\n"
      ],
      "text/plain": [
       "\u001b[2;36m        \u001b[0m\u001b[2;36m \u001b[0m\u001b[34mINFO    \u001b[0m \u001b[39mFileset JSON saved to                                                  \u001b[0m\u001b[39m \u001b[0m\u001b]8;id=568476;file:///home/cms-jovyan/integration-challenge/cms/utils/metadata_extractor.py\u001b\\\u001b[2mmetadata_extractor.py\u001b[0m\u001b]8;;\u001b\\\u001b[2m:\u001b[0m\u001b]8;id=180947;file:///home/cms-jovyan/integration-challenge/cms/utils/metadata_extractor.py#232\u001b\\\u001b[2m232\u001b[0m\u001b]8;;\u001b\\\n",
       "\u001b[2;36m         \u001b[0m         \u001b[39m/home/cms-jovyan/integration-challenge/cms/example-demo/outputs/metadat\u001b[0m\u001b[39m \u001b[0m\u001b[2m                         \u001b[0m\n",
       "\u001b[2;36m         \u001b[0m         \u001b[39ma/\u001b[0m\u001b[39mfileset.json\u001b[0m\u001b[39m                                                         \u001b[0m\u001b[39m \u001b[0m\u001b[2m                         \u001b[0m\n"
      ]
     },
     "metadata": {},
     "output_type": "display_data"
    },
    {
     "data": {
      "text/html": [
       "<pre style=\"white-space:pre;overflow-x:auto;line-height:normal;font-family:Menlo,'DejaVu Sans Mono',consolas,'Courier New',monospace\"><span style=\"color: #7fbfbf; text-decoration-color: #7fbfbf\">         </span><span style=\"color: #000080; text-decoration-color: #000080\">INFO    </span> <span style=\"color: #000000; text-decoration-color: #000000\">Extracting metadata using coffea.dataset_tools.preprocess               </span><a href=\"file:///home/cms-jovyan/integration-challenge/cms/utils/metadata_extractor.py\" target=\"_blank\"><span style=\"color: #7f7f7f; text-decoration-color: #7f7f7f\">metadata_extractor.py</span></a><span style=\"color: #7f7f7f; text-decoration-color: #7f7f7f\">:</span><a href=\"file:///home/cms-jovyan/integration-challenge/cms/utils/metadata_extractor.py#297\" target=\"_blank\"><span style=\"color: #7f7f7f; text-decoration-color: #7f7f7f\">297</span></a>\n",
       "</pre>\n"
      ],
      "text/plain": [
       "\u001b[2;36m        \u001b[0m\u001b[2;36m \u001b[0m\u001b[34mINFO    \u001b[0m \u001b[39mExtracting metadata using coffea.dataset_tools.preprocess              \u001b[0m\u001b[39m \u001b[0m\u001b]8;id=130516;file:///home/cms-jovyan/integration-challenge/cms/utils/metadata_extractor.py\u001b\\\u001b[2mmetadata_extractor.py\u001b[0m\u001b]8;;\u001b\\\u001b[2m:\u001b[0m\u001b]8;id=932627;file:///home/cms-jovyan/integration-challenge/cms/utils/metadata_extractor.py#297\u001b\\\u001b[2m297\u001b[0m\u001b]8;;\u001b\\\n"
      ]
     },
     "metadata": {},
     "output_type": "display_data"
    },
    {
     "name": "stdout",
     "output_type": "stream",
     "text": [
      "[########################################] | 100% Completed |  1min 18.1s\u001b[2K"
     ]
    },
    {
     "data": {
      "text/html": [
       "<pre style=\"white-space:pre;overflow-x:auto;line-height:normal;font-family:Menlo,'DejaVu Sans Mono',consolas,'Courier New',monospace\"><span style=\"color: #7fbfbf; text-decoration-color: #7fbfbf\">13:43:02 </span><span style=\"color: #000080; text-decoration-color: #000080\">INFO    </span> <span style=\"color: #000000; text-decoration-color: #000000\">WorkItems metadata saved to                                             </span><a href=\"file:///home/cms-jovyan/integration-challenge/cms/utils/metadata_extractor.py\" target=\"_blank\"><span style=\"color: #7f7f7f; text-decoration-color: #7f7f7f\">metadata_extractor.py</span></a><span style=\"color: #7f7f7f; text-decoration-color: #7f7f7f\">:</span><a href=\"file:///home/cms-jovyan/integration-challenge/cms/utils/metadata_extractor.py#722\" target=\"_blank\"><span style=\"color: #7f7f7f; text-decoration-color: #7f7f7f\">722</span></a>\n",
       "<span style=\"color: #7fbfbf; text-decoration-color: #7fbfbf\">         </span>         <span style=\"color: #000000; text-decoration-color: #000000\">/home/cms-jovyan/integration-challenge/cms/example-demo/outputs/metadat </span><span style=\"color: #7f7f7f; text-decoration-color: #7f7f7f\">                         </span>\n",
       "<span style=\"color: #7fbfbf; text-decoration-color: #7fbfbf\">         </span>         <span style=\"color: #000000; text-decoration-color: #000000\">a/workitems.json                                                        </span><span style=\"color: #7f7f7f; text-decoration-color: #7f7f7f\">                         </span>\n",
       "</pre>\n"
      ],
      "text/plain": [
       "\u001b[2;36m13:43:02\u001b[0m\u001b[2;36m \u001b[0m\u001b[34mINFO    \u001b[0m \u001b[39mWorkItems metadata saved to                                            \u001b[0m\u001b[39m \u001b[0m\u001b]8;id=599529;file:///home/cms-jovyan/integration-challenge/cms/utils/metadata_extractor.py\u001b\\\u001b[2mmetadata_extractor.py\u001b[0m\u001b]8;;\u001b\\\u001b[2m:\u001b[0m\u001b]8;id=736959;file:///home/cms-jovyan/integration-challenge/cms/utils/metadata_extractor.py#722\u001b\\\u001b[2m722\u001b[0m\u001b]8;;\u001b\\\n",
       "\u001b[2;36m         \u001b[0m         \u001b[39m/home/cms-jovyan/integration-challenge/cms/example-demo/outputs/metadat\u001b[0m\u001b[39m \u001b[0m\u001b[2m                         \u001b[0m\n",
       "\u001b[2;36m         \u001b[0m         \u001b[39ma/\u001b[0m\u001b[39mworkitems.json\u001b[0m\u001b[39m                                                       \u001b[0m\u001b[39m \u001b[0m\u001b[2m                         \u001b[0m\n"
      ]
     },
     "metadata": {},
     "output_type": "display_data"
    },
    {
     "data": {
      "text/html": [
       "<pre style=\"white-space:pre;overflow-x:auto;line-height:normal;font-family:Menlo,'DejaVu Sans Mono',consolas,'Courier New',monospace\"><span style=\"color: #7fbfbf; text-decoration-color: #7fbfbf\">         </span><span style=\"color: #000080; text-decoration-color: #000080\">INFO    </span> <span style=\"color: #000000; text-decoration-color: #000000\">NanoAODs summary generated.                                             </span><a href=\"file:///home/cms-jovyan/integration-challenge/cms/utils/metadata_extractor.py\" target=\"_blank\"><span style=\"color: #7f7f7f; text-decoration-color: #7f7f7f\">metadata_extractor.py</span></a><span style=\"color: #7f7f7f; text-decoration-color: #7f7f7f\">:</span><a href=\"file:///home/cms-jovyan/integration-challenge/cms/utils/metadata_extractor.py#561\" target=\"_blank\"><span style=\"color: #7f7f7f; text-decoration-color: #7f7f7f\">561</span></a>\n",
       "</pre>\n"
      ],
      "text/plain": [
       "\u001b[2;36m        \u001b[0m\u001b[2;36m \u001b[0m\u001b[34mINFO    \u001b[0m \u001b[39mNanoAODs summary generated.                                            \u001b[0m\u001b[39m \u001b[0m\u001b]8;id=324214;file:///home/cms-jovyan/integration-challenge/cms/utils/metadata_extractor.py\u001b\\\u001b[2mmetadata_extractor.py\u001b[0m\u001b]8;;\u001b\\\u001b[2m:\u001b[0m\u001b]8;id=881214;file:///home/cms-jovyan/integration-challenge/cms/utils/metadata_extractor.py#561\u001b\\\u001b[2m561\u001b[0m\u001b]8;;\u001b\\\n"
      ]
     },
     "metadata": {},
     "output_type": "display_data"
    },
    {
     "data": {
      "text/html": [
       "<pre style=\"white-space:pre;overflow-x:auto;line-height:normal;font-family:Menlo,'DejaVu Sans Mono',consolas,'Courier New',monospace\"><span style=\"color: #7fbfbf; text-decoration-color: #7fbfbf\">         </span><span style=\"color: #000080; text-decoration-color: #000080\">INFO    </span> <span style=\"color: #000000; text-decoration-color: #000000\">NanoAODs summary written to                                             </span><a href=\"file:///home/cms-jovyan/integration-challenge/cms/utils/metadata_extractor.py\" target=\"_blank\"><span style=\"color: #7f7f7f; text-decoration-color: #7f7f7f\">metadata_extractor.py</span></a><span style=\"color: #7f7f7f; text-decoration-color: #7f7f7f\">:</span><a href=\"file:///home/cms-jovyan/integration-challenge/cms/utils/metadata_extractor.py#493\" target=\"_blank\"><span style=\"color: #7f7f7f; text-decoration-color: #7f7f7f\">493</span></a>\n",
       "<span style=\"color: #7fbfbf; text-decoration-color: #7fbfbf\">         </span>         <span style=\"color: #000000; text-decoration-color: #000000\">/home/cms-jovyan/integration-challenge/cms/example-demo/outputs/metadat </span><span style=\"color: #7f7f7f; text-decoration-color: #7f7f7f\">                         </span>\n",
       "<span style=\"color: #7fbfbf; text-decoration-color: #7fbfbf\">         </span>         <span style=\"color: #000000; text-decoration-color: #000000\">a/nanoaods.json                                                         </span><span style=\"color: #7f7f7f; text-decoration-color: #7f7f7f\">                         </span>\n",
       "</pre>\n"
      ],
      "text/plain": [
       "\u001b[2;36m        \u001b[0m\u001b[2;36m \u001b[0m\u001b[34mINFO    \u001b[0m \u001b[39mNanoAODs summary written to                                            \u001b[0m\u001b[39m \u001b[0m\u001b]8;id=865599;file:///home/cms-jovyan/integration-challenge/cms/utils/metadata_extractor.py\u001b\\\u001b[2mmetadata_extractor.py\u001b[0m\u001b]8;;\u001b\\\u001b[2m:\u001b[0m\u001b]8;id=442014;file:///home/cms-jovyan/integration-challenge/cms/utils/metadata_extractor.py#493\u001b\\\u001b[2m493\u001b[0m\u001b]8;;\u001b\\\n",
       "\u001b[2;36m         \u001b[0m         \u001b[39m/home/cms-jovyan/integration-challenge/cms/example-demo/outputs/metadat\u001b[0m\u001b[39m \u001b[0m\u001b[2m                         \u001b[0m\n",
       "\u001b[2;36m         \u001b[0m         \u001b[39ma/\u001b[0m\u001b[39mnanoaods.json\u001b[0m\u001b[39m                                                        \u001b[0m\u001b[39m \u001b[0m\u001b[2m                         \u001b[0m\n"
      ]
     },
     "metadata": {},
     "output_type": "display_data"
    },
    {
     "data": {
      "text/html": [
       "<pre style=\"white-space:pre;overflow-x:auto;line-height:normal;font-family:Menlo,'DejaVu Sans Mono',consolas,'Courier New',monospace\"><span style=\"color: #7fbfbf; text-decoration-color: #7fbfbf\">         </span><span style=\"color: #000080; text-decoration-color: #000080\">INFO    </span> <span style=\"color: #000000; text-decoration-color: #000000\">Metadata generation complete.                                           </span><a href=\"file:///home/cms-jovyan/integration-challenge/cms/utils/metadata_extractor.py\" target=\"_blank\"><span style=\"color: #7f7f7f; text-decoration-color: #7f7f7f\">metadata_extractor.py</span></a><span style=\"color: #7f7f7f; text-decoration-color: #7f7f7f\">:</span><a href=\"file:///home/cms-jovyan/integration-challenge/cms/utils/metadata_extractor.py#433\" target=\"_blank\"><span style=\"color: #7f7f7f; text-decoration-color: #7f7f7f\">433</span></a>\n",
       "</pre>\n"
      ],
      "text/plain": [
       "\u001b[2;36m        \u001b[0m\u001b[2;36m \u001b[0m\u001b[34mINFO    \u001b[0m \u001b[39mMetadata generation complete.                                          \u001b[0m\u001b[39m \u001b[0m\u001b]8;id=679283;file:///home/cms-jovyan/integration-challenge/cms/utils/metadata_extractor.py\u001b\\\u001b[2mmetadata_extractor.py\u001b[0m\u001b]8;;\u001b\\\u001b[2m:\u001b[0m\u001b]8;id=598263;file:///home/cms-jovyan/integration-challenge/cms/utils/metadata_extractor.py#433\u001b\\\u001b[2m433\u001b[0m\u001b]8;;\u001b\\\n"
      ]
     },
     "metadata": {},
     "output_type": "display_data"
    },
    {
     "data": {
      "text/plain": [
       "(None, None)"
      ]
     },
     "execution_count": 8,
     "metadata": {},
     "output_type": "execute_result"
    }
   ],
   "source": [
    "from utils.metadata_extractor import NanoAODMetadataGenerator\n",
    "from utils.datasets import ConfigurableDatasetManager\n",
    "\n",
    "# Step 1: Create dataset manager instance\n",
    "dataset_manager = ConfigurableDatasetManager(validated_config.datasets)\n",
    "# Step 2: Create metadata generator instance\n",
    "validated_config.general.run_metadata_generation=True\n",
    "\n",
    "client, cluster = get_client()\n",
    "metadata_generator = NanoAODMetadataGenerator(\n",
    "    dataset_manager=dataset_manager,\n",
    "    output_manager=output_manager,\n",
    "    dask=(client, cluster),\n",
    ")\n",
    "# In the back this uses coffea's preprocess function\n",
    "metadata = metadata_generator.run()\n",
    "close_client(client, cluster)"
   ]
  },
  {
   "cell_type": "markdown",
   "id": "408ecc72",
   "metadata": {},
   "source": [
    "# 5. Skimming & Event Selection\n",
    "\n",
    "The skimming step processes the workitems from previous step, and applies event and branch selections with `dask` and a `coffea`-like processor (see [Alex's issue](https://github.com/scikit-hep/coffea/issues/1393)). Currently the skimming results are in-memory events, but also stored on disk as `ROOT` files to avoid having to run this multiple times. The events are also cached in `.pkl` files for faster re-reading. Eventually this step needs to be integrated with subsequent steps in a complete `coffea` or `coffea`-like processor."
   ]
  },
  {
   "cell_type": "code",
   "execution_count": 10,
   "id": "442e7495",
   "metadata": {},
   "outputs": [
    {
     "name": "stdout",
     "output_type": "stream",
     "text": [
      "📊 Processing 241 workitems across 4 datasets\n"
     ]
    },
    {
     "data": {
      "text/html": [
       "<pre style=\"white-space:pre;overflow-x:auto;line-height:normal;font-family:Menlo,'DejaVu Sans Mono',consolas,'Courier New',monospace\"><span style=\"color: #7fbfbf; text-decoration-color: #7fbfbf\">13:45:01 </span><span style=\"color: #000080; text-decoration-color: #000080\">INFO    </span> <span style=\"color: #000000; text-decoration-color: #000000\">Starting workitem preprocessing with </span><span style=\"color: #008080; text-decoration-color: #008080; font-weight: bold\">241</span><span style=\"color: #000000; text-decoration-color: #000000\"> workitems                                </span><a href=\"file:///home/cms-jovyan/integration-challenge/cms/utils/skimming.py\" target=\"_blank\"><span style=\"color: #7f7f7f; text-decoration-color: #7f7f7f\">skimming.py</span></a><span style=\"color: #7f7f7f; text-decoration-color: #7f7f7f\">:</span><a href=\"file:///home/cms-jovyan/integration-challenge/cms/utils/skimming.py#705\" target=\"_blank\"><span style=\"color: #7f7f7f; text-decoration-color: #7f7f7f\">705</span></a>\n",
       "</pre>\n"
      ],
      "text/plain": [
       "\u001b[2;36m13:45:01\u001b[0m\u001b[2;36m \u001b[0m\u001b[34mINFO    \u001b[0m \u001b[39mStarting workitem preprocessing with \u001b[0m\u001b[1;36m241\u001b[0m\u001b[39m workitems                               \u001b[0m\u001b[39m \u001b[0m\u001b]8;id=425024;file:///home/cms-jovyan/integration-challenge/cms/utils/skimming.py\u001b\\\u001b[2mskimming.py\u001b[0m\u001b]8;;\u001b\\\u001b[2m:\u001b[0m\u001b]8;id=938042;file:///home/cms-jovyan/integration-challenge/cms/utils/skimming.py#705\u001b\\\u001b[2m705\u001b[0m\u001b]8;;\u001b\\\n"
      ]
     },
     "metadata": {},
     "output_type": "display_data"
    },
    {
     "data": {
      "text/html": [
       "<pre style=\"white-space:pre;overflow-x:auto;line-height:normal;font-family:Menlo,'DejaVu Sans Mono',consolas,'Courier New',monospace\"><span style=\"color: #7fbfbf; text-decoration-color: #7fbfbf\">         </span><span style=\"color: #000080; text-decoration-color: #000080\">INFO    </span> <span style=\"color: #000000; text-decoration-color: #000000\">Initialized workitem-based skimming manager                                       </span><a href=\"file:///home/cms-jovyan/integration-challenge/cms/utils/skimming.py\" target=\"_blank\"><span style=\"color: #7f7f7f; text-decoration-color: #7f7f7f\">skimming.py</span></a><span style=\"color: #7f7f7f; text-decoration-color: #7f7f7f\">:</span><a href=\"file:///home/cms-jovyan/integration-challenge/cms/utils/skimming.py#372\" target=\"_blank\"><span style=\"color: #7f7f7f; text-decoration-color: #7f7f7f\">372</span></a>\n",
       "</pre>\n"
      ],
      "text/plain": [
       "\u001b[2;36m        \u001b[0m\u001b[2;36m \u001b[0m\u001b[34mINFO    \u001b[0m \u001b[39mInitialized workitem-based skimming manager                                      \u001b[0m\u001b[39m \u001b[0m\u001b]8;id=588940;file:///home/cms-jovyan/integration-challenge/cms/utils/skimming.py\u001b\\\u001b[2mskimming.py\u001b[0m\u001b]8;;\u001b\\\u001b[2m:\u001b[0m\u001b]8;id=970699;file:///home/cms-jovyan/integration-challenge/cms/utils/skimming.py#372\u001b\\\u001b[2m372\u001b[0m\u001b]8;;\u001b\\\n"
      ]
     },
     "metadata": {},
     "output_type": "display_data"
    },
    {
     "data": {
      "text/html": [
       "<pre style=\"white-space:pre;overflow-x:auto;line-height:normal;font-family:Menlo,'DejaVu Sans Mono',consolas,'Courier New',monospace\"><span style=\"color: #7fbfbf; text-decoration-color: #7fbfbf\">         </span><span style=\"color: #000080; text-decoration-color: #000080\">INFO    </span> <span style=\"color: #000000; text-decoration-color: #000000\">Running skimming                                                                  </span><a href=\"file:///home/cms-jovyan/integration-challenge/cms/utils/skimming.py\" target=\"_blank\"><span style=\"color: #7f7f7f; text-decoration-color: #7f7f7f\">skimming.py</span></a><span style=\"color: #7f7f7f; text-decoration-color: #7f7f7f\">:</span><a href=\"file:///home/cms-jovyan/integration-challenge/cms/utils/skimming.py#720\" target=\"_blank\"><span style=\"color: #7f7f7f; text-decoration-color: #7f7f7f\">720</span></a>\n",
       "</pre>\n"
      ],
      "text/plain": [
       "\u001b[2;36m        \u001b[0m\u001b[2;36m \u001b[0m\u001b[34mINFO    \u001b[0m \u001b[39mRunning skimming                                                                 \u001b[0m\u001b[39m \u001b[0m\u001b]8;id=403351;file:///home/cms-jovyan/integration-challenge/cms/utils/skimming.py\u001b\\\u001b[2mskimming.py\u001b[0m\u001b]8;;\u001b\\\u001b[2m:\u001b[0m\u001b]8;id=551386;file:///home/cms-jovyan/integration-challenge/cms/utils/skimming.py#720\u001b\\\u001b[2m720\u001b[0m\u001b]8;;\u001b\\\n"
      ]
     },
     "metadata": {},
     "output_type": "display_data"
    },
    {
     "data": {
      "text/html": [
       "<pre style=\"white-space:pre;overflow-x:auto;line-height:normal;font-family:Menlo,'DejaVu Sans Mono',consolas,'Courier New',monospace\"><span style=\"color: #7fbfbf; text-decoration-color: #7fbfbf\">         </span><span style=\"color: #000080; text-decoration-color: #000080\">INFO    </span> <span style=\"color: #000000; text-decoration-color: #000000\">Processing </span><span style=\"color: #008080; text-decoration-color: #008080; font-weight: bold\">241</span><span style=\"color: #000000; text-decoration-color: #000000\"> workitems                                                          </span><a href=\"file:///home/cms-jovyan/integration-challenge/cms/utils/skimming.py\" target=\"_blank\"><span style=\"color: #7f7f7f; text-decoration-color: #7f7f7f\">skimming.py</span></a><span style=\"color: #7f7f7f; text-decoration-color: #7f7f7f\">:</span><a href=\"file:///home/cms-jovyan/integration-challenge/cms/utils/skimming.py#403\" target=\"_blank\"><span style=\"color: #7f7f7f; text-decoration-color: #7f7f7f\">403</span></a>\n",
       "</pre>\n"
      ],
      "text/plain": [
       "\u001b[2;36m        \u001b[0m\u001b[2;36m \u001b[0m\u001b[34mINFO    \u001b[0m \u001b[39mProcessing \u001b[0m\u001b[1;36m241\u001b[0m\u001b[39m workitems                                                         \u001b[0m\u001b[39m \u001b[0m\u001b]8;id=998403;file:///home/cms-jovyan/integration-challenge/cms/utils/skimming.py\u001b\\\u001b[2mskimming.py\u001b[0m\u001b]8;;\u001b\\\u001b[2m:\u001b[0m\u001b]8;id=567008;file:///home/cms-jovyan/integration-challenge/cms/utils/skimming.py#403\u001b\\\u001b[2m403\u001b[0m\u001b]8;;\u001b\\\n"
      ]
     },
     "metadata": {},
     "output_type": "display_data"
    },
    {
     "data": {
      "text/html": [
       "<pre style=\"white-space:pre;overflow-x:auto;line-height:normal;font-family:Menlo,'DejaVu Sans Mono',consolas,'Courier New',monospace\"><span style=\"color: #7fbfbf; text-decoration-color: #7fbfbf\">         </span><span style=\"color: #000080; text-decoration-color: #000080\">INFO    </span> <span style=\"color: #000000; text-decoration-color: #000000\">Attempt </span><span style=\"color: #008080; text-decoration-color: #008080; font-weight: bold\">1</span><span style=\"color: #000000; text-decoration-color: #000000\">: processing </span><span style=\"color: #008080; text-decoration-color: #008080; font-weight: bold\">241</span><span style=\"color: #000000; text-decoration-color: #000000\"> workitems                                               </span><a href=\"file:///home/cms-jovyan/integration-challenge/cms/utils/skimming.py\" target=\"_blank\"><span style=\"color: #7f7f7f; text-decoration-color: #7f7f7f\">skimming.py</span></a><span style=\"color: #7f7f7f; text-decoration-color: #7f7f7f\">:</span><a href=\"file:///home/cms-jovyan/integration-challenge/cms/utils/skimming.py#421\" target=\"_blank\"><span style=\"color: #7f7f7f; text-decoration-color: #7f7f7f\">421</span></a>\n",
       "</pre>\n"
      ],
      "text/plain": [
       "\u001b[2;36m        \u001b[0m\u001b[2;36m \u001b[0m\u001b[34mINFO    \u001b[0m \u001b[39mAttempt \u001b[0m\u001b[1;36m1\u001b[0m\u001b[39m: processing \u001b[0m\u001b[1;36m241\u001b[0m\u001b[39m workitems                                              \u001b[0m\u001b[39m \u001b[0m\u001b]8;id=383509;file:///home/cms-jovyan/integration-challenge/cms/utils/skimming.py\u001b\\\u001b[2mskimming.py\u001b[0m\u001b]8;;\u001b\\\u001b[2m:\u001b[0m\u001b]8;id=559503;file:///home/cms-jovyan/integration-challenge/cms/utils/skimming.py#421\u001b\\\u001b[2m421\u001b[0m\u001b]8;;\u001b\\\n"
      ]
     },
     "metadata": {},
     "output_type": "display_data"
    },
    {
     "data": {
      "text/html": [
       "<pre style=\"white-space:pre;overflow-x:auto;line-height:normal;font-family:Menlo,'DejaVu Sans Mono',consolas,'Courier New',monospace\"><span style=\"color: #7fbfbf; text-decoration-color: #7fbfbf\">13:47:15 </span><span style=\"color: #000080; text-decoration-color: #000080\">INFO    </span> <span style=\"color: #000000; text-decoration-color: #000000\">Attempt </span><span style=\"color: #008080; text-decoration-color: #008080; font-weight: bold\">1</span><span style=\"color: #000000; text-decoration-color: #000000\"> complete: </span><span style=\"color: #008080; text-decoration-color: #008080; font-weight: bold\">241</span><span style=\"color: #000000; text-decoration-color: #000000\"> successful, </span><span style=\"color: #008080; text-decoration-color: #008080; font-weight: bold\">0</span><span style=\"color: #000000; text-decoration-color: #000000\"> failed                                      </span><a href=\"file:///home/cms-jovyan/integration-challenge/cms/utils/skimming.py\" target=\"_blank\"><span style=\"color: #7f7f7f; text-decoration-color: #7f7f7f\">skimming.py</span></a><span style=\"color: #7f7f7f; text-decoration-color: #7f7f7f\">:</span><a href=\"file:///home/cms-jovyan/integration-challenge/cms/utils/skimming.py#460\" target=\"_blank\"><span style=\"color: #7f7f7f; text-decoration-color: #7f7f7f\">460</span></a>\n",
       "</pre>\n"
      ],
      "text/plain": [
       "\u001b[2;36m13:47:15\u001b[0m\u001b[2;36m \u001b[0m\u001b[34mINFO    \u001b[0m \u001b[39mAttempt \u001b[0m\u001b[1;36m1\u001b[0m\u001b[39m complete: \u001b[0m\u001b[1;36m241\u001b[0m\u001b[39m successful, \u001b[0m\u001b[1;36m0\u001b[0m\u001b[39m failed                                     \u001b[0m\u001b[39m \u001b[0m\u001b]8;id=757472;file:///home/cms-jovyan/integration-challenge/cms/utils/skimming.py\u001b\\\u001b[2mskimming.py\u001b[0m\u001b]8;;\u001b\\\u001b[2m:\u001b[0m\u001b]8;id=205448;file:///home/cms-jovyan/integration-challenge/cms/utils/skimming.py#460\u001b\\\u001b[2m460\u001b[0m\u001b]8;;\u001b\\\n"
      ]
     },
     "metadata": {},
     "output_type": "display_data"
    },
    {
     "data": {
      "text/html": [
       "<pre style=\"white-space:pre;overflow-x:auto;line-height:normal;font-family:Menlo,'DejaVu Sans Mono',consolas,'Courier New',monospace\"><span style=\"color: #7fbfbf; text-decoration-color: #7fbfbf\">         </span><span style=\"color: #000080; text-decoration-color: #000080\">INFO    </span> <span style=\"color: #000000; text-decoration-color: #000000\">All workitems processed successfully                                              </span><a href=\"file:///home/cms-jovyan/integration-challenge/cms/utils/skimming.py\" target=\"_blank\"><span style=\"color: #7f7f7f; text-decoration-color: #7f7f7f\">skimming.py</span></a><span style=\"color: #7f7f7f; text-decoration-color: #7f7f7f\">:</span><a href=\"file:///home/cms-jovyan/integration-challenge/cms/utils/skimming.py#475\" target=\"_blank\"><span style=\"color: #7f7f7f; text-decoration-color: #7f7f7f\">475</span></a>\n",
       "</pre>\n"
      ],
      "text/plain": [
       "\u001b[2;36m        \u001b[0m\u001b[2;36m \u001b[0m\u001b[34mINFO    \u001b[0m \u001b[39mAll workitems processed successfully                                             \u001b[0m\u001b[39m \u001b[0m\u001b]8;id=274400;file:///home/cms-jovyan/integration-challenge/cms/utils/skimming.py\u001b\\\u001b[2mskimming.py\u001b[0m\u001b]8;;\u001b\\\u001b[2m:\u001b[0m\u001b]8;id=484521;file:///home/cms-jovyan/integration-challenge/cms/utils/skimming.py#475\u001b\\\u001b[2m475\u001b[0m\u001b]8;;\u001b\\\n"
      ]
     },
     "metadata": {},
     "output_type": "display_data"
    },
    {
     "data": {
      "text/html": [
       "<pre style=\"white-space:pre;overflow-x:auto;line-height:normal;font-family:Menlo,'DejaVu Sans Mono',consolas,'Courier New',monospace\"><span style=\"color: #7fbfbf; text-decoration-color: #7fbfbf\">13:47:16 </span><span style=\"color: #000080; text-decoration-color: #000080\">INFO    </span> <span style=\"color: #000000; text-decoration-color: #000000\">Processing Summary:                                                               </span><a href=\"file:///home/cms-jovyan/integration-challenge/cms/utils/skimming.py\" target=\"_blank\"><span style=\"color: #7f7f7f; text-decoration-color: #7f7f7f\">skimming.py</span></a><span style=\"color: #7f7f7f; text-decoration-color: #7f7f7f\">:</span><a href=\"file:///home/cms-jovyan/integration-challenge/cms/utils/skimming.py#597\" target=\"_blank\"><span style=\"color: #7f7f7f; text-decoration-color: #7f7f7f\">597</span></a>\n",
       "</pre>\n"
      ],
      "text/plain": [
       "\u001b[2;36m13:47:16\u001b[0m\u001b[2;36m \u001b[0m\u001b[34mINFO    \u001b[0m \u001b[39mProcessing Summary:                                                              \u001b[0m\u001b[39m \u001b[0m\u001b]8;id=636381;file:///home/cms-jovyan/integration-challenge/cms/utils/skimming.py\u001b\\\u001b[2mskimming.py\u001b[0m\u001b]8;;\u001b\\\u001b[2m:\u001b[0m\u001b]8;id=960954;file:///home/cms-jovyan/integration-challenge/cms/utils/skimming.py#597\u001b\\\u001b[2m597\u001b[0m\u001b]8;;\u001b\\\n"
      ]
     },
     "metadata": {},
     "output_type": "display_data"
    },
    {
     "data": {
      "text/html": [
       "<pre style=\"white-space:pre;overflow-x:auto;line-height:normal;font-family:Menlo,'DejaVu Sans Mono',consolas,'Courier New',monospace\"><span style=\"color: #7fbfbf; text-decoration-color: #7fbfbf\">         </span><span style=\"color: #000080; text-decoration-color: #000080\">INFO    </span> <span style=\"color: #000000; text-decoration-color: #000000\">                                                                                  </span><a href=\"file:///home/cms-jovyan/integration-challenge/cms/utils/skimming.py\" target=\"_blank\"><span style=\"color: #7f7f7f; text-decoration-color: #7f7f7f\">skimming.py</span></a><span style=\"color: #7f7f7f; text-decoration-color: #7f7f7f\">:</span><a href=\"file:///home/cms-jovyan/integration-challenge/cms/utils/skimming.py#598\" target=\"_blank\"><span style=\"color: #7f7f7f; text-decoration-color: #7f7f7f\">598</span></a>\n",
       "<span style=\"color: #7fbfbf; text-decoration-color: #7fbfbf\">         </span>         <span style=\"color: #000000; text-decoration-color: #000000\">+------------------------+----------------+-----------------+                     </span><span style=\"color: #7f7f7f; text-decoration-color: #7f7f7f\">               </span>\n",
       "<span style=\"color: #7fbfbf; text-decoration-color: #7fbfbf\">         </span>         <span style=\"color: #000000; text-decoration-color: #000000\">| Dataset                | Events Saved   |   Files Written |                     </span><span style=\"color: #7f7f7f; text-decoration-color: #7f7f7f\">               </span>\n",
       "<span style=\"color: #7fbfbf; text-decoration-color: #7fbfbf\">         </span>         <span style=\"color: #000000; text-decoration-color: #000000\">+========================+================+=================+                     </span><span style=\"color: #7f7f7f; text-decoration-color: #7f7f7f\">               </span>\n",
       "<span style=\"color: #7fbfbf; text-decoration-color: #7fbfbf\">         </span>         <span style=\"color: #000000; text-decoration-color: #000000\">| signal__nominal        | </span><span style=\"color: #008080; text-decoration-color: #008080; font-weight: bold\">19</span><span style=\"color: #000000; text-decoration-color: #000000\">,</span><span style=\"color: #008080; text-decoration-color: #008080; font-weight: bold\">326</span><span style=\"color: #000000; text-decoration-color: #000000\">         |               </span><span style=\"color: #008080; text-decoration-color: #008080; font-weight: bold\">3</span><span style=\"color: #000000; text-decoration-color: #000000\"> |                     </span><span style=\"color: #7f7f7f; text-decoration-color: #7f7f7f\">               </span>\n",
       "<span style=\"color: #7fbfbf; text-decoration-color: #7fbfbf\">         </span>         <span style=\"color: #000000; text-decoration-color: #000000\">+------------------------+----------------+-----------------+                     </span><span style=\"color: #7f7f7f; text-decoration-color: #7f7f7f\">               </span>\n",
       "<span style=\"color: #7fbfbf; text-decoration-color: #7fbfbf\">         </span>         <span style=\"color: #000000; text-decoration-color: #000000\">| ttbar_had__nominal     | </span><span style=\"color: #008080; text-decoration-color: #008080; font-weight: bold\">8</span><span style=\"color: #000000; text-decoration-color: #000000\">,</span><span style=\"color: #008080; text-decoration-color: #008080; font-weight: bold\">495</span><span style=\"color: #000000; text-decoration-color: #000000\">          |              </span><span style=\"color: #008080; text-decoration-color: #008080; font-weight: bold\">68</span><span style=\"color: #000000; text-decoration-color: #000000\"> |                     </span><span style=\"color: #7f7f7f; text-decoration-color: #7f7f7f\">               </span>\n",
       "<span style=\"color: #7fbfbf; text-decoration-color: #7fbfbf\">         </span>         <span style=\"color: #000000; text-decoration-color: #000000\">+------------------------+----------------+-----------------+                     </span><span style=\"color: #7f7f7f; text-decoration-color: #7f7f7f\">               </span>\n",
       "<span style=\"color: #7fbfbf; text-decoration-color: #7fbfbf\">         </span>         <span style=\"color: #000000; text-decoration-color: #000000\">| ttbar_lep__nominal     | </span><span style=\"color: #008080; text-decoration-color: #008080; font-weight: bold\">394</span><span style=\"color: #000000; text-decoration-color: #000000\">,</span><span style=\"color: #008080; text-decoration-color: #008080; font-weight: bold\">079</span><span style=\"color: #000000; text-decoration-color: #000000\">        |              </span><span style=\"color: #008080; text-decoration-color: #008080; font-weight: bold\">68</span><span style=\"color: #000000; text-decoration-color: #000000\"> |                     </span><span style=\"color: #7f7f7f; text-decoration-color: #7f7f7f\">               </span>\n",
       "<span style=\"color: #7fbfbf; text-decoration-color: #7fbfbf\">         </span>         <span style=\"color: #000000; text-decoration-color: #000000\">+------------------------+----------------+-----------------+                     </span><span style=\"color: #7f7f7f; text-decoration-color: #7f7f7f\">               </span>\n",
       "<span style=\"color: #7fbfbf; text-decoration-color: #7fbfbf\">         </span>         <span style=\"color: #000000; text-decoration-color: #000000\">| ttbar_semilep__nominal | </span><span style=\"color: #008080; text-decoration-color: #008080; font-weight: bold\">181</span><span style=\"color: #000000; text-decoration-color: #000000\">,</span><span style=\"color: #008080; text-decoration-color: #008080; font-weight: bold\">492</span><span style=\"color: #000000; text-decoration-color: #000000\">        |             </span><span style=\"color: #008080; text-decoration-color: #008080; font-weight: bold\">100</span><span style=\"color: #000000; text-decoration-color: #000000\"> |                     </span><span style=\"color: #7f7f7f; text-decoration-color: #7f7f7f\">               </span>\n",
       "<span style=\"color: #7fbfbf; text-decoration-color: #7fbfbf\">         </span>         <span style=\"color: #000000; text-decoration-color: #000000\">+------------------------+----------------+-----------------+                     </span><span style=\"color: #7f7f7f; text-decoration-color: #7f7f7f\">               </span>\n",
       "<span style=\"color: #7fbfbf; text-decoration-color: #7fbfbf\">         </span>         <span style=\"color: #000000; text-decoration-color: #000000\">| TOTAL                  | </span><span style=\"color: #008080; text-decoration-color: #008080; font-weight: bold\">603</span><span style=\"color: #000000; text-decoration-color: #000000\">,</span><span style=\"color: #008080; text-decoration-color: #008080; font-weight: bold\">392</span><span style=\"color: #000000; text-decoration-color: #000000\">        |             </span><span style=\"color: #008080; text-decoration-color: #008080; font-weight: bold\">239</span><span style=\"color: #000000; text-decoration-color: #000000\"> |                     </span><span style=\"color: #7f7f7f; text-decoration-color: #7f7f7f\">               </span>\n",
       "<span style=\"color: #7fbfbf; text-decoration-color: #7fbfbf\">         </span>         <span style=\"color: #000000; text-decoration-color: #000000\">+------------------------+----------------+-----------------+                     </span><span style=\"color: #7f7f7f; text-decoration-color: #7f7f7f\">               </span>\n",
       "</pre>\n"
      ],
      "text/plain": [
       "\u001b[2;36m        \u001b[0m\u001b[2;36m \u001b[0m\u001b[34mINFO    \u001b[0m \u001b[39m                                                                                 \u001b[0m\u001b[39m \u001b[0m\u001b]8;id=5130;file:///home/cms-jovyan/integration-challenge/cms/utils/skimming.py\u001b\\\u001b[2mskimming.py\u001b[0m\u001b]8;;\u001b\\\u001b[2m:\u001b[0m\u001b]8;id=366472;file:///home/cms-jovyan/integration-challenge/cms/utils/skimming.py#598\u001b\\\u001b[2m598\u001b[0m\u001b]8;;\u001b\\\n",
       "\u001b[2;36m         \u001b[0m         \u001b[39m+------------------------+----------------+-----------------+                    \u001b[0m\u001b[39m \u001b[0m\u001b[2m               \u001b[0m\n",
       "\u001b[2;36m         \u001b[0m         \u001b[39m| Dataset                | Events Saved   |   Files Written |                    \u001b[0m\u001b[39m \u001b[0m\u001b[2m               \u001b[0m\n",
       "\u001b[2;36m         \u001b[0m         \u001b[39m+========================+================+=================+                    \u001b[0m\u001b[39m \u001b[0m\u001b[2m               \u001b[0m\n",
       "\u001b[2;36m         \u001b[0m         \u001b[39m| signal__nominal        | \u001b[0m\u001b[1;36m19\u001b[0m\u001b[39m,\u001b[0m\u001b[1;36m326\u001b[0m\u001b[39m         |               \u001b[0m\u001b[1;36m3\u001b[0m\u001b[39m |                    \u001b[0m\u001b[39m \u001b[0m\u001b[2m               \u001b[0m\n",
       "\u001b[2;36m         \u001b[0m         \u001b[39m+------------------------+----------------+-----------------+                    \u001b[0m\u001b[39m \u001b[0m\u001b[2m               \u001b[0m\n",
       "\u001b[2;36m         \u001b[0m         \u001b[39m| ttbar_had__nominal     | \u001b[0m\u001b[1;36m8\u001b[0m\u001b[39m,\u001b[0m\u001b[1;36m495\u001b[0m\u001b[39m          |              \u001b[0m\u001b[1;36m68\u001b[0m\u001b[39m |                    \u001b[0m\u001b[39m \u001b[0m\u001b[2m               \u001b[0m\n",
       "\u001b[2;36m         \u001b[0m         \u001b[39m+------------------------+----------------+-----------------+                    \u001b[0m\u001b[39m \u001b[0m\u001b[2m               \u001b[0m\n",
       "\u001b[2;36m         \u001b[0m         \u001b[39m| ttbar_lep__nominal     | \u001b[0m\u001b[1;36m394\u001b[0m\u001b[39m,\u001b[0m\u001b[1;36m079\u001b[0m\u001b[39m        |              \u001b[0m\u001b[1;36m68\u001b[0m\u001b[39m |                    \u001b[0m\u001b[39m \u001b[0m\u001b[2m               \u001b[0m\n",
       "\u001b[2;36m         \u001b[0m         \u001b[39m+------------------------+----------------+-----------------+                    \u001b[0m\u001b[39m \u001b[0m\u001b[2m               \u001b[0m\n",
       "\u001b[2;36m         \u001b[0m         \u001b[39m| ttbar_semilep__nominal | \u001b[0m\u001b[1;36m181\u001b[0m\u001b[39m,\u001b[0m\u001b[1;36m492\u001b[0m\u001b[39m        |             \u001b[0m\u001b[1;36m100\u001b[0m\u001b[39m |                    \u001b[0m\u001b[39m \u001b[0m\u001b[2m               \u001b[0m\n",
       "\u001b[2;36m         \u001b[0m         \u001b[39m+------------------------+----------------+-----------------+                    \u001b[0m\u001b[39m \u001b[0m\u001b[2m               \u001b[0m\n",
       "\u001b[2;36m         \u001b[0m         \u001b[39m| TOTAL                  | \u001b[0m\u001b[1;36m603\u001b[0m\u001b[39m,\u001b[0m\u001b[1;36m392\u001b[0m\u001b[39m        |             \u001b[0m\u001b[1;36m239\u001b[0m\u001b[39m |                    \u001b[0m\u001b[39m \u001b[0m\u001b[2m               \u001b[0m\n",
       "\u001b[2;36m         \u001b[0m         \u001b[39m+------------------------+----------------+-----------------+                    \u001b[0m\u001b[39m \u001b[0m\u001b[2m               \u001b[0m\n"
      ]
     },
     "metadata": {},
     "output_type": "display_data"
    },
    {
     "data": {
      "text/html": [
       "<pre style=\"white-space:pre;overflow-x:auto;line-height:normal;font-family:Menlo,'DejaVu Sans Mono',consolas,'Courier New',monospace\"><span style=\"color: #7fbfbf; text-decoration-color: #7fbfbf\">         </span><span style=\"color: #000080; text-decoration-color: #000080\">INFO    </span> <span style=\"color: #000000; text-decoration-color: #000000\">Skimming complete: </span><span style=\"color: #008080; text-decoration-color: #008080; font-weight: bold\">833</span><span style=\"color: #000000; text-decoration-color: #000000\">,</span><span style=\"color: #008080; text-decoration-color: #008080; font-weight: bold\">311</span><span style=\"color: #000000; text-decoration-color: #000000\"> events                                                 </span><a href=\"file:///home/cms-jovyan/integration-challenge/cms/utils/skimming.py\" target=\"_blank\"><span style=\"color: #7f7f7f; text-decoration-color: #7f7f7f\">skimming.py</span></a><span style=\"color: #7f7f7f; text-decoration-color: #7f7f7f\">:</span><a href=\"file:///home/cms-jovyan/integration-challenge/cms/utils/skimming.py#722\" target=\"_blank\"><span style=\"color: #7f7f7f; text-decoration-color: #7f7f7f\">722</span></a>\n",
       "</pre>\n"
      ],
      "text/plain": [
       "\u001b[2;36m        \u001b[0m\u001b[2;36m \u001b[0m\u001b[34mINFO    \u001b[0m \u001b[39mSkimming complete: \u001b[0m\u001b[1;36m833\u001b[0m\u001b[39m,\u001b[0m\u001b[1;36m311\u001b[0m\u001b[39m events                                                \u001b[0m\u001b[39m \u001b[0m\u001b]8;id=925382;file:///home/cms-jovyan/integration-challenge/cms/utils/skimming.py\u001b\\\u001b[2mskimming.py\u001b[0m\u001b]8;;\u001b\\\u001b[2m:\u001b[0m\u001b]8;id=751499;file:///home/cms-jovyan/integration-challenge/cms/utils/skimming.py#722\u001b\\\u001b[2m722\u001b[0m\u001b]8;;\u001b\\\n"
      ]
     },
     "metadata": {},
     "output_type": "display_data"
    },
    {
     "data": {
      "text/html": [
       "<pre style=\"white-space:pre;overflow-x:auto;line-height:normal;font-family:Menlo,'DejaVu Sans Mono',consolas,'Courier New',monospace\"><span style=\"color: #7fbfbf; text-decoration-color: #7fbfbf\">         </span><span style=\"color: #000080; text-decoration-color: #000080\">INFO    </span> <span style=\"color: #000000; text-decoration-color: #000000\">Reading from saved files                                                          </span><a href=\"file:///home/cms-jovyan/integration-challenge/cms/utils/skimming.py\" target=\"_blank\"><span style=\"color: #7f7f7f; text-decoration-color: #7f7f7f\">skimming.py</span></a><span style=\"color: #7f7f7f; text-decoration-color: #7f7f7f\">:</span><a href=\"file:///home/cms-jovyan/integration-challenge/cms/utils/skimming.py#725\" target=\"_blank\"><span style=\"color: #7f7f7f; text-decoration-color: #7f7f7f\">725</span></a>\n",
       "</pre>\n"
      ],
      "text/plain": [
       "\u001b[2;36m        \u001b[0m\u001b[2;36m \u001b[0m\u001b[34mINFO    \u001b[0m \u001b[39mReading from saved files                                                         \u001b[0m\u001b[39m \u001b[0m\u001b]8;id=651271;file:///home/cms-jovyan/integration-challenge/cms/utils/skimming.py\u001b\\\u001b[2mskimming.py\u001b[0m\u001b]8;;\u001b\\\u001b[2m:\u001b[0m\u001b]8;id=901478;file:///home/cms-jovyan/integration-challenge/cms/utils/skimming.py#725\u001b\\\u001b[2m725\u001b[0m\u001b]8;;\u001b\\\n"
      ]
     },
     "metadata": {},
     "output_type": "display_data"
    },
    {
     "data": {
      "text/html": [
       "<pre style=\"white-space:pre;overflow-x:auto;line-height:normal;font-family:Menlo,'DejaVu Sans Mono',consolas,'Courier New',monospace\"><span style=\"color: #7fbfbf; text-decoration-color: #7fbfbf\">         </span><span style=\"color: #000080; text-decoration-color: #000080\">INFO    </span> <span style=\"color: #000000; text-decoration-color: #000000\">Found existing skimmed files for ttbar_lep__nominal: </span><span style=\"color: #008080; text-decoration-color: #008080; font-weight: bold\">27</span><span style=\"color: #000000; text-decoration-color: #000000\">                           </span><a href=\"file:///home/cms-jovyan/integration-challenge/cms/utils/skimming.py\" target=\"_blank\"><span style=\"color: #7f7f7f; text-decoration-color: #7f7f7f\">skimming.py</span></a><span style=\"color: #7f7f7f; text-decoration-color: #7f7f7f\">:</span><a href=\"file:///home/cms-jovyan/integration-challenge/cms/utils/skimming.py#524\" target=\"_blank\"><span style=\"color: #7f7f7f; text-decoration-color: #7f7f7f\">524</span></a>\n",
       "</pre>\n"
      ],
      "text/plain": [
       "\u001b[2;36m        \u001b[0m\u001b[2;36m \u001b[0m\u001b[34mINFO    \u001b[0m \u001b[39mFound existing skimmed files for ttbar_lep__nominal: \u001b[0m\u001b[1;36m27\u001b[0m\u001b[39m                          \u001b[0m\u001b[39m \u001b[0m\u001b]8;id=402493;file:///home/cms-jovyan/integration-challenge/cms/utils/skimming.py\u001b\\\u001b[2mskimming.py\u001b[0m\u001b]8;;\u001b\\\u001b[2m:\u001b[0m\u001b]8;id=486810;file:///home/cms-jovyan/integration-challenge/cms/utils/skimming.py#524\u001b\\\u001b[2m524\u001b[0m\u001b]8;;\u001b\\\n"
      ]
     },
     "metadata": {},
     "output_type": "display_data"
    },
    {
     "data": {
      "text/html": [
       "<pre style=\"white-space:pre;overflow-x:auto;line-height:normal;font-family:Menlo,'DejaVu Sans Mono',consolas,'Courier New',monospace\"><span style=\"color: #7fbfbf; text-decoration-color: #7fbfbf\">13:47:17 </span><span style=\"color: #000080; text-decoration-color: #000080\">INFO    </span> <span style=\"color: #000000; text-decoration-color: #000000\">Merged </span><span style=\"color: #008080; text-decoration-color: #008080; font-weight: bold\">27</span><span style=\"color: #000000; text-decoration-color: #000000\"> files → </span><span style=\"color: #008080; text-decoration-color: #008080; font-weight: bold\">394079</span><span style=\"color: #000000; text-decoration-color: #000000\"> events for ttbar_lep__nominal                            </span><a href=\"file:///home/cms-jovyan/integration-challenge/cms/utils/skimming.py\" target=\"_blank\"><span style=\"color: #7f7f7f; text-decoration-color: #7f7f7f\">skimming.py</span></a><span style=\"color: #7f7f7f; text-decoration-color: #7f7f7f\">:</span><a href=\"file:///home/cms-jovyan/integration-challenge/cms/utils/skimming.py#822\" target=\"_blank\"><span style=\"color: #7f7f7f; text-decoration-color: #7f7f7f\">822</span></a>\n",
       "</pre>\n"
      ],
      "text/plain": [
       "\u001b[2;36m13:47:17\u001b[0m\u001b[2;36m \u001b[0m\u001b[34mINFO    \u001b[0m \u001b[39mMerged \u001b[0m\u001b[1;36m27\u001b[0m\u001b[39m files → \u001b[0m\u001b[1;36m394079\u001b[0m\u001b[39m events for ttbar_lep__nominal                           \u001b[0m\u001b[39m \u001b[0m\u001b]8;id=335925;file:///home/cms-jovyan/integration-challenge/cms/utils/skimming.py\u001b\\\u001b[2mskimming.py\u001b[0m\u001b]8;;\u001b\\\u001b[2m:\u001b[0m\u001b]8;id=419978;file:///home/cms-jovyan/integration-challenge/cms/utils/skimming.py#822\u001b\\\u001b[2m822\u001b[0m\u001b]8;;\u001b\\\n"
      ]
     },
     "metadata": {},
     "output_type": "display_data"
    },
    {
     "data": {
      "text/html": [
       "<pre style=\"white-space:pre;overflow-x:auto;line-height:normal;font-family:Menlo,'DejaVu Sans Mono',consolas,'Courier New',monospace\"><span style=\"color: #7fbfbf; text-decoration-color: #7fbfbf\">         </span><span style=\"color: #000080; text-decoration-color: #000080\">INFO    </span> <span style=\"color: #000000; text-decoration-color: #000000\">Cached events for ttbar_lep__nominal                                              </span><a href=\"file:///home/cms-jovyan/integration-challenge/cms/utils/skimming.py\" target=\"_blank\"><span style=\"color: #7f7f7f; text-decoration-color: #7f7f7f\">skimming.py</span></a><span style=\"color: #7f7f7f; text-decoration-color: #7f7f7f\">:</span><a href=\"file:///home/cms-jovyan/integration-challenge/cms/utils/skimming.py#831\" target=\"_blank\"><span style=\"color: #7f7f7f; text-decoration-color: #7f7f7f\">831</span></a>\n",
       "</pre>\n"
      ],
      "text/plain": [
       "\u001b[2;36m        \u001b[0m\u001b[2;36m \u001b[0m\u001b[34mINFO    \u001b[0m \u001b[39mCached events for ttbar_lep__nominal                                             \u001b[0m\u001b[39m \u001b[0m\u001b]8;id=101703;file:///home/cms-jovyan/integration-challenge/cms/utils/skimming.py\u001b\\\u001b[2mskimming.py\u001b[0m\u001b]8;;\u001b\\\u001b[2m:\u001b[0m\u001b]8;id=424174;file:///home/cms-jovyan/integration-challenge/cms/utils/skimming.py#831\u001b\\\u001b[2m831\u001b[0m\u001b]8;;\u001b\\\n"
      ]
     },
     "metadata": {},
     "output_type": "display_data"
    },
    {
     "data": {
      "text/html": [
       "<pre style=\"white-space:pre;overflow-x:auto;line-height:normal;font-family:Menlo,'DejaVu Sans Mono',consolas,'Courier New',monospace\"><span style=\"color: #7fbfbf; text-decoration-color: #7fbfbf\">         </span><span style=\"color: #000080; text-decoration-color: #000080\">INFO    </span> <span style=\"color: #000000; text-decoration-color: #000000\">Found existing skimmed files for ttbar_had__nominal: </span><span style=\"color: #008080; text-decoration-color: #008080; font-weight: bold\">35</span><span style=\"color: #000000; text-decoration-color: #000000\">                           </span><a href=\"file:///home/cms-jovyan/integration-challenge/cms/utils/skimming.py\" target=\"_blank\"><span style=\"color: #7f7f7f; text-decoration-color: #7f7f7f\">skimming.py</span></a><span style=\"color: #7f7f7f; text-decoration-color: #7f7f7f\">:</span><a href=\"file:///home/cms-jovyan/integration-challenge/cms/utils/skimming.py#524\" target=\"_blank\"><span style=\"color: #7f7f7f; text-decoration-color: #7f7f7f\">524</span></a>\n",
       "</pre>\n"
      ],
      "text/plain": [
       "\u001b[2;36m        \u001b[0m\u001b[2;36m \u001b[0m\u001b[34mINFO    \u001b[0m \u001b[39mFound existing skimmed files for ttbar_had__nominal: \u001b[0m\u001b[1;36m35\u001b[0m\u001b[39m                          \u001b[0m\u001b[39m \u001b[0m\u001b]8;id=277667;file:///home/cms-jovyan/integration-challenge/cms/utils/skimming.py\u001b\\\u001b[2mskimming.py\u001b[0m\u001b]8;;\u001b\\\u001b[2m:\u001b[0m\u001b]8;id=774135;file:///home/cms-jovyan/integration-challenge/cms/utils/skimming.py#524\u001b\\\u001b[2m524\u001b[0m\u001b]8;;\u001b\\\n"
      ]
     },
     "metadata": {},
     "output_type": "display_data"
    },
    {
     "data": {
      "text/html": [
       "<pre style=\"white-space:pre;overflow-x:auto;line-height:normal;font-family:Menlo,'DejaVu Sans Mono',consolas,'Courier New',monospace\"><span style=\"color: #7fbfbf; text-decoration-color: #7fbfbf\">13:47:18 </span><span style=\"color: #000080; text-decoration-color: #000080\">INFO    </span> <span style=\"color: #000000; text-decoration-color: #000000\">Merged </span><span style=\"color: #008080; text-decoration-color: #008080; font-weight: bold\">35</span><span style=\"color: #000000; text-decoration-color: #000000\"> files → </span><span style=\"color: #008080; text-decoration-color: #008080; font-weight: bold\">8495</span><span style=\"color: #000000; text-decoration-color: #000000\"> events for ttbar_had__nominal                              </span><a href=\"file:///home/cms-jovyan/integration-challenge/cms/utils/skimming.py\" target=\"_blank\"><span style=\"color: #7f7f7f; text-decoration-color: #7f7f7f\">skimming.py</span></a><span style=\"color: #7f7f7f; text-decoration-color: #7f7f7f\">:</span><a href=\"file:///home/cms-jovyan/integration-challenge/cms/utils/skimming.py#822\" target=\"_blank\"><span style=\"color: #7f7f7f; text-decoration-color: #7f7f7f\">822</span></a>\n",
       "</pre>\n"
      ],
      "text/plain": [
       "\u001b[2;36m13:47:18\u001b[0m\u001b[2;36m \u001b[0m\u001b[34mINFO    \u001b[0m \u001b[39mMerged \u001b[0m\u001b[1;36m35\u001b[0m\u001b[39m files → \u001b[0m\u001b[1;36m8495\u001b[0m\u001b[39m events for ttbar_had__nominal                             \u001b[0m\u001b[39m \u001b[0m\u001b]8;id=221926;file:///home/cms-jovyan/integration-challenge/cms/utils/skimming.py\u001b\\\u001b[2mskimming.py\u001b[0m\u001b]8;;\u001b\\\u001b[2m:\u001b[0m\u001b]8;id=862506;file:///home/cms-jovyan/integration-challenge/cms/utils/skimming.py#822\u001b\\\u001b[2m822\u001b[0m\u001b]8;;\u001b\\\n"
      ]
     },
     "metadata": {},
     "output_type": "display_data"
    },
    {
     "data": {
      "text/html": [
       "<pre style=\"white-space:pre;overflow-x:auto;line-height:normal;font-family:Menlo,'DejaVu Sans Mono',consolas,'Courier New',monospace\"><span style=\"color: #7fbfbf; text-decoration-color: #7fbfbf\">         </span><span style=\"color: #000080; text-decoration-color: #000080\">INFO    </span> <span style=\"color: #000000; text-decoration-color: #000000\">Cached events for ttbar_had__nominal                                              </span><a href=\"file:///home/cms-jovyan/integration-challenge/cms/utils/skimming.py\" target=\"_blank\"><span style=\"color: #7f7f7f; text-decoration-color: #7f7f7f\">skimming.py</span></a><span style=\"color: #7f7f7f; text-decoration-color: #7f7f7f\">:</span><a href=\"file:///home/cms-jovyan/integration-challenge/cms/utils/skimming.py#831\" target=\"_blank\"><span style=\"color: #7f7f7f; text-decoration-color: #7f7f7f\">831</span></a>\n",
       "</pre>\n"
      ],
      "text/plain": [
       "\u001b[2;36m        \u001b[0m\u001b[2;36m \u001b[0m\u001b[34mINFO    \u001b[0m \u001b[39mCached events for ttbar_had__nominal                                             \u001b[0m\u001b[39m \u001b[0m\u001b]8;id=788061;file:///home/cms-jovyan/integration-challenge/cms/utils/skimming.py\u001b\\\u001b[2mskimming.py\u001b[0m\u001b]8;;\u001b\\\u001b[2m:\u001b[0m\u001b]8;id=142784;file:///home/cms-jovyan/integration-challenge/cms/utils/skimming.py#831\u001b\\\u001b[2m831\u001b[0m\u001b]8;;\u001b\\\n"
      ]
     },
     "metadata": {},
     "output_type": "display_data"
    },
    {
     "data": {
      "text/html": [
       "<pre style=\"white-space:pre;overflow-x:auto;line-height:normal;font-family:Menlo,'DejaVu Sans Mono',consolas,'Courier New',monospace\"><span style=\"color: #7fbfbf; text-decoration-color: #7fbfbf\">13:47:19 </span><span style=\"color: #000080; text-decoration-color: #000080\">INFO    </span> <span style=\"color: #000000; text-decoration-color: #000000\">Found existing skimmed files for ttbar_semilep__nominal: </span><span style=\"color: #008080; text-decoration-color: #008080; font-weight: bold\">34</span><span style=\"color: #000000; text-decoration-color: #000000\">                       </span><a href=\"file:///home/cms-jovyan/integration-challenge/cms/utils/skimming.py\" target=\"_blank\"><span style=\"color: #7f7f7f; text-decoration-color: #7f7f7f\">skimming.py</span></a><span style=\"color: #7f7f7f; text-decoration-color: #7f7f7f\">:</span><a href=\"file:///home/cms-jovyan/integration-challenge/cms/utils/skimming.py#524\" target=\"_blank\"><span style=\"color: #7f7f7f; text-decoration-color: #7f7f7f\">524</span></a>\n",
       "</pre>\n"
      ],
      "text/plain": [
       "\u001b[2;36m13:47:19\u001b[0m\u001b[2;36m \u001b[0m\u001b[34mINFO    \u001b[0m \u001b[39mFound existing skimmed files for ttbar_semilep__nominal: \u001b[0m\u001b[1;36m34\u001b[0m\u001b[39m                      \u001b[0m\u001b[39m \u001b[0m\u001b]8;id=270573;file:///home/cms-jovyan/integration-challenge/cms/utils/skimming.py\u001b\\\u001b[2mskimming.py\u001b[0m\u001b]8;;\u001b\\\u001b[2m:\u001b[0m\u001b]8;id=79336;file:///home/cms-jovyan/integration-challenge/cms/utils/skimming.py#524\u001b\\\u001b[2m524\u001b[0m\u001b]8;;\u001b\\\n"
      ]
     },
     "metadata": {},
     "output_type": "display_data"
    },
    {
     "data": {
      "text/html": [
       "<pre style=\"white-space:pre;overflow-x:auto;line-height:normal;font-family:Menlo,'DejaVu Sans Mono',consolas,'Courier New',monospace\"><span style=\"color: #7fbfbf; text-decoration-color: #7fbfbf\">         </span><span style=\"color: #800000; text-decoration-color: #800000; font-weight: bold\">ERROR   </span> <span style=\"color: #000000; text-decoration-color: #000000\">Failed to load events from                                                        </span><a href=\"file:///home/cms-jovyan/integration-challenge/cms/utils/skimming.py\" target=\"_blank\"><span style=\"color: #7f7f7f; text-decoration-color: #7f7f7f\">skimming.py</span></a><span style=\"color: #7f7f7f; text-decoration-color: #7f7f7f\">:</span><a href=\"file:///home/cms-jovyan/integration-challenge/cms/utils/skimming.py#809\" target=\"_blank\"><span style=\"color: #7f7f7f; text-decoration-color: #7f7f7f\">809</span></a>\n",
       "<span style=\"color: #7fbfbf; text-decoration-color: #7fbfbf\">         </span>         <span style=\"color: #000000; text-decoration-color: #000000\">/home/cms-jovyan/integration-challenge/cms/example-demo/outputs/skimmed/ttbar_sem </span><span style=\"color: #7f7f7f; text-decoration-color: #7f7f7f\">               </span>\n",
       "<span style=\"color: #7fbfbf; text-decoration-color: #7fbfbf\">         </span>         <span style=\"color: #000000; text-decoration-color: #000000\">ilep__nominal/file__4/part_4.root:Events: not found: </span><span style=\"color: #008000; text-decoration-color: #008000\">'Events'</span><span style=\"color: #000000; text-decoration-color: #000000\"> </span><span style=\"color: #000000; text-decoration-color: #000000; font-weight: bold\">(</span><span style=\"color: #000000; text-decoration-color: #000000\">with any cycle     </span><span style=\"color: #7f7f7f; text-decoration-color: #7f7f7f\">               </span>\n",
       "<span style=\"color: #7fbfbf; text-decoration-color: #7fbfbf\">         </span>         <span style=\"color: #000000; text-decoration-color: #000000\">number</span><span style=\"color: #000000; text-decoration-color: #000000; font-weight: bold\">)</span><span style=\"color: #000000; text-decoration-color: #000000\">                                                                           </span><span style=\"color: #7f7f7f; text-decoration-color: #7f7f7f\">               </span>\n",
       "<span style=\"color: #7fbfbf; text-decoration-color: #7fbfbf\">         </span>         <span style=\"color: #000000; text-decoration-color: #000000\">                                                                                  </span><span style=\"color: #7f7f7f; text-decoration-color: #7f7f7f\">               </span>\n",
       "<span style=\"color: #7fbfbf; text-decoration-color: #7fbfbf\">         </span>         <span style=\"color: #000000; text-decoration-color: #000000\">    Available keys: </span><span style=\"color: #000000; text-decoration-color: #000000; font-weight: bold\">(</span><span style=\"color: #000000; text-decoration-color: #000000\">none!</span><span style=\"color: #000000; text-decoration-color: #000000; font-weight: bold\">)</span><span style=\"color: #000000; text-decoration-color: #000000\">                                                       </span><span style=\"color: #7f7f7f; text-decoration-color: #7f7f7f\">               </span>\n",
       "<span style=\"color: #7fbfbf; text-decoration-color: #7fbfbf\">         </span>         <span style=\"color: #000000; text-decoration-color: #000000\">                                                                                  </span><span style=\"color: #7f7f7f; text-decoration-color: #7f7f7f\">               </span>\n",
       "<span style=\"color: #7fbfbf; text-decoration-color: #7fbfbf\">         </span>         <span style=\"color: #000000; text-decoration-color: #000000\">in file                                                                           </span><span style=\"color: #7f7f7f; text-decoration-color: #7f7f7f\">               </span>\n",
       "<span style=\"color: #7fbfbf; text-decoration-color: #7fbfbf\">         </span>         <span style=\"color: #000000; text-decoration-color: #000000\">/home/cms-jovyan/integration-challenge/cms/example-demo/outputs/skimmed/ttbar_sem </span><span style=\"color: #7f7f7f; text-decoration-color: #7f7f7f\">               </span>\n",
       "<span style=\"color: #7fbfbf; text-decoration-color: #7fbfbf\">         </span>         <span style=\"color: #000000; text-decoration-color: #000000\">ilep__nominal/file__4/part_4.root                                                 </span><span style=\"color: #7f7f7f; text-decoration-color: #7f7f7f\">               </span>\n",
       "</pre>\n"
      ],
      "text/plain": [
       "\u001b[2;36m        \u001b[0m\u001b[2;36m \u001b[0m\u001b[1;31mERROR   \u001b[0m \u001b[39mFailed to load events from                                                       \u001b[0m\u001b[39m \u001b[0m\u001b]8;id=70161;file:///home/cms-jovyan/integration-challenge/cms/utils/skimming.py\u001b\\\u001b[2mskimming.py\u001b[0m\u001b]8;;\u001b\\\u001b[2m:\u001b[0m\u001b]8;id=749620;file:///home/cms-jovyan/integration-challenge/cms/utils/skimming.py#809\u001b\\\u001b[2m809\u001b[0m\u001b]8;;\u001b\\\n",
       "\u001b[2;36m         \u001b[0m         \u001b[39m/home/cms-jovyan/integration-challenge/cms/example-demo/outputs/skimmed/ttbar_sem\u001b[0m\u001b[39m \u001b[0m\u001b[2m               \u001b[0m\n",
       "\u001b[2;36m         \u001b[0m         \u001b[39milep__nominal/file__4/\u001b[0m\u001b[39mpart_4.root\u001b[0m\u001b[39m:Events: not found: \u001b[0m\u001b[32m'Events'\u001b[0m\u001b[39m \u001b[0m\u001b[1;39m(\u001b[0m\u001b[39mwith any cycle    \u001b[0m\u001b[39m \u001b[0m\u001b[2m               \u001b[0m\n",
       "\u001b[2;36m         \u001b[0m         \u001b[39mnumber\u001b[0m\u001b[1;39m)\u001b[0m\u001b[39m                                                                          \u001b[0m\u001b[39m \u001b[0m\u001b[2m               \u001b[0m\n",
       "\u001b[2;36m         \u001b[0m         \u001b[39m                                                                                 \u001b[0m\u001b[39m \u001b[0m\u001b[2m               \u001b[0m\n",
       "\u001b[2;36m         \u001b[0m         \u001b[39m    Available keys: \u001b[0m\u001b[1;39m(\u001b[0m\u001b[39mnone!\u001b[0m\u001b[1;39m)\u001b[0m\u001b[39m                                                      \u001b[0m\u001b[39m \u001b[0m\u001b[2m               \u001b[0m\n",
       "\u001b[2;36m         \u001b[0m         \u001b[39m                                                                                 \u001b[0m\u001b[39m \u001b[0m\u001b[2m               \u001b[0m\n",
       "\u001b[2;36m         \u001b[0m         \u001b[39min file                                                                          \u001b[0m\u001b[39m \u001b[0m\u001b[2m               \u001b[0m\n",
       "\u001b[2;36m         \u001b[0m         \u001b[39m/home/cms-jovyan/integration-challenge/cms/example-demo/outputs/skimmed/ttbar_sem\u001b[0m\u001b[39m \u001b[0m\u001b[2m               \u001b[0m\n",
       "\u001b[2;36m         \u001b[0m         \u001b[39milep__nominal/file__4/\u001b[0m\u001b[39mpart_4.root\u001b[0m\u001b[39m                                                \u001b[0m\u001b[39m \u001b[0m\u001b[2m               \u001b[0m\n"
      ]
     },
     "metadata": {},
     "output_type": "display_data"
    },
    {
     "data": {
      "text/html": [
       "<pre style=\"white-space:pre;overflow-x:auto;line-height:normal;font-family:Menlo,'DejaVu Sans Mono',consolas,'Courier New',monospace\"><span style=\"color: #7fbfbf; text-decoration-color: #7fbfbf\">13:47:20 </span><span style=\"color: #800000; text-decoration-color: #800000; font-weight: bold\">ERROR   </span> <span style=\"color: #000000; text-decoration-color: #000000\">Failed to load events from                                                        </span><a href=\"file:///home/cms-jovyan/integration-challenge/cms/utils/skimming.py\" target=\"_blank\"><span style=\"color: #7f7f7f; text-decoration-color: #7f7f7f\">skimming.py</span></a><span style=\"color: #7f7f7f; text-decoration-color: #7f7f7f\">:</span><a href=\"file:///home/cms-jovyan/integration-challenge/cms/utils/skimming.py#809\" target=\"_blank\"><span style=\"color: #7f7f7f; text-decoration-color: #7f7f7f\">809</span></a>\n",
       "<span style=\"color: #7fbfbf; text-decoration-color: #7fbfbf\">         </span>         <span style=\"color: #000000; text-decoration-color: #000000\">/home/cms-jovyan/integration-challenge/cms/example-demo/outputs/skimmed/ttbar_sem </span><span style=\"color: #7f7f7f; text-decoration-color: #7f7f7f\">               </span>\n",
       "<span style=\"color: #7fbfbf; text-decoration-color: #7fbfbf\">         </span>         <span style=\"color: #000000; text-decoration-color: #000000\">ilep__nominal/file__6/part_4.root:Events: not found: </span><span style=\"color: #008000; text-decoration-color: #008000\">'Events'</span><span style=\"color: #000000; text-decoration-color: #000000\"> </span><span style=\"color: #000000; text-decoration-color: #000000; font-weight: bold\">(</span><span style=\"color: #000000; text-decoration-color: #000000\">with any cycle     </span><span style=\"color: #7f7f7f; text-decoration-color: #7f7f7f\">               </span>\n",
       "<span style=\"color: #7fbfbf; text-decoration-color: #7fbfbf\">         </span>         <span style=\"color: #000000; text-decoration-color: #000000\">number</span><span style=\"color: #000000; text-decoration-color: #000000; font-weight: bold\">)</span><span style=\"color: #000000; text-decoration-color: #000000\">                                                                           </span><span style=\"color: #7f7f7f; text-decoration-color: #7f7f7f\">               </span>\n",
       "<span style=\"color: #7fbfbf; text-decoration-color: #7fbfbf\">         </span>         <span style=\"color: #000000; text-decoration-color: #000000\">                                                                                  </span><span style=\"color: #7f7f7f; text-decoration-color: #7f7f7f\">               </span>\n",
       "<span style=\"color: #7fbfbf; text-decoration-color: #7fbfbf\">         </span>         <span style=\"color: #000000; text-decoration-color: #000000\">    Available keys: </span><span style=\"color: #000000; text-decoration-color: #000000; font-weight: bold\">(</span><span style=\"color: #000000; text-decoration-color: #000000\">none!</span><span style=\"color: #000000; text-decoration-color: #000000; font-weight: bold\">)</span><span style=\"color: #000000; text-decoration-color: #000000\">                                                       </span><span style=\"color: #7f7f7f; text-decoration-color: #7f7f7f\">               </span>\n",
       "<span style=\"color: #7fbfbf; text-decoration-color: #7fbfbf\">         </span>         <span style=\"color: #000000; text-decoration-color: #000000\">                                                                                  </span><span style=\"color: #7f7f7f; text-decoration-color: #7f7f7f\">               </span>\n",
       "<span style=\"color: #7fbfbf; text-decoration-color: #7fbfbf\">         </span>         <span style=\"color: #000000; text-decoration-color: #000000\">in file                                                                           </span><span style=\"color: #7f7f7f; text-decoration-color: #7f7f7f\">               </span>\n",
       "<span style=\"color: #7fbfbf; text-decoration-color: #7fbfbf\">         </span>         <span style=\"color: #000000; text-decoration-color: #000000\">/home/cms-jovyan/integration-challenge/cms/example-demo/outputs/skimmed/ttbar_sem </span><span style=\"color: #7f7f7f; text-decoration-color: #7f7f7f\">               </span>\n",
       "<span style=\"color: #7fbfbf; text-decoration-color: #7fbfbf\">         </span>         <span style=\"color: #000000; text-decoration-color: #000000\">ilep__nominal/file__6/part_4.root                                                 </span><span style=\"color: #7f7f7f; text-decoration-color: #7f7f7f\">               </span>\n",
       "</pre>\n"
      ],
      "text/plain": [
       "\u001b[2;36m13:47:20\u001b[0m\u001b[2;36m \u001b[0m\u001b[1;31mERROR   \u001b[0m \u001b[39mFailed to load events from                                                       \u001b[0m\u001b[39m \u001b[0m\u001b]8;id=324122;file:///home/cms-jovyan/integration-challenge/cms/utils/skimming.py\u001b\\\u001b[2mskimming.py\u001b[0m\u001b]8;;\u001b\\\u001b[2m:\u001b[0m\u001b]8;id=229331;file:///home/cms-jovyan/integration-challenge/cms/utils/skimming.py#809\u001b\\\u001b[2m809\u001b[0m\u001b]8;;\u001b\\\n",
       "\u001b[2;36m         \u001b[0m         \u001b[39m/home/cms-jovyan/integration-challenge/cms/example-demo/outputs/skimmed/ttbar_sem\u001b[0m\u001b[39m \u001b[0m\u001b[2m               \u001b[0m\n",
       "\u001b[2;36m         \u001b[0m         \u001b[39milep__nominal/file__6/\u001b[0m\u001b[39mpart_4.root\u001b[0m\u001b[39m:Events: not found: \u001b[0m\u001b[32m'Events'\u001b[0m\u001b[39m \u001b[0m\u001b[1;39m(\u001b[0m\u001b[39mwith any cycle    \u001b[0m\u001b[39m \u001b[0m\u001b[2m               \u001b[0m\n",
       "\u001b[2;36m         \u001b[0m         \u001b[39mnumber\u001b[0m\u001b[1;39m)\u001b[0m\u001b[39m                                                                          \u001b[0m\u001b[39m \u001b[0m\u001b[2m               \u001b[0m\n",
       "\u001b[2;36m         \u001b[0m         \u001b[39m                                                                                 \u001b[0m\u001b[39m \u001b[0m\u001b[2m               \u001b[0m\n",
       "\u001b[2;36m         \u001b[0m         \u001b[39m    Available keys: \u001b[0m\u001b[1;39m(\u001b[0m\u001b[39mnone!\u001b[0m\u001b[1;39m)\u001b[0m\u001b[39m                                                      \u001b[0m\u001b[39m \u001b[0m\u001b[2m               \u001b[0m\n",
       "\u001b[2;36m         \u001b[0m         \u001b[39m                                                                                 \u001b[0m\u001b[39m \u001b[0m\u001b[2m               \u001b[0m\n",
       "\u001b[2;36m         \u001b[0m         \u001b[39min file                                                                          \u001b[0m\u001b[39m \u001b[0m\u001b[2m               \u001b[0m\n",
       "\u001b[2;36m         \u001b[0m         \u001b[39m/home/cms-jovyan/integration-challenge/cms/example-demo/outputs/skimmed/ttbar_sem\u001b[0m\u001b[39m \u001b[0m\u001b[2m               \u001b[0m\n",
       "\u001b[2;36m         \u001b[0m         \u001b[39milep__nominal/file__6/\u001b[0m\u001b[39mpart_4.root\u001b[0m\u001b[39m                                                \u001b[0m\u001b[39m \u001b[0m\u001b[2m               \u001b[0m\n"
      ]
     },
     "metadata": {},
     "output_type": "display_data"
    },
    {
     "data": {
      "text/html": [
       "<pre style=\"white-space:pre;overflow-x:auto;line-height:normal;font-family:Menlo,'DejaVu Sans Mono',consolas,'Courier New',monospace\"><span style=\"color: #7fbfbf; text-decoration-color: #7fbfbf\">         </span><span style=\"color: #000080; text-decoration-color: #000080\">INFO    </span> <span style=\"color: #000000; text-decoration-color: #000000\">Merged </span><span style=\"color: #008080; text-decoration-color: #008080; font-weight: bold\">34</span><span style=\"color: #000000; text-decoration-color: #000000\"> files → </span><span style=\"color: #008080; text-decoration-color: #008080; font-weight: bold\">181492</span><span style=\"color: #000000; text-decoration-color: #000000\"> events for ttbar_semilep__nominal                        </span><a href=\"file:///home/cms-jovyan/integration-challenge/cms/utils/skimming.py\" target=\"_blank\"><span style=\"color: #7f7f7f; text-decoration-color: #7f7f7f\">skimming.py</span></a><span style=\"color: #7f7f7f; text-decoration-color: #7f7f7f\">:</span><a href=\"file:///home/cms-jovyan/integration-challenge/cms/utils/skimming.py#822\" target=\"_blank\"><span style=\"color: #7f7f7f; text-decoration-color: #7f7f7f\">822</span></a>\n",
       "</pre>\n"
      ],
      "text/plain": [
       "\u001b[2;36m        \u001b[0m\u001b[2;36m \u001b[0m\u001b[34mINFO    \u001b[0m \u001b[39mMerged \u001b[0m\u001b[1;36m34\u001b[0m\u001b[39m files → \u001b[0m\u001b[1;36m181492\u001b[0m\u001b[39m events for ttbar_semilep__nominal                       \u001b[0m\u001b[39m \u001b[0m\u001b]8;id=966557;file:///home/cms-jovyan/integration-challenge/cms/utils/skimming.py\u001b\\\u001b[2mskimming.py\u001b[0m\u001b]8;;\u001b\\\u001b[2m:\u001b[0m\u001b]8;id=59327;file:///home/cms-jovyan/integration-challenge/cms/utils/skimming.py#822\u001b\\\u001b[2m822\u001b[0m\u001b]8;;\u001b\\\n"
      ]
     },
     "metadata": {},
     "output_type": "display_data"
    },
    {
     "data": {
      "text/html": [
       "<pre style=\"white-space:pre;overflow-x:auto;line-height:normal;font-family:Menlo,'DejaVu Sans Mono',consolas,'Courier New',monospace\"><span style=\"color: #7fbfbf; text-decoration-color: #7fbfbf\">         </span><span style=\"color: #000080; text-decoration-color: #000080\">INFO    </span> <span style=\"color: #000000; text-decoration-color: #000000\">Cached events for ttbar_semilep__nominal                                          </span><a href=\"file:///home/cms-jovyan/integration-challenge/cms/utils/skimming.py\" target=\"_blank\"><span style=\"color: #7f7f7f; text-decoration-color: #7f7f7f\">skimming.py</span></a><span style=\"color: #7f7f7f; text-decoration-color: #7f7f7f\">:</span><a href=\"file:///home/cms-jovyan/integration-challenge/cms/utils/skimming.py#831\" target=\"_blank\"><span style=\"color: #7f7f7f; text-decoration-color: #7f7f7f\">831</span></a>\n",
       "</pre>\n"
      ],
      "text/plain": [
       "\u001b[2;36m        \u001b[0m\u001b[2;36m \u001b[0m\u001b[34mINFO    \u001b[0m \u001b[39mCached events for ttbar_semilep__nominal                                         \u001b[0m\u001b[39m \u001b[0m\u001b]8;id=609821;file:///home/cms-jovyan/integration-challenge/cms/utils/skimming.py\u001b\\\u001b[2mskimming.py\u001b[0m\u001b]8;;\u001b\\\u001b[2m:\u001b[0m\u001b]8;id=232002;file:///home/cms-jovyan/integration-challenge/cms/utils/skimming.py#831\u001b\\\u001b[2m831\u001b[0m\u001b]8;;\u001b\\\n"
      ]
     },
     "metadata": {},
     "output_type": "display_data"
    },
    {
     "data": {
      "text/html": [
       "<pre style=\"white-space:pre;overflow-x:auto;line-height:normal;font-family:Menlo,'DejaVu Sans Mono',consolas,'Courier New',monospace\"><span style=\"color: #7fbfbf; text-decoration-color: #7fbfbf\">         </span><span style=\"color: #000080; text-decoration-color: #000080\">INFO    </span> <span style=\"color: #000000; text-decoration-color: #000000\">Found existing skimmed files for signal__nominal: </span><span style=\"color: #008080; text-decoration-color: #008080; font-weight: bold\">1</span><span style=\"color: #000000; text-decoration-color: #000000\">                               </span><a href=\"file:///home/cms-jovyan/integration-challenge/cms/utils/skimming.py\" target=\"_blank\"><span style=\"color: #7f7f7f; text-decoration-color: #7f7f7f\">skimming.py</span></a><span style=\"color: #7f7f7f; text-decoration-color: #7f7f7f\">:</span><a href=\"file:///home/cms-jovyan/integration-challenge/cms/utils/skimming.py#524\" target=\"_blank\"><span style=\"color: #7f7f7f; text-decoration-color: #7f7f7f\">524</span></a>\n",
       "</pre>\n"
      ],
      "text/plain": [
       "\u001b[2;36m        \u001b[0m\u001b[2;36m \u001b[0m\u001b[34mINFO    \u001b[0m \u001b[39mFound existing skimmed files for signal__nominal: \u001b[0m\u001b[1;36m1\u001b[0m\u001b[39m                              \u001b[0m\u001b[39m \u001b[0m\u001b]8;id=779420;file:///home/cms-jovyan/integration-challenge/cms/utils/skimming.py\u001b\\\u001b[2mskimming.py\u001b[0m\u001b]8;;\u001b\\\u001b[2m:\u001b[0m\u001b]8;id=710925;file:///home/cms-jovyan/integration-challenge/cms/utils/skimming.py#524\u001b\\\u001b[2m524\u001b[0m\u001b]8;;\u001b\\\n"
      ]
     },
     "metadata": {},
     "output_type": "display_data"
    },
    {
     "data": {
      "text/html": [
       "<pre style=\"white-space:pre;overflow-x:auto;line-height:normal;font-family:Menlo,'DejaVu Sans Mono',consolas,'Courier New',monospace\"><span style=\"color: #7fbfbf; text-decoration-color: #7fbfbf\">         </span><span style=\"color: #000080; text-decoration-color: #000080\">INFO    </span> <span style=\"color: #000000; text-decoration-color: #000000\">Merged </span><span style=\"color: #008080; text-decoration-color: #008080; font-weight: bold\">1</span><span style=\"color: #000000; text-decoration-color: #000000\"> files → </span><span style=\"color: #008080; text-decoration-color: #008080; font-weight: bold\">19326</span><span style=\"color: #000000; text-decoration-color: #000000\"> events for signal__nominal                                 </span><a href=\"file:///home/cms-jovyan/integration-challenge/cms/utils/skimming.py\" target=\"_blank\"><span style=\"color: #7f7f7f; text-decoration-color: #7f7f7f\">skimming.py</span></a><span style=\"color: #7f7f7f; text-decoration-color: #7f7f7f\">:</span><a href=\"file:///home/cms-jovyan/integration-challenge/cms/utils/skimming.py#822\" target=\"_blank\"><span style=\"color: #7f7f7f; text-decoration-color: #7f7f7f\">822</span></a>\n",
       "</pre>\n"
      ],
      "text/plain": [
       "\u001b[2;36m        \u001b[0m\u001b[2;36m \u001b[0m\u001b[34mINFO    \u001b[0m \u001b[39mMerged \u001b[0m\u001b[1;36m1\u001b[0m\u001b[39m files → \u001b[0m\u001b[1;36m19326\u001b[0m\u001b[39m events for signal__nominal                                \u001b[0m\u001b[39m \u001b[0m\u001b]8;id=641143;file:///home/cms-jovyan/integration-challenge/cms/utils/skimming.py\u001b\\\u001b[2mskimming.py\u001b[0m\u001b]8;;\u001b\\\u001b[2m:\u001b[0m\u001b]8;id=899593;file:///home/cms-jovyan/integration-challenge/cms/utils/skimming.py#822\u001b\\\u001b[2m822\u001b[0m\u001b]8;;\u001b\\\n"
      ]
     },
     "metadata": {},
     "output_type": "display_data"
    },
    {
     "data": {
      "text/html": [
       "<pre style=\"white-space:pre;overflow-x:auto;line-height:normal;font-family:Menlo,'DejaVu Sans Mono',consolas,'Courier New',monospace\"><span style=\"color: #7fbfbf; text-decoration-color: #7fbfbf\">         </span><span style=\"color: #000080; text-decoration-color: #000080\">INFO    </span> <span style=\"color: #000000; text-decoration-color: #000000\">Cached events for signal__nominal                                                 </span><a href=\"file:///home/cms-jovyan/integration-challenge/cms/utils/skimming.py\" target=\"_blank\"><span style=\"color: #7f7f7f; text-decoration-color: #7f7f7f\">skimming.py</span></a><span style=\"color: #7f7f7f; text-decoration-color: #7f7f7f\">:</span><a href=\"file:///home/cms-jovyan/integration-challenge/cms/utils/skimming.py#831\" target=\"_blank\"><span style=\"color: #7f7f7f; text-decoration-color: #7f7f7f\">831</span></a>\n",
       "</pre>\n"
      ],
      "text/plain": [
       "\u001b[2;36m        \u001b[0m\u001b[2;36m \u001b[0m\u001b[34mINFO    \u001b[0m \u001b[39mCached events for signal__nominal                                                \u001b[0m\u001b[39m \u001b[0m\u001b]8;id=572959;file:///home/cms-jovyan/integration-challenge/cms/utils/skimming.py\u001b\\\u001b[2mskimming.py\u001b[0m\u001b]8;;\u001b\\\u001b[2m:\u001b[0m\u001b]8;id=165284;file:///home/cms-jovyan/integration-challenge/cms/utils/skimming.py#831\u001b\\\u001b[2m831\u001b[0m\u001b]8;;\u001b\\\n"
      ]
     },
     "metadata": {},
     "output_type": "display_data"
    },
    {
     "name": "stdout",
     "output_type": "stream",
     "text": [
      "\n",
      "✅ Skimming complete! Processed datasets structure x:\n",
      "  📁 ttbar_lep__nominal processed\n",
      "    └── File 1: 394079 events, 10 branches\n",
      "  📁 ttbar_had__nominal processed\n",
      "    └── File 1: 8495 events, 10 branches\n",
      "  📁 ttbar_semilep__nominal processed\n",
      "    └── File 1: 181492 events, 10 branches\n",
      "  📁 signal__nominal processed\n",
      "    └── File 1: 19326 events, 10 branches\n",
      "\n",
      "💾 Skimmed data saved to: /home/cms-jovyan/integration-challenge/cms/example-demo/outputs/skimmed\n"
     ]
    }
   ],
   "source": [
    "from utils.skimming import process_workitems_with_skimming\n",
    "\n",
    "# Extract workitems and fileset from metadata generator\n",
    "fileset = metadata_generator.fileset\n",
    "workitems = metadata_generator.workitems\n",
    "\n",
    "print(f\"📊 Processing {len(workitems)} workitems across {len(fileset)} datasets\")\n",
    "\n",
    "# Disable caching for demonstration\n",
    "validated_config.general.read_from_cache = False\n",
    "validated_config.general.run_skimming = True\n",
    "\n",
    "client, cluster = get_client()\n",
    "# Skim data with dask according to the workitems\n",
    "processed_datasets = process_workitems_with_skimming(\n",
    "    workitems,\n",
    "    validated_config,\n",
    "    output_manager,\n",
    "    fileset,\n",
    "    metadata_generator.nanoaods_summary\n",
    ")\n",
    "close_client(client, cluster)\n",
    "\n",
    "# Display the structure of processed datasets\n",
    "print(f\"\\n✅ Skimming complete! Processed datasets structure x:\")\n",
    "for dataset_name, events_list in processed_datasets.items():\n",
    "    print(f\"  📁 {dataset_name} processed\")\n",
    "    for i, (events, metadata) in enumerate(events_list):\n",
    "        print(f\"    └── File {i+1}: {len(events)} events, {len(events.fields)} branches\")\n",
    "\n",
    "print(f\"\\n💾 Skimmed data saved to: {output_manager.get_skimmed_dir()}\")"
   ]
  },
  {
   "cell_type": "code",
   "execution_count": null,
   "id": "a2b7f222",
   "metadata": {},
   "outputs": [],
   "source": [
    "# Enable caching to show how it speeds up subsequent runs\n",
    "validated_config.general.read_from_cache = True\n",
    "validated_config.general.run_skimming = False\n",
    "# Run the skimming again - it will look for cached files\n",
    "# if they don't exist, it will fallback to skim regularly\n",
    "cached_datasets = process_workitems_with_skimming(\n",
    "    workitems,\n",
    "    validated_config,\n",
    "    output_manager,\n",
    "    fileset,\n",
    "    metadata_generator.nanoaods_summary\n",
    ")\n",
    "\n",
    "# Show cache directory contents\n",
    "import os\n",
    "cache_files = os.listdir(output_manager.get_skimmed_dir())\n",
    "print(f\"💾 Cached files in skimmed directory: {len(cache_files)} files\")\n",
    "print(f\"📁 Cache location: {output_manager.get_cache_dir()}\")"
   ]
  },
  {
   "cell_type": "markdown",
   "id": "99c3086d",
   "metadata": {},
   "source": [
    "# 6. Analysis & Histogramming\n",
    "\n",
    "This step encapsulates a few underlying function calls:\n",
    "1. Global event selection is applied\n",
    "2. If MVA training is configured and enabled, an MVA training will be triggered\n",
    "3. Apply corrections from `correctionlib`\n",
    "4. Ghost observables will be computed and added to event record\n",
    "6. Channels will be built with their corresponding selections\n",
    "7. Compute all observables (once nomina, once per systematic variation)\n",
    "8. Create histograms"
   ]
  },
  {
   "cell_type": "code",
   "execution_count": 11,
   "id": "9d78ac14",
   "metadata": {},
   "outputs": [
    {
     "name": "stdout",
     "output_type": "stream",
     "text": [
      "🔬 Analysis initialized for 4 datasets\n",
      "📊 Processing dataset: ttbar_lep__nominal\n",
      "   • Processing 394079 events with metadata: ttbar_lep\n"
     ]
    },
    {
     "data": {
      "text/html": [
       "<pre style=\"white-space:pre;overflow-x:auto;line-height:normal;font-family:Menlo,'DejaVu Sans Mono',consolas,'Courier New',monospace\"><span style=\"color: #7fbfbf; text-decoration-color: #7fbfbf\">13:47:48 </span><span style=\"color: #000080; text-decoration-color: #000080\">INFO    </span> <span style=\"color: #000000; text-decoration-color: #000000\">Applying selection for CMS_WORKSHOP in ttbar_lep with variation nominal            </span><a href=\"file:///home/cms-jovyan/integration-challenge/cms/analysis/nondiff.py\" target=\"_blank\"><span style=\"color: #7f7f7f; text-decoration-color: #7f7f7f\">nondiff.py</span></a><span style=\"color: #7f7f7f; text-decoration-color: #7f7f7f\">:</span><a href=\"file:///home/cms-jovyan/integration-challenge/cms/analysis/nondiff.py#154\" target=\"_blank\"><span style=\"color: #7f7f7f; text-decoration-color: #7f7f7f\">154</span></a>\n",
       "</pre>\n"
      ],
      "text/plain": [
       "\u001b[2;36m13:47:48\u001b[0m\u001b[2;36m \u001b[0m\u001b[34mINFO    \u001b[0m \u001b[39mApplying selection for CMS_WORKSHOP in ttbar_lep with variation nominal           \u001b[0m\u001b[39m \u001b[0m\u001b]8;id=633874;file:///home/cms-jovyan/integration-challenge/cms/analysis/nondiff.py\u001b\\\u001b[2mnondiff.py\u001b[0m\u001b]8;;\u001b\\\u001b[2m:\u001b[0m\u001b]8;id=769587;file:///home/cms-jovyan/integration-challenge/cms/analysis/nondiff.py#154\u001b\\\u001b[2m154\u001b[0m\u001b]8;;\u001b\\\n"
      ]
     },
     "metadata": {},
     "output_type": "display_data"
    },
    {
     "data": {
      "text/html": [
       "<pre style=\"white-space:pre;overflow-x:auto;line-height:normal;font-family:Menlo,'DejaVu Sans Mono',consolas,'Courier New',monospace\"><span style=\"color: #7fbfbf; text-decoration-color: #7fbfbf\">         </span><span style=\"color: #000080; text-decoration-color: #000080\">INFO    </span> <span style=\"color: #000000; text-decoration-color: #000000\">Number of weighted events in CMS_WORKSHOP: </span><span style=\"color: #008080; text-decoration-color: #008080; font-weight: bold\">71.21</span><span style=\"color: #000000; text-decoration-color: #000000\">                                   </span><a href=\"file:///home/cms-jovyan/integration-challenge/cms/analysis/nondiff.py\" target=\"_blank\"><span style=\"color: #7f7f7f; text-decoration-color: #7f7f7f\">nondiff.py</span></a><span style=\"color: #7f7f7f; text-decoration-color: #7f7f7f\">:</span><a href=\"file:///home/cms-jovyan/integration-challenge/cms/analysis/nondiff.py#205\" target=\"_blank\"><span style=\"color: #7f7f7f; text-decoration-color: #7f7f7f\">205</span></a>\n",
       "</pre>\n"
      ],
      "text/plain": [
       "\u001b[2;36m        \u001b[0m\u001b[2;36m \u001b[0m\u001b[34mINFO    \u001b[0m \u001b[39mNumber of weighted events in CMS_WORKSHOP: \u001b[0m\u001b[1;36m71.21\u001b[0m\u001b[39m                                  \u001b[0m\u001b[39m \u001b[0m\u001b]8;id=772215;file:///home/cms-jovyan/integration-challenge/cms/analysis/nondiff.py\u001b\\\u001b[2mnondiff.py\u001b[0m\u001b]8;;\u001b\\\u001b[2m:\u001b[0m\u001b]8;id=365759;file:///home/cms-jovyan/integration-challenge/cms/analysis/nondiff.py#205\u001b\\\u001b[2m205\u001b[0m\u001b]8;;\u001b\\\n"
      ]
     },
     "metadata": {},
     "output_type": "display_data"
    },
    {
     "data": {
      "text/html": [
       "<pre style=\"white-space:pre;overflow-x:auto;line-height:normal;font-family:Menlo,'DejaVu Sans Mono',consolas,'Courier New',monospace\"><span style=\"color: #7fbfbf; text-decoration-color: #7fbfbf\">         </span><span style=\"color: #000080; text-decoration-color: #000080\">INFO    </span> <span style=\"color: #000000; text-decoration-color: #000000\">Number of raw events in CMS_WORKSHOP: </span><span style=\"color: #008080; text-decoration-color: #008080; font-weight: bold\">327</span><span style=\"color: #000000; text-decoration-color: #000000\">                                          </span><a href=\"file:///home/cms-jovyan/integration-challenge/cms/analysis/nondiff.py\" target=\"_blank\"><span style=\"color: #7f7f7f; text-decoration-color: #7f7f7f\">nondiff.py</span></a><span style=\"color: #7f7f7f; text-decoration-color: #7f7f7f\">:</span><a href=\"file:///home/cms-jovyan/integration-challenge/cms/analysis/nondiff.py#208\" target=\"_blank\"><span style=\"color: #7f7f7f; text-decoration-color: #7f7f7f\">208</span></a>\n",
       "</pre>\n"
      ],
      "text/plain": [
       "\u001b[2;36m        \u001b[0m\u001b[2;36m \u001b[0m\u001b[34mINFO    \u001b[0m \u001b[39mNumber of raw events in CMS_WORKSHOP: \u001b[0m\u001b[1;36m327\u001b[0m\u001b[39m                                         \u001b[0m\u001b[39m \u001b[0m\u001b]8;id=89713;file:///home/cms-jovyan/integration-challenge/cms/analysis/nondiff.py\u001b\\\u001b[2mnondiff.py\u001b[0m\u001b]8;;\u001b\\\u001b[2m:\u001b[0m\u001b]8;id=341038;file:///home/cms-jovyan/integration-challenge/cms/analysis/nondiff.py#208\u001b\\\u001b[2m208\u001b[0m\u001b]8;;\u001b\\\n"
      ]
     },
     "metadata": {},
     "output_type": "display_data"
    },
    {
     "data": {
      "text/html": [
       "<pre style=\"white-space:pre;overflow-x:auto;line-height:normal;font-family:Menlo,'DejaVu Sans Mono',consolas,'Courier New',monospace\"><span style=\"color: #7fbfbf; text-decoration-color: #7fbfbf\">         </span><span style=\"color: #000080; text-decoration-color: #000080\">INFO    </span> <span style=\"color: #000000; text-decoration-color: #000000\">Computing observable workshop_mtt                                                  </span><a href=\"file:///home/cms-jovyan/integration-challenge/cms/analysis/nondiff.py\" target=\"_blank\"><span style=\"color: #7f7f7f; text-decoration-color: #7f7f7f\">nondiff.py</span></a><span style=\"color: #7f7f7f; text-decoration-color: #7f7f7f\">:</span><a href=\"file:///home/cms-jovyan/integration-challenge/cms/analysis/nondiff.py#213\" target=\"_blank\"><span style=\"color: #7f7f7f; text-decoration-color: #7f7f7f\">213</span></a>\n",
       "</pre>\n"
      ],
      "text/plain": [
       "\u001b[2;36m        \u001b[0m\u001b[2;36m \u001b[0m\u001b[34mINFO    \u001b[0m \u001b[39mComputing observable workshop_mtt                                                 \u001b[0m\u001b[39m \u001b[0m\u001b]8;id=700472;file:///home/cms-jovyan/integration-challenge/cms/analysis/nondiff.py\u001b\\\u001b[2mnondiff.py\u001b[0m\u001b]8;;\u001b\\\u001b[2m:\u001b[0m\u001b]8;id=147186;file:///home/cms-jovyan/integration-challenge/cms/analysis/nondiff.py#213\u001b\\\u001b[2m213\u001b[0m\u001b]8;;\u001b\\\n"
      ]
     },
     "metadata": {},
     "output_type": "display_data"
    },
    {
     "data": {
      "text/html": [
       "<pre style=\"white-space:pre;overflow-x:auto;line-height:normal;font-family:Menlo,'DejaVu Sans Mono',consolas,'Courier New',monospace\"><span style=\"color: #7fbfbf; text-decoration-color: #7fbfbf\">13:47:49 </span><span style=\"color: #000080; text-decoration-color: #000080\">INFO    </span> <span style=\"color: #000000; text-decoration-color: #000000\">Applying selection for CMS_WORKSHOP in ttbar_lep with variation                    </span><a href=\"file:///home/cms-jovyan/integration-challenge/cms/analysis/nondiff.py\" target=\"_blank\"><span style=\"color: #7f7f7f; text-decoration-color: #7f7f7f\">nondiff.py</span></a><span style=\"color: #7f7f7f; text-decoration-color: #7f7f7f\">:</span><a href=\"file:///home/cms-jovyan/integration-challenge/cms/analysis/nondiff.py#154\" target=\"_blank\"><span style=\"color: #7f7f7f; text-decoration-color: #7f7f7f\">154</span></a>\n",
       "<span style=\"color: #7fbfbf; text-decoration-color: #7fbfbf\">         </span>         <span style=\"color: #000000; text-decoration-color: #000000\">jet_pt_resolution_up                                                               </span><span style=\"color: #7f7f7f; text-decoration-color: #7f7f7f\">              </span>\n",
       "</pre>\n"
      ],
      "text/plain": [
       "\u001b[2;36m13:47:49\u001b[0m\u001b[2;36m \u001b[0m\u001b[34mINFO    \u001b[0m \u001b[39mApplying selection for CMS_WORKSHOP in ttbar_lep with variation                   \u001b[0m\u001b[39m \u001b[0m\u001b]8;id=899636;file:///home/cms-jovyan/integration-challenge/cms/analysis/nondiff.py\u001b\\\u001b[2mnondiff.py\u001b[0m\u001b]8;;\u001b\\\u001b[2m:\u001b[0m\u001b]8;id=504508;file:///home/cms-jovyan/integration-challenge/cms/analysis/nondiff.py#154\u001b\\\u001b[2m154\u001b[0m\u001b]8;;\u001b\\\n",
       "\u001b[2;36m         \u001b[0m         \u001b[39mjet_pt_resolution_up                                                              \u001b[0m\u001b[39m \u001b[0m\u001b[2m              \u001b[0m\n"
      ]
     },
     "metadata": {},
     "output_type": "display_data"
    },
    {
     "data": {
      "text/html": [
       "<pre style=\"white-space:pre;overflow-x:auto;line-height:normal;font-family:Menlo,'DejaVu Sans Mono',consolas,'Courier New',monospace\"><span style=\"color: #7fbfbf; text-decoration-color: #7fbfbf\">         </span><span style=\"color: #000080; text-decoration-color: #000080\">INFO    </span> <span style=\"color: #000000; text-decoration-color: #000000\">Number of weighted events in CMS_WORKSHOP: </span><span style=\"color: #008080; text-decoration-color: #008080; font-weight: bold\">71.21</span><span style=\"color: #000000; text-decoration-color: #000000\">                                   </span><a href=\"file:///home/cms-jovyan/integration-challenge/cms/analysis/nondiff.py\" target=\"_blank\"><span style=\"color: #7f7f7f; text-decoration-color: #7f7f7f\">nondiff.py</span></a><span style=\"color: #7f7f7f; text-decoration-color: #7f7f7f\">:</span><a href=\"file:///home/cms-jovyan/integration-challenge/cms/analysis/nondiff.py#205\" target=\"_blank\"><span style=\"color: #7f7f7f; text-decoration-color: #7f7f7f\">205</span></a>\n",
       "</pre>\n"
      ],
      "text/plain": [
       "\u001b[2;36m        \u001b[0m\u001b[2;36m \u001b[0m\u001b[34mINFO    \u001b[0m \u001b[39mNumber of weighted events in CMS_WORKSHOP: \u001b[0m\u001b[1;36m71.21\u001b[0m\u001b[39m                                  \u001b[0m\u001b[39m \u001b[0m\u001b]8;id=15921;file:///home/cms-jovyan/integration-challenge/cms/analysis/nondiff.py\u001b\\\u001b[2mnondiff.py\u001b[0m\u001b]8;;\u001b\\\u001b[2m:\u001b[0m\u001b]8;id=251265;file:///home/cms-jovyan/integration-challenge/cms/analysis/nondiff.py#205\u001b\\\u001b[2m205\u001b[0m\u001b]8;;\u001b\\\n"
      ]
     },
     "metadata": {},
     "output_type": "display_data"
    },
    {
     "data": {
      "text/html": [
       "<pre style=\"white-space:pre;overflow-x:auto;line-height:normal;font-family:Menlo,'DejaVu Sans Mono',consolas,'Courier New',monospace\"><span style=\"color: #7fbfbf; text-decoration-color: #7fbfbf\">         </span><span style=\"color: #000080; text-decoration-color: #000080\">INFO    </span> <span style=\"color: #000000; text-decoration-color: #000000\">Number of raw events in CMS_WORKSHOP: </span><span style=\"color: #008080; text-decoration-color: #008080; font-weight: bold\">327</span><span style=\"color: #000000; text-decoration-color: #000000\">                                          </span><a href=\"file:///home/cms-jovyan/integration-challenge/cms/analysis/nondiff.py\" target=\"_blank\"><span style=\"color: #7f7f7f; text-decoration-color: #7f7f7f\">nondiff.py</span></a><span style=\"color: #7f7f7f; text-decoration-color: #7f7f7f\">:</span><a href=\"file:///home/cms-jovyan/integration-challenge/cms/analysis/nondiff.py#208\" target=\"_blank\"><span style=\"color: #7f7f7f; text-decoration-color: #7f7f7f\">208</span></a>\n",
       "</pre>\n"
      ],
      "text/plain": [
       "\u001b[2;36m        \u001b[0m\u001b[2;36m \u001b[0m\u001b[34mINFO    \u001b[0m \u001b[39mNumber of raw events in CMS_WORKSHOP: \u001b[0m\u001b[1;36m327\u001b[0m\u001b[39m                                         \u001b[0m\u001b[39m \u001b[0m\u001b]8;id=990951;file:///home/cms-jovyan/integration-challenge/cms/analysis/nondiff.py\u001b\\\u001b[2mnondiff.py\u001b[0m\u001b]8;;\u001b\\\u001b[2m:\u001b[0m\u001b]8;id=128495;file:///home/cms-jovyan/integration-challenge/cms/analysis/nondiff.py#208\u001b\\\u001b[2m208\u001b[0m\u001b]8;;\u001b\\\n"
      ]
     },
     "metadata": {},
     "output_type": "display_data"
    },
    {
     "data": {
      "text/html": [
       "<pre style=\"white-space:pre;overflow-x:auto;line-height:normal;font-family:Menlo,'DejaVu Sans Mono',consolas,'Courier New',monospace\"><span style=\"color: #7fbfbf; text-decoration-color: #7fbfbf\">         </span><span style=\"color: #000080; text-decoration-color: #000080\">INFO    </span> <span style=\"color: #000000; text-decoration-color: #000000\">Computing observable workshop_mtt                                                  </span><a href=\"file:///home/cms-jovyan/integration-challenge/cms/analysis/nondiff.py\" target=\"_blank\"><span style=\"color: #7f7f7f; text-decoration-color: #7f7f7f\">nondiff.py</span></a><span style=\"color: #7f7f7f; text-decoration-color: #7f7f7f\">:</span><a href=\"file:///home/cms-jovyan/integration-challenge/cms/analysis/nondiff.py#213\" target=\"_blank\"><span style=\"color: #7f7f7f; text-decoration-color: #7f7f7f\">213</span></a>\n",
       "</pre>\n"
      ],
      "text/plain": [
       "\u001b[2;36m        \u001b[0m\u001b[2;36m \u001b[0m\u001b[34mINFO    \u001b[0m \u001b[39mComputing observable workshop_mtt                                                 \u001b[0m\u001b[39m \u001b[0m\u001b]8;id=934243;file:///home/cms-jovyan/integration-challenge/cms/analysis/nondiff.py\u001b\\\u001b[2mnondiff.py\u001b[0m\u001b]8;;\u001b\\\u001b[2m:\u001b[0m\u001b]8;id=978961;file:///home/cms-jovyan/integration-challenge/cms/analysis/nondiff.py#213\u001b\\\u001b[2m213\u001b[0m\u001b]8;;\u001b\\\n"
      ]
     },
     "metadata": {},
     "output_type": "display_data"
    },
    {
     "data": {
      "text/html": [
       "<pre style=\"white-space:pre;overflow-x:auto;line-height:normal;font-family:Menlo,'DejaVu Sans Mono',consolas,'Courier New',monospace\"><span style=\"color: #7fbfbf; text-decoration-color: #7fbfbf\">         </span><span style=\"color: #000080; text-decoration-color: #000080\">INFO    </span> <span style=\"color: #000000; text-decoration-color: #000000\">Applying selection for CMS_WORKSHOP in ttbar_lep with variation                    </span><a href=\"file:///home/cms-jovyan/integration-challenge/cms/analysis/nondiff.py\" target=\"_blank\"><span style=\"color: #7f7f7f; text-decoration-color: #7f7f7f\">nondiff.py</span></a><span style=\"color: #7f7f7f; text-decoration-color: #7f7f7f\">:</span><a href=\"file:///home/cms-jovyan/integration-challenge/cms/analysis/nondiff.py#154\" target=\"_blank\"><span style=\"color: #7f7f7f; text-decoration-color: #7f7f7f\">154</span></a>\n",
       "<span style=\"color: #7fbfbf; text-decoration-color: #7fbfbf\">         </span>         <span style=\"color: #000000; text-decoration-color: #000000\">jet_pt_resolution_down                                                             </span><span style=\"color: #7f7f7f; text-decoration-color: #7f7f7f\">              </span>\n",
       "</pre>\n"
      ],
      "text/plain": [
       "\u001b[2;36m        \u001b[0m\u001b[2;36m \u001b[0m\u001b[34mINFO    \u001b[0m \u001b[39mApplying selection for CMS_WORKSHOP in ttbar_lep with variation                   \u001b[0m\u001b[39m \u001b[0m\u001b]8;id=312572;file:///home/cms-jovyan/integration-challenge/cms/analysis/nondiff.py\u001b\\\u001b[2mnondiff.py\u001b[0m\u001b]8;;\u001b\\\u001b[2m:\u001b[0m\u001b]8;id=935080;file:///home/cms-jovyan/integration-challenge/cms/analysis/nondiff.py#154\u001b\\\u001b[2m154\u001b[0m\u001b]8;;\u001b\\\n",
       "\u001b[2;36m         \u001b[0m         \u001b[39mjet_pt_resolution_down                                                            \u001b[0m\u001b[39m \u001b[0m\u001b[2m              \u001b[0m\n"
      ]
     },
     "metadata": {},
     "output_type": "display_data"
    },
    {
     "data": {
      "text/html": [
       "<pre style=\"white-space:pre;overflow-x:auto;line-height:normal;font-family:Menlo,'DejaVu Sans Mono',consolas,'Courier New',monospace\"><span style=\"color: #7fbfbf; text-decoration-color: #7fbfbf\">         </span><span style=\"color: #000080; text-decoration-color: #000080\">INFO    </span> <span style=\"color: #000000; text-decoration-color: #000000\">Number of weighted events in CMS_WORKSHOP: </span><span style=\"color: #008080; text-decoration-color: #008080; font-weight: bold\">71.21</span><span style=\"color: #000000; text-decoration-color: #000000\">                                   </span><a href=\"file:///home/cms-jovyan/integration-challenge/cms/analysis/nondiff.py\" target=\"_blank\"><span style=\"color: #7f7f7f; text-decoration-color: #7f7f7f\">nondiff.py</span></a><span style=\"color: #7f7f7f; text-decoration-color: #7f7f7f\">:</span><a href=\"file:///home/cms-jovyan/integration-challenge/cms/analysis/nondiff.py#205\" target=\"_blank\"><span style=\"color: #7f7f7f; text-decoration-color: #7f7f7f\">205</span></a>\n",
       "</pre>\n"
      ],
      "text/plain": [
       "\u001b[2;36m        \u001b[0m\u001b[2;36m \u001b[0m\u001b[34mINFO    \u001b[0m \u001b[39mNumber of weighted events in CMS_WORKSHOP: \u001b[0m\u001b[1;36m71.21\u001b[0m\u001b[39m                                  \u001b[0m\u001b[39m \u001b[0m\u001b]8;id=660108;file:///home/cms-jovyan/integration-challenge/cms/analysis/nondiff.py\u001b\\\u001b[2mnondiff.py\u001b[0m\u001b]8;;\u001b\\\u001b[2m:\u001b[0m\u001b]8;id=261652;file:///home/cms-jovyan/integration-challenge/cms/analysis/nondiff.py#205\u001b\\\u001b[2m205\u001b[0m\u001b]8;;\u001b\\\n"
      ]
     },
     "metadata": {},
     "output_type": "display_data"
    },
    {
     "data": {
      "text/html": [
       "<pre style=\"white-space:pre;overflow-x:auto;line-height:normal;font-family:Menlo,'DejaVu Sans Mono',consolas,'Courier New',monospace\"><span style=\"color: #7fbfbf; text-decoration-color: #7fbfbf\">         </span><span style=\"color: #000080; text-decoration-color: #000080\">INFO    </span> <span style=\"color: #000000; text-decoration-color: #000000\">Number of raw events in CMS_WORKSHOP: </span><span style=\"color: #008080; text-decoration-color: #008080; font-weight: bold\">327</span><span style=\"color: #000000; text-decoration-color: #000000\">                                          </span><a href=\"file:///home/cms-jovyan/integration-challenge/cms/analysis/nondiff.py\" target=\"_blank\"><span style=\"color: #7f7f7f; text-decoration-color: #7f7f7f\">nondiff.py</span></a><span style=\"color: #7f7f7f; text-decoration-color: #7f7f7f\">:</span><a href=\"file:///home/cms-jovyan/integration-challenge/cms/analysis/nondiff.py#208\" target=\"_blank\"><span style=\"color: #7f7f7f; text-decoration-color: #7f7f7f\">208</span></a>\n",
       "</pre>\n"
      ],
      "text/plain": [
       "\u001b[2;36m        \u001b[0m\u001b[2;36m \u001b[0m\u001b[34mINFO    \u001b[0m \u001b[39mNumber of raw events in CMS_WORKSHOP: \u001b[0m\u001b[1;36m327\u001b[0m\u001b[39m                                         \u001b[0m\u001b[39m \u001b[0m\u001b]8;id=49033;file:///home/cms-jovyan/integration-challenge/cms/analysis/nondiff.py\u001b\\\u001b[2mnondiff.py\u001b[0m\u001b]8;;\u001b\\\u001b[2m:\u001b[0m\u001b]8;id=105313;file:///home/cms-jovyan/integration-challenge/cms/analysis/nondiff.py#208\u001b\\\u001b[2m208\u001b[0m\u001b]8;;\u001b\\\n"
      ]
     },
     "metadata": {},
     "output_type": "display_data"
    },
    {
     "data": {
      "text/html": [
       "<pre style=\"white-space:pre;overflow-x:auto;line-height:normal;font-family:Menlo,'DejaVu Sans Mono',consolas,'Courier New',monospace\"><span style=\"color: #7fbfbf; text-decoration-color: #7fbfbf\">         </span><span style=\"color: #000080; text-decoration-color: #000080\">INFO    </span> <span style=\"color: #000000; text-decoration-color: #000000\">Computing observable workshop_mtt                                                  </span><a href=\"file:///home/cms-jovyan/integration-challenge/cms/analysis/nondiff.py\" target=\"_blank\"><span style=\"color: #7f7f7f; text-decoration-color: #7f7f7f\">nondiff.py</span></a><span style=\"color: #7f7f7f; text-decoration-color: #7f7f7f\">:</span><a href=\"file:///home/cms-jovyan/integration-challenge/cms/analysis/nondiff.py#213\" target=\"_blank\"><span style=\"color: #7f7f7f; text-decoration-color: #7f7f7f\">213</span></a>\n",
       "</pre>\n"
      ],
      "text/plain": [
       "\u001b[2;36m        \u001b[0m\u001b[2;36m \u001b[0m\u001b[34mINFO    \u001b[0m \u001b[39mComputing observable workshop_mtt                                                 \u001b[0m\u001b[39m \u001b[0m\u001b]8;id=826765;file:///home/cms-jovyan/integration-challenge/cms/analysis/nondiff.py\u001b\\\u001b[2mnondiff.py\u001b[0m\u001b]8;;\u001b\\\u001b[2m:\u001b[0m\u001b]8;id=644797;file:///home/cms-jovyan/integration-challenge/cms/analysis/nondiff.py#213\u001b\\\u001b[2m213\u001b[0m\u001b]8;;\u001b\\\n"
      ]
     },
     "metadata": {},
     "output_type": "display_data"
    },
    {
     "data": {
      "text/html": [
       "<pre style=\"white-space:pre;overflow-x:auto;line-height:normal;font-family:Menlo,'DejaVu Sans Mono',consolas,'Courier New',monospace\"><span style=\"color: #7fbfbf; text-decoration-color: #7fbfbf\">         </span><span style=\"color: #000080; text-decoration-color: #000080\">INFO    </span> <span style=\"color: #000000; text-decoration-color: #000000\">Applying selection for CMS_WORKSHOP in ttbar_lep with variation jet_pt_scale_up    </span><a href=\"file:///home/cms-jovyan/integration-challenge/cms/analysis/nondiff.py\" target=\"_blank\"><span style=\"color: #7f7f7f; text-decoration-color: #7f7f7f\">nondiff.py</span></a><span style=\"color: #7f7f7f; text-decoration-color: #7f7f7f\">:</span><a href=\"file:///home/cms-jovyan/integration-challenge/cms/analysis/nondiff.py#154\" target=\"_blank\"><span style=\"color: #7f7f7f; text-decoration-color: #7f7f7f\">154</span></a>\n",
       "</pre>\n"
      ],
      "text/plain": [
       "\u001b[2;36m        \u001b[0m\u001b[2;36m \u001b[0m\u001b[34mINFO    \u001b[0m \u001b[39mApplying selection for CMS_WORKSHOP in ttbar_lep with variation jet_pt_scale_up   \u001b[0m\u001b[39m \u001b[0m\u001b]8;id=701406;file:///home/cms-jovyan/integration-challenge/cms/analysis/nondiff.py\u001b\\\u001b[2mnondiff.py\u001b[0m\u001b]8;;\u001b\\\u001b[2m:\u001b[0m\u001b]8;id=683255;file:///home/cms-jovyan/integration-challenge/cms/analysis/nondiff.py#154\u001b\\\u001b[2m154\u001b[0m\u001b]8;;\u001b\\\n"
      ]
     },
     "metadata": {},
     "output_type": "display_data"
    },
    {
     "data": {
      "text/html": [
       "<pre style=\"white-space:pre;overflow-x:auto;line-height:normal;font-family:Menlo,'DejaVu Sans Mono',consolas,'Courier New',monospace\"><span style=\"color: #7fbfbf; text-decoration-color: #7fbfbf\">         </span><span style=\"color: #000080; text-decoration-color: #000080\">INFO    </span> <span style=\"color: #000000; text-decoration-color: #000000\">Number of weighted events in CMS_WORKSHOP: </span><span style=\"color: #008080; text-decoration-color: #008080; font-weight: bold\">71.21</span><span style=\"color: #000000; text-decoration-color: #000000\">                                   </span><a href=\"file:///home/cms-jovyan/integration-challenge/cms/analysis/nondiff.py\" target=\"_blank\"><span style=\"color: #7f7f7f; text-decoration-color: #7f7f7f\">nondiff.py</span></a><span style=\"color: #7f7f7f; text-decoration-color: #7f7f7f\">:</span><a href=\"file:///home/cms-jovyan/integration-challenge/cms/analysis/nondiff.py#205\" target=\"_blank\"><span style=\"color: #7f7f7f; text-decoration-color: #7f7f7f\">205</span></a>\n",
       "</pre>\n"
      ],
      "text/plain": [
       "\u001b[2;36m        \u001b[0m\u001b[2;36m \u001b[0m\u001b[34mINFO    \u001b[0m \u001b[39mNumber of weighted events in CMS_WORKSHOP: \u001b[0m\u001b[1;36m71.21\u001b[0m\u001b[39m                                  \u001b[0m\u001b[39m \u001b[0m\u001b]8;id=289786;file:///home/cms-jovyan/integration-challenge/cms/analysis/nondiff.py\u001b\\\u001b[2mnondiff.py\u001b[0m\u001b]8;;\u001b\\\u001b[2m:\u001b[0m\u001b]8;id=158995;file:///home/cms-jovyan/integration-challenge/cms/analysis/nondiff.py#205\u001b\\\u001b[2m205\u001b[0m\u001b]8;;\u001b\\\n"
      ]
     },
     "metadata": {},
     "output_type": "display_data"
    },
    {
     "data": {
      "text/html": [
       "<pre style=\"white-space:pre;overflow-x:auto;line-height:normal;font-family:Menlo,'DejaVu Sans Mono',consolas,'Courier New',monospace\"><span style=\"color: #7fbfbf; text-decoration-color: #7fbfbf\">         </span><span style=\"color: #000080; text-decoration-color: #000080\">INFO    </span> <span style=\"color: #000000; text-decoration-color: #000000\">Number of raw events in CMS_WORKSHOP: </span><span style=\"color: #008080; text-decoration-color: #008080; font-weight: bold\">327</span><span style=\"color: #000000; text-decoration-color: #000000\">                                          </span><a href=\"file:///home/cms-jovyan/integration-challenge/cms/analysis/nondiff.py\" target=\"_blank\"><span style=\"color: #7f7f7f; text-decoration-color: #7f7f7f\">nondiff.py</span></a><span style=\"color: #7f7f7f; text-decoration-color: #7f7f7f\">:</span><a href=\"file:///home/cms-jovyan/integration-challenge/cms/analysis/nondiff.py#208\" target=\"_blank\"><span style=\"color: #7f7f7f; text-decoration-color: #7f7f7f\">208</span></a>\n",
       "</pre>\n"
      ],
      "text/plain": [
       "\u001b[2;36m        \u001b[0m\u001b[2;36m \u001b[0m\u001b[34mINFO    \u001b[0m \u001b[39mNumber of raw events in CMS_WORKSHOP: \u001b[0m\u001b[1;36m327\u001b[0m\u001b[39m                                         \u001b[0m\u001b[39m \u001b[0m\u001b]8;id=889684;file:///home/cms-jovyan/integration-challenge/cms/analysis/nondiff.py\u001b\\\u001b[2mnondiff.py\u001b[0m\u001b]8;;\u001b\\\u001b[2m:\u001b[0m\u001b]8;id=463000;file:///home/cms-jovyan/integration-challenge/cms/analysis/nondiff.py#208\u001b\\\u001b[2m208\u001b[0m\u001b]8;;\u001b\\\n"
      ]
     },
     "metadata": {},
     "output_type": "display_data"
    },
    {
     "data": {
      "text/html": [
       "<pre style=\"white-space:pre;overflow-x:auto;line-height:normal;font-family:Menlo,'DejaVu Sans Mono',consolas,'Courier New',monospace\"><span style=\"color: #7fbfbf; text-decoration-color: #7fbfbf\">         </span><span style=\"color: #000080; text-decoration-color: #000080\">INFO    </span> <span style=\"color: #000000; text-decoration-color: #000000\">Computing observable workshop_mtt                                                  </span><a href=\"file:///home/cms-jovyan/integration-challenge/cms/analysis/nondiff.py\" target=\"_blank\"><span style=\"color: #7f7f7f; text-decoration-color: #7f7f7f\">nondiff.py</span></a><span style=\"color: #7f7f7f; text-decoration-color: #7f7f7f\">:</span><a href=\"file:///home/cms-jovyan/integration-challenge/cms/analysis/nondiff.py#213\" target=\"_blank\"><span style=\"color: #7f7f7f; text-decoration-color: #7f7f7f\">213</span></a>\n",
       "</pre>\n"
      ],
      "text/plain": [
       "\u001b[2;36m        \u001b[0m\u001b[2;36m \u001b[0m\u001b[34mINFO    \u001b[0m \u001b[39mComputing observable workshop_mtt                                                 \u001b[0m\u001b[39m \u001b[0m\u001b]8;id=718850;file:///home/cms-jovyan/integration-challenge/cms/analysis/nondiff.py\u001b\\\u001b[2mnondiff.py\u001b[0m\u001b]8;;\u001b\\\u001b[2m:\u001b[0m\u001b]8;id=588454;file:///home/cms-jovyan/integration-challenge/cms/analysis/nondiff.py#213\u001b\\\u001b[2m213\u001b[0m\u001b]8;;\u001b\\\n"
      ]
     },
     "metadata": {},
     "output_type": "display_data"
    },
    {
     "data": {
      "text/html": [
       "<pre style=\"white-space:pre;overflow-x:auto;line-height:normal;font-family:Menlo,'DejaVu Sans Mono',consolas,'Courier New',monospace\"><span style=\"color: #7fbfbf; text-decoration-color: #7fbfbf\">         </span><span style=\"color: #000080; text-decoration-color: #000080\">INFO    </span> <span style=\"color: #000000; text-decoration-color: #000000\">Applying selection for CMS_WORKSHOP in ttbar_lep with variation jet_pt_scale_down  </span><a href=\"file:///home/cms-jovyan/integration-challenge/cms/analysis/nondiff.py\" target=\"_blank\"><span style=\"color: #7f7f7f; text-decoration-color: #7f7f7f\">nondiff.py</span></a><span style=\"color: #7f7f7f; text-decoration-color: #7f7f7f\">:</span><a href=\"file:///home/cms-jovyan/integration-challenge/cms/analysis/nondiff.py#154\" target=\"_blank\"><span style=\"color: #7f7f7f; text-decoration-color: #7f7f7f\">154</span></a>\n",
       "</pre>\n"
      ],
      "text/plain": [
       "\u001b[2;36m        \u001b[0m\u001b[2;36m \u001b[0m\u001b[34mINFO    \u001b[0m \u001b[39mApplying selection for CMS_WORKSHOP in ttbar_lep with variation jet_pt_scale_down \u001b[0m\u001b[39m \u001b[0m\u001b]8;id=400216;file:///home/cms-jovyan/integration-challenge/cms/analysis/nondiff.py\u001b\\\u001b[2mnondiff.py\u001b[0m\u001b]8;;\u001b\\\u001b[2m:\u001b[0m\u001b]8;id=618496;file:///home/cms-jovyan/integration-challenge/cms/analysis/nondiff.py#154\u001b\\\u001b[2m154\u001b[0m\u001b]8;;\u001b\\\n"
      ]
     },
     "metadata": {},
     "output_type": "display_data"
    },
    {
     "data": {
      "text/html": [
       "<pre style=\"white-space:pre;overflow-x:auto;line-height:normal;font-family:Menlo,'DejaVu Sans Mono',consolas,'Courier New',monospace\"><span style=\"color: #7fbfbf; text-decoration-color: #7fbfbf\">         </span><span style=\"color: #000080; text-decoration-color: #000080\">INFO    </span> <span style=\"color: #000000; text-decoration-color: #000000\">Number of weighted events in CMS_WORKSHOP: </span><span style=\"color: #008080; text-decoration-color: #008080; font-weight: bold\">71.21</span><span style=\"color: #000000; text-decoration-color: #000000\">                                   </span><a href=\"file:///home/cms-jovyan/integration-challenge/cms/analysis/nondiff.py\" target=\"_blank\"><span style=\"color: #7f7f7f; text-decoration-color: #7f7f7f\">nondiff.py</span></a><span style=\"color: #7f7f7f; text-decoration-color: #7f7f7f\">:</span><a href=\"file:///home/cms-jovyan/integration-challenge/cms/analysis/nondiff.py#205\" target=\"_blank\"><span style=\"color: #7f7f7f; text-decoration-color: #7f7f7f\">205</span></a>\n",
       "</pre>\n"
      ],
      "text/plain": [
       "\u001b[2;36m        \u001b[0m\u001b[2;36m \u001b[0m\u001b[34mINFO    \u001b[0m \u001b[39mNumber of weighted events in CMS_WORKSHOP: \u001b[0m\u001b[1;36m71.21\u001b[0m\u001b[39m                                  \u001b[0m\u001b[39m \u001b[0m\u001b]8;id=534586;file:///home/cms-jovyan/integration-challenge/cms/analysis/nondiff.py\u001b\\\u001b[2mnondiff.py\u001b[0m\u001b]8;;\u001b\\\u001b[2m:\u001b[0m\u001b]8;id=434652;file:///home/cms-jovyan/integration-challenge/cms/analysis/nondiff.py#205\u001b\\\u001b[2m205\u001b[0m\u001b]8;;\u001b\\\n"
      ]
     },
     "metadata": {},
     "output_type": "display_data"
    },
    {
     "data": {
      "text/html": [
       "<pre style=\"white-space:pre;overflow-x:auto;line-height:normal;font-family:Menlo,'DejaVu Sans Mono',consolas,'Courier New',monospace\"><span style=\"color: #7fbfbf; text-decoration-color: #7fbfbf\">         </span><span style=\"color: #000080; text-decoration-color: #000080\">INFO    </span> <span style=\"color: #000000; text-decoration-color: #000000\">Number of raw events in CMS_WORKSHOP: </span><span style=\"color: #008080; text-decoration-color: #008080; font-weight: bold\">327</span><span style=\"color: #000000; text-decoration-color: #000000\">                                          </span><a href=\"file:///home/cms-jovyan/integration-challenge/cms/analysis/nondiff.py\" target=\"_blank\"><span style=\"color: #7f7f7f; text-decoration-color: #7f7f7f\">nondiff.py</span></a><span style=\"color: #7f7f7f; text-decoration-color: #7f7f7f\">:</span><a href=\"file:///home/cms-jovyan/integration-challenge/cms/analysis/nondiff.py#208\" target=\"_blank\"><span style=\"color: #7f7f7f; text-decoration-color: #7f7f7f\">208</span></a>\n",
       "</pre>\n"
      ],
      "text/plain": [
       "\u001b[2;36m        \u001b[0m\u001b[2;36m \u001b[0m\u001b[34mINFO    \u001b[0m \u001b[39mNumber of raw events in CMS_WORKSHOP: \u001b[0m\u001b[1;36m327\u001b[0m\u001b[39m                                         \u001b[0m\u001b[39m \u001b[0m\u001b]8;id=834593;file:///home/cms-jovyan/integration-challenge/cms/analysis/nondiff.py\u001b\\\u001b[2mnondiff.py\u001b[0m\u001b]8;;\u001b\\\u001b[2m:\u001b[0m\u001b]8;id=494162;file:///home/cms-jovyan/integration-challenge/cms/analysis/nondiff.py#208\u001b\\\u001b[2m208\u001b[0m\u001b]8;;\u001b\\\n"
      ]
     },
     "metadata": {},
     "output_type": "display_data"
    },
    {
     "data": {
      "text/html": [
       "<pre style=\"white-space:pre;overflow-x:auto;line-height:normal;font-family:Menlo,'DejaVu Sans Mono',consolas,'Courier New',monospace\"><span style=\"color: #7fbfbf; text-decoration-color: #7fbfbf\">         </span><span style=\"color: #000080; text-decoration-color: #000080\">INFO    </span> <span style=\"color: #000000; text-decoration-color: #000000\">Computing observable workshop_mtt                                                  </span><a href=\"file:///home/cms-jovyan/integration-challenge/cms/analysis/nondiff.py\" target=\"_blank\"><span style=\"color: #7f7f7f; text-decoration-color: #7f7f7f\">nondiff.py</span></a><span style=\"color: #7f7f7f; text-decoration-color: #7f7f7f\">:</span><a href=\"file:///home/cms-jovyan/integration-challenge/cms/analysis/nondiff.py#213\" target=\"_blank\"><span style=\"color: #7f7f7f; text-decoration-color: #7f7f7f\">213</span></a>\n",
       "</pre>\n"
      ],
      "text/plain": [
       "\u001b[2;36m        \u001b[0m\u001b[2;36m \u001b[0m\u001b[34mINFO    \u001b[0m \u001b[39mComputing observable workshop_mtt                                                 \u001b[0m\u001b[39m \u001b[0m\u001b]8;id=61707;file:///home/cms-jovyan/integration-challenge/cms/analysis/nondiff.py\u001b\\\u001b[2mnondiff.py\u001b[0m\u001b]8;;\u001b\\\u001b[2m:\u001b[0m\u001b]8;id=60140;file:///home/cms-jovyan/integration-challenge/cms/analysis/nondiff.py#213\u001b\\\u001b[2m213\u001b[0m\u001b]8;;\u001b\\\n"
      ]
     },
     "metadata": {},
     "output_type": "display_data"
    },
    {
     "data": {
      "text/html": [
       "<pre style=\"white-space:pre;overflow-x:auto;line-height:normal;font-family:Menlo,'DejaVu Sans Mono',consolas,'Courier New',monospace\"><span style=\"color: #7fbfbf; text-decoration-color: #7fbfbf\">         </span><span style=\"color: #000080; text-decoration-color: #000080\">INFO    </span> <span style=\"color: #000000; text-decoration-color: #000000\">Applying selection for CMS_WORKSHOP in ttbar_lep with variation pu_weight_up       </span><a href=\"file:///home/cms-jovyan/integration-challenge/cms/analysis/nondiff.py\" target=\"_blank\"><span style=\"color: #7f7f7f; text-decoration-color: #7f7f7f\">nondiff.py</span></a><span style=\"color: #7f7f7f; text-decoration-color: #7f7f7f\">:</span><a href=\"file:///home/cms-jovyan/integration-challenge/cms/analysis/nondiff.py#154\" target=\"_blank\"><span style=\"color: #7f7f7f; text-decoration-color: #7f7f7f\">154</span></a>\n",
       "</pre>\n"
      ],
      "text/plain": [
       "\u001b[2;36m        \u001b[0m\u001b[2;36m \u001b[0m\u001b[34mINFO    \u001b[0m \u001b[39mApplying selection for CMS_WORKSHOP in ttbar_lep with variation pu_weight_up      \u001b[0m\u001b[39m \u001b[0m\u001b]8;id=38290;file:///home/cms-jovyan/integration-challenge/cms/analysis/nondiff.py\u001b\\\u001b[2mnondiff.py\u001b[0m\u001b]8;;\u001b\\\u001b[2m:\u001b[0m\u001b]8;id=265188;file:///home/cms-jovyan/integration-challenge/cms/analysis/nondiff.py#154\u001b\\\u001b[2m154\u001b[0m\u001b]8;;\u001b\\\n"
      ]
     },
     "metadata": {},
     "output_type": "display_data"
    },
    {
     "data": {
      "text/html": [
       "<pre style=\"white-space:pre;overflow-x:auto;line-height:normal;font-family:Menlo,'DejaVu Sans Mono',consolas,'Courier New',monospace\"><span style=\"color: #7fbfbf; text-decoration-color: #7fbfbf\">         </span><span style=\"color: #000080; text-decoration-color: #000080\">INFO    </span> <span style=\"color: #000000; text-decoration-color: #000000\">Applying correction: pu_weight/Collisions16_UltraLegacy_goldenJSON </span><span style=\"color: #000000; text-decoration-color: #000000; font-weight: bold\">(</span><span style=\"color: #000000; text-decoration-color: #000000\">up</span><span style=\"color: #000000; text-decoration-color: #000000; font-weight: bold\">)</span><span style=\"color: #000000; text-decoration-color: #000000\">               </span><a href=\"file:///home/cms-jovyan/integration-challenge/cms/analysis/base.py\" target=\"_blank\"><span style=\"color: #7f7f7f; text-decoration-color: #7f7f7f\">base.py</span></a><span style=\"color: #7f7f7f; text-decoration-color: #7f7f7f\">:</span><a href=\"file:///home/cms-jovyan/integration-challenge/cms/analysis/base.py#247\" target=\"_blank\"><span style=\"color: #7f7f7f; text-decoration-color: #7f7f7f\">247</span></a>\n",
       "</pre>\n"
      ],
      "text/plain": [
       "\u001b[2;36m        \u001b[0m\u001b[2;36m \u001b[0m\u001b[34mINFO    \u001b[0m \u001b[39mApplying correction: pu_weight/Collisions16_UltraLegacy_goldenJSON \u001b[0m\u001b[1;39m(\u001b[0m\u001b[39mup\u001b[0m\u001b[1;39m)\u001b[0m\u001b[39m              \u001b[0m\u001b[39m \u001b[0m\u001b]8;id=128873;file:///home/cms-jovyan/integration-challenge/cms/analysis/base.py\u001b\\\u001b[2mbase.py\u001b[0m\u001b]8;;\u001b\\\u001b[2m:\u001b[0m\u001b]8;id=322288;file:///home/cms-jovyan/integration-challenge/cms/analysis/base.py#247\u001b\\\u001b[2m247\u001b[0m\u001b]8;;\u001b\\\n"
      ]
     },
     "metadata": {},
     "output_type": "display_data"
    },
    {
     "data": {
      "text/html": [
       "<pre style=\"white-space:pre;overflow-x:auto;line-height:normal;font-family:Menlo,'DejaVu Sans Mono',consolas,'Courier New',monospace\"><span style=\"color: #7fbfbf; text-decoration-color: #7fbfbf\">         </span><span style=\"color: #000080; text-decoration-color: #000080\">INFO    </span> <span style=\"color: #000000; text-decoration-color: #000000\">Number of weighted events in CMS_WORKSHOP: </span><span style=\"color: #008080; text-decoration-color: #008080; font-weight: bold\">351.81</span><span style=\"color: #000000; text-decoration-color: #000000\">                                  </span><a href=\"file:///home/cms-jovyan/integration-challenge/cms/analysis/nondiff.py\" target=\"_blank\"><span style=\"color: #7f7f7f; text-decoration-color: #7f7f7f\">nondiff.py</span></a><span style=\"color: #7f7f7f; text-decoration-color: #7f7f7f\">:</span><a href=\"file:///home/cms-jovyan/integration-challenge/cms/analysis/nondiff.py#205\" target=\"_blank\"><span style=\"color: #7f7f7f; text-decoration-color: #7f7f7f\">205</span></a>\n",
       "</pre>\n"
      ],
      "text/plain": [
       "\u001b[2;36m        \u001b[0m\u001b[2;36m \u001b[0m\u001b[34mINFO    \u001b[0m \u001b[39mNumber of weighted events in CMS_WORKSHOP: \u001b[0m\u001b[1;36m351.81\u001b[0m\u001b[39m                                 \u001b[0m\u001b[39m \u001b[0m\u001b]8;id=391328;file:///home/cms-jovyan/integration-challenge/cms/analysis/nondiff.py\u001b\\\u001b[2mnondiff.py\u001b[0m\u001b]8;;\u001b\\\u001b[2m:\u001b[0m\u001b]8;id=114724;file:///home/cms-jovyan/integration-challenge/cms/analysis/nondiff.py#205\u001b\\\u001b[2m205\u001b[0m\u001b]8;;\u001b\\\n"
      ]
     },
     "metadata": {},
     "output_type": "display_data"
    },
    {
     "data": {
      "text/html": [
       "<pre style=\"white-space:pre;overflow-x:auto;line-height:normal;font-family:Menlo,'DejaVu Sans Mono',consolas,'Courier New',monospace\"><span style=\"color: #7fbfbf; text-decoration-color: #7fbfbf\">         </span><span style=\"color: #000080; text-decoration-color: #000080\">INFO    </span> <span style=\"color: #000000; text-decoration-color: #000000\">Number of raw events in CMS_WORKSHOP: </span><span style=\"color: #008080; text-decoration-color: #008080; font-weight: bold\">327</span><span style=\"color: #000000; text-decoration-color: #000000\">                                          </span><a href=\"file:///home/cms-jovyan/integration-challenge/cms/analysis/nondiff.py\" target=\"_blank\"><span style=\"color: #7f7f7f; text-decoration-color: #7f7f7f\">nondiff.py</span></a><span style=\"color: #7f7f7f; text-decoration-color: #7f7f7f\">:</span><a href=\"file:///home/cms-jovyan/integration-challenge/cms/analysis/nondiff.py#208\" target=\"_blank\"><span style=\"color: #7f7f7f; text-decoration-color: #7f7f7f\">208</span></a>\n",
       "</pre>\n"
      ],
      "text/plain": [
       "\u001b[2;36m        \u001b[0m\u001b[2;36m \u001b[0m\u001b[34mINFO    \u001b[0m \u001b[39mNumber of raw events in CMS_WORKSHOP: \u001b[0m\u001b[1;36m327\u001b[0m\u001b[39m                                         \u001b[0m\u001b[39m \u001b[0m\u001b]8;id=754681;file:///home/cms-jovyan/integration-challenge/cms/analysis/nondiff.py\u001b\\\u001b[2mnondiff.py\u001b[0m\u001b]8;;\u001b\\\u001b[2m:\u001b[0m\u001b]8;id=610207;file:///home/cms-jovyan/integration-challenge/cms/analysis/nondiff.py#208\u001b\\\u001b[2m208\u001b[0m\u001b]8;;\u001b\\\n"
      ]
     },
     "metadata": {},
     "output_type": "display_data"
    },
    {
     "data": {
      "text/html": [
       "<pre style=\"white-space:pre;overflow-x:auto;line-height:normal;font-family:Menlo,'DejaVu Sans Mono',consolas,'Courier New',monospace\"><span style=\"color: #7fbfbf; text-decoration-color: #7fbfbf\">         </span><span style=\"color: #000080; text-decoration-color: #000080\">INFO    </span> <span style=\"color: #000000; text-decoration-color: #000000\">Computing observable workshop_mtt                                                  </span><a href=\"file:///home/cms-jovyan/integration-challenge/cms/analysis/nondiff.py\" target=\"_blank\"><span style=\"color: #7f7f7f; text-decoration-color: #7f7f7f\">nondiff.py</span></a><span style=\"color: #7f7f7f; text-decoration-color: #7f7f7f\">:</span><a href=\"file:///home/cms-jovyan/integration-challenge/cms/analysis/nondiff.py#213\" target=\"_blank\"><span style=\"color: #7f7f7f; text-decoration-color: #7f7f7f\">213</span></a>\n",
       "</pre>\n"
      ],
      "text/plain": [
       "\u001b[2;36m        \u001b[0m\u001b[2;36m \u001b[0m\u001b[34mINFO    \u001b[0m \u001b[39mComputing observable workshop_mtt                                                 \u001b[0m\u001b[39m \u001b[0m\u001b]8;id=844674;file:///home/cms-jovyan/integration-challenge/cms/analysis/nondiff.py\u001b\\\u001b[2mnondiff.py\u001b[0m\u001b]8;;\u001b\\\u001b[2m:\u001b[0m\u001b]8;id=660411;file:///home/cms-jovyan/integration-challenge/cms/analysis/nondiff.py#213\u001b\\\u001b[2m213\u001b[0m\u001b]8;;\u001b\\\n"
      ]
     },
     "metadata": {},
     "output_type": "display_data"
    },
    {
     "data": {
      "text/html": [
       "<pre style=\"white-space:pre;overflow-x:auto;line-height:normal;font-family:Menlo,'DejaVu Sans Mono',consolas,'Courier New',monospace\"><span style=\"color: #7fbfbf; text-decoration-color: #7fbfbf\">         </span><span style=\"color: #000080; text-decoration-color: #000080\">INFO    </span> <span style=\"color: #000000; text-decoration-color: #000000\">Applying selection for CMS_WORKSHOP in ttbar_lep with variation pu_weight_down     </span><a href=\"file:///home/cms-jovyan/integration-challenge/cms/analysis/nondiff.py\" target=\"_blank\"><span style=\"color: #7f7f7f; text-decoration-color: #7f7f7f\">nondiff.py</span></a><span style=\"color: #7f7f7f; text-decoration-color: #7f7f7f\">:</span><a href=\"file:///home/cms-jovyan/integration-challenge/cms/analysis/nondiff.py#154\" target=\"_blank\"><span style=\"color: #7f7f7f; text-decoration-color: #7f7f7f\">154</span></a>\n",
       "</pre>\n"
      ],
      "text/plain": [
       "\u001b[2;36m        \u001b[0m\u001b[2;36m \u001b[0m\u001b[34mINFO    \u001b[0m \u001b[39mApplying selection for CMS_WORKSHOP in ttbar_lep with variation pu_weight_down    \u001b[0m\u001b[39m \u001b[0m\u001b]8;id=662569;file:///home/cms-jovyan/integration-challenge/cms/analysis/nondiff.py\u001b\\\u001b[2mnondiff.py\u001b[0m\u001b]8;;\u001b\\\u001b[2m:\u001b[0m\u001b]8;id=488702;file:///home/cms-jovyan/integration-challenge/cms/analysis/nondiff.py#154\u001b\\\u001b[2m154\u001b[0m\u001b]8;;\u001b\\\n"
      ]
     },
     "metadata": {},
     "output_type": "display_data"
    },
    {
     "data": {
      "text/html": [
       "<pre style=\"white-space:pre;overflow-x:auto;line-height:normal;font-family:Menlo,'DejaVu Sans Mono',consolas,'Courier New',monospace\"><span style=\"color: #7fbfbf; text-decoration-color: #7fbfbf\">         </span><span style=\"color: #000080; text-decoration-color: #000080\">INFO    </span> <span style=\"color: #000000; text-decoration-color: #000000\">Applying correction: pu_weight/Collisions16_UltraLegacy_goldenJSON </span><span style=\"color: #000000; text-decoration-color: #000000; font-weight: bold\">(</span><span style=\"color: #000000; text-decoration-color: #000000\">down</span><span style=\"color: #000000; text-decoration-color: #000000; font-weight: bold\">)</span><span style=\"color: #000000; text-decoration-color: #000000\">             </span><a href=\"file:///home/cms-jovyan/integration-challenge/cms/analysis/base.py\" target=\"_blank\"><span style=\"color: #7f7f7f; text-decoration-color: #7f7f7f\">base.py</span></a><span style=\"color: #7f7f7f; text-decoration-color: #7f7f7f\">:</span><a href=\"file:///home/cms-jovyan/integration-challenge/cms/analysis/base.py#247\" target=\"_blank\"><span style=\"color: #7f7f7f; text-decoration-color: #7f7f7f\">247</span></a>\n",
       "</pre>\n"
      ],
      "text/plain": [
       "\u001b[2;36m        \u001b[0m\u001b[2;36m \u001b[0m\u001b[34mINFO    \u001b[0m \u001b[39mApplying correction: pu_weight/Collisions16_UltraLegacy_goldenJSON \u001b[0m\u001b[1;39m(\u001b[0m\u001b[39mdown\u001b[0m\u001b[1;39m)\u001b[0m\u001b[39m            \u001b[0m\u001b[39m \u001b[0m\u001b]8;id=812312;file:///home/cms-jovyan/integration-challenge/cms/analysis/base.py\u001b\\\u001b[2mbase.py\u001b[0m\u001b]8;;\u001b\\\u001b[2m:\u001b[0m\u001b]8;id=281603;file:///home/cms-jovyan/integration-challenge/cms/analysis/base.py#247\u001b\\\u001b[2m247\u001b[0m\u001b]8;;\u001b\\\n"
      ]
     },
     "metadata": {},
     "output_type": "display_data"
    },
    {
     "data": {
      "text/html": [
       "<pre style=\"white-space:pre;overflow-x:auto;line-height:normal;font-family:Menlo,'DejaVu Sans Mono',consolas,'Courier New',monospace\"><span style=\"color: #7fbfbf; text-decoration-color: #7fbfbf\">         </span><span style=\"color: #000080; text-decoration-color: #000080\">INFO    </span> <span style=\"color: #000000; text-decoration-color: #000000\">Number of weighted events in CMS_WORKSHOP: </span><span style=\"color: #008080; text-decoration-color: #008080; font-weight: bold\">335.01</span><span style=\"color: #000000; text-decoration-color: #000000\">                                  </span><a href=\"file:///home/cms-jovyan/integration-challenge/cms/analysis/nondiff.py\" target=\"_blank\"><span style=\"color: #7f7f7f; text-decoration-color: #7f7f7f\">nondiff.py</span></a><span style=\"color: #7f7f7f; text-decoration-color: #7f7f7f\">:</span><a href=\"file:///home/cms-jovyan/integration-challenge/cms/analysis/nondiff.py#205\" target=\"_blank\"><span style=\"color: #7f7f7f; text-decoration-color: #7f7f7f\">205</span></a>\n",
       "</pre>\n"
      ],
      "text/plain": [
       "\u001b[2;36m        \u001b[0m\u001b[2;36m \u001b[0m\u001b[34mINFO    \u001b[0m \u001b[39mNumber of weighted events in CMS_WORKSHOP: \u001b[0m\u001b[1;36m335.01\u001b[0m\u001b[39m                                 \u001b[0m\u001b[39m \u001b[0m\u001b]8;id=599625;file:///home/cms-jovyan/integration-challenge/cms/analysis/nondiff.py\u001b\\\u001b[2mnondiff.py\u001b[0m\u001b]8;;\u001b\\\u001b[2m:\u001b[0m\u001b]8;id=4796;file:///home/cms-jovyan/integration-challenge/cms/analysis/nondiff.py#205\u001b\\\u001b[2m205\u001b[0m\u001b]8;;\u001b\\\n"
      ]
     },
     "metadata": {},
     "output_type": "display_data"
    },
    {
     "data": {
      "text/html": [
       "<pre style=\"white-space:pre;overflow-x:auto;line-height:normal;font-family:Menlo,'DejaVu Sans Mono',consolas,'Courier New',monospace\"><span style=\"color: #7fbfbf; text-decoration-color: #7fbfbf\">         </span><span style=\"color: #000080; text-decoration-color: #000080\">INFO    </span> <span style=\"color: #000000; text-decoration-color: #000000\">Number of raw events in CMS_WORKSHOP: </span><span style=\"color: #008080; text-decoration-color: #008080; font-weight: bold\">327</span><span style=\"color: #000000; text-decoration-color: #000000\">                                          </span><a href=\"file:///home/cms-jovyan/integration-challenge/cms/analysis/nondiff.py\" target=\"_blank\"><span style=\"color: #7f7f7f; text-decoration-color: #7f7f7f\">nondiff.py</span></a><span style=\"color: #7f7f7f; text-decoration-color: #7f7f7f\">:</span><a href=\"file:///home/cms-jovyan/integration-challenge/cms/analysis/nondiff.py#208\" target=\"_blank\"><span style=\"color: #7f7f7f; text-decoration-color: #7f7f7f\">208</span></a>\n",
       "</pre>\n"
      ],
      "text/plain": [
       "\u001b[2;36m        \u001b[0m\u001b[2;36m \u001b[0m\u001b[34mINFO    \u001b[0m \u001b[39mNumber of raw events in CMS_WORKSHOP: \u001b[0m\u001b[1;36m327\u001b[0m\u001b[39m                                         \u001b[0m\u001b[39m \u001b[0m\u001b]8;id=329526;file:///home/cms-jovyan/integration-challenge/cms/analysis/nondiff.py\u001b\\\u001b[2mnondiff.py\u001b[0m\u001b]8;;\u001b\\\u001b[2m:\u001b[0m\u001b]8;id=756754;file:///home/cms-jovyan/integration-challenge/cms/analysis/nondiff.py#208\u001b\\\u001b[2m208\u001b[0m\u001b]8;;\u001b\\\n"
      ]
     },
     "metadata": {},
     "output_type": "display_data"
    },
    {
     "data": {
      "text/html": [
       "<pre style=\"white-space:pre;overflow-x:auto;line-height:normal;font-family:Menlo,'DejaVu Sans Mono',consolas,'Courier New',monospace\"><span style=\"color: #7fbfbf; text-decoration-color: #7fbfbf\">         </span><span style=\"color: #000080; text-decoration-color: #000080\">INFO    </span> <span style=\"color: #000000; text-decoration-color: #000000\">Computing observable workshop_mtt                                                  </span><a href=\"file:///home/cms-jovyan/integration-challenge/cms/analysis/nondiff.py\" target=\"_blank\"><span style=\"color: #7f7f7f; text-decoration-color: #7f7f7f\">nondiff.py</span></a><span style=\"color: #7f7f7f; text-decoration-color: #7f7f7f\">:</span><a href=\"file:///home/cms-jovyan/integration-challenge/cms/analysis/nondiff.py#213\" target=\"_blank\"><span style=\"color: #7f7f7f; text-decoration-color: #7f7f7f\">213</span></a>\n",
       "</pre>\n"
      ],
      "text/plain": [
       "\u001b[2;36m        \u001b[0m\u001b[2;36m \u001b[0m\u001b[34mINFO    \u001b[0m \u001b[39mComputing observable workshop_mtt                                                 \u001b[0m\u001b[39m \u001b[0m\u001b]8;id=781898;file:///home/cms-jovyan/integration-challenge/cms/analysis/nondiff.py\u001b\\\u001b[2mnondiff.py\u001b[0m\u001b]8;;\u001b\\\u001b[2m:\u001b[0m\u001b]8;id=621039;file:///home/cms-jovyan/integration-challenge/cms/analysis/nondiff.py#213\u001b\\\u001b[2m213\u001b[0m\u001b]8;;\u001b\\\n"
      ]
     },
     "metadata": {},
     "output_type": "display_data"
    },
    {
     "data": {
      "text/html": [
       "<pre style=\"white-space:pre;overflow-x:auto;line-height:normal;font-family:Menlo,'DejaVu Sans Mono',consolas,'Courier New',monospace\"><span style=\"color: #7fbfbf; text-decoration-color: #7fbfbf\">         </span><span style=\"color: #000080; text-decoration-color: #000080\">INFO    </span> <span style=\"color: #000000; text-decoration-color: #000000\">Applying selection for CMS_WORKSHOP in ttbar_lep with variation muon_id_sf_up      </span><a href=\"file:///home/cms-jovyan/integration-challenge/cms/analysis/nondiff.py\" target=\"_blank\"><span style=\"color: #7f7f7f; text-decoration-color: #7f7f7f\">nondiff.py</span></a><span style=\"color: #7f7f7f; text-decoration-color: #7f7f7f\">:</span><a href=\"file:///home/cms-jovyan/integration-challenge/cms/analysis/nondiff.py#154\" target=\"_blank\"><span style=\"color: #7f7f7f; text-decoration-color: #7f7f7f\">154</span></a>\n",
       "</pre>\n"
      ],
      "text/plain": [
       "\u001b[2;36m        \u001b[0m\u001b[2;36m \u001b[0m\u001b[34mINFO    \u001b[0m \u001b[39mApplying selection for CMS_WORKSHOP in ttbar_lep with variation muon_id_sf_up     \u001b[0m\u001b[39m \u001b[0m\u001b]8;id=922750;file:///home/cms-jovyan/integration-challenge/cms/analysis/nondiff.py\u001b\\\u001b[2mnondiff.py\u001b[0m\u001b]8;;\u001b\\\u001b[2m:\u001b[0m\u001b]8;id=800292;file:///home/cms-jovyan/integration-challenge/cms/analysis/nondiff.py#154\u001b\\\u001b[2m154\u001b[0m\u001b]8;;\u001b\\\n"
      ]
     },
     "metadata": {},
     "output_type": "display_data"
    },
    {
     "data": {
      "text/html": [
       "<pre style=\"white-space:pre;overflow-x:auto;line-height:normal;font-family:Menlo,'DejaVu Sans Mono',consolas,'Courier New',monospace\"><span style=\"color: #7fbfbf; text-decoration-color: #7fbfbf\">         </span><span style=\"color: #000080; text-decoration-color: #000080\">INFO    </span> <span style=\"color: #000000; text-decoration-color: #000000\">Applying correction: muon_id_sf/NUM_TightID_DEN_TrackerMuons </span><span style=\"color: #000000; text-decoration-color: #000000; font-weight: bold\">(</span><span style=\"color: #000000; text-decoration-color: #000000\">systup</span><span style=\"color: #000000; text-decoration-color: #000000; font-weight: bold\">)</span><span style=\"color: #000000; text-decoration-color: #000000\">                 </span><a href=\"file:///home/cms-jovyan/integration-challenge/cms/analysis/base.py\" target=\"_blank\"><span style=\"color: #7f7f7f; text-decoration-color: #7f7f7f\">base.py</span></a><span style=\"color: #7f7f7f; text-decoration-color: #7f7f7f\">:</span><a href=\"file:///home/cms-jovyan/integration-challenge/cms/analysis/base.py#247\" target=\"_blank\"><span style=\"color: #7f7f7f; text-decoration-color: #7f7f7f\">247</span></a>\n",
       "</pre>\n"
      ],
      "text/plain": [
       "\u001b[2;36m        \u001b[0m\u001b[2;36m \u001b[0m\u001b[34mINFO    \u001b[0m \u001b[39mApplying correction: muon_id_sf/NUM_TightID_DEN_TrackerMuons \u001b[0m\u001b[1;39m(\u001b[0m\u001b[39msystup\u001b[0m\u001b[1;39m)\u001b[0m\u001b[39m                \u001b[0m\u001b[39m \u001b[0m\u001b]8;id=325763;file:///home/cms-jovyan/integration-challenge/cms/analysis/base.py\u001b\\\u001b[2mbase.py\u001b[0m\u001b]8;;\u001b\\\u001b[2m:\u001b[0m\u001b]8;id=756335;file:///home/cms-jovyan/integration-challenge/cms/analysis/base.py#247\u001b\\\u001b[2m247\u001b[0m\u001b]8;;\u001b\\\n"
      ]
     },
     "metadata": {},
     "output_type": "display_data"
    },
    {
     "data": {
      "text/html": [
       "<pre style=\"white-space:pre;overflow-x:auto;line-height:normal;font-family:Menlo,'DejaVu Sans Mono',consolas,'Courier New',monospace\"><span style=\"color: #7fbfbf; text-decoration-color: #7fbfbf\">         </span><span style=\"color: #000080; text-decoration-color: #000080\">INFO    </span> <span style=\"color: #000000; text-decoration-color: #000000\">Number of weighted events in CMS_WORKSHOP: </span><span style=\"color: #008080; text-decoration-color: #008080; font-weight: bold\">322.76</span><span style=\"color: #000000; text-decoration-color: #000000\">                                  </span><a href=\"file:///home/cms-jovyan/integration-challenge/cms/analysis/nondiff.py\" target=\"_blank\"><span style=\"color: #7f7f7f; text-decoration-color: #7f7f7f\">nondiff.py</span></a><span style=\"color: #7f7f7f; text-decoration-color: #7f7f7f\">:</span><a href=\"file:///home/cms-jovyan/integration-challenge/cms/analysis/nondiff.py#205\" target=\"_blank\"><span style=\"color: #7f7f7f; text-decoration-color: #7f7f7f\">205</span></a>\n",
       "</pre>\n"
      ],
      "text/plain": [
       "\u001b[2;36m        \u001b[0m\u001b[2;36m \u001b[0m\u001b[34mINFO    \u001b[0m \u001b[39mNumber of weighted events in CMS_WORKSHOP: \u001b[0m\u001b[1;36m322.76\u001b[0m\u001b[39m                                 \u001b[0m\u001b[39m \u001b[0m\u001b]8;id=780593;file:///home/cms-jovyan/integration-challenge/cms/analysis/nondiff.py\u001b\\\u001b[2mnondiff.py\u001b[0m\u001b]8;;\u001b\\\u001b[2m:\u001b[0m\u001b]8;id=590385;file:///home/cms-jovyan/integration-challenge/cms/analysis/nondiff.py#205\u001b\\\u001b[2m205\u001b[0m\u001b]8;;\u001b\\\n"
      ]
     },
     "metadata": {},
     "output_type": "display_data"
    },
    {
     "data": {
      "text/html": [
       "<pre style=\"white-space:pre;overflow-x:auto;line-height:normal;font-family:Menlo,'DejaVu Sans Mono',consolas,'Courier New',monospace\"><span style=\"color: #7fbfbf; text-decoration-color: #7fbfbf\">         </span><span style=\"color: #000080; text-decoration-color: #000080\">INFO    </span> <span style=\"color: #000000; text-decoration-color: #000000\">Number of raw events in CMS_WORKSHOP: </span><span style=\"color: #008080; text-decoration-color: #008080; font-weight: bold\">327</span><span style=\"color: #000000; text-decoration-color: #000000\">                                          </span><a href=\"file:///home/cms-jovyan/integration-challenge/cms/analysis/nondiff.py\" target=\"_blank\"><span style=\"color: #7f7f7f; text-decoration-color: #7f7f7f\">nondiff.py</span></a><span style=\"color: #7f7f7f; text-decoration-color: #7f7f7f\">:</span><a href=\"file:///home/cms-jovyan/integration-challenge/cms/analysis/nondiff.py#208\" target=\"_blank\"><span style=\"color: #7f7f7f; text-decoration-color: #7f7f7f\">208</span></a>\n",
       "</pre>\n"
      ],
      "text/plain": [
       "\u001b[2;36m        \u001b[0m\u001b[2;36m \u001b[0m\u001b[34mINFO    \u001b[0m \u001b[39mNumber of raw events in CMS_WORKSHOP: \u001b[0m\u001b[1;36m327\u001b[0m\u001b[39m                                         \u001b[0m\u001b[39m \u001b[0m\u001b]8;id=408701;file:///home/cms-jovyan/integration-challenge/cms/analysis/nondiff.py\u001b\\\u001b[2mnondiff.py\u001b[0m\u001b]8;;\u001b\\\u001b[2m:\u001b[0m\u001b]8;id=647622;file:///home/cms-jovyan/integration-challenge/cms/analysis/nondiff.py#208\u001b\\\u001b[2m208\u001b[0m\u001b]8;;\u001b\\\n"
      ]
     },
     "metadata": {},
     "output_type": "display_data"
    },
    {
     "data": {
      "text/html": [
       "<pre style=\"white-space:pre;overflow-x:auto;line-height:normal;font-family:Menlo,'DejaVu Sans Mono',consolas,'Courier New',monospace\"><span style=\"color: #7fbfbf; text-decoration-color: #7fbfbf\">         </span><span style=\"color: #000080; text-decoration-color: #000080\">INFO    </span> <span style=\"color: #000000; text-decoration-color: #000000\">Computing observable workshop_mtt                                                  </span><a href=\"file:///home/cms-jovyan/integration-challenge/cms/analysis/nondiff.py\" target=\"_blank\"><span style=\"color: #7f7f7f; text-decoration-color: #7f7f7f\">nondiff.py</span></a><span style=\"color: #7f7f7f; text-decoration-color: #7f7f7f\">:</span><a href=\"file:///home/cms-jovyan/integration-challenge/cms/analysis/nondiff.py#213\" target=\"_blank\"><span style=\"color: #7f7f7f; text-decoration-color: #7f7f7f\">213</span></a>\n",
       "</pre>\n"
      ],
      "text/plain": [
       "\u001b[2;36m        \u001b[0m\u001b[2;36m \u001b[0m\u001b[34mINFO    \u001b[0m \u001b[39mComputing observable workshop_mtt                                                 \u001b[0m\u001b[39m \u001b[0m\u001b]8;id=72970;file:///home/cms-jovyan/integration-challenge/cms/analysis/nondiff.py\u001b\\\u001b[2mnondiff.py\u001b[0m\u001b]8;;\u001b\\\u001b[2m:\u001b[0m\u001b]8;id=201509;file:///home/cms-jovyan/integration-challenge/cms/analysis/nondiff.py#213\u001b\\\u001b[2m213\u001b[0m\u001b]8;;\u001b\\\n"
      ]
     },
     "metadata": {},
     "output_type": "display_data"
    },
    {
     "data": {
      "text/html": [
       "<pre style=\"white-space:pre;overflow-x:auto;line-height:normal;font-family:Menlo,'DejaVu Sans Mono',consolas,'Courier New',monospace\"><span style=\"color: #7fbfbf; text-decoration-color: #7fbfbf\">         </span><span style=\"color: #000080; text-decoration-color: #000080\">INFO    </span> <span style=\"color: #000000; text-decoration-color: #000000\">Applying selection for CMS_WORKSHOP in ttbar_lep with variation muon_id_sf_down    </span><a href=\"file:///home/cms-jovyan/integration-challenge/cms/analysis/nondiff.py\" target=\"_blank\"><span style=\"color: #7f7f7f; text-decoration-color: #7f7f7f\">nondiff.py</span></a><span style=\"color: #7f7f7f; text-decoration-color: #7f7f7f\">:</span><a href=\"file:///home/cms-jovyan/integration-challenge/cms/analysis/nondiff.py#154\" target=\"_blank\"><span style=\"color: #7f7f7f; text-decoration-color: #7f7f7f\">154</span></a>\n",
       "</pre>\n"
      ],
      "text/plain": [
       "\u001b[2;36m        \u001b[0m\u001b[2;36m \u001b[0m\u001b[34mINFO    \u001b[0m \u001b[39mApplying selection for CMS_WORKSHOP in ttbar_lep with variation muon_id_sf_down   \u001b[0m\u001b[39m \u001b[0m\u001b]8;id=115507;file:///home/cms-jovyan/integration-challenge/cms/analysis/nondiff.py\u001b\\\u001b[2mnondiff.py\u001b[0m\u001b]8;;\u001b\\\u001b[2m:\u001b[0m\u001b]8;id=199445;file:///home/cms-jovyan/integration-challenge/cms/analysis/nondiff.py#154\u001b\\\u001b[2m154\u001b[0m\u001b]8;;\u001b\\\n"
      ]
     },
     "metadata": {},
     "output_type": "display_data"
    },
    {
     "data": {
      "text/html": [
       "<pre style=\"white-space:pre;overflow-x:auto;line-height:normal;font-family:Menlo,'DejaVu Sans Mono',consolas,'Courier New',monospace\"><span style=\"color: #7fbfbf; text-decoration-color: #7fbfbf\">         </span><span style=\"color: #000080; text-decoration-color: #000080\">INFO    </span> <span style=\"color: #000000; text-decoration-color: #000000\">Applying correction: muon_id_sf/NUM_TightID_DEN_TrackerMuons </span><span style=\"color: #000000; text-decoration-color: #000000; font-weight: bold\">(</span><span style=\"color: #000000; text-decoration-color: #000000\">systdown</span><span style=\"color: #000000; text-decoration-color: #000000; font-weight: bold\">)</span><span style=\"color: #000000; text-decoration-color: #000000\">               </span><a href=\"file:///home/cms-jovyan/integration-challenge/cms/analysis/base.py\" target=\"_blank\"><span style=\"color: #7f7f7f; text-decoration-color: #7f7f7f\">base.py</span></a><span style=\"color: #7f7f7f; text-decoration-color: #7f7f7f\">:</span><a href=\"file:///home/cms-jovyan/integration-challenge/cms/analysis/base.py#247\" target=\"_blank\"><span style=\"color: #7f7f7f; text-decoration-color: #7f7f7f\">247</span></a>\n",
       "</pre>\n"
      ],
      "text/plain": [
       "\u001b[2;36m        \u001b[0m\u001b[2;36m \u001b[0m\u001b[34mINFO    \u001b[0m \u001b[39mApplying correction: muon_id_sf/NUM_TightID_DEN_TrackerMuons \u001b[0m\u001b[1;39m(\u001b[0m\u001b[39msystdown\u001b[0m\u001b[1;39m)\u001b[0m\u001b[39m              \u001b[0m\u001b[39m \u001b[0m\u001b]8;id=346709;file:///home/cms-jovyan/integration-challenge/cms/analysis/base.py\u001b\\\u001b[2mbase.py\u001b[0m\u001b]8;;\u001b\\\u001b[2m:\u001b[0m\u001b]8;id=335704;file:///home/cms-jovyan/integration-challenge/cms/analysis/base.py#247\u001b\\\u001b[2m247\u001b[0m\u001b]8;;\u001b\\\n"
      ]
     },
     "metadata": {},
     "output_type": "display_data"
    },
    {
     "data": {
      "text/html": [
       "<pre style=\"white-space:pre;overflow-x:auto;line-height:normal;font-family:Menlo,'DejaVu Sans Mono',consolas,'Courier New',monospace\"><span style=\"color: #7fbfbf; text-decoration-color: #7fbfbf\">         </span><span style=\"color: #000080; text-decoration-color: #000080\">INFO    </span> <span style=\"color: #000000; text-decoration-color: #000000\">Number of weighted events in CMS_WORKSHOP: </span><span style=\"color: #008080; text-decoration-color: #008080; font-weight: bold\">321.06</span><span style=\"color: #000000; text-decoration-color: #000000\">                                  </span><a href=\"file:///home/cms-jovyan/integration-challenge/cms/analysis/nondiff.py\" target=\"_blank\"><span style=\"color: #7f7f7f; text-decoration-color: #7f7f7f\">nondiff.py</span></a><span style=\"color: #7f7f7f; text-decoration-color: #7f7f7f\">:</span><a href=\"file:///home/cms-jovyan/integration-challenge/cms/analysis/nondiff.py#205\" target=\"_blank\"><span style=\"color: #7f7f7f; text-decoration-color: #7f7f7f\">205</span></a>\n",
       "</pre>\n"
      ],
      "text/plain": [
       "\u001b[2;36m        \u001b[0m\u001b[2;36m \u001b[0m\u001b[34mINFO    \u001b[0m \u001b[39mNumber of weighted events in CMS_WORKSHOP: \u001b[0m\u001b[1;36m321.06\u001b[0m\u001b[39m                                 \u001b[0m\u001b[39m \u001b[0m\u001b]8;id=788038;file:///home/cms-jovyan/integration-challenge/cms/analysis/nondiff.py\u001b\\\u001b[2mnondiff.py\u001b[0m\u001b]8;;\u001b\\\u001b[2m:\u001b[0m\u001b]8;id=997786;file:///home/cms-jovyan/integration-challenge/cms/analysis/nondiff.py#205\u001b\\\u001b[2m205\u001b[0m\u001b]8;;\u001b\\\n"
      ]
     },
     "metadata": {},
     "output_type": "display_data"
    },
    {
     "data": {
      "text/html": [
       "<pre style=\"white-space:pre;overflow-x:auto;line-height:normal;font-family:Menlo,'DejaVu Sans Mono',consolas,'Courier New',monospace\"><span style=\"color: #7fbfbf; text-decoration-color: #7fbfbf\">         </span><span style=\"color: #000080; text-decoration-color: #000080\">INFO    </span> <span style=\"color: #000000; text-decoration-color: #000000\">Number of raw events in CMS_WORKSHOP: </span><span style=\"color: #008080; text-decoration-color: #008080; font-weight: bold\">327</span><span style=\"color: #000000; text-decoration-color: #000000\">                                          </span><a href=\"file:///home/cms-jovyan/integration-challenge/cms/analysis/nondiff.py\" target=\"_blank\"><span style=\"color: #7f7f7f; text-decoration-color: #7f7f7f\">nondiff.py</span></a><span style=\"color: #7f7f7f; text-decoration-color: #7f7f7f\">:</span><a href=\"file:///home/cms-jovyan/integration-challenge/cms/analysis/nondiff.py#208\" target=\"_blank\"><span style=\"color: #7f7f7f; text-decoration-color: #7f7f7f\">208</span></a>\n",
       "</pre>\n"
      ],
      "text/plain": [
       "\u001b[2;36m        \u001b[0m\u001b[2;36m \u001b[0m\u001b[34mINFO    \u001b[0m \u001b[39mNumber of raw events in CMS_WORKSHOP: \u001b[0m\u001b[1;36m327\u001b[0m\u001b[39m                                         \u001b[0m\u001b[39m \u001b[0m\u001b]8;id=400096;file:///home/cms-jovyan/integration-challenge/cms/analysis/nondiff.py\u001b\\\u001b[2mnondiff.py\u001b[0m\u001b]8;;\u001b\\\u001b[2m:\u001b[0m\u001b]8;id=125018;file:///home/cms-jovyan/integration-challenge/cms/analysis/nondiff.py#208\u001b\\\u001b[2m208\u001b[0m\u001b]8;;\u001b\\\n"
      ]
     },
     "metadata": {},
     "output_type": "display_data"
    },
    {
     "data": {
      "text/html": [
       "<pre style=\"white-space:pre;overflow-x:auto;line-height:normal;font-family:Menlo,'DejaVu Sans Mono',consolas,'Courier New',monospace\"><span style=\"color: #7fbfbf; text-decoration-color: #7fbfbf\">         </span><span style=\"color: #000080; text-decoration-color: #000080\">INFO    </span> <span style=\"color: #000000; text-decoration-color: #000000\">Computing observable workshop_mtt                                                  </span><a href=\"file:///home/cms-jovyan/integration-challenge/cms/analysis/nondiff.py\" target=\"_blank\"><span style=\"color: #7f7f7f; text-decoration-color: #7f7f7f\">nondiff.py</span></a><span style=\"color: #7f7f7f; text-decoration-color: #7f7f7f\">:</span><a href=\"file:///home/cms-jovyan/integration-challenge/cms/analysis/nondiff.py#213\" target=\"_blank\"><span style=\"color: #7f7f7f; text-decoration-color: #7f7f7f\">213</span></a>\n",
       "</pre>\n"
      ],
      "text/plain": [
       "\u001b[2;36m        \u001b[0m\u001b[2;36m \u001b[0m\u001b[34mINFO    \u001b[0m \u001b[39mComputing observable workshop_mtt                                                 \u001b[0m\u001b[39m \u001b[0m\u001b]8;id=976136;file:///home/cms-jovyan/integration-challenge/cms/analysis/nondiff.py\u001b\\\u001b[2mnondiff.py\u001b[0m\u001b]8;;\u001b\\\u001b[2m:\u001b[0m\u001b]8;id=873809;file:///home/cms-jovyan/integration-challenge/cms/analysis/nondiff.py#213\u001b\\\u001b[2m213\u001b[0m\u001b]8;;\u001b\\\n"
      ]
     },
     "metadata": {},
     "output_type": "display_data"
    },
    {
     "name": "stdout",
     "output_type": "stream",
     "text": [
      "📊 Processing dataset: ttbar_had__nominal\n",
      "   • Processing 8495 events with metadata: ttbar_had\n"
     ]
    },
    {
     "data": {
      "text/html": [
       "<pre style=\"white-space:pre;overflow-x:auto;line-height:normal;font-family:Menlo,'DejaVu Sans Mono',consolas,'Courier New',monospace\"><span style=\"color: #7fbfbf; text-decoration-color: #7fbfbf\">         </span><span style=\"color: #000080; text-decoration-color: #000080\">INFO    </span> <span style=\"color: #000000; text-decoration-color: #000000\">Applying selection for CMS_WORKSHOP in ttbar_had with variation nominal            </span><a href=\"file:///home/cms-jovyan/integration-challenge/cms/analysis/nondiff.py\" target=\"_blank\"><span style=\"color: #7f7f7f; text-decoration-color: #7f7f7f\">nondiff.py</span></a><span style=\"color: #7f7f7f; text-decoration-color: #7f7f7f\">:</span><a href=\"file:///home/cms-jovyan/integration-challenge/cms/analysis/nondiff.py#154\" target=\"_blank\"><span style=\"color: #7f7f7f; text-decoration-color: #7f7f7f\">154</span></a>\n",
       "</pre>\n"
      ],
      "text/plain": [
       "\u001b[2;36m        \u001b[0m\u001b[2;36m \u001b[0m\u001b[34mINFO    \u001b[0m \u001b[39mApplying selection for CMS_WORKSHOP in ttbar_had with variation nominal           \u001b[0m\u001b[39m \u001b[0m\u001b]8;id=101771;file:///home/cms-jovyan/integration-challenge/cms/analysis/nondiff.py\u001b\\\u001b[2mnondiff.py\u001b[0m\u001b]8;;\u001b\\\u001b[2m:\u001b[0m\u001b]8;id=249544;file:///home/cms-jovyan/integration-challenge/cms/analysis/nondiff.py#154\u001b\\\u001b[2m154\u001b[0m\u001b]8;;\u001b\\\n"
      ]
     },
     "metadata": {},
     "output_type": "display_data"
    },
    {
     "data": {
      "text/html": [
       "<pre style=\"white-space:pre;overflow-x:auto;line-height:normal;font-family:Menlo,'DejaVu Sans Mono',consolas,'Courier New',monospace\"><span style=\"color: #7fbfbf; text-decoration-color: #7fbfbf\">         </span><span style=\"color: #000080; text-decoration-color: #000080\">INFO    </span> <span style=\"color: #000000; text-decoration-color: #000000\">Number of weighted events in CMS_WORKSHOP: </span><span style=\"color: #008080; text-decoration-color: #008080; font-weight: bold\">8.53</span><span style=\"color: #000000; text-decoration-color: #000000\">                                    </span><a href=\"file:///home/cms-jovyan/integration-challenge/cms/analysis/nondiff.py\" target=\"_blank\"><span style=\"color: #7f7f7f; text-decoration-color: #7f7f7f\">nondiff.py</span></a><span style=\"color: #7f7f7f; text-decoration-color: #7f7f7f\">:</span><a href=\"file:///home/cms-jovyan/integration-challenge/cms/analysis/nondiff.py#205\" target=\"_blank\"><span style=\"color: #7f7f7f; text-decoration-color: #7f7f7f\">205</span></a>\n",
       "</pre>\n"
      ],
      "text/plain": [
       "\u001b[2;36m        \u001b[0m\u001b[2;36m \u001b[0m\u001b[34mINFO    \u001b[0m \u001b[39mNumber of weighted events in CMS_WORKSHOP: \u001b[0m\u001b[1;36m8.53\u001b[0m\u001b[39m                                   \u001b[0m\u001b[39m \u001b[0m\u001b]8;id=460037;file:///home/cms-jovyan/integration-challenge/cms/analysis/nondiff.py\u001b\\\u001b[2mnondiff.py\u001b[0m\u001b]8;;\u001b\\\u001b[2m:\u001b[0m\u001b]8;id=263613;file:///home/cms-jovyan/integration-challenge/cms/analysis/nondiff.py#205\u001b\\\u001b[2m205\u001b[0m\u001b]8;;\u001b\\\n"
      ]
     },
     "metadata": {},
     "output_type": "display_data"
    },
    {
     "data": {
      "text/html": [
       "<pre style=\"white-space:pre;overflow-x:auto;line-height:normal;font-family:Menlo,'DejaVu Sans Mono',consolas,'Courier New',monospace\"><span style=\"color: #7fbfbf; text-decoration-color: #7fbfbf\">         </span><span style=\"color: #000080; text-decoration-color: #000080\">INFO    </span> <span style=\"color: #000000; text-decoration-color: #000000\">Number of raw events in CMS_WORKSHOP: </span><span style=\"color: #008080; text-decoration-color: #008080; font-weight: bold\">9</span><span style=\"color: #000000; text-decoration-color: #000000\">                                            </span><a href=\"file:///home/cms-jovyan/integration-challenge/cms/analysis/nondiff.py\" target=\"_blank\"><span style=\"color: #7f7f7f; text-decoration-color: #7f7f7f\">nondiff.py</span></a><span style=\"color: #7f7f7f; text-decoration-color: #7f7f7f\">:</span><a href=\"file:///home/cms-jovyan/integration-challenge/cms/analysis/nondiff.py#208\" target=\"_blank\"><span style=\"color: #7f7f7f; text-decoration-color: #7f7f7f\">208</span></a>\n",
       "</pre>\n"
      ],
      "text/plain": [
       "\u001b[2;36m        \u001b[0m\u001b[2;36m \u001b[0m\u001b[34mINFO    \u001b[0m \u001b[39mNumber of raw events in CMS_WORKSHOP: \u001b[0m\u001b[1;36m9\u001b[0m\u001b[39m                                           \u001b[0m\u001b[39m \u001b[0m\u001b]8;id=759707;file:///home/cms-jovyan/integration-challenge/cms/analysis/nondiff.py\u001b\\\u001b[2mnondiff.py\u001b[0m\u001b]8;;\u001b\\\u001b[2m:\u001b[0m\u001b]8;id=861844;file:///home/cms-jovyan/integration-challenge/cms/analysis/nondiff.py#208\u001b\\\u001b[2m208\u001b[0m\u001b]8;;\u001b\\\n"
      ]
     },
     "metadata": {},
     "output_type": "display_data"
    },
    {
     "data": {
      "text/html": [
       "<pre style=\"white-space:pre;overflow-x:auto;line-height:normal;font-family:Menlo,'DejaVu Sans Mono',consolas,'Courier New',monospace\"><span style=\"color: #7fbfbf; text-decoration-color: #7fbfbf\">         </span><span style=\"color: #000080; text-decoration-color: #000080\">INFO    </span> <span style=\"color: #000000; text-decoration-color: #000000\">Computing observable workshop_mtt                                                  </span><a href=\"file:///home/cms-jovyan/integration-challenge/cms/analysis/nondiff.py\" target=\"_blank\"><span style=\"color: #7f7f7f; text-decoration-color: #7f7f7f\">nondiff.py</span></a><span style=\"color: #7f7f7f; text-decoration-color: #7f7f7f\">:</span><a href=\"file:///home/cms-jovyan/integration-challenge/cms/analysis/nondiff.py#213\" target=\"_blank\"><span style=\"color: #7f7f7f; text-decoration-color: #7f7f7f\">213</span></a>\n",
       "</pre>\n"
      ],
      "text/plain": [
       "\u001b[2;36m        \u001b[0m\u001b[2;36m \u001b[0m\u001b[34mINFO    \u001b[0m \u001b[39mComputing observable workshop_mtt                                                 \u001b[0m\u001b[39m \u001b[0m\u001b]8;id=780200;file:///home/cms-jovyan/integration-challenge/cms/analysis/nondiff.py\u001b\\\u001b[2mnondiff.py\u001b[0m\u001b]8;;\u001b\\\u001b[2m:\u001b[0m\u001b]8;id=965943;file:///home/cms-jovyan/integration-challenge/cms/analysis/nondiff.py#213\u001b\\\u001b[2m213\u001b[0m\u001b]8;;\u001b\\\n"
      ]
     },
     "metadata": {},
     "output_type": "display_data"
    },
    {
     "data": {
      "text/html": [
       "<pre style=\"white-space:pre;overflow-x:auto;line-height:normal;font-family:Menlo,'DejaVu Sans Mono',consolas,'Courier New',monospace\"><span style=\"color: #7fbfbf; text-decoration-color: #7fbfbf\">         </span><span style=\"color: #000080; text-decoration-color: #000080\">INFO    </span> <span style=\"color: #000000; text-decoration-color: #000000\">Applying selection for CMS_WORKSHOP in ttbar_had with variation                    </span><a href=\"file:///home/cms-jovyan/integration-challenge/cms/analysis/nondiff.py\" target=\"_blank\"><span style=\"color: #7f7f7f; text-decoration-color: #7f7f7f\">nondiff.py</span></a><span style=\"color: #7f7f7f; text-decoration-color: #7f7f7f\">:</span><a href=\"file:///home/cms-jovyan/integration-challenge/cms/analysis/nondiff.py#154\" target=\"_blank\"><span style=\"color: #7f7f7f; text-decoration-color: #7f7f7f\">154</span></a>\n",
       "<span style=\"color: #7fbfbf; text-decoration-color: #7fbfbf\">         </span>         <span style=\"color: #000000; text-decoration-color: #000000\">jet_pt_resolution_up                                                               </span><span style=\"color: #7f7f7f; text-decoration-color: #7f7f7f\">              </span>\n",
       "</pre>\n"
      ],
      "text/plain": [
       "\u001b[2;36m        \u001b[0m\u001b[2;36m \u001b[0m\u001b[34mINFO    \u001b[0m \u001b[39mApplying selection for CMS_WORKSHOP in ttbar_had with variation                   \u001b[0m\u001b[39m \u001b[0m\u001b]8;id=517912;file:///home/cms-jovyan/integration-challenge/cms/analysis/nondiff.py\u001b\\\u001b[2mnondiff.py\u001b[0m\u001b]8;;\u001b\\\u001b[2m:\u001b[0m\u001b]8;id=28734;file:///home/cms-jovyan/integration-challenge/cms/analysis/nondiff.py#154\u001b\\\u001b[2m154\u001b[0m\u001b]8;;\u001b\\\n",
       "\u001b[2;36m         \u001b[0m         \u001b[39mjet_pt_resolution_up                                                              \u001b[0m\u001b[39m \u001b[0m\u001b[2m              \u001b[0m\n"
      ]
     },
     "metadata": {},
     "output_type": "display_data"
    },
    {
     "data": {
      "text/html": [
       "<pre style=\"white-space:pre;overflow-x:auto;line-height:normal;font-family:Menlo,'DejaVu Sans Mono',consolas,'Courier New',monospace\"><span style=\"color: #7fbfbf; text-decoration-color: #7fbfbf\">         </span><span style=\"color: #000080; text-decoration-color: #000080\">INFO    </span> <span style=\"color: #000000; text-decoration-color: #000000\">Number of weighted events in CMS_WORKSHOP: </span><span style=\"color: #008080; text-decoration-color: #008080; font-weight: bold\">8.53</span><span style=\"color: #000000; text-decoration-color: #000000\">                                    </span><a href=\"file:///home/cms-jovyan/integration-challenge/cms/analysis/nondiff.py\" target=\"_blank\"><span style=\"color: #7f7f7f; text-decoration-color: #7f7f7f\">nondiff.py</span></a><span style=\"color: #7f7f7f; text-decoration-color: #7f7f7f\">:</span><a href=\"file:///home/cms-jovyan/integration-challenge/cms/analysis/nondiff.py#205\" target=\"_blank\"><span style=\"color: #7f7f7f; text-decoration-color: #7f7f7f\">205</span></a>\n",
       "</pre>\n"
      ],
      "text/plain": [
       "\u001b[2;36m        \u001b[0m\u001b[2;36m \u001b[0m\u001b[34mINFO    \u001b[0m \u001b[39mNumber of weighted events in CMS_WORKSHOP: \u001b[0m\u001b[1;36m8.53\u001b[0m\u001b[39m                                   \u001b[0m\u001b[39m \u001b[0m\u001b]8;id=292980;file:///home/cms-jovyan/integration-challenge/cms/analysis/nondiff.py\u001b\\\u001b[2mnondiff.py\u001b[0m\u001b]8;;\u001b\\\u001b[2m:\u001b[0m\u001b]8;id=384967;file:///home/cms-jovyan/integration-challenge/cms/analysis/nondiff.py#205\u001b\\\u001b[2m205\u001b[0m\u001b]8;;\u001b\\\n"
      ]
     },
     "metadata": {},
     "output_type": "display_data"
    },
    {
     "data": {
      "text/html": [
       "<pre style=\"white-space:pre;overflow-x:auto;line-height:normal;font-family:Menlo,'DejaVu Sans Mono',consolas,'Courier New',monospace\"><span style=\"color: #7fbfbf; text-decoration-color: #7fbfbf\">         </span><span style=\"color: #000080; text-decoration-color: #000080\">INFO    </span> <span style=\"color: #000000; text-decoration-color: #000000\">Number of raw events in CMS_WORKSHOP: </span><span style=\"color: #008080; text-decoration-color: #008080; font-weight: bold\">9</span><span style=\"color: #000000; text-decoration-color: #000000\">                                            </span><a href=\"file:///home/cms-jovyan/integration-challenge/cms/analysis/nondiff.py\" target=\"_blank\"><span style=\"color: #7f7f7f; text-decoration-color: #7f7f7f\">nondiff.py</span></a><span style=\"color: #7f7f7f; text-decoration-color: #7f7f7f\">:</span><a href=\"file:///home/cms-jovyan/integration-challenge/cms/analysis/nondiff.py#208\" target=\"_blank\"><span style=\"color: #7f7f7f; text-decoration-color: #7f7f7f\">208</span></a>\n",
       "</pre>\n"
      ],
      "text/plain": [
       "\u001b[2;36m        \u001b[0m\u001b[2;36m \u001b[0m\u001b[34mINFO    \u001b[0m \u001b[39mNumber of raw events in CMS_WORKSHOP: \u001b[0m\u001b[1;36m9\u001b[0m\u001b[39m                                           \u001b[0m\u001b[39m \u001b[0m\u001b]8;id=554891;file:///home/cms-jovyan/integration-challenge/cms/analysis/nondiff.py\u001b\\\u001b[2mnondiff.py\u001b[0m\u001b]8;;\u001b\\\u001b[2m:\u001b[0m\u001b]8;id=367298;file:///home/cms-jovyan/integration-challenge/cms/analysis/nondiff.py#208\u001b\\\u001b[2m208\u001b[0m\u001b]8;;\u001b\\\n"
      ]
     },
     "metadata": {},
     "output_type": "display_data"
    },
    {
     "data": {
      "text/html": [
       "<pre style=\"white-space:pre;overflow-x:auto;line-height:normal;font-family:Menlo,'DejaVu Sans Mono',consolas,'Courier New',monospace\"><span style=\"color: #7fbfbf; text-decoration-color: #7fbfbf\">         </span><span style=\"color: #000080; text-decoration-color: #000080\">INFO    </span> <span style=\"color: #000000; text-decoration-color: #000000\">Computing observable workshop_mtt                                                  </span><a href=\"file:///home/cms-jovyan/integration-challenge/cms/analysis/nondiff.py\" target=\"_blank\"><span style=\"color: #7f7f7f; text-decoration-color: #7f7f7f\">nondiff.py</span></a><span style=\"color: #7f7f7f; text-decoration-color: #7f7f7f\">:</span><a href=\"file:///home/cms-jovyan/integration-challenge/cms/analysis/nondiff.py#213\" target=\"_blank\"><span style=\"color: #7f7f7f; text-decoration-color: #7f7f7f\">213</span></a>\n",
       "</pre>\n"
      ],
      "text/plain": [
       "\u001b[2;36m        \u001b[0m\u001b[2;36m \u001b[0m\u001b[34mINFO    \u001b[0m \u001b[39mComputing observable workshop_mtt                                                 \u001b[0m\u001b[39m \u001b[0m\u001b]8;id=249867;file:///home/cms-jovyan/integration-challenge/cms/analysis/nondiff.py\u001b\\\u001b[2mnondiff.py\u001b[0m\u001b]8;;\u001b\\\u001b[2m:\u001b[0m\u001b]8;id=3835;file:///home/cms-jovyan/integration-challenge/cms/analysis/nondiff.py#213\u001b\\\u001b[2m213\u001b[0m\u001b]8;;\u001b\\\n"
      ]
     },
     "metadata": {},
     "output_type": "display_data"
    },
    {
     "data": {
      "text/html": [
       "<pre style=\"white-space:pre;overflow-x:auto;line-height:normal;font-family:Menlo,'DejaVu Sans Mono',consolas,'Courier New',monospace\"><span style=\"color: #7fbfbf; text-decoration-color: #7fbfbf\">         </span><span style=\"color: #000080; text-decoration-color: #000080\">INFO    </span> <span style=\"color: #000000; text-decoration-color: #000000\">Applying selection for CMS_WORKSHOP in ttbar_had with variation                    </span><a href=\"file:///home/cms-jovyan/integration-challenge/cms/analysis/nondiff.py\" target=\"_blank\"><span style=\"color: #7f7f7f; text-decoration-color: #7f7f7f\">nondiff.py</span></a><span style=\"color: #7f7f7f; text-decoration-color: #7f7f7f\">:</span><a href=\"file:///home/cms-jovyan/integration-challenge/cms/analysis/nondiff.py#154\" target=\"_blank\"><span style=\"color: #7f7f7f; text-decoration-color: #7f7f7f\">154</span></a>\n",
       "<span style=\"color: #7fbfbf; text-decoration-color: #7fbfbf\">         </span>         <span style=\"color: #000000; text-decoration-color: #000000\">jet_pt_resolution_down                                                             </span><span style=\"color: #7f7f7f; text-decoration-color: #7f7f7f\">              </span>\n",
       "</pre>\n"
      ],
      "text/plain": [
       "\u001b[2;36m        \u001b[0m\u001b[2;36m \u001b[0m\u001b[34mINFO    \u001b[0m \u001b[39mApplying selection for CMS_WORKSHOP in ttbar_had with variation                   \u001b[0m\u001b[39m \u001b[0m\u001b]8;id=78586;file:///home/cms-jovyan/integration-challenge/cms/analysis/nondiff.py\u001b\\\u001b[2mnondiff.py\u001b[0m\u001b]8;;\u001b\\\u001b[2m:\u001b[0m\u001b]8;id=299741;file:///home/cms-jovyan/integration-challenge/cms/analysis/nondiff.py#154\u001b\\\u001b[2m154\u001b[0m\u001b]8;;\u001b\\\n",
       "\u001b[2;36m         \u001b[0m         \u001b[39mjet_pt_resolution_down                                                            \u001b[0m\u001b[39m \u001b[0m\u001b[2m              \u001b[0m\n"
      ]
     },
     "metadata": {},
     "output_type": "display_data"
    },
    {
     "data": {
      "text/html": [
       "<pre style=\"white-space:pre;overflow-x:auto;line-height:normal;font-family:Menlo,'DejaVu Sans Mono',consolas,'Courier New',monospace\"><span style=\"color: #7fbfbf; text-decoration-color: #7fbfbf\">         </span><span style=\"color: #000080; text-decoration-color: #000080\">INFO    </span> <span style=\"color: #000000; text-decoration-color: #000000\">Number of weighted events in CMS_WORKSHOP: </span><span style=\"color: #008080; text-decoration-color: #008080; font-weight: bold\">8.53</span><span style=\"color: #000000; text-decoration-color: #000000\">                                    </span><a href=\"file:///home/cms-jovyan/integration-challenge/cms/analysis/nondiff.py\" target=\"_blank\"><span style=\"color: #7f7f7f; text-decoration-color: #7f7f7f\">nondiff.py</span></a><span style=\"color: #7f7f7f; text-decoration-color: #7f7f7f\">:</span><a href=\"file:///home/cms-jovyan/integration-challenge/cms/analysis/nondiff.py#205\" target=\"_blank\"><span style=\"color: #7f7f7f; text-decoration-color: #7f7f7f\">205</span></a>\n",
       "</pre>\n"
      ],
      "text/plain": [
       "\u001b[2;36m        \u001b[0m\u001b[2;36m \u001b[0m\u001b[34mINFO    \u001b[0m \u001b[39mNumber of weighted events in CMS_WORKSHOP: \u001b[0m\u001b[1;36m8.53\u001b[0m\u001b[39m                                   \u001b[0m\u001b[39m \u001b[0m\u001b]8;id=242504;file:///home/cms-jovyan/integration-challenge/cms/analysis/nondiff.py\u001b\\\u001b[2mnondiff.py\u001b[0m\u001b]8;;\u001b\\\u001b[2m:\u001b[0m\u001b]8;id=872316;file:///home/cms-jovyan/integration-challenge/cms/analysis/nondiff.py#205\u001b\\\u001b[2m205\u001b[0m\u001b]8;;\u001b\\\n"
      ]
     },
     "metadata": {},
     "output_type": "display_data"
    },
    {
     "data": {
      "text/html": [
       "<pre style=\"white-space:pre;overflow-x:auto;line-height:normal;font-family:Menlo,'DejaVu Sans Mono',consolas,'Courier New',monospace\"><span style=\"color: #7fbfbf; text-decoration-color: #7fbfbf\">         </span><span style=\"color: #000080; text-decoration-color: #000080\">INFO    </span> <span style=\"color: #000000; text-decoration-color: #000000\">Number of raw events in CMS_WORKSHOP: </span><span style=\"color: #008080; text-decoration-color: #008080; font-weight: bold\">9</span><span style=\"color: #000000; text-decoration-color: #000000\">                                            </span><a href=\"file:///home/cms-jovyan/integration-challenge/cms/analysis/nondiff.py\" target=\"_blank\"><span style=\"color: #7f7f7f; text-decoration-color: #7f7f7f\">nondiff.py</span></a><span style=\"color: #7f7f7f; text-decoration-color: #7f7f7f\">:</span><a href=\"file:///home/cms-jovyan/integration-challenge/cms/analysis/nondiff.py#208\" target=\"_blank\"><span style=\"color: #7f7f7f; text-decoration-color: #7f7f7f\">208</span></a>\n",
       "</pre>\n"
      ],
      "text/plain": [
       "\u001b[2;36m        \u001b[0m\u001b[2;36m \u001b[0m\u001b[34mINFO    \u001b[0m \u001b[39mNumber of raw events in CMS_WORKSHOP: \u001b[0m\u001b[1;36m9\u001b[0m\u001b[39m                                           \u001b[0m\u001b[39m \u001b[0m\u001b]8;id=232010;file:///home/cms-jovyan/integration-challenge/cms/analysis/nondiff.py\u001b\\\u001b[2mnondiff.py\u001b[0m\u001b]8;;\u001b\\\u001b[2m:\u001b[0m\u001b]8;id=421691;file:///home/cms-jovyan/integration-challenge/cms/analysis/nondiff.py#208\u001b\\\u001b[2m208\u001b[0m\u001b]8;;\u001b\\\n"
      ]
     },
     "metadata": {},
     "output_type": "display_data"
    },
    {
     "data": {
      "text/html": [
       "<pre style=\"white-space:pre;overflow-x:auto;line-height:normal;font-family:Menlo,'DejaVu Sans Mono',consolas,'Courier New',monospace\"><span style=\"color: #7fbfbf; text-decoration-color: #7fbfbf\">         </span><span style=\"color: #000080; text-decoration-color: #000080\">INFO    </span> <span style=\"color: #000000; text-decoration-color: #000000\">Computing observable workshop_mtt                                                  </span><a href=\"file:///home/cms-jovyan/integration-challenge/cms/analysis/nondiff.py\" target=\"_blank\"><span style=\"color: #7f7f7f; text-decoration-color: #7f7f7f\">nondiff.py</span></a><span style=\"color: #7f7f7f; text-decoration-color: #7f7f7f\">:</span><a href=\"file:///home/cms-jovyan/integration-challenge/cms/analysis/nondiff.py#213\" target=\"_blank\"><span style=\"color: #7f7f7f; text-decoration-color: #7f7f7f\">213</span></a>\n",
       "</pre>\n"
      ],
      "text/plain": [
       "\u001b[2;36m        \u001b[0m\u001b[2;36m \u001b[0m\u001b[34mINFO    \u001b[0m \u001b[39mComputing observable workshop_mtt                                                 \u001b[0m\u001b[39m \u001b[0m\u001b]8;id=42219;file:///home/cms-jovyan/integration-challenge/cms/analysis/nondiff.py\u001b\\\u001b[2mnondiff.py\u001b[0m\u001b]8;;\u001b\\\u001b[2m:\u001b[0m\u001b]8;id=355191;file:///home/cms-jovyan/integration-challenge/cms/analysis/nondiff.py#213\u001b\\\u001b[2m213\u001b[0m\u001b]8;;\u001b\\\n"
      ]
     },
     "metadata": {},
     "output_type": "display_data"
    },
    {
     "data": {
      "text/html": [
       "<pre style=\"white-space:pre;overflow-x:auto;line-height:normal;font-family:Menlo,'DejaVu Sans Mono',consolas,'Courier New',monospace\"><span style=\"color: #7fbfbf; text-decoration-color: #7fbfbf\">         </span><span style=\"color: #000080; text-decoration-color: #000080\">INFO    </span> <span style=\"color: #000000; text-decoration-color: #000000\">Applying selection for CMS_WORKSHOP in ttbar_had with variation jet_pt_scale_up    </span><a href=\"file:///home/cms-jovyan/integration-challenge/cms/analysis/nondiff.py\" target=\"_blank\"><span style=\"color: #7f7f7f; text-decoration-color: #7f7f7f\">nondiff.py</span></a><span style=\"color: #7f7f7f; text-decoration-color: #7f7f7f\">:</span><a href=\"file:///home/cms-jovyan/integration-challenge/cms/analysis/nondiff.py#154\" target=\"_blank\"><span style=\"color: #7f7f7f; text-decoration-color: #7f7f7f\">154</span></a>\n",
       "</pre>\n"
      ],
      "text/plain": [
       "\u001b[2;36m        \u001b[0m\u001b[2;36m \u001b[0m\u001b[34mINFO    \u001b[0m \u001b[39mApplying selection for CMS_WORKSHOP in ttbar_had with variation jet_pt_scale_up   \u001b[0m\u001b[39m \u001b[0m\u001b]8;id=167828;file:///home/cms-jovyan/integration-challenge/cms/analysis/nondiff.py\u001b\\\u001b[2mnondiff.py\u001b[0m\u001b]8;;\u001b\\\u001b[2m:\u001b[0m\u001b]8;id=137355;file:///home/cms-jovyan/integration-challenge/cms/analysis/nondiff.py#154\u001b\\\u001b[2m154\u001b[0m\u001b]8;;\u001b\\\n"
      ]
     },
     "metadata": {},
     "output_type": "display_data"
    },
    {
     "data": {
      "text/html": [
       "<pre style=\"white-space:pre;overflow-x:auto;line-height:normal;font-family:Menlo,'DejaVu Sans Mono',consolas,'Courier New',monospace\"><span style=\"color: #7fbfbf; text-decoration-color: #7fbfbf\">         </span><span style=\"color: #000080; text-decoration-color: #000080\">INFO    </span> <span style=\"color: #000000; text-decoration-color: #000000\">Number of weighted events in CMS_WORKSHOP: </span><span style=\"color: #008080; text-decoration-color: #008080; font-weight: bold\">8.53</span><span style=\"color: #000000; text-decoration-color: #000000\">                                    </span><a href=\"file:///home/cms-jovyan/integration-challenge/cms/analysis/nondiff.py\" target=\"_blank\"><span style=\"color: #7f7f7f; text-decoration-color: #7f7f7f\">nondiff.py</span></a><span style=\"color: #7f7f7f; text-decoration-color: #7f7f7f\">:</span><a href=\"file:///home/cms-jovyan/integration-challenge/cms/analysis/nondiff.py#205\" target=\"_blank\"><span style=\"color: #7f7f7f; text-decoration-color: #7f7f7f\">205</span></a>\n",
       "</pre>\n"
      ],
      "text/plain": [
       "\u001b[2;36m        \u001b[0m\u001b[2;36m \u001b[0m\u001b[34mINFO    \u001b[0m \u001b[39mNumber of weighted events in CMS_WORKSHOP: \u001b[0m\u001b[1;36m8.53\u001b[0m\u001b[39m                                   \u001b[0m\u001b[39m \u001b[0m\u001b]8;id=729996;file:///home/cms-jovyan/integration-challenge/cms/analysis/nondiff.py\u001b\\\u001b[2mnondiff.py\u001b[0m\u001b]8;;\u001b\\\u001b[2m:\u001b[0m\u001b]8;id=574715;file:///home/cms-jovyan/integration-challenge/cms/analysis/nondiff.py#205\u001b\\\u001b[2m205\u001b[0m\u001b]8;;\u001b\\\n"
      ]
     },
     "metadata": {},
     "output_type": "display_data"
    },
    {
     "data": {
      "text/html": [
       "<pre style=\"white-space:pre;overflow-x:auto;line-height:normal;font-family:Menlo,'DejaVu Sans Mono',consolas,'Courier New',monospace\"><span style=\"color: #7fbfbf; text-decoration-color: #7fbfbf\">         </span><span style=\"color: #000080; text-decoration-color: #000080\">INFO    </span> <span style=\"color: #000000; text-decoration-color: #000000\">Number of raw events in CMS_WORKSHOP: </span><span style=\"color: #008080; text-decoration-color: #008080; font-weight: bold\">9</span><span style=\"color: #000000; text-decoration-color: #000000\">                                            </span><a href=\"file:///home/cms-jovyan/integration-challenge/cms/analysis/nondiff.py\" target=\"_blank\"><span style=\"color: #7f7f7f; text-decoration-color: #7f7f7f\">nondiff.py</span></a><span style=\"color: #7f7f7f; text-decoration-color: #7f7f7f\">:</span><a href=\"file:///home/cms-jovyan/integration-challenge/cms/analysis/nondiff.py#208\" target=\"_blank\"><span style=\"color: #7f7f7f; text-decoration-color: #7f7f7f\">208</span></a>\n",
       "</pre>\n"
      ],
      "text/plain": [
       "\u001b[2;36m        \u001b[0m\u001b[2;36m \u001b[0m\u001b[34mINFO    \u001b[0m \u001b[39mNumber of raw events in CMS_WORKSHOP: \u001b[0m\u001b[1;36m9\u001b[0m\u001b[39m                                           \u001b[0m\u001b[39m \u001b[0m\u001b]8;id=616864;file:///home/cms-jovyan/integration-challenge/cms/analysis/nondiff.py\u001b\\\u001b[2mnondiff.py\u001b[0m\u001b]8;;\u001b\\\u001b[2m:\u001b[0m\u001b]8;id=317732;file:///home/cms-jovyan/integration-challenge/cms/analysis/nondiff.py#208\u001b\\\u001b[2m208\u001b[0m\u001b]8;;\u001b\\\n"
      ]
     },
     "metadata": {},
     "output_type": "display_data"
    },
    {
     "data": {
      "text/html": [
       "<pre style=\"white-space:pre;overflow-x:auto;line-height:normal;font-family:Menlo,'DejaVu Sans Mono',consolas,'Courier New',monospace\"><span style=\"color: #7fbfbf; text-decoration-color: #7fbfbf\">         </span><span style=\"color: #000080; text-decoration-color: #000080\">INFO    </span> <span style=\"color: #000000; text-decoration-color: #000000\">Computing observable workshop_mtt                                                  </span><a href=\"file:///home/cms-jovyan/integration-challenge/cms/analysis/nondiff.py\" target=\"_blank\"><span style=\"color: #7f7f7f; text-decoration-color: #7f7f7f\">nondiff.py</span></a><span style=\"color: #7f7f7f; text-decoration-color: #7f7f7f\">:</span><a href=\"file:///home/cms-jovyan/integration-challenge/cms/analysis/nondiff.py#213\" target=\"_blank\"><span style=\"color: #7f7f7f; text-decoration-color: #7f7f7f\">213</span></a>\n",
       "</pre>\n"
      ],
      "text/plain": [
       "\u001b[2;36m        \u001b[0m\u001b[2;36m \u001b[0m\u001b[34mINFO    \u001b[0m \u001b[39mComputing observable workshop_mtt                                                 \u001b[0m\u001b[39m \u001b[0m\u001b]8;id=195665;file:///home/cms-jovyan/integration-challenge/cms/analysis/nondiff.py\u001b\\\u001b[2mnondiff.py\u001b[0m\u001b]8;;\u001b\\\u001b[2m:\u001b[0m\u001b]8;id=73020;file:///home/cms-jovyan/integration-challenge/cms/analysis/nondiff.py#213\u001b\\\u001b[2m213\u001b[0m\u001b]8;;\u001b\\\n"
      ]
     },
     "metadata": {},
     "output_type": "display_data"
    },
    {
     "data": {
      "text/html": [
       "<pre style=\"white-space:pre;overflow-x:auto;line-height:normal;font-family:Menlo,'DejaVu Sans Mono',consolas,'Courier New',monospace\"><span style=\"color: #7fbfbf; text-decoration-color: #7fbfbf\">         </span><span style=\"color: #000080; text-decoration-color: #000080\">INFO    </span> <span style=\"color: #000000; text-decoration-color: #000000\">Applying selection for CMS_WORKSHOP in ttbar_had with variation jet_pt_scale_down  </span><a href=\"file:///home/cms-jovyan/integration-challenge/cms/analysis/nondiff.py\" target=\"_blank\"><span style=\"color: #7f7f7f; text-decoration-color: #7f7f7f\">nondiff.py</span></a><span style=\"color: #7f7f7f; text-decoration-color: #7f7f7f\">:</span><a href=\"file:///home/cms-jovyan/integration-challenge/cms/analysis/nondiff.py#154\" target=\"_blank\"><span style=\"color: #7f7f7f; text-decoration-color: #7f7f7f\">154</span></a>\n",
       "</pre>\n"
      ],
      "text/plain": [
       "\u001b[2;36m        \u001b[0m\u001b[2;36m \u001b[0m\u001b[34mINFO    \u001b[0m \u001b[39mApplying selection for CMS_WORKSHOP in ttbar_had with variation jet_pt_scale_down \u001b[0m\u001b[39m \u001b[0m\u001b]8;id=410864;file:///home/cms-jovyan/integration-challenge/cms/analysis/nondiff.py\u001b\\\u001b[2mnondiff.py\u001b[0m\u001b]8;;\u001b\\\u001b[2m:\u001b[0m\u001b]8;id=764864;file:///home/cms-jovyan/integration-challenge/cms/analysis/nondiff.py#154\u001b\\\u001b[2m154\u001b[0m\u001b]8;;\u001b\\\n"
      ]
     },
     "metadata": {},
     "output_type": "display_data"
    },
    {
     "data": {
      "text/html": [
       "<pre style=\"white-space:pre;overflow-x:auto;line-height:normal;font-family:Menlo,'DejaVu Sans Mono',consolas,'Courier New',monospace\"><span style=\"color: #7fbfbf; text-decoration-color: #7fbfbf\">         </span><span style=\"color: #000080; text-decoration-color: #000080\">INFO    </span> <span style=\"color: #000000; text-decoration-color: #000000\">Number of weighted events in CMS_WORKSHOP: </span><span style=\"color: #008080; text-decoration-color: #008080; font-weight: bold\">8.53</span><span style=\"color: #000000; text-decoration-color: #000000\">                                    </span><a href=\"file:///home/cms-jovyan/integration-challenge/cms/analysis/nondiff.py\" target=\"_blank\"><span style=\"color: #7f7f7f; text-decoration-color: #7f7f7f\">nondiff.py</span></a><span style=\"color: #7f7f7f; text-decoration-color: #7f7f7f\">:</span><a href=\"file:///home/cms-jovyan/integration-challenge/cms/analysis/nondiff.py#205\" target=\"_blank\"><span style=\"color: #7f7f7f; text-decoration-color: #7f7f7f\">205</span></a>\n",
       "</pre>\n"
      ],
      "text/plain": [
       "\u001b[2;36m        \u001b[0m\u001b[2;36m \u001b[0m\u001b[34mINFO    \u001b[0m \u001b[39mNumber of weighted events in CMS_WORKSHOP: \u001b[0m\u001b[1;36m8.53\u001b[0m\u001b[39m                                   \u001b[0m\u001b[39m \u001b[0m\u001b]8;id=145523;file:///home/cms-jovyan/integration-challenge/cms/analysis/nondiff.py\u001b\\\u001b[2mnondiff.py\u001b[0m\u001b]8;;\u001b\\\u001b[2m:\u001b[0m\u001b]8;id=399148;file:///home/cms-jovyan/integration-challenge/cms/analysis/nondiff.py#205\u001b\\\u001b[2m205\u001b[0m\u001b]8;;\u001b\\\n"
      ]
     },
     "metadata": {},
     "output_type": "display_data"
    },
    {
     "data": {
      "text/html": [
       "<pre style=\"white-space:pre;overflow-x:auto;line-height:normal;font-family:Menlo,'DejaVu Sans Mono',consolas,'Courier New',monospace\"><span style=\"color: #7fbfbf; text-decoration-color: #7fbfbf\">         </span><span style=\"color: #000080; text-decoration-color: #000080\">INFO    </span> <span style=\"color: #000000; text-decoration-color: #000000\">Number of raw events in CMS_WORKSHOP: </span><span style=\"color: #008080; text-decoration-color: #008080; font-weight: bold\">9</span><span style=\"color: #000000; text-decoration-color: #000000\">                                            </span><a href=\"file:///home/cms-jovyan/integration-challenge/cms/analysis/nondiff.py\" target=\"_blank\"><span style=\"color: #7f7f7f; text-decoration-color: #7f7f7f\">nondiff.py</span></a><span style=\"color: #7f7f7f; text-decoration-color: #7f7f7f\">:</span><a href=\"file:///home/cms-jovyan/integration-challenge/cms/analysis/nondiff.py#208\" target=\"_blank\"><span style=\"color: #7f7f7f; text-decoration-color: #7f7f7f\">208</span></a>\n",
       "</pre>\n"
      ],
      "text/plain": [
       "\u001b[2;36m        \u001b[0m\u001b[2;36m \u001b[0m\u001b[34mINFO    \u001b[0m \u001b[39mNumber of raw events in CMS_WORKSHOP: \u001b[0m\u001b[1;36m9\u001b[0m\u001b[39m                                           \u001b[0m\u001b[39m \u001b[0m\u001b]8;id=918451;file:///home/cms-jovyan/integration-challenge/cms/analysis/nondiff.py\u001b\\\u001b[2mnondiff.py\u001b[0m\u001b]8;;\u001b\\\u001b[2m:\u001b[0m\u001b]8;id=637062;file:///home/cms-jovyan/integration-challenge/cms/analysis/nondiff.py#208\u001b\\\u001b[2m208\u001b[0m\u001b]8;;\u001b\\\n"
      ]
     },
     "metadata": {},
     "output_type": "display_data"
    },
    {
     "data": {
      "text/html": [
       "<pre style=\"white-space:pre;overflow-x:auto;line-height:normal;font-family:Menlo,'DejaVu Sans Mono',consolas,'Courier New',monospace\"><span style=\"color: #7fbfbf; text-decoration-color: #7fbfbf\">         </span><span style=\"color: #000080; text-decoration-color: #000080\">INFO    </span> <span style=\"color: #000000; text-decoration-color: #000000\">Computing observable workshop_mtt                                                  </span><a href=\"file:///home/cms-jovyan/integration-challenge/cms/analysis/nondiff.py\" target=\"_blank\"><span style=\"color: #7f7f7f; text-decoration-color: #7f7f7f\">nondiff.py</span></a><span style=\"color: #7f7f7f; text-decoration-color: #7f7f7f\">:</span><a href=\"file:///home/cms-jovyan/integration-challenge/cms/analysis/nondiff.py#213\" target=\"_blank\"><span style=\"color: #7f7f7f; text-decoration-color: #7f7f7f\">213</span></a>\n",
       "</pre>\n"
      ],
      "text/plain": [
       "\u001b[2;36m        \u001b[0m\u001b[2;36m \u001b[0m\u001b[34mINFO    \u001b[0m \u001b[39mComputing observable workshop_mtt                                                 \u001b[0m\u001b[39m \u001b[0m\u001b]8;id=192871;file:///home/cms-jovyan/integration-challenge/cms/analysis/nondiff.py\u001b\\\u001b[2mnondiff.py\u001b[0m\u001b]8;;\u001b\\\u001b[2m:\u001b[0m\u001b]8;id=244620;file:///home/cms-jovyan/integration-challenge/cms/analysis/nondiff.py#213\u001b\\\u001b[2m213\u001b[0m\u001b]8;;\u001b\\\n"
      ]
     },
     "metadata": {},
     "output_type": "display_data"
    },
    {
     "data": {
      "text/html": [
       "<pre style=\"white-space:pre;overflow-x:auto;line-height:normal;font-family:Menlo,'DejaVu Sans Mono',consolas,'Courier New',monospace\"><span style=\"color: #7fbfbf; text-decoration-color: #7fbfbf\">         </span><span style=\"color: #000080; text-decoration-color: #000080\">INFO    </span> <span style=\"color: #000000; text-decoration-color: #000000\">Applying selection for CMS_WORKSHOP in ttbar_had with variation pu_weight_up       </span><a href=\"file:///home/cms-jovyan/integration-challenge/cms/analysis/nondiff.py\" target=\"_blank\"><span style=\"color: #7f7f7f; text-decoration-color: #7f7f7f\">nondiff.py</span></a><span style=\"color: #7f7f7f; text-decoration-color: #7f7f7f\">:</span><a href=\"file:///home/cms-jovyan/integration-challenge/cms/analysis/nondiff.py#154\" target=\"_blank\"><span style=\"color: #7f7f7f; text-decoration-color: #7f7f7f\">154</span></a>\n",
       "</pre>\n"
      ],
      "text/plain": [
       "\u001b[2;36m        \u001b[0m\u001b[2;36m \u001b[0m\u001b[34mINFO    \u001b[0m \u001b[39mApplying selection for CMS_WORKSHOP in ttbar_had with variation pu_weight_up      \u001b[0m\u001b[39m \u001b[0m\u001b]8;id=141713;file:///home/cms-jovyan/integration-challenge/cms/analysis/nondiff.py\u001b\\\u001b[2mnondiff.py\u001b[0m\u001b]8;;\u001b\\\u001b[2m:\u001b[0m\u001b]8;id=802329;file:///home/cms-jovyan/integration-challenge/cms/analysis/nondiff.py#154\u001b\\\u001b[2m154\u001b[0m\u001b]8;;\u001b\\\n"
      ]
     },
     "metadata": {},
     "output_type": "display_data"
    },
    {
     "data": {
      "text/html": [
       "<pre style=\"white-space:pre;overflow-x:auto;line-height:normal;font-family:Menlo,'DejaVu Sans Mono',consolas,'Courier New',monospace\"><span style=\"color: #7fbfbf; text-decoration-color: #7fbfbf\">         </span><span style=\"color: #000080; text-decoration-color: #000080\">INFO    </span> <span style=\"color: #000000; text-decoration-color: #000000\">Applying correction: pu_weight/Collisions16_UltraLegacy_goldenJSON </span><span style=\"color: #000000; text-decoration-color: #000000; font-weight: bold\">(</span><span style=\"color: #000000; text-decoration-color: #000000\">up</span><span style=\"color: #000000; text-decoration-color: #000000; font-weight: bold\">)</span><span style=\"color: #000000; text-decoration-color: #000000\">               </span><a href=\"file:///home/cms-jovyan/integration-challenge/cms/analysis/base.py\" target=\"_blank\"><span style=\"color: #7f7f7f; text-decoration-color: #7f7f7f\">base.py</span></a><span style=\"color: #7f7f7f; text-decoration-color: #7f7f7f\">:</span><a href=\"file:///home/cms-jovyan/integration-challenge/cms/analysis/base.py#247\" target=\"_blank\"><span style=\"color: #7f7f7f; text-decoration-color: #7f7f7f\">247</span></a>\n",
       "</pre>\n"
      ],
      "text/plain": [
       "\u001b[2;36m        \u001b[0m\u001b[2;36m \u001b[0m\u001b[34mINFO    \u001b[0m \u001b[39mApplying correction: pu_weight/Collisions16_UltraLegacy_goldenJSON \u001b[0m\u001b[1;39m(\u001b[0m\u001b[39mup\u001b[0m\u001b[1;39m)\u001b[0m\u001b[39m              \u001b[0m\u001b[39m \u001b[0m\u001b]8;id=889185;file:///home/cms-jovyan/integration-challenge/cms/analysis/base.py\u001b\\\u001b[2mbase.py\u001b[0m\u001b]8;;\u001b\\\u001b[2m:\u001b[0m\u001b]8;id=202431;file:///home/cms-jovyan/integration-challenge/cms/analysis/base.py#247\u001b\\\u001b[2m247\u001b[0m\u001b]8;;\u001b\\\n"
      ]
     },
     "metadata": {},
     "output_type": "display_data"
    },
    {
     "data": {
      "text/html": [
       "<pre style=\"white-space:pre;overflow-x:auto;line-height:normal;font-family:Menlo,'DejaVu Sans Mono',consolas,'Courier New',monospace\"><span style=\"color: #7fbfbf; text-decoration-color: #7fbfbf\">         </span><span style=\"color: #000080; text-decoration-color: #000080\">INFO    </span> <span style=\"color: #000000; text-decoration-color: #000000\">Number of weighted events in CMS_WORKSHOP: </span><span style=\"color: #008080; text-decoration-color: #008080; font-weight: bold\">10.93</span><span style=\"color: #000000; text-decoration-color: #000000\">                                   </span><a href=\"file:///home/cms-jovyan/integration-challenge/cms/analysis/nondiff.py\" target=\"_blank\"><span style=\"color: #7f7f7f; text-decoration-color: #7f7f7f\">nondiff.py</span></a><span style=\"color: #7f7f7f; text-decoration-color: #7f7f7f\">:</span><a href=\"file:///home/cms-jovyan/integration-challenge/cms/analysis/nondiff.py#205\" target=\"_blank\"><span style=\"color: #7f7f7f; text-decoration-color: #7f7f7f\">205</span></a>\n",
       "</pre>\n"
      ],
      "text/plain": [
       "\u001b[2;36m        \u001b[0m\u001b[2;36m \u001b[0m\u001b[34mINFO    \u001b[0m \u001b[39mNumber of weighted events in CMS_WORKSHOP: \u001b[0m\u001b[1;36m10.93\u001b[0m\u001b[39m                                  \u001b[0m\u001b[39m \u001b[0m\u001b]8;id=298602;file:///home/cms-jovyan/integration-challenge/cms/analysis/nondiff.py\u001b\\\u001b[2mnondiff.py\u001b[0m\u001b]8;;\u001b\\\u001b[2m:\u001b[0m\u001b]8;id=134319;file:///home/cms-jovyan/integration-challenge/cms/analysis/nondiff.py#205\u001b\\\u001b[2m205\u001b[0m\u001b]8;;\u001b\\\n"
      ]
     },
     "metadata": {},
     "output_type": "display_data"
    },
    {
     "data": {
      "text/html": [
       "<pre style=\"white-space:pre;overflow-x:auto;line-height:normal;font-family:Menlo,'DejaVu Sans Mono',consolas,'Courier New',monospace\"><span style=\"color: #7fbfbf; text-decoration-color: #7fbfbf\">         </span><span style=\"color: #000080; text-decoration-color: #000080\">INFO    </span> <span style=\"color: #000000; text-decoration-color: #000000\">Number of raw events in CMS_WORKSHOP: </span><span style=\"color: #008080; text-decoration-color: #008080; font-weight: bold\">9</span><span style=\"color: #000000; text-decoration-color: #000000\">                                            </span><a href=\"file:///home/cms-jovyan/integration-challenge/cms/analysis/nondiff.py\" target=\"_blank\"><span style=\"color: #7f7f7f; text-decoration-color: #7f7f7f\">nondiff.py</span></a><span style=\"color: #7f7f7f; text-decoration-color: #7f7f7f\">:</span><a href=\"file:///home/cms-jovyan/integration-challenge/cms/analysis/nondiff.py#208\" target=\"_blank\"><span style=\"color: #7f7f7f; text-decoration-color: #7f7f7f\">208</span></a>\n",
       "</pre>\n"
      ],
      "text/plain": [
       "\u001b[2;36m        \u001b[0m\u001b[2;36m \u001b[0m\u001b[34mINFO    \u001b[0m \u001b[39mNumber of raw events in CMS_WORKSHOP: \u001b[0m\u001b[1;36m9\u001b[0m\u001b[39m                                           \u001b[0m\u001b[39m \u001b[0m\u001b]8;id=407270;file:///home/cms-jovyan/integration-challenge/cms/analysis/nondiff.py\u001b\\\u001b[2mnondiff.py\u001b[0m\u001b]8;;\u001b\\\u001b[2m:\u001b[0m\u001b]8;id=45392;file:///home/cms-jovyan/integration-challenge/cms/analysis/nondiff.py#208\u001b\\\u001b[2m208\u001b[0m\u001b]8;;\u001b\\\n"
      ]
     },
     "metadata": {},
     "output_type": "display_data"
    },
    {
     "data": {
      "text/html": [
       "<pre style=\"white-space:pre;overflow-x:auto;line-height:normal;font-family:Menlo,'DejaVu Sans Mono',consolas,'Courier New',monospace\"><span style=\"color: #7fbfbf; text-decoration-color: #7fbfbf\">         </span><span style=\"color: #000080; text-decoration-color: #000080\">INFO    </span> <span style=\"color: #000000; text-decoration-color: #000000\">Computing observable workshop_mtt                                                  </span><a href=\"file:///home/cms-jovyan/integration-challenge/cms/analysis/nondiff.py\" target=\"_blank\"><span style=\"color: #7f7f7f; text-decoration-color: #7f7f7f\">nondiff.py</span></a><span style=\"color: #7f7f7f; text-decoration-color: #7f7f7f\">:</span><a href=\"file:///home/cms-jovyan/integration-challenge/cms/analysis/nondiff.py#213\" target=\"_blank\"><span style=\"color: #7f7f7f; text-decoration-color: #7f7f7f\">213</span></a>\n",
       "</pre>\n"
      ],
      "text/plain": [
       "\u001b[2;36m        \u001b[0m\u001b[2;36m \u001b[0m\u001b[34mINFO    \u001b[0m \u001b[39mComputing observable workshop_mtt                                                 \u001b[0m\u001b[39m \u001b[0m\u001b]8;id=364407;file:///home/cms-jovyan/integration-challenge/cms/analysis/nondiff.py\u001b\\\u001b[2mnondiff.py\u001b[0m\u001b]8;;\u001b\\\u001b[2m:\u001b[0m\u001b]8;id=109999;file:///home/cms-jovyan/integration-challenge/cms/analysis/nondiff.py#213\u001b\\\u001b[2m213\u001b[0m\u001b]8;;\u001b\\\n"
      ]
     },
     "metadata": {},
     "output_type": "display_data"
    },
    {
     "data": {
      "text/html": [
       "<pre style=\"white-space:pre;overflow-x:auto;line-height:normal;font-family:Menlo,'DejaVu Sans Mono',consolas,'Courier New',monospace\"><span style=\"color: #7fbfbf; text-decoration-color: #7fbfbf\">         </span><span style=\"color: #000080; text-decoration-color: #000080\">INFO    </span> <span style=\"color: #000000; text-decoration-color: #000000\">Applying selection for CMS_WORKSHOP in ttbar_had with variation pu_weight_down     </span><a href=\"file:///home/cms-jovyan/integration-challenge/cms/analysis/nondiff.py\" target=\"_blank\"><span style=\"color: #7f7f7f; text-decoration-color: #7f7f7f\">nondiff.py</span></a><span style=\"color: #7f7f7f; text-decoration-color: #7f7f7f\">:</span><a href=\"file:///home/cms-jovyan/integration-challenge/cms/analysis/nondiff.py#154\" target=\"_blank\"><span style=\"color: #7f7f7f; text-decoration-color: #7f7f7f\">154</span></a>\n",
       "</pre>\n"
      ],
      "text/plain": [
       "\u001b[2;36m        \u001b[0m\u001b[2;36m \u001b[0m\u001b[34mINFO    \u001b[0m \u001b[39mApplying selection for CMS_WORKSHOP in ttbar_had with variation pu_weight_down    \u001b[0m\u001b[39m \u001b[0m\u001b]8;id=878568;file:///home/cms-jovyan/integration-challenge/cms/analysis/nondiff.py\u001b\\\u001b[2mnondiff.py\u001b[0m\u001b]8;;\u001b\\\u001b[2m:\u001b[0m\u001b]8;id=77839;file:///home/cms-jovyan/integration-challenge/cms/analysis/nondiff.py#154\u001b\\\u001b[2m154\u001b[0m\u001b]8;;\u001b\\\n"
      ]
     },
     "metadata": {},
     "output_type": "display_data"
    },
    {
     "data": {
      "text/html": [
       "<pre style=\"white-space:pre;overflow-x:auto;line-height:normal;font-family:Menlo,'DejaVu Sans Mono',consolas,'Courier New',monospace\"><span style=\"color: #7fbfbf; text-decoration-color: #7fbfbf\">         </span><span style=\"color: #000080; text-decoration-color: #000080\">INFO    </span> <span style=\"color: #000000; text-decoration-color: #000000\">Applying correction: pu_weight/Collisions16_UltraLegacy_goldenJSON </span><span style=\"color: #000000; text-decoration-color: #000000; font-weight: bold\">(</span><span style=\"color: #000000; text-decoration-color: #000000\">down</span><span style=\"color: #000000; text-decoration-color: #000000; font-weight: bold\">)</span><span style=\"color: #000000; text-decoration-color: #000000\">             </span><a href=\"file:///home/cms-jovyan/integration-challenge/cms/analysis/base.py\" target=\"_blank\"><span style=\"color: #7f7f7f; text-decoration-color: #7f7f7f\">base.py</span></a><span style=\"color: #7f7f7f; text-decoration-color: #7f7f7f\">:</span><a href=\"file:///home/cms-jovyan/integration-challenge/cms/analysis/base.py#247\" target=\"_blank\"><span style=\"color: #7f7f7f; text-decoration-color: #7f7f7f\">247</span></a>\n",
       "</pre>\n"
      ],
      "text/plain": [
       "\u001b[2;36m        \u001b[0m\u001b[2;36m \u001b[0m\u001b[34mINFO    \u001b[0m \u001b[39mApplying correction: pu_weight/Collisions16_UltraLegacy_goldenJSON \u001b[0m\u001b[1;39m(\u001b[0m\u001b[39mdown\u001b[0m\u001b[1;39m)\u001b[0m\u001b[39m            \u001b[0m\u001b[39m \u001b[0m\u001b]8;id=331412;file:///home/cms-jovyan/integration-challenge/cms/analysis/base.py\u001b\\\u001b[2mbase.py\u001b[0m\u001b]8;;\u001b\\\u001b[2m:\u001b[0m\u001b]8;id=685419;file:///home/cms-jovyan/integration-challenge/cms/analysis/base.py#247\u001b\\\u001b[2m247\u001b[0m\u001b]8;;\u001b\\\n"
      ]
     },
     "metadata": {},
     "output_type": "display_data"
    },
    {
     "data": {
      "text/html": [
       "<pre style=\"white-space:pre;overflow-x:auto;line-height:normal;font-family:Menlo,'DejaVu Sans Mono',consolas,'Courier New',monospace\"><span style=\"color: #7fbfbf; text-decoration-color: #7fbfbf\">         </span><span style=\"color: #000080; text-decoration-color: #000080\">INFO    </span> <span style=\"color: #000000; text-decoration-color: #000000\">Number of weighted events in CMS_WORKSHOP: </span><span style=\"color: #008080; text-decoration-color: #008080; font-weight: bold\">10.08</span><span style=\"color: #000000; text-decoration-color: #000000\">                                   </span><a href=\"file:///home/cms-jovyan/integration-challenge/cms/analysis/nondiff.py\" target=\"_blank\"><span style=\"color: #7f7f7f; text-decoration-color: #7f7f7f\">nondiff.py</span></a><span style=\"color: #7f7f7f; text-decoration-color: #7f7f7f\">:</span><a href=\"file:///home/cms-jovyan/integration-challenge/cms/analysis/nondiff.py#205\" target=\"_blank\"><span style=\"color: #7f7f7f; text-decoration-color: #7f7f7f\">205</span></a>\n",
       "</pre>\n"
      ],
      "text/plain": [
       "\u001b[2;36m        \u001b[0m\u001b[2;36m \u001b[0m\u001b[34mINFO    \u001b[0m \u001b[39mNumber of weighted events in CMS_WORKSHOP: \u001b[0m\u001b[1;36m10.08\u001b[0m\u001b[39m                                  \u001b[0m\u001b[39m \u001b[0m\u001b]8;id=159682;file:///home/cms-jovyan/integration-challenge/cms/analysis/nondiff.py\u001b\\\u001b[2mnondiff.py\u001b[0m\u001b]8;;\u001b\\\u001b[2m:\u001b[0m\u001b]8;id=696765;file:///home/cms-jovyan/integration-challenge/cms/analysis/nondiff.py#205\u001b\\\u001b[2m205\u001b[0m\u001b]8;;\u001b\\\n"
      ]
     },
     "metadata": {},
     "output_type": "display_data"
    },
    {
     "data": {
      "text/html": [
       "<pre style=\"white-space:pre;overflow-x:auto;line-height:normal;font-family:Menlo,'DejaVu Sans Mono',consolas,'Courier New',monospace\"><span style=\"color: #7fbfbf; text-decoration-color: #7fbfbf\">         </span><span style=\"color: #000080; text-decoration-color: #000080\">INFO    </span> <span style=\"color: #000000; text-decoration-color: #000000\">Number of raw events in CMS_WORKSHOP: </span><span style=\"color: #008080; text-decoration-color: #008080; font-weight: bold\">9</span><span style=\"color: #000000; text-decoration-color: #000000\">                                            </span><a href=\"file:///home/cms-jovyan/integration-challenge/cms/analysis/nondiff.py\" target=\"_blank\"><span style=\"color: #7f7f7f; text-decoration-color: #7f7f7f\">nondiff.py</span></a><span style=\"color: #7f7f7f; text-decoration-color: #7f7f7f\">:</span><a href=\"file:///home/cms-jovyan/integration-challenge/cms/analysis/nondiff.py#208\" target=\"_blank\"><span style=\"color: #7f7f7f; text-decoration-color: #7f7f7f\">208</span></a>\n",
       "</pre>\n"
      ],
      "text/plain": [
       "\u001b[2;36m        \u001b[0m\u001b[2;36m \u001b[0m\u001b[34mINFO    \u001b[0m \u001b[39mNumber of raw events in CMS_WORKSHOP: \u001b[0m\u001b[1;36m9\u001b[0m\u001b[39m                                           \u001b[0m\u001b[39m \u001b[0m\u001b]8;id=222482;file:///home/cms-jovyan/integration-challenge/cms/analysis/nondiff.py\u001b\\\u001b[2mnondiff.py\u001b[0m\u001b]8;;\u001b\\\u001b[2m:\u001b[0m\u001b]8;id=130919;file:///home/cms-jovyan/integration-challenge/cms/analysis/nondiff.py#208\u001b\\\u001b[2m208\u001b[0m\u001b]8;;\u001b\\\n"
      ]
     },
     "metadata": {},
     "output_type": "display_data"
    },
    {
     "data": {
      "text/html": [
       "<pre style=\"white-space:pre;overflow-x:auto;line-height:normal;font-family:Menlo,'DejaVu Sans Mono',consolas,'Courier New',monospace\"><span style=\"color: #7fbfbf; text-decoration-color: #7fbfbf\">         </span><span style=\"color: #000080; text-decoration-color: #000080\">INFO    </span> <span style=\"color: #000000; text-decoration-color: #000000\">Computing observable workshop_mtt                                                  </span><a href=\"file:///home/cms-jovyan/integration-challenge/cms/analysis/nondiff.py\" target=\"_blank\"><span style=\"color: #7f7f7f; text-decoration-color: #7f7f7f\">nondiff.py</span></a><span style=\"color: #7f7f7f; text-decoration-color: #7f7f7f\">:</span><a href=\"file:///home/cms-jovyan/integration-challenge/cms/analysis/nondiff.py#213\" target=\"_blank\"><span style=\"color: #7f7f7f; text-decoration-color: #7f7f7f\">213</span></a>\n",
       "</pre>\n"
      ],
      "text/plain": [
       "\u001b[2;36m        \u001b[0m\u001b[2;36m \u001b[0m\u001b[34mINFO    \u001b[0m \u001b[39mComputing observable workshop_mtt                                                 \u001b[0m\u001b[39m \u001b[0m\u001b]8;id=190121;file:///home/cms-jovyan/integration-challenge/cms/analysis/nondiff.py\u001b\\\u001b[2mnondiff.py\u001b[0m\u001b]8;;\u001b\\\u001b[2m:\u001b[0m\u001b]8;id=854263;file:///home/cms-jovyan/integration-challenge/cms/analysis/nondiff.py#213\u001b\\\u001b[2m213\u001b[0m\u001b]8;;\u001b\\\n"
      ]
     },
     "metadata": {},
     "output_type": "display_data"
    },
    {
     "data": {
      "text/html": [
       "<pre style=\"white-space:pre;overflow-x:auto;line-height:normal;font-family:Menlo,'DejaVu Sans Mono',consolas,'Courier New',monospace\"><span style=\"color: #7fbfbf; text-decoration-color: #7fbfbf\">13:47:50 </span><span style=\"color: #000080; text-decoration-color: #000080\">INFO    </span> <span style=\"color: #000000; text-decoration-color: #000000\">Applying selection for CMS_WORKSHOP in ttbar_had with variation muon_id_sf_up      </span><a href=\"file:///home/cms-jovyan/integration-challenge/cms/analysis/nondiff.py\" target=\"_blank\"><span style=\"color: #7f7f7f; text-decoration-color: #7f7f7f\">nondiff.py</span></a><span style=\"color: #7f7f7f; text-decoration-color: #7f7f7f\">:</span><a href=\"file:///home/cms-jovyan/integration-challenge/cms/analysis/nondiff.py#154\" target=\"_blank\"><span style=\"color: #7f7f7f; text-decoration-color: #7f7f7f\">154</span></a>\n",
       "</pre>\n"
      ],
      "text/plain": [
       "\u001b[2;36m13:47:50\u001b[0m\u001b[2;36m \u001b[0m\u001b[34mINFO    \u001b[0m \u001b[39mApplying selection for CMS_WORKSHOP in ttbar_had with variation muon_id_sf_up     \u001b[0m\u001b[39m \u001b[0m\u001b]8;id=516376;file:///home/cms-jovyan/integration-challenge/cms/analysis/nondiff.py\u001b\\\u001b[2mnondiff.py\u001b[0m\u001b]8;;\u001b\\\u001b[2m:\u001b[0m\u001b]8;id=438768;file:///home/cms-jovyan/integration-challenge/cms/analysis/nondiff.py#154\u001b\\\u001b[2m154\u001b[0m\u001b]8;;\u001b\\\n"
      ]
     },
     "metadata": {},
     "output_type": "display_data"
    },
    {
     "data": {
      "text/html": [
       "<pre style=\"white-space:pre;overflow-x:auto;line-height:normal;font-family:Menlo,'DejaVu Sans Mono',consolas,'Courier New',monospace\"><span style=\"color: #7fbfbf; text-decoration-color: #7fbfbf\">         </span><span style=\"color: #000080; text-decoration-color: #000080\">INFO    </span> <span style=\"color: #000000; text-decoration-color: #000000\">Applying correction: muon_id_sf/NUM_TightID_DEN_TrackerMuons </span><span style=\"color: #000000; text-decoration-color: #000000; font-weight: bold\">(</span><span style=\"color: #000000; text-decoration-color: #000000\">systup</span><span style=\"color: #000000; text-decoration-color: #000000; font-weight: bold\">)</span><span style=\"color: #000000; text-decoration-color: #000000\">                 </span><a href=\"file:///home/cms-jovyan/integration-challenge/cms/analysis/base.py\" target=\"_blank\"><span style=\"color: #7f7f7f; text-decoration-color: #7f7f7f\">base.py</span></a><span style=\"color: #7f7f7f; text-decoration-color: #7f7f7f\">:</span><a href=\"file:///home/cms-jovyan/integration-challenge/cms/analysis/base.py#247\" target=\"_blank\"><span style=\"color: #7f7f7f; text-decoration-color: #7f7f7f\">247</span></a>\n",
       "</pre>\n"
      ],
      "text/plain": [
       "\u001b[2;36m        \u001b[0m\u001b[2;36m \u001b[0m\u001b[34mINFO    \u001b[0m \u001b[39mApplying correction: muon_id_sf/NUM_TightID_DEN_TrackerMuons \u001b[0m\u001b[1;39m(\u001b[0m\u001b[39msystup\u001b[0m\u001b[1;39m)\u001b[0m\u001b[39m                \u001b[0m\u001b[39m \u001b[0m\u001b]8;id=614454;file:///home/cms-jovyan/integration-challenge/cms/analysis/base.py\u001b\\\u001b[2mbase.py\u001b[0m\u001b]8;;\u001b\\\u001b[2m:\u001b[0m\u001b]8;id=633166;file:///home/cms-jovyan/integration-challenge/cms/analysis/base.py#247\u001b\\\u001b[2m247\u001b[0m\u001b]8;;\u001b\\\n"
      ]
     },
     "metadata": {},
     "output_type": "display_data"
    },
    {
     "data": {
      "text/html": [
       "<pre style=\"white-space:pre;overflow-x:auto;line-height:normal;font-family:Menlo,'DejaVu Sans Mono',consolas,'Courier New',monospace\"><span style=\"color: #7fbfbf; text-decoration-color: #7fbfbf\">         </span><span style=\"color: #000080; text-decoration-color: #000080\">INFO    </span> <span style=\"color: #000000; text-decoration-color: #000000\">Number of weighted events in CMS_WORKSHOP: </span><span style=\"color: #008080; text-decoration-color: #008080; font-weight: bold\">8.91</span><span style=\"color: #000000; text-decoration-color: #000000\">                                    </span><a href=\"file:///home/cms-jovyan/integration-challenge/cms/analysis/nondiff.py\" target=\"_blank\"><span style=\"color: #7f7f7f; text-decoration-color: #7f7f7f\">nondiff.py</span></a><span style=\"color: #7f7f7f; text-decoration-color: #7f7f7f\">:</span><a href=\"file:///home/cms-jovyan/integration-challenge/cms/analysis/nondiff.py#205\" target=\"_blank\"><span style=\"color: #7f7f7f; text-decoration-color: #7f7f7f\">205</span></a>\n",
       "</pre>\n"
      ],
      "text/plain": [
       "\u001b[2;36m        \u001b[0m\u001b[2;36m \u001b[0m\u001b[34mINFO    \u001b[0m \u001b[39mNumber of weighted events in CMS_WORKSHOP: \u001b[0m\u001b[1;36m8.91\u001b[0m\u001b[39m                                   \u001b[0m\u001b[39m \u001b[0m\u001b]8;id=413461;file:///home/cms-jovyan/integration-challenge/cms/analysis/nondiff.py\u001b\\\u001b[2mnondiff.py\u001b[0m\u001b]8;;\u001b\\\u001b[2m:\u001b[0m\u001b]8;id=342428;file:///home/cms-jovyan/integration-challenge/cms/analysis/nondiff.py#205\u001b\\\u001b[2m205\u001b[0m\u001b]8;;\u001b\\\n"
      ]
     },
     "metadata": {},
     "output_type": "display_data"
    },
    {
     "data": {
      "text/html": [
       "<pre style=\"white-space:pre;overflow-x:auto;line-height:normal;font-family:Menlo,'DejaVu Sans Mono',consolas,'Courier New',monospace\"><span style=\"color: #7fbfbf; text-decoration-color: #7fbfbf\">         </span><span style=\"color: #000080; text-decoration-color: #000080\">INFO    </span> <span style=\"color: #000000; text-decoration-color: #000000\">Number of raw events in CMS_WORKSHOP: </span><span style=\"color: #008080; text-decoration-color: #008080; font-weight: bold\">9</span><span style=\"color: #000000; text-decoration-color: #000000\">                                            </span><a href=\"file:///home/cms-jovyan/integration-challenge/cms/analysis/nondiff.py\" target=\"_blank\"><span style=\"color: #7f7f7f; text-decoration-color: #7f7f7f\">nondiff.py</span></a><span style=\"color: #7f7f7f; text-decoration-color: #7f7f7f\">:</span><a href=\"file:///home/cms-jovyan/integration-challenge/cms/analysis/nondiff.py#208\" target=\"_blank\"><span style=\"color: #7f7f7f; text-decoration-color: #7f7f7f\">208</span></a>\n",
       "</pre>\n"
      ],
      "text/plain": [
       "\u001b[2;36m        \u001b[0m\u001b[2;36m \u001b[0m\u001b[34mINFO    \u001b[0m \u001b[39mNumber of raw events in CMS_WORKSHOP: \u001b[0m\u001b[1;36m9\u001b[0m\u001b[39m                                           \u001b[0m\u001b[39m \u001b[0m\u001b]8;id=840714;file:///home/cms-jovyan/integration-challenge/cms/analysis/nondiff.py\u001b\\\u001b[2mnondiff.py\u001b[0m\u001b]8;;\u001b\\\u001b[2m:\u001b[0m\u001b]8;id=83388;file:///home/cms-jovyan/integration-challenge/cms/analysis/nondiff.py#208\u001b\\\u001b[2m208\u001b[0m\u001b]8;;\u001b\\\n"
      ]
     },
     "metadata": {},
     "output_type": "display_data"
    },
    {
     "data": {
      "text/html": [
       "<pre style=\"white-space:pre;overflow-x:auto;line-height:normal;font-family:Menlo,'DejaVu Sans Mono',consolas,'Courier New',monospace\"><span style=\"color: #7fbfbf; text-decoration-color: #7fbfbf\">         </span><span style=\"color: #000080; text-decoration-color: #000080\">INFO    </span> <span style=\"color: #000000; text-decoration-color: #000000\">Computing observable workshop_mtt                                                  </span><a href=\"file:///home/cms-jovyan/integration-challenge/cms/analysis/nondiff.py\" target=\"_blank\"><span style=\"color: #7f7f7f; text-decoration-color: #7f7f7f\">nondiff.py</span></a><span style=\"color: #7f7f7f; text-decoration-color: #7f7f7f\">:</span><a href=\"file:///home/cms-jovyan/integration-challenge/cms/analysis/nondiff.py#213\" target=\"_blank\"><span style=\"color: #7f7f7f; text-decoration-color: #7f7f7f\">213</span></a>\n",
       "</pre>\n"
      ],
      "text/plain": [
       "\u001b[2;36m        \u001b[0m\u001b[2;36m \u001b[0m\u001b[34mINFO    \u001b[0m \u001b[39mComputing observable workshop_mtt                                                 \u001b[0m\u001b[39m \u001b[0m\u001b]8;id=636184;file:///home/cms-jovyan/integration-challenge/cms/analysis/nondiff.py\u001b\\\u001b[2mnondiff.py\u001b[0m\u001b]8;;\u001b\\\u001b[2m:\u001b[0m\u001b]8;id=47783;file:///home/cms-jovyan/integration-challenge/cms/analysis/nondiff.py#213\u001b\\\u001b[2m213\u001b[0m\u001b]8;;\u001b\\\n"
      ]
     },
     "metadata": {},
     "output_type": "display_data"
    },
    {
     "data": {
      "text/html": [
       "<pre style=\"white-space:pre;overflow-x:auto;line-height:normal;font-family:Menlo,'DejaVu Sans Mono',consolas,'Courier New',monospace\"><span style=\"color: #7fbfbf; text-decoration-color: #7fbfbf\">         </span><span style=\"color: #000080; text-decoration-color: #000080\">INFO    </span> <span style=\"color: #000000; text-decoration-color: #000000\">Applying selection for CMS_WORKSHOP in ttbar_had with variation muon_id_sf_down    </span><a href=\"file:///home/cms-jovyan/integration-challenge/cms/analysis/nondiff.py\" target=\"_blank\"><span style=\"color: #7f7f7f; text-decoration-color: #7f7f7f\">nondiff.py</span></a><span style=\"color: #7f7f7f; text-decoration-color: #7f7f7f\">:</span><a href=\"file:///home/cms-jovyan/integration-challenge/cms/analysis/nondiff.py#154\" target=\"_blank\"><span style=\"color: #7f7f7f; text-decoration-color: #7f7f7f\">154</span></a>\n",
       "</pre>\n"
      ],
      "text/plain": [
       "\u001b[2;36m        \u001b[0m\u001b[2;36m \u001b[0m\u001b[34mINFO    \u001b[0m \u001b[39mApplying selection for CMS_WORKSHOP in ttbar_had with variation muon_id_sf_down   \u001b[0m\u001b[39m \u001b[0m\u001b]8;id=819385;file:///home/cms-jovyan/integration-challenge/cms/analysis/nondiff.py\u001b\\\u001b[2mnondiff.py\u001b[0m\u001b]8;;\u001b\\\u001b[2m:\u001b[0m\u001b]8;id=264407;file:///home/cms-jovyan/integration-challenge/cms/analysis/nondiff.py#154\u001b\\\u001b[2m154\u001b[0m\u001b]8;;\u001b\\\n"
      ]
     },
     "metadata": {},
     "output_type": "display_data"
    },
    {
     "data": {
      "text/html": [
       "<pre style=\"white-space:pre;overflow-x:auto;line-height:normal;font-family:Menlo,'DejaVu Sans Mono',consolas,'Courier New',monospace\"><span style=\"color: #7fbfbf; text-decoration-color: #7fbfbf\">         </span><span style=\"color: #000080; text-decoration-color: #000080\">INFO    </span> <span style=\"color: #000000; text-decoration-color: #000000\">Applying correction: muon_id_sf/NUM_TightID_DEN_TrackerMuons </span><span style=\"color: #000000; text-decoration-color: #000000; font-weight: bold\">(</span><span style=\"color: #000000; text-decoration-color: #000000\">systdown</span><span style=\"color: #000000; text-decoration-color: #000000; font-weight: bold\">)</span><span style=\"color: #000000; text-decoration-color: #000000\">               </span><a href=\"file:///home/cms-jovyan/integration-challenge/cms/analysis/base.py\" target=\"_blank\"><span style=\"color: #7f7f7f; text-decoration-color: #7f7f7f\">base.py</span></a><span style=\"color: #7f7f7f; text-decoration-color: #7f7f7f\">:</span><a href=\"file:///home/cms-jovyan/integration-challenge/cms/analysis/base.py#247\" target=\"_blank\"><span style=\"color: #7f7f7f; text-decoration-color: #7f7f7f\">247</span></a>\n",
       "</pre>\n"
      ],
      "text/plain": [
       "\u001b[2;36m        \u001b[0m\u001b[2;36m \u001b[0m\u001b[34mINFO    \u001b[0m \u001b[39mApplying correction: muon_id_sf/NUM_TightID_DEN_TrackerMuons \u001b[0m\u001b[1;39m(\u001b[0m\u001b[39msystdown\u001b[0m\u001b[1;39m)\u001b[0m\u001b[39m              \u001b[0m\u001b[39m \u001b[0m\u001b]8;id=164071;file:///home/cms-jovyan/integration-challenge/cms/analysis/base.py\u001b\\\u001b[2mbase.py\u001b[0m\u001b]8;;\u001b\\\u001b[2m:\u001b[0m\u001b]8;id=99709;file:///home/cms-jovyan/integration-challenge/cms/analysis/base.py#247\u001b\\\u001b[2m247\u001b[0m\u001b]8;;\u001b\\\n"
      ]
     },
     "metadata": {},
     "output_type": "display_data"
    },
    {
     "data": {
      "text/html": [
       "<pre style=\"white-space:pre;overflow-x:auto;line-height:normal;font-family:Menlo,'DejaVu Sans Mono',consolas,'Courier New',monospace\"><span style=\"color: #7fbfbf; text-decoration-color: #7fbfbf\">         </span><span style=\"color: #000080; text-decoration-color: #000080\">INFO    </span> <span style=\"color: #000000; text-decoration-color: #000000\">Number of weighted events in CMS_WORKSHOP: </span><span style=\"color: #008080; text-decoration-color: #008080; font-weight: bold\">8.85</span><span style=\"color: #000000; text-decoration-color: #000000\">                                    </span><a href=\"file:///home/cms-jovyan/integration-challenge/cms/analysis/nondiff.py\" target=\"_blank\"><span style=\"color: #7f7f7f; text-decoration-color: #7f7f7f\">nondiff.py</span></a><span style=\"color: #7f7f7f; text-decoration-color: #7f7f7f\">:</span><a href=\"file:///home/cms-jovyan/integration-challenge/cms/analysis/nondiff.py#205\" target=\"_blank\"><span style=\"color: #7f7f7f; text-decoration-color: #7f7f7f\">205</span></a>\n",
       "</pre>\n"
      ],
      "text/plain": [
       "\u001b[2;36m        \u001b[0m\u001b[2;36m \u001b[0m\u001b[34mINFO    \u001b[0m \u001b[39mNumber of weighted events in CMS_WORKSHOP: \u001b[0m\u001b[1;36m8.85\u001b[0m\u001b[39m                                   \u001b[0m\u001b[39m \u001b[0m\u001b]8;id=832915;file:///home/cms-jovyan/integration-challenge/cms/analysis/nondiff.py\u001b\\\u001b[2mnondiff.py\u001b[0m\u001b]8;;\u001b\\\u001b[2m:\u001b[0m\u001b]8;id=855261;file:///home/cms-jovyan/integration-challenge/cms/analysis/nondiff.py#205\u001b\\\u001b[2m205\u001b[0m\u001b]8;;\u001b\\\n"
      ]
     },
     "metadata": {},
     "output_type": "display_data"
    },
    {
     "data": {
      "text/html": [
       "<pre style=\"white-space:pre;overflow-x:auto;line-height:normal;font-family:Menlo,'DejaVu Sans Mono',consolas,'Courier New',monospace\"><span style=\"color: #7fbfbf; text-decoration-color: #7fbfbf\">         </span><span style=\"color: #000080; text-decoration-color: #000080\">INFO    </span> <span style=\"color: #000000; text-decoration-color: #000000\">Number of raw events in CMS_WORKSHOP: </span><span style=\"color: #008080; text-decoration-color: #008080; font-weight: bold\">9</span><span style=\"color: #000000; text-decoration-color: #000000\">                                            </span><a href=\"file:///home/cms-jovyan/integration-challenge/cms/analysis/nondiff.py\" target=\"_blank\"><span style=\"color: #7f7f7f; text-decoration-color: #7f7f7f\">nondiff.py</span></a><span style=\"color: #7f7f7f; text-decoration-color: #7f7f7f\">:</span><a href=\"file:///home/cms-jovyan/integration-challenge/cms/analysis/nondiff.py#208\" target=\"_blank\"><span style=\"color: #7f7f7f; text-decoration-color: #7f7f7f\">208</span></a>\n",
       "</pre>\n"
      ],
      "text/plain": [
       "\u001b[2;36m        \u001b[0m\u001b[2;36m \u001b[0m\u001b[34mINFO    \u001b[0m \u001b[39mNumber of raw events in CMS_WORKSHOP: \u001b[0m\u001b[1;36m9\u001b[0m\u001b[39m                                           \u001b[0m\u001b[39m \u001b[0m\u001b]8;id=562202;file:///home/cms-jovyan/integration-challenge/cms/analysis/nondiff.py\u001b\\\u001b[2mnondiff.py\u001b[0m\u001b]8;;\u001b\\\u001b[2m:\u001b[0m\u001b]8;id=306540;file:///home/cms-jovyan/integration-challenge/cms/analysis/nondiff.py#208\u001b\\\u001b[2m208\u001b[0m\u001b]8;;\u001b\\\n"
      ]
     },
     "metadata": {},
     "output_type": "display_data"
    },
    {
     "data": {
      "text/html": [
       "<pre style=\"white-space:pre;overflow-x:auto;line-height:normal;font-family:Menlo,'DejaVu Sans Mono',consolas,'Courier New',monospace\"><span style=\"color: #7fbfbf; text-decoration-color: #7fbfbf\">         </span><span style=\"color: #000080; text-decoration-color: #000080\">INFO    </span> <span style=\"color: #000000; text-decoration-color: #000000\">Computing observable workshop_mtt                                                  </span><a href=\"file:///home/cms-jovyan/integration-challenge/cms/analysis/nondiff.py\" target=\"_blank\"><span style=\"color: #7f7f7f; text-decoration-color: #7f7f7f\">nondiff.py</span></a><span style=\"color: #7f7f7f; text-decoration-color: #7f7f7f\">:</span><a href=\"file:///home/cms-jovyan/integration-challenge/cms/analysis/nondiff.py#213\" target=\"_blank\"><span style=\"color: #7f7f7f; text-decoration-color: #7f7f7f\">213</span></a>\n",
       "</pre>\n"
      ],
      "text/plain": [
       "\u001b[2;36m        \u001b[0m\u001b[2;36m \u001b[0m\u001b[34mINFO    \u001b[0m \u001b[39mComputing observable workshop_mtt                                                 \u001b[0m\u001b[39m \u001b[0m\u001b]8;id=709899;file:///home/cms-jovyan/integration-challenge/cms/analysis/nondiff.py\u001b\\\u001b[2mnondiff.py\u001b[0m\u001b]8;;\u001b\\\u001b[2m:\u001b[0m\u001b]8;id=447496;file:///home/cms-jovyan/integration-challenge/cms/analysis/nondiff.py#213\u001b\\\u001b[2m213\u001b[0m\u001b]8;;\u001b\\\n"
      ]
     },
     "metadata": {},
     "output_type": "display_data"
    },
    {
     "name": "stdout",
     "output_type": "stream",
     "text": [
      "📊 Processing dataset: ttbar_semilep__nominal\n",
      "   • Processing 181492 events with metadata: ttbar_semilep\n"
     ]
    },
    {
     "data": {
      "text/html": [
       "<pre style=\"white-space:pre;overflow-x:auto;line-height:normal;font-family:Menlo,'DejaVu Sans Mono',consolas,'Courier New',monospace\"><span style=\"color: #7fbfbf; text-decoration-color: #7fbfbf\">         </span><span style=\"color: #000080; text-decoration-color: #000080\">INFO    </span> <span style=\"color: #000000; text-decoration-color: #000000\">Applying selection for CMS_WORKSHOP in ttbar_semilep with variation nominal        </span><a href=\"file:///home/cms-jovyan/integration-challenge/cms/analysis/nondiff.py\" target=\"_blank\"><span style=\"color: #7f7f7f; text-decoration-color: #7f7f7f\">nondiff.py</span></a><span style=\"color: #7f7f7f; text-decoration-color: #7f7f7f\">:</span><a href=\"file:///home/cms-jovyan/integration-challenge/cms/analysis/nondiff.py#154\" target=\"_blank\"><span style=\"color: #7f7f7f; text-decoration-color: #7f7f7f\">154</span></a>\n",
       "</pre>\n"
      ],
      "text/plain": [
       "\u001b[2;36m        \u001b[0m\u001b[2;36m \u001b[0m\u001b[34mINFO    \u001b[0m \u001b[39mApplying selection for CMS_WORKSHOP in ttbar_semilep with variation nominal       \u001b[0m\u001b[39m \u001b[0m\u001b]8;id=104211;file:///home/cms-jovyan/integration-challenge/cms/analysis/nondiff.py\u001b\\\u001b[2mnondiff.py\u001b[0m\u001b]8;;\u001b\\\u001b[2m:\u001b[0m\u001b]8;id=240857;file:///home/cms-jovyan/integration-challenge/cms/analysis/nondiff.py#154\u001b\\\u001b[2m154\u001b[0m\u001b]8;;\u001b\\\n"
      ]
     },
     "metadata": {},
     "output_type": "display_data"
    },
    {
     "data": {
      "text/html": [
       "<pre style=\"white-space:pre;overflow-x:auto;line-height:normal;font-family:Menlo,'DejaVu Sans Mono',consolas,'Courier New',monospace\"><span style=\"color: #7fbfbf; text-decoration-color: #7fbfbf\">         </span><span style=\"color: #000080; text-decoration-color: #000080\">INFO    </span> <span style=\"color: #000000; text-decoration-color: #000000\">Number of weighted events in CMS_WORKSHOP: </span><span style=\"color: #008080; text-decoration-color: #008080; font-weight: bold\">491.48</span><span style=\"color: #000000; text-decoration-color: #000000\">                                  </span><a href=\"file:///home/cms-jovyan/integration-challenge/cms/analysis/nondiff.py\" target=\"_blank\"><span style=\"color: #7f7f7f; text-decoration-color: #7f7f7f\">nondiff.py</span></a><span style=\"color: #7f7f7f; text-decoration-color: #7f7f7f\">:</span><a href=\"file:///home/cms-jovyan/integration-challenge/cms/analysis/nondiff.py#205\" target=\"_blank\"><span style=\"color: #7f7f7f; text-decoration-color: #7f7f7f\">205</span></a>\n",
       "</pre>\n"
      ],
      "text/plain": [
       "\u001b[2;36m        \u001b[0m\u001b[2;36m \u001b[0m\u001b[34mINFO    \u001b[0m \u001b[39mNumber of weighted events in CMS_WORKSHOP: \u001b[0m\u001b[1;36m491.48\u001b[0m\u001b[39m                                 \u001b[0m\u001b[39m \u001b[0m\u001b]8;id=551321;file:///home/cms-jovyan/integration-challenge/cms/analysis/nondiff.py\u001b\\\u001b[2mnondiff.py\u001b[0m\u001b]8;;\u001b\\\u001b[2m:\u001b[0m\u001b]8;id=613145;file:///home/cms-jovyan/integration-challenge/cms/analysis/nondiff.py#205\u001b\\\u001b[2m205\u001b[0m\u001b]8;;\u001b\\\n"
      ]
     },
     "metadata": {},
     "output_type": "display_data"
    },
    {
     "data": {
      "text/html": [
       "<pre style=\"white-space:pre;overflow-x:auto;line-height:normal;font-family:Menlo,'DejaVu Sans Mono',consolas,'Courier New',monospace\"><span style=\"color: #7fbfbf; text-decoration-color: #7fbfbf\">         </span><span style=\"color: #000080; text-decoration-color: #000080\">INFO    </span> <span style=\"color: #000000; text-decoration-color: #000000\">Number of raw events in CMS_WORKSHOP: </span><span style=\"color: #008080; text-decoration-color: #008080; font-weight: bold\">872</span><span style=\"color: #000000; text-decoration-color: #000000\">                                          </span><a href=\"file:///home/cms-jovyan/integration-challenge/cms/analysis/nondiff.py\" target=\"_blank\"><span style=\"color: #7f7f7f; text-decoration-color: #7f7f7f\">nondiff.py</span></a><span style=\"color: #7f7f7f; text-decoration-color: #7f7f7f\">:</span><a href=\"file:///home/cms-jovyan/integration-challenge/cms/analysis/nondiff.py#208\" target=\"_blank\"><span style=\"color: #7f7f7f; text-decoration-color: #7f7f7f\">208</span></a>\n",
       "</pre>\n"
      ],
      "text/plain": [
       "\u001b[2;36m        \u001b[0m\u001b[2;36m \u001b[0m\u001b[34mINFO    \u001b[0m \u001b[39mNumber of raw events in CMS_WORKSHOP: \u001b[0m\u001b[1;36m872\u001b[0m\u001b[39m                                         \u001b[0m\u001b[39m \u001b[0m\u001b]8;id=244395;file:///home/cms-jovyan/integration-challenge/cms/analysis/nondiff.py\u001b\\\u001b[2mnondiff.py\u001b[0m\u001b]8;;\u001b\\\u001b[2m:\u001b[0m\u001b]8;id=541459;file:///home/cms-jovyan/integration-challenge/cms/analysis/nondiff.py#208\u001b\\\u001b[2m208\u001b[0m\u001b]8;;\u001b\\\n"
      ]
     },
     "metadata": {},
     "output_type": "display_data"
    },
    {
     "data": {
      "text/html": [
       "<pre style=\"white-space:pre;overflow-x:auto;line-height:normal;font-family:Menlo,'DejaVu Sans Mono',consolas,'Courier New',monospace\"><span style=\"color: #7fbfbf; text-decoration-color: #7fbfbf\">         </span><span style=\"color: #000080; text-decoration-color: #000080\">INFO    </span> <span style=\"color: #000000; text-decoration-color: #000000\">Computing observable workshop_mtt                                                  </span><a href=\"file:///home/cms-jovyan/integration-challenge/cms/analysis/nondiff.py\" target=\"_blank\"><span style=\"color: #7f7f7f; text-decoration-color: #7f7f7f\">nondiff.py</span></a><span style=\"color: #7f7f7f; text-decoration-color: #7f7f7f\">:</span><a href=\"file:///home/cms-jovyan/integration-challenge/cms/analysis/nondiff.py#213\" target=\"_blank\"><span style=\"color: #7f7f7f; text-decoration-color: #7f7f7f\">213</span></a>\n",
       "</pre>\n"
      ],
      "text/plain": [
       "\u001b[2;36m        \u001b[0m\u001b[2;36m \u001b[0m\u001b[34mINFO    \u001b[0m \u001b[39mComputing observable workshop_mtt                                                 \u001b[0m\u001b[39m \u001b[0m\u001b]8;id=647968;file:///home/cms-jovyan/integration-challenge/cms/analysis/nondiff.py\u001b\\\u001b[2mnondiff.py\u001b[0m\u001b]8;;\u001b\\\u001b[2m:\u001b[0m\u001b]8;id=616740;file:///home/cms-jovyan/integration-challenge/cms/analysis/nondiff.py#213\u001b\\\u001b[2m213\u001b[0m\u001b]8;;\u001b\\\n"
      ]
     },
     "metadata": {},
     "output_type": "display_data"
    },
    {
     "data": {
      "text/html": [
       "<pre style=\"white-space:pre;overflow-x:auto;line-height:normal;font-family:Menlo,'DejaVu Sans Mono',consolas,'Courier New',monospace\"><span style=\"color: #7fbfbf; text-decoration-color: #7fbfbf\">         </span><span style=\"color: #000080; text-decoration-color: #000080\">INFO    </span> <span style=\"color: #000000; text-decoration-color: #000000\">Applying selection for CMS_WORKSHOP in ttbar_semilep with variation                </span><a href=\"file:///home/cms-jovyan/integration-challenge/cms/analysis/nondiff.py\" target=\"_blank\"><span style=\"color: #7f7f7f; text-decoration-color: #7f7f7f\">nondiff.py</span></a><span style=\"color: #7f7f7f; text-decoration-color: #7f7f7f\">:</span><a href=\"file:///home/cms-jovyan/integration-challenge/cms/analysis/nondiff.py#154\" target=\"_blank\"><span style=\"color: #7f7f7f; text-decoration-color: #7f7f7f\">154</span></a>\n",
       "<span style=\"color: #7fbfbf; text-decoration-color: #7fbfbf\">         </span>         <span style=\"color: #000000; text-decoration-color: #000000\">jet_pt_resolution_up                                                               </span><span style=\"color: #7f7f7f; text-decoration-color: #7f7f7f\">              </span>\n",
       "</pre>\n"
      ],
      "text/plain": [
       "\u001b[2;36m        \u001b[0m\u001b[2;36m \u001b[0m\u001b[34mINFO    \u001b[0m \u001b[39mApplying selection for CMS_WORKSHOP in ttbar_semilep with variation               \u001b[0m\u001b[39m \u001b[0m\u001b]8;id=37730;file:///home/cms-jovyan/integration-challenge/cms/analysis/nondiff.py\u001b\\\u001b[2mnondiff.py\u001b[0m\u001b]8;;\u001b\\\u001b[2m:\u001b[0m\u001b]8;id=279031;file:///home/cms-jovyan/integration-challenge/cms/analysis/nondiff.py#154\u001b\\\u001b[2m154\u001b[0m\u001b]8;;\u001b\\\n",
       "\u001b[2;36m         \u001b[0m         \u001b[39mjet_pt_resolution_up                                                              \u001b[0m\u001b[39m \u001b[0m\u001b[2m              \u001b[0m\n"
      ]
     },
     "metadata": {},
     "output_type": "display_data"
    },
    {
     "data": {
      "text/html": [
       "<pre style=\"white-space:pre;overflow-x:auto;line-height:normal;font-family:Menlo,'DejaVu Sans Mono',consolas,'Courier New',monospace\"><span style=\"color: #7fbfbf; text-decoration-color: #7fbfbf\">         </span><span style=\"color: #000080; text-decoration-color: #000080\">INFO    </span> <span style=\"color: #000000; text-decoration-color: #000000\">Number of weighted events in CMS_WORKSHOP: </span><span style=\"color: #008080; text-decoration-color: #008080; font-weight: bold\">491.48</span><span style=\"color: #000000; text-decoration-color: #000000\">                                  </span><a href=\"file:///home/cms-jovyan/integration-challenge/cms/analysis/nondiff.py\" target=\"_blank\"><span style=\"color: #7f7f7f; text-decoration-color: #7f7f7f\">nondiff.py</span></a><span style=\"color: #7f7f7f; text-decoration-color: #7f7f7f\">:</span><a href=\"file:///home/cms-jovyan/integration-challenge/cms/analysis/nondiff.py#205\" target=\"_blank\"><span style=\"color: #7f7f7f; text-decoration-color: #7f7f7f\">205</span></a>\n",
       "</pre>\n"
      ],
      "text/plain": [
       "\u001b[2;36m        \u001b[0m\u001b[2;36m \u001b[0m\u001b[34mINFO    \u001b[0m \u001b[39mNumber of weighted events in CMS_WORKSHOP: \u001b[0m\u001b[1;36m491.48\u001b[0m\u001b[39m                                 \u001b[0m\u001b[39m \u001b[0m\u001b]8;id=662423;file:///home/cms-jovyan/integration-challenge/cms/analysis/nondiff.py\u001b\\\u001b[2mnondiff.py\u001b[0m\u001b]8;;\u001b\\\u001b[2m:\u001b[0m\u001b]8;id=999153;file:///home/cms-jovyan/integration-challenge/cms/analysis/nondiff.py#205\u001b\\\u001b[2m205\u001b[0m\u001b]8;;\u001b\\\n"
      ]
     },
     "metadata": {},
     "output_type": "display_data"
    },
    {
     "data": {
      "text/html": [
       "<pre style=\"white-space:pre;overflow-x:auto;line-height:normal;font-family:Menlo,'DejaVu Sans Mono',consolas,'Courier New',monospace\"><span style=\"color: #7fbfbf; text-decoration-color: #7fbfbf\">         </span><span style=\"color: #000080; text-decoration-color: #000080\">INFO    </span> <span style=\"color: #000000; text-decoration-color: #000000\">Number of raw events in CMS_WORKSHOP: </span><span style=\"color: #008080; text-decoration-color: #008080; font-weight: bold\">872</span><span style=\"color: #000000; text-decoration-color: #000000\">                                          </span><a href=\"file:///home/cms-jovyan/integration-challenge/cms/analysis/nondiff.py\" target=\"_blank\"><span style=\"color: #7f7f7f; text-decoration-color: #7f7f7f\">nondiff.py</span></a><span style=\"color: #7f7f7f; text-decoration-color: #7f7f7f\">:</span><a href=\"file:///home/cms-jovyan/integration-challenge/cms/analysis/nondiff.py#208\" target=\"_blank\"><span style=\"color: #7f7f7f; text-decoration-color: #7f7f7f\">208</span></a>\n",
       "</pre>\n"
      ],
      "text/plain": [
       "\u001b[2;36m        \u001b[0m\u001b[2;36m \u001b[0m\u001b[34mINFO    \u001b[0m \u001b[39mNumber of raw events in CMS_WORKSHOP: \u001b[0m\u001b[1;36m872\u001b[0m\u001b[39m                                         \u001b[0m\u001b[39m \u001b[0m\u001b]8;id=397397;file:///home/cms-jovyan/integration-challenge/cms/analysis/nondiff.py\u001b\\\u001b[2mnondiff.py\u001b[0m\u001b]8;;\u001b\\\u001b[2m:\u001b[0m\u001b]8;id=12338;file:///home/cms-jovyan/integration-challenge/cms/analysis/nondiff.py#208\u001b\\\u001b[2m208\u001b[0m\u001b]8;;\u001b\\\n"
      ]
     },
     "metadata": {},
     "output_type": "display_data"
    },
    {
     "data": {
      "text/html": [
       "<pre style=\"white-space:pre;overflow-x:auto;line-height:normal;font-family:Menlo,'DejaVu Sans Mono',consolas,'Courier New',monospace\"><span style=\"color: #7fbfbf; text-decoration-color: #7fbfbf\">         </span><span style=\"color: #000080; text-decoration-color: #000080\">INFO    </span> <span style=\"color: #000000; text-decoration-color: #000000\">Computing observable workshop_mtt                                                  </span><a href=\"file:///home/cms-jovyan/integration-challenge/cms/analysis/nondiff.py\" target=\"_blank\"><span style=\"color: #7f7f7f; text-decoration-color: #7f7f7f\">nondiff.py</span></a><span style=\"color: #7f7f7f; text-decoration-color: #7f7f7f\">:</span><a href=\"file:///home/cms-jovyan/integration-challenge/cms/analysis/nondiff.py#213\" target=\"_blank\"><span style=\"color: #7f7f7f; text-decoration-color: #7f7f7f\">213</span></a>\n",
       "</pre>\n"
      ],
      "text/plain": [
       "\u001b[2;36m        \u001b[0m\u001b[2;36m \u001b[0m\u001b[34mINFO    \u001b[0m \u001b[39mComputing observable workshop_mtt                                                 \u001b[0m\u001b[39m \u001b[0m\u001b]8;id=295993;file:///home/cms-jovyan/integration-challenge/cms/analysis/nondiff.py\u001b\\\u001b[2mnondiff.py\u001b[0m\u001b]8;;\u001b\\\u001b[2m:\u001b[0m\u001b]8;id=342304;file:///home/cms-jovyan/integration-challenge/cms/analysis/nondiff.py#213\u001b\\\u001b[2m213\u001b[0m\u001b]8;;\u001b\\\n"
      ]
     },
     "metadata": {},
     "output_type": "display_data"
    },
    {
     "data": {
      "text/html": [
       "<pre style=\"white-space:pre;overflow-x:auto;line-height:normal;font-family:Menlo,'DejaVu Sans Mono',consolas,'Courier New',monospace\"><span style=\"color: #7fbfbf; text-decoration-color: #7fbfbf\">         </span><span style=\"color: #000080; text-decoration-color: #000080\">INFO    </span> <span style=\"color: #000000; text-decoration-color: #000000\">Applying selection for CMS_WORKSHOP in ttbar_semilep with variation                </span><a href=\"file:///home/cms-jovyan/integration-challenge/cms/analysis/nondiff.py\" target=\"_blank\"><span style=\"color: #7f7f7f; text-decoration-color: #7f7f7f\">nondiff.py</span></a><span style=\"color: #7f7f7f; text-decoration-color: #7f7f7f\">:</span><a href=\"file:///home/cms-jovyan/integration-challenge/cms/analysis/nondiff.py#154\" target=\"_blank\"><span style=\"color: #7f7f7f; text-decoration-color: #7f7f7f\">154</span></a>\n",
       "<span style=\"color: #7fbfbf; text-decoration-color: #7fbfbf\">         </span>         <span style=\"color: #000000; text-decoration-color: #000000\">jet_pt_resolution_down                                                             </span><span style=\"color: #7f7f7f; text-decoration-color: #7f7f7f\">              </span>\n",
       "</pre>\n"
      ],
      "text/plain": [
       "\u001b[2;36m        \u001b[0m\u001b[2;36m \u001b[0m\u001b[34mINFO    \u001b[0m \u001b[39mApplying selection for CMS_WORKSHOP in ttbar_semilep with variation               \u001b[0m\u001b[39m \u001b[0m\u001b]8;id=970807;file:///home/cms-jovyan/integration-challenge/cms/analysis/nondiff.py\u001b\\\u001b[2mnondiff.py\u001b[0m\u001b]8;;\u001b\\\u001b[2m:\u001b[0m\u001b]8;id=316517;file:///home/cms-jovyan/integration-challenge/cms/analysis/nondiff.py#154\u001b\\\u001b[2m154\u001b[0m\u001b]8;;\u001b\\\n",
       "\u001b[2;36m         \u001b[0m         \u001b[39mjet_pt_resolution_down                                                            \u001b[0m\u001b[39m \u001b[0m\u001b[2m              \u001b[0m\n"
      ]
     },
     "metadata": {},
     "output_type": "display_data"
    },
    {
     "data": {
      "text/html": [
       "<pre style=\"white-space:pre;overflow-x:auto;line-height:normal;font-family:Menlo,'DejaVu Sans Mono',consolas,'Courier New',monospace\"><span style=\"color: #7fbfbf; text-decoration-color: #7fbfbf\">         </span><span style=\"color: #000080; text-decoration-color: #000080\">INFO    </span> <span style=\"color: #000000; text-decoration-color: #000000\">Number of weighted events in CMS_WORKSHOP: </span><span style=\"color: #008080; text-decoration-color: #008080; font-weight: bold\">491.48</span><span style=\"color: #000000; text-decoration-color: #000000\">                                  </span><a href=\"file:///home/cms-jovyan/integration-challenge/cms/analysis/nondiff.py\" target=\"_blank\"><span style=\"color: #7f7f7f; text-decoration-color: #7f7f7f\">nondiff.py</span></a><span style=\"color: #7f7f7f; text-decoration-color: #7f7f7f\">:</span><a href=\"file:///home/cms-jovyan/integration-challenge/cms/analysis/nondiff.py#205\" target=\"_blank\"><span style=\"color: #7f7f7f; text-decoration-color: #7f7f7f\">205</span></a>\n",
       "</pre>\n"
      ],
      "text/plain": [
       "\u001b[2;36m        \u001b[0m\u001b[2;36m \u001b[0m\u001b[34mINFO    \u001b[0m \u001b[39mNumber of weighted events in CMS_WORKSHOP: \u001b[0m\u001b[1;36m491.48\u001b[0m\u001b[39m                                 \u001b[0m\u001b[39m \u001b[0m\u001b]8;id=414282;file:///home/cms-jovyan/integration-challenge/cms/analysis/nondiff.py\u001b\\\u001b[2mnondiff.py\u001b[0m\u001b]8;;\u001b\\\u001b[2m:\u001b[0m\u001b]8;id=938621;file:///home/cms-jovyan/integration-challenge/cms/analysis/nondiff.py#205\u001b\\\u001b[2m205\u001b[0m\u001b]8;;\u001b\\\n"
      ]
     },
     "metadata": {},
     "output_type": "display_data"
    },
    {
     "data": {
      "text/html": [
       "<pre style=\"white-space:pre;overflow-x:auto;line-height:normal;font-family:Menlo,'DejaVu Sans Mono',consolas,'Courier New',monospace\"><span style=\"color: #7fbfbf; text-decoration-color: #7fbfbf\">         </span><span style=\"color: #000080; text-decoration-color: #000080\">INFO    </span> <span style=\"color: #000000; text-decoration-color: #000000\">Number of raw events in CMS_WORKSHOP: </span><span style=\"color: #008080; text-decoration-color: #008080; font-weight: bold\">872</span><span style=\"color: #000000; text-decoration-color: #000000\">                                          </span><a href=\"file:///home/cms-jovyan/integration-challenge/cms/analysis/nondiff.py\" target=\"_blank\"><span style=\"color: #7f7f7f; text-decoration-color: #7f7f7f\">nondiff.py</span></a><span style=\"color: #7f7f7f; text-decoration-color: #7f7f7f\">:</span><a href=\"file:///home/cms-jovyan/integration-challenge/cms/analysis/nondiff.py#208\" target=\"_blank\"><span style=\"color: #7f7f7f; text-decoration-color: #7f7f7f\">208</span></a>\n",
       "</pre>\n"
      ],
      "text/plain": [
       "\u001b[2;36m        \u001b[0m\u001b[2;36m \u001b[0m\u001b[34mINFO    \u001b[0m \u001b[39mNumber of raw events in CMS_WORKSHOP: \u001b[0m\u001b[1;36m872\u001b[0m\u001b[39m                                         \u001b[0m\u001b[39m \u001b[0m\u001b]8;id=793077;file:///home/cms-jovyan/integration-challenge/cms/analysis/nondiff.py\u001b\\\u001b[2mnondiff.py\u001b[0m\u001b]8;;\u001b\\\u001b[2m:\u001b[0m\u001b]8;id=974146;file:///home/cms-jovyan/integration-challenge/cms/analysis/nondiff.py#208\u001b\\\u001b[2m208\u001b[0m\u001b]8;;\u001b\\\n"
      ]
     },
     "metadata": {},
     "output_type": "display_data"
    },
    {
     "data": {
      "text/html": [
       "<pre style=\"white-space:pre;overflow-x:auto;line-height:normal;font-family:Menlo,'DejaVu Sans Mono',consolas,'Courier New',monospace\"><span style=\"color: #7fbfbf; text-decoration-color: #7fbfbf\">         </span><span style=\"color: #000080; text-decoration-color: #000080\">INFO    </span> <span style=\"color: #000000; text-decoration-color: #000000\">Computing observable workshop_mtt                                                  </span><a href=\"file:///home/cms-jovyan/integration-challenge/cms/analysis/nondiff.py\" target=\"_blank\"><span style=\"color: #7f7f7f; text-decoration-color: #7f7f7f\">nondiff.py</span></a><span style=\"color: #7f7f7f; text-decoration-color: #7f7f7f\">:</span><a href=\"file:///home/cms-jovyan/integration-challenge/cms/analysis/nondiff.py#213\" target=\"_blank\"><span style=\"color: #7f7f7f; text-decoration-color: #7f7f7f\">213</span></a>\n",
       "</pre>\n"
      ],
      "text/plain": [
       "\u001b[2;36m        \u001b[0m\u001b[2;36m \u001b[0m\u001b[34mINFO    \u001b[0m \u001b[39mComputing observable workshop_mtt                                                 \u001b[0m\u001b[39m \u001b[0m\u001b]8;id=611226;file:///home/cms-jovyan/integration-challenge/cms/analysis/nondiff.py\u001b\\\u001b[2mnondiff.py\u001b[0m\u001b]8;;\u001b\\\u001b[2m:\u001b[0m\u001b]8;id=957806;file:///home/cms-jovyan/integration-challenge/cms/analysis/nondiff.py#213\u001b\\\u001b[2m213\u001b[0m\u001b]8;;\u001b\\\n"
      ]
     },
     "metadata": {},
     "output_type": "display_data"
    },
    {
     "data": {
      "text/html": [
       "<pre style=\"white-space:pre;overflow-x:auto;line-height:normal;font-family:Menlo,'DejaVu Sans Mono',consolas,'Courier New',monospace\"><span style=\"color: #7fbfbf; text-decoration-color: #7fbfbf\">         </span><span style=\"color: #000080; text-decoration-color: #000080\">INFO    </span> <span style=\"color: #000000; text-decoration-color: #000000\">Applying selection for CMS_WORKSHOP in ttbar_semilep with variation                </span><a href=\"file:///home/cms-jovyan/integration-challenge/cms/analysis/nondiff.py\" target=\"_blank\"><span style=\"color: #7f7f7f; text-decoration-color: #7f7f7f\">nondiff.py</span></a><span style=\"color: #7f7f7f; text-decoration-color: #7f7f7f\">:</span><a href=\"file:///home/cms-jovyan/integration-challenge/cms/analysis/nondiff.py#154\" target=\"_blank\"><span style=\"color: #7f7f7f; text-decoration-color: #7f7f7f\">154</span></a>\n",
       "<span style=\"color: #7fbfbf; text-decoration-color: #7fbfbf\">         </span>         <span style=\"color: #000000; text-decoration-color: #000000\">jet_pt_scale_up                                                                    </span><span style=\"color: #7f7f7f; text-decoration-color: #7f7f7f\">              </span>\n",
       "</pre>\n"
      ],
      "text/plain": [
       "\u001b[2;36m        \u001b[0m\u001b[2;36m \u001b[0m\u001b[34mINFO    \u001b[0m \u001b[39mApplying selection for CMS_WORKSHOP in ttbar_semilep with variation               \u001b[0m\u001b[39m \u001b[0m\u001b]8;id=595170;file:///home/cms-jovyan/integration-challenge/cms/analysis/nondiff.py\u001b\\\u001b[2mnondiff.py\u001b[0m\u001b]8;;\u001b\\\u001b[2m:\u001b[0m\u001b]8;id=737334;file:///home/cms-jovyan/integration-challenge/cms/analysis/nondiff.py#154\u001b\\\u001b[2m154\u001b[0m\u001b]8;;\u001b\\\n",
       "\u001b[2;36m         \u001b[0m         \u001b[39mjet_pt_scale_up                                                                   \u001b[0m\u001b[39m \u001b[0m\u001b[2m              \u001b[0m\n"
      ]
     },
     "metadata": {},
     "output_type": "display_data"
    },
    {
     "data": {
      "text/html": [
       "<pre style=\"white-space:pre;overflow-x:auto;line-height:normal;font-family:Menlo,'DejaVu Sans Mono',consolas,'Courier New',monospace\"><span style=\"color: #7fbfbf; text-decoration-color: #7fbfbf\">         </span><span style=\"color: #000080; text-decoration-color: #000080\">INFO    </span> <span style=\"color: #000000; text-decoration-color: #000000\">Number of weighted events in CMS_WORKSHOP: </span><span style=\"color: #008080; text-decoration-color: #008080; font-weight: bold\">491.48</span><span style=\"color: #000000; text-decoration-color: #000000\">                                  </span><a href=\"file:///home/cms-jovyan/integration-challenge/cms/analysis/nondiff.py\" target=\"_blank\"><span style=\"color: #7f7f7f; text-decoration-color: #7f7f7f\">nondiff.py</span></a><span style=\"color: #7f7f7f; text-decoration-color: #7f7f7f\">:</span><a href=\"file:///home/cms-jovyan/integration-challenge/cms/analysis/nondiff.py#205\" target=\"_blank\"><span style=\"color: #7f7f7f; text-decoration-color: #7f7f7f\">205</span></a>\n",
       "</pre>\n"
      ],
      "text/plain": [
       "\u001b[2;36m        \u001b[0m\u001b[2;36m \u001b[0m\u001b[34mINFO    \u001b[0m \u001b[39mNumber of weighted events in CMS_WORKSHOP: \u001b[0m\u001b[1;36m491.48\u001b[0m\u001b[39m                                 \u001b[0m\u001b[39m \u001b[0m\u001b]8;id=592508;file:///home/cms-jovyan/integration-challenge/cms/analysis/nondiff.py\u001b\\\u001b[2mnondiff.py\u001b[0m\u001b]8;;\u001b\\\u001b[2m:\u001b[0m\u001b]8;id=123349;file:///home/cms-jovyan/integration-challenge/cms/analysis/nondiff.py#205\u001b\\\u001b[2m205\u001b[0m\u001b]8;;\u001b\\\n"
      ]
     },
     "metadata": {},
     "output_type": "display_data"
    },
    {
     "data": {
      "text/html": [
       "<pre style=\"white-space:pre;overflow-x:auto;line-height:normal;font-family:Menlo,'DejaVu Sans Mono',consolas,'Courier New',monospace\"><span style=\"color: #7fbfbf; text-decoration-color: #7fbfbf\">         </span><span style=\"color: #000080; text-decoration-color: #000080\">INFO    </span> <span style=\"color: #000000; text-decoration-color: #000000\">Number of raw events in CMS_WORKSHOP: </span><span style=\"color: #008080; text-decoration-color: #008080; font-weight: bold\">872</span><span style=\"color: #000000; text-decoration-color: #000000\">                                          </span><a href=\"file:///home/cms-jovyan/integration-challenge/cms/analysis/nondiff.py\" target=\"_blank\"><span style=\"color: #7f7f7f; text-decoration-color: #7f7f7f\">nondiff.py</span></a><span style=\"color: #7f7f7f; text-decoration-color: #7f7f7f\">:</span><a href=\"file:///home/cms-jovyan/integration-challenge/cms/analysis/nondiff.py#208\" target=\"_blank\"><span style=\"color: #7f7f7f; text-decoration-color: #7f7f7f\">208</span></a>\n",
       "</pre>\n"
      ],
      "text/plain": [
       "\u001b[2;36m        \u001b[0m\u001b[2;36m \u001b[0m\u001b[34mINFO    \u001b[0m \u001b[39mNumber of raw events in CMS_WORKSHOP: \u001b[0m\u001b[1;36m872\u001b[0m\u001b[39m                                         \u001b[0m\u001b[39m \u001b[0m\u001b]8;id=902332;file:///home/cms-jovyan/integration-challenge/cms/analysis/nondiff.py\u001b\\\u001b[2mnondiff.py\u001b[0m\u001b]8;;\u001b\\\u001b[2m:\u001b[0m\u001b]8;id=857545;file:///home/cms-jovyan/integration-challenge/cms/analysis/nondiff.py#208\u001b\\\u001b[2m208\u001b[0m\u001b]8;;\u001b\\\n"
      ]
     },
     "metadata": {},
     "output_type": "display_data"
    },
    {
     "data": {
      "text/html": [
       "<pre style=\"white-space:pre;overflow-x:auto;line-height:normal;font-family:Menlo,'DejaVu Sans Mono',consolas,'Courier New',monospace\"><span style=\"color: #7fbfbf; text-decoration-color: #7fbfbf\">         </span><span style=\"color: #000080; text-decoration-color: #000080\">INFO    </span> <span style=\"color: #000000; text-decoration-color: #000000\">Computing observable workshop_mtt                                                  </span><a href=\"file:///home/cms-jovyan/integration-challenge/cms/analysis/nondiff.py\" target=\"_blank\"><span style=\"color: #7f7f7f; text-decoration-color: #7f7f7f\">nondiff.py</span></a><span style=\"color: #7f7f7f; text-decoration-color: #7f7f7f\">:</span><a href=\"file:///home/cms-jovyan/integration-challenge/cms/analysis/nondiff.py#213\" target=\"_blank\"><span style=\"color: #7f7f7f; text-decoration-color: #7f7f7f\">213</span></a>\n",
       "</pre>\n"
      ],
      "text/plain": [
       "\u001b[2;36m        \u001b[0m\u001b[2;36m \u001b[0m\u001b[34mINFO    \u001b[0m \u001b[39mComputing observable workshop_mtt                                                 \u001b[0m\u001b[39m \u001b[0m\u001b]8;id=701658;file:///home/cms-jovyan/integration-challenge/cms/analysis/nondiff.py\u001b\\\u001b[2mnondiff.py\u001b[0m\u001b]8;;\u001b\\\u001b[2m:\u001b[0m\u001b]8;id=107166;file:///home/cms-jovyan/integration-challenge/cms/analysis/nondiff.py#213\u001b\\\u001b[2m213\u001b[0m\u001b]8;;\u001b\\\n"
      ]
     },
     "metadata": {},
     "output_type": "display_data"
    },
    {
     "data": {
      "text/html": [
       "<pre style=\"white-space:pre;overflow-x:auto;line-height:normal;font-family:Menlo,'DejaVu Sans Mono',consolas,'Courier New',monospace\"><span style=\"color: #7fbfbf; text-decoration-color: #7fbfbf\">         </span><span style=\"color: #000080; text-decoration-color: #000080\">INFO    </span> <span style=\"color: #000000; text-decoration-color: #000000\">Applying selection for CMS_WORKSHOP in ttbar_semilep with variation                </span><a href=\"file:///home/cms-jovyan/integration-challenge/cms/analysis/nondiff.py\" target=\"_blank\"><span style=\"color: #7f7f7f; text-decoration-color: #7f7f7f\">nondiff.py</span></a><span style=\"color: #7f7f7f; text-decoration-color: #7f7f7f\">:</span><a href=\"file:///home/cms-jovyan/integration-challenge/cms/analysis/nondiff.py#154\" target=\"_blank\"><span style=\"color: #7f7f7f; text-decoration-color: #7f7f7f\">154</span></a>\n",
       "<span style=\"color: #7fbfbf; text-decoration-color: #7fbfbf\">         </span>         <span style=\"color: #000000; text-decoration-color: #000000\">jet_pt_scale_down                                                                  </span><span style=\"color: #7f7f7f; text-decoration-color: #7f7f7f\">              </span>\n",
       "</pre>\n"
      ],
      "text/plain": [
       "\u001b[2;36m        \u001b[0m\u001b[2;36m \u001b[0m\u001b[34mINFO    \u001b[0m \u001b[39mApplying selection for CMS_WORKSHOP in ttbar_semilep with variation               \u001b[0m\u001b[39m \u001b[0m\u001b]8;id=642687;file:///home/cms-jovyan/integration-challenge/cms/analysis/nondiff.py\u001b\\\u001b[2mnondiff.py\u001b[0m\u001b]8;;\u001b\\\u001b[2m:\u001b[0m\u001b]8;id=786840;file:///home/cms-jovyan/integration-challenge/cms/analysis/nondiff.py#154\u001b\\\u001b[2m154\u001b[0m\u001b]8;;\u001b\\\n",
       "\u001b[2;36m         \u001b[0m         \u001b[39mjet_pt_scale_down                                                                 \u001b[0m\u001b[39m \u001b[0m\u001b[2m              \u001b[0m\n"
      ]
     },
     "metadata": {},
     "output_type": "display_data"
    },
    {
     "data": {
      "text/html": [
       "<pre style=\"white-space:pre;overflow-x:auto;line-height:normal;font-family:Menlo,'DejaVu Sans Mono',consolas,'Courier New',monospace\"><span style=\"color: #7fbfbf; text-decoration-color: #7fbfbf\">         </span><span style=\"color: #000080; text-decoration-color: #000080\">INFO    </span> <span style=\"color: #000000; text-decoration-color: #000000\">Number of weighted events in CMS_WORKSHOP: </span><span style=\"color: #008080; text-decoration-color: #008080; font-weight: bold\">491.48</span><span style=\"color: #000000; text-decoration-color: #000000\">                                  </span><a href=\"file:///home/cms-jovyan/integration-challenge/cms/analysis/nondiff.py\" target=\"_blank\"><span style=\"color: #7f7f7f; text-decoration-color: #7f7f7f\">nondiff.py</span></a><span style=\"color: #7f7f7f; text-decoration-color: #7f7f7f\">:</span><a href=\"file:///home/cms-jovyan/integration-challenge/cms/analysis/nondiff.py#205\" target=\"_blank\"><span style=\"color: #7f7f7f; text-decoration-color: #7f7f7f\">205</span></a>\n",
       "</pre>\n"
      ],
      "text/plain": [
       "\u001b[2;36m        \u001b[0m\u001b[2;36m \u001b[0m\u001b[34mINFO    \u001b[0m \u001b[39mNumber of weighted events in CMS_WORKSHOP: \u001b[0m\u001b[1;36m491.48\u001b[0m\u001b[39m                                 \u001b[0m\u001b[39m \u001b[0m\u001b]8;id=933384;file:///home/cms-jovyan/integration-challenge/cms/analysis/nondiff.py\u001b\\\u001b[2mnondiff.py\u001b[0m\u001b]8;;\u001b\\\u001b[2m:\u001b[0m\u001b]8;id=230447;file:///home/cms-jovyan/integration-challenge/cms/analysis/nondiff.py#205\u001b\\\u001b[2m205\u001b[0m\u001b]8;;\u001b\\\n"
      ]
     },
     "metadata": {},
     "output_type": "display_data"
    },
    {
     "data": {
      "text/html": [
       "<pre style=\"white-space:pre;overflow-x:auto;line-height:normal;font-family:Menlo,'DejaVu Sans Mono',consolas,'Courier New',monospace\"><span style=\"color: #7fbfbf; text-decoration-color: #7fbfbf\">         </span><span style=\"color: #000080; text-decoration-color: #000080\">INFO    </span> <span style=\"color: #000000; text-decoration-color: #000000\">Number of raw events in CMS_WORKSHOP: </span><span style=\"color: #008080; text-decoration-color: #008080; font-weight: bold\">872</span><span style=\"color: #000000; text-decoration-color: #000000\">                                          </span><a href=\"file:///home/cms-jovyan/integration-challenge/cms/analysis/nondiff.py\" target=\"_blank\"><span style=\"color: #7f7f7f; text-decoration-color: #7f7f7f\">nondiff.py</span></a><span style=\"color: #7f7f7f; text-decoration-color: #7f7f7f\">:</span><a href=\"file:///home/cms-jovyan/integration-challenge/cms/analysis/nondiff.py#208\" target=\"_blank\"><span style=\"color: #7f7f7f; text-decoration-color: #7f7f7f\">208</span></a>\n",
       "</pre>\n"
      ],
      "text/plain": [
       "\u001b[2;36m        \u001b[0m\u001b[2;36m \u001b[0m\u001b[34mINFO    \u001b[0m \u001b[39mNumber of raw events in CMS_WORKSHOP: \u001b[0m\u001b[1;36m872\u001b[0m\u001b[39m                                         \u001b[0m\u001b[39m \u001b[0m\u001b]8;id=975772;file:///home/cms-jovyan/integration-challenge/cms/analysis/nondiff.py\u001b\\\u001b[2mnondiff.py\u001b[0m\u001b]8;;\u001b\\\u001b[2m:\u001b[0m\u001b]8;id=278145;file:///home/cms-jovyan/integration-challenge/cms/analysis/nondiff.py#208\u001b\\\u001b[2m208\u001b[0m\u001b]8;;\u001b\\\n"
      ]
     },
     "metadata": {},
     "output_type": "display_data"
    },
    {
     "data": {
      "text/html": [
       "<pre style=\"white-space:pre;overflow-x:auto;line-height:normal;font-family:Menlo,'DejaVu Sans Mono',consolas,'Courier New',monospace\"><span style=\"color: #7fbfbf; text-decoration-color: #7fbfbf\">         </span><span style=\"color: #000080; text-decoration-color: #000080\">INFO    </span> <span style=\"color: #000000; text-decoration-color: #000000\">Computing observable workshop_mtt                                                  </span><a href=\"file:///home/cms-jovyan/integration-challenge/cms/analysis/nondiff.py\" target=\"_blank\"><span style=\"color: #7f7f7f; text-decoration-color: #7f7f7f\">nondiff.py</span></a><span style=\"color: #7f7f7f; text-decoration-color: #7f7f7f\">:</span><a href=\"file:///home/cms-jovyan/integration-challenge/cms/analysis/nondiff.py#213\" target=\"_blank\"><span style=\"color: #7f7f7f; text-decoration-color: #7f7f7f\">213</span></a>\n",
       "</pre>\n"
      ],
      "text/plain": [
       "\u001b[2;36m        \u001b[0m\u001b[2;36m \u001b[0m\u001b[34mINFO    \u001b[0m \u001b[39mComputing observable workshop_mtt                                                 \u001b[0m\u001b[39m \u001b[0m\u001b]8;id=359482;file:///home/cms-jovyan/integration-challenge/cms/analysis/nondiff.py\u001b\\\u001b[2mnondiff.py\u001b[0m\u001b]8;;\u001b\\\u001b[2m:\u001b[0m\u001b]8;id=228172;file:///home/cms-jovyan/integration-challenge/cms/analysis/nondiff.py#213\u001b\\\u001b[2m213\u001b[0m\u001b]8;;\u001b\\\n"
      ]
     },
     "metadata": {},
     "output_type": "display_data"
    },
    {
     "data": {
      "text/html": [
       "<pre style=\"white-space:pre;overflow-x:auto;line-height:normal;font-family:Menlo,'DejaVu Sans Mono',consolas,'Courier New',monospace\"><span style=\"color: #7fbfbf; text-decoration-color: #7fbfbf\">         </span><span style=\"color: #000080; text-decoration-color: #000080\">INFO    </span> <span style=\"color: #000000; text-decoration-color: #000000\">Applying selection for CMS_WORKSHOP in ttbar_semilep with variation pu_weight_up   </span><a href=\"file:///home/cms-jovyan/integration-challenge/cms/analysis/nondiff.py\" target=\"_blank\"><span style=\"color: #7f7f7f; text-decoration-color: #7f7f7f\">nondiff.py</span></a><span style=\"color: #7f7f7f; text-decoration-color: #7f7f7f\">:</span><a href=\"file:///home/cms-jovyan/integration-challenge/cms/analysis/nondiff.py#154\" target=\"_blank\"><span style=\"color: #7f7f7f; text-decoration-color: #7f7f7f\">154</span></a>\n",
       "</pre>\n"
      ],
      "text/plain": [
       "\u001b[2;36m        \u001b[0m\u001b[2;36m \u001b[0m\u001b[34mINFO    \u001b[0m \u001b[39mApplying selection for CMS_WORKSHOP in ttbar_semilep with variation pu_weight_up  \u001b[0m\u001b[39m \u001b[0m\u001b]8;id=188504;file:///home/cms-jovyan/integration-challenge/cms/analysis/nondiff.py\u001b\\\u001b[2mnondiff.py\u001b[0m\u001b]8;;\u001b\\\u001b[2m:\u001b[0m\u001b]8;id=98938;file:///home/cms-jovyan/integration-challenge/cms/analysis/nondiff.py#154\u001b\\\u001b[2m154\u001b[0m\u001b]8;;\u001b\\\n"
      ]
     },
     "metadata": {},
     "output_type": "display_data"
    },
    {
     "data": {
      "text/html": [
       "<pre style=\"white-space:pre;overflow-x:auto;line-height:normal;font-family:Menlo,'DejaVu Sans Mono',consolas,'Courier New',monospace\"><span style=\"color: #7fbfbf; text-decoration-color: #7fbfbf\">         </span><span style=\"color: #000080; text-decoration-color: #000080\">INFO    </span> <span style=\"color: #000000; text-decoration-color: #000000\">Applying correction: pu_weight/Collisions16_UltraLegacy_goldenJSON </span><span style=\"color: #000000; text-decoration-color: #000000; font-weight: bold\">(</span><span style=\"color: #000000; text-decoration-color: #000000\">up</span><span style=\"color: #000000; text-decoration-color: #000000; font-weight: bold\">)</span><span style=\"color: #000000; text-decoration-color: #000000\">               </span><a href=\"file:///home/cms-jovyan/integration-challenge/cms/analysis/base.py\" target=\"_blank\"><span style=\"color: #7f7f7f; text-decoration-color: #7f7f7f\">base.py</span></a><span style=\"color: #7f7f7f; text-decoration-color: #7f7f7f\">:</span><a href=\"file:///home/cms-jovyan/integration-challenge/cms/analysis/base.py#247\" target=\"_blank\"><span style=\"color: #7f7f7f; text-decoration-color: #7f7f7f\">247</span></a>\n",
       "</pre>\n"
      ],
      "text/plain": [
       "\u001b[2;36m        \u001b[0m\u001b[2;36m \u001b[0m\u001b[34mINFO    \u001b[0m \u001b[39mApplying correction: pu_weight/Collisions16_UltraLegacy_goldenJSON \u001b[0m\u001b[1;39m(\u001b[0m\u001b[39mup\u001b[0m\u001b[1;39m)\u001b[0m\u001b[39m              \u001b[0m\u001b[39m \u001b[0m\u001b]8;id=91509;file:///home/cms-jovyan/integration-challenge/cms/analysis/base.py\u001b\\\u001b[2mbase.py\u001b[0m\u001b]8;;\u001b\\\u001b[2m:\u001b[0m\u001b]8;id=972741;file:///home/cms-jovyan/integration-challenge/cms/analysis/base.py#247\u001b\\\u001b[2m247\u001b[0m\u001b]8;;\u001b\\\n"
      ]
     },
     "metadata": {},
     "output_type": "display_data"
    },
    {
     "data": {
      "text/html": [
       "<pre style=\"white-space:pre;overflow-x:auto;line-height:normal;font-family:Menlo,'DejaVu Sans Mono',consolas,'Courier New',monospace\"><span style=\"color: #7fbfbf; text-decoration-color: #7fbfbf\">         </span><span style=\"color: #000080; text-decoration-color: #000080\">INFO    </span> <span style=\"color: #000000; text-decoration-color: #000000\">Number of weighted events in CMS_WORKSHOP: </span><span style=\"color: #008080; text-decoration-color: #008080; font-weight: bold\">850.43</span><span style=\"color: #000000; text-decoration-color: #000000\">                                  </span><a href=\"file:///home/cms-jovyan/integration-challenge/cms/analysis/nondiff.py\" target=\"_blank\"><span style=\"color: #7f7f7f; text-decoration-color: #7f7f7f\">nondiff.py</span></a><span style=\"color: #7f7f7f; text-decoration-color: #7f7f7f\">:</span><a href=\"file:///home/cms-jovyan/integration-challenge/cms/analysis/nondiff.py#205\" target=\"_blank\"><span style=\"color: #7f7f7f; text-decoration-color: #7f7f7f\">205</span></a>\n",
       "</pre>\n"
      ],
      "text/plain": [
       "\u001b[2;36m        \u001b[0m\u001b[2;36m \u001b[0m\u001b[34mINFO    \u001b[0m \u001b[39mNumber of weighted events in CMS_WORKSHOP: \u001b[0m\u001b[1;36m850.43\u001b[0m\u001b[39m                                 \u001b[0m\u001b[39m \u001b[0m\u001b]8;id=26206;file:///home/cms-jovyan/integration-challenge/cms/analysis/nondiff.py\u001b\\\u001b[2mnondiff.py\u001b[0m\u001b]8;;\u001b\\\u001b[2m:\u001b[0m\u001b]8;id=833282;file:///home/cms-jovyan/integration-challenge/cms/analysis/nondiff.py#205\u001b\\\u001b[2m205\u001b[0m\u001b]8;;\u001b\\\n"
      ]
     },
     "metadata": {},
     "output_type": "display_data"
    },
    {
     "data": {
      "text/html": [
       "<pre style=\"white-space:pre;overflow-x:auto;line-height:normal;font-family:Menlo,'DejaVu Sans Mono',consolas,'Courier New',monospace\"><span style=\"color: #7fbfbf; text-decoration-color: #7fbfbf\">         </span><span style=\"color: #000080; text-decoration-color: #000080\">INFO    </span> <span style=\"color: #000000; text-decoration-color: #000000\">Number of raw events in CMS_WORKSHOP: </span><span style=\"color: #008080; text-decoration-color: #008080; font-weight: bold\">872</span><span style=\"color: #000000; text-decoration-color: #000000\">                                          </span><a href=\"file:///home/cms-jovyan/integration-challenge/cms/analysis/nondiff.py\" target=\"_blank\"><span style=\"color: #7f7f7f; text-decoration-color: #7f7f7f\">nondiff.py</span></a><span style=\"color: #7f7f7f; text-decoration-color: #7f7f7f\">:</span><a href=\"file:///home/cms-jovyan/integration-challenge/cms/analysis/nondiff.py#208\" target=\"_blank\"><span style=\"color: #7f7f7f; text-decoration-color: #7f7f7f\">208</span></a>\n",
       "</pre>\n"
      ],
      "text/plain": [
       "\u001b[2;36m        \u001b[0m\u001b[2;36m \u001b[0m\u001b[34mINFO    \u001b[0m \u001b[39mNumber of raw events in CMS_WORKSHOP: \u001b[0m\u001b[1;36m872\u001b[0m\u001b[39m                                         \u001b[0m\u001b[39m \u001b[0m\u001b]8;id=987489;file:///home/cms-jovyan/integration-challenge/cms/analysis/nondiff.py\u001b\\\u001b[2mnondiff.py\u001b[0m\u001b]8;;\u001b\\\u001b[2m:\u001b[0m\u001b]8;id=829053;file:///home/cms-jovyan/integration-challenge/cms/analysis/nondiff.py#208\u001b\\\u001b[2m208\u001b[0m\u001b]8;;\u001b\\\n"
      ]
     },
     "metadata": {},
     "output_type": "display_data"
    },
    {
     "data": {
      "text/html": [
       "<pre style=\"white-space:pre;overflow-x:auto;line-height:normal;font-family:Menlo,'DejaVu Sans Mono',consolas,'Courier New',monospace\"><span style=\"color: #7fbfbf; text-decoration-color: #7fbfbf\">         </span><span style=\"color: #000080; text-decoration-color: #000080\">INFO    </span> <span style=\"color: #000000; text-decoration-color: #000000\">Computing observable workshop_mtt                                                  </span><a href=\"file:///home/cms-jovyan/integration-challenge/cms/analysis/nondiff.py\" target=\"_blank\"><span style=\"color: #7f7f7f; text-decoration-color: #7f7f7f\">nondiff.py</span></a><span style=\"color: #7f7f7f; text-decoration-color: #7f7f7f\">:</span><a href=\"file:///home/cms-jovyan/integration-challenge/cms/analysis/nondiff.py#213\" target=\"_blank\"><span style=\"color: #7f7f7f; text-decoration-color: #7f7f7f\">213</span></a>\n",
       "</pre>\n"
      ],
      "text/plain": [
       "\u001b[2;36m        \u001b[0m\u001b[2;36m \u001b[0m\u001b[34mINFO    \u001b[0m \u001b[39mComputing observable workshop_mtt                                                 \u001b[0m\u001b[39m \u001b[0m\u001b]8;id=399510;file:///home/cms-jovyan/integration-challenge/cms/analysis/nondiff.py\u001b\\\u001b[2mnondiff.py\u001b[0m\u001b]8;;\u001b\\\u001b[2m:\u001b[0m\u001b]8;id=621392;file:///home/cms-jovyan/integration-challenge/cms/analysis/nondiff.py#213\u001b\\\u001b[2m213\u001b[0m\u001b]8;;\u001b\\\n"
      ]
     },
     "metadata": {},
     "output_type": "display_data"
    },
    {
     "data": {
      "text/html": [
       "<pre style=\"white-space:pre;overflow-x:auto;line-height:normal;font-family:Menlo,'DejaVu Sans Mono',consolas,'Courier New',monospace\"><span style=\"color: #7fbfbf; text-decoration-color: #7fbfbf\">         </span><span style=\"color: #000080; text-decoration-color: #000080\">INFO    </span> <span style=\"color: #000000; text-decoration-color: #000000\">Applying selection for CMS_WORKSHOP in ttbar_semilep with variation pu_weight_down </span><a href=\"file:///home/cms-jovyan/integration-challenge/cms/analysis/nondiff.py\" target=\"_blank\"><span style=\"color: #7f7f7f; text-decoration-color: #7f7f7f\">nondiff.py</span></a><span style=\"color: #7f7f7f; text-decoration-color: #7f7f7f\">:</span><a href=\"file:///home/cms-jovyan/integration-challenge/cms/analysis/nondiff.py#154\" target=\"_blank\"><span style=\"color: #7f7f7f; text-decoration-color: #7f7f7f\">154</span></a>\n",
       "</pre>\n"
      ],
      "text/plain": [
       "\u001b[2;36m        \u001b[0m\u001b[2;36m \u001b[0m\u001b[34mINFO    \u001b[0m \u001b[39mApplying selection for CMS_WORKSHOP in ttbar_semilep with variation pu_weight_down\u001b[0m\u001b[39m \u001b[0m\u001b]8;id=811733;file:///home/cms-jovyan/integration-challenge/cms/analysis/nondiff.py\u001b\\\u001b[2mnondiff.py\u001b[0m\u001b]8;;\u001b\\\u001b[2m:\u001b[0m\u001b]8;id=49072;file:///home/cms-jovyan/integration-challenge/cms/analysis/nondiff.py#154\u001b\\\u001b[2m154\u001b[0m\u001b]8;;\u001b\\\n"
      ]
     },
     "metadata": {},
     "output_type": "display_data"
    },
    {
     "data": {
      "text/html": [
       "<pre style=\"white-space:pre;overflow-x:auto;line-height:normal;font-family:Menlo,'DejaVu Sans Mono',consolas,'Courier New',monospace\"><span style=\"color: #7fbfbf; text-decoration-color: #7fbfbf\">         </span><span style=\"color: #000080; text-decoration-color: #000080\">INFO    </span> <span style=\"color: #000000; text-decoration-color: #000000\">Applying correction: pu_weight/Collisions16_UltraLegacy_goldenJSON </span><span style=\"color: #000000; text-decoration-color: #000000; font-weight: bold\">(</span><span style=\"color: #000000; text-decoration-color: #000000\">down</span><span style=\"color: #000000; text-decoration-color: #000000; font-weight: bold\">)</span><span style=\"color: #000000; text-decoration-color: #000000\">             </span><a href=\"file:///home/cms-jovyan/integration-challenge/cms/analysis/base.py\" target=\"_blank\"><span style=\"color: #7f7f7f; text-decoration-color: #7f7f7f\">base.py</span></a><span style=\"color: #7f7f7f; text-decoration-color: #7f7f7f\">:</span><a href=\"file:///home/cms-jovyan/integration-challenge/cms/analysis/base.py#247\" target=\"_blank\"><span style=\"color: #7f7f7f; text-decoration-color: #7f7f7f\">247</span></a>\n",
       "</pre>\n"
      ],
      "text/plain": [
       "\u001b[2;36m        \u001b[0m\u001b[2;36m \u001b[0m\u001b[34mINFO    \u001b[0m \u001b[39mApplying correction: pu_weight/Collisions16_UltraLegacy_goldenJSON \u001b[0m\u001b[1;39m(\u001b[0m\u001b[39mdown\u001b[0m\u001b[1;39m)\u001b[0m\u001b[39m            \u001b[0m\u001b[39m \u001b[0m\u001b]8;id=738150;file:///home/cms-jovyan/integration-challenge/cms/analysis/base.py\u001b\\\u001b[2mbase.py\u001b[0m\u001b]8;;\u001b\\\u001b[2m:\u001b[0m\u001b]8;id=39730;file:///home/cms-jovyan/integration-challenge/cms/analysis/base.py#247\u001b\\\u001b[2m247\u001b[0m\u001b]8;;\u001b\\\n"
      ]
     },
     "metadata": {},
     "output_type": "display_data"
    },
    {
     "data": {
      "text/html": [
       "<pre style=\"white-space:pre;overflow-x:auto;line-height:normal;font-family:Menlo,'DejaVu Sans Mono',consolas,'Courier New',monospace\"><span style=\"color: #7fbfbf; text-decoration-color: #7fbfbf\">         </span><span style=\"color: #000080; text-decoration-color: #000080\">INFO    </span> <span style=\"color: #000000; text-decoration-color: #000000\">Number of weighted events in CMS_WORKSHOP: </span><span style=\"color: #008080; text-decoration-color: #008080; font-weight: bold\">868.20</span><span style=\"color: #000000; text-decoration-color: #000000\">                                  </span><a href=\"file:///home/cms-jovyan/integration-challenge/cms/analysis/nondiff.py\" target=\"_blank\"><span style=\"color: #7f7f7f; text-decoration-color: #7f7f7f\">nondiff.py</span></a><span style=\"color: #7f7f7f; text-decoration-color: #7f7f7f\">:</span><a href=\"file:///home/cms-jovyan/integration-challenge/cms/analysis/nondiff.py#205\" target=\"_blank\"><span style=\"color: #7f7f7f; text-decoration-color: #7f7f7f\">205</span></a>\n",
       "</pre>\n"
      ],
      "text/plain": [
       "\u001b[2;36m        \u001b[0m\u001b[2;36m \u001b[0m\u001b[34mINFO    \u001b[0m \u001b[39mNumber of weighted events in CMS_WORKSHOP: \u001b[0m\u001b[1;36m868.20\u001b[0m\u001b[39m                                 \u001b[0m\u001b[39m \u001b[0m\u001b]8;id=376385;file:///home/cms-jovyan/integration-challenge/cms/analysis/nondiff.py\u001b\\\u001b[2mnondiff.py\u001b[0m\u001b]8;;\u001b\\\u001b[2m:\u001b[0m\u001b]8;id=846314;file:///home/cms-jovyan/integration-challenge/cms/analysis/nondiff.py#205\u001b\\\u001b[2m205\u001b[0m\u001b]8;;\u001b\\\n"
      ]
     },
     "metadata": {},
     "output_type": "display_data"
    },
    {
     "data": {
      "text/html": [
       "<pre style=\"white-space:pre;overflow-x:auto;line-height:normal;font-family:Menlo,'DejaVu Sans Mono',consolas,'Courier New',monospace\"><span style=\"color: #7fbfbf; text-decoration-color: #7fbfbf\">         </span><span style=\"color: #000080; text-decoration-color: #000080\">INFO    </span> <span style=\"color: #000000; text-decoration-color: #000000\">Number of raw events in CMS_WORKSHOP: </span><span style=\"color: #008080; text-decoration-color: #008080; font-weight: bold\">872</span><span style=\"color: #000000; text-decoration-color: #000000\">                                          </span><a href=\"file:///home/cms-jovyan/integration-challenge/cms/analysis/nondiff.py\" target=\"_blank\"><span style=\"color: #7f7f7f; text-decoration-color: #7f7f7f\">nondiff.py</span></a><span style=\"color: #7f7f7f; text-decoration-color: #7f7f7f\">:</span><a href=\"file:///home/cms-jovyan/integration-challenge/cms/analysis/nondiff.py#208\" target=\"_blank\"><span style=\"color: #7f7f7f; text-decoration-color: #7f7f7f\">208</span></a>\n",
       "</pre>\n"
      ],
      "text/plain": [
       "\u001b[2;36m        \u001b[0m\u001b[2;36m \u001b[0m\u001b[34mINFO    \u001b[0m \u001b[39mNumber of raw events in CMS_WORKSHOP: \u001b[0m\u001b[1;36m872\u001b[0m\u001b[39m                                         \u001b[0m\u001b[39m \u001b[0m\u001b]8;id=66388;file:///home/cms-jovyan/integration-challenge/cms/analysis/nondiff.py\u001b\\\u001b[2mnondiff.py\u001b[0m\u001b]8;;\u001b\\\u001b[2m:\u001b[0m\u001b]8;id=59103;file:///home/cms-jovyan/integration-challenge/cms/analysis/nondiff.py#208\u001b\\\u001b[2m208\u001b[0m\u001b]8;;\u001b\\\n"
      ]
     },
     "metadata": {},
     "output_type": "display_data"
    },
    {
     "data": {
      "text/html": [
       "<pre style=\"white-space:pre;overflow-x:auto;line-height:normal;font-family:Menlo,'DejaVu Sans Mono',consolas,'Courier New',monospace\"><span style=\"color: #7fbfbf; text-decoration-color: #7fbfbf\">         </span><span style=\"color: #000080; text-decoration-color: #000080\">INFO    </span> <span style=\"color: #000000; text-decoration-color: #000000\">Computing observable workshop_mtt                                                  </span><a href=\"file:///home/cms-jovyan/integration-challenge/cms/analysis/nondiff.py\" target=\"_blank\"><span style=\"color: #7f7f7f; text-decoration-color: #7f7f7f\">nondiff.py</span></a><span style=\"color: #7f7f7f; text-decoration-color: #7f7f7f\">:</span><a href=\"file:///home/cms-jovyan/integration-challenge/cms/analysis/nondiff.py#213\" target=\"_blank\"><span style=\"color: #7f7f7f; text-decoration-color: #7f7f7f\">213</span></a>\n",
       "</pre>\n"
      ],
      "text/plain": [
       "\u001b[2;36m        \u001b[0m\u001b[2;36m \u001b[0m\u001b[34mINFO    \u001b[0m \u001b[39mComputing observable workshop_mtt                                                 \u001b[0m\u001b[39m \u001b[0m\u001b]8;id=540423;file:///home/cms-jovyan/integration-challenge/cms/analysis/nondiff.py\u001b\\\u001b[2mnondiff.py\u001b[0m\u001b]8;;\u001b\\\u001b[2m:\u001b[0m\u001b]8;id=912380;file:///home/cms-jovyan/integration-challenge/cms/analysis/nondiff.py#213\u001b\\\u001b[2m213\u001b[0m\u001b]8;;\u001b\\\n"
      ]
     },
     "metadata": {},
     "output_type": "display_data"
    },
    {
     "data": {
      "text/html": [
       "<pre style=\"white-space:pre;overflow-x:auto;line-height:normal;font-family:Menlo,'DejaVu Sans Mono',consolas,'Courier New',monospace\"><span style=\"color: #7fbfbf; text-decoration-color: #7fbfbf\">         </span><span style=\"color: #000080; text-decoration-color: #000080\">INFO    </span> <span style=\"color: #000000; text-decoration-color: #000000\">Applying selection for CMS_WORKSHOP in ttbar_semilep with variation muon_id_sf_up  </span><a href=\"file:///home/cms-jovyan/integration-challenge/cms/analysis/nondiff.py\" target=\"_blank\"><span style=\"color: #7f7f7f; text-decoration-color: #7f7f7f\">nondiff.py</span></a><span style=\"color: #7f7f7f; text-decoration-color: #7f7f7f\">:</span><a href=\"file:///home/cms-jovyan/integration-challenge/cms/analysis/nondiff.py#154\" target=\"_blank\"><span style=\"color: #7f7f7f; text-decoration-color: #7f7f7f\">154</span></a>\n",
       "</pre>\n"
      ],
      "text/plain": [
       "\u001b[2;36m        \u001b[0m\u001b[2;36m \u001b[0m\u001b[34mINFO    \u001b[0m \u001b[39mApplying selection for CMS_WORKSHOP in ttbar_semilep with variation muon_id_sf_up \u001b[0m\u001b[39m \u001b[0m\u001b]8;id=629682;file:///home/cms-jovyan/integration-challenge/cms/analysis/nondiff.py\u001b\\\u001b[2mnondiff.py\u001b[0m\u001b]8;;\u001b\\\u001b[2m:\u001b[0m\u001b]8;id=50778;file:///home/cms-jovyan/integration-challenge/cms/analysis/nondiff.py#154\u001b\\\u001b[2m154\u001b[0m\u001b]8;;\u001b\\\n"
      ]
     },
     "metadata": {},
     "output_type": "display_data"
    },
    {
     "data": {
      "text/html": [
       "<pre style=\"white-space:pre;overflow-x:auto;line-height:normal;font-family:Menlo,'DejaVu Sans Mono',consolas,'Courier New',monospace\"><span style=\"color: #7fbfbf; text-decoration-color: #7fbfbf\">         </span><span style=\"color: #000080; text-decoration-color: #000080\">INFO    </span> <span style=\"color: #000000; text-decoration-color: #000000\">Applying correction: muon_id_sf/NUM_TightID_DEN_TrackerMuons </span><span style=\"color: #000000; text-decoration-color: #000000; font-weight: bold\">(</span><span style=\"color: #000000; text-decoration-color: #000000\">systup</span><span style=\"color: #000000; text-decoration-color: #000000; font-weight: bold\">)</span><span style=\"color: #000000; text-decoration-color: #000000\">                 </span><a href=\"file:///home/cms-jovyan/integration-challenge/cms/analysis/base.py\" target=\"_blank\"><span style=\"color: #7f7f7f; text-decoration-color: #7f7f7f\">base.py</span></a><span style=\"color: #7f7f7f; text-decoration-color: #7f7f7f\">:</span><a href=\"file:///home/cms-jovyan/integration-challenge/cms/analysis/base.py#247\" target=\"_blank\"><span style=\"color: #7f7f7f; text-decoration-color: #7f7f7f\">247</span></a>\n",
       "</pre>\n"
      ],
      "text/plain": [
       "\u001b[2;36m        \u001b[0m\u001b[2;36m \u001b[0m\u001b[34mINFO    \u001b[0m \u001b[39mApplying correction: muon_id_sf/NUM_TightID_DEN_TrackerMuons \u001b[0m\u001b[1;39m(\u001b[0m\u001b[39msystup\u001b[0m\u001b[1;39m)\u001b[0m\u001b[39m                \u001b[0m\u001b[39m \u001b[0m\u001b]8;id=21693;file:///home/cms-jovyan/integration-challenge/cms/analysis/base.py\u001b\\\u001b[2mbase.py\u001b[0m\u001b]8;;\u001b\\\u001b[2m:\u001b[0m\u001b]8;id=766640;file:///home/cms-jovyan/integration-challenge/cms/analysis/base.py#247\u001b\\\u001b[2m247\u001b[0m\u001b]8;;\u001b\\\n"
      ]
     },
     "metadata": {},
     "output_type": "display_data"
    },
    {
     "data": {
      "text/html": [
       "<pre style=\"white-space:pre;overflow-x:auto;line-height:normal;font-family:Menlo,'DejaVu Sans Mono',consolas,'Courier New',monospace\"><span style=\"color: #7fbfbf; text-decoration-color: #7fbfbf\">         </span><span style=\"color: #000080; text-decoration-color: #000080\">INFO    </span> <span style=\"color: #000000; text-decoration-color: #000000\">Number of weighted events in CMS_WORKSHOP: </span><span style=\"color: #008080; text-decoration-color: #008080; font-weight: bold\">860.90</span><span style=\"color: #000000; text-decoration-color: #000000\">                                  </span><a href=\"file:///home/cms-jovyan/integration-challenge/cms/analysis/nondiff.py\" target=\"_blank\"><span style=\"color: #7f7f7f; text-decoration-color: #7f7f7f\">nondiff.py</span></a><span style=\"color: #7f7f7f; text-decoration-color: #7f7f7f\">:</span><a href=\"file:///home/cms-jovyan/integration-challenge/cms/analysis/nondiff.py#205\" target=\"_blank\"><span style=\"color: #7f7f7f; text-decoration-color: #7f7f7f\">205</span></a>\n",
       "</pre>\n"
      ],
      "text/plain": [
       "\u001b[2;36m        \u001b[0m\u001b[2;36m \u001b[0m\u001b[34mINFO    \u001b[0m \u001b[39mNumber of weighted events in CMS_WORKSHOP: \u001b[0m\u001b[1;36m860.90\u001b[0m\u001b[39m                                 \u001b[0m\u001b[39m \u001b[0m\u001b]8;id=960548;file:///home/cms-jovyan/integration-challenge/cms/analysis/nondiff.py\u001b\\\u001b[2mnondiff.py\u001b[0m\u001b]8;;\u001b\\\u001b[2m:\u001b[0m\u001b]8;id=921338;file:///home/cms-jovyan/integration-challenge/cms/analysis/nondiff.py#205\u001b\\\u001b[2m205\u001b[0m\u001b]8;;\u001b\\\n"
      ]
     },
     "metadata": {},
     "output_type": "display_data"
    },
    {
     "data": {
      "text/html": [
       "<pre style=\"white-space:pre;overflow-x:auto;line-height:normal;font-family:Menlo,'DejaVu Sans Mono',consolas,'Courier New',monospace\"><span style=\"color: #7fbfbf; text-decoration-color: #7fbfbf\">         </span><span style=\"color: #000080; text-decoration-color: #000080\">INFO    </span> <span style=\"color: #000000; text-decoration-color: #000000\">Number of raw events in CMS_WORKSHOP: </span><span style=\"color: #008080; text-decoration-color: #008080; font-weight: bold\">872</span><span style=\"color: #000000; text-decoration-color: #000000\">                                          </span><a href=\"file:///home/cms-jovyan/integration-challenge/cms/analysis/nondiff.py\" target=\"_blank\"><span style=\"color: #7f7f7f; text-decoration-color: #7f7f7f\">nondiff.py</span></a><span style=\"color: #7f7f7f; text-decoration-color: #7f7f7f\">:</span><a href=\"file:///home/cms-jovyan/integration-challenge/cms/analysis/nondiff.py#208\" target=\"_blank\"><span style=\"color: #7f7f7f; text-decoration-color: #7f7f7f\">208</span></a>\n",
       "</pre>\n"
      ],
      "text/plain": [
       "\u001b[2;36m        \u001b[0m\u001b[2;36m \u001b[0m\u001b[34mINFO    \u001b[0m \u001b[39mNumber of raw events in CMS_WORKSHOP: \u001b[0m\u001b[1;36m872\u001b[0m\u001b[39m                                         \u001b[0m\u001b[39m \u001b[0m\u001b]8;id=591333;file:///home/cms-jovyan/integration-challenge/cms/analysis/nondiff.py\u001b\\\u001b[2mnondiff.py\u001b[0m\u001b]8;;\u001b\\\u001b[2m:\u001b[0m\u001b]8;id=239765;file:///home/cms-jovyan/integration-challenge/cms/analysis/nondiff.py#208\u001b\\\u001b[2m208\u001b[0m\u001b]8;;\u001b\\\n"
      ]
     },
     "metadata": {},
     "output_type": "display_data"
    },
    {
     "data": {
      "text/html": [
       "<pre style=\"white-space:pre;overflow-x:auto;line-height:normal;font-family:Menlo,'DejaVu Sans Mono',consolas,'Courier New',monospace\"><span style=\"color: #7fbfbf; text-decoration-color: #7fbfbf\">         </span><span style=\"color: #000080; text-decoration-color: #000080\">INFO    </span> <span style=\"color: #000000; text-decoration-color: #000000\">Computing observable workshop_mtt                                                  </span><a href=\"file:///home/cms-jovyan/integration-challenge/cms/analysis/nondiff.py\" target=\"_blank\"><span style=\"color: #7f7f7f; text-decoration-color: #7f7f7f\">nondiff.py</span></a><span style=\"color: #7f7f7f; text-decoration-color: #7f7f7f\">:</span><a href=\"file:///home/cms-jovyan/integration-challenge/cms/analysis/nondiff.py#213\" target=\"_blank\"><span style=\"color: #7f7f7f; text-decoration-color: #7f7f7f\">213</span></a>\n",
       "</pre>\n"
      ],
      "text/plain": [
       "\u001b[2;36m        \u001b[0m\u001b[2;36m \u001b[0m\u001b[34mINFO    \u001b[0m \u001b[39mComputing observable workshop_mtt                                                 \u001b[0m\u001b[39m \u001b[0m\u001b]8;id=586818;file:///home/cms-jovyan/integration-challenge/cms/analysis/nondiff.py\u001b\\\u001b[2mnondiff.py\u001b[0m\u001b]8;;\u001b\\\u001b[2m:\u001b[0m\u001b]8;id=14395;file:///home/cms-jovyan/integration-challenge/cms/analysis/nondiff.py#213\u001b\\\u001b[2m213\u001b[0m\u001b]8;;\u001b\\\n"
      ]
     },
     "metadata": {},
     "output_type": "display_data"
    },
    {
     "data": {
      "text/html": [
       "<pre style=\"white-space:pre;overflow-x:auto;line-height:normal;font-family:Menlo,'DejaVu Sans Mono',consolas,'Courier New',monospace\"><span style=\"color: #7fbfbf; text-decoration-color: #7fbfbf\">         </span><span style=\"color: #000080; text-decoration-color: #000080\">INFO    </span> <span style=\"color: #000000; text-decoration-color: #000000\">Applying selection for CMS_WORKSHOP in ttbar_semilep with variation                </span><a href=\"file:///home/cms-jovyan/integration-challenge/cms/analysis/nondiff.py\" target=\"_blank\"><span style=\"color: #7f7f7f; text-decoration-color: #7f7f7f\">nondiff.py</span></a><span style=\"color: #7f7f7f; text-decoration-color: #7f7f7f\">:</span><a href=\"file:///home/cms-jovyan/integration-challenge/cms/analysis/nondiff.py#154\" target=\"_blank\"><span style=\"color: #7f7f7f; text-decoration-color: #7f7f7f\">154</span></a>\n",
       "<span style=\"color: #7fbfbf; text-decoration-color: #7fbfbf\">         </span>         <span style=\"color: #000000; text-decoration-color: #000000\">muon_id_sf_down                                                                    </span><span style=\"color: #7f7f7f; text-decoration-color: #7f7f7f\">              </span>\n",
       "</pre>\n"
      ],
      "text/plain": [
       "\u001b[2;36m        \u001b[0m\u001b[2;36m \u001b[0m\u001b[34mINFO    \u001b[0m \u001b[39mApplying selection for CMS_WORKSHOP in ttbar_semilep with variation               \u001b[0m\u001b[39m \u001b[0m\u001b]8;id=647220;file:///home/cms-jovyan/integration-challenge/cms/analysis/nondiff.py\u001b\\\u001b[2mnondiff.py\u001b[0m\u001b]8;;\u001b\\\u001b[2m:\u001b[0m\u001b]8;id=939749;file:///home/cms-jovyan/integration-challenge/cms/analysis/nondiff.py#154\u001b\\\u001b[2m154\u001b[0m\u001b]8;;\u001b\\\n",
       "\u001b[2;36m         \u001b[0m         \u001b[39mmuon_id_sf_down                                                                   \u001b[0m\u001b[39m \u001b[0m\u001b[2m              \u001b[0m\n"
      ]
     },
     "metadata": {},
     "output_type": "display_data"
    },
    {
     "data": {
      "text/html": [
       "<pre style=\"white-space:pre;overflow-x:auto;line-height:normal;font-family:Menlo,'DejaVu Sans Mono',consolas,'Courier New',monospace\"><span style=\"color: #7fbfbf; text-decoration-color: #7fbfbf\">         </span><span style=\"color: #000080; text-decoration-color: #000080\">INFO    </span> <span style=\"color: #000000; text-decoration-color: #000000\">Applying correction: muon_id_sf/NUM_TightID_DEN_TrackerMuons </span><span style=\"color: #000000; text-decoration-color: #000000; font-weight: bold\">(</span><span style=\"color: #000000; text-decoration-color: #000000\">systdown</span><span style=\"color: #000000; text-decoration-color: #000000; font-weight: bold\">)</span><span style=\"color: #000000; text-decoration-color: #000000\">               </span><a href=\"file:///home/cms-jovyan/integration-challenge/cms/analysis/base.py\" target=\"_blank\"><span style=\"color: #7f7f7f; text-decoration-color: #7f7f7f\">base.py</span></a><span style=\"color: #7f7f7f; text-decoration-color: #7f7f7f\">:</span><a href=\"file:///home/cms-jovyan/integration-challenge/cms/analysis/base.py#247\" target=\"_blank\"><span style=\"color: #7f7f7f; text-decoration-color: #7f7f7f\">247</span></a>\n",
       "</pre>\n"
      ],
      "text/plain": [
       "\u001b[2;36m        \u001b[0m\u001b[2;36m \u001b[0m\u001b[34mINFO    \u001b[0m \u001b[39mApplying correction: muon_id_sf/NUM_TightID_DEN_TrackerMuons \u001b[0m\u001b[1;39m(\u001b[0m\u001b[39msystdown\u001b[0m\u001b[1;39m)\u001b[0m\u001b[39m              \u001b[0m\u001b[39m \u001b[0m\u001b]8;id=558010;file:///home/cms-jovyan/integration-challenge/cms/analysis/base.py\u001b\\\u001b[2mbase.py\u001b[0m\u001b]8;;\u001b\\\u001b[2m:\u001b[0m\u001b]8;id=736657;file:///home/cms-jovyan/integration-challenge/cms/analysis/base.py#247\u001b\\\u001b[2m247\u001b[0m\u001b]8;;\u001b\\\n"
      ]
     },
     "metadata": {},
     "output_type": "display_data"
    },
    {
     "data": {
      "text/html": [
       "<pre style=\"white-space:pre;overflow-x:auto;line-height:normal;font-family:Menlo,'DejaVu Sans Mono',consolas,'Courier New',monospace\"><span style=\"color: #7fbfbf; text-decoration-color: #7fbfbf\">         </span><span style=\"color: #000080; text-decoration-color: #000080\">INFO    </span> <span style=\"color: #000000; text-decoration-color: #000000\">Number of weighted events in CMS_WORKSHOP: </span><span style=\"color: #008080; text-decoration-color: #008080; font-weight: bold\">856.23</span><span style=\"color: #000000; text-decoration-color: #000000\">                                  </span><a href=\"file:///home/cms-jovyan/integration-challenge/cms/analysis/nondiff.py\" target=\"_blank\"><span style=\"color: #7f7f7f; text-decoration-color: #7f7f7f\">nondiff.py</span></a><span style=\"color: #7f7f7f; text-decoration-color: #7f7f7f\">:</span><a href=\"file:///home/cms-jovyan/integration-challenge/cms/analysis/nondiff.py#205\" target=\"_blank\"><span style=\"color: #7f7f7f; text-decoration-color: #7f7f7f\">205</span></a>\n",
       "</pre>\n"
      ],
      "text/plain": [
       "\u001b[2;36m        \u001b[0m\u001b[2;36m \u001b[0m\u001b[34mINFO    \u001b[0m \u001b[39mNumber of weighted events in CMS_WORKSHOP: \u001b[0m\u001b[1;36m856.23\u001b[0m\u001b[39m                                 \u001b[0m\u001b[39m \u001b[0m\u001b]8;id=562039;file:///home/cms-jovyan/integration-challenge/cms/analysis/nondiff.py\u001b\\\u001b[2mnondiff.py\u001b[0m\u001b]8;;\u001b\\\u001b[2m:\u001b[0m\u001b]8;id=150696;file:///home/cms-jovyan/integration-challenge/cms/analysis/nondiff.py#205\u001b\\\u001b[2m205\u001b[0m\u001b]8;;\u001b\\\n"
      ]
     },
     "metadata": {},
     "output_type": "display_data"
    },
    {
     "data": {
      "text/html": [
       "<pre style=\"white-space:pre;overflow-x:auto;line-height:normal;font-family:Menlo,'DejaVu Sans Mono',consolas,'Courier New',monospace\"><span style=\"color: #7fbfbf; text-decoration-color: #7fbfbf\">         </span><span style=\"color: #000080; text-decoration-color: #000080\">INFO    </span> <span style=\"color: #000000; text-decoration-color: #000000\">Number of raw events in CMS_WORKSHOP: </span><span style=\"color: #008080; text-decoration-color: #008080; font-weight: bold\">872</span><span style=\"color: #000000; text-decoration-color: #000000\">                                          </span><a href=\"file:///home/cms-jovyan/integration-challenge/cms/analysis/nondiff.py\" target=\"_blank\"><span style=\"color: #7f7f7f; text-decoration-color: #7f7f7f\">nondiff.py</span></a><span style=\"color: #7f7f7f; text-decoration-color: #7f7f7f\">:</span><a href=\"file:///home/cms-jovyan/integration-challenge/cms/analysis/nondiff.py#208\" target=\"_blank\"><span style=\"color: #7f7f7f; text-decoration-color: #7f7f7f\">208</span></a>\n",
       "</pre>\n"
      ],
      "text/plain": [
       "\u001b[2;36m        \u001b[0m\u001b[2;36m \u001b[0m\u001b[34mINFO    \u001b[0m \u001b[39mNumber of raw events in CMS_WORKSHOP: \u001b[0m\u001b[1;36m872\u001b[0m\u001b[39m                                         \u001b[0m\u001b[39m \u001b[0m\u001b]8;id=258607;file:///home/cms-jovyan/integration-challenge/cms/analysis/nondiff.py\u001b\\\u001b[2mnondiff.py\u001b[0m\u001b]8;;\u001b\\\u001b[2m:\u001b[0m\u001b]8;id=678817;file:///home/cms-jovyan/integration-challenge/cms/analysis/nondiff.py#208\u001b\\\u001b[2m208\u001b[0m\u001b]8;;\u001b\\\n"
      ]
     },
     "metadata": {},
     "output_type": "display_data"
    },
    {
     "data": {
      "text/html": [
       "<pre style=\"white-space:pre;overflow-x:auto;line-height:normal;font-family:Menlo,'DejaVu Sans Mono',consolas,'Courier New',monospace\"><span style=\"color: #7fbfbf; text-decoration-color: #7fbfbf\">         </span><span style=\"color: #000080; text-decoration-color: #000080\">INFO    </span> <span style=\"color: #000000; text-decoration-color: #000000\">Computing observable workshop_mtt                                                  </span><a href=\"file:///home/cms-jovyan/integration-challenge/cms/analysis/nondiff.py\" target=\"_blank\"><span style=\"color: #7f7f7f; text-decoration-color: #7f7f7f\">nondiff.py</span></a><span style=\"color: #7f7f7f; text-decoration-color: #7f7f7f\">:</span><a href=\"file:///home/cms-jovyan/integration-challenge/cms/analysis/nondiff.py#213\" target=\"_blank\"><span style=\"color: #7f7f7f; text-decoration-color: #7f7f7f\">213</span></a>\n",
       "</pre>\n"
      ],
      "text/plain": [
       "\u001b[2;36m        \u001b[0m\u001b[2;36m \u001b[0m\u001b[34mINFO    \u001b[0m \u001b[39mComputing observable workshop_mtt                                                 \u001b[0m\u001b[39m \u001b[0m\u001b]8;id=991144;file:///home/cms-jovyan/integration-challenge/cms/analysis/nondiff.py\u001b\\\u001b[2mnondiff.py\u001b[0m\u001b]8;;\u001b\\\u001b[2m:\u001b[0m\u001b]8;id=417606;file:///home/cms-jovyan/integration-challenge/cms/analysis/nondiff.py#213\u001b\\\u001b[2m213\u001b[0m\u001b]8;;\u001b\\\n"
      ]
     },
     "metadata": {},
     "output_type": "display_data"
    },
    {
     "name": "stdout",
     "output_type": "stream",
     "text": [
      "📊 Processing dataset: signal__nominal\n",
      "   • Processing 19326 events with metadata: signal\n"
     ]
    },
    {
     "data": {
      "text/html": [
       "<pre style=\"white-space:pre;overflow-x:auto;line-height:normal;font-family:Menlo,'DejaVu Sans Mono',consolas,'Courier New',monospace\"><span style=\"color: #7fbfbf; text-decoration-color: #7fbfbf\">         </span><span style=\"color: #000080; text-decoration-color: #000080\">INFO    </span> <span style=\"color: #000000; text-decoration-color: #000000\">Applying selection for CMS_WORKSHOP in signal with variation nominal               </span><a href=\"file:///home/cms-jovyan/integration-challenge/cms/analysis/nondiff.py\" target=\"_blank\"><span style=\"color: #7f7f7f; text-decoration-color: #7f7f7f\">nondiff.py</span></a><span style=\"color: #7f7f7f; text-decoration-color: #7f7f7f\">:</span><a href=\"file:///home/cms-jovyan/integration-challenge/cms/analysis/nondiff.py#154\" target=\"_blank\"><span style=\"color: #7f7f7f; text-decoration-color: #7f7f7f\">154</span></a>\n",
       "</pre>\n"
      ],
      "text/plain": [
       "\u001b[2;36m        \u001b[0m\u001b[2;36m \u001b[0m\u001b[34mINFO    \u001b[0m \u001b[39mApplying selection for CMS_WORKSHOP in signal with variation nominal              \u001b[0m\u001b[39m \u001b[0m\u001b]8;id=450381;file:///home/cms-jovyan/integration-challenge/cms/analysis/nondiff.py\u001b\\\u001b[2mnondiff.py\u001b[0m\u001b]8;;\u001b\\\u001b[2m:\u001b[0m\u001b]8;id=406859;file:///home/cms-jovyan/integration-challenge/cms/analysis/nondiff.py#154\u001b\\\u001b[2m154\u001b[0m\u001b]8;;\u001b\\\n"
      ]
     },
     "metadata": {},
     "output_type": "display_data"
    },
    {
     "data": {
      "text/html": [
       "<pre style=\"white-space:pre;overflow-x:auto;line-height:normal;font-family:Menlo,'DejaVu Sans Mono',consolas,'Courier New',monospace\"><span style=\"color: #7fbfbf; text-decoration-color: #7fbfbf\">         </span><span style=\"color: #000080; text-decoration-color: #000080\">INFO    </span> <span style=\"color: #000000; text-decoration-color: #000000\">Number of weighted events in CMS_WORKSHOP: </span><span style=\"color: #008080; text-decoration-color: #008080; font-weight: bold\">4.34</span><span style=\"color: #000000; text-decoration-color: #000000\">                                    </span><a href=\"file:///home/cms-jovyan/integration-challenge/cms/analysis/nondiff.py\" target=\"_blank\"><span style=\"color: #7f7f7f; text-decoration-color: #7f7f7f\">nondiff.py</span></a><span style=\"color: #7f7f7f; text-decoration-color: #7f7f7f\">:</span><a href=\"file:///home/cms-jovyan/integration-challenge/cms/analysis/nondiff.py#205\" target=\"_blank\"><span style=\"color: #7f7f7f; text-decoration-color: #7f7f7f\">205</span></a>\n",
       "</pre>\n"
      ],
      "text/plain": [
       "\u001b[2;36m        \u001b[0m\u001b[2;36m \u001b[0m\u001b[34mINFO    \u001b[0m \u001b[39mNumber of weighted events in CMS_WORKSHOP: \u001b[0m\u001b[1;36m4.34\u001b[0m\u001b[39m                                   \u001b[0m\u001b[39m \u001b[0m\u001b]8;id=288860;file:///home/cms-jovyan/integration-challenge/cms/analysis/nondiff.py\u001b\\\u001b[2mnondiff.py\u001b[0m\u001b]8;;\u001b\\\u001b[2m:\u001b[0m\u001b]8;id=626587;file:///home/cms-jovyan/integration-challenge/cms/analysis/nondiff.py#205\u001b\\\u001b[2m205\u001b[0m\u001b]8;;\u001b\\\n"
      ]
     },
     "metadata": {},
     "output_type": "display_data"
    },
    {
     "data": {
      "text/html": [
       "<pre style=\"white-space:pre;overflow-x:auto;line-height:normal;font-family:Menlo,'DejaVu Sans Mono',consolas,'Courier New',monospace\"><span style=\"color: #7fbfbf; text-decoration-color: #7fbfbf\">         </span><span style=\"color: #000080; text-decoration-color: #000080\">INFO    </span> <span style=\"color: #000000; text-decoration-color: #000000\">Number of raw events in CMS_WORKSHOP: </span><span style=\"color: #008080; text-decoration-color: #008080; font-weight: bold\">3214</span><span style=\"color: #000000; text-decoration-color: #000000\">                                         </span><a href=\"file:///home/cms-jovyan/integration-challenge/cms/analysis/nondiff.py\" target=\"_blank\"><span style=\"color: #7f7f7f; text-decoration-color: #7f7f7f\">nondiff.py</span></a><span style=\"color: #7f7f7f; text-decoration-color: #7f7f7f\">:</span><a href=\"file:///home/cms-jovyan/integration-challenge/cms/analysis/nondiff.py#208\" target=\"_blank\"><span style=\"color: #7f7f7f; text-decoration-color: #7f7f7f\">208</span></a>\n",
       "</pre>\n"
      ],
      "text/plain": [
       "\u001b[2;36m        \u001b[0m\u001b[2;36m \u001b[0m\u001b[34mINFO    \u001b[0m \u001b[39mNumber of raw events in CMS_WORKSHOP: \u001b[0m\u001b[1;36m3214\u001b[0m\u001b[39m                                        \u001b[0m\u001b[39m \u001b[0m\u001b]8;id=967434;file:///home/cms-jovyan/integration-challenge/cms/analysis/nondiff.py\u001b\\\u001b[2mnondiff.py\u001b[0m\u001b]8;;\u001b\\\u001b[2m:\u001b[0m\u001b]8;id=554781;file:///home/cms-jovyan/integration-challenge/cms/analysis/nondiff.py#208\u001b\\\u001b[2m208\u001b[0m\u001b]8;;\u001b\\\n"
      ]
     },
     "metadata": {},
     "output_type": "display_data"
    },
    {
     "data": {
      "text/html": [
       "<pre style=\"white-space:pre;overflow-x:auto;line-height:normal;font-family:Menlo,'DejaVu Sans Mono',consolas,'Courier New',monospace\"><span style=\"color: #7fbfbf; text-decoration-color: #7fbfbf\">         </span><span style=\"color: #000080; text-decoration-color: #000080\">INFO    </span> <span style=\"color: #000000; text-decoration-color: #000000\">Computing observable workshop_mtt                                                  </span><a href=\"file:///home/cms-jovyan/integration-challenge/cms/analysis/nondiff.py\" target=\"_blank\"><span style=\"color: #7f7f7f; text-decoration-color: #7f7f7f\">nondiff.py</span></a><span style=\"color: #7f7f7f; text-decoration-color: #7f7f7f\">:</span><a href=\"file:///home/cms-jovyan/integration-challenge/cms/analysis/nondiff.py#213\" target=\"_blank\"><span style=\"color: #7f7f7f; text-decoration-color: #7f7f7f\">213</span></a>\n",
       "</pre>\n"
      ],
      "text/plain": [
       "\u001b[2;36m        \u001b[0m\u001b[2;36m \u001b[0m\u001b[34mINFO    \u001b[0m \u001b[39mComputing observable workshop_mtt                                                 \u001b[0m\u001b[39m \u001b[0m\u001b]8;id=693804;file:///home/cms-jovyan/integration-challenge/cms/analysis/nondiff.py\u001b\\\u001b[2mnondiff.py\u001b[0m\u001b]8;;\u001b\\\u001b[2m:\u001b[0m\u001b]8;id=844159;file:///home/cms-jovyan/integration-challenge/cms/analysis/nondiff.py#213\u001b\\\u001b[2m213\u001b[0m\u001b]8;;\u001b\\\n"
      ]
     },
     "metadata": {},
     "output_type": "display_data"
    },
    {
     "data": {
      "text/html": [
       "<pre style=\"white-space:pre;overflow-x:auto;line-height:normal;font-family:Menlo,'DejaVu Sans Mono',consolas,'Courier New',monospace\"><span style=\"color: #7fbfbf; text-decoration-color: #7fbfbf\">         </span><span style=\"color: #000080; text-decoration-color: #000080\">INFO    </span> <span style=\"color: #000000; text-decoration-color: #000000\">Applying selection for CMS_WORKSHOP in signal with variation jet_pt_resolution_up  </span><a href=\"file:///home/cms-jovyan/integration-challenge/cms/analysis/nondiff.py\" target=\"_blank\"><span style=\"color: #7f7f7f; text-decoration-color: #7f7f7f\">nondiff.py</span></a><span style=\"color: #7f7f7f; text-decoration-color: #7f7f7f\">:</span><a href=\"file:///home/cms-jovyan/integration-challenge/cms/analysis/nondiff.py#154\" target=\"_blank\"><span style=\"color: #7f7f7f; text-decoration-color: #7f7f7f\">154</span></a>\n",
       "</pre>\n"
      ],
      "text/plain": [
       "\u001b[2;36m        \u001b[0m\u001b[2;36m \u001b[0m\u001b[34mINFO    \u001b[0m \u001b[39mApplying selection for CMS_WORKSHOP in signal with variation jet_pt_resolution_up \u001b[0m\u001b[39m \u001b[0m\u001b]8;id=394779;file:///home/cms-jovyan/integration-challenge/cms/analysis/nondiff.py\u001b\\\u001b[2mnondiff.py\u001b[0m\u001b]8;;\u001b\\\u001b[2m:\u001b[0m\u001b]8;id=379702;file:///home/cms-jovyan/integration-challenge/cms/analysis/nondiff.py#154\u001b\\\u001b[2m154\u001b[0m\u001b]8;;\u001b\\\n"
      ]
     },
     "metadata": {},
     "output_type": "display_data"
    },
    {
     "data": {
      "text/html": [
       "<pre style=\"white-space:pre;overflow-x:auto;line-height:normal;font-family:Menlo,'DejaVu Sans Mono',consolas,'Courier New',monospace\"><span style=\"color: #7fbfbf; text-decoration-color: #7fbfbf\">         </span><span style=\"color: #000080; text-decoration-color: #000080\">INFO    </span> <span style=\"color: #000000; text-decoration-color: #000000\">Number of weighted events in CMS_WORKSHOP: </span><span style=\"color: #008080; text-decoration-color: #008080; font-weight: bold\">4.34</span><span style=\"color: #000000; text-decoration-color: #000000\">                                    </span><a href=\"file:///home/cms-jovyan/integration-challenge/cms/analysis/nondiff.py\" target=\"_blank\"><span style=\"color: #7f7f7f; text-decoration-color: #7f7f7f\">nondiff.py</span></a><span style=\"color: #7f7f7f; text-decoration-color: #7f7f7f\">:</span><a href=\"file:///home/cms-jovyan/integration-challenge/cms/analysis/nondiff.py#205\" target=\"_blank\"><span style=\"color: #7f7f7f; text-decoration-color: #7f7f7f\">205</span></a>\n",
       "</pre>\n"
      ],
      "text/plain": [
       "\u001b[2;36m        \u001b[0m\u001b[2;36m \u001b[0m\u001b[34mINFO    \u001b[0m \u001b[39mNumber of weighted events in CMS_WORKSHOP: \u001b[0m\u001b[1;36m4.34\u001b[0m\u001b[39m                                   \u001b[0m\u001b[39m \u001b[0m\u001b]8;id=282136;file:///home/cms-jovyan/integration-challenge/cms/analysis/nondiff.py\u001b\\\u001b[2mnondiff.py\u001b[0m\u001b]8;;\u001b\\\u001b[2m:\u001b[0m\u001b]8;id=695347;file:///home/cms-jovyan/integration-challenge/cms/analysis/nondiff.py#205\u001b\\\u001b[2m205\u001b[0m\u001b]8;;\u001b\\\n"
      ]
     },
     "metadata": {},
     "output_type": "display_data"
    },
    {
     "data": {
      "text/html": [
       "<pre style=\"white-space:pre;overflow-x:auto;line-height:normal;font-family:Menlo,'DejaVu Sans Mono',consolas,'Courier New',monospace\"><span style=\"color: #7fbfbf; text-decoration-color: #7fbfbf\">         </span><span style=\"color: #000080; text-decoration-color: #000080\">INFO    </span> <span style=\"color: #000000; text-decoration-color: #000000\">Number of raw events in CMS_WORKSHOP: </span><span style=\"color: #008080; text-decoration-color: #008080; font-weight: bold\">3214</span><span style=\"color: #000000; text-decoration-color: #000000\">                                         </span><a href=\"file:///home/cms-jovyan/integration-challenge/cms/analysis/nondiff.py\" target=\"_blank\"><span style=\"color: #7f7f7f; text-decoration-color: #7f7f7f\">nondiff.py</span></a><span style=\"color: #7f7f7f; text-decoration-color: #7f7f7f\">:</span><a href=\"file:///home/cms-jovyan/integration-challenge/cms/analysis/nondiff.py#208\" target=\"_blank\"><span style=\"color: #7f7f7f; text-decoration-color: #7f7f7f\">208</span></a>\n",
       "</pre>\n"
      ],
      "text/plain": [
       "\u001b[2;36m        \u001b[0m\u001b[2;36m \u001b[0m\u001b[34mINFO    \u001b[0m \u001b[39mNumber of raw events in CMS_WORKSHOP: \u001b[0m\u001b[1;36m3214\u001b[0m\u001b[39m                                        \u001b[0m\u001b[39m \u001b[0m\u001b]8;id=970094;file:///home/cms-jovyan/integration-challenge/cms/analysis/nondiff.py\u001b\\\u001b[2mnondiff.py\u001b[0m\u001b]8;;\u001b\\\u001b[2m:\u001b[0m\u001b]8;id=450767;file:///home/cms-jovyan/integration-challenge/cms/analysis/nondiff.py#208\u001b\\\u001b[2m208\u001b[0m\u001b]8;;\u001b\\\n"
      ]
     },
     "metadata": {},
     "output_type": "display_data"
    },
    {
     "data": {
      "text/html": [
       "<pre style=\"white-space:pre;overflow-x:auto;line-height:normal;font-family:Menlo,'DejaVu Sans Mono',consolas,'Courier New',monospace\"><span style=\"color: #7fbfbf; text-decoration-color: #7fbfbf\">         </span><span style=\"color: #000080; text-decoration-color: #000080\">INFO    </span> <span style=\"color: #000000; text-decoration-color: #000000\">Computing observable workshop_mtt                                                  </span><a href=\"file:///home/cms-jovyan/integration-challenge/cms/analysis/nondiff.py\" target=\"_blank\"><span style=\"color: #7f7f7f; text-decoration-color: #7f7f7f\">nondiff.py</span></a><span style=\"color: #7f7f7f; text-decoration-color: #7f7f7f\">:</span><a href=\"file:///home/cms-jovyan/integration-challenge/cms/analysis/nondiff.py#213\" target=\"_blank\"><span style=\"color: #7f7f7f; text-decoration-color: #7f7f7f\">213</span></a>\n",
       "</pre>\n"
      ],
      "text/plain": [
       "\u001b[2;36m        \u001b[0m\u001b[2;36m \u001b[0m\u001b[34mINFO    \u001b[0m \u001b[39mComputing observable workshop_mtt                                                 \u001b[0m\u001b[39m \u001b[0m\u001b]8;id=251130;file:///home/cms-jovyan/integration-challenge/cms/analysis/nondiff.py\u001b\\\u001b[2mnondiff.py\u001b[0m\u001b]8;;\u001b\\\u001b[2m:\u001b[0m\u001b]8;id=858147;file:///home/cms-jovyan/integration-challenge/cms/analysis/nondiff.py#213\u001b\\\u001b[2m213\u001b[0m\u001b]8;;\u001b\\\n"
      ]
     },
     "metadata": {},
     "output_type": "display_data"
    },
    {
     "data": {
      "text/html": [
       "<pre style=\"white-space:pre;overflow-x:auto;line-height:normal;font-family:Menlo,'DejaVu Sans Mono',consolas,'Courier New',monospace\"><span style=\"color: #7fbfbf; text-decoration-color: #7fbfbf\">         </span><span style=\"color: #000080; text-decoration-color: #000080\">INFO    </span> <span style=\"color: #000000; text-decoration-color: #000000\">Applying selection for CMS_WORKSHOP in signal with variation                       </span><a href=\"file:///home/cms-jovyan/integration-challenge/cms/analysis/nondiff.py\" target=\"_blank\"><span style=\"color: #7f7f7f; text-decoration-color: #7f7f7f\">nondiff.py</span></a><span style=\"color: #7f7f7f; text-decoration-color: #7f7f7f\">:</span><a href=\"file:///home/cms-jovyan/integration-challenge/cms/analysis/nondiff.py#154\" target=\"_blank\"><span style=\"color: #7f7f7f; text-decoration-color: #7f7f7f\">154</span></a>\n",
       "<span style=\"color: #7fbfbf; text-decoration-color: #7fbfbf\">         </span>         <span style=\"color: #000000; text-decoration-color: #000000\">jet_pt_resolution_down                                                             </span><span style=\"color: #7f7f7f; text-decoration-color: #7f7f7f\">              </span>\n",
       "</pre>\n"
      ],
      "text/plain": [
       "\u001b[2;36m        \u001b[0m\u001b[2;36m \u001b[0m\u001b[34mINFO    \u001b[0m \u001b[39mApplying selection for CMS_WORKSHOP in signal with variation                      \u001b[0m\u001b[39m \u001b[0m\u001b]8;id=21930;file:///home/cms-jovyan/integration-challenge/cms/analysis/nondiff.py\u001b\\\u001b[2mnondiff.py\u001b[0m\u001b]8;;\u001b\\\u001b[2m:\u001b[0m\u001b]8;id=90803;file:///home/cms-jovyan/integration-challenge/cms/analysis/nondiff.py#154\u001b\\\u001b[2m154\u001b[0m\u001b]8;;\u001b\\\n",
       "\u001b[2;36m         \u001b[0m         \u001b[39mjet_pt_resolution_down                                                            \u001b[0m\u001b[39m \u001b[0m\u001b[2m              \u001b[0m\n"
      ]
     },
     "metadata": {},
     "output_type": "display_data"
    },
    {
     "data": {
      "text/html": [
       "<pre style=\"white-space:pre;overflow-x:auto;line-height:normal;font-family:Menlo,'DejaVu Sans Mono',consolas,'Courier New',monospace\"><span style=\"color: #7fbfbf; text-decoration-color: #7fbfbf\">13:47:51 </span><span style=\"color: #000080; text-decoration-color: #000080\">INFO    </span> <span style=\"color: #000000; text-decoration-color: #000000\">Number of weighted events in CMS_WORKSHOP: </span><span style=\"color: #008080; text-decoration-color: #008080; font-weight: bold\">4.34</span><span style=\"color: #000000; text-decoration-color: #000000\">                                    </span><a href=\"file:///home/cms-jovyan/integration-challenge/cms/analysis/nondiff.py\" target=\"_blank\"><span style=\"color: #7f7f7f; text-decoration-color: #7f7f7f\">nondiff.py</span></a><span style=\"color: #7f7f7f; text-decoration-color: #7f7f7f\">:</span><a href=\"file:///home/cms-jovyan/integration-challenge/cms/analysis/nondiff.py#205\" target=\"_blank\"><span style=\"color: #7f7f7f; text-decoration-color: #7f7f7f\">205</span></a>\n",
       "</pre>\n"
      ],
      "text/plain": [
       "\u001b[2;36m13:47:51\u001b[0m\u001b[2;36m \u001b[0m\u001b[34mINFO    \u001b[0m \u001b[39mNumber of weighted events in CMS_WORKSHOP: \u001b[0m\u001b[1;36m4.34\u001b[0m\u001b[39m                                   \u001b[0m\u001b[39m \u001b[0m\u001b]8;id=751366;file:///home/cms-jovyan/integration-challenge/cms/analysis/nondiff.py\u001b\\\u001b[2mnondiff.py\u001b[0m\u001b]8;;\u001b\\\u001b[2m:\u001b[0m\u001b]8;id=828694;file:///home/cms-jovyan/integration-challenge/cms/analysis/nondiff.py#205\u001b\\\u001b[2m205\u001b[0m\u001b]8;;\u001b\\\n"
      ]
     },
     "metadata": {},
     "output_type": "display_data"
    },
    {
     "data": {
      "text/html": [
       "<pre style=\"white-space:pre;overflow-x:auto;line-height:normal;font-family:Menlo,'DejaVu Sans Mono',consolas,'Courier New',monospace\"><span style=\"color: #7fbfbf; text-decoration-color: #7fbfbf\">         </span><span style=\"color: #000080; text-decoration-color: #000080\">INFO    </span> <span style=\"color: #000000; text-decoration-color: #000000\">Number of raw events in CMS_WORKSHOP: </span><span style=\"color: #008080; text-decoration-color: #008080; font-weight: bold\">3214</span><span style=\"color: #000000; text-decoration-color: #000000\">                                         </span><a href=\"file:///home/cms-jovyan/integration-challenge/cms/analysis/nondiff.py\" target=\"_blank\"><span style=\"color: #7f7f7f; text-decoration-color: #7f7f7f\">nondiff.py</span></a><span style=\"color: #7f7f7f; text-decoration-color: #7f7f7f\">:</span><a href=\"file:///home/cms-jovyan/integration-challenge/cms/analysis/nondiff.py#208\" target=\"_blank\"><span style=\"color: #7f7f7f; text-decoration-color: #7f7f7f\">208</span></a>\n",
       "</pre>\n"
      ],
      "text/plain": [
       "\u001b[2;36m        \u001b[0m\u001b[2;36m \u001b[0m\u001b[34mINFO    \u001b[0m \u001b[39mNumber of raw events in CMS_WORKSHOP: \u001b[0m\u001b[1;36m3214\u001b[0m\u001b[39m                                        \u001b[0m\u001b[39m \u001b[0m\u001b]8;id=863331;file:///home/cms-jovyan/integration-challenge/cms/analysis/nondiff.py\u001b\\\u001b[2mnondiff.py\u001b[0m\u001b]8;;\u001b\\\u001b[2m:\u001b[0m\u001b]8;id=620127;file:///home/cms-jovyan/integration-challenge/cms/analysis/nondiff.py#208\u001b\\\u001b[2m208\u001b[0m\u001b]8;;\u001b\\\n"
      ]
     },
     "metadata": {},
     "output_type": "display_data"
    },
    {
     "data": {
      "text/html": [
       "<pre style=\"white-space:pre;overflow-x:auto;line-height:normal;font-family:Menlo,'DejaVu Sans Mono',consolas,'Courier New',monospace\"><span style=\"color: #7fbfbf; text-decoration-color: #7fbfbf\">         </span><span style=\"color: #000080; text-decoration-color: #000080\">INFO    </span> <span style=\"color: #000000; text-decoration-color: #000000\">Computing observable workshop_mtt                                                  </span><a href=\"file:///home/cms-jovyan/integration-challenge/cms/analysis/nondiff.py\" target=\"_blank\"><span style=\"color: #7f7f7f; text-decoration-color: #7f7f7f\">nondiff.py</span></a><span style=\"color: #7f7f7f; text-decoration-color: #7f7f7f\">:</span><a href=\"file:///home/cms-jovyan/integration-challenge/cms/analysis/nondiff.py#213\" target=\"_blank\"><span style=\"color: #7f7f7f; text-decoration-color: #7f7f7f\">213</span></a>\n",
       "</pre>\n"
      ],
      "text/plain": [
       "\u001b[2;36m        \u001b[0m\u001b[2;36m \u001b[0m\u001b[34mINFO    \u001b[0m \u001b[39mComputing observable workshop_mtt                                                 \u001b[0m\u001b[39m \u001b[0m\u001b]8;id=619175;file:///home/cms-jovyan/integration-challenge/cms/analysis/nondiff.py\u001b\\\u001b[2mnondiff.py\u001b[0m\u001b]8;;\u001b\\\u001b[2m:\u001b[0m\u001b]8;id=132913;file:///home/cms-jovyan/integration-challenge/cms/analysis/nondiff.py#213\u001b\\\u001b[2m213\u001b[0m\u001b]8;;\u001b\\\n"
      ]
     },
     "metadata": {},
     "output_type": "display_data"
    },
    {
     "data": {
      "text/html": [
       "<pre style=\"white-space:pre;overflow-x:auto;line-height:normal;font-family:Menlo,'DejaVu Sans Mono',consolas,'Courier New',monospace\"><span style=\"color: #7fbfbf; text-decoration-color: #7fbfbf\">         </span><span style=\"color: #000080; text-decoration-color: #000080\">INFO    </span> <span style=\"color: #000000; text-decoration-color: #000000\">Applying selection for CMS_WORKSHOP in signal with variation jet_pt_scale_up       </span><a href=\"file:///home/cms-jovyan/integration-challenge/cms/analysis/nondiff.py\" target=\"_blank\"><span style=\"color: #7f7f7f; text-decoration-color: #7f7f7f\">nondiff.py</span></a><span style=\"color: #7f7f7f; text-decoration-color: #7f7f7f\">:</span><a href=\"file:///home/cms-jovyan/integration-challenge/cms/analysis/nondiff.py#154\" target=\"_blank\"><span style=\"color: #7f7f7f; text-decoration-color: #7f7f7f\">154</span></a>\n",
       "</pre>\n"
      ],
      "text/plain": [
       "\u001b[2;36m        \u001b[0m\u001b[2;36m \u001b[0m\u001b[34mINFO    \u001b[0m \u001b[39mApplying selection for CMS_WORKSHOP in signal with variation jet_pt_scale_up      \u001b[0m\u001b[39m \u001b[0m\u001b]8;id=979518;file:///home/cms-jovyan/integration-challenge/cms/analysis/nondiff.py\u001b\\\u001b[2mnondiff.py\u001b[0m\u001b]8;;\u001b\\\u001b[2m:\u001b[0m\u001b]8;id=118850;file:///home/cms-jovyan/integration-challenge/cms/analysis/nondiff.py#154\u001b\\\u001b[2m154\u001b[0m\u001b]8;;\u001b\\\n"
      ]
     },
     "metadata": {},
     "output_type": "display_data"
    },
    {
     "data": {
      "text/html": [
       "<pre style=\"white-space:pre;overflow-x:auto;line-height:normal;font-family:Menlo,'DejaVu Sans Mono',consolas,'Courier New',monospace\"><span style=\"color: #7fbfbf; text-decoration-color: #7fbfbf\">         </span><span style=\"color: #000080; text-decoration-color: #000080\">INFO    </span> <span style=\"color: #000000; text-decoration-color: #000000\">Number of weighted events in CMS_WORKSHOP: </span><span style=\"color: #008080; text-decoration-color: #008080; font-weight: bold\">4.34</span><span style=\"color: #000000; text-decoration-color: #000000\">                                    </span><a href=\"file:///home/cms-jovyan/integration-challenge/cms/analysis/nondiff.py\" target=\"_blank\"><span style=\"color: #7f7f7f; text-decoration-color: #7f7f7f\">nondiff.py</span></a><span style=\"color: #7f7f7f; text-decoration-color: #7f7f7f\">:</span><a href=\"file:///home/cms-jovyan/integration-challenge/cms/analysis/nondiff.py#205\" target=\"_blank\"><span style=\"color: #7f7f7f; text-decoration-color: #7f7f7f\">205</span></a>\n",
       "</pre>\n"
      ],
      "text/plain": [
       "\u001b[2;36m        \u001b[0m\u001b[2;36m \u001b[0m\u001b[34mINFO    \u001b[0m \u001b[39mNumber of weighted events in CMS_WORKSHOP: \u001b[0m\u001b[1;36m4.34\u001b[0m\u001b[39m                                   \u001b[0m\u001b[39m \u001b[0m\u001b]8;id=315578;file:///home/cms-jovyan/integration-challenge/cms/analysis/nondiff.py\u001b\\\u001b[2mnondiff.py\u001b[0m\u001b]8;;\u001b\\\u001b[2m:\u001b[0m\u001b]8;id=930488;file:///home/cms-jovyan/integration-challenge/cms/analysis/nondiff.py#205\u001b\\\u001b[2m205\u001b[0m\u001b]8;;\u001b\\\n"
      ]
     },
     "metadata": {},
     "output_type": "display_data"
    },
    {
     "data": {
      "text/html": [
       "<pre style=\"white-space:pre;overflow-x:auto;line-height:normal;font-family:Menlo,'DejaVu Sans Mono',consolas,'Courier New',monospace\"><span style=\"color: #7fbfbf; text-decoration-color: #7fbfbf\">         </span><span style=\"color: #000080; text-decoration-color: #000080\">INFO    </span> <span style=\"color: #000000; text-decoration-color: #000000\">Number of raw events in CMS_WORKSHOP: </span><span style=\"color: #008080; text-decoration-color: #008080; font-weight: bold\">3214</span><span style=\"color: #000000; text-decoration-color: #000000\">                                         </span><a href=\"file:///home/cms-jovyan/integration-challenge/cms/analysis/nondiff.py\" target=\"_blank\"><span style=\"color: #7f7f7f; text-decoration-color: #7f7f7f\">nondiff.py</span></a><span style=\"color: #7f7f7f; text-decoration-color: #7f7f7f\">:</span><a href=\"file:///home/cms-jovyan/integration-challenge/cms/analysis/nondiff.py#208\" target=\"_blank\"><span style=\"color: #7f7f7f; text-decoration-color: #7f7f7f\">208</span></a>\n",
       "</pre>\n"
      ],
      "text/plain": [
       "\u001b[2;36m        \u001b[0m\u001b[2;36m \u001b[0m\u001b[34mINFO    \u001b[0m \u001b[39mNumber of raw events in CMS_WORKSHOP: \u001b[0m\u001b[1;36m3214\u001b[0m\u001b[39m                                        \u001b[0m\u001b[39m \u001b[0m\u001b]8;id=514319;file:///home/cms-jovyan/integration-challenge/cms/analysis/nondiff.py\u001b\\\u001b[2mnondiff.py\u001b[0m\u001b]8;;\u001b\\\u001b[2m:\u001b[0m\u001b]8;id=412042;file:///home/cms-jovyan/integration-challenge/cms/analysis/nondiff.py#208\u001b\\\u001b[2m208\u001b[0m\u001b]8;;\u001b\\\n"
      ]
     },
     "metadata": {},
     "output_type": "display_data"
    },
    {
     "data": {
      "text/html": [
       "<pre style=\"white-space:pre;overflow-x:auto;line-height:normal;font-family:Menlo,'DejaVu Sans Mono',consolas,'Courier New',monospace\"><span style=\"color: #7fbfbf; text-decoration-color: #7fbfbf\">         </span><span style=\"color: #000080; text-decoration-color: #000080\">INFO    </span> <span style=\"color: #000000; text-decoration-color: #000000\">Computing observable workshop_mtt                                                  </span><a href=\"file:///home/cms-jovyan/integration-challenge/cms/analysis/nondiff.py\" target=\"_blank\"><span style=\"color: #7f7f7f; text-decoration-color: #7f7f7f\">nondiff.py</span></a><span style=\"color: #7f7f7f; text-decoration-color: #7f7f7f\">:</span><a href=\"file:///home/cms-jovyan/integration-challenge/cms/analysis/nondiff.py#213\" target=\"_blank\"><span style=\"color: #7f7f7f; text-decoration-color: #7f7f7f\">213</span></a>\n",
       "</pre>\n"
      ],
      "text/plain": [
       "\u001b[2;36m        \u001b[0m\u001b[2;36m \u001b[0m\u001b[34mINFO    \u001b[0m \u001b[39mComputing observable workshop_mtt                                                 \u001b[0m\u001b[39m \u001b[0m\u001b]8;id=242204;file:///home/cms-jovyan/integration-challenge/cms/analysis/nondiff.py\u001b\\\u001b[2mnondiff.py\u001b[0m\u001b]8;;\u001b\\\u001b[2m:\u001b[0m\u001b]8;id=217041;file:///home/cms-jovyan/integration-challenge/cms/analysis/nondiff.py#213\u001b\\\u001b[2m213\u001b[0m\u001b]8;;\u001b\\\n"
      ]
     },
     "metadata": {},
     "output_type": "display_data"
    },
    {
     "data": {
      "text/html": [
       "<pre style=\"white-space:pre;overflow-x:auto;line-height:normal;font-family:Menlo,'DejaVu Sans Mono',consolas,'Courier New',monospace\"><span style=\"color: #7fbfbf; text-decoration-color: #7fbfbf\">         </span><span style=\"color: #000080; text-decoration-color: #000080\">INFO    </span> <span style=\"color: #000000; text-decoration-color: #000000\">Applying selection for CMS_WORKSHOP in signal with variation jet_pt_scale_down     </span><a href=\"file:///home/cms-jovyan/integration-challenge/cms/analysis/nondiff.py\" target=\"_blank\"><span style=\"color: #7f7f7f; text-decoration-color: #7f7f7f\">nondiff.py</span></a><span style=\"color: #7f7f7f; text-decoration-color: #7f7f7f\">:</span><a href=\"file:///home/cms-jovyan/integration-challenge/cms/analysis/nondiff.py#154\" target=\"_blank\"><span style=\"color: #7f7f7f; text-decoration-color: #7f7f7f\">154</span></a>\n",
       "</pre>\n"
      ],
      "text/plain": [
       "\u001b[2;36m        \u001b[0m\u001b[2;36m \u001b[0m\u001b[34mINFO    \u001b[0m \u001b[39mApplying selection for CMS_WORKSHOP in signal with variation jet_pt_scale_down    \u001b[0m\u001b[39m \u001b[0m\u001b]8;id=160283;file:///home/cms-jovyan/integration-challenge/cms/analysis/nondiff.py\u001b\\\u001b[2mnondiff.py\u001b[0m\u001b]8;;\u001b\\\u001b[2m:\u001b[0m\u001b]8;id=470636;file:///home/cms-jovyan/integration-challenge/cms/analysis/nondiff.py#154\u001b\\\u001b[2m154\u001b[0m\u001b]8;;\u001b\\\n"
      ]
     },
     "metadata": {},
     "output_type": "display_data"
    },
    {
     "data": {
      "text/html": [
       "<pre style=\"white-space:pre;overflow-x:auto;line-height:normal;font-family:Menlo,'DejaVu Sans Mono',consolas,'Courier New',monospace\"><span style=\"color: #7fbfbf; text-decoration-color: #7fbfbf\">         </span><span style=\"color: #000080; text-decoration-color: #000080\">INFO    </span> <span style=\"color: #000000; text-decoration-color: #000000\">Number of weighted events in CMS_WORKSHOP: </span><span style=\"color: #008080; text-decoration-color: #008080; font-weight: bold\">4.34</span><span style=\"color: #000000; text-decoration-color: #000000\">                                    </span><a href=\"file:///home/cms-jovyan/integration-challenge/cms/analysis/nondiff.py\" target=\"_blank\"><span style=\"color: #7f7f7f; text-decoration-color: #7f7f7f\">nondiff.py</span></a><span style=\"color: #7f7f7f; text-decoration-color: #7f7f7f\">:</span><a href=\"file:///home/cms-jovyan/integration-challenge/cms/analysis/nondiff.py#205\" target=\"_blank\"><span style=\"color: #7f7f7f; text-decoration-color: #7f7f7f\">205</span></a>\n",
       "</pre>\n"
      ],
      "text/plain": [
       "\u001b[2;36m        \u001b[0m\u001b[2;36m \u001b[0m\u001b[34mINFO    \u001b[0m \u001b[39mNumber of weighted events in CMS_WORKSHOP: \u001b[0m\u001b[1;36m4.34\u001b[0m\u001b[39m                                   \u001b[0m\u001b[39m \u001b[0m\u001b]8;id=247175;file:///home/cms-jovyan/integration-challenge/cms/analysis/nondiff.py\u001b\\\u001b[2mnondiff.py\u001b[0m\u001b]8;;\u001b\\\u001b[2m:\u001b[0m\u001b]8;id=625881;file:///home/cms-jovyan/integration-challenge/cms/analysis/nondiff.py#205\u001b\\\u001b[2m205\u001b[0m\u001b]8;;\u001b\\\n"
      ]
     },
     "metadata": {},
     "output_type": "display_data"
    },
    {
     "data": {
      "text/html": [
       "<pre style=\"white-space:pre;overflow-x:auto;line-height:normal;font-family:Menlo,'DejaVu Sans Mono',consolas,'Courier New',monospace\"><span style=\"color: #7fbfbf; text-decoration-color: #7fbfbf\">         </span><span style=\"color: #000080; text-decoration-color: #000080\">INFO    </span> <span style=\"color: #000000; text-decoration-color: #000000\">Number of raw events in CMS_WORKSHOP: </span><span style=\"color: #008080; text-decoration-color: #008080; font-weight: bold\">3214</span><span style=\"color: #000000; text-decoration-color: #000000\">                                         </span><a href=\"file:///home/cms-jovyan/integration-challenge/cms/analysis/nondiff.py\" target=\"_blank\"><span style=\"color: #7f7f7f; text-decoration-color: #7f7f7f\">nondiff.py</span></a><span style=\"color: #7f7f7f; text-decoration-color: #7f7f7f\">:</span><a href=\"file:///home/cms-jovyan/integration-challenge/cms/analysis/nondiff.py#208\" target=\"_blank\"><span style=\"color: #7f7f7f; text-decoration-color: #7f7f7f\">208</span></a>\n",
       "</pre>\n"
      ],
      "text/plain": [
       "\u001b[2;36m        \u001b[0m\u001b[2;36m \u001b[0m\u001b[34mINFO    \u001b[0m \u001b[39mNumber of raw events in CMS_WORKSHOP: \u001b[0m\u001b[1;36m3214\u001b[0m\u001b[39m                                        \u001b[0m\u001b[39m \u001b[0m\u001b]8;id=955206;file:///home/cms-jovyan/integration-challenge/cms/analysis/nondiff.py\u001b\\\u001b[2mnondiff.py\u001b[0m\u001b]8;;\u001b\\\u001b[2m:\u001b[0m\u001b]8;id=178424;file:///home/cms-jovyan/integration-challenge/cms/analysis/nondiff.py#208\u001b\\\u001b[2m208\u001b[0m\u001b]8;;\u001b\\\n"
      ]
     },
     "metadata": {},
     "output_type": "display_data"
    },
    {
     "data": {
      "text/html": [
       "<pre style=\"white-space:pre;overflow-x:auto;line-height:normal;font-family:Menlo,'DejaVu Sans Mono',consolas,'Courier New',monospace\"><span style=\"color: #7fbfbf; text-decoration-color: #7fbfbf\">         </span><span style=\"color: #000080; text-decoration-color: #000080\">INFO    </span> <span style=\"color: #000000; text-decoration-color: #000000\">Computing observable workshop_mtt                                                  </span><a href=\"file:///home/cms-jovyan/integration-challenge/cms/analysis/nondiff.py\" target=\"_blank\"><span style=\"color: #7f7f7f; text-decoration-color: #7f7f7f\">nondiff.py</span></a><span style=\"color: #7f7f7f; text-decoration-color: #7f7f7f\">:</span><a href=\"file:///home/cms-jovyan/integration-challenge/cms/analysis/nondiff.py#213\" target=\"_blank\"><span style=\"color: #7f7f7f; text-decoration-color: #7f7f7f\">213</span></a>\n",
       "</pre>\n"
      ],
      "text/plain": [
       "\u001b[2;36m        \u001b[0m\u001b[2;36m \u001b[0m\u001b[34mINFO    \u001b[0m \u001b[39mComputing observable workshop_mtt                                                 \u001b[0m\u001b[39m \u001b[0m\u001b]8;id=235047;file:///home/cms-jovyan/integration-challenge/cms/analysis/nondiff.py\u001b\\\u001b[2mnondiff.py\u001b[0m\u001b]8;;\u001b\\\u001b[2m:\u001b[0m\u001b]8;id=143256;file:///home/cms-jovyan/integration-challenge/cms/analysis/nondiff.py#213\u001b\\\u001b[2m213\u001b[0m\u001b]8;;\u001b\\\n"
      ]
     },
     "metadata": {},
     "output_type": "display_data"
    },
    {
     "data": {
      "text/html": [
       "<pre style=\"white-space:pre;overflow-x:auto;line-height:normal;font-family:Menlo,'DejaVu Sans Mono',consolas,'Courier New',monospace\"><span style=\"color: #7fbfbf; text-decoration-color: #7fbfbf\">         </span><span style=\"color: #000080; text-decoration-color: #000080\">INFO    </span> <span style=\"color: #000000; text-decoration-color: #000000\">Applying selection for CMS_WORKSHOP in signal with variation pu_weight_up          </span><a href=\"file:///home/cms-jovyan/integration-challenge/cms/analysis/nondiff.py\" target=\"_blank\"><span style=\"color: #7f7f7f; text-decoration-color: #7f7f7f\">nondiff.py</span></a><span style=\"color: #7f7f7f; text-decoration-color: #7f7f7f\">:</span><a href=\"file:///home/cms-jovyan/integration-challenge/cms/analysis/nondiff.py#154\" target=\"_blank\"><span style=\"color: #7f7f7f; text-decoration-color: #7f7f7f\">154</span></a>\n",
       "</pre>\n"
      ],
      "text/plain": [
       "\u001b[2;36m        \u001b[0m\u001b[2;36m \u001b[0m\u001b[34mINFO    \u001b[0m \u001b[39mApplying selection for CMS_WORKSHOP in signal with variation pu_weight_up         \u001b[0m\u001b[39m \u001b[0m\u001b]8;id=672733;file:///home/cms-jovyan/integration-challenge/cms/analysis/nondiff.py\u001b\\\u001b[2mnondiff.py\u001b[0m\u001b]8;;\u001b\\\u001b[2m:\u001b[0m\u001b]8;id=786929;file:///home/cms-jovyan/integration-challenge/cms/analysis/nondiff.py#154\u001b\\\u001b[2m154\u001b[0m\u001b]8;;\u001b\\\n"
      ]
     },
     "metadata": {},
     "output_type": "display_data"
    },
    {
     "data": {
      "text/html": [
       "<pre style=\"white-space:pre;overflow-x:auto;line-height:normal;font-family:Menlo,'DejaVu Sans Mono',consolas,'Courier New',monospace\"><span style=\"color: #7fbfbf; text-decoration-color: #7fbfbf\">         </span><span style=\"color: #000080; text-decoration-color: #000080\">INFO    </span> <span style=\"color: #000000; text-decoration-color: #000000\">Applying correction: pu_weight/Collisions16_UltraLegacy_goldenJSON </span><span style=\"color: #000000; text-decoration-color: #000000; font-weight: bold\">(</span><span style=\"color: #000000; text-decoration-color: #000000\">up</span><span style=\"color: #000000; text-decoration-color: #000000; font-weight: bold\">)</span><span style=\"color: #000000; text-decoration-color: #000000\">               </span><a href=\"file:///home/cms-jovyan/integration-challenge/cms/analysis/base.py\" target=\"_blank\"><span style=\"color: #7f7f7f; text-decoration-color: #7f7f7f\">base.py</span></a><span style=\"color: #7f7f7f; text-decoration-color: #7f7f7f\">:</span><a href=\"file:///home/cms-jovyan/integration-challenge/cms/analysis/base.py#247\" target=\"_blank\"><span style=\"color: #7f7f7f; text-decoration-color: #7f7f7f\">247</span></a>\n",
       "</pre>\n"
      ],
      "text/plain": [
       "\u001b[2;36m        \u001b[0m\u001b[2;36m \u001b[0m\u001b[34mINFO    \u001b[0m \u001b[39mApplying correction: pu_weight/Collisions16_UltraLegacy_goldenJSON \u001b[0m\u001b[1;39m(\u001b[0m\u001b[39mup\u001b[0m\u001b[1;39m)\u001b[0m\u001b[39m              \u001b[0m\u001b[39m \u001b[0m\u001b]8;id=527453;file:///home/cms-jovyan/integration-challenge/cms/analysis/base.py\u001b\\\u001b[2mbase.py\u001b[0m\u001b]8;;\u001b\\\u001b[2m:\u001b[0m\u001b]8;id=766772;file:///home/cms-jovyan/integration-challenge/cms/analysis/base.py#247\u001b\\\u001b[2m247\u001b[0m\u001b]8;;\u001b\\\n"
      ]
     },
     "metadata": {},
     "output_type": "display_data"
    },
    {
     "data": {
      "text/html": [
       "<pre style=\"white-space:pre;overflow-x:auto;line-height:normal;font-family:Menlo,'DejaVu Sans Mono',consolas,'Courier New',monospace\"><span style=\"color: #7fbfbf; text-decoration-color: #7fbfbf\">         </span><span style=\"color: #000080; text-decoration-color: #000080\">INFO    </span> <span style=\"color: #000000; text-decoration-color: #000000\">Number of weighted events in CMS_WORKSHOP: </span><span style=\"color: #008080; text-decoration-color: #008080; font-weight: bold\">3206.08</span><span style=\"color: #000000; text-decoration-color: #000000\">                                 </span><a href=\"file:///home/cms-jovyan/integration-challenge/cms/analysis/nondiff.py\" target=\"_blank\"><span style=\"color: #7f7f7f; text-decoration-color: #7f7f7f\">nondiff.py</span></a><span style=\"color: #7f7f7f; text-decoration-color: #7f7f7f\">:</span><a href=\"file:///home/cms-jovyan/integration-challenge/cms/analysis/nondiff.py#205\" target=\"_blank\"><span style=\"color: #7f7f7f; text-decoration-color: #7f7f7f\">205</span></a>\n",
       "</pre>\n"
      ],
      "text/plain": [
       "\u001b[2;36m        \u001b[0m\u001b[2;36m \u001b[0m\u001b[34mINFO    \u001b[0m \u001b[39mNumber of weighted events in CMS_WORKSHOP: \u001b[0m\u001b[1;36m3206.08\u001b[0m\u001b[39m                                \u001b[0m\u001b[39m \u001b[0m\u001b]8;id=416682;file:///home/cms-jovyan/integration-challenge/cms/analysis/nondiff.py\u001b\\\u001b[2mnondiff.py\u001b[0m\u001b]8;;\u001b\\\u001b[2m:\u001b[0m\u001b]8;id=551143;file:///home/cms-jovyan/integration-challenge/cms/analysis/nondiff.py#205\u001b\\\u001b[2m205\u001b[0m\u001b]8;;\u001b\\\n"
      ]
     },
     "metadata": {},
     "output_type": "display_data"
    },
    {
     "data": {
      "text/html": [
       "<pre style=\"white-space:pre;overflow-x:auto;line-height:normal;font-family:Menlo,'DejaVu Sans Mono',consolas,'Courier New',monospace\"><span style=\"color: #7fbfbf; text-decoration-color: #7fbfbf\">         </span><span style=\"color: #000080; text-decoration-color: #000080\">INFO    </span> <span style=\"color: #000000; text-decoration-color: #000000\">Number of raw events in CMS_WORKSHOP: </span><span style=\"color: #008080; text-decoration-color: #008080; font-weight: bold\">3214</span><span style=\"color: #000000; text-decoration-color: #000000\">                                         </span><a href=\"file:///home/cms-jovyan/integration-challenge/cms/analysis/nondiff.py\" target=\"_blank\"><span style=\"color: #7f7f7f; text-decoration-color: #7f7f7f\">nondiff.py</span></a><span style=\"color: #7f7f7f; text-decoration-color: #7f7f7f\">:</span><a href=\"file:///home/cms-jovyan/integration-challenge/cms/analysis/nondiff.py#208\" target=\"_blank\"><span style=\"color: #7f7f7f; text-decoration-color: #7f7f7f\">208</span></a>\n",
       "</pre>\n"
      ],
      "text/plain": [
       "\u001b[2;36m        \u001b[0m\u001b[2;36m \u001b[0m\u001b[34mINFO    \u001b[0m \u001b[39mNumber of raw events in CMS_WORKSHOP: \u001b[0m\u001b[1;36m3214\u001b[0m\u001b[39m                                        \u001b[0m\u001b[39m \u001b[0m\u001b]8;id=820117;file:///home/cms-jovyan/integration-challenge/cms/analysis/nondiff.py\u001b\\\u001b[2mnondiff.py\u001b[0m\u001b]8;;\u001b\\\u001b[2m:\u001b[0m\u001b]8;id=566772;file:///home/cms-jovyan/integration-challenge/cms/analysis/nondiff.py#208\u001b\\\u001b[2m208\u001b[0m\u001b]8;;\u001b\\\n"
      ]
     },
     "metadata": {},
     "output_type": "display_data"
    },
    {
     "data": {
      "text/html": [
       "<pre style=\"white-space:pre;overflow-x:auto;line-height:normal;font-family:Menlo,'DejaVu Sans Mono',consolas,'Courier New',monospace\"><span style=\"color: #7fbfbf; text-decoration-color: #7fbfbf\">         </span><span style=\"color: #000080; text-decoration-color: #000080\">INFO    </span> <span style=\"color: #000000; text-decoration-color: #000000\">Computing observable workshop_mtt                                                  </span><a href=\"file:///home/cms-jovyan/integration-challenge/cms/analysis/nondiff.py\" target=\"_blank\"><span style=\"color: #7f7f7f; text-decoration-color: #7f7f7f\">nondiff.py</span></a><span style=\"color: #7f7f7f; text-decoration-color: #7f7f7f\">:</span><a href=\"file:///home/cms-jovyan/integration-challenge/cms/analysis/nondiff.py#213\" target=\"_blank\"><span style=\"color: #7f7f7f; text-decoration-color: #7f7f7f\">213</span></a>\n",
       "</pre>\n"
      ],
      "text/plain": [
       "\u001b[2;36m        \u001b[0m\u001b[2;36m \u001b[0m\u001b[34mINFO    \u001b[0m \u001b[39mComputing observable workshop_mtt                                                 \u001b[0m\u001b[39m \u001b[0m\u001b]8;id=797649;file:///home/cms-jovyan/integration-challenge/cms/analysis/nondiff.py\u001b\\\u001b[2mnondiff.py\u001b[0m\u001b]8;;\u001b\\\u001b[2m:\u001b[0m\u001b]8;id=337640;file:///home/cms-jovyan/integration-challenge/cms/analysis/nondiff.py#213\u001b\\\u001b[2m213\u001b[0m\u001b]8;;\u001b\\\n"
      ]
     },
     "metadata": {},
     "output_type": "display_data"
    },
    {
     "data": {
      "text/html": [
       "<pre style=\"white-space:pre;overflow-x:auto;line-height:normal;font-family:Menlo,'DejaVu Sans Mono',consolas,'Courier New',monospace\"><span style=\"color: #7fbfbf; text-decoration-color: #7fbfbf\">         </span><span style=\"color: #000080; text-decoration-color: #000080\">INFO    </span> <span style=\"color: #000000; text-decoration-color: #000000\">Applying selection for CMS_WORKSHOP in signal with variation pu_weight_down        </span><a href=\"file:///home/cms-jovyan/integration-challenge/cms/analysis/nondiff.py\" target=\"_blank\"><span style=\"color: #7f7f7f; text-decoration-color: #7f7f7f\">nondiff.py</span></a><span style=\"color: #7f7f7f; text-decoration-color: #7f7f7f\">:</span><a href=\"file:///home/cms-jovyan/integration-challenge/cms/analysis/nondiff.py#154\" target=\"_blank\"><span style=\"color: #7f7f7f; text-decoration-color: #7f7f7f\">154</span></a>\n",
       "</pre>\n"
      ],
      "text/plain": [
       "\u001b[2;36m        \u001b[0m\u001b[2;36m \u001b[0m\u001b[34mINFO    \u001b[0m \u001b[39mApplying selection for CMS_WORKSHOP in signal with variation pu_weight_down       \u001b[0m\u001b[39m \u001b[0m\u001b]8;id=129018;file:///home/cms-jovyan/integration-challenge/cms/analysis/nondiff.py\u001b\\\u001b[2mnondiff.py\u001b[0m\u001b]8;;\u001b\\\u001b[2m:\u001b[0m\u001b]8;id=708204;file:///home/cms-jovyan/integration-challenge/cms/analysis/nondiff.py#154\u001b\\\u001b[2m154\u001b[0m\u001b]8;;\u001b\\\n"
      ]
     },
     "metadata": {},
     "output_type": "display_data"
    },
    {
     "data": {
      "text/html": [
       "<pre style=\"white-space:pre;overflow-x:auto;line-height:normal;font-family:Menlo,'DejaVu Sans Mono',consolas,'Courier New',monospace\"><span style=\"color: #7fbfbf; text-decoration-color: #7fbfbf\">         </span><span style=\"color: #000080; text-decoration-color: #000080\">INFO    </span> <span style=\"color: #000000; text-decoration-color: #000000\">Applying correction: pu_weight/Collisions16_UltraLegacy_goldenJSON </span><span style=\"color: #000000; text-decoration-color: #000000; font-weight: bold\">(</span><span style=\"color: #000000; text-decoration-color: #000000\">down</span><span style=\"color: #000000; text-decoration-color: #000000; font-weight: bold\">)</span><span style=\"color: #000000; text-decoration-color: #000000\">             </span><a href=\"file:///home/cms-jovyan/integration-challenge/cms/analysis/base.py\" target=\"_blank\"><span style=\"color: #7f7f7f; text-decoration-color: #7f7f7f\">base.py</span></a><span style=\"color: #7f7f7f; text-decoration-color: #7f7f7f\">:</span><a href=\"file:///home/cms-jovyan/integration-challenge/cms/analysis/base.py#247\" target=\"_blank\"><span style=\"color: #7f7f7f; text-decoration-color: #7f7f7f\">247</span></a>\n",
       "</pre>\n"
      ],
      "text/plain": [
       "\u001b[2;36m        \u001b[0m\u001b[2;36m \u001b[0m\u001b[34mINFO    \u001b[0m \u001b[39mApplying correction: pu_weight/Collisions16_UltraLegacy_goldenJSON \u001b[0m\u001b[1;39m(\u001b[0m\u001b[39mdown\u001b[0m\u001b[1;39m)\u001b[0m\u001b[39m            \u001b[0m\u001b[39m \u001b[0m\u001b]8;id=83949;file:///home/cms-jovyan/integration-challenge/cms/analysis/base.py\u001b\\\u001b[2mbase.py\u001b[0m\u001b]8;;\u001b\\\u001b[2m:\u001b[0m\u001b]8;id=967394;file:///home/cms-jovyan/integration-challenge/cms/analysis/base.py#247\u001b\\\u001b[2m247\u001b[0m\u001b]8;;\u001b\\\n"
      ]
     },
     "metadata": {},
     "output_type": "display_data"
    },
    {
     "data": {
      "text/html": [
       "<pre style=\"white-space:pre;overflow-x:auto;line-height:normal;font-family:Menlo,'DejaVu Sans Mono',consolas,'Courier New',monospace\"><span style=\"color: #7fbfbf; text-decoration-color: #7fbfbf\">         </span><span style=\"color: #000080; text-decoration-color: #000080\">INFO    </span> <span style=\"color: #000000; text-decoration-color: #000000\">Number of weighted events in CMS_WORKSHOP: </span><span style=\"color: #008080; text-decoration-color: #008080; font-weight: bold\">3222.29</span><span style=\"color: #000000; text-decoration-color: #000000\">                                 </span><a href=\"file:///home/cms-jovyan/integration-challenge/cms/analysis/nondiff.py\" target=\"_blank\"><span style=\"color: #7f7f7f; text-decoration-color: #7f7f7f\">nondiff.py</span></a><span style=\"color: #7f7f7f; text-decoration-color: #7f7f7f\">:</span><a href=\"file:///home/cms-jovyan/integration-challenge/cms/analysis/nondiff.py#205\" target=\"_blank\"><span style=\"color: #7f7f7f; text-decoration-color: #7f7f7f\">205</span></a>\n",
       "</pre>\n"
      ],
      "text/plain": [
       "\u001b[2;36m        \u001b[0m\u001b[2;36m \u001b[0m\u001b[34mINFO    \u001b[0m \u001b[39mNumber of weighted events in CMS_WORKSHOP: \u001b[0m\u001b[1;36m3222.29\u001b[0m\u001b[39m                                \u001b[0m\u001b[39m \u001b[0m\u001b]8;id=953608;file:///home/cms-jovyan/integration-challenge/cms/analysis/nondiff.py\u001b\\\u001b[2mnondiff.py\u001b[0m\u001b]8;;\u001b\\\u001b[2m:\u001b[0m\u001b]8;id=323469;file:///home/cms-jovyan/integration-challenge/cms/analysis/nondiff.py#205\u001b\\\u001b[2m205\u001b[0m\u001b]8;;\u001b\\\n"
      ]
     },
     "metadata": {},
     "output_type": "display_data"
    },
    {
     "data": {
      "text/html": [
       "<pre style=\"white-space:pre;overflow-x:auto;line-height:normal;font-family:Menlo,'DejaVu Sans Mono',consolas,'Courier New',monospace\"><span style=\"color: #7fbfbf; text-decoration-color: #7fbfbf\">         </span><span style=\"color: #000080; text-decoration-color: #000080\">INFO    </span> <span style=\"color: #000000; text-decoration-color: #000000\">Number of raw events in CMS_WORKSHOP: </span><span style=\"color: #008080; text-decoration-color: #008080; font-weight: bold\">3214</span><span style=\"color: #000000; text-decoration-color: #000000\">                                         </span><a href=\"file:///home/cms-jovyan/integration-challenge/cms/analysis/nondiff.py\" target=\"_blank\"><span style=\"color: #7f7f7f; text-decoration-color: #7f7f7f\">nondiff.py</span></a><span style=\"color: #7f7f7f; text-decoration-color: #7f7f7f\">:</span><a href=\"file:///home/cms-jovyan/integration-challenge/cms/analysis/nondiff.py#208\" target=\"_blank\"><span style=\"color: #7f7f7f; text-decoration-color: #7f7f7f\">208</span></a>\n",
       "</pre>\n"
      ],
      "text/plain": [
       "\u001b[2;36m        \u001b[0m\u001b[2;36m \u001b[0m\u001b[34mINFO    \u001b[0m \u001b[39mNumber of raw events in CMS_WORKSHOP: \u001b[0m\u001b[1;36m3214\u001b[0m\u001b[39m                                        \u001b[0m\u001b[39m \u001b[0m\u001b]8;id=881046;file:///home/cms-jovyan/integration-challenge/cms/analysis/nondiff.py\u001b\\\u001b[2mnondiff.py\u001b[0m\u001b]8;;\u001b\\\u001b[2m:\u001b[0m\u001b]8;id=394708;file:///home/cms-jovyan/integration-challenge/cms/analysis/nondiff.py#208\u001b\\\u001b[2m208\u001b[0m\u001b]8;;\u001b\\\n"
      ]
     },
     "metadata": {},
     "output_type": "display_data"
    },
    {
     "data": {
      "text/html": [
       "<pre style=\"white-space:pre;overflow-x:auto;line-height:normal;font-family:Menlo,'DejaVu Sans Mono',consolas,'Courier New',monospace\"><span style=\"color: #7fbfbf; text-decoration-color: #7fbfbf\">         </span><span style=\"color: #000080; text-decoration-color: #000080\">INFO    </span> <span style=\"color: #000000; text-decoration-color: #000000\">Computing observable workshop_mtt                                                  </span><a href=\"file:///home/cms-jovyan/integration-challenge/cms/analysis/nondiff.py\" target=\"_blank\"><span style=\"color: #7f7f7f; text-decoration-color: #7f7f7f\">nondiff.py</span></a><span style=\"color: #7f7f7f; text-decoration-color: #7f7f7f\">:</span><a href=\"file:///home/cms-jovyan/integration-challenge/cms/analysis/nondiff.py#213\" target=\"_blank\"><span style=\"color: #7f7f7f; text-decoration-color: #7f7f7f\">213</span></a>\n",
       "</pre>\n"
      ],
      "text/plain": [
       "\u001b[2;36m        \u001b[0m\u001b[2;36m \u001b[0m\u001b[34mINFO    \u001b[0m \u001b[39mComputing observable workshop_mtt                                                 \u001b[0m\u001b[39m \u001b[0m\u001b]8;id=274494;file:///home/cms-jovyan/integration-challenge/cms/analysis/nondiff.py\u001b\\\u001b[2mnondiff.py\u001b[0m\u001b]8;;\u001b\\\u001b[2m:\u001b[0m\u001b]8;id=180623;file:///home/cms-jovyan/integration-challenge/cms/analysis/nondiff.py#213\u001b\\\u001b[2m213\u001b[0m\u001b]8;;\u001b\\\n"
      ]
     },
     "metadata": {},
     "output_type": "display_data"
    },
    {
     "data": {
      "text/html": [
       "<pre style=\"white-space:pre;overflow-x:auto;line-height:normal;font-family:Menlo,'DejaVu Sans Mono',consolas,'Courier New',monospace\"><span style=\"color: #7fbfbf; text-decoration-color: #7fbfbf\">         </span><span style=\"color: #000080; text-decoration-color: #000080\">INFO    </span> <span style=\"color: #000000; text-decoration-color: #000000\">Applying selection for CMS_WORKSHOP in signal with variation muon_id_sf_up         </span><a href=\"file:///home/cms-jovyan/integration-challenge/cms/analysis/nondiff.py\" target=\"_blank\"><span style=\"color: #7f7f7f; text-decoration-color: #7f7f7f\">nondiff.py</span></a><span style=\"color: #7f7f7f; text-decoration-color: #7f7f7f\">:</span><a href=\"file:///home/cms-jovyan/integration-challenge/cms/analysis/nondiff.py#154\" target=\"_blank\"><span style=\"color: #7f7f7f; text-decoration-color: #7f7f7f\">154</span></a>\n",
       "</pre>\n"
      ],
      "text/plain": [
       "\u001b[2;36m        \u001b[0m\u001b[2;36m \u001b[0m\u001b[34mINFO    \u001b[0m \u001b[39mApplying selection for CMS_WORKSHOP in signal with variation muon_id_sf_up        \u001b[0m\u001b[39m \u001b[0m\u001b]8;id=65318;file:///home/cms-jovyan/integration-challenge/cms/analysis/nondiff.py\u001b\\\u001b[2mnondiff.py\u001b[0m\u001b]8;;\u001b\\\u001b[2m:\u001b[0m\u001b]8;id=648246;file:///home/cms-jovyan/integration-challenge/cms/analysis/nondiff.py#154\u001b\\\u001b[2m154\u001b[0m\u001b]8;;\u001b\\\n"
      ]
     },
     "metadata": {},
     "output_type": "display_data"
    },
    {
     "data": {
      "text/html": [
       "<pre style=\"white-space:pre;overflow-x:auto;line-height:normal;font-family:Menlo,'DejaVu Sans Mono',consolas,'Courier New',monospace\"><span style=\"color: #7fbfbf; text-decoration-color: #7fbfbf\">         </span><span style=\"color: #000080; text-decoration-color: #000080\">INFO    </span> <span style=\"color: #000000; text-decoration-color: #000000\">Applying correction: muon_id_sf/NUM_TightID_DEN_TrackerMuons </span><span style=\"color: #000000; text-decoration-color: #000000; font-weight: bold\">(</span><span style=\"color: #000000; text-decoration-color: #000000\">systup</span><span style=\"color: #000000; text-decoration-color: #000000; font-weight: bold\">)</span><span style=\"color: #000000; text-decoration-color: #000000\">                 </span><a href=\"file:///home/cms-jovyan/integration-challenge/cms/analysis/base.py\" target=\"_blank\"><span style=\"color: #7f7f7f; text-decoration-color: #7f7f7f\">base.py</span></a><span style=\"color: #7f7f7f; text-decoration-color: #7f7f7f\">:</span><a href=\"file:///home/cms-jovyan/integration-challenge/cms/analysis/base.py#247\" target=\"_blank\"><span style=\"color: #7f7f7f; text-decoration-color: #7f7f7f\">247</span></a>\n",
       "</pre>\n"
      ],
      "text/plain": [
       "\u001b[2;36m        \u001b[0m\u001b[2;36m \u001b[0m\u001b[34mINFO    \u001b[0m \u001b[39mApplying correction: muon_id_sf/NUM_TightID_DEN_TrackerMuons \u001b[0m\u001b[1;39m(\u001b[0m\u001b[39msystup\u001b[0m\u001b[1;39m)\u001b[0m\u001b[39m                \u001b[0m\u001b[39m \u001b[0m\u001b]8;id=995347;file:///home/cms-jovyan/integration-challenge/cms/analysis/base.py\u001b\\\u001b[2mbase.py\u001b[0m\u001b]8;;\u001b\\\u001b[2m:\u001b[0m\u001b]8;id=959328;file:///home/cms-jovyan/integration-challenge/cms/analysis/base.py#247\u001b\\\u001b[2m247\u001b[0m\u001b]8;;\u001b\\\n"
      ]
     },
     "metadata": {},
     "output_type": "display_data"
    },
    {
     "data": {
      "text/html": [
       "<pre style=\"white-space:pre;overflow-x:auto;line-height:normal;font-family:Menlo,'DejaVu Sans Mono',consolas,'Courier New',monospace\"><span style=\"color: #7fbfbf; text-decoration-color: #7fbfbf\">         </span><span style=\"color: #000080; text-decoration-color: #000080\">INFO    </span> <span style=\"color: #000000; text-decoration-color: #000000\">Number of weighted events in CMS_WORKSHOP: </span><span style=\"color: #008080; text-decoration-color: #008080; font-weight: bold\">3173.22</span><span style=\"color: #000000; text-decoration-color: #000000\">                                 </span><a href=\"file:///home/cms-jovyan/integration-challenge/cms/analysis/nondiff.py\" target=\"_blank\"><span style=\"color: #7f7f7f; text-decoration-color: #7f7f7f\">nondiff.py</span></a><span style=\"color: #7f7f7f; text-decoration-color: #7f7f7f\">:</span><a href=\"file:///home/cms-jovyan/integration-challenge/cms/analysis/nondiff.py#205\" target=\"_blank\"><span style=\"color: #7f7f7f; text-decoration-color: #7f7f7f\">205</span></a>\n",
       "</pre>\n"
      ],
      "text/plain": [
       "\u001b[2;36m        \u001b[0m\u001b[2;36m \u001b[0m\u001b[34mINFO    \u001b[0m \u001b[39mNumber of weighted events in CMS_WORKSHOP: \u001b[0m\u001b[1;36m3173.22\u001b[0m\u001b[39m                                \u001b[0m\u001b[39m \u001b[0m\u001b]8;id=945350;file:///home/cms-jovyan/integration-challenge/cms/analysis/nondiff.py\u001b\\\u001b[2mnondiff.py\u001b[0m\u001b]8;;\u001b\\\u001b[2m:\u001b[0m\u001b]8;id=168806;file:///home/cms-jovyan/integration-challenge/cms/analysis/nondiff.py#205\u001b\\\u001b[2m205\u001b[0m\u001b]8;;\u001b\\\n"
      ]
     },
     "metadata": {},
     "output_type": "display_data"
    },
    {
     "data": {
      "text/html": [
       "<pre style=\"white-space:pre;overflow-x:auto;line-height:normal;font-family:Menlo,'DejaVu Sans Mono',consolas,'Courier New',monospace\"><span style=\"color: #7fbfbf; text-decoration-color: #7fbfbf\">         </span><span style=\"color: #000080; text-decoration-color: #000080\">INFO    </span> <span style=\"color: #000000; text-decoration-color: #000000\">Number of raw events in CMS_WORKSHOP: </span><span style=\"color: #008080; text-decoration-color: #008080; font-weight: bold\">3214</span><span style=\"color: #000000; text-decoration-color: #000000\">                                         </span><a href=\"file:///home/cms-jovyan/integration-challenge/cms/analysis/nondiff.py\" target=\"_blank\"><span style=\"color: #7f7f7f; text-decoration-color: #7f7f7f\">nondiff.py</span></a><span style=\"color: #7f7f7f; text-decoration-color: #7f7f7f\">:</span><a href=\"file:///home/cms-jovyan/integration-challenge/cms/analysis/nondiff.py#208\" target=\"_blank\"><span style=\"color: #7f7f7f; text-decoration-color: #7f7f7f\">208</span></a>\n",
       "</pre>\n"
      ],
      "text/plain": [
       "\u001b[2;36m        \u001b[0m\u001b[2;36m \u001b[0m\u001b[34mINFO    \u001b[0m \u001b[39mNumber of raw events in CMS_WORKSHOP: \u001b[0m\u001b[1;36m3214\u001b[0m\u001b[39m                                        \u001b[0m\u001b[39m \u001b[0m\u001b]8;id=918334;file:///home/cms-jovyan/integration-challenge/cms/analysis/nondiff.py\u001b\\\u001b[2mnondiff.py\u001b[0m\u001b]8;;\u001b\\\u001b[2m:\u001b[0m\u001b]8;id=981831;file:///home/cms-jovyan/integration-challenge/cms/analysis/nondiff.py#208\u001b\\\u001b[2m208\u001b[0m\u001b]8;;\u001b\\\n"
      ]
     },
     "metadata": {},
     "output_type": "display_data"
    },
    {
     "data": {
      "text/html": [
       "<pre style=\"white-space:pre;overflow-x:auto;line-height:normal;font-family:Menlo,'DejaVu Sans Mono',consolas,'Courier New',monospace\"><span style=\"color: #7fbfbf; text-decoration-color: #7fbfbf\">         </span><span style=\"color: #000080; text-decoration-color: #000080\">INFO    </span> <span style=\"color: #000000; text-decoration-color: #000000\">Computing observable workshop_mtt                                                  </span><a href=\"file:///home/cms-jovyan/integration-challenge/cms/analysis/nondiff.py\" target=\"_blank\"><span style=\"color: #7f7f7f; text-decoration-color: #7f7f7f\">nondiff.py</span></a><span style=\"color: #7f7f7f; text-decoration-color: #7f7f7f\">:</span><a href=\"file:///home/cms-jovyan/integration-challenge/cms/analysis/nondiff.py#213\" target=\"_blank\"><span style=\"color: #7f7f7f; text-decoration-color: #7f7f7f\">213</span></a>\n",
       "</pre>\n"
      ],
      "text/plain": [
       "\u001b[2;36m        \u001b[0m\u001b[2;36m \u001b[0m\u001b[34mINFO    \u001b[0m \u001b[39mComputing observable workshop_mtt                                                 \u001b[0m\u001b[39m \u001b[0m\u001b]8;id=268685;file:///home/cms-jovyan/integration-challenge/cms/analysis/nondiff.py\u001b\\\u001b[2mnondiff.py\u001b[0m\u001b]8;;\u001b\\\u001b[2m:\u001b[0m\u001b]8;id=410172;file:///home/cms-jovyan/integration-challenge/cms/analysis/nondiff.py#213\u001b\\\u001b[2m213\u001b[0m\u001b]8;;\u001b\\\n"
      ]
     },
     "metadata": {},
     "output_type": "display_data"
    },
    {
     "data": {
      "text/html": [
       "<pre style=\"white-space:pre;overflow-x:auto;line-height:normal;font-family:Menlo,'DejaVu Sans Mono',consolas,'Courier New',monospace\"><span style=\"color: #7fbfbf; text-decoration-color: #7fbfbf\">         </span><span style=\"color: #000080; text-decoration-color: #000080\">INFO    </span> <span style=\"color: #000000; text-decoration-color: #000000\">Applying selection for CMS_WORKSHOP in signal with variation muon_id_sf_down       </span><a href=\"file:///home/cms-jovyan/integration-challenge/cms/analysis/nondiff.py\" target=\"_blank\"><span style=\"color: #7f7f7f; text-decoration-color: #7f7f7f\">nondiff.py</span></a><span style=\"color: #7f7f7f; text-decoration-color: #7f7f7f\">:</span><a href=\"file:///home/cms-jovyan/integration-challenge/cms/analysis/nondiff.py#154\" target=\"_blank\"><span style=\"color: #7f7f7f; text-decoration-color: #7f7f7f\">154</span></a>\n",
       "</pre>\n"
      ],
      "text/plain": [
       "\u001b[2;36m        \u001b[0m\u001b[2;36m \u001b[0m\u001b[34mINFO    \u001b[0m \u001b[39mApplying selection for CMS_WORKSHOP in signal with variation muon_id_sf_down      \u001b[0m\u001b[39m \u001b[0m\u001b]8;id=873396;file:///home/cms-jovyan/integration-challenge/cms/analysis/nondiff.py\u001b\\\u001b[2mnondiff.py\u001b[0m\u001b]8;;\u001b\\\u001b[2m:\u001b[0m\u001b]8;id=485546;file:///home/cms-jovyan/integration-challenge/cms/analysis/nondiff.py#154\u001b\\\u001b[2m154\u001b[0m\u001b]8;;\u001b\\\n"
      ]
     },
     "metadata": {},
     "output_type": "display_data"
    },
    {
     "data": {
      "text/html": [
       "<pre style=\"white-space:pre;overflow-x:auto;line-height:normal;font-family:Menlo,'DejaVu Sans Mono',consolas,'Courier New',monospace\"><span style=\"color: #7fbfbf; text-decoration-color: #7fbfbf\">         </span><span style=\"color: #000080; text-decoration-color: #000080\">INFO    </span> <span style=\"color: #000000; text-decoration-color: #000000\">Applying correction: muon_id_sf/NUM_TightID_DEN_TrackerMuons </span><span style=\"color: #000000; text-decoration-color: #000000; font-weight: bold\">(</span><span style=\"color: #000000; text-decoration-color: #000000\">systdown</span><span style=\"color: #000000; text-decoration-color: #000000; font-weight: bold\">)</span><span style=\"color: #000000; text-decoration-color: #000000\">               </span><a href=\"file:///home/cms-jovyan/integration-challenge/cms/analysis/base.py\" target=\"_blank\"><span style=\"color: #7f7f7f; text-decoration-color: #7f7f7f\">base.py</span></a><span style=\"color: #7f7f7f; text-decoration-color: #7f7f7f\">:</span><a href=\"file:///home/cms-jovyan/integration-challenge/cms/analysis/base.py#247\" target=\"_blank\"><span style=\"color: #7f7f7f; text-decoration-color: #7f7f7f\">247</span></a>\n",
       "</pre>\n"
      ],
      "text/plain": [
       "\u001b[2;36m        \u001b[0m\u001b[2;36m \u001b[0m\u001b[34mINFO    \u001b[0m \u001b[39mApplying correction: muon_id_sf/NUM_TightID_DEN_TrackerMuons \u001b[0m\u001b[1;39m(\u001b[0m\u001b[39msystdown\u001b[0m\u001b[1;39m)\u001b[0m\u001b[39m              \u001b[0m\u001b[39m \u001b[0m\u001b]8;id=831160;file:///home/cms-jovyan/integration-challenge/cms/analysis/base.py\u001b\\\u001b[2mbase.py\u001b[0m\u001b]8;;\u001b\\\u001b[2m:\u001b[0m\u001b]8;id=261474;file:///home/cms-jovyan/integration-challenge/cms/analysis/base.py#247\u001b\\\u001b[2m247\u001b[0m\u001b]8;;\u001b\\\n"
      ]
     },
     "metadata": {},
     "output_type": "display_data"
    },
    {
     "data": {
      "text/html": [
       "<pre style=\"white-space:pre;overflow-x:auto;line-height:normal;font-family:Menlo,'DejaVu Sans Mono',consolas,'Courier New',monospace\"><span style=\"color: #7fbfbf; text-decoration-color: #7fbfbf\">         </span><span style=\"color: #000080; text-decoration-color: #000080\">INFO    </span> <span style=\"color: #000000; text-decoration-color: #000000\">Number of weighted events in CMS_WORKSHOP: </span><span style=\"color: #008080; text-decoration-color: #008080; font-weight: bold\">3156.00</span><span style=\"color: #000000; text-decoration-color: #000000\">                                 </span><a href=\"file:///home/cms-jovyan/integration-challenge/cms/analysis/nondiff.py\" target=\"_blank\"><span style=\"color: #7f7f7f; text-decoration-color: #7f7f7f\">nondiff.py</span></a><span style=\"color: #7f7f7f; text-decoration-color: #7f7f7f\">:</span><a href=\"file:///home/cms-jovyan/integration-challenge/cms/analysis/nondiff.py#205\" target=\"_blank\"><span style=\"color: #7f7f7f; text-decoration-color: #7f7f7f\">205</span></a>\n",
       "</pre>\n"
      ],
      "text/plain": [
       "\u001b[2;36m        \u001b[0m\u001b[2;36m \u001b[0m\u001b[34mINFO    \u001b[0m \u001b[39mNumber of weighted events in CMS_WORKSHOP: \u001b[0m\u001b[1;36m3156.00\u001b[0m\u001b[39m                                \u001b[0m\u001b[39m \u001b[0m\u001b]8;id=728544;file:///home/cms-jovyan/integration-challenge/cms/analysis/nondiff.py\u001b\\\u001b[2mnondiff.py\u001b[0m\u001b]8;;\u001b\\\u001b[2m:\u001b[0m\u001b]8;id=935890;file:///home/cms-jovyan/integration-challenge/cms/analysis/nondiff.py#205\u001b\\\u001b[2m205\u001b[0m\u001b]8;;\u001b\\\n"
      ]
     },
     "metadata": {},
     "output_type": "display_data"
    },
    {
     "data": {
      "text/html": [
       "<pre style=\"white-space:pre;overflow-x:auto;line-height:normal;font-family:Menlo,'DejaVu Sans Mono',consolas,'Courier New',monospace\"><span style=\"color: #7fbfbf; text-decoration-color: #7fbfbf\">         </span><span style=\"color: #000080; text-decoration-color: #000080\">INFO    </span> <span style=\"color: #000000; text-decoration-color: #000000\">Number of raw events in CMS_WORKSHOP: </span><span style=\"color: #008080; text-decoration-color: #008080; font-weight: bold\">3214</span><span style=\"color: #000000; text-decoration-color: #000000\">                                         </span><a href=\"file:///home/cms-jovyan/integration-challenge/cms/analysis/nondiff.py\" target=\"_blank\"><span style=\"color: #7f7f7f; text-decoration-color: #7f7f7f\">nondiff.py</span></a><span style=\"color: #7f7f7f; text-decoration-color: #7f7f7f\">:</span><a href=\"file:///home/cms-jovyan/integration-challenge/cms/analysis/nondiff.py#208\" target=\"_blank\"><span style=\"color: #7f7f7f; text-decoration-color: #7f7f7f\">208</span></a>\n",
       "</pre>\n"
      ],
      "text/plain": [
       "\u001b[2;36m        \u001b[0m\u001b[2;36m \u001b[0m\u001b[34mINFO    \u001b[0m \u001b[39mNumber of raw events in CMS_WORKSHOP: \u001b[0m\u001b[1;36m3214\u001b[0m\u001b[39m                                        \u001b[0m\u001b[39m \u001b[0m\u001b]8;id=317126;file:///home/cms-jovyan/integration-challenge/cms/analysis/nondiff.py\u001b\\\u001b[2mnondiff.py\u001b[0m\u001b]8;;\u001b\\\u001b[2m:\u001b[0m\u001b]8;id=285235;file:///home/cms-jovyan/integration-challenge/cms/analysis/nondiff.py#208\u001b\\\u001b[2m208\u001b[0m\u001b]8;;\u001b\\\n"
      ]
     },
     "metadata": {},
     "output_type": "display_data"
    },
    {
     "data": {
      "text/html": [
       "<pre style=\"white-space:pre;overflow-x:auto;line-height:normal;font-family:Menlo,'DejaVu Sans Mono',consolas,'Courier New',monospace\"><span style=\"color: #7fbfbf; text-decoration-color: #7fbfbf\">         </span><span style=\"color: #000080; text-decoration-color: #000080\">INFO    </span> <span style=\"color: #000000; text-decoration-color: #000000\">Computing observable workshop_mtt                                                  </span><a href=\"file:///home/cms-jovyan/integration-challenge/cms/analysis/nondiff.py\" target=\"_blank\"><span style=\"color: #7f7f7f; text-decoration-color: #7f7f7f\">nondiff.py</span></a><span style=\"color: #7f7f7f; text-decoration-color: #7f7f7f\">:</span><a href=\"file:///home/cms-jovyan/integration-challenge/cms/analysis/nondiff.py#213\" target=\"_blank\"><span style=\"color: #7f7f7f; text-decoration-color: #7f7f7f\">213</span></a>\n",
       "</pre>\n"
      ],
      "text/plain": [
       "\u001b[2;36m        \u001b[0m\u001b[2;36m \u001b[0m\u001b[34mINFO    \u001b[0m \u001b[39mComputing observable workshop_mtt                                                 \u001b[0m\u001b[39m \u001b[0m\u001b]8;id=677834;file:///home/cms-jovyan/integration-challenge/cms/analysis/nondiff.py\u001b\\\u001b[2mnondiff.py\u001b[0m\u001b]8;;\u001b\\\u001b[2m:\u001b[0m\u001b]8;id=321898;file:///home/cms-jovyan/integration-challenge/cms/analysis/nondiff.py#213\u001b\\\u001b[2m213\u001b[0m\u001b]8;;\u001b\\\n"
      ]
     },
     "metadata": {},
     "output_type": "display_data"
    },
    {
     "data": {
      "text/html": [
       "<pre style=\"white-space:pre;overflow-x:auto;line-height:normal;font-family:Menlo,'DejaVu Sans Mono',consolas,'Courier New',monospace\"><span style=\"color: #7fbfbf; text-decoration-color: #7fbfbf\">         </span><span style=\"color: #000080; text-decoration-color: #000080\">INFO    </span> <span style=\"color: #000000; text-decoration-color: #000000\">Histograms successfully written to ROOT file                                  </span><a href=\"file:///home/cms-jovyan/integration-challenge/cms/utils/output_files.py\" target=\"_blank\"><span style=\"color: #7f7f7f; text-decoration-color: #7f7f7f\">output_files.py</span></a><span style=\"color: #7f7f7f; text-decoration-color: #7f7f7f\">:</span><a href=\"file:///home/cms-jovyan/integration-challenge/cms/utils/output_files.py#147\" target=\"_blank\"><span style=\"color: #7f7f7f; text-decoration-color: #7f7f7f\">147</span></a>\n",
       "<span style=\"color: #7fbfbf; text-decoration-color: #7fbfbf\">         </span>         <span style=\"color: #000000; text-decoration-color: #000000\">/home/cms-jovyan/integration-challenge/cms/example-demo/outputs/histograms/hi </span><span style=\"color: #7f7f7f; text-decoration-color: #7f7f7f\">                   </span>\n",
       "<span style=\"color: #7fbfbf; text-decoration-color: #7fbfbf\">         </span>         <span style=\"color: #000000; text-decoration-color: #000000\">stograms.root                                                                 </span><span style=\"color: #7f7f7f; text-decoration-color: #7f7f7f\">                   </span>\n",
       "</pre>\n"
      ],
      "text/plain": [
       "\u001b[2;36m        \u001b[0m\u001b[2;36m \u001b[0m\u001b[34mINFO    \u001b[0m \u001b[39mHistograms successfully written to ROOT file                                 \u001b[0m\u001b[39m \u001b[0m\u001b]8;id=417275;file:///home/cms-jovyan/integration-challenge/cms/utils/output_files.py\u001b\\\u001b[2moutput_files.py\u001b[0m\u001b]8;;\u001b\\\u001b[2m:\u001b[0m\u001b]8;id=281511;file:///home/cms-jovyan/integration-challenge/cms/utils/output_files.py#147\u001b\\\u001b[2m147\u001b[0m\u001b]8;;\u001b\\\n",
       "\u001b[2;36m         \u001b[0m         \u001b[39m/home/cms-jovyan/integration-challenge/cms/example-demo/outputs/histograms/\u001b[0m\u001b[39mhi\u001b[0m\u001b[39m \u001b[0m\u001b[2m                   \u001b[0m\n",
       "\u001b[2;36m         \u001b[0m         \u001b[39mstograms.root\u001b[0m\u001b[39m                                                                \u001b[0m\u001b[39m \u001b[0m\u001b[2m                   \u001b[0m\n"
      ]
     },
     "metadata": {},
     "output_type": "display_data"
    },
    {
     "name": "stdout",
     "output_type": "stream",
     "text": [
      "📈 Generated histograms for channels: ['CMS_WORKSHOP']\n"
     ]
    }
   ],
   "source": [
    "# Import the analysis class for the analysis\n",
    "from analysis.nondiff import NonDiffAnalysis\n",
    "from utils.output_files import save_histograms_to_root\n",
    "\n",
    "validated_config.general.run_histogramming=True\n",
    "\n",
    "# Initialize the analysis object\n",
    "# This analysis object will handle histogram creation, observable computation, and systematic variations\n",
    "nondiff_analysis = NonDiffAnalysis(validated_config, processed_datasets, output_manager)\n",
    "\n",
    "print(f\"🔬 Analysis initialized for {len(nondiff_analysis.processed_datasets)} datasets\")\n",
    "\n",
    "# Loop over each dataset and its associated event data\n",
    "for dataset_name, events_list in nondiff_analysis.processed_datasets.items():\n",
    "    print(f\"📊 Processing dataset: {dataset_name}\")\n",
    "    # Each dataset contains a list of (events, metadata) tuples (in case of chunking)\n",
    "    # Currently merging of chunks is default --> single tuple per dataset\n",
    "    for events, metadata in events_list:\n",
    "        print(f\"   • Processing {len(events)} events with metadata: {metadata['process']}\")\n",
    "        # Process the events through the analysis pipeline:\n",
    "        nondiff_analysis.process(events, metadata)\n",
    "        \n",
    "save_histograms_to_root(\n",
    "    nondiff_analysis.nD_hists_per_region,\n",
    "    output_file=nondiff_analysis.output_manager.get_histograms_dir() / \"histograms.root\",\n",
    ")\n",
    "\n",
    "print(f\"📈 Generated histograms for channels: {[ch.name for ch in validated_config.channels]}\")"
   ]
  },
  {
   "cell_type": "markdown",
   "id": "f64a7776",
   "metadata": {},
   "source": [
    "# 7. Statistical Analysis\n",
    "\n",
    "The statistical analysis step performs a fit from the histograms and visualize results. This uses `cabinetry` with a manually created config. It also creates and stores the corresponding `pyhf` workspace.\n",
    "\n",
    "**Note: the following fit is performed with the full CMS open-data dataset, not the small example here** "
   ]
  },
  {
   "cell_type": "code",
   "execution_count": 13,
   "id": "88ac3572",
   "metadata": {},
   "outputs": [
    {
     "data": {
      "text/html": [
       "<pre style=\"white-space:pre;overflow-x:auto;line-height:normal;font-family:Menlo,'DejaVu Sans Mono',consolas,'Courier New',monospace\"><span style=\"color: #7fbfbf; text-decoration-color: #7fbfbf\">13:51:35 </span><span style=\"color: #000080; text-decoration-color: #000080\">INFO    </span> <span style=\"color: #000000; text-decoration-color: #000000\">opening config file example-demo/outputs/cabinetry/cabinetry_config.yaml      </span><a href=\"file:///usr/local/lib/python3.12/site-packages/cabinetry/configuration.py\" target=\"_blank\"><span style=\"color: #7f7f7f; text-decoration-color: #7f7f7f\">configuration.py</span></a><span style=\"color: #7f7f7f; text-decoration-color: #7f7f7f\">:</span><a href=\"file:///usr/local/lib/python3.12/site-packages/cabinetry/configuration.py#26\" target=\"_blank\"><span style=\"color: #7f7f7f; text-decoration-color: #7f7f7f\">26</span></a>\n",
       "</pre>\n"
      ],
      "text/plain": [
       "\u001b[2;36m13:51:35\u001b[0m\u001b[2;36m \u001b[0m\u001b[34mINFO    \u001b[0m \u001b[39mopening config file example-demo/outputs/cabinetry/cabinetry_config.yaml     \u001b[0m\u001b[39m \u001b[0m\u001b]8;id=712403;file:///usr/local/lib/python3.12/site-packages/cabinetry/configuration.py\u001b\\\u001b[2mconfiguration.py\u001b[0m\u001b]8;;\u001b\\\u001b[2m:\u001b[0m\u001b]8;id=606522;file:///usr/local/lib/python3.12/site-packages/cabinetry/configuration.py#26\u001b\\\u001b[2m26\u001b[0m\u001b]8;;\u001b\\\n"
      ]
     },
     "metadata": {},
     "output_type": "display_data"
    },
    {
     "ename": "KeyInFileError",
     "evalue": "not found: 'CMS_WORKSHOP__workshop_mtt__data' (with any cycle number)\n\n    Available keys: 'CMS_WORKSHOP__workshop_mtt__signal;1', 'CMS_WORKSHOP__workshop_mtt__ttbar_lep;1', 'CMS_WORKSHOP__workshop_mtt__ttbar_had;1', 'CMS_WORKSHOP__workshop_mtt__ttbar_semilep;1', 'CMS_WORKSHOP__workshop_mtt__signal__pu_weight_up;1'...\n\nin file example-demo/outputs/histograms/histograms.root",
     "output_type": "error",
     "traceback": [
      "\u001b[0;31m---------------------------------------------------------------------------\u001b[0m",
      "\u001b[0;31mKeyInFileError\u001b[0m                            Traceback (most recent call last)",
      "Cell \u001b[0;32mIn[13], line 7\u001b[0m\n\u001b[1;32m      2\u001b[0m validated_config\u001b[38;5;241m.\u001b[39mstatistics\u001b[38;5;241m.\u001b[39mcabinetry_config \u001b[38;5;241m=\u001b[39m \u001b[38;5;124m\"\u001b[39m\u001b[38;5;124m./example-demo/outputs/cabinetry/cabinetry_config.yaml\u001b[39m\u001b[38;5;124m\"\u001b[39m\n\u001b[1;32m      3\u001b[0m cabinetry_config \u001b[38;5;241m=\u001b[39m cabinetry\u001b[38;5;241m.\u001b[39mconfiguration\u001b[38;5;241m.\u001b[39mload(\n\u001b[1;32m      4\u001b[0m     validated_config\u001b[38;5;241m.\u001b[39mstatistics\u001b[38;5;241m.\u001b[39mcabinetry_config\n\u001b[1;32m      5\u001b[0m )\n\u001b[1;32m      6\u001b[0m data, fit_results, pre_fit_predictions, postfit_predictions \u001b[38;5;241m=\u001b[39m (\n\u001b[0;32m----> 7\u001b[0m     \u001b[43mnondiff_analysis\u001b[49m\u001b[38;5;241;43m.\u001b[39;49m\u001b[43mrun_fit\u001b[49m\u001b[43m(\u001b[49m\u001b[43mcabinetry_config\u001b[49m\u001b[38;5;241;43m=\u001b[39;49m\u001b[43mcabinetry_config\u001b[49m\u001b[43m)\u001b[49m\n\u001b[1;32m      8\u001b[0m )\n\u001b[1;32m      9\u001b[0m cabinetry\u001b[38;5;241m.\u001b[39mvisualize\u001b[38;5;241m.\u001b[39mdata_mc(\n\u001b[1;32m     10\u001b[0m     pre_fit_predictions,\n\u001b[1;32m     11\u001b[0m     data,\n\u001b[0;32m   (...)\u001b[0m\n\u001b[1;32m     15\u001b[0m \n\u001b[1;32m     16\u001b[0m )\n\u001b[1;32m     17\u001b[0m cabinetry\u001b[38;5;241m.\u001b[39mvisualize\u001b[38;5;241m.\u001b[39mdata_mc(\n\u001b[1;32m     18\u001b[0m     postfit_predictions,\n\u001b[1;32m     19\u001b[0m     data,\n\u001b[0;32m   (...)\u001b[0m\n\u001b[1;32m     22\u001b[0m     figure_folder\u001b[38;5;241m=\u001b[39mnondiff_analysis\u001b[38;5;241m.\u001b[39moutput_manager\u001b[38;5;241m.\u001b[39mget_statistics_dir(),\n\u001b[1;32m     23\u001b[0m )\n",
      "File \u001b[0;32m~/integration-challenge/cms/analysis/nondiff.py:341\u001b[0m, in \u001b[0;36mNonDiffAnalysis.run_fit\u001b[0;34m(self, cabinetry_config)\u001b[0m\n\u001b[1;32m    337\u001b[0m rebinning_router \u001b[38;5;241m=\u001b[39m get_cabinetry_rebinning_router(\n\u001b[1;32m    338\u001b[0m     cabinetry_config, rebinning\u001b[38;5;241m=\u001b[39m\u001b[38;5;28mslice\u001b[39m(\u001b[38;5;241m110\u001b[39mj, \u001b[38;5;28;01mNone\u001b[39;00m, hist\u001b[38;5;241m.\u001b[39mrebin(\u001b[38;5;241m2\u001b[39m))\n\u001b[1;32m    339\u001b[0m )\n\u001b[1;32m    340\u001b[0m \u001b[38;5;66;03m# build the templates\u001b[39;00m\n\u001b[0;32m--> 341\u001b[0m \u001b[43mcabinetry\u001b[49m\u001b[38;5;241;43m.\u001b[39;49m\u001b[43mtemplates\u001b[49m\u001b[38;5;241;43m.\u001b[39;49m\u001b[43mbuild\u001b[49m\u001b[43m(\u001b[49m\u001b[43mcabinetry_config\u001b[49m\u001b[43m,\u001b[49m\u001b[43m \u001b[49m\u001b[43mrouter\u001b[49m\u001b[38;5;241;43m=\u001b[39;49m\u001b[43mrebinning_router\u001b[49m\u001b[43m)\u001b[49m\n\u001b[1;32m    342\u001b[0m \u001b[38;5;66;03m# optional post-processing (e.g. smoothing, symmetrise)\u001b[39;00m\n\u001b[1;32m    343\u001b[0m cabinetry\u001b[38;5;241m.\u001b[39mtemplates\u001b[38;5;241m.\u001b[39mpostprocess(cabinetry_config)\n",
      "File \u001b[0;32m/usr/local/lib/python3.12/site-packages/cabinetry/templates/__init__.py:47\u001b[0m, in \u001b[0;36mbuild\u001b[0;34m(config, method, router)\u001b[0m\n\u001b[1;32m     44\u001b[0m     \u001b[38;5;66;03m# get a function that can be queried to return a user-defined template builder\u001b[39;00m\n\u001b[1;32m     45\u001b[0m     match_func \u001b[38;5;241m=\u001b[39m router\u001b[38;5;241m.\u001b[39m_find_template_builder_match\n\u001b[0;32m---> 47\u001b[0m \u001b[43mroute\u001b[49m\u001b[38;5;241;43m.\u001b[39;49m\u001b[43mapply_to_all_templates\u001b[49m\u001b[43m(\u001b[49m\n\u001b[1;32m     48\u001b[0m \u001b[43m    \u001b[49m\u001b[43mconfig\u001b[49m\u001b[43m,\u001b[49m\u001b[43m \u001b[49m\u001b[43mtemplate_builder\u001b[49m\u001b[38;5;241;43m.\u001b[39;49m\u001b[43m_create_histogram\u001b[49m\u001b[43m,\u001b[49m\u001b[43m \u001b[49m\u001b[43mmatch_func\u001b[49m\u001b[38;5;241;43m=\u001b[39;49m\u001b[43mmatch_func\u001b[49m\n\u001b[1;32m     49\u001b[0m \u001b[43m\u001b[49m\u001b[43m)\u001b[49m\n",
      "File \u001b[0;32m/usr/local/lib/python3.12/site-packages/cabinetry/route.py:339\u001b[0m, in \u001b[0;36mapply_to_all_templates\u001b[0;34m(config, default_func, match_func)\u001b[0m\n\u001b[1;32m    334\u001b[0m \u001b[38;5;28;01mif\u001b[39;00m func_override \u001b[38;5;129;01mis\u001b[39;00m \u001b[38;5;129;01mnot\u001b[39;00m \u001b[38;5;28;01mNone\u001b[39;00m:\n\u001b[1;32m    335\u001b[0m     \u001b[38;5;66;03m# call the user-defined function\u001b[39;00m\n\u001b[1;32m    336\u001b[0m     log\u001b[38;5;241m.\u001b[39mdebug(\n\u001b[1;32m    337\u001b[0m         \u001b[38;5;124mf\u001b[39m\u001b[38;5;124m\"\u001b[39m\u001b[38;5;124mexecuting user-defined override \u001b[39m\u001b[38;5;132;01m{\u001b[39;00mfunc_override\u001b[38;5;241m.\u001b[39m\u001b[38;5;18m__name__\u001b[39m\u001b[38;5;132;01m}\u001b[39;00m\u001b[38;5;124m\"\u001b[39m\n\u001b[1;32m    338\u001b[0m     )\n\u001b[0;32m--> 339\u001b[0m     \u001b[43mfunc_override\u001b[49m\u001b[43m(\u001b[49m\u001b[43mregion\u001b[49m\u001b[43m,\u001b[49m\u001b[43m \u001b[49m\u001b[43msample\u001b[49m\u001b[43m,\u001b[49m\u001b[43m \u001b[49m\u001b[43msystematic\u001b[49m\u001b[43m,\u001b[49m\u001b[43m \u001b[49m\u001b[43mtemplate\u001b[49m\u001b[43m)\u001b[49m\n\u001b[1;32m    340\u001b[0m \u001b[38;5;28;01melse\u001b[39;00m:\n\u001b[1;32m    341\u001b[0m     \u001b[38;5;66;03m# call the provided default function\u001b[39;00m\n\u001b[1;32m    342\u001b[0m     default_func(region, sample, systematic, template)\n",
      "File \u001b[0;32m/usr/local/lib/python3.12/site-packages/cabinetry/templates/builder.py:370\u001b[0m, in \u001b[0;36m_Builder._wrap_custom_template_builder.<locals>.wrapper\u001b[0;34m(region, sample, systematic, template)\u001b[0m\n\u001b[1;32m    351\u001b[0m \u001b[38;5;129m@functools\u001b[39m\u001b[38;5;241m.\u001b[39mwraps(func)\n\u001b[1;32m    352\u001b[0m \u001b[38;5;28;01mdef\u001b[39;00m\u001b[38;5;250m \u001b[39m\u001b[38;5;21mwrapper\u001b[39m(\n\u001b[1;32m    353\u001b[0m     region: Dict[\u001b[38;5;28mstr\u001b[39m, Any],\n\u001b[0;32m   (...)\u001b[0m\n\u001b[1;32m    356\u001b[0m     template: Optional[Literal[\u001b[38;5;124m\"\u001b[39m\u001b[38;5;124mUp\u001b[39m\u001b[38;5;124m\"\u001b[39m, \u001b[38;5;124m\"\u001b[39m\u001b[38;5;124mDown\u001b[39m\u001b[38;5;124m\"\u001b[39m]],\n\u001b[1;32m    357\u001b[0m ) \u001b[38;5;241m-\u001b[39m\u001b[38;5;241m>\u001b[39m \u001b[38;5;28;01mNone\u001b[39;00m:\n\u001b[1;32m    358\u001b[0m \u001b[38;5;250m    \u001b[39m\u001b[38;5;124;03m\"\"\"Executes a user-defined function that returns a histogram and saves it.\u001b[39;00m\n\u001b[1;32m    359\u001b[0m \n\u001b[1;32m    360\u001b[0m \u001b[38;5;124;03m    Returns None, to turn the user-defined function into a ProcessorFunc when\u001b[39;00m\n\u001b[0;32m   (...)\u001b[0m\n\u001b[1;32m    368\u001b[0m \u001b[38;5;124;03m            \"Down\", or None for nominal\u001b[39;00m\n\u001b[1;32m    369\u001b[0m \u001b[38;5;124;03m    \"\"\"\u001b[39;00m\n\u001b[0;32m--> 370\u001b[0m     histogram \u001b[38;5;241m=\u001b[39m \u001b[43mfunc\u001b[49m\u001b[43m(\u001b[49m\u001b[43mregion\u001b[49m\u001b[43m,\u001b[49m\u001b[43m \u001b[49m\u001b[43msample\u001b[49m\u001b[43m,\u001b[49m\u001b[43m \u001b[49m\u001b[43msystematic\u001b[49m\u001b[43m,\u001b[49m\u001b[43m \u001b[49m\u001b[43mtemplate\u001b[49m\u001b[43m)\u001b[49m\n\u001b[1;32m    371\u001b[0m     \u001b[38;5;28;01mif\u001b[39;00m \u001b[38;5;129;01mnot\u001b[39;00m \u001b[38;5;28misinstance\u001b[39m(histogram, bh\u001b[38;5;241m.\u001b[39mHistogram):\n\u001b[1;32m    372\u001b[0m         \u001b[38;5;28;01mraise\u001b[39;00m \u001b[38;5;167;01mTypeError\u001b[39;00m(\n\u001b[1;32m    373\u001b[0m             \u001b[38;5;124mf\u001b[39m\u001b[38;5;124m\"\u001b[39m\u001b[38;5;132;01m{\u001b[39;00mfunc\u001b[38;5;241m.\u001b[39m\u001b[38;5;18m__name__\u001b[39m\u001b[38;5;132;01m}\u001b[39;00m\u001b[38;5;124m must return a boost_histogram.Histogram\u001b[39m\u001b[38;5;124m\"\u001b[39m\n\u001b[1;32m    374\u001b[0m         )\n",
      "File \u001b[0;32m~/integration-challenge/cms/utils/stats.py:23\u001b[0m, in \u001b[0;36mget_cabinetry_rebinning_router.<locals>.build_data_hist\u001b[0;34m(region, sample, systematic, template)\u001b[0m\n\u001b[1;32m     16\u001b[0m \u001b[38;5;129m@rebinning_router\u001b[39m\u001b[38;5;241m.\u001b[39mregister_template_builder()\n\u001b[1;32m     17\u001b[0m \u001b[38;5;28;01mdef\u001b[39;00m\u001b[38;5;250m \u001b[39m\u001b[38;5;21mbuild_data_hist\u001b[39m(region, sample, systematic, template):\n\u001b[1;32m     18\u001b[0m     \u001b[38;5;66;03m# get path to histogram\u001b[39;00m\n\u001b[1;32m     19\u001b[0m     histo_path \u001b[38;5;241m=\u001b[39m cabinetry\u001b[38;5;241m.\u001b[39mtemplates\u001b[38;5;241m.\u001b[39mcollector\u001b[38;5;241m.\u001b[39m_histo_path(\n\u001b[1;32m     20\u001b[0m         general_path, variation_path, region, sample, systematic, template\n\u001b[1;32m     21\u001b[0m     )\n\u001b[1;32m     22\u001b[0m     h \u001b[38;5;241m=\u001b[39m hist\u001b[38;5;241m.\u001b[39mHist(\n\u001b[0;32m---> 23\u001b[0m         \u001b[43mhistogram_reader\u001b[49m\u001b[38;5;241;43m.\u001b[39;49m\u001b[43mwith_uproot\u001b[49m\u001b[43m(\u001b[49m\u001b[43mhisto_path\u001b[49m\u001b[43m)\u001b[49m\n\u001b[1;32m     24\u001b[0m     )  \u001b[38;5;66;03m# turn from boost-histogram into hist\u001b[39;00m\n\u001b[1;32m     25\u001b[0m     \u001b[38;5;66;03m# perform re-binning\u001b[39;00m\n\u001b[1;32m     26\u001b[0m     h \u001b[38;5;241m=\u001b[39m h[rebinning]\n",
      "File \u001b[0;32m/usr/local/lib/python3.12/site-packages/cabinetry/contrib/histogram_reader.py:23\u001b[0m, in \u001b[0;36mwith_uproot\u001b[0;34m(histo_path)\u001b[0m\n\u001b[1;32m     13\u001b[0m \u001b[38;5;250m\u001b[39m\u001b[38;5;124;03m\"\"\"Reads a histogram with uproot and returns it.\u001b[39;00m\n\u001b[1;32m     14\u001b[0m \n\u001b[1;32m     15\u001b[0m \u001b[38;5;124;03mArgs:\u001b[39;00m\n\u001b[0;32m   (...)\u001b[0m\n\u001b[1;32m     20\u001b[0m \u001b[38;5;124;03m    bh.Histogram: histogram containing data\u001b[39;00m\n\u001b[1;32m     21\u001b[0m \u001b[38;5;124;03m\"\"\"\u001b[39;00m\n\u001b[1;32m     22\u001b[0m log\u001b[38;5;241m.\u001b[39mdebug(\u001b[38;5;124mf\u001b[39m\u001b[38;5;124m\"\u001b[39m\u001b[38;5;124mreading input histogram \u001b[39m\u001b[38;5;132;01m{\u001b[39;00mhisto_path\u001b[38;5;132;01m}\u001b[39;00m\u001b[38;5;124m\"\u001b[39m)\n\u001b[0;32m---> 23\u001b[0m hist \u001b[38;5;241m=\u001b[39m \u001b[43muproot\u001b[49m\u001b[38;5;241;43m.\u001b[39;49m\u001b[43mopen\u001b[49m\u001b[43m(\u001b[49m\u001b[43mhisto_path\u001b[49m\u001b[43m)\u001b[49m\u001b[38;5;241m.\u001b[39mto_boost()\n\u001b[1;32m     24\u001b[0m \u001b[38;5;28;01mreturn\u001b[39;00m hist\n",
      "File \u001b[0;32m/usr/local/lib/python3.12/site-packages/uproot/reading.py:155\u001b[0m, in \u001b[0;36mopen\u001b[0;34m(path, object_cache, array_cache, custom_classes, decompression_executor, interpretation_executor, **options)\u001b[0m\n\u001b[1;32m    153\u001b[0m     \u001b[38;5;28;01mreturn\u001b[39;00m file\u001b[38;5;241m.\u001b[39mroot_directory\n\u001b[1;32m    154\u001b[0m \u001b[38;5;28;01melse\u001b[39;00m:\n\u001b[0;32m--> 155\u001b[0m     \u001b[38;5;28;01mreturn\u001b[39;00m \u001b[43mfile\u001b[49m\u001b[38;5;241;43m.\u001b[39;49m\u001b[43mroot_directory\u001b[49m\u001b[43m[\u001b[49m\u001b[43mobject_path\u001b[49m\u001b[43m]\u001b[49m\n",
      "File \u001b[0;32m/usr/local/lib/python3.12/site-packages/uproot/reading.py:2116\u001b[0m, in \u001b[0;36mReadOnlyDirectory.__getitem__\u001b[0;34m(self, where)\u001b[0m\n\u001b[1;32m   2113\u001b[0m     \u001b[38;5;28;01mreturn\u001b[39;00m step\n\u001b[1;32m   2115\u001b[0m \u001b[38;5;28;01melse\u001b[39;00m:\n\u001b[0;32m-> 2116\u001b[0m     \u001b[38;5;28;01mreturn\u001b[39;00m \u001b[38;5;28;43mself\u001b[39;49m\u001b[38;5;241;43m.\u001b[39;49m\u001b[43mkey\u001b[49m\u001b[43m(\u001b[49m\u001b[43mwhere\u001b[49m\u001b[43m)\u001b[49m\u001b[38;5;241m.\u001b[39mget()\n",
      "File \u001b[0;32m/usr/local/lib/python3.12/site-packages/uproot/reading.py:2064\u001b[0m, in \u001b[0;36mReadOnlyDirectory.key\u001b[0;34m(self, where)\u001b[0m\n\u001b[1;32m   2062\u001b[0m     \u001b[38;5;28;01mreturn\u001b[39;00m last\n\u001b[1;32m   2063\u001b[0m \u001b[38;5;28;01melif\u001b[39;00m cycle \u001b[38;5;129;01mis\u001b[39;00m \u001b[38;5;28;01mNone\u001b[39;00m:\n\u001b[0;32m-> 2064\u001b[0m     \u001b[38;5;28;01mraise\u001b[39;00m uproot\u001b[38;5;241m.\u001b[39mKeyInFileError(\n\u001b[1;32m   2065\u001b[0m         item, cycle\u001b[38;5;241m=\u001b[39m\u001b[38;5;124m\"\u001b[39m\u001b[38;5;124many\u001b[39m\u001b[38;5;124m\"\u001b[39m, keys\u001b[38;5;241m=\u001b[39m\u001b[38;5;28mself\u001b[39m\u001b[38;5;241m.\u001b[39mkeys(), file_path\u001b[38;5;241m=\u001b[39m\u001b[38;5;28mself\u001b[39m\u001b[38;5;241m.\u001b[39m_file\u001b[38;5;241m.\u001b[39mfile_path\n\u001b[1;32m   2066\u001b[0m     )\n\u001b[1;32m   2067\u001b[0m \u001b[38;5;28;01melse\u001b[39;00m:\n\u001b[1;32m   2068\u001b[0m     \u001b[38;5;28;01mraise\u001b[39;00m uproot\u001b[38;5;241m.\u001b[39mKeyInFileError(\n\u001b[1;32m   2069\u001b[0m         item, cycle\u001b[38;5;241m=\u001b[39mcycle, keys\u001b[38;5;241m=\u001b[39m\u001b[38;5;28mself\u001b[39m\u001b[38;5;241m.\u001b[39mkeys(), file_path\u001b[38;5;241m=\u001b[39m\u001b[38;5;28mself\u001b[39m\u001b[38;5;241m.\u001b[39m_file\u001b[38;5;241m.\u001b[39mfile_path\n\u001b[1;32m   2070\u001b[0m     )\n",
      "\u001b[0;31mKeyInFileError\u001b[0m: not found: 'CMS_WORKSHOP__workshop_mtt__data' (with any cycle number)\n\n    Available keys: 'CMS_WORKSHOP__workshop_mtt__signal;1', 'CMS_WORKSHOP__workshop_mtt__ttbar_lep;1', 'CMS_WORKSHOP__workshop_mtt__ttbar_had;1', 'CMS_WORKSHOP__workshop_mtt__ttbar_semilep;1', 'CMS_WORKSHOP__workshop_mtt__signal__pu_weight_up;1'...\n\nin file example-demo/outputs/histograms/histograms.root"
     ]
    }
   ],
   "source": [
    "import cabinetry\n",
    "validated_config.statistics.cabinetry_config = \"./example-demo/outputs/cabinetry/cabinetry_config.yaml\"\n",
    "cabinetry_config = cabinetry.configuration.load(\n",
    "    validated_config.statistics.cabinetry_config\n",
    ")\n",
    "data, fit_results, pre_fit_predictions, postfit_predictions = (\n",
    "    nondiff_analysis.run_fit(cabinetry_config=cabinetry_config)\n",
    ")\n",
    "cabinetry.visualize.data_mc(\n",
    "    pre_fit_predictions,\n",
    "    data,\n",
    "    close_figure=False,\n",
    "    config=cabinetry_config,\n",
    "    figure_folder=nondiff_analysis.output_manager.get_statistics_dir(),\n",
    "\n",
    ")\n",
    "cabinetry.visualize.data_mc(\n",
    "    postfit_predictions,\n",
    "    data,\n",
    "    close_figure=False,\n",
    "    config=cabinetry_config,\n",
    "    figure_folder=nondiff_analysis.output_manager.get_statistics_dir(),\n",
    ")\n",
    "cabinetry.visualize.pulls(fit_results, close_figure=False, figure_folder=nondiff_analysis.output_manager.get_statistics_dir(),)"
   ]
  },
  {
   "cell_type": "markdown",
   "id": "1455dcd8",
   "metadata": {},
   "source": [
    "## 8. Full Workflow\n",
    "\n",
    "The above workflow is broken down for demonstration, but the simplest way to use it is by putting the main pieces together in one simple steering script and running it from the command-line with CLI overrides of config options. The current implementation is steered by `analysis.py` and can be simply executed with:\n",
    "\n",
    "```sh\n",
    "python analysis.py\n",
    "```\n",
    "\n",
    "---"
   ]
  }
 ],
 "metadata": {
  "kernelspec": {
   "display_name": "Python 3 (ipykernel)",
   "language": "python",
   "name": "python3"
  },
  "language_info": {
   "codemirror_mode": {
    "name": "ipython",
    "version": 3
   },
   "file_extension": ".py",
   "mimetype": "text/x-python",
   "name": "python",
   "nbconvert_exporter": "python",
   "pygments_lexer": "ipython3",
   "version": "3.12.10"
  }
 },
 "nbformat": 4,
 "nbformat_minor": 5
}
