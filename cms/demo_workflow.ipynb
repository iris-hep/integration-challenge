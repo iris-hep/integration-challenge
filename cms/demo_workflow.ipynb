{
 "cells": [
  {
   "cell_type": "markdown",
   "id": "082a7547",
   "metadata": {},
   "source": [
    "# IRIS-HEP CMS Integration Challenge: Workflow Demonstration\n",
    "\n",
    "This notebook demonstrates the workflow of the IRIS-HEP CMS integration challenge. The workflow is modular and consists of the following steps:\n",
    "\n",
    "1. Environment Setup\n",
    "2. Configuration Construction\n",
    "3. Metadata Extraction\n",
    "4. Skimming\n",
    "5. Histogramming\n",
    "6. Statistical Analysis\n",
    "7. Plotting"
   ]
  },
  {
   "cell_type": "markdown",
   "id": "49c51884",
   "metadata": {},
   "source": [
    "## 1. Environment Setup\n",
    "\n",
    "To set up the environment, use the following command to launch JupyterLab with the required dependencies:\n",
    "\n",
    "```sh\n",
    "pixi run lab\n",
    "```\n",
    "\n",
    "Alternatively, if you prefer a Conda-like environment, activate it using the provided script:\n",
    "\n",
    "```sh\n",
    "source pixi_activate.sh\n",
    "```"
   ]
  },
  {
   "cell_type": "code",
   "execution_count": 12,
   "id": "4cf1e767-0be5-49d6-b316-aff8a7df67ea",
   "metadata": {},
   "outputs": [
    {
     "name": "stdout",
     "output_type": "stream",
     "text": [
      "Requirement already satisfied: omegaconf in /usr/local/lib/python3.12/site-packages (2.3.0)\n",
      "Requirement already satisfied: antlr4-python3-runtime==4.9.* in /usr/local/lib/python3.12/site-packages (from omegaconf) (4.9.3)\n",
      "Requirement already satisfied: PyYAML>=5.1.0 in /usr/local/lib/python3.12/site-packages (from omegaconf) (6.0.2)\n",
      "Requirement already satisfied: coffea==2025.7.3 in /usr/local/lib/python3.12/site-packages (2025.7.3)\n",
      "Requirement already satisfied: aiohttp in /usr/local/lib/python3.12/site-packages (from coffea==2025.7.3) (3.11.18)\n",
      "Requirement already satisfied: awkward>=2.8.2 in /usr/local/lib/python3.12/site-packages (from coffea==2025.7.3) (2.8.2)\n",
      "Requirement already satisfied: cachetools in /usr/local/lib/python3.12/site-packages (from coffea==2025.7.3) (5.5.2)\n",
      "Requirement already satisfied: cloudpickle>=1.2.3 in /usr/local/lib/python3.12/site-packages (from coffea==2025.7.3) (3.1.1)\n",
      "Requirement already satisfied: correctionlib>=2.6.0 in /usr/local/lib/python3.12/site-packages (from coffea==2025.7.3) (2.7.0)\n",
      "Requirement already satisfied: dask-awkward>=2025.5.0 in /usr/local/lib/python3.12/site-packages (from coffea==2025.7.3) (2025.5.0)\n",
      "Requirement already satisfied: dask-histogram>=2025.2.0 in /usr/local/lib/python3.12/site-packages (from coffea==2025.7.3) (2025.2.0)\n",
      "Requirement already satisfied: dask>=2024.3.0 in /usr/local/lib/python3.12/site-packages (from dask[array]>=2024.3.0->coffea==2025.7.3) (2025.3.0)\n",
      "Requirement already satisfied: hist>=2 in /usr/local/lib/python3.12/site-packages (from coffea==2025.7.3) (2.8.0)\n",
      "Requirement already satisfied: lz4 in /usr/local/lib/python3.12/site-packages (from coffea==2025.7.3) (4.3.3)\n",
      "Requirement already satisfied: matplotlib>=3 in /usr/local/lib/python3.12/site-packages (from coffea==2025.7.3) (3.10.3)\n",
      "Requirement already satisfied: mplhep>=0.1.18 in /usr/local/lib/python3.12/site-packages (from coffea==2025.7.3) (0.3.59)\n",
      "Requirement already satisfied: numba>=0.58.1 in /usr/local/lib/python3.12/site-packages (from coffea==2025.7.3) (0.61.2)\n",
      "Requirement already satisfied: numpy>=1.22 in /usr/local/lib/python3.12/site-packages (from coffea==2025.7.3) (1.26.4)\n",
      "Requirement already satisfied: packaging in /usr/local/lib/python3.12/site-packages (from coffea==2025.7.3) (24.2)\n",
      "Requirement already satisfied: pandas in /usr/local/lib/python3.12/site-packages (from coffea==2025.7.3) (2.2.3)\n",
      "Requirement already satisfied: pyarrow<21.0.0,>=6.0.0 in /usr/local/lib/python3.12/site-packages (from coffea==2025.7.3) (17.0.0)\n",
      "Requirement already satisfied: requests in /usr/local/lib/python3.12/site-packages (from coffea==2025.7.3) (2.32.3)\n",
      "Requirement already satisfied: scipy>=1.1.0 in /usr/local/lib/python3.12/site-packages (from coffea==2025.7.3) (1.15.2)\n",
      "Requirement already satisfied: toml>=0.10.2 in /usr/local/lib/python3.12/site-packages (from coffea==2025.7.3) (0.10.2)\n",
      "Requirement already satisfied: tqdm>=4.27.0 in /usr/local/lib/python3.12/site-packages (from coffea==2025.7.3) (4.67.1)\n",
      "Requirement already satisfied: uproot>=5.6.0 in /usr/local/lib/python3.12/site-packages (from coffea==2025.7.3) (5.6.2)\n",
      "Requirement already satisfied: vector!=1.6.0,>=1.4.1 in /usr/local/lib/python3.12/site-packages (from coffea==2025.7.3) (1.6.2)\n",
      "Requirement already satisfied: awkward-cpp==45 in /usr/local/lib/python3.12/site-packages (from awkward>=2.8.2->coffea==2025.7.3) (45)\n",
      "Requirement already satisfied: fsspec>=2022.11.0 in /usr/local/lib/python3.12/site-packages (from awkward>=2.8.2->coffea==2025.7.3) (2025.5.1)\n",
      "Requirement already satisfied: pydantic>=2 in /usr/local/lib/python3.12/site-packages (from correctionlib>=2.6.0->coffea==2025.7.3) (2.11.4)\n",
      "Requirement already satisfied: rich in /usr/local/lib/python3.12/site-packages (from correctionlib>=2.6.0->coffea==2025.7.3) (14.0.0)\n",
      "Requirement already satisfied: click>=8.1 in /usr/local/lib/python3.12/site-packages (from dask>=2024.3.0->dask[array]>=2024.3.0->coffea==2025.7.3) (8.2.0)\n",
      "Requirement already satisfied: partd>=1.4.0 in /usr/local/lib/python3.12/site-packages (from dask>=2024.3.0->dask[array]>=2024.3.0->coffea==2025.7.3) (1.4.2)\n",
      "Requirement already satisfied: pyyaml>=5.3.1 in /usr/local/lib/python3.12/site-packages (from dask>=2024.3.0->dask[array]>=2024.3.0->coffea==2025.7.3) (6.0.2)\n",
      "Requirement already satisfied: toolz>=0.10.0 in /usr/local/lib/python3.12/site-packages (from dask>=2024.3.0->dask[array]>=2024.3.0->coffea==2025.7.3) (1.0.0)\n",
      "Requirement already satisfied: typing-extensions>=4.8.0 in /usr/local/lib/python3.12/site-packages (from dask-awkward>=2025.5.0->coffea==2025.7.3) (4.13.2)\n",
      "Requirement already satisfied: boost-histogram>=1.3.2 in /usr/local/lib/python3.12/site-packages (from dask-histogram>=2025.2.0->coffea==2025.7.3) (1.5.2)\n",
      "Requirement already satisfied: histoprint>=2.2.0 in /usr/local/lib/python3.12/site-packages (from hist>=2->coffea==2025.7.3) (2.6.0)\n",
      "Requirement already satisfied: uhi>=0.2.1 in /usr/local/lib/python3.12/site-packages (from histoprint>=2.2.0->hist>=2->coffea==2025.7.3) (0.5.0)\n",
      "Requirement already satisfied: contourpy>=1.0.1 in /usr/local/lib/python3.12/site-packages (from matplotlib>=3->coffea==2025.7.3) (1.3.2)\n",
      "Requirement already satisfied: cycler>=0.10 in /usr/local/lib/python3.12/site-packages (from matplotlib>=3->coffea==2025.7.3) (0.12.1)\n",
      "Requirement already satisfied: fonttools>=4.22.0 in /usr/local/lib/python3.12/site-packages (from matplotlib>=3->coffea==2025.7.3) (4.58.0)\n",
      "Requirement already satisfied: kiwisolver>=1.3.1 in /usr/local/lib/python3.12/site-packages (from matplotlib>=3->coffea==2025.7.3) (1.4.8)\n",
      "Requirement already satisfied: pillow>=8 in /usr/local/lib/python3.12/site-packages (from matplotlib>=3->coffea==2025.7.3) (10.3.0)\n",
      "Requirement already satisfied: pyparsing>=2.3.1 in /usr/local/lib/python3.12/site-packages (from matplotlib>=3->coffea==2025.7.3) (3.2.3)\n",
      "Requirement already satisfied: python-dateutil>=2.7 in /usr/local/lib/python3.12/site-packages (from matplotlib>=3->coffea==2025.7.3) (2.9.0.post0)\n",
      "Requirement already satisfied: mplhep-data>=0.0.4 in /usr/local/lib/python3.12/site-packages (from mplhep>=0.1.18->coffea==2025.7.3) (0.0.4)\n",
      "Requirement already satisfied: llvmlite<0.45,>=0.44.0dev0 in /usr/local/lib/python3.12/site-packages (from numba>=0.58.1->coffea==2025.7.3) (0.44.0)\n",
      "Requirement already satisfied: locket in /usr/local/lib/python3.12/site-packages (from partd>=1.4.0->dask>=2024.3.0->dask[array]>=2024.3.0->coffea==2025.7.3) (1.0.0)\n",
      "Requirement already satisfied: annotated-types>=0.6.0 in /usr/local/lib/python3.12/site-packages (from pydantic>=2->correctionlib>=2.6.0->coffea==2025.7.3) (0.7.0)\n",
      "Requirement already satisfied: pydantic-core==2.33.2 in /usr/local/lib/python3.12/site-packages (from pydantic>=2->correctionlib>=2.6.0->coffea==2025.7.3) (2.33.2)\n",
      "Requirement already satisfied: typing-inspection>=0.4.0 in /usr/local/lib/python3.12/site-packages (from pydantic>=2->correctionlib>=2.6.0->coffea==2025.7.3) (0.4.0)\n",
      "Requirement already satisfied: six>=1.5 in /usr/local/lib/python3.12/site-packages (from python-dateutil>=2.7->matplotlib>=3->coffea==2025.7.3) (1.17.0)\n",
      "Requirement already satisfied: cramjam>=2.5.0 in /usr/local/lib/python3.12/site-packages (from uproot>=5.6.0->coffea==2025.7.3) (2.10.0)\n",
      "Requirement already satisfied: xxhash in /usr/local/lib/python3.12/site-packages (from uproot>=5.6.0->coffea==2025.7.3) (3.5.0)\n",
      "Requirement already satisfied: aiohappyeyeballs>=2.3.0 in /usr/local/lib/python3.12/site-packages (from aiohttp->coffea==2025.7.3) (2.6.1)\n",
      "Requirement already satisfied: aiosignal>=1.1.2 in /usr/local/lib/python3.12/site-packages (from aiohttp->coffea==2025.7.3) (1.3.2)\n",
      "Requirement already satisfied: attrs>=17.3.0 in /usr/local/lib/python3.12/site-packages (from aiohttp->coffea==2025.7.3) (25.3.0)\n",
      "Requirement already satisfied: frozenlist>=1.1.1 in /usr/local/lib/python3.12/site-packages (from aiohttp->coffea==2025.7.3) (1.6.0)\n",
      "Requirement already satisfied: multidict<7.0,>=4.5 in /usr/local/lib/python3.12/site-packages (from aiohttp->coffea==2025.7.3) (6.4.3)\n",
      "Requirement already satisfied: propcache>=0.2.0 in /usr/local/lib/python3.12/site-packages (from aiohttp->coffea==2025.7.3) (0.3.1)\n",
      "Requirement already satisfied: yarl<2.0,>=1.17.0 in /usr/local/lib/python3.12/site-packages (from aiohttp->coffea==2025.7.3) (1.20.0)\n",
      "Requirement already satisfied: idna>=2.0 in /usr/local/lib/python3.12/site-packages (from yarl<2.0,>=1.17.0->aiohttp->coffea==2025.7.3) (3.10)\n",
      "Requirement already satisfied: pytz>=2020.1 in /usr/local/lib/python3.12/site-packages (from pandas->coffea==2025.7.3) (2025.2)\n",
      "Requirement already satisfied: tzdata>=2022.7 in /usr/local/lib/python3.12/site-packages (from pandas->coffea==2025.7.3) (2025.2)\n",
      "Requirement already satisfied: charset_normalizer<4,>=2 in /usr/local/lib/python3.12/site-packages (from requests->coffea==2025.7.3) (3.4.2)\n",
      "Requirement already satisfied: urllib3<3,>=1.21.1 in /usr/local/lib/python3.12/site-packages (from requests->coffea==2025.7.3) (2.4.0)\n",
      "Requirement already satisfied: certifi>=2017.4.17 in /usr/local/lib/python3.12/site-packages (from requests->coffea==2025.7.3) (2025.4.26)\n",
      "Requirement already satisfied: markdown-it-py>=2.2.0 in /usr/local/lib/python3.12/site-packages (from rich->correctionlib>=2.6.0->coffea==2025.7.3) (3.0.0)\n",
      "Requirement already satisfied: pygments<3.0.0,>=2.13.0 in /usr/local/lib/python3.12/site-packages (from rich->correctionlib>=2.6.0->coffea==2025.7.3) (2.19.1)\n",
      "Requirement already satisfied: mdurl~=0.1 in /usr/local/lib/python3.12/site-packages (from markdown-it-py>=2.2.0->rich->correctionlib>=2.6.0->coffea==2025.7.3) (0.1.2)\n"
     ]
    }
   ],
   "source": [
    "# [coffea-casa] Install packages\n",
    "!pip install omegaconf\n",
    "!pip install coffea==2025.7.3"
   ]
  },
  {
   "cell_type": "code",
   "execution_count": 1,
   "id": "d19c5d9d-f273-4b38-b0ab-0a944e10d99b",
   "metadata": {},
   "outputs": [],
   "source": [
    "# Register some modules for dask workers to pickle/unpickle\n",
    "import cloudpickle\n",
    "import utils, user\n",
    "cloudpickle.register_pickle_by_value(utils)\n",
    "cloudpickle.register_pickle_by_value(user)\n",
    "\n",
    "# Setup some funcitons for dask client handling\n",
    "from dask.distributed import Client, LocalCluster, PipInstall\n",
    "\n",
    "COFFEA_CASA = True\n",
    "\n",
    "def get_client(n_workers=4):\n",
    "    if not COFFEA_CASA:\n",
    "        cluster = LocalCluster(n_workers=n_workers, processes=True, threads_per_worker=1)\n",
    "        client = Client(cluster)\n",
    "        print(f\"Dask dashboard: {cluster.dashboard_link}\")\n",
    "    else:\n",
    "        dependencies = [\"coffea==2025.7.3\"]\n",
    "        client = Client(\"tls://localhost:8786\")\n",
    "        client.register_plugin(PipInstall(packages=dependencies))\n",
    "        cluster = None  # no local cluster in this mode\n",
    "    return client, cluster\n",
    "\n",
    "def close_client(cluster, client):\n",
    "    if client:\n",
    "        client.close()\n",
    "    if cluster:\n",
    "        cluster.close()\n",
    "    return None, None"
   ]
  },
  {
   "cell_type": "markdown",
   "id": "d7fc6967",
   "metadata": {},
   "source": [
    "## 2. Configuration Construction\n",
    "\n",
    "A lightweight Python config defines general settings, datasets, cuts, observables, and systematics — all are type-checked and (mostly) CLI-overrideable.\n",
    "Everything else in the workflow reads from it."
   ]
  },
  {
   "cell_type": "code",
   "execution_count": 2,
   "id": "11ada530",
   "metadata": {},
   "outputs": [],
   "source": [
    "# Import Rich-based Configuration Display from logging module\n",
    "from utils.logging import display_config_table, get_config_logger\n",
    "\n",
    "# Create a global config logger instance for this notebook\n",
    "config_logger = get_config_logger()"
   ]
  },
  {
   "cell_type": "code",
   "execution_count": 3,
   "id": "e0534706",
   "metadata": {},
   "outputs": [
    {
     "name": "stdout",
     "output_type": "stream",
     "text": [
      "=== Full configuration ===\n"
     ]
    },
    {
     "data": {
      "text/html": [
       "<pre style=\"white-space:pre;overflow-x:auto;line-height:normal;font-family:Menlo,'DejaVu Sans Mono',consolas,'Courier New',monospace\"><span style=\"font-style: italic\">                                                 Configuration: GENERAL                                            </span>\n",
       "┏━━━━━━━━━━━━━━━━━━━━━━━━━━━━━━┳━━━━━━━━━━━━━━━━━━━━━━━━━━━━━━━━━━━━━━━━━━━━━━━━━━━━━━━━━━━━━━━━━━━━━━━━━━━━━━━━━━━\n",
       "┃<span style=\"font-weight: bold\"> Key                          </span>┃<span style=\"font-weight: bold\"> Value                                                                             </span>\n",
       "┡━━━━━━━━━━━━━━━━━━━━━━━━━━━━━━╇━━━━━━━━━━━━━━━━━━━━━━━━━━━━━━━━━━━━━━━━━━━━━━━━━━━━━━━━━━━━━━━━━━━━━━━━━━━━━━━━━━━\n",
       "│<span style=\"color: #008080; text-decoration-color: #008080; font-weight: bold\"> lumi                         </span>│ 16400                                                                             \n",
       "│<span style=\"color: #008080; text-decoration-color: #008080; font-weight: bold\"> weight_branch                </span>│ 'genWeight'                                                                       \n",
       "│<span style=\"color: #008080; text-decoration-color: #008080; font-weight: bold\"> analysis                     </span>│ 'nondiff'                                                                         \n",
       "│<span style=\"color: #008080; text-decoration-color: #008080; font-weight: bold\"> run_skimming                 </span>│ False                                                                             \n",
       "│<span style=\"color: #008080; text-decoration-color: #008080; font-weight: bold\"> run_histogramming            </span>│ True                                                                              \n",
       "│<span style=\"color: #008080; text-decoration-color: #008080; font-weight: bold\"> run_statistics               </span>│ True                                                                              \n",
       "│<span style=\"color: #008080; text-decoration-color: #008080; font-weight: bold\"> run_systematics              </span>│ True                                                                              \n",
       "│<span style=\"color: #008080; text-decoration-color: #008080; font-weight: bold\"> run_plots_only               </span>│ False                                                                             \n",
       "│<span style=\"color: #008080; text-decoration-color: #008080; font-weight: bold\"> run_mva_training             </span>│ False                                                                             \n",
       "│<span style=\"color: #008080; text-decoration-color: #008080; font-weight: bold\"> run_metadata_generation      </span>│ False                                                                             \n",
       "│<span style=\"color: #008080; text-decoration-color: #008080; font-weight: bold\"> read_from_cache              </span>│ True                                                                              \n",
       "│<span style=\"color: #008080; text-decoration-color: #008080; font-weight: bold\"> output_dir                   </span>│ 'example-demo/outputs/'                                                           \n",
       "│<span style=\"color: #008080; text-decoration-color: #008080; font-weight: bold\"> lumifile                     </span>│ './corrections/Cert_271036-284044_13TeV_Legacy2016_Collisions16_JSON.txt'         \n",
       "│<span style=\"color: #008080; text-decoration-color: #008080; font-weight: bold\"> cache_dir                    </span>│ '/tmp/integration/'                                                               \n",
       "└──────────────────────────────┴───────────────────────────────────────────────────────────────────────────────────\n",
       "</pre>\n"
      ],
      "text/plain": [
       "\u001b[3m                                                 Configuration: GENERAL                                            \u001b[0m\n",
       "┏━━━━━━━━━━━━━━━━━━━━━━━━━━━━━━┳━━━━━━━━━━━━━━━━━━━━━━━━━━━━━━━━━━━━━━━━━━━━━━━━━━━━━━━━━━━━━━━━━━━━━━━━━━━━━━━━━━━\n",
       "┃\u001b[1m \u001b[0m\u001b[1mKey                         \u001b[0m\u001b[1m \u001b[0m┃\u001b[1m \u001b[0m\u001b[1mValue                                                                             \u001b[0m\n",
       "┡━━━━━━━━━━━━━━━━━━━━━━━━━━━━━━╇━━━━━━━━━━━━━━━━━━━━━━━━━━━━━━━━━━━━━━━━━━━━━━━━━━━━━━━━━━━━━━━━━━━━━━━━━━━━━━━━━━━\n",
       "│\u001b[1;36m \u001b[0m\u001b[1;36mlumi                        \u001b[0m\u001b[1;36m \u001b[0m│ 16400                                                                             \n",
       "│\u001b[1;36m \u001b[0m\u001b[1;36mweight_branch               \u001b[0m\u001b[1;36m \u001b[0m│ 'genWeight'                                                                       \n",
       "│\u001b[1;36m \u001b[0m\u001b[1;36manalysis                    \u001b[0m\u001b[1;36m \u001b[0m│ 'nondiff'                                                                         \n",
       "│\u001b[1;36m \u001b[0m\u001b[1;36mrun_skimming                \u001b[0m\u001b[1;36m \u001b[0m│ False                                                                             \n",
       "│\u001b[1;36m \u001b[0m\u001b[1;36mrun_histogramming           \u001b[0m\u001b[1;36m \u001b[0m│ True                                                                              \n",
       "│\u001b[1;36m \u001b[0m\u001b[1;36mrun_statistics              \u001b[0m\u001b[1;36m \u001b[0m│ True                                                                              \n",
       "│\u001b[1;36m \u001b[0m\u001b[1;36mrun_systematics             \u001b[0m\u001b[1;36m \u001b[0m│ True                                                                              \n",
       "│\u001b[1;36m \u001b[0m\u001b[1;36mrun_plots_only              \u001b[0m\u001b[1;36m \u001b[0m│ False                                                                             \n",
       "│\u001b[1;36m \u001b[0m\u001b[1;36mrun_mva_training            \u001b[0m\u001b[1;36m \u001b[0m│ False                                                                             \n",
       "│\u001b[1;36m \u001b[0m\u001b[1;36mrun_metadata_generation     \u001b[0m\u001b[1;36m \u001b[0m│ False                                                                             \n",
       "│\u001b[1;36m \u001b[0m\u001b[1;36mread_from_cache             \u001b[0m\u001b[1;36m \u001b[0m│ True                                                                              \n",
       "│\u001b[1;36m \u001b[0m\u001b[1;36moutput_dir                  \u001b[0m\u001b[1;36m \u001b[0m│ 'example-demo/outputs/'                                                           \n",
       "│\u001b[1;36m \u001b[0m\u001b[1;36mlumifile                    \u001b[0m\u001b[1;36m \u001b[0m│ './corrections/Cert_271036-284044_13TeV_Legacy2016_Collisions16_JSON.txt'         \n",
       "│\u001b[1;36m \u001b[0m\u001b[1;36mcache_dir                   \u001b[0m\u001b[1;36m \u001b[0m│ '/tmp/integration/'                                                               \n",
       "└──────────────────────────────┴───────────────────────────────────────────────────────────────────────────────────\n"
      ]
     },
     "metadata": {},
     "output_type": "display_data"
    },
    {
     "data": {
      "text/html": [
       "<pre style=\"white-space:pre;overflow-x:auto;line-height:normal;font-family:Menlo,'DejaVu Sans Mono',consolas,'Courier New',monospace\"><span style=\"font-style: italic\">                                               Configuration: PREPROCESS                                           </span>\n",
       "┏━━━━━━━━━━━━━━━━━━━━━━━━━━━━━━━┳━━━━━━━━━━━━━━━━━━━━━━━━━━━━━━━━━━━━━━━━━━━━━━━━━━━━━━━━━━━━━━━━━━━━━━━━━━━━━━━━━━\n",
       "┃<span style=\"font-weight: bold\"> Key                           </span>┃<span style=\"font-weight: bold\"> Value                                                                            </span>\n",
       "┡━━━━━━━━━━━━━━━━━━━━━━━━━━━━━━━╇━━━━━━━━━━━━━━━━━━━━━━━━━━━━━━━━━━━━━━━━━━━━━━━━━━━━━━━━━━━━━━━━━━━━━━━━━━━━━━━━━━\n",
       "│<span style=\"color: #008080; text-decoration-color: #008080; font-weight: bold\"> branches                      </span>│ {                                                                                \n",
       "│<span style=\"color: #008080; text-decoration-color: #008080; font-weight: bold\">                               </span>│   Muon:                                                                          \n",
       "│<span style=\"color: #008080; text-decoration-color: #008080; font-weight: bold\">                               </span>│ [                                                                                \n",
       "│<span style=\"color: #008080; text-decoration-color: #008080; font-weight: bold\">                               </span>│     [0]: 'pt'                                                                    \n",
       "│<span style=\"color: #008080; text-decoration-color: #008080; font-weight: bold\">                               </span>│     [1]: 'eta'                                                                   \n",
       "│<span style=\"color: #008080; text-decoration-color: #008080; font-weight: bold\">                               </span>│     [2]: 'phi'                                                                   \n",
       "│<span style=\"color: #008080; text-decoration-color: #008080; font-weight: bold\">                               </span>│     [3]: 'mass'                                                                  \n",
       "│<span style=\"color: #008080; text-decoration-color: #008080; font-weight: bold\">                               </span>│     [4]: 'miniIsoId'                                                             \n",
       "│<span style=\"color: #008080; text-decoration-color: #008080; font-weight: bold\">                               </span>│     [5]: 'tightId'                                                               \n",
       "│<span style=\"color: #008080; text-decoration-color: #008080; font-weight: bold\">                               </span>│     [6]: 'charge'                                                                \n",
       "│<span style=\"color: #008080; text-decoration-color: #008080; font-weight: bold\">                               </span>│   ]                                                                              \n",
       "│<span style=\"color: #008080; text-decoration-color: #008080; font-weight: bold\">                               </span>│   FatJet: ['particleNet_TvsQCD', 'pt', 'eta', 'phi', 'mass']                     \n",
       "│<span style=\"color: #008080; text-decoration-color: #008080; font-weight: bold\">                               </span>│   Jet:                                                                           \n",
       "│<span style=\"color: #008080; text-decoration-color: #008080; font-weight: bold\">                               </span>│ [                                                                                \n",
       "│<span style=\"color: #008080; text-decoration-color: #008080; font-weight: bold\">                               </span>│     [0]: 'btagDeepB'                                                             \n",
       "│<span style=\"color: #008080; text-decoration-color: #008080; font-weight: bold\">                               </span>│     [1]: 'jetId'                                                                 \n",
       "│<span style=\"color: #008080; text-decoration-color: #008080; font-weight: bold\">                               </span>│     [2]: 'pt'                                                                    \n",
       "│<span style=\"color: #008080; text-decoration-color: #008080; font-weight: bold\">                               </span>│     [3]: 'eta'                                                                   \n",
       "│<span style=\"color: #008080; text-decoration-color: #008080; font-weight: bold\">                               </span>│     [4]: 'phi'                                                                   \n",
       "│<span style=\"color: #008080; text-decoration-color: #008080; font-weight: bold\">                               </span>│     [5]: 'mass'                                                                  \n",
       "│<span style=\"color: #008080; text-decoration-color: #008080; font-weight: bold\">                               </span>│   ]                                                                              \n",
       "│<span style=\"color: #008080; text-decoration-color: #008080; font-weight: bold\">                               </span>│   PuppiMET: ['pt', 'phi']                                                        \n",
       "│<span style=\"color: #008080; text-decoration-color: #008080; font-weight: bold\">                               </span>│   HLT: ['TkMu50']                                                                \n",
       "│<span style=\"color: #008080; text-decoration-color: #008080; font-weight: bold\">                               </span>│   Pileup: ['nTrueInt']                                                           \n",
       "│<span style=\"color: #008080; text-decoration-color: #008080; font-weight: bold\">                               </span>│   event: ['genWeight', 'run', 'luminosityBlock', 'event']                        \n",
       "│<span style=\"color: #008080; text-decoration-color: #008080; font-weight: bold\">                               </span>│ }                                                                                \n",
       "│<span style=\"color: #008080; text-decoration-color: #008080; font-weight: bold\"> ignore_missing                </span>│ False                                                                            \n",
       "│<span style=\"color: #008080; text-decoration-color: #008080; font-weight: bold\"> mc_branches                   </span>│ {                                                                                \n",
       "│<span style=\"color: #008080; text-decoration-color: #008080; font-weight: bold\">                               </span>│   event: ['genWeight']                                                           \n",
       "│<span style=\"color: #008080; text-decoration-color: #008080; font-weight: bold\">                               </span>│   Pileup: ['nTrueInt']                                                           \n",
       "│<span style=\"color: #008080; text-decoration-color: #008080; font-weight: bold\">                               </span>│ }                                                                                \n",
       "│<span style=\"color: #008080; text-decoration-color: #008080; font-weight: bold\"> skimming                      </span>│ {                                                                                \n",
       "│<span style=\"color: #008080; text-decoration-color: #008080; font-weight: bold\">                               </span>│   selection_function: Function: default_skim_selection                           \n",
       "│<span style=\"color: #008080; text-decoration-color: #008080; font-weight: bold\">                               </span>│   selection_use: [('PuppiMET', None), ('HLT', None)]                             \n",
       "│<span style=\"color: #008080; text-decoration-color: #008080; font-weight: bold\">                               </span>│   chunk_size: 100000                                                             \n",
       "│<span style=\"color: #008080; text-decoration-color: #008080; font-weight: bold\">                               </span>│   tree_name: 'Events'                                                            \n",
       "│<span style=\"color: #008080; text-decoration-color: #008080; font-weight: bold\">                               </span>│ }                                                                                \n",
       "└───────────────────────────────┴──────────────────────────────────────────────────────────────────────────────────\n",
       "</pre>\n"
      ],
      "text/plain": [
       "\u001b[3m                                               Configuration: PREPROCESS                                           \u001b[0m\n",
       "┏━━━━━━━━━━━━━━━━━━━━━━━━━━━━━━━┳━━━━━━━━━━━━━━━━━━━━━━━━━━━━━━━━━━━━━━━━━━━━━━━━━━━━━━━━━━━━━━━━━━━━━━━━━━━━━━━━━━\n",
       "┃\u001b[1m \u001b[0m\u001b[1mKey                          \u001b[0m\u001b[1m \u001b[0m┃\u001b[1m \u001b[0m\u001b[1mValue                                                                            \u001b[0m\n",
       "┡━━━━━━━━━━━━━━━━━━━━━━━━━━━━━━━╇━━━━━━━━━━━━━━━━━━━━━━━━━━━━━━━━━━━━━━━━━━━━━━━━━━━━━━━━━━━━━━━━━━━━━━━━━━━━━━━━━━\n",
       "│\u001b[1;36m \u001b[0m\u001b[1;36mbranches                     \u001b[0m\u001b[1;36m \u001b[0m│ {                                                                                \n",
       "│\u001b[1;36m                               \u001b[0m│   Muon:                                                                          \n",
       "│\u001b[1;36m                               \u001b[0m│ [                                                                                \n",
       "│\u001b[1;36m                               \u001b[0m│     [0]: 'pt'                                                                    \n",
       "│\u001b[1;36m                               \u001b[0m│     [1]: 'eta'                                                                   \n",
       "│\u001b[1;36m                               \u001b[0m│     [2]: 'phi'                                                                   \n",
       "│\u001b[1;36m                               \u001b[0m│     [3]: 'mass'                                                                  \n",
       "│\u001b[1;36m                               \u001b[0m│     [4]: 'miniIsoId'                                                             \n",
       "│\u001b[1;36m                               \u001b[0m│     [5]: 'tightId'                                                               \n",
       "│\u001b[1;36m                               \u001b[0m│     [6]: 'charge'                                                                \n",
       "│\u001b[1;36m                               \u001b[0m│   ]                                                                              \n",
       "│\u001b[1;36m                               \u001b[0m│   FatJet: ['particleNet_TvsQCD', 'pt', 'eta', 'phi', 'mass']                     \n",
       "│\u001b[1;36m                               \u001b[0m│   Jet:                                                                           \n",
       "│\u001b[1;36m                               \u001b[0m│ [                                                                                \n",
       "│\u001b[1;36m                               \u001b[0m│     [0]: 'btagDeepB'                                                             \n",
       "│\u001b[1;36m                               \u001b[0m│     [1]: 'jetId'                                                                 \n",
       "│\u001b[1;36m                               \u001b[0m│     [2]: 'pt'                                                                    \n",
       "│\u001b[1;36m                               \u001b[0m│     [3]: 'eta'                                                                   \n",
       "│\u001b[1;36m                               \u001b[0m│     [4]: 'phi'                                                                   \n",
       "│\u001b[1;36m                               \u001b[0m│     [5]: 'mass'                                                                  \n",
       "│\u001b[1;36m                               \u001b[0m│   ]                                                                              \n",
       "│\u001b[1;36m                               \u001b[0m│   PuppiMET: ['pt', 'phi']                                                        \n",
       "│\u001b[1;36m                               \u001b[0m│   HLT: ['TkMu50']                                                                \n",
       "│\u001b[1;36m                               \u001b[0m│   Pileup: ['nTrueInt']                                                           \n",
       "│\u001b[1;36m                               \u001b[0m│   event: ['genWeight', 'run', 'luminosityBlock', 'event']                        \n",
       "│\u001b[1;36m                               \u001b[0m│ }                                                                                \n",
       "│\u001b[1;36m \u001b[0m\u001b[1;36mignore_missing               \u001b[0m\u001b[1;36m \u001b[0m│ False                                                                            \n",
       "│\u001b[1;36m \u001b[0m\u001b[1;36mmc_branches                  \u001b[0m\u001b[1;36m \u001b[0m│ {                                                                                \n",
       "│\u001b[1;36m                               \u001b[0m│   event: ['genWeight']                                                           \n",
       "│\u001b[1;36m                               \u001b[0m│   Pileup: ['nTrueInt']                                                           \n",
       "│\u001b[1;36m                               \u001b[0m│ }                                                                                \n",
       "│\u001b[1;36m \u001b[0m\u001b[1;36mskimming                     \u001b[0m\u001b[1;36m \u001b[0m│ {                                                                                \n",
       "│\u001b[1;36m                               \u001b[0m│   selection_function: Function: default_skim_selection                           \n",
       "│\u001b[1;36m                               \u001b[0m│   selection_use: [('PuppiMET', None), ('HLT', None)]                             \n",
       "│\u001b[1;36m                               \u001b[0m│   chunk_size: 100000                                                             \n",
       "│\u001b[1;36m                               \u001b[0m│   tree_name: 'Events'                                                            \n",
       "│\u001b[1;36m                               \u001b[0m│ }                                                                                \n",
       "└───────────────────────────────┴──────────────────────────────────────────────────────────────────────────────────\n"
      ]
     },
     "metadata": {},
     "output_type": "display_data"
    },
    {
     "data": {
      "text/html": [
       "<pre style=\"white-space:pre;overflow-x:auto;line-height:normal;font-family:Menlo,'DejaVu Sans Mono',consolas,'Courier New',monospace\"><span style=\"font-style: italic\">                                           Configuration: BASELINE_SELECTION                                       </span>\n",
       "┏━━━━━━━━━━━━━━━━━━━━━━━━━━━━━━━━━━━┳━━━━━━━━━━━━━━━━━━━━━━━━━━━━━━━━━━━━━━━━━━━━━━━━━━━━━━━━━━━━━━━━━━━━━━━━━━━━━━\n",
       "┃<span style=\"font-weight: bold\"> Key                               </span>┃<span style=\"font-weight: bold\"> Value                                                                        </span>\n",
       "┡━━━━━━━━━━━━━━━━━━━━━━━━━━━━━━━━━━━╇━━━━━━━━━━━━━━━━━━━━━━━━━━━━━━━━━━━━━━━━━━━━━━━━━━━━━━━━━━━━━━━━━━━━━━━━━━━━━━\n",
       "│<span style=\"color: #008080; text-decoration-color: #008080; font-weight: bold\"> function                          </span>│ Function: Zprime_hardcuts_no_fj                                              \n",
       "│<span style=\"color: #008080; text-decoration-color: #008080; font-weight: bold\"> use                               </span>│ [('Muon', None), ('Jet', None)]                                              \n",
       "└───────────────────────────────────┴──────────────────────────────────────────────────────────────────────────────\n",
       "</pre>\n"
      ],
      "text/plain": [
       "\u001b[3m                                           Configuration: BASELINE_SELECTION                                       \u001b[0m\n",
       "┏━━━━━━━━━━━━━━━━━━━━━━━━━━━━━━━━━━━┳━━━━━━━━━━━━━━━━━━━━━━━━━━━━━━━━━━━━━━━━━━━━━━━━━━━━━━━━━━━━━━━━━━━━━━━━━━━━━━\n",
       "┃\u001b[1m \u001b[0m\u001b[1mKey                              \u001b[0m\u001b[1m \u001b[0m┃\u001b[1m \u001b[0m\u001b[1mValue                                                                        \u001b[0m\n",
       "┡━━━━━━━━━━━━━━━━━━━━━━━━━━━━━━━━━━━╇━━━━━━━━━━━━━━━━━━━━━━━━━━━━━━━━━━━━━━━━━━━━━━━━━━━━━━━━━━━━━━━━━━━━━━━━━━━━━━\n",
       "│\u001b[1;36m \u001b[0m\u001b[1;36mfunction                         \u001b[0m\u001b[1;36m \u001b[0m│ Function: Zprime_hardcuts_no_fj                                              \n",
       "│\u001b[1;36m \u001b[0m\u001b[1;36muse                              \u001b[0m\u001b[1;36m \u001b[0m│ [('Muon', None), ('Jet', None)]                                              \n",
       "└───────────────────────────────────┴──────────────────────────────────────────────────────────────────────────────\n"
      ]
     },
     "metadata": {},
     "output_type": "display_data"
    },
    {
     "data": {
      "text/html": [
       "<pre style=\"white-space:pre;overflow-x:auto;line-height:normal;font-family:Menlo,'DejaVu Sans Mono',consolas,'Courier New',monospace\"><span style=\"font-style: italic\">                                            Configuration: GOOD_OBJECT_MASKS                                       </span>\n",
       "┏━━━━━━━━━━━━━━━━━━━━━━━━━━━━━━━━━━━┳━━━━━━━━━━━━━━━━━━━━━━━━━━━━━━━━━━━━━━━━━━━━━━━━━━━━━━━━━━━━━━━━━━━━━━━━━━━━━━\n",
       "┃<span style=\"font-weight: bold\"> Key                               </span>┃<span style=\"font-weight: bold\"> Value                                                                        </span>\n",
       "┡━━━━━━━━━━━━━━━━━━━━━━━━━━━━━━━━━━━╇━━━━━━━━━━━━━━━━━━━━━━━━━━━━━━━━━━━━━━━━━━━━━━━━━━━━━━━━━━━━━━━━━━━━━━━━━━━━━━\n",
       "│<span style=\"color: #008080; text-decoration-color: #008080; font-weight: bold\"> analysis                          </span>│ [                                                                            \n",
       "│<span style=\"color: #008080; text-decoration-color: #008080; font-weight: bold\">                                   </span>│   [0]:                                                                       \n",
       "│<span style=\"color: #008080; text-decoration-color: #008080; font-weight: bold\">                                   </span>│ {                                                                            \n",
       "│<span style=\"color: #008080; text-decoration-color: #008080; font-weight: bold\">                                   </span>│     object: 'Muon'                                                           \n",
       "│<span style=\"color: #008080; text-decoration-color: #008080; font-weight: bold\">                                   </span>│     function: Function: &lt;lambda&gt;                                             \n",
       "│<span style=\"color: #008080; text-decoration-color: #008080; font-weight: bold\">                                   </span>│     use: [('Muon', None)]                                                    \n",
       "│<span style=\"color: #008080; text-decoration-color: #008080; font-weight: bold\">                                   </span>│   }                                                                          \n",
       "│<span style=\"color: #008080; text-decoration-color: #008080; font-weight: bold\">                                   </span>│   [1]:                                                                       \n",
       "│<span style=\"color: #008080; text-decoration-color: #008080; font-weight: bold\">                                   </span>│ {                                                                            \n",
       "│<span style=\"color: #008080; text-decoration-color: #008080; font-weight: bold\">                                   </span>│     object: 'Jet'                                                            \n",
       "│<span style=\"color: #008080; text-decoration-color: #008080; font-weight: bold\">                                   </span>│     function: Function: &lt;lambda&gt;                                             \n",
       "│<span style=\"color: #008080; text-decoration-color: #008080; font-weight: bold\">                                   </span>│     use: [('Jet', None)]                                                     \n",
       "│<span style=\"color: #008080; text-decoration-color: #008080; font-weight: bold\">                                   </span>│   }                                                                          \n",
       "│<span style=\"color: #008080; text-decoration-color: #008080; font-weight: bold\">                                   </span>│   [2]:                                                                       \n",
       "│<span style=\"color: #008080; text-decoration-color: #008080; font-weight: bold\">                                   </span>│ {                                                                            \n",
       "│<span style=\"color: #008080; text-decoration-color: #008080; font-weight: bold\">                                   </span>│     object: 'FatJet'                                                         \n",
       "│<span style=\"color: #008080; text-decoration-color: #008080; font-weight: bold\">                                   </span>│     function: Function: &lt;lambda&gt;                                             \n",
       "│<span style=\"color: #008080; text-decoration-color: #008080; font-weight: bold\">                                   </span>│     use: [('FatJet', None)]                                                  \n",
       "│<span style=\"color: #008080; text-decoration-color: #008080; font-weight: bold\">                                   </span>│   }                                                                          \n",
       "│<span style=\"color: #008080; text-decoration-color: #008080; font-weight: bold\">                                   </span>│ ]                                                                            \n",
       "│<span style=\"color: #008080; text-decoration-color: #008080; font-weight: bold\"> mva                               </span>│ [                                                                            \n",
       "│<span style=\"color: #008080; text-decoration-color: #008080; font-weight: bold\">                                   </span>│   [0]:                                                                       \n",
       "│<span style=\"color: #008080; text-decoration-color: #008080; font-weight: bold\">                                   </span>│ {                                                                            \n",
       "│<span style=\"color: #008080; text-decoration-color: #008080; font-weight: bold\">                                   </span>│     object: 'Muon'                                                           \n",
       "│<span style=\"color: #008080; text-decoration-color: #008080; font-weight: bold\">                                   </span>│     function: Function: &lt;lambda&gt;                                             \n",
       "│<span style=\"color: #008080; text-decoration-color: #008080; font-weight: bold\">                                   </span>│     use: [('Muon', None)]                                                    \n",
       "│<span style=\"color: #008080; text-decoration-color: #008080; font-weight: bold\">                                   </span>│   }                                                                          \n",
       "│<span style=\"color: #008080; text-decoration-color: #008080; font-weight: bold\">                                   </span>│   [1]:                                                                       \n",
       "│<span style=\"color: #008080; text-decoration-color: #008080; font-weight: bold\">                                   </span>│ {                                                                            \n",
       "│<span style=\"color: #008080; text-decoration-color: #008080; font-weight: bold\">                                   </span>│     object: 'FatJet'                                                         \n",
       "│<span style=\"color: #008080; text-decoration-color: #008080; font-weight: bold\">                                   </span>│     function: Function: &lt;lambda&gt;                                             \n",
       "│<span style=\"color: #008080; text-decoration-color: #008080; font-weight: bold\">                                   </span>│     use: [('FatJet', None)]                                                  \n",
       "│<span style=\"color: #008080; text-decoration-color: #008080; font-weight: bold\">                                   </span>│   }                                                                          \n",
       "│<span style=\"color: #008080; text-decoration-color: #008080; font-weight: bold\">                                   </span>│ ]                                                                            \n",
       "└───────────────────────────────────┴──────────────────────────────────────────────────────────────────────────────\n",
       "</pre>\n"
      ],
      "text/plain": [
       "\u001b[3m                                            Configuration: GOOD_OBJECT_MASKS                                       \u001b[0m\n",
       "┏━━━━━━━━━━━━━━━━━━━━━━━━━━━━━━━━━━━┳━━━━━━━━━━━━━━━━━━━━━━━━━━━━━━━━━━━━━━━━━━━━━━━━━━━━━━━━━━━━━━━━━━━━━━━━━━━━━━\n",
       "┃\u001b[1m \u001b[0m\u001b[1mKey                              \u001b[0m\u001b[1m \u001b[0m┃\u001b[1m \u001b[0m\u001b[1mValue                                                                        \u001b[0m\n",
       "┡━━━━━━━━━━━━━━━━━━━━━━━━━━━━━━━━━━━╇━━━━━━━━━━━━━━━━━━━━━━━━━━━━━━━━━━━━━━━━━━━━━━━━━━━━━━━━━━━━━━━━━━━━━━━━━━━━━━\n",
       "│\u001b[1;36m \u001b[0m\u001b[1;36manalysis                         \u001b[0m\u001b[1;36m \u001b[0m│ [                                                                            \n",
       "│\u001b[1;36m                                   \u001b[0m│   [0]:                                                                       \n",
       "│\u001b[1;36m                                   \u001b[0m│ {                                                                            \n",
       "│\u001b[1;36m                                   \u001b[0m│     object: 'Muon'                                                           \n",
       "│\u001b[1;36m                                   \u001b[0m│     function: Function: <lambda>                                             \n",
       "│\u001b[1;36m                                   \u001b[0m│     use: [('Muon', None)]                                                    \n",
       "│\u001b[1;36m                                   \u001b[0m│   }                                                                          \n",
       "│\u001b[1;36m                                   \u001b[0m│   [1]:                                                                       \n",
       "│\u001b[1;36m                                   \u001b[0m│ {                                                                            \n",
       "│\u001b[1;36m                                   \u001b[0m│     object: 'Jet'                                                            \n",
       "│\u001b[1;36m                                   \u001b[0m│     function: Function: <lambda>                                             \n",
       "│\u001b[1;36m                                   \u001b[0m│     use: [('Jet', None)]                                                     \n",
       "│\u001b[1;36m                                   \u001b[0m│   }                                                                          \n",
       "│\u001b[1;36m                                   \u001b[0m│   [2]:                                                                       \n",
       "│\u001b[1;36m                                   \u001b[0m│ {                                                                            \n",
       "│\u001b[1;36m                                   \u001b[0m│     object: 'FatJet'                                                         \n",
       "│\u001b[1;36m                                   \u001b[0m│     function: Function: <lambda>                                             \n",
       "│\u001b[1;36m                                   \u001b[0m│     use: [('FatJet', None)]                                                  \n",
       "│\u001b[1;36m                                   \u001b[0m│   }                                                                          \n",
       "│\u001b[1;36m                                   \u001b[0m│ ]                                                                            \n",
       "│\u001b[1;36m \u001b[0m\u001b[1;36mmva                              \u001b[0m\u001b[1;36m \u001b[0m│ [                                                                            \n",
       "│\u001b[1;36m                                   \u001b[0m│   [0]:                                                                       \n",
       "│\u001b[1;36m                                   \u001b[0m│ {                                                                            \n",
       "│\u001b[1;36m                                   \u001b[0m│     object: 'Muon'                                                           \n",
       "│\u001b[1;36m                                   \u001b[0m│     function: Function: <lambda>                                             \n",
       "│\u001b[1;36m                                   \u001b[0m│     use: [('Muon', None)]                                                    \n",
       "│\u001b[1;36m                                   \u001b[0m│   }                                                                          \n",
       "│\u001b[1;36m                                   \u001b[0m│   [1]:                                                                       \n",
       "│\u001b[1;36m                                   \u001b[0m│ {                                                                            \n",
       "│\u001b[1;36m                                   \u001b[0m│     object: 'FatJet'                                                         \n",
       "│\u001b[1;36m                                   \u001b[0m│     function: Function: <lambda>                                             \n",
       "│\u001b[1;36m                                   \u001b[0m│     use: [('FatJet', None)]                                                  \n",
       "│\u001b[1;36m                                   \u001b[0m│   }                                                                          \n",
       "│\u001b[1;36m                                   \u001b[0m│ ]                                                                            \n",
       "└───────────────────────────────────┴──────────────────────────────────────────────────────────────────────────────\n"
      ]
     },
     "metadata": {},
     "output_type": "display_data"
    },
    {
     "data": {
      "text/html": [
       "<pre style=\"white-space:pre;overflow-x:auto;line-height:normal;font-family:Menlo,'DejaVu Sans Mono',consolas,'Courier New',monospace\"><span style=\"font-style: italic\">                                                Configuration: CHANNELS                                            </span>\n",
       "┏━━━━━━━━━━━━━━━━━━━━━━━━━┳━━━━━━━━━━━━━━━━━━━━━━━━━━━━━━━━━━━━━━━━━━━━━━━━━━━━━━━━━━━━━━━━━━━━━━━━━━━━━━━━━━━━━━━━\n",
       "┃<span style=\"font-weight: bold\"> Key                     </span>┃<span style=\"font-weight: bold\"> Value                                                                                  </span>\n",
       "┡━━━━━━━━━━━━━━━━━━━━━━━━━╇━━━━━━━━━━━━━━━━━━━━━━━━━━━━━━━━━━━━━━━━━━━━━━━━━━━━━━━━━━━━━━━━━━━━━━━━━━━━━━━━━━━━━━━━\n",
       "│<span style=\"color: #008080; text-decoration-color: #008080; font-weight: bold\"> Items                   </span>│ [                                                                                      \n",
       "│<span style=\"color: #008080; text-decoration-color: #008080; font-weight: bold\">                         </span>│   [0]:                                                                                 \n",
       "│<span style=\"color: #008080; text-decoration-color: #008080; font-weight: bold\">                         </span>│ {                                                                                      \n",
       "│<span style=\"color: #008080; text-decoration-color: #008080; font-weight: bold\">                         </span>│     name: 'CMS_WORKSHOP'                                                               \n",
       "│<span style=\"color: #008080; text-decoration-color: #008080; font-weight: bold\">                         </span>│     fit_observable: 'workshop_mtt'                                                     \n",
       "│<span style=\"color: #008080; text-decoration-color: #008080; font-weight: bold\">                         </span>│     observables:                                                                       \n",
       "│<span style=\"color: #008080; text-decoration-color: #008080; font-weight: bold\">                         </span>│ [                                                                                      \n",
       "│<span style=\"color: #008080; text-decoration-color: #008080; font-weight: bold\">                         </span>│       [0]:                                                                             \n",
       "│<span style=\"color: #008080; text-decoration-color: #008080; font-weight: bold\">                         </span>│ {                                                                                      \n",
       "│<span style=\"color: #008080; text-decoration-color: #008080; font-weight: bold\">                         </span>│         name: 'workshop_mtt'                                                           \n",
       "│<span style=\"color: #008080; text-decoration-color: #008080; font-weight: bold\">                         </span>│         binning: '200,3000,20'                                                         \n",
       "│<span style=\"color: #008080; text-decoration-color: #008080; font-weight: bold\">                         </span>│         label: '$M(t\\bar{t})$ [GeV]'                                                   \n",
       "│<span style=\"color: #008080; text-decoration-color: #008080; font-weight: bold\">                         </span>│         function: Function: get_mtt                                                    \n",
       "│<span style=\"color: #008080; text-decoration-color: #008080; font-weight: bold\">                         </span>│         use: [('Muon', None), ('Jet', None), ('FatJet', None), ('PuppiMET', None)]     \n",
       "│<span style=\"color: #008080; text-decoration-color: #008080; font-weight: bold\">                         </span>│       }                                                                                \n",
       "│<span style=\"color: #008080; text-decoration-color: #008080; font-weight: bold\">                         </span>│     ]                                                                                  \n",
       "│<span style=\"color: #008080; text-decoration-color: #008080; font-weight: bold\">                         </span>│     selection:                                                                         \n",
       "│<span style=\"color: #008080; text-decoration-color: #008080; font-weight: bold\">                         </span>│ {                                                                                      \n",
       "│<span style=\"color: #008080; text-decoration-color: #008080; font-weight: bold\">                         </span>│       function: Function: Zprime_workshop_cuts                                         \n",
       "│<span style=\"color: #008080; text-decoration-color: #008080; font-weight: bold\">                         </span>│       use: [('Muon', None), ('Jet', None), ('FatJet', None), ('PuppiMET', None)]       \n",
       "│<span style=\"color: #008080; text-decoration-color: #008080; font-weight: bold\">                         </span>│     }                                                                                  \n",
       "│<span style=\"color: #008080; text-decoration-color: #008080; font-weight: bold\">                         </span>│   }                                                                                    \n",
       "│<span style=\"color: #008080; text-decoration-color: #008080; font-weight: bold\">                         </span>│ ]                                                                                      \n",
       "└─────────────────────────┴────────────────────────────────────────────────────────────────────────────────────────\n",
       "</pre>\n"
      ],
      "text/plain": [
       "\u001b[3m                                                Configuration: CHANNELS                                            \u001b[0m\n",
       "┏━━━━━━━━━━━━━━━━━━━━━━━━━┳━━━━━━━━━━━━━━━━━━━━━━━━━━━━━━━━━━━━━━━━━━━━━━━━━━━━━━━━━━━━━━━━━━━━━━━━━━━━━━━━━━━━━━━━\n",
       "┃\u001b[1m \u001b[0m\u001b[1mKey                    \u001b[0m\u001b[1m \u001b[0m┃\u001b[1m \u001b[0m\u001b[1mValue                                                                                  \u001b[0m\n",
       "┡━━━━━━━━━━━━━━━━━━━━━━━━━╇━━━━━━━━━━━━━━━━━━━━━━━━━━━━━━━━━━━━━━━━━━━━━━━━━━━━━━━━━━━━━━━━━━━━━━━━━━━━━━━━━━━━━━━━\n",
       "│\u001b[1;36m \u001b[0m\u001b[1;36mItems                  \u001b[0m\u001b[1;36m \u001b[0m│ [                                                                                      \n",
       "│\u001b[1;36m                         \u001b[0m│   [0]:                                                                                 \n",
       "│\u001b[1;36m                         \u001b[0m│ {                                                                                      \n",
       "│\u001b[1;36m                         \u001b[0m│     name: 'CMS_WORKSHOP'                                                               \n",
       "│\u001b[1;36m                         \u001b[0m│     fit_observable: 'workshop_mtt'                                                     \n",
       "│\u001b[1;36m                         \u001b[0m│     observables:                                                                       \n",
       "│\u001b[1;36m                         \u001b[0m│ [                                                                                      \n",
       "│\u001b[1;36m                         \u001b[0m│       [0]:                                                                             \n",
       "│\u001b[1;36m                         \u001b[0m│ {                                                                                      \n",
       "│\u001b[1;36m                         \u001b[0m│         name: 'workshop_mtt'                                                           \n",
       "│\u001b[1;36m                         \u001b[0m│         binning: '200,3000,20'                                                         \n",
       "│\u001b[1;36m                         \u001b[0m│         label: '$M(t\\bar{t})$ [GeV]'                                                   \n",
       "│\u001b[1;36m                         \u001b[0m│         function: Function: get_mtt                                                    \n",
       "│\u001b[1;36m                         \u001b[0m│         use: [('Muon', None), ('Jet', None), ('FatJet', None), ('PuppiMET', None)]     \n",
       "│\u001b[1;36m                         \u001b[0m│       }                                                                                \n",
       "│\u001b[1;36m                         \u001b[0m│     ]                                                                                  \n",
       "│\u001b[1;36m                         \u001b[0m│     selection:                                                                         \n",
       "│\u001b[1;36m                         \u001b[0m│ {                                                                                      \n",
       "│\u001b[1;36m                         \u001b[0m│       function: Function: Zprime_workshop_cuts                                         \n",
       "│\u001b[1;36m                         \u001b[0m│       use: [('Muon', None), ('Jet', None), ('FatJet', None), ('PuppiMET', None)]       \n",
       "│\u001b[1;36m                         \u001b[0m│     }                                                                                  \n",
       "│\u001b[1;36m                         \u001b[0m│   }                                                                                    \n",
       "│\u001b[1;36m                         \u001b[0m│ ]                                                                                      \n",
       "└─────────────────────────┴────────────────────────────────────────────────────────────────────────────────────────\n"
      ]
     },
     "metadata": {},
     "output_type": "display_data"
    },
    {
     "data": {
      "text/html": [
       "<pre style=\"white-space:pre;overflow-x:auto;line-height:normal;font-family:Menlo,'DejaVu Sans Mono',consolas,'Courier New',monospace\"><span style=\"font-style: italic\">                                            Configuration: GHOST_OBSERVABLES                                       </span>\n",
       "┏━━━━━━━━━━━━━━━━━━━━━━┳━━━━━━━━━━━━━━━━━━━━━━━━━━━━━━━━━━━━━━━━━━━━━━━━━━━━━━━━━━━━━━━━━━━━━━━━━━━━━━━━━━━━━━━━━━━\n",
       "┃<span style=\"font-weight: bold\"> Key                  </span>┃<span style=\"font-weight: bold\"> Value                                                                                     </span>\n",
       "┡━━━━━━━━━━━━━━━━━━━━━━╇━━━━━━━━━━━━━━━━━━━━━━━━━━━━━━━━━━━━━━━━━━━━━━━━━━━━━━━━━━━━━━━━━━━━━━━━━━━━━━━━━━━━━━━━━━━\n",
       "│<span style=\"color: #008080; text-decoration-color: #008080; font-weight: bold\"> Items                </span>│ [                                                                                         \n",
       "│<span style=\"color: #008080; text-decoration-color: #008080; font-weight: bold\">                      </span>│   [0]:                                                                                    \n",
       "│<span style=\"color: #008080; text-decoration-color: #008080; font-weight: bold\">                      </span>│ {                                                                                         \n",
       "│<span style=\"color: #008080; text-decoration-color: #008080; font-weight: bold\">                      </span>│     names: ('n_jet', 'leading_jet_mass', 'subleading_jet_mass', 'st',                     \n",
       "│<span style=\"color: #008080; text-decoration-color: #008080; font-weight: bold\">                      </span>│ 'leading_jet_btag_score', 'subleading_jet_btag_score', 'S_zz', 'deltaR', 'pt_rel',        \n",
       "│<span style=\"color: #008080; text-decoration-color: #008080; font-weight: bold\">                      </span>│ 'deltaR_times_pt')                                                                        \n",
       "│<span style=\"color: #008080; text-decoration-color: #008080; font-weight: bold\">                      </span>│     collections: 'mva'                                                                    \n",
       "│<span style=\"color: #008080; text-decoration-color: #008080; font-weight: bold\">                      </span>│     function: Function: get_mva_vars                                                      \n",
       "│<span style=\"color: #008080; text-decoration-color: #008080; font-weight: bold\">                      </span>│     use: [('Muon', None), ('Jet', None)]                                                  \n",
       "│<span style=\"color: #008080; text-decoration-color: #008080; font-weight: bold\">                      </span>│   }                                                                                       \n",
       "│<span style=\"color: #008080; text-decoration-color: #008080; font-weight: bold\">                      </span>│ ]                                                                                         \n",
       "└──────────────────────┴───────────────────────────────────────────────────────────────────────────────────────────\n",
       "</pre>\n"
      ],
      "text/plain": [
       "\u001b[3m                                            Configuration: GHOST_OBSERVABLES                                       \u001b[0m\n",
       "┏━━━━━━━━━━━━━━━━━━━━━━┳━━━━━━━━━━━━━━━━━━━━━━━━━━━━━━━━━━━━━━━━━━━━━━━━━━━━━━━━━━━━━━━━━━━━━━━━━━━━━━━━━━━━━━━━━━━\n",
       "┃\u001b[1m \u001b[0m\u001b[1mKey                 \u001b[0m\u001b[1m \u001b[0m┃\u001b[1m \u001b[0m\u001b[1mValue                                                                                     \u001b[0m\n",
       "┡━━━━━━━━━━━━━━━━━━━━━━╇━━━━━━━━━━━━━━━━━━━━━━━━━━━━━━━━━━━━━━━━━━━━━━━━━━━━━━━━━━━━━━━━━━━━━━━━━━━━━━━━━━━━━━━━━━━\n",
       "│\u001b[1;36m \u001b[0m\u001b[1;36mItems               \u001b[0m\u001b[1;36m \u001b[0m│ [                                                                                         \n",
       "│\u001b[1;36m                      \u001b[0m│   [0]:                                                                                    \n",
       "│\u001b[1;36m                      \u001b[0m│ {                                                                                         \n",
       "│\u001b[1;36m                      \u001b[0m│     names: ('n_jet', 'leading_jet_mass', 'subleading_jet_mass', 'st',                     \n",
       "│\u001b[1;36m                      \u001b[0m│ 'leading_jet_btag_score', 'subleading_jet_btag_score', 'S_zz', 'deltaR', 'pt_rel',        \n",
       "│\u001b[1;36m                      \u001b[0m│ 'deltaR_times_pt')                                                                        \n",
       "│\u001b[1;36m                      \u001b[0m│     collections: 'mva'                                                                    \n",
       "│\u001b[1;36m                      \u001b[0m│     function: Function: get_mva_vars                                                      \n",
       "│\u001b[1;36m                      \u001b[0m│     use: [('Muon', None), ('Jet', None)]                                                  \n",
       "│\u001b[1;36m                      \u001b[0m│   }                                                                                       \n",
       "│\u001b[1;36m                      \u001b[0m│ ]                                                                                         \n",
       "└──────────────────────┴───────────────────────────────────────────────────────────────────────────────────────────\n"
      ]
     },
     "metadata": {},
     "output_type": "display_data"
    },
    {
     "data": {
      "text/html": [
       "<pre style=\"white-space:pre;overflow-x:auto;line-height:normal;font-family:Menlo,'DejaVu Sans Mono',consolas,'Courier New',monospace\"><span style=\"font-style: italic\">                                               Configuration: CORRECTIONS                                          </span>\n",
       "┏━━━━━━━━━━━━━━━━━━━━━━━━━━━━━━━━━━━┳━━━━━━━━━━━━━━━━━━━━━━━━━━━━━━━━━━━━━━━━━━━━━━━━━━━━━━━━━━━━━━━━━━━━━━━━━━━━━━\n",
       "┃<span style=\"font-weight: bold\"> Key                               </span>┃<span style=\"font-weight: bold\"> Value                                                                        </span>\n",
       "┡━━━━━━━━━━━━━━━━━━━━━━━━━━━━━━━━━━━╇━━━━━━━━━━━━━━━━━━━━━━━━━━━━━━━━━━━━━━━━━━━━━━━━━━━━━━━━━━━━━━━━━━━━━━━━━━━━━━\n",
       "│<span style=\"color: #008080; text-decoration-color: #008080; font-weight: bold\"> Items                             </span>│ [                                                                            \n",
       "│<span style=\"color: #008080; text-decoration-color: #008080; font-weight: bold\">                                   </span>│   [0]:                                                                       \n",
       "│<span style=\"color: #008080; text-decoration-color: #008080; font-weight: bold\">                                   </span>│ {                                                                            \n",
       "│<span style=\"color: #008080; text-decoration-color: #008080; font-weight: bold\">                                   </span>│     name: 'pu_weight'                                                        \n",
       "│<span style=\"color: #008080; text-decoration-color: #008080; font-weight: bold\">                                   </span>│     file: 'corrections/puWeights.json.gz'                                    \n",
       "│<span style=\"color: #008080; text-decoration-color: #008080; font-weight: bold\">                                   </span>│     type: 'event'                                                            \n",
       "│<span style=\"color: #008080; text-decoration-color: #008080; font-weight: bold\">                                   </span>│     use: [('Pileup', 'nTrueInt')]                                            \n",
       "│<span style=\"color: #008080; text-decoration-color: #008080; font-weight: bold\">                                   </span>│     op: 'mult'                                                               \n",
       "│<span style=\"color: #008080; text-decoration-color: #008080; font-weight: bold\">                                   </span>│     key: 'Collisions16_UltraLegacy_goldenJSON'                               \n",
       "│<span style=\"color: #008080; text-decoration-color: #008080; font-weight: bold\">                                   </span>│     use_correctionlib: True                                                  \n",
       "│<span style=\"color: #008080; text-decoration-color: #008080; font-weight: bold\">                                   </span>│   }                                                                          \n",
       "│<span style=\"color: #008080; text-decoration-color: #008080; font-weight: bold\">                                   </span>│   [1]:                                                                       \n",
       "│<span style=\"color: #008080; text-decoration-color: #008080; font-weight: bold\">                                   </span>│ {                                                                            \n",
       "│<span style=\"color: #008080; text-decoration-color: #008080; font-weight: bold\">                                   </span>│     name: 'muon_id_sf'                                                       \n",
       "│<span style=\"color: #008080; text-decoration-color: #008080; font-weight: bold\">                                   </span>│     file: 'corrections/muon_Z.json.gz'                                       \n",
       "│<span style=\"color: #008080; text-decoration-color: #008080; font-weight: bold\">                                   </span>│     use: [('Muon', 'eta'), ('Muon', 'pt')]                                   \n",
       "│<span style=\"color: #008080; text-decoration-color: #008080; font-weight: bold\">                                   </span>│     transform: Function: &lt;lambda&gt;                                            \n",
       "│<span style=\"color: #008080; text-decoration-color: #008080; font-weight: bold\">                                   </span>│     type: 'event'                                                            \n",
       "│<span style=\"color: #008080; text-decoration-color: #008080; font-weight: bold\">                                   </span>│     key: 'NUM_TightID_DEN_TrackerMuons'                                      \n",
       "│<span style=\"color: #008080; text-decoration-color: #008080; font-weight: bold\">                                   </span>│     use_correctionlib: True                                                  \n",
       "│<span style=\"color: #008080; text-decoration-color: #008080; font-weight: bold\">                                   </span>│     op: 'mult'                                                               \n",
       "│<span style=\"color: #008080; text-decoration-color: #008080; font-weight: bold\">                                   </span>│     up_and_down_idx: ['systup', 'systdown']                                  \n",
       "│<span style=\"color: #008080; text-decoration-color: #008080; font-weight: bold\">                                   </span>│   }                                                                          \n",
       "│<span style=\"color: #008080; text-decoration-color: #008080; font-weight: bold\">                                   </span>│ ]                                                                            \n",
       "└───────────────────────────────────┴──────────────────────────────────────────────────────────────────────────────\n",
       "</pre>\n"
      ],
      "text/plain": [
       "\u001b[3m                                               Configuration: CORRECTIONS                                          \u001b[0m\n",
       "┏━━━━━━━━━━━━━━━━━━━━━━━━━━━━━━━━━━━┳━━━━━━━━━━━━━━━━━━━━━━━━━━━━━━━━━━━━━━━━━━━━━━━━━━━━━━━━━━━━━━━━━━━━━━━━━━━━━━\n",
       "┃\u001b[1m \u001b[0m\u001b[1mKey                              \u001b[0m\u001b[1m \u001b[0m┃\u001b[1m \u001b[0m\u001b[1mValue                                                                        \u001b[0m\n",
       "┡━━━━━━━━━━━━━━━━━━━━━━━━━━━━━━━━━━━╇━━━━━━━━━━━━━━━━━━━━━━━━━━━━━━━━━━━━━━━━━━━━━━━━━━━━━━━━━━━━━━━━━━━━━━━━━━━━━━\n",
       "│\u001b[1;36m \u001b[0m\u001b[1;36mItems                            \u001b[0m\u001b[1;36m \u001b[0m│ [                                                                            \n",
       "│\u001b[1;36m                                   \u001b[0m│   [0]:                                                                       \n",
       "│\u001b[1;36m                                   \u001b[0m│ {                                                                            \n",
       "│\u001b[1;36m                                   \u001b[0m│     name: 'pu_weight'                                                        \n",
       "│\u001b[1;36m                                   \u001b[0m│     file: 'corrections/puWeights.json.gz'                                    \n",
       "│\u001b[1;36m                                   \u001b[0m│     type: 'event'                                                            \n",
       "│\u001b[1;36m                                   \u001b[0m│     use: [('Pileup', 'nTrueInt')]                                            \n",
       "│\u001b[1;36m                                   \u001b[0m│     op: 'mult'                                                               \n",
       "│\u001b[1;36m                                   \u001b[0m│     key: 'Collisions16_UltraLegacy_goldenJSON'                               \n",
       "│\u001b[1;36m                                   \u001b[0m│     use_correctionlib: True                                                  \n",
       "│\u001b[1;36m                                   \u001b[0m│   }                                                                          \n",
       "│\u001b[1;36m                                   \u001b[0m│   [1]:                                                                       \n",
       "│\u001b[1;36m                                   \u001b[0m│ {                                                                            \n",
       "│\u001b[1;36m                                   \u001b[0m│     name: 'muon_id_sf'                                                       \n",
       "│\u001b[1;36m                                   \u001b[0m│     file: 'corrections/muon_Z.json.gz'                                       \n",
       "│\u001b[1;36m                                   \u001b[0m│     use: [('Muon', 'eta'), ('Muon', 'pt')]                                   \n",
       "│\u001b[1;36m                                   \u001b[0m│     transform: Function: <lambda>                                            \n",
       "│\u001b[1;36m                                   \u001b[0m│     type: 'event'                                                            \n",
       "│\u001b[1;36m                                   \u001b[0m│     key: 'NUM_TightID_DEN_TrackerMuons'                                      \n",
       "│\u001b[1;36m                                   \u001b[0m│     use_correctionlib: True                                                  \n",
       "│\u001b[1;36m                                   \u001b[0m│     op: 'mult'                                                               \n",
       "│\u001b[1;36m                                   \u001b[0m│     up_and_down_idx: ['systup', 'systdown']                                  \n",
       "│\u001b[1;36m                                   \u001b[0m│   }                                                                          \n",
       "│\u001b[1;36m                                   \u001b[0m│ ]                                                                            \n",
       "└───────────────────────────────────┴──────────────────────────────────────────────────────────────────────────────\n"
      ]
     },
     "metadata": {},
     "output_type": "display_data"
    },
    {
     "data": {
      "text/html": [
       "<pre style=\"white-space:pre;overflow-x:auto;line-height:normal;font-family:Menlo,'DejaVu Sans Mono',consolas,'Courier New',monospace\"><span style=\"font-style: italic\">                                               Configuration: SYSTEMATICS                                          </span>\n",
       "┏━━━━━━━━━━━━━━━━━━━━━━━━━━━━━━━━━━━┳━━━━━━━━━━━━━━━━━━━━━━━━━━━━━━━━━━━━━━━━━━━━━━━━━━━━━━━━━━━━━━━━━━━━━━━━━━━━━━\n",
       "┃<span style=\"font-weight: bold\"> Key                               </span>┃<span style=\"font-weight: bold\"> Value                                                                        </span>\n",
       "┡━━━━━━━━━━━━━━━━━━━━━━━━━━━━━━━━━━━╇━━━━━━━━━━━━━━━━━━━━━━━━━━━━━━━━━━━━━━━━━━━━━━━━━━━━━━━━━━━━━━━━━━━━━━━━━━━━━━\n",
       "│<span style=\"color: #008080; text-decoration-color: #008080; font-weight: bold\"> Items                             </span>│ [                                                                            \n",
       "│<span style=\"color: #008080; text-decoration-color: #008080; font-weight: bold\">                                   </span>│   [0]:                                                                       \n",
       "│<span style=\"color: #008080; text-decoration-color: #008080; font-weight: bold\">                                   </span>│ {                                                                            \n",
       "│<span style=\"color: #008080; text-decoration-color: #008080; font-weight: bold\">                                   </span>│     name: 'jet_pt_resolution'                                                \n",
       "│<span style=\"color: #008080; text-decoration-color: #008080; font-weight: bold\">                                   </span>│     up_function: Function: jet_pt_resolution                                 \n",
       "│<span style=\"color: #008080; text-decoration-color: #008080; font-weight: bold\">                                   </span>│     target: ('Jet', 'pt')                                                    \n",
       "│<span style=\"color: #008080; text-decoration-color: #008080; font-weight: bold\">                                   </span>│     use: [('Jet', 'pt')]                                                     \n",
       "│<span style=\"color: #008080; text-decoration-color: #008080; font-weight: bold\">                                   </span>│     symmetrise: True                                                         \n",
       "│<span style=\"color: #008080; text-decoration-color: #008080; font-weight: bold\">                                   </span>│     op: 'mult'                                                               \n",
       "│<span style=\"color: #008080; text-decoration-color: #008080; font-weight: bold\">                                   </span>│     type: 'object'                                                           \n",
       "│<span style=\"color: #008080; text-decoration-color: #008080; font-weight: bold\">                                   </span>│   }                                                                          \n",
       "│<span style=\"color: #008080; text-decoration-color: #008080; font-weight: bold\">                                   </span>│   [1]:                                                                       \n",
       "│<span style=\"color: #008080; text-decoration-color: #008080; font-weight: bold\">                                   </span>│ {                                                                            \n",
       "│<span style=\"color: #008080; text-decoration-color: #008080; font-weight: bold\">                                   </span>│     name: 'jet_pt_scale'                                                     \n",
       "│<span style=\"color: #008080; text-decoration-color: #008080; font-weight: bold\">                                   </span>│     up_function: Function: jet_pt_scale                                      \n",
       "│<span style=\"color: #008080; text-decoration-color: #008080; font-weight: bold\">                                   </span>│     target: ('Jet', 'pt')                                                    \n",
       "│<span style=\"color: #008080; text-decoration-color: #008080; font-weight: bold\">                                   </span>│     symmetrise: True                                                         \n",
       "│<span style=\"color: #008080; text-decoration-color: #008080; font-weight: bold\">                                   </span>│     op: 'mult'                                                               \n",
       "│<span style=\"color: #008080; text-decoration-color: #008080; font-weight: bold\">                                   </span>│     type: 'object'                                                           \n",
       "│<span style=\"color: #008080; text-decoration-color: #008080; font-weight: bold\">                                   </span>│   }                                                                          \n",
       "│<span style=\"color: #008080; text-decoration-color: #008080; font-weight: bold\">                                   </span>│ ]                                                                            \n",
       "└───────────────────────────────────┴──────────────────────────────────────────────────────────────────────────────\n",
       "</pre>\n"
      ],
      "text/plain": [
       "\u001b[3m                                               Configuration: SYSTEMATICS                                          \u001b[0m\n",
       "┏━━━━━━━━━━━━━━━━━━━━━━━━━━━━━━━━━━━┳━━━━━━━━━━━━━━━━━━━━━━━━━━━━━━━━━━━━━━━━━━━━━━━━━━━━━━━━━━━━━━━━━━━━━━━━━━━━━━\n",
       "┃\u001b[1m \u001b[0m\u001b[1mKey                              \u001b[0m\u001b[1m \u001b[0m┃\u001b[1m \u001b[0m\u001b[1mValue                                                                        \u001b[0m\n",
       "┡━━━━━━━━━━━━━━━━━━━━━━━━━━━━━━━━━━━╇━━━━━━━━━━━━━━━━━━━━━━━━━━━━━━━━━━━━━━━━━━━━━━━━━━━━━━━━━━━━━━━━━━━━━━━━━━━━━━\n",
       "│\u001b[1;36m \u001b[0m\u001b[1;36mItems                            \u001b[0m\u001b[1;36m \u001b[0m│ [                                                                            \n",
       "│\u001b[1;36m                                   \u001b[0m│   [0]:                                                                       \n",
       "│\u001b[1;36m                                   \u001b[0m│ {                                                                            \n",
       "│\u001b[1;36m                                   \u001b[0m│     name: 'jet_pt_resolution'                                                \n",
       "│\u001b[1;36m                                   \u001b[0m│     up_function: Function: jet_pt_resolution                                 \n",
       "│\u001b[1;36m                                   \u001b[0m│     target: ('Jet', 'pt')                                                    \n",
       "│\u001b[1;36m                                   \u001b[0m│     use: [('Jet', 'pt')]                                                     \n",
       "│\u001b[1;36m                                   \u001b[0m│     symmetrise: True                                                         \n",
       "│\u001b[1;36m                                   \u001b[0m│     op: 'mult'                                                               \n",
       "│\u001b[1;36m                                   \u001b[0m│     type: 'object'                                                           \n",
       "│\u001b[1;36m                                   \u001b[0m│   }                                                                          \n",
       "│\u001b[1;36m                                   \u001b[0m│   [1]:                                                                       \n",
       "│\u001b[1;36m                                   \u001b[0m│ {                                                                            \n",
       "│\u001b[1;36m                                   \u001b[0m│     name: 'jet_pt_scale'                                                     \n",
       "│\u001b[1;36m                                   \u001b[0m│     up_function: Function: jet_pt_scale                                      \n",
       "│\u001b[1;36m                                   \u001b[0m│     target: ('Jet', 'pt')                                                    \n",
       "│\u001b[1;36m                                   \u001b[0m│     symmetrise: True                                                         \n",
       "│\u001b[1;36m                                   \u001b[0m│     op: 'mult'                                                               \n",
       "│\u001b[1;36m                                   \u001b[0m│     type: 'object'                                                           \n",
       "│\u001b[1;36m                                   \u001b[0m│   }                                                                          \n",
       "│\u001b[1;36m                                   \u001b[0m│ ]                                                                            \n",
       "└───────────────────────────────────┴──────────────────────────────────────────────────────────────────────────────\n"
      ]
     },
     "metadata": {},
     "output_type": "display_data"
    },
    {
     "data": {
      "text/html": [
       "<pre style=\"white-space:pre;overflow-x:auto;line-height:normal;font-family:Menlo,'DejaVu Sans Mono',consolas,'Courier New',monospace\"><span style=\"font-style: italic\">                                               Configuration: STATISTICS                                           </span>\n",
       "┏━━━━━━━━━━━━━━━━━━━━━━━━━━━━━━━━━┳━━━━━━━━━━━━━━━━━━━━━━━━━━━━━━━━━━━━━━━━━━━━━━━━━━━━━━━━━━━━━━━━━━━━━━━━━━━━━━━━\n",
       "┃<span style=\"font-weight: bold\"> Key                             </span>┃<span style=\"font-weight: bold\"> Value                                                                          </span>\n",
       "┡━━━━━━━━━━━━━━━━━━━━━━━━━━━━━━━━━╇━━━━━━━━━━━━━━━━━━━━━━━━━━━━━━━━━━━━━━━━━━━━━━━━━━━━━━━━━━━━━━━━━━━━━━━━━━━━━━━━\n",
       "│<span style=\"color: #008080; text-decoration-color: #008080; font-weight: bold\"> cabinetry_config                </span>│ 'example-demo/outputs/cabinetry/cabinetry_config.yaml'                         \n",
       "└─────────────────────────────────┴────────────────────────────────────────────────────────────────────────────────\n",
       "</pre>\n"
      ],
      "text/plain": [
       "\u001b[3m                                               Configuration: STATISTICS                                           \u001b[0m\n",
       "┏━━━━━━━━━━━━━━━━━━━━━━━━━━━━━━━━━┳━━━━━━━━━━━━━━━━━━━━━━━━━━━━━━━━━━━━━━━━━━━━━━━━━━━━━━━━━━━━━━━━━━━━━━━━━━━━━━━━\n",
       "┃\u001b[1m \u001b[0m\u001b[1mKey                            \u001b[0m\u001b[1m \u001b[0m┃\u001b[1m \u001b[0m\u001b[1mValue                                                                          \u001b[0m\n",
       "┡━━━━━━━━━━━━━━━━━━━━━━━━━━━━━━━━━╇━━━━━━━━━━━━━━━━━━━━━━━━━━━━━━━━━━━━━━━━━━━━━━━━━━━━━━━━━━━━━━━━━━━━━━━━━━━━━━━━\n",
       "│\u001b[1;36m \u001b[0m\u001b[1;36mcabinetry_config               \u001b[0m\u001b[1;36m \u001b[0m│ 'example-demo/outputs/cabinetry/cabinetry_config.yaml'                         \n",
       "└─────────────────────────────────┴────────────────────────────────────────────────────────────────────────────────\n"
      ]
     },
     "metadata": {},
     "output_type": "display_data"
    },
    {
     "data": {
      "text/html": [
       "<pre style=\"white-space:pre;overflow-x:auto;line-height:normal;font-family:Menlo,'DejaVu Sans Mono',consolas,'Courier New',monospace\"><span style=\"font-style: italic\">                                                Configuration: PLOTTING                                            </span>\n",
       "┏━━━━━━━━━━━━━━━━━━━━━━━━━━━━━━━━━━┳━━━━━━━━━━━━━━━━━━━━━━━━━━━━━━━━━━━━━━━━━━━━━━━━━━━━━━━━━━━━━━━━━━━━━━━━━━━━━━━\n",
       "┃<span style=\"font-weight: bold\"> Key                              </span>┃<span style=\"font-weight: bold\"> Value                                                                         </span>\n",
       "┡━━━━━━━━━━━━━━━━━━━━━━━━━━━━━━━━━━╇━━━━━━━━━━━━━━━━━━━━━━━━━━━━━━━━━━━━━━━━━━━━━━━━━━━━━━━━━━━━━━━━━━━━━━━━━━━━━━━\n",
       "│<span style=\"color: #008080; text-decoration-color: #008080; font-weight: bold\"> process_colors                   </span>│ {                                                                             \n",
       "│<span style=\"color: #008080; text-decoration-color: #008080; font-weight: bold\">                                  </span>│   ttbar_semilep: '#907AD6'                                                    \n",
       "│<span style=\"color: #008080; text-decoration-color: #008080; font-weight: bold\">                                  </span>│   signal: '#DABFFF'                                                           \n",
       "│<span style=\"color: #008080; text-decoration-color: #008080; font-weight: bold\">                                  </span>│   ttbar_lep: '#7FDEFF'                                                        \n",
       "│<span style=\"color: #008080; text-decoration-color: #008080; font-weight: bold\">                                  </span>│   ttbar_had: '#2C2A4A'                                                        \n",
       "│<span style=\"color: #008080; text-decoration-color: #008080; font-weight: bold\">                                  </span>│   wjets: '#72A1E5'                                                            \n",
       "│<span style=\"color: #008080; text-decoration-color: #008080; font-weight: bold\">                                  </span>│   ttbar: '#907AD6'                                                            \n",
       "│<span style=\"color: #008080; text-decoration-color: #008080; font-weight: bold\">                                  </span>│ }                                                                             \n",
       "│<span style=\"color: #008080; text-decoration-color: #008080; font-weight: bold\"> process_labels                   </span>│ {                                                                             \n",
       "│<span style=\"color: #008080; text-decoration-color: #008080; font-weight: bold\">                                  </span>│   ttbar_semilep: '$t\\bar{t}\\,\\textrm{(lepton+jets)}$'                         \n",
       "│<span style=\"color: #008080; text-decoration-color: #008080; font-weight: bold\">                                  </span>│   signal: '$Z^{\\prime} \\rightarrow t\\bar{t}$'                                 \n",
       "│<span style=\"color: #008080; text-decoration-color: #008080; font-weight: bold\">                                  </span>│   ttbar_lep: '$t\\bar{t}\\,\\textrm{(leptonic)}$'                                \n",
       "│<span style=\"color: #008080; text-decoration-color: #008080; font-weight: bold\">                                  </span>│   ttbar_had: '$t\\bar{t}\\,\\textrm{(hadronic)}$'                                \n",
       "│<span style=\"color: #008080; text-decoration-color: #008080; font-weight: bold\">                                  </span>│   wjets: '$W+\\textrm{jets}$'                                                  \n",
       "│<span style=\"color: #008080; text-decoration-color: #008080; font-weight: bold\">                                  </span>│   ttbar: '$t\\bar{t}$'                                                         \n",
       "│<span style=\"color: #008080; text-decoration-color: #008080; font-weight: bold\">                                  </span>│ }                                                                             \n",
       "│<span style=\"color: #008080; text-decoration-color: #008080; font-weight: bold\"> process_order                    </span>│ [                                                                             \n",
       "│<span style=\"color: #008080; text-decoration-color: #008080; font-weight: bold\">                                  </span>│   [0]: 'ttbar'                                                                \n",
       "│<span style=\"color: #008080; text-decoration-color: #008080; font-weight: bold\">                                  </span>│   [1]: 'ttbar_had'                                                            \n",
       "│<span style=\"color: #008080; text-decoration-color: #008080; font-weight: bold\">                                  </span>│   [2]: 'ttbar_lep'                                                            \n",
       "│<span style=\"color: #008080; text-decoration-color: #008080; font-weight: bold\">                                  </span>│   [3]: 'ttbar_semilep'                                                        \n",
       "│<span style=\"color: #008080; text-decoration-color: #008080; font-weight: bold\">                                  </span>│   [4]: 'wjets'                                                                \n",
       "│<span style=\"color: #008080; text-decoration-color: #008080; font-weight: bold\">                                  </span>│   [5]: 'signal'                                                               \n",
       "│<span style=\"color: #008080; text-decoration-color: #008080; font-weight: bold\">                                  </span>│ ]                                                                             \n",
       "└──────────────────────────────────┴───────────────────────────────────────────────────────────────────────────────\n",
       "</pre>\n"
      ],
      "text/plain": [
       "\u001b[3m                                                Configuration: PLOTTING                                            \u001b[0m\n",
       "┏━━━━━━━━━━━━━━━━━━━━━━━━━━━━━━━━━━┳━━━━━━━━━━━━━━━━━━━━━━━━━━━━━━━━━━━━━━━━━━━━━━━━━━━━━━━━━━━━━━━━━━━━━━━━━━━━━━━\n",
       "┃\u001b[1m \u001b[0m\u001b[1mKey                             \u001b[0m\u001b[1m \u001b[0m┃\u001b[1m \u001b[0m\u001b[1mValue                                                                         \u001b[0m\n",
       "┡━━━━━━━━━━━━━━━━━━━━━━━━━━━━━━━━━━╇━━━━━━━━━━━━━━━━━━━━━━━━━━━━━━━━━━━━━━━━━━━━━━━━━━━━━━━━━━━━━━━━━━━━━━━━━━━━━━━\n",
       "│\u001b[1;36m \u001b[0m\u001b[1;36mprocess_colors                  \u001b[0m\u001b[1;36m \u001b[0m│ {                                                                             \n",
       "│\u001b[1;36m                                  \u001b[0m│   ttbar_semilep: '#907AD6'                                                    \n",
       "│\u001b[1;36m                                  \u001b[0m│   signal: '#DABFFF'                                                           \n",
       "│\u001b[1;36m                                  \u001b[0m│   ttbar_lep: '#7FDEFF'                                                        \n",
       "│\u001b[1;36m                                  \u001b[0m│   ttbar_had: '#2C2A4A'                                                        \n",
       "│\u001b[1;36m                                  \u001b[0m│   wjets: '#72A1E5'                                                            \n",
       "│\u001b[1;36m                                  \u001b[0m│   ttbar: '#907AD6'                                                            \n",
       "│\u001b[1;36m                                  \u001b[0m│ }                                                                             \n",
       "│\u001b[1;36m \u001b[0m\u001b[1;36mprocess_labels                  \u001b[0m\u001b[1;36m \u001b[0m│ {                                                                             \n",
       "│\u001b[1;36m                                  \u001b[0m│   ttbar_semilep: '$t\\bar{t}\\,\\textrm{(lepton+jets)}$'                         \n",
       "│\u001b[1;36m                                  \u001b[0m│   signal: '$Z^{\\prime} \\rightarrow t\\bar{t}$'                                 \n",
       "│\u001b[1;36m                                  \u001b[0m│   ttbar_lep: '$t\\bar{t}\\,\\textrm{(leptonic)}$'                                \n",
       "│\u001b[1;36m                                  \u001b[0m│   ttbar_had: '$t\\bar{t}\\,\\textrm{(hadronic)}$'                                \n",
       "│\u001b[1;36m                                  \u001b[0m│   wjets: '$W+\\textrm{jets}$'                                                  \n",
       "│\u001b[1;36m                                  \u001b[0m│   ttbar: '$t\\bar{t}$'                                                         \n",
       "│\u001b[1;36m                                  \u001b[0m│ }                                                                             \n",
       "│\u001b[1;36m \u001b[0m\u001b[1;36mprocess_order                   \u001b[0m\u001b[1;36m \u001b[0m│ [                                                                             \n",
       "│\u001b[1;36m                                  \u001b[0m│   [0]: 'ttbar'                                                                \n",
       "│\u001b[1;36m                                  \u001b[0m│   [1]: 'ttbar_had'                                                            \n",
       "│\u001b[1;36m                                  \u001b[0m│   [2]: 'ttbar_lep'                                                            \n",
       "│\u001b[1;36m                                  \u001b[0m│   [3]: 'ttbar_semilep'                                                        \n",
       "│\u001b[1;36m                                  \u001b[0m│   [4]: 'wjets'                                                                \n",
       "│\u001b[1;36m                                  \u001b[0m│   [5]: 'signal'                                                               \n",
       "│\u001b[1;36m                                  \u001b[0m│ ]                                                                             \n",
       "└──────────────────────────────────┴───────────────────────────────────────────────────────────────────────────────\n"
      ]
     },
     "metadata": {},
     "output_type": "display_data"
    },
    {
     "data": {
      "text/html": [
       "<pre style=\"white-space:pre;overflow-x:auto;line-height:normal;font-family:Menlo,'DejaVu Sans Mono',consolas,'Courier New',monospace\"><span style=\"font-style: italic\">                                                Configuration: DATASETS                                            </span>\n",
       "┏━━━━━━━━━━━━━━━━━━━━━━━━━━━━━━━━━┳━━━━━━━━━━━━━━━━━━━━━━━━━━━━━━━━━━━━━━━━━━━━━━━━━━━━━━━━━━━━━━━━━━━━━━━━━━━━━━━━\n",
       "┃<span style=\"font-weight: bold\"> Key                             </span>┃<span style=\"font-weight: bold\"> Value                                                                          </span>\n",
       "┡━━━━━━━━━━━━━━━━━━━━━━━━━━━━━━━━━╇━━━━━━━━━━━━━━━━━━━━━━━━━━━━━━━━━━━━━━━━━━━━━━━━━━━━━━━━━━━━━━━━━━━━━━━━━━━━━━━━\n",
       "│<span style=\"color: #008080; text-decoration-color: #008080; font-weight: bold\"> datasets                        </span>│ [                                                                              \n",
       "│<span style=\"color: #008080; text-decoration-color: #008080; font-weight: bold\">                                 </span>│   [0]:                                                                         \n",
       "│<span style=\"color: #008080; text-decoration-color: #008080; font-weight: bold\">                                 </span>│ {                                                                              \n",
       "│<span style=\"color: #008080; text-decoration-color: #008080; font-weight: bold\">                                 </span>│     name: 'signal'                                                             \n",
       "│<span style=\"color: #008080; text-decoration-color: #008080; font-weight: bold\">                                 </span>│     directory: 'example-demo/datasets/signal/m2000_w20/'                       \n",
       "│<span style=\"color: #008080; text-decoration-color: #008080; font-weight: bold\">                                 </span>│     cross_section: 1.0                                                         \n",
       "│<span style=\"color: #008080; text-decoration-color: #008080; font-weight: bold\">                                 </span>│     file_pattern: '*.txt'                                                      \n",
       "│<span style=\"color: #008080; text-decoration-color: #008080; font-weight: bold\">                                 </span>│     tree_name: 'Events'                                                        \n",
       "│<span style=\"color: #008080; text-decoration-color: #008080; font-weight: bold\">                                 </span>│     weight_branch: 'genWeight'                                                 \n",
       "│<span style=\"color: #008080; text-decoration-color: #008080; font-weight: bold\">                                 </span>│   }                                                                            \n",
       "│<span style=\"color: #008080; text-decoration-color: #008080; font-weight: bold\">                                 </span>│   [1]:                                                                         \n",
       "│<span style=\"color: #008080; text-decoration-color: #008080; font-weight: bold\">                                 </span>│ {                                                                              \n",
       "│<span style=\"color: #008080; text-decoration-color: #008080; font-weight: bold\">                                 </span>│     name: 'ttbar_semilep'                                                      \n",
       "│<span style=\"color: #008080; text-decoration-color: #008080; font-weight: bold\">                                 </span>│     directory: 'example-demo/datasets/ttbar_semilep/'                          \n",
       "│<span style=\"color: #008080; text-decoration-color: #008080; font-weight: bold\">                                 </span>│     cross_section: 364.31088                                                   \n",
       "│<span style=\"color: #008080; text-decoration-color: #008080; font-weight: bold\">                                 </span>│     file_pattern: '*.txt'                                                      \n",
       "│<span style=\"color: #008080; text-decoration-color: #008080; font-weight: bold\">                                 </span>│     tree_name: 'Events'                                                        \n",
       "│<span style=\"color: #008080; text-decoration-color: #008080; font-weight: bold\">                                 </span>│     weight_branch: 'genWeight'                                                 \n",
       "│<span style=\"color: #008080; text-decoration-color: #008080; font-weight: bold\">                                 </span>│   }                                                                            \n",
       "│<span style=\"color: #008080; text-decoration-color: #008080; font-weight: bold\">                                 </span>│   [2]:                                                                         \n",
       "│<span style=\"color: #008080; text-decoration-color: #008080; font-weight: bold\">                                 </span>│ {                                                                              \n",
       "│<span style=\"color: #008080; text-decoration-color: #008080; font-weight: bold\">                                 </span>│     name: 'ttbar_had'                                                          \n",
       "│<span style=\"color: #008080; text-decoration-color: #008080; font-weight: bold\">                                 </span>│     directory: 'example-demo/datasets/ttbar_had/'                              \n",
       "│<span style=\"color: #008080; text-decoration-color: #008080; font-weight: bold\">                                 </span>│     cross_section: 380.11432                                                   \n",
       "│<span style=\"color: #008080; text-decoration-color: #008080; font-weight: bold\">                                 </span>│     file_pattern: '*.txt'                                                      \n",
       "│<span style=\"color: #008080; text-decoration-color: #008080; font-weight: bold\">                                 </span>│     tree_name: 'Events'                                                        \n",
       "│<span style=\"color: #008080; text-decoration-color: #008080; font-weight: bold\">                                 </span>│     weight_branch: 'genWeight'                                                 \n",
       "│<span style=\"color: #008080; text-decoration-color: #008080; font-weight: bold\">                                 </span>│   }                                                                            \n",
       "│<span style=\"color: #008080; text-decoration-color: #008080; font-weight: bold\">                                 </span>│   [3]:                                                                         \n",
       "│<span style=\"color: #008080; text-decoration-color: #008080; font-weight: bold\">                                 </span>│ {                                                                              \n",
       "│<span style=\"color: #008080; text-decoration-color: #008080; font-weight: bold\">                                 </span>│     name: 'ttbar_lep'                                                          \n",
       "│<span style=\"color: #008080; text-decoration-color: #008080; font-weight: bold\">                                 </span>│     directory: 'example-demo/datasets/ttbar_lep/'                              \n",
       "│<span style=\"color: #008080; text-decoration-color: #008080; font-weight: bold\">                                 </span>│     cross_section: 87.3348                                                     \n",
       "│<span style=\"color: #008080; text-decoration-color: #008080; font-weight: bold\">                                 </span>│     file_pattern: '*.txt'                                                      \n",
       "│<span style=\"color: #008080; text-decoration-color: #008080; font-weight: bold\">                                 </span>│     tree_name: 'Events'                                                        \n",
       "│<span style=\"color: #008080; text-decoration-color: #008080; font-weight: bold\">                                 </span>│     weight_branch: 'genWeight'                                                 \n",
       "│<span style=\"color: #008080; text-decoration-color: #008080; font-weight: bold\">                                 </span>│   }                                                                            \n",
       "│<span style=\"color: #008080; text-decoration-color: #008080; font-weight: bold\">                                 </span>│   [4]:                                                                         \n",
       "│<span style=\"color: #008080; text-decoration-color: #008080; font-weight: bold\">                                 </span>│ {                                                                              \n",
       "│<span style=\"color: #008080; text-decoration-color: #008080; font-weight: bold\">                                 </span>│     name: 'wjets'                                                              \n",
       "│<span style=\"color: #008080; text-decoration-color: #008080; font-weight: bold\">                                 </span>│     directory: 'example-demo/datasets/wjets/'                                  \n",
       "│<span style=\"color: #008080; text-decoration-color: #008080; font-weight: bold\">                                 </span>│     cross_section: 61526.7                                                     \n",
       "│<span style=\"color: #008080; text-decoration-color: #008080; font-weight: bold\">                                 </span>│     file_pattern: '*.txt'                                                      \n",
       "│<span style=\"color: #008080; text-decoration-color: #008080; font-weight: bold\">                                 </span>│     tree_name: 'Events'                                                        \n",
       "│<span style=\"color: #008080; text-decoration-color: #008080; font-weight: bold\">                                 </span>│     weight_branch: 'genWeight'                                                 \n",
       "│<span style=\"color: #008080; text-decoration-color: #008080; font-weight: bold\">                                 </span>│   }                                                                            \n",
       "│<span style=\"color: #008080; text-decoration-color: #008080; font-weight: bold\">                                 </span>│   [5]:                                                                         \n",
       "│<span style=\"color: #008080; text-decoration-color: #008080; font-weight: bold\">                                 </span>│ {                                                                              \n",
       "│<span style=\"color: #008080; text-decoration-color: #008080; font-weight: bold\">                                 </span>│     name: 'data'                                                               \n",
       "│<span style=\"color: #008080; text-decoration-color: #008080; font-weight: bold\">                                 </span>│     directory: 'example-demo/datasets/data/'                                   \n",
       "│<span style=\"color: #008080; text-decoration-color: #008080; font-weight: bold\">                                 </span>│     cross_section: 1.0                                                         \n",
       "│<span style=\"color: #008080; text-decoration-color: #008080; font-weight: bold\">                                 </span>│     file_pattern: '*.txt'                                                      \n",
       "│<span style=\"color: #008080; text-decoration-color: #008080; font-weight: bold\">                                 </span>│     tree_name: 'Events'                                                        \n",
       "│<span style=\"color: #008080; text-decoration-color: #008080; font-weight: bold\">                                 </span>│     weight_branch: None                                                        \n",
       "│<span style=\"color: #008080; text-decoration-color: #008080; font-weight: bold\">                                 </span>│   }                                                                            \n",
       "│<span style=\"color: #008080; text-decoration-color: #008080; font-weight: bold\">                                 </span>│ ]                                                                              \n",
       "│<span style=\"color: #008080; text-decoration-color: #008080; font-weight: bold\"> max_files                       </span>│ None                                                                           \n",
       "└─────────────────────────────────┴────────────────────────────────────────────────────────────────────────────────\n",
       "</pre>\n"
      ],
      "text/plain": [
       "\u001b[3m                                                Configuration: DATASETS                                            \u001b[0m\n",
       "┏━━━━━━━━━━━━━━━━━━━━━━━━━━━━━━━━━┳━━━━━━━━━━━━━━━━━━━━━━━━━━━━━━━━━━━━━━━━━━━━━━━━━━━━━━━━━━━━━━━━━━━━━━━━━━━━━━━━\n",
       "┃\u001b[1m \u001b[0m\u001b[1mKey                            \u001b[0m\u001b[1m \u001b[0m┃\u001b[1m \u001b[0m\u001b[1mValue                                                                          \u001b[0m\n",
       "┡━━━━━━━━━━━━━━━━━━━━━━━━━━━━━━━━━╇━━━━━━━━━━━━━━━━━━━━━━━━━━━━━━━━━━━━━━━━━━━━━━━━━━━━━━━━━━━━━━━━━━━━━━━━━━━━━━━━\n",
       "│\u001b[1;36m \u001b[0m\u001b[1;36mdatasets                       \u001b[0m\u001b[1;36m \u001b[0m│ [                                                                              \n",
       "│\u001b[1;36m                                 \u001b[0m│   [0]:                                                                         \n",
       "│\u001b[1;36m                                 \u001b[0m│ {                                                                              \n",
       "│\u001b[1;36m                                 \u001b[0m│     name: 'signal'                                                             \n",
       "│\u001b[1;36m                                 \u001b[0m│     directory: 'example-demo/datasets/signal/m2000_w20/'                       \n",
       "│\u001b[1;36m                                 \u001b[0m│     cross_section: 1.0                                                         \n",
       "│\u001b[1;36m                                 \u001b[0m│     file_pattern: '*.txt'                                                      \n",
       "│\u001b[1;36m                                 \u001b[0m│     tree_name: 'Events'                                                        \n",
       "│\u001b[1;36m                                 \u001b[0m│     weight_branch: 'genWeight'                                                 \n",
       "│\u001b[1;36m                                 \u001b[0m│   }                                                                            \n",
       "│\u001b[1;36m                                 \u001b[0m│   [1]:                                                                         \n",
       "│\u001b[1;36m                                 \u001b[0m│ {                                                                              \n",
       "│\u001b[1;36m                                 \u001b[0m│     name: 'ttbar_semilep'                                                      \n",
       "│\u001b[1;36m                                 \u001b[0m│     directory: 'example-demo/datasets/ttbar_semilep/'                          \n",
       "│\u001b[1;36m                                 \u001b[0m│     cross_section: 364.31088                                                   \n",
       "│\u001b[1;36m                                 \u001b[0m│     file_pattern: '*.txt'                                                      \n",
       "│\u001b[1;36m                                 \u001b[0m│     tree_name: 'Events'                                                        \n",
       "│\u001b[1;36m                                 \u001b[0m│     weight_branch: 'genWeight'                                                 \n",
       "│\u001b[1;36m                                 \u001b[0m│   }                                                                            \n",
       "│\u001b[1;36m                                 \u001b[0m│   [2]:                                                                         \n",
       "│\u001b[1;36m                                 \u001b[0m│ {                                                                              \n",
       "│\u001b[1;36m                                 \u001b[0m│     name: 'ttbar_had'                                                          \n",
       "│\u001b[1;36m                                 \u001b[0m│     directory: 'example-demo/datasets/ttbar_had/'                              \n",
       "│\u001b[1;36m                                 \u001b[0m│     cross_section: 380.11432                                                   \n",
       "│\u001b[1;36m                                 \u001b[0m│     file_pattern: '*.txt'                                                      \n",
       "│\u001b[1;36m                                 \u001b[0m│     tree_name: 'Events'                                                        \n",
       "│\u001b[1;36m                                 \u001b[0m│     weight_branch: 'genWeight'                                                 \n",
       "│\u001b[1;36m                                 \u001b[0m│   }                                                                            \n",
       "│\u001b[1;36m                                 \u001b[0m│   [3]:                                                                         \n",
       "│\u001b[1;36m                                 \u001b[0m│ {                                                                              \n",
       "│\u001b[1;36m                                 \u001b[0m│     name: 'ttbar_lep'                                                          \n",
       "│\u001b[1;36m                                 \u001b[0m│     directory: 'example-demo/datasets/ttbar_lep/'                              \n",
       "│\u001b[1;36m                                 \u001b[0m│     cross_section: 87.3348                                                     \n",
       "│\u001b[1;36m                                 \u001b[0m│     file_pattern: '*.txt'                                                      \n",
       "│\u001b[1;36m                                 \u001b[0m│     tree_name: 'Events'                                                        \n",
       "│\u001b[1;36m                                 \u001b[0m│     weight_branch: 'genWeight'                                                 \n",
       "│\u001b[1;36m                                 \u001b[0m│   }                                                                            \n",
       "│\u001b[1;36m                                 \u001b[0m│   [4]:                                                                         \n",
       "│\u001b[1;36m                                 \u001b[0m│ {                                                                              \n",
       "│\u001b[1;36m                                 \u001b[0m│     name: 'wjets'                                                              \n",
       "│\u001b[1;36m                                 \u001b[0m│     directory: 'example-demo/datasets/wjets/'                                  \n",
       "│\u001b[1;36m                                 \u001b[0m│     cross_section: 61526.7                                                     \n",
       "│\u001b[1;36m                                 \u001b[0m│     file_pattern: '*.txt'                                                      \n",
       "│\u001b[1;36m                                 \u001b[0m│     tree_name: 'Events'                                                        \n",
       "│\u001b[1;36m                                 \u001b[0m│     weight_branch: 'genWeight'                                                 \n",
       "│\u001b[1;36m                                 \u001b[0m│   }                                                                            \n",
       "│\u001b[1;36m                                 \u001b[0m│   [5]:                                                                         \n",
       "│\u001b[1;36m                                 \u001b[0m│ {                                                                              \n",
       "│\u001b[1;36m                                 \u001b[0m│     name: 'data'                                                               \n",
       "│\u001b[1;36m                                 \u001b[0m│     directory: 'example-demo/datasets/data/'                                   \n",
       "│\u001b[1;36m                                 \u001b[0m│     cross_section: 1.0                                                         \n",
       "│\u001b[1;36m                                 \u001b[0m│     file_pattern: '*.txt'                                                      \n",
       "│\u001b[1;36m                                 \u001b[0m│     tree_name: 'Events'                                                        \n",
       "│\u001b[1;36m                                 \u001b[0m│     weight_branch: None                                                        \n",
       "│\u001b[1;36m                                 \u001b[0m│   }                                                                            \n",
       "│\u001b[1;36m                                 \u001b[0m│ ]                                                                              \n",
       "│\u001b[1;36m \u001b[0m\u001b[1;36mmax_files                      \u001b[0m\u001b[1;36m \u001b[0m│ None                                                                           \n",
       "└─────────────────────────────────┴────────────────────────────────────────────────────────────────────────────────\n"
      ]
     },
     "metadata": {},
     "output_type": "display_data"
    }
   ],
   "source": [
    "# Example: Demonstrate configuration comparison and change detection\n",
    "from user.configuration_demo import config as original_config\n",
    "from utils.schema import Config, load_config_with_restricted_cli\n",
    "\n",
    "import copy\n",
    "\n",
    "# Save the original configuration for comparison\n",
    "config = copy.deepcopy(original_config)\n",
    "\n",
    "print(\"=== Full configuration ===\")\n",
    "display_config_table(config, expand=True)"
   ]
  },
  {
   "cell_type": "code",
   "execution_count": 4,
   "id": "69b2f6ae-0fc6-44d4-80ed-1e03ee9c51cf",
   "metadata": {},
   "outputs": [
    {
     "data": {
      "text/html": [
       "<pre style=\"white-space:pre;overflow-x:auto;line-height:normal;font-family:Menlo,'DejaVu Sans Mono',consolas,'Courier New',monospace\"><span style=\"font-style: italic\">                                                Configuration: DATASETS                                            </span>\n",
       "┏━━━━━━━━━━━━━━━━━━━━━━━━━━━━━━━━━┳━━━━━━━━━━━━━━━━━━━━━━━━━━━━━━━━━━━━━━━━━━━━━━━━━━━━━━━━━━━━━━━━━━━━━━━━━━━━━━━━\n",
       "┃<span style=\"font-weight: bold\"> Key                             </span>┃<span style=\"font-weight: bold\"> Value                                                                          </span>\n",
       "┡━━━━━━━━━━━━━━━━━━━━━━━━━━━━━━━━━╇━━━━━━━━━━━━━━━━━━━━━━━━━━━━━━━━━━━━━━━━━━━━━━━━━━━━━━━━━━━━━━━━━━━━━━━━━━━━━━━━\n",
       "│<span style=\"color: #008080; text-decoration-color: #008080; font-weight: bold\"> datasets                        </span>│ [                                                                              \n",
       "│<span style=\"color: #008080; text-decoration-color: #008080; font-weight: bold\">                                 </span>│   [0]:                                                                         \n",
       "│<span style=\"color: #008080; text-decoration-color: #008080; font-weight: bold\">                                 </span>│ {                                                                              \n",
       "│<span style=\"color: #008080; text-decoration-color: #008080; font-weight: bold\">                                 </span>│     name: 'signal'                                                             \n",
       "│<span style=\"color: #008080; text-decoration-color: #008080; font-weight: bold\">                                 </span>│     directory: 'example-demo/datasets/signal/m2000_w20/'                       \n",
       "│<span style=\"color: #008080; text-decoration-color: #008080; font-weight: bold\">                                 </span>│     cross_section: 1.0                                                         \n",
       "│<span style=\"color: #008080; text-decoration-color: #008080; font-weight: bold\">                                 </span>│     file_pattern: '*.txt'                                                      \n",
       "│<span style=\"color: #008080; text-decoration-color: #008080; font-weight: bold\">                                 </span>│     tree_name: 'Events'                                                        \n",
       "│<span style=\"color: #008080; text-decoration-color: #008080; font-weight: bold\">                                 </span>│     weight_branch: 'genWeight'                                                 \n",
       "│<span style=\"color: #008080; text-decoration-color: #008080; font-weight: bold\">                                 </span>│   }                                                                            \n",
       "│<span style=\"color: #008080; text-decoration-color: #008080; font-weight: bold\">                                 </span>│   [1]:                                                                         \n",
       "│<span style=\"color: #008080; text-decoration-color: #008080; font-weight: bold\">                                 </span>│ {                                                                              \n",
       "│<span style=\"color: #008080; text-decoration-color: #008080; font-weight: bold\">                                 </span>│     name: 'ttbar_semilep'                                                      \n",
       "│<span style=\"color: #008080; text-decoration-color: #008080; font-weight: bold\">                                 </span>│     directory: 'example-demo/datasets/ttbar_semilep/'                          \n",
       "│<span style=\"color: #008080; text-decoration-color: #008080; font-weight: bold\">                                 </span>│     cross_section: 364.31088                                                   \n",
       "│<span style=\"color: #008080; text-decoration-color: #008080; font-weight: bold\">                                 </span>│     file_pattern: '*.txt'                                                      \n",
       "│<span style=\"color: #008080; text-decoration-color: #008080; font-weight: bold\">                                 </span>│     tree_name: 'Events'                                                        \n",
       "│<span style=\"color: #008080; text-decoration-color: #008080; font-weight: bold\">                                 </span>│     weight_branch: 'genWeight'                                                 \n",
       "│<span style=\"color: #008080; text-decoration-color: #008080; font-weight: bold\">                                 </span>│   }                                                                            \n",
       "│<span style=\"color: #008080; text-decoration-color: #008080; font-weight: bold\">                                 </span>│   [2]:                                                                         \n",
       "│<span style=\"color: #008080; text-decoration-color: #008080; font-weight: bold\">                                 </span>│ {                                                                              \n",
       "│<span style=\"color: #008080; text-decoration-color: #008080; font-weight: bold\">                                 </span>│     name: 'ttbar_had'                                                          \n",
       "│<span style=\"color: #008080; text-decoration-color: #008080; font-weight: bold\">                                 </span>│     directory: 'example-demo/datasets/ttbar_had/'                              \n",
       "│<span style=\"color: #008080; text-decoration-color: #008080; font-weight: bold\">                                 </span>│     cross_section: 380.11432                                                   \n",
       "│<span style=\"color: #008080; text-decoration-color: #008080; font-weight: bold\">                                 </span>│     file_pattern: '*.txt'                                                      \n",
       "│<span style=\"color: #008080; text-decoration-color: #008080; font-weight: bold\">                                 </span>│     tree_name: 'Events'                                                        \n",
       "│<span style=\"color: #008080; text-decoration-color: #008080; font-weight: bold\">                                 </span>│     weight_branch: 'genWeight'                                                 \n",
       "│<span style=\"color: #008080; text-decoration-color: #008080; font-weight: bold\">                                 </span>│   }                                                                            \n",
       "│<span style=\"color: #008080; text-decoration-color: #008080; font-weight: bold\">                                 </span>│   [3]:                                                                         \n",
       "│<span style=\"color: #008080; text-decoration-color: #008080; font-weight: bold\">                                 </span>│ {                                                                              \n",
       "│<span style=\"color: #008080; text-decoration-color: #008080; font-weight: bold\">                                 </span>│     name: 'ttbar_lep'                                                          \n",
       "│<span style=\"color: #008080; text-decoration-color: #008080; font-weight: bold\">                                 </span>│     directory: 'example-demo/datasets/ttbar_lep/'                              \n",
       "│<span style=\"color: #008080; text-decoration-color: #008080; font-weight: bold\">                                 </span>│     cross_section: 87.3348                                                     \n",
       "│<span style=\"color: #008080; text-decoration-color: #008080; font-weight: bold\">                                 </span>│     file_pattern: '*.txt'                                                      \n",
       "│<span style=\"color: #008080; text-decoration-color: #008080; font-weight: bold\">                                 </span>│     tree_name: 'Events'                                                        \n",
       "│<span style=\"color: #008080; text-decoration-color: #008080; font-weight: bold\">                                 </span>│     weight_branch: 'genWeight'                                                 \n",
       "│<span style=\"color: #008080; text-decoration-color: #008080; font-weight: bold\">                                 </span>│   }                                                                            \n",
       "│<span style=\"color: #008080; text-decoration-color: #008080; font-weight: bold\">                                 </span>│   [4]:                                                                         \n",
       "│<span style=\"color: #008080; text-decoration-color: #008080; font-weight: bold\">                                 </span>│ {                                                                              \n",
       "│<span style=\"color: #008080; text-decoration-color: #008080; font-weight: bold\">                                 </span>│     name: 'wjets'                                                              \n",
       "│<span style=\"color: #008080; text-decoration-color: #008080; font-weight: bold\">                                 </span>│     directory: 'example-demo/datasets/wjets/'                                  \n",
       "│<span style=\"color: #008080; text-decoration-color: #008080; font-weight: bold\">                                 </span>│     cross_section: 61526.7                                                     \n",
       "│<span style=\"color: #008080; text-decoration-color: #008080; font-weight: bold\">                                 </span>│     file_pattern: '*.txt'                                                      \n",
       "│<span style=\"color: #008080; text-decoration-color: #008080; font-weight: bold\">                                 </span>│     tree_name: 'Events'                                                        \n",
       "│<span style=\"color: #008080; text-decoration-color: #008080; font-weight: bold\">                                 </span>│     weight_branch: 'genWeight'                                                 \n",
       "│<span style=\"color: #008080; text-decoration-color: #008080; font-weight: bold\">                                 </span>│   }                                                                            \n",
       "│<span style=\"color: #008080; text-decoration-color: #008080; font-weight: bold\">                                 </span>│   [5]:                                                                         \n",
       "│<span style=\"color: #008080; text-decoration-color: #008080; font-weight: bold\">                                 </span>│ {                                                                              \n",
       "│<span style=\"color: #008080; text-decoration-color: #008080; font-weight: bold\">                                 </span>│     name: 'data'                                                               \n",
       "│<span style=\"color: #008080; text-decoration-color: #008080; font-weight: bold\">                                 </span>│     directory: 'example-demo/datasets/data/'                                   \n",
       "│<span style=\"color: #008080; text-decoration-color: #008080; font-weight: bold\">                                 </span>│     cross_section: 1.0                                                         \n",
       "│<span style=\"color: #008080; text-decoration-color: #008080; font-weight: bold\">                                 </span>│     file_pattern: '*.txt'                                                      \n",
       "│<span style=\"color: #008080; text-decoration-color: #008080; font-weight: bold\">                                 </span>│     tree_name: 'Events'                                                        \n",
       "│<span style=\"color: #008080; text-decoration-color: #008080; font-weight: bold\">                                 </span>│     weight_branch: None                                                        \n",
       "│<span style=\"color: #008080; text-decoration-color: #008080; font-weight: bold\">                                 </span>│   }                                                                            \n",
       "│<span style=\"color: #008080; text-decoration-color: #008080; font-weight: bold\">                                 </span>│ ]                                                                              \n",
       "│<span style=\"color: #008080; text-decoration-color: #008080; font-weight: bold\"> max_files                       </span>│ None                                                                           \n",
       "└─────────────────────────────────┴────────────────────────────────────────────────────────────────────────────────\n",
       "</pre>\n"
      ],
      "text/plain": [
       "\u001b[3m                                                Configuration: DATASETS                                            \u001b[0m\n",
       "┏━━━━━━━━━━━━━━━━━━━━━━━━━━━━━━━━━┳━━━━━━━━━━━━━━━━━━━━━━━━━━━━━━━━━━━━━━━━━━━━━━━━━━━━━━━━━━━━━━━━━━━━━━━━━━━━━━━━\n",
       "┃\u001b[1m \u001b[0m\u001b[1mKey                            \u001b[0m\u001b[1m \u001b[0m┃\u001b[1m \u001b[0m\u001b[1mValue                                                                          \u001b[0m\n",
       "┡━━━━━━━━━━━━━━━━━━━━━━━━━━━━━━━━━╇━━━━━━━━━━━━━━━━━━━━━━━━━━━━━━━━━━━━━━━━━━━━━━━━━━━━━━━━━━━━━━━━━━━━━━━━━━━━━━━━\n",
       "│\u001b[1;36m \u001b[0m\u001b[1;36mdatasets                       \u001b[0m\u001b[1;36m \u001b[0m│ [                                                                              \n",
       "│\u001b[1;36m                                 \u001b[0m│   [0]:                                                                         \n",
       "│\u001b[1;36m                                 \u001b[0m│ {                                                                              \n",
       "│\u001b[1;36m                                 \u001b[0m│     name: 'signal'                                                             \n",
       "│\u001b[1;36m                                 \u001b[0m│     directory: 'example-demo/datasets/signal/m2000_w20/'                       \n",
       "│\u001b[1;36m                                 \u001b[0m│     cross_section: 1.0                                                         \n",
       "│\u001b[1;36m                                 \u001b[0m│     file_pattern: '*.txt'                                                      \n",
       "│\u001b[1;36m                                 \u001b[0m│     tree_name: 'Events'                                                        \n",
       "│\u001b[1;36m                                 \u001b[0m│     weight_branch: 'genWeight'                                                 \n",
       "│\u001b[1;36m                                 \u001b[0m│   }                                                                            \n",
       "│\u001b[1;36m                                 \u001b[0m│   [1]:                                                                         \n",
       "│\u001b[1;36m                                 \u001b[0m│ {                                                                              \n",
       "│\u001b[1;36m                                 \u001b[0m│     name: 'ttbar_semilep'                                                      \n",
       "│\u001b[1;36m                                 \u001b[0m│     directory: 'example-demo/datasets/ttbar_semilep/'                          \n",
       "│\u001b[1;36m                                 \u001b[0m│     cross_section: 364.31088                                                   \n",
       "│\u001b[1;36m                                 \u001b[0m│     file_pattern: '*.txt'                                                      \n",
       "│\u001b[1;36m                                 \u001b[0m│     tree_name: 'Events'                                                        \n",
       "│\u001b[1;36m                                 \u001b[0m│     weight_branch: 'genWeight'                                                 \n",
       "│\u001b[1;36m                                 \u001b[0m│   }                                                                            \n",
       "│\u001b[1;36m                                 \u001b[0m│   [2]:                                                                         \n",
       "│\u001b[1;36m                                 \u001b[0m│ {                                                                              \n",
       "│\u001b[1;36m                                 \u001b[0m│     name: 'ttbar_had'                                                          \n",
       "│\u001b[1;36m                                 \u001b[0m│     directory: 'example-demo/datasets/ttbar_had/'                              \n",
       "│\u001b[1;36m                                 \u001b[0m│     cross_section: 380.11432                                                   \n",
       "│\u001b[1;36m                                 \u001b[0m│     file_pattern: '*.txt'                                                      \n",
       "│\u001b[1;36m                                 \u001b[0m│     tree_name: 'Events'                                                        \n",
       "│\u001b[1;36m                                 \u001b[0m│     weight_branch: 'genWeight'                                                 \n",
       "│\u001b[1;36m                                 \u001b[0m│   }                                                                            \n",
       "│\u001b[1;36m                                 \u001b[0m│   [3]:                                                                         \n",
       "│\u001b[1;36m                                 \u001b[0m│ {                                                                              \n",
       "│\u001b[1;36m                                 \u001b[0m│     name: 'ttbar_lep'                                                          \n",
       "│\u001b[1;36m                                 \u001b[0m│     directory: 'example-demo/datasets/ttbar_lep/'                              \n",
       "│\u001b[1;36m                                 \u001b[0m│     cross_section: 87.3348                                                     \n",
       "│\u001b[1;36m                                 \u001b[0m│     file_pattern: '*.txt'                                                      \n",
       "│\u001b[1;36m                                 \u001b[0m│     tree_name: 'Events'                                                        \n",
       "│\u001b[1;36m                                 \u001b[0m│     weight_branch: 'genWeight'                                                 \n",
       "│\u001b[1;36m                                 \u001b[0m│   }                                                                            \n",
       "│\u001b[1;36m                                 \u001b[0m│   [4]:                                                                         \n",
       "│\u001b[1;36m                                 \u001b[0m│ {                                                                              \n",
       "│\u001b[1;36m                                 \u001b[0m│     name: 'wjets'                                                              \n",
       "│\u001b[1;36m                                 \u001b[0m│     directory: 'example-demo/datasets/wjets/'                                  \n",
       "│\u001b[1;36m                                 \u001b[0m│     cross_section: 61526.7                                                     \n",
       "│\u001b[1;36m                                 \u001b[0m│     file_pattern: '*.txt'                                                      \n",
       "│\u001b[1;36m                                 \u001b[0m│     tree_name: 'Events'                                                        \n",
       "│\u001b[1;36m                                 \u001b[0m│     weight_branch: 'genWeight'                                                 \n",
       "│\u001b[1;36m                                 \u001b[0m│   }                                                                            \n",
       "│\u001b[1;36m                                 \u001b[0m│   [5]:                                                                         \n",
       "│\u001b[1;36m                                 \u001b[0m│ {                                                                              \n",
       "│\u001b[1;36m                                 \u001b[0m│     name: 'data'                                                               \n",
       "│\u001b[1;36m                                 \u001b[0m│     directory: 'example-demo/datasets/data/'                                   \n",
       "│\u001b[1;36m                                 \u001b[0m│     cross_section: 1.0                                                         \n",
       "│\u001b[1;36m                                 \u001b[0m│     file_pattern: '*.txt'                                                      \n",
       "│\u001b[1;36m                                 \u001b[0m│     tree_name: 'Events'                                                        \n",
       "│\u001b[1;36m                                 \u001b[0m│     weight_branch: None                                                        \n",
       "│\u001b[1;36m                                 \u001b[0m│   }                                                                            \n",
       "│\u001b[1;36m                                 \u001b[0m│ ]                                                                              \n",
       "│\u001b[1;36m \u001b[0m\u001b[1;36mmax_files                      \u001b[0m\u001b[1;36m \u001b[0m│ None                                                                           \n",
       "└─────────────────────────────────┴────────────────────────────────────────────────────────────────────────────────\n"
      ]
     },
     "metadata": {},
     "output_type": "display_data"
    },
    {
     "name": "stdout",
     "output_type": "stream",
     "text": [
      "=== SHOW ONLY CHANGES ===\n"
     ]
    },
    {
     "data": {
      "text/html": [
       "<pre style=\"white-space:pre;overflow-x:auto;line-height:normal;font-family:Menlo,'DejaVu Sans Mono',consolas,'Courier New',monospace\"><span style=\"font-style: italic\">                                          Configuration: DATASETS </span><span style=\"color: #808000; text-decoration-color: #808000; font-style: italic\">(1 changes)</span><span style=\"font-style: italic\">                                      </span>\n",
       "┏━━━━━━━━━━━━━━━━━━━━━━━━━━━━┳━━━━━━━━━━━━━━━━━━━━━━━━━━━━━━━━━━━━━━━━━━━━━━━━━━━━━━━━━━━━━━━━━━━━━┳━━━━━━━━━━━━━━━\n",
       "┃<span style=\"font-weight: bold\"> Key                        </span>┃<span style=\"font-weight: bold\"> Value                                                               </span>┃<span style=\"font-weight: bold\">      Status   </span>\n",
       "┡━━━━━━━━━━━━━━━━━━━━━━━━━━━━╇━━━━━━━━━━━━━━━━━━━━━━━━━━━━━━━━━━━━━━━━━━━━━━━━━━━━━━━━━━━━━━━━━━━━━╇━━━━━━━━━━━━━━━\n",
       "│<span style=\"color: #008080; text-decoration-color: #008080; font-weight: bold\"> max_files                  </span>│ 1                                                                   │<span style=\"font-weight: bold\">      </span><span style=\"color: #808000; text-decoration-color: #808000; font-weight: bold\">CHANGED</span><span style=\"font-weight: bold\">  </span>\n",
       "└────────────────────────────┴─────────────────────────────────────────────────────────────────────┴───────────────\n",
       "</pre>\n"
      ],
      "text/plain": [
       "\u001b[3m                                          Configuration: DATASETS \u001b[0m\u001b[3;33m(1 changes)\u001b[0m\u001b[3m                                      \u001b[0m\n",
       "┏━━━━━━━━━━━━━━━━━━━━━━━━━━━━┳━━━━━━━━━━━━━━━━━━━━━━━━━━━━━━━━━━━━━━━━━━━━━━━━━━━━━━━━━━━━━━━━━━━━━┳━━━━━━━━━━━━━━━\n",
       "┃\u001b[1m \u001b[0m\u001b[1mKey                       \u001b[0m\u001b[1m \u001b[0m┃\u001b[1m \u001b[0m\u001b[1mValue                                                              \u001b[0m\u001b[1m \u001b[0m┃\u001b[1m \u001b[0m\u001b[1m     Status   \u001b[0m\n",
       "┡━━━━━━━━━━━━━━━━━━━━━━━━━━━━╇━━━━━━━━━━━━━━━━━━━━━━━━━━━━━━━━━━━━━━━━━━━━━━━━━━━━━━━━━━━━━━━━━━━━━╇━━━━━━━━━━━━━━━\n",
       "│\u001b[1;36m \u001b[0m\u001b[1;36mmax_files                 \u001b[0m\u001b[1;36m \u001b[0m│ 1                                                                   │\u001b[1m \u001b[0m\u001b[1m     \u001b[0m\u001b[1;33mCHANGED\u001b[0m\u001b[1m  \u001b[0m\n",
       "└────────────────────────────┴─────────────────────────────────────────────────────────────────────┴───────────────\n"
      ]
     },
     "metadata": {},
     "output_type": "display_data"
    },
    {
     "name": "stdout",
     "output_type": "stream",
     "text": [
      "✅ Processed CLI arguments and loaded full configuration\n"
     ]
    }
   ],
   "source": [
    "# Let's look at the datasets config\n",
    "display_config_table({\"datasets\": config[\"datasets\"]},\n",
    "                    expand=True)\n",
    "\n",
    "# Make a modification\n",
    "config[\"datasets\"][\"max_files\"] = 1 # Limit to 1 files per dataset\n",
    "\n",
    "print(\"=== SHOW ONLY CHANGES ===\")\n",
    "display_config_table({\"datasets\": config[\"datasets\"]},\n",
    "                    expand=True,\n",
    "                    compare_with={\"datasets\": original_config[\"datasets\"]},\n",
    "                    show_only_changes=True)\n",
    "\n",
    "cli_args = []  # No CLI overrides for this demo\n",
    "full_config = load_config_with_restricted_cli(config, cli_args)\n",
    "\n",
    "print(\"✅ Processed CLI arguments and loaded full configuration\")\n",
    "validated_config = Config(**full_config)  # This is the key validation step!"
   ]
  },
  {
   "cell_type": "markdown",
   "id": "29092ea4",
   "metadata": {},
   "source": [
    "# 3. Output Manager & Directory Structure\n",
    "\n",
    "The framework uses a centralized `OutputDirectoryManager` (`utils/output_manager.py`) to organize all analysis outputs."
   ]
  },
  {
   "cell_type": "code",
   "execution_count": 5,
   "id": "b1c26af2",
   "metadata": {},
   "outputs": [
    {
     "data": {
      "text/html": [
       "<pre style=\"white-space:pre;overflow-x:auto;line-height:normal;font-family:Menlo,'DejaVu Sans Mono',consolas,'Courier New',monospace\"><span style=\"color: #7fbfbf; text-decoration-color: #7fbfbf\">07:07:26 </span><span style=\"color: #000080; text-decoration-color: #000080\">INFO    </span> <span style=\"color: #000000; text-decoration-color: #000000\">Output directory manager initialized with root:                              </span><a href=\"file:///home/cms-jovyan/integration-challenge/cms/utils/output_manager.py\" target=\"_blank\"><span style=\"color: #7f7f7f; text-decoration-color: #7f7f7f\">output_manager.py</span></a><span style=\"color: #7f7f7f; text-decoration-color: #7f7f7f\">:</span><a href=\"file:///home/cms-jovyan/integration-challenge/cms/utils/output_manager.py#73\" target=\"_blank\"><span style=\"color: #7f7f7f; text-decoration-color: #7f7f7f\">73</span></a>\n",
       "<span style=\"color: #7fbfbf; text-decoration-color: #7fbfbf\">         </span>         <span style=\"color: #000000; text-decoration-color: #000000\">/home/cms-jovyan/integration-challenge/cms/example-demo/outputs              </span><span style=\"color: #7f7f7f; text-decoration-color: #7f7f7f\">                    </span>\n",
       "</pre>\n"
      ],
      "text/plain": [
       "\u001b[2;36m07:07:26\u001b[0m\u001b[2;36m \u001b[0m\u001b[34mINFO    \u001b[0m \u001b[39mOutput directory manager initialized with root:                             \u001b[0m\u001b[39m \u001b[0m\u001b]8;id=796343;file:///home/cms-jovyan/integration-challenge/cms/utils/output_manager.py\u001b\\\u001b[2moutput_manager.py\u001b[0m\u001b]8;;\u001b\\\u001b[2m:\u001b[0m\u001b]8;id=1254;file:///home/cms-jovyan/integration-challenge/cms/utils/output_manager.py#73\u001b\\\u001b[2m73\u001b[0m\u001b]8;;\u001b\\\n",
       "\u001b[2;36m         \u001b[0m         \u001b[39m/home/cms-jovyan/integration-challenge/cms/example-demo/\u001b[0m\u001b[39moutputs\u001b[0m\u001b[39m             \u001b[0m\u001b[39m \u001b[0m\u001b[2m                    \u001b[0m\n"
      ]
     },
     "metadata": {},
     "output_type": "display_data"
    },
    {
     "name": "stdout",
     "output_type": "stream",
     "text": [
      "✅ Created OutputDirectoryManager with validated paths\n"
     ]
    }
   ],
   "source": [
    "from utils.output_manager import OutputDirectoryManager\n",
    "\n",
    "output_manager = OutputDirectoryManager(\n",
    "    root_output_dir=validated_config.general.output_dir,\n",
    "    cache_dir=validated_config.general.cache_dir,\n",
    "    metadata_dir=validated_config.general.metadata_dir,\n",
    "    skimmed_dir=validated_config.general.skimmed_dir\n",
    ")\n",
    "\n",
    "print(\"✅ Created OutputDirectoryManager with validated paths\")\n"
   ]
  },
  {
   "cell_type": "markdown",
   "id": "e7fa7bd4",
   "metadata": {},
   "source": [
    "## 4. Metadata Extraction\n",
    "\n",
    "Metadata extraction runs `coffea`'s preprocessor to build analysis workitems, a `coffea`-compatible fileset and a summary of the processed `NanoAOD`s. Its outputs stay in memory, but are also stored in `JSON` files to allow re-runing subsequent steps without pre-processing every time."
   ]
  },
  {
   "cell_type": "code",
   "execution_count": 7,
   "id": "9fb1e349",
   "metadata": {},
   "outputs": [
    {
     "data": {
      "text/html": [
       "<pre style=\"white-space:pre;overflow-x:auto;line-height:normal;font-family:Menlo,'DejaVu Sans Mono',consolas,'Courier New',monospace\"><span style=\"color: #7fbfbf; text-decoration-color: #7fbfbf\">         </span><span style=\"color: #000080; text-decoration-color: #000080\">INFO    </span> <span style=\"color: #000000; text-decoration-color: #000000\">Initialized dataset manager with </span><span style=\"color: #008080; text-decoration-color: #008080; font-weight: bold\">6</span><span style=\"color: #000000; text-decoration-color: #000000\"> datasets                                        </span><a href=\"file:///home/cms-jovyan/integration-challenge/cms/utils/datasets.py\" target=\"_blank\"><span style=\"color: #7f7f7f; text-decoration-color: #7f7f7f\">datasets.py</span></a><span style=\"color: #7f7f7f; text-decoration-color: #7f7f7f\">:</span><a href=\"file:///home/cms-jovyan/integration-challenge/cms/utils/datasets.py#38\" target=\"_blank\"><span style=\"color: #7f7f7f; text-decoration-color: #7f7f7f\">38</span></a>\n",
       "</pre>\n"
      ],
      "text/plain": [
       "\u001b[2;36m        \u001b[0m\u001b[2;36m \u001b[0m\u001b[34mINFO    \u001b[0m \u001b[39mInitialized dataset manager with \u001b[0m\u001b[1;36m6\u001b[0m\u001b[39m datasets                                       \u001b[0m\u001b[39m \u001b[0m\u001b]8;id=269584;file:///home/cms-jovyan/integration-challenge/cms/utils/datasets.py\u001b\\\u001b[2mdatasets.py\u001b[0m\u001b]8;;\u001b\\\u001b[2m:\u001b[0m\u001b]8;id=837916;file:///home/cms-jovyan/integration-challenge/cms/utils/datasets.py#38\u001b\\\u001b[2m38\u001b[0m\u001b]8;;\u001b\\\n"
      ]
     },
     "metadata": {},
     "output_type": "display_data"
    },
    {
     "data": {
      "text/html": [
       "<pre style=\"white-space:pre;overflow-x:auto;line-height:normal;font-family:Menlo,'DejaVu Sans Mono',consolas,'Courier New',monospace\"><span style=\"color: #7fbfbf; text-decoration-color: #7fbfbf\">07:07:27 </span><span style=\"color: #000080; text-decoration-color: #000080\">INFO    </span> <span style=\"color: #000000; text-decoration-color: #000000\">Starting metadata generation workflow</span><span style=\"color: #808000; text-decoration-color: #808000\">...</span><span style=\"color: #000000; text-decoration-color: #000000\">                                </span><a href=\"file:///home/cms-jovyan/integration-challenge/cms/utils/metadata_extractor.py\" target=\"_blank\"><span style=\"color: #7f7f7f; text-decoration-color: #7f7f7f\">metadata_extractor.py</span></a><span style=\"color: #7f7f7f; text-decoration-color: #7f7f7f\">:</span><a href=\"file:///home/cms-jovyan/integration-challenge/cms/utils/metadata_extractor.py#415\" target=\"_blank\"><span style=\"color: #7f7f7f; text-decoration-color: #7f7f7f\">415</span></a>\n",
       "</pre>\n"
      ],
      "text/plain": [
       "\u001b[2;36m07:07:27\u001b[0m\u001b[2;36m \u001b[0m\u001b[34mINFO    \u001b[0m \u001b[39mStarting metadata generation workflow\u001b[0m\u001b[33m...\u001b[0m\u001b[39m                               \u001b[0m\u001b[39m \u001b[0m\u001b]8;id=688932;file:///home/cms-jovyan/integration-challenge/cms/utils/metadata_extractor.py\u001b\\\u001b[2mmetadata_extractor.py\u001b[0m\u001b]8;;\u001b\\\u001b[2m:\u001b[0m\u001b]8;id=24847;file:///home/cms-jovyan/integration-challenge/cms/utils/metadata_extractor.py#415\u001b\\\u001b[2m415\u001b[0m\u001b]8;;\u001b\\\n"
      ]
     },
     "metadata": {},
     "output_type": "display_data"
    },
    {
     "data": {
      "text/html": [
       "<pre style=\"white-space:pre;overflow-x:auto;line-height:normal;font-family:Menlo,'DejaVu Sans Mono',consolas,'Courier New',monospace\"><span style=\"color: #7fbfbf; text-decoration-color: #7fbfbf\">         </span><span style=\"color: #000080; text-decoration-color: #000080\">INFO    </span> <span style=\"color: #000000; text-decoration-color: #000000\">Building fileset for process: signal                                    </span><a href=\"file:///home/cms-jovyan/integration-challenge/cms/utils/metadata_extractor.py\" target=\"_blank\"><span style=\"color: #7f7f7f; text-decoration-color: #7f7f7f\">metadata_extractor.py</span></a><span style=\"color: #7f7f7f; text-decoration-color: #7f7f7f\">:</span><a href=\"file:///home/cms-jovyan/integration-challenge/cms/utils/metadata_extractor.py#165\" target=\"_blank\"><span style=\"color: #7f7f7f; text-decoration-color: #7f7f7f\">165</span></a>\n",
       "</pre>\n"
      ],
      "text/plain": [
       "\u001b[2;36m        \u001b[0m\u001b[2;36m \u001b[0m\u001b[34mINFO    \u001b[0m \u001b[39mBuilding fileset for process: signal                                   \u001b[0m\u001b[39m \u001b[0m\u001b]8;id=307741;file:///home/cms-jovyan/integration-challenge/cms/utils/metadata_extractor.py\u001b\\\u001b[2mmetadata_extractor.py\u001b[0m\u001b]8;;\u001b\\\u001b[2m:\u001b[0m\u001b]8;id=942109;file:///home/cms-jovyan/integration-challenge/cms/utils/metadata_extractor.py#165\u001b\\\u001b[2m165\u001b[0m\u001b]8;;\u001b\\\n"
      ]
     },
     "metadata": {},
     "output_type": "display_data"
    },
    {
     "data": {
      "text/html": [
       "<pre style=\"white-space:pre;overflow-x:auto;line-height:normal;font-family:Menlo,'DejaVu Sans Mono',consolas,'Courier New',monospace\"><span style=\"color: #7fbfbf; text-decoration-color: #7fbfbf\">         </span><span style=\"color: #000080; text-decoration-color: #000080\">INFO    </span> <span style=\"color: #000000; text-decoration-color: #000000\">Building fileset for process: ttbar_semilep                             </span><a href=\"file:///home/cms-jovyan/integration-challenge/cms/utils/metadata_extractor.py\" target=\"_blank\"><span style=\"color: #7f7f7f; text-decoration-color: #7f7f7f\">metadata_extractor.py</span></a><span style=\"color: #7f7f7f; text-decoration-color: #7f7f7f\">:</span><a href=\"file:///home/cms-jovyan/integration-challenge/cms/utils/metadata_extractor.py#165\" target=\"_blank\"><span style=\"color: #7f7f7f; text-decoration-color: #7f7f7f\">165</span></a>\n",
       "</pre>\n"
      ],
      "text/plain": [
       "\u001b[2;36m        \u001b[0m\u001b[2;36m \u001b[0m\u001b[34mINFO    \u001b[0m \u001b[39mBuilding fileset for process: ttbar_semilep                            \u001b[0m\u001b[39m \u001b[0m\u001b]8;id=882039;file:///home/cms-jovyan/integration-challenge/cms/utils/metadata_extractor.py\u001b\\\u001b[2mmetadata_extractor.py\u001b[0m\u001b]8;;\u001b\\\u001b[2m:\u001b[0m\u001b]8;id=821423;file:///home/cms-jovyan/integration-challenge/cms/utils/metadata_extractor.py#165\u001b\\\u001b[2m165\u001b[0m\u001b]8;;\u001b\\\n"
      ]
     },
     "metadata": {},
     "output_type": "display_data"
    },
    {
     "data": {
      "text/html": [
       "<pre style=\"white-space:pre;overflow-x:auto;line-height:normal;font-family:Menlo,'DejaVu Sans Mono',consolas,'Courier New',monospace\"><span style=\"color: #7fbfbf; text-decoration-color: #7fbfbf\">         </span><span style=\"color: #000080; text-decoration-color: #000080\">INFO    </span> <span style=\"color: #000000; text-decoration-color: #000000\">Building fileset for process: ttbar_had                                 </span><a href=\"file:///home/cms-jovyan/integration-challenge/cms/utils/metadata_extractor.py\" target=\"_blank\"><span style=\"color: #7f7f7f; text-decoration-color: #7f7f7f\">metadata_extractor.py</span></a><span style=\"color: #7f7f7f; text-decoration-color: #7f7f7f\">:</span><a href=\"file:///home/cms-jovyan/integration-challenge/cms/utils/metadata_extractor.py#165\" target=\"_blank\"><span style=\"color: #7f7f7f; text-decoration-color: #7f7f7f\">165</span></a>\n",
       "</pre>\n"
      ],
      "text/plain": [
       "\u001b[2;36m        \u001b[0m\u001b[2;36m \u001b[0m\u001b[34mINFO    \u001b[0m \u001b[39mBuilding fileset for process: ttbar_had                                \u001b[0m\u001b[39m \u001b[0m\u001b]8;id=399293;file:///home/cms-jovyan/integration-challenge/cms/utils/metadata_extractor.py\u001b\\\u001b[2mmetadata_extractor.py\u001b[0m\u001b]8;;\u001b\\\u001b[2m:\u001b[0m\u001b]8;id=29414;file:///home/cms-jovyan/integration-challenge/cms/utils/metadata_extractor.py#165\u001b\\\u001b[2m165\u001b[0m\u001b]8;;\u001b\\\n"
      ]
     },
     "metadata": {},
     "output_type": "display_data"
    },
    {
     "data": {
      "text/html": [
       "<pre style=\"white-space:pre;overflow-x:auto;line-height:normal;font-family:Menlo,'DejaVu Sans Mono',consolas,'Courier New',monospace\"><span style=\"color: #7fbfbf; text-decoration-color: #7fbfbf\">         </span><span style=\"color: #000080; text-decoration-color: #000080\">INFO    </span> <span style=\"color: #000000; text-decoration-color: #000000\">Building fileset for process: ttbar_lep                                 </span><a href=\"file:///home/cms-jovyan/integration-challenge/cms/utils/metadata_extractor.py\" target=\"_blank\"><span style=\"color: #7f7f7f; text-decoration-color: #7f7f7f\">metadata_extractor.py</span></a><span style=\"color: #7f7f7f; text-decoration-color: #7f7f7f\">:</span><a href=\"file:///home/cms-jovyan/integration-challenge/cms/utils/metadata_extractor.py#165\" target=\"_blank\"><span style=\"color: #7f7f7f; text-decoration-color: #7f7f7f\">165</span></a>\n",
       "</pre>\n"
      ],
      "text/plain": [
       "\u001b[2;36m        \u001b[0m\u001b[2;36m \u001b[0m\u001b[34mINFO    \u001b[0m \u001b[39mBuilding fileset for process: ttbar_lep                                \u001b[0m\u001b[39m \u001b[0m\u001b]8;id=927263;file:///home/cms-jovyan/integration-challenge/cms/utils/metadata_extractor.py\u001b\\\u001b[2mmetadata_extractor.py\u001b[0m\u001b]8;;\u001b\\\u001b[2m:\u001b[0m\u001b]8;id=231193;file:///home/cms-jovyan/integration-challenge/cms/utils/metadata_extractor.py#165\u001b\\\u001b[2m165\u001b[0m\u001b]8;;\u001b\\\n"
      ]
     },
     "metadata": {},
     "output_type": "display_data"
    },
    {
     "data": {
      "text/html": [
       "<pre style=\"white-space:pre;overflow-x:auto;line-height:normal;font-family:Menlo,'DejaVu Sans Mono',consolas,'Courier New',monospace\"><span style=\"color: #7fbfbf; text-decoration-color: #7fbfbf\">         </span><span style=\"color: #000080; text-decoration-color: #000080\">INFO    </span> <span style=\"color: #000000; text-decoration-color: #000000\">Building fileset for process: wjets                                     </span><a href=\"file:///home/cms-jovyan/integration-challenge/cms/utils/metadata_extractor.py\" target=\"_blank\"><span style=\"color: #7f7f7f; text-decoration-color: #7f7f7f\">metadata_extractor.py</span></a><span style=\"color: #7f7f7f; text-decoration-color: #7f7f7f\">:</span><a href=\"file:///home/cms-jovyan/integration-challenge/cms/utils/metadata_extractor.py#165\" target=\"_blank\"><span style=\"color: #7f7f7f; text-decoration-color: #7f7f7f\">165</span></a>\n",
       "</pre>\n"
      ],
      "text/plain": [
       "\u001b[2;36m        \u001b[0m\u001b[2;36m \u001b[0m\u001b[34mINFO    \u001b[0m \u001b[39mBuilding fileset for process: wjets                                    \u001b[0m\u001b[39m \u001b[0m\u001b]8;id=729601;file:///home/cms-jovyan/integration-challenge/cms/utils/metadata_extractor.py\u001b\\\u001b[2mmetadata_extractor.py\u001b[0m\u001b]8;;\u001b\\\u001b[2m:\u001b[0m\u001b]8;id=13083;file:///home/cms-jovyan/integration-challenge/cms/utils/metadata_extractor.py#165\u001b\\\u001b[2m165\u001b[0m\u001b]8;;\u001b\\\n"
      ]
     },
     "metadata": {},
     "output_type": "display_data"
    },
    {
     "data": {
      "text/html": [
       "<pre style=\"white-space:pre;overflow-x:auto;line-height:normal;font-family:Menlo,'DejaVu Sans Mono',consolas,'Courier New',monospace\"><span style=\"color: #7fbfbf; text-decoration-color: #7fbfbf\">         </span><span style=\"color: #000080; text-decoration-color: #000080\">INFO    </span> <span style=\"color: #000000; text-decoration-color: #000000\">Building fileset for process: data                                      </span><a href=\"file:///home/cms-jovyan/integration-challenge/cms/utils/metadata_extractor.py\" target=\"_blank\"><span style=\"color: #7f7f7f; text-decoration-color: #7f7f7f\">metadata_extractor.py</span></a><span style=\"color: #7f7f7f; text-decoration-color: #7f7f7f\">:</span><a href=\"file:///home/cms-jovyan/integration-challenge/cms/utils/metadata_extractor.py#165\" target=\"_blank\"><span style=\"color: #7f7f7f; text-decoration-color: #7f7f7f\">165</span></a>\n",
       "</pre>\n"
      ],
      "text/plain": [
       "\u001b[2;36m        \u001b[0m\u001b[2;36m \u001b[0m\u001b[34mINFO    \u001b[0m \u001b[39mBuilding fileset for process: data                                     \u001b[0m\u001b[39m \u001b[0m\u001b]8;id=785611;file:///home/cms-jovyan/integration-challenge/cms/utils/metadata_extractor.py\u001b\\\u001b[2mmetadata_extractor.py\u001b[0m\u001b]8;;\u001b\\\u001b[2m:\u001b[0m\u001b]8;id=658005;file:///home/cms-jovyan/integration-challenge/cms/utils/metadata_extractor.py#165\u001b\\\u001b[2m165\u001b[0m\u001b]8;;\u001b\\\n"
      ]
     },
     "metadata": {},
     "output_type": "display_data"
    },
    {
     "data": {
      "text/html": [
       "<pre style=\"white-space:pre;overflow-x:auto;line-height:normal;font-family:Menlo,'DejaVu Sans Mono',consolas,'Courier New',monospace\"><span style=\"color: #7fbfbf; text-decoration-color: #7fbfbf\">         </span><span style=\"color: #000080; text-decoration-color: #000080\">INFO    </span> <span style=\"color: #000000; text-decoration-color: #000000\">Fileset JSON saved to                                                   </span><a href=\"file:///home/cms-jovyan/integration-challenge/cms/utils/metadata_extractor.py\" target=\"_blank\"><span style=\"color: #7f7f7f; text-decoration-color: #7f7f7f\">metadata_extractor.py</span></a><span style=\"color: #7f7f7f; text-decoration-color: #7f7f7f\">:</span><a href=\"file:///home/cms-jovyan/integration-challenge/cms/utils/metadata_extractor.py#228\" target=\"_blank\"><span style=\"color: #7f7f7f; text-decoration-color: #7f7f7f\">228</span></a>\n",
       "<span style=\"color: #7fbfbf; text-decoration-color: #7fbfbf\">         </span>         <span style=\"color: #000000; text-decoration-color: #000000\">/home/cms-jovyan/integration-challenge/cms/example-demo/outputs/metadat </span><span style=\"color: #7f7f7f; text-decoration-color: #7f7f7f\">                         </span>\n",
       "<span style=\"color: #7fbfbf; text-decoration-color: #7fbfbf\">         </span>         <span style=\"color: #000000; text-decoration-color: #000000\">a/fileset.json                                                          </span><span style=\"color: #7f7f7f; text-decoration-color: #7f7f7f\">                         </span>\n",
       "</pre>\n"
      ],
      "text/plain": [
       "\u001b[2;36m        \u001b[0m\u001b[2;36m \u001b[0m\u001b[34mINFO    \u001b[0m \u001b[39mFileset JSON saved to                                                  \u001b[0m\u001b[39m \u001b[0m\u001b]8;id=410511;file:///home/cms-jovyan/integration-challenge/cms/utils/metadata_extractor.py\u001b\\\u001b[2mmetadata_extractor.py\u001b[0m\u001b]8;;\u001b\\\u001b[2m:\u001b[0m\u001b]8;id=416743;file:///home/cms-jovyan/integration-challenge/cms/utils/metadata_extractor.py#228\u001b\\\u001b[2m228\u001b[0m\u001b]8;;\u001b\\\n",
       "\u001b[2;36m         \u001b[0m         \u001b[39m/home/cms-jovyan/integration-challenge/cms/example-demo/outputs/metadat\u001b[0m\u001b[39m \u001b[0m\u001b[2m                         \u001b[0m\n",
       "\u001b[2;36m         \u001b[0m         \u001b[39ma/\u001b[0m\u001b[39mfileset.json\u001b[0m\u001b[39m                                                         \u001b[0m\u001b[39m \u001b[0m\u001b[2m                         \u001b[0m\n"
      ]
     },
     "metadata": {},
     "output_type": "display_data"
    },
    {
     "data": {
      "text/html": [
       "<pre style=\"white-space:pre;overflow-x:auto;line-height:normal;font-family:Menlo,'DejaVu Sans Mono',consolas,'Courier New',monospace\"><span style=\"color: #7fbfbf; text-decoration-color: #7fbfbf\">         </span><span style=\"color: #000080; text-decoration-color: #000080\">INFO    </span> <span style=\"color: #000000; text-decoration-color: #000000\">Extracting metadata using coffea.dataset_tools.preprocess               </span><a href=\"file:///home/cms-jovyan/integration-challenge/cms/utils/metadata_extractor.py\" target=\"_blank\"><span style=\"color: #7f7f7f; text-decoration-color: #7f7f7f\">metadata_extractor.py</span></a><span style=\"color: #7f7f7f; text-decoration-color: #7f7f7f\">:</span><a href=\"file:///home/cms-jovyan/integration-challenge/cms/utils/metadata_extractor.py#292\" target=\"_blank\"><span style=\"color: #7f7f7f; text-decoration-color: #7f7f7f\">292</span></a>\n",
       "</pre>\n"
      ],
      "text/plain": [
       "\u001b[2;36m        \u001b[0m\u001b[2;36m \u001b[0m\u001b[34mINFO    \u001b[0m \u001b[39mExtracting metadata using coffea.dataset_tools.preprocess              \u001b[0m\u001b[39m \u001b[0m\u001b]8;id=451265;file:///home/cms-jovyan/integration-challenge/cms/utils/metadata_extractor.py\u001b\\\u001b[2mmetadata_extractor.py\u001b[0m\u001b]8;;\u001b\\\u001b[2m:\u001b[0m\u001b]8;id=531220;file:///home/cms-jovyan/integration-challenge/cms/utils/metadata_extractor.py#292\u001b\\\u001b[2m292\u001b[0m\u001b]8;;\u001b\\\n"
      ]
     },
     "metadata": {},
     "output_type": "display_data"
    },
    {
     "data": {
      "application/vnd.jupyter.widget-view+json": {
       "model_id": "268fb77b15274fc48363d08e621e8788",
       "version_major": 2,
       "version_minor": 0
      },
      "text/plain": [
       "Output()"
      ]
     },
     "metadata": {},
     "output_type": "display_data"
    },
    {
     "data": {
      "text/html": [
       "<pre style=\"white-space:pre;overflow-x:auto;line-height:normal;font-family:Menlo,'DejaVu Sans Mono',consolas,'Courier New',monospace\"></pre>\n"
      ],
      "text/plain": []
     },
     "metadata": {},
     "output_type": "display_data"
    },
    {
     "data": {
      "text/html": [
       "<pre style=\"white-space:pre;overflow-x:auto;line-height:normal;font-family:Menlo,'DejaVu Sans Mono',consolas,'Courier New',monospace\"><span style=\"color: #7fbfbf; text-decoration-color: #7fbfbf\">07:07:43 </span><span style=\"color: #000080; text-decoration-color: #000080\">INFO    </span> <span style=\"color: #000000; text-decoration-color: #000000\">WorkItems metadata saved to                                             </span><a href=\"file:///home/cms-jovyan/integration-challenge/cms/utils/metadata_extractor.py\" target=\"_blank\"><span style=\"color: #7f7f7f; text-decoration-color: #7f7f7f\">metadata_extractor.py</span></a><span style=\"color: #7f7f7f; text-decoration-color: #7f7f7f\">:</span><a href=\"file:///home/cms-jovyan/integration-challenge/cms/utils/metadata_extractor.py#716\" target=\"_blank\"><span style=\"color: #7f7f7f; text-decoration-color: #7f7f7f\">716</span></a>\n",
       "<span style=\"color: #7fbfbf; text-decoration-color: #7fbfbf\">         </span>         <span style=\"color: #000000; text-decoration-color: #000000\">/home/cms-jovyan/integration-challenge/cms/example-demo/outputs/metadat </span><span style=\"color: #7f7f7f; text-decoration-color: #7f7f7f\">                         </span>\n",
       "<span style=\"color: #7fbfbf; text-decoration-color: #7fbfbf\">         </span>         <span style=\"color: #000000; text-decoration-color: #000000\">a/workitems.json                                                        </span><span style=\"color: #7f7f7f; text-decoration-color: #7f7f7f\">                         </span>\n",
       "</pre>\n"
      ],
      "text/plain": [
       "\u001b[2;36m07:07:43\u001b[0m\u001b[2;36m \u001b[0m\u001b[34mINFO    \u001b[0m \u001b[39mWorkItems metadata saved to                                            \u001b[0m\u001b[39m \u001b[0m\u001b]8;id=512051;file:///home/cms-jovyan/integration-challenge/cms/utils/metadata_extractor.py\u001b\\\u001b[2mmetadata_extractor.py\u001b[0m\u001b]8;;\u001b\\\u001b[2m:\u001b[0m\u001b]8;id=436260;file:///home/cms-jovyan/integration-challenge/cms/utils/metadata_extractor.py#716\u001b\\\u001b[2m716\u001b[0m\u001b]8;;\u001b\\\n",
       "\u001b[2;36m         \u001b[0m         \u001b[39m/home/cms-jovyan/integration-challenge/cms/example-demo/outputs/metadat\u001b[0m\u001b[39m \u001b[0m\u001b[2m                         \u001b[0m\n",
       "\u001b[2;36m         \u001b[0m         \u001b[39ma/\u001b[0m\u001b[39mworkitems.json\u001b[0m\u001b[39m                                                       \u001b[0m\u001b[39m \u001b[0m\u001b[2m                         \u001b[0m\n"
      ]
     },
     "metadata": {},
     "output_type": "display_data"
    },
    {
     "data": {
      "text/html": [
       "<pre style=\"white-space:pre;overflow-x:auto;line-height:normal;font-family:Menlo,'DejaVu Sans Mono',consolas,'Courier New',monospace\"><span style=\"color: #7fbfbf; text-decoration-color: #7fbfbf\">         </span><span style=\"color: #000080; text-decoration-color: #000080\">INFO    </span> <span style=\"color: #000000; text-decoration-color: #000000\">NanoAODs summary generated.                                             </span><a href=\"file:///home/cms-jovyan/integration-challenge/cms/utils/metadata_extractor.py\" target=\"_blank\"><span style=\"color: #7f7f7f; text-decoration-color: #7f7f7f\">metadata_extractor.py</span></a><span style=\"color: #7f7f7f; text-decoration-color: #7f7f7f\">:</span><a href=\"file:///home/cms-jovyan/integration-challenge/cms/utils/metadata_extractor.py#555\" target=\"_blank\"><span style=\"color: #7f7f7f; text-decoration-color: #7f7f7f\">555</span></a>\n",
       "</pre>\n"
      ],
      "text/plain": [
       "\u001b[2;36m        \u001b[0m\u001b[2;36m \u001b[0m\u001b[34mINFO    \u001b[0m \u001b[39mNanoAODs summary generated.                                            \u001b[0m\u001b[39m \u001b[0m\u001b]8;id=880829;file:///home/cms-jovyan/integration-challenge/cms/utils/metadata_extractor.py\u001b\\\u001b[2mmetadata_extractor.py\u001b[0m\u001b]8;;\u001b\\\u001b[2m:\u001b[0m\u001b]8;id=577436;file:///home/cms-jovyan/integration-challenge/cms/utils/metadata_extractor.py#555\u001b\\\u001b[2m555\u001b[0m\u001b]8;;\u001b\\\n"
      ]
     },
     "metadata": {},
     "output_type": "display_data"
    },
    {
     "data": {
      "text/html": [
       "<pre style=\"white-space:pre;overflow-x:auto;line-height:normal;font-family:Menlo,'DejaVu Sans Mono',consolas,'Courier New',monospace\"><span style=\"color: #7fbfbf; text-decoration-color: #7fbfbf\">         </span><span style=\"color: #000080; text-decoration-color: #000080\">INFO    </span> <span style=\"color: #000000; text-decoration-color: #000000\">NanoAODs summary written to                                             </span><a href=\"file:///home/cms-jovyan/integration-challenge/cms/utils/metadata_extractor.py\" target=\"_blank\"><span style=\"color: #7f7f7f; text-decoration-color: #7f7f7f\">metadata_extractor.py</span></a><span style=\"color: #7f7f7f; text-decoration-color: #7f7f7f\">:</span><a href=\"file:///home/cms-jovyan/integration-challenge/cms/utils/metadata_extractor.py#487\" target=\"_blank\"><span style=\"color: #7f7f7f; text-decoration-color: #7f7f7f\">487</span></a>\n",
       "<span style=\"color: #7fbfbf; text-decoration-color: #7fbfbf\">         </span>         <span style=\"color: #000000; text-decoration-color: #000000\">/home/cms-jovyan/integration-challenge/cms/example-demo/outputs/metadat </span><span style=\"color: #7f7f7f; text-decoration-color: #7f7f7f\">                         </span>\n",
       "<span style=\"color: #7fbfbf; text-decoration-color: #7fbfbf\">         </span>         <span style=\"color: #000000; text-decoration-color: #000000\">a/nanoaods.json                                                         </span><span style=\"color: #7f7f7f; text-decoration-color: #7f7f7f\">                         </span>\n",
       "</pre>\n"
      ],
      "text/plain": [
       "\u001b[2;36m        \u001b[0m\u001b[2;36m \u001b[0m\u001b[34mINFO    \u001b[0m \u001b[39mNanoAODs summary written to                                            \u001b[0m\u001b[39m \u001b[0m\u001b]8;id=90556;file:///home/cms-jovyan/integration-challenge/cms/utils/metadata_extractor.py\u001b\\\u001b[2mmetadata_extractor.py\u001b[0m\u001b]8;;\u001b\\\u001b[2m:\u001b[0m\u001b]8;id=624795;file:///home/cms-jovyan/integration-challenge/cms/utils/metadata_extractor.py#487\u001b\\\u001b[2m487\u001b[0m\u001b]8;;\u001b\\\n",
       "\u001b[2;36m         \u001b[0m         \u001b[39m/home/cms-jovyan/integration-challenge/cms/example-demo/outputs/metadat\u001b[0m\u001b[39m \u001b[0m\u001b[2m                         \u001b[0m\n",
       "\u001b[2;36m         \u001b[0m         \u001b[39ma/\u001b[0m\u001b[39mnanoaods.json\u001b[0m\u001b[39m                                                        \u001b[0m\u001b[39m \u001b[0m\u001b[2m                         \u001b[0m\n"
      ]
     },
     "metadata": {},
     "output_type": "display_data"
    },
    {
     "data": {
      "text/html": [
       "<pre style=\"white-space:pre;overflow-x:auto;line-height:normal;font-family:Menlo,'DejaVu Sans Mono',consolas,'Courier New',monospace\"><span style=\"color: #7fbfbf; text-decoration-color: #7fbfbf\">         </span><span style=\"color: #000080; text-decoration-color: #000080\">INFO    </span> <span style=\"color: #000000; text-decoration-color: #000000\">Metadata generation complete.                                           </span><a href=\"file:///home/cms-jovyan/integration-challenge/cms/utils/metadata_extractor.py\" target=\"_blank\"><span style=\"color: #7f7f7f; text-decoration-color: #7f7f7f\">metadata_extractor.py</span></a><span style=\"color: #7f7f7f; text-decoration-color: #7f7f7f\">:</span><a href=\"file:///home/cms-jovyan/integration-challenge/cms/utils/metadata_extractor.py#427\" target=\"_blank\"><span style=\"color: #7f7f7f; text-decoration-color: #7f7f7f\">427</span></a>\n",
       "</pre>\n"
      ],
      "text/plain": [
       "\u001b[2;36m        \u001b[0m\u001b[2;36m \u001b[0m\u001b[34mINFO    \u001b[0m \u001b[39mMetadata generation complete.                                          \u001b[0m\u001b[39m \u001b[0m\u001b]8;id=339272;file:///home/cms-jovyan/integration-challenge/cms/utils/metadata_extractor.py\u001b\\\u001b[2mmetadata_extractor.py\u001b[0m\u001b]8;;\u001b\\\u001b[2m:\u001b[0m\u001b]8;id=512834;file:///home/cms-jovyan/integration-challenge/cms/utils/metadata_extractor.py#427\u001b\\\u001b[2m427\u001b[0m\u001b]8;;\u001b\\\n"
      ]
     },
     "metadata": {},
     "output_type": "display_data"
    }
   ],
   "source": [
    "from utils.metadata_extractor import NanoAODMetadataGenerator\n",
    "from utils.datasets import ConfigurableDatasetManager\n",
    "\n",
    "# Step 1: Create dataset manager instance\n",
    "dataset_manager = ConfigurableDatasetManager(validated_config.datasets)\n",
    "# Step 2: Create metadata generator instance\n",
    "validated_config.general.run_metadata_generation=True\n",
    "\n",
    "metadata_generator = NanoAODMetadataGenerator(\n",
    "    dataset_manager=dataset_manager,\n",
    "    output_manager=output_manager,\n",
    "    dask=(None, None),\n",
    ")\n",
    "# In the back this uses coffea's preprocess function\n",
    "metadata = metadata_generator.run()"
   ]
  },
  {
   "cell_type": "markdown",
   "id": "408ecc72",
   "metadata": {},
   "source": [
    "# 5. Skimming & Event Selection\n",
    "\n",
    "The skimming step processes the workitems from previous step, and applies event and branch selections with `dask` and a `coffea`-like processor (see [Alex's issue](https://github.com/scikit-hep/coffea/issues/1393)). Currently the skimming results are in-memory events, but also stored on disk as `ROOT` files to avoid having to run this multiple times. The events are also cached in `.pkl` files for faster re-reading. Eventually this step needs to be integrated with subsequent steps in a complete `coffea` or `coffea`-like processor."
   ]
  },
  {
   "cell_type": "code",
   "execution_count": 8,
   "id": "442e7495",
   "metadata": {},
   "outputs": [
    {
     "name": "stdout",
     "output_type": "stream",
     "text": [
      "📊 Processing 58 workitems across 6 datasets\n"
     ]
    },
    {
     "data": {
      "text/html": [
       "<pre style=\"white-space:pre;overflow-x:auto;line-height:normal;font-family:Menlo,'DejaVu Sans Mono',consolas,'Courier New',monospace\"><span style=\"color: #7fbfbf; text-decoration-color: #7fbfbf\">         </span><span style=\"color: #000080; text-decoration-color: #000080\">INFO    </span> <span style=\"color: #000000; text-decoration-color: #000000\">Starting workitem preprocessing with </span><span style=\"color: #008080; text-decoration-color: #008080; font-weight: bold\">58</span><span style=\"color: #000000; text-decoration-color: #000000\"> workitems                                 </span><a href=\"file:///home/cms-jovyan/integration-challenge/cms/utils/skimming.py\" target=\"_blank\"><span style=\"color: #7f7f7f; text-decoration-color: #7f7f7f\">skimming.py</span></a><span style=\"color: #7f7f7f; text-decoration-color: #7f7f7f\">:</span><a href=\"file:///home/cms-jovyan/integration-challenge/cms/utils/skimming.py#705\" target=\"_blank\"><span style=\"color: #7f7f7f; text-decoration-color: #7f7f7f\">705</span></a>\n",
       "</pre>\n"
      ],
      "text/plain": [
       "\u001b[2;36m        \u001b[0m\u001b[2;36m \u001b[0m\u001b[34mINFO    \u001b[0m \u001b[39mStarting workitem preprocessing with \u001b[0m\u001b[1;36m58\u001b[0m\u001b[39m workitems                                \u001b[0m\u001b[39m \u001b[0m\u001b]8;id=83888;file:///home/cms-jovyan/integration-challenge/cms/utils/skimming.py\u001b\\\u001b[2mskimming.py\u001b[0m\u001b]8;;\u001b\\\u001b[2m:\u001b[0m\u001b]8;id=530898;file:///home/cms-jovyan/integration-challenge/cms/utils/skimming.py#705\u001b\\\u001b[2m705\u001b[0m\u001b]8;;\u001b\\\n"
      ]
     },
     "metadata": {},
     "output_type": "display_data"
    },
    {
     "data": {
      "text/html": [
       "<pre style=\"white-space:pre;overflow-x:auto;line-height:normal;font-family:Menlo,'DejaVu Sans Mono',consolas,'Courier New',monospace\"><span style=\"color: #7fbfbf; text-decoration-color: #7fbfbf\">         </span><span style=\"color: #000080; text-decoration-color: #000080\">INFO    </span> <span style=\"color: #000000; text-decoration-color: #000000\">Initialized workitem-based skimming manager                                       </span><a href=\"file:///home/cms-jovyan/integration-challenge/cms/utils/skimming.py\" target=\"_blank\"><span style=\"color: #7f7f7f; text-decoration-color: #7f7f7f\">skimming.py</span></a><span style=\"color: #7f7f7f; text-decoration-color: #7f7f7f\">:</span><a href=\"file:///home/cms-jovyan/integration-challenge/cms/utils/skimming.py#372\" target=\"_blank\"><span style=\"color: #7f7f7f; text-decoration-color: #7f7f7f\">372</span></a>\n",
       "</pre>\n"
      ],
      "text/plain": [
       "\u001b[2;36m        \u001b[0m\u001b[2;36m \u001b[0m\u001b[34mINFO    \u001b[0m \u001b[39mInitialized workitem-based skimming manager                                      \u001b[0m\u001b[39m \u001b[0m\u001b]8;id=567930;file:///home/cms-jovyan/integration-challenge/cms/utils/skimming.py\u001b\\\u001b[2mskimming.py\u001b[0m\u001b]8;;\u001b\\\u001b[2m:\u001b[0m\u001b]8;id=140158;file:///home/cms-jovyan/integration-challenge/cms/utils/skimming.py#372\u001b\\\u001b[2m372\u001b[0m\u001b]8;;\u001b\\\n"
      ]
     },
     "metadata": {},
     "output_type": "display_data"
    },
    {
     "data": {
      "text/html": [
       "<pre style=\"white-space:pre;overflow-x:auto;line-height:normal;font-family:Menlo,'DejaVu Sans Mono',consolas,'Courier New',monospace\"><span style=\"color: #7fbfbf; text-decoration-color: #7fbfbf\">         </span><span style=\"color: #000080; text-decoration-color: #000080\">INFO    </span> <span style=\"color: #000000; text-decoration-color: #000000\">Running skimming                                                                  </span><a href=\"file:///home/cms-jovyan/integration-challenge/cms/utils/skimming.py\" target=\"_blank\"><span style=\"color: #7f7f7f; text-decoration-color: #7f7f7f\">skimming.py</span></a><span style=\"color: #7f7f7f; text-decoration-color: #7f7f7f\">:</span><a href=\"file:///home/cms-jovyan/integration-challenge/cms/utils/skimming.py#720\" target=\"_blank\"><span style=\"color: #7f7f7f; text-decoration-color: #7f7f7f\">720</span></a>\n",
       "</pre>\n"
      ],
      "text/plain": [
       "\u001b[2;36m        \u001b[0m\u001b[2;36m \u001b[0m\u001b[34mINFO    \u001b[0m \u001b[39mRunning skimming                                                                 \u001b[0m\u001b[39m \u001b[0m\u001b]8;id=757820;file:///home/cms-jovyan/integration-challenge/cms/utils/skimming.py\u001b\\\u001b[2mskimming.py\u001b[0m\u001b]8;;\u001b\\\u001b[2m:\u001b[0m\u001b]8;id=44045;file:///home/cms-jovyan/integration-challenge/cms/utils/skimming.py#720\u001b\\\u001b[2m720\u001b[0m\u001b]8;;\u001b\\\n"
      ]
     },
     "metadata": {},
     "output_type": "display_data"
    },
    {
     "data": {
      "text/html": [
       "<pre style=\"white-space:pre;overflow-x:auto;line-height:normal;font-family:Menlo,'DejaVu Sans Mono',consolas,'Courier New',monospace\"><span style=\"color: #7fbfbf; text-decoration-color: #7fbfbf\">         </span><span style=\"color: #000080; text-decoration-color: #000080\">INFO    </span> <span style=\"color: #000000; text-decoration-color: #000000\">Processing </span><span style=\"color: #008080; text-decoration-color: #008080; font-weight: bold\">58</span><span style=\"color: #000000; text-decoration-color: #000000\"> workitems                                                           </span><a href=\"file:///home/cms-jovyan/integration-challenge/cms/utils/skimming.py\" target=\"_blank\"><span style=\"color: #7f7f7f; text-decoration-color: #7f7f7f\">skimming.py</span></a><span style=\"color: #7f7f7f; text-decoration-color: #7f7f7f\">:</span><a href=\"file:///home/cms-jovyan/integration-challenge/cms/utils/skimming.py#403\" target=\"_blank\"><span style=\"color: #7f7f7f; text-decoration-color: #7f7f7f\">403</span></a>\n",
       "</pre>\n"
      ],
      "text/plain": [
       "\u001b[2;36m        \u001b[0m\u001b[2;36m \u001b[0m\u001b[34mINFO    \u001b[0m \u001b[39mProcessing \u001b[0m\u001b[1;36m58\u001b[0m\u001b[39m workitems                                                          \u001b[0m\u001b[39m \u001b[0m\u001b]8;id=66837;file:///home/cms-jovyan/integration-challenge/cms/utils/skimming.py\u001b\\\u001b[2mskimming.py\u001b[0m\u001b]8;;\u001b\\\u001b[2m:\u001b[0m\u001b]8;id=328901;file:///home/cms-jovyan/integration-challenge/cms/utils/skimming.py#403\u001b\\\u001b[2m403\u001b[0m\u001b]8;;\u001b\\\n"
      ]
     },
     "metadata": {},
     "output_type": "display_data"
    },
    {
     "data": {
      "text/html": [
       "<pre style=\"white-space:pre;overflow-x:auto;line-height:normal;font-family:Menlo,'DejaVu Sans Mono',consolas,'Courier New',monospace\"><span style=\"color: #7fbfbf; text-decoration-color: #7fbfbf\">         </span><span style=\"color: #000080; text-decoration-color: #000080\">INFO    </span> <span style=\"color: #000000; text-decoration-color: #000000\">Attempt </span><span style=\"color: #008080; text-decoration-color: #008080; font-weight: bold\">1</span><span style=\"color: #000000; text-decoration-color: #000000\">: processing </span><span style=\"color: #008080; text-decoration-color: #008080; font-weight: bold\">58</span><span style=\"color: #000000; text-decoration-color: #000000\"> workitems                                                </span><a href=\"file:///home/cms-jovyan/integration-challenge/cms/utils/skimming.py\" target=\"_blank\"><span style=\"color: #7f7f7f; text-decoration-color: #7f7f7f\">skimming.py</span></a><span style=\"color: #7f7f7f; text-decoration-color: #7f7f7f\">:</span><a href=\"file:///home/cms-jovyan/integration-challenge/cms/utils/skimming.py#421\" target=\"_blank\"><span style=\"color: #7f7f7f; text-decoration-color: #7f7f7f\">421</span></a>\n",
       "</pre>\n"
      ],
      "text/plain": [
       "\u001b[2;36m        \u001b[0m\u001b[2;36m \u001b[0m\u001b[34mINFO    \u001b[0m \u001b[39mAttempt \u001b[0m\u001b[1;36m1\u001b[0m\u001b[39m: processing \u001b[0m\u001b[1;36m58\u001b[0m\u001b[39m workitems                                               \u001b[0m\u001b[39m \u001b[0m\u001b]8;id=999197;file:///home/cms-jovyan/integration-challenge/cms/utils/skimming.py\u001b\\\u001b[2mskimming.py\u001b[0m\u001b]8;;\u001b\\\u001b[2m:\u001b[0m\u001b]8;id=563790;file:///home/cms-jovyan/integration-challenge/cms/utils/skimming.py#421\u001b\\\u001b[2m421\u001b[0m\u001b]8;;\u001b\\\n"
      ]
     },
     "metadata": {},
     "output_type": "display_data"
    },
    {
     "data": {
      "text/html": [
       "<pre style=\"white-space:pre;overflow-x:auto;line-height:normal;font-family:Menlo,'DejaVu Sans Mono',consolas,'Courier New',monospace\"><span style=\"color: #7fbfbf; text-decoration-color: #7fbfbf\">07:10:11 </span><span style=\"color: #000080; text-decoration-color: #000080\">INFO    </span> <span style=\"color: #000000; text-decoration-color: #000000\">Attempt </span><span style=\"color: #008080; text-decoration-color: #008080; font-weight: bold\">1</span><span style=\"color: #000000; text-decoration-color: #000000\"> complete: </span><span style=\"color: #008080; text-decoration-color: #008080; font-weight: bold\">58</span><span style=\"color: #000000; text-decoration-color: #000000\"> successful, </span><span style=\"color: #008080; text-decoration-color: #008080; font-weight: bold\">0</span><span style=\"color: #000000; text-decoration-color: #000000\"> failed                                       </span><a href=\"file:///home/cms-jovyan/integration-challenge/cms/utils/skimming.py\" target=\"_blank\"><span style=\"color: #7f7f7f; text-decoration-color: #7f7f7f\">skimming.py</span></a><span style=\"color: #7f7f7f; text-decoration-color: #7f7f7f\">:</span><a href=\"file:///home/cms-jovyan/integration-challenge/cms/utils/skimming.py#460\" target=\"_blank\"><span style=\"color: #7f7f7f; text-decoration-color: #7f7f7f\">460</span></a>\n",
       "</pre>\n"
      ],
      "text/plain": [
       "\u001b[2;36m07:10:11\u001b[0m\u001b[2;36m \u001b[0m\u001b[34mINFO    \u001b[0m \u001b[39mAttempt \u001b[0m\u001b[1;36m1\u001b[0m\u001b[39m complete: \u001b[0m\u001b[1;36m58\u001b[0m\u001b[39m successful, \u001b[0m\u001b[1;36m0\u001b[0m\u001b[39m failed                                      \u001b[0m\u001b[39m \u001b[0m\u001b]8;id=268642;file:///home/cms-jovyan/integration-challenge/cms/utils/skimming.py\u001b\\\u001b[2mskimming.py\u001b[0m\u001b]8;;\u001b\\\u001b[2m:\u001b[0m\u001b]8;id=59691;file:///home/cms-jovyan/integration-challenge/cms/utils/skimming.py#460\u001b\\\u001b[2m460\u001b[0m\u001b]8;;\u001b\\\n"
      ]
     },
     "metadata": {},
     "output_type": "display_data"
    },
    {
     "data": {
      "text/html": [
       "<pre style=\"white-space:pre;overflow-x:auto;line-height:normal;font-family:Menlo,'DejaVu Sans Mono',consolas,'Courier New',monospace\"><span style=\"color: #7fbfbf; text-decoration-color: #7fbfbf\">         </span><span style=\"color: #000080; text-decoration-color: #000080\">INFO    </span> <span style=\"color: #000000; text-decoration-color: #000000\">All workitems processed successfully                                              </span><a href=\"file:///home/cms-jovyan/integration-challenge/cms/utils/skimming.py\" target=\"_blank\"><span style=\"color: #7f7f7f; text-decoration-color: #7f7f7f\">skimming.py</span></a><span style=\"color: #7f7f7f; text-decoration-color: #7f7f7f\">:</span><a href=\"file:///home/cms-jovyan/integration-challenge/cms/utils/skimming.py#475\" target=\"_blank\"><span style=\"color: #7f7f7f; text-decoration-color: #7f7f7f\">475</span></a>\n",
       "</pre>\n"
      ],
      "text/plain": [
       "\u001b[2;36m        \u001b[0m\u001b[2;36m \u001b[0m\u001b[34mINFO    \u001b[0m \u001b[39mAll workitems processed successfully                                             \u001b[0m\u001b[39m \u001b[0m\u001b]8;id=134700;file:///home/cms-jovyan/integration-challenge/cms/utils/skimming.py\u001b\\\u001b[2mskimming.py\u001b[0m\u001b]8;;\u001b\\\u001b[2m:\u001b[0m\u001b]8;id=678336;file:///home/cms-jovyan/integration-challenge/cms/utils/skimming.py#475\u001b\\\u001b[2m475\u001b[0m\u001b]8;;\u001b\\\n"
      ]
     },
     "metadata": {},
     "output_type": "display_data"
    },
    {
     "data": {
      "text/html": [
       "<pre style=\"white-space:pre;overflow-x:auto;line-height:normal;font-family:Menlo,'DejaVu Sans Mono',consolas,'Courier New',monospace\"><span style=\"color: #7fbfbf; text-decoration-color: #7fbfbf\">07:10:12 </span><span style=\"color: #000080; text-decoration-color: #000080\">INFO    </span> <span style=\"color: #000000; text-decoration-color: #000000\">Processing Summary:                                                               </span><a href=\"file:///home/cms-jovyan/integration-challenge/cms/utils/skimming.py\" target=\"_blank\"><span style=\"color: #7f7f7f; text-decoration-color: #7f7f7f\">skimming.py</span></a><span style=\"color: #7f7f7f; text-decoration-color: #7f7f7f\">:</span><a href=\"file:///home/cms-jovyan/integration-challenge/cms/utils/skimming.py#597\" target=\"_blank\"><span style=\"color: #7f7f7f; text-decoration-color: #7f7f7f\">597</span></a>\n",
       "</pre>\n"
      ],
      "text/plain": [
       "\u001b[2;36m07:10:12\u001b[0m\u001b[2;36m \u001b[0m\u001b[34mINFO    \u001b[0m \u001b[39mProcessing Summary:                                                              \u001b[0m\u001b[39m \u001b[0m\u001b]8;id=725152;file:///home/cms-jovyan/integration-challenge/cms/utils/skimming.py\u001b\\\u001b[2mskimming.py\u001b[0m\u001b]8;;\u001b\\\u001b[2m:\u001b[0m\u001b]8;id=182002;file:///home/cms-jovyan/integration-challenge/cms/utils/skimming.py#597\u001b\\\u001b[2m597\u001b[0m\u001b]8;;\u001b\\\n"
      ]
     },
     "metadata": {},
     "output_type": "display_data"
    },
    {
     "data": {
      "text/html": [
       "<pre style=\"white-space:pre;overflow-x:auto;line-height:normal;font-family:Menlo,'DejaVu Sans Mono',consolas,'Courier New',monospace\"><span style=\"color: #7fbfbf; text-decoration-color: #7fbfbf\">         </span><span style=\"color: #000080; text-decoration-color: #000080\">INFO    </span> <span style=\"color: #000000; text-decoration-color: #000000\">                                                                                  </span><a href=\"file:///home/cms-jovyan/integration-challenge/cms/utils/skimming.py\" target=\"_blank\"><span style=\"color: #7f7f7f; text-decoration-color: #7f7f7f\">skimming.py</span></a><span style=\"color: #7f7f7f; text-decoration-color: #7f7f7f\">:</span><a href=\"file:///home/cms-jovyan/integration-challenge/cms/utils/skimming.py#598\" target=\"_blank\"><span style=\"color: #7f7f7f; text-decoration-color: #7f7f7f\">598</span></a>\n",
       "<span style=\"color: #7fbfbf; text-decoration-color: #7fbfbf\">         </span>         <span style=\"color: #000000; text-decoration-color: #000000\">+------------------------+----------------+-----------------+                     </span><span style=\"color: #7f7f7f; text-decoration-color: #7f7f7f\">               </span>\n",
       "<span style=\"color: #7fbfbf; text-decoration-color: #7fbfbf\">         </span>         <span style=\"color: #000000; text-decoration-color: #000000\">| Dataset                | Events Saved   |   Files Written |                     </span><span style=\"color: #7f7f7f; text-decoration-color: #7f7f7f\">               </span>\n",
       "<span style=\"color: #7fbfbf; text-decoration-color: #7fbfbf\">         </span>         <span style=\"color: #000000; text-decoration-color: #000000\">+========================+================+=================+                     </span><span style=\"color: #7f7f7f; text-decoration-color: #7f7f7f\">               </span>\n",
       "<span style=\"color: #7fbfbf; text-decoration-color: #7fbfbf\">         </span>         <span style=\"color: #000000; text-decoration-color: #000000\">| data                   | </span><span style=\"color: #008080; text-decoration-color: #008080; font-weight: bold\">3</span><span style=\"color: #000000; text-decoration-color: #000000\">,</span><span style=\"color: #008080; text-decoration-color: #008080; font-weight: bold\">499</span><span style=\"color: #000000; text-decoration-color: #000000\">          |               </span><span style=\"color: #008080; text-decoration-color: #008080; font-weight: bold\">1</span><span style=\"color: #000000; text-decoration-color: #000000\"> |                     </span><span style=\"color: #7f7f7f; text-decoration-color: #7f7f7f\">               </span>\n",
       "<span style=\"color: #7fbfbf; text-decoration-color: #7fbfbf\">         </span>         <span style=\"color: #000000; text-decoration-color: #000000\">+------------------------+----------------+-----------------+                     </span><span style=\"color: #7f7f7f; text-decoration-color: #7f7f7f\">               </span>\n",
       "<span style=\"color: #7fbfbf; text-decoration-color: #7fbfbf\">         </span>         <span style=\"color: #000000; text-decoration-color: #000000\">| signal__nominal        | </span><span style=\"color: #008080; text-decoration-color: #008080; font-weight: bold\">97</span><span style=\"color: #000000; text-decoration-color: #000000\">,</span><span style=\"color: #008080; text-decoration-color: #008080; font-weight: bold\">109</span><span style=\"color: #000000; text-decoration-color: #000000\">         |               </span><span style=\"color: #008080; text-decoration-color: #008080; font-weight: bold\">5</span><span style=\"color: #000000; text-decoration-color: #000000\"> |                     </span><span style=\"color: #7f7f7f; text-decoration-color: #7f7f7f\">               </span>\n",
       "<span style=\"color: #7fbfbf; text-decoration-color: #7fbfbf\">         </span>         <span style=\"color: #000000; text-decoration-color: #000000\">+------------------------+----------------+-----------------+                     </span><span style=\"color: #7f7f7f; text-decoration-color: #7f7f7f\">               </span>\n",
       "<span style=\"color: #7fbfbf; text-decoration-color: #7fbfbf\">         </span>         <span style=\"color: #000000; text-decoration-color: #000000\">| ttbar_had__nominal     | </span><span style=\"color: #008080; text-decoration-color: #008080; font-weight: bold\">3</span><span style=\"color: #000000; text-decoration-color: #000000\">,</span><span style=\"color: #008080; text-decoration-color: #008080; font-weight: bold\">377</span><span style=\"color: #000000; text-decoration-color: #000000\">          |              </span><span style=\"color: #008080; text-decoration-color: #008080; font-weight: bold\">13</span><span style=\"color: #000000; text-decoration-color: #000000\"> |                     </span><span style=\"color: #7f7f7f; text-decoration-color: #7f7f7f\">               </span>\n",
       "<span style=\"color: #7fbfbf; text-decoration-color: #7fbfbf\">         </span>         <span style=\"color: #000000; text-decoration-color: #000000\">+------------------------+----------------+-----------------+                     </span><span style=\"color: #7f7f7f; text-decoration-color: #7f7f7f\">               </span>\n",
       "<span style=\"color: #7fbfbf; text-decoration-color: #7fbfbf\">         </span>         <span style=\"color: #000000; text-decoration-color: #000000\">| ttbar_lep__nominal     | </span><span style=\"color: #008080; text-decoration-color: #008080; font-weight: bold\">212</span><span style=\"color: #000000; text-decoration-color: #000000\">,</span><span style=\"color: #008080; text-decoration-color: #008080; font-weight: bold\">293</span><span style=\"color: #000000; text-decoration-color: #000000\">        |              </span><span style=\"color: #008080; text-decoration-color: #008080; font-weight: bold\">13</span><span style=\"color: #000000; text-decoration-color: #000000\"> |                     </span><span style=\"color: #7f7f7f; text-decoration-color: #7f7f7f\">               </span>\n",
       "<span style=\"color: #7fbfbf; text-decoration-color: #7fbfbf\">         </span>         <span style=\"color: #000000; text-decoration-color: #000000\">+------------------------+----------------+-----------------+                     </span><span style=\"color: #7f7f7f; text-decoration-color: #7f7f7f\">               </span>\n",
       "<span style=\"color: #7fbfbf; text-decoration-color: #7fbfbf\">         </span>         <span style=\"color: #000000; text-decoration-color: #000000\">| ttbar_semilep__nominal | </span><span style=\"color: #008080; text-decoration-color: #008080; font-weight: bold\">22</span><span style=\"color: #000000; text-decoration-color: #000000\">,</span><span style=\"color: #008080; text-decoration-color: #008080; font-weight: bold\">345</span><span style=\"color: #000000; text-decoration-color: #000000\">         |               </span><span style=\"color: #008080; text-decoration-color: #008080; font-weight: bold\">3</span><span style=\"color: #000000; text-decoration-color: #000000\"> |                     </span><span style=\"color: #7f7f7f; text-decoration-color: #7f7f7f\">               </span>\n",
       "<span style=\"color: #7fbfbf; text-decoration-color: #7fbfbf\">         </span>         <span style=\"color: #000000; text-decoration-color: #000000\">+------------------------+----------------+-----------------+                     </span><span style=\"color: #7f7f7f; text-decoration-color: #7f7f7f\">               </span>\n",
       "<span style=\"color: #7fbfbf; text-decoration-color: #7fbfbf\">         </span>         <span style=\"color: #000000; text-decoration-color: #000000\">| wjets__nominal         | </span><span style=\"color: #008080; text-decoration-color: #008080; font-weight: bold\">4</span><span style=\"color: #000000; text-decoration-color: #000000\">,</span><span style=\"color: #008080; text-decoration-color: #008080; font-weight: bold\">780</span><span style=\"color: #000000; text-decoration-color: #000000\">          |              </span><span style=\"color: #008080; text-decoration-color: #008080; font-weight: bold\">23</span><span style=\"color: #000000; text-decoration-color: #000000\"> |                     </span><span style=\"color: #7f7f7f; text-decoration-color: #7f7f7f\">               </span>\n",
       "<span style=\"color: #7fbfbf; text-decoration-color: #7fbfbf\">         </span>         <span style=\"color: #000000; text-decoration-color: #000000\">+------------------------+----------------+-----------------+                     </span><span style=\"color: #7f7f7f; text-decoration-color: #7f7f7f\">               </span>\n",
       "<span style=\"color: #7fbfbf; text-decoration-color: #7fbfbf\">         </span>         <span style=\"color: #000000; text-decoration-color: #000000\">| TOTAL                  | </span><span style=\"color: #008080; text-decoration-color: #008080; font-weight: bold\">343</span><span style=\"color: #000000; text-decoration-color: #000000\">,</span><span style=\"color: #008080; text-decoration-color: #008080; font-weight: bold\">403</span><span style=\"color: #000000; text-decoration-color: #000000\">        |              </span><span style=\"color: #008080; text-decoration-color: #008080; font-weight: bold\">58</span><span style=\"color: #000000; text-decoration-color: #000000\"> |                     </span><span style=\"color: #7f7f7f; text-decoration-color: #7f7f7f\">               </span>\n",
       "<span style=\"color: #7fbfbf; text-decoration-color: #7fbfbf\">         </span>         <span style=\"color: #000000; text-decoration-color: #000000\">+------------------------+----------------+-----------------+                     </span><span style=\"color: #7f7f7f; text-decoration-color: #7f7f7f\">               </span>\n",
       "</pre>\n"
      ],
      "text/plain": [
       "\u001b[2;36m        \u001b[0m\u001b[2;36m \u001b[0m\u001b[34mINFO    \u001b[0m \u001b[39m                                                                                 \u001b[0m\u001b[39m \u001b[0m\u001b]8;id=355060;file:///home/cms-jovyan/integration-challenge/cms/utils/skimming.py\u001b\\\u001b[2mskimming.py\u001b[0m\u001b]8;;\u001b\\\u001b[2m:\u001b[0m\u001b]8;id=789858;file:///home/cms-jovyan/integration-challenge/cms/utils/skimming.py#598\u001b\\\u001b[2m598\u001b[0m\u001b]8;;\u001b\\\n",
       "\u001b[2;36m         \u001b[0m         \u001b[39m+------------------------+----------------+-----------------+                    \u001b[0m\u001b[39m \u001b[0m\u001b[2m               \u001b[0m\n",
       "\u001b[2;36m         \u001b[0m         \u001b[39m| Dataset                | Events Saved   |   Files Written |                    \u001b[0m\u001b[39m \u001b[0m\u001b[2m               \u001b[0m\n",
       "\u001b[2;36m         \u001b[0m         \u001b[39m+========================+================+=================+                    \u001b[0m\u001b[39m \u001b[0m\u001b[2m               \u001b[0m\n",
       "\u001b[2;36m         \u001b[0m         \u001b[39m| data                   | \u001b[0m\u001b[1;36m3\u001b[0m\u001b[39m,\u001b[0m\u001b[1;36m499\u001b[0m\u001b[39m          |               \u001b[0m\u001b[1;36m1\u001b[0m\u001b[39m |                    \u001b[0m\u001b[39m \u001b[0m\u001b[2m               \u001b[0m\n",
       "\u001b[2;36m         \u001b[0m         \u001b[39m+------------------------+----------------+-----------------+                    \u001b[0m\u001b[39m \u001b[0m\u001b[2m               \u001b[0m\n",
       "\u001b[2;36m         \u001b[0m         \u001b[39m| signal__nominal        | \u001b[0m\u001b[1;36m97\u001b[0m\u001b[39m,\u001b[0m\u001b[1;36m109\u001b[0m\u001b[39m         |               \u001b[0m\u001b[1;36m5\u001b[0m\u001b[39m |                    \u001b[0m\u001b[39m \u001b[0m\u001b[2m               \u001b[0m\n",
       "\u001b[2;36m         \u001b[0m         \u001b[39m+------------------------+----------------+-----------------+                    \u001b[0m\u001b[39m \u001b[0m\u001b[2m               \u001b[0m\n",
       "\u001b[2;36m         \u001b[0m         \u001b[39m| ttbar_had__nominal     | \u001b[0m\u001b[1;36m3\u001b[0m\u001b[39m,\u001b[0m\u001b[1;36m377\u001b[0m\u001b[39m          |              \u001b[0m\u001b[1;36m13\u001b[0m\u001b[39m |                    \u001b[0m\u001b[39m \u001b[0m\u001b[2m               \u001b[0m\n",
       "\u001b[2;36m         \u001b[0m         \u001b[39m+------------------------+----------------+-----------------+                    \u001b[0m\u001b[39m \u001b[0m\u001b[2m               \u001b[0m\n",
       "\u001b[2;36m         \u001b[0m         \u001b[39m| ttbar_lep__nominal     | \u001b[0m\u001b[1;36m212\u001b[0m\u001b[39m,\u001b[0m\u001b[1;36m293\u001b[0m\u001b[39m        |              \u001b[0m\u001b[1;36m13\u001b[0m\u001b[39m |                    \u001b[0m\u001b[39m \u001b[0m\u001b[2m               \u001b[0m\n",
       "\u001b[2;36m         \u001b[0m         \u001b[39m+------------------------+----------------+-----------------+                    \u001b[0m\u001b[39m \u001b[0m\u001b[2m               \u001b[0m\n",
       "\u001b[2;36m         \u001b[0m         \u001b[39m| ttbar_semilep__nominal | \u001b[0m\u001b[1;36m22\u001b[0m\u001b[39m,\u001b[0m\u001b[1;36m345\u001b[0m\u001b[39m         |               \u001b[0m\u001b[1;36m3\u001b[0m\u001b[39m |                    \u001b[0m\u001b[39m \u001b[0m\u001b[2m               \u001b[0m\n",
       "\u001b[2;36m         \u001b[0m         \u001b[39m+------------------------+----------------+-----------------+                    \u001b[0m\u001b[39m \u001b[0m\u001b[2m               \u001b[0m\n",
       "\u001b[2;36m         \u001b[0m         \u001b[39m| wjets__nominal         | \u001b[0m\u001b[1;36m4\u001b[0m\u001b[39m,\u001b[0m\u001b[1;36m780\u001b[0m\u001b[39m          |              \u001b[0m\u001b[1;36m23\u001b[0m\u001b[39m |                    \u001b[0m\u001b[39m \u001b[0m\u001b[2m               \u001b[0m\n",
       "\u001b[2;36m         \u001b[0m         \u001b[39m+------------------------+----------------+-----------------+                    \u001b[0m\u001b[39m \u001b[0m\u001b[2m               \u001b[0m\n",
       "\u001b[2;36m         \u001b[0m         \u001b[39m| TOTAL                  | \u001b[0m\u001b[1;36m343\u001b[0m\u001b[39m,\u001b[0m\u001b[1;36m403\u001b[0m\u001b[39m        |              \u001b[0m\u001b[1;36m58\u001b[0m\u001b[39m |                    \u001b[0m\u001b[39m \u001b[0m\u001b[2m               \u001b[0m\n",
       "\u001b[2;36m         \u001b[0m         \u001b[39m+------------------------+----------------+-----------------+                    \u001b[0m\u001b[39m \u001b[0m\u001b[2m               \u001b[0m\n"
      ]
     },
     "metadata": {},
     "output_type": "display_data"
    },
    {
     "data": {
      "text/html": [
       "<pre style=\"white-space:pre;overflow-x:auto;line-height:normal;font-family:Menlo,'DejaVu Sans Mono',consolas,'Courier New',monospace\"><span style=\"color: #7fbfbf; text-decoration-color: #7fbfbf\">         </span><span style=\"color: #000080; text-decoration-color: #000080\">INFO    </span> <span style=\"color: #000000; text-decoration-color: #000000\">Skimming complete: </span><span style=\"color: #008080; text-decoration-color: #008080; font-weight: bold\">346</span><span style=\"color: #000000; text-decoration-color: #000000\">,</span><span style=\"color: #008080; text-decoration-color: #008080; font-weight: bold\">169</span><span style=\"color: #000000; text-decoration-color: #000000\"> events                                                 </span><a href=\"file:///home/cms-jovyan/integration-challenge/cms/utils/skimming.py\" target=\"_blank\"><span style=\"color: #7f7f7f; text-decoration-color: #7f7f7f\">skimming.py</span></a><span style=\"color: #7f7f7f; text-decoration-color: #7f7f7f\">:</span><a href=\"file:///home/cms-jovyan/integration-challenge/cms/utils/skimming.py#722\" target=\"_blank\"><span style=\"color: #7f7f7f; text-decoration-color: #7f7f7f\">722</span></a>\n",
       "</pre>\n"
      ],
      "text/plain": [
       "\u001b[2;36m        \u001b[0m\u001b[2;36m \u001b[0m\u001b[34mINFO    \u001b[0m \u001b[39mSkimming complete: \u001b[0m\u001b[1;36m346\u001b[0m\u001b[39m,\u001b[0m\u001b[1;36m169\u001b[0m\u001b[39m events                                                \u001b[0m\u001b[39m \u001b[0m\u001b]8;id=664857;file:///home/cms-jovyan/integration-challenge/cms/utils/skimming.py\u001b\\\u001b[2mskimming.py\u001b[0m\u001b]8;;\u001b\\\u001b[2m:\u001b[0m\u001b]8;id=737970;file:///home/cms-jovyan/integration-challenge/cms/utils/skimming.py#722\u001b\\\u001b[2m722\u001b[0m\u001b]8;;\u001b\\\n"
      ]
     },
     "metadata": {},
     "output_type": "display_data"
    },
    {
     "data": {
      "text/html": [
       "<pre style=\"white-space:pre;overflow-x:auto;line-height:normal;font-family:Menlo,'DejaVu Sans Mono',consolas,'Courier New',monospace\"><span style=\"color: #7fbfbf; text-decoration-color: #7fbfbf\">         </span><span style=\"color: #000080; text-decoration-color: #000080\">INFO    </span> <span style=\"color: #000000; text-decoration-color: #000000\">Reading from saved files                                                          </span><a href=\"file:///home/cms-jovyan/integration-challenge/cms/utils/skimming.py\" target=\"_blank\"><span style=\"color: #7f7f7f; text-decoration-color: #7f7f7f\">skimming.py</span></a><span style=\"color: #7f7f7f; text-decoration-color: #7f7f7f\">:</span><a href=\"file:///home/cms-jovyan/integration-challenge/cms/utils/skimming.py#725\" target=\"_blank\"><span style=\"color: #7f7f7f; text-decoration-color: #7f7f7f\">725</span></a>\n",
       "</pre>\n"
      ],
      "text/plain": [
       "\u001b[2;36m        \u001b[0m\u001b[2;36m \u001b[0m\u001b[34mINFO    \u001b[0m \u001b[39mReading from saved files                                                         \u001b[0m\u001b[39m \u001b[0m\u001b]8;id=377912;file:///home/cms-jovyan/integration-challenge/cms/utils/skimming.py\u001b\\\u001b[2mskimming.py\u001b[0m\u001b]8;;\u001b\\\u001b[2m:\u001b[0m\u001b]8;id=916445;file:///home/cms-jovyan/integration-challenge/cms/utils/skimming.py#725\u001b\\\u001b[2m725\u001b[0m\u001b]8;;\u001b\\\n"
      ]
     },
     "metadata": {},
     "output_type": "display_data"
    },
    {
     "data": {
      "text/html": [
       "<pre style=\"white-space:pre;overflow-x:auto;line-height:normal;font-family:Menlo,'DejaVu Sans Mono',consolas,'Courier New',monospace\"><span style=\"color: #7fbfbf; text-decoration-color: #7fbfbf\">         </span><span style=\"color: #000080; text-decoration-color: #000080\">INFO    </span> <span style=\"color: #000000; text-decoration-color: #000000\">Found existing skimmed files for data: </span><span style=\"color: #008080; text-decoration-color: #008080; font-weight: bold\">1</span><span style=\"color: #000000; text-decoration-color: #000000\">                                          </span><a href=\"file:///home/cms-jovyan/integration-challenge/cms/utils/skimming.py\" target=\"_blank\"><span style=\"color: #7f7f7f; text-decoration-color: #7f7f7f\">skimming.py</span></a><span style=\"color: #7f7f7f; text-decoration-color: #7f7f7f\">:</span><a href=\"file:///home/cms-jovyan/integration-challenge/cms/utils/skimming.py#524\" target=\"_blank\"><span style=\"color: #7f7f7f; text-decoration-color: #7f7f7f\">524</span></a>\n",
       "</pre>\n"
      ],
      "text/plain": [
       "\u001b[2;36m        \u001b[0m\u001b[2;36m \u001b[0m\u001b[34mINFO    \u001b[0m \u001b[39mFound existing skimmed files for data: \u001b[0m\u001b[1;36m1\u001b[0m\u001b[39m                                         \u001b[0m\u001b[39m \u001b[0m\u001b]8;id=402594;file:///home/cms-jovyan/integration-challenge/cms/utils/skimming.py\u001b\\\u001b[2mskimming.py\u001b[0m\u001b]8;;\u001b\\\u001b[2m:\u001b[0m\u001b]8;id=251673;file:///home/cms-jovyan/integration-challenge/cms/utils/skimming.py#524\u001b\\\u001b[2m524\u001b[0m\u001b]8;;\u001b\\\n"
      ]
     },
     "metadata": {},
     "output_type": "display_data"
    },
    {
     "data": {
      "text/html": [
       "<pre style=\"white-space:pre;overflow-x:auto;line-height:normal;font-family:Menlo,'DejaVu Sans Mono',consolas,'Courier New',monospace\"><span style=\"color: #7fbfbf; text-decoration-color: #7fbfbf\">         </span><span style=\"color: #000080; text-decoration-color: #000080\">INFO    </span> <span style=\"color: #000000; text-decoration-color: #000000\">Merged </span><span style=\"color: #008080; text-decoration-color: #008080; font-weight: bold\">1</span><span style=\"color: #000000; text-decoration-color: #000000\"> files → </span><span style=\"color: #008080; text-decoration-color: #008080; font-weight: bold\">3499</span><span style=\"color: #000000; text-decoration-color: #000000\"> events for data                                             </span><a href=\"file:///home/cms-jovyan/integration-challenge/cms/utils/skimming.py\" target=\"_blank\"><span style=\"color: #7f7f7f; text-decoration-color: #7f7f7f\">skimming.py</span></a><span style=\"color: #7f7f7f; text-decoration-color: #7f7f7f\">:</span><a href=\"file:///home/cms-jovyan/integration-challenge/cms/utils/skimming.py#822\" target=\"_blank\"><span style=\"color: #7f7f7f; text-decoration-color: #7f7f7f\">822</span></a>\n",
       "</pre>\n"
      ],
      "text/plain": [
       "\u001b[2;36m        \u001b[0m\u001b[2;36m \u001b[0m\u001b[34mINFO    \u001b[0m \u001b[39mMerged \u001b[0m\u001b[1;36m1\u001b[0m\u001b[39m files → \u001b[0m\u001b[1;36m3499\u001b[0m\u001b[39m events for data                                            \u001b[0m\u001b[39m \u001b[0m\u001b]8;id=225377;file:///home/cms-jovyan/integration-challenge/cms/utils/skimming.py\u001b\\\u001b[2mskimming.py\u001b[0m\u001b]8;;\u001b\\\u001b[2m:\u001b[0m\u001b]8;id=742174;file:///home/cms-jovyan/integration-challenge/cms/utils/skimming.py#822\u001b\\\u001b[2m822\u001b[0m\u001b]8;;\u001b\\\n"
      ]
     },
     "metadata": {},
     "output_type": "display_data"
    },
    {
     "data": {
      "text/html": [
       "<pre style=\"white-space:pre;overflow-x:auto;line-height:normal;font-family:Menlo,'DejaVu Sans Mono',consolas,'Courier New',monospace\"><span style=\"color: #7fbfbf; text-decoration-color: #7fbfbf\">         </span><span style=\"color: #000080; text-decoration-color: #000080\">INFO    </span> <span style=\"color: #000000; text-decoration-color: #000000\">Cached events for data                                                            </span><a href=\"file:///home/cms-jovyan/integration-challenge/cms/utils/skimming.py\" target=\"_blank\"><span style=\"color: #7f7f7f; text-decoration-color: #7f7f7f\">skimming.py</span></a><span style=\"color: #7f7f7f; text-decoration-color: #7f7f7f\">:</span><a href=\"file:///home/cms-jovyan/integration-challenge/cms/utils/skimming.py#831\" target=\"_blank\"><span style=\"color: #7f7f7f; text-decoration-color: #7f7f7f\">831</span></a>\n",
       "</pre>\n"
      ],
      "text/plain": [
       "\u001b[2;36m        \u001b[0m\u001b[2;36m \u001b[0m\u001b[34mINFO    \u001b[0m \u001b[39mCached events for data                                                           \u001b[0m\u001b[39m \u001b[0m\u001b]8;id=768685;file:///home/cms-jovyan/integration-challenge/cms/utils/skimming.py\u001b\\\u001b[2mskimming.py\u001b[0m\u001b]8;;\u001b\\\u001b[2m:\u001b[0m\u001b]8;id=93095;file:///home/cms-jovyan/integration-challenge/cms/utils/skimming.py#831\u001b\\\u001b[2m831\u001b[0m\u001b]8;;\u001b\\\n"
      ]
     },
     "metadata": {},
     "output_type": "display_data"
    },
    {
     "data": {
      "text/html": [
       "<pre style=\"white-space:pre;overflow-x:auto;line-height:normal;font-family:Menlo,'DejaVu Sans Mono',consolas,'Courier New',monospace\"><span style=\"color: #7fbfbf; text-decoration-color: #7fbfbf\">         </span><span style=\"color: #000080; text-decoration-color: #000080\">INFO    </span> <span style=\"color: #000000; text-decoration-color: #000000\">Found existing skimmed files for wjets__nominal: </span><span style=\"color: #008080; text-decoration-color: #008080; font-weight: bold\">23</span><span style=\"color: #000000; text-decoration-color: #000000\">                               </span><a href=\"file:///home/cms-jovyan/integration-challenge/cms/utils/skimming.py\" target=\"_blank\"><span style=\"color: #7f7f7f; text-decoration-color: #7f7f7f\">skimming.py</span></a><span style=\"color: #7f7f7f; text-decoration-color: #7f7f7f\">:</span><a href=\"file:///home/cms-jovyan/integration-challenge/cms/utils/skimming.py#524\" target=\"_blank\"><span style=\"color: #7f7f7f; text-decoration-color: #7f7f7f\">524</span></a>\n",
       "</pre>\n"
      ],
      "text/plain": [
       "\u001b[2;36m        \u001b[0m\u001b[2;36m \u001b[0m\u001b[34mINFO    \u001b[0m \u001b[39mFound existing skimmed files for wjets__nominal: \u001b[0m\u001b[1;36m23\u001b[0m\u001b[39m                              \u001b[0m\u001b[39m \u001b[0m\u001b]8;id=802750;file:///home/cms-jovyan/integration-challenge/cms/utils/skimming.py\u001b\\\u001b[2mskimming.py\u001b[0m\u001b]8;;\u001b\\\u001b[2m:\u001b[0m\u001b]8;id=908370;file:///home/cms-jovyan/integration-challenge/cms/utils/skimming.py#524\u001b\\\u001b[2m524\u001b[0m\u001b]8;;\u001b\\\n"
      ]
     },
     "metadata": {},
     "output_type": "display_data"
    },
    {
     "data": {
      "text/html": [
       "<pre style=\"white-space:pre;overflow-x:auto;line-height:normal;font-family:Menlo,'DejaVu Sans Mono',consolas,'Courier New',monospace\"><span style=\"color: #7fbfbf; text-decoration-color: #7fbfbf\">07:10:13 </span><span style=\"color: #000080; text-decoration-color: #000080\">INFO    </span> <span style=\"color: #000000; text-decoration-color: #000000\">Merged </span><span style=\"color: #008080; text-decoration-color: #008080; font-weight: bold\">23</span><span style=\"color: #000000; text-decoration-color: #000000\"> files → </span><span style=\"color: #008080; text-decoration-color: #008080; font-weight: bold\">4780</span><span style=\"color: #000000; text-decoration-color: #000000\"> events for wjets__nominal                                  </span><a href=\"file:///home/cms-jovyan/integration-challenge/cms/utils/skimming.py\" target=\"_blank\"><span style=\"color: #7f7f7f; text-decoration-color: #7f7f7f\">skimming.py</span></a><span style=\"color: #7f7f7f; text-decoration-color: #7f7f7f\">:</span><a href=\"file:///home/cms-jovyan/integration-challenge/cms/utils/skimming.py#822\" target=\"_blank\"><span style=\"color: #7f7f7f; text-decoration-color: #7f7f7f\">822</span></a>\n",
       "</pre>\n"
      ],
      "text/plain": [
       "\u001b[2;36m07:10:13\u001b[0m\u001b[2;36m \u001b[0m\u001b[34mINFO    \u001b[0m \u001b[39mMerged \u001b[0m\u001b[1;36m23\u001b[0m\u001b[39m files → \u001b[0m\u001b[1;36m4780\u001b[0m\u001b[39m events for wjets__nominal                                 \u001b[0m\u001b[39m \u001b[0m\u001b]8;id=836659;file:///home/cms-jovyan/integration-challenge/cms/utils/skimming.py\u001b\\\u001b[2mskimming.py\u001b[0m\u001b]8;;\u001b\\\u001b[2m:\u001b[0m\u001b]8;id=361646;file:///home/cms-jovyan/integration-challenge/cms/utils/skimming.py#822\u001b\\\u001b[2m822\u001b[0m\u001b]8;;\u001b\\\n"
      ]
     },
     "metadata": {},
     "output_type": "display_data"
    },
    {
     "data": {
      "text/html": [
       "<pre style=\"white-space:pre;overflow-x:auto;line-height:normal;font-family:Menlo,'DejaVu Sans Mono',consolas,'Courier New',monospace\"><span style=\"color: #7fbfbf; text-decoration-color: #7fbfbf\">         </span><span style=\"color: #000080; text-decoration-color: #000080\">INFO    </span> <span style=\"color: #000000; text-decoration-color: #000000\">Cached events for wjets__nominal                                                  </span><a href=\"file:///home/cms-jovyan/integration-challenge/cms/utils/skimming.py\" target=\"_blank\"><span style=\"color: #7f7f7f; text-decoration-color: #7f7f7f\">skimming.py</span></a><span style=\"color: #7f7f7f; text-decoration-color: #7f7f7f\">:</span><a href=\"file:///home/cms-jovyan/integration-challenge/cms/utils/skimming.py#831\" target=\"_blank\"><span style=\"color: #7f7f7f; text-decoration-color: #7f7f7f\">831</span></a>\n",
       "</pre>\n"
      ],
      "text/plain": [
       "\u001b[2;36m        \u001b[0m\u001b[2;36m \u001b[0m\u001b[34mINFO    \u001b[0m \u001b[39mCached events for wjets__nominal                                                 \u001b[0m\u001b[39m \u001b[0m\u001b]8;id=743373;file:///home/cms-jovyan/integration-challenge/cms/utils/skimming.py\u001b\\\u001b[2mskimming.py\u001b[0m\u001b]8;;\u001b\\\u001b[2m:\u001b[0m\u001b]8;id=183449;file:///home/cms-jovyan/integration-challenge/cms/utils/skimming.py#831\u001b\\\u001b[2m831\u001b[0m\u001b]8;;\u001b\\\n"
      ]
     },
     "metadata": {},
     "output_type": "display_data"
    },
    {
     "data": {
      "text/html": [
       "<pre style=\"white-space:pre;overflow-x:auto;line-height:normal;font-family:Menlo,'DejaVu Sans Mono',consolas,'Courier New',monospace\"><span style=\"color: #7fbfbf; text-decoration-color: #7fbfbf\">         </span><span style=\"color: #000080; text-decoration-color: #000080\">INFO    </span> <span style=\"color: #000000; text-decoration-color: #000000\">Found existing skimmed files for ttbar_lep__nominal: </span><span style=\"color: #008080; text-decoration-color: #008080; font-weight: bold\">13</span><span style=\"color: #000000; text-decoration-color: #000000\">                           </span><a href=\"file:///home/cms-jovyan/integration-challenge/cms/utils/skimming.py\" target=\"_blank\"><span style=\"color: #7f7f7f; text-decoration-color: #7f7f7f\">skimming.py</span></a><span style=\"color: #7f7f7f; text-decoration-color: #7f7f7f\">:</span><a href=\"file:///home/cms-jovyan/integration-challenge/cms/utils/skimming.py#524\" target=\"_blank\"><span style=\"color: #7f7f7f; text-decoration-color: #7f7f7f\">524</span></a>\n",
       "</pre>\n"
      ],
      "text/plain": [
       "\u001b[2;36m        \u001b[0m\u001b[2;36m \u001b[0m\u001b[34mINFO    \u001b[0m \u001b[39mFound existing skimmed files for ttbar_lep__nominal: \u001b[0m\u001b[1;36m13\u001b[0m\u001b[39m                          \u001b[0m\u001b[39m \u001b[0m\u001b]8;id=766324;file:///home/cms-jovyan/integration-challenge/cms/utils/skimming.py\u001b\\\u001b[2mskimming.py\u001b[0m\u001b]8;;\u001b\\\u001b[2m:\u001b[0m\u001b]8;id=657705;file:///home/cms-jovyan/integration-challenge/cms/utils/skimming.py#524\u001b\\\u001b[2m524\u001b[0m\u001b]8;;\u001b\\\n"
      ]
     },
     "metadata": {},
     "output_type": "display_data"
    },
    {
     "data": {
      "text/html": [
       "<pre style=\"white-space:pre;overflow-x:auto;line-height:normal;font-family:Menlo,'DejaVu Sans Mono',consolas,'Courier New',monospace\"><span style=\"color: #7fbfbf; text-decoration-color: #7fbfbf\">07:10:14 </span><span style=\"color: #000080; text-decoration-color: #000080\">INFO    </span> <span style=\"color: #000000; text-decoration-color: #000000\">Merged </span><span style=\"color: #008080; text-decoration-color: #008080; font-weight: bold\">13</span><span style=\"color: #000000; text-decoration-color: #000000\"> files → </span><span style=\"color: #008080; text-decoration-color: #008080; font-weight: bold\">212293</span><span style=\"color: #000000; text-decoration-color: #000000\"> events for ttbar_lep__nominal                            </span><a href=\"file:///home/cms-jovyan/integration-challenge/cms/utils/skimming.py\" target=\"_blank\"><span style=\"color: #7f7f7f; text-decoration-color: #7f7f7f\">skimming.py</span></a><span style=\"color: #7f7f7f; text-decoration-color: #7f7f7f\">:</span><a href=\"file:///home/cms-jovyan/integration-challenge/cms/utils/skimming.py#822\" target=\"_blank\"><span style=\"color: #7f7f7f; text-decoration-color: #7f7f7f\">822</span></a>\n",
       "</pre>\n"
      ],
      "text/plain": [
       "\u001b[2;36m07:10:14\u001b[0m\u001b[2;36m \u001b[0m\u001b[34mINFO    \u001b[0m \u001b[39mMerged \u001b[0m\u001b[1;36m13\u001b[0m\u001b[39m files → \u001b[0m\u001b[1;36m212293\u001b[0m\u001b[39m events for ttbar_lep__nominal                           \u001b[0m\u001b[39m \u001b[0m\u001b]8;id=693508;file:///home/cms-jovyan/integration-challenge/cms/utils/skimming.py\u001b\\\u001b[2mskimming.py\u001b[0m\u001b]8;;\u001b\\\u001b[2m:\u001b[0m\u001b]8;id=736163;file:///home/cms-jovyan/integration-challenge/cms/utils/skimming.py#822\u001b\\\u001b[2m822\u001b[0m\u001b]8;;\u001b\\\n"
      ]
     },
     "metadata": {},
     "output_type": "display_data"
    },
    {
     "data": {
      "text/html": [
       "<pre style=\"white-space:pre;overflow-x:auto;line-height:normal;font-family:Menlo,'DejaVu Sans Mono',consolas,'Courier New',monospace\"><span style=\"color: #7fbfbf; text-decoration-color: #7fbfbf\">         </span><span style=\"color: #000080; text-decoration-color: #000080\">INFO    </span> <span style=\"color: #000000; text-decoration-color: #000000\">Cached events for ttbar_lep__nominal                                              </span><a href=\"file:///home/cms-jovyan/integration-challenge/cms/utils/skimming.py\" target=\"_blank\"><span style=\"color: #7f7f7f; text-decoration-color: #7f7f7f\">skimming.py</span></a><span style=\"color: #7f7f7f; text-decoration-color: #7f7f7f\">:</span><a href=\"file:///home/cms-jovyan/integration-challenge/cms/utils/skimming.py#831\" target=\"_blank\"><span style=\"color: #7f7f7f; text-decoration-color: #7f7f7f\">831</span></a>\n",
       "</pre>\n"
      ],
      "text/plain": [
       "\u001b[2;36m        \u001b[0m\u001b[2;36m \u001b[0m\u001b[34mINFO    \u001b[0m \u001b[39mCached events for ttbar_lep__nominal                                             \u001b[0m\u001b[39m \u001b[0m\u001b]8;id=157480;file:///home/cms-jovyan/integration-challenge/cms/utils/skimming.py\u001b\\\u001b[2mskimming.py\u001b[0m\u001b]8;;\u001b\\\u001b[2m:\u001b[0m\u001b]8;id=258375;file:///home/cms-jovyan/integration-challenge/cms/utils/skimming.py#831\u001b\\\u001b[2m831\u001b[0m\u001b]8;;\u001b\\\n"
      ]
     },
     "metadata": {},
     "output_type": "display_data"
    },
    {
     "data": {
      "text/html": [
       "<pre style=\"white-space:pre;overflow-x:auto;line-height:normal;font-family:Menlo,'DejaVu Sans Mono',consolas,'Courier New',monospace\"><span style=\"color: #7fbfbf; text-decoration-color: #7fbfbf\">         </span><span style=\"color: #000080; text-decoration-color: #000080\">INFO    </span> <span style=\"color: #000000; text-decoration-color: #000000\">Found existing skimmed files for ttbar_had__nominal: </span><span style=\"color: #008080; text-decoration-color: #008080; font-weight: bold\">11</span><span style=\"color: #000000; text-decoration-color: #000000\">                           </span><a href=\"file:///home/cms-jovyan/integration-challenge/cms/utils/skimming.py\" target=\"_blank\"><span style=\"color: #7f7f7f; text-decoration-color: #7f7f7f\">skimming.py</span></a><span style=\"color: #7f7f7f; text-decoration-color: #7f7f7f\">:</span><a href=\"file:///home/cms-jovyan/integration-challenge/cms/utils/skimming.py#524\" target=\"_blank\"><span style=\"color: #7f7f7f; text-decoration-color: #7f7f7f\">524</span></a>\n",
       "</pre>\n"
      ],
      "text/plain": [
       "\u001b[2;36m        \u001b[0m\u001b[2;36m \u001b[0m\u001b[34mINFO    \u001b[0m \u001b[39mFound existing skimmed files for ttbar_had__nominal: \u001b[0m\u001b[1;36m11\u001b[0m\u001b[39m                          \u001b[0m\u001b[39m \u001b[0m\u001b]8;id=172979;file:///home/cms-jovyan/integration-challenge/cms/utils/skimming.py\u001b\\\u001b[2mskimming.py\u001b[0m\u001b]8;;\u001b\\\u001b[2m:\u001b[0m\u001b]8;id=476432;file:///home/cms-jovyan/integration-challenge/cms/utils/skimming.py#524\u001b\\\u001b[2m524\u001b[0m\u001b]8;;\u001b\\\n"
      ]
     },
     "metadata": {},
     "output_type": "display_data"
    },
    {
     "data": {
      "text/html": [
       "<pre style=\"white-space:pre;overflow-x:auto;line-height:normal;font-family:Menlo,'DejaVu Sans Mono',consolas,'Courier New',monospace\"><span style=\"color: #7fbfbf; text-decoration-color: #7fbfbf\">         </span><span style=\"color: #000080; text-decoration-color: #000080\">INFO    </span> <span style=\"color: #000000; text-decoration-color: #000000\">Merged </span><span style=\"color: #008080; text-decoration-color: #008080; font-weight: bold\">11</span><span style=\"color: #000000; text-decoration-color: #000000\"> files → </span><span style=\"color: #008080; text-decoration-color: #008080; font-weight: bold\">3377</span><span style=\"color: #000000; text-decoration-color: #000000\"> events for ttbar_had__nominal                              </span><a href=\"file:///home/cms-jovyan/integration-challenge/cms/utils/skimming.py\" target=\"_blank\"><span style=\"color: #7f7f7f; text-decoration-color: #7f7f7f\">skimming.py</span></a><span style=\"color: #7f7f7f; text-decoration-color: #7f7f7f\">:</span><a href=\"file:///home/cms-jovyan/integration-challenge/cms/utils/skimming.py#822\" target=\"_blank\"><span style=\"color: #7f7f7f; text-decoration-color: #7f7f7f\">822</span></a>\n",
       "</pre>\n"
      ],
      "text/plain": [
       "\u001b[2;36m        \u001b[0m\u001b[2;36m \u001b[0m\u001b[34mINFO    \u001b[0m \u001b[39mMerged \u001b[0m\u001b[1;36m11\u001b[0m\u001b[39m files → \u001b[0m\u001b[1;36m3377\u001b[0m\u001b[39m events for ttbar_had__nominal                             \u001b[0m\u001b[39m \u001b[0m\u001b]8;id=374360;file:///home/cms-jovyan/integration-challenge/cms/utils/skimming.py\u001b\\\u001b[2mskimming.py\u001b[0m\u001b]8;;\u001b\\\u001b[2m:\u001b[0m\u001b]8;id=231388;file:///home/cms-jovyan/integration-challenge/cms/utils/skimming.py#822\u001b\\\u001b[2m822\u001b[0m\u001b]8;;\u001b\\\n"
      ]
     },
     "metadata": {},
     "output_type": "display_data"
    },
    {
     "data": {
      "text/html": [
       "<pre style=\"white-space:pre;overflow-x:auto;line-height:normal;font-family:Menlo,'DejaVu Sans Mono',consolas,'Courier New',monospace\"><span style=\"color: #7fbfbf; text-decoration-color: #7fbfbf\">         </span><span style=\"color: #000080; text-decoration-color: #000080\">INFO    </span> <span style=\"color: #000000; text-decoration-color: #000000\">Cached events for ttbar_had__nominal                                              </span><a href=\"file:///home/cms-jovyan/integration-challenge/cms/utils/skimming.py\" target=\"_blank\"><span style=\"color: #7f7f7f; text-decoration-color: #7f7f7f\">skimming.py</span></a><span style=\"color: #7f7f7f; text-decoration-color: #7f7f7f\">:</span><a href=\"file:///home/cms-jovyan/integration-challenge/cms/utils/skimming.py#831\" target=\"_blank\"><span style=\"color: #7f7f7f; text-decoration-color: #7f7f7f\">831</span></a>\n",
       "</pre>\n"
      ],
      "text/plain": [
       "\u001b[2;36m        \u001b[0m\u001b[2;36m \u001b[0m\u001b[34mINFO    \u001b[0m \u001b[39mCached events for ttbar_had__nominal                                             \u001b[0m\u001b[39m \u001b[0m\u001b]8;id=345814;file:///home/cms-jovyan/integration-challenge/cms/utils/skimming.py\u001b\\\u001b[2mskimming.py\u001b[0m\u001b]8;;\u001b\\\u001b[2m:\u001b[0m\u001b]8;id=205285;file:///home/cms-jovyan/integration-challenge/cms/utils/skimming.py#831\u001b\\\u001b[2m831\u001b[0m\u001b]8;;\u001b\\\n"
      ]
     },
     "metadata": {},
     "output_type": "display_data"
    },
    {
     "data": {
      "text/html": [
       "<pre style=\"white-space:pre;overflow-x:auto;line-height:normal;font-family:Menlo,'DejaVu Sans Mono',consolas,'Courier New',monospace\"><span style=\"color: #7fbfbf; text-decoration-color: #7fbfbf\">         </span><span style=\"color: #000080; text-decoration-color: #000080\">INFO    </span> <span style=\"color: #000000; text-decoration-color: #000000\">Found existing skimmed files for ttbar_semilep__nominal: </span><span style=\"color: #008080; text-decoration-color: #008080; font-weight: bold\">3</span><span style=\"color: #000000; text-decoration-color: #000000\">                        </span><a href=\"file:///home/cms-jovyan/integration-challenge/cms/utils/skimming.py\" target=\"_blank\"><span style=\"color: #7f7f7f; text-decoration-color: #7f7f7f\">skimming.py</span></a><span style=\"color: #7f7f7f; text-decoration-color: #7f7f7f\">:</span><a href=\"file:///home/cms-jovyan/integration-challenge/cms/utils/skimming.py#524\" target=\"_blank\"><span style=\"color: #7f7f7f; text-decoration-color: #7f7f7f\">524</span></a>\n",
       "</pre>\n"
      ],
      "text/plain": [
       "\u001b[2;36m        \u001b[0m\u001b[2;36m \u001b[0m\u001b[34mINFO    \u001b[0m \u001b[39mFound existing skimmed files for ttbar_semilep__nominal: \u001b[0m\u001b[1;36m3\u001b[0m\u001b[39m                       \u001b[0m\u001b[39m \u001b[0m\u001b]8;id=262835;file:///home/cms-jovyan/integration-challenge/cms/utils/skimming.py\u001b\\\u001b[2mskimming.py\u001b[0m\u001b]8;;\u001b\\\u001b[2m:\u001b[0m\u001b]8;id=453582;file:///home/cms-jovyan/integration-challenge/cms/utils/skimming.py#524\u001b\\\u001b[2m524\u001b[0m\u001b]8;;\u001b\\\n"
      ]
     },
     "metadata": {},
     "output_type": "display_data"
    },
    {
     "data": {
      "text/html": [
       "<pre style=\"white-space:pre;overflow-x:auto;line-height:normal;font-family:Menlo,'DejaVu Sans Mono',consolas,'Courier New',monospace\"><span style=\"color: #7fbfbf; text-decoration-color: #7fbfbf\">07:10:15 </span><span style=\"color: #000080; text-decoration-color: #000080\">INFO    </span> <span style=\"color: #000000; text-decoration-color: #000000\">Merged </span><span style=\"color: #008080; text-decoration-color: #008080; font-weight: bold\">3</span><span style=\"color: #000000; text-decoration-color: #000000\"> files → </span><span style=\"color: #008080; text-decoration-color: #008080; font-weight: bold\">22345</span><span style=\"color: #000000; text-decoration-color: #000000\"> events for ttbar_semilep__nominal                          </span><a href=\"file:///home/cms-jovyan/integration-challenge/cms/utils/skimming.py\" target=\"_blank\"><span style=\"color: #7f7f7f; text-decoration-color: #7f7f7f\">skimming.py</span></a><span style=\"color: #7f7f7f; text-decoration-color: #7f7f7f\">:</span><a href=\"file:///home/cms-jovyan/integration-challenge/cms/utils/skimming.py#822\" target=\"_blank\"><span style=\"color: #7f7f7f; text-decoration-color: #7f7f7f\">822</span></a>\n",
       "</pre>\n"
      ],
      "text/plain": [
       "\u001b[2;36m07:10:15\u001b[0m\u001b[2;36m \u001b[0m\u001b[34mINFO    \u001b[0m \u001b[39mMerged \u001b[0m\u001b[1;36m3\u001b[0m\u001b[39m files → \u001b[0m\u001b[1;36m22345\u001b[0m\u001b[39m events for ttbar_semilep__nominal                         \u001b[0m\u001b[39m \u001b[0m\u001b]8;id=58441;file:///home/cms-jovyan/integration-challenge/cms/utils/skimming.py\u001b\\\u001b[2mskimming.py\u001b[0m\u001b]8;;\u001b\\\u001b[2m:\u001b[0m\u001b]8;id=158154;file:///home/cms-jovyan/integration-challenge/cms/utils/skimming.py#822\u001b\\\u001b[2m822\u001b[0m\u001b]8;;\u001b\\\n"
      ]
     },
     "metadata": {},
     "output_type": "display_data"
    },
    {
     "data": {
      "text/html": [
       "<pre style=\"white-space:pre;overflow-x:auto;line-height:normal;font-family:Menlo,'DejaVu Sans Mono',consolas,'Courier New',monospace\"><span style=\"color: #7fbfbf; text-decoration-color: #7fbfbf\">         </span><span style=\"color: #000080; text-decoration-color: #000080\">INFO    </span> <span style=\"color: #000000; text-decoration-color: #000000\">Cached events for ttbar_semilep__nominal                                          </span><a href=\"file:///home/cms-jovyan/integration-challenge/cms/utils/skimming.py\" target=\"_blank\"><span style=\"color: #7f7f7f; text-decoration-color: #7f7f7f\">skimming.py</span></a><span style=\"color: #7f7f7f; text-decoration-color: #7f7f7f\">:</span><a href=\"file:///home/cms-jovyan/integration-challenge/cms/utils/skimming.py#831\" target=\"_blank\"><span style=\"color: #7f7f7f; text-decoration-color: #7f7f7f\">831</span></a>\n",
       "</pre>\n"
      ],
      "text/plain": [
       "\u001b[2;36m        \u001b[0m\u001b[2;36m \u001b[0m\u001b[34mINFO    \u001b[0m \u001b[39mCached events for ttbar_semilep__nominal                                         \u001b[0m\u001b[39m \u001b[0m\u001b]8;id=944588;file:///home/cms-jovyan/integration-challenge/cms/utils/skimming.py\u001b\\\u001b[2mskimming.py\u001b[0m\u001b]8;;\u001b\\\u001b[2m:\u001b[0m\u001b]8;id=183488;file:///home/cms-jovyan/integration-challenge/cms/utils/skimming.py#831\u001b\\\u001b[2m831\u001b[0m\u001b]8;;\u001b\\\n"
      ]
     },
     "metadata": {},
     "output_type": "display_data"
    },
    {
     "data": {
      "text/html": [
       "<pre style=\"white-space:pre;overflow-x:auto;line-height:normal;font-family:Menlo,'DejaVu Sans Mono',consolas,'Courier New',monospace\"><span style=\"color: #7fbfbf; text-decoration-color: #7fbfbf\">         </span><span style=\"color: #000080; text-decoration-color: #000080\">INFO    </span> <span style=\"color: #000000; text-decoration-color: #000000\">Found existing skimmed files for signal__nominal: </span><span style=\"color: #008080; text-decoration-color: #008080; font-weight: bold\">5</span><span style=\"color: #000000; text-decoration-color: #000000\">                               </span><a href=\"file:///home/cms-jovyan/integration-challenge/cms/utils/skimming.py\" target=\"_blank\"><span style=\"color: #7f7f7f; text-decoration-color: #7f7f7f\">skimming.py</span></a><span style=\"color: #7f7f7f; text-decoration-color: #7f7f7f\">:</span><a href=\"file:///home/cms-jovyan/integration-challenge/cms/utils/skimming.py#524\" target=\"_blank\"><span style=\"color: #7f7f7f; text-decoration-color: #7f7f7f\">524</span></a>\n",
       "</pre>\n"
      ],
      "text/plain": [
       "\u001b[2;36m        \u001b[0m\u001b[2;36m \u001b[0m\u001b[34mINFO    \u001b[0m \u001b[39mFound existing skimmed files for signal__nominal: \u001b[0m\u001b[1;36m5\u001b[0m\u001b[39m                              \u001b[0m\u001b[39m \u001b[0m\u001b]8;id=748409;file:///home/cms-jovyan/integration-challenge/cms/utils/skimming.py\u001b\\\u001b[2mskimming.py\u001b[0m\u001b]8;;\u001b\\\u001b[2m:\u001b[0m\u001b]8;id=65738;file:///home/cms-jovyan/integration-challenge/cms/utils/skimming.py#524\u001b\\\u001b[2m524\u001b[0m\u001b]8;;\u001b\\\n"
      ]
     },
     "metadata": {},
     "output_type": "display_data"
    },
    {
     "data": {
      "text/html": [
       "<pre style=\"white-space:pre;overflow-x:auto;line-height:normal;font-family:Menlo,'DejaVu Sans Mono',consolas,'Courier New',monospace\"><span style=\"color: #7fbfbf; text-decoration-color: #7fbfbf\">         </span><span style=\"color: #000080; text-decoration-color: #000080\">INFO    </span> <span style=\"color: #000000; text-decoration-color: #000000\">Merged </span><span style=\"color: #008080; text-decoration-color: #008080; font-weight: bold\">5</span><span style=\"color: #000000; text-decoration-color: #000000\"> files → </span><span style=\"color: #008080; text-decoration-color: #008080; font-weight: bold\">97109</span><span style=\"color: #000000; text-decoration-color: #000000\"> events for signal__nominal                                 </span><a href=\"file:///home/cms-jovyan/integration-challenge/cms/utils/skimming.py\" target=\"_blank\"><span style=\"color: #7f7f7f; text-decoration-color: #7f7f7f\">skimming.py</span></a><span style=\"color: #7f7f7f; text-decoration-color: #7f7f7f\">:</span><a href=\"file:///home/cms-jovyan/integration-challenge/cms/utils/skimming.py#822\" target=\"_blank\"><span style=\"color: #7f7f7f; text-decoration-color: #7f7f7f\">822</span></a>\n",
       "</pre>\n"
      ],
      "text/plain": [
       "\u001b[2;36m        \u001b[0m\u001b[2;36m \u001b[0m\u001b[34mINFO    \u001b[0m \u001b[39mMerged \u001b[0m\u001b[1;36m5\u001b[0m\u001b[39m files → \u001b[0m\u001b[1;36m97109\u001b[0m\u001b[39m events for signal__nominal                                \u001b[0m\u001b[39m \u001b[0m\u001b]8;id=924251;file:///home/cms-jovyan/integration-challenge/cms/utils/skimming.py\u001b\\\u001b[2mskimming.py\u001b[0m\u001b]8;;\u001b\\\u001b[2m:\u001b[0m\u001b]8;id=334627;file:///home/cms-jovyan/integration-challenge/cms/utils/skimming.py#822\u001b\\\u001b[2m822\u001b[0m\u001b]8;;\u001b\\\n"
      ]
     },
     "metadata": {},
     "output_type": "display_data"
    },
    {
     "data": {
      "text/html": [
       "<pre style=\"white-space:pre;overflow-x:auto;line-height:normal;font-family:Menlo,'DejaVu Sans Mono',consolas,'Courier New',monospace\"><span style=\"color: #7fbfbf; text-decoration-color: #7fbfbf\">         </span><span style=\"color: #000080; text-decoration-color: #000080\">INFO    </span> <span style=\"color: #000000; text-decoration-color: #000000\">Cached events for signal__nominal                                                 </span><a href=\"file:///home/cms-jovyan/integration-challenge/cms/utils/skimming.py\" target=\"_blank\"><span style=\"color: #7f7f7f; text-decoration-color: #7f7f7f\">skimming.py</span></a><span style=\"color: #7f7f7f; text-decoration-color: #7f7f7f\">:</span><a href=\"file:///home/cms-jovyan/integration-challenge/cms/utils/skimming.py#831\" target=\"_blank\"><span style=\"color: #7f7f7f; text-decoration-color: #7f7f7f\">831</span></a>\n",
       "</pre>\n"
      ],
      "text/plain": [
       "\u001b[2;36m        \u001b[0m\u001b[2;36m \u001b[0m\u001b[34mINFO    \u001b[0m \u001b[39mCached events for signal__nominal                                                \u001b[0m\u001b[39m \u001b[0m\u001b]8;id=176765;file:///home/cms-jovyan/integration-challenge/cms/utils/skimming.py\u001b\\\u001b[2mskimming.py\u001b[0m\u001b]8;;\u001b\\\u001b[2m:\u001b[0m\u001b]8;id=888561;file:///home/cms-jovyan/integration-challenge/cms/utils/skimming.py#831\u001b\\\u001b[2m831\u001b[0m\u001b]8;;\u001b\\\n"
      ]
     },
     "metadata": {},
     "output_type": "display_data"
    },
    {
     "name": "stdout",
     "output_type": "stream",
     "text": [
      "\n",
      "✅ Skimming complete! Processed datasets structure x:\n",
      "  📁 data processed\n",
      "    └── File 1: 3499 events, 8 branches\n",
      "  📁 wjets__nominal processed\n",
      "    └── File 1: 4780 events, 10 branches\n",
      "  📁 ttbar_lep__nominal processed\n",
      "    └── File 1: 212293 events, 10 branches\n",
      "  📁 ttbar_had__nominal processed\n",
      "    └── File 1: 3377 events, 10 branches\n",
      "  📁 ttbar_semilep__nominal processed\n",
      "    └── File 1: 22345 events, 10 branches\n",
      "  📁 signal__nominal processed\n",
      "    └── File 1: 97109 events, 10 branches\n",
      "\n",
      "💾 Skimmed data saved to: /home/cms-jovyan/integration-challenge/cms/example-demo/outputs/skimmed\n"
     ]
    }
   ],
   "source": [
    "from utils.skimming import process_workitems_with_skimming\n",
    "\n",
    "# Extract workitems and fileset from metadata generator\n",
    "fileset = metadata_generator.fileset\n",
    "workitems = metadata_generator.workitems\n",
    "\n",
    "print(f\"📊 Processing {len(workitems)} workitems across {len(fileset)} datasets\")\n",
    "\n",
    "# Disable caching for demonstration\n",
    "validated_config.general.read_from_cache = False\n",
    "validated_config.general.run_skimming = True\n",
    "\n",
    "client, cluster = get_client()\n",
    "# Skim data with dask according to the workitems\n",
    "processed_datasets = process_workitems_with_skimming(\n",
    "    workitems,\n",
    "    validated_config,\n",
    "    output_manager,\n",
    "    fileset,\n",
    "    metadata_generator.nanoaods_summary\n",
    ")\n",
    "close_client(client, cluster)\n",
    "\n",
    "# Display the structure of processed datasets\n",
    "print(f\"\\n✅ Skimming complete! Processed datasets structure x:\")\n",
    "for dataset_name, events_list in processed_datasets.items():\n",
    "    print(f\"  📁 {dataset_name} processed\")\n",
    "    for i, (events, metadata) in enumerate(events_list):\n",
    "        print(f\"    └── File {i+1}: {len(events)} events, {len(events.fields)} branches\")\n",
    "\n",
    "print(f\"\\n💾 Skimmed data saved to: {output_manager.get_skimmed_dir()}\")"
   ]
  },
  {
   "cell_type": "code",
   "execution_count": 9,
   "id": "a2b7f222",
   "metadata": {},
   "outputs": [
    {
     "data": {
      "text/html": [
       "<pre style=\"white-space:pre;overflow-x:auto;line-height:normal;font-family:Menlo,'DejaVu Sans Mono',consolas,'Courier New',monospace\"><span style=\"color: #7fbfbf; text-decoration-color: #7fbfbf\">         </span><span style=\"color: #000080; text-decoration-color: #000080\">INFO    </span> <span style=\"color: #000000; text-decoration-color: #000000\">Starting workitem preprocessing with </span><span style=\"color: #008080; text-decoration-color: #008080; font-weight: bold\">58</span><span style=\"color: #000000; text-decoration-color: #000000\"> workitems                                 </span><a href=\"file:///home/cms-jovyan/integration-challenge/cms/utils/skimming.py\" target=\"_blank\"><span style=\"color: #7f7f7f; text-decoration-color: #7f7f7f\">skimming.py</span></a><span style=\"color: #7f7f7f; text-decoration-color: #7f7f7f\">:</span><a href=\"file:///home/cms-jovyan/integration-challenge/cms/utils/skimming.py#705\" target=\"_blank\"><span style=\"color: #7f7f7f; text-decoration-color: #7f7f7f\">705</span></a>\n",
       "</pre>\n"
      ],
      "text/plain": [
       "\u001b[2;36m        \u001b[0m\u001b[2;36m \u001b[0m\u001b[34mINFO    \u001b[0m \u001b[39mStarting workitem preprocessing with \u001b[0m\u001b[1;36m58\u001b[0m\u001b[39m workitems                                \u001b[0m\u001b[39m \u001b[0m\u001b]8;id=42337;file:///home/cms-jovyan/integration-challenge/cms/utils/skimming.py\u001b\\\u001b[2mskimming.py\u001b[0m\u001b]8;;\u001b\\\u001b[2m:\u001b[0m\u001b]8;id=473959;file:///home/cms-jovyan/integration-challenge/cms/utils/skimming.py#705\u001b\\\u001b[2m705\u001b[0m\u001b]8;;\u001b\\\n"
      ]
     },
     "metadata": {},
     "output_type": "display_data"
    },
    {
     "data": {
      "text/html": [
       "<pre style=\"white-space:pre;overflow-x:auto;line-height:normal;font-family:Menlo,'DejaVu Sans Mono',consolas,'Courier New',monospace\"><span style=\"color: #7fbfbf; text-decoration-color: #7fbfbf\">         </span><span style=\"color: #000080; text-decoration-color: #000080\">INFO    </span> <span style=\"color: #000000; text-decoration-color: #000000\">Initialized workitem-based skimming manager                                       </span><a href=\"file:///home/cms-jovyan/integration-challenge/cms/utils/skimming.py\" target=\"_blank\"><span style=\"color: #7f7f7f; text-decoration-color: #7f7f7f\">skimming.py</span></a><span style=\"color: #7f7f7f; text-decoration-color: #7f7f7f\">:</span><a href=\"file:///home/cms-jovyan/integration-challenge/cms/utils/skimming.py#372\" target=\"_blank\"><span style=\"color: #7f7f7f; text-decoration-color: #7f7f7f\">372</span></a>\n",
       "</pre>\n"
      ],
      "text/plain": [
       "\u001b[2;36m        \u001b[0m\u001b[2;36m \u001b[0m\u001b[34mINFO    \u001b[0m \u001b[39mInitialized workitem-based skimming manager                                      \u001b[0m\u001b[39m \u001b[0m\u001b]8;id=782257;file:///home/cms-jovyan/integration-challenge/cms/utils/skimming.py\u001b\\\u001b[2mskimming.py\u001b[0m\u001b]8;;\u001b\\\u001b[2m:\u001b[0m\u001b]8;id=793298;file:///home/cms-jovyan/integration-challenge/cms/utils/skimming.py#372\u001b\\\u001b[2m372\u001b[0m\u001b]8;;\u001b\\\n"
      ]
     },
     "metadata": {},
     "output_type": "display_data"
    },
    {
     "data": {
      "text/html": [
       "<pre style=\"white-space:pre;overflow-x:auto;line-height:normal;font-family:Menlo,'DejaVu Sans Mono',consolas,'Courier New',monospace\"><span style=\"color: #7fbfbf; text-decoration-color: #7fbfbf\">         </span><span style=\"color: #000080; text-decoration-color: #000080\">INFO    </span> <span style=\"color: #000000; text-decoration-color: #000000\">Reading from saved files                                                          </span><a href=\"file:///home/cms-jovyan/integration-challenge/cms/utils/skimming.py\" target=\"_blank\"><span style=\"color: #7f7f7f; text-decoration-color: #7f7f7f\">skimming.py</span></a><span style=\"color: #7f7f7f; text-decoration-color: #7f7f7f\">:</span><a href=\"file:///home/cms-jovyan/integration-challenge/cms/utils/skimming.py#725\" target=\"_blank\"><span style=\"color: #7f7f7f; text-decoration-color: #7f7f7f\">725</span></a>\n",
       "</pre>\n"
      ],
      "text/plain": [
       "\u001b[2;36m        \u001b[0m\u001b[2;36m \u001b[0m\u001b[34mINFO    \u001b[0m \u001b[39mReading from saved files                                                         \u001b[0m\u001b[39m \u001b[0m\u001b]8;id=779000;file:///home/cms-jovyan/integration-challenge/cms/utils/skimming.py\u001b\\\u001b[2mskimming.py\u001b[0m\u001b]8;;\u001b\\\u001b[2m:\u001b[0m\u001b]8;id=876955;file:///home/cms-jovyan/integration-challenge/cms/utils/skimming.py#725\u001b\\\u001b[2m725\u001b[0m\u001b]8;;\u001b\\\n"
      ]
     },
     "metadata": {},
     "output_type": "display_data"
    },
    {
     "data": {
      "text/html": [
       "<pre style=\"white-space:pre;overflow-x:auto;line-height:normal;font-family:Menlo,'DejaVu Sans Mono',consolas,'Courier New',monospace\"><span style=\"color: #7fbfbf; text-decoration-color: #7fbfbf\">         </span><span style=\"color: #000080; text-decoration-color: #000080\">INFO    </span> <span style=\"color: #000000; text-decoration-color: #000000\">Found existing skimmed files for data: </span><span style=\"color: #008080; text-decoration-color: #008080; font-weight: bold\">1</span><span style=\"color: #000000; text-decoration-color: #000000\">                                          </span><a href=\"file:///home/cms-jovyan/integration-challenge/cms/utils/skimming.py\" target=\"_blank\"><span style=\"color: #7f7f7f; text-decoration-color: #7f7f7f\">skimming.py</span></a><span style=\"color: #7f7f7f; text-decoration-color: #7f7f7f\">:</span><a href=\"file:///home/cms-jovyan/integration-challenge/cms/utils/skimming.py#524\" target=\"_blank\"><span style=\"color: #7f7f7f; text-decoration-color: #7f7f7f\">524</span></a>\n",
       "</pre>\n"
      ],
      "text/plain": [
       "\u001b[2;36m        \u001b[0m\u001b[2;36m \u001b[0m\u001b[34mINFO    \u001b[0m \u001b[39mFound existing skimmed files for data: \u001b[0m\u001b[1;36m1\u001b[0m\u001b[39m                                         \u001b[0m\u001b[39m \u001b[0m\u001b]8;id=267596;file:///home/cms-jovyan/integration-challenge/cms/utils/skimming.py\u001b\\\u001b[2mskimming.py\u001b[0m\u001b]8;;\u001b\\\u001b[2m:\u001b[0m\u001b]8;id=544997;file:///home/cms-jovyan/integration-challenge/cms/utils/skimming.py#524\u001b\\\u001b[2m524\u001b[0m\u001b]8;;\u001b\\\n"
      ]
     },
     "metadata": {},
     "output_type": "display_data"
    },
    {
     "data": {
      "text/html": [
       "<pre style=\"white-space:pre;overflow-x:auto;line-height:normal;font-family:Menlo,'DejaVu Sans Mono',consolas,'Courier New',monospace\"><span style=\"color: #7fbfbf; text-decoration-color: #7fbfbf\">         </span><span style=\"color: #000080; text-decoration-color: #000080\">INFO    </span> <span style=\"color: #000000; text-decoration-color: #000000\">Loading cached events for data                                                    </span><a href=\"file:///home/cms-jovyan/integration-challenge/cms/utils/skimming.py\" target=\"_blank\"><span style=\"color: #7f7f7f; text-decoration-color: #7f7f7f\">skimming.py</span></a><span style=\"color: #7f7f7f; text-decoration-color: #7f7f7f\">:</span><a href=\"file:///home/cms-jovyan/integration-challenge/cms/utils/skimming.py#784\" target=\"_blank\"><span style=\"color: #7f7f7f; text-decoration-color: #7f7f7f\">784</span></a>\n",
       "</pre>\n"
      ],
      "text/plain": [
       "\u001b[2;36m        \u001b[0m\u001b[2;36m \u001b[0m\u001b[34mINFO    \u001b[0m \u001b[39mLoading cached events for data                                                   \u001b[0m\u001b[39m \u001b[0m\u001b]8;id=550712;file:///home/cms-jovyan/integration-challenge/cms/utils/skimming.py\u001b\\\u001b[2mskimming.py\u001b[0m\u001b]8;;\u001b\\\u001b[2m:\u001b[0m\u001b]8;id=804574;file:///home/cms-jovyan/integration-challenge/cms/utils/skimming.py#784\u001b\\\u001b[2m784\u001b[0m\u001b]8;;\u001b\\\n"
      ]
     },
     "metadata": {},
     "output_type": "display_data"
    },
    {
     "data": {
      "text/html": [
       "<pre style=\"white-space:pre;overflow-x:auto;line-height:normal;font-family:Menlo,'DejaVu Sans Mono',consolas,'Courier New',monospace\"><span style=\"color: #7fbfbf; text-decoration-color: #7fbfbf\">         </span><span style=\"color: #000080; text-decoration-color: #000080\">INFO    </span> <span style=\"color: #000000; text-decoration-color: #000000\">Loaded </span><span style=\"color: #008080; text-decoration-color: #008080; font-weight: bold\">3499</span><span style=\"color: #000000; text-decoration-color: #000000\"> cached events                                                         </span><a href=\"file:///home/cms-jovyan/integration-challenge/cms/utils/skimming.py\" target=\"_blank\"><span style=\"color: #7f7f7f; text-decoration-color: #7f7f7f\">skimming.py</span></a><span style=\"color: #7f7f7f; text-decoration-color: #7f7f7f\">:</span><a href=\"file:///home/cms-jovyan/integration-challenge/cms/utils/skimming.py#788\" target=\"_blank\"><span style=\"color: #7f7f7f; text-decoration-color: #7f7f7f\">788</span></a>\n",
       "</pre>\n"
      ],
      "text/plain": [
       "\u001b[2;36m        \u001b[0m\u001b[2;36m \u001b[0m\u001b[34mINFO    \u001b[0m \u001b[39mLoaded \u001b[0m\u001b[1;36m3499\u001b[0m\u001b[39m cached events                                                        \u001b[0m\u001b[39m \u001b[0m\u001b]8;id=828440;file:///home/cms-jovyan/integration-challenge/cms/utils/skimming.py\u001b\\\u001b[2mskimming.py\u001b[0m\u001b]8;;\u001b\\\u001b[2m:\u001b[0m\u001b]8;id=37192;file:///home/cms-jovyan/integration-challenge/cms/utils/skimming.py#788\u001b\\\u001b[2m788\u001b[0m\u001b]8;;\u001b\\\n"
      ]
     },
     "metadata": {},
     "output_type": "display_data"
    },
    {
     "data": {
      "text/html": [
       "<pre style=\"white-space:pre;overflow-x:auto;line-height:normal;font-family:Menlo,'DejaVu Sans Mono',consolas,'Courier New',monospace\"><span style=\"color: #7fbfbf; text-decoration-color: #7fbfbf\">         </span><span style=\"color: #000080; text-decoration-color: #000080\">INFO    </span> <span style=\"color: #000000; text-decoration-color: #000000\">Found existing skimmed files for wjets__nominal: </span><span style=\"color: #008080; text-decoration-color: #008080; font-weight: bold\">23</span><span style=\"color: #000000; text-decoration-color: #000000\">                               </span><a href=\"file:///home/cms-jovyan/integration-challenge/cms/utils/skimming.py\" target=\"_blank\"><span style=\"color: #7f7f7f; text-decoration-color: #7f7f7f\">skimming.py</span></a><span style=\"color: #7f7f7f; text-decoration-color: #7f7f7f\">:</span><a href=\"file:///home/cms-jovyan/integration-challenge/cms/utils/skimming.py#524\" target=\"_blank\"><span style=\"color: #7f7f7f; text-decoration-color: #7f7f7f\">524</span></a>\n",
       "</pre>\n"
      ],
      "text/plain": [
       "\u001b[2;36m        \u001b[0m\u001b[2;36m \u001b[0m\u001b[34mINFO    \u001b[0m \u001b[39mFound existing skimmed files for wjets__nominal: \u001b[0m\u001b[1;36m23\u001b[0m\u001b[39m                              \u001b[0m\u001b[39m \u001b[0m\u001b]8;id=713694;file:///home/cms-jovyan/integration-challenge/cms/utils/skimming.py\u001b\\\u001b[2mskimming.py\u001b[0m\u001b]8;;\u001b\\\u001b[2m:\u001b[0m\u001b]8;id=600739;file:///home/cms-jovyan/integration-challenge/cms/utils/skimming.py#524\u001b\\\u001b[2m524\u001b[0m\u001b]8;;\u001b\\\n"
      ]
     },
     "metadata": {},
     "output_type": "display_data"
    },
    {
     "data": {
      "text/html": [
       "<pre style=\"white-space:pre;overflow-x:auto;line-height:normal;font-family:Menlo,'DejaVu Sans Mono',consolas,'Courier New',monospace\"><span style=\"color: #7fbfbf; text-decoration-color: #7fbfbf\">         </span><span style=\"color: #000080; text-decoration-color: #000080\">INFO    </span> <span style=\"color: #000000; text-decoration-color: #000000\">Loading cached events for wjets__nominal                                          </span><a href=\"file:///home/cms-jovyan/integration-challenge/cms/utils/skimming.py\" target=\"_blank\"><span style=\"color: #7f7f7f; text-decoration-color: #7f7f7f\">skimming.py</span></a><span style=\"color: #7f7f7f; text-decoration-color: #7f7f7f\">:</span><a href=\"file:///home/cms-jovyan/integration-challenge/cms/utils/skimming.py#784\" target=\"_blank\"><span style=\"color: #7f7f7f; text-decoration-color: #7f7f7f\">784</span></a>\n",
       "</pre>\n"
      ],
      "text/plain": [
       "\u001b[2;36m        \u001b[0m\u001b[2;36m \u001b[0m\u001b[34mINFO    \u001b[0m \u001b[39mLoading cached events for wjets__nominal                                         \u001b[0m\u001b[39m \u001b[0m\u001b]8;id=898768;file:///home/cms-jovyan/integration-challenge/cms/utils/skimming.py\u001b\\\u001b[2mskimming.py\u001b[0m\u001b]8;;\u001b\\\u001b[2m:\u001b[0m\u001b]8;id=653261;file:///home/cms-jovyan/integration-challenge/cms/utils/skimming.py#784\u001b\\\u001b[2m784\u001b[0m\u001b]8;;\u001b\\\n"
      ]
     },
     "metadata": {},
     "output_type": "display_data"
    },
    {
     "data": {
      "text/html": [
       "<pre style=\"white-space:pre;overflow-x:auto;line-height:normal;font-family:Menlo,'DejaVu Sans Mono',consolas,'Courier New',monospace\"><span style=\"color: #7fbfbf; text-decoration-color: #7fbfbf\">         </span><span style=\"color: #000080; text-decoration-color: #000080\">INFO    </span> <span style=\"color: #000000; text-decoration-color: #000000\">Loaded </span><span style=\"color: #008080; text-decoration-color: #008080; font-weight: bold\">4780</span><span style=\"color: #000000; text-decoration-color: #000000\"> cached events                                                         </span><a href=\"file:///home/cms-jovyan/integration-challenge/cms/utils/skimming.py\" target=\"_blank\"><span style=\"color: #7f7f7f; text-decoration-color: #7f7f7f\">skimming.py</span></a><span style=\"color: #7f7f7f; text-decoration-color: #7f7f7f\">:</span><a href=\"file:///home/cms-jovyan/integration-challenge/cms/utils/skimming.py#788\" target=\"_blank\"><span style=\"color: #7f7f7f; text-decoration-color: #7f7f7f\">788</span></a>\n",
       "</pre>\n"
      ],
      "text/plain": [
       "\u001b[2;36m        \u001b[0m\u001b[2;36m \u001b[0m\u001b[34mINFO    \u001b[0m \u001b[39mLoaded \u001b[0m\u001b[1;36m4780\u001b[0m\u001b[39m cached events                                                        \u001b[0m\u001b[39m \u001b[0m\u001b]8;id=305469;file:///home/cms-jovyan/integration-challenge/cms/utils/skimming.py\u001b\\\u001b[2mskimming.py\u001b[0m\u001b]8;;\u001b\\\u001b[2m:\u001b[0m\u001b]8;id=192219;file:///home/cms-jovyan/integration-challenge/cms/utils/skimming.py#788\u001b\\\u001b[2m788\u001b[0m\u001b]8;;\u001b\\\n"
      ]
     },
     "metadata": {},
     "output_type": "display_data"
    },
    {
     "data": {
      "text/html": [
       "<pre style=\"white-space:pre;overflow-x:auto;line-height:normal;font-family:Menlo,'DejaVu Sans Mono',consolas,'Courier New',monospace\"><span style=\"color: #7fbfbf; text-decoration-color: #7fbfbf\">         </span><span style=\"color: #000080; text-decoration-color: #000080\">INFO    </span> <span style=\"color: #000000; text-decoration-color: #000000\">Found existing skimmed files for ttbar_lep__nominal: </span><span style=\"color: #008080; text-decoration-color: #008080; font-weight: bold\">13</span><span style=\"color: #000000; text-decoration-color: #000000\">                           </span><a href=\"file:///home/cms-jovyan/integration-challenge/cms/utils/skimming.py\" target=\"_blank\"><span style=\"color: #7f7f7f; text-decoration-color: #7f7f7f\">skimming.py</span></a><span style=\"color: #7f7f7f; text-decoration-color: #7f7f7f\">:</span><a href=\"file:///home/cms-jovyan/integration-challenge/cms/utils/skimming.py#524\" target=\"_blank\"><span style=\"color: #7f7f7f; text-decoration-color: #7f7f7f\">524</span></a>\n",
       "</pre>\n"
      ],
      "text/plain": [
       "\u001b[2;36m        \u001b[0m\u001b[2;36m \u001b[0m\u001b[34mINFO    \u001b[0m \u001b[39mFound existing skimmed files for ttbar_lep__nominal: \u001b[0m\u001b[1;36m13\u001b[0m\u001b[39m                          \u001b[0m\u001b[39m \u001b[0m\u001b]8;id=486027;file:///home/cms-jovyan/integration-challenge/cms/utils/skimming.py\u001b\\\u001b[2mskimming.py\u001b[0m\u001b]8;;\u001b\\\u001b[2m:\u001b[0m\u001b]8;id=549486;file:///home/cms-jovyan/integration-challenge/cms/utils/skimming.py#524\u001b\\\u001b[2m524\u001b[0m\u001b]8;;\u001b\\\n"
      ]
     },
     "metadata": {},
     "output_type": "display_data"
    },
    {
     "data": {
      "text/html": [
       "<pre style=\"white-space:pre;overflow-x:auto;line-height:normal;font-family:Menlo,'DejaVu Sans Mono',consolas,'Courier New',monospace\"><span style=\"color: #7fbfbf; text-decoration-color: #7fbfbf\">         </span><span style=\"color: #000080; text-decoration-color: #000080\">INFO    </span> <span style=\"color: #000000; text-decoration-color: #000000\">Loading cached events for ttbar_lep__nominal                                      </span><a href=\"file:///home/cms-jovyan/integration-challenge/cms/utils/skimming.py\" target=\"_blank\"><span style=\"color: #7f7f7f; text-decoration-color: #7f7f7f\">skimming.py</span></a><span style=\"color: #7f7f7f; text-decoration-color: #7f7f7f\">:</span><a href=\"file:///home/cms-jovyan/integration-challenge/cms/utils/skimming.py#784\" target=\"_blank\"><span style=\"color: #7f7f7f; text-decoration-color: #7f7f7f\">784</span></a>\n",
       "</pre>\n"
      ],
      "text/plain": [
       "\u001b[2;36m        \u001b[0m\u001b[2;36m \u001b[0m\u001b[34mINFO    \u001b[0m \u001b[39mLoading cached events for ttbar_lep__nominal                                     \u001b[0m\u001b[39m \u001b[0m\u001b]8;id=941075;file:///home/cms-jovyan/integration-challenge/cms/utils/skimming.py\u001b\\\u001b[2mskimming.py\u001b[0m\u001b]8;;\u001b\\\u001b[2m:\u001b[0m\u001b]8;id=477254;file:///home/cms-jovyan/integration-challenge/cms/utils/skimming.py#784\u001b\\\u001b[2m784\u001b[0m\u001b]8;;\u001b\\\n"
      ]
     },
     "metadata": {},
     "output_type": "display_data"
    },
    {
     "data": {
      "text/html": [
       "<pre style=\"white-space:pre;overflow-x:auto;line-height:normal;font-family:Menlo,'DejaVu Sans Mono',consolas,'Courier New',monospace\"><span style=\"color: #7fbfbf; text-decoration-color: #7fbfbf\">         </span><span style=\"color: #000080; text-decoration-color: #000080\">INFO    </span> <span style=\"color: #000000; text-decoration-color: #000000\">Loaded </span><span style=\"color: #008080; text-decoration-color: #008080; font-weight: bold\">212293</span><span style=\"color: #000000; text-decoration-color: #000000\"> cached events                                                       </span><a href=\"file:///home/cms-jovyan/integration-challenge/cms/utils/skimming.py\" target=\"_blank\"><span style=\"color: #7f7f7f; text-decoration-color: #7f7f7f\">skimming.py</span></a><span style=\"color: #7f7f7f; text-decoration-color: #7f7f7f\">:</span><a href=\"file:///home/cms-jovyan/integration-challenge/cms/utils/skimming.py#788\" target=\"_blank\"><span style=\"color: #7f7f7f; text-decoration-color: #7f7f7f\">788</span></a>\n",
       "</pre>\n"
      ],
      "text/plain": [
       "\u001b[2;36m        \u001b[0m\u001b[2;36m \u001b[0m\u001b[34mINFO    \u001b[0m \u001b[39mLoaded \u001b[0m\u001b[1;36m212293\u001b[0m\u001b[39m cached events                                                      \u001b[0m\u001b[39m \u001b[0m\u001b]8;id=398172;file:///home/cms-jovyan/integration-challenge/cms/utils/skimming.py\u001b\\\u001b[2mskimming.py\u001b[0m\u001b]8;;\u001b\\\u001b[2m:\u001b[0m\u001b]8;id=928470;file:///home/cms-jovyan/integration-challenge/cms/utils/skimming.py#788\u001b\\\u001b[2m788\u001b[0m\u001b]8;;\u001b\\\n"
      ]
     },
     "metadata": {},
     "output_type": "display_data"
    },
    {
     "data": {
      "text/html": [
       "<pre style=\"white-space:pre;overflow-x:auto;line-height:normal;font-family:Menlo,'DejaVu Sans Mono',consolas,'Courier New',monospace\"><span style=\"color: #7fbfbf; text-decoration-color: #7fbfbf\">         </span><span style=\"color: #000080; text-decoration-color: #000080\">INFO    </span> <span style=\"color: #000000; text-decoration-color: #000000\">Found existing skimmed files for ttbar_had__nominal: </span><span style=\"color: #008080; text-decoration-color: #008080; font-weight: bold\">11</span><span style=\"color: #000000; text-decoration-color: #000000\">                           </span><a href=\"file:///home/cms-jovyan/integration-challenge/cms/utils/skimming.py\" target=\"_blank\"><span style=\"color: #7f7f7f; text-decoration-color: #7f7f7f\">skimming.py</span></a><span style=\"color: #7f7f7f; text-decoration-color: #7f7f7f\">:</span><a href=\"file:///home/cms-jovyan/integration-challenge/cms/utils/skimming.py#524\" target=\"_blank\"><span style=\"color: #7f7f7f; text-decoration-color: #7f7f7f\">524</span></a>\n",
       "</pre>\n"
      ],
      "text/plain": [
       "\u001b[2;36m        \u001b[0m\u001b[2;36m \u001b[0m\u001b[34mINFO    \u001b[0m \u001b[39mFound existing skimmed files for ttbar_had__nominal: \u001b[0m\u001b[1;36m11\u001b[0m\u001b[39m                          \u001b[0m\u001b[39m \u001b[0m\u001b]8;id=136330;file:///home/cms-jovyan/integration-challenge/cms/utils/skimming.py\u001b\\\u001b[2mskimming.py\u001b[0m\u001b]8;;\u001b\\\u001b[2m:\u001b[0m\u001b]8;id=337543;file:///home/cms-jovyan/integration-challenge/cms/utils/skimming.py#524\u001b\\\u001b[2m524\u001b[0m\u001b]8;;\u001b\\\n"
      ]
     },
     "metadata": {},
     "output_type": "display_data"
    },
    {
     "data": {
      "text/html": [
       "<pre style=\"white-space:pre;overflow-x:auto;line-height:normal;font-family:Menlo,'DejaVu Sans Mono',consolas,'Courier New',monospace\"><span style=\"color: #7fbfbf; text-decoration-color: #7fbfbf\">         </span><span style=\"color: #000080; text-decoration-color: #000080\">INFO    </span> <span style=\"color: #000000; text-decoration-color: #000000\">Loading cached events for ttbar_had__nominal                                      </span><a href=\"file:///home/cms-jovyan/integration-challenge/cms/utils/skimming.py\" target=\"_blank\"><span style=\"color: #7f7f7f; text-decoration-color: #7f7f7f\">skimming.py</span></a><span style=\"color: #7f7f7f; text-decoration-color: #7f7f7f\">:</span><a href=\"file:///home/cms-jovyan/integration-challenge/cms/utils/skimming.py#784\" target=\"_blank\"><span style=\"color: #7f7f7f; text-decoration-color: #7f7f7f\">784</span></a>\n",
       "</pre>\n"
      ],
      "text/plain": [
       "\u001b[2;36m        \u001b[0m\u001b[2;36m \u001b[0m\u001b[34mINFO    \u001b[0m \u001b[39mLoading cached events for ttbar_had__nominal                                     \u001b[0m\u001b[39m \u001b[0m\u001b]8;id=420318;file:///home/cms-jovyan/integration-challenge/cms/utils/skimming.py\u001b\\\u001b[2mskimming.py\u001b[0m\u001b]8;;\u001b\\\u001b[2m:\u001b[0m\u001b]8;id=896560;file:///home/cms-jovyan/integration-challenge/cms/utils/skimming.py#784\u001b\\\u001b[2m784\u001b[0m\u001b]8;;\u001b\\\n"
      ]
     },
     "metadata": {},
     "output_type": "display_data"
    },
    {
     "data": {
      "text/html": [
       "<pre style=\"white-space:pre;overflow-x:auto;line-height:normal;font-family:Menlo,'DejaVu Sans Mono',consolas,'Courier New',monospace\"><span style=\"color: #7fbfbf; text-decoration-color: #7fbfbf\">         </span><span style=\"color: #000080; text-decoration-color: #000080\">INFO    </span> <span style=\"color: #000000; text-decoration-color: #000000\">Loaded </span><span style=\"color: #008080; text-decoration-color: #008080; font-weight: bold\">3377</span><span style=\"color: #000000; text-decoration-color: #000000\"> cached events                                                         </span><a href=\"file:///home/cms-jovyan/integration-challenge/cms/utils/skimming.py\" target=\"_blank\"><span style=\"color: #7f7f7f; text-decoration-color: #7f7f7f\">skimming.py</span></a><span style=\"color: #7f7f7f; text-decoration-color: #7f7f7f\">:</span><a href=\"file:///home/cms-jovyan/integration-challenge/cms/utils/skimming.py#788\" target=\"_blank\"><span style=\"color: #7f7f7f; text-decoration-color: #7f7f7f\">788</span></a>\n",
       "</pre>\n"
      ],
      "text/plain": [
       "\u001b[2;36m        \u001b[0m\u001b[2;36m \u001b[0m\u001b[34mINFO    \u001b[0m \u001b[39mLoaded \u001b[0m\u001b[1;36m3377\u001b[0m\u001b[39m cached events                                                        \u001b[0m\u001b[39m \u001b[0m\u001b]8;id=894647;file:///home/cms-jovyan/integration-challenge/cms/utils/skimming.py\u001b\\\u001b[2mskimming.py\u001b[0m\u001b]8;;\u001b\\\u001b[2m:\u001b[0m\u001b]8;id=935843;file:///home/cms-jovyan/integration-challenge/cms/utils/skimming.py#788\u001b\\\u001b[2m788\u001b[0m\u001b]8;;\u001b\\\n"
      ]
     },
     "metadata": {},
     "output_type": "display_data"
    },
    {
     "data": {
      "text/html": [
       "<pre style=\"white-space:pre;overflow-x:auto;line-height:normal;font-family:Menlo,'DejaVu Sans Mono',consolas,'Courier New',monospace\"><span style=\"color: #7fbfbf; text-decoration-color: #7fbfbf\">         </span><span style=\"color: #000080; text-decoration-color: #000080\">INFO    </span> <span style=\"color: #000000; text-decoration-color: #000000\">Found existing skimmed files for ttbar_semilep__nominal: </span><span style=\"color: #008080; text-decoration-color: #008080; font-weight: bold\">3</span><span style=\"color: #000000; text-decoration-color: #000000\">                        </span><a href=\"file:///home/cms-jovyan/integration-challenge/cms/utils/skimming.py\" target=\"_blank\"><span style=\"color: #7f7f7f; text-decoration-color: #7f7f7f\">skimming.py</span></a><span style=\"color: #7f7f7f; text-decoration-color: #7f7f7f\">:</span><a href=\"file:///home/cms-jovyan/integration-challenge/cms/utils/skimming.py#524\" target=\"_blank\"><span style=\"color: #7f7f7f; text-decoration-color: #7f7f7f\">524</span></a>\n",
       "</pre>\n"
      ],
      "text/plain": [
       "\u001b[2;36m        \u001b[0m\u001b[2;36m \u001b[0m\u001b[34mINFO    \u001b[0m \u001b[39mFound existing skimmed files for ttbar_semilep__nominal: \u001b[0m\u001b[1;36m3\u001b[0m\u001b[39m                       \u001b[0m\u001b[39m \u001b[0m\u001b]8;id=623798;file:///home/cms-jovyan/integration-challenge/cms/utils/skimming.py\u001b\\\u001b[2mskimming.py\u001b[0m\u001b]8;;\u001b\\\u001b[2m:\u001b[0m\u001b]8;id=306391;file:///home/cms-jovyan/integration-challenge/cms/utils/skimming.py#524\u001b\\\u001b[2m524\u001b[0m\u001b]8;;\u001b\\\n"
      ]
     },
     "metadata": {},
     "output_type": "display_data"
    },
    {
     "data": {
      "text/html": [
       "<pre style=\"white-space:pre;overflow-x:auto;line-height:normal;font-family:Menlo,'DejaVu Sans Mono',consolas,'Courier New',monospace\"><span style=\"color: #7fbfbf; text-decoration-color: #7fbfbf\">         </span><span style=\"color: #000080; text-decoration-color: #000080\">INFO    </span> <span style=\"color: #000000; text-decoration-color: #000000\">Loading cached events for ttbar_semilep__nominal                                  </span><a href=\"file:///home/cms-jovyan/integration-challenge/cms/utils/skimming.py\" target=\"_blank\"><span style=\"color: #7f7f7f; text-decoration-color: #7f7f7f\">skimming.py</span></a><span style=\"color: #7f7f7f; text-decoration-color: #7f7f7f\">:</span><a href=\"file:///home/cms-jovyan/integration-challenge/cms/utils/skimming.py#784\" target=\"_blank\"><span style=\"color: #7f7f7f; text-decoration-color: #7f7f7f\">784</span></a>\n",
       "</pre>\n"
      ],
      "text/plain": [
       "\u001b[2;36m        \u001b[0m\u001b[2;36m \u001b[0m\u001b[34mINFO    \u001b[0m \u001b[39mLoading cached events for ttbar_semilep__nominal                                 \u001b[0m\u001b[39m \u001b[0m\u001b]8;id=575804;file:///home/cms-jovyan/integration-challenge/cms/utils/skimming.py\u001b\\\u001b[2mskimming.py\u001b[0m\u001b]8;;\u001b\\\u001b[2m:\u001b[0m\u001b]8;id=381549;file:///home/cms-jovyan/integration-challenge/cms/utils/skimming.py#784\u001b\\\u001b[2m784\u001b[0m\u001b]8;;\u001b\\\n"
      ]
     },
     "metadata": {},
     "output_type": "display_data"
    },
    {
     "data": {
      "text/html": [
       "<pre style=\"white-space:pre;overflow-x:auto;line-height:normal;font-family:Menlo,'DejaVu Sans Mono',consolas,'Courier New',monospace\"><span style=\"color: #7fbfbf; text-decoration-color: #7fbfbf\">         </span><span style=\"color: #000080; text-decoration-color: #000080\">INFO    </span> <span style=\"color: #000000; text-decoration-color: #000000\">Loaded </span><span style=\"color: #008080; text-decoration-color: #008080; font-weight: bold\">22345</span><span style=\"color: #000000; text-decoration-color: #000000\"> cached events                                                        </span><a href=\"file:///home/cms-jovyan/integration-challenge/cms/utils/skimming.py\" target=\"_blank\"><span style=\"color: #7f7f7f; text-decoration-color: #7f7f7f\">skimming.py</span></a><span style=\"color: #7f7f7f; text-decoration-color: #7f7f7f\">:</span><a href=\"file:///home/cms-jovyan/integration-challenge/cms/utils/skimming.py#788\" target=\"_blank\"><span style=\"color: #7f7f7f; text-decoration-color: #7f7f7f\">788</span></a>\n",
       "</pre>\n"
      ],
      "text/plain": [
       "\u001b[2;36m        \u001b[0m\u001b[2;36m \u001b[0m\u001b[34mINFO    \u001b[0m \u001b[39mLoaded \u001b[0m\u001b[1;36m22345\u001b[0m\u001b[39m cached events                                                       \u001b[0m\u001b[39m \u001b[0m\u001b]8;id=213231;file:///home/cms-jovyan/integration-challenge/cms/utils/skimming.py\u001b\\\u001b[2mskimming.py\u001b[0m\u001b]8;;\u001b\\\u001b[2m:\u001b[0m\u001b]8;id=592149;file:///home/cms-jovyan/integration-challenge/cms/utils/skimming.py#788\u001b\\\u001b[2m788\u001b[0m\u001b]8;;\u001b\\\n"
      ]
     },
     "metadata": {},
     "output_type": "display_data"
    },
    {
     "data": {
      "text/html": [
       "<pre style=\"white-space:pre;overflow-x:auto;line-height:normal;font-family:Menlo,'DejaVu Sans Mono',consolas,'Courier New',monospace\"><span style=\"color: #7fbfbf; text-decoration-color: #7fbfbf\">         </span><span style=\"color: #000080; text-decoration-color: #000080\">INFO    </span> <span style=\"color: #000000; text-decoration-color: #000000\">Found existing skimmed files for signal__nominal: </span><span style=\"color: #008080; text-decoration-color: #008080; font-weight: bold\">5</span><span style=\"color: #000000; text-decoration-color: #000000\">                               </span><a href=\"file:///home/cms-jovyan/integration-challenge/cms/utils/skimming.py\" target=\"_blank\"><span style=\"color: #7f7f7f; text-decoration-color: #7f7f7f\">skimming.py</span></a><span style=\"color: #7f7f7f; text-decoration-color: #7f7f7f\">:</span><a href=\"file:///home/cms-jovyan/integration-challenge/cms/utils/skimming.py#524\" target=\"_blank\"><span style=\"color: #7f7f7f; text-decoration-color: #7f7f7f\">524</span></a>\n",
       "</pre>\n"
      ],
      "text/plain": [
       "\u001b[2;36m        \u001b[0m\u001b[2;36m \u001b[0m\u001b[34mINFO    \u001b[0m \u001b[39mFound existing skimmed files for signal__nominal: \u001b[0m\u001b[1;36m5\u001b[0m\u001b[39m                              \u001b[0m\u001b[39m \u001b[0m\u001b]8;id=395523;file:///home/cms-jovyan/integration-challenge/cms/utils/skimming.py\u001b\\\u001b[2mskimming.py\u001b[0m\u001b]8;;\u001b\\\u001b[2m:\u001b[0m\u001b]8;id=780390;file:///home/cms-jovyan/integration-challenge/cms/utils/skimming.py#524\u001b\\\u001b[2m524\u001b[0m\u001b]8;;\u001b\\\n"
      ]
     },
     "metadata": {},
     "output_type": "display_data"
    },
    {
     "data": {
      "text/html": [
       "<pre style=\"white-space:pre;overflow-x:auto;line-height:normal;font-family:Menlo,'DejaVu Sans Mono',consolas,'Courier New',monospace\"><span style=\"color: #7fbfbf; text-decoration-color: #7fbfbf\">         </span><span style=\"color: #000080; text-decoration-color: #000080\">INFO    </span> <span style=\"color: #000000; text-decoration-color: #000000\">Loading cached events for signal__nominal                                         </span><a href=\"file:///home/cms-jovyan/integration-challenge/cms/utils/skimming.py\" target=\"_blank\"><span style=\"color: #7f7f7f; text-decoration-color: #7f7f7f\">skimming.py</span></a><span style=\"color: #7f7f7f; text-decoration-color: #7f7f7f\">:</span><a href=\"file:///home/cms-jovyan/integration-challenge/cms/utils/skimming.py#784\" target=\"_blank\"><span style=\"color: #7f7f7f; text-decoration-color: #7f7f7f\">784</span></a>\n",
       "</pre>\n"
      ],
      "text/plain": [
       "\u001b[2;36m        \u001b[0m\u001b[2;36m \u001b[0m\u001b[34mINFO    \u001b[0m \u001b[39mLoading cached events for signal__nominal                                        \u001b[0m\u001b[39m \u001b[0m\u001b]8;id=158482;file:///home/cms-jovyan/integration-challenge/cms/utils/skimming.py\u001b\\\u001b[2mskimming.py\u001b[0m\u001b]8;;\u001b\\\u001b[2m:\u001b[0m\u001b]8;id=172896;file:///home/cms-jovyan/integration-challenge/cms/utils/skimming.py#784\u001b\\\u001b[2m784\u001b[0m\u001b]8;;\u001b\\\n"
      ]
     },
     "metadata": {},
     "output_type": "display_data"
    },
    {
     "data": {
      "text/html": [
       "<pre style=\"white-space:pre;overflow-x:auto;line-height:normal;font-family:Menlo,'DejaVu Sans Mono',consolas,'Courier New',monospace\"><span style=\"color: #7fbfbf; text-decoration-color: #7fbfbf\">         </span><span style=\"color: #000080; text-decoration-color: #000080\">INFO    </span> <span style=\"color: #000000; text-decoration-color: #000000\">Loaded </span><span style=\"color: #008080; text-decoration-color: #008080; font-weight: bold\">97109</span><span style=\"color: #000000; text-decoration-color: #000000\"> cached events                                                        </span><a href=\"file:///home/cms-jovyan/integration-challenge/cms/utils/skimming.py\" target=\"_blank\"><span style=\"color: #7f7f7f; text-decoration-color: #7f7f7f\">skimming.py</span></a><span style=\"color: #7f7f7f; text-decoration-color: #7f7f7f\">:</span><a href=\"file:///home/cms-jovyan/integration-challenge/cms/utils/skimming.py#788\" target=\"_blank\"><span style=\"color: #7f7f7f; text-decoration-color: #7f7f7f\">788</span></a>\n",
       "</pre>\n"
      ],
      "text/plain": [
       "\u001b[2;36m        \u001b[0m\u001b[2;36m \u001b[0m\u001b[34mINFO    \u001b[0m \u001b[39mLoaded \u001b[0m\u001b[1;36m97109\u001b[0m\u001b[39m cached events                                                       \u001b[0m\u001b[39m \u001b[0m\u001b]8;id=804273;file:///home/cms-jovyan/integration-challenge/cms/utils/skimming.py\u001b\\\u001b[2mskimming.py\u001b[0m\u001b]8;;\u001b\\\u001b[2m:\u001b[0m\u001b]8;id=170256;file:///home/cms-jovyan/integration-challenge/cms/utils/skimming.py#788\u001b\\\u001b[2m788\u001b[0m\u001b]8;;\u001b\\\n"
      ]
     },
     "metadata": {},
     "output_type": "display_data"
    },
    {
     "name": "stdout",
     "output_type": "stream",
     "text": [
      "💾 Cached files in skimmed directory: 6 files\n",
      "📁 Cache location: /tmp/integration\n"
     ]
    }
   ],
   "source": [
    "# Enable caching to show how it speeds up subsequent runs\n",
    "validated_config.general.read_from_cache = True\n",
    "validated_config.general.run_skimming = False\n",
    "# Run the skimming again - it will look for cached files\n",
    "# if they don't exist, it will fallback to skim regularly\n",
    "cached_datasets = process_workitems_with_skimming(\n",
    "    workitems,\n",
    "    validated_config,\n",
    "    output_manager,\n",
    "    fileset,\n",
    "    metadata_generator.nanoaods_summary\n",
    ")\n",
    "\n",
    "# Show cache directory contents\n",
    "import os\n",
    "cache_files = os.listdir(output_manager.get_skimmed_dir())\n",
    "print(f\"💾 Cached files in skimmed directory: {len(cache_files)} files\")\n",
    "print(f\"📁 Cache location: {output_manager.get_cache_dir()}\")"
   ]
  },
  {
   "cell_type": "markdown",
   "id": "99c3086d",
   "metadata": {},
   "source": [
    "# 6. Analysis & Histogramming\n",
    "\n",
    "This step encapsulates a few underlying function calls:\n",
    "1. Global event selection is applied\n",
    "2. If MVA training is configured and enabled, an MVA training will be triggered\n",
    "3. Apply corrections from `correctionlib`\n",
    "4. Ghost observables will be computed and added to event record\n",
    "6. Channels will be built with their corresponding selections\n",
    "7. Compute all observables (once nomina, once per systematic variation)\n",
    "8. Create histograms"
   ]
  },
  {
   "cell_type": "code",
   "execution_count": 10,
   "id": "9d78ac14",
   "metadata": {},
   "outputs": [
    {
     "name": "stdout",
     "output_type": "stream",
     "text": [
      "🔬 Analysis initialized for 6 datasets\n",
      "📊 Processing dataset: data\n",
      "   • Processing 3499 events with metadata: data\n"
     ]
    },
    {
     "data": {
      "text/html": [
       "<pre style=\"white-space:pre;overflow-x:auto;line-height:normal;font-family:Menlo,'DejaVu Sans Mono',consolas,'Courier New',monospace\"><span style=\"color: #7fbfbf; text-decoration-color: #7fbfbf\">         </span><span style=\"color: #000080; text-decoration-color: #000080\">INFO    </span> <span style=\"color: #000000; text-decoration-color: #000000\">Applying selection for CMS_WORKSHOP in data with variation nominal                 </span><a href=\"file:///home/cms-jovyan/integration-challenge/cms/analysis/nondiff.py\" target=\"_blank\"><span style=\"color: #7f7f7f; text-decoration-color: #7f7f7f\">nondiff.py</span></a><span style=\"color: #7f7f7f; text-decoration-color: #7f7f7f\">:</span><a href=\"file:///home/cms-jovyan/integration-challenge/cms/analysis/nondiff.py#154\" target=\"_blank\"><span style=\"color: #7f7f7f; text-decoration-color: #7f7f7f\">154</span></a>\n",
       "</pre>\n"
      ],
      "text/plain": [
       "\u001b[2;36m        \u001b[0m\u001b[2;36m \u001b[0m\u001b[34mINFO    \u001b[0m \u001b[39mApplying selection for CMS_WORKSHOP in data with variation nominal                \u001b[0m\u001b[39m \u001b[0m\u001b]8;id=266368;file:///home/cms-jovyan/integration-challenge/cms/analysis/nondiff.py\u001b\\\u001b[2mnondiff.py\u001b[0m\u001b]8;;\u001b\\\u001b[2m:\u001b[0m\u001b]8;id=706857;file:///home/cms-jovyan/integration-challenge/cms/analysis/nondiff.py#154\u001b\\\u001b[2m154\u001b[0m\u001b]8;;\u001b\\\n"
      ]
     },
     "metadata": {},
     "output_type": "display_data"
    },
    {
     "data": {
      "text/html": [
       "<pre style=\"white-space:pre;overflow-x:auto;line-height:normal;font-family:Menlo,'DejaVu Sans Mono',consolas,'Courier New',monospace\"><span style=\"color: #7fbfbf; text-decoration-color: #7fbfbf\">         </span><span style=\"color: #000080; text-decoration-color: #000080\">INFO    </span> <span style=\"color: #000000; text-decoration-color: #000000\">Number of weighted events in CMS_WORKSHOP: </span><span style=\"color: #008080; text-decoration-color: #008080; font-weight: bold\">1.00</span><span style=\"color: #000000; text-decoration-color: #000000\">                                    </span><a href=\"file:///home/cms-jovyan/integration-challenge/cms/analysis/nondiff.py\" target=\"_blank\"><span style=\"color: #7f7f7f; text-decoration-color: #7f7f7f\">nondiff.py</span></a><span style=\"color: #7f7f7f; text-decoration-color: #7f7f7f\">:</span><a href=\"file:///home/cms-jovyan/integration-challenge/cms/analysis/nondiff.py#205\" target=\"_blank\"><span style=\"color: #7f7f7f; text-decoration-color: #7f7f7f\">205</span></a>\n",
       "</pre>\n"
      ],
      "text/plain": [
       "\u001b[2;36m        \u001b[0m\u001b[2;36m \u001b[0m\u001b[34mINFO    \u001b[0m \u001b[39mNumber of weighted events in CMS_WORKSHOP: \u001b[0m\u001b[1;36m1.00\u001b[0m\u001b[39m                                   \u001b[0m\u001b[39m \u001b[0m\u001b]8;id=68439;file:///home/cms-jovyan/integration-challenge/cms/analysis/nondiff.py\u001b\\\u001b[2mnondiff.py\u001b[0m\u001b]8;;\u001b\\\u001b[2m:\u001b[0m\u001b]8;id=63326;file:///home/cms-jovyan/integration-challenge/cms/analysis/nondiff.py#205\u001b\\\u001b[2m205\u001b[0m\u001b]8;;\u001b\\\n"
      ]
     },
     "metadata": {},
     "output_type": "display_data"
    },
    {
     "data": {
      "text/html": [
       "<pre style=\"white-space:pre;overflow-x:auto;line-height:normal;font-family:Menlo,'DejaVu Sans Mono',consolas,'Courier New',monospace\"><span style=\"color: #7fbfbf; text-decoration-color: #7fbfbf\">         </span><span style=\"color: #000080; text-decoration-color: #000080\">INFO    </span> <span style=\"color: #000000; text-decoration-color: #000000\">Number of raw events in CMS_WORKSHOP: </span><span style=\"color: #008080; text-decoration-color: #008080; font-weight: bold\">1</span><span style=\"color: #000000; text-decoration-color: #000000\">                                            </span><a href=\"file:///home/cms-jovyan/integration-challenge/cms/analysis/nondiff.py\" target=\"_blank\"><span style=\"color: #7f7f7f; text-decoration-color: #7f7f7f\">nondiff.py</span></a><span style=\"color: #7f7f7f; text-decoration-color: #7f7f7f\">:</span><a href=\"file:///home/cms-jovyan/integration-challenge/cms/analysis/nondiff.py#208\" target=\"_blank\"><span style=\"color: #7f7f7f; text-decoration-color: #7f7f7f\">208</span></a>\n",
       "</pre>\n"
      ],
      "text/plain": [
       "\u001b[2;36m        \u001b[0m\u001b[2;36m \u001b[0m\u001b[34mINFO    \u001b[0m \u001b[39mNumber of raw events in CMS_WORKSHOP: \u001b[0m\u001b[1;36m1\u001b[0m\u001b[39m                                           \u001b[0m\u001b[39m \u001b[0m\u001b]8;id=305889;file:///home/cms-jovyan/integration-challenge/cms/analysis/nondiff.py\u001b\\\u001b[2mnondiff.py\u001b[0m\u001b]8;;\u001b\\\u001b[2m:\u001b[0m\u001b]8;id=568466;file:///home/cms-jovyan/integration-challenge/cms/analysis/nondiff.py#208\u001b\\\u001b[2m208\u001b[0m\u001b]8;;\u001b\\\n"
      ]
     },
     "metadata": {},
     "output_type": "display_data"
    },
    {
     "data": {
      "text/html": [
       "<pre style=\"white-space:pre;overflow-x:auto;line-height:normal;font-family:Menlo,'DejaVu Sans Mono',consolas,'Courier New',monospace\"><span style=\"color: #7fbfbf; text-decoration-color: #7fbfbf\">         </span><span style=\"color: #000080; text-decoration-color: #000080\">INFO    </span> <span style=\"color: #000000; text-decoration-color: #000000\">Computing observable workshop_mtt                                                  </span><a href=\"file:///home/cms-jovyan/integration-challenge/cms/analysis/nondiff.py\" target=\"_blank\"><span style=\"color: #7f7f7f; text-decoration-color: #7f7f7f\">nondiff.py</span></a><span style=\"color: #7f7f7f; text-decoration-color: #7f7f7f\">:</span><a href=\"file:///home/cms-jovyan/integration-challenge/cms/analysis/nondiff.py#213\" target=\"_blank\"><span style=\"color: #7f7f7f; text-decoration-color: #7f7f7f\">213</span></a>\n",
       "</pre>\n"
      ],
      "text/plain": [
       "\u001b[2;36m        \u001b[0m\u001b[2;36m \u001b[0m\u001b[34mINFO    \u001b[0m \u001b[39mComputing observable workshop_mtt                                                 \u001b[0m\u001b[39m \u001b[0m\u001b]8;id=776582;file:///home/cms-jovyan/integration-challenge/cms/analysis/nondiff.py\u001b\\\u001b[2mnondiff.py\u001b[0m\u001b]8;;\u001b\\\u001b[2m:\u001b[0m\u001b]8;id=865085;file:///home/cms-jovyan/integration-challenge/cms/analysis/nondiff.py#213\u001b\\\u001b[2m213\u001b[0m\u001b]8;;\u001b\\\n"
      ]
     },
     "metadata": {},
     "output_type": "display_data"
    },
    {
     "name": "stdout",
     "output_type": "stream",
     "text": [
      "📊 Processing dataset: wjets__nominal\n",
      "   • Processing 4780 events with metadata: wjets\n"
     ]
    },
    {
     "data": {
      "text/html": [
       "<pre style=\"white-space:pre;overflow-x:auto;line-height:normal;font-family:Menlo,'DejaVu Sans Mono',consolas,'Courier New',monospace\"><span style=\"color: #7fbfbf; text-decoration-color: #7fbfbf\">         </span><span style=\"color: #000080; text-decoration-color: #000080\">INFO    </span> <span style=\"color: #000000; text-decoration-color: #000000\">Applying selection for CMS_WORKSHOP in wjets with variation nominal                </span><a href=\"file:///home/cms-jovyan/integration-challenge/cms/analysis/nondiff.py\" target=\"_blank\"><span style=\"color: #7f7f7f; text-decoration-color: #7f7f7f\">nondiff.py</span></a><span style=\"color: #7f7f7f; text-decoration-color: #7f7f7f\">:</span><a href=\"file:///home/cms-jovyan/integration-challenge/cms/analysis/nondiff.py#154\" target=\"_blank\"><span style=\"color: #7f7f7f; text-decoration-color: #7f7f7f\">154</span></a>\n",
       "</pre>\n"
      ],
      "text/plain": [
       "\u001b[2;36m        \u001b[0m\u001b[2;36m \u001b[0m\u001b[34mINFO    \u001b[0m \u001b[39mApplying selection for CMS_WORKSHOP in wjets with variation nominal               \u001b[0m\u001b[39m \u001b[0m\u001b]8;id=723470;file:///home/cms-jovyan/integration-challenge/cms/analysis/nondiff.py\u001b\\\u001b[2mnondiff.py\u001b[0m\u001b]8;;\u001b\\\u001b[2m:\u001b[0m\u001b]8;id=821473;file:///home/cms-jovyan/integration-challenge/cms/analysis/nondiff.py#154\u001b\\\u001b[2m154\u001b[0m\u001b]8;;\u001b\\\n"
      ]
     },
     "metadata": {},
     "output_type": "display_data"
    },
    {
     "data": {
      "text/html": [
       "<pre style=\"white-space:pre;overflow-x:auto;line-height:normal;font-family:Menlo,'DejaVu Sans Mono',consolas,'Courier New',monospace\"><span style=\"color: #7fbfbf; text-decoration-color: #7fbfbf\">         </span><span style=\"color: #808000; text-decoration-color: #808000\">WARNING </span> <span style=\"color: #000000; text-decoration-color: #000000\">NonDiffAnalysis:: No events left in CMS_WORKSHOP for wjets with variation nominal  </span><a href=\"file:///home/cms-jovyan/integration-challenge/cms/analysis/nondiff.py\" target=\"_blank\"><span style=\"color: #7f7f7f; text-decoration-color: #7f7f7f\">nondiff.py</span></a><span style=\"color: #7f7f7f; text-decoration-color: #7f7f7f\">:</span><a href=\"file:///home/cms-jovyan/integration-challenge/cms/analysis/nondiff.py#180\" target=\"_blank\"><span style=\"color: #7f7f7f; text-decoration-color: #7f7f7f\">180</span></a>\n",
       "</pre>\n"
      ],
      "text/plain": [
       "\u001b[2;36m        \u001b[0m\u001b[2;36m \u001b[0m\u001b[33mWARNING \u001b[0m \u001b[39mNonDiffAnalysis:: No events left in CMS_WORKSHOP for wjets with variation nominal \u001b[0m\u001b[39m \u001b[0m\u001b]8;id=576912;file:///home/cms-jovyan/integration-challenge/cms/analysis/nondiff.py\u001b\\\u001b[2mnondiff.py\u001b[0m\u001b]8;;\u001b\\\u001b[2m:\u001b[0m\u001b]8;id=124424;file:///home/cms-jovyan/integration-challenge/cms/analysis/nondiff.py#180\u001b\\\u001b[2m180\u001b[0m\u001b]8;;\u001b\\\n"
      ]
     },
     "metadata": {},
     "output_type": "display_data"
    },
    {
     "data": {
      "text/html": [
       "<pre style=\"white-space:pre;overflow-x:auto;line-height:normal;font-family:Menlo,'DejaVu Sans Mono',consolas,'Courier New',monospace\"><span style=\"color: #7fbfbf; text-decoration-color: #7fbfbf\">         </span><span style=\"color: #000080; text-decoration-color: #000080\">INFO    </span> <span style=\"color: #000000; text-decoration-color: #000000\">Applying selection for CMS_WORKSHOP in wjets with variation jet_pt_resolution_up   </span><a href=\"file:///home/cms-jovyan/integration-challenge/cms/analysis/nondiff.py\" target=\"_blank\"><span style=\"color: #7f7f7f; text-decoration-color: #7f7f7f\">nondiff.py</span></a><span style=\"color: #7f7f7f; text-decoration-color: #7f7f7f\">:</span><a href=\"file:///home/cms-jovyan/integration-challenge/cms/analysis/nondiff.py#154\" target=\"_blank\"><span style=\"color: #7f7f7f; text-decoration-color: #7f7f7f\">154</span></a>\n",
       "</pre>\n"
      ],
      "text/plain": [
       "\u001b[2;36m        \u001b[0m\u001b[2;36m \u001b[0m\u001b[34mINFO    \u001b[0m \u001b[39mApplying selection for CMS_WORKSHOP in wjets with variation jet_pt_resolution_up  \u001b[0m\u001b[39m \u001b[0m\u001b]8;id=484897;file:///home/cms-jovyan/integration-challenge/cms/analysis/nondiff.py\u001b\\\u001b[2mnondiff.py\u001b[0m\u001b]8;;\u001b\\\u001b[2m:\u001b[0m\u001b]8;id=927880;file:///home/cms-jovyan/integration-challenge/cms/analysis/nondiff.py#154\u001b\\\u001b[2m154\u001b[0m\u001b]8;;\u001b\\\n"
      ]
     },
     "metadata": {},
     "output_type": "display_data"
    },
    {
     "data": {
      "text/html": [
       "<pre style=\"white-space:pre;overflow-x:auto;line-height:normal;font-family:Menlo,'DejaVu Sans Mono',consolas,'Courier New',monospace\"><span style=\"color: #7fbfbf; text-decoration-color: #7fbfbf\">         </span><span style=\"color: #808000; text-decoration-color: #808000\">WARNING </span> <span style=\"color: #000000; text-decoration-color: #000000\">NonDiffAnalysis:: No events left in CMS_WORKSHOP for wjets with variation          </span><a href=\"file:///home/cms-jovyan/integration-challenge/cms/analysis/nondiff.py\" target=\"_blank\"><span style=\"color: #7f7f7f; text-decoration-color: #7f7f7f\">nondiff.py</span></a><span style=\"color: #7f7f7f; text-decoration-color: #7f7f7f\">:</span><a href=\"file:///home/cms-jovyan/integration-challenge/cms/analysis/nondiff.py#180\" target=\"_blank\"><span style=\"color: #7f7f7f; text-decoration-color: #7f7f7f\">180</span></a>\n",
       "<span style=\"color: #7fbfbf; text-decoration-color: #7fbfbf\">         </span>         <span style=\"color: #000000; text-decoration-color: #000000\">jet_pt_resolution_up                                                               </span><span style=\"color: #7f7f7f; text-decoration-color: #7f7f7f\">              </span>\n",
       "</pre>\n"
      ],
      "text/plain": [
       "\u001b[2;36m        \u001b[0m\u001b[2;36m \u001b[0m\u001b[33mWARNING \u001b[0m \u001b[39mNonDiffAnalysis:: No events left in CMS_WORKSHOP for wjets with variation         \u001b[0m\u001b[39m \u001b[0m\u001b]8;id=575773;file:///home/cms-jovyan/integration-challenge/cms/analysis/nondiff.py\u001b\\\u001b[2mnondiff.py\u001b[0m\u001b]8;;\u001b\\\u001b[2m:\u001b[0m\u001b]8;id=134432;file:///home/cms-jovyan/integration-challenge/cms/analysis/nondiff.py#180\u001b\\\u001b[2m180\u001b[0m\u001b]8;;\u001b\\\n",
       "\u001b[2;36m         \u001b[0m         \u001b[39mjet_pt_resolution_up                                                              \u001b[0m\u001b[39m \u001b[0m\u001b[2m              \u001b[0m\n"
      ]
     },
     "metadata": {},
     "output_type": "display_data"
    },
    {
     "data": {
      "text/html": [
       "<pre style=\"white-space:pre;overflow-x:auto;line-height:normal;font-family:Menlo,'DejaVu Sans Mono',consolas,'Courier New',monospace\"><span style=\"color: #7fbfbf; text-decoration-color: #7fbfbf\">         </span><span style=\"color: #000080; text-decoration-color: #000080\">INFO    </span> <span style=\"color: #000000; text-decoration-color: #000000\">Applying selection for CMS_WORKSHOP in wjets with variation jet_pt_resolution_down </span><a href=\"file:///home/cms-jovyan/integration-challenge/cms/analysis/nondiff.py\" target=\"_blank\"><span style=\"color: #7f7f7f; text-decoration-color: #7f7f7f\">nondiff.py</span></a><span style=\"color: #7f7f7f; text-decoration-color: #7f7f7f\">:</span><a href=\"file:///home/cms-jovyan/integration-challenge/cms/analysis/nondiff.py#154\" target=\"_blank\"><span style=\"color: #7f7f7f; text-decoration-color: #7f7f7f\">154</span></a>\n",
       "</pre>\n"
      ],
      "text/plain": [
       "\u001b[2;36m        \u001b[0m\u001b[2;36m \u001b[0m\u001b[34mINFO    \u001b[0m \u001b[39mApplying selection for CMS_WORKSHOP in wjets with variation jet_pt_resolution_down\u001b[0m\u001b[39m \u001b[0m\u001b]8;id=710490;file:///home/cms-jovyan/integration-challenge/cms/analysis/nondiff.py\u001b\\\u001b[2mnondiff.py\u001b[0m\u001b]8;;\u001b\\\u001b[2m:\u001b[0m\u001b]8;id=670644;file:///home/cms-jovyan/integration-challenge/cms/analysis/nondiff.py#154\u001b\\\u001b[2m154\u001b[0m\u001b]8;;\u001b\\\n"
      ]
     },
     "metadata": {},
     "output_type": "display_data"
    },
    {
     "data": {
      "text/html": [
       "<pre style=\"white-space:pre;overflow-x:auto;line-height:normal;font-family:Menlo,'DejaVu Sans Mono',consolas,'Courier New',monospace\"><span style=\"color: #7fbfbf; text-decoration-color: #7fbfbf\">07:10:16 </span><span style=\"color: #808000; text-decoration-color: #808000\">WARNING </span> <span style=\"color: #000000; text-decoration-color: #000000\">NonDiffAnalysis:: No events left in CMS_WORKSHOP for wjets with variation          </span><a href=\"file:///home/cms-jovyan/integration-challenge/cms/analysis/nondiff.py\" target=\"_blank\"><span style=\"color: #7f7f7f; text-decoration-color: #7f7f7f\">nondiff.py</span></a><span style=\"color: #7f7f7f; text-decoration-color: #7f7f7f\">:</span><a href=\"file:///home/cms-jovyan/integration-challenge/cms/analysis/nondiff.py#180\" target=\"_blank\"><span style=\"color: #7f7f7f; text-decoration-color: #7f7f7f\">180</span></a>\n",
       "<span style=\"color: #7fbfbf; text-decoration-color: #7fbfbf\">         </span>         <span style=\"color: #000000; text-decoration-color: #000000\">jet_pt_resolution_down                                                             </span><span style=\"color: #7f7f7f; text-decoration-color: #7f7f7f\">              </span>\n",
       "</pre>\n"
      ],
      "text/plain": [
       "\u001b[2;36m07:10:16\u001b[0m\u001b[2;36m \u001b[0m\u001b[33mWARNING \u001b[0m \u001b[39mNonDiffAnalysis:: No events left in CMS_WORKSHOP for wjets with variation         \u001b[0m\u001b[39m \u001b[0m\u001b]8;id=977961;file:///home/cms-jovyan/integration-challenge/cms/analysis/nondiff.py\u001b\\\u001b[2mnondiff.py\u001b[0m\u001b]8;;\u001b\\\u001b[2m:\u001b[0m\u001b]8;id=484021;file:///home/cms-jovyan/integration-challenge/cms/analysis/nondiff.py#180\u001b\\\u001b[2m180\u001b[0m\u001b]8;;\u001b\\\n",
       "\u001b[2;36m         \u001b[0m         \u001b[39mjet_pt_resolution_down                                                            \u001b[0m\u001b[39m \u001b[0m\u001b[2m              \u001b[0m\n"
      ]
     },
     "metadata": {},
     "output_type": "display_data"
    },
    {
     "data": {
      "text/html": [
       "<pre style=\"white-space:pre;overflow-x:auto;line-height:normal;font-family:Menlo,'DejaVu Sans Mono',consolas,'Courier New',monospace\"><span style=\"color: #7fbfbf; text-decoration-color: #7fbfbf\">         </span><span style=\"color: #000080; text-decoration-color: #000080\">INFO    </span> <span style=\"color: #000000; text-decoration-color: #000000\">Applying selection for CMS_WORKSHOP in wjets with variation jet_pt_scale_up        </span><a href=\"file:///home/cms-jovyan/integration-challenge/cms/analysis/nondiff.py\" target=\"_blank\"><span style=\"color: #7f7f7f; text-decoration-color: #7f7f7f\">nondiff.py</span></a><span style=\"color: #7f7f7f; text-decoration-color: #7f7f7f\">:</span><a href=\"file:///home/cms-jovyan/integration-challenge/cms/analysis/nondiff.py#154\" target=\"_blank\"><span style=\"color: #7f7f7f; text-decoration-color: #7f7f7f\">154</span></a>\n",
       "</pre>\n"
      ],
      "text/plain": [
       "\u001b[2;36m        \u001b[0m\u001b[2;36m \u001b[0m\u001b[34mINFO    \u001b[0m \u001b[39mApplying selection for CMS_WORKSHOP in wjets with variation jet_pt_scale_up       \u001b[0m\u001b[39m \u001b[0m\u001b]8;id=836129;file:///home/cms-jovyan/integration-challenge/cms/analysis/nondiff.py\u001b\\\u001b[2mnondiff.py\u001b[0m\u001b]8;;\u001b\\\u001b[2m:\u001b[0m\u001b]8;id=386857;file:///home/cms-jovyan/integration-challenge/cms/analysis/nondiff.py#154\u001b\\\u001b[2m154\u001b[0m\u001b]8;;\u001b\\\n"
      ]
     },
     "metadata": {},
     "output_type": "display_data"
    },
    {
     "data": {
      "text/html": [
       "<pre style=\"white-space:pre;overflow-x:auto;line-height:normal;font-family:Menlo,'DejaVu Sans Mono',consolas,'Courier New',monospace\"><span style=\"color: #7fbfbf; text-decoration-color: #7fbfbf\">         </span><span style=\"color: #808000; text-decoration-color: #808000\">WARNING </span> <span style=\"color: #000000; text-decoration-color: #000000\">NonDiffAnalysis:: No events left in CMS_WORKSHOP for wjets with variation          </span><a href=\"file:///home/cms-jovyan/integration-challenge/cms/analysis/nondiff.py\" target=\"_blank\"><span style=\"color: #7f7f7f; text-decoration-color: #7f7f7f\">nondiff.py</span></a><span style=\"color: #7f7f7f; text-decoration-color: #7f7f7f\">:</span><a href=\"file:///home/cms-jovyan/integration-challenge/cms/analysis/nondiff.py#180\" target=\"_blank\"><span style=\"color: #7f7f7f; text-decoration-color: #7f7f7f\">180</span></a>\n",
       "<span style=\"color: #7fbfbf; text-decoration-color: #7fbfbf\">         </span>         <span style=\"color: #000000; text-decoration-color: #000000\">jet_pt_scale_up                                                                    </span><span style=\"color: #7f7f7f; text-decoration-color: #7f7f7f\">              </span>\n",
       "</pre>\n"
      ],
      "text/plain": [
       "\u001b[2;36m        \u001b[0m\u001b[2;36m \u001b[0m\u001b[33mWARNING \u001b[0m \u001b[39mNonDiffAnalysis:: No events left in CMS_WORKSHOP for wjets with variation         \u001b[0m\u001b[39m \u001b[0m\u001b]8;id=958829;file:///home/cms-jovyan/integration-challenge/cms/analysis/nondiff.py\u001b\\\u001b[2mnondiff.py\u001b[0m\u001b]8;;\u001b\\\u001b[2m:\u001b[0m\u001b]8;id=917318;file:///home/cms-jovyan/integration-challenge/cms/analysis/nondiff.py#180\u001b\\\u001b[2m180\u001b[0m\u001b]8;;\u001b\\\n",
       "\u001b[2;36m         \u001b[0m         \u001b[39mjet_pt_scale_up                                                                   \u001b[0m\u001b[39m \u001b[0m\u001b[2m              \u001b[0m\n"
      ]
     },
     "metadata": {},
     "output_type": "display_data"
    },
    {
     "data": {
      "text/html": [
       "<pre style=\"white-space:pre;overflow-x:auto;line-height:normal;font-family:Menlo,'DejaVu Sans Mono',consolas,'Courier New',monospace\"><span style=\"color: #7fbfbf; text-decoration-color: #7fbfbf\">         </span><span style=\"color: #000080; text-decoration-color: #000080\">INFO    </span> <span style=\"color: #000000; text-decoration-color: #000000\">Applying selection for CMS_WORKSHOP in wjets with variation jet_pt_scale_down      </span><a href=\"file:///home/cms-jovyan/integration-challenge/cms/analysis/nondiff.py\" target=\"_blank\"><span style=\"color: #7f7f7f; text-decoration-color: #7f7f7f\">nondiff.py</span></a><span style=\"color: #7f7f7f; text-decoration-color: #7f7f7f\">:</span><a href=\"file:///home/cms-jovyan/integration-challenge/cms/analysis/nondiff.py#154\" target=\"_blank\"><span style=\"color: #7f7f7f; text-decoration-color: #7f7f7f\">154</span></a>\n",
       "</pre>\n"
      ],
      "text/plain": [
       "\u001b[2;36m        \u001b[0m\u001b[2;36m \u001b[0m\u001b[34mINFO    \u001b[0m \u001b[39mApplying selection for CMS_WORKSHOP in wjets with variation jet_pt_scale_down     \u001b[0m\u001b[39m \u001b[0m\u001b]8;id=973951;file:///home/cms-jovyan/integration-challenge/cms/analysis/nondiff.py\u001b\\\u001b[2mnondiff.py\u001b[0m\u001b]8;;\u001b\\\u001b[2m:\u001b[0m\u001b]8;id=176014;file:///home/cms-jovyan/integration-challenge/cms/analysis/nondiff.py#154\u001b\\\u001b[2m154\u001b[0m\u001b]8;;\u001b\\\n"
      ]
     },
     "metadata": {},
     "output_type": "display_data"
    },
    {
     "data": {
      "text/html": [
       "<pre style=\"white-space:pre;overflow-x:auto;line-height:normal;font-family:Menlo,'DejaVu Sans Mono',consolas,'Courier New',monospace\"><span style=\"color: #7fbfbf; text-decoration-color: #7fbfbf\">         </span><span style=\"color: #808000; text-decoration-color: #808000\">WARNING </span> <span style=\"color: #000000; text-decoration-color: #000000\">NonDiffAnalysis:: No events left in CMS_WORKSHOP for wjets with variation          </span><a href=\"file:///home/cms-jovyan/integration-challenge/cms/analysis/nondiff.py\" target=\"_blank\"><span style=\"color: #7f7f7f; text-decoration-color: #7f7f7f\">nondiff.py</span></a><span style=\"color: #7f7f7f; text-decoration-color: #7f7f7f\">:</span><a href=\"file:///home/cms-jovyan/integration-challenge/cms/analysis/nondiff.py#180\" target=\"_blank\"><span style=\"color: #7f7f7f; text-decoration-color: #7f7f7f\">180</span></a>\n",
       "<span style=\"color: #7fbfbf; text-decoration-color: #7fbfbf\">         </span>         <span style=\"color: #000000; text-decoration-color: #000000\">jet_pt_scale_down                                                                  </span><span style=\"color: #7f7f7f; text-decoration-color: #7f7f7f\">              </span>\n",
       "</pre>\n"
      ],
      "text/plain": [
       "\u001b[2;36m        \u001b[0m\u001b[2;36m \u001b[0m\u001b[33mWARNING \u001b[0m \u001b[39mNonDiffAnalysis:: No events left in CMS_WORKSHOP for wjets with variation         \u001b[0m\u001b[39m \u001b[0m\u001b]8;id=675691;file:///home/cms-jovyan/integration-challenge/cms/analysis/nondiff.py\u001b\\\u001b[2mnondiff.py\u001b[0m\u001b]8;;\u001b\\\u001b[2m:\u001b[0m\u001b]8;id=686862;file:///home/cms-jovyan/integration-challenge/cms/analysis/nondiff.py#180\u001b\\\u001b[2m180\u001b[0m\u001b]8;;\u001b\\\n",
       "\u001b[2;36m         \u001b[0m         \u001b[39mjet_pt_scale_down                                                                 \u001b[0m\u001b[39m \u001b[0m\u001b[2m              \u001b[0m\n"
      ]
     },
     "metadata": {},
     "output_type": "display_data"
    },
    {
     "data": {
      "text/html": [
       "<pre style=\"white-space:pre;overflow-x:auto;line-height:normal;font-family:Menlo,'DejaVu Sans Mono',consolas,'Courier New',monospace\"><span style=\"color: #7fbfbf; text-decoration-color: #7fbfbf\">         </span><span style=\"color: #000080; text-decoration-color: #000080\">INFO    </span> <span style=\"color: #000000; text-decoration-color: #000000\">Applying selection for CMS_WORKSHOP in wjets with variation pu_weight_up           </span><a href=\"file:///home/cms-jovyan/integration-challenge/cms/analysis/nondiff.py\" target=\"_blank\"><span style=\"color: #7f7f7f; text-decoration-color: #7f7f7f\">nondiff.py</span></a><span style=\"color: #7f7f7f; text-decoration-color: #7f7f7f\">:</span><a href=\"file:///home/cms-jovyan/integration-challenge/cms/analysis/nondiff.py#154\" target=\"_blank\"><span style=\"color: #7f7f7f; text-decoration-color: #7f7f7f\">154</span></a>\n",
       "</pre>\n"
      ],
      "text/plain": [
       "\u001b[2;36m        \u001b[0m\u001b[2;36m \u001b[0m\u001b[34mINFO    \u001b[0m \u001b[39mApplying selection for CMS_WORKSHOP in wjets with variation pu_weight_up          \u001b[0m\u001b[39m \u001b[0m\u001b]8;id=600624;file:///home/cms-jovyan/integration-challenge/cms/analysis/nondiff.py\u001b\\\u001b[2mnondiff.py\u001b[0m\u001b]8;;\u001b\\\u001b[2m:\u001b[0m\u001b]8;id=172966;file:///home/cms-jovyan/integration-challenge/cms/analysis/nondiff.py#154\u001b\\\u001b[2m154\u001b[0m\u001b]8;;\u001b\\\n"
      ]
     },
     "metadata": {},
     "output_type": "display_data"
    },
    {
     "data": {
      "text/html": [
       "<pre style=\"white-space:pre;overflow-x:auto;line-height:normal;font-family:Menlo,'DejaVu Sans Mono',consolas,'Courier New',monospace\"><span style=\"color: #7fbfbf; text-decoration-color: #7fbfbf\">         </span><span style=\"color: #808000; text-decoration-color: #808000\">WARNING </span> <span style=\"color: #000000; text-decoration-color: #000000\">NonDiffAnalysis:: No events left in CMS_WORKSHOP for wjets with variation          </span><a href=\"file:///home/cms-jovyan/integration-challenge/cms/analysis/nondiff.py\" target=\"_blank\"><span style=\"color: #7f7f7f; text-decoration-color: #7f7f7f\">nondiff.py</span></a><span style=\"color: #7f7f7f; text-decoration-color: #7f7f7f\">:</span><a href=\"file:///home/cms-jovyan/integration-challenge/cms/analysis/nondiff.py#180\" target=\"_blank\"><span style=\"color: #7f7f7f; text-decoration-color: #7f7f7f\">180</span></a>\n",
       "<span style=\"color: #7fbfbf; text-decoration-color: #7fbfbf\">         </span>         <span style=\"color: #000000; text-decoration-color: #000000\">pu_weight_up                                                                       </span><span style=\"color: #7f7f7f; text-decoration-color: #7f7f7f\">              </span>\n",
       "</pre>\n"
      ],
      "text/plain": [
       "\u001b[2;36m        \u001b[0m\u001b[2;36m \u001b[0m\u001b[33mWARNING \u001b[0m \u001b[39mNonDiffAnalysis:: No events left in CMS_WORKSHOP for wjets with variation         \u001b[0m\u001b[39m \u001b[0m\u001b]8;id=433956;file:///home/cms-jovyan/integration-challenge/cms/analysis/nondiff.py\u001b\\\u001b[2mnondiff.py\u001b[0m\u001b]8;;\u001b\\\u001b[2m:\u001b[0m\u001b]8;id=991994;file:///home/cms-jovyan/integration-challenge/cms/analysis/nondiff.py#180\u001b\\\u001b[2m180\u001b[0m\u001b]8;;\u001b\\\n",
       "\u001b[2;36m         \u001b[0m         \u001b[39mpu_weight_up                                                                      \u001b[0m\u001b[39m \u001b[0m\u001b[2m              \u001b[0m\n"
      ]
     },
     "metadata": {},
     "output_type": "display_data"
    },
    {
     "data": {
      "text/html": [
       "<pre style=\"white-space:pre;overflow-x:auto;line-height:normal;font-family:Menlo,'DejaVu Sans Mono',consolas,'Courier New',monospace\"><span style=\"color: #7fbfbf; text-decoration-color: #7fbfbf\">         </span><span style=\"color: #000080; text-decoration-color: #000080\">INFO    </span> <span style=\"color: #000000; text-decoration-color: #000000\">Applying selection for CMS_WORKSHOP in wjets with variation pu_weight_down         </span><a href=\"file:///home/cms-jovyan/integration-challenge/cms/analysis/nondiff.py\" target=\"_blank\"><span style=\"color: #7f7f7f; text-decoration-color: #7f7f7f\">nondiff.py</span></a><span style=\"color: #7f7f7f; text-decoration-color: #7f7f7f\">:</span><a href=\"file:///home/cms-jovyan/integration-challenge/cms/analysis/nondiff.py#154\" target=\"_blank\"><span style=\"color: #7f7f7f; text-decoration-color: #7f7f7f\">154</span></a>\n",
       "</pre>\n"
      ],
      "text/plain": [
       "\u001b[2;36m        \u001b[0m\u001b[2;36m \u001b[0m\u001b[34mINFO    \u001b[0m \u001b[39mApplying selection for CMS_WORKSHOP in wjets with variation pu_weight_down        \u001b[0m\u001b[39m \u001b[0m\u001b]8;id=220036;file:///home/cms-jovyan/integration-challenge/cms/analysis/nondiff.py\u001b\\\u001b[2mnondiff.py\u001b[0m\u001b]8;;\u001b\\\u001b[2m:\u001b[0m\u001b]8;id=134284;file:///home/cms-jovyan/integration-challenge/cms/analysis/nondiff.py#154\u001b\\\u001b[2m154\u001b[0m\u001b]8;;\u001b\\\n"
      ]
     },
     "metadata": {},
     "output_type": "display_data"
    },
    {
     "data": {
      "text/html": [
       "<pre style=\"white-space:pre;overflow-x:auto;line-height:normal;font-family:Menlo,'DejaVu Sans Mono',consolas,'Courier New',monospace\"><span style=\"color: #7fbfbf; text-decoration-color: #7fbfbf\">         </span><span style=\"color: #808000; text-decoration-color: #808000\">WARNING </span> <span style=\"color: #000000; text-decoration-color: #000000\">NonDiffAnalysis:: No events left in CMS_WORKSHOP for wjets with variation          </span><a href=\"file:///home/cms-jovyan/integration-challenge/cms/analysis/nondiff.py\" target=\"_blank\"><span style=\"color: #7f7f7f; text-decoration-color: #7f7f7f\">nondiff.py</span></a><span style=\"color: #7f7f7f; text-decoration-color: #7f7f7f\">:</span><a href=\"file:///home/cms-jovyan/integration-challenge/cms/analysis/nondiff.py#180\" target=\"_blank\"><span style=\"color: #7f7f7f; text-decoration-color: #7f7f7f\">180</span></a>\n",
       "<span style=\"color: #7fbfbf; text-decoration-color: #7fbfbf\">         </span>         <span style=\"color: #000000; text-decoration-color: #000000\">pu_weight_down                                                                     </span><span style=\"color: #7f7f7f; text-decoration-color: #7f7f7f\">              </span>\n",
       "</pre>\n"
      ],
      "text/plain": [
       "\u001b[2;36m        \u001b[0m\u001b[2;36m \u001b[0m\u001b[33mWARNING \u001b[0m \u001b[39mNonDiffAnalysis:: No events left in CMS_WORKSHOP for wjets with variation         \u001b[0m\u001b[39m \u001b[0m\u001b]8;id=198609;file:///home/cms-jovyan/integration-challenge/cms/analysis/nondiff.py\u001b\\\u001b[2mnondiff.py\u001b[0m\u001b]8;;\u001b\\\u001b[2m:\u001b[0m\u001b]8;id=795322;file:///home/cms-jovyan/integration-challenge/cms/analysis/nondiff.py#180\u001b\\\u001b[2m180\u001b[0m\u001b]8;;\u001b\\\n",
       "\u001b[2;36m         \u001b[0m         \u001b[39mpu_weight_down                                                                    \u001b[0m\u001b[39m \u001b[0m\u001b[2m              \u001b[0m\n"
      ]
     },
     "metadata": {},
     "output_type": "display_data"
    },
    {
     "data": {
      "text/html": [
       "<pre style=\"white-space:pre;overflow-x:auto;line-height:normal;font-family:Menlo,'DejaVu Sans Mono',consolas,'Courier New',monospace\"><span style=\"color: #7fbfbf; text-decoration-color: #7fbfbf\">         </span><span style=\"color: #000080; text-decoration-color: #000080\">INFO    </span> <span style=\"color: #000000; text-decoration-color: #000000\">Applying selection for CMS_WORKSHOP in wjets with variation muon_id_sf_up          </span><a href=\"file:///home/cms-jovyan/integration-challenge/cms/analysis/nondiff.py\" target=\"_blank\"><span style=\"color: #7f7f7f; text-decoration-color: #7f7f7f\">nondiff.py</span></a><span style=\"color: #7f7f7f; text-decoration-color: #7f7f7f\">:</span><a href=\"file:///home/cms-jovyan/integration-challenge/cms/analysis/nondiff.py#154\" target=\"_blank\"><span style=\"color: #7f7f7f; text-decoration-color: #7f7f7f\">154</span></a>\n",
       "</pre>\n"
      ],
      "text/plain": [
       "\u001b[2;36m        \u001b[0m\u001b[2;36m \u001b[0m\u001b[34mINFO    \u001b[0m \u001b[39mApplying selection for CMS_WORKSHOP in wjets with variation muon_id_sf_up         \u001b[0m\u001b[39m \u001b[0m\u001b]8;id=116708;file:///home/cms-jovyan/integration-challenge/cms/analysis/nondiff.py\u001b\\\u001b[2mnondiff.py\u001b[0m\u001b]8;;\u001b\\\u001b[2m:\u001b[0m\u001b]8;id=131431;file:///home/cms-jovyan/integration-challenge/cms/analysis/nondiff.py#154\u001b\\\u001b[2m154\u001b[0m\u001b]8;;\u001b\\\n"
      ]
     },
     "metadata": {},
     "output_type": "display_data"
    },
    {
     "data": {
      "text/html": [
       "<pre style=\"white-space:pre;overflow-x:auto;line-height:normal;font-family:Menlo,'DejaVu Sans Mono',consolas,'Courier New',monospace\"><span style=\"color: #7fbfbf; text-decoration-color: #7fbfbf\">         </span><span style=\"color: #808000; text-decoration-color: #808000\">WARNING </span> <span style=\"color: #000000; text-decoration-color: #000000\">NonDiffAnalysis:: No events left in CMS_WORKSHOP for wjets with variation          </span><a href=\"file:///home/cms-jovyan/integration-challenge/cms/analysis/nondiff.py\" target=\"_blank\"><span style=\"color: #7f7f7f; text-decoration-color: #7f7f7f\">nondiff.py</span></a><span style=\"color: #7f7f7f; text-decoration-color: #7f7f7f\">:</span><a href=\"file:///home/cms-jovyan/integration-challenge/cms/analysis/nondiff.py#180\" target=\"_blank\"><span style=\"color: #7f7f7f; text-decoration-color: #7f7f7f\">180</span></a>\n",
       "<span style=\"color: #7fbfbf; text-decoration-color: #7fbfbf\">         </span>         <span style=\"color: #000000; text-decoration-color: #000000\">muon_id_sf_up                                                                      </span><span style=\"color: #7f7f7f; text-decoration-color: #7f7f7f\">              </span>\n",
       "</pre>\n"
      ],
      "text/plain": [
       "\u001b[2;36m        \u001b[0m\u001b[2;36m \u001b[0m\u001b[33mWARNING \u001b[0m \u001b[39mNonDiffAnalysis:: No events left in CMS_WORKSHOP for wjets with variation         \u001b[0m\u001b[39m \u001b[0m\u001b]8;id=451044;file:///home/cms-jovyan/integration-challenge/cms/analysis/nondiff.py\u001b\\\u001b[2mnondiff.py\u001b[0m\u001b]8;;\u001b\\\u001b[2m:\u001b[0m\u001b]8;id=991733;file:///home/cms-jovyan/integration-challenge/cms/analysis/nondiff.py#180\u001b\\\u001b[2m180\u001b[0m\u001b]8;;\u001b\\\n",
       "\u001b[2;36m         \u001b[0m         \u001b[39mmuon_id_sf_up                                                                     \u001b[0m\u001b[39m \u001b[0m\u001b[2m              \u001b[0m\n"
      ]
     },
     "metadata": {},
     "output_type": "display_data"
    },
    {
     "data": {
      "text/html": [
       "<pre style=\"white-space:pre;overflow-x:auto;line-height:normal;font-family:Menlo,'DejaVu Sans Mono',consolas,'Courier New',monospace\"><span style=\"color: #7fbfbf; text-decoration-color: #7fbfbf\">         </span><span style=\"color: #000080; text-decoration-color: #000080\">INFO    </span> <span style=\"color: #000000; text-decoration-color: #000000\">Applying selection for CMS_WORKSHOP in wjets with variation muon_id_sf_down        </span><a href=\"file:///home/cms-jovyan/integration-challenge/cms/analysis/nondiff.py\" target=\"_blank\"><span style=\"color: #7f7f7f; text-decoration-color: #7f7f7f\">nondiff.py</span></a><span style=\"color: #7f7f7f; text-decoration-color: #7f7f7f\">:</span><a href=\"file:///home/cms-jovyan/integration-challenge/cms/analysis/nondiff.py#154\" target=\"_blank\"><span style=\"color: #7f7f7f; text-decoration-color: #7f7f7f\">154</span></a>\n",
       "</pre>\n"
      ],
      "text/plain": [
       "\u001b[2;36m        \u001b[0m\u001b[2;36m \u001b[0m\u001b[34mINFO    \u001b[0m \u001b[39mApplying selection for CMS_WORKSHOP in wjets with variation muon_id_sf_down       \u001b[0m\u001b[39m \u001b[0m\u001b]8;id=225069;file:///home/cms-jovyan/integration-challenge/cms/analysis/nondiff.py\u001b\\\u001b[2mnondiff.py\u001b[0m\u001b]8;;\u001b\\\u001b[2m:\u001b[0m\u001b]8;id=920400;file:///home/cms-jovyan/integration-challenge/cms/analysis/nondiff.py#154\u001b\\\u001b[2m154\u001b[0m\u001b]8;;\u001b\\\n"
      ]
     },
     "metadata": {},
     "output_type": "display_data"
    },
    {
     "data": {
      "text/html": [
       "<pre style=\"white-space:pre;overflow-x:auto;line-height:normal;font-family:Menlo,'DejaVu Sans Mono',consolas,'Courier New',monospace\"><span style=\"color: #7fbfbf; text-decoration-color: #7fbfbf\">         </span><span style=\"color: #808000; text-decoration-color: #808000\">WARNING </span> <span style=\"color: #000000; text-decoration-color: #000000\">NonDiffAnalysis:: No events left in CMS_WORKSHOP for wjets with variation          </span><a href=\"file:///home/cms-jovyan/integration-challenge/cms/analysis/nondiff.py\" target=\"_blank\"><span style=\"color: #7f7f7f; text-decoration-color: #7f7f7f\">nondiff.py</span></a><span style=\"color: #7f7f7f; text-decoration-color: #7f7f7f\">:</span><a href=\"file:///home/cms-jovyan/integration-challenge/cms/analysis/nondiff.py#180\" target=\"_blank\"><span style=\"color: #7f7f7f; text-decoration-color: #7f7f7f\">180</span></a>\n",
       "<span style=\"color: #7fbfbf; text-decoration-color: #7fbfbf\">         </span>         <span style=\"color: #000000; text-decoration-color: #000000\">muon_id_sf_down                                                                    </span><span style=\"color: #7f7f7f; text-decoration-color: #7f7f7f\">              </span>\n",
       "</pre>\n"
      ],
      "text/plain": [
       "\u001b[2;36m        \u001b[0m\u001b[2;36m \u001b[0m\u001b[33mWARNING \u001b[0m \u001b[39mNonDiffAnalysis:: No events left in CMS_WORKSHOP for wjets with variation         \u001b[0m\u001b[39m \u001b[0m\u001b]8;id=633455;file:///home/cms-jovyan/integration-challenge/cms/analysis/nondiff.py\u001b\\\u001b[2mnondiff.py\u001b[0m\u001b]8;;\u001b\\\u001b[2m:\u001b[0m\u001b]8;id=154641;file:///home/cms-jovyan/integration-challenge/cms/analysis/nondiff.py#180\u001b\\\u001b[2m180\u001b[0m\u001b]8;;\u001b\\\n",
       "\u001b[2;36m         \u001b[0m         \u001b[39mmuon_id_sf_down                                                                   \u001b[0m\u001b[39m \u001b[0m\u001b[2m              \u001b[0m\n"
      ]
     },
     "metadata": {},
     "output_type": "display_data"
    },
    {
     "name": "stdout",
     "output_type": "stream",
     "text": [
      "📊 Processing dataset: ttbar_lep__nominal\n",
      "   • Processing 212293 events with metadata: ttbar_lep\n"
     ]
    },
    {
     "data": {
      "text/html": [
       "<pre style=\"white-space:pre;overflow-x:auto;line-height:normal;font-family:Menlo,'DejaVu Sans Mono',consolas,'Courier New',monospace\"><span style=\"color: #7fbfbf; text-decoration-color: #7fbfbf\">         </span><span style=\"color: #000080; text-decoration-color: #000080\">INFO    </span> <span style=\"color: #000000; text-decoration-color: #000000\">Applying selection for CMS_WORKSHOP in ttbar_lep with variation nominal            </span><a href=\"file:///home/cms-jovyan/integration-challenge/cms/analysis/nondiff.py\" target=\"_blank\"><span style=\"color: #7f7f7f; text-decoration-color: #7f7f7f\">nondiff.py</span></a><span style=\"color: #7f7f7f; text-decoration-color: #7f7f7f\">:</span><a href=\"file:///home/cms-jovyan/integration-challenge/cms/analysis/nondiff.py#154\" target=\"_blank\"><span style=\"color: #7f7f7f; text-decoration-color: #7f7f7f\">154</span></a>\n",
       "</pre>\n"
      ],
      "text/plain": [
       "\u001b[2;36m        \u001b[0m\u001b[2;36m \u001b[0m\u001b[34mINFO    \u001b[0m \u001b[39mApplying selection for CMS_WORKSHOP in ttbar_lep with variation nominal           \u001b[0m\u001b[39m \u001b[0m\u001b]8;id=768055;file:///home/cms-jovyan/integration-challenge/cms/analysis/nondiff.py\u001b\\\u001b[2mnondiff.py\u001b[0m\u001b]8;;\u001b\\\u001b[2m:\u001b[0m\u001b]8;id=644399;file:///home/cms-jovyan/integration-challenge/cms/analysis/nondiff.py#154\u001b\\\u001b[2m154\u001b[0m\u001b]8;;\u001b\\\n"
      ]
     },
     "metadata": {},
     "output_type": "display_data"
    },
    {
     "data": {
      "text/html": [
       "<pre style=\"white-space:pre;overflow-x:auto;line-height:normal;font-family:Menlo,'DejaVu Sans Mono',consolas,'Courier New',monospace\"><span style=\"color: #7fbfbf; text-decoration-color: #7fbfbf\">         </span><span style=\"color: #000080; text-decoration-color: #000080\">INFO    </span> <span style=\"color: #000000; text-decoration-color: #000000\">Number of weighted events in CMS_WORKSHOP: </span><span style=\"color: #008080; text-decoration-color: #008080; font-weight: bold\">190.46</span><span style=\"color: #000000; text-decoration-color: #000000\">                                  </span><a href=\"file:///home/cms-jovyan/integration-challenge/cms/analysis/nondiff.py\" target=\"_blank\"><span style=\"color: #7f7f7f; text-decoration-color: #7f7f7f\">nondiff.py</span></a><span style=\"color: #7f7f7f; text-decoration-color: #7f7f7f\">:</span><a href=\"file:///home/cms-jovyan/integration-challenge/cms/analysis/nondiff.py#205\" target=\"_blank\"><span style=\"color: #7f7f7f; text-decoration-color: #7f7f7f\">205</span></a>\n",
       "</pre>\n"
      ],
      "text/plain": [
       "\u001b[2;36m        \u001b[0m\u001b[2;36m \u001b[0m\u001b[34mINFO    \u001b[0m \u001b[39mNumber of weighted events in CMS_WORKSHOP: \u001b[0m\u001b[1;36m190.46\u001b[0m\u001b[39m                                 \u001b[0m\u001b[39m \u001b[0m\u001b]8;id=81501;file:///home/cms-jovyan/integration-challenge/cms/analysis/nondiff.py\u001b\\\u001b[2mnondiff.py\u001b[0m\u001b]8;;\u001b\\\u001b[2m:\u001b[0m\u001b]8;id=762453;file:///home/cms-jovyan/integration-challenge/cms/analysis/nondiff.py#205\u001b\\\u001b[2m205\u001b[0m\u001b]8;;\u001b\\\n"
      ]
     },
     "metadata": {},
     "output_type": "display_data"
    },
    {
     "data": {
      "text/html": [
       "<pre style=\"white-space:pre;overflow-x:auto;line-height:normal;font-family:Menlo,'DejaVu Sans Mono',consolas,'Courier New',monospace\"><span style=\"color: #7fbfbf; text-decoration-color: #7fbfbf\">         </span><span style=\"color: #000080; text-decoration-color: #000080\">INFO    </span> <span style=\"color: #000000; text-decoration-color: #000000\">Number of raw events in CMS_WORKSHOP: </span><span style=\"color: #008080; text-decoration-color: #008080; font-weight: bold\">175</span><span style=\"color: #000000; text-decoration-color: #000000\">                                          </span><a href=\"file:///home/cms-jovyan/integration-challenge/cms/analysis/nondiff.py\" target=\"_blank\"><span style=\"color: #7f7f7f; text-decoration-color: #7f7f7f\">nondiff.py</span></a><span style=\"color: #7f7f7f; text-decoration-color: #7f7f7f\">:</span><a href=\"file:///home/cms-jovyan/integration-challenge/cms/analysis/nondiff.py#208\" target=\"_blank\"><span style=\"color: #7f7f7f; text-decoration-color: #7f7f7f\">208</span></a>\n",
       "</pre>\n"
      ],
      "text/plain": [
       "\u001b[2;36m        \u001b[0m\u001b[2;36m \u001b[0m\u001b[34mINFO    \u001b[0m \u001b[39mNumber of raw events in CMS_WORKSHOP: \u001b[0m\u001b[1;36m175\u001b[0m\u001b[39m                                         \u001b[0m\u001b[39m \u001b[0m\u001b]8;id=37804;file:///home/cms-jovyan/integration-challenge/cms/analysis/nondiff.py\u001b\\\u001b[2mnondiff.py\u001b[0m\u001b]8;;\u001b\\\u001b[2m:\u001b[0m\u001b]8;id=229653;file:///home/cms-jovyan/integration-challenge/cms/analysis/nondiff.py#208\u001b\\\u001b[2m208\u001b[0m\u001b]8;;\u001b\\\n"
      ]
     },
     "metadata": {},
     "output_type": "display_data"
    },
    {
     "data": {
      "text/html": [
       "<pre style=\"white-space:pre;overflow-x:auto;line-height:normal;font-family:Menlo,'DejaVu Sans Mono',consolas,'Courier New',monospace\"><span style=\"color: #7fbfbf; text-decoration-color: #7fbfbf\">         </span><span style=\"color: #000080; text-decoration-color: #000080\">INFO    </span> <span style=\"color: #000000; text-decoration-color: #000000\">Computing observable workshop_mtt                                                  </span><a href=\"file:///home/cms-jovyan/integration-challenge/cms/analysis/nondiff.py\" target=\"_blank\"><span style=\"color: #7f7f7f; text-decoration-color: #7f7f7f\">nondiff.py</span></a><span style=\"color: #7f7f7f; text-decoration-color: #7f7f7f\">:</span><a href=\"file:///home/cms-jovyan/integration-challenge/cms/analysis/nondiff.py#213\" target=\"_blank\"><span style=\"color: #7f7f7f; text-decoration-color: #7f7f7f\">213</span></a>\n",
       "</pre>\n"
      ],
      "text/plain": [
       "\u001b[2;36m        \u001b[0m\u001b[2;36m \u001b[0m\u001b[34mINFO    \u001b[0m \u001b[39mComputing observable workshop_mtt                                                 \u001b[0m\u001b[39m \u001b[0m\u001b]8;id=485756;file:///home/cms-jovyan/integration-challenge/cms/analysis/nondiff.py\u001b\\\u001b[2mnondiff.py\u001b[0m\u001b]8;;\u001b\\\u001b[2m:\u001b[0m\u001b]8;id=865187;file:///home/cms-jovyan/integration-challenge/cms/analysis/nondiff.py#213\u001b\\\u001b[2m213\u001b[0m\u001b]8;;\u001b\\\n"
      ]
     },
     "metadata": {},
     "output_type": "display_data"
    },
    {
     "data": {
      "text/html": [
       "<pre style=\"white-space:pre;overflow-x:auto;line-height:normal;font-family:Menlo,'DejaVu Sans Mono',consolas,'Courier New',monospace\"><span style=\"color: #7fbfbf; text-decoration-color: #7fbfbf\">         </span><span style=\"color: #000080; text-decoration-color: #000080\">INFO    </span> <span style=\"color: #000000; text-decoration-color: #000000\">Applying selection for CMS_WORKSHOP in ttbar_lep with variation                    </span><a href=\"file:///home/cms-jovyan/integration-challenge/cms/analysis/nondiff.py\" target=\"_blank\"><span style=\"color: #7f7f7f; text-decoration-color: #7f7f7f\">nondiff.py</span></a><span style=\"color: #7f7f7f; text-decoration-color: #7f7f7f\">:</span><a href=\"file:///home/cms-jovyan/integration-challenge/cms/analysis/nondiff.py#154\" target=\"_blank\"><span style=\"color: #7f7f7f; text-decoration-color: #7f7f7f\">154</span></a>\n",
       "<span style=\"color: #7fbfbf; text-decoration-color: #7fbfbf\">         </span>         <span style=\"color: #000000; text-decoration-color: #000000\">jet_pt_resolution_up                                                               </span><span style=\"color: #7f7f7f; text-decoration-color: #7f7f7f\">              </span>\n",
       "</pre>\n"
      ],
      "text/plain": [
       "\u001b[2;36m        \u001b[0m\u001b[2;36m \u001b[0m\u001b[34mINFO    \u001b[0m \u001b[39mApplying selection for CMS_WORKSHOP in ttbar_lep with variation                   \u001b[0m\u001b[39m \u001b[0m\u001b]8;id=840558;file:///home/cms-jovyan/integration-challenge/cms/analysis/nondiff.py\u001b\\\u001b[2mnondiff.py\u001b[0m\u001b]8;;\u001b\\\u001b[2m:\u001b[0m\u001b]8;id=703452;file:///home/cms-jovyan/integration-challenge/cms/analysis/nondiff.py#154\u001b\\\u001b[2m154\u001b[0m\u001b]8;;\u001b\\\n",
       "\u001b[2;36m         \u001b[0m         \u001b[39mjet_pt_resolution_up                                                              \u001b[0m\u001b[39m \u001b[0m\u001b[2m              \u001b[0m\n"
      ]
     },
     "metadata": {},
     "output_type": "display_data"
    },
    {
     "data": {
      "text/html": [
       "<pre style=\"white-space:pre;overflow-x:auto;line-height:normal;font-family:Menlo,'DejaVu Sans Mono',consolas,'Courier New',monospace\"><span style=\"color: #7fbfbf; text-decoration-color: #7fbfbf\">         </span><span style=\"color: #000080; text-decoration-color: #000080\">INFO    </span> <span style=\"color: #000000; text-decoration-color: #000000\">Number of weighted events in CMS_WORKSHOP: </span><span style=\"color: #008080; text-decoration-color: #008080; font-weight: bold\">190.46</span><span style=\"color: #000000; text-decoration-color: #000000\">                                  </span><a href=\"file:///home/cms-jovyan/integration-challenge/cms/analysis/nondiff.py\" target=\"_blank\"><span style=\"color: #7f7f7f; text-decoration-color: #7f7f7f\">nondiff.py</span></a><span style=\"color: #7f7f7f; text-decoration-color: #7f7f7f\">:</span><a href=\"file:///home/cms-jovyan/integration-challenge/cms/analysis/nondiff.py#205\" target=\"_blank\"><span style=\"color: #7f7f7f; text-decoration-color: #7f7f7f\">205</span></a>\n",
       "</pre>\n"
      ],
      "text/plain": [
       "\u001b[2;36m        \u001b[0m\u001b[2;36m \u001b[0m\u001b[34mINFO    \u001b[0m \u001b[39mNumber of weighted events in CMS_WORKSHOP: \u001b[0m\u001b[1;36m190.46\u001b[0m\u001b[39m                                 \u001b[0m\u001b[39m \u001b[0m\u001b]8;id=153066;file:///home/cms-jovyan/integration-challenge/cms/analysis/nondiff.py\u001b\\\u001b[2mnondiff.py\u001b[0m\u001b]8;;\u001b\\\u001b[2m:\u001b[0m\u001b]8;id=761273;file:///home/cms-jovyan/integration-challenge/cms/analysis/nondiff.py#205\u001b\\\u001b[2m205\u001b[0m\u001b]8;;\u001b\\\n"
      ]
     },
     "metadata": {},
     "output_type": "display_data"
    },
    {
     "data": {
      "text/html": [
       "<pre style=\"white-space:pre;overflow-x:auto;line-height:normal;font-family:Menlo,'DejaVu Sans Mono',consolas,'Courier New',monospace\"><span style=\"color: #7fbfbf; text-decoration-color: #7fbfbf\">         </span><span style=\"color: #000080; text-decoration-color: #000080\">INFO    </span> <span style=\"color: #000000; text-decoration-color: #000000\">Number of raw events in CMS_WORKSHOP: </span><span style=\"color: #008080; text-decoration-color: #008080; font-weight: bold\">175</span><span style=\"color: #000000; text-decoration-color: #000000\">                                          </span><a href=\"file:///home/cms-jovyan/integration-challenge/cms/analysis/nondiff.py\" target=\"_blank\"><span style=\"color: #7f7f7f; text-decoration-color: #7f7f7f\">nondiff.py</span></a><span style=\"color: #7f7f7f; text-decoration-color: #7f7f7f\">:</span><a href=\"file:///home/cms-jovyan/integration-challenge/cms/analysis/nondiff.py#208\" target=\"_blank\"><span style=\"color: #7f7f7f; text-decoration-color: #7f7f7f\">208</span></a>\n",
       "</pre>\n"
      ],
      "text/plain": [
       "\u001b[2;36m        \u001b[0m\u001b[2;36m \u001b[0m\u001b[34mINFO    \u001b[0m \u001b[39mNumber of raw events in CMS_WORKSHOP: \u001b[0m\u001b[1;36m175\u001b[0m\u001b[39m                                         \u001b[0m\u001b[39m \u001b[0m\u001b]8;id=381797;file:///home/cms-jovyan/integration-challenge/cms/analysis/nondiff.py\u001b\\\u001b[2mnondiff.py\u001b[0m\u001b]8;;\u001b\\\u001b[2m:\u001b[0m\u001b]8;id=306178;file:///home/cms-jovyan/integration-challenge/cms/analysis/nondiff.py#208\u001b\\\u001b[2m208\u001b[0m\u001b]8;;\u001b\\\n"
      ]
     },
     "metadata": {},
     "output_type": "display_data"
    },
    {
     "data": {
      "text/html": [
       "<pre style=\"white-space:pre;overflow-x:auto;line-height:normal;font-family:Menlo,'DejaVu Sans Mono',consolas,'Courier New',monospace\"><span style=\"color: #7fbfbf; text-decoration-color: #7fbfbf\">         </span><span style=\"color: #000080; text-decoration-color: #000080\">INFO    </span> <span style=\"color: #000000; text-decoration-color: #000000\">Computing observable workshop_mtt                                                  </span><a href=\"file:///home/cms-jovyan/integration-challenge/cms/analysis/nondiff.py\" target=\"_blank\"><span style=\"color: #7f7f7f; text-decoration-color: #7f7f7f\">nondiff.py</span></a><span style=\"color: #7f7f7f; text-decoration-color: #7f7f7f\">:</span><a href=\"file:///home/cms-jovyan/integration-challenge/cms/analysis/nondiff.py#213\" target=\"_blank\"><span style=\"color: #7f7f7f; text-decoration-color: #7f7f7f\">213</span></a>\n",
       "</pre>\n"
      ],
      "text/plain": [
       "\u001b[2;36m        \u001b[0m\u001b[2;36m \u001b[0m\u001b[34mINFO    \u001b[0m \u001b[39mComputing observable workshop_mtt                                                 \u001b[0m\u001b[39m \u001b[0m\u001b]8;id=565339;file:///home/cms-jovyan/integration-challenge/cms/analysis/nondiff.py\u001b\\\u001b[2mnondiff.py\u001b[0m\u001b]8;;\u001b\\\u001b[2m:\u001b[0m\u001b]8;id=783442;file:///home/cms-jovyan/integration-challenge/cms/analysis/nondiff.py#213\u001b\\\u001b[2m213\u001b[0m\u001b]8;;\u001b\\\n"
      ]
     },
     "metadata": {},
     "output_type": "display_data"
    },
    {
     "data": {
      "text/html": [
       "<pre style=\"white-space:pre;overflow-x:auto;line-height:normal;font-family:Menlo,'DejaVu Sans Mono',consolas,'Courier New',monospace\"><span style=\"color: #7fbfbf; text-decoration-color: #7fbfbf\">         </span><span style=\"color: #000080; text-decoration-color: #000080\">INFO    </span> <span style=\"color: #000000; text-decoration-color: #000000\">Applying selection for CMS_WORKSHOP in ttbar_lep with variation                    </span><a href=\"file:///home/cms-jovyan/integration-challenge/cms/analysis/nondiff.py\" target=\"_blank\"><span style=\"color: #7f7f7f; text-decoration-color: #7f7f7f\">nondiff.py</span></a><span style=\"color: #7f7f7f; text-decoration-color: #7f7f7f\">:</span><a href=\"file:///home/cms-jovyan/integration-challenge/cms/analysis/nondiff.py#154\" target=\"_blank\"><span style=\"color: #7f7f7f; text-decoration-color: #7f7f7f\">154</span></a>\n",
       "<span style=\"color: #7fbfbf; text-decoration-color: #7fbfbf\">         </span>         <span style=\"color: #000000; text-decoration-color: #000000\">jet_pt_resolution_down                                                             </span><span style=\"color: #7f7f7f; text-decoration-color: #7f7f7f\">              </span>\n",
       "</pre>\n"
      ],
      "text/plain": [
       "\u001b[2;36m        \u001b[0m\u001b[2;36m \u001b[0m\u001b[34mINFO    \u001b[0m \u001b[39mApplying selection for CMS_WORKSHOP in ttbar_lep with variation                   \u001b[0m\u001b[39m \u001b[0m\u001b]8;id=330546;file:///home/cms-jovyan/integration-challenge/cms/analysis/nondiff.py\u001b\\\u001b[2mnondiff.py\u001b[0m\u001b]8;;\u001b\\\u001b[2m:\u001b[0m\u001b]8;id=134099;file:///home/cms-jovyan/integration-challenge/cms/analysis/nondiff.py#154\u001b\\\u001b[2m154\u001b[0m\u001b]8;;\u001b\\\n",
       "\u001b[2;36m         \u001b[0m         \u001b[39mjet_pt_resolution_down                                                            \u001b[0m\u001b[39m \u001b[0m\u001b[2m              \u001b[0m\n"
      ]
     },
     "metadata": {},
     "output_type": "display_data"
    },
    {
     "data": {
      "text/html": [
       "<pre style=\"white-space:pre;overflow-x:auto;line-height:normal;font-family:Menlo,'DejaVu Sans Mono',consolas,'Courier New',monospace\"><span style=\"color: #7fbfbf; text-decoration-color: #7fbfbf\">         </span><span style=\"color: #000080; text-decoration-color: #000080\">INFO    </span> <span style=\"color: #000000; text-decoration-color: #000000\">Number of weighted events in CMS_WORKSHOP: </span><span style=\"color: #008080; text-decoration-color: #008080; font-weight: bold\">190.46</span><span style=\"color: #000000; text-decoration-color: #000000\">                                  </span><a href=\"file:///home/cms-jovyan/integration-challenge/cms/analysis/nondiff.py\" target=\"_blank\"><span style=\"color: #7f7f7f; text-decoration-color: #7f7f7f\">nondiff.py</span></a><span style=\"color: #7f7f7f; text-decoration-color: #7f7f7f\">:</span><a href=\"file:///home/cms-jovyan/integration-challenge/cms/analysis/nondiff.py#205\" target=\"_blank\"><span style=\"color: #7f7f7f; text-decoration-color: #7f7f7f\">205</span></a>\n",
       "</pre>\n"
      ],
      "text/plain": [
       "\u001b[2;36m        \u001b[0m\u001b[2;36m \u001b[0m\u001b[34mINFO    \u001b[0m \u001b[39mNumber of weighted events in CMS_WORKSHOP: \u001b[0m\u001b[1;36m190.46\u001b[0m\u001b[39m                                 \u001b[0m\u001b[39m \u001b[0m\u001b]8;id=464855;file:///home/cms-jovyan/integration-challenge/cms/analysis/nondiff.py\u001b\\\u001b[2mnondiff.py\u001b[0m\u001b]8;;\u001b\\\u001b[2m:\u001b[0m\u001b]8;id=896266;file:///home/cms-jovyan/integration-challenge/cms/analysis/nondiff.py#205\u001b\\\u001b[2m205\u001b[0m\u001b]8;;\u001b\\\n"
      ]
     },
     "metadata": {},
     "output_type": "display_data"
    },
    {
     "data": {
      "text/html": [
       "<pre style=\"white-space:pre;overflow-x:auto;line-height:normal;font-family:Menlo,'DejaVu Sans Mono',consolas,'Courier New',monospace\"><span style=\"color: #7fbfbf; text-decoration-color: #7fbfbf\">         </span><span style=\"color: #000080; text-decoration-color: #000080\">INFO    </span> <span style=\"color: #000000; text-decoration-color: #000000\">Number of raw events in CMS_WORKSHOP: </span><span style=\"color: #008080; text-decoration-color: #008080; font-weight: bold\">175</span><span style=\"color: #000000; text-decoration-color: #000000\">                                          </span><a href=\"file:///home/cms-jovyan/integration-challenge/cms/analysis/nondiff.py\" target=\"_blank\"><span style=\"color: #7f7f7f; text-decoration-color: #7f7f7f\">nondiff.py</span></a><span style=\"color: #7f7f7f; text-decoration-color: #7f7f7f\">:</span><a href=\"file:///home/cms-jovyan/integration-challenge/cms/analysis/nondiff.py#208\" target=\"_blank\"><span style=\"color: #7f7f7f; text-decoration-color: #7f7f7f\">208</span></a>\n",
       "</pre>\n"
      ],
      "text/plain": [
       "\u001b[2;36m        \u001b[0m\u001b[2;36m \u001b[0m\u001b[34mINFO    \u001b[0m \u001b[39mNumber of raw events in CMS_WORKSHOP: \u001b[0m\u001b[1;36m175\u001b[0m\u001b[39m                                         \u001b[0m\u001b[39m \u001b[0m\u001b]8;id=11371;file:///home/cms-jovyan/integration-challenge/cms/analysis/nondiff.py\u001b\\\u001b[2mnondiff.py\u001b[0m\u001b]8;;\u001b\\\u001b[2m:\u001b[0m\u001b]8;id=354711;file:///home/cms-jovyan/integration-challenge/cms/analysis/nondiff.py#208\u001b\\\u001b[2m208\u001b[0m\u001b]8;;\u001b\\\n"
      ]
     },
     "metadata": {},
     "output_type": "display_data"
    },
    {
     "data": {
      "text/html": [
       "<pre style=\"white-space:pre;overflow-x:auto;line-height:normal;font-family:Menlo,'DejaVu Sans Mono',consolas,'Courier New',monospace\"><span style=\"color: #7fbfbf; text-decoration-color: #7fbfbf\">         </span><span style=\"color: #000080; text-decoration-color: #000080\">INFO    </span> <span style=\"color: #000000; text-decoration-color: #000000\">Computing observable workshop_mtt                                                  </span><a href=\"file:///home/cms-jovyan/integration-challenge/cms/analysis/nondiff.py\" target=\"_blank\"><span style=\"color: #7f7f7f; text-decoration-color: #7f7f7f\">nondiff.py</span></a><span style=\"color: #7f7f7f; text-decoration-color: #7f7f7f\">:</span><a href=\"file:///home/cms-jovyan/integration-challenge/cms/analysis/nondiff.py#213\" target=\"_blank\"><span style=\"color: #7f7f7f; text-decoration-color: #7f7f7f\">213</span></a>\n",
       "</pre>\n"
      ],
      "text/plain": [
       "\u001b[2;36m        \u001b[0m\u001b[2;36m \u001b[0m\u001b[34mINFO    \u001b[0m \u001b[39mComputing observable workshop_mtt                                                 \u001b[0m\u001b[39m \u001b[0m\u001b]8;id=589950;file:///home/cms-jovyan/integration-challenge/cms/analysis/nondiff.py\u001b\\\u001b[2mnondiff.py\u001b[0m\u001b]8;;\u001b\\\u001b[2m:\u001b[0m\u001b]8;id=187073;file:///home/cms-jovyan/integration-challenge/cms/analysis/nondiff.py#213\u001b\\\u001b[2m213\u001b[0m\u001b]8;;\u001b\\\n"
      ]
     },
     "metadata": {},
     "output_type": "display_data"
    },
    {
     "data": {
      "text/html": [
       "<pre style=\"white-space:pre;overflow-x:auto;line-height:normal;font-family:Menlo,'DejaVu Sans Mono',consolas,'Courier New',monospace\"><span style=\"color: #7fbfbf; text-decoration-color: #7fbfbf\">         </span><span style=\"color: #000080; text-decoration-color: #000080\">INFO    </span> <span style=\"color: #000000; text-decoration-color: #000000\">Applying selection for CMS_WORKSHOP in ttbar_lep with variation jet_pt_scale_up    </span><a href=\"file:///home/cms-jovyan/integration-challenge/cms/analysis/nondiff.py\" target=\"_blank\"><span style=\"color: #7f7f7f; text-decoration-color: #7f7f7f\">nondiff.py</span></a><span style=\"color: #7f7f7f; text-decoration-color: #7f7f7f\">:</span><a href=\"file:///home/cms-jovyan/integration-challenge/cms/analysis/nondiff.py#154\" target=\"_blank\"><span style=\"color: #7f7f7f; text-decoration-color: #7f7f7f\">154</span></a>\n",
       "</pre>\n"
      ],
      "text/plain": [
       "\u001b[2;36m        \u001b[0m\u001b[2;36m \u001b[0m\u001b[34mINFO    \u001b[0m \u001b[39mApplying selection for CMS_WORKSHOP in ttbar_lep with variation jet_pt_scale_up   \u001b[0m\u001b[39m \u001b[0m\u001b]8;id=470838;file:///home/cms-jovyan/integration-challenge/cms/analysis/nondiff.py\u001b\\\u001b[2mnondiff.py\u001b[0m\u001b]8;;\u001b\\\u001b[2m:\u001b[0m\u001b]8;id=374537;file:///home/cms-jovyan/integration-challenge/cms/analysis/nondiff.py#154\u001b\\\u001b[2m154\u001b[0m\u001b]8;;\u001b\\\n"
      ]
     },
     "metadata": {},
     "output_type": "display_data"
    },
    {
     "data": {
      "text/html": [
       "<pre style=\"white-space:pre;overflow-x:auto;line-height:normal;font-family:Menlo,'DejaVu Sans Mono',consolas,'Courier New',monospace\"><span style=\"color: #7fbfbf; text-decoration-color: #7fbfbf\">         </span><span style=\"color: #000080; text-decoration-color: #000080\">INFO    </span> <span style=\"color: #000000; text-decoration-color: #000000\">Number of weighted events in CMS_WORKSHOP: </span><span style=\"color: #008080; text-decoration-color: #008080; font-weight: bold\">190.46</span><span style=\"color: #000000; text-decoration-color: #000000\">                                  </span><a href=\"file:///home/cms-jovyan/integration-challenge/cms/analysis/nondiff.py\" target=\"_blank\"><span style=\"color: #7f7f7f; text-decoration-color: #7f7f7f\">nondiff.py</span></a><span style=\"color: #7f7f7f; text-decoration-color: #7f7f7f\">:</span><a href=\"file:///home/cms-jovyan/integration-challenge/cms/analysis/nondiff.py#205\" target=\"_blank\"><span style=\"color: #7f7f7f; text-decoration-color: #7f7f7f\">205</span></a>\n",
       "</pre>\n"
      ],
      "text/plain": [
       "\u001b[2;36m        \u001b[0m\u001b[2;36m \u001b[0m\u001b[34mINFO    \u001b[0m \u001b[39mNumber of weighted events in CMS_WORKSHOP: \u001b[0m\u001b[1;36m190.46\u001b[0m\u001b[39m                                 \u001b[0m\u001b[39m \u001b[0m\u001b]8;id=598998;file:///home/cms-jovyan/integration-challenge/cms/analysis/nondiff.py\u001b\\\u001b[2mnondiff.py\u001b[0m\u001b]8;;\u001b\\\u001b[2m:\u001b[0m\u001b]8;id=992437;file:///home/cms-jovyan/integration-challenge/cms/analysis/nondiff.py#205\u001b\\\u001b[2m205\u001b[0m\u001b]8;;\u001b\\\n"
      ]
     },
     "metadata": {},
     "output_type": "display_data"
    },
    {
     "data": {
      "text/html": [
       "<pre style=\"white-space:pre;overflow-x:auto;line-height:normal;font-family:Menlo,'DejaVu Sans Mono',consolas,'Courier New',monospace\"><span style=\"color: #7fbfbf; text-decoration-color: #7fbfbf\">         </span><span style=\"color: #000080; text-decoration-color: #000080\">INFO    </span> <span style=\"color: #000000; text-decoration-color: #000000\">Number of raw events in CMS_WORKSHOP: </span><span style=\"color: #008080; text-decoration-color: #008080; font-weight: bold\">175</span><span style=\"color: #000000; text-decoration-color: #000000\">                                          </span><a href=\"file:///home/cms-jovyan/integration-challenge/cms/analysis/nondiff.py\" target=\"_blank\"><span style=\"color: #7f7f7f; text-decoration-color: #7f7f7f\">nondiff.py</span></a><span style=\"color: #7f7f7f; text-decoration-color: #7f7f7f\">:</span><a href=\"file:///home/cms-jovyan/integration-challenge/cms/analysis/nondiff.py#208\" target=\"_blank\"><span style=\"color: #7f7f7f; text-decoration-color: #7f7f7f\">208</span></a>\n",
       "</pre>\n"
      ],
      "text/plain": [
       "\u001b[2;36m        \u001b[0m\u001b[2;36m \u001b[0m\u001b[34mINFO    \u001b[0m \u001b[39mNumber of raw events in CMS_WORKSHOP: \u001b[0m\u001b[1;36m175\u001b[0m\u001b[39m                                         \u001b[0m\u001b[39m \u001b[0m\u001b]8;id=781660;file:///home/cms-jovyan/integration-challenge/cms/analysis/nondiff.py\u001b\\\u001b[2mnondiff.py\u001b[0m\u001b]8;;\u001b\\\u001b[2m:\u001b[0m\u001b]8;id=41618;file:///home/cms-jovyan/integration-challenge/cms/analysis/nondiff.py#208\u001b\\\u001b[2m208\u001b[0m\u001b]8;;\u001b\\\n"
      ]
     },
     "metadata": {},
     "output_type": "display_data"
    },
    {
     "data": {
      "text/html": [
       "<pre style=\"white-space:pre;overflow-x:auto;line-height:normal;font-family:Menlo,'DejaVu Sans Mono',consolas,'Courier New',monospace\"><span style=\"color: #7fbfbf; text-decoration-color: #7fbfbf\">         </span><span style=\"color: #000080; text-decoration-color: #000080\">INFO    </span> <span style=\"color: #000000; text-decoration-color: #000000\">Computing observable workshop_mtt                                                  </span><a href=\"file:///home/cms-jovyan/integration-challenge/cms/analysis/nondiff.py\" target=\"_blank\"><span style=\"color: #7f7f7f; text-decoration-color: #7f7f7f\">nondiff.py</span></a><span style=\"color: #7f7f7f; text-decoration-color: #7f7f7f\">:</span><a href=\"file:///home/cms-jovyan/integration-challenge/cms/analysis/nondiff.py#213\" target=\"_blank\"><span style=\"color: #7f7f7f; text-decoration-color: #7f7f7f\">213</span></a>\n",
       "</pre>\n"
      ],
      "text/plain": [
       "\u001b[2;36m        \u001b[0m\u001b[2;36m \u001b[0m\u001b[34mINFO    \u001b[0m \u001b[39mComputing observable workshop_mtt                                                 \u001b[0m\u001b[39m \u001b[0m\u001b]8;id=180532;file:///home/cms-jovyan/integration-challenge/cms/analysis/nondiff.py\u001b\\\u001b[2mnondiff.py\u001b[0m\u001b]8;;\u001b\\\u001b[2m:\u001b[0m\u001b]8;id=902781;file:///home/cms-jovyan/integration-challenge/cms/analysis/nondiff.py#213\u001b\\\u001b[2m213\u001b[0m\u001b]8;;\u001b\\\n"
      ]
     },
     "metadata": {},
     "output_type": "display_data"
    },
    {
     "data": {
      "text/html": [
       "<pre style=\"white-space:pre;overflow-x:auto;line-height:normal;font-family:Menlo,'DejaVu Sans Mono',consolas,'Courier New',monospace\"><span style=\"color: #7fbfbf; text-decoration-color: #7fbfbf\">         </span><span style=\"color: #000080; text-decoration-color: #000080\">INFO    </span> <span style=\"color: #000000; text-decoration-color: #000000\">Applying selection for CMS_WORKSHOP in ttbar_lep with variation jet_pt_scale_down  </span><a href=\"file:///home/cms-jovyan/integration-challenge/cms/analysis/nondiff.py\" target=\"_blank\"><span style=\"color: #7f7f7f; text-decoration-color: #7f7f7f\">nondiff.py</span></a><span style=\"color: #7f7f7f; text-decoration-color: #7f7f7f\">:</span><a href=\"file:///home/cms-jovyan/integration-challenge/cms/analysis/nondiff.py#154\" target=\"_blank\"><span style=\"color: #7f7f7f; text-decoration-color: #7f7f7f\">154</span></a>\n",
       "</pre>\n"
      ],
      "text/plain": [
       "\u001b[2;36m        \u001b[0m\u001b[2;36m \u001b[0m\u001b[34mINFO    \u001b[0m \u001b[39mApplying selection for CMS_WORKSHOP in ttbar_lep with variation jet_pt_scale_down \u001b[0m\u001b[39m \u001b[0m\u001b]8;id=716821;file:///home/cms-jovyan/integration-challenge/cms/analysis/nondiff.py\u001b\\\u001b[2mnondiff.py\u001b[0m\u001b]8;;\u001b\\\u001b[2m:\u001b[0m\u001b]8;id=835619;file:///home/cms-jovyan/integration-challenge/cms/analysis/nondiff.py#154\u001b\\\u001b[2m154\u001b[0m\u001b]8;;\u001b\\\n"
      ]
     },
     "metadata": {},
     "output_type": "display_data"
    },
    {
     "data": {
      "text/html": [
       "<pre style=\"white-space:pre;overflow-x:auto;line-height:normal;font-family:Menlo,'DejaVu Sans Mono',consolas,'Courier New',monospace\"><span style=\"color: #7fbfbf; text-decoration-color: #7fbfbf\">         </span><span style=\"color: #000080; text-decoration-color: #000080\">INFO    </span> <span style=\"color: #000000; text-decoration-color: #000000\">Number of weighted events in CMS_WORKSHOP: </span><span style=\"color: #008080; text-decoration-color: #008080; font-weight: bold\">190.46</span><span style=\"color: #000000; text-decoration-color: #000000\">                                  </span><a href=\"file:///home/cms-jovyan/integration-challenge/cms/analysis/nondiff.py\" target=\"_blank\"><span style=\"color: #7f7f7f; text-decoration-color: #7f7f7f\">nondiff.py</span></a><span style=\"color: #7f7f7f; text-decoration-color: #7f7f7f\">:</span><a href=\"file:///home/cms-jovyan/integration-challenge/cms/analysis/nondiff.py#205\" target=\"_blank\"><span style=\"color: #7f7f7f; text-decoration-color: #7f7f7f\">205</span></a>\n",
       "</pre>\n"
      ],
      "text/plain": [
       "\u001b[2;36m        \u001b[0m\u001b[2;36m \u001b[0m\u001b[34mINFO    \u001b[0m \u001b[39mNumber of weighted events in CMS_WORKSHOP: \u001b[0m\u001b[1;36m190.46\u001b[0m\u001b[39m                                 \u001b[0m\u001b[39m \u001b[0m\u001b]8;id=678294;file:///home/cms-jovyan/integration-challenge/cms/analysis/nondiff.py\u001b\\\u001b[2mnondiff.py\u001b[0m\u001b]8;;\u001b\\\u001b[2m:\u001b[0m\u001b]8;id=512851;file:///home/cms-jovyan/integration-challenge/cms/analysis/nondiff.py#205\u001b\\\u001b[2m205\u001b[0m\u001b]8;;\u001b\\\n"
      ]
     },
     "metadata": {},
     "output_type": "display_data"
    },
    {
     "data": {
      "text/html": [
       "<pre style=\"white-space:pre;overflow-x:auto;line-height:normal;font-family:Menlo,'DejaVu Sans Mono',consolas,'Courier New',monospace\"><span style=\"color: #7fbfbf; text-decoration-color: #7fbfbf\">         </span><span style=\"color: #000080; text-decoration-color: #000080\">INFO    </span> <span style=\"color: #000000; text-decoration-color: #000000\">Number of raw events in CMS_WORKSHOP: </span><span style=\"color: #008080; text-decoration-color: #008080; font-weight: bold\">175</span><span style=\"color: #000000; text-decoration-color: #000000\">                                          </span><a href=\"file:///home/cms-jovyan/integration-challenge/cms/analysis/nondiff.py\" target=\"_blank\"><span style=\"color: #7f7f7f; text-decoration-color: #7f7f7f\">nondiff.py</span></a><span style=\"color: #7f7f7f; text-decoration-color: #7f7f7f\">:</span><a href=\"file:///home/cms-jovyan/integration-challenge/cms/analysis/nondiff.py#208\" target=\"_blank\"><span style=\"color: #7f7f7f; text-decoration-color: #7f7f7f\">208</span></a>\n",
       "</pre>\n"
      ],
      "text/plain": [
       "\u001b[2;36m        \u001b[0m\u001b[2;36m \u001b[0m\u001b[34mINFO    \u001b[0m \u001b[39mNumber of raw events in CMS_WORKSHOP: \u001b[0m\u001b[1;36m175\u001b[0m\u001b[39m                                         \u001b[0m\u001b[39m \u001b[0m\u001b]8;id=978153;file:///home/cms-jovyan/integration-challenge/cms/analysis/nondiff.py\u001b\\\u001b[2mnondiff.py\u001b[0m\u001b]8;;\u001b\\\u001b[2m:\u001b[0m\u001b]8;id=305178;file:///home/cms-jovyan/integration-challenge/cms/analysis/nondiff.py#208\u001b\\\u001b[2m208\u001b[0m\u001b]8;;\u001b\\\n"
      ]
     },
     "metadata": {},
     "output_type": "display_data"
    },
    {
     "data": {
      "text/html": [
       "<pre style=\"white-space:pre;overflow-x:auto;line-height:normal;font-family:Menlo,'DejaVu Sans Mono',consolas,'Courier New',monospace\"><span style=\"color: #7fbfbf; text-decoration-color: #7fbfbf\">         </span><span style=\"color: #000080; text-decoration-color: #000080\">INFO    </span> <span style=\"color: #000000; text-decoration-color: #000000\">Computing observable workshop_mtt                                                  </span><a href=\"file:///home/cms-jovyan/integration-challenge/cms/analysis/nondiff.py\" target=\"_blank\"><span style=\"color: #7f7f7f; text-decoration-color: #7f7f7f\">nondiff.py</span></a><span style=\"color: #7f7f7f; text-decoration-color: #7f7f7f\">:</span><a href=\"file:///home/cms-jovyan/integration-challenge/cms/analysis/nondiff.py#213\" target=\"_blank\"><span style=\"color: #7f7f7f; text-decoration-color: #7f7f7f\">213</span></a>\n",
       "</pre>\n"
      ],
      "text/plain": [
       "\u001b[2;36m        \u001b[0m\u001b[2;36m \u001b[0m\u001b[34mINFO    \u001b[0m \u001b[39mComputing observable workshop_mtt                                                 \u001b[0m\u001b[39m \u001b[0m\u001b]8;id=21904;file:///home/cms-jovyan/integration-challenge/cms/analysis/nondiff.py\u001b\\\u001b[2mnondiff.py\u001b[0m\u001b]8;;\u001b\\\u001b[2m:\u001b[0m\u001b]8;id=24306;file:///home/cms-jovyan/integration-challenge/cms/analysis/nondiff.py#213\u001b\\\u001b[2m213\u001b[0m\u001b]8;;\u001b\\\n"
      ]
     },
     "metadata": {},
     "output_type": "display_data"
    },
    {
     "data": {
      "text/html": [
       "<pre style=\"white-space:pre;overflow-x:auto;line-height:normal;font-family:Menlo,'DejaVu Sans Mono',consolas,'Courier New',monospace\"><span style=\"color: #7fbfbf; text-decoration-color: #7fbfbf\">         </span><span style=\"color: #000080; text-decoration-color: #000080\">INFO    </span> <span style=\"color: #000000; text-decoration-color: #000000\">Applying selection for CMS_WORKSHOP in ttbar_lep with variation pu_weight_up       </span><a href=\"file:///home/cms-jovyan/integration-challenge/cms/analysis/nondiff.py\" target=\"_blank\"><span style=\"color: #7f7f7f; text-decoration-color: #7f7f7f\">nondiff.py</span></a><span style=\"color: #7f7f7f; text-decoration-color: #7f7f7f\">:</span><a href=\"file:///home/cms-jovyan/integration-challenge/cms/analysis/nondiff.py#154\" target=\"_blank\"><span style=\"color: #7f7f7f; text-decoration-color: #7f7f7f\">154</span></a>\n",
       "</pre>\n"
      ],
      "text/plain": [
       "\u001b[2;36m        \u001b[0m\u001b[2;36m \u001b[0m\u001b[34mINFO    \u001b[0m \u001b[39mApplying selection for CMS_WORKSHOP in ttbar_lep with variation pu_weight_up      \u001b[0m\u001b[39m \u001b[0m\u001b]8;id=968233;file:///home/cms-jovyan/integration-challenge/cms/analysis/nondiff.py\u001b\\\u001b[2mnondiff.py\u001b[0m\u001b]8;;\u001b\\\u001b[2m:\u001b[0m\u001b]8;id=683529;file:///home/cms-jovyan/integration-challenge/cms/analysis/nondiff.py#154\u001b\\\u001b[2m154\u001b[0m\u001b]8;;\u001b\\\n"
      ]
     },
     "metadata": {},
     "output_type": "display_data"
    },
    {
     "data": {
      "text/html": [
       "<pre style=\"white-space:pre;overflow-x:auto;line-height:normal;font-family:Menlo,'DejaVu Sans Mono',consolas,'Courier New',monospace\"><span style=\"color: #7fbfbf; text-decoration-color: #7fbfbf\">         </span><span style=\"color: #000080; text-decoration-color: #000080\">INFO    </span> <span style=\"color: #000000; text-decoration-color: #000000\">Applying correction: pu_weight/Collisions16_UltraLegacy_goldenJSON </span><span style=\"color: #000000; text-decoration-color: #000000; font-weight: bold\">(</span><span style=\"color: #000000; text-decoration-color: #000000\">up</span><span style=\"color: #000000; text-decoration-color: #000000; font-weight: bold\">)</span><span style=\"color: #000000; text-decoration-color: #000000\">               </span><a href=\"file:///home/cms-jovyan/integration-challenge/cms/analysis/base.py\" target=\"_blank\"><span style=\"color: #7f7f7f; text-decoration-color: #7f7f7f\">base.py</span></a><span style=\"color: #7f7f7f; text-decoration-color: #7f7f7f\">:</span><a href=\"file:///home/cms-jovyan/integration-challenge/cms/analysis/base.py#247\" target=\"_blank\"><span style=\"color: #7f7f7f; text-decoration-color: #7f7f7f\">247</span></a>\n",
       "</pre>\n"
      ],
      "text/plain": [
       "\u001b[2;36m        \u001b[0m\u001b[2;36m \u001b[0m\u001b[34mINFO    \u001b[0m \u001b[39mApplying correction: pu_weight/Collisions16_UltraLegacy_goldenJSON \u001b[0m\u001b[1;39m(\u001b[0m\u001b[39mup\u001b[0m\u001b[1;39m)\u001b[0m\u001b[39m              \u001b[0m\u001b[39m \u001b[0m\u001b]8;id=322712;file:///home/cms-jovyan/integration-challenge/cms/analysis/base.py\u001b\\\u001b[2mbase.py\u001b[0m\u001b]8;;\u001b\\\u001b[2m:\u001b[0m\u001b]8;id=315664;file:///home/cms-jovyan/integration-challenge/cms/analysis/base.py#247\u001b\\\u001b[2m247\u001b[0m\u001b]8;;\u001b\\\n"
      ]
     },
     "metadata": {},
     "output_type": "display_data"
    },
    {
     "data": {
      "text/html": [
       "<pre style=\"white-space:pre;overflow-x:auto;line-height:normal;font-family:Menlo,'DejaVu Sans Mono',consolas,'Courier New',monospace\"><span style=\"color: #7fbfbf; text-decoration-color: #7fbfbf\">         </span><span style=\"color: #000080; text-decoration-color: #000080\">INFO    </span> <span style=\"color: #000000; text-decoration-color: #000000\">Number of weighted events in CMS_WORKSHOP: </span><span style=\"color: #008080; text-decoration-color: #008080; font-weight: bold\">185.31</span><span style=\"color: #000000; text-decoration-color: #000000\">                                  </span><a href=\"file:///home/cms-jovyan/integration-challenge/cms/analysis/nondiff.py\" target=\"_blank\"><span style=\"color: #7f7f7f; text-decoration-color: #7f7f7f\">nondiff.py</span></a><span style=\"color: #7f7f7f; text-decoration-color: #7f7f7f\">:</span><a href=\"file:///home/cms-jovyan/integration-challenge/cms/analysis/nondiff.py#205\" target=\"_blank\"><span style=\"color: #7f7f7f; text-decoration-color: #7f7f7f\">205</span></a>\n",
       "</pre>\n"
      ],
      "text/plain": [
       "\u001b[2;36m        \u001b[0m\u001b[2;36m \u001b[0m\u001b[34mINFO    \u001b[0m \u001b[39mNumber of weighted events in CMS_WORKSHOP: \u001b[0m\u001b[1;36m185.31\u001b[0m\u001b[39m                                 \u001b[0m\u001b[39m \u001b[0m\u001b]8;id=248824;file:///home/cms-jovyan/integration-challenge/cms/analysis/nondiff.py\u001b\\\u001b[2mnondiff.py\u001b[0m\u001b]8;;\u001b\\\u001b[2m:\u001b[0m\u001b]8;id=295654;file:///home/cms-jovyan/integration-challenge/cms/analysis/nondiff.py#205\u001b\\\u001b[2m205\u001b[0m\u001b]8;;\u001b\\\n"
      ]
     },
     "metadata": {},
     "output_type": "display_data"
    },
    {
     "data": {
      "text/html": [
       "<pre style=\"white-space:pre;overflow-x:auto;line-height:normal;font-family:Menlo,'DejaVu Sans Mono',consolas,'Courier New',monospace\"><span style=\"color: #7fbfbf; text-decoration-color: #7fbfbf\">         </span><span style=\"color: #000080; text-decoration-color: #000080\">INFO    </span> <span style=\"color: #000000; text-decoration-color: #000000\">Number of raw events in CMS_WORKSHOP: </span><span style=\"color: #008080; text-decoration-color: #008080; font-weight: bold\">175</span><span style=\"color: #000000; text-decoration-color: #000000\">                                          </span><a href=\"file:///home/cms-jovyan/integration-challenge/cms/analysis/nondiff.py\" target=\"_blank\"><span style=\"color: #7f7f7f; text-decoration-color: #7f7f7f\">nondiff.py</span></a><span style=\"color: #7f7f7f; text-decoration-color: #7f7f7f\">:</span><a href=\"file:///home/cms-jovyan/integration-challenge/cms/analysis/nondiff.py#208\" target=\"_blank\"><span style=\"color: #7f7f7f; text-decoration-color: #7f7f7f\">208</span></a>\n",
       "</pre>\n"
      ],
      "text/plain": [
       "\u001b[2;36m        \u001b[0m\u001b[2;36m \u001b[0m\u001b[34mINFO    \u001b[0m \u001b[39mNumber of raw events in CMS_WORKSHOP: \u001b[0m\u001b[1;36m175\u001b[0m\u001b[39m                                         \u001b[0m\u001b[39m \u001b[0m\u001b]8;id=901715;file:///home/cms-jovyan/integration-challenge/cms/analysis/nondiff.py\u001b\\\u001b[2mnondiff.py\u001b[0m\u001b]8;;\u001b\\\u001b[2m:\u001b[0m\u001b]8;id=448005;file:///home/cms-jovyan/integration-challenge/cms/analysis/nondiff.py#208\u001b\\\u001b[2m208\u001b[0m\u001b]8;;\u001b\\\n"
      ]
     },
     "metadata": {},
     "output_type": "display_data"
    },
    {
     "data": {
      "text/html": [
       "<pre style=\"white-space:pre;overflow-x:auto;line-height:normal;font-family:Menlo,'DejaVu Sans Mono',consolas,'Courier New',monospace\"><span style=\"color: #7fbfbf; text-decoration-color: #7fbfbf\">         </span><span style=\"color: #000080; text-decoration-color: #000080\">INFO    </span> <span style=\"color: #000000; text-decoration-color: #000000\">Computing observable workshop_mtt                                                  </span><a href=\"file:///home/cms-jovyan/integration-challenge/cms/analysis/nondiff.py\" target=\"_blank\"><span style=\"color: #7f7f7f; text-decoration-color: #7f7f7f\">nondiff.py</span></a><span style=\"color: #7f7f7f; text-decoration-color: #7f7f7f\">:</span><a href=\"file:///home/cms-jovyan/integration-challenge/cms/analysis/nondiff.py#213\" target=\"_blank\"><span style=\"color: #7f7f7f; text-decoration-color: #7f7f7f\">213</span></a>\n",
       "</pre>\n"
      ],
      "text/plain": [
       "\u001b[2;36m        \u001b[0m\u001b[2;36m \u001b[0m\u001b[34mINFO    \u001b[0m \u001b[39mComputing observable workshop_mtt                                                 \u001b[0m\u001b[39m \u001b[0m\u001b]8;id=210211;file:///home/cms-jovyan/integration-challenge/cms/analysis/nondiff.py\u001b\\\u001b[2mnondiff.py\u001b[0m\u001b]8;;\u001b\\\u001b[2m:\u001b[0m\u001b]8;id=204178;file:///home/cms-jovyan/integration-challenge/cms/analysis/nondiff.py#213\u001b\\\u001b[2m213\u001b[0m\u001b]8;;\u001b\\\n"
      ]
     },
     "metadata": {},
     "output_type": "display_data"
    },
    {
     "data": {
      "text/html": [
       "<pre style=\"white-space:pre;overflow-x:auto;line-height:normal;font-family:Menlo,'DejaVu Sans Mono',consolas,'Courier New',monospace\"><span style=\"color: #7fbfbf; text-decoration-color: #7fbfbf\">         </span><span style=\"color: #000080; text-decoration-color: #000080\">INFO    </span> <span style=\"color: #000000; text-decoration-color: #000000\">Applying selection for CMS_WORKSHOP in ttbar_lep with variation pu_weight_down     </span><a href=\"file:///home/cms-jovyan/integration-challenge/cms/analysis/nondiff.py\" target=\"_blank\"><span style=\"color: #7f7f7f; text-decoration-color: #7f7f7f\">nondiff.py</span></a><span style=\"color: #7f7f7f; text-decoration-color: #7f7f7f\">:</span><a href=\"file:///home/cms-jovyan/integration-challenge/cms/analysis/nondiff.py#154\" target=\"_blank\"><span style=\"color: #7f7f7f; text-decoration-color: #7f7f7f\">154</span></a>\n",
       "</pre>\n"
      ],
      "text/plain": [
       "\u001b[2;36m        \u001b[0m\u001b[2;36m \u001b[0m\u001b[34mINFO    \u001b[0m \u001b[39mApplying selection for CMS_WORKSHOP in ttbar_lep with variation pu_weight_down    \u001b[0m\u001b[39m \u001b[0m\u001b]8;id=947134;file:///home/cms-jovyan/integration-challenge/cms/analysis/nondiff.py\u001b\\\u001b[2mnondiff.py\u001b[0m\u001b]8;;\u001b\\\u001b[2m:\u001b[0m\u001b]8;id=593234;file:///home/cms-jovyan/integration-challenge/cms/analysis/nondiff.py#154\u001b\\\u001b[2m154\u001b[0m\u001b]8;;\u001b\\\n"
      ]
     },
     "metadata": {},
     "output_type": "display_data"
    },
    {
     "data": {
      "text/html": [
       "<pre style=\"white-space:pre;overflow-x:auto;line-height:normal;font-family:Menlo,'DejaVu Sans Mono',consolas,'Courier New',monospace\"><span style=\"color: #7fbfbf; text-decoration-color: #7fbfbf\">         </span><span style=\"color: #000080; text-decoration-color: #000080\">INFO    </span> <span style=\"color: #000000; text-decoration-color: #000000\">Applying correction: pu_weight/Collisions16_UltraLegacy_goldenJSON </span><span style=\"color: #000000; text-decoration-color: #000000; font-weight: bold\">(</span><span style=\"color: #000000; text-decoration-color: #000000\">down</span><span style=\"color: #000000; text-decoration-color: #000000; font-weight: bold\">)</span><span style=\"color: #000000; text-decoration-color: #000000\">             </span><a href=\"file:///home/cms-jovyan/integration-challenge/cms/analysis/base.py\" target=\"_blank\"><span style=\"color: #7f7f7f; text-decoration-color: #7f7f7f\">base.py</span></a><span style=\"color: #7f7f7f; text-decoration-color: #7f7f7f\">:</span><a href=\"file:///home/cms-jovyan/integration-challenge/cms/analysis/base.py#247\" target=\"_blank\"><span style=\"color: #7f7f7f; text-decoration-color: #7f7f7f\">247</span></a>\n",
       "</pre>\n"
      ],
      "text/plain": [
       "\u001b[2;36m        \u001b[0m\u001b[2;36m \u001b[0m\u001b[34mINFO    \u001b[0m \u001b[39mApplying correction: pu_weight/Collisions16_UltraLegacy_goldenJSON \u001b[0m\u001b[1;39m(\u001b[0m\u001b[39mdown\u001b[0m\u001b[1;39m)\u001b[0m\u001b[39m            \u001b[0m\u001b[39m \u001b[0m\u001b]8;id=704081;file:///home/cms-jovyan/integration-challenge/cms/analysis/base.py\u001b\\\u001b[2mbase.py\u001b[0m\u001b]8;;\u001b\\\u001b[2m:\u001b[0m\u001b]8;id=888328;file:///home/cms-jovyan/integration-challenge/cms/analysis/base.py#247\u001b\\\u001b[2m247\u001b[0m\u001b]8;;\u001b\\\n"
      ]
     },
     "metadata": {},
     "output_type": "display_data"
    },
    {
     "data": {
      "text/html": [
       "<pre style=\"white-space:pre;overflow-x:auto;line-height:normal;font-family:Menlo,'DejaVu Sans Mono',consolas,'Courier New',monospace\"><span style=\"color: #7fbfbf; text-decoration-color: #7fbfbf\">         </span><span style=\"color: #000080; text-decoration-color: #000080\">INFO    </span> <span style=\"color: #000000; text-decoration-color: #000000\">Number of weighted events in CMS_WORKSHOP: </span><span style=\"color: #008080; text-decoration-color: #008080; font-weight: bold\">178.51</span><span style=\"color: #000000; text-decoration-color: #000000\">                                  </span><a href=\"file:///home/cms-jovyan/integration-challenge/cms/analysis/nondiff.py\" target=\"_blank\"><span style=\"color: #7f7f7f; text-decoration-color: #7f7f7f\">nondiff.py</span></a><span style=\"color: #7f7f7f; text-decoration-color: #7f7f7f\">:</span><a href=\"file:///home/cms-jovyan/integration-challenge/cms/analysis/nondiff.py#205\" target=\"_blank\"><span style=\"color: #7f7f7f; text-decoration-color: #7f7f7f\">205</span></a>\n",
       "</pre>\n"
      ],
      "text/plain": [
       "\u001b[2;36m        \u001b[0m\u001b[2;36m \u001b[0m\u001b[34mINFO    \u001b[0m \u001b[39mNumber of weighted events in CMS_WORKSHOP: \u001b[0m\u001b[1;36m178.51\u001b[0m\u001b[39m                                 \u001b[0m\u001b[39m \u001b[0m\u001b]8;id=259441;file:///home/cms-jovyan/integration-challenge/cms/analysis/nondiff.py\u001b\\\u001b[2mnondiff.py\u001b[0m\u001b]8;;\u001b\\\u001b[2m:\u001b[0m\u001b]8;id=767085;file:///home/cms-jovyan/integration-challenge/cms/analysis/nondiff.py#205\u001b\\\u001b[2m205\u001b[0m\u001b]8;;\u001b\\\n"
      ]
     },
     "metadata": {},
     "output_type": "display_data"
    },
    {
     "data": {
      "text/html": [
       "<pre style=\"white-space:pre;overflow-x:auto;line-height:normal;font-family:Menlo,'DejaVu Sans Mono',consolas,'Courier New',monospace\"><span style=\"color: #7fbfbf; text-decoration-color: #7fbfbf\">         </span><span style=\"color: #000080; text-decoration-color: #000080\">INFO    </span> <span style=\"color: #000000; text-decoration-color: #000000\">Number of raw events in CMS_WORKSHOP: </span><span style=\"color: #008080; text-decoration-color: #008080; font-weight: bold\">175</span><span style=\"color: #000000; text-decoration-color: #000000\">                                          </span><a href=\"file:///home/cms-jovyan/integration-challenge/cms/analysis/nondiff.py\" target=\"_blank\"><span style=\"color: #7f7f7f; text-decoration-color: #7f7f7f\">nondiff.py</span></a><span style=\"color: #7f7f7f; text-decoration-color: #7f7f7f\">:</span><a href=\"file:///home/cms-jovyan/integration-challenge/cms/analysis/nondiff.py#208\" target=\"_blank\"><span style=\"color: #7f7f7f; text-decoration-color: #7f7f7f\">208</span></a>\n",
       "</pre>\n"
      ],
      "text/plain": [
       "\u001b[2;36m        \u001b[0m\u001b[2;36m \u001b[0m\u001b[34mINFO    \u001b[0m \u001b[39mNumber of raw events in CMS_WORKSHOP: \u001b[0m\u001b[1;36m175\u001b[0m\u001b[39m                                         \u001b[0m\u001b[39m \u001b[0m\u001b]8;id=742526;file:///home/cms-jovyan/integration-challenge/cms/analysis/nondiff.py\u001b\\\u001b[2mnondiff.py\u001b[0m\u001b]8;;\u001b\\\u001b[2m:\u001b[0m\u001b]8;id=659180;file:///home/cms-jovyan/integration-challenge/cms/analysis/nondiff.py#208\u001b\\\u001b[2m208\u001b[0m\u001b]8;;\u001b\\\n"
      ]
     },
     "metadata": {},
     "output_type": "display_data"
    },
    {
     "data": {
      "text/html": [
       "<pre style=\"white-space:pre;overflow-x:auto;line-height:normal;font-family:Menlo,'DejaVu Sans Mono',consolas,'Courier New',monospace\"><span style=\"color: #7fbfbf; text-decoration-color: #7fbfbf\">         </span><span style=\"color: #000080; text-decoration-color: #000080\">INFO    </span> <span style=\"color: #000000; text-decoration-color: #000000\">Computing observable workshop_mtt                                                  </span><a href=\"file:///home/cms-jovyan/integration-challenge/cms/analysis/nondiff.py\" target=\"_blank\"><span style=\"color: #7f7f7f; text-decoration-color: #7f7f7f\">nondiff.py</span></a><span style=\"color: #7f7f7f; text-decoration-color: #7f7f7f\">:</span><a href=\"file:///home/cms-jovyan/integration-challenge/cms/analysis/nondiff.py#213\" target=\"_blank\"><span style=\"color: #7f7f7f; text-decoration-color: #7f7f7f\">213</span></a>\n",
       "</pre>\n"
      ],
      "text/plain": [
       "\u001b[2;36m        \u001b[0m\u001b[2;36m \u001b[0m\u001b[34mINFO    \u001b[0m \u001b[39mComputing observable workshop_mtt                                                 \u001b[0m\u001b[39m \u001b[0m\u001b]8;id=957871;file:///home/cms-jovyan/integration-challenge/cms/analysis/nondiff.py\u001b\\\u001b[2mnondiff.py\u001b[0m\u001b]8;;\u001b\\\u001b[2m:\u001b[0m\u001b]8;id=166945;file:///home/cms-jovyan/integration-challenge/cms/analysis/nondiff.py#213\u001b\\\u001b[2m213\u001b[0m\u001b]8;;\u001b\\\n"
      ]
     },
     "metadata": {},
     "output_type": "display_data"
    },
    {
     "data": {
      "text/html": [
       "<pre style=\"white-space:pre;overflow-x:auto;line-height:normal;font-family:Menlo,'DejaVu Sans Mono',consolas,'Courier New',monospace\"><span style=\"color: #7fbfbf; text-decoration-color: #7fbfbf\">         </span><span style=\"color: #000080; text-decoration-color: #000080\">INFO    </span> <span style=\"color: #000000; text-decoration-color: #000000\">Applying selection for CMS_WORKSHOP in ttbar_lep with variation muon_id_sf_up      </span><a href=\"file:///home/cms-jovyan/integration-challenge/cms/analysis/nondiff.py\" target=\"_blank\"><span style=\"color: #7f7f7f; text-decoration-color: #7f7f7f\">nondiff.py</span></a><span style=\"color: #7f7f7f; text-decoration-color: #7f7f7f\">:</span><a href=\"file:///home/cms-jovyan/integration-challenge/cms/analysis/nondiff.py#154\" target=\"_blank\"><span style=\"color: #7f7f7f; text-decoration-color: #7f7f7f\">154</span></a>\n",
       "</pre>\n"
      ],
      "text/plain": [
       "\u001b[2;36m        \u001b[0m\u001b[2;36m \u001b[0m\u001b[34mINFO    \u001b[0m \u001b[39mApplying selection for CMS_WORKSHOP in ttbar_lep with variation muon_id_sf_up     \u001b[0m\u001b[39m \u001b[0m\u001b]8;id=421697;file:///home/cms-jovyan/integration-challenge/cms/analysis/nondiff.py\u001b\\\u001b[2mnondiff.py\u001b[0m\u001b]8;;\u001b\\\u001b[2m:\u001b[0m\u001b]8;id=370928;file:///home/cms-jovyan/integration-challenge/cms/analysis/nondiff.py#154\u001b\\\u001b[2m154\u001b[0m\u001b]8;;\u001b\\\n"
      ]
     },
     "metadata": {},
     "output_type": "display_data"
    },
    {
     "data": {
      "text/html": [
       "<pre style=\"white-space:pre;overflow-x:auto;line-height:normal;font-family:Menlo,'DejaVu Sans Mono',consolas,'Courier New',monospace\"><span style=\"color: #7fbfbf; text-decoration-color: #7fbfbf\">         </span><span style=\"color: #000080; text-decoration-color: #000080\">INFO    </span> <span style=\"color: #000000; text-decoration-color: #000000\">Applying correction: muon_id_sf/NUM_TightID_DEN_TrackerMuons </span><span style=\"color: #000000; text-decoration-color: #000000; font-weight: bold\">(</span><span style=\"color: #000000; text-decoration-color: #000000\">systup</span><span style=\"color: #000000; text-decoration-color: #000000; font-weight: bold\">)</span><span style=\"color: #000000; text-decoration-color: #000000\">                 </span><a href=\"file:///home/cms-jovyan/integration-challenge/cms/analysis/base.py\" target=\"_blank\"><span style=\"color: #7f7f7f; text-decoration-color: #7f7f7f\">base.py</span></a><span style=\"color: #7f7f7f; text-decoration-color: #7f7f7f\">:</span><a href=\"file:///home/cms-jovyan/integration-challenge/cms/analysis/base.py#247\" target=\"_blank\"><span style=\"color: #7f7f7f; text-decoration-color: #7f7f7f\">247</span></a>\n",
       "</pre>\n"
      ],
      "text/plain": [
       "\u001b[2;36m        \u001b[0m\u001b[2;36m \u001b[0m\u001b[34mINFO    \u001b[0m \u001b[39mApplying correction: muon_id_sf/NUM_TightID_DEN_TrackerMuons \u001b[0m\u001b[1;39m(\u001b[0m\u001b[39msystup\u001b[0m\u001b[1;39m)\u001b[0m\u001b[39m                \u001b[0m\u001b[39m \u001b[0m\u001b]8;id=496830;file:///home/cms-jovyan/integration-challenge/cms/analysis/base.py\u001b\\\u001b[2mbase.py\u001b[0m\u001b]8;;\u001b\\\u001b[2m:\u001b[0m\u001b]8;id=516841;file:///home/cms-jovyan/integration-challenge/cms/analysis/base.py#247\u001b\\\u001b[2m247\u001b[0m\u001b]8;;\u001b\\\n"
      ]
     },
     "metadata": {},
     "output_type": "display_data"
    },
    {
     "data": {
      "text/html": [
       "<pre style=\"white-space:pre;overflow-x:auto;line-height:normal;font-family:Menlo,'DejaVu Sans Mono',consolas,'Courier New',monospace\"><span style=\"color: #7fbfbf; text-decoration-color: #7fbfbf\">         </span><span style=\"color: #000080; text-decoration-color: #000080\">INFO    </span> <span style=\"color: #000000; text-decoration-color: #000000\">Number of weighted events in CMS_WORKSHOP: </span><span style=\"color: #008080; text-decoration-color: #008080; font-weight: bold\">172.78</span><span style=\"color: #000000; text-decoration-color: #000000\">                                  </span><a href=\"file:///home/cms-jovyan/integration-challenge/cms/analysis/nondiff.py\" target=\"_blank\"><span style=\"color: #7f7f7f; text-decoration-color: #7f7f7f\">nondiff.py</span></a><span style=\"color: #7f7f7f; text-decoration-color: #7f7f7f\">:</span><a href=\"file:///home/cms-jovyan/integration-challenge/cms/analysis/nondiff.py#205\" target=\"_blank\"><span style=\"color: #7f7f7f; text-decoration-color: #7f7f7f\">205</span></a>\n",
       "</pre>\n"
      ],
      "text/plain": [
       "\u001b[2;36m        \u001b[0m\u001b[2;36m \u001b[0m\u001b[34mINFO    \u001b[0m \u001b[39mNumber of weighted events in CMS_WORKSHOP: \u001b[0m\u001b[1;36m172.78\u001b[0m\u001b[39m                                 \u001b[0m\u001b[39m \u001b[0m\u001b]8;id=14437;file:///home/cms-jovyan/integration-challenge/cms/analysis/nondiff.py\u001b\\\u001b[2mnondiff.py\u001b[0m\u001b]8;;\u001b\\\u001b[2m:\u001b[0m\u001b]8;id=204473;file:///home/cms-jovyan/integration-challenge/cms/analysis/nondiff.py#205\u001b\\\u001b[2m205\u001b[0m\u001b]8;;\u001b\\\n"
      ]
     },
     "metadata": {},
     "output_type": "display_data"
    },
    {
     "data": {
      "text/html": [
       "<pre style=\"white-space:pre;overflow-x:auto;line-height:normal;font-family:Menlo,'DejaVu Sans Mono',consolas,'Courier New',monospace\"><span style=\"color: #7fbfbf; text-decoration-color: #7fbfbf\">         </span><span style=\"color: #000080; text-decoration-color: #000080\">INFO    </span> <span style=\"color: #000000; text-decoration-color: #000000\">Number of raw events in CMS_WORKSHOP: </span><span style=\"color: #008080; text-decoration-color: #008080; font-weight: bold\">175</span><span style=\"color: #000000; text-decoration-color: #000000\">                                          </span><a href=\"file:///home/cms-jovyan/integration-challenge/cms/analysis/nondiff.py\" target=\"_blank\"><span style=\"color: #7f7f7f; text-decoration-color: #7f7f7f\">nondiff.py</span></a><span style=\"color: #7f7f7f; text-decoration-color: #7f7f7f\">:</span><a href=\"file:///home/cms-jovyan/integration-challenge/cms/analysis/nondiff.py#208\" target=\"_blank\"><span style=\"color: #7f7f7f; text-decoration-color: #7f7f7f\">208</span></a>\n",
       "</pre>\n"
      ],
      "text/plain": [
       "\u001b[2;36m        \u001b[0m\u001b[2;36m \u001b[0m\u001b[34mINFO    \u001b[0m \u001b[39mNumber of raw events in CMS_WORKSHOP: \u001b[0m\u001b[1;36m175\u001b[0m\u001b[39m                                         \u001b[0m\u001b[39m \u001b[0m\u001b]8;id=397400;file:///home/cms-jovyan/integration-challenge/cms/analysis/nondiff.py\u001b\\\u001b[2mnondiff.py\u001b[0m\u001b]8;;\u001b\\\u001b[2m:\u001b[0m\u001b]8;id=374342;file:///home/cms-jovyan/integration-challenge/cms/analysis/nondiff.py#208\u001b\\\u001b[2m208\u001b[0m\u001b]8;;\u001b\\\n"
      ]
     },
     "metadata": {},
     "output_type": "display_data"
    },
    {
     "data": {
      "text/html": [
       "<pre style=\"white-space:pre;overflow-x:auto;line-height:normal;font-family:Menlo,'DejaVu Sans Mono',consolas,'Courier New',monospace\"><span style=\"color: #7fbfbf; text-decoration-color: #7fbfbf\">         </span><span style=\"color: #000080; text-decoration-color: #000080\">INFO    </span> <span style=\"color: #000000; text-decoration-color: #000000\">Computing observable workshop_mtt                                                  </span><a href=\"file:///home/cms-jovyan/integration-challenge/cms/analysis/nondiff.py\" target=\"_blank\"><span style=\"color: #7f7f7f; text-decoration-color: #7f7f7f\">nondiff.py</span></a><span style=\"color: #7f7f7f; text-decoration-color: #7f7f7f\">:</span><a href=\"file:///home/cms-jovyan/integration-challenge/cms/analysis/nondiff.py#213\" target=\"_blank\"><span style=\"color: #7f7f7f; text-decoration-color: #7f7f7f\">213</span></a>\n",
       "</pre>\n"
      ],
      "text/plain": [
       "\u001b[2;36m        \u001b[0m\u001b[2;36m \u001b[0m\u001b[34mINFO    \u001b[0m \u001b[39mComputing observable workshop_mtt                                                 \u001b[0m\u001b[39m \u001b[0m\u001b]8;id=765955;file:///home/cms-jovyan/integration-challenge/cms/analysis/nondiff.py\u001b\\\u001b[2mnondiff.py\u001b[0m\u001b]8;;\u001b\\\u001b[2m:\u001b[0m\u001b]8;id=524575;file:///home/cms-jovyan/integration-challenge/cms/analysis/nondiff.py#213\u001b\\\u001b[2m213\u001b[0m\u001b]8;;\u001b\\\n"
      ]
     },
     "metadata": {},
     "output_type": "display_data"
    },
    {
     "data": {
      "text/html": [
       "<pre style=\"white-space:pre;overflow-x:auto;line-height:normal;font-family:Menlo,'DejaVu Sans Mono',consolas,'Courier New',monospace\"><span style=\"color: #7fbfbf; text-decoration-color: #7fbfbf\">         </span><span style=\"color: #000080; text-decoration-color: #000080\">INFO    </span> <span style=\"color: #000000; text-decoration-color: #000000\">Applying selection for CMS_WORKSHOP in ttbar_lep with variation muon_id_sf_down    </span><a href=\"file:///home/cms-jovyan/integration-challenge/cms/analysis/nondiff.py\" target=\"_blank\"><span style=\"color: #7f7f7f; text-decoration-color: #7f7f7f\">nondiff.py</span></a><span style=\"color: #7f7f7f; text-decoration-color: #7f7f7f\">:</span><a href=\"file:///home/cms-jovyan/integration-challenge/cms/analysis/nondiff.py#154\" target=\"_blank\"><span style=\"color: #7f7f7f; text-decoration-color: #7f7f7f\">154</span></a>\n",
       "</pre>\n"
      ],
      "text/plain": [
       "\u001b[2;36m        \u001b[0m\u001b[2;36m \u001b[0m\u001b[34mINFO    \u001b[0m \u001b[39mApplying selection for CMS_WORKSHOP in ttbar_lep with variation muon_id_sf_down   \u001b[0m\u001b[39m \u001b[0m\u001b]8;id=870582;file:///home/cms-jovyan/integration-challenge/cms/analysis/nondiff.py\u001b\\\u001b[2mnondiff.py\u001b[0m\u001b]8;;\u001b\\\u001b[2m:\u001b[0m\u001b]8;id=468089;file:///home/cms-jovyan/integration-challenge/cms/analysis/nondiff.py#154\u001b\\\u001b[2m154\u001b[0m\u001b]8;;\u001b\\\n"
      ]
     },
     "metadata": {},
     "output_type": "display_data"
    },
    {
     "data": {
      "text/html": [
       "<pre style=\"white-space:pre;overflow-x:auto;line-height:normal;font-family:Menlo,'DejaVu Sans Mono',consolas,'Courier New',monospace\"><span style=\"color: #7fbfbf; text-decoration-color: #7fbfbf\">         </span><span style=\"color: #000080; text-decoration-color: #000080\">INFO    </span> <span style=\"color: #000000; text-decoration-color: #000000\">Applying correction: muon_id_sf/NUM_TightID_DEN_TrackerMuons </span><span style=\"color: #000000; text-decoration-color: #000000; font-weight: bold\">(</span><span style=\"color: #000000; text-decoration-color: #000000\">systdown</span><span style=\"color: #000000; text-decoration-color: #000000; font-weight: bold\">)</span><span style=\"color: #000000; text-decoration-color: #000000\">               </span><a href=\"file:///home/cms-jovyan/integration-challenge/cms/analysis/base.py\" target=\"_blank\"><span style=\"color: #7f7f7f; text-decoration-color: #7f7f7f\">base.py</span></a><span style=\"color: #7f7f7f; text-decoration-color: #7f7f7f\">:</span><a href=\"file:///home/cms-jovyan/integration-challenge/cms/analysis/base.py#247\" target=\"_blank\"><span style=\"color: #7f7f7f; text-decoration-color: #7f7f7f\">247</span></a>\n",
       "</pre>\n"
      ],
      "text/plain": [
       "\u001b[2;36m        \u001b[0m\u001b[2;36m \u001b[0m\u001b[34mINFO    \u001b[0m \u001b[39mApplying correction: muon_id_sf/NUM_TightID_DEN_TrackerMuons \u001b[0m\u001b[1;39m(\u001b[0m\u001b[39msystdown\u001b[0m\u001b[1;39m)\u001b[0m\u001b[39m              \u001b[0m\u001b[39m \u001b[0m\u001b]8;id=593203;file:///home/cms-jovyan/integration-challenge/cms/analysis/base.py\u001b\\\u001b[2mbase.py\u001b[0m\u001b]8;;\u001b\\\u001b[2m:\u001b[0m\u001b]8;id=492244;file:///home/cms-jovyan/integration-challenge/cms/analysis/base.py#247\u001b\\\u001b[2m247\u001b[0m\u001b]8;;\u001b\\\n"
      ]
     },
     "metadata": {},
     "output_type": "display_data"
    },
    {
     "data": {
      "text/html": [
       "<pre style=\"white-space:pre;overflow-x:auto;line-height:normal;font-family:Menlo,'DejaVu Sans Mono',consolas,'Courier New',monospace\"><span style=\"color: #7fbfbf; text-decoration-color: #7fbfbf\">         </span><span style=\"color: #000080; text-decoration-color: #000080\">INFO    </span> <span style=\"color: #000000; text-decoration-color: #000000\">Number of weighted events in CMS_WORKSHOP: </span><span style=\"color: #008080; text-decoration-color: #008080; font-weight: bold\">171.87</span><span style=\"color: #000000; text-decoration-color: #000000\">                                  </span><a href=\"file:///home/cms-jovyan/integration-challenge/cms/analysis/nondiff.py\" target=\"_blank\"><span style=\"color: #7f7f7f; text-decoration-color: #7f7f7f\">nondiff.py</span></a><span style=\"color: #7f7f7f; text-decoration-color: #7f7f7f\">:</span><a href=\"file:///home/cms-jovyan/integration-challenge/cms/analysis/nondiff.py#205\" target=\"_blank\"><span style=\"color: #7f7f7f; text-decoration-color: #7f7f7f\">205</span></a>\n",
       "</pre>\n"
      ],
      "text/plain": [
       "\u001b[2;36m        \u001b[0m\u001b[2;36m \u001b[0m\u001b[34mINFO    \u001b[0m \u001b[39mNumber of weighted events in CMS_WORKSHOP: \u001b[0m\u001b[1;36m171.87\u001b[0m\u001b[39m                                 \u001b[0m\u001b[39m \u001b[0m\u001b]8;id=658765;file:///home/cms-jovyan/integration-challenge/cms/analysis/nondiff.py\u001b\\\u001b[2mnondiff.py\u001b[0m\u001b]8;;\u001b\\\u001b[2m:\u001b[0m\u001b]8;id=443861;file:///home/cms-jovyan/integration-challenge/cms/analysis/nondiff.py#205\u001b\\\u001b[2m205\u001b[0m\u001b]8;;\u001b\\\n"
      ]
     },
     "metadata": {},
     "output_type": "display_data"
    },
    {
     "data": {
      "text/html": [
       "<pre style=\"white-space:pre;overflow-x:auto;line-height:normal;font-family:Menlo,'DejaVu Sans Mono',consolas,'Courier New',monospace\"><span style=\"color: #7fbfbf; text-decoration-color: #7fbfbf\">         </span><span style=\"color: #000080; text-decoration-color: #000080\">INFO    </span> <span style=\"color: #000000; text-decoration-color: #000000\">Number of raw events in CMS_WORKSHOP: </span><span style=\"color: #008080; text-decoration-color: #008080; font-weight: bold\">175</span><span style=\"color: #000000; text-decoration-color: #000000\">                                          </span><a href=\"file:///home/cms-jovyan/integration-challenge/cms/analysis/nondiff.py\" target=\"_blank\"><span style=\"color: #7f7f7f; text-decoration-color: #7f7f7f\">nondiff.py</span></a><span style=\"color: #7f7f7f; text-decoration-color: #7f7f7f\">:</span><a href=\"file:///home/cms-jovyan/integration-challenge/cms/analysis/nondiff.py#208\" target=\"_blank\"><span style=\"color: #7f7f7f; text-decoration-color: #7f7f7f\">208</span></a>\n",
       "</pre>\n"
      ],
      "text/plain": [
       "\u001b[2;36m        \u001b[0m\u001b[2;36m \u001b[0m\u001b[34mINFO    \u001b[0m \u001b[39mNumber of raw events in CMS_WORKSHOP: \u001b[0m\u001b[1;36m175\u001b[0m\u001b[39m                                         \u001b[0m\u001b[39m \u001b[0m\u001b]8;id=643667;file:///home/cms-jovyan/integration-challenge/cms/analysis/nondiff.py\u001b\\\u001b[2mnondiff.py\u001b[0m\u001b]8;;\u001b\\\u001b[2m:\u001b[0m\u001b]8;id=248497;file:///home/cms-jovyan/integration-challenge/cms/analysis/nondiff.py#208\u001b\\\u001b[2m208\u001b[0m\u001b]8;;\u001b\\\n"
      ]
     },
     "metadata": {},
     "output_type": "display_data"
    },
    {
     "data": {
      "text/html": [
       "<pre style=\"white-space:pre;overflow-x:auto;line-height:normal;font-family:Menlo,'DejaVu Sans Mono',consolas,'Courier New',monospace\"><span style=\"color: #7fbfbf; text-decoration-color: #7fbfbf\">         </span><span style=\"color: #000080; text-decoration-color: #000080\">INFO    </span> <span style=\"color: #000000; text-decoration-color: #000000\">Computing observable workshop_mtt                                                  </span><a href=\"file:///home/cms-jovyan/integration-challenge/cms/analysis/nondiff.py\" target=\"_blank\"><span style=\"color: #7f7f7f; text-decoration-color: #7f7f7f\">nondiff.py</span></a><span style=\"color: #7f7f7f; text-decoration-color: #7f7f7f\">:</span><a href=\"file:///home/cms-jovyan/integration-challenge/cms/analysis/nondiff.py#213\" target=\"_blank\"><span style=\"color: #7f7f7f; text-decoration-color: #7f7f7f\">213</span></a>\n",
       "</pre>\n"
      ],
      "text/plain": [
       "\u001b[2;36m        \u001b[0m\u001b[2;36m \u001b[0m\u001b[34mINFO    \u001b[0m \u001b[39mComputing observable workshop_mtt                                                 \u001b[0m\u001b[39m \u001b[0m\u001b]8;id=225157;file:///home/cms-jovyan/integration-challenge/cms/analysis/nondiff.py\u001b\\\u001b[2mnondiff.py\u001b[0m\u001b]8;;\u001b\\\u001b[2m:\u001b[0m\u001b]8;id=983270;file:///home/cms-jovyan/integration-challenge/cms/analysis/nondiff.py#213\u001b\\\u001b[2m213\u001b[0m\u001b]8;;\u001b\\\n"
      ]
     },
     "metadata": {},
     "output_type": "display_data"
    },
    {
     "name": "stdout",
     "output_type": "stream",
     "text": [
      "📊 Processing dataset: ttbar_had__nominal\n",
      "   • Processing 3377 events with metadata: ttbar_had\n"
     ]
    },
    {
     "data": {
      "text/html": [
       "<pre style=\"white-space:pre;overflow-x:auto;line-height:normal;font-family:Menlo,'DejaVu Sans Mono',consolas,'Courier New',monospace\"><span style=\"color: #7fbfbf; text-decoration-color: #7fbfbf\">         </span><span style=\"color: #000080; text-decoration-color: #000080\">INFO    </span> <span style=\"color: #000000; text-decoration-color: #000000\">Applying selection for CMS_WORKSHOP in ttbar_had with variation nominal            </span><a href=\"file:///home/cms-jovyan/integration-challenge/cms/analysis/nondiff.py\" target=\"_blank\"><span style=\"color: #7f7f7f; text-decoration-color: #7f7f7f\">nondiff.py</span></a><span style=\"color: #7f7f7f; text-decoration-color: #7f7f7f\">:</span><a href=\"file:///home/cms-jovyan/integration-challenge/cms/analysis/nondiff.py#154\" target=\"_blank\"><span style=\"color: #7f7f7f; text-decoration-color: #7f7f7f\">154</span></a>\n",
       "</pre>\n"
      ],
      "text/plain": [
       "\u001b[2;36m        \u001b[0m\u001b[2;36m \u001b[0m\u001b[34mINFO    \u001b[0m \u001b[39mApplying selection for CMS_WORKSHOP in ttbar_had with variation nominal           \u001b[0m\u001b[39m \u001b[0m\u001b]8;id=272786;file:///home/cms-jovyan/integration-challenge/cms/analysis/nondiff.py\u001b\\\u001b[2mnondiff.py\u001b[0m\u001b]8;;\u001b\\\u001b[2m:\u001b[0m\u001b]8;id=383248;file:///home/cms-jovyan/integration-challenge/cms/analysis/nondiff.py#154\u001b\\\u001b[2m154\u001b[0m\u001b]8;;\u001b\\\n"
      ]
     },
     "metadata": {},
     "output_type": "display_data"
    },
    {
     "data": {
      "text/html": [
       "<pre style=\"white-space:pre;overflow-x:auto;line-height:normal;font-family:Menlo,'DejaVu Sans Mono',consolas,'Courier New',monospace\"><span style=\"color: #7fbfbf; text-decoration-color: #7fbfbf\">         </span><span style=\"color: #000080; text-decoration-color: #000080\">INFO    </span> <span style=\"color: #000000; text-decoration-color: #000000\">Number of weighted events in CMS_WORKSHOP: </span><span style=\"color: #008080; text-decoration-color: #008080; font-weight: bold\">9.28</span><span style=\"color: #000000; text-decoration-color: #000000\">                                    </span><a href=\"file:///home/cms-jovyan/integration-challenge/cms/analysis/nondiff.py\" target=\"_blank\"><span style=\"color: #7f7f7f; text-decoration-color: #7f7f7f\">nondiff.py</span></a><span style=\"color: #7f7f7f; text-decoration-color: #7f7f7f\">:</span><a href=\"file:///home/cms-jovyan/integration-challenge/cms/analysis/nondiff.py#205\" target=\"_blank\"><span style=\"color: #7f7f7f; text-decoration-color: #7f7f7f\">205</span></a>\n",
       "</pre>\n"
      ],
      "text/plain": [
       "\u001b[2;36m        \u001b[0m\u001b[2;36m \u001b[0m\u001b[34mINFO    \u001b[0m \u001b[39mNumber of weighted events in CMS_WORKSHOP: \u001b[0m\u001b[1;36m9.28\u001b[0m\u001b[39m                                   \u001b[0m\u001b[39m \u001b[0m\u001b]8;id=394049;file:///home/cms-jovyan/integration-challenge/cms/analysis/nondiff.py\u001b\\\u001b[2mnondiff.py\u001b[0m\u001b]8;;\u001b\\\u001b[2m:\u001b[0m\u001b]8;id=55097;file:///home/cms-jovyan/integration-challenge/cms/analysis/nondiff.py#205\u001b\\\u001b[2m205\u001b[0m\u001b]8;;\u001b\\\n"
      ]
     },
     "metadata": {},
     "output_type": "display_data"
    },
    {
     "data": {
      "text/html": [
       "<pre style=\"white-space:pre;overflow-x:auto;line-height:normal;font-family:Menlo,'DejaVu Sans Mono',consolas,'Courier New',monospace\"><span style=\"color: #7fbfbf; text-decoration-color: #7fbfbf\">         </span><span style=\"color: #000080; text-decoration-color: #000080\">INFO    </span> <span style=\"color: #000000; text-decoration-color: #000000\">Number of raw events in CMS_WORKSHOP: </span><span style=\"color: #008080; text-decoration-color: #008080; font-weight: bold\">2</span><span style=\"color: #000000; text-decoration-color: #000000\">                                            </span><a href=\"file:///home/cms-jovyan/integration-challenge/cms/analysis/nondiff.py\" target=\"_blank\"><span style=\"color: #7f7f7f; text-decoration-color: #7f7f7f\">nondiff.py</span></a><span style=\"color: #7f7f7f; text-decoration-color: #7f7f7f\">:</span><a href=\"file:///home/cms-jovyan/integration-challenge/cms/analysis/nondiff.py#208\" target=\"_blank\"><span style=\"color: #7f7f7f; text-decoration-color: #7f7f7f\">208</span></a>\n",
       "</pre>\n"
      ],
      "text/plain": [
       "\u001b[2;36m        \u001b[0m\u001b[2;36m \u001b[0m\u001b[34mINFO    \u001b[0m \u001b[39mNumber of raw events in CMS_WORKSHOP: \u001b[0m\u001b[1;36m2\u001b[0m\u001b[39m                                           \u001b[0m\u001b[39m \u001b[0m\u001b]8;id=705970;file:///home/cms-jovyan/integration-challenge/cms/analysis/nondiff.py\u001b\\\u001b[2mnondiff.py\u001b[0m\u001b]8;;\u001b\\\u001b[2m:\u001b[0m\u001b]8;id=524369;file:///home/cms-jovyan/integration-challenge/cms/analysis/nondiff.py#208\u001b\\\u001b[2m208\u001b[0m\u001b]8;;\u001b\\\n"
      ]
     },
     "metadata": {},
     "output_type": "display_data"
    },
    {
     "data": {
      "text/html": [
       "<pre style=\"white-space:pre;overflow-x:auto;line-height:normal;font-family:Menlo,'DejaVu Sans Mono',consolas,'Courier New',monospace\"><span style=\"color: #7fbfbf; text-decoration-color: #7fbfbf\">         </span><span style=\"color: #000080; text-decoration-color: #000080\">INFO    </span> <span style=\"color: #000000; text-decoration-color: #000000\">Computing observable workshop_mtt                                                  </span><a href=\"file:///home/cms-jovyan/integration-challenge/cms/analysis/nondiff.py\" target=\"_blank\"><span style=\"color: #7f7f7f; text-decoration-color: #7f7f7f\">nondiff.py</span></a><span style=\"color: #7f7f7f; text-decoration-color: #7f7f7f\">:</span><a href=\"file:///home/cms-jovyan/integration-challenge/cms/analysis/nondiff.py#213\" target=\"_blank\"><span style=\"color: #7f7f7f; text-decoration-color: #7f7f7f\">213</span></a>\n",
       "</pre>\n"
      ],
      "text/plain": [
       "\u001b[2;36m        \u001b[0m\u001b[2;36m \u001b[0m\u001b[34mINFO    \u001b[0m \u001b[39mComputing observable workshop_mtt                                                 \u001b[0m\u001b[39m \u001b[0m\u001b]8;id=155499;file:///home/cms-jovyan/integration-challenge/cms/analysis/nondiff.py\u001b\\\u001b[2mnondiff.py\u001b[0m\u001b]8;;\u001b\\\u001b[2m:\u001b[0m\u001b]8;id=637686;file:///home/cms-jovyan/integration-challenge/cms/analysis/nondiff.py#213\u001b\\\u001b[2m213\u001b[0m\u001b]8;;\u001b\\\n"
      ]
     },
     "metadata": {},
     "output_type": "display_data"
    },
    {
     "data": {
      "text/html": [
       "<pre style=\"white-space:pre;overflow-x:auto;line-height:normal;font-family:Menlo,'DejaVu Sans Mono',consolas,'Courier New',monospace\"><span style=\"color: #7fbfbf; text-decoration-color: #7fbfbf\">07:10:17 </span><span style=\"color: #000080; text-decoration-color: #000080\">INFO    </span> <span style=\"color: #000000; text-decoration-color: #000000\">Applying selection for CMS_WORKSHOP in ttbar_had with variation                    </span><a href=\"file:///home/cms-jovyan/integration-challenge/cms/analysis/nondiff.py\" target=\"_blank\"><span style=\"color: #7f7f7f; text-decoration-color: #7f7f7f\">nondiff.py</span></a><span style=\"color: #7f7f7f; text-decoration-color: #7f7f7f\">:</span><a href=\"file:///home/cms-jovyan/integration-challenge/cms/analysis/nondiff.py#154\" target=\"_blank\"><span style=\"color: #7f7f7f; text-decoration-color: #7f7f7f\">154</span></a>\n",
       "<span style=\"color: #7fbfbf; text-decoration-color: #7fbfbf\">         </span>         <span style=\"color: #000000; text-decoration-color: #000000\">jet_pt_resolution_up                                                               </span><span style=\"color: #7f7f7f; text-decoration-color: #7f7f7f\">              </span>\n",
       "</pre>\n"
      ],
      "text/plain": [
       "\u001b[2;36m07:10:17\u001b[0m\u001b[2;36m \u001b[0m\u001b[34mINFO    \u001b[0m \u001b[39mApplying selection for CMS_WORKSHOP in ttbar_had with variation                   \u001b[0m\u001b[39m \u001b[0m\u001b]8;id=414819;file:///home/cms-jovyan/integration-challenge/cms/analysis/nondiff.py\u001b\\\u001b[2mnondiff.py\u001b[0m\u001b]8;;\u001b\\\u001b[2m:\u001b[0m\u001b]8;id=761565;file:///home/cms-jovyan/integration-challenge/cms/analysis/nondiff.py#154\u001b\\\u001b[2m154\u001b[0m\u001b]8;;\u001b\\\n",
       "\u001b[2;36m         \u001b[0m         \u001b[39mjet_pt_resolution_up                                                              \u001b[0m\u001b[39m \u001b[0m\u001b[2m              \u001b[0m\n"
      ]
     },
     "metadata": {},
     "output_type": "display_data"
    },
    {
     "data": {
      "text/html": [
       "<pre style=\"white-space:pre;overflow-x:auto;line-height:normal;font-family:Menlo,'DejaVu Sans Mono',consolas,'Courier New',monospace\"><span style=\"color: #7fbfbf; text-decoration-color: #7fbfbf\">         </span><span style=\"color: #000080; text-decoration-color: #000080\">INFO    </span> <span style=\"color: #000000; text-decoration-color: #000000\">Number of weighted events in CMS_WORKSHOP: </span><span style=\"color: #008080; text-decoration-color: #008080; font-weight: bold\">9.28</span><span style=\"color: #000000; text-decoration-color: #000000\">                                    </span><a href=\"file:///home/cms-jovyan/integration-challenge/cms/analysis/nondiff.py\" target=\"_blank\"><span style=\"color: #7f7f7f; text-decoration-color: #7f7f7f\">nondiff.py</span></a><span style=\"color: #7f7f7f; text-decoration-color: #7f7f7f\">:</span><a href=\"file:///home/cms-jovyan/integration-challenge/cms/analysis/nondiff.py#205\" target=\"_blank\"><span style=\"color: #7f7f7f; text-decoration-color: #7f7f7f\">205</span></a>\n",
       "</pre>\n"
      ],
      "text/plain": [
       "\u001b[2;36m        \u001b[0m\u001b[2;36m \u001b[0m\u001b[34mINFO    \u001b[0m \u001b[39mNumber of weighted events in CMS_WORKSHOP: \u001b[0m\u001b[1;36m9.28\u001b[0m\u001b[39m                                   \u001b[0m\u001b[39m \u001b[0m\u001b]8;id=400201;file:///home/cms-jovyan/integration-challenge/cms/analysis/nondiff.py\u001b\\\u001b[2mnondiff.py\u001b[0m\u001b]8;;\u001b\\\u001b[2m:\u001b[0m\u001b]8;id=601222;file:///home/cms-jovyan/integration-challenge/cms/analysis/nondiff.py#205\u001b\\\u001b[2m205\u001b[0m\u001b]8;;\u001b\\\n"
      ]
     },
     "metadata": {},
     "output_type": "display_data"
    },
    {
     "data": {
      "text/html": [
       "<pre style=\"white-space:pre;overflow-x:auto;line-height:normal;font-family:Menlo,'DejaVu Sans Mono',consolas,'Courier New',monospace\"><span style=\"color: #7fbfbf; text-decoration-color: #7fbfbf\">         </span><span style=\"color: #000080; text-decoration-color: #000080\">INFO    </span> <span style=\"color: #000000; text-decoration-color: #000000\">Number of raw events in CMS_WORKSHOP: </span><span style=\"color: #008080; text-decoration-color: #008080; font-weight: bold\">2</span><span style=\"color: #000000; text-decoration-color: #000000\">                                            </span><a href=\"file:///home/cms-jovyan/integration-challenge/cms/analysis/nondiff.py\" target=\"_blank\"><span style=\"color: #7f7f7f; text-decoration-color: #7f7f7f\">nondiff.py</span></a><span style=\"color: #7f7f7f; text-decoration-color: #7f7f7f\">:</span><a href=\"file:///home/cms-jovyan/integration-challenge/cms/analysis/nondiff.py#208\" target=\"_blank\"><span style=\"color: #7f7f7f; text-decoration-color: #7f7f7f\">208</span></a>\n",
       "</pre>\n"
      ],
      "text/plain": [
       "\u001b[2;36m        \u001b[0m\u001b[2;36m \u001b[0m\u001b[34mINFO    \u001b[0m \u001b[39mNumber of raw events in CMS_WORKSHOP: \u001b[0m\u001b[1;36m2\u001b[0m\u001b[39m                                           \u001b[0m\u001b[39m \u001b[0m\u001b]8;id=147817;file:///home/cms-jovyan/integration-challenge/cms/analysis/nondiff.py\u001b\\\u001b[2mnondiff.py\u001b[0m\u001b]8;;\u001b\\\u001b[2m:\u001b[0m\u001b]8;id=450615;file:///home/cms-jovyan/integration-challenge/cms/analysis/nondiff.py#208\u001b\\\u001b[2m208\u001b[0m\u001b]8;;\u001b\\\n"
      ]
     },
     "metadata": {},
     "output_type": "display_data"
    },
    {
     "data": {
      "text/html": [
       "<pre style=\"white-space:pre;overflow-x:auto;line-height:normal;font-family:Menlo,'DejaVu Sans Mono',consolas,'Courier New',monospace\"><span style=\"color: #7fbfbf; text-decoration-color: #7fbfbf\">         </span><span style=\"color: #000080; text-decoration-color: #000080\">INFO    </span> <span style=\"color: #000000; text-decoration-color: #000000\">Computing observable workshop_mtt                                                  </span><a href=\"file:///home/cms-jovyan/integration-challenge/cms/analysis/nondiff.py\" target=\"_blank\"><span style=\"color: #7f7f7f; text-decoration-color: #7f7f7f\">nondiff.py</span></a><span style=\"color: #7f7f7f; text-decoration-color: #7f7f7f\">:</span><a href=\"file:///home/cms-jovyan/integration-challenge/cms/analysis/nondiff.py#213\" target=\"_blank\"><span style=\"color: #7f7f7f; text-decoration-color: #7f7f7f\">213</span></a>\n",
       "</pre>\n"
      ],
      "text/plain": [
       "\u001b[2;36m        \u001b[0m\u001b[2;36m \u001b[0m\u001b[34mINFO    \u001b[0m \u001b[39mComputing observable workshop_mtt                                                 \u001b[0m\u001b[39m \u001b[0m\u001b]8;id=358492;file:///home/cms-jovyan/integration-challenge/cms/analysis/nondiff.py\u001b\\\u001b[2mnondiff.py\u001b[0m\u001b]8;;\u001b\\\u001b[2m:\u001b[0m\u001b]8;id=722238;file:///home/cms-jovyan/integration-challenge/cms/analysis/nondiff.py#213\u001b\\\u001b[2m213\u001b[0m\u001b]8;;\u001b\\\n"
      ]
     },
     "metadata": {},
     "output_type": "display_data"
    },
    {
     "data": {
      "text/html": [
       "<pre style=\"white-space:pre;overflow-x:auto;line-height:normal;font-family:Menlo,'DejaVu Sans Mono',consolas,'Courier New',monospace\"><span style=\"color: #7fbfbf; text-decoration-color: #7fbfbf\">         </span><span style=\"color: #000080; text-decoration-color: #000080\">INFO    </span> <span style=\"color: #000000; text-decoration-color: #000000\">Applying selection for CMS_WORKSHOP in ttbar_had with variation                    </span><a href=\"file:///home/cms-jovyan/integration-challenge/cms/analysis/nondiff.py\" target=\"_blank\"><span style=\"color: #7f7f7f; text-decoration-color: #7f7f7f\">nondiff.py</span></a><span style=\"color: #7f7f7f; text-decoration-color: #7f7f7f\">:</span><a href=\"file:///home/cms-jovyan/integration-challenge/cms/analysis/nondiff.py#154\" target=\"_blank\"><span style=\"color: #7f7f7f; text-decoration-color: #7f7f7f\">154</span></a>\n",
       "<span style=\"color: #7fbfbf; text-decoration-color: #7fbfbf\">         </span>         <span style=\"color: #000000; text-decoration-color: #000000\">jet_pt_resolution_down                                                             </span><span style=\"color: #7f7f7f; text-decoration-color: #7f7f7f\">              </span>\n",
       "</pre>\n"
      ],
      "text/plain": [
       "\u001b[2;36m        \u001b[0m\u001b[2;36m \u001b[0m\u001b[34mINFO    \u001b[0m \u001b[39mApplying selection for CMS_WORKSHOP in ttbar_had with variation                   \u001b[0m\u001b[39m \u001b[0m\u001b]8;id=181263;file:///home/cms-jovyan/integration-challenge/cms/analysis/nondiff.py\u001b\\\u001b[2mnondiff.py\u001b[0m\u001b]8;;\u001b\\\u001b[2m:\u001b[0m\u001b]8;id=829530;file:///home/cms-jovyan/integration-challenge/cms/analysis/nondiff.py#154\u001b\\\u001b[2m154\u001b[0m\u001b]8;;\u001b\\\n",
       "\u001b[2;36m         \u001b[0m         \u001b[39mjet_pt_resolution_down                                                            \u001b[0m\u001b[39m \u001b[0m\u001b[2m              \u001b[0m\n"
      ]
     },
     "metadata": {},
     "output_type": "display_data"
    },
    {
     "data": {
      "text/html": [
       "<pre style=\"white-space:pre;overflow-x:auto;line-height:normal;font-family:Menlo,'DejaVu Sans Mono',consolas,'Courier New',monospace\"><span style=\"color: #7fbfbf; text-decoration-color: #7fbfbf\">         </span><span style=\"color: #000080; text-decoration-color: #000080\">INFO    </span> <span style=\"color: #000000; text-decoration-color: #000000\">Number of weighted events in CMS_WORKSHOP: </span><span style=\"color: #008080; text-decoration-color: #008080; font-weight: bold\">9.28</span><span style=\"color: #000000; text-decoration-color: #000000\">                                    </span><a href=\"file:///home/cms-jovyan/integration-challenge/cms/analysis/nondiff.py\" target=\"_blank\"><span style=\"color: #7f7f7f; text-decoration-color: #7f7f7f\">nondiff.py</span></a><span style=\"color: #7f7f7f; text-decoration-color: #7f7f7f\">:</span><a href=\"file:///home/cms-jovyan/integration-challenge/cms/analysis/nondiff.py#205\" target=\"_blank\"><span style=\"color: #7f7f7f; text-decoration-color: #7f7f7f\">205</span></a>\n",
       "</pre>\n"
      ],
      "text/plain": [
       "\u001b[2;36m        \u001b[0m\u001b[2;36m \u001b[0m\u001b[34mINFO    \u001b[0m \u001b[39mNumber of weighted events in CMS_WORKSHOP: \u001b[0m\u001b[1;36m9.28\u001b[0m\u001b[39m                                   \u001b[0m\u001b[39m \u001b[0m\u001b]8;id=695141;file:///home/cms-jovyan/integration-challenge/cms/analysis/nondiff.py\u001b\\\u001b[2mnondiff.py\u001b[0m\u001b]8;;\u001b\\\u001b[2m:\u001b[0m\u001b]8;id=786485;file:///home/cms-jovyan/integration-challenge/cms/analysis/nondiff.py#205\u001b\\\u001b[2m205\u001b[0m\u001b]8;;\u001b\\\n"
      ]
     },
     "metadata": {},
     "output_type": "display_data"
    },
    {
     "data": {
      "text/html": [
       "<pre style=\"white-space:pre;overflow-x:auto;line-height:normal;font-family:Menlo,'DejaVu Sans Mono',consolas,'Courier New',monospace\"><span style=\"color: #7fbfbf; text-decoration-color: #7fbfbf\">         </span><span style=\"color: #000080; text-decoration-color: #000080\">INFO    </span> <span style=\"color: #000000; text-decoration-color: #000000\">Number of raw events in CMS_WORKSHOP: </span><span style=\"color: #008080; text-decoration-color: #008080; font-weight: bold\">2</span><span style=\"color: #000000; text-decoration-color: #000000\">                                            </span><a href=\"file:///home/cms-jovyan/integration-challenge/cms/analysis/nondiff.py\" target=\"_blank\"><span style=\"color: #7f7f7f; text-decoration-color: #7f7f7f\">nondiff.py</span></a><span style=\"color: #7f7f7f; text-decoration-color: #7f7f7f\">:</span><a href=\"file:///home/cms-jovyan/integration-challenge/cms/analysis/nondiff.py#208\" target=\"_blank\"><span style=\"color: #7f7f7f; text-decoration-color: #7f7f7f\">208</span></a>\n",
       "</pre>\n"
      ],
      "text/plain": [
       "\u001b[2;36m        \u001b[0m\u001b[2;36m \u001b[0m\u001b[34mINFO    \u001b[0m \u001b[39mNumber of raw events in CMS_WORKSHOP: \u001b[0m\u001b[1;36m2\u001b[0m\u001b[39m                                           \u001b[0m\u001b[39m \u001b[0m\u001b]8;id=849227;file:///home/cms-jovyan/integration-challenge/cms/analysis/nondiff.py\u001b\\\u001b[2mnondiff.py\u001b[0m\u001b]8;;\u001b\\\u001b[2m:\u001b[0m\u001b]8;id=938274;file:///home/cms-jovyan/integration-challenge/cms/analysis/nondiff.py#208\u001b\\\u001b[2m208\u001b[0m\u001b]8;;\u001b\\\n"
      ]
     },
     "metadata": {},
     "output_type": "display_data"
    },
    {
     "data": {
      "text/html": [
       "<pre style=\"white-space:pre;overflow-x:auto;line-height:normal;font-family:Menlo,'DejaVu Sans Mono',consolas,'Courier New',monospace\"><span style=\"color: #7fbfbf; text-decoration-color: #7fbfbf\">         </span><span style=\"color: #000080; text-decoration-color: #000080\">INFO    </span> <span style=\"color: #000000; text-decoration-color: #000000\">Computing observable workshop_mtt                                                  </span><a href=\"file:///home/cms-jovyan/integration-challenge/cms/analysis/nondiff.py\" target=\"_blank\"><span style=\"color: #7f7f7f; text-decoration-color: #7f7f7f\">nondiff.py</span></a><span style=\"color: #7f7f7f; text-decoration-color: #7f7f7f\">:</span><a href=\"file:///home/cms-jovyan/integration-challenge/cms/analysis/nondiff.py#213\" target=\"_blank\"><span style=\"color: #7f7f7f; text-decoration-color: #7f7f7f\">213</span></a>\n",
       "</pre>\n"
      ],
      "text/plain": [
       "\u001b[2;36m        \u001b[0m\u001b[2;36m \u001b[0m\u001b[34mINFO    \u001b[0m \u001b[39mComputing observable workshop_mtt                                                 \u001b[0m\u001b[39m \u001b[0m\u001b]8;id=256513;file:///home/cms-jovyan/integration-challenge/cms/analysis/nondiff.py\u001b\\\u001b[2mnondiff.py\u001b[0m\u001b]8;;\u001b\\\u001b[2m:\u001b[0m\u001b]8;id=182444;file:///home/cms-jovyan/integration-challenge/cms/analysis/nondiff.py#213\u001b\\\u001b[2m213\u001b[0m\u001b]8;;\u001b\\\n"
      ]
     },
     "metadata": {},
     "output_type": "display_data"
    },
    {
     "data": {
      "text/html": [
       "<pre style=\"white-space:pre;overflow-x:auto;line-height:normal;font-family:Menlo,'DejaVu Sans Mono',consolas,'Courier New',monospace\"><span style=\"color: #7fbfbf; text-decoration-color: #7fbfbf\">         </span><span style=\"color: #000080; text-decoration-color: #000080\">INFO    </span> <span style=\"color: #000000; text-decoration-color: #000000\">Applying selection for CMS_WORKSHOP in ttbar_had with variation jet_pt_scale_up    </span><a href=\"file:///home/cms-jovyan/integration-challenge/cms/analysis/nondiff.py\" target=\"_blank\"><span style=\"color: #7f7f7f; text-decoration-color: #7f7f7f\">nondiff.py</span></a><span style=\"color: #7f7f7f; text-decoration-color: #7f7f7f\">:</span><a href=\"file:///home/cms-jovyan/integration-challenge/cms/analysis/nondiff.py#154\" target=\"_blank\"><span style=\"color: #7f7f7f; text-decoration-color: #7f7f7f\">154</span></a>\n",
       "</pre>\n"
      ],
      "text/plain": [
       "\u001b[2;36m        \u001b[0m\u001b[2;36m \u001b[0m\u001b[34mINFO    \u001b[0m \u001b[39mApplying selection for CMS_WORKSHOP in ttbar_had with variation jet_pt_scale_up   \u001b[0m\u001b[39m \u001b[0m\u001b]8;id=305143;file:///home/cms-jovyan/integration-challenge/cms/analysis/nondiff.py\u001b\\\u001b[2mnondiff.py\u001b[0m\u001b]8;;\u001b\\\u001b[2m:\u001b[0m\u001b]8;id=364351;file:///home/cms-jovyan/integration-challenge/cms/analysis/nondiff.py#154\u001b\\\u001b[2m154\u001b[0m\u001b]8;;\u001b\\\n"
      ]
     },
     "metadata": {},
     "output_type": "display_data"
    },
    {
     "data": {
      "text/html": [
       "<pre style=\"white-space:pre;overflow-x:auto;line-height:normal;font-family:Menlo,'DejaVu Sans Mono',consolas,'Courier New',monospace\"><span style=\"color: #7fbfbf; text-decoration-color: #7fbfbf\">         </span><span style=\"color: #000080; text-decoration-color: #000080\">INFO    </span> <span style=\"color: #000000; text-decoration-color: #000000\">Number of weighted events in CMS_WORKSHOP: </span><span style=\"color: #008080; text-decoration-color: #008080; font-weight: bold\">9.28</span><span style=\"color: #000000; text-decoration-color: #000000\">                                    </span><a href=\"file:///home/cms-jovyan/integration-challenge/cms/analysis/nondiff.py\" target=\"_blank\"><span style=\"color: #7f7f7f; text-decoration-color: #7f7f7f\">nondiff.py</span></a><span style=\"color: #7f7f7f; text-decoration-color: #7f7f7f\">:</span><a href=\"file:///home/cms-jovyan/integration-challenge/cms/analysis/nondiff.py#205\" target=\"_blank\"><span style=\"color: #7f7f7f; text-decoration-color: #7f7f7f\">205</span></a>\n",
       "</pre>\n"
      ],
      "text/plain": [
       "\u001b[2;36m        \u001b[0m\u001b[2;36m \u001b[0m\u001b[34mINFO    \u001b[0m \u001b[39mNumber of weighted events in CMS_WORKSHOP: \u001b[0m\u001b[1;36m9.28\u001b[0m\u001b[39m                                   \u001b[0m\u001b[39m \u001b[0m\u001b]8;id=176565;file:///home/cms-jovyan/integration-challenge/cms/analysis/nondiff.py\u001b\\\u001b[2mnondiff.py\u001b[0m\u001b]8;;\u001b\\\u001b[2m:\u001b[0m\u001b]8;id=237493;file:///home/cms-jovyan/integration-challenge/cms/analysis/nondiff.py#205\u001b\\\u001b[2m205\u001b[0m\u001b]8;;\u001b\\\n"
      ]
     },
     "metadata": {},
     "output_type": "display_data"
    },
    {
     "data": {
      "text/html": [
       "<pre style=\"white-space:pre;overflow-x:auto;line-height:normal;font-family:Menlo,'DejaVu Sans Mono',consolas,'Courier New',monospace\"><span style=\"color: #7fbfbf; text-decoration-color: #7fbfbf\">         </span><span style=\"color: #000080; text-decoration-color: #000080\">INFO    </span> <span style=\"color: #000000; text-decoration-color: #000000\">Number of raw events in CMS_WORKSHOP: </span><span style=\"color: #008080; text-decoration-color: #008080; font-weight: bold\">2</span><span style=\"color: #000000; text-decoration-color: #000000\">                                            </span><a href=\"file:///home/cms-jovyan/integration-challenge/cms/analysis/nondiff.py\" target=\"_blank\"><span style=\"color: #7f7f7f; text-decoration-color: #7f7f7f\">nondiff.py</span></a><span style=\"color: #7f7f7f; text-decoration-color: #7f7f7f\">:</span><a href=\"file:///home/cms-jovyan/integration-challenge/cms/analysis/nondiff.py#208\" target=\"_blank\"><span style=\"color: #7f7f7f; text-decoration-color: #7f7f7f\">208</span></a>\n",
       "</pre>\n"
      ],
      "text/plain": [
       "\u001b[2;36m        \u001b[0m\u001b[2;36m \u001b[0m\u001b[34mINFO    \u001b[0m \u001b[39mNumber of raw events in CMS_WORKSHOP: \u001b[0m\u001b[1;36m2\u001b[0m\u001b[39m                                           \u001b[0m\u001b[39m \u001b[0m\u001b]8;id=619175;file:///home/cms-jovyan/integration-challenge/cms/analysis/nondiff.py\u001b\\\u001b[2mnondiff.py\u001b[0m\u001b]8;;\u001b\\\u001b[2m:\u001b[0m\u001b]8;id=286261;file:///home/cms-jovyan/integration-challenge/cms/analysis/nondiff.py#208\u001b\\\u001b[2m208\u001b[0m\u001b]8;;\u001b\\\n"
      ]
     },
     "metadata": {},
     "output_type": "display_data"
    },
    {
     "data": {
      "text/html": [
       "<pre style=\"white-space:pre;overflow-x:auto;line-height:normal;font-family:Menlo,'DejaVu Sans Mono',consolas,'Courier New',monospace\"><span style=\"color: #7fbfbf; text-decoration-color: #7fbfbf\">         </span><span style=\"color: #000080; text-decoration-color: #000080\">INFO    </span> <span style=\"color: #000000; text-decoration-color: #000000\">Computing observable workshop_mtt                                                  </span><a href=\"file:///home/cms-jovyan/integration-challenge/cms/analysis/nondiff.py\" target=\"_blank\"><span style=\"color: #7f7f7f; text-decoration-color: #7f7f7f\">nondiff.py</span></a><span style=\"color: #7f7f7f; text-decoration-color: #7f7f7f\">:</span><a href=\"file:///home/cms-jovyan/integration-challenge/cms/analysis/nondiff.py#213\" target=\"_blank\"><span style=\"color: #7f7f7f; text-decoration-color: #7f7f7f\">213</span></a>\n",
       "</pre>\n"
      ],
      "text/plain": [
       "\u001b[2;36m        \u001b[0m\u001b[2;36m \u001b[0m\u001b[34mINFO    \u001b[0m \u001b[39mComputing observable workshop_mtt                                                 \u001b[0m\u001b[39m \u001b[0m\u001b]8;id=695455;file:///home/cms-jovyan/integration-challenge/cms/analysis/nondiff.py\u001b\\\u001b[2mnondiff.py\u001b[0m\u001b]8;;\u001b\\\u001b[2m:\u001b[0m\u001b]8;id=56936;file:///home/cms-jovyan/integration-challenge/cms/analysis/nondiff.py#213\u001b\\\u001b[2m213\u001b[0m\u001b]8;;\u001b\\\n"
      ]
     },
     "metadata": {},
     "output_type": "display_data"
    },
    {
     "data": {
      "text/html": [
       "<pre style=\"white-space:pre;overflow-x:auto;line-height:normal;font-family:Menlo,'DejaVu Sans Mono',consolas,'Courier New',monospace\"><span style=\"color: #7fbfbf; text-decoration-color: #7fbfbf\">         </span><span style=\"color: #000080; text-decoration-color: #000080\">INFO    </span> <span style=\"color: #000000; text-decoration-color: #000000\">Applying selection for CMS_WORKSHOP in ttbar_had with variation jet_pt_scale_down  </span><a href=\"file:///home/cms-jovyan/integration-challenge/cms/analysis/nondiff.py\" target=\"_blank\"><span style=\"color: #7f7f7f; text-decoration-color: #7f7f7f\">nondiff.py</span></a><span style=\"color: #7f7f7f; text-decoration-color: #7f7f7f\">:</span><a href=\"file:///home/cms-jovyan/integration-challenge/cms/analysis/nondiff.py#154\" target=\"_blank\"><span style=\"color: #7f7f7f; text-decoration-color: #7f7f7f\">154</span></a>\n",
       "</pre>\n"
      ],
      "text/plain": [
       "\u001b[2;36m        \u001b[0m\u001b[2;36m \u001b[0m\u001b[34mINFO    \u001b[0m \u001b[39mApplying selection for CMS_WORKSHOP in ttbar_had with variation jet_pt_scale_down \u001b[0m\u001b[39m \u001b[0m\u001b]8;id=951636;file:///home/cms-jovyan/integration-challenge/cms/analysis/nondiff.py\u001b\\\u001b[2mnondiff.py\u001b[0m\u001b]8;;\u001b\\\u001b[2m:\u001b[0m\u001b]8;id=673708;file:///home/cms-jovyan/integration-challenge/cms/analysis/nondiff.py#154\u001b\\\u001b[2m154\u001b[0m\u001b]8;;\u001b\\\n"
      ]
     },
     "metadata": {},
     "output_type": "display_data"
    },
    {
     "data": {
      "text/html": [
       "<pre style=\"white-space:pre;overflow-x:auto;line-height:normal;font-family:Menlo,'DejaVu Sans Mono',consolas,'Courier New',monospace\"><span style=\"color: #7fbfbf; text-decoration-color: #7fbfbf\">         </span><span style=\"color: #000080; text-decoration-color: #000080\">INFO    </span> <span style=\"color: #000000; text-decoration-color: #000000\">Number of weighted events in CMS_WORKSHOP: </span><span style=\"color: #008080; text-decoration-color: #008080; font-weight: bold\">9.28</span><span style=\"color: #000000; text-decoration-color: #000000\">                                    </span><a href=\"file:///home/cms-jovyan/integration-challenge/cms/analysis/nondiff.py\" target=\"_blank\"><span style=\"color: #7f7f7f; text-decoration-color: #7f7f7f\">nondiff.py</span></a><span style=\"color: #7f7f7f; text-decoration-color: #7f7f7f\">:</span><a href=\"file:///home/cms-jovyan/integration-challenge/cms/analysis/nondiff.py#205\" target=\"_blank\"><span style=\"color: #7f7f7f; text-decoration-color: #7f7f7f\">205</span></a>\n",
       "</pre>\n"
      ],
      "text/plain": [
       "\u001b[2;36m        \u001b[0m\u001b[2;36m \u001b[0m\u001b[34mINFO    \u001b[0m \u001b[39mNumber of weighted events in CMS_WORKSHOP: \u001b[0m\u001b[1;36m9.28\u001b[0m\u001b[39m                                   \u001b[0m\u001b[39m \u001b[0m\u001b]8;id=901647;file:///home/cms-jovyan/integration-challenge/cms/analysis/nondiff.py\u001b\\\u001b[2mnondiff.py\u001b[0m\u001b]8;;\u001b\\\u001b[2m:\u001b[0m\u001b]8;id=812518;file:///home/cms-jovyan/integration-challenge/cms/analysis/nondiff.py#205\u001b\\\u001b[2m205\u001b[0m\u001b]8;;\u001b\\\n"
      ]
     },
     "metadata": {},
     "output_type": "display_data"
    },
    {
     "data": {
      "text/html": [
       "<pre style=\"white-space:pre;overflow-x:auto;line-height:normal;font-family:Menlo,'DejaVu Sans Mono',consolas,'Courier New',monospace\"><span style=\"color: #7fbfbf; text-decoration-color: #7fbfbf\">         </span><span style=\"color: #000080; text-decoration-color: #000080\">INFO    </span> <span style=\"color: #000000; text-decoration-color: #000000\">Number of raw events in CMS_WORKSHOP: </span><span style=\"color: #008080; text-decoration-color: #008080; font-weight: bold\">2</span><span style=\"color: #000000; text-decoration-color: #000000\">                                            </span><a href=\"file:///home/cms-jovyan/integration-challenge/cms/analysis/nondiff.py\" target=\"_blank\"><span style=\"color: #7f7f7f; text-decoration-color: #7f7f7f\">nondiff.py</span></a><span style=\"color: #7f7f7f; text-decoration-color: #7f7f7f\">:</span><a href=\"file:///home/cms-jovyan/integration-challenge/cms/analysis/nondiff.py#208\" target=\"_blank\"><span style=\"color: #7f7f7f; text-decoration-color: #7f7f7f\">208</span></a>\n",
       "</pre>\n"
      ],
      "text/plain": [
       "\u001b[2;36m        \u001b[0m\u001b[2;36m \u001b[0m\u001b[34mINFO    \u001b[0m \u001b[39mNumber of raw events in CMS_WORKSHOP: \u001b[0m\u001b[1;36m2\u001b[0m\u001b[39m                                           \u001b[0m\u001b[39m \u001b[0m\u001b]8;id=898014;file:///home/cms-jovyan/integration-challenge/cms/analysis/nondiff.py\u001b\\\u001b[2mnondiff.py\u001b[0m\u001b]8;;\u001b\\\u001b[2m:\u001b[0m\u001b]8;id=779944;file:///home/cms-jovyan/integration-challenge/cms/analysis/nondiff.py#208\u001b\\\u001b[2m208\u001b[0m\u001b]8;;\u001b\\\n"
      ]
     },
     "metadata": {},
     "output_type": "display_data"
    },
    {
     "data": {
      "text/html": [
       "<pre style=\"white-space:pre;overflow-x:auto;line-height:normal;font-family:Menlo,'DejaVu Sans Mono',consolas,'Courier New',monospace\"><span style=\"color: #7fbfbf; text-decoration-color: #7fbfbf\">         </span><span style=\"color: #000080; text-decoration-color: #000080\">INFO    </span> <span style=\"color: #000000; text-decoration-color: #000000\">Computing observable workshop_mtt                                                  </span><a href=\"file:///home/cms-jovyan/integration-challenge/cms/analysis/nondiff.py\" target=\"_blank\"><span style=\"color: #7f7f7f; text-decoration-color: #7f7f7f\">nondiff.py</span></a><span style=\"color: #7f7f7f; text-decoration-color: #7f7f7f\">:</span><a href=\"file:///home/cms-jovyan/integration-challenge/cms/analysis/nondiff.py#213\" target=\"_blank\"><span style=\"color: #7f7f7f; text-decoration-color: #7f7f7f\">213</span></a>\n",
       "</pre>\n"
      ],
      "text/plain": [
       "\u001b[2;36m        \u001b[0m\u001b[2;36m \u001b[0m\u001b[34mINFO    \u001b[0m \u001b[39mComputing observable workshop_mtt                                                 \u001b[0m\u001b[39m \u001b[0m\u001b]8;id=331704;file:///home/cms-jovyan/integration-challenge/cms/analysis/nondiff.py\u001b\\\u001b[2mnondiff.py\u001b[0m\u001b]8;;\u001b\\\u001b[2m:\u001b[0m\u001b]8;id=164167;file:///home/cms-jovyan/integration-challenge/cms/analysis/nondiff.py#213\u001b\\\u001b[2m213\u001b[0m\u001b]8;;\u001b\\\n"
      ]
     },
     "metadata": {},
     "output_type": "display_data"
    },
    {
     "data": {
      "text/html": [
       "<pre style=\"white-space:pre;overflow-x:auto;line-height:normal;font-family:Menlo,'DejaVu Sans Mono',consolas,'Courier New',monospace\"><span style=\"color: #7fbfbf; text-decoration-color: #7fbfbf\">         </span><span style=\"color: #000080; text-decoration-color: #000080\">INFO    </span> <span style=\"color: #000000; text-decoration-color: #000000\">Applying selection for CMS_WORKSHOP in ttbar_had with variation pu_weight_up       </span><a href=\"file:///home/cms-jovyan/integration-challenge/cms/analysis/nondiff.py\" target=\"_blank\"><span style=\"color: #7f7f7f; text-decoration-color: #7f7f7f\">nondiff.py</span></a><span style=\"color: #7f7f7f; text-decoration-color: #7f7f7f\">:</span><a href=\"file:///home/cms-jovyan/integration-challenge/cms/analysis/nondiff.py#154\" target=\"_blank\"><span style=\"color: #7f7f7f; text-decoration-color: #7f7f7f\">154</span></a>\n",
       "</pre>\n"
      ],
      "text/plain": [
       "\u001b[2;36m        \u001b[0m\u001b[2;36m \u001b[0m\u001b[34mINFO    \u001b[0m \u001b[39mApplying selection for CMS_WORKSHOP in ttbar_had with variation pu_weight_up      \u001b[0m\u001b[39m \u001b[0m\u001b]8;id=949675;file:///home/cms-jovyan/integration-challenge/cms/analysis/nondiff.py\u001b\\\u001b[2mnondiff.py\u001b[0m\u001b]8;;\u001b\\\u001b[2m:\u001b[0m\u001b]8;id=89972;file:///home/cms-jovyan/integration-challenge/cms/analysis/nondiff.py#154\u001b\\\u001b[2m154\u001b[0m\u001b]8;;\u001b\\\n"
      ]
     },
     "metadata": {},
     "output_type": "display_data"
    },
    {
     "data": {
      "text/html": [
       "<pre style=\"white-space:pre;overflow-x:auto;line-height:normal;font-family:Menlo,'DejaVu Sans Mono',consolas,'Courier New',monospace\"><span style=\"color: #7fbfbf; text-decoration-color: #7fbfbf\">         </span><span style=\"color: #000080; text-decoration-color: #000080\">INFO    </span> <span style=\"color: #000000; text-decoration-color: #000000\">Applying correction: pu_weight/Collisions16_UltraLegacy_goldenJSON </span><span style=\"color: #000000; text-decoration-color: #000000; font-weight: bold\">(</span><span style=\"color: #000000; text-decoration-color: #000000\">up</span><span style=\"color: #000000; text-decoration-color: #000000; font-weight: bold\">)</span><span style=\"color: #000000; text-decoration-color: #000000\">               </span><a href=\"file:///home/cms-jovyan/integration-challenge/cms/analysis/base.py\" target=\"_blank\"><span style=\"color: #7f7f7f; text-decoration-color: #7f7f7f\">base.py</span></a><span style=\"color: #7f7f7f; text-decoration-color: #7f7f7f\">:</span><a href=\"file:///home/cms-jovyan/integration-challenge/cms/analysis/base.py#247\" target=\"_blank\"><span style=\"color: #7f7f7f; text-decoration-color: #7f7f7f\">247</span></a>\n",
       "</pre>\n"
      ],
      "text/plain": [
       "\u001b[2;36m        \u001b[0m\u001b[2;36m \u001b[0m\u001b[34mINFO    \u001b[0m \u001b[39mApplying correction: pu_weight/Collisions16_UltraLegacy_goldenJSON \u001b[0m\u001b[1;39m(\u001b[0m\u001b[39mup\u001b[0m\u001b[1;39m)\u001b[0m\u001b[39m              \u001b[0m\u001b[39m \u001b[0m\u001b]8;id=916374;file:///home/cms-jovyan/integration-challenge/cms/analysis/base.py\u001b\\\u001b[2mbase.py\u001b[0m\u001b]8;;\u001b\\\u001b[2m:\u001b[0m\u001b]8;id=523618;file:///home/cms-jovyan/integration-challenge/cms/analysis/base.py#247\u001b\\\u001b[2m247\u001b[0m\u001b]8;;\u001b\\\n"
      ]
     },
     "metadata": {},
     "output_type": "display_data"
    },
    {
     "data": {
      "text/html": [
       "<pre style=\"white-space:pre;overflow-x:auto;line-height:normal;font-family:Menlo,'DejaVu Sans Mono',consolas,'Courier New',monospace\"><span style=\"color: #7fbfbf; text-decoration-color: #7fbfbf\">         </span><span style=\"color: #000080; text-decoration-color: #000080\">INFO    </span> <span style=\"color: #000000; text-decoration-color: #000000\">Number of weighted events in CMS_WORKSHOP: </span><span style=\"color: #008080; text-decoration-color: #008080; font-weight: bold\">2.67</span><span style=\"color: #000000; text-decoration-color: #000000\">                                    </span><a href=\"file:///home/cms-jovyan/integration-challenge/cms/analysis/nondiff.py\" target=\"_blank\"><span style=\"color: #7f7f7f; text-decoration-color: #7f7f7f\">nondiff.py</span></a><span style=\"color: #7f7f7f; text-decoration-color: #7f7f7f\">:</span><a href=\"file:///home/cms-jovyan/integration-challenge/cms/analysis/nondiff.py#205\" target=\"_blank\"><span style=\"color: #7f7f7f; text-decoration-color: #7f7f7f\">205</span></a>\n",
       "</pre>\n"
      ],
      "text/plain": [
       "\u001b[2;36m        \u001b[0m\u001b[2;36m \u001b[0m\u001b[34mINFO    \u001b[0m \u001b[39mNumber of weighted events in CMS_WORKSHOP: \u001b[0m\u001b[1;36m2.67\u001b[0m\u001b[39m                                   \u001b[0m\u001b[39m \u001b[0m\u001b]8;id=286748;file:///home/cms-jovyan/integration-challenge/cms/analysis/nondiff.py\u001b\\\u001b[2mnondiff.py\u001b[0m\u001b]8;;\u001b\\\u001b[2m:\u001b[0m\u001b]8;id=62870;file:///home/cms-jovyan/integration-challenge/cms/analysis/nondiff.py#205\u001b\\\u001b[2m205\u001b[0m\u001b]8;;\u001b\\\n"
      ]
     },
     "metadata": {},
     "output_type": "display_data"
    },
    {
     "data": {
      "text/html": [
       "<pre style=\"white-space:pre;overflow-x:auto;line-height:normal;font-family:Menlo,'DejaVu Sans Mono',consolas,'Courier New',monospace\"><span style=\"color: #7fbfbf; text-decoration-color: #7fbfbf\">         </span><span style=\"color: #000080; text-decoration-color: #000080\">INFO    </span> <span style=\"color: #000000; text-decoration-color: #000000\">Number of raw events in CMS_WORKSHOP: </span><span style=\"color: #008080; text-decoration-color: #008080; font-weight: bold\">2</span><span style=\"color: #000000; text-decoration-color: #000000\">                                            </span><a href=\"file:///home/cms-jovyan/integration-challenge/cms/analysis/nondiff.py\" target=\"_blank\"><span style=\"color: #7f7f7f; text-decoration-color: #7f7f7f\">nondiff.py</span></a><span style=\"color: #7f7f7f; text-decoration-color: #7f7f7f\">:</span><a href=\"file:///home/cms-jovyan/integration-challenge/cms/analysis/nondiff.py#208\" target=\"_blank\"><span style=\"color: #7f7f7f; text-decoration-color: #7f7f7f\">208</span></a>\n",
       "</pre>\n"
      ],
      "text/plain": [
       "\u001b[2;36m        \u001b[0m\u001b[2;36m \u001b[0m\u001b[34mINFO    \u001b[0m \u001b[39mNumber of raw events in CMS_WORKSHOP: \u001b[0m\u001b[1;36m2\u001b[0m\u001b[39m                                           \u001b[0m\u001b[39m \u001b[0m\u001b]8;id=808217;file:///home/cms-jovyan/integration-challenge/cms/analysis/nondiff.py\u001b\\\u001b[2mnondiff.py\u001b[0m\u001b]8;;\u001b\\\u001b[2m:\u001b[0m\u001b]8;id=486652;file:///home/cms-jovyan/integration-challenge/cms/analysis/nondiff.py#208\u001b\\\u001b[2m208\u001b[0m\u001b]8;;\u001b\\\n"
      ]
     },
     "metadata": {},
     "output_type": "display_data"
    },
    {
     "data": {
      "text/html": [
       "<pre style=\"white-space:pre;overflow-x:auto;line-height:normal;font-family:Menlo,'DejaVu Sans Mono',consolas,'Courier New',monospace\"><span style=\"color: #7fbfbf; text-decoration-color: #7fbfbf\">         </span><span style=\"color: #000080; text-decoration-color: #000080\">INFO    </span> <span style=\"color: #000000; text-decoration-color: #000000\">Computing observable workshop_mtt                                                  </span><a href=\"file:///home/cms-jovyan/integration-challenge/cms/analysis/nondiff.py\" target=\"_blank\"><span style=\"color: #7f7f7f; text-decoration-color: #7f7f7f\">nondiff.py</span></a><span style=\"color: #7f7f7f; text-decoration-color: #7f7f7f\">:</span><a href=\"file:///home/cms-jovyan/integration-challenge/cms/analysis/nondiff.py#213\" target=\"_blank\"><span style=\"color: #7f7f7f; text-decoration-color: #7f7f7f\">213</span></a>\n",
       "</pre>\n"
      ],
      "text/plain": [
       "\u001b[2;36m        \u001b[0m\u001b[2;36m \u001b[0m\u001b[34mINFO    \u001b[0m \u001b[39mComputing observable workshop_mtt                                                 \u001b[0m\u001b[39m \u001b[0m\u001b]8;id=207231;file:///home/cms-jovyan/integration-challenge/cms/analysis/nondiff.py\u001b\\\u001b[2mnondiff.py\u001b[0m\u001b]8;;\u001b\\\u001b[2m:\u001b[0m\u001b]8;id=321457;file:///home/cms-jovyan/integration-challenge/cms/analysis/nondiff.py#213\u001b\\\u001b[2m213\u001b[0m\u001b]8;;\u001b\\\n"
      ]
     },
     "metadata": {},
     "output_type": "display_data"
    },
    {
     "data": {
      "text/html": [
       "<pre style=\"white-space:pre;overflow-x:auto;line-height:normal;font-family:Menlo,'DejaVu Sans Mono',consolas,'Courier New',monospace\"><span style=\"color: #7fbfbf; text-decoration-color: #7fbfbf\">         </span><span style=\"color: #000080; text-decoration-color: #000080\">INFO    </span> <span style=\"color: #000000; text-decoration-color: #000000\">Applying selection for CMS_WORKSHOP in ttbar_had with variation pu_weight_down     </span><a href=\"file:///home/cms-jovyan/integration-challenge/cms/analysis/nondiff.py\" target=\"_blank\"><span style=\"color: #7f7f7f; text-decoration-color: #7f7f7f\">nondiff.py</span></a><span style=\"color: #7f7f7f; text-decoration-color: #7f7f7f\">:</span><a href=\"file:///home/cms-jovyan/integration-challenge/cms/analysis/nondiff.py#154\" target=\"_blank\"><span style=\"color: #7f7f7f; text-decoration-color: #7f7f7f\">154</span></a>\n",
       "</pre>\n"
      ],
      "text/plain": [
       "\u001b[2;36m        \u001b[0m\u001b[2;36m \u001b[0m\u001b[34mINFO    \u001b[0m \u001b[39mApplying selection for CMS_WORKSHOP in ttbar_had with variation pu_weight_down    \u001b[0m\u001b[39m \u001b[0m\u001b]8;id=91520;file:///home/cms-jovyan/integration-challenge/cms/analysis/nondiff.py\u001b\\\u001b[2mnondiff.py\u001b[0m\u001b]8;;\u001b\\\u001b[2m:\u001b[0m\u001b]8;id=48847;file:///home/cms-jovyan/integration-challenge/cms/analysis/nondiff.py#154\u001b\\\u001b[2m154\u001b[0m\u001b]8;;\u001b\\\n"
      ]
     },
     "metadata": {},
     "output_type": "display_data"
    },
    {
     "data": {
      "text/html": [
       "<pre style=\"white-space:pre;overflow-x:auto;line-height:normal;font-family:Menlo,'DejaVu Sans Mono',consolas,'Courier New',monospace\"><span style=\"color: #7fbfbf; text-decoration-color: #7fbfbf\">         </span><span style=\"color: #000080; text-decoration-color: #000080\">INFO    </span> <span style=\"color: #000000; text-decoration-color: #000000\">Applying correction: pu_weight/Collisions16_UltraLegacy_goldenJSON </span><span style=\"color: #000000; text-decoration-color: #000000; font-weight: bold\">(</span><span style=\"color: #000000; text-decoration-color: #000000\">down</span><span style=\"color: #000000; text-decoration-color: #000000; font-weight: bold\">)</span><span style=\"color: #000000; text-decoration-color: #000000\">             </span><a href=\"file:///home/cms-jovyan/integration-challenge/cms/analysis/base.py\" target=\"_blank\"><span style=\"color: #7f7f7f; text-decoration-color: #7f7f7f\">base.py</span></a><span style=\"color: #7f7f7f; text-decoration-color: #7f7f7f\">:</span><a href=\"file:///home/cms-jovyan/integration-challenge/cms/analysis/base.py#247\" target=\"_blank\"><span style=\"color: #7f7f7f; text-decoration-color: #7f7f7f\">247</span></a>\n",
       "</pre>\n"
      ],
      "text/plain": [
       "\u001b[2;36m        \u001b[0m\u001b[2;36m \u001b[0m\u001b[34mINFO    \u001b[0m \u001b[39mApplying correction: pu_weight/Collisions16_UltraLegacy_goldenJSON \u001b[0m\u001b[1;39m(\u001b[0m\u001b[39mdown\u001b[0m\u001b[1;39m)\u001b[0m\u001b[39m            \u001b[0m\u001b[39m \u001b[0m\u001b]8;id=530719;file:///home/cms-jovyan/integration-challenge/cms/analysis/base.py\u001b\\\u001b[2mbase.py\u001b[0m\u001b]8;;\u001b\\\u001b[2m:\u001b[0m\u001b]8;id=341450;file:///home/cms-jovyan/integration-challenge/cms/analysis/base.py#247\u001b\\\u001b[2m247\u001b[0m\u001b]8;;\u001b\\\n"
      ]
     },
     "metadata": {},
     "output_type": "display_data"
    },
    {
     "data": {
      "text/html": [
       "<pre style=\"white-space:pre;overflow-x:auto;line-height:normal;font-family:Menlo,'DejaVu Sans Mono',consolas,'Courier New',monospace\"><span style=\"color: #7fbfbf; text-decoration-color: #7fbfbf\">         </span><span style=\"color: #000080; text-decoration-color: #000080\">INFO    </span> <span style=\"color: #000000; text-decoration-color: #000000\">Number of weighted events in CMS_WORKSHOP: </span><span style=\"color: #008080; text-decoration-color: #008080; font-weight: bold\">2.46</span><span style=\"color: #000000; text-decoration-color: #000000\">                                    </span><a href=\"file:///home/cms-jovyan/integration-challenge/cms/analysis/nondiff.py\" target=\"_blank\"><span style=\"color: #7f7f7f; text-decoration-color: #7f7f7f\">nondiff.py</span></a><span style=\"color: #7f7f7f; text-decoration-color: #7f7f7f\">:</span><a href=\"file:///home/cms-jovyan/integration-challenge/cms/analysis/nondiff.py#205\" target=\"_blank\"><span style=\"color: #7f7f7f; text-decoration-color: #7f7f7f\">205</span></a>\n",
       "</pre>\n"
      ],
      "text/plain": [
       "\u001b[2;36m        \u001b[0m\u001b[2;36m \u001b[0m\u001b[34mINFO    \u001b[0m \u001b[39mNumber of weighted events in CMS_WORKSHOP: \u001b[0m\u001b[1;36m2.46\u001b[0m\u001b[39m                                   \u001b[0m\u001b[39m \u001b[0m\u001b]8;id=810943;file:///home/cms-jovyan/integration-challenge/cms/analysis/nondiff.py\u001b\\\u001b[2mnondiff.py\u001b[0m\u001b]8;;\u001b\\\u001b[2m:\u001b[0m\u001b]8;id=357986;file:///home/cms-jovyan/integration-challenge/cms/analysis/nondiff.py#205\u001b\\\u001b[2m205\u001b[0m\u001b]8;;\u001b\\\n"
      ]
     },
     "metadata": {},
     "output_type": "display_data"
    },
    {
     "data": {
      "text/html": [
       "<pre style=\"white-space:pre;overflow-x:auto;line-height:normal;font-family:Menlo,'DejaVu Sans Mono',consolas,'Courier New',monospace\"><span style=\"color: #7fbfbf; text-decoration-color: #7fbfbf\">         </span><span style=\"color: #000080; text-decoration-color: #000080\">INFO    </span> <span style=\"color: #000000; text-decoration-color: #000000\">Number of raw events in CMS_WORKSHOP: </span><span style=\"color: #008080; text-decoration-color: #008080; font-weight: bold\">2</span><span style=\"color: #000000; text-decoration-color: #000000\">                                            </span><a href=\"file:///home/cms-jovyan/integration-challenge/cms/analysis/nondiff.py\" target=\"_blank\"><span style=\"color: #7f7f7f; text-decoration-color: #7f7f7f\">nondiff.py</span></a><span style=\"color: #7f7f7f; text-decoration-color: #7f7f7f\">:</span><a href=\"file:///home/cms-jovyan/integration-challenge/cms/analysis/nondiff.py#208\" target=\"_blank\"><span style=\"color: #7f7f7f; text-decoration-color: #7f7f7f\">208</span></a>\n",
       "</pre>\n"
      ],
      "text/plain": [
       "\u001b[2;36m        \u001b[0m\u001b[2;36m \u001b[0m\u001b[34mINFO    \u001b[0m \u001b[39mNumber of raw events in CMS_WORKSHOP: \u001b[0m\u001b[1;36m2\u001b[0m\u001b[39m                                           \u001b[0m\u001b[39m \u001b[0m\u001b]8;id=725246;file:///home/cms-jovyan/integration-challenge/cms/analysis/nondiff.py\u001b\\\u001b[2mnondiff.py\u001b[0m\u001b]8;;\u001b\\\u001b[2m:\u001b[0m\u001b]8;id=238338;file:///home/cms-jovyan/integration-challenge/cms/analysis/nondiff.py#208\u001b\\\u001b[2m208\u001b[0m\u001b]8;;\u001b\\\n"
      ]
     },
     "metadata": {},
     "output_type": "display_data"
    },
    {
     "data": {
      "text/html": [
       "<pre style=\"white-space:pre;overflow-x:auto;line-height:normal;font-family:Menlo,'DejaVu Sans Mono',consolas,'Courier New',monospace\"><span style=\"color: #7fbfbf; text-decoration-color: #7fbfbf\">         </span><span style=\"color: #000080; text-decoration-color: #000080\">INFO    </span> <span style=\"color: #000000; text-decoration-color: #000000\">Computing observable workshop_mtt                                                  </span><a href=\"file:///home/cms-jovyan/integration-challenge/cms/analysis/nondiff.py\" target=\"_blank\"><span style=\"color: #7f7f7f; text-decoration-color: #7f7f7f\">nondiff.py</span></a><span style=\"color: #7f7f7f; text-decoration-color: #7f7f7f\">:</span><a href=\"file:///home/cms-jovyan/integration-challenge/cms/analysis/nondiff.py#213\" target=\"_blank\"><span style=\"color: #7f7f7f; text-decoration-color: #7f7f7f\">213</span></a>\n",
       "</pre>\n"
      ],
      "text/plain": [
       "\u001b[2;36m        \u001b[0m\u001b[2;36m \u001b[0m\u001b[34mINFO    \u001b[0m \u001b[39mComputing observable workshop_mtt                                                 \u001b[0m\u001b[39m \u001b[0m\u001b]8;id=280881;file:///home/cms-jovyan/integration-challenge/cms/analysis/nondiff.py\u001b\\\u001b[2mnondiff.py\u001b[0m\u001b]8;;\u001b\\\u001b[2m:\u001b[0m\u001b]8;id=674450;file:///home/cms-jovyan/integration-challenge/cms/analysis/nondiff.py#213\u001b\\\u001b[2m213\u001b[0m\u001b]8;;\u001b\\\n"
      ]
     },
     "metadata": {},
     "output_type": "display_data"
    },
    {
     "data": {
      "text/html": [
       "<pre style=\"white-space:pre;overflow-x:auto;line-height:normal;font-family:Menlo,'DejaVu Sans Mono',consolas,'Courier New',monospace\"><span style=\"color: #7fbfbf; text-decoration-color: #7fbfbf\">         </span><span style=\"color: #000080; text-decoration-color: #000080\">INFO    </span> <span style=\"color: #000000; text-decoration-color: #000000\">Applying selection for CMS_WORKSHOP in ttbar_had with variation muon_id_sf_up      </span><a href=\"file:///home/cms-jovyan/integration-challenge/cms/analysis/nondiff.py\" target=\"_blank\"><span style=\"color: #7f7f7f; text-decoration-color: #7f7f7f\">nondiff.py</span></a><span style=\"color: #7f7f7f; text-decoration-color: #7f7f7f\">:</span><a href=\"file:///home/cms-jovyan/integration-challenge/cms/analysis/nondiff.py#154\" target=\"_blank\"><span style=\"color: #7f7f7f; text-decoration-color: #7f7f7f\">154</span></a>\n",
       "</pre>\n"
      ],
      "text/plain": [
       "\u001b[2;36m        \u001b[0m\u001b[2;36m \u001b[0m\u001b[34mINFO    \u001b[0m \u001b[39mApplying selection for CMS_WORKSHOP in ttbar_had with variation muon_id_sf_up     \u001b[0m\u001b[39m \u001b[0m\u001b]8;id=38491;file:///home/cms-jovyan/integration-challenge/cms/analysis/nondiff.py\u001b\\\u001b[2mnondiff.py\u001b[0m\u001b]8;;\u001b\\\u001b[2m:\u001b[0m\u001b]8;id=457869;file:///home/cms-jovyan/integration-challenge/cms/analysis/nondiff.py#154\u001b\\\u001b[2m154\u001b[0m\u001b]8;;\u001b\\\n"
      ]
     },
     "metadata": {},
     "output_type": "display_data"
    },
    {
     "data": {
      "text/html": [
       "<pre style=\"white-space:pre;overflow-x:auto;line-height:normal;font-family:Menlo,'DejaVu Sans Mono',consolas,'Courier New',monospace\"><span style=\"color: #7fbfbf; text-decoration-color: #7fbfbf\">         </span><span style=\"color: #000080; text-decoration-color: #000080\">INFO    </span> <span style=\"color: #000000; text-decoration-color: #000000\">Applying correction: muon_id_sf/NUM_TightID_DEN_TrackerMuons </span><span style=\"color: #000000; text-decoration-color: #000000; font-weight: bold\">(</span><span style=\"color: #000000; text-decoration-color: #000000\">systup</span><span style=\"color: #000000; text-decoration-color: #000000; font-weight: bold\">)</span><span style=\"color: #000000; text-decoration-color: #000000\">                 </span><a href=\"file:///home/cms-jovyan/integration-challenge/cms/analysis/base.py\" target=\"_blank\"><span style=\"color: #7f7f7f; text-decoration-color: #7f7f7f\">base.py</span></a><span style=\"color: #7f7f7f; text-decoration-color: #7f7f7f\">:</span><a href=\"file:///home/cms-jovyan/integration-challenge/cms/analysis/base.py#247\" target=\"_blank\"><span style=\"color: #7f7f7f; text-decoration-color: #7f7f7f\">247</span></a>\n",
       "</pre>\n"
      ],
      "text/plain": [
       "\u001b[2;36m        \u001b[0m\u001b[2;36m \u001b[0m\u001b[34mINFO    \u001b[0m \u001b[39mApplying correction: muon_id_sf/NUM_TightID_DEN_TrackerMuons \u001b[0m\u001b[1;39m(\u001b[0m\u001b[39msystup\u001b[0m\u001b[1;39m)\u001b[0m\u001b[39m                \u001b[0m\u001b[39m \u001b[0m\u001b]8;id=317326;file:///home/cms-jovyan/integration-challenge/cms/analysis/base.py\u001b\\\u001b[2mbase.py\u001b[0m\u001b]8;;\u001b\\\u001b[2m:\u001b[0m\u001b]8;id=374175;file:///home/cms-jovyan/integration-challenge/cms/analysis/base.py#247\u001b\\\u001b[2m247\u001b[0m\u001b]8;;\u001b\\\n"
      ]
     },
     "metadata": {},
     "output_type": "display_data"
    },
    {
     "data": {
      "text/html": [
       "<pre style=\"white-space:pre;overflow-x:auto;line-height:normal;font-family:Menlo,'DejaVu Sans Mono',consolas,'Courier New',monospace\"><span style=\"color: #7fbfbf; text-decoration-color: #7fbfbf\">         </span><span style=\"color: #000080; text-decoration-color: #000080\">INFO    </span> <span style=\"color: #000000; text-decoration-color: #000000\">Number of weighted events in CMS_WORKSHOP: </span><span style=\"color: #008080; text-decoration-color: #008080; font-weight: bold\">1.99</span><span style=\"color: #000000; text-decoration-color: #000000\">                                    </span><a href=\"file:///home/cms-jovyan/integration-challenge/cms/analysis/nondiff.py\" target=\"_blank\"><span style=\"color: #7f7f7f; text-decoration-color: #7f7f7f\">nondiff.py</span></a><span style=\"color: #7f7f7f; text-decoration-color: #7f7f7f\">:</span><a href=\"file:///home/cms-jovyan/integration-challenge/cms/analysis/nondiff.py#205\" target=\"_blank\"><span style=\"color: #7f7f7f; text-decoration-color: #7f7f7f\">205</span></a>\n",
       "</pre>\n"
      ],
      "text/plain": [
       "\u001b[2;36m        \u001b[0m\u001b[2;36m \u001b[0m\u001b[34mINFO    \u001b[0m \u001b[39mNumber of weighted events in CMS_WORKSHOP: \u001b[0m\u001b[1;36m1.99\u001b[0m\u001b[39m                                   \u001b[0m\u001b[39m \u001b[0m\u001b]8;id=535869;file:///home/cms-jovyan/integration-challenge/cms/analysis/nondiff.py\u001b\\\u001b[2mnondiff.py\u001b[0m\u001b]8;;\u001b\\\u001b[2m:\u001b[0m\u001b]8;id=480644;file:///home/cms-jovyan/integration-challenge/cms/analysis/nondiff.py#205\u001b\\\u001b[2m205\u001b[0m\u001b]8;;\u001b\\\n"
      ]
     },
     "metadata": {},
     "output_type": "display_data"
    },
    {
     "data": {
      "text/html": [
       "<pre style=\"white-space:pre;overflow-x:auto;line-height:normal;font-family:Menlo,'DejaVu Sans Mono',consolas,'Courier New',monospace\"><span style=\"color: #7fbfbf; text-decoration-color: #7fbfbf\">         </span><span style=\"color: #000080; text-decoration-color: #000080\">INFO    </span> <span style=\"color: #000000; text-decoration-color: #000000\">Number of raw events in CMS_WORKSHOP: </span><span style=\"color: #008080; text-decoration-color: #008080; font-weight: bold\">2</span><span style=\"color: #000000; text-decoration-color: #000000\">                                            </span><a href=\"file:///home/cms-jovyan/integration-challenge/cms/analysis/nondiff.py\" target=\"_blank\"><span style=\"color: #7f7f7f; text-decoration-color: #7f7f7f\">nondiff.py</span></a><span style=\"color: #7f7f7f; text-decoration-color: #7f7f7f\">:</span><a href=\"file:///home/cms-jovyan/integration-challenge/cms/analysis/nondiff.py#208\" target=\"_blank\"><span style=\"color: #7f7f7f; text-decoration-color: #7f7f7f\">208</span></a>\n",
       "</pre>\n"
      ],
      "text/plain": [
       "\u001b[2;36m        \u001b[0m\u001b[2;36m \u001b[0m\u001b[34mINFO    \u001b[0m \u001b[39mNumber of raw events in CMS_WORKSHOP: \u001b[0m\u001b[1;36m2\u001b[0m\u001b[39m                                           \u001b[0m\u001b[39m \u001b[0m\u001b]8;id=198669;file:///home/cms-jovyan/integration-challenge/cms/analysis/nondiff.py\u001b\\\u001b[2mnondiff.py\u001b[0m\u001b]8;;\u001b\\\u001b[2m:\u001b[0m\u001b]8;id=549437;file:///home/cms-jovyan/integration-challenge/cms/analysis/nondiff.py#208\u001b\\\u001b[2m208\u001b[0m\u001b]8;;\u001b\\\n"
      ]
     },
     "metadata": {},
     "output_type": "display_data"
    },
    {
     "data": {
      "text/html": [
       "<pre style=\"white-space:pre;overflow-x:auto;line-height:normal;font-family:Menlo,'DejaVu Sans Mono',consolas,'Courier New',monospace\"><span style=\"color: #7fbfbf; text-decoration-color: #7fbfbf\">         </span><span style=\"color: #000080; text-decoration-color: #000080\">INFO    </span> <span style=\"color: #000000; text-decoration-color: #000000\">Computing observable workshop_mtt                                                  </span><a href=\"file:///home/cms-jovyan/integration-challenge/cms/analysis/nondiff.py\" target=\"_blank\"><span style=\"color: #7f7f7f; text-decoration-color: #7f7f7f\">nondiff.py</span></a><span style=\"color: #7f7f7f; text-decoration-color: #7f7f7f\">:</span><a href=\"file:///home/cms-jovyan/integration-challenge/cms/analysis/nondiff.py#213\" target=\"_blank\"><span style=\"color: #7f7f7f; text-decoration-color: #7f7f7f\">213</span></a>\n",
       "</pre>\n"
      ],
      "text/plain": [
       "\u001b[2;36m        \u001b[0m\u001b[2;36m \u001b[0m\u001b[34mINFO    \u001b[0m \u001b[39mComputing observable workshop_mtt                                                 \u001b[0m\u001b[39m \u001b[0m\u001b]8;id=518020;file:///home/cms-jovyan/integration-challenge/cms/analysis/nondiff.py\u001b\\\u001b[2mnondiff.py\u001b[0m\u001b]8;;\u001b\\\u001b[2m:\u001b[0m\u001b]8;id=172070;file:///home/cms-jovyan/integration-challenge/cms/analysis/nondiff.py#213\u001b\\\u001b[2m213\u001b[0m\u001b]8;;\u001b\\\n"
      ]
     },
     "metadata": {},
     "output_type": "display_data"
    },
    {
     "data": {
      "text/html": [
       "<pre style=\"white-space:pre;overflow-x:auto;line-height:normal;font-family:Menlo,'DejaVu Sans Mono',consolas,'Courier New',monospace\"><span style=\"color: #7fbfbf; text-decoration-color: #7fbfbf\">         </span><span style=\"color: #000080; text-decoration-color: #000080\">INFO    </span> <span style=\"color: #000000; text-decoration-color: #000000\">Applying selection for CMS_WORKSHOP in ttbar_had with variation muon_id_sf_down    </span><a href=\"file:///home/cms-jovyan/integration-challenge/cms/analysis/nondiff.py\" target=\"_blank\"><span style=\"color: #7f7f7f; text-decoration-color: #7f7f7f\">nondiff.py</span></a><span style=\"color: #7f7f7f; text-decoration-color: #7f7f7f\">:</span><a href=\"file:///home/cms-jovyan/integration-challenge/cms/analysis/nondiff.py#154\" target=\"_blank\"><span style=\"color: #7f7f7f; text-decoration-color: #7f7f7f\">154</span></a>\n",
       "</pre>\n"
      ],
      "text/plain": [
       "\u001b[2;36m        \u001b[0m\u001b[2;36m \u001b[0m\u001b[34mINFO    \u001b[0m \u001b[39mApplying selection for CMS_WORKSHOP in ttbar_had with variation muon_id_sf_down   \u001b[0m\u001b[39m \u001b[0m\u001b]8;id=207987;file:///home/cms-jovyan/integration-challenge/cms/analysis/nondiff.py\u001b\\\u001b[2mnondiff.py\u001b[0m\u001b]8;;\u001b\\\u001b[2m:\u001b[0m\u001b]8;id=914025;file:///home/cms-jovyan/integration-challenge/cms/analysis/nondiff.py#154\u001b\\\u001b[2m154\u001b[0m\u001b]8;;\u001b\\\n"
      ]
     },
     "metadata": {},
     "output_type": "display_data"
    },
    {
     "data": {
      "text/html": [
       "<pre style=\"white-space:pre;overflow-x:auto;line-height:normal;font-family:Menlo,'DejaVu Sans Mono',consolas,'Courier New',monospace\"><span style=\"color: #7fbfbf; text-decoration-color: #7fbfbf\">         </span><span style=\"color: #000080; text-decoration-color: #000080\">INFO    </span> <span style=\"color: #000000; text-decoration-color: #000000\">Applying correction: muon_id_sf/NUM_TightID_DEN_TrackerMuons </span><span style=\"color: #000000; text-decoration-color: #000000; font-weight: bold\">(</span><span style=\"color: #000000; text-decoration-color: #000000\">systdown</span><span style=\"color: #000000; text-decoration-color: #000000; font-weight: bold\">)</span><span style=\"color: #000000; text-decoration-color: #000000\">               </span><a href=\"file:///home/cms-jovyan/integration-challenge/cms/analysis/base.py\" target=\"_blank\"><span style=\"color: #7f7f7f; text-decoration-color: #7f7f7f\">base.py</span></a><span style=\"color: #7f7f7f; text-decoration-color: #7f7f7f\">:</span><a href=\"file:///home/cms-jovyan/integration-challenge/cms/analysis/base.py#247\" target=\"_blank\"><span style=\"color: #7f7f7f; text-decoration-color: #7f7f7f\">247</span></a>\n",
       "</pre>\n"
      ],
      "text/plain": [
       "\u001b[2;36m        \u001b[0m\u001b[2;36m \u001b[0m\u001b[34mINFO    \u001b[0m \u001b[39mApplying correction: muon_id_sf/NUM_TightID_DEN_TrackerMuons \u001b[0m\u001b[1;39m(\u001b[0m\u001b[39msystdown\u001b[0m\u001b[1;39m)\u001b[0m\u001b[39m              \u001b[0m\u001b[39m \u001b[0m\u001b]8;id=504603;file:///home/cms-jovyan/integration-challenge/cms/analysis/base.py\u001b\\\u001b[2mbase.py\u001b[0m\u001b]8;;\u001b\\\u001b[2m:\u001b[0m\u001b]8;id=120645;file:///home/cms-jovyan/integration-challenge/cms/analysis/base.py#247\u001b\\\u001b[2m247\u001b[0m\u001b]8;;\u001b\\\n"
      ]
     },
     "metadata": {},
     "output_type": "display_data"
    },
    {
     "data": {
      "text/html": [
       "<pre style=\"white-space:pre;overflow-x:auto;line-height:normal;font-family:Menlo,'DejaVu Sans Mono',consolas,'Courier New',monospace\"><span style=\"color: #7fbfbf; text-decoration-color: #7fbfbf\">         </span><span style=\"color: #000080; text-decoration-color: #000080\">INFO    </span> <span style=\"color: #000000; text-decoration-color: #000000\">Number of weighted events in CMS_WORKSHOP: </span><span style=\"color: #008080; text-decoration-color: #008080; font-weight: bold\">1.97</span><span style=\"color: #000000; text-decoration-color: #000000\">                                    </span><a href=\"file:///home/cms-jovyan/integration-challenge/cms/analysis/nondiff.py\" target=\"_blank\"><span style=\"color: #7f7f7f; text-decoration-color: #7f7f7f\">nondiff.py</span></a><span style=\"color: #7f7f7f; text-decoration-color: #7f7f7f\">:</span><a href=\"file:///home/cms-jovyan/integration-challenge/cms/analysis/nondiff.py#205\" target=\"_blank\"><span style=\"color: #7f7f7f; text-decoration-color: #7f7f7f\">205</span></a>\n",
       "</pre>\n"
      ],
      "text/plain": [
       "\u001b[2;36m        \u001b[0m\u001b[2;36m \u001b[0m\u001b[34mINFO    \u001b[0m \u001b[39mNumber of weighted events in CMS_WORKSHOP: \u001b[0m\u001b[1;36m1.97\u001b[0m\u001b[39m                                   \u001b[0m\u001b[39m \u001b[0m\u001b]8;id=610632;file:///home/cms-jovyan/integration-challenge/cms/analysis/nondiff.py\u001b\\\u001b[2mnondiff.py\u001b[0m\u001b]8;;\u001b\\\u001b[2m:\u001b[0m\u001b]8;id=104953;file:///home/cms-jovyan/integration-challenge/cms/analysis/nondiff.py#205\u001b\\\u001b[2m205\u001b[0m\u001b]8;;\u001b\\\n"
      ]
     },
     "metadata": {},
     "output_type": "display_data"
    },
    {
     "data": {
      "text/html": [
       "<pre style=\"white-space:pre;overflow-x:auto;line-height:normal;font-family:Menlo,'DejaVu Sans Mono',consolas,'Courier New',monospace\"><span style=\"color: #7fbfbf; text-decoration-color: #7fbfbf\">         </span><span style=\"color: #000080; text-decoration-color: #000080\">INFO    </span> <span style=\"color: #000000; text-decoration-color: #000000\">Number of raw events in CMS_WORKSHOP: </span><span style=\"color: #008080; text-decoration-color: #008080; font-weight: bold\">2</span><span style=\"color: #000000; text-decoration-color: #000000\">                                            </span><a href=\"file:///home/cms-jovyan/integration-challenge/cms/analysis/nondiff.py\" target=\"_blank\"><span style=\"color: #7f7f7f; text-decoration-color: #7f7f7f\">nondiff.py</span></a><span style=\"color: #7f7f7f; text-decoration-color: #7f7f7f\">:</span><a href=\"file:///home/cms-jovyan/integration-challenge/cms/analysis/nondiff.py#208\" target=\"_blank\"><span style=\"color: #7f7f7f; text-decoration-color: #7f7f7f\">208</span></a>\n",
       "</pre>\n"
      ],
      "text/plain": [
       "\u001b[2;36m        \u001b[0m\u001b[2;36m \u001b[0m\u001b[34mINFO    \u001b[0m \u001b[39mNumber of raw events in CMS_WORKSHOP: \u001b[0m\u001b[1;36m2\u001b[0m\u001b[39m                                           \u001b[0m\u001b[39m \u001b[0m\u001b]8;id=332355;file:///home/cms-jovyan/integration-challenge/cms/analysis/nondiff.py\u001b\\\u001b[2mnondiff.py\u001b[0m\u001b]8;;\u001b\\\u001b[2m:\u001b[0m\u001b]8;id=216674;file:///home/cms-jovyan/integration-challenge/cms/analysis/nondiff.py#208\u001b\\\u001b[2m208\u001b[0m\u001b]8;;\u001b\\\n"
      ]
     },
     "metadata": {},
     "output_type": "display_data"
    },
    {
     "data": {
      "text/html": [
       "<pre style=\"white-space:pre;overflow-x:auto;line-height:normal;font-family:Menlo,'DejaVu Sans Mono',consolas,'Courier New',monospace\"><span style=\"color: #7fbfbf; text-decoration-color: #7fbfbf\">         </span><span style=\"color: #000080; text-decoration-color: #000080\">INFO    </span> <span style=\"color: #000000; text-decoration-color: #000000\">Computing observable workshop_mtt                                                  </span><a href=\"file:///home/cms-jovyan/integration-challenge/cms/analysis/nondiff.py\" target=\"_blank\"><span style=\"color: #7f7f7f; text-decoration-color: #7f7f7f\">nondiff.py</span></a><span style=\"color: #7f7f7f; text-decoration-color: #7f7f7f\">:</span><a href=\"file:///home/cms-jovyan/integration-challenge/cms/analysis/nondiff.py#213\" target=\"_blank\"><span style=\"color: #7f7f7f; text-decoration-color: #7f7f7f\">213</span></a>\n",
       "</pre>\n"
      ],
      "text/plain": [
       "\u001b[2;36m        \u001b[0m\u001b[2;36m \u001b[0m\u001b[34mINFO    \u001b[0m \u001b[39mComputing observable workshop_mtt                                                 \u001b[0m\u001b[39m \u001b[0m\u001b]8;id=381593;file:///home/cms-jovyan/integration-challenge/cms/analysis/nondiff.py\u001b\\\u001b[2mnondiff.py\u001b[0m\u001b]8;;\u001b\\\u001b[2m:\u001b[0m\u001b]8;id=531484;file:///home/cms-jovyan/integration-challenge/cms/analysis/nondiff.py#213\u001b\\\u001b[2m213\u001b[0m\u001b]8;;\u001b\\\n"
      ]
     },
     "metadata": {},
     "output_type": "display_data"
    },
    {
     "name": "stdout",
     "output_type": "stream",
     "text": [
      "📊 Processing dataset: ttbar_semilep__nominal\n",
      "   • Processing 22345 events with metadata: ttbar_semilep\n"
     ]
    },
    {
     "data": {
      "text/html": [
       "<pre style=\"white-space:pre;overflow-x:auto;line-height:normal;font-family:Menlo,'DejaVu Sans Mono',consolas,'Courier New',monospace\"><span style=\"color: #7fbfbf; text-decoration-color: #7fbfbf\">         </span><span style=\"color: #000080; text-decoration-color: #000080\">INFO    </span> <span style=\"color: #000000; text-decoration-color: #000000\">Applying selection for CMS_WORKSHOP in ttbar_semilep with variation nominal        </span><a href=\"file:///home/cms-jovyan/integration-challenge/cms/analysis/nondiff.py\" target=\"_blank\"><span style=\"color: #7f7f7f; text-decoration-color: #7f7f7f\">nondiff.py</span></a><span style=\"color: #7f7f7f; text-decoration-color: #7f7f7f\">:</span><a href=\"file:///home/cms-jovyan/integration-challenge/cms/analysis/nondiff.py#154\" target=\"_blank\"><span style=\"color: #7f7f7f; text-decoration-color: #7f7f7f\">154</span></a>\n",
       "</pre>\n"
      ],
      "text/plain": [
       "\u001b[2;36m        \u001b[0m\u001b[2;36m \u001b[0m\u001b[34mINFO    \u001b[0m \u001b[39mApplying selection for CMS_WORKSHOP in ttbar_semilep with variation nominal       \u001b[0m\u001b[39m \u001b[0m\u001b]8;id=809663;file:///home/cms-jovyan/integration-challenge/cms/analysis/nondiff.py\u001b\\\u001b[2mnondiff.py\u001b[0m\u001b]8;;\u001b\\\u001b[2m:\u001b[0m\u001b]8;id=627254;file:///home/cms-jovyan/integration-challenge/cms/analysis/nondiff.py#154\u001b\\\u001b[2m154\u001b[0m\u001b]8;;\u001b\\\n"
      ]
     },
     "metadata": {},
     "output_type": "display_data"
    },
    {
     "data": {
      "text/html": [
       "<pre style=\"white-space:pre;overflow-x:auto;line-height:normal;font-family:Menlo,'DejaVu Sans Mono',consolas,'Courier New',monospace\"><span style=\"color: #7fbfbf; text-decoration-color: #7fbfbf\">         </span><span style=\"color: #000080; text-decoration-color: #000080\">INFO    </span> <span style=\"color: #000000; text-decoration-color: #000000\">Number of weighted events in CMS_WORKSHOP: </span><span style=\"color: #008080; text-decoration-color: #008080; font-weight: bold\">1795.97</span><span style=\"color: #000000; text-decoration-color: #000000\">                                 </span><a href=\"file:///home/cms-jovyan/integration-challenge/cms/analysis/nondiff.py\" target=\"_blank\"><span style=\"color: #7f7f7f; text-decoration-color: #7f7f7f\">nondiff.py</span></a><span style=\"color: #7f7f7f; text-decoration-color: #7f7f7f\">:</span><a href=\"file:///home/cms-jovyan/integration-challenge/cms/analysis/nondiff.py#205\" target=\"_blank\"><span style=\"color: #7f7f7f; text-decoration-color: #7f7f7f\">205</span></a>\n",
       "</pre>\n"
      ],
      "text/plain": [
       "\u001b[2;36m        \u001b[0m\u001b[2;36m \u001b[0m\u001b[34mINFO    \u001b[0m \u001b[39mNumber of weighted events in CMS_WORKSHOP: \u001b[0m\u001b[1;36m1795.97\u001b[0m\u001b[39m                                \u001b[0m\u001b[39m \u001b[0m\u001b]8;id=424368;file:///home/cms-jovyan/integration-challenge/cms/analysis/nondiff.py\u001b\\\u001b[2mnondiff.py\u001b[0m\u001b]8;;\u001b\\\u001b[2m:\u001b[0m\u001b]8;id=500600;file:///home/cms-jovyan/integration-challenge/cms/analysis/nondiff.py#205\u001b\\\u001b[2m205\u001b[0m\u001b]8;;\u001b\\\n"
      ]
     },
     "metadata": {},
     "output_type": "display_data"
    },
    {
     "data": {
      "text/html": [
       "<pre style=\"white-space:pre;overflow-x:auto;line-height:normal;font-family:Menlo,'DejaVu Sans Mono',consolas,'Courier New',monospace\"><span style=\"color: #7fbfbf; text-decoration-color: #7fbfbf\">         </span><span style=\"color: #000080; text-decoration-color: #000080\">INFO    </span> <span style=\"color: #000000; text-decoration-color: #000000\">Number of raw events in CMS_WORKSHOP: </span><span style=\"color: #008080; text-decoration-color: #008080; font-weight: bold\">101</span><span style=\"color: #000000; text-decoration-color: #000000\">                                          </span><a href=\"file:///home/cms-jovyan/integration-challenge/cms/analysis/nondiff.py\" target=\"_blank\"><span style=\"color: #7f7f7f; text-decoration-color: #7f7f7f\">nondiff.py</span></a><span style=\"color: #7f7f7f; text-decoration-color: #7f7f7f\">:</span><a href=\"file:///home/cms-jovyan/integration-challenge/cms/analysis/nondiff.py#208\" target=\"_blank\"><span style=\"color: #7f7f7f; text-decoration-color: #7f7f7f\">208</span></a>\n",
       "</pre>\n"
      ],
      "text/plain": [
       "\u001b[2;36m        \u001b[0m\u001b[2;36m \u001b[0m\u001b[34mINFO    \u001b[0m \u001b[39mNumber of raw events in CMS_WORKSHOP: \u001b[0m\u001b[1;36m101\u001b[0m\u001b[39m                                         \u001b[0m\u001b[39m \u001b[0m\u001b]8;id=639967;file:///home/cms-jovyan/integration-challenge/cms/analysis/nondiff.py\u001b\\\u001b[2mnondiff.py\u001b[0m\u001b]8;;\u001b\\\u001b[2m:\u001b[0m\u001b]8;id=66509;file:///home/cms-jovyan/integration-challenge/cms/analysis/nondiff.py#208\u001b\\\u001b[2m208\u001b[0m\u001b]8;;\u001b\\\n"
      ]
     },
     "metadata": {},
     "output_type": "display_data"
    },
    {
     "data": {
      "text/html": [
       "<pre style=\"white-space:pre;overflow-x:auto;line-height:normal;font-family:Menlo,'DejaVu Sans Mono',consolas,'Courier New',monospace\"><span style=\"color: #7fbfbf; text-decoration-color: #7fbfbf\">         </span><span style=\"color: #000080; text-decoration-color: #000080\">INFO    </span> <span style=\"color: #000000; text-decoration-color: #000000\">Computing observable workshop_mtt                                                  </span><a href=\"file:///home/cms-jovyan/integration-challenge/cms/analysis/nondiff.py\" target=\"_blank\"><span style=\"color: #7f7f7f; text-decoration-color: #7f7f7f\">nondiff.py</span></a><span style=\"color: #7f7f7f; text-decoration-color: #7f7f7f\">:</span><a href=\"file:///home/cms-jovyan/integration-challenge/cms/analysis/nondiff.py#213\" target=\"_blank\"><span style=\"color: #7f7f7f; text-decoration-color: #7f7f7f\">213</span></a>\n",
       "</pre>\n"
      ],
      "text/plain": [
       "\u001b[2;36m        \u001b[0m\u001b[2;36m \u001b[0m\u001b[34mINFO    \u001b[0m \u001b[39mComputing observable workshop_mtt                                                 \u001b[0m\u001b[39m \u001b[0m\u001b]8;id=29990;file:///home/cms-jovyan/integration-challenge/cms/analysis/nondiff.py\u001b\\\u001b[2mnondiff.py\u001b[0m\u001b]8;;\u001b\\\u001b[2m:\u001b[0m\u001b]8;id=944867;file:///home/cms-jovyan/integration-challenge/cms/analysis/nondiff.py#213\u001b\\\u001b[2m213\u001b[0m\u001b]8;;\u001b\\\n"
      ]
     },
     "metadata": {},
     "output_type": "display_data"
    },
    {
     "data": {
      "text/html": [
       "<pre style=\"white-space:pre;overflow-x:auto;line-height:normal;font-family:Menlo,'DejaVu Sans Mono',consolas,'Courier New',monospace\"><span style=\"color: #7fbfbf; text-decoration-color: #7fbfbf\">         </span><span style=\"color: #000080; text-decoration-color: #000080\">INFO    </span> <span style=\"color: #000000; text-decoration-color: #000000\">Applying selection for CMS_WORKSHOP in ttbar_semilep with variation                </span><a href=\"file:///home/cms-jovyan/integration-challenge/cms/analysis/nondiff.py\" target=\"_blank\"><span style=\"color: #7f7f7f; text-decoration-color: #7f7f7f\">nondiff.py</span></a><span style=\"color: #7f7f7f; text-decoration-color: #7f7f7f\">:</span><a href=\"file:///home/cms-jovyan/integration-challenge/cms/analysis/nondiff.py#154\" target=\"_blank\"><span style=\"color: #7f7f7f; text-decoration-color: #7f7f7f\">154</span></a>\n",
       "<span style=\"color: #7fbfbf; text-decoration-color: #7fbfbf\">         </span>         <span style=\"color: #000000; text-decoration-color: #000000\">jet_pt_resolution_up                                                               </span><span style=\"color: #7f7f7f; text-decoration-color: #7f7f7f\">              </span>\n",
       "</pre>\n"
      ],
      "text/plain": [
       "\u001b[2;36m        \u001b[0m\u001b[2;36m \u001b[0m\u001b[34mINFO    \u001b[0m \u001b[39mApplying selection for CMS_WORKSHOP in ttbar_semilep with variation               \u001b[0m\u001b[39m \u001b[0m\u001b]8;id=759424;file:///home/cms-jovyan/integration-challenge/cms/analysis/nondiff.py\u001b\\\u001b[2mnondiff.py\u001b[0m\u001b]8;;\u001b\\\u001b[2m:\u001b[0m\u001b]8;id=75694;file:///home/cms-jovyan/integration-challenge/cms/analysis/nondiff.py#154\u001b\\\u001b[2m154\u001b[0m\u001b]8;;\u001b\\\n",
       "\u001b[2;36m         \u001b[0m         \u001b[39mjet_pt_resolution_up                                                              \u001b[0m\u001b[39m \u001b[0m\u001b[2m              \u001b[0m\n"
      ]
     },
     "metadata": {},
     "output_type": "display_data"
    },
    {
     "data": {
      "text/html": [
       "<pre style=\"white-space:pre;overflow-x:auto;line-height:normal;font-family:Menlo,'DejaVu Sans Mono',consolas,'Courier New',monospace\"><span style=\"color: #7fbfbf; text-decoration-color: #7fbfbf\">         </span><span style=\"color: #000080; text-decoration-color: #000080\">INFO    </span> <span style=\"color: #000000; text-decoration-color: #000000\">Number of weighted events in CMS_WORKSHOP: </span><span style=\"color: #008080; text-decoration-color: #008080; font-weight: bold\">1795.97</span><span style=\"color: #000000; text-decoration-color: #000000\">                                 </span><a href=\"file:///home/cms-jovyan/integration-challenge/cms/analysis/nondiff.py\" target=\"_blank\"><span style=\"color: #7f7f7f; text-decoration-color: #7f7f7f\">nondiff.py</span></a><span style=\"color: #7f7f7f; text-decoration-color: #7f7f7f\">:</span><a href=\"file:///home/cms-jovyan/integration-challenge/cms/analysis/nondiff.py#205\" target=\"_blank\"><span style=\"color: #7f7f7f; text-decoration-color: #7f7f7f\">205</span></a>\n",
       "</pre>\n"
      ],
      "text/plain": [
       "\u001b[2;36m        \u001b[0m\u001b[2;36m \u001b[0m\u001b[34mINFO    \u001b[0m \u001b[39mNumber of weighted events in CMS_WORKSHOP: \u001b[0m\u001b[1;36m1795.97\u001b[0m\u001b[39m                                \u001b[0m\u001b[39m \u001b[0m\u001b]8;id=863319;file:///home/cms-jovyan/integration-challenge/cms/analysis/nondiff.py\u001b\\\u001b[2mnondiff.py\u001b[0m\u001b]8;;\u001b\\\u001b[2m:\u001b[0m\u001b]8;id=495560;file:///home/cms-jovyan/integration-challenge/cms/analysis/nondiff.py#205\u001b\\\u001b[2m205\u001b[0m\u001b]8;;\u001b\\\n"
      ]
     },
     "metadata": {},
     "output_type": "display_data"
    },
    {
     "data": {
      "text/html": [
       "<pre style=\"white-space:pre;overflow-x:auto;line-height:normal;font-family:Menlo,'DejaVu Sans Mono',consolas,'Courier New',monospace\"><span style=\"color: #7fbfbf; text-decoration-color: #7fbfbf\">         </span><span style=\"color: #000080; text-decoration-color: #000080\">INFO    </span> <span style=\"color: #000000; text-decoration-color: #000000\">Number of raw events in CMS_WORKSHOP: </span><span style=\"color: #008080; text-decoration-color: #008080; font-weight: bold\">101</span><span style=\"color: #000000; text-decoration-color: #000000\">                                          </span><a href=\"file:///home/cms-jovyan/integration-challenge/cms/analysis/nondiff.py\" target=\"_blank\"><span style=\"color: #7f7f7f; text-decoration-color: #7f7f7f\">nondiff.py</span></a><span style=\"color: #7f7f7f; text-decoration-color: #7f7f7f\">:</span><a href=\"file:///home/cms-jovyan/integration-challenge/cms/analysis/nondiff.py#208\" target=\"_blank\"><span style=\"color: #7f7f7f; text-decoration-color: #7f7f7f\">208</span></a>\n",
       "</pre>\n"
      ],
      "text/plain": [
       "\u001b[2;36m        \u001b[0m\u001b[2;36m \u001b[0m\u001b[34mINFO    \u001b[0m \u001b[39mNumber of raw events in CMS_WORKSHOP: \u001b[0m\u001b[1;36m101\u001b[0m\u001b[39m                                         \u001b[0m\u001b[39m \u001b[0m\u001b]8;id=282631;file:///home/cms-jovyan/integration-challenge/cms/analysis/nondiff.py\u001b\\\u001b[2mnondiff.py\u001b[0m\u001b]8;;\u001b\\\u001b[2m:\u001b[0m\u001b]8;id=233941;file:///home/cms-jovyan/integration-challenge/cms/analysis/nondiff.py#208\u001b\\\u001b[2m208\u001b[0m\u001b]8;;\u001b\\\n"
      ]
     },
     "metadata": {},
     "output_type": "display_data"
    },
    {
     "data": {
      "text/html": [
       "<pre style=\"white-space:pre;overflow-x:auto;line-height:normal;font-family:Menlo,'DejaVu Sans Mono',consolas,'Courier New',monospace\"><span style=\"color: #7fbfbf; text-decoration-color: #7fbfbf\">         </span><span style=\"color: #000080; text-decoration-color: #000080\">INFO    </span> <span style=\"color: #000000; text-decoration-color: #000000\">Computing observable workshop_mtt                                                  </span><a href=\"file:///home/cms-jovyan/integration-challenge/cms/analysis/nondiff.py\" target=\"_blank\"><span style=\"color: #7f7f7f; text-decoration-color: #7f7f7f\">nondiff.py</span></a><span style=\"color: #7f7f7f; text-decoration-color: #7f7f7f\">:</span><a href=\"file:///home/cms-jovyan/integration-challenge/cms/analysis/nondiff.py#213\" target=\"_blank\"><span style=\"color: #7f7f7f; text-decoration-color: #7f7f7f\">213</span></a>\n",
       "</pre>\n"
      ],
      "text/plain": [
       "\u001b[2;36m        \u001b[0m\u001b[2;36m \u001b[0m\u001b[34mINFO    \u001b[0m \u001b[39mComputing observable workshop_mtt                                                 \u001b[0m\u001b[39m \u001b[0m\u001b]8;id=761038;file:///home/cms-jovyan/integration-challenge/cms/analysis/nondiff.py\u001b\\\u001b[2mnondiff.py\u001b[0m\u001b]8;;\u001b\\\u001b[2m:\u001b[0m\u001b]8;id=40092;file:///home/cms-jovyan/integration-challenge/cms/analysis/nondiff.py#213\u001b\\\u001b[2m213\u001b[0m\u001b]8;;\u001b\\\n"
      ]
     },
     "metadata": {},
     "output_type": "display_data"
    },
    {
     "data": {
      "text/html": [
       "<pre style=\"white-space:pre;overflow-x:auto;line-height:normal;font-family:Menlo,'DejaVu Sans Mono',consolas,'Courier New',monospace\"><span style=\"color: #7fbfbf; text-decoration-color: #7fbfbf\">         </span><span style=\"color: #000080; text-decoration-color: #000080\">INFO    </span> <span style=\"color: #000000; text-decoration-color: #000000\">Applying selection for CMS_WORKSHOP in ttbar_semilep with variation                </span><a href=\"file:///home/cms-jovyan/integration-challenge/cms/analysis/nondiff.py\" target=\"_blank\"><span style=\"color: #7f7f7f; text-decoration-color: #7f7f7f\">nondiff.py</span></a><span style=\"color: #7f7f7f; text-decoration-color: #7f7f7f\">:</span><a href=\"file:///home/cms-jovyan/integration-challenge/cms/analysis/nondiff.py#154\" target=\"_blank\"><span style=\"color: #7f7f7f; text-decoration-color: #7f7f7f\">154</span></a>\n",
       "<span style=\"color: #7fbfbf; text-decoration-color: #7fbfbf\">         </span>         <span style=\"color: #000000; text-decoration-color: #000000\">jet_pt_resolution_down                                                             </span><span style=\"color: #7f7f7f; text-decoration-color: #7f7f7f\">              </span>\n",
       "</pre>\n"
      ],
      "text/plain": [
       "\u001b[2;36m        \u001b[0m\u001b[2;36m \u001b[0m\u001b[34mINFO    \u001b[0m \u001b[39mApplying selection for CMS_WORKSHOP in ttbar_semilep with variation               \u001b[0m\u001b[39m \u001b[0m\u001b]8;id=538757;file:///home/cms-jovyan/integration-challenge/cms/analysis/nondiff.py\u001b\\\u001b[2mnondiff.py\u001b[0m\u001b]8;;\u001b\\\u001b[2m:\u001b[0m\u001b]8;id=983225;file:///home/cms-jovyan/integration-challenge/cms/analysis/nondiff.py#154\u001b\\\u001b[2m154\u001b[0m\u001b]8;;\u001b\\\n",
       "\u001b[2;36m         \u001b[0m         \u001b[39mjet_pt_resolution_down                                                            \u001b[0m\u001b[39m \u001b[0m\u001b[2m              \u001b[0m\n"
      ]
     },
     "metadata": {},
     "output_type": "display_data"
    },
    {
     "data": {
      "text/html": [
       "<pre style=\"white-space:pre;overflow-x:auto;line-height:normal;font-family:Menlo,'DejaVu Sans Mono',consolas,'Courier New',monospace\"><span style=\"color: #7fbfbf; text-decoration-color: #7fbfbf\">         </span><span style=\"color: #000080; text-decoration-color: #000080\">INFO    </span> <span style=\"color: #000000; text-decoration-color: #000000\">Number of weighted events in CMS_WORKSHOP: </span><span style=\"color: #008080; text-decoration-color: #008080; font-weight: bold\">1795.97</span><span style=\"color: #000000; text-decoration-color: #000000\">                                 </span><a href=\"file:///home/cms-jovyan/integration-challenge/cms/analysis/nondiff.py\" target=\"_blank\"><span style=\"color: #7f7f7f; text-decoration-color: #7f7f7f\">nondiff.py</span></a><span style=\"color: #7f7f7f; text-decoration-color: #7f7f7f\">:</span><a href=\"file:///home/cms-jovyan/integration-challenge/cms/analysis/nondiff.py#205\" target=\"_blank\"><span style=\"color: #7f7f7f; text-decoration-color: #7f7f7f\">205</span></a>\n",
       "</pre>\n"
      ],
      "text/plain": [
       "\u001b[2;36m        \u001b[0m\u001b[2;36m \u001b[0m\u001b[34mINFO    \u001b[0m \u001b[39mNumber of weighted events in CMS_WORKSHOP: \u001b[0m\u001b[1;36m1795.97\u001b[0m\u001b[39m                                \u001b[0m\u001b[39m \u001b[0m\u001b]8;id=257582;file:///home/cms-jovyan/integration-challenge/cms/analysis/nondiff.py\u001b\\\u001b[2mnondiff.py\u001b[0m\u001b]8;;\u001b\\\u001b[2m:\u001b[0m\u001b]8;id=199838;file:///home/cms-jovyan/integration-challenge/cms/analysis/nondiff.py#205\u001b\\\u001b[2m205\u001b[0m\u001b]8;;\u001b\\\n"
      ]
     },
     "metadata": {},
     "output_type": "display_data"
    },
    {
     "data": {
      "text/html": [
       "<pre style=\"white-space:pre;overflow-x:auto;line-height:normal;font-family:Menlo,'DejaVu Sans Mono',consolas,'Courier New',monospace\"><span style=\"color: #7fbfbf; text-decoration-color: #7fbfbf\">         </span><span style=\"color: #000080; text-decoration-color: #000080\">INFO    </span> <span style=\"color: #000000; text-decoration-color: #000000\">Number of raw events in CMS_WORKSHOP: </span><span style=\"color: #008080; text-decoration-color: #008080; font-weight: bold\">101</span><span style=\"color: #000000; text-decoration-color: #000000\">                                          </span><a href=\"file:///home/cms-jovyan/integration-challenge/cms/analysis/nondiff.py\" target=\"_blank\"><span style=\"color: #7f7f7f; text-decoration-color: #7f7f7f\">nondiff.py</span></a><span style=\"color: #7f7f7f; text-decoration-color: #7f7f7f\">:</span><a href=\"file:///home/cms-jovyan/integration-challenge/cms/analysis/nondiff.py#208\" target=\"_blank\"><span style=\"color: #7f7f7f; text-decoration-color: #7f7f7f\">208</span></a>\n",
       "</pre>\n"
      ],
      "text/plain": [
       "\u001b[2;36m        \u001b[0m\u001b[2;36m \u001b[0m\u001b[34mINFO    \u001b[0m \u001b[39mNumber of raw events in CMS_WORKSHOP: \u001b[0m\u001b[1;36m101\u001b[0m\u001b[39m                                         \u001b[0m\u001b[39m \u001b[0m\u001b]8;id=510496;file:///home/cms-jovyan/integration-challenge/cms/analysis/nondiff.py\u001b\\\u001b[2mnondiff.py\u001b[0m\u001b]8;;\u001b\\\u001b[2m:\u001b[0m\u001b]8;id=783572;file:///home/cms-jovyan/integration-challenge/cms/analysis/nondiff.py#208\u001b\\\u001b[2m208\u001b[0m\u001b]8;;\u001b\\\n"
      ]
     },
     "metadata": {},
     "output_type": "display_data"
    },
    {
     "data": {
      "text/html": [
       "<pre style=\"white-space:pre;overflow-x:auto;line-height:normal;font-family:Menlo,'DejaVu Sans Mono',consolas,'Courier New',monospace\"><span style=\"color: #7fbfbf; text-decoration-color: #7fbfbf\">         </span><span style=\"color: #000080; text-decoration-color: #000080\">INFO    </span> <span style=\"color: #000000; text-decoration-color: #000000\">Computing observable workshop_mtt                                                  </span><a href=\"file:///home/cms-jovyan/integration-challenge/cms/analysis/nondiff.py\" target=\"_blank\"><span style=\"color: #7f7f7f; text-decoration-color: #7f7f7f\">nondiff.py</span></a><span style=\"color: #7f7f7f; text-decoration-color: #7f7f7f\">:</span><a href=\"file:///home/cms-jovyan/integration-challenge/cms/analysis/nondiff.py#213\" target=\"_blank\"><span style=\"color: #7f7f7f; text-decoration-color: #7f7f7f\">213</span></a>\n",
       "</pre>\n"
      ],
      "text/plain": [
       "\u001b[2;36m        \u001b[0m\u001b[2;36m \u001b[0m\u001b[34mINFO    \u001b[0m \u001b[39mComputing observable workshop_mtt                                                 \u001b[0m\u001b[39m \u001b[0m\u001b]8;id=271741;file:///home/cms-jovyan/integration-challenge/cms/analysis/nondiff.py\u001b\\\u001b[2mnondiff.py\u001b[0m\u001b]8;;\u001b\\\u001b[2m:\u001b[0m\u001b]8;id=276679;file:///home/cms-jovyan/integration-challenge/cms/analysis/nondiff.py#213\u001b\\\u001b[2m213\u001b[0m\u001b]8;;\u001b\\\n"
      ]
     },
     "metadata": {},
     "output_type": "display_data"
    },
    {
     "data": {
      "text/html": [
       "<pre style=\"white-space:pre;overflow-x:auto;line-height:normal;font-family:Menlo,'DejaVu Sans Mono',consolas,'Courier New',monospace\"><span style=\"color: #7fbfbf; text-decoration-color: #7fbfbf\">         </span><span style=\"color: #000080; text-decoration-color: #000080\">INFO    </span> <span style=\"color: #000000; text-decoration-color: #000000\">Applying selection for CMS_WORKSHOP in ttbar_semilep with variation                </span><a href=\"file:///home/cms-jovyan/integration-challenge/cms/analysis/nondiff.py\" target=\"_blank\"><span style=\"color: #7f7f7f; text-decoration-color: #7f7f7f\">nondiff.py</span></a><span style=\"color: #7f7f7f; text-decoration-color: #7f7f7f\">:</span><a href=\"file:///home/cms-jovyan/integration-challenge/cms/analysis/nondiff.py#154\" target=\"_blank\"><span style=\"color: #7f7f7f; text-decoration-color: #7f7f7f\">154</span></a>\n",
       "<span style=\"color: #7fbfbf; text-decoration-color: #7fbfbf\">         </span>         <span style=\"color: #000000; text-decoration-color: #000000\">jet_pt_scale_up                                                                    </span><span style=\"color: #7f7f7f; text-decoration-color: #7f7f7f\">              </span>\n",
       "</pre>\n"
      ],
      "text/plain": [
       "\u001b[2;36m        \u001b[0m\u001b[2;36m \u001b[0m\u001b[34mINFO    \u001b[0m \u001b[39mApplying selection for CMS_WORKSHOP in ttbar_semilep with variation               \u001b[0m\u001b[39m \u001b[0m\u001b]8;id=21184;file:///home/cms-jovyan/integration-challenge/cms/analysis/nondiff.py\u001b\\\u001b[2mnondiff.py\u001b[0m\u001b]8;;\u001b\\\u001b[2m:\u001b[0m\u001b]8;id=412482;file:///home/cms-jovyan/integration-challenge/cms/analysis/nondiff.py#154\u001b\\\u001b[2m154\u001b[0m\u001b]8;;\u001b\\\n",
       "\u001b[2;36m         \u001b[0m         \u001b[39mjet_pt_scale_up                                                                   \u001b[0m\u001b[39m \u001b[0m\u001b[2m              \u001b[0m\n"
      ]
     },
     "metadata": {},
     "output_type": "display_data"
    },
    {
     "data": {
      "text/html": [
       "<pre style=\"white-space:pre;overflow-x:auto;line-height:normal;font-family:Menlo,'DejaVu Sans Mono',consolas,'Courier New',monospace\"><span style=\"color: #7fbfbf; text-decoration-color: #7fbfbf\">         </span><span style=\"color: #000080; text-decoration-color: #000080\">INFO    </span> <span style=\"color: #000000; text-decoration-color: #000000\">Number of weighted events in CMS_WORKSHOP: </span><span style=\"color: #008080; text-decoration-color: #008080; font-weight: bold\">1795.97</span><span style=\"color: #000000; text-decoration-color: #000000\">                                 </span><a href=\"file:///home/cms-jovyan/integration-challenge/cms/analysis/nondiff.py\" target=\"_blank\"><span style=\"color: #7f7f7f; text-decoration-color: #7f7f7f\">nondiff.py</span></a><span style=\"color: #7f7f7f; text-decoration-color: #7f7f7f\">:</span><a href=\"file:///home/cms-jovyan/integration-challenge/cms/analysis/nondiff.py#205\" target=\"_blank\"><span style=\"color: #7f7f7f; text-decoration-color: #7f7f7f\">205</span></a>\n",
       "</pre>\n"
      ],
      "text/plain": [
       "\u001b[2;36m        \u001b[0m\u001b[2;36m \u001b[0m\u001b[34mINFO    \u001b[0m \u001b[39mNumber of weighted events in CMS_WORKSHOP: \u001b[0m\u001b[1;36m1795.97\u001b[0m\u001b[39m                                \u001b[0m\u001b[39m \u001b[0m\u001b]8;id=103597;file:///home/cms-jovyan/integration-challenge/cms/analysis/nondiff.py\u001b\\\u001b[2mnondiff.py\u001b[0m\u001b]8;;\u001b\\\u001b[2m:\u001b[0m\u001b]8;id=622050;file:///home/cms-jovyan/integration-challenge/cms/analysis/nondiff.py#205\u001b\\\u001b[2m205\u001b[0m\u001b]8;;\u001b\\\n"
      ]
     },
     "metadata": {},
     "output_type": "display_data"
    },
    {
     "data": {
      "text/html": [
       "<pre style=\"white-space:pre;overflow-x:auto;line-height:normal;font-family:Menlo,'DejaVu Sans Mono',consolas,'Courier New',monospace\"><span style=\"color: #7fbfbf; text-decoration-color: #7fbfbf\">         </span><span style=\"color: #000080; text-decoration-color: #000080\">INFO    </span> <span style=\"color: #000000; text-decoration-color: #000000\">Number of raw events in CMS_WORKSHOP: </span><span style=\"color: #008080; text-decoration-color: #008080; font-weight: bold\">101</span><span style=\"color: #000000; text-decoration-color: #000000\">                                          </span><a href=\"file:///home/cms-jovyan/integration-challenge/cms/analysis/nondiff.py\" target=\"_blank\"><span style=\"color: #7f7f7f; text-decoration-color: #7f7f7f\">nondiff.py</span></a><span style=\"color: #7f7f7f; text-decoration-color: #7f7f7f\">:</span><a href=\"file:///home/cms-jovyan/integration-challenge/cms/analysis/nondiff.py#208\" target=\"_blank\"><span style=\"color: #7f7f7f; text-decoration-color: #7f7f7f\">208</span></a>\n",
       "</pre>\n"
      ],
      "text/plain": [
       "\u001b[2;36m        \u001b[0m\u001b[2;36m \u001b[0m\u001b[34mINFO    \u001b[0m \u001b[39mNumber of raw events in CMS_WORKSHOP: \u001b[0m\u001b[1;36m101\u001b[0m\u001b[39m                                         \u001b[0m\u001b[39m \u001b[0m\u001b]8;id=610082;file:///home/cms-jovyan/integration-challenge/cms/analysis/nondiff.py\u001b\\\u001b[2mnondiff.py\u001b[0m\u001b]8;;\u001b\\\u001b[2m:\u001b[0m\u001b]8;id=83956;file:///home/cms-jovyan/integration-challenge/cms/analysis/nondiff.py#208\u001b\\\u001b[2m208\u001b[0m\u001b]8;;\u001b\\\n"
      ]
     },
     "metadata": {},
     "output_type": "display_data"
    },
    {
     "data": {
      "text/html": [
       "<pre style=\"white-space:pre;overflow-x:auto;line-height:normal;font-family:Menlo,'DejaVu Sans Mono',consolas,'Courier New',monospace\"><span style=\"color: #7fbfbf; text-decoration-color: #7fbfbf\">         </span><span style=\"color: #000080; text-decoration-color: #000080\">INFO    </span> <span style=\"color: #000000; text-decoration-color: #000000\">Computing observable workshop_mtt                                                  </span><a href=\"file:///home/cms-jovyan/integration-challenge/cms/analysis/nondiff.py\" target=\"_blank\"><span style=\"color: #7f7f7f; text-decoration-color: #7f7f7f\">nondiff.py</span></a><span style=\"color: #7f7f7f; text-decoration-color: #7f7f7f\">:</span><a href=\"file:///home/cms-jovyan/integration-challenge/cms/analysis/nondiff.py#213\" target=\"_blank\"><span style=\"color: #7f7f7f; text-decoration-color: #7f7f7f\">213</span></a>\n",
       "</pre>\n"
      ],
      "text/plain": [
       "\u001b[2;36m        \u001b[0m\u001b[2;36m \u001b[0m\u001b[34mINFO    \u001b[0m \u001b[39mComputing observable workshop_mtt                                                 \u001b[0m\u001b[39m \u001b[0m\u001b]8;id=252021;file:///home/cms-jovyan/integration-challenge/cms/analysis/nondiff.py\u001b\\\u001b[2mnondiff.py\u001b[0m\u001b]8;;\u001b\\\u001b[2m:\u001b[0m\u001b]8;id=266179;file:///home/cms-jovyan/integration-challenge/cms/analysis/nondiff.py#213\u001b\\\u001b[2m213\u001b[0m\u001b]8;;\u001b\\\n"
      ]
     },
     "metadata": {},
     "output_type": "display_data"
    },
    {
     "data": {
      "text/html": [
       "<pre style=\"white-space:pre;overflow-x:auto;line-height:normal;font-family:Menlo,'DejaVu Sans Mono',consolas,'Courier New',monospace\"><span style=\"color: #7fbfbf; text-decoration-color: #7fbfbf\">         </span><span style=\"color: #000080; text-decoration-color: #000080\">INFO    </span> <span style=\"color: #000000; text-decoration-color: #000000\">Applying selection for CMS_WORKSHOP in ttbar_semilep with variation                </span><a href=\"file:///home/cms-jovyan/integration-challenge/cms/analysis/nondiff.py\" target=\"_blank\"><span style=\"color: #7f7f7f; text-decoration-color: #7f7f7f\">nondiff.py</span></a><span style=\"color: #7f7f7f; text-decoration-color: #7f7f7f\">:</span><a href=\"file:///home/cms-jovyan/integration-challenge/cms/analysis/nondiff.py#154\" target=\"_blank\"><span style=\"color: #7f7f7f; text-decoration-color: #7f7f7f\">154</span></a>\n",
       "<span style=\"color: #7fbfbf; text-decoration-color: #7fbfbf\">         </span>         <span style=\"color: #000000; text-decoration-color: #000000\">jet_pt_scale_down                                                                  </span><span style=\"color: #7f7f7f; text-decoration-color: #7f7f7f\">              </span>\n",
       "</pre>\n"
      ],
      "text/plain": [
       "\u001b[2;36m        \u001b[0m\u001b[2;36m \u001b[0m\u001b[34mINFO    \u001b[0m \u001b[39mApplying selection for CMS_WORKSHOP in ttbar_semilep with variation               \u001b[0m\u001b[39m \u001b[0m\u001b]8;id=251205;file:///home/cms-jovyan/integration-challenge/cms/analysis/nondiff.py\u001b\\\u001b[2mnondiff.py\u001b[0m\u001b]8;;\u001b\\\u001b[2m:\u001b[0m\u001b]8;id=112581;file:///home/cms-jovyan/integration-challenge/cms/analysis/nondiff.py#154\u001b\\\u001b[2m154\u001b[0m\u001b]8;;\u001b\\\n",
       "\u001b[2;36m         \u001b[0m         \u001b[39mjet_pt_scale_down                                                                 \u001b[0m\u001b[39m \u001b[0m\u001b[2m              \u001b[0m\n"
      ]
     },
     "metadata": {},
     "output_type": "display_data"
    },
    {
     "data": {
      "text/html": [
       "<pre style=\"white-space:pre;overflow-x:auto;line-height:normal;font-family:Menlo,'DejaVu Sans Mono',consolas,'Courier New',monospace\"><span style=\"color: #7fbfbf; text-decoration-color: #7fbfbf\">         </span><span style=\"color: #000080; text-decoration-color: #000080\">INFO    </span> <span style=\"color: #000000; text-decoration-color: #000000\">Number of weighted events in CMS_WORKSHOP: </span><span style=\"color: #008080; text-decoration-color: #008080; font-weight: bold\">1795.97</span><span style=\"color: #000000; text-decoration-color: #000000\">                                 </span><a href=\"file:///home/cms-jovyan/integration-challenge/cms/analysis/nondiff.py\" target=\"_blank\"><span style=\"color: #7f7f7f; text-decoration-color: #7f7f7f\">nondiff.py</span></a><span style=\"color: #7f7f7f; text-decoration-color: #7f7f7f\">:</span><a href=\"file:///home/cms-jovyan/integration-challenge/cms/analysis/nondiff.py#205\" target=\"_blank\"><span style=\"color: #7f7f7f; text-decoration-color: #7f7f7f\">205</span></a>\n",
       "</pre>\n"
      ],
      "text/plain": [
       "\u001b[2;36m        \u001b[0m\u001b[2;36m \u001b[0m\u001b[34mINFO    \u001b[0m \u001b[39mNumber of weighted events in CMS_WORKSHOP: \u001b[0m\u001b[1;36m1795.97\u001b[0m\u001b[39m                                \u001b[0m\u001b[39m \u001b[0m\u001b]8;id=158454;file:///home/cms-jovyan/integration-challenge/cms/analysis/nondiff.py\u001b\\\u001b[2mnondiff.py\u001b[0m\u001b]8;;\u001b\\\u001b[2m:\u001b[0m\u001b]8;id=200550;file:///home/cms-jovyan/integration-challenge/cms/analysis/nondiff.py#205\u001b\\\u001b[2m205\u001b[0m\u001b]8;;\u001b\\\n"
      ]
     },
     "metadata": {},
     "output_type": "display_data"
    },
    {
     "data": {
      "text/html": [
       "<pre style=\"white-space:pre;overflow-x:auto;line-height:normal;font-family:Menlo,'DejaVu Sans Mono',consolas,'Courier New',monospace\"><span style=\"color: #7fbfbf; text-decoration-color: #7fbfbf\">         </span><span style=\"color: #000080; text-decoration-color: #000080\">INFO    </span> <span style=\"color: #000000; text-decoration-color: #000000\">Number of raw events in CMS_WORKSHOP: </span><span style=\"color: #008080; text-decoration-color: #008080; font-weight: bold\">101</span><span style=\"color: #000000; text-decoration-color: #000000\">                                          </span><a href=\"file:///home/cms-jovyan/integration-challenge/cms/analysis/nondiff.py\" target=\"_blank\"><span style=\"color: #7f7f7f; text-decoration-color: #7f7f7f\">nondiff.py</span></a><span style=\"color: #7f7f7f; text-decoration-color: #7f7f7f\">:</span><a href=\"file:///home/cms-jovyan/integration-challenge/cms/analysis/nondiff.py#208\" target=\"_blank\"><span style=\"color: #7f7f7f; text-decoration-color: #7f7f7f\">208</span></a>\n",
       "</pre>\n"
      ],
      "text/plain": [
       "\u001b[2;36m        \u001b[0m\u001b[2;36m \u001b[0m\u001b[34mINFO    \u001b[0m \u001b[39mNumber of raw events in CMS_WORKSHOP: \u001b[0m\u001b[1;36m101\u001b[0m\u001b[39m                                         \u001b[0m\u001b[39m \u001b[0m\u001b]8;id=938794;file:///home/cms-jovyan/integration-challenge/cms/analysis/nondiff.py\u001b\\\u001b[2mnondiff.py\u001b[0m\u001b]8;;\u001b\\\u001b[2m:\u001b[0m\u001b]8;id=374403;file:///home/cms-jovyan/integration-challenge/cms/analysis/nondiff.py#208\u001b\\\u001b[2m208\u001b[0m\u001b]8;;\u001b\\\n"
      ]
     },
     "metadata": {},
     "output_type": "display_data"
    },
    {
     "data": {
      "text/html": [
       "<pre style=\"white-space:pre;overflow-x:auto;line-height:normal;font-family:Menlo,'DejaVu Sans Mono',consolas,'Courier New',monospace\"><span style=\"color: #7fbfbf; text-decoration-color: #7fbfbf\">         </span><span style=\"color: #000080; text-decoration-color: #000080\">INFO    </span> <span style=\"color: #000000; text-decoration-color: #000000\">Computing observable workshop_mtt                                                  </span><a href=\"file:///home/cms-jovyan/integration-challenge/cms/analysis/nondiff.py\" target=\"_blank\"><span style=\"color: #7f7f7f; text-decoration-color: #7f7f7f\">nondiff.py</span></a><span style=\"color: #7f7f7f; text-decoration-color: #7f7f7f\">:</span><a href=\"file:///home/cms-jovyan/integration-challenge/cms/analysis/nondiff.py#213\" target=\"_blank\"><span style=\"color: #7f7f7f; text-decoration-color: #7f7f7f\">213</span></a>\n",
       "</pre>\n"
      ],
      "text/plain": [
       "\u001b[2;36m        \u001b[0m\u001b[2;36m \u001b[0m\u001b[34mINFO    \u001b[0m \u001b[39mComputing observable workshop_mtt                                                 \u001b[0m\u001b[39m \u001b[0m\u001b]8;id=107476;file:///home/cms-jovyan/integration-challenge/cms/analysis/nondiff.py\u001b\\\u001b[2mnondiff.py\u001b[0m\u001b]8;;\u001b\\\u001b[2m:\u001b[0m\u001b]8;id=860691;file:///home/cms-jovyan/integration-challenge/cms/analysis/nondiff.py#213\u001b\\\u001b[2m213\u001b[0m\u001b]8;;\u001b\\\n"
      ]
     },
     "metadata": {},
     "output_type": "display_data"
    },
    {
     "data": {
      "text/html": [
       "<pre style=\"white-space:pre;overflow-x:auto;line-height:normal;font-family:Menlo,'DejaVu Sans Mono',consolas,'Courier New',monospace\"><span style=\"color: #7fbfbf; text-decoration-color: #7fbfbf\">         </span><span style=\"color: #000080; text-decoration-color: #000080\">INFO    </span> <span style=\"color: #000000; text-decoration-color: #000000\">Applying selection for CMS_WORKSHOP in ttbar_semilep with variation pu_weight_up   </span><a href=\"file:///home/cms-jovyan/integration-challenge/cms/analysis/nondiff.py\" target=\"_blank\"><span style=\"color: #7f7f7f; text-decoration-color: #7f7f7f\">nondiff.py</span></a><span style=\"color: #7f7f7f; text-decoration-color: #7f7f7f\">:</span><a href=\"file:///home/cms-jovyan/integration-challenge/cms/analysis/nondiff.py#154\" target=\"_blank\"><span style=\"color: #7f7f7f; text-decoration-color: #7f7f7f\">154</span></a>\n",
       "</pre>\n"
      ],
      "text/plain": [
       "\u001b[2;36m        \u001b[0m\u001b[2;36m \u001b[0m\u001b[34mINFO    \u001b[0m \u001b[39mApplying selection for CMS_WORKSHOP in ttbar_semilep with variation pu_weight_up  \u001b[0m\u001b[39m \u001b[0m\u001b]8;id=172867;file:///home/cms-jovyan/integration-challenge/cms/analysis/nondiff.py\u001b\\\u001b[2mnondiff.py\u001b[0m\u001b]8;;\u001b\\\u001b[2m:\u001b[0m\u001b]8;id=437076;file:///home/cms-jovyan/integration-challenge/cms/analysis/nondiff.py#154\u001b\\\u001b[2m154\u001b[0m\u001b]8;;\u001b\\\n"
      ]
     },
     "metadata": {},
     "output_type": "display_data"
    },
    {
     "data": {
      "text/html": [
       "<pre style=\"white-space:pre;overflow-x:auto;line-height:normal;font-family:Menlo,'DejaVu Sans Mono',consolas,'Courier New',monospace\"><span style=\"color: #7fbfbf; text-decoration-color: #7fbfbf\">         </span><span style=\"color: #000080; text-decoration-color: #000080\">INFO    </span> <span style=\"color: #000000; text-decoration-color: #000000\">Applying correction: pu_weight/Collisions16_UltraLegacy_goldenJSON </span><span style=\"color: #000000; text-decoration-color: #000000; font-weight: bold\">(</span><span style=\"color: #000000; text-decoration-color: #000000\">up</span><span style=\"color: #000000; text-decoration-color: #000000; font-weight: bold\">)</span><span style=\"color: #000000; text-decoration-color: #000000\">               </span><a href=\"file:///home/cms-jovyan/integration-challenge/cms/analysis/base.py\" target=\"_blank\"><span style=\"color: #7f7f7f; text-decoration-color: #7f7f7f\">base.py</span></a><span style=\"color: #7f7f7f; text-decoration-color: #7f7f7f\">:</span><a href=\"file:///home/cms-jovyan/integration-challenge/cms/analysis/base.py#247\" target=\"_blank\"><span style=\"color: #7f7f7f; text-decoration-color: #7f7f7f\">247</span></a>\n",
       "</pre>\n"
      ],
      "text/plain": [
       "\u001b[2;36m        \u001b[0m\u001b[2;36m \u001b[0m\u001b[34mINFO    \u001b[0m \u001b[39mApplying correction: pu_weight/Collisions16_UltraLegacy_goldenJSON \u001b[0m\u001b[1;39m(\u001b[0m\u001b[39mup\u001b[0m\u001b[1;39m)\u001b[0m\u001b[39m              \u001b[0m\u001b[39m \u001b[0m\u001b]8;id=41481;file:///home/cms-jovyan/integration-challenge/cms/analysis/base.py\u001b\\\u001b[2mbase.py\u001b[0m\u001b]8;;\u001b\\\u001b[2m:\u001b[0m\u001b]8;id=679199;file:///home/cms-jovyan/integration-challenge/cms/analysis/base.py#247\u001b\\\u001b[2m247\u001b[0m\u001b]8;;\u001b\\\n"
      ]
     },
     "metadata": {},
     "output_type": "display_data"
    },
    {
     "data": {
      "text/html": [
       "<pre style=\"white-space:pre;overflow-x:auto;line-height:normal;font-family:Menlo,'DejaVu Sans Mono',consolas,'Courier New',monospace\"><span style=\"color: #7fbfbf; text-decoration-color: #7fbfbf\">         </span><span style=\"color: #000080; text-decoration-color: #000080\">INFO    </span> <span style=\"color: #000000; text-decoration-color: #000000\">Number of weighted events in CMS_WORKSHOP: </span><span style=\"color: #008080; text-decoration-color: #008080; font-weight: bold\">93.18</span><span style=\"color: #000000; text-decoration-color: #000000\">                                   </span><a href=\"file:///home/cms-jovyan/integration-challenge/cms/analysis/nondiff.py\" target=\"_blank\"><span style=\"color: #7f7f7f; text-decoration-color: #7f7f7f\">nondiff.py</span></a><span style=\"color: #7f7f7f; text-decoration-color: #7f7f7f\">:</span><a href=\"file:///home/cms-jovyan/integration-challenge/cms/analysis/nondiff.py#205\" target=\"_blank\"><span style=\"color: #7f7f7f; text-decoration-color: #7f7f7f\">205</span></a>\n",
       "</pre>\n"
      ],
      "text/plain": [
       "\u001b[2;36m        \u001b[0m\u001b[2;36m \u001b[0m\u001b[34mINFO    \u001b[0m \u001b[39mNumber of weighted events in CMS_WORKSHOP: \u001b[0m\u001b[1;36m93.18\u001b[0m\u001b[39m                                  \u001b[0m\u001b[39m \u001b[0m\u001b]8;id=772339;file:///home/cms-jovyan/integration-challenge/cms/analysis/nondiff.py\u001b\\\u001b[2mnondiff.py\u001b[0m\u001b]8;;\u001b\\\u001b[2m:\u001b[0m\u001b]8;id=244265;file:///home/cms-jovyan/integration-challenge/cms/analysis/nondiff.py#205\u001b\\\u001b[2m205\u001b[0m\u001b]8;;\u001b\\\n"
      ]
     },
     "metadata": {},
     "output_type": "display_data"
    },
    {
     "data": {
      "text/html": [
       "<pre style=\"white-space:pre;overflow-x:auto;line-height:normal;font-family:Menlo,'DejaVu Sans Mono',consolas,'Courier New',monospace\"><span style=\"color: #7fbfbf; text-decoration-color: #7fbfbf\">         </span><span style=\"color: #000080; text-decoration-color: #000080\">INFO    </span> <span style=\"color: #000000; text-decoration-color: #000000\">Number of raw events in CMS_WORKSHOP: </span><span style=\"color: #008080; text-decoration-color: #008080; font-weight: bold\">101</span><span style=\"color: #000000; text-decoration-color: #000000\">                                          </span><a href=\"file:///home/cms-jovyan/integration-challenge/cms/analysis/nondiff.py\" target=\"_blank\"><span style=\"color: #7f7f7f; text-decoration-color: #7f7f7f\">nondiff.py</span></a><span style=\"color: #7f7f7f; text-decoration-color: #7f7f7f\">:</span><a href=\"file:///home/cms-jovyan/integration-challenge/cms/analysis/nondiff.py#208\" target=\"_blank\"><span style=\"color: #7f7f7f; text-decoration-color: #7f7f7f\">208</span></a>\n",
       "</pre>\n"
      ],
      "text/plain": [
       "\u001b[2;36m        \u001b[0m\u001b[2;36m \u001b[0m\u001b[34mINFO    \u001b[0m \u001b[39mNumber of raw events in CMS_WORKSHOP: \u001b[0m\u001b[1;36m101\u001b[0m\u001b[39m                                         \u001b[0m\u001b[39m \u001b[0m\u001b]8;id=690160;file:///home/cms-jovyan/integration-challenge/cms/analysis/nondiff.py\u001b\\\u001b[2mnondiff.py\u001b[0m\u001b]8;;\u001b\\\u001b[2m:\u001b[0m\u001b]8;id=463377;file:///home/cms-jovyan/integration-challenge/cms/analysis/nondiff.py#208\u001b\\\u001b[2m208\u001b[0m\u001b]8;;\u001b\\\n"
      ]
     },
     "metadata": {},
     "output_type": "display_data"
    },
    {
     "data": {
      "text/html": [
       "<pre style=\"white-space:pre;overflow-x:auto;line-height:normal;font-family:Menlo,'DejaVu Sans Mono',consolas,'Courier New',monospace\"><span style=\"color: #7fbfbf; text-decoration-color: #7fbfbf\">         </span><span style=\"color: #000080; text-decoration-color: #000080\">INFO    </span> <span style=\"color: #000000; text-decoration-color: #000000\">Computing observable workshop_mtt                                                  </span><a href=\"file:///home/cms-jovyan/integration-challenge/cms/analysis/nondiff.py\" target=\"_blank\"><span style=\"color: #7f7f7f; text-decoration-color: #7f7f7f\">nondiff.py</span></a><span style=\"color: #7f7f7f; text-decoration-color: #7f7f7f\">:</span><a href=\"file:///home/cms-jovyan/integration-challenge/cms/analysis/nondiff.py#213\" target=\"_blank\"><span style=\"color: #7f7f7f; text-decoration-color: #7f7f7f\">213</span></a>\n",
       "</pre>\n"
      ],
      "text/plain": [
       "\u001b[2;36m        \u001b[0m\u001b[2;36m \u001b[0m\u001b[34mINFO    \u001b[0m \u001b[39mComputing observable workshop_mtt                                                 \u001b[0m\u001b[39m \u001b[0m\u001b]8;id=116770;file:///home/cms-jovyan/integration-challenge/cms/analysis/nondiff.py\u001b\\\u001b[2mnondiff.py\u001b[0m\u001b]8;;\u001b\\\u001b[2m:\u001b[0m\u001b]8;id=210318;file:///home/cms-jovyan/integration-challenge/cms/analysis/nondiff.py#213\u001b\\\u001b[2m213\u001b[0m\u001b]8;;\u001b\\\n"
      ]
     },
     "metadata": {},
     "output_type": "display_data"
    },
    {
     "data": {
      "text/html": [
       "<pre style=\"white-space:pre;overflow-x:auto;line-height:normal;font-family:Menlo,'DejaVu Sans Mono',consolas,'Courier New',monospace\"><span style=\"color: #7fbfbf; text-decoration-color: #7fbfbf\">         </span><span style=\"color: #000080; text-decoration-color: #000080\">INFO    </span> <span style=\"color: #000000; text-decoration-color: #000000\">Applying selection for CMS_WORKSHOP in ttbar_semilep with variation pu_weight_down </span><a href=\"file:///home/cms-jovyan/integration-challenge/cms/analysis/nondiff.py\" target=\"_blank\"><span style=\"color: #7f7f7f; text-decoration-color: #7f7f7f\">nondiff.py</span></a><span style=\"color: #7f7f7f; text-decoration-color: #7f7f7f\">:</span><a href=\"file:///home/cms-jovyan/integration-challenge/cms/analysis/nondiff.py#154\" target=\"_blank\"><span style=\"color: #7f7f7f; text-decoration-color: #7f7f7f\">154</span></a>\n",
       "</pre>\n"
      ],
      "text/plain": [
       "\u001b[2;36m        \u001b[0m\u001b[2;36m \u001b[0m\u001b[34mINFO    \u001b[0m \u001b[39mApplying selection for CMS_WORKSHOP in ttbar_semilep with variation pu_weight_down\u001b[0m\u001b[39m \u001b[0m\u001b]8;id=636234;file:///home/cms-jovyan/integration-challenge/cms/analysis/nondiff.py\u001b\\\u001b[2mnondiff.py\u001b[0m\u001b]8;;\u001b\\\u001b[2m:\u001b[0m\u001b]8;id=315215;file:///home/cms-jovyan/integration-challenge/cms/analysis/nondiff.py#154\u001b\\\u001b[2m154\u001b[0m\u001b]8;;\u001b\\\n"
      ]
     },
     "metadata": {},
     "output_type": "display_data"
    },
    {
     "data": {
      "text/html": [
       "<pre style=\"white-space:pre;overflow-x:auto;line-height:normal;font-family:Menlo,'DejaVu Sans Mono',consolas,'Courier New',monospace\"><span style=\"color: #7fbfbf; text-decoration-color: #7fbfbf\">         </span><span style=\"color: #000080; text-decoration-color: #000080\">INFO    </span> <span style=\"color: #000000; text-decoration-color: #000000\">Applying correction: pu_weight/Collisions16_UltraLegacy_goldenJSON </span><span style=\"color: #000000; text-decoration-color: #000000; font-weight: bold\">(</span><span style=\"color: #000000; text-decoration-color: #000000\">down</span><span style=\"color: #000000; text-decoration-color: #000000; font-weight: bold\">)</span><span style=\"color: #000000; text-decoration-color: #000000\">             </span><a href=\"file:///home/cms-jovyan/integration-challenge/cms/analysis/base.py\" target=\"_blank\"><span style=\"color: #7f7f7f; text-decoration-color: #7f7f7f\">base.py</span></a><span style=\"color: #7f7f7f; text-decoration-color: #7f7f7f\">:</span><a href=\"file:///home/cms-jovyan/integration-challenge/cms/analysis/base.py#247\" target=\"_blank\"><span style=\"color: #7f7f7f; text-decoration-color: #7f7f7f\">247</span></a>\n",
       "</pre>\n"
      ],
      "text/plain": [
       "\u001b[2;36m        \u001b[0m\u001b[2;36m \u001b[0m\u001b[34mINFO    \u001b[0m \u001b[39mApplying correction: pu_weight/Collisions16_UltraLegacy_goldenJSON \u001b[0m\u001b[1;39m(\u001b[0m\u001b[39mdown\u001b[0m\u001b[1;39m)\u001b[0m\u001b[39m            \u001b[0m\u001b[39m \u001b[0m\u001b]8;id=61508;file:///home/cms-jovyan/integration-challenge/cms/analysis/base.py\u001b\\\u001b[2mbase.py\u001b[0m\u001b]8;;\u001b\\\u001b[2m:\u001b[0m\u001b]8;id=878656;file:///home/cms-jovyan/integration-challenge/cms/analysis/base.py#247\u001b\\\u001b[2m247\u001b[0m\u001b]8;;\u001b\\\n"
      ]
     },
     "metadata": {},
     "output_type": "display_data"
    },
    {
     "data": {
      "text/html": [
       "<pre style=\"white-space:pre;overflow-x:auto;line-height:normal;font-family:Menlo,'DejaVu Sans Mono',consolas,'Courier New',monospace\"><span style=\"color: #7fbfbf; text-decoration-color: #7fbfbf\">         </span><span style=\"color: #000080; text-decoration-color: #000080\">INFO    </span> <span style=\"color: #000000; text-decoration-color: #000000\">Number of weighted events in CMS_WORKSHOP: </span><span style=\"color: #008080; text-decoration-color: #008080; font-weight: bold\">100.89</span><span style=\"color: #000000; text-decoration-color: #000000\">                                  </span><a href=\"file:///home/cms-jovyan/integration-challenge/cms/analysis/nondiff.py\" target=\"_blank\"><span style=\"color: #7f7f7f; text-decoration-color: #7f7f7f\">nondiff.py</span></a><span style=\"color: #7f7f7f; text-decoration-color: #7f7f7f\">:</span><a href=\"file:///home/cms-jovyan/integration-challenge/cms/analysis/nondiff.py#205\" target=\"_blank\"><span style=\"color: #7f7f7f; text-decoration-color: #7f7f7f\">205</span></a>\n",
       "</pre>\n"
      ],
      "text/plain": [
       "\u001b[2;36m        \u001b[0m\u001b[2;36m \u001b[0m\u001b[34mINFO    \u001b[0m \u001b[39mNumber of weighted events in CMS_WORKSHOP: \u001b[0m\u001b[1;36m100.89\u001b[0m\u001b[39m                                 \u001b[0m\u001b[39m \u001b[0m\u001b]8;id=284922;file:///home/cms-jovyan/integration-challenge/cms/analysis/nondiff.py\u001b\\\u001b[2mnondiff.py\u001b[0m\u001b]8;;\u001b\\\u001b[2m:\u001b[0m\u001b]8;id=659414;file:///home/cms-jovyan/integration-challenge/cms/analysis/nondiff.py#205\u001b\\\u001b[2m205\u001b[0m\u001b]8;;\u001b\\\n"
      ]
     },
     "metadata": {},
     "output_type": "display_data"
    },
    {
     "data": {
      "text/html": [
       "<pre style=\"white-space:pre;overflow-x:auto;line-height:normal;font-family:Menlo,'DejaVu Sans Mono',consolas,'Courier New',monospace\"><span style=\"color: #7fbfbf; text-decoration-color: #7fbfbf\">         </span><span style=\"color: #000080; text-decoration-color: #000080\">INFO    </span> <span style=\"color: #000000; text-decoration-color: #000000\">Number of raw events in CMS_WORKSHOP: </span><span style=\"color: #008080; text-decoration-color: #008080; font-weight: bold\">101</span><span style=\"color: #000000; text-decoration-color: #000000\">                                          </span><a href=\"file:///home/cms-jovyan/integration-challenge/cms/analysis/nondiff.py\" target=\"_blank\"><span style=\"color: #7f7f7f; text-decoration-color: #7f7f7f\">nondiff.py</span></a><span style=\"color: #7f7f7f; text-decoration-color: #7f7f7f\">:</span><a href=\"file:///home/cms-jovyan/integration-challenge/cms/analysis/nondiff.py#208\" target=\"_blank\"><span style=\"color: #7f7f7f; text-decoration-color: #7f7f7f\">208</span></a>\n",
       "</pre>\n"
      ],
      "text/plain": [
       "\u001b[2;36m        \u001b[0m\u001b[2;36m \u001b[0m\u001b[34mINFO    \u001b[0m \u001b[39mNumber of raw events in CMS_WORKSHOP: \u001b[0m\u001b[1;36m101\u001b[0m\u001b[39m                                         \u001b[0m\u001b[39m \u001b[0m\u001b]8;id=543486;file:///home/cms-jovyan/integration-challenge/cms/analysis/nondiff.py\u001b\\\u001b[2mnondiff.py\u001b[0m\u001b]8;;\u001b\\\u001b[2m:\u001b[0m\u001b]8;id=461362;file:///home/cms-jovyan/integration-challenge/cms/analysis/nondiff.py#208\u001b\\\u001b[2m208\u001b[0m\u001b]8;;\u001b\\\n"
      ]
     },
     "metadata": {},
     "output_type": "display_data"
    },
    {
     "data": {
      "text/html": [
       "<pre style=\"white-space:pre;overflow-x:auto;line-height:normal;font-family:Menlo,'DejaVu Sans Mono',consolas,'Courier New',monospace\"><span style=\"color: #7fbfbf; text-decoration-color: #7fbfbf\">         </span><span style=\"color: #000080; text-decoration-color: #000080\">INFO    </span> <span style=\"color: #000000; text-decoration-color: #000000\">Computing observable workshop_mtt                                                  </span><a href=\"file:///home/cms-jovyan/integration-challenge/cms/analysis/nondiff.py\" target=\"_blank\"><span style=\"color: #7f7f7f; text-decoration-color: #7f7f7f\">nondiff.py</span></a><span style=\"color: #7f7f7f; text-decoration-color: #7f7f7f\">:</span><a href=\"file:///home/cms-jovyan/integration-challenge/cms/analysis/nondiff.py#213\" target=\"_blank\"><span style=\"color: #7f7f7f; text-decoration-color: #7f7f7f\">213</span></a>\n",
       "</pre>\n"
      ],
      "text/plain": [
       "\u001b[2;36m        \u001b[0m\u001b[2;36m \u001b[0m\u001b[34mINFO    \u001b[0m \u001b[39mComputing observable workshop_mtt                                                 \u001b[0m\u001b[39m \u001b[0m\u001b]8;id=820362;file:///home/cms-jovyan/integration-challenge/cms/analysis/nondiff.py\u001b\\\u001b[2mnondiff.py\u001b[0m\u001b]8;;\u001b\\\u001b[2m:\u001b[0m\u001b]8;id=904166;file:///home/cms-jovyan/integration-challenge/cms/analysis/nondiff.py#213\u001b\\\u001b[2m213\u001b[0m\u001b]8;;\u001b\\\n"
      ]
     },
     "metadata": {},
     "output_type": "display_data"
    },
    {
     "data": {
      "text/html": [
       "<pre style=\"white-space:pre;overflow-x:auto;line-height:normal;font-family:Menlo,'DejaVu Sans Mono',consolas,'Courier New',monospace\"><span style=\"color: #7fbfbf; text-decoration-color: #7fbfbf\">         </span><span style=\"color: #000080; text-decoration-color: #000080\">INFO    </span> <span style=\"color: #000000; text-decoration-color: #000000\">Applying selection for CMS_WORKSHOP in ttbar_semilep with variation muon_id_sf_up  </span><a href=\"file:///home/cms-jovyan/integration-challenge/cms/analysis/nondiff.py\" target=\"_blank\"><span style=\"color: #7f7f7f; text-decoration-color: #7f7f7f\">nondiff.py</span></a><span style=\"color: #7f7f7f; text-decoration-color: #7f7f7f\">:</span><a href=\"file:///home/cms-jovyan/integration-challenge/cms/analysis/nondiff.py#154\" target=\"_blank\"><span style=\"color: #7f7f7f; text-decoration-color: #7f7f7f\">154</span></a>\n",
       "</pre>\n"
      ],
      "text/plain": [
       "\u001b[2;36m        \u001b[0m\u001b[2;36m \u001b[0m\u001b[34mINFO    \u001b[0m \u001b[39mApplying selection for CMS_WORKSHOP in ttbar_semilep with variation muon_id_sf_up \u001b[0m\u001b[39m \u001b[0m\u001b]8;id=179563;file:///home/cms-jovyan/integration-challenge/cms/analysis/nondiff.py\u001b\\\u001b[2mnondiff.py\u001b[0m\u001b]8;;\u001b\\\u001b[2m:\u001b[0m\u001b]8;id=160975;file:///home/cms-jovyan/integration-challenge/cms/analysis/nondiff.py#154\u001b\\\u001b[2m154\u001b[0m\u001b]8;;\u001b\\\n"
      ]
     },
     "metadata": {},
     "output_type": "display_data"
    },
    {
     "data": {
      "text/html": [
       "<pre style=\"white-space:pre;overflow-x:auto;line-height:normal;font-family:Menlo,'DejaVu Sans Mono',consolas,'Courier New',monospace\"><span style=\"color: #7fbfbf; text-decoration-color: #7fbfbf\">         </span><span style=\"color: #000080; text-decoration-color: #000080\">INFO    </span> <span style=\"color: #000000; text-decoration-color: #000000\">Applying correction: muon_id_sf/NUM_TightID_DEN_TrackerMuons </span><span style=\"color: #000000; text-decoration-color: #000000; font-weight: bold\">(</span><span style=\"color: #000000; text-decoration-color: #000000\">systup</span><span style=\"color: #000000; text-decoration-color: #000000; font-weight: bold\">)</span><span style=\"color: #000000; text-decoration-color: #000000\">                 </span><a href=\"file:///home/cms-jovyan/integration-challenge/cms/analysis/base.py\" target=\"_blank\"><span style=\"color: #7f7f7f; text-decoration-color: #7f7f7f\">base.py</span></a><span style=\"color: #7f7f7f; text-decoration-color: #7f7f7f\">:</span><a href=\"file:///home/cms-jovyan/integration-challenge/cms/analysis/base.py#247\" target=\"_blank\"><span style=\"color: #7f7f7f; text-decoration-color: #7f7f7f\">247</span></a>\n",
       "</pre>\n"
      ],
      "text/plain": [
       "\u001b[2;36m        \u001b[0m\u001b[2;36m \u001b[0m\u001b[34mINFO    \u001b[0m \u001b[39mApplying correction: muon_id_sf/NUM_TightID_DEN_TrackerMuons \u001b[0m\u001b[1;39m(\u001b[0m\u001b[39msystup\u001b[0m\u001b[1;39m)\u001b[0m\u001b[39m                \u001b[0m\u001b[39m \u001b[0m\u001b]8;id=262252;file:///home/cms-jovyan/integration-challenge/cms/analysis/base.py\u001b\\\u001b[2mbase.py\u001b[0m\u001b]8;;\u001b\\\u001b[2m:\u001b[0m\u001b]8;id=618767;file:///home/cms-jovyan/integration-challenge/cms/analysis/base.py#247\u001b\\\u001b[2m247\u001b[0m\u001b]8;;\u001b\\\n"
      ]
     },
     "metadata": {},
     "output_type": "display_data"
    },
    {
     "data": {
      "text/html": [
       "<pre style=\"white-space:pre;overflow-x:auto;line-height:normal;font-family:Menlo,'DejaVu Sans Mono',consolas,'Courier New',monospace\"><span style=\"color: #7fbfbf; text-decoration-color: #7fbfbf\">         </span><span style=\"color: #000080; text-decoration-color: #000080\">INFO    </span> <span style=\"color: #000000; text-decoration-color: #000000\">Number of weighted events in CMS_WORKSHOP: </span><span style=\"color: #008080; text-decoration-color: #008080; font-weight: bold\">99.73</span><span style=\"color: #000000; text-decoration-color: #000000\">                                   </span><a href=\"file:///home/cms-jovyan/integration-challenge/cms/analysis/nondiff.py\" target=\"_blank\"><span style=\"color: #7f7f7f; text-decoration-color: #7f7f7f\">nondiff.py</span></a><span style=\"color: #7f7f7f; text-decoration-color: #7f7f7f\">:</span><a href=\"file:///home/cms-jovyan/integration-challenge/cms/analysis/nondiff.py#205\" target=\"_blank\"><span style=\"color: #7f7f7f; text-decoration-color: #7f7f7f\">205</span></a>\n",
       "</pre>\n"
      ],
      "text/plain": [
       "\u001b[2;36m        \u001b[0m\u001b[2;36m \u001b[0m\u001b[34mINFO    \u001b[0m \u001b[39mNumber of weighted events in CMS_WORKSHOP: \u001b[0m\u001b[1;36m99.73\u001b[0m\u001b[39m                                  \u001b[0m\u001b[39m \u001b[0m\u001b]8;id=113363;file:///home/cms-jovyan/integration-challenge/cms/analysis/nondiff.py\u001b\\\u001b[2mnondiff.py\u001b[0m\u001b]8;;\u001b\\\u001b[2m:\u001b[0m\u001b]8;id=451697;file:///home/cms-jovyan/integration-challenge/cms/analysis/nondiff.py#205\u001b\\\u001b[2m205\u001b[0m\u001b]8;;\u001b\\\n"
      ]
     },
     "metadata": {},
     "output_type": "display_data"
    },
    {
     "data": {
      "text/html": [
       "<pre style=\"white-space:pre;overflow-x:auto;line-height:normal;font-family:Menlo,'DejaVu Sans Mono',consolas,'Courier New',monospace\"><span style=\"color: #7fbfbf; text-decoration-color: #7fbfbf\">         </span><span style=\"color: #000080; text-decoration-color: #000080\">INFO    </span> <span style=\"color: #000000; text-decoration-color: #000000\">Number of raw events in CMS_WORKSHOP: </span><span style=\"color: #008080; text-decoration-color: #008080; font-weight: bold\">101</span><span style=\"color: #000000; text-decoration-color: #000000\">                                          </span><a href=\"file:///home/cms-jovyan/integration-challenge/cms/analysis/nondiff.py\" target=\"_blank\"><span style=\"color: #7f7f7f; text-decoration-color: #7f7f7f\">nondiff.py</span></a><span style=\"color: #7f7f7f; text-decoration-color: #7f7f7f\">:</span><a href=\"file:///home/cms-jovyan/integration-challenge/cms/analysis/nondiff.py#208\" target=\"_blank\"><span style=\"color: #7f7f7f; text-decoration-color: #7f7f7f\">208</span></a>\n",
       "</pre>\n"
      ],
      "text/plain": [
       "\u001b[2;36m        \u001b[0m\u001b[2;36m \u001b[0m\u001b[34mINFO    \u001b[0m \u001b[39mNumber of raw events in CMS_WORKSHOP: \u001b[0m\u001b[1;36m101\u001b[0m\u001b[39m                                         \u001b[0m\u001b[39m \u001b[0m\u001b]8;id=59405;file:///home/cms-jovyan/integration-challenge/cms/analysis/nondiff.py\u001b\\\u001b[2mnondiff.py\u001b[0m\u001b]8;;\u001b\\\u001b[2m:\u001b[0m\u001b]8;id=29920;file:///home/cms-jovyan/integration-challenge/cms/analysis/nondiff.py#208\u001b\\\u001b[2m208\u001b[0m\u001b]8;;\u001b\\\n"
      ]
     },
     "metadata": {},
     "output_type": "display_data"
    },
    {
     "data": {
      "text/html": [
       "<pre style=\"white-space:pre;overflow-x:auto;line-height:normal;font-family:Menlo,'DejaVu Sans Mono',consolas,'Courier New',monospace\"><span style=\"color: #7fbfbf; text-decoration-color: #7fbfbf\">         </span><span style=\"color: #000080; text-decoration-color: #000080\">INFO    </span> <span style=\"color: #000000; text-decoration-color: #000000\">Computing observable workshop_mtt                                                  </span><a href=\"file:///home/cms-jovyan/integration-challenge/cms/analysis/nondiff.py\" target=\"_blank\"><span style=\"color: #7f7f7f; text-decoration-color: #7f7f7f\">nondiff.py</span></a><span style=\"color: #7f7f7f; text-decoration-color: #7f7f7f\">:</span><a href=\"file:///home/cms-jovyan/integration-challenge/cms/analysis/nondiff.py#213\" target=\"_blank\"><span style=\"color: #7f7f7f; text-decoration-color: #7f7f7f\">213</span></a>\n",
       "</pre>\n"
      ],
      "text/plain": [
       "\u001b[2;36m        \u001b[0m\u001b[2;36m \u001b[0m\u001b[34mINFO    \u001b[0m \u001b[39mComputing observable workshop_mtt                                                 \u001b[0m\u001b[39m \u001b[0m\u001b]8;id=426158;file:///home/cms-jovyan/integration-challenge/cms/analysis/nondiff.py\u001b\\\u001b[2mnondiff.py\u001b[0m\u001b]8;;\u001b\\\u001b[2m:\u001b[0m\u001b]8;id=272199;file:///home/cms-jovyan/integration-challenge/cms/analysis/nondiff.py#213\u001b\\\u001b[2m213\u001b[0m\u001b]8;;\u001b\\\n"
      ]
     },
     "metadata": {},
     "output_type": "display_data"
    },
    {
     "data": {
      "text/html": [
       "<pre style=\"white-space:pre;overflow-x:auto;line-height:normal;font-family:Menlo,'DejaVu Sans Mono',consolas,'Courier New',monospace\"><span style=\"color: #7fbfbf; text-decoration-color: #7fbfbf\">         </span><span style=\"color: #000080; text-decoration-color: #000080\">INFO    </span> <span style=\"color: #000000; text-decoration-color: #000000\">Applying selection for CMS_WORKSHOP in ttbar_semilep with variation                </span><a href=\"file:///home/cms-jovyan/integration-challenge/cms/analysis/nondiff.py\" target=\"_blank\"><span style=\"color: #7f7f7f; text-decoration-color: #7f7f7f\">nondiff.py</span></a><span style=\"color: #7f7f7f; text-decoration-color: #7f7f7f\">:</span><a href=\"file:///home/cms-jovyan/integration-challenge/cms/analysis/nondiff.py#154\" target=\"_blank\"><span style=\"color: #7f7f7f; text-decoration-color: #7f7f7f\">154</span></a>\n",
       "<span style=\"color: #7fbfbf; text-decoration-color: #7fbfbf\">         </span>         <span style=\"color: #000000; text-decoration-color: #000000\">muon_id_sf_down                                                                    </span><span style=\"color: #7f7f7f; text-decoration-color: #7f7f7f\">              </span>\n",
       "</pre>\n"
      ],
      "text/plain": [
       "\u001b[2;36m        \u001b[0m\u001b[2;36m \u001b[0m\u001b[34mINFO    \u001b[0m \u001b[39mApplying selection for CMS_WORKSHOP in ttbar_semilep with variation               \u001b[0m\u001b[39m \u001b[0m\u001b]8;id=820094;file:///home/cms-jovyan/integration-challenge/cms/analysis/nondiff.py\u001b\\\u001b[2mnondiff.py\u001b[0m\u001b]8;;\u001b\\\u001b[2m:\u001b[0m\u001b]8;id=520405;file:///home/cms-jovyan/integration-challenge/cms/analysis/nondiff.py#154\u001b\\\u001b[2m154\u001b[0m\u001b]8;;\u001b\\\n",
       "\u001b[2;36m         \u001b[0m         \u001b[39mmuon_id_sf_down                                                                   \u001b[0m\u001b[39m \u001b[0m\u001b[2m              \u001b[0m\n"
      ]
     },
     "metadata": {},
     "output_type": "display_data"
    },
    {
     "data": {
      "text/html": [
       "<pre style=\"white-space:pre;overflow-x:auto;line-height:normal;font-family:Menlo,'DejaVu Sans Mono',consolas,'Courier New',monospace\"><span style=\"color: #7fbfbf; text-decoration-color: #7fbfbf\">         </span><span style=\"color: #000080; text-decoration-color: #000080\">INFO    </span> <span style=\"color: #000000; text-decoration-color: #000000\">Applying correction: muon_id_sf/NUM_TightID_DEN_TrackerMuons </span><span style=\"color: #000000; text-decoration-color: #000000; font-weight: bold\">(</span><span style=\"color: #000000; text-decoration-color: #000000\">systdown</span><span style=\"color: #000000; text-decoration-color: #000000; font-weight: bold\">)</span><span style=\"color: #000000; text-decoration-color: #000000\">               </span><a href=\"file:///home/cms-jovyan/integration-challenge/cms/analysis/base.py\" target=\"_blank\"><span style=\"color: #7f7f7f; text-decoration-color: #7f7f7f\">base.py</span></a><span style=\"color: #7f7f7f; text-decoration-color: #7f7f7f\">:</span><a href=\"file:///home/cms-jovyan/integration-challenge/cms/analysis/base.py#247\" target=\"_blank\"><span style=\"color: #7f7f7f; text-decoration-color: #7f7f7f\">247</span></a>\n",
       "</pre>\n"
      ],
      "text/plain": [
       "\u001b[2;36m        \u001b[0m\u001b[2;36m \u001b[0m\u001b[34mINFO    \u001b[0m \u001b[39mApplying correction: muon_id_sf/NUM_TightID_DEN_TrackerMuons \u001b[0m\u001b[1;39m(\u001b[0m\u001b[39msystdown\u001b[0m\u001b[1;39m)\u001b[0m\u001b[39m              \u001b[0m\u001b[39m \u001b[0m\u001b]8;id=345355;file:///home/cms-jovyan/integration-challenge/cms/analysis/base.py\u001b\\\u001b[2mbase.py\u001b[0m\u001b]8;;\u001b\\\u001b[2m:\u001b[0m\u001b]8;id=782659;file:///home/cms-jovyan/integration-challenge/cms/analysis/base.py#247\u001b\\\u001b[2m247\u001b[0m\u001b]8;;\u001b\\\n"
      ]
     },
     "metadata": {},
     "output_type": "display_data"
    },
    {
     "data": {
      "text/html": [
       "<pre style=\"white-space:pre;overflow-x:auto;line-height:normal;font-family:Menlo,'DejaVu Sans Mono',consolas,'Courier New',monospace\"><span style=\"color: #7fbfbf; text-decoration-color: #7fbfbf\">         </span><span style=\"color: #000080; text-decoration-color: #000080\">INFO    </span> <span style=\"color: #000000; text-decoration-color: #000000\">Number of weighted events in CMS_WORKSHOP: </span><span style=\"color: #008080; text-decoration-color: #008080; font-weight: bold\">99.20</span><span style=\"color: #000000; text-decoration-color: #000000\">                                   </span><a href=\"file:///home/cms-jovyan/integration-challenge/cms/analysis/nondiff.py\" target=\"_blank\"><span style=\"color: #7f7f7f; text-decoration-color: #7f7f7f\">nondiff.py</span></a><span style=\"color: #7f7f7f; text-decoration-color: #7f7f7f\">:</span><a href=\"file:///home/cms-jovyan/integration-challenge/cms/analysis/nondiff.py#205\" target=\"_blank\"><span style=\"color: #7f7f7f; text-decoration-color: #7f7f7f\">205</span></a>\n",
       "</pre>\n"
      ],
      "text/plain": [
       "\u001b[2;36m        \u001b[0m\u001b[2;36m \u001b[0m\u001b[34mINFO    \u001b[0m \u001b[39mNumber of weighted events in CMS_WORKSHOP: \u001b[0m\u001b[1;36m99.20\u001b[0m\u001b[39m                                  \u001b[0m\u001b[39m \u001b[0m\u001b]8;id=743571;file:///home/cms-jovyan/integration-challenge/cms/analysis/nondiff.py\u001b\\\u001b[2mnondiff.py\u001b[0m\u001b]8;;\u001b\\\u001b[2m:\u001b[0m\u001b]8;id=13424;file:///home/cms-jovyan/integration-challenge/cms/analysis/nondiff.py#205\u001b\\\u001b[2m205\u001b[0m\u001b]8;;\u001b\\\n"
      ]
     },
     "metadata": {},
     "output_type": "display_data"
    },
    {
     "data": {
      "text/html": [
       "<pre style=\"white-space:pre;overflow-x:auto;line-height:normal;font-family:Menlo,'DejaVu Sans Mono',consolas,'Courier New',monospace\"><span style=\"color: #7fbfbf; text-decoration-color: #7fbfbf\">         </span><span style=\"color: #000080; text-decoration-color: #000080\">INFO    </span> <span style=\"color: #000000; text-decoration-color: #000000\">Number of raw events in CMS_WORKSHOP: </span><span style=\"color: #008080; text-decoration-color: #008080; font-weight: bold\">101</span><span style=\"color: #000000; text-decoration-color: #000000\">                                          </span><a href=\"file:///home/cms-jovyan/integration-challenge/cms/analysis/nondiff.py\" target=\"_blank\"><span style=\"color: #7f7f7f; text-decoration-color: #7f7f7f\">nondiff.py</span></a><span style=\"color: #7f7f7f; text-decoration-color: #7f7f7f\">:</span><a href=\"file:///home/cms-jovyan/integration-challenge/cms/analysis/nondiff.py#208\" target=\"_blank\"><span style=\"color: #7f7f7f; text-decoration-color: #7f7f7f\">208</span></a>\n",
       "</pre>\n"
      ],
      "text/plain": [
       "\u001b[2;36m        \u001b[0m\u001b[2;36m \u001b[0m\u001b[34mINFO    \u001b[0m \u001b[39mNumber of raw events in CMS_WORKSHOP: \u001b[0m\u001b[1;36m101\u001b[0m\u001b[39m                                         \u001b[0m\u001b[39m \u001b[0m\u001b]8;id=218253;file:///home/cms-jovyan/integration-challenge/cms/analysis/nondiff.py\u001b\\\u001b[2mnondiff.py\u001b[0m\u001b]8;;\u001b\\\u001b[2m:\u001b[0m\u001b]8;id=270605;file:///home/cms-jovyan/integration-challenge/cms/analysis/nondiff.py#208\u001b\\\u001b[2m208\u001b[0m\u001b]8;;\u001b\\\n"
      ]
     },
     "metadata": {},
     "output_type": "display_data"
    },
    {
     "data": {
      "text/html": [
       "<pre style=\"white-space:pre;overflow-x:auto;line-height:normal;font-family:Menlo,'DejaVu Sans Mono',consolas,'Courier New',monospace\"><span style=\"color: #7fbfbf; text-decoration-color: #7fbfbf\">         </span><span style=\"color: #000080; text-decoration-color: #000080\">INFO    </span> <span style=\"color: #000000; text-decoration-color: #000000\">Computing observable workshop_mtt                                                  </span><a href=\"file:///home/cms-jovyan/integration-challenge/cms/analysis/nondiff.py\" target=\"_blank\"><span style=\"color: #7f7f7f; text-decoration-color: #7f7f7f\">nondiff.py</span></a><span style=\"color: #7f7f7f; text-decoration-color: #7f7f7f\">:</span><a href=\"file:///home/cms-jovyan/integration-challenge/cms/analysis/nondiff.py#213\" target=\"_blank\"><span style=\"color: #7f7f7f; text-decoration-color: #7f7f7f\">213</span></a>\n",
       "</pre>\n"
      ],
      "text/plain": [
       "\u001b[2;36m        \u001b[0m\u001b[2;36m \u001b[0m\u001b[34mINFO    \u001b[0m \u001b[39mComputing observable workshop_mtt                                                 \u001b[0m\u001b[39m \u001b[0m\u001b]8;id=529475;file:///home/cms-jovyan/integration-challenge/cms/analysis/nondiff.py\u001b\\\u001b[2mnondiff.py\u001b[0m\u001b]8;;\u001b\\\u001b[2m:\u001b[0m\u001b]8;id=478732;file:///home/cms-jovyan/integration-challenge/cms/analysis/nondiff.py#213\u001b\\\u001b[2m213\u001b[0m\u001b]8;;\u001b\\\n"
      ]
     },
     "metadata": {},
     "output_type": "display_data"
    },
    {
     "name": "stdout",
     "output_type": "stream",
     "text": [
      "📊 Processing dataset: signal__nominal\n",
      "   • Processing 97109 events with metadata: signal\n"
     ]
    },
    {
     "data": {
      "text/html": [
       "<pre style=\"white-space:pre;overflow-x:auto;line-height:normal;font-family:Menlo,'DejaVu Sans Mono',consolas,'Courier New',monospace\"><span style=\"color: #7fbfbf; text-decoration-color: #7fbfbf\">07:10:18 </span><span style=\"color: #000080; text-decoration-color: #000080\">INFO    </span> <span style=\"color: #000000; text-decoration-color: #000000\">Applying selection for CMS_WORKSHOP in signal with variation nominal               </span><a href=\"file:///home/cms-jovyan/integration-challenge/cms/analysis/nondiff.py\" target=\"_blank\"><span style=\"color: #7f7f7f; text-decoration-color: #7f7f7f\">nondiff.py</span></a><span style=\"color: #7f7f7f; text-decoration-color: #7f7f7f\">:</span><a href=\"file:///home/cms-jovyan/integration-challenge/cms/analysis/nondiff.py#154\" target=\"_blank\"><span style=\"color: #7f7f7f; text-decoration-color: #7f7f7f\">154</span></a>\n",
       "</pre>\n"
      ],
      "text/plain": [
       "\u001b[2;36m07:10:18\u001b[0m\u001b[2;36m \u001b[0m\u001b[34mINFO    \u001b[0m \u001b[39mApplying selection for CMS_WORKSHOP in signal with variation nominal              \u001b[0m\u001b[39m \u001b[0m\u001b]8;id=494400;file:///home/cms-jovyan/integration-challenge/cms/analysis/nondiff.py\u001b\\\u001b[2mnondiff.py\u001b[0m\u001b]8;;\u001b\\\u001b[2m:\u001b[0m\u001b]8;id=20323;file:///home/cms-jovyan/integration-challenge/cms/analysis/nondiff.py#154\u001b\\\u001b[2m154\u001b[0m\u001b]8;;\u001b\\\n"
      ]
     },
     "metadata": {},
     "output_type": "display_data"
    },
    {
     "data": {
      "text/html": [
       "<pre style=\"white-space:pre;overflow-x:auto;line-height:normal;font-family:Menlo,'DejaVu Sans Mono',consolas,'Courier New',monospace\"><span style=\"color: #7fbfbf; text-decoration-color: #7fbfbf\">         </span><span style=\"color: #000080; text-decoration-color: #000080\">INFO    </span> <span style=\"color: #000000; text-decoration-color: #000000\">Number of weighted events in CMS_WORKSHOP: </span><span style=\"color: #008080; text-decoration-color: #008080; font-weight: bold\">515.29</span><span style=\"color: #000000; text-decoration-color: #000000\">                                  </span><a href=\"file:///home/cms-jovyan/integration-challenge/cms/analysis/nondiff.py\" target=\"_blank\"><span style=\"color: #7f7f7f; text-decoration-color: #7f7f7f\">nondiff.py</span></a><span style=\"color: #7f7f7f; text-decoration-color: #7f7f7f\">:</span><a href=\"file:///home/cms-jovyan/integration-challenge/cms/analysis/nondiff.py#205\" target=\"_blank\"><span style=\"color: #7f7f7f; text-decoration-color: #7f7f7f\">205</span></a>\n",
       "</pre>\n"
      ],
      "text/plain": [
       "\u001b[2;36m        \u001b[0m\u001b[2;36m \u001b[0m\u001b[34mINFO    \u001b[0m \u001b[39mNumber of weighted events in CMS_WORKSHOP: \u001b[0m\u001b[1;36m515.29\u001b[0m\u001b[39m                                 \u001b[0m\u001b[39m \u001b[0m\u001b]8;id=156126;file:///home/cms-jovyan/integration-challenge/cms/analysis/nondiff.py\u001b\\\u001b[2mnondiff.py\u001b[0m\u001b]8;;\u001b\\\u001b[2m:\u001b[0m\u001b]8;id=902263;file:///home/cms-jovyan/integration-challenge/cms/analysis/nondiff.py#205\u001b\\\u001b[2m205\u001b[0m\u001b]8;;\u001b\\\n"
      ]
     },
     "metadata": {},
     "output_type": "display_data"
    },
    {
     "data": {
      "text/html": [
       "<pre style=\"white-space:pre;overflow-x:auto;line-height:normal;font-family:Menlo,'DejaVu Sans Mono',consolas,'Courier New',monospace\"><span style=\"color: #7fbfbf; text-decoration-color: #7fbfbf\">         </span><span style=\"color: #000080; text-decoration-color: #000080\">INFO    </span> <span style=\"color: #000000; text-decoration-color: #000000\">Number of raw events in CMS_WORKSHOP: </span><span style=\"color: #008080; text-decoration-color: #008080; font-weight: bold\">16069</span><span style=\"color: #000000; text-decoration-color: #000000\">                                        </span><a href=\"file:///home/cms-jovyan/integration-challenge/cms/analysis/nondiff.py\" target=\"_blank\"><span style=\"color: #7f7f7f; text-decoration-color: #7f7f7f\">nondiff.py</span></a><span style=\"color: #7f7f7f; text-decoration-color: #7f7f7f\">:</span><a href=\"file:///home/cms-jovyan/integration-challenge/cms/analysis/nondiff.py#208\" target=\"_blank\"><span style=\"color: #7f7f7f; text-decoration-color: #7f7f7f\">208</span></a>\n",
       "</pre>\n"
      ],
      "text/plain": [
       "\u001b[2;36m        \u001b[0m\u001b[2;36m \u001b[0m\u001b[34mINFO    \u001b[0m \u001b[39mNumber of raw events in CMS_WORKSHOP: \u001b[0m\u001b[1;36m16069\u001b[0m\u001b[39m                                       \u001b[0m\u001b[39m \u001b[0m\u001b]8;id=100382;file:///home/cms-jovyan/integration-challenge/cms/analysis/nondiff.py\u001b\\\u001b[2mnondiff.py\u001b[0m\u001b]8;;\u001b\\\u001b[2m:\u001b[0m\u001b]8;id=155480;file:///home/cms-jovyan/integration-challenge/cms/analysis/nondiff.py#208\u001b\\\u001b[2m208\u001b[0m\u001b]8;;\u001b\\\n"
      ]
     },
     "metadata": {},
     "output_type": "display_data"
    },
    {
     "data": {
      "text/html": [
       "<pre style=\"white-space:pre;overflow-x:auto;line-height:normal;font-family:Menlo,'DejaVu Sans Mono',consolas,'Courier New',monospace\"><span style=\"color: #7fbfbf; text-decoration-color: #7fbfbf\">         </span><span style=\"color: #000080; text-decoration-color: #000080\">INFO    </span> <span style=\"color: #000000; text-decoration-color: #000000\">Computing observable workshop_mtt                                                  </span><a href=\"file:///home/cms-jovyan/integration-challenge/cms/analysis/nondiff.py\" target=\"_blank\"><span style=\"color: #7f7f7f; text-decoration-color: #7f7f7f\">nondiff.py</span></a><span style=\"color: #7f7f7f; text-decoration-color: #7f7f7f\">:</span><a href=\"file:///home/cms-jovyan/integration-challenge/cms/analysis/nondiff.py#213\" target=\"_blank\"><span style=\"color: #7f7f7f; text-decoration-color: #7f7f7f\">213</span></a>\n",
       "</pre>\n"
      ],
      "text/plain": [
       "\u001b[2;36m        \u001b[0m\u001b[2;36m \u001b[0m\u001b[34mINFO    \u001b[0m \u001b[39mComputing observable workshop_mtt                                                 \u001b[0m\u001b[39m \u001b[0m\u001b]8;id=175071;file:///home/cms-jovyan/integration-challenge/cms/analysis/nondiff.py\u001b\\\u001b[2mnondiff.py\u001b[0m\u001b]8;;\u001b\\\u001b[2m:\u001b[0m\u001b]8;id=15857;file:///home/cms-jovyan/integration-challenge/cms/analysis/nondiff.py#213\u001b\\\u001b[2m213\u001b[0m\u001b]8;;\u001b\\\n"
      ]
     },
     "metadata": {},
     "output_type": "display_data"
    },
    {
     "data": {
      "text/html": [
       "<pre style=\"white-space:pre;overflow-x:auto;line-height:normal;font-family:Menlo,'DejaVu Sans Mono',consolas,'Courier New',monospace\"><span style=\"color: #7fbfbf; text-decoration-color: #7fbfbf\">         </span><span style=\"color: #000080; text-decoration-color: #000080\">INFO    </span> <span style=\"color: #000000; text-decoration-color: #000000\">Applying selection for CMS_WORKSHOP in signal with variation jet_pt_resolution_up  </span><a href=\"file:///home/cms-jovyan/integration-challenge/cms/analysis/nondiff.py\" target=\"_blank\"><span style=\"color: #7f7f7f; text-decoration-color: #7f7f7f\">nondiff.py</span></a><span style=\"color: #7f7f7f; text-decoration-color: #7f7f7f\">:</span><a href=\"file:///home/cms-jovyan/integration-challenge/cms/analysis/nondiff.py#154\" target=\"_blank\"><span style=\"color: #7f7f7f; text-decoration-color: #7f7f7f\">154</span></a>\n",
       "</pre>\n"
      ],
      "text/plain": [
       "\u001b[2;36m        \u001b[0m\u001b[2;36m \u001b[0m\u001b[34mINFO    \u001b[0m \u001b[39mApplying selection for CMS_WORKSHOP in signal with variation jet_pt_resolution_up \u001b[0m\u001b[39m \u001b[0m\u001b]8;id=797417;file:///home/cms-jovyan/integration-challenge/cms/analysis/nondiff.py\u001b\\\u001b[2mnondiff.py\u001b[0m\u001b]8;;\u001b\\\u001b[2m:\u001b[0m\u001b]8;id=454802;file:///home/cms-jovyan/integration-challenge/cms/analysis/nondiff.py#154\u001b\\\u001b[2m154\u001b[0m\u001b]8;;\u001b\\\n"
      ]
     },
     "metadata": {},
     "output_type": "display_data"
    },
    {
     "data": {
      "text/html": [
       "<pre style=\"white-space:pre;overflow-x:auto;line-height:normal;font-family:Menlo,'DejaVu Sans Mono',consolas,'Courier New',monospace\"><span style=\"color: #7fbfbf; text-decoration-color: #7fbfbf\">         </span><span style=\"color: #000080; text-decoration-color: #000080\">INFO    </span> <span style=\"color: #000000; text-decoration-color: #000000\">Number of weighted events in CMS_WORKSHOP: </span><span style=\"color: #008080; text-decoration-color: #008080; font-weight: bold\">515.29</span><span style=\"color: #000000; text-decoration-color: #000000\">                                  </span><a href=\"file:///home/cms-jovyan/integration-challenge/cms/analysis/nondiff.py\" target=\"_blank\"><span style=\"color: #7f7f7f; text-decoration-color: #7f7f7f\">nondiff.py</span></a><span style=\"color: #7f7f7f; text-decoration-color: #7f7f7f\">:</span><a href=\"file:///home/cms-jovyan/integration-challenge/cms/analysis/nondiff.py#205\" target=\"_blank\"><span style=\"color: #7f7f7f; text-decoration-color: #7f7f7f\">205</span></a>\n",
       "</pre>\n"
      ],
      "text/plain": [
       "\u001b[2;36m        \u001b[0m\u001b[2;36m \u001b[0m\u001b[34mINFO    \u001b[0m \u001b[39mNumber of weighted events in CMS_WORKSHOP: \u001b[0m\u001b[1;36m515.29\u001b[0m\u001b[39m                                 \u001b[0m\u001b[39m \u001b[0m\u001b]8;id=502427;file:///home/cms-jovyan/integration-challenge/cms/analysis/nondiff.py\u001b\\\u001b[2mnondiff.py\u001b[0m\u001b]8;;\u001b\\\u001b[2m:\u001b[0m\u001b]8;id=464412;file:///home/cms-jovyan/integration-challenge/cms/analysis/nondiff.py#205\u001b\\\u001b[2m205\u001b[0m\u001b]8;;\u001b\\\n"
      ]
     },
     "metadata": {},
     "output_type": "display_data"
    },
    {
     "data": {
      "text/html": [
       "<pre style=\"white-space:pre;overflow-x:auto;line-height:normal;font-family:Menlo,'DejaVu Sans Mono',consolas,'Courier New',monospace\"><span style=\"color: #7fbfbf; text-decoration-color: #7fbfbf\">         </span><span style=\"color: #000080; text-decoration-color: #000080\">INFO    </span> <span style=\"color: #000000; text-decoration-color: #000000\">Number of raw events in CMS_WORKSHOP: </span><span style=\"color: #008080; text-decoration-color: #008080; font-weight: bold\">16069</span><span style=\"color: #000000; text-decoration-color: #000000\">                                        </span><a href=\"file:///home/cms-jovyan/integration-challenge/cms/analysis/nondiff.py\" target=\"_blank\"><span style=\"color: #7f7f7f; text-decoration-color: #7f7f7f\">nondiff.py</span></a><span style=\"color: #7f7f7f; text-decoration-color: #7f7f7f\">:</span><a href=\"file:///home/cms-jovyan/integration-challenge/cms/analysis/nondiff.py#208\" target=\"_blank\"><span style=\"color: #7f7f7f; text-decoration-color: #7f7f7f\">208</span></a>\n",
       "</pre>\n"
      ],
      "text/plain": [
       "\u001b[2;36m        \u001b[0m\u001b[2;36m \u001b[0m\u001b[34mINFO    \u001b[0m \u001b[39mNumber of raw events in CMS_WORKSHOP: \u001b[0m\u001b[1;36m16069\u001b[0m\u001b[39m                                       \u001b[0m\u001b[39m \u001b[0m\u001b]8;id=724531;file:///home/cms-jovyan/integration-challenge/cms/analysis/nondiff.py\u001b\\\u001b[2mnondiff.py\u001b[0m\u001b]8;;\u001b\\\u001b[2m:\u001b[0m\u001b]8;id=374940;file:///home/cms-jovyan/integration-challenge/cms/analysis/nondiff.py#208\u001b\\\u001b[2m208\u001b[0m\u001b]8;;\u001b\\\n"
      ]
     },
     "metadata": {},
     "output_type": "display_data"
    },
    {
     "data": {
      "text/html": [
       "<pre style=\"white-space:pre;overflow-x:auto;line-height:normal;font-family:Menlo,'DejaVu Sans Mono',consolas,'Courier New',monospace\"><span style=\"color: #7fbfbf; text-decoration-color: #7fbfbf\">         </span><span style=\"color: #000080; text-decoration-color: #000080\">INFO    </span> <span style=\"color: #000000; text-decoration-color: #000000\">Computing observable workshop_mtt                                                  </span><a href=\"file:///home/cms-jovyan/integration-challenge/cms/analysis/nondiff.py\" target=\"_blank\"><span style=\"color: #7f7f7f; text-decoration-color: #7f7f7f\">nondiff.py</span></a><span style=\"color: #7f7f7f; text-decoration-color: #7f7f7f\">:</span><a href=\"file:///home/cms-jovyan/integration-challenge/cms/analysis/nondiff.py#213\" target=\"_blank\"><span style=\"color: #7f7f7f; text-decoration-color: #7f7f7f\">213</span></a>\n",
       "</pre>\n"
      ],
      "text/plain": [
       "\u001b[2;36m        \u001b[0m\u001b[2;36m \u001b[0m\u001b[34mINFO    \u001b[0m \u001b[39mComputing observable workshop_mtt                                                 \u001b[0m\u001b[39m \u001b[0m\u001b]8;id=905680;file:///home/cms-jovyan/integration-challenge/cms/analysis/nondiff.py\u001b\\\u001b[2mnondiff.py\u001b[0m\u001b]8;;\u001b\\\u001b[2m:\u001b[0m\u001b]8;id=201611;file:///home/cms-jovyan/integration-challenge/cms/analysis/nondiff.py#213\u001b\\\u001b[2m213\u001b[0m\u001b]8;;\u001b\\\n"
      ]
     },
     "metadata": {},
     "output_type": "display_data"
    },
    {
     "data": {
      "text/html": [
       "<pre style=\"white-space:pre;overflow-x:auto;line-height:normal;font-family:Menlo,'DejaVu Sans Mono',consolas,'Courier New',monospace\"><span style=\"color: #7fbfbf; text-decoration-color: #7fbfbf\">         </span><span style=\"color: #000080; text-decoration-color: #000080\">INFO    </span> <span style=\"color: #000000; text-decoration-color: #000000\">Applying selection for CMS_WORKSHOP in signal with variation                       </span><a href=\"file:///home/cms-jovyan/integration-challenge/cms/analysis/nondiff.py\" target=\"_blank\"><span style=\"color: #7f7f7f; text-decoration-color: #7f7f7f\">nondiff.py</span></a><span style=\"color: #7f7f7f; text-decoration-color: #7f7f7f\">:</span><a href=\"file:///home/cms-jovyan/integration-challenge/cms/analysis/nondiff.py#154\" target=\"_blank\"><span style=\"color: #7f7f7f; text-decoration-color: #7f7f7f\">154</span></a>\n",
       "<span style=\"color: #7fbfbf; text-decoration-color: #7fbfbf\">         </span>         <span style=\"color: #000000; text-decoration-color: #000000\">jet_pt_resolution_down                                                             </span><span style=\"color: #7f7f7f; text-decoration-color: #7f7f7f\">              </span>\n",
       "</pre>\n"
      ],
      "text/plain": [
       "\u001b[2;36m        \u001b[0m\u001b[2;36m \u001b[0m\u001b[34mINFO    \u001b[0m \u001b[39mApplying selection for CMS_WORKSHOP in signal with variation                      \u001b[0m\u001b[39m \u001b[0m\u001b]8;id=201567;file:///home/cms-jovyan/integration-challenge/cms/analysis/nondiff.py\u001b\\\u001b[2mnondiff.py\u001b[0m\u001b]8;;\u001b\\\u001b[2m:\u001b[0m\u001b]8;id=168396;file:///home/cms-jovyan/integration-challenge/cms/analysis/nondiff.py#154\u001b\\\u001b[2m154\u001b[0m\u001b]8;;\u001b\\\n",
       "\u001b[2;36m         \u001b[0m         \u001b[39mjet_pt_resolution_down                                                            \u001b[0m\u001b[39m \u001b[0m\u001b[2m              \u001b[0m\n"
      ]
     },
     "metadata": {},
     "output_type": "display_data"
    },
    {
     "data": {
      "text/html": [
       "<pre style=\"white-space:pre;overflow-x:auto;line-height:normal;font-family:Menlo,'DejaVu Sans Mono',consolas,'Courier New',monospace\"><span style=\"color: #7fbfbf; text-decoration-color: #7fbfbf\">         </span><span style=\"color: #000080; text-decoration-color: #000080\">INFO    </span> <span style=\"color: #000000; text-decoration-color: #000000\">Number of weighted events in CMS_WORKSHOP: </span><span style=\"color: #008080; text-decoration-color: #008080; font-weight: bold\">515.29</span><span style=\"color: #000000; text-decoration-color: #000000\">                                  </span><a href=\"file:///home/cms-jovyan/integration-challenge/cms/analysis/nondiff.py\" target=\"_blank\"><span style=\"color: #7f7f7f; text-decoration-color: #7f7f7f\">nondiff.py</span></a><span style=\"color: #7f7f7f; text-decoration-color: #7f7f7f\">:</span><a href=\"file:///home/cms-jovyan/integration-challenge/cms/analysis/nondiff.py#205\" target=\"_blank\"><span style=\"color: #7f7f7f; text-decoration-color: #7f7f7f\">205</span></a>\n",
       "</pre>\n"
      ],
      "text/plain": [
       "\u001b[2;36m        \u001b[0m\u001b[2;36m \u001b[0m\u001b[34mINFO    \u001b[0m \u001b[39mNumber of weighted events in CMS_WORKSHOP: \u001b[0m\u001b[1;36m515.29\u001b[0m\u001b[39m                                 \u001b[0m\u001b[39m \u001b[0m\u001b]8;id=132661;file:///home/cms-jovyan/integration-challenge/cms/analysis/nondiff.py\u001b\\\u001b[2mnondiff.py\u001b[0m\u001b]8;;\u001b\\\u001b[2m:\u001b[0m\u001b]8;id=471431;file:///home/cms-jovyan/integration-challenge/cms/analysis/nondiff.py#205\u001b\\\u001b[2m205\u001b[0m\u001b]8;;\u001b\\\n"
      ]
     },
     "metadata": {},
     "output_type": "display_data"
    },
    {
     "data": {
      "text/html": [
       "<pre style=\"white-space:pre;overflow-x:auto;line-height:normal;font-family:Menlo,'DejaVu Sans Mono',consolas,'Courier New',monospace\"><span style=\"color: #7fbfbf; text-decoration-color: #7fbfbf\">         </span><span style=\"color: #000080; text-decoration-color: #000080\">INFO    </span> <span style=\"color: #000000; text-decoration-color: #000000\">Number of raw events in CMS_WORKSHOP: </span><span style=\"color: #008080; text-decoration-color: #008080; font-weight: bold\">16069</span><span style=\"color: #000000; text-decoration-color: #000000\">                                        </span><a href=\"file:///home/cms-jovyan/integration-challenge/cms/analysis/nondiff.py\" target=\"_blank\"><span style=\"color: #7f7f7f; text-decoration-color: #7f7f7f\">nondiff.py</span></a><span style=\"color: #7f7f7f; text-decoration-color: #7f7f7f\">:</span><a href=\"file:///home/cms-jovyan/integration-challenge/cms/analysis/nondiff.py#208\" target=\"_blank\"><span style=\"color: #7f7f7f; text-decoration-color: #7f7f7f\">208</span></a>\n",
       "</pre>\n"
      ],
      "text/plain": [
       "\u001b[2;36m        \u001b[0m\u001b[2;36m \u001b[0m\u001b[34mINFO    \u001b[0m \u001b[39mNumber of raw events in CMS_WORKSHOP: \u001b[0m\u001b[1;36m16069\u001b[0m\u001b[39m                                       \u001b[0m\u001b[39m \u001b[0m\u001b]8;id=904390;file:///home/cms-jovyan/integration-challenge/cms/analysis/nondiff.py\u001b\\\u001b[2mnondiff.py\u001b[0m\u001b]8;;\u001b\\\u001b[2m:\u001b[0m\u001b]8;id=192819;file:///home/cms-jovyan/integration-challenge/cms/analysis/nondiff.py#208\u001b\\\u001b[2m208\u001b[0m\u001b]8;;\u001b\\\n"
      ]
     },
     "metadata": {},
     "output_type": "display_data"
    },
    {
     "data": {
      "text/html": [
       "<pre style=\"white-space:pre;overflow-x:auto;line-height:normal;font-family:Menlo,'DejaVu Sans Mono',consolas,'Courier New',monospace\"><span style=\"color: #7fbfbf; text-decoration-color: #7fbfbf\">         </span><span style=\"color: #000080; text-decoration-color: #000080\">INFO    </span> <span style=\"color: #000000; text-decoration-color: #000000\">Computing observable workshop_mtt                                                  </span><a href=\"file:///home/cms-jovyan/integration-challenge/cms/analysis/nondiff.py\" target=\"_blank\"><span style=\"color: #7f7f7f; text-decoration-color: #7f7f7f\">nondiff.py</span></a><span style=\"color: #7f7f7f; text-decoration-color: #7f7f7f\">:</span><a href=\"file:///home/cms-jovyan/integration-challenge/cms/analysis/nondiff.py#213\" target=\"_blank\"><span style=\"color: #7f7f7f; text-decoration-color: #7f7f7f\">213</span></a>\n",
       "</pre>\n"
      ],
      "text/plain": [
       "\u001b[2;36m        \u001b[0m\u001b[2;36m \u001b[0m\u001b[34mINFO    \u001b[0m \u001b[39mComputing observable workshop_mtt                                                 \u001b[0m\u001b[39m \u001b[0m\u001b]8;id=191641;file:///home/cms-jovyan/integration-challenge/cms/analysis/nondiff.py\u001b\\\u001b[2mnondiff.py\u001b[0m\u001b]8;;\u001b\\\u001b[2m:\u001b[0m\u001b]8;id=756677;file:///home/cms-jovyan/integration-challenge/cms/analysis/nondiff.py#213\u001b\\\u001b[2m213\u001b[0m\u001b]8;;\u001b\\\n"
      ]
     },
     "metadata": {},
     "output_type": "display_data"
    },
    {
     "data": {
      "text/html": [
       "<pre style=\"white-space:pre;overflow-x:auto;line-height:normal;font-family:Menlo,'DejaVu Sans Mono',consolas,'Courier New',monospace\"><span style=\"color: #7fbfbf; text-decoration-color: #7fbfbf\">         </span><span style=\"color: #000080; text-decoration-color: #000080\">INFO    </span> <span style=\"color: #000000; text-decoration-color: #000000\">Applying selection for CMS_WORKSHOP in signal with variation jet_pt_scale_up       </span><a href=\"file:///home/cms-jovyan/integration-challenge/cms/analysis/nondiff.py\" target=\"_blank\"><span style=\"color: #7f7f7f; text-decoration-color: #7f7f7f\">nondiff.py</span></a><span style=\"color: #7f7f7f; text-decoration-color: #7f7f7f\">:</span><a href=\"file:///home/cms-jovyan/integration-challenge/cms/analysis/nondiff.py#154\" target=\"_blank\"><span style=\"color: #7f7f7f; text-decoration-color: #7f7f7f\">154</span></a>\n",
       "</pre>\n"
      ],
      "text/plain": [
       "\u001b[2;36m        \u001b[0m\u001b[2;36m \u001b[0m\u001b[34mINFO    \u001b[0m \u001b[39mApplying selection for CMS_WORKSHOP in signal with variation jet_pt_scale_up      \u001b[0m\u001b[39m \u001b[0m\u001b]8;id=906899;file:///home/cms-jovyan/integration-challenge/cms/analysis/nondiff.py\u001b\\\u001b[2mnondiff.py\u001b[0m\u001b]8;;\u001b\\\u001b[2m:\u001b[0m\u001b]8;id=827019;file:///home/cms-jovyan/integration-challenge/cms/analysis/nondiff.py#154\u001b\\\u001b[2m154\u001b[0m\u001b]8;;\u001b\\\n"
      ]
     },
     "metadata": {},
     "output_type": "display_data"
    },
    {
     "data": {
      "text/html": [
       "<pre style=\"white-space:pre;overflow-x:auto;line-height:normal;font-family:Menlo,'DejaVu Sans Mono',consolas,'Courier New',monospace\"><span style=\"color: #7fbfbf; text-decoration-color: #7fbfbf\">         </span><span style=\"color: #000080; text-decoration-color: #000080\">INFO    </span> <span style=\"color: #000000; text-decoration-color: #000000\">Number of weighted events in CMS_WORKSHOP: </span><span style=\"color: #008080; text-decoration-color: #008080; font-weight: bold\">515.29</span><span style=\"color: #000000; text-decoration-color: #000000\">                                  </span><a href=\"file:///home/cms-jovyan/integration-challenge/cms/analysis/nondiff.py\" target=\"_blank\"><span style=\"color: #7f7f7f; text-decoration-color: #7f7f7f\">nondiff.py</span></a><span style=\"color: #7f7f7f; text-decoration-color: #7f7f7f\">:</span><a href=\"file:///home/cms-jovyan/integration-challenge/cms/analysis/nondiff.py#205\" target=\"_blank\"><span style=\"color: #7f7f7f; text-decoration-color: #7f7f7f\">205</span></a>\n",
       "</pre>\n"
      ],
      "text/plain": [
       "\u001b[2;36m        \u001b[0m\u001b[2;36m \u001b[0m\u001b[34mINFO    \u001b[0m \u001b[39mNumber of weighted events in CMS_WORKSHOP: \u001b[0m\u001b[1;36m515.29\u001b[0m\u001b[39m                                 \u001b[0m\u001b[39m \u001b[0m\u001b]8;id=67081;file:///home/cms-jovyan/integration-challenge/cms/analysis/nondiff.py\u001b\\\u001b[2mnondiff.py\u001b[0m\u001b]8;;\u001b\\\u001b[2m:\u001b[0m\u001b]8;id=118242;file:///home/cms-jovyan/integration-challenge/cms/analysis/nondiff.py#205\u001b\\\u001b[2m205\u001b[0m\u001b]8;;\u001b\\\n"
      ]
     },
     "metadata": {},
     "output_type": "display_data"
    },
    {
     "data": {
      "text/html": [
       "<pre style=\"white-space:pre;overflow-x:auto;line-height:normal;font-family:Menlo,'DejaVu Sans Mono',consolas,'Courier New',monospace\"><span style=\"color: #7fbfbf; text-decoration-color: #7fbfbf\">         </span><span style=\"color: #000080; text-decoration-color: #000080\">INFO    </span> <span style=\"color: #000000; text-decoration-color: #000000\">Number of raw events in CMS_WORKSHOP: </span><span style=\"color: #008080; text-decoration-color: #008080; font-weight: bold\">16069</span><span style=\"color: #000000; text-decoration-color: #000000\">                                        </span><a href=\"file:///home/cms-jovyan/integration-challenge/cms/analysis/nondiff.py\" target=\"_blank\"><span style=\"color: #7f7f7f; text-decoration-color: #7f7f7f\">nondiff.py</span></a><span style=\"color: #7f7f7f; text-decoration-color: #7f7f7f\">:</span><a href=\"file:///home/cms-jovyan/integration-challenge/cms/analysis/nondiff.py#208\" target=\"_blank\"><span style=\"color: #7f7f7f; text-decoration-color: #7f7f7f\">208</span></a>\n",
       "</pre>\n"
      ],
      "text/plain": [
       "\u001b[2;36m        \u001b[0m\u001b[2;36m \u001b[0m\u001b[34mINFO    \u001b[0m \u001b[39mNumber of raw events in CMS_WORKSHOP: \u001b[0m\u001b[1;36m16069\u001b[0m\u001b[39m                                       \u001b[0m\u001b[39m \u001b[0m\u001b]8;id=320395;file:///home/cms-jovyan/integration-challenge/cms/analysis/nondiff.py\u001b\\\u001b[2mnondiff.py\u001b[0m\u001b]8;;\u001b\\\u001b[2m:\u001b[0m\u001b]8;id=443946;file:///home/cms-jovyan/integration-challenge/cms/analysis/nondiff.py#208\u001b\\\u001b[2m208\u001b[0m\u001b]8;;\u001b\\\n"
      ]
     },
     "metadata": {},
     "output_type": "display_data"
    },
    {
     "data": {
      "text/html": [
       "<pre style=\"white-space:pre;overflow-x:auto;line-height:normal;font-family:Menlo,'DejaVu Sans Mono',consolas,'Courier New',monospace\"><span style=\"color: #7fbfbf; text-decoration-color: #7fbfbf\">         </span><span style=\"color: #000080; text-decoration-color: #000080\">INFO    </span> <span style=\"color: #000000; text-decoration-color: #000000\">Computing observable workshop_mtt                                                  </span><a href=\"file:///home/cms-jovyan/integration-challenge/cms/analysis/nondiff.py\" target=\"_blank\"><span style=\"color: #7f7f7f; text-decoration-color: #7f7f7f\">nondiff.py</span></a><span style=\"color: #7f7f7f; text-decoration-color: #7f7f7f\">:</span><a href=\"file:///home/cms-jovyan/integration-challenge/cms/analysis/nondiff.py#213\" target=\"_blank\"><span style=\"color: #7f7f7f; text-decoration-color: #7f7f7f\">213</span></a>\n",
       "</pre>\n"
      ],
      "text/plain": [
       "\u001b[2;36m        \u001b[0m\u001b[2;36m \u001b[0m\u001b[34mINFO    \u001b[0m \u001b[39mComputing observable workshop_mtt                                                 \u001b[0m\u001b[39m \u001b[0m\u001b]8;id=817808;file:///home/cms-jovyan/integration-challenge/cms/analysis/nondiff.py\u001b\\\u001b[2mnondiff.py\u001b[0m\u001b]8;;\u001b\\\u001b[2m:\u001b[0m\u001b]8;id=227173;file:///home/cms-jovyan/integration-challenge/cms/analysis/nondiff.py#213\u001b\\\u001b[2m213\u001b[0m\u001b]8;;\u001b\\\n"
      ]
     },
     "metadata": {},
     "output_type": "display_data"
    },
    {
     "data": {
      "text/html": [
       "<pre style=\"white-space:pre;overflow-x:auto;line-height:normal;font-family:Menlo,'DejaVu Sans Mono',consolas,'Courier New',monospace\"><span style=\"color: #7fbfbf; text-decoration-color: #7fbfbf\">         </span><span style=\"color: #000080; text-decoration-color: #000080\">INFO    </span> <span style=\"color: #000000; text-decoration-color: #000000\">Applying selection for CMS_WORKSHOP in signal with variation jet_pt_scale_down     </span><a href=\"file:///home/cms-jovyan/integration-challenge/cms/analysis/nondiff.py\" target=\"_blank\"><span style=\"color: #7f7f7f; text-decoration-color: #7f7f7f\">nondiff.py</span></a><span style=\"color: #7f7f7f; text-decoration-color: #7f7f7f\">:</span><a href=\"file:///home/cms-jovyan/integration-challenge/cms/analysis/nondiff.py#154\" target=\"_blank\"><span style=\"color: #7f7f7f; text-decoration-color: #7f7f7f\">154</span></a>\n",
       "</pre>\n"
      ],
      "text/plain": [
       "\u001b[2;36m        \u001b[0m\u001b[2;36m \u001b[0m\u001b[34mINFO    \u001b[0m \u001b[39mApplying selection for CMS_WORKSHOP in signal with variation jet_pt_scale_down    \u001b[0m\u001b[39m \u001b[0m\u001b]8;id=430689;file:///home/cms-jovyan/integration-challenge/cms/analysis/nondiff.py\u001b\\\u001b[2mnondiff.py\u001b[0m\u001b]8;;\u001b\\\u001b[2m:\u001b[0m\u001b]8;id=93179;file:///home/cms-jovyan/integration-challenge/cms/analysis/nondiff.py#154\u001b\\\u001b[2m154\u001b[0m\u001b]8;;\u001b\\\n"
      ]
     },
     "metadata": {},
     "output_type": "display_data"
    },
    {
     "data": {
      "text/html": [
       "<pre style=\"white-space:pre;overflow-x:auto;line-height:normal;font-family:Menlo,'DejaVu Sans Mono',consolas,'Courier New',monospace\"><span style=\"color: #7fbfbf; text-decoration-color: #7fbfbf\">         </span><span style=\"color: #000080; text-decoration-color: #000080\">INFO    </span> <span style=\"color: #000000; text-decoration-color: #000000\">Number of weighted events in CMS_WORKSHOP: </span><span style=\"color: #008080; text-decoration-color: #008080; font-weight: bold\">515.29</span><span style=\"color: #000000; text-decoration-color: #000000\">                                  </span><a href=\"file:///home/cms-jovyan/integration-challenge/cms/analysis/nondiff.py\" target=\"_blank\"><span style=\"color: #7f7f7f; text-decoration-color: #7f7f7f\">nondiff.py</span></a><span style=\"color: #7f7f7f; text-decoration-color: #7f7f7f\">:</span><a href=\"file:///home/cms-jovyan/integration-challenge/cms/analysis/nondiff.py#205\" target=\"_blank\"><span style=\"color: #7f7f7f; text-decoration-color: #7f7f7f\">205</span></a>\n",
       "</pre>\n"
      ],
      "text/plain": [
       "\u001b[2;36m        \u001b[0m\u001b[2;36m \u001b[0m\u001b[34mINFO    \u001b[0m \u001b[39mNumber of weighted events in CMS_WORKSHOP: \u001b[0m\u001b[1;36m515.29\u001b[0m\u001b[39m                                 \u001b[0m\u001b[39m \u001b[0m\u001b]8;id=838592;file:///home/cms-jovyan/integration-challenge/cms/analysis/nondiff.py\u001b\\\u001b[2mnondiff.py\u001b[0m\u001b]8;;\u001b\\\u001b[2m:\u001b[0m\u001b]8;id=841611;file:///home/cms-jovyan/integration-challenge/cms/analysis/nondiff.py#205\u001b\\\u001b[2m205\u001b[0m\u001b]8;;\u001b\\\n"
      ]
     },
     "metadata": {},
     "output_type": "display_data"
    },
    {
     "data": {
      "text/html": [
       "<pre style=\"white-space:pre;overflow-x:auto;line-height:normal;font-family:Menlo,'DejaVu Sans Mono',consolas,'Courier New',monospace\"><span style=\"color: #7fbfbf; text-decoration-color: #7fbfbf\">         </span><span style=\"color: #000080; text-decoration-color: #000080\">INFO    </span> <span style=\"color: #000000; text-decoration-color: #000000\">Number of raw events in CMS_WORKSHOP: </span><span style=\"color: #008080; text-decoration-color: #008080; font-weight: bold\">16069</span><span style=\"color: #000000; text-decoration-color: #000000\">                                        </span><a href=\"file:///home/cms-jovyan/integration-challenge/cms/analysis/nondiff.py\" target=\"_blank\"><span style=\"color: #7f7f7f; text-decoration-color: #7f7f7f\">nondiff.py</span></a><span style=\"color: #7f7f7f; text-decoration-color: #7f7f7f\">:</span><a href=\"file:///home/cms-jovyan/integration-challenge/cms/analysis/nondiff.py#208\" target=\"_blank\"><span style=\"color: #7f7f7f; text-decoration-color: #7f7f7f\">208</span></a>\n",
       "</pre>\n"
      ],
      "text/plain": [
       "\u001b[2;36m        \u001b[0m\u001b[2;36m \u001b[0m\u001b[34mINFO    \u001b[0m \u001b[39mNumber of raw events in CMS_WORKSHOP: \u001b[0m\u001b[1;36m16069\u001b[0m\u001b[39m                                       \u001b[0m\u001b[39m \u001b[0m\u001b]8;id=788501;file:///home/cms-jovyan/integration-challenge/cms/analysis/nondiff.py\u001b\\\u001b[2mnondiff.py\u001b[0m\u001b]8;;\u001b\\\u001b[2m:\u001b[0m\u001b]8;id=514156;file:///home/cms-jovyan/integration-challenge/cms/analysis/nondiff.py#208\u001b\\\u001b[2m208\u001b[0m\u001b]8;;\u001b\\\n"
      ]
     },
     "metadata": {},
     "output_type": "display_data"
    },
    {
     "data": {
      "text/html": [
       "<pre style=\"white-space:pre;overflow-x:auto;line-height:normal;font-family:Menlo,'DejaVu Sans Mono',consolas,'Courier New',monospace\"><span style=\"color: #7fbfbf; text-decoration-color: #7fbfbf\">         </span><span style=\"color: #000080; text-decoration-color: #000080\">INFO    </span> <span style=\"color: #000000; text-decoration-color: #000000\">Computing observable workshop_mtt                                                  </span><a href=\"file:///home/cms-jovyan/integration-challenge/cms/analysis/nondiff.py\" target=\"_blank\"><span style=\"color: #7f7f7f; text-decoration-color: #7f7f7f\">nondiff.py</span></a><span style=\"color: #7f7f7f; text-decoration-color: #7f7f7f\">:</span><a href=\"file:///home/cms-jovyan/integration-challenge/cms/analysis/nondiff.py#213\" target=\"_blank\"><span style=\"color: #7f7f7f; text-decoration-color: #7f7f7f\">213</span></a>\n",
       "</pre>\n"
      ],
      "text/plain": [
       "\u001b[2;36m        \u001b[0m\u001b[2;36m \u001b[0m\u001b[34mINFO    \u001b[0m \u001b[39mComputing observable workshop_mtt                                                 \u001b[0m\u001b[39m \u001b[0m\u001b]8;id=70909;file:///home/cms-jovyan/integration-challenge/cms/analysis/nondiff.py\u001b\\\u001b[2mnondiff.py\u001b[0m\u001b]8;;\u001b\\\u001b[2m:\u001b[0m\u001b]8;id=516749;file:///home/cms-jovyan/integration-challenge/cms/analysis/nondiff.py#213\u001b\\\u001b[2m213\u001b[0m\u001b]8;;\u001b\\\n"
      ]
     },
     "metadata": {},
     "output_type": "display_data"
    },
    {
     "data": {
      "text/html": [
       "<pre style=\"white-space:pre;overflow-x:auto;line-height:normal;font-family:Menlo,'DejaVu Sans Mono',consolas,'Courier New',monospace\"><span style=\"color: #7fbfbf; text-decoration-color: #7fbfbf\">         </span><span style=\"color: #000080; text-decoration-color: #000080\">INFO    </span> <span style=\"color: #000000; text-decoration-color: #000000\">Applying selection for CMS_WORKSHOP in signal with variation pu_weight_up          </span><a href=\"file:///home/cms-jovyan/integration-challenge/cms/analysis/nondiff.py\" target=\"_blank\"><span style=\"color: #7f7f7f; text-decoration-color: #7f7f7f\">nondiff.py</span></a><span style=\"color: #7f7f7f; text-decoration-color: #7f7f7f\">:</span><a href=\"file:///home/cms-jovyan/integration-challenge/cms/analysis/nondiff.py#154\" target=\"_blank\"><span style=\"color: #7f7f7f; text-decoration-color: #7f7f7f\">154</span></a>\n",
       "</pre>\n"
      ],
      "text/plain": [
       "\u001b[2;36m        \u001b[0m\u001b[2;36m \u001b[0m\u001b[34mINFO    \u001b[0m \u001b[39mApplying selection for CMS_WORKSHOP in signal with variation pu_weight_up         \u001b[0m\u001b[39m \u001b[0m\u001b]8;id=854965;file:///home/cms-jovyan/integration-challenge/cms/analysis/nondiff.py\u001b\\\u001b[2mnondiff.py\u001b[0m\u001b]8;;\u001b\\\u001b[2m:\u001b[0m\u001b]8;id=228912;file:///home/cms-jovyan/integration-challenge/cms/analysis/nondiff.py#154\u001b\\\u001b[2m154\u001b[0m\u001b]8;;\u001b\\\n"
      ]
     },
     "metadata": {},
     "output_type": "display_data"
    },
    {
     "data": {
      "text/html": [
       "<pre style=\"white-space:pre;overflow-x:auto;line-height:normal;font-family:Menlo,'DejaVu Sans Mono',consolas,'Courier New',monospace\"><span style=\"color: #7fbfbf; text-decoration-color: #7fbfbf\">         </span><span style=\"color: #000080; text-decoration-color: #000080\">INFO    </span> <span style=\"color: #000000; text-decoration-color: #000000\">Applying correction: pu_weight/Collisions16_UltraLegacy_goldenJSON </span><span style=\"color: #000000; text-decoration-color: #000000; font-weight: bold\">(</span><span style=\"color: #000000; text-decoration-color: #000000\">up</span><span style=\"color: #000000; text-decoration-color: #000000; font-weight: bold\">)</span><span style=\"color: #000000; text-decoration-color: #000000\">               </span><a href=\"file:///home/cms-jovyan/integration-challenge/cms/analysis/base.py\" target=\"_blank\"><span style=\"color: #7f7f7f; text-decoration-color: #7f7f7f\">base.py</span></a><span style=\"color: #7f7f7f; text-decoration-color: #7f7f7f\">:</span><a href=\"file:///home/cms-jovyan/integration-challenge/cms/analysis/base.py#247\" target=\"_blank\"><span style=\"color: #7f7f7f; text-decoration-color: #7f7f7f\">247</span></a>\n",
       "</pre>\n"
      ],
      "text/plain": [
       "\u001b[2;36m        \u001b[0m\u001b[2;36m \u001b[0m\u001b[34mINFO    \u001b[0m \u001b[39mApplying correction: pu_weight/Collisions16_UltraLegacy_goldenJSON \u001b[0m\u001b[1;39m(\u001b[0m\u001b[39mup\u001b[0m\u001b[1;39m)\u001b[0m\u001b[39m              \u001b[0m\u001b[39m \u001b[0m\u001b]8;id=145538;file:///home/cms-jovyan/integration-challenge/cms/analysis/base.py\u001b\\\u001b[2mbase.py\u001b[0m\u001b]8;;\u001b\\\u001b[2m:\u001b[0m\u001b]8;id=814989;file:///home/cms-jovyan/integration-challenge/cms/analysis/base.py#247\u001b\\\u001b[2m247\u001b[0m\u001b]8;;\u001b\\\n"
      ]
     },
     "metadata": {},
     "output_type": "display_data"
    },
    {
     "data": {
      "text/html": [
       "<pre style=\"white-space:pre;overflow-x:auto;line-height:normal;font-family:Menlo,'DejaVu Sans Mono',consolas,'Courier New',monospace\"><span style=\"color: #7fbfbf; text-decoration-color: #7fbfbf\">         </span><span style=\"color: #000080; text-decoration-color: #000080\">INFO    </span> <span style=\"color: #000000; text-decoration-color: #000000\">Number of weighted events in CMS_WORKSHOP: </span><span style=\"color: #008080; text-decoration-color: #008080; font-weight: bold\">16147.07</span><span style=\"color: #000000; text-decoration-color: #000000\">                                </span><a href=\"file:///home/cms-jovyan/integration-challenge/cms/analysis/nondiff.py\" target=\"_blank\"><span style=\"color: #7f7f7f; text-decoration-color: #7f7f7f\">nondiff.py</span></a><span style=\"color: #7f7f7f; text-decoration-color: #7f7f7f\">:</span><a href=\"file:///home/cms-jovyan/integration-challenge/cms/analysis/nondiff.py#205\" target=\"_blank\"><span style=\"color: #7f7f7f; text-decoration-color: #7f7f7f\">205</span></a>\n",
       "</pre>\n"
      ],
      "text/plain": [
       "\u001b[2;36m        \u001b[0m\u001b[2;36m \u001b[0m\u001b[34mINFO    \u001b[0m \u001b[39mNumber of weighted events in CMS_WORKSHOP: \u001b[0m\u001b[1;36m16147.07\u001b[0m\u001b[39m                               \u001b[0m\u001b[39m \u001b[0m\u001b]8;id=135674;file:///home/cms-jovyan/integration-challenge/cms/analysis/nondiff.py\u001b\\\u001b[2mnondiff.py\u001b[0m\u001b]8;;\u001b\\\u001b[2m:\u001b[0m\u001b]8;id=353271;file:///home/cms-jovyan/integration-challenge/cms/analysis/nondiff.py#205\u001b\\\u001b[2m205\u001b[0m\u001b]8;;\u001b\\\n"
      ]
     },
     "metadata": {},
     "output_type": "display_data"
    },
    {
     "data": {
      "text/html": [
       "<pre style=\"white-space:pre;overflow-x:auto;line-height:normal;font-family:Menlo,'DejaVu Sans Mono',consolas,'Courier New',monospace\"><span style=\"color: #7fbfbf; text-decoration-color: #7fbfbf\">         </span><span style=\"color: #000080; text-decoration-color: #000080\">INFO    </span> <span style=\"color: #000000; text-decoration-color: #000000\">Number of raw events in CMS_WORKSHOP: </span><span style=\"color: #008080; text-decoration-color: #008080; font-weight: bold\">16069</span><span style=\"color: #000000; text-decoration-color: #000000\">                                        </span><a href=\"file:///home/cms-jovyan/integration-challenge/cms/analysis/nondiff.py\" target=\"_blank\"><span style=\"color: #7f7f7f; text-decoration-color: #7f7f7f\">nondiff.py</span></a><span style=\"color: #7f7f7f; text-decoration-color: #7f7f7f\">:</span><a href=\"file:///home/cms-jovyan/integration-challenge/cms/analysis/nondiff.py#208\" target=\"_blank\"><span style=\"color: #7f7f7f; text-decoration-color: #7f7f7f\">208</span></a>\n",
       "</pre>\n"
      ],
      "text/plain": [
       "\u001b[2;36m        \u001b[0m\u001b[2;36m \u001b[0m\u001b[34mINFO    \u001b[0m \u001b[39mNumber of raw events in CMS_WORKSHOP: \u001b[0m\u001b[1;36m16069\u001b[0m\u001b[39m                                       \u001b[0m\u001b[39m \u001b[0m\u001b]8;id=815093;file:///home/cms-jovyan/integration-challenge/cms/analysis/nondiff.py\u001b\\\u001b[2mnondiff.py\u001b[0m\u001b]8;;\u001b\\\u001b[2m:\u001b[0m\u001b]8;id=514750;file:///home/cms-jovyan/integration-challenge/cms/analysis/nondiff.py#208\u001b\\\u001b[2m208\u001b[0m\u001b]8;;\u001b\\\n"
      ]
     },
     "metadata": {},
     "output_type": "display_data"
    },
    {
     "data": {
      "text/html": [
       "<pre style=\"white-space:pre;overflow-x:auto;line-height:normal;font-family:Menlo,'DejaVu Sans Mono',consolas,'Courier New',monospace\"><span style=\"color: #7fbfbf; text-decoration-color: #7fbfbf\">         </span><span style=\"color: #000080; text-decoration-color: #000080\">INFO    </span> <span style=\"color: #000000; text-decoration-color: #000000\">Computing observable workshop_mtt                                                  </span><a href=\"file:///home/cms-jovyan/integration-challenge/cms/analysis/nondiff.py\" target=\"_blank\"><span style=\"color: #7f7f7f; text-decoration-color: #7f7f7f\">nondiff.py</span></a><span style=\"color: #7f7f7f; text-decoration-color: #7f7f7f\">:</span><a href=\"file:///home/cms-jovyan/integration-challenge/cms/analysis/nondiff.py#213\" target=\"_blank\"><span style=\"color: #7f7f7f; text-decoration-color: #7f7f7f\">213</span></a>\n",
       "</pre>\n"
      ],
      "text/plain": [
       "\u001b[2;36m        \u001b[0m\u001b[2;36m \u001b[0m\u001b[34mINFO    \u001b[0m \u001b[39mComputing observable workshop_mtt                                                 \u001b[0m\u001b[39m \u001b[0m\u001b]8;id=402869;file:///home/cms-jovyan/integration-challenge/cms/analysis/nondiff.py\u001b\\\u001b[2mnondiff.py\u001b[0m\u001b]8;;\u001b\\\u001b[2m:\u001b[0m\u001b]8;id=82454;file:///home/cms-jovyan/integration-challenge/cms/analysis/nondiff.py#213\u001b\\\u001b[2m213\u001b[0m\u001b]8;;\u001b\\\n"
      ]
     },
     "metadata": {},
     "output_type": "display_data"
    },
    {
     "data": {
      "text/html": [
       "<pre style=\"white-space:pre;overflow-x:auto;line-height:normal;font-family:Menlo,'DejaVu Sans Mono',consolas,'Courier New',monospace\"><span style=\"color: #7fbfbf; text-decoration-color: #7fbfbf\">         </span><span style=\"color: #000080; text-decoration-color: #000080\">INFO    </span> <span style=\"color: #000000; text-decoration-color: #000000\">Applying selection for CMS_WORKSHOP in signal with variation pu_weight_down        </span><a href=\"file:///home/cms-jovyan/integration-challenge/cms/analysis/nondiff.py\" target=\"_blank\"><span style=\"color: #7f7f7f; text-decoration-color: #7f7f7f\">nondiff.py</span></a><span style=\"color: #7f7f7f; text-decoration-color: #7f7f7f\">:</span><a href=\"file:///home/cms-jovyan/integration-challenge/cms/analysis/nondiff.py#154\" target=\"_blank\"><span style=\"color: #7f7f7f; text-decoration-color: #7f7f7f\">154</span></a>\n",
       "</pre>\n"
      ],
      "text/plain": [
       "\u001b[2;36m        \u001b[0m\u001b[2;36m \u001b[0m\u001b[34mINFO    \u001b[0m \u001b[39mApplying selection for CMS_WORKSHOP in signal with variation pu_weight_down       \u001b[0m\u001b[39m \u001b[0m\u001b]8;id=884725;file:///home/cms-jovyan/integration-challenge/cms/analysis/nondiff.py\u001b\\\u001b[2mnondiff.py\u001b[0m\u001b]8;;\u001b\\\u001b[2m:\u001b[0m\u001b]8;id=481968;file:///home/cms-jovyan/integration-challenge/cms/analysis/nondiff.py#154\u001b\\\u001b[2m154\u001b[0m\u001b]8;;\u001b\\\n"
      ]
     },
     "metadata": {},
     "output_type": "display_data"
    },
    {
     "data": {
      "text/html": [
       "<pre style=\"white-space:pre;overflow-x:auto;line-height:normal;font-family:Menlo,'DejaVu Sans Mono',consolas,'Courier New',monospace\"><span style=\"color: #7fbfbf; text-decoration-color: #7fbfbf\">         </span><span style=\"color: #000080; text-decoration-color: #000080\">INFO    </span> <span style=\"color: #000000; text-decoration-color: #000000\">Applying correction: pu_weight/Collisions16_UltraLegacy_goldenJSON </span><span style=\"color: #000000; text-decoration-color: #000000; font-weight: bold\">(</span><span style=\"color: #000000; text-decoration-color: #000000\">down</span><span style=\"color: #000000; text-decoration-color: #000000; font-weight: bold\">)</span><span style=\"color: #000000; text-decoration-color: #000000\">             </span><a href=\"file:///home/cms-jovyan/integration-challenge/cms/analysis/base.py\" target=\"_blank\"><span style=\"color: #7f7f7f; text-decoration-color: #7f7f7f\">base.py</span></a><span style=\"color: #7f7f7f; text-decoration-color: #7f7f7f\">:</span><a href=\"file:///home/cms-jovyan/integration-challenge/cms/analysis/base.py#247\" target=\"_blank\"><span style=\"color: #7f7f7f; text-decoration-color: #7f7f7f\">247</span></a>\n",
       "</pre>\n"
      ],
      "text/plain": [
       "\u001b[2;36m        \u001b[0m\u001b[2;36m \u001b[0m\u001b[34mINFO    \u001b[0m \u001b[39mApplying correction: pu_weight/Collisions16_UltraLegacy_goldenJSON \u001b[0m\u001b[1;39m(\u001b[0m\u001b[39mdown\u001b[0m\u001b[1;39m)\u001b[0m\u001b[39m            \u001b[0m\u001b[39m \u001b[0m\u001b]8;id=87296;file:///home/cms-jovyan/integration-challenge/cms/analysis/base.py\u001b\\\u001b[2mbase.py\u001b[0m\u001b]8;;\u001b\\\u001b[2m:\u001b[0m\u001b]8;id=146531;file:///home/cms-jovyan/integration-challenge/cms/analysis/base.py#247\u001b\\\u001b[2m247\u001b[0m\u001b]8;;\u001b\\\n"
      ]
     },
     "metadata": {},
     "output_type": "display_data"
    },
    {
     "data": {
      "text/html": [
       "<pre style=\"white-space:pre;overflow-x:auto;line-height:normal;font-family:Menlo,'DejaVu Sans Mono',consolas,'Courier New',monospace\"><span style=\"color: #7fbfbf; text-decoration-color: #7fbfbf\">         </span><span style=\"color: #000080; text-decoration-color: #000080\">INFO    </span> <span style=\"color: #000000; text-decoration-color: #000000\">Number of weighted events in CMS_WORKSHOP: </span><span style=\"color: #008080; text-decoration-color: #008080; font-weight: bold\">16141.26</span><span style=\"color: #000000; text-decoration-color: #000000\">                                </span><a href=\"file:///home/cms-jovyan/integration-challenge/cms/analysis/nondiff.py\" target=\"_blank\"><span style=\"color: #7f7f7f; text-decoration-color: #7f7f7f\">nondiff.py</span></a><span style=\"color: #7f7f7f; text-decoration-color: #7f7f7f\">:</span><a href=\"file:///home/cms-jovyan/integration-challenge/cms/analysis/nondiff.py#205\" target=\"_blank\"><span style=\"color: #7f7f7f; text-decoration-color: #7f7f7f\">205</span></a>\n",
       "</pre>\n"
      ],
      "text/plain": [
       "\u001b[2;36m        \u001b[0m\u001b[2;36m \u001b[0m\u001b[34mINFO    \u001b[0m \u001b[39mNumber of weighted events in CMS_WORKSHOP: \u001b[0m\u001b[1;36m16141.26\u001b[0m\u001b[39m                               \u001b[0m\u001b[39m \u001b[0m\u001b]8;id=848471;file:///home/cms-jovyan/integration-challenge/cms/analysis/nondiff.py\u001b\\\u001b[2mnondiff.py\u001b[0m\u001b]8;;\u001b\\\u001b[2m:\u001b[0m\u001b]8;id=690525;file:///home/cms-jovyan/integration-challenge/cms/analysis/nondiff.py#205\u001b\\\u001b[2m205\u001b[0m\u001b]8;;\u001b\\\n"
      ]
     },
     "metadata": {},
     "output_type": "display_data"
    },
    {
     "data": {
      "text/html": [
       "<pre style=\"white-space:pre;overflow-x:auto;line-height:normal;font-family:Menlo,'DejaVu Sans Mono',consolas,'Courier New',monospace\"><span style=\"color: #7fbfbf; text-decoration-color: #7fbfbf\">         </span><span style=\"color: #000080; text-decoration-color: #000080\">INFO    </span> <span style=\"color: #000000; text-decoration-color: #000000\">Number of raw events in CMS_WORKSHOP: </span><span style=\"color: #008080; text-decoration-color: #008080; font-weight: bold\">16069</span><span style=\"color: #000000; text-decoration-color: #000000\">                                        </span><a href=\"file:///home/cms-jovyan/integration-challenge/cms/analysis/nondiff.py\" target=\"_blank\"><span style=\"color: #7f7f7f; text-decoration-color: #7f7f7f\">nondiff.py</span></a><span style=\"color: #7f7f7f; text-decoration-color: #7f7f7f\">:</span><a href=\"file:///home/cms-jovyan/integration-challenge/cms/analysis/nondiff.py#208\" target=\"_blank\"><span style=\"color: #7f7f7f; text-decoration-color: #7f7f7f\">208</span></a>\n",
       "</pre>\n"
      ],
      "text/plain": [
       "\u001b[2;36m        \u001b[0m\u001b[2;36m \u001b[0m\u001b[34mINFO    \u001b[0m \u001b[39mNumber of raw events in CMS_WORKSHOP: \u001b[0m\u001b[1;36m16069\u001b[0m\u001b[39m                                       \u001b[0m\u001b[39m \u001b[0m\u001b]8;id=825574;file:///home/cms-jovyan/integration-challenge/cms/analysis/nondiff.py\u001b\\\u001b[2mnondiff.py\u001b[0m\u001b]8;;\u001b\\\u001b[2m:\u001b[0m\u001b]8;id=973761;file:///home/cms-jovyan/integration-challenge/cms/analysis/nondiff.py#208\u001b\\\u001b[2m208\u001b[0m\u001b]8;;\u001b\\\n"
      ]
     },
     "metadata": {},
     "output_type": "display_data"
    },
    {
     "data": {
      "text/html": [
       "<pre style=\"white-space:pre;overflow-x:auto;line-height:normal;font-family:Menlo,'DejaVu Sans Mono',consolas,'Courier New',monospace\"><span style=\"color: #7fbfbf; text-decoration-color: #7fbfbf\">         </span><span style=\"color: #000080; text-decoration-color: #000080\">INFO    </span> <span style=\"color: #000000; text-decoration-color: #000000\">Computing observable workshop_mtt                                                  </span><a href=\"file:///home/cms-jovyan/integration-challenge/cms/analysis/nondiff.py\" target=\"_blank\"><span style=\"color: #7f7f7f; text-decoration-color: #7f7f7f\">nondiff.py</span></a><span style=\"color: #7f7f7f; text-decoration-color: #7f7f7f\">:</span><a href=\"file:///home/cms-jovyan/integration-challenge/cms/analysis/nondiff.py#213\" target=\"_blank\"><span style=\"color: #7f7f7f; text-decoration-color: #7f7f7f\">213</span></a>\n",
       "</pre>\n"
      ],
      "text/plain": [
       "\u001b[2;36m        \u001b[0m\u001b[2;36m \u001b[0m\u001b[34mINFO    \u001b[0m \u001b[39mComputing observable workshop_mtt                                                 \u001b[0m\u001b[39m \u001b[0m\u001b]8;id=43754;file:///home/cms-jovyan/integration-challenge/cms/analysis/nondiff.py\u001b\\\u001b[2mnondiff.py\u001b[0m\u001b]8;;\u001b\\\u001b[2m:\u001b[0m\u001b]8;id=99219;file:///home/cms-jovyan/integration-challenge/cms/analysis/nondiff.py#213\u001b\\\u001b[2m213\u001b[0m\u001b]8;;\u001b\\\n"
      ]
     },
     "metadata": {},
     "output_type": "display_data"
    },
    {
     "data": {
      "text/html": [
       "<pre style=\"white-space:pre;overflow-x:auto;line-height:normal;font-family:Menlo,'DejaVu Sans Mono',consolas,'Courier New',monospace\"><span style=\"color: #7fbfbf; text-decoration-color: #7fbfbf\">         </span><span style=\"color: #000080; text-decoration-color: #000080\">INFO    </span> <span style=\"color: #000000; text-decoration-color: #000000\">Applying selection for CMS_WORKSHOP in signal with variation muon_id_sf_up         </span><a href=\"file:///home/cms-jovyan/integration-challenge/cms/analysis/nondiff.py\" target=\"_blank\"><span style=\"color: #7f7f7f; text-decoration-color: #7f7f7f\">nondiff.py</span></a><span style=\"color: #7f7f7f; text-decoration-color: #7f7f7f\">:</span><a href=\"file:///home/cms-jovyan/integration-challenge/cms/analysis/nondiff.py#154\" target=\"_blank\"><span style=\"color: #7f7f7f; text-decoration-color: #7f7f7f\">154</span></a>\n",
       "</pre>\n"
      ],
      "text/plain": [
       "\u001b[2;36m        \u001b[0m\u001b[2;36m \u001b[0m\u001b[34mINFO    \u001b[0m \u001b[39mApplying selection for CMS_WORKSHOP in signal with variation muon_id_sf_up        \u001b[0m\u001b[39m \u001b[0m\u001b]8;id=674633;file:///home/cms-jovyan/integration-challenge/cms/analysis/nondiff.py\u001b\\\u001b[2mnondiff.py\u001b[0m\u001b]8;;\u001b\\\u001b[2m:\u001b[0m\u001b]8;id=906461;file:///home/cms-jovyan/integration-challenge/cms/analysis/nondiff.py#154\u001b\\\u001b[2m154\u001b[0m\u001b]8;;\u001b\\\n"
      ]
     },
     "metadata": {},
     "output_type": "display_data"
    },
    {
     "data": {
      "text/html": [
       "<pre style=\"white-space:pre;overflow-x:auto;line-height:normal;font-family:Menlo,'DejaVu Sans Mono',consolas,'Courier New',monospace\"><span style=\"color: #7fbfbf; text-decoration-color: #7fbfbf\">         </span><span style=\"color: #000080; text-decoration-color: #000080\">INFO    </span> <span style=\"color: #000000; text-decoration-color: #000000\">Applying correction: muon_id_sf/NUM_TightID_DEN_TrackerMuons </span><span style=\"color: #000000; text-decoration-color: #000000; font-weight: bold\">(</span><span style=\"color: #000000; text-decoration-color: #000000\">systup</span><span style=\"color: #000000; text-decoration-color: #000000; font-weight: bold\">)</span><span style=\"color: #000000; text-decoration-color: #000000\">                 </span><a href=\"file:///home/cms-jovyan/integration-challenge/cms/analysis/base.py\" target=\"_blank\"><span style=\"color: #7f7f7f; text-decoration-color: #7f7f7f\">base.py</span></a><span style=\"color: #7f7f7f; text-decoration-color: #7f7f7f\">:</span><a href=\"file:///home/cms-jovyan/integration-challenge/cms/analysis/base.py#247\" target=\"_blank\"><span style=\"color: #7f7f7f; text-decoration-color: #7f7f7f\">247</span></a>\n",
       "</pre>\n"
      ],
      "text/plain": [
       "\u001b[2;36m        \u001b[0m\u001b[2;36m \u001b[0m\u001b[34mINFO    \u001b[0m \u001b[39mApplying correction: muon_id_sf/NUM_TightID_DEN_TrackerMuons \u001b[0m\u001b[1;39m(\u001b[0m\u001b[39msystup\u001b[0m\u001b[1;39m)\u001b[0m\u001b[39m                \u001b[0m\u001b[39m \u001b[0m\u001b]8;id=514673;file:///home/cms-jovyan/integration-challenge/cms/analysis/base.py\u001b\\\u001b[2mbase.py\u001b[0m\u001b]8;;\u001b\\\u001b[2m:\u001b[0m\u001b]8;id=304382;file:///home/cms-jovyan/integration-challenge/cms/analysis/base.py#247\u001b\\\u001b[2m247\u001b[0m\u001b]8;;\u001b\\\n"
      ]
     },
     "metadata": {},
     "output_type": "display_data"
    },
    {
     "data": {
      "text/html": [
       "<pre style=\"white-space:pre;overflow-x:auto;line-height:normal;font-family:Menlo,'DejaVu Sans Mono',consolas,'Courier New',monospace\"><span style=\"color: #7fbfbf; text-decoration-color: #7fbfbf\">         </span><span style=\"color: #000080; text-decoration-color: #000080\">INFO    </span> <span style=\"color: #000000; text-decoration-color: #000000\">Number of weighted events in CMS_WORKSHOP: </span><span style=\"color: #008080; text-decoration-color: #008080; font-weight: bold\">15864.52</span><span style=\"color: #000000; text-decoration-color: #000000\">                                </span><a href=\"file:///home/cms-jovyan/integration-challenge/cms/analysis/nondiff.py\" target=\"_blank\"><span style=\"color: #7f7f7f; text-decoration-color: #7f7f7f\">nondiff.py</span></a><span style=\"color: #7f7f7f; text-decoration-color: #7f7f7f\">:</span><a href=\"file:///home/cms-jovyan/integration-challenge/cms/analysis/nondiff.py#205\" target=\"_blank\"><span style=\"color: #7f7f7f; text-decoration-color: #7f7f7f\">205</span></a>\n",
       "</pre>\n"
      ],
      "text/plain": [
       "\u001b[2;36m        \u001b[0m\u001b[2;36m \u001b[0m\u001b[34mINFO    \u001b[0m \u001b[39mNumber of weighted events in CMS_WORKSHOP: \u001b[0m\u001b[1;36m15864.52\u001b[0m\u001b[39m                               \u001b[0m\u001b[39m \u001b[0m\u001b]8;id=754422;file:///home/cms-jovyan/integration-challenge/cms/analysis/nondiff.py\u001b\\\u001b[2mnondiff.py\u001b[0m\u001b]8;;\u001b\\\u001b[2m:\u001b[0m\u001b]8;id=703613;file:///home/cms-jovyan/integration-challenge/cms/analysis/nondiff.py#205\u001b\\\u001b[2m205\u001b[0m\u001b]8;;\u001b\\\n"
      ]
     },
     "metadata": {},
     "output_type": "display_data"
    },
    {
     "data": {
      "text/html": [
       "<pre style=\"white-space:pre;overflow-x:auto;line-height:normal;font-family:Menlo,'DejaVu Sans Mono',consolas,'Courier New',monospace\"><span style=\"color: #7fbfbf; text-decoration-color: #7fbfbf\">         </span><span style=\"color: #000080; text-decoration-color: #000080\">INFO    </span> <span style=\"color: #000000; text-decoration-color: #000000\">Number of raw events in CMS_WORKSHOP: </span><span style=\"color: #008080; text-decoration-color: #008080; font-weight: bold\">16069</span><span style=\"color: #000000; text-decoration-color: #000000\">                                        </span><a href=\"file:///home/cms-jovyan/integration-challenge/cms/analysis/nondiff.py\" target=\"_blank\"><span style=\"color: #7f7f7f; text-decoration-color: #7f7f7f\">nondiff.py</span></a><span style=\"color: #7f7f7f; text-decoration-color: #7f7f7f\">:</span><a href=\"file:///home/cms-jovyan/integration-challenge/cms/analysis/nondiff.py#208\" target=\"_blank\"><span style=\"color: #7f7f7f; text-decoration-color: #7f7f7f\">208</span></a>\n",
       "</pre>\n"
      ],
      "text/plain": [
       "\u001b[2;36m        \u001b[0m\u001b[2;36m \u001b[0m\u001b[34mINFO    \u001b[0m \u001b[39mNumber of raw events in CMS_WORKSHOP: \u001b[0m\u001b[1;36m16069\u001b[0m\u001b[39m                                       \u001b[0m\u001b[39m \u001b[0m\u001b]8;id=196310;file:///home/cms-jovyan/integration-challenge/cms/analysis/nondiff.py\u001b\\\u001b[2mnondiff.py\u001b[0m\u001b]8;;\u001b\\\u001b[2m:\u001b[0m\u001b]8;id=433649;file:///home/cms-jovyan/integration-challenge/cms/analysis/nondiff.py#208\u001b\\\u001b[2m208\u001b[0m\u001b]8;;\u001b\\\n"
      ]
     },
     "metadata": {},
     "output_type": "display_data"
    },
    {
     "data": {
      "text/html": [
       "<pre style=\"white-space:pre;overflow-x:auto;line-height:normal;font-family:Menlo,'DejaVu Sans Mono',consolas,'Courier New',monospace\"><span style=\"color: #7fbfbf; text-decoration-color: #7fbfbf\">         </span><span style=\"color: #000080; text-decoration-color: #000080\">INFO    </span> <span style=\"color: #000000; text-decoration-color: #000000\">Computing observable workshop_mtt                                                  </span><a href=\"file:///home/cms-jovyan/integration-challenge/cms/analysis/nondiff.py\" target=\"_blank\"><span style=\"color: #7f7f7f; text-decoration-color: #7f7f7f\">nondiff.py</span></a><span style=\"color: #7f7f7f; text-decoration-color: #7f7f7f\">:</span><a href=\"file:///home/cms-jovyan/integration-challenge/cms/analysis/nondiff.py#213\" target=\"_blank\"><span style=\"color: #7f7f7f; text-decoration-color: #7f7f7f\">213</span></a>\n",
       "</pre>\n"
      ],
      "text/plain": [
       "\u001b[2;36m        \u001b[0m\u001b[2;36m \u001b[0m\u001b[34mINFO    \u001b[0m \u001b[39mComputing observable workshop_mtt                                                 \u001b[0m\u001b[39m \u001b[0m\u001b]8;id=1022;file:///home/cms-jovyan/integration-challenge/cms/analysis/nondiff.py\u001b\\\u001b[2mnondiff.py\u001b[0m\u001b]8;;\u001b\\\u001b[2m:\u001b[0m\u001b]8;id=168740;file:///home/cms-jovyan/integration-challenge/cms/analysis/nondiff.py#213\u001b\\\u001b[2m213\u001b[0m\u001b]8;;\u001b\\\n"
      ]
     },
     "metadata": {},
     "output_type": "display_data"
    },
    {
     "data": {
      "text/html": [
       "<pre style=\"white-space:pre;overflow-x:auto;line-height:normal;font-family:Menlo,'DejaVu Sans Mono',consolas,'Courier New',monospace\"><span style=\"color: #7fbfbf; text-decoration-color: #7fbfbf\">         </span><span style=\"color: #000080; text-decoration-color: #000080\">INFO    </span> <span style=\"color: #000000; text-decoration-color: #000000\">Applying selection for CMS_WORKSHOP in signal with variation muon_id_sf_down       </span><a href=\"file:///home/cms-jovyan/integration-challenge/cms/analysis/nondiff.py\" target=\"_blank\"><span style=\"color: #7f7f7f; text-decoration-color: #7f7f7f\">nondiff.py</span></a><span style=\"color: #7f7f7f; text-decoration-color: #7f7f7f\">:</span><a href=\"file:///home/cms-jovyan/integration-challenge/cms/analysis/nondiff.py#154\" target=\"_blank\"><span style=\"color: #7f7f7f; text-decoration-color: #7f7f7f\">154</span></a>\n",
       "</pre>\n"
      ],
      "text/plain": [
       "\u001b[2;36m        \u001b[0m\u001b[2;36m \u001b[0m\u001b[34mINFO    \u001b[0m \u001b[39mApplying selection for CMS_WORKSHOP in signal with variation muon_id_sf_down      \u001b[0m\u001b[39m \u001b[0m\u001b]8;id=540814;file:///home/cms-jovyan/integration-challenge/cms/analysis/nondiff.py\u001b\\\u001b[2mnondiff.py\u001b[0m\u001b]8;;\u001b\\\u001b[2m:\u001b[0m\u001b]8;id=302606;file:///home/cms-jovyan/integration-challenge/cms/analysis/nondiff.py#154\u001b\\\u001b[2m154\u001b[0m\u001b]8;;\u001b\\\n"
      ]
     },
     "metadata": {},
     "output_type": "display_data"
    },
    {
     "data": {
      "text/html": [
       "<pre style=\"white-space:pre;overflow-x:auto;line-height:normal;font-family:Menlo,'DejaVu Sans Mono',consolas,'Courier New',monospace\"><span style=\"color: #7fbfbf; text-decoration-color: #7fbfbf\">         </span><span style=\"color: #000080; text-decoration-color: #000080\">INFO    </span> <span style=\"color: #000000; text-decoration-color: #000000\">Applying correction: muon_id_sf/NUM_TightID_DEN_TrackerMuons </span><span style=\"color: #000000; text-decoration-color: #000000; font-weight: bold\">(</span><span style=\"color: #000000; text-decoration-color: #000000\">systdown</span><span style=\"color: #000000; text-decoration-color: #000000; font-weight: bold\">)</span><span style=\"color: #000000; text-decoration-color: #000000\">               </span><a href=\"file:///home/cms-jovyan/integration-challenge/cms/analysis/base.py\" target=\"_blank\"><span style=\"color: #7f7f7f; text-decoration-color: #7f7f7f\">base.py</span></a><span style=\"color: #7f7f7f; text-decoration-color: #7f7f7f\">:</span><a href=\"file:///home/cms-jovyan/integration-challenge/cms/analysis/base.py#247\" target=\"_blank\"><span style=\"color: #7f7f7f; text-decoration-color: #7f7f7f\">247</span></a>\n",
       "</pre>\n"
      ],
      "text/plain": [
       "\u001b[2;36m        \u001b[0m\u001b[2;36m \u001b[0m\u001b[34mINFO    \u001b[0m \u001b[39mApplying correction: muon_id_sf/NUM_TightID_DEN_TrackerMuons \u001b[0m\u001b[1;39m(\u001b[0m\u001b[39msystdown\u001b[0m\u001b[1;39m)\u001b[0m\u001b[39m              \u001b[0m\u001b[39m \u001b[0m\u001b]8;id=721979;file:///home/cms-jovyan/integration-challenge/cms/analysis/base.py\u001b\\\u001b[2mbase.py\u001b[0m\u001b]8;;\u001b\\\u001b[2m:\u001b[0m\u001b]8;id=807244;file:///home/cms-jovyan/integration-challenge/cms/analysis/base.py#247\u001b\\\u001b[2m247\u001b[0m\u001b]8;;\u001b\\\n"
      ]
     },
     "metadata": {},
     "output_type": "display_data"
    },
    {
     "data": {
      "text/html": [
       "<pre style=\"white-space:pre;overflow-x:auto;line-height:normal;font-family:Menlo,'DejaVu Sans Mono',consolas,'Courier New',monospace\"><span style=\"color: #7fbfbf; text-decoration-color: #7fbfbf\">         </span><span style=\"color: #000080; text-decoration-color: #000080\">INFO    </span> <span style=\"color: #000000; text-decoration-color: #000000\">Number of weighted events in CMS_WORKSHOP: </span><span style=\"color: #008080; text-decoration-color: #008080; font-weight: bold\">15778.38</span><span style=\"color: #000000; text-decoration-color: #000000\">                                </span><a href=\"file:///home/cms-jovyan/integration-challenge/cms/analysis/nondiff.py\" target=\"_blank\"><span style=\"color: #7f7f7f; text-decoration-color: #7f7f7f\">nondiff.py</span></a><span style=\"color: #7f7f7f; text-decoration-color: #7f7f7f\">:</span><a href=\"file:///home/cms-jovyan/integration-challenge/cms/analysis/nondiff.py#205\" target=\"_blank\"><span style=\"color: #7f7f7f; text-decoration-color: #7f7f7f\">205</span></a>\n",
       "</pre>\n"
      ],
      "text/plain": [
       "\u001b[2;36m        \u001b[0m\u001b[2;36m \u001b[0m\u001b[34mINFO    \u001b[0m \u001b[39mNumber of weighted events in CMS_WORKSHOP: \u001b[0m\u001b[1;36m15778.38\u001b[0m\u001b[39m                               \u001b[0m\u001b[39m \u001b[0m\u001b]8;id=695171;file:///home/cms-jovyan/integration-challenge/cms/analysis/nondiff.py\u001b\\\u001b[2mnondiff.py\u001b[0m\u001b]8;;\u001b\\\u001b[2m:\u001b[0m\u001b]8;id=391515;file:///home/cms-jovyan/integration-challenge/cms/analysis/nondiff.py#205\u001b\\\u001b[2m205\u001b[0m\u001b]8;;\u001b\\\n"
      ]
     },
     "metadata": {},
     "output_type": "display_data"
    },
    {
     "data": {
      "text/html": [
       "<pre style=\"white-space:pre;overflow-x:auto;line-height:normal;font-family:Menlo,'DejaVu Sans Mono',consolas,'Courier New',monospace\"><span style=\"color: #7fbfbf; text-decoration-color: #7fbfbf\">         </span><span style=\"color: #000080; text-decoration-color: #000080\">INFO    </span> <span style=\"color: #000000; text-decoration-color: #000000\">Number of raw events in CMS_WORKSHOP: </span><span style=\"color: #008080; text-decoration-color: #008080; font-weight: bold\">16069</span><span style=\"color: #000000; text-decoration-color: #000000\">                                        </span><a href=\"file:///home/cms-jovyan/integration-challenge/cms/analysis/nondiff.py\" target=\"_blank\"><span style=\"color: #7f7f7f; text-decoration-color: #7f7f7f\">nondiff.py</span></a><span style=\"color: #7f7f7f; text-decoration-color: #7f7f7f\">:</span><a href=\"file:///home/cms-jovyan/integration-challenge/cms/analysis/nondiff.py#208\" target=\"_blank\"><span style=\"color: #7f7f7f; text-decoration-color: #7f7f7f\">208</span></a>\n",
       "</pre>\n"
      ],
      "text/plain": [
       "\u001b[2;36m        \u001b[0m\u001b[2;36m \u001b[0m\u001b[34mINFO    \u001b[0m \u001b[39mNumber of raw events in CMS_WORKSHOP: \u001b[0m\u001b[1;36m16069\u001b[0m\u001b[39m                                       \u001b[0m\u001b[39m \u001b[0m\u001b]8;id=755427;file:///home/cms-jovyan/integration-challenge/cms/analysis/nondiff.py\u001b\\\u001b[2mnondiff.py\u001b[0m\u001b]8;;\u001b\\\u001b[2m:\u001b[0m\u001b]8;id=294232;file:///home/cms-jovyan/integration-challenge/cms/analysis/nondiff.py#208\u001b\\\u001b[2m208\u001b[0m\u001b]8;;\u001b\\\n"
      ]
     },
     "metadata": {},
     "output_type": "display_data"
    },
    {
     "data": {
      "text/html": [
       "<pre style=\"white-space:pre;overflow-x:auto;line-height:normal;font-family:Menlo,'DejaVu Sans Mono',consolas,'Courier New',monospace\"><span style=\"color: #7fbfbf; text-decoration-color: #7fbfbf\">         </span><span style=\"color: #000080; text-decoration-color: #000080\">INFO    </span> <span style=\"color: #000000; text-decoration-color: #000000\">Computing observable workshop_mtt                                                  </span><a href=\"file:///home/cms-jovyan/integration-challenge/cms/analysis/nondiff.py\" target=\"_blank\"><span style=\"color: #7f7f7f; text-decoration-color: #7f7f7f\">nondiff.py</span></a><span style=\"color: #7f7f7f; text-decoration-color: #7f7f7f\">:</span><a href=\"file:///home/cms-jovyan/integration-challenge/cms/analysis/nondiff.py#213\" target=\"_blank\"><span style=\"color: #7f7f7f; text-decoration-color: #7f7f7f\">213</span></a>\n",
       "</pre>\n"
      ],
      "text/plain": [
       "\u001b[2;36m        \u001b[0m\u001b[2;36m \u001b[0m\u001b[34mINFO    \u001b[0m \u001b[39mComputing observable workshop_mtt                                                 \u001b[0m\u001b[39m \u001b[0m\u001b]8;id=912559;file:///home/cms-jovyan/integration-challenge/cms/analysis/nondiff.py\u001b\\\u001b[2mnondiff.py\u001b[0m\u001b]8;;\u001b\\\u001b[2m:\u001b[0m\u001b]8;id=465420;file:///home/cms-jovyan/integration-challenge/cms/analysis/nondiff.py#213\u001b\\\u001b[2m213\u001b[0m\u001b]8;;\u001b\\\n"
      ]
     },
     "metadata": {},
     "output_type": "display_data"
    },
    {
     "data": {
      "text/html": [
       "<pre style=\"white-space:pre;overflow-x:auto;line-height:normal;font-family:Menlo,'DejaVu Sans Mono',consolas,'Courier New',monospace\"><span style=\"color: #7fbfbf; text-decoration-color: #7fbfbf\">         </span><span style=\"color: #000080; text-decoration-color: #000080\">INFO    </span> <span style=\"color: #000000; text-decoration-color: #000000\">Histograms successfully written to ROOT file                                  </span><a href=\"file:///home/cms-jovyan/integration-challenge/cms/utils/output_files.py\" target=\"_blank\"><span style=\"color: #7f7f7f; text-decoration-color: #7f7f7f\">output_files.py</span></a><span style=\"color: #7f7f7f; text-decoration-color: #7f7f7f\">:</span><a href=\"file:///home/cms-jovyan/integration-challenge/cms/utils/output_files.py#147\" target=\"_blank\"><span style=\"color: #7f7f7f; text-decoration-color: #7f7f7f\">147</span></a>\n",
       "<span style=\"color: #7fbfbf; text-decoration-color: #7fbfbf\">         </span>         <span style=\"color: #000000; text-decoration-color: #000000\">/home/cms-jovyan/integration-challenge/cms/example-demo/outputs/histograms/hi </span><span style=\"color: #7f7f7f; text-decoration-color: #7f7f7f\">                   </span>\n",
       "<span style=\"color: #7fbfbf; text-decoration-color: #7fbfbf\">         </span>         <span style=\"color: #000000; text-decoration-color: #000000\">stograms.root                                                                 </span><span style=\"color: #7f7f7f; text-decoration-color: #7f7f7f\">                   </span>\n",
       "</pre>\n"
      ],
      "text/plain": [
       "\u001b[2;36m        \u001b[0m\u001b[2;36m \u001b[0m\u001b[34mINFO    \u001b[0m \u001b[39mHistograms successfully written to ROOT file                                 \u001b[0m\u001b[39m \u001b[0m\u001b]8;id=542888;file:///home/cms-jovyan/integration-challenge/cms/utils/output_files.py\u001b\\\u001b[2moutput_files.py\u001b[0m\u001b]8;;\u001b\\\u001b[2m:\u001b[0m\u001b]8;id=360121;file:///home/cms-jovyan/integration-challenge/cms/utils/output_files.py#147\u001b\\\u001b[2m147\u001b[0m\u001b]8;;\u001b\\\n",
       "\u001b[2;36m         \u001b[0m         \u001b[39m/home/cms-jovyan/integration-challenge/cms/example-demo/outputs/histograms/\u001b[0m\u001b[39mhi\u001b[0m\u001b[39m \u001b[0m\u001b[2m                   \u001b[0m\n",
       "\u001b[2;36m         \u001b[0m         \u001b[39mstograms.root\u001b[0m\u001b[39m                                                                \u001b[0m\u001b[39m \u001b[0m\u001b[2m                   \u001b[0m\n"
      ]
     },
     "metadata": {},
     "output_type": "display_data"
    },
    {
     "name": "stdout",
     "output_type": "stream",
     "text": [
      "📈 Generated histograms for channels: ['CMS_WORKSHOP']\n"
     ]
    }
   ],
   "source": [
    "# Import the analysis class for the analysis\n",
    "from analysis.nondiff import NonDiffAnalysis\n",
    "from utils.output_files import save_histograms_to_root\n",
    "\n",
    "validated_config.general.run_histogramming=True\n",
    "\n",
    "# Initialize the analysis object\n",
    "# This analysis object will handle histogram creation, observable computation, and systematic variations\n",
    "nondiff_analysis = NonDiffAnalysis(validated_config, processed_datasets, output_manager)\n",
    "\n",
    "print(f\"🔬 Analysis initialized for {len(nondiff_analysis.processed_datasets)} datasets\")\n",
    "\n",
    "# Loop over each dataset and its associated event data\n",
    "for dataset_name, events_list in nondiff_analysis.processed_datasets.items():\n",
    "    print(f\"📊 Processing dataset: {dataset_name}\")\n",
    "    # Each dataset contains a list of (events, metadata) tuples (in case of chunking)\n",
    "    # Currently merging of chunks is default --> single tuple per dataset\n",
    "    for events, metadata in events_list:\n",
    "        print(f\"   • Processing {len(events)} events with metadata: {metadata['process']}\")\n",
    "        # Process the events through the analysis pipeline:\n",
    "        nondiff_analysis.process(events, metadata)\n",
    "        \n",
    "save_histograms_to_root(\n",
    "    nondiff_analysis.nD_hists_per_region,\n",
    "    output_file=nondiff_analysis.output_manager.get_histograms_dir() / \"histograms.root\",\n",
    ")\n",
    "\n",
    "print(f\"📈 Generated histograms for channels: {[ch.name for ch in validated_config.channels]}\")"
   ]
  },
  {
   "cell_type": "markdown",
   "id": "f64a7776",
   "metadata": {},
   "source": [
    "# 7. Statistical Analysis\n",
    "\n",
    "The statistical analysis step performs a fit from the histograms and visualize results. This uses `cabinetry` with a manually created config. It also creates and stores the corresponding `pyhf` workspace.\n",
    "\n",
    "**Note: the following fit is performed with the full CMS open-data dataset, not the small example here** "
   ]
  },
  {
   "cell_type": "code",
   "execution_count": 11,
   "id": "88ac3572",
   "metadata": {},
   "outputs": [
    {
     "ename": "SyntaxError",
     "evalue": "unterminated string literal (detected at line 2) (1957373689.py, line 2)",
     "output_type": "error",
     "traceback": [
      "\u001b[0;36m  Cell \u001b[0;32mIn[11], line 2\u001b[0;36m\u001b[0m\n\u001b[0;31m    validated_config.statistics.cabinetry_config = \"./example-old/outputs/cabinetry.\u001b[0m\n\u001b[0m                                                   ^\u001b[0m\n\u001b[0;31mSyntaxError\u001b[0m\u001b[0;31m:\u001b[0m unterminated string literal (detected at line 2)\n"
     ]
    }
   ],
   "source": [
    "import cabinetry\n",
    "validated_config.statistics.cabinetry_config = \"./example-old/outputs/cabinetry.\n",
    "cabinetry_config = cabinetry.configuration.load(\n",
    "    validated_config.statistics.cabinetry_config\n",
    ")\n",
    "data, fit_results, pre_fit_predictions, postfit_predictions = (\n",
    "    nondiff_analysis.run_fit(cabinetry_config=cabinetry_config)\n",
    ")\n",
    "cabinetry.visualize.data_mc(\n",
    "    pre_fit_predictions,\n",
    "    data,\n",
    "    close_figure=False,\n",
    "    config=cabinetry_config,\n",
    "    figure_folder=nondiff_analysis.output_manager.get_statistics_dir(),\n",
    "\n",
    ")\n",
    "cabinetry.visualize.data_mc(\n",
    "    postfit_predictions,\n",
    "    data,\n",
    "    close_figure=False,\n",
    "    config=cabinetry_config,\n",
    "    figure_folder=nondiff_analysis.output_manager.get_statistics_dir(),\n",
    ")\n",
    "cabinetry.visualize.pulls(fit_results, close_figure=False, figure_folder=nondiff_analysis.output_manager.get_statistics_dir(),)"
   ]
  },
  {
   "cell_type": "markdown",
   "id": "1455dcd8",
   "metadata": {},
   "source": [
    "## 8. Full Workflow\n",
    "\n",
    "The above workflow is broken down for demonstration, but the simplest way to use it is by putting the main pieces together in one simple steering script and running it from the command-line with CLI overrides of config options. The current implementation is steered by `analysis.py` and can be simply executed with:\n",
    "\n",
    "```sh\n",
    "python analysis.py\n",
    "```\n",
    "\n",
    "---"
   ]
  }
 ],
 "metadata": {
  "kernelspec": {
   "display_name": "Python 3 (ipykernel)",
   "language": "python",
   "name": "python3"
  },
  "language_info": {
   "codemirror_mode": {
    "name": "ipython",
    "version": 3
   },
   "file_extension": ".py",
   "mimetype": "text/x-python",
   "name": "python",
   "nbconvert_exporter": "python",
   "pygments_lexer": "ipython3",
   "version": "3.12.5"
  }
 },
 "nbformat": 4,
 "nbformat_minor": 5
}
